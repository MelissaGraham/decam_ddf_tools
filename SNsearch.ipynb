{
 "cells": [
  {
   "cell_type": "code",
   "execution_count": null,
   "id": "f831646b-7bb2-426b-951c-0098a80e154e",
   "metadata": {},
   "outputs": [],
   "source": [
    "import psycopg2\n",
    "import psycopg2.extras\n",
    "import getpass\n",
    "from IPython.display import display\n",
    "import ipywidgets\n",
    "import matplotlib.pyplot as plt\n",
    "import matplotlib\n",
    "import numpy as np\n",
    "import pandas as pd\n",
    "from astropy.time import Time\n",
    "from astropy.coordinates import get_moon, GCRS\n",
    "import astropy.units as u"
   ]
  },
  {
   "cell_type": "markdown",
   "id": "b54e368f-7947-4a0d-bf10-907b205891e0",
   "metadata": {},
   "source": [
    "The purpose of this notebook is to search through the COSMOS field objects to identify candidates that are likely supernovae. This is done by selecting every candidate that has at least 10 detections over at least 1 month, with a change of at least 1.4 mag, and that doesn't increase in brightness more than once (numbers adjustable in next cell)"
   ]
  },
  {
   "cell_type": "code",
   "execution_count": null,
   "id": "57dcfd06-a3d1-4c05-91f4-c58fd8602a4e",
   "metadata": {},
   "outputs": [],
   "source": [
    "tspanr, tspang = 15, 15\n",
    "numdetr, numdetg = 10, 10\n",
    "minmagr, minmagg = 1.4, 1.4"
   ]
  },
  {
   "cell_type": "code",
   "execution_count": null,
   "id": "b1c53037-4e35-40b0-8693-e1c5f735d7b3",
   "metadata": {},
   "outputs": [],
   "source": [
    "dbuser = input(\"DB User: \")\n",
    "dbpasswd = getpass.getpass(\"DB Password: \")"
   ]
  },
  {
   "cell_type": "code",
   "execution_count": null,
   "id": "eaf04bb0-6c43-4487-bc40-23f9973837b0",
   "metadata": {},
   "outputs": [],
   "source": [
    "db = psycopg2.connect(f\"dbname='decat' user='{dbuser}' password='{dbpasswd}' host='decatdb.lbl.gov'\")"
   ]
  },
  {
   "cell_type": "code",
   "execution_count": null,
   "id": "39771dda-a04a-47ef-93ef-427115f3564d",
   "metadata": {},
   "outputs": [],
   "source": [
    "db.autocommit = True # Makes the computer nicer about SQL syntax errors\n",
    "\n",
    "cursor = db.cursor( cursor_factory = psycopg2.extras.DictCursor )"
   ]
  },
  {
   "cell_type": "code",
   "execution_count": null,
   "id": "81b056cd-1d7a-45d3-928a-34030c613f4a",
   "metadata": {},
   "outputs": [],
   "source": [
    "query = ( 'SELECT o.candidate_id, o.id, e.mjd, o.mag, e.filter, o.magerr, o.ra, o.dec FROM objects o '\n",
    "         'JOIN subtractions s ON o.subtraction_id=s.id '\n",
    "         'JOIN exposures e ON e.id=s.exposure_id '\n",
    "         'WHERE q3c_radial_query(o.ra,o.dec,150,2.2,3) '\n",
    "         'AND o.rb>0.6 '\n",
    "         'ORDER BY o.candidate_id '\n",
    "         'LIMIT 10000000')\n",
    "cursor.execute( query )\n",
    "\n",
    "SNquery = np.array(cursor.fetchall()).transpose()"
   ]
  },
  {
   "cell_type": "markdown",
   "id": "c4e335ee-8b50-4ffc-99e6-9b65e2d0b49f",
   "metadata": {},
   "source": [
    "#### Red filter:"
   ]
  },
  {
   "cell_type": "code",
   "execution_count": null,
   "id": "e1191c49-9694-43c4-9ef5-ab54b9e655a1",
   "metadata": {},
   "outputs": [],
   "source": [
    "# Mask to make sure we stay in the r band detections\n",
    "rmsk = np.where(SNquery[4] == \"r\")[0]"
   ]
  },
  {
   "cell_type": "code",
   "execution_count": null,
   "id": "a76376ad-1e4d-41ec-9c27-4fbc79c1f77e",
   "metadata": {},
   "outputs": [],
   "source": [
    "# Separating out various query results and applying the r mask \n",
    "candsr, objs, magsr, magerrsr = SNquery[0][rmsk], SNquery[1].astype(float)[rmsk], SNquery[3][rmsk], SNquery[5][rmsk]\n",
    "# Create an array of the dates rounded to the nearest MJD\n",
    "odatesr = np.round(SNquery[2].astype(float))[rmsk]\n",
    "# Create an array of unique candidates\n",
    "ucandsr = np.unique(candsr)\n",
    "# create an array of unique night (rounded to nearest MJD)\n",
    "datesr = np.unique(odatesr)"
   ]
  },
  {
   "cell_type": "code",
   "execution_count": null,
   "id": "e9ba4ff4-8074-49b4-b451-df099afda6f7",
   "metadata": {},
   "outputs": [],
   "source": [
    "# The most computationally intensive cell in the notebook (along with its g band counterpart), should take less than 2 minutes\n",
    "\n",
    "# Create for each unique candidate an array of the dates it was observed on and store those arrays in a larger array (ucanddatesr)\n",
    "ucanddatesr = np.array([odatesr[np.where(candsr==i)[0]] for i in ucandsr])\n",
    "# Create for each unique candidate an array of measured magnitudes and store those arrays in a larger array (ucandmagsr)\n",
    "ucandmagsr = np.array([magsr[np.where(candsr==i)[0]] for i in ucandsr])\n",
    "# Create for each unique candidate an array of measured magnitude error bars and store those arrays in a larger array (ucandmagerrsr)\n",
    "ucandmagerrsr = np.array([magerrsr[np.where(candsr==i)[0]] for i in ucandsr])"
   ]
  },
  {
   "cell_type": "code",
   "execution_count": null,
   "id": "2b59ef71-8ba1-468e-b32e-c20b0970ac74",
   "metadata": {},
   "outputs": [],
   "source": [
    "# Convert those arrays (previously strings) to floats\n",
    "ucandmagsr = np.array([i.astype(float) for i in ucandmagsr])\n",
    "ucandmagerrsr = np.array([i.astype(float) for i in ucandmagerrsr])\n",
    "ucanddatesr = np.array([i.astype(float) for i in ucanddatesr])"
   ]
  },
  {
   "cell_type": "code",
   "execution_count": null,
   "id": "7618198a-cb0b-4ddf-9dbe-13ee81293b09",
   "metadata": {},
   "outputs": [],
   "source": [
    "# Calculate how many days passed between the first and last detection \n",
    "ucandranger = np.array([np.max(i) - np.min(i) for i in ucanddatesr])\n",
    "# Calculate how many total times the candidates was detected\n",
    "ucandnumr = np.array([len(i) for i in ucanddatesr])"
   ]
  },
  {
   "cell_type": "code",
   "execution_count": null,
   "id": "2f5edd3a-8fd3-4a70-9735-8851881d94e8",
   "metadata": {},
   "outputs": [],
   "source": [
    "# Make timespan and number of detection cuts\n",
    "cut1r = np.where(ucandranger > tspanr)[0] # eliminate candidates whose detections dont span at least a month\n",
    "cut2r = np.where(ucandnumr >= numdetr)[0] # eliminate candidates with fewer than 20 detections\n",
    "cut3r = np.array([i for i in cut1r if i in cut2r]).astype(np.int64) # merge the masks"
   ]
  },
  {
   "cell_type": "code",
   "execution_count": null,
   "id": "b64fac46-14e6-4823-a680-33953a71c81d",
   "metadata": {},
   "outputs": [],
   "source": [
    "# Apply those cuts\n",
    "cutcandsr = ucandsr[cut3r]\n",
    "cutdatesr = ucanddatesr[cut3r]\n",
    "cutmagsr = ucandmagsr[cut3r]\n",
    "cutmagerrsr = ucandmagerrsr[cut3r]\n",
    "\n",
    "# Create another cut for the minimum amplitude in mag\n",
    "cutmagranger = np.array([np.max(i) - np.min(i) for i in cutmagsr])\n",
    "cut4r = np.where(cutmagranger > minmagr)[0]\n",
    "\n",
    "# And apply that cut as well\n",
    "cutcandsr = ucandsr[cut3r][cut4r]\n",
    "cutdatesr = ucanddatesr[cut3r][cut4r]\n",
    "cutmagsr = ucandmagsr[cut3r][cut4r]\n",
    "cutmagerrsr = ucandmagerrsr[cut3r][cut4r]"
   ]
  },
  {
   "cell_type": "code",
   "execution_count": null,
   "id": "186f46ec-f23c-4e85-adf1-dd874c21b4e0",
   "metadata": {},
   "outputs": [],
   "source": [
    "# Create new arrays with the same dimensions as the cutdatesr, cutmagsr, and cutmagerrs arrays (those share dimensions)\n",
    "import copy\n",
    "cutdatesr2 = copy.deepcopy(cutdatesr)\n",
    "nightr = copy.deepcopy(cutdatesr)\n",
    "nightrmag = copy.deepcopy(cutdatesr)\n",
    "nightrmagerr = copy.deepcopy(cutdatesr)\n",
    "\n",
    "for i in range(len(cutdatesr2)):\n",
    "    # make an array of every night the candidate in question (candidate \"i\") was detected\n",
    "    unightr = np.unique(cutdatesr2[i])\n",
    "    for j in range(len(unightr)):\n",
    "        # For each of those nights, make a mask that selects every observation that night\n",
    "        msk = np.where(cutdatesr2[i] == unightr[j])[0]\n",
    "        # Populate the arrays we created earlier in the cell with appropriate values for the night of the observation,\n",
    "        # the average magnitude measured that night, and the error (propogated from individual errors) in that average measurement\n",
    "        # NOTE: there will be meaningless numbers at the end of each (nightr/nightrmag/nightrmagerr)[i] array, left over from\n",
    "        # when we created them by copying another array. It isn't elegant but it is accounted for\n",
    "        nightr[i][j] = unightr[j]\n",
    "        nightrmag[i][j] = np.mean(cutmagsr[i][msk])\n",
    "        nightrmagerr[i][j] = np.sqrt(np.sum(cutmagerrsr[i][msk]**2))"
   ]
  },
  {
   "cell_type": "code",
   "execution_count": null,
   "id": "9ff8698d-0c65-4305-bb62-7afa471fad2a",
   "metadata": {},
   "outputs": [],
   "source": [
    "# Create an array of dataframes. Each dataframe represents one candidate, and each contains \"Night\", \"Mag\", and \"Magerr\" columns, \n",
    "# with each row representing one night\n",
    "dfr = [pd.DataFrame(np.array(\n",
    "    [nightr[i][:len(np.unique(nightr[i]))], \n",
    "     nightrmag[i][:len(np.unique(nightr[i]))], \n",
    "     nightrmagerr[i][:len(np.unique(nightr[i]))]]).transpose(),\n",
    "    columns=[\"Night\",\n",
    "            \"Mag\",\n",
    "            \"Magerr\"])\n",
    " for i in range(len(cutcandsr))]"
   ]
  },
  {
   "cell_type": "code",
   "execution_count": null,
   "id": "5dd6f1ca-be0e-42cc-829f-37e3d320572a",
   "metadata": {},
   "outputs": [],
   "source": [
    "# This cell creates a mask to eliminate variable stars from the search:\n",
    "varstarmskr = np.ones(len(dfr), dtype=bool)\n",
    "for i in range(len(dfr)):\n",
    "    num = 0\n",
    "    h=0\n",
    "    # First, make sure that the dataframes in the dfr array are each in chronological order\n",
    "    dfr[i] = dfr[i].sort_values(by=\"Night\")\n",
    "    for j in range(len(dfr[i][\"Mag\"]) - 1):\n",
    "        h +=1\n",
    "        if num == 0:\n",
    "            # On the rise, the \"current\" data point must be lower than the \"next\" data point (error bars included to give maximum leeway)\n",
    "            if dfr[i][\"Mag\"][j]+dfr[i][\"Magerr\"][j] > dfr[i][\"Mag\"][j+1]-dfr[i][\"Magerr\"][j+1]:\n",
    "                pass\n",
    "            else:\n",
    "                # Once that condition isn't met, 'num' changes, sending us to the descending loop\n",
    "                num+=1\n",
    "        if num == 1:\n",
    "            # On the decline, the \"current\" data point must be lower than the \"next\" data point (error bars included to give maximum leeway)\n",
    "            if dfr[i][\"Mag\"][j]-dfr[i][\"Magerr\"][j] < dfr[i][\"Mag\"][j+1]+dfr[i][\"Magerr\"][j+1]:\n",
    "                pass\n",
    "            else:\n",
    "                # If this fails, it means that we went up, down, and up again--not a SN, so\n",
    "                num+=1\n",
    "        if num == 2 and h<10:\n",
    "            # We make a note of that in the 'varstarmskr' mask\n",
    "            varstarmskr[i] = False"
   ]
  },
  {
   "cell_type": "code",
   "execution_count": null,
   "id": "537a815f-238a-45a1-8b08-0ab44a62278c",
   "metadata": {},
   "outputs": [],
   "source": [
    "# Plotting only those that passed through the r-band filter\n",
    "for f in np.array(range(len(cutdatesr)))[varstarmskr]:\n",
    "    g = len(np.unique(cutdatesr[f]))\n",
    "    plt.errorbar(nightr[f][:g],nightrmag[f][:g], yerr=nightrmagerr[f][:g])\n",
    "    plt.title(cutcandsr[f] + \" (r)\")\n",
    "    plt.ylabel(\"Magnitude\")\n",
    "    plt.xlabel(\"MJD\")\n",
    "    plt.gca().invert_yaxis()\n",
    "    plt.show()"
   ]
  },
  {
   "cell_type": "markdown",
   "id": "331932df-54a2-4d10-9202-f78bd4f262d0",
   "metadata": {},
   "source": [
    "#### Green filter"
   ]
  },
  {
   "cell_type": "code",
   "execution_count": null,
   "id": "c97d248d-a3e2-46c1-895d-626c529175a0",
   "metadata": {},
   "outputs": [],
   "source": [
    "### Everything in this section is the same as above besides some altered variable names\n",
    "gmsk = np.where(SNquery[4] == \"g\")[0]"
   ]
  },
  {
   "cell_type": "code",
   "execution_count": null,
   "id": "bfca1de5-213b-4225-857f-8ae511362344",
   "metadata": {},
   "outputs": [],
   "source": [
    "candsg, objs, magsg, magerrsg = SNquery[0][gmsk], SNquery[1].astype(float)[gmsk], SNquery[3][gmsk], SNquery[5][gmsk]\n",
    "odatesg = np.round(SNquery[2].astype(float))[gmsk]\n",
    "ucandsg = np.unique(candsg)\n",
    "datesg = np.unique(odatesg)\n"
   ]
  },
  {
   "cell_type": "code",
   "execution_count": null,
   "id": "c1d1f79a-e2e5-4e08-9661-0d1874685395",
   "metadata": {},
   "outputs": [],
   "source": [
    "%%time\n",
    "ucanddatesg = np.array([odatesg[np.where(candsg==i)[0]] for i in ucandsg])"
   ]
  },
  {
   "cell_type": "code",
   "execution_count": null,
   "id": "5c9b2611-6641-471f-ab59-34a7c5c5694f",
   "metadata": {},
   "outputs": [],
   "source": [
    "%%time\n",
    "ucandmagsg = np.array([magsg[np.where(candsg==i)[0]] for i in ucandsg])\n",
    "ucandmagerrsg = np.array([magerrsg[np.where(candsg==i)[0]] for i in ucandsg])"
   ]
  },
  {
   "cell_type": "code",
   "execution_count": null,
   "id": "ff91d009-0518-44c0-a5f6-e0df3bf51fe7",
   "metadata": {},
   "outputs": [],
   "source": [
    "ucandmagsg = np.array([i.astype(float) for i in ucandmagsg])\n",
    "ucandmagerrsg = np.array([i.astype(float) for i in ucandmagerrsg])\n",
    "ucanddatesg = np.array([i.astype(float) for i in ucanddatesg])"
   ]
  },
  {
   "cell_type": "code",
   "execution_count": null,
   "id": "14057d09-1b08-4f4d-990b-4f570140b5df",
   "metadata": {},
   "outputs": [],
   "source": [
    "ucandrangeg = np.array([np.max(i) - np.min(i) for i in ucanddatesg])\n",
    "ucandnumg = np.array([len(i) for i in ucanddatesg])"
   ]
  },
  {
   "cell_type": "code",
   "execution_count": null,
   "id": "b04ebf78-a9bd-49bb-8141-45ef7dd3bfba",
   "metadata": {},
   "outputs": [],
   "source": [
    "cut1g = np.where(ucandrangeg > tspang)[0] # eliminate candidates whose detections dont span at least a month\n",
    "cut2g = np.where(ucandnumg > numdetg)[0] # eliminate candidates with fewer than 20 detections\n",
    "cut3g = np.array([i for i in cut1g if i in cut2g]).astype(np.int64) # merge the masks"
   ]
  },
  {
   "cell_type": "code",
   "execution_count": null,
   "id": "8cb3af82-e107-4d5d-9acb-af80411f8eb3",
   "metadata": {},
   "outputs": [],
   "source": [
    "cutcandsg = ucandsg[cut3g]\n",
    "cutdatesg = ucanddatesg[cut3g]\n",
    "cutmagsg = ucandmagsg[cut3g]\n",
    "cutmagerrsg = ucandmagerrsg[cut3g]\n",
    "cutmagrangeg = np.array([np.max(i) - np.min(i) for i in cutmagsg])\n",
    "cut4g = np.where(cutmagrangeg > minmagg)[0]\n",
    "\n",
    "\n",
    "cutcandsg = ucandsg[cut3g][cut4g]\n",
    "cutdatesg = ucanddatesg[cut3g][cut4g]\n",
    "cutmagsg = ucandmagsg[cut3g][cut4g]\n",
    "cutmagerrsg = ucandmagerrsg[cut3g][cut4g]"
   ]
  },
  {
   "cell_type": "code",
   "execution_count": null,
   "id": "ba159f06-3408-4016-8b7c-66ef609ff786",
   "metadata": {},
   "outputs": [],
   "source": [
    "import copy\n",
    "cutdatesg2 = copy.deepcopy(cutdatesg)\n",
    "nightg = copy.deepcopy(cutdatesg)\n",
    "nightgmag = copy.deepcopy(cutdatesg)\n",
    "nightgmagerr = copy.deepcopy(cutdatesg)\n",
    "\n",
    "for i in range(len(cutdatesg2)):\n",
    "    unightg = np.unique(cutdatesg2[i])\n",
    "    for j in range(len(unightg)):\n",
    "        msk = np.where(cutdatesg2[i] == unightg[j])[0]\n",
    "        nightg[i][j] = unightg[j]\n",
    "        nightgmag[i][j] = np.mean(cutmagsg[i][msk])\n",
    "        nightgmagerr[i][j] = np.sqrt(np.sum(cutmagerrsg[i][msk]**2))"
   ]
  },
  {
   "cell_type": "code",
   "execution_count": null,
   "id": "7eefce16-f927-4023-a512-76e5490d75d1",
   "metadata": {},
   "outputs": [],
   "source": [
    "dfg = [pd.DataFrame(np.array(\n",
    "    [nightg[i][:len(np.unique(nightg[i]))], \n",
    "     nightgmag[i][:len(np.unique(nightg[i]))], \n",
    "     nightgmagerr[i][:len(np.unique(nightg[i]))]]).transpose(),\n",
    "    columns=[\"Night\",\n",
    "            \"Mag\",\n",
    "            \"Magerr\"])\n",
    " for i in range(len(cutcandsg))]"
   ]
  },
  {
   "cell_type": "code",
   "execution_count": null,
   "id": "a98b88ea-7dab-4ad7-bcdb-aaad6428e878",
   "metadata": {},
   "outputs": [],
   "source": [
    "varstarmskg = np.ones(len(dfg), dtype=bool)\n",
    "for i in range(len(dfg)):\n",
    "    num = 0\n",
    "    h = 0\n",
    "    dfg[i] = dfg[i].sort_values(by=\"Night\")\n",
    "    for j in range(len(dfg[i][\"Mag\"]) - 1):\n",
    "        h+=1\n",
    "        if num == 0:\n",
    "            if dfg[i][\"Mag\"][j]+dfg[i][\"Magerr\"][j] > dfg[i][\"Mag\"][j+1]-dfg[i][\"Magerr\"][j+1]:\n",
    "                pass\n",
    "            else:\n",
    "                num+=1\n",
    "        if num == 1:\n",
    "            if dfg[i][\"Mag\"][j]-dfg[i][\"Magerr\"][j] < dfg[i][\"Mag\"][j+1]+dfg[i][\"Magerr\"][j+1]:\n",
    "                pass\n",
    "            else:\n",
    "                num+=1\n",
    "        if num == 2 and h<10:\n",
    "            varstarmskg[i] = False"
   ]
  },
  {
   "cell_type": "code",
   "execution_count": null,
   "id": "7f5b9657-ea63-436e-bce9-ec303808b1c3",
   "metadata": {},
   "outputs": [],
   "source": [
    "for f in np.array(range(len(cutdatesg)))[varstarmskg]:\n",
    "    g = len(np.unique(cutdatesg[f]))\n",
    "    plt.errorbar(nightg[f][:g],nightgmag[f][:g], yerr=nightgmagerr[f][:g])\n",
    "    plt.title(cutcandsg[f]+\" (g)\")\n",
    "    plt.ylabel(\"Magnitude\")\n",
    "    plt.xlabel(\"MJD\")\n",
    "    plt.gca().invert_yaxis()\n",
    "    plt.show()"
   ]
  },
  {
   "cell_type": "code",
   "execution_count": null,
   "id": "533ea264-1610-4084-ae53-e9f39ba5ab7e",
   "metadata": {},
   "outputs": [],
   "source": [
    "# Create lists of the candidates that passed each test\n",
    "SNr = [cutcandsr[f] for f in np.array(range(len(cutdatesr)))[varstarmskr]]\n",
    "SNg = [cutcandsg[f] for f in np.array(range(len(cutdatesg)))[varstarmskg]]\n",
    "\n",
    "# Select the ones they share\n",
    "SNrg = [i for i in SNr if i in SNg]"
   ]
  },
  {
   "cell_type": "code",
   "execution_count": null,
   "id": "80812bdc-7249-4b06-a881-87b5200d4e01",
   "metadata": {},
   "outputs": [],
   "source": [
    "# And look at them!\n",
    "SNrg"
   ]
  },
  {
   "cell_type": "markdown",
   "id": "e2571880-bf17-4514-985c-0a39522e0391",
   "metadata": {},
   "source": [
    "#### A closer look at these SN"
   ]
  },
  {
   "cell_type": "code",
   "execution_count": null,
   "id": "35058036-25fa-4f35-b074-d8dc1568b89d",
   "metadata": {},
   "outputs": [],
   "source": [
    "# Taking a look at their coordinates:\n",
    "for i in SNrg:\n",
    "    query = ('SELECT c.id, c.ra, c.dec FROM candidates c '\n",
    "            'WHERE c.id=%s ')\n",
    "    cursor.execute( query, (i, ) )\n",
    "    print(cursor.fetchall())"
   ]
  },
  {
   "cell_type": "code",
   "execution_count": null,
   "id": "93e24175-936e-4eb4-aae6-124315259a63",
   "metadata": {},
   "outputs": [],
   "source": [
    "for i in SNrg:\n",
    "    query = ('SELECT c.id, e.mjd, o.mag, e.filter FROM objects o '\n",
    "             'JOIN candidates c ON c.id=o.candidate_id '\n",
    "             'JOIN subtractions s ON s.id=o.subtraction_id '\n",
    "             'JOIN exposures e ON e.id=s.exposure_id '\n",
    "            'WHERE c.id=%s ')\n",
    "    cursor.execute( query, (i, ) )\n",
    "    array = np.array(cursor.fetchall()).transpose()\n",
    "    rmsk = np.where(array[3]=='r')[0]\n",
    "    gmsk = np.where(array[3]=='g')[0]\n",
    "    plt.scatter((array[1][rmsk]).astype(float), (array[2][rmsk]).astype(float))\n",
    "    plt.scatter((array[1][gmsk]).astype(float), (array[2][gmsk]).astype(float))\n",
    "    plt.title(array[0][0])\n",
    "    plt.gca().invert_yaxis()\n",
    "    plt.show()"
   ]
  },
  {
   "cell_type": "code",
   "execution_count": null,
   "id": "970dbff1-dc23-42c7-8395-57f74d566e0c",
   "metadata": {},
   "outputs": [],
   "source": [
    "# DC21cove is new to TNS\n",
    "# DC21dhgr is new to TNS\n",
    "# DC21dqik is AKA AT2021nfp https://sne.space/sne/AT2021nfp/\n",
    "# Expect to find 24 SNe Ia."
   ]
  },
  {
   "cell_type": "code",
   "execution_count": null,
   "id": "800b87fe-50d6-40b6-ab8a-c888d843219d",
   "metadata": {},
   "outputs": [],
   "source": [
    "### This cell pulls out the reference, science, and subtraction images for eack of the SNe the filter detected, for every good detection\n",
    "\n",
    "for i in SNrg:\n",
    "    query = ( 'SELECT cand.id, e.mjd,e.filename,e.filter,c.sci_jpeg,c.ref_jpeg,c.diff_jpeg FROM cutouts c '\n",
    "              'INNER JOIN objects o ON c.object_id=o.id '\n",
    "              'INNER JOIN candidates cand ON o.candidate_id=cand.id '\n",
    "              'INNER JOIN subtractions s ON o.subtraction_id=s.id '\n",
    "              'INNER JOIN exposures e ON s.exposure_id=e.id '\n",
    "              'WHERE cand.id=%s '\n",
    "              'AND o.rb>0.6'\n",
    "              'ORDER BY e.mjd ')\n",
    "    cursor.execute( query, ( i, ) )\n",
    "    for row in cursor:\n",
    "        label = ipywidgets.HTML( f'<b>Candidate</b>{row[\"id\"]}<br><b>{row[\"filename\"]}</b><br><b>Filter:</b> {row[\"filter\"]}' )\n",
    "        newimg = ipywidgets.Image( value=bytes(row[\"sci_jpeg\"]), width=102, height=102, format='jpeg' )\n",
    "        refimg = ipywidgets.Image( value=bytes(row[\"ref_jpeg\"]), width=102, height=102, format='jpeg' )\n",
    "        subimg = ipywidgets.Image( value=bytes(row[\"diff_jpeg\"]), width=102, height=102, format='jpeg' )\n",
    "        box = ipywidgets.HBox( [ newimg, refimg, subimg, label ] )\n",
    "        display( box )\n",
    "    print(\"\")\n",
    "    print(\"\")    \n",
    "    print(\"\")    \n",
    "    print(\"\")    "
   ]
  },
  {
   "cell_type": "code",
   "execution_count": null,
   "id": "3e43ca3f-c904-4c2a-bc47-4ab223e44fe2",
   "metadata": {},
   "outputs": [],
   "source": []
  }
 ],
 "metadata": {
  "kernelspec": {
   "display_name": "Python 3",
   "language": "python",
   "name": "python3"
  },
  "language_info": {
   "codemirror_mode": {
    "name": "ipython",
    "version": 3
   },
   "file_extension": ".py",
   "mimetype": "text/x-python",
   "name": "python",
   "nbconvert_exporter": "python",
   "pygments_lexer": "ipython3",
   "version": "3.7.4"
  }
 },
 "nbformat": 4,
 "nbformat_minor": 5
}
