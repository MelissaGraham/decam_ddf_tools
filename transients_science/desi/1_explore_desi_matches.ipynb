{
 "cells": [
  {
   "cell_type": "markdown",
   "id": "081b4f28-d108-41d5-85bb-479af9324a41",
   "metadata": {},
   "source": [
    "# Explore candidates matched to DESI spectra\n",
    "\n",
    "A suggestion from Peter Nugent"
   ]
  },
  {
   "cell_type": "markdown",
   "id": "482daf97-9cbc-4f72-bd90-fc57c21251f9",
   "metadata": {},
   "source": [
    "## Set up\n",
    "\n",
    "Import packages and define plotting parameters."
   ]
  },
  {
   "cell_type": "code",
   "execution_count": 1,
   "id": "ce9312fa-15d3-4b63-a995-87ed5735f2e3",
   "metadata": {
    "tags": []
   },
   "outputs": [],
   "source": [
    "import os\n",
    "import numpy as np\n",
    "import matplotlib as mpl\n",
    "import matplotlib.pyplot as plt\n",
    "import time\n",
    "import astropy.units as u\n",
    "from astropy.table import unique\n",
    "from astropy.timeseries import LombScargle"
   ]
  },
  {
   "cell_type": "code",
   "execution_count": 2,
   "id": "e900abaa-2d68-4110-b0e2-f52db8a832e6",
   "metadata": {
    "tags": []
   },
   "outputs": [],
   "source": [
    "all_filters = np.asarray(['g','r','i'], dtype='str')\n",
    "all_fcolors = np.asarray(['green','red','blue'], dtype='str')\n",
    "all_fshapes = np.asarray(['o','s','^'], dtype='str')\n",
    "all_fsizes  = np.asarray([5, 5, 7], dtype='int')"
   ]
  },
  {
   "cell_type": "markdown",
   "id": "95f15c98-073f-40c4-9c4d-664e807224d8",
   "metadata": {},
   "source": [
    "### Read DECam DDF data\n",
    "\n",
    "Read in the nightly-epoch light curves and their measured parameters."
   ]
  },
  {
   "cell_type": "code",
   "execution_count": 3,
   "id": "8dc8daaf-aee7-483e-b7b6-ee38d66cf514",
   "metadata": {
    "tags": []
   },
   "outputs": [],
   "source": [
    "fnm = '../all_nightly_epochs_files/candidate_lightcurves.dat'\n",
    "candLC_field = np.loadtxt(fnm, dtype='str', usecols=(0))\n",
    "candLC_candid = np.loadtxt(fnm, dtype='str', usecols=(1))\n",
    "candLC_caldate = np.loadtxt(fnm, dtype='str', usecols=(2))\n",
    "candLC_mjd = np.loadtxt(fnm, dtype='float', usecols=(3))\n",
    "candLC_filter = np.loadtxt(fnm, dtype='str', usecols=(4))\n",
    "candLC_Nobj = np.loadtxt(fnm, dtype='int', usecols=(5))\n",
    "candLC_mag = np.loadtxt(fnm, dtype='float', usecols=(6))\n",
    "candLC_mage = np.loadtxt(fnm, dtype='float', usecols=(7))\n",
    "candLC_mrb = np.loadtxt(fnm, dtype='float', usecols=(8))\n",
    "candLC_lef = np.loadtxt(fnm, dtype='float', usecols=(9))\n",
    "del fnm"
   ]
  },
  {
   "cell_type": "code",
   "execution_count": 4,
   "id": "57446201-17b9-4f12-ae9e-66690fb7d881",
   "metadata": {
    "tags": []
   },
   "outputs": [],
   "source": [
    "fnm = '../all_nightly_epochs_files/candidate_lightcurve_parameters.dat'\n",
    "paramLC_field = np.loadtxt(fnm, dtype='str', usecols=(0))\n",
    "paramLC_candid = np.loadtxt(fnm, dtype='str', usecols=(1))\n",
    "paramLC_tspan = np.loadtxt(fnm, dtype='float', usecols=(2))\n",
    "paramLC_tspan_g = np.loadtxt(fnm, dtype='float', usecols=(3))\n",
    "paramLC_tspan_r = np.loadtxt(fnm, dtype='float', usecols=(4))\n",
    "paramLC_tspan_i = np.loadtxt(fnm, dtype='float', usecols=(5))\n",
    "paramLC_minmag = np.loadtxt(fnm, dtype='float', usecols=(6))\n",
    "paramLC_minmag_g = np.loadtxt(fnm, dtype='float', usecols=(7))\n",
    "paramLC_minmag_r = np.loadtxt(fnm, dtype='float', usecols=(8))\n",
    "paramLC_minmag_i = np.loadtxt(fnm, dtype='float', usecols=(9))\n",
    "paramLC_amp = np.loadtxt(fnm, dtype='float', usecols=(10))\n",
    "paramLC_amp_g = np.loadtxt(fnm, dtype='float', usecols=(11))\n",
    "paramLC_amp_r = np.loadtxt(fnm, dtype='float', usecols=(12))\n",
    "paramLC_amp_i = np.loadtxt(fnm, dtype='float', usecols=(13))\n",
    "paramLC_neps = np.loadtxt(fnm, dtype='int', usecols=(14))\n",
    "paramLC_neps_g = np.loadtxt(fnm, dtype='int', usecols=(15))\n",
    "paramLC_neps_r = np.loadtxt(fnm, dtype='int', usecols=(16))\n",
    "paramLC_neps_i = np.loadtxt(fnm, dtype='int', usecols=(17))\n",
    "del fnm"
   ]
  },
  {
   "cell_type": "markdown",
   "id": "bbe3b9aa-5c3d-45d7-b9f4-adc950bfd584",
   "metadata": {},
   "source": [
    "Nightly-epoch magnitude limits, so we have a list of all epochs."
   ]
  },
  {
   "cell_type": "code",
   "execution_count": 5,
   "id": "28cb6f72-32b5-4598-9a9f-5c893ab8b549",
   "metadata": {
    "tags": []
   },
   "outputs": [],
   "source": [
    "fnm = '../all_nightly_epochs_files/nightly_epoch_magnitude_limits.dat'\n",
    "neml_field = np.loadtxt(fnm, dtype='str', usecols=(0))\n",
    "neml_caldate = np.loadtxt(fnm, dtype='str', usecols=(1))\n",
    "neml_mjd = np.loadtxt(fnm, dtype='float', usecols=(2))\n",
    "neml_filter = np.loadtxt(fnm, dtype='str', usecols=(3))\n",
    "neml_nimgs = np.loadtxt(fnm, dtype='int', usecols=(4))\n",
    "neml_limmag = np.loadtxt(fnm, dtype='float', usecols=(5))\n",
    "neml_limmage = np.loadtxt(fnm, dtype='float', usecols=(6))\n",
    "del fnm"
   ]
  },
  {
   "cell_type": "code",
   "execution_count": 6,
   "id": "534a7bda-239a-436a-afb1-6379fc4585e9",
   "metadata": {
    "tags": []
   },
   "outputs": [
    {
     "name": "stdout",
     "output_type": "stream",
     "text": [
      "80 80 84\n",
      "97 97 96\n"
     ]
    }
   ],
   "source": [
    "for field in ['COSMOS', 'ELAIS']:\n",
    "    gx = np.where((neml_field == field) & (neml_filter == 'g'))[0]\n",
    "    rx = np.where((neml_field == field) & (neml_filter == 'r'))[0]\n",
    "    ix = np.where((neml_field == field) & (neml_filter == 'i'))[0]\n",
    "    print(len(gx), len(rx), len(ix))\n",
    "    del gx, rx, ix"
   ]
  },
  {
   "cell_type": "markdown",
   "id": "a1650070-48ed-4760-aa73-dbc2eb4725f5",
   "metadata": {},
   "source": [
    "### Read cross-match to legacy survey\n",
    "\n",
    "Read in all rows of the cross-matched file.\n",
    "\n",
    "`flagstar` : 1 if matched to a star; 0 if matched to a galaxy; -1 if unmatched (int) \n",
    "\n",
    "`flagcore` : 1 if matched to the core of the galaxy; 0 otherwise (int) \n",
    "\n",
    "`flagmatch` : 1 if a star AND galaxy met constraints; 0 if one or the other; -1 if unmatched (int) "
   ]
  },
  {
   "cell_type": "code",
   "execution_count": 7,
   "id": "9d1c20bb-ce7c-4c58-9317-c5ce1d97d248",
   "metadata": {
    "tags": []
   },
   "outputs": [],
   "source": [
    "fnm = '../cross_matched_LSDR10/candidate_xmatch_LSdr10.dat'\n",
    "lsdr10xm_candid   = np.loadtxt(fnm, dtype='str', usecols=(0))\n",
    "lsdr10xm_candra   = np.loadtxt(fnm, dtype='float', usecols=(1))\n",
    "lsdr10xm_canddec  = np.loadtxt(fnm, dtype='float', usecols=(2))\n",
    "lsdr10xm_flagstar = np.loadtxt(fnm, dtype='int', usecols=(4))\n",
    "lsdr10xm_flagcore = np.loadtxt(fnm, dtype='int', usecols=(5))\n",
    "lsdr10xm_flagmatch= np.loadtxt(fnm, dtype='int', usecols=(6))\n",
    "lsdr10xm_sep      = np.loadtxt(fnm, dtype='float', usecols=(7))\n",
    "lsdr10xm_ra       = np.loadtxt(fnm, dtype='float', usecols=(8))\n",
    "lsdr10xm_dec      = np.loadtxt(fnm, dtype='float', usecols=(9))\n",
    "lsdr10xm_rmag     = np.loadtxt(fnm, dtype='float', usecols=(13))\n",
    "lsdr10xm_type     = np.loadtxt(fnm, dtype='str', usecols=(15))\n",
    "lsdr10xm_shaper   = np.loadtxt(fnm, dtype='float', usecols=(19))\n",
    "lsdr10xm_rpsfsize = np.loadtxt(fnm, dtype='float', usecols=(21))  \n",
    "lsdr10xm_meanpz   = np.loadtxt(fnm, dtype='float', usecols=(23))\n",
    "lsdr10xm_stdpz    = np.loadtxt(fnm, dtype='float', usecols=(24))\n",
    "lsdr10xm_specz    = np.loadtxt(fnm, dtype='float', usecols=(25))\n",
    "del fnm"
   ]
  },
  {
   "cell_type": "code",
   "execution_count": 8,
   "id": "3c72e735-6c09-49ab-94a8-2b39e13fdca1",
   "metadata": {
    "tags": []
   },
   "outputs": [],
   "source": [
    "fnm = '../cross_matched_LSDR10/candidate_links.dat'\n",
    "links_candid = np.loadtxt(fnm, dtype='str', usecols=(0))\n",
    "links_lsview = np.loadtxt(fnm, dtype='str', usecols=(1))\n",
    "links_rkpage = np.loadtxt(fnm, dtype='str', usecols=(2))"
   ]
  },
  {
   "cell_type": "markdown",
   "id": "2d703a0f-7cff-4b78-8244-47a6c08c2e69",
   "metadata": {},
   "source": [
    "Cross-match between the `lsdr10xm_` arrays and `paramLC_` arrays."
   ]
  },
  {
   "cell_type": "code",
   "execution_count": 9,
   "id": "fcb8f8c4-ebfd-4b20-a3f6-cd8652f89cc2",
   "metadata": {
    "tags": []
   },
   "outputs": [],
   "source": [
    "paramLC_xindex = np.zeros(len(paramLC_candid), dtype='int') - 1\n",
    "lsdr10xm_pindex = np.zeros(len(lsdr10xm_candid), dtype='int') -1\n",
    "\n",
    "for px in range(len(paramLC_candid)):\n",
    "    tx = np.where(paramLC_candid[px] == lsdr10xm_candid)[0]\n",
    "    if len(tx) == 1:\n",
    "        paramLC_xindex[px] = tx[0]\n",
    "        lsdr10xm_pindex[tx[0]] = px\n",
    "    else:\n",
    "        print(paramLC_candid[px], len(tx))\n",
    "    del tx\n",
    "del px"
   ]
  },
  {
   "cell_type": "markdown",
   "id": "2b7e8af5-1732-4128-99fe-49f50c92a1fb",
   "metadata": {},
   "source": [
    "Reminder of how many candidates are matched to stars vs. galaxies."
   ]
  },
  {
   "cell_type": "code",
   "execution_count": 10,
   "id": "3d2f625b-7304-4353-b2c5-21ad8b0572db",
   "metadata": {
    "tags": []
   },
   "outputs": [
    {
     "name": "stdout",
     "output_type": "stream",
     "text": [
      "Number of candidates matched to:\n",
      "stars:  1081\n",
      "galaxies:  802\n"
     ]
    }
   ],
   "source": [
    "sx = np.where(lsdr10xm_flagstar == 1)[0]\n",
    "gx = np.where(lsdr10xm_flagstar == 0)[0]\n",
    "print('Number of candidates matched to:')\n",
    "print('stars: ', len(sx))\n",
    "print('galaxies: ', len(gx))\n",
    "del sx, gx"
   ]
  },
  {
   "cell_type": "markdown",
   "id": "6a29e391-aa5b-4ca6-ae6c-7127705ffc9a",
   "metadata": {},
   "source": [
    "### Read Peter's file\n",
    "\n",
    "CSV\n",
    "\n",
    "Name, RA, Dec, z, z_err, Type"
   ]
  },
  {
   "cell_type": "code",
   "execution_count": 11,
   "id": "5507db14-1bd0-4b5b-bbb6-12f347a76418",
   "metadata": {
    "tags": []
   },
   "outputs": [],
   "source": [
    "desi_cand = np.loadtxt('clean_mg.dat', dtype='str', delimiter=',', usecols=(0))\n",
    "desi_z = np.loadtxt('clean_mg.dat', dtype='float', delimiter=',', usecols=(3))\n",
    "desi_ze = np.loadtxt('clean_mg.dat', dtype='float', delimiter=',', usecols=(4))\n",
    "desi_type = np.loadtxt('clean_mg.dat', dtype='str', delimiter=',', usecols=(5))"
   ]
  },
  {
   "cell_type": "markdown",
   "id": "87403ba7-724c-4ce3-b48e-55db95bb1ab6",
   "metadata": {},
   "source": [
    "How many objects and what are their DESI-classified types?"
   ]
  },
  {
   "cell_type": "code",
   "execution_count": 12,
   "id": "a781ccb4-0790-40e4-ac47-32f9fb0fc306",
   "metadata": {
    "tags": []
   },
   "outputs": [
    {
     "name": "stdout",
     "output_type": "stream",
     "text": [
      "578\n"
     ]
    }
   ],
   "source": [
    "print(len(desi_cand))"
   ]
  },
  {
   "cell_type": "code",
   "execution_count": 13,
   "id": "067fcc88-5a60-444c-8082-a24d800bf9e3",
   "metadata": {
    "tags": []
   },
   "outputs": [],
   "source": [
    "# values, counts = np.unique(desi_type, return_counts=True)\n",
    "# for value, count in zip(values, counts):\n",
    "#     print(value, count)\n",
    "# del values, counts"
   ]
  },
  {
   "cell_type": "code",
   "execution_count": 14,
   "id": "8388a985-1338-4bb1-8b2d-b2d20367afff",
   "metadata": {
    "tags": []
   },
   "outputs": [],
   "source": [
    "temp = []\n",
    "for dtype in desi_type:\n",
    "    temp.append(dtype[1:4])\n",
    "desi_stype = np.asarray(temp, dtype='str')\n",
    "del temp"
   ]
  },
  {
   "cell_type": "code",
   "execution_count": 15,
   "id": "f847e10d-4f11-4b02-a6ff-fe5f72179821",
   "metadata": {
    "tags": []
   },
   "outputs": [
    {
     "name": "stdout",
     "output_type": "stream",
     "text": [
      "GAL 131\n",
      "QSO 432\n",
      "STA 15\n"
     ]
    }
   ],
   "source": [
    "values, counts = np.unique(desi_stype, return_counts=True)\n",
    "for value, count in zip(values, counts):\n",
    "    print(value, count)\n",
    "del values, counts"
   ]
  },
  {
   "cell_type": "markdown",
   "id": "74ffe2f3-80ae-4722-b2b0-630a4c9b06a6",
   "metadata": {
    "tags": []
   },
   "source": [
    "Make arrays to index between the `desi` and `paramLC` arrays."
   ]
  },
  {
   "cell_type": "code",
   "execution_count": 16,
   "id": "093d3188-35e3-4a13-bfc2-19daf6ee7f5b",
   "metadata": {
    "tags": []
   },
   "outputs": [],
   "source": [
    "desi_pindex = np.zeros(len(desi_cand), dtype='int') - 1\n",
    "desi_xindex = np.zeros(len(desi_cand), dtype='int') - 1\n",
    "paramLC_dindex = np.zeros(len(paramLC_field), dtype='int') - 1\n",
    "lsdr10xm_dindex = np.zeros(len(lsdr10xm_candid), dtype='int') -1\n",
    "\n",
    "for i in range(len(desi_cand)):\n",
    "    tx = np.where(desi_cand[i] == paramLC_candid)[0]\n",
    "    if len(tx) == 1:\n",
    "        desi_pindex[i] = tx[0]\n",
    "        paramLC_dindex[tx[0]] = i\n",
    "    del tx\n",
    "    \n",
    "    tx = np.where(desi_cand[i] == lsdr10xm_candid)[0]\n",
    "    if len(tx) == 1:\n",
    "        desi_xindex[i] = tx[0]\n",
    "        lsdr10xm_dindex[tx[0]] = i\n",
    "    del tx"
   ]
  },
  {
   "cell_type": "markdown",
   "id": "90502cfe-1fb3-4259-a756-20225aeee69e",
   "metadata": {},
   "source": [
    "Quick check here."
   ]
  },
  {
   "cell_type": "code",
   "execution_count": 17,
   "id": "46b83d08-2ef1-425b-8109-ef06d4db642c",
   "metadata": {
    "tags": []
   },
   "outputs": [
    {
     "name": "stdout",
     "output_type": "stream",
     "text": [
      "578\n",
      "578\n"
     ]
    }
   ],
   "source": [
    "tx = np.where(paramLC_dindex >= 0)[0]\n",
    "print(len(tx))\n",
    "del tx\n",
    "\n",
    "tx = np.where(lsdr10xm_dindex >= 0)[0]\n",
    "print(len(tx))\n",
    "del tx"
   ]
  },
  {
   "cell_type": "markdown",
   "id": "66a68c21-929f-4ddd-ba2b-176cb18575fd",
   "metadata": {},
   "source": [
    "Expect all matches to be in COSMOS."
   ]
  },
  {
   "cell_type": "code",
   "execution_count": 18,
   "id": "40b2e67f-34bf-4168-a62e-047fa9af822b",
   "metadata": {
    "tags": []
   },
   "outputs": [
    {
     "name": "stdout",
     "output_type": "stream",
     "text": [
      "['COSMOS']\n",
      "1089\n"
     ]
    }
   ],
   "source": [
    "tx = np.where(paramLC_dindex >= 0)[0]\n",
    "values = np.unique(paramLC_field[tx])\n",
    "print(values)\n",
    "del tx\n",
    "\n",
    "tx = np.where(paramLC_field == 'COSMOS')[0]\n",
    "print(len(tx))\n",
    "del tx"
   ]
  },
  {
   "cell_type": "code",
   "execution_count": null,
   "id": "2c5ffbf9-e57d-4b52-a787-9a86aa22c9ad",
   "metadata": {},
   "outputs": [],
   "source": []
  },
  {
   "cell_type": "markdown",
   "id": "5e7fa54e-73cd-443f-92f7-6a5be922a976",
   "metadata": {},
   "source": [
    "### Compare with Legacy Survey (Tractor Catalog) cross-matches\n",
    "\n",
    "#### Classifications\n",
    "\n",
    "Recall:\n",
    " * `flagstar` : 1 if matched to a star; 0 if matched to a galaxy; -1 if unmatched (int) \n",
    " * `flagcore` : 1 if matched to the core of the galaxy; 0 otherwise (int) \n"
   ]
  },
  {
   "cell_type": "code",
   "execution_count": 19,
   "id": "5079b293-f9a2-4cca-87dd-b79e15600366",
   "metadata": {
    "tags": []
   },
   "outputs": [
    {
     "name": "stdout",
     "output_type": "stream",
     "text": [
      "GAL\n",
      "flagstar\n",
      "-1 2\n",
      "0 88\n",
      "1 41\n",
      "flagcore\n",
      "0 61\n",
      "1 70\n",
      " \n",
      "QSO\n",
      "flagstar\n",
      "-1 1\n",
      "0 55\n",
      "1 376\n",
      "flagcore\n",
      "0 383\n",
      "1 49\n",
      " \n",
      "STA\n",
      "flagstar\n",
      "0 1\n",
      "1 14\n",
      "flagcore\n",
      "0 14\n",
      "1 1\n",
      " \n"
     ]
    }
   ],
   "source": [
    "for stype in ['GAL', 'QSO', 'STA']:\n",
    "    print(stype)\n",
    "    tx = np.where(desi_stype == stype)[0]\n",
    "    \n",
    "    print('flagstar')\n",
    "    temp = lsdr10xm_flagstar[desi_xindex[tx]]\n",
    "    values, counts = np.unique(temp, return_counts=True)\n",
    "    for value, count in zip(values, counts):\n",
    "        print(value, count)\n",
    "    del temp, values, counts\n",
    "    \n",
    "    print('flagcore')\n",
    "    temp = lsdr10xm_flagcore[desi_xindex[tx]]\n",
    "    values, counts = np.unique(temp, return_counts=True)\n",
    "    for value, count in zip(values, counts):\n",
    "        print(value, count)\n",
    "    del temp, values, counts\n",
    "    \n",
    "    del tx\n",
    "    print(' ')"
   ]
  },
  {
   "cell_type": "markdown",
   "id": "f4dedfd6-a1db-449c-bc35-7d6f024e3eba",
   "metadata": {},
   "source": [
    "Above, in words.\n",
    "\n",
    "Of the DESI GAL, 41 were matched to Legacy Survey stars and 88 to galaxies, 70 of which were in the core.\n",
    "\n",
    "Of the DESI QSO, 376 were matched to Legacy Survey stars and 55 to galaxies, 49 of which were in the core.\n",
    "\n",
    "Of the DESI stars, 14 were matched to Legacy Survey stars and 1 to a galaxy, which was also in the core of the galaxy.\n",
    "\n",
    "Below: details of the one DESI star which was matched to a Legacy Survey galaxy. It is point-source like, probably a QSO."
   ]
  },
  {
   "cell_type": "code",
   "execution_count": 20,
   "id": "6f81a0cf-1cdb-4a3f-9fc3-fb7eae64c4ab",
   "metadata": {
    "tags": []
   },
   "outputs": [
    {
     "name": "stdout",
     "output_type": "stream",
     "text": [
      "DC21ghfy\n",
      "https://www.legacysurvey.org/viewer/cutout.jpg?ra=150.811925054167&dec=2.90018756581819&layer=ls-dr9&pixscale=0.06\n",
      "https://decat-webap.lbl.gov/decatview.py/cand/DC21ghfy\n"
     ]
    }
   ],
   "source": [
    "tx = np.where(desi_stype == 'STA')[0]\n",
    "ttx = np.where(lsdr10xm_flagstar[desi_xindex[tx]] == 0)[0]\n",
    "temp_cand = lsdr10xm_candid[desi_xindex[tx[ttx[0]]]]\n",
    "del tx, ttx\n",
    "\n",
    "tx = np.where(links_candid == temp_cand)[0]\n",
    "print(temp_cand)\n",
    "print(links_lsview[tx[0]])\n",
    "print(links_rkpage[tx[0]])"
   ]
  },
  {
   "cell_type": "markdown",
   "id": "dc900ed4-4856-4a17-a155-d044b70c805a",
   "metadata": {},
   "source": [
    "#### Redshifts\n",
    "\n",
    "Compare the Legacy Survey photo-z with the DESI redshifts."
   ]
  },
  {
   "cell_type": "code",
   "execution_count": 24,
   "id": "264f6c18-810c-4b01-adf3-a7326f27f340",
   "metadata": {
    "tags": []
   },
   "outputs": [
    {
     "data": {
      "image/png": "[encoded data removed]",
      "text/plain": [
       "<Figure size 600x300 with 1 Axes>"
      ]
     },
     "metadata": {},
     "output_type": "display_data"
    }
   ],
   "source": [
    "tx = np.where(lsdr10xm_meanpz[desi_xindex] >= 0.0)[0]\n",
    "gx = np.where(desi_stype[tx] == 'GAL')[0]\n",
    "qx = np.where(desi_stype[tx] == 'QSO')[0]\n",
    "sx = np.where(desi_stype[tx] == 'STA')[0]\n",
    "\n",
    "fig = plt.figure(figsize=(6, 3))\n",
    "plt.plot([0, 1.2], [0, 1.2], ls='solid', lw=1, color='lightgrey')\n",
    "\n",
    "plt.plot(desi_z[tx[gx]], lsdr10xm_meanpz[desi_xindex[tx[gx]]], \n",
    "         's', ms=5, alpha=0.4, mew=0, color='darkgreen', label='DESI galaxy')\n",
    "plt.plot(desi_z[tx[qx]], lsdr10xm_meanpz[desi_xindex[tx[qx]]], \n",
    "         'o', ms=5, alpha=0.4, mew=0, color='darkorange', label='DESI QSO')\n",
    "plt.plot(desi_z[tx[sx]], lsdr10xm_meanpz[desi_xindex[tx[sx]]], \n",
    "         '*', ms=7, alpha=0.4, mew=0, color='darkviolet', label='DESI star')\n",
    "plt.legend(loc='lower right', fontsize=14, handletextpad=0.1)\n",
    "plt.ylabel('Legacy Survey Photo-z', fontsize=14)\n",
    "plt.xlabel('DESI Redshift', fontsize=14)\n",
    "plt.tick_params(axis='both', which='major', labelsize=14)\n",
    "plt.title(\"DECam DDF Candidates' Cross-Matches\", fontsize=16)\n",
    "\n",
    "plt.tight_layout()\n",
    "plt.savefig('desi_pz_comp')\n",
    "plt.show()\n",
    "\n",
    "del tx, gx, qx, sx"
   ]
  },
  {
   "cell_type": "markdown",
   "id": "0e0f44df-1226-4e89-8f78-6d263a88932e",
   "metadata": {},
   "source": [
    "## Light curve parameters for DESI-matched objects"
   ]
  },
  {
   "cell_type": "code",
   "execution_count": 22,
   "id": "33062d20-db83-466a-b586-2036f43ff1ca",
   "metadata": {
    "tags": []
   },
   "outputs": [
    {
     "data": {
      "image/png": "[encoded data removed]",
      "text/plain": [
       "<Figure size 600x300 with 2 Axes>"
      ]
     },
     "metadata": {},
     "output_type": "display_data"
    }
   ],
   "source": [
    "# fig, ax = plt.subplots(1, 3, figsize=(8, 6), sharex=False, sharey=False)\n",
    "fig, ax = plt.subplots(1, 2, figsize=(6, 3), sharex=False, sharey=False)\n",
    "\n",
    "gx = np.where(desi_stype == 'GAL')[0]\n",
    "qx = np.where(desi_stype == 'QSO')[0]\n",
    "sx = np.where(desi_stype == 'STA')[0]\n",
    "\n",
    "tx = np.where((paramLC_field == 'COSMOS') & (paramLC_tspan > 1))[0]\n",
    "ax[0].plot(paramLC_tspan[tx], paramLC_amp[tx], '^', ms=2, mew=0, color='grey')\n",
    "ax[0].plot(paramLC_tspan[desi_pindex[gx]], paramLC_amp[desi_pindex[gx]],\n",
    "             's', ms=5, alpha=0.2, color='darkgreen', label='DESI galaxy')\n",
    "ax[0].plot(paramLC_tspan[desi_pindex[qx]], paramLC_amp[desi_pindex[qx]],\n",
    "              'o', ms=5, alpha=0.2, color='darkorange', label='DESI QSO')\n",
    "ax[0].plot(paramLC_tspan[desi_pindex[sx]], paramLC_amp[desi_pindex[sx]],\n",
    "              '*', ms=5, alpha=0.4, color='darkviolet', label='DESI star')\n",
    "ax[0].set_xlabel('time span [days]')\n",
    "ax[0].set_ylabel('amplitude [mag]')\n",
    "\n",
    "ax[1].plot(paramLC_tspan[tx], paramLC_minmag[tx], '^', ms=2, mew=0, color='grey')\n",
    "ax[1].plot(paramLC_tspan[desi_pindex[gx]], paramLC_minmag[desi_pindex[gx]],\n",
    "              's', ms=5, alpha=0.2, color='darkgreen', label='DESI galaxy')\n",
    "ax[1].plot(paramLC_tspan[desi_pindex[qx]], paramLC_minmag[desi_pindex[qx]],\n",
    "              'o', ms=5, alpha=0.2, color='darkorange', label='DESI QSO')\n",
    "ax[1].plot(paramLC_tspan[desi_pindex[sx]], paramLC_minmag[desi_pindex[sx]],\n",
    "              '*', ms=5, alpha=0.4, color='darkviolet', label='DESI star')\n",
    "ax[1].set_xlabel('time span [days]')\n",
    "ax[1].set_ylabel('brightest magnitude')\n",
    "ax[1].set_ylim([23.5, 16.5])\n",
    "\n",
    "# ax[2].plot(paramLC_minmag, paramLC_amp, '^', ms=2, mew=0, color='grey')\n",
    "# ax[2].plot(paramLC_minmag[desi_pindex[gx]], paramLC_amp[desi_pindex[gx]],\n",
    "#               's', ms=5, alpha=0.2, color='darkgreen', label='DESI galaxy')\n",
    "# ax[2].plot(paramLC_minmag[desi_pindex[qx]], paramLC_amp[desi_pindex[qx]],\n",
    "#               'o', ms=5, alpha=0.2, color='darkorange', label='DESI QSO')\n",
    "# ax[2].plot(paramLC_minmag[desi_pindex[sx]], paramLC_amp[desi_pindex[sx]],\n",
    "#               '*', ms=5, alpha=0.2, color='darkviolet', label='DESI star')\n",
    "# ax[2].set_xlabel('minmag')\n",
    "# ax[2].set_ylabel('amp')\n",
    "\n",
    "plt.tight_layout()\n",
    "plt.savefig('desi_lc_comp')\n",
    "plt.show()"
   ]
  },
  {
   "cell_type": "markdown",
   "id": "10a907dd-d7df-46f7-bbac-559c4e969eda",
   "metadata": {},
   "source": [
    "Above: Can see that DECam DDF candidates cross matched with galaxies generally have shorter time spans, they're probably transients in hosts. Whereas those cross matched with stars or QSOs have longer time spans and, for the longer-duration events, larger amplitudes and brighter difference-image magnitudes (as expected for stars and QSOs)."
   ]
  },
  {
   "cell_type": "markdown",
   "id": "8a2f53d0-322d-4420-ac65-241f3240cc44",
   "metadata": {},
   "source": [
    "Same as above, but with histogram plots added as per the reviewer's request."
   ]
  },
  {
   "cell_type": "code",
   "execution_count": 25,
   "id": "afb72a8e-6b1e-45be-b4b4-e929799d4076",
   "metadata": {},
   "outputs": [
    {
     "data": {
      "image/png": "[encoded data removed]",
      "text/plain": [
       "<Figure size 600x400 with 4 Axes>"
      ]
     },
     "metadata": {},
     "output_type": "display_data"
    }
   ],
   "source": [
    "# fig, ax = plt.subplots(2, 2, figsize=(6, 4), sharex=True, sharey=False, height_ratios=[1, 2])\n",
    "\n",
    "fig, ax = plt.subplots(2, 2, figsize=(6, 4), sharex=True, sharey=False, gridspec_kw={'height_ratios': [1, 2], 'hspace': 0})\n",
    "\n",
    "gx = np.where(desi_stype == 'GAL')[0]\n",
    "qx = np.where(desi_stype == 'QSO')[0]\n",
    "sx = np.where(desi_stype == 'STA')[0]\n",
    "\n",
    "ax[0,0].hist(paramLC_tspan[desi_pindex[gx]], bins=20, log=True, histtype='step', color='darkgreen')\n",
    "ax[0,0].hist(paramLC_tspan[desi_pindex[qx]], bins=20, log=True, histtype='step', color='darkorange')\n",
    "ax[0,0].hist(paramLC_tspan[desi_pindex[sx]], bins=20, log=True, histtype='step', color='darkviolet')\n",
    "ax[0,0].set_ylabel('log(N)', fontsize=14)\n",
    "\n",
    "ax[0,1].hist(paramLC_tspan[desi_pindex[gx]], bins=20, log=True, histtype='step', color='darkgreen')\n",
    "ax[0,1].hist(paramLC_tspan[desi_pindex[qx]], bins=20, log=True, histtype='step', color='darkorange')\n",
    "ax[0,1].hist(paramLC_tspan[desi_pindex[sx]], bins=20, log=True, histtype='step', color='darkviolet')\n",
    "ax[0,1].set_ylabel('log(N)', fontsize=14)\n",
    "\n",
    "tx = np.where((paramLC_field == 'COSMOS') & (paramLC_tspan > 1))[0]\n",
    "ax[1,0].plot(paramLC_tspan[tx], paramLC_amp[tx], '^', ms=2, mew=0, color='grey')\n",
    "ax[1,0].plot(paramLC_tspan[desi_pindex[gx]], paramLC_amp[desi_pindex[gx]],\n",
    "             's', ms=5, alpha=0.2, color='darkgreen', label='DESI galaxy')\n",
    "ax[1,0].plot(paramLC_tspan[desi_pindex[qx]], paramLC_amp[desi_pindex[qx]],\n",
    "              'o', ms=5, alpha=0.2, color='darkorange', label='DESI QSO')\n",
    "ax[1,0].plot(paramLC_tspan[desi_pindex[sx]], paramLC_amp[desi_pindex[sx]],\n",
    "              '*', ms=5, alpha=0.4, color='darkviolet', label='DESI star')\n",
    "ax[1,0].set_xlabel('time span [days]', fontsize=14)\n",
    "ax[1,0].set_ylabel('amplitude [mag]', fontsize=14)\n",
    "\n",
    "ax[1,1].plot(paramLC_tspan[tx], paramLC_minmag[tx], '^', ms=2, mew=0, color='grey')\n",
    "ax[1,1].plot(paramLC_tspan[desi_pindex[gx]], paramLC_minmag[desi_pindex[gx]],\n",
    "              's', ms=5, alpha=0.2, color='darkgreen', label='DESI galaxy')\n",
    "ax[1,1].plot(paramLC_tspan[desi_pindex[qx]], paramLC_minmag[desi_pindex[qx]],\n",
    "              'o', ms=5, alpha=0.2, color='darkorange', label='DESI QSO')\n",
    "ax[1,1].plot(paramLC_tspan[desi_pindex[sx]], paramLC_minmag[desi_pindex[sx]],\n",
    "              '*', ms=5, alpha=0.4, color='darkviolet', label='DESI star')\n",
    "ax[1,1].set_xlabel('time span [days]', fontsize=14)\n",
    "ax[1,1].set_ylabel('brightest magnitude', fontsize=14)\n",
    "ax[1,1].set_ylim([23.5, 16.5])\n",
    "\n",
    "for i in range(2):\n",
    "    for j in range(2):\n",
    "        ax[i,j].tick_params(axis='both', which='major', labelsize=14)\n",
    "\n",
    "# plt.subplots_adjust(hspace=0)\n",
    "plt.tight_layout()\n",
    "plt.savefig('desi_lc_comp_v2')\n",
    "plt.show()"
   ]
  },
  {
   "cell_type": "markdown",
   "id": "d18723a2-3ca2-47a1-a505-eb96cb033f0c",
   "metadata": {},
   "source": [
    "Green, orange, and pink are DESI galaxies, QSOs, and stars, respectively."
   ]
  },
  {
   "cell_type": "code",
   "execution_count": null,
   "id": "1f60bf9f-d3d7-4580-8574-d0be2fa25fec",
   "metadata": {
    "tags": []
   },
   "outputs": [],
   "source": [
    "# xx = np.where(lsdr10xm_candid == cand)[0]\n",
    "# px = np.where(paramLC_candid == cand)[0]\n",
    "# cx = np.where(candLC_candid == cand)[0]"
   ]
  },
  {
   "cell_type": "markdown",
   "id": "538124aa-c17d-4cd6-90d0-a9fcb0b6559d",
   "metadata": {},
   "source": [
    "Print some parameters for this candidate."
   ]
  },
  {
   "cell_type": "code",
   "execution_count": null,
   "id": "449846a9-fad9-4d14-acd3-47ac9b53199e",
   "metadata": {
    "tags": []
   },
   "outputs": [],
   "source": [
    "# print(lsdr10xm_candid[xx[0]], lsdr10xm_rmag[xx[0]])\n",
    "# print(paramLC_field[px[0]], paramLC_candid[px[0]], paramLC_minmag_r[px[0]])\n",
    "# print(' ')\n",
    "# print('       %6s %6s %6s %6s ' % ('all', 'g', 'r', 'i'))\n",
    "# print('tspan  %6.1f %6.1f %6.1f %6.1f' % (paramLC_tspan[px[0]], paramLC_tspan_g[px[0]], paramLC_tspan_r[px[0]], paramLC_tspan_i[px[0]]))\n",
    "# print('minmag %6.1f %6.1f %6.1f %6.1f' % (paramLC_minmag[px[0]], paramLC_minmag_g[px[0]], paramLC_minmag_r[px[0]], paramLC_minmag_i[px[0]]))\n",
    "# print('amp    %6.1f %6.1f %6.1f %6.1f' % (paramLC_amp[px[0]], paramLC_amp_g[px[0]], paramLC_amp_r[px[0]], paramLC_amp_i[px[0]]))\n",
    "# print('neps   %6i %6i %6i %6i' % (paramLC_neps[px[0]], paramLC_neps_g[px[0]], paramLC_neps_r[px[0]], paramLC_neps_i[px[0]]))"
   ]
  },
  {
   "cell_type": "markdown",
   "id": "dcabe5bf-34bb-48dd-baad-25d5a7468aff",
   "metadata": {},
   "source": [
    "Go with filter r because we have static-sky mags for filter r."
   ]
  },
  {
   "cell_type": "code",
   "execution_count": null,
   "id": "69e37e1c-96c5-4795-afdd-7fbca3708b12",
   "metadata": {
    "tags": []
   },
   "outputs": [],
   "source": [
    "# usefilt = 'r'"
   ]
  },
  {
   "cell_type": "markdown",
   "id": "aafa31f2-a815-4303-abc0-ed23385dad18",
   "metadata": {},
   "source": [
    "Plot the difference-image light curve."
   ]
  },
  {
   "cell_type": "code",
   "execution_count": null,
   "id": "f3a799d5-90a9-46ec-840a-20bfe2d546ff",
   "metadata": {
    "tags": []
   },
   "outputs": [],
   "source": [
    "# fx = np.where(candLC_filter[cx] == usefilt)[0]\n",
    "# days = candLC_mjd[cx[fx]]\n",
    "# mags = candLC_mag[cx[fx]]\n",
    "\n",
    "# x = np.where(all_filters == usefilt)[0]\n",
    "# sym = all_fshapes[x[0]]\n",
    "# clr = all_fcolors[x[0]]\n",
    "\n",
    "# plt.figure(figsize=(4, 2))\n",
    "# plt.plot(days, mags, sym, ms=3, color=clr)\n",
    "# plt.gca().invert_yaxis()\n",
    "# plt.show()\n",
    "\n",
    "# del x, sym, clr"
   ]
  },
  {
   "cell_type": "markdown",
   "id": "14a9bfd9-dcda-4232-b11a-3a0f9ff16897",
   "metadata": {},
   "source": [
    "For RR Lyrae the periods are ~half a day, but Cepheids can be longer, ~10 days. \n",
    "\n",
    "Try 0.1 days to 20 days (even if the light curve above exhibits variability over a longer timescale)."
   ]
  },
  {
   "cell_type": "code",
   "execution_count": null,
   "id": "f886eb0e-21e2-4797-9a8c-369ede10aa5b",
   "metadata": {
    "tags": []
   },
   "outputs": [],
   "source": [
    "# min_p = 0.1 * u.day\n",
    "# max_p = 20.1 * u.day\n",
    "# min_f = 1.0 / max_p\n",
    "# max_f = 1.0 / min_p"
   ]
  },
  {
   "cell_type": "markdown",
   "id": "493e0dd7-cc8a-4ea8-bb30-d25a71e17f54",
   "metadata": {},
   "source": [
    "Do the Lomb Scargle periodogram fit."
   ]
  },
  {
   "cell_type": "code",
   "execution_count": null,
   "id": "6262464f-e5ca-4e7b-ac43-f080ba0e6d73",
   "metadata": {
    "tags": []
   },
   "outputs": [],
   "source": [
    "# frequency, power = LombScargle(days * u.day, mags).autopower(minimum_frequency=min_f, maximum_frequency=max_f)"
   ]
  },
  {
   "cell_type": "code",
   "execution_count": null,
   "id": "c132a01a-337d-4b92-8c3b-aae9255b8b6d",
   "metadata": {
    "tags": []
   },
   "outputs": [],
   "source": [
    "# tmp = np.argsort(power)\n",
    "# sx = tmp[::-1]\n",
    "# best_period = 1 / frequency[sx[0]].value\n",
    "# print('best period: ', best_period, ' in days')\n",
    "# del tmp, sx"
   ]
  },
  {
   "cell_type": "code",
   "execution_count": null,
   "id": "2af15684-e1c4-45a2-9c4e-a58afb4aa620",
   "metadata": {
    "tags": []
   },
   "outputs": [],
   "source": [
    "# print(np.min(power), np.max(power))\n",
    "# print(np.mean(power), np.std(power))\n",
    "# print((np.max(power)-np.mean(power))/np.std(power))"
   ]
  },
  {
   "cell_type": "markdown",
   "id": "c72f49dd-b52c-4836-8014-48f368c3c33a",
   "metadata": {},
   "source": [
    "Show the results.\n",
    "\n",
    "Take as the best period the highest power peak."
   ]
  },
  {
   "cell_type": "code",
   "execution_count": null,
   "id": "f9e26570-df23-41a8-92e4-3328bf9b4cb7",
   "metadata": {
    "tags": []
   },
   "outputs": [],
   "source": [
    "# plt.figure(figsize=(8, 2))\n",
    "# plt.plot(frequency, power, color='grey', lw=1)\n",
    "# plt.xlabel('frequency')\n",
    "# plt.show()\n",
    "\n",
    "# plt.figure(figsize=(8, 2))\n",
    "# # plt.axvline(np.log10(best_period), color='dodgerblue', lw=5, alpha=0.5)\n",
    "# # plt.plot(np.log10(1 / frequency.value), power, color='grey', lw=1)\n",
    "# plt.axvline(best_period, color='dodgerblue', lw=5, alpha=0.5)\n",
    "# plt.plot(1 / frequency.value, power, color='grey', lw=1)\n",
    "# plt.xlabel('log period [days]')\n",
    "# plt.show()"
   ]
  },
  {
   "cell_type": "markdown",
   "id": "c83c374e-0b22-4c7b-badb-4ebd768a84c1",
   "metadata": {
    "tags": []
   },
   "source": [
    "Phase-fold the light curve and plot it."
   ]
  },
  {
   "cell_type": "code",
   "execution_count": null,
   "id": "1efe419e-0f15-4c4e-a4a4-1d029e97543e",
   "metadata": {
    "tags": []
   },
   "outputs": [],
   "source": [
    "# t0 = np.min(days)\n",
    "# days_norm = (days - t0) / best_period\n",
    "# phase = np.mod(days_norm, 1.0)\n",
    "# del t0\n",
    "\n",
    "# x = np.where(all_filters == usefilt)[0]\n",
    "# sym = all_fshapes[x[0]]\n",
    "# clr = all_fcolors[x[0]]\n",
    "\n",
    "# plt.figure(figsize=(4, 2))\n",
    "# plt.plot(phase, mags, sym, ms=3, color=clr)\n",
    "# plt.xlabel('phase')\n",
    "# plt.gca().invert_yaxis()\n",
    "# plt.show()"
   ]
  },
  {
   "cell_type": "markdown",
   "id": "57d127e5-a36a-4524-acfe-dc076487b8b0",
   "metadata": {},
   "source": [
    "The above sequence of steps usually yeilds a best-fit period of a half day or a day.\n",
    "\n",
    "This is just aliasing. It's not real! But it was a way to test doing periodograms."
   ]
  },
  {
   "cell_type": "markdown",
   "id": "eef83480-aa4b-4fd2-87df-d0f0c5885ed3",
   "metadata": {},
   "source": [
    "Set the input parameters to go after longer duration variables.\n",
    "\n",
    "https://www.aanda.org/articles/aa/full_html/2014/06/aa23252-13/F14.html"
   ]
  },
  {
   "cell_type": "code",
   "execution_count": null,
   "id": "d25f7ba2-da66-4c2c-8ecd-c3409d855572",
   "metadata": {
    "tags": []
   },
   "outputs": [],
   "source": [
    "# # min_p = 50.0 * u.day\n",
    "# # max_p = 1000.0 * u.day\n",
    "\n",
    "# min_p = 30.0 * u.day\n",
    "# max_p = 500.0 * u.day\n",
    "\n",
    "# min_f = 1.0 / max_p\n",
    "# max_f = 1.0 / min_p"
   ]
  },
  {
   "cell_type": "markdown",
   "id": "0109c753-1405-4148-87c4-f0257bf6a460",
   "metadata": {},
   "source": [
    "Make the periodograms for all candidates matched to stars that have sufficient time span, amplitude, and number of epochs."
   ]
  },
  {
   "cell_type": "code",
   "execution_count": null,
   "id": "814ae96d-8204-4ccb-9bd6-b86954c11abd",
   "metadata": {
    "tags": []
   },
   "outputs": [],
   "source": [
    "# min_tspan = 100\n",
    "# min_amp = 0.5\n",
    "# min_neps = 40"
   ]
  },
  {
   "cell_type": "code",
   "execution_count": null,
   "id": "beda684d-133c-42c8-a1f7-34912e50f2b0",
   "metadata": {
    "tags": []
   },
   "outputs": [],
   "source": [
    "# t1 = time.time()\n",
    "\n",
    "# for p in range(len(paramLC_candid)):\n",
    "\n",
    "#     if (p == 10) | (p == 100) | (p == 1000):\n",
    "#         t2 = time.time()\n",
    "#         print('p=%6i, %5.1f seconds remain' % (p, ((t2-t1)/float(p))*(float(len(paramLC_candid)-p))))\n",
    "    \n",
    "#     if (lsdr10xm_flagstar[paramLC_xindex[p]] == 1) & \\\n",
    "#     (paramLC_tspan[p] > min_tspan) & (paramLC_amp[p] > min_amp) & \\\n",
    "#     (paramLC_neps[p] > min_neps):\n",
    "#         tmp1 = np.zeros(3, dtype='float')\n",
    "#         tmp2 = np.zeros(3, dtype='float')\n",
    "#         tmp3 = np.zeros(3, dtype='float')\n",
    "\n",
    "#         for f, filt in enumerate(all_filters):\n",
    "#             x = np.where((candLC_candid == paramLC_candid[p]) & \n",
    "#                          (candLC_filter == filt))[0]\n",
    "\n",
    "#             if len(x) > 30:\n",
    "#                 days = candLC_mjd[x]\n",
    "#                 mags = candLC_mag[x]\n",
    "#                 frequency, power = LombScargle(days * u.day, mags).autopower(minimum_frequency=min_f, \n",
    "#                                                                              maximum_frequency=max_f)\n",
    "#                 mx = np.argmax(power)\n",
    "#                 tmp1[f] = 1 / frequency[mx].value\n",
    "#                 tmp2[f] = (np.max(power)-np.mean(power))/np.std(power)\n",
    "#                 tmp3[f] = np.max(power)\n",
    "#                 del days, mags, frequency, power, mx\n",
    "#             del x\n",
    "\n",
    "#         paramLC_Pbest_g[p] = tmp1[0]\n",
    "#         paramLC_Pbest_r[p] = tmp1[1]\n",
    "#         paramLC_Pbest_i[p] = tmp1[2]\n",
    "#         paramLC_Psnr_g[p] = tmp2[0]\n",
    "#         paramLC_Psnr_r[p] = tmp2[1]\n",
    "#         paramLC_Psnr_i[p] = tmp2[2]\n",
    "#         paramLC_Ppwr_g[p] = tmp3[0]\n",
    "#         paramLC_Ppwr_r[p] = tmp3[1]\n",
    "#         paramLC_Ppwr_i[p] = tmp3[2]\n",
    "#         del tmp1, tmp2\n",
    "        \n",
    "# t2 = time.time()\n",
    "# print('elapsed: %5.1f' % (t2 - t1))\n",
    "# del t1, t2"
   ]
  },
  {
   "cell_type": "code",
   "execution_count": null,
   "id": "66cda83d-6656-4fb9-9d07-3f12bb169347",
   "metadata": {
    "tags": []
   },
   "outputs": [],
   "source": [
    "# gx = np.where(paramLC_Pbest_g > 0.0)[0]\n",
    "# rx = np.where(paramLC_Pbest_r > 0.0)[0]\n",
    "# ix = np.where(paramLC_Pbest_i > 0.0)[0]\n",
    "# print(len(gx), len(rx), len(ix))\n",
    "# del gx, rx, ix"
   ]
  },
  {
   "cell_type": "markdown",
   "id": "99531c9b-233d-42c3-9d6d-43ee2e874790",
   "metadata": {
    "tags": []
   },
   "source": [
    "Explore the periodogram results by plotting them."
   ]
  },
  {
   "cell_type": "code",
   "execution_count": null,
   "id": "bca89b73-f0a3-41b9-9e09-37f77b9c4415",
   "metadata": {
    "tags": []
   },
   "outputs": [],
   "source": [
    "# fig, ax = plt.subplots(1, 3, figsize=(10, 3), sharex=False, sharey=False)\n",
    "\n",
    "# gx = np.where(paramLC_Pbest_g > 0.0)[0]\n",
    "# rx = np.where(paramLC_Pbest_r > 0.0)[0]\n",
    "# ix = np.where(paramLC_Pbest_i > 0.0)[0]\n",
    "\n",
    "# ax[0].hist(paramLC_Pbest_g[gx], bins=40, histtype='step', log=True, color=all_fcolors[0])\n",
    "# ax[0].hist(paramLC_Pbest_r[rx], bins=40, histtype='step', log=True, color=all_fcolors[1])\n",
    "# ax[0].hist(paramLC_Pbest_i[ix], bins=40, histtype='step', log=True, color=all_fcolors[2])\n",
    "# ax[0].set_xlabel('best period')\n",
    "\n",
    "# ax[1].hist(paramLC_Psnr_g[gx], bins=40, histtype='step', log=True, color=all_fcolors[0])\n",
    "# ax[1].hist(paramLC_Psnr_r[rx], bins=40, histtype='step', log=True, color=all_fcolors[1])\n",
    "# ax[1].hist(paramLC_Psnr_i[ix], bins=40, histtype='step', log=True, color=all_fcolors[2])\n",
    "# ax[1].set_xlabel('best period \"SNR\"')\n",
    "\n",
    "# ax[2].hist(paramLC_Ppwr_g[gx], bins=40, histtype='step', log=True, color=all_fcolors[0])\n",
    "# ax[2].hist(paramLC_Ppwr_r[rx], bins=40, histtype='step', log=True, color=all_fcolors[1])\n",
    "# ax[2].hist(paramLC_Ppwr_i[ix], bins=40, histtype='step', log=True, color=all_fcolors[2])\n",
    "# ax[2].set_xlabel('best period power')\n",
    "\n",
    "# plt.tight_layout()\n",
    "# plt.show()\n",
    "\n",
    "# del gx, rx, ix"
   ]
  },
  {
   "cell_type": "code",
   "execution_count": null,
   "id": "a366c8e2-be9d-4ca4-8219-52c2ec1504b4",
   "metadata": {
    "tags": []
   },
   "outputs": [],
   "source": [
    "# fig, ax = plt.subplots(1, 3, figsize=(10, 3), sharex=False, sharey=False)\n",
    "\n",
    "# gx = np.where(paramLC_Pbest_g > 0.0)[0]\n",
    "# rx = np.where(paramLC_Pbest_r > 0.0)[0]\n",
    "# ix = np.where(paramLC_Pbest_i > 0.0)[0]\n",
    "\n",
    "# ax[0].plot(paramLC_Pbest_g[gx], paramLC_Psnr_g[gx], 'o', ms=2, alpha=0.3, mew=0, color=all_fcolors[0])\n",
    "# ax[0].plot(paramLC_Pbest_r[rx], paramLC_Psnr_r[rx], 'o', ms=2, alpha=0.3, mew=0, color=all_fcolors[1])\n",
    "# ax[0].plot(paramLC_Pbest_i[ix], paramLC_Psnr_i[ix], 'o', ms=2, alpha=0.3, mew=0, color=all_fcolors[2])\n",
    "# ax[0].set_xlabel('best period')\n",
    "# ax[0].set_ylabel('best period \"SNR\"')\n",
    "\n",
    "# ax[1].plot(paramLC_Pbest_g[gx], paramLC_Ppwr_g[gx], 'o', ms=2, alpha=0.3, mew=0, color=all_fcolors[0])\n",
    "# ax[1].plot(paramLC_Pbest_r[rx], paramLC_Ppwr_r[rx], 'o', ms=2, alpha=0.3, mew=0, color=all_fcolors[1])\n",
    "# ax[1].plot(paramLC_Pbest_i[ix], paramLC_Ppwr_i[ix], 'o', ms=2, alpha=0.3, mew=0, color=all_fcolors[2])\n",
    "# ax[1].set_xlabel('best period')\n",
    "# ax[1].set_ylabel('best period power')\n",
    "\n",
    "# ax[2].plot(paramLC_Psnr_g[gx], paramLC_Ppwr_g[gx], 'o', ms=2, alpha=0.3, mew=0, color=all_fcolors[0])\n",
    "# ax[2].plot(paramLC_Psnr_r[rx], paramLC_Ppwr_r[rx], 'o', ms=2, alpha=0.3, mew=0, color=all_fcolors[1])\n",
    "# ax[2].plot(paramLC_Psnr_i[ix], paramLC_Ppwr_i[ix], 'o', ms=2, alpha=0.3, mew=0, color=all_fcolors[2])\n",
    "# ax[2].set_xlabel('best period \"SNR\"')\n",
    "# ax[2].set_ylabel('best period power')\n",
    "\n",
    "# plt.tight_layout()\n",
    "# plt.show()\n",
    "\n",
    "# del gx, rx, ix"
   ]
  },
  {
   "cell_type": "markdown",
   "id": "ae680f5e-1059-4dc7-a2dd-34642ae99fb5",
   "metadata": {},
   "source": [
    "How often do the results from different filters agree?"
   ]
  },
  {
   "cell_type": "code",
   "execution_count": null,
   "id": "d5106da1-b9ce-4f88-82ce-b7e9dc2a9ebc",
   "metadata": {
    "tags": []
   },
   "outputs": [],
   "source": [
    "# max_P = 365\n",
    "\n",
    "# fig, ax = plt.subplots(1, 3, figsize=(10, 3), sharex=False, sharey=False)\n",
    "\n",
    "# grx = np.where((paramLC_Pbest_g > 0.0) & (paramLC_Pbest_r > 0.0) & \n",
    "#                (paramLC_Pbest_g < max_P) & (paramLC_Pbest_r < max_P))[0]\n",
    "# rix = np.where((paramLC_Pbest_r > 0.0) & (paramLC_Pbest_i > 0.0) & \n",
    "#                (paramLC_Pbest_r < max_P) & (paramLC_Pbest_i < max_P))[0]\n",
    "# gix = np.where((paramLC_Pbest_g > 0.0) & (paramLC_Pbest_i > 0.0) & \n",
    "#                (paramLC_Pbest_g < max_P) & (paramLC_Pbest_i < max_P))[0]\n",
    "# del max_P\n",
    "\n",
    "# ax[0].hist2d(paramLC_Pbest_r[grx], paramLC_Pbest_g[grx], bins=20, cmap='Greys')\n",
    "# ax[0].set_xlabel('best period r')\n",
    "# ax[0].set_ylabel('best period g')\n",
    "\n",
    "# ax[1].hist2d(paramLC_Pbest_r[rix], paramLC_Pbest_i[rix], bins=20, cmap='Greys')\n",
    "# ax[1].set_xlabel('best period r')\n",
    "# ax[1].set_ylabel('best period i')\n",
    "\n",
    "# ax[2].hist2d(paramLC_Pbest_i[gix], paramLC_Pbest_g[gix], bins=20, cmap='Greys')\n",
    "# ax[2].set_xlabel('best period i')\n",
    "# ax[2].set_ylabel('best period g')\n",
    "\n",
    "# plt.tight_layout()\n",
    "# plt.show()\n",
    "\n",
    "# del grx, rix, gix"
   ]
  },
  {
   "cell_type": "markdown",
   "id": "6f433347-c369-49e1-8da2-87196134df6b",
   "metadata": {},
   "source": [
    "### Plot phase-folded light curves for periodic candidates\n",
    "\n",
    "Check out a few of the best, with the highest snr and powers,\n",
    "and periods less than the duration of the DDF to date."
   ]
  },
  {
   "cell_type": "code",
   "execution_count": null,
   "id": "7c6ad2e8-a8bd-4763-b404-87b620430a29",
   "metadata": {},
   "outputs": [],
   "source": [
    "# paramLC_Pbest_diffgr = np.abs(paramLC_Pbest_g - paramLC_Pbest_r)\n",
    "\n",
    "# # min_pwr = 0.4\n",
    "# # min_snr = 3.5\n",
    "# # min_diff = 20\n",
    "# # max_P = 800\n",
    "\n",
    "# min_pwr = 0.4\n",
    "# min_snr = 4.0\n",
    "# min_diff = 20\n",
    "# max_P = 365\n",
    "\n",
    "# gx = np.where((paramLC_Ppwr_g > min_pwr) \n",
    "#               & (paramLC_Psnr_g > min_snr) \n",
    "#               & (paramLC_Pbest_g < max_P))[0]\n",
    "# rx = np.where((paramLC_Ppwr_r > min_pwr) \n",
    "#               & (paramLC_Psnr_r > min_snr) \n",
    "#               & (paramLC_Pbest_r < max_P))[0]\n",
    "# print('Number of candidates that have well fit best periods in g OR r: ', len(gx), len(rx))\n",
    "# print(paramLC_candid[rx])\n",
    "# del gx, rx\n",
    "\n",
    "# print(' ')\n",
    "\n",
    "# gx = np.where((paramLC_Ppwr_g > min_pwr) & (paramLC_Psnr_g > min_snr) \n",
    "#               & (paramLC_Pbest_g < max_P) & (paramLC_Pbest_diffgr < min_diff))[0]\n",
    "# rx = np.where((paramLC_Ppwr_r > min_pwr) & (paramLC_Psnr_r > min_snr) \n",
    "#               & (paramLC_Pbest_r < max_P) & (paramLC_Pbest_diffgr < min_diff))[0]\n",
    "# print('Number of candidates that have well fit periods in g and r that match: ', len(gx), len(rx))\n",
    "\n",
    "# print(' ')\n",
    "\n",
    "# print('Candidates to explore the r-band light curves & phase-folded light curves')\n",
    "# print(paramLC_candid[rx])\n",
    "# usecands = paramLC_candid[rx]\n",
    "# del gx, rx"
   ]
  },
  {
   "cell_type": "markdown",
   "id": "2ca5d902-3592-4bc9-a9c1-ef9fe9f83d37",
   "metadata": {},
   "source": [
    "OK let's take a look at these."
   ]
  },
  {
   "cell_type": "code",
   "execution_count": null,
   "id": "fc7f3aa6-4cbc-43b1-a319-f26c2d6a9f45",
   "metadata": {
    "tags": []
   },
   "outputs": [],
   "source": [
    "# usefilt = 'r'\n",
    "# for cand in usecands:\n",
    "#     px = np.where(paramLC_candid == cand)[0]\n",
    "#     if usefilt == 'g':\n",
    "#         best_period = paramLC_Pbest_g[px[0]]\n",
    "#     if usefilt == 'r':\n",
    "#         best_period = paramLC_Pbest_r[px[0]]\n",
    "#     if usefilt == 'i':\n",
    "#         best_period = paramLC_Pbest_i[px[0]]\n",
    "    \n",
    "#     cx = np.where((candLC_candid == cand) & (candLC_filter == usefilt))[0]\n",
    "#     days = candLC_mjd[cx]\n",
    "#     mags = candLC_mag[cx]\n",
    "\n",
    "#     x = np.where(all_filters == usefilt)[0]\n",
    "#     sym = all_fshapes[x[0]]\n",
    "#     clr = all_fcolors[x[0]]\n",
    "    \n",
    "#     fig, ax = plt.subplots(1, 2, figsize=(4, 1), sharex=False, sharey=True)\n",
    "    \n",
    "#     ax[0].plot(days, mags, sym, ms=3, color=clr)\n",
    "#     ax[0].invert_yaxis()\n",
    "#     ax[0].set_xlabel('mjd')\n",
    "\n",
    "#     t0 = np.min(days)\n",
    "#     days_norm = (days - t0) / best_period\n",
    "#     phase = np.mod(days_norm, 1.0)\n",
    "\n",
    "#     ax[1].plot(phase, mags, sym, ms=3, color=clr)\n",
    "#     ax[1].set_xlabel('phase')\n",
    "#     # ax[1].invert_yaxis()\n",
    "\n",
    "#     ax[0].plot([t0, t0+best_period], [np.max(mags), np.max(mags)], lw=2, alpha=1, color='blue')\n",
    "    \n",
    "#     ax[0].set_title(paramLC_candid[px])\n",
    "#     tmp = ''\n",
    "#     if usefilt == 'g':\n",
    "#         tmp += str(np.round(paramLC_Pbest_g[px[0]], 0))\n",
    "#         tmp += ' ' + str(np.round(paramLC_Psnr_g[px[0]], 1))\n",
    "#         tmp += ' ' + str(np.round(paramLC_Ppwr_g[px[0]], 1))\n",
    "#     if usefilt == 'r':\n",
    "#         tmp += str(np.round(paramLC_Pbest_r[px[0]], 0))\n",
    "#         tmp += ' ' + str(np.round(paramLC_Psnr_r[px[0]], 1))\n",
    "#         tmp += ' ' + str(np.round(paramLC_Ppwr_r[px[0]], 1))\n",
    "#     if usefilt == 'i':\n",
    "#         tmp += str(np.round(paramLC_Pbest_i[px[0]], 0))\n",
    "#         tmp += ' ' + str(np.round(paramLC_Psnr_i[px[0]], 1))\n",
    "#         tmp += ' ' + str(np.round(paramLC_Ppwr_i[px[0]], 1))\n",
    "#     ax[1].set_title(tmp)\n",
    "\n",
    "#     del px, cx, best_period, days, mags\n",
    "#     del x, sym, clr\n",
    "#     del t0, days_norm, phase\n",
    "#     del tmp"
   ]
  },
  {
   "cell_type": "markdown",
   "id": "3c16cd33-cdc7-480c-8be7-627f8842b7a2",
   "metadata": {},
   "source": [
    "Above we can see that even our best periodograms are probably just wrong.\n",
    "\n",
    "Really need direct image magntidues, not just positive difference-image detections, to study stars.\n",
    "\n",
    "### Plots for the varstars with faint tractor r-band mags"
   ]
  }
 ],
 "metadata": {
  "kernelspec": {
   "display_name": "NERSC Python",
   "language": "python",
   "name": "python3"
  },
  "language_info": {
   "codemirror_mode": {
    "name": "ipython",
    "version": 3
   },
   "file_extension": ".py",
   "mimetype": "text/x-python",
   "name": "python",
   "nbconvert_exporter": "python",
   "pygments_lexer": "ipython3",
   "version": "3.11.7"
  }
 },
 "nbformat": 4,
 "nbformat_minor": 5
}
