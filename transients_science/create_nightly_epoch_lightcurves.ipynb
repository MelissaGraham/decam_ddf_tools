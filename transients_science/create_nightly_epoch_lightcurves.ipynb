{
 "cells": [
  {
   "cell_type": "markdown",
   "id": "28c1cc48-6771-4408-ad06-a0e7d28b8fbd",
   "metadata": {},
   "source": [
    "# Create Nightly Epoch Lightcurves\n",
    "\n",
    "Create nightly-epoch lightcurves for \"good\" candidates, to use as a starting sample for transient science with the DECam deep drilling field data.\n",
    "\n",
    "\"Good\" means at least 10 objects (detections in any filter) and a mean real-bogus score > 0.4 for all objects.\n",
    "\n",
    "Create output files in the same format as made by `candidate_nightly_epochs.ipynb`:\n",
    " * candidate_lightcurves.dat\n",
    " * candidate_lightcurve_parameters.dat\n",
    " "
   ]
  },
  {
   "cell_type": "markdown",
   "id": "2b94c879-d742-4837-8d71-8d42e52ee505",
   "metadata": {},
   "source": [
    "## 0. Set up\n",
    "\n",
    "Import packages and connect to database."
   ]
  },
  {
   "cell_type": "code",
   "execution_count": 33,
   "id": "c4406d08-04a5-47d0-aefe-07b2d282fb38",
   "metadata": {},
   "outputs": [],
   "source": [
    "import psycopg2\n",
    "import psycopg2.extras\n",
    "import getpass\n",
    "import pandas\n",
    "\n",
    "import os\n",
    "import numpy as np\n",
    "import matplotlib as mpl\n",
    "import matplotlib.pyplot as plt\n",
    "from astropy.time import Time\n",
    "\n",
    "from copy import deepcopy\n",
    "import time"
   ]
  },
  {
   "cell_type": "markdown",
   "id": "c53f27ef-d5fa-4bdb-9a84-91df853207ba",
   "metadata": {},
   "source": [
    "User decat_ro, in order to access `versiontags`."
   ]
  },
  {
   "cell_type": "code",
   "execution_count": 3,
   "id": "4c0c7461-8a81-49f7-aab9-a92ea944e81e",
   "metadata": {},
   "outputs": [
    {
     "name": "stdin",
     "output_type": "stream",
     "text": [
      "DB User:  decat_ro\n",
      "DB Password:  ········\n"
     ]
    }
   ],
   "source": [
    "dbuser = input(\"DB User: \")\n",
    "dbpasswd = getpass.getpass(\"DB Password: \")\n",
    "db = psycopg2.connect(f\"dbname='decat' user='{dbuser}' password='{dbpasswd}' host='decatdb.lbl.gov'\")"
   ]
  },
  {
   "cell_type": "code",
   "execution_count": 4,
   "id": "720566b7-15ab-476c-a13f-834924a69300",
   "metadata": {},
   "outputs": [],
   "source": [
    "db.autocommit = True\n",
    "cursor = db.cursor( cursor_factory = psycopg2.extras.DictCursor )"
   ]
  },
  {
   "cell_type": "markdown",
   "id": "3bc8c2f1-87c8-4d1e-80cb-faa825a525aa",
   "metadata": {},
   "source": [
    "If you want to print table schema."
   ]
  },
  {
   "cell_type": "code",
   "execution_count": null,
   "id": "f58e8a58-4585-4704-af10-9639033d203a",
   "metadata": {},
   "outputs": [],
   "source": [
    "# tables = ['versiontags','exposures','subtractions','images',\\\n",
    "#           'objects','objectrbs','objectdatas','objectdata_versiontag','candidates']\n",
    "# for table in tables:\n",
    "#     query = \"SELECT column_name, data_type FROM information_schema.columns WHERE table_name=%s\"\n",
    "#     cursor.execute( query, ( table, ))\n",
    "#     print( f\"\\nTABLE: {table}\\n===========================\" )\n",
    "#     for row in cursor:\n",
    "#         print( f\"{row['column_name']:24s}  :  {row['data_type']:s}\" )"
   ]
  },
  {
   "cell_type": "markdown",
   "id": "c4bc11af-d1aa-48b3-913e-ce8ff0f8aede",
   "metadata": {},
   "source": [
    "Things in the database are tagged with versions.\n",
    "This is because we might redo something, or we might try different subtraction algorithms.\n",
    "This might change in the future, but, at the moment everything that's in the database should be tagged with the \"latest\" tag, which means it was the last thing saved to the database."
   ]
  },
  {
   "cell_type": "code",
   "execution_count": 5,
   "id": "3694239b-31f3-488c-9c6f-c4a9c7bc66db",
   "metadata": {},
   "outputs": [
    {
     "name": "stdout",
     "output_type": "stream",
     "text": [
      "1\n"
     ]
    }
   ],
   "source": [
    "tag = \"latest\"\n",
    "db.rollback()\n",
    "q = ( \"SELECT id, tag FROM versiontags WHERE tag=%(tag)s\" )\n",
    "cursor.execute( q, { \"tag\": tag } )\n",
    "row = cursor.fetchone()\n",
    "tagid = row['id']\n",
    "print(tagid)"
   ]
  },
  {
   "cell_type": "markdown",
   "id": "a4699a12-a8d7-42a3-9c0f-8e47639e3dc5",
   "metadata": {},
   "source": [
    "## 1. Query\n",
    "\n",
    "Get all the objects in ELAIS and COSMOS fields.\n",
    "\n",
    "This takes about a minute."
   ]
  },
  {
   "cell_type": "code",
   "execution_count": 6,
   "id": "1c58e2d9-adca-40bd-8a9b-689807d4849f",
   "metadata": {},
   "outputs": [
    {
     "name": "stdout",
     "output_type": "stream",
     "text": [
      "CPU times: user 33.9 s, sys: 4.45 s, total: 38.3 s\n",
      "Wall time: 50.9 s\n"
     ]
    }
   ],
   "source": [
    "%%time\n",
    "q = (\"SELECT od.ra, od.dec, od.mag, od.magerr, rbs.rb, \"\n",
    "     \"i.filter, i.meanmjd, o.candidate_id, e.proposalid \"\n",
    "     \"FROM objectdatas AS od \"\n",
    "     \"INNER JOIN objectdata_versiontag AS odvt \"\n",
    "     \"ON od.id=odvt.objectdata_id AND odvt.versiontag_id=%(tagid)s \"\n",
    "     \"INNER JOIN objects AS o ON od.object_id=o.id \"\n",
    "     \"INNER JOIN images AS i ON o.image_id=i.id \"\n",
    "     \"INNER JOIN objectrbs as rbs ON od.id=rbs.objectdata_id AND rbs.rbtype_id=2 \"\n",
    "     \"INNER JOIN exposures AS e ON i.exposure_id=e.id \"\n",
    "     \"WHERE ((od.ra > 147.0 AND od.ra < 153.0 AND od.dec > -0.25 AND od.dec < 5) \"\n",
    "     \"OR (od.ra > 5.0 AND od.ra < 12.0 AND od.dec > -46 AND od.dec < -41)) \")\n",
    "cursor.execute(q, {'tagid': tagid})\n",
    "df = pandas.DataFrame(cursor.fetchall())"
   ]
  },
  {
   "cell_type": "markdown",
   "id": "3a1169e7-a68e-412a-a061-60385ac5d63e",
   "metadata": {},
   "source": [
    "Print total number of objects."
   ]
  },
  {
   "cell_type": "code",
   "execution_count": 7,
   "id": "ece3ad5f-0cfb-4861-b3c0-f7cee73499ca",
   "metadata": {},
   "outputs": [
    {
     "name": "stdout",
     "output_type": "stream",
     "text": [
      "3828261\n"
     ]
    }
   ],
   "source": [
    "print(len(df))"
   ]
  },
  {
   "cell_type": "markdown",
   "id": "127c0283-0ba7-4d8d-8c22-257db6c720ac",
   "metadata": {},
   "source": [
    "Put the objects into numpy arrays."
   ]
  },
  {
   "cell_type": "code",
   "execution_count": 8,
   "id": "ae5e6b80-fdc6-4fe7-9add-c92ce6bafbbd",
   "metadata": {},
   "outputs": [],
   "source": [
    "raw_obj_ra     = np.asarray(df[0], dtype='float')\n",
    "raw_obj_dec    = np.asarray(df[1], dtype='float')\n",
    "raw_obj_mag    = np.asarray(df[2], dtype='float')\n",
    "raw_obj_mage   = np.asarray(df[3], dtype='float')\n",
    "raw_obj_rb     = np.asarray(df[4], dtype='float')\n",
    "raw_obj_filt   = np.asarray(df[5], dtype='str')\n",
    "raw_obj_mjd    = np.asarray(df[6], dtype='float')\n",
    "raw_obj_candid = np.asarray(df[7], dtype='str')\n",
    "raw_obj_propid = np.asarray(df[8], dtype='str')\n",
    "del df"
   ]
  },
  {
   "cell_type": "markdown",
   "id": "6d34f752-0c7d-45b3-a473-e4aefef35bcd",
   "metadata": {},
   "source": [
    "## 2. Identify good candidates only\n",
    "\n",
    "The unique candidates for these objects."
   ]
  },
  {
   "cell_type": "code",
   "execution_count": 9,
   "id": "b5487cfb-bde6-45e0-991c-818764501a15",
   "metadata": {},
   "outputs": [],
   "source": [
    "values, indices, inverse, counts = np.unique(raw_obj_candid, return_index=True, return_inverse=True,  return_counts=True)"
   ]
  },
  {
   "cell_type": "code",
   "execution_count": 10,
   "id": "8fe98959-d5d2-4bbf-98c5-0e4d857c3a8c",
   "metadata": {},
   "outputs": [
    {
     "name": "stdout",
     "output_type": "stream",
     "text": [
      "len(values), len(indices), len(inverse), len(counts) 1367538 1367538 3828261 1367538\n",
      " \n",
      "On average, 2.80 objects per candidate\n"
     ]
    }
   ],
   "source": [
    "print('len(values), len(indices), len(inverse), len(counts)', len(values), len(indices), len(inverse), len(counts))\n",
    "print(' ')\n",
    "print('On average, %4.2f objects per candidate' % (len(raw_obj_candid)/len(values)))"
   ]
  },
  {
   "cell_type": "code",
   "execution_count": 11,
   "id": "d23b7477-776f-4835-9583-d79f7dce3133",
   "metadata": {},
   "outputs": [
    {
     "data": {
      "image/png": "[encoded data removed]",
      "text/plain": [
       "<Figure size 432x288 with 1 Axes>"
      ]
     },
     "metadata": {
      "needs_background": "light"
     },
     "output_type": "display_data"
    }
   ],
   "source": [
    "hist = plt.hist(np.log10(counts), bins=100, log=True)\n",
    "plt.show()"
   ]
  },
  {
   "cell_type": "code",
   "execution_count": 12,
   "id": "824e48c8-0546-4f12-93b2-87a06684d129",
   "metadata": {},
   "outputs": [
    {
     "name": "stdout",
     "output_type": "stream",
     "text": [
      "1155445.0\n"
     ]
    }
   ],
   "source": [
    "print(hist[0][0])"
   ]
  },
  {
   "cell_type": "code",
   "execution_count": 13,
   "id": "0f297425-6559-4d9f-8226-c9b86e8f176e",
   "metadata": {},
   "outputs": [
    {
     "name": "stdout",
     "output_type": "stream",
     "text": [
      "1155445\n"
     ]
    }
   ],
   "source": [
    "dx = np.where(counts[inverse] == 1)[0]\n",
    "print(len(dx))"
   ]
  },
  {
   "cell_type": "markdown",
   "id": "11d6e0bf-981b-4521-b005-3266a6a0166e",
   "metadata": {},
   "source": [
    "<br> \n",
    "\n",
    "Delete all objects of candidates with less than 10 objects.\n",
    "\n",
    "Making the object arrays smaller speeds up the processing later on."
   ]
  },
  {
   "cell_type": "code",
   "execution_count": 14,
   "id": "351ef555-7249-4196-9f3c-0aeef573a155",
   "metadata": {},
   "outputs": [
    {
     "name": "stdout",
     "output_type": "stream",
     "text": [
      "1629413\n"
     ]
    }
   ],
   "source": [
    "dx = np.where(counts[inverse] < 10)[0]\n",
    "print(len(dx))"
   ]
  },
  {
   "cell_type": "code",
   "execution_count": 15,
   "id": "201ccfb8-34b0-43b5-9da4-7e6a9f429df9",
   "metadata": {},
   "outputs": [],
   "source": [
    "obj_ra     = np.delete(raw_obj_ra, dx)\n",
    "obj_dec    = np.delete(raw_obj_dec, dx)\n",
    "obj_mag    = np.delete(raw_obj_mag, dx)\n",
    "obj_mage   = np.delete(raw_obj_mage, dx)\n",
    "obj_rb     = np.delete(raw_obj_rb, dx)\n",
    "obj_filt   = np.delete(raw_obj_filt, dx)\n",
    "obj_mjd    = np.delete(raw_obj_mjd, dx)\n",
    "obj_candid = np.delete(raw_obj_candid, dx)\n",
    "obj_propid = np.delete(raw_obj_propid, dx)\n",
    "del dx\n",
    "del values, indices, counts"
   ]
  },
  {
   "cell_type": "code",
   "execution_count": 19,
   "id": "7e8a3335-163f-4195-bfa8-9468e530c524",
   "metadata": {},
   "outputs": [],
   "source": [
    "values, indices, inverse, counts = np.unique(obj_candid, return_index=True, return_inverse=True, return_counts=True)"
   ]
  },
  {
   "cell_type": "code",
   "execution_count": 20,
   "id": "f61a3fbe-1dc3-4b82-88dd-b8108295e207",
   "metadata": {},
   "outputs": [
    {
     "name": "stdout",
     "output_type": "stream",
     "text": [
      "len(values), len(indices), len(inverse), len(counts) 35317 35317 2198848 35317\n",
      " \n",
      "On average, 62.26 objects per candidate\n"
     ]
    }
   ],
   "source": [
    "print('len(values), len(indices), len(inverse), len(counts)', len(values), len(indices), len(inverse), len(counts))\n",
    "print(' ')\n",
    "print('On average, %4.2f objects per candidate' % (len(obj_candid)/len(values)))"
   ]
  },
  {
   "cell_type": "code",
   "execution_count": 21,
   "id": "eb14eded-0776-421a-8877-2a91084b774d",
   "metadata": {},
   "outputs": [
    {
     "data": {
      "image/png": "[encoded data removed]",
      "text/plain": [
       "<Figure size 432x288 with 1 Axes>"
      ]
     },
     "metadata": {
      "needs_background": "light"
     },
     "output_type": "display_data"
    }
   ],
   "source": [
    "plt.hist(np.log10(counts), bins=100, log=True)\n",
    "plt.show()"
   ]
  },
  {
   "cell_type": "markdown",
   "id": "9c5a93e0-4fa9-4bf9-9719-1ba26e12e18d",
   "metadata": {},
   "source": [
    "Calculate the mean real-bogus for all remaining candidates."
   ]
  },
  {
   "cell_type": "code",
   "execution_count": 24,
   "id": "d3a50988-a8c4-4769-8843-e4d61fcf6454",
   "metadata": {},
   "outputs": [],
   "source": [
    "cand_id = values\n",
    "cand_nob = counts\n",
    "cand_mrb = np.zeros(len(cand_id), dtype='float')"
   ]
  },
  {
   "cell_type": "code",
   "execution_count": 25,
   "id": "0aaadc86-5de1-4754-affa-5ade8c27ebe9",
   "metadata": {},
   "outputs": [
    {
     "name": "stdout",
     "output_type": "stream",
     "text": [
      "100 1.560276746749878 sec\n",
      "1000 13.634588241577148 sec\n",
      "10000 121.94928550720215 sec\n",
      "CPU times: user 6min 42s, sys: 145 ms, total: 6min 42s\n",
      "Wall time: 6min 42s\n"
     ]
    }
   ],
   "source": [
    "%%time\n",
    "t0 = time.time()\n",
    "for c, cid in enumerate(cand_id):\n",
    "    if (c == 100) | (c == 1000) | (c == 10000):\n",
    "        t1 = time.time()\n",
    "        print(c, t1 - t0, 'sec')\n",
    "    cx = np.where(obj_candid == cid)[0]\n",
    "    cand_nob[c] = len(cx)\n",
    "    cand_mrb[c] = np.nanmean(obj_rb[cx])\n",
    "    del cx"
   ]
  },
  {
   "cell_type": "code",
   "execution_count": 26,
   "id": "0cfbddcf-6661-4d87-a61f-7587cd2eacd2",
   "metadata": {},
   "outputs": [
    {
     "name": "stdout",
     "output_type": "stream",
     "text": [
      "29967\n"
     ]
    }
   ],
   "source": [
    "dx = np.where(cand_mrb < 0.4)[0]\n",
    "print(len(dx))"
   ]
  },
  {
   "cell_type": "code",
   "execution_count": 27,
   "id": "ce49e43d-d6a4-44a2-9849-6e56bfdf3057",
   "metadata": {},
   "outputs": [],
   "source": [
    "cand_ids = np.delete(cand_id, dx)\n",
    "cand_nobjs = np.delete(cand_nob, dx)\n",
    "cand_meanrb = np.delete(cand_mrb, dx)"
   ]
  },
  {
   "cell_type": "code",
   "execution_count": 28,
   "id": "f1898123-418d-45d7-baa6-4e791742fb80",
   "metadata": {},
   "outputs": [
    {
     "name": "stdout",
     "output_type": "stream",
     "text": [
      "5350\n"
     ]
    }
   ],
   "source": [
    "print(len(cand_ids))"
   ]
  },
  {
   "cell_type": "markdown",
   "id": "5f579eb7-0d83-45a5-bae4-a5319da7eedd",
   "metadata": {},
   "source": [
    "## 3. Make the lightcurve files for good objects"
   ]
  },
  {
   "cell_type": "code",
   "execution_count": 34,
   "id": "9a45bedf-c26c-4329-96b4-97417a9b0af3",
   "metadata": {},
   "outputs": [],
   "source": [
    "times = ['2021-02-01T00:00:00',\n",
    "         '2021-08-01T00:00:00',\n",
    "         '2022-02-01T00:00:00',\n",
    "         '2022-08-01T00:00:00',\n",
    "         '2023-02-01T00:00:00']\n",
    "t = Time(times, format='isot', scale='utc')"
   ]
  },
  {
   "cell_type": "code",
   "execution_count": 36,
   "id": "c3833e97-67cf-4107-ae16-c3a7fb0d6cd7",
   "metadata": {},
   "outputs": [
    {
     "data": {
      "text/plain": [
       "array([59246., 59427., 59611., 59792., 59976.])"
      ]
     },
     "execution_count": 36,
     "metadata": {},
     "output_type": "execute_result"
    }
   ],
   "source": [
    "t.mjd"
   ]
  },
  {
   "cell_type": "code",
   "execution_count": 38,
   "id": "fdec3e07-e9d8-4df7-ba7a-cdbe742c017e",
   "metadata": {},
   "outputs": [
    {
     "data": {
      "image/png": "[encoded data removed]",
      "text/plain": [
       "<Figure size 432x288 with 1 Axes>"
      ]
     },
     "metadata": {
      "needs_background": "light"
     },
     "output_type": "display_data"
    }
   ],
   "source": [
    "plt.hist(obj_mjd, bins=100)\n",
    "for mjd in t.mjd:\n",
    "    plt.axvline(mjd, color='magenta')\n",
    "plt.show()"
   ]
  },
  {
   "cell_type": "code",
   "execution_count": 39,
   "id": "6a149266-784e-4193-804e-494b4ecff8f6",
   "metadata": {},
   "outputs": [
    {
     "data": {
      "image/png": "[encoded data removed]",
      "text/plain": [
       "<Figure size 432x288 with 1 Axes>"
      ]
     },
     "metadata": {
      "needs_background": "light"
     },
     "output_type": "display_data"
    }
   ],
   "source": [
    "plt.plot(obj_mjd, obj_rb, 'o', ms=1, alpha=0.1, mew=0)\n",
    "for mjd in t.mjd:\n",
    "    plt.axvline(mjd, color='magenta')"
   ]
  },
  {
   "cell_type": "code",
   "execution_count": null,
   "id": "f1626449-bd67-4857-b31a-b78f9c2a5bf4",
   "metadata": {},
   "outputs": [],
   "source": []
  }
 ],
 "metadata": {
  "kernelspec": {
   "display_name": "NERSC Python",
   "language": "python",
   "name": "python3"
  },
  "language_info": {
   "codemirror_mode": {
    "name": "ipython",
    "version": 3
   },
   "file_extension": ".py",
   "mimetype": "text/x-python",
   "name": "python",
   "nbconvert_exporter": "python",
   "pygments_lexer": "ipython3",
   "version": "3.9.7"
  }
 },
 "nbformat": 4,
 "nbformat_minor": 5
}
