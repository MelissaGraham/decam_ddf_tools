{
 "cells": [
  {
   "cell_type": "markdown",
   "id": "c2b9aee3-5bb1-4d74-80f4-30bff9feb40b",
   "metadata": {},
   "source": [
    "# Create Potential Fast Transient List\n",
    "\n",
    "Author: Melissa Graham & Midori Rollins\n",
    "\n",
    "Identify potential AGN from the \"good\" candidates created for all of the DDF.\n",
    "\n",
    "Write the list of potential SNIa to `potential_AGN_list.txt`.\n",
    "\n",
    "Criteria for generating list of AGN:\n",
    "- variability RMS (TBD)\n",
    "- structure function (TBD)\n",
    "- long duration (>150 days)\n",
    "\n",
    "\n",
    "Save the plot of every potential SNIa lightcurve in the folder `all_potential_AGN_plots/`.\n",
    "\n",
    "## Set up and read in data"
   ]
  },
  {
   "cell_type": "code",
   "execution_count": 1,
   "id": "6cec51b4-de91-40ac-8dc1-a40c7b27fafb",
   "metadata": {
    "tags": []
   },
   "outputs": [],
   "source": [
    "import os\n",
    "import numpy as np\n",
    "import matplotlib as mpl\n",
    "import matplotlib.pyplot as plt\n",
    "# import pandas as pd\n",
    "\n",
    "# from copy import deepcopy\n",
    "import time"
   ]
  },
  {
   "cell_type": "code",
   "execution_count": 2,
   "id": "977c6547-741b-4289-b8fa-85fd8741eb43",
   "metadata": {
    "tags": []
   },
   "outputs": [],
   "source": [
    "clr = ['darkgreen', 'firebrick', 'saddlebrown', 'limegreen', 'orange', 'lightcoral']\n",
    "\n",
    "all_filters = ['g','r','i']\n",
    "all_fcolors = ['green','red','blue']\n",
    "all_fshapes = ['o','s','^']\n",
    "all_fsizes  = [5, 5, 7]"
   ]
  },
  {
   "cell_type": "code",
   "execution_count": 3,
   "id": "33cd64d3-84dd-42be-9431-c219162843b9",
   "metadata": {
    "tags": []
   },
   "outputs": [],
   "source": [
    "all_filters = ['g', 'r', 'i']\n",
    "clr = ['darkgreen', 'firebrick', 'saddlebrown', 'limegreen', 'orange', 'lightcoral']\n",
    "sym = ['o', 's', '^', 'o', 's', '^']\n",
    "siz = [5, 5, 7, 5, 5, 7]"
   ]
  },
  {
   "cell_type": "code",
   "execution_count": 5,
   "id": "648d57bd-0c9b-4078-a253-df49ab7d51f2",
   "metadata": {
    "tags": []
   },
   "outputs": [],
   "source": [
    "fnm = '../../transients_science/all_nightly_epochs_files/candidate_lightcurves.dat'\n",
    "\n",
    "candLC_field = np.loadtxt(fnm, dtype='str', usecols=(0))\n",
    "candLC_candid = np.loadtxt(fnm, dtype='str', usecols=(1))\n",
    "candLC_caldate = np.loadtxt(fnm, dtype='str', usecols=(2))\n",
    "candLC_mjd = np.loadtxt(fnm, dtype='float', usecols=(3))\n",
    "candLC_filter = np.loadtxt(fnm, dtype='str', usecols=(4))\n",
    "candLC_Nobj = np.loadtxt(fnm, dtype='int', usecols=(5))\n",
    "candLC_mag = np.loadtxt(fnm, dtype='float', usecols=(6))\n",
    "candLC_mage = np.loadtxt(fnm, dtype='float', usecols=(7))\n",
    "candLC_mrb = np.loadtxt(fnm, dtype='float', usecols=(8))\n",
    "candLC_lef = np.loadtxt(fnm, dtype='float', usecols=(9))\n",
    "\n",
    "del fnm"
   ]
  },
  {
   "cell_type": "code",
   "execution_count": 6,
   "id": "eb87ab4a-d309-4d61-9409-c60091fbbe5f",
   "metadata": {
    "tags": []
   },
   "outputs": [],
   "source": [
    "fnm = '../../transients_science/all_nightly_epochs_files/candidate_lightcurve_parameters.dat'\n",
    "\n",
    "paramLC_field = np.loadtxt( fnm, dtype='str', usecols=(0) )\n",
    "paramLC_candid = np.loadtxt( fnm, dtype='str', usecols=(1) )\n",
    "paramLC_tspan = np.loadtxt( fnm, dtype='float', usecols=(2) )\n",
    "paramLC_tspan_g = np.loadtxt( fnm, dtype='float', usecols=(3) )\n",
    "paramLC_tspan_r = np.loadtxt( fnm, dtype='float', usecols=(4) )\n",
    "paramLC_tspan_i = np.loadtxt( fnm, dtype='float', usecols=(5) )\n",
    "paramLC_minmag = np.loadtxt( fnm, dtype='float', usecols=(6) )\n",
    "paramLC_minmag_g = np.loadtxt( fnm, dtype='float', usecols=(7) )\n",
    "paramLC_minmag_r = np.loadtxt( fnm, dtype='float', usecols=(8) )\n",
    "paramLC_minmag_i = np.loadtxt( fnm, dtype='float', usecols=(9) )\n",
    "paramLC_amp = np.loadtxt( fnm, dtype='float', usecols=(10) )\n",
    "paramLC_amp_g = np.loadtxt( fnm, dtype='float', usecols=(11) )\n",
    "paramLC_amp_r = np.loadtxt( fnm, dtype='float', usecols=(12) )\n",
    "paramLC_amp_i = np.loadtxt( fnm, dtype='float', usecols=(13) )\n",
    "paramLC_neps = np.loadtxt( fnm, dtype='int', usecols=(14) )\n",
    "paramLC_neps_g = np.loadtxt( fnm, dtype='int', usecols=(15) )\n",
    "paramLC_neps_r = np.loadtxt( fnm, dtype='int', usecols=(16) )\n",
    "paramLC_neps_i = np.loadtxt( fnm, dtype='int', usecols=(17) )\n",
    "\n",
    "del fnm"
   ]
  },
  {
   "cell_type": "code",
   "execution_count": 7,
   "id": "3490bbc0-34dc-4899-8704-8c907d4ed467",
   "metadata": {
    "tags": []
   },
   "outputs": [
    {
     "name": "stdout",
     "output_type": "stream",
     "text": [
      "Number of potential fast transients in COSMOS:  172\n",
      "Number of potential fast transients in ELAIS:  130\n"
     ]
    }
   ],
   "source": [
    "tx = np.where((((paramLC_field == 'COSMOS') & (paramLC_tspan_g >= 150)) &\n",
    "              ((paramLC_tspan_r >= 150) & (paramLC_tspan_i >= 150))) &\n",
    "              ((paramLC_minmag_g < 22) | (paramLC_minmag_r < 22) | (paramLC_minmag_i < 22)) &\n",
    "              ((paramLC_amp_g <= 3) | (paramLC_amp_r <= 3) | (paramLC_amp_i <= 3)) &\n",
    "              ((paramLC_neps >= 20)))[0]\n",
    "print('Number of potential fast transients in COSMOS: ',len(tx))\n",
    "del tx\n",
    "tx = np.where((((paramLC_field == 'ELAIS') & (paramLC_tspan_g >= 150)) &\n",
    "              ((paramLC_tspan_r >= 150) & (paramLC_tspan_i >= 150))) &\n",
    "              ((paramLC_minmag_g < 22) | (paramLC_minmag_r < 22) | (paramLC_minmag_i < 22)) &\n",
    "              ((paramLC_amp_g <= 3) | (paramLC_amp_r <= 3) | (paramLC_amp_i <= 3)) &\n",
    "              ((paramLC_neps >= 20)))[0]\n",
    "print('Number of potential fast transients in ELAIS: ',len(tx))\n",
    "del tx"
   ]
  },
  {
   "cell_type": "code",
   "execution_count": null,
   "id": "fb443cc1-c8e0-4090-b7a0-bfdc3168d599",
   "metadata": {},
   "outputs": [],
   "source": []
  },
  {
   "cell_type": "code",
   "execution_count": null,
   "id": "9126f12e-c9ea-43e4-8e05-d5e61e531b78",
   "metadata": {},
   "outputs": [],
   "source": []
  },
  {
   "cell_type": "code",
   "execution_count": null,
   "id": "b8198b34-777d-4eff-b152-70d9e23a4359",
   "metadata": {},
   "outputs": [],
   "source": []
  }
 ],
 "metadata": {
  "kernelspec": {
   "display_name": "NERSC Python",
   "language": "python",
   "name": "python3"
  },
  "language_info": {
   "codemirror_mode": {
    "name": "ipython",
    "version": 3
   },
   "file_extension": ".py",
   "mimetype": "text/x-python",
   "name": "python",
   "nbconvert_exporter": "python",
   "pygments_lexer": "ipython3",
   "version": "3.11.6"
  }
 },
 "nbformat": 4,
 "nbformat_minor": 5
}
