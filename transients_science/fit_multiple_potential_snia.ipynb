{
 "cells": [
  {
   "cell_type": "markdown",
   "id": "78028554-e03f-43d8-ade8-eae961e01340",
   "metadata": {},
   "source": [
    "# Fit multiple potential SNIa with `sncosmo`"
   ]
  },
  {
   "cell_type": "markdown",
   "id": "2eb32894-aa32-441a-9681-f10e255bb987",
   "metadata": {},
   "source": [
    "Import packages."
   ]
  },
  {
   "cell_type": "code",
   "execution_count": 1,
   "id": "2c159a03-6baf-4cfc-ae6d-066fb60a0d4b",
   "metadata": {},
   "outputs": [
    {
     "name": "stderr",
     "output_type": "stream",
     "text": [
      "WARNING: AstropyDeprecationWarning: The update_default_config function is deprecated and may be removed in a future version. [sncosmo]\n",
      "/global/common/software/nersc/cori-2022q1/sw/python/3.9-anaconda-2021.11/lib/python3.9/site-packages/scipy/__init__.py:146: UserWarning: A NumPy version >=1.16.5 and <1.23.0 is required for this version of SciPy (detected version 1.24.2\n",
      "  warnings.warn(f\"A NumPy version >={np_minversion} and <{np_maxversion}\"\n"
     ]
    }
   ],
   "source": [
    "import sncosmo\n",
    "import iminuit\n",
    "import numpy as np"
   ]
  },
  {
   "cell_type": "markdown",
   "id": "c31530c8-7045-40c4-8de9-de7dfb4f3076",
   "metadata": {},
   "source": [
    "Define the  model for `sncosmo`."
   ]
  },
  {
   "cell_type": "code",
   "execution_count": 7,
   "id": "38c35619-bfb9-49bb-ab6d-71c70fc2a15f",
   "metadata": {},
   "outputs": [],
   "source": [
    "model = sncosmo.Model(source='salt2')"
   ]
  },
  {
   "cell_type": "markdown",
   "id": "28391c11-cd22-4e68-9067-ceceb894624d",
   "metadata": {},
   "source": [
    "Read in the nightly epoch lightcurves for all \"good\" candidates from 2021."
   ]
  },
  {
   "cell_type": "code",
   "execution_count": 2,
   "id": "ebdd121f-d80e-454a-b8c9-77fd1c1cd4ba",
   "metadata": {},
   "outputs": [],
   "source": [
    "path = '../extragalactic_fields/candidate_nightly_epochs_files/'\n",
    "fnm = path + 'candidate_lightcurves.dat'\n",
    "candLC_field   = np.loadtxt(fnm, dtype='str', usecols=(0))\n",
    "candLC_candid  = np.loadtxt(fnm, dtype='str', usecols=(1))\n",
    "candLC_caldate = np.loadtxt(fnm, dtype='str', usecols=(2))\n",
    "candLC_mjd     = np.loadtxt(fnm, dtype='float', usecols=(3))\n",
    "candLC_filter  = np.loadtxt(fnm, dtype='str', usecols=(4))\n",
    "candLC_Nobj    = np.loadtxt(fnm, dtype='int', usecols=(5))\n",
    "candLC_mag     = np.loadtxt(fnm, dtype='float', usecols=(6))\n",
    "candLC_mage    = np.loadtxt(fnm, dtype='float', usecols=(7))\n",
    "candLC_mrb     = np.loadtxt(fnm, dtype='float', usecols=(8))\n",
    "candLC_maglim  = np.loadtxt(fnm, dtype='float', usecols=(9))\n",
    "del fnm"
   ]
  },
  {
   "cell_type": "markdown",
   "id": "5035e13f-1a58-4dca-9e51-97b140f9408e",
   "metadata": {},
   "source": [
    "Read in the list of candidate IDs for potential SNIa that Melissa made with the MLG_snia_menagerie.ipynb notebook."
   ]
  },
  {
   "cell_type": "code",
   "execution_count": 3,
   "id": "38d43aa0-46c7-4a1b-bd13-b35cd97e4c1d",
   "metadata": {},
   "outputs": [],
   "source": [
    "path = '../extragalactic_fields/science_with_candidates/MLG_snia_menagerie_files/'\n",
    "fnm = path + 'potential_snia_list.dat'\n",
    "potSNIa_candid = np.loadtxt(fnm, dtype='str', usecols=(0))\n",
    "del fnm"
   ]
  },
  {
   "cell_type": "code",
   "execution_count": 12,
   "id": "78d6a201-7204-41fa-9ffa-3776e303480a",
   "metadata": {},
   "outputs": [],
   "source": [
    "# print(potSNIa_candid)"
   ]
  },
  {
   "cell_type": "markdown",
   "id": "8422a852-71b5-4912-8f55-eae30d22f8f4",
   "metadata": {},
   "source": [
    "Define arrays to hold their fit results."
   ]
  },
  {
   "cell_type": "code",
   "execution_count": 9,
   "id": "697a534f-b1d8-4dd0-9172-b5ca4a06dc5e",
   "metadata": {},
   "outputs": [],
   "source": [
    "fit_z   = np.zeros(len(potSNIa_candid), dtype='float')\n",
    "fit_ze  = np.zeros(len(potSNIa_candid), dtype='float') \n",
    "fit_t0  = np.zeros(len(potSNIa_candid), dtype='float')\n",
    "fit_t0e = np.zeros(len(potSNIa_candid), dtype='float')\n",
    "fit_x0  = np.zeros(len(potSNIa_candid), dtype='float')\n",
    "fit_x0e = np.zeros(len(potSNIa_candid), dtype='float')\n",
    "fit_x1  = np.zeros(len(potSNIa_candid), dtype='float')\n",
    "fit_x1e = np.zeros(len(potSNIa_candid), dtype='float')\n",
    "fit_c   = np.zeros(len(potSNIa_candid), dtype='float')\n",
    "fit_ce  = np.zeros(len(potSNIa_candid), dtype='float')"
   ]
  },
  {
   "cell_type": "markdown",
   "id": "e87213a3-df12-4c08-93b0-19ff653eff9b",
   "metadata": {},
   "source": [
    "Run `sncosmo` for just 5 of the potential SNIa for now."
   ]
  },
  {
   "cell_type": "code",
   "execution_count": 10,
   "id": "4da1187d-e328-4cb3-be82-7324ecb7b09c",
   "metadata": {},
   "outputs": [],
   "source": [
    "for c in range(5):\n",
    "\n",
    "    # identify the lightcurve points for this candidate\n",
    "    tx = np.where(candLC_candid == potSNIa_candid[c])[0]\n",
    "    \n",
    "    # write the lightcurve to a temporary file\n",
    "    fout = open('tempLC.txt', 'w')\n",
    "    fout.write('     time      band       flux         fluxerr      zp  zpsys \\n')\n",
    "    # fout.write('------------- ----- --------------- -------------- ---- ----- \\n')\n",
    "    for x in tx:\n",
    "        if np.isfinite(candLC_mag[x]):\n",
    "            flux = 10.0**((candLC_mag[x] - 25.0)/(-2.5))\n",
    "            fluxhi = 10.0**(((candLC_mag[x]-candLC_mage[x]) - 25.0)/(-2.5))\n",
    "            fluxe = fluxhi - flux\n",
    "            fout.write('%13.4f %5s %15.7f %14.7f  25.  ab \\n' % \\\n",
    "                       (candLC_mjd[x], 'sdss'+candLC_filter[x], flux, fluxe))\n",
    "    fout.close()\n",
    "    \n",
    "    del tx\n",
    "    \n",
    "    # read the file with sncosmo\n",
    "    data = sncosmo.read_lc('tempLC.txt')\n",
    "    \n",
    "    # do the fit like the example with sncosmo\n",
    "    result, fitted_model = sncosmo.fit_lc(data, model,\n",
    "                                          ['z', 't0', 'x0', 'x1', 'c'],\n",
    "                                          bounds={'z':(0.3, 0.7)})\n",
    "    \n",
    "    params = result['parameters']\n",
    "    errors = result['errors']\n",
    "    fit_z[c]  = params[0]\n",
    "    fit_t0[c] = params[1]\n",
    "    fit_x0[c] = params[2]\n",
    "    fit_x1[c] = params[3]\n",
    "    fit_c[c]  = params[4]\n",
    "    fit_ze[c]  = errors['z']\n",
    "    fit_t0e[c] = errors['t0']\n",
    "    fit_x0e[c] = errors['x0']\n",
    "    fit_x1e[c] = errors['x1']\n",
    "    fit_ce[c]  = errors['c']\n",
    "    "
   ]
  },
  {
   "cell_type": "markdown",
   "id": "a999268c-bf4c-406c-ad74-40146d0f8b14",
   "metadata": {},
   "source": [
    "See how the results arrays are populated."
   ]
  },
  {
   "cell_type": "code",
   "execution_count": 11,
   "id": "dde68cbd-d72c-4e8c-a2d9-a075fa26b726",
   "metadata": {},
   "outputs": [
    {
     "name": "stdout",
     "output_type": "stream",
     "text": [
      "[0.41130085 0.50496126 0.32988932 0.55752008 0.50659747 0.\n",
      " 0.         0.         0.         0.         0.         0.\n",
      " 0.         0.         0.         0.         0.         0.\n",
      " 0.         0.         0.         0.         0.         0.\n",
      " 0.         0.         0.         0.         0.         0.\n",
      " 0.         0.         0.         0.         0.         0.\n",
      " 0.         0.         0.         0.         0.         0.\n",
      " 0.         0.         0.         0.         0.         0.\n",
      " 0.         0.         0.        ]\n"
     ]
    }
   ],
   "source": [
    "print(fit_z)"
   ]
  },
  {
   "cell_type": "markdown",
   "id": "87e1ae9a-0b9a-4304-92a5-96eac68f99d6",
   "metadata": {},
   "source": [
    "Yup OK, looks like the basic process above is going to work OK.\n",
    "\n",
    "**TO DO!!**\n",
    "\n",
    "Add a step to the fitting process abobe that involves estimating the likely redshift range for the SNIa from its peak brightness, and then using that smaller range for the boundaries in the `sncosmo.fit_lc()` command.\n",
    "\n",
    "Then do the fit for ALL the potential SNIa, not just 5.\n",
    "\n",
    "Then, explore their results. You can make plots of the distributions of values, compare relations between values, look at which potential SNIa have big errors. "
   ]
  },
  {
   "cell_type": "code",
   "execution_count": null,
   "id": "175a0441-b284-435d-a747-8cf15a49aea7",
   "metadata": {},
   "outputs": [],
   "source": []
  }
 ],
 "metadata": {
  "kernelspec": {
   "display_name": "NERSC Python",
   "language": "python",
   "name": "python3"
  },
  "language_info": {
   "codemirror_mode": {
    "name": "ipython",
    "version": 3
   },
   "file_extension": ".py",
   "mimetype": "text/x-python",
   "name": "python",
   "nbconvert_exporter": "python",
   "pygments_lexer": "ipython3",
   "version": "3.9.7"
  }
 },
 "nbformat": 4,
 "nbformat_minor": 5
}
