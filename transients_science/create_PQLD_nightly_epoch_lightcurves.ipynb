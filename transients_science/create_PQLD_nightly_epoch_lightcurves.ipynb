{
 "cells": [
  {
   "cell_type": "markdown",
   "id": "28c1cc48-6771-4408-ad06-a0e7d28b8fbd",
   "metadata": {},
   "source": [
    "# Create PQLD Nightly Epoch Lightcurves\n",
    "\n",
    "PQLD = poor quality long duration\n",
    "\n",
    "Contact: Melissa Graham\n",
    "\n",
    "This notebook focuses on the candidates left behind which might still be useful:\n",
    "poor quality (poor real/bogus scores) long-duration (repeated detections, less likely to be spurious).\n",
    "\n",
    "PQLD candidates have >20 objects and a mean R/B score < 0.4. \n",
    "\n",
    "Results files:\n",
    " * all_nightly_epochs_files/PQLD_candidate_lightcurves.dat\n",
    " * all_nightly_epochs_files/PQLD_candidate_lightcurve_parameters.dat \n",
    "\n",
    "Columns are described in the file headers."
   ]
  },
  {
   "cell_type": "markdown",
   "id": "2b94c879-d742-4837-8d71-8d42e52ee505",
   "metadata": {},
   "source": [
    "## 0. Set up\n",
    "\n",
    "Import packages and connect to database."
   ]
  },
  {
   "cell_type": "code",
   "execution_count": 1,
   "id": "c4406d08-04a5-47d0-aefe-07b2d282fb38",
   "metadata": {},
   "outputs": [],
   "source": [
    "import psycopg2\n",
    "import psycopg2.extras\n",
    "import getpass\n",
    "import pandas\n",
    "\n",
    "import os\n",
    "import numpy as np\n",
    "import matplotlib as mpl\n",
    "import matplotlib.pyplot as plt\n",
    "from matplotlib.colors import LogNorm, Normalize\n",
    "from astropy.time import Time\n",
    "\n",
    "from copy import deepcopy\n",
    "import time"
   ]
  },
  {
   "cell_type": "markdown",
   "id": "c53f27ef-d5fa-4bdb-9a84-91df853207ba",
   "metadata": {},
   "source": [
    "Use the username decat_ro, in order to access `versiontags`, and connect to database."
   ]
  },
  {
   "cell_type": "code",
   "execution_count": 3,
   "id": "4c0c7461-8a81-49f7-aab9-a92ea944e81e",
   "metadata": {},
   "outputs": [
    {
     "name": "stdin",
     "output_type": "stream",
     "text": [
      "DB User:  decat_ro\n",
      "DB Password:  ········\n"
     ]
    }
   ],
   "source": [
    "dbuser = input(\"DB User: \")\n",
    "dbpasswd = getpass.getpass(\"DB Password: \")\n",
    "db = psycopg2.connect(f\"dbname='decat' user='{dbuser}' password='{dbpasswd}' host='decatdb.lbl.gov'\")\n",
    "db.autocommit = True\n",
    "cursor = db.cursor( cursor_factory = psycopg2.extras.DictCursor )"
   ]
  },
  {
   "cell_type": "markdown",
   "id": "3bc8c2f1-87c8-4d1e-80cb-faa825a525aa",
   "metadata": {},
   "source": [
    "If you want to print table schema."
   ]
  },
  {
   "cell_type": "code",
   "execution_count": null,
   "id": "f58e8a58-4585-4704-af10-9639033d203a",
   "metadata": {},
   "outputs": [],
   "source": [
    "# tables = ['versiontags','exposures','subtractions','images',\\\n",
    "#           'objects','objectrbs','objectdatas','objectdata_versiontag','candidates']\n",
    "# for table in tables:\n",
    "#     query = \"SELECT column_name, data_type FROM information_schema.columns WHERE table_name=%s\"\n",
    "#     cursor.execute( query, ( table, ))\n",
    "#     print( f\"\\nTABLE: {table}\\n===========================\" )\n",
    "#     for row in cursor:\n",
    "#         print( f\"{row['column_name']:24s}  :  {row['data_type']:s}\" )"
   ]
  },
  {
   "cell_type": "markdown",
   "id": "c4bc11af-d1aa-48b3-913e-ce8ff0f8aede",
   "metadata": {},
   "source": [
    "Use the `latest` version of the `versiontags`, and print the `tagid`.\n",
    "\n",
    "The results in the database are tagged with versions so that data can be re-processed without\n",
    "being overwritten, and so that different algorithms can be changed."
   ]
  },
  {
   "cell_type": "code",
   "execution_count": 4,
   "id": "3694239b-31f3-488c-9c6f-c4a9c7bc66db",
   "metadata": {},
   "outputs": [
    {
     "name": "stdout",
     "output_type": "stream",
     "text": [
      "1\n"
     ]
    }
   ],
   "source": [
    "tag = \"latest\"\n",
    "db.rollback()\n",
    "q = ( \"SELECT id, tag FROM versiontags WHERE tag=%(tag)s\" )\n",
    "cursor.execute( q, { \"tag\": tag } )\n",
    "row = cursor.fetchone()\n",
    "tagid = row['id']\n",
    "print(tagid)"
   ]
  },
  {
   "cell_type": "markdown",
   "id": "a4699a12-a8d7-42a3-9c0f-8e47639e3dc5",
   "metadata": {},
   "source": [
    "## 1. Get all extragalactic-field objects\n",
    "\n",
    "### 1.1. Query the database\n",
    "\n",
    "Get all the objects in ELAIS and COSMOS fields, and print how many were retrieved.\n",
    "\n",
    "This takes about a minute."
   ]
  },
  {
   "cell_type": "code",
   "execution_count": 5,
   "id": "1c58e2d9-adca-40bd-8a9b-689807d4849f",
   "metadata": {},
   "outputs": [
    {
     "name": "stdout",
     "output_type": "stream",
     "text": [
      "4378158\n",
      "CPU times: user 23.5 s, sys: 3.12 s, total: 26.6 s\n",
      "Wall time: 45.3 s\n"
     ]
    }
   ],
   "source": [
    "%%time\n",
    "q = (\"SELECT od.ra, od.dec, od.mag, od.magerr, rbs.rb, \"\n",
    "     \"i.filter, i.meanmjd, o.candidate_id, e.proposalid \"\n",
    "     \"FROM objectdatas AS od \"\n",
    "     \"INNER JOIN objectdata_versiontag AS odvt \"\n",
    "     \"ON od.id=odvt.objectdata_id AND odvt.versiontag_id=%(tagid)s \"\n",
    "     \"INNER JOIN objects AS o ON od.object_id=o.id \"\n",
    "     \"INNER JOIN images AS i ON o.image_id=i.id \"\n",
    "     \"INNER JOIN objectrbs as rbs ON od.id=rbs.objectdata_id AND rbs.rbtype_id=2 \"\n",
    "     \"INNER JOIN exposures AS e ON i.exposure_id=e.id \"\n",
    "     \"WHERE ((od.ra > 147.0 AND od.ra < 153.0 AND od.dec > -0.25 AND od.dec < 5) \"\n",
    "     \"OR (od.ra > 5.0 AND od.ra < 12.0 AND od.dec > -46 AND od.dec < -41)) \")\n",
    "cursor.execute(q, {'tagid': tagid})\n",
    "df = pandas.DataFrame(cursor.fetchall())\n",
    "print(len(df))"
   ]
  },
  {
   "cell_type": "markdown",
   "id": "127c0283-0ba7-4d8d-8c22-257db6c720ac",
   "metadata": {},
   "source": [
    "Put the objects into numpy arrays.\n",
    "Prefix them with `raw_` because we will be reducing the contents."
   ]
  },
  {
   "cell_type": "code",
   "execution_count": 6,
   "id": "ae5e6b80-fdc6-4fe7-9add-c92ce6bafbbd",
   "metadata": {},
   "outputs": [],
   "source": [
    "raw_obj_ra     = np.asarray(df[0], dtype='float')\n",
    "raw_obj_dec    = np.asarray(df[1], dtype='float')\n",
    "raw_obj_mag    = np.asarray(df[2], dtype='float')\n",
    "raw_obj_mage   = np.asarray(df[3], dtype='float')\n",
    "raw_obj_rb     = np.asarray(df[4], dtype='float')\n",
    "raw_obj_filt   = np.asarray(df[5], dtype='str')\n",
    "raw_obj_mjd    = np.asarray(df[6], dtype='float')\n",
    "raw_obj_candid = np.asarray(df[7], dtype='str')\n",
    "raw_obj_propid = np.asarray(df[8], dtype='str')\n",
    "del df"
   ]
  },
  {
   "cell_type": "markdown",
   "id": "12946c6a-c3c8-4f39-9a2b-98ae70389514",
   "metadata": {},
   "source": [
    "### 1.2. Identify PQLD candidates\n",
    "\n",
    "#### 1.2.1. Delete all objects of candidates with 60 or less objects.\n",
    "\n",
    "Recall that each field gets 5 exposures per filter per night.\n",
    "\n",
    "So any decently well-detected candidate would have 15 objects per night.\n",
    "\n",
    "This is a limit of 3 nights."
   ]
  },
  {
   "cell_type": "code",
   "execution_count": 7,
   "id": "7bca5f30-58f1-4523-b46d-681e3b4d0611",
   "metadata": {
    "tags": []
   },
   "outputs": [],
   "source": [
    "values, indices, inverse, counts = np.unique(raw_obj_candid, return_index=True, \n",
    "                                             return_inverse=True,  return_counts=True)"
   ]
  },
  {
   "cell_type": "code",
   "execution_count": 8,
   "id": "351ef555-7249-4196-9f3c-0aeef573a155",
   "metadata": {},
   "outputs": [
    {
     "name": "stdout",
     "output_type": "stream",
     "text": [
      "Number of objects deleted:  2662567\n",
      "As a fraction of current number of objects:  0.61\n",
      "Number of objects remaining:  1715591\n"
     ]
    }
   ],
   "source": [
    "dx = np.where(counts[inverse] < 60)[0]\n",
    "\n",
    "obj_ra     = np.delete(raw_obj_ra, dx)\n",
    "obj_dec    = np.delete(raw_obj_dec, dx)\n",
    "obj_mag    = np.delete(raw_obj_mag, dx)\n",
    "obj_mage   = np.delete(raw_obj_mage, dx)\n",
    "obj_rb     = np.delete(raw_obj_rb, dx)\n",
    "obj_filt   = np.delete(raw_obj_filt, dx)\n",
    "obj_mjd    = np.delete(raw_obj_mjd, dx)\n",
    "obj_candid = np.delete(raw_obj_candid, dx)\n",
    "obj_propid = np.delete(raw_obj_propid, dx)\n",
    "\n",
    "print('Number of objects deleted: ', len(dx))\n",
    "print('As a fraction of current number of objects: ', np.round(len(dx)/len(raw_obj_ra), 2))\n",
    "print('Number of objects remaining: ', len(obj_ra))\n",
    "\n",
    "del dx\n",
    "del raw_obj_ra, raw_obj_dec, raw_obj_mag, raw_obj_mage\n",
    "del raw_obj_rb, raw_obj_filt, raw_obj_mjd, raw_obj_candid, raw_obj_propid\n",
    "del values, indices, inverse, counts"
   ]
  },
  {
   "cell_type": "markdown",
   "id": "b51c6e5d-dc93-4fe2-934d-ee9ea4f40da3",
   "metadata": {},
   "source": [
    "Get the number of unique candidates now."
   ]
  },
  {
   "cell_type": "code",
   "execution_count": 9,
   "id": "7e8a3335-163f-4195-bfa8-9468e530c524",
   "metadata": {},
   "outputs": [],
   "source": [
    "values, indices, inverse, counts = np.unique(obj_candid, return_index=True, \n",
    "                                             return_inverse=True, return_counts=True)"
   ]
  },
  {
   "cell_type": "code",
   "execution_count": 10,
   "id": "15ba3dd2-aa8e-4452-aac3-e6a9bde54a3b",
   "metadata": {
    "tags": []
   },
   "outputs": [
    {
     "name": "stdout",
     "output_type": "stream",
     "text": [
      "Number of candidates:  12412\n"
     ]
    }
   ],
   "source": [
    "print('Number of candidates: ', len(values))"
   ]
  },
  {
   "cell_type": "code",
   "execution_count": 11,
   "id": "f61a3fbe-1dc3-4b82-88dd-b8108295e207",
   "metadata": {},
   "outputs": [
    {
     "name": "stdout",
     "output_type": "stream",
     "text": [
      "On average, 138.22 objects per candidate\n"
     ]
    }
   ],
   "source": [
    "print('On average, %4.2f objects per candidate' % (len(obj_candid)/len(values)))"
   ]
  },
  {
   "cell_type": "code",
   "execution_count": 12,
   "id": "7b8eadfd-0aaa-44d6-9bc3-312c255b675d",
   "metadata": {
    "tags": []
   },
   "outputs": [
    {
     "data": {
      "image/png": "[encoded data removed]",
      "text/plain": [
       "<Figure size 300x200 with 1 Axes>"
      ]
     },
     "metadata": {},
     "output_type": "display_data"
    }
   ],
   "source": [
    "fig = plt.figure(figsize=(3, 2))\n",
    "plt.hist(counts, bins=100, log=True)\n",
    "plt.xlabel('Number of objects')\n",
    "plt.ylabel('log(Number of candidates)')\n",
    "plt.show()"
   ]
  },
  {
   "cell_type": "markdown",
   "id": "e3cad1b8-2ba0-40ea-85b0-553056fc46fe",
   "metadata": {
    "tags": []
   },
   "source": [
    "#### 1.2.2. Delete candidates with mean R/B > 0.4"
   ]
  },
  {
   "cell_type": "markdown",
   "id": "9c5a93e0-4fa9-4bf9-9719-1ba26e12e18d",
   "metadata": {},
   "source": [
    "Create temporary arrays to hold candidate info:\n",
    "\n",
    "```\n",
    "cand_ids    : list of unqiue candidates\n",
    "cand_nobjs  : number of objects per candidate\n",
    "cand_meanrb : mean R/B score for candidates' objects\n",
    "```"
   ]
  },
  {
   "cell_type": "code",
   "execution_count": 13,
   "id": "d3a50988-a8c4-4769-8843-e4d61fcf6454",
   "metadata": {},
   "outputs": [],
   "source": [
    "tmp_cand_ids = values\n",
    "tmp_cand_nobjs = counts\n",
    "tmp_cand_meanrb = np.zeros(len(tmp_cand_ids), dtype='float')"
   ]
  },
  {
   "cell_type": "markdown",
   "id": "498a3263-238b-4b2e-ad96-13b1cf80a794",
   "metadata": {},
   "source": [
    "Calculate the mean R/B score for each candidate, `cand_mrb`.\n",
    "\n",
    "This takes about 1 minute."
   ]
  },
  {
   "cell_type": "code",
   "execution_count": 14,
   "id": "0aaadc86-5de1-4754-affa-5ade8c27ebe9",
   "metadata": {},
   "outputs": [
    {
     "name": "stdout",
     "output_type": "stream",
     "text": [
      "c =   100, elapsed =   0.8 seconds\n",
      "c =  1000, elapsed =   7.9 seconds\n",
      "c = 10000, elapsed =  73.4 seconds\n",
      "CPU times: user 1min 28s, sys: 0 ns, total: 1min 28s\n",
      "Wall time: 1min 28s\n"
     ]
    }
   ],
   "source": [
    "%%time\n",
    "t0 = time.time()\n",
    "for c, cid in enumerate(tmp_cand_ids):\n",
    "    if (c == 100) | (c == 1000) | (c == 10000):\n",
    "        t1 = time.time()\n",
    "        print('c = %5i, elapsed = %5.1f seconds' % (c, t1 - t0))\n",
    "        del t1\n",
    "    cx = np.where(obj_candid == cid)[0]\n",
    "    tmp_cand_nobjs[c] = len(cx)\n",
    "    tmp_cand_meanrb[c] = np.nanmean(obj_rb[cx])\n",
    "    del cx"
   ]
  },
  {
   "cell_type": "markdown",
   "id": "21b24238-31d4-47d5-8a55-88480b348dd2",
   "metadata": {},
   "source": [
    "Delete candidates with a mean R/B score > 0.4 from the candidate arrays."
   ]
  },
  {
   "cell_type": "code",
   "execution_count": 15,
   "id": "0cfbddcf-6661-4d87-a61f-7587cd2eacd2",
   "metadata": {},
   "outputs": [
    {
     "name": "stdout",
     "output_type": "stream",
     "text": [
      "Number of candidates deleted:  2598\n",
      "As a fraction of current number of candidates:  0.21\n",
      "Number of candidates remaining:  9814\n"
     ]
    }
   ],
   "source": [
    "dx = np.where(tmp_cand_meanrb > 0.4)[0]\n",
    "\n",
    "cand_ids = np.delete(tmp_cand_ids, dx)\n",
    "cand_nobjs = np.delete(tmp_cand_nobjs, dx)\n",
    "cand_meanrb = np.delete(tmp_cand_meanrb, dx)\n",
    "\n",
    "print('Number of candidates deleted: ', len(dx))\n",
    "print('As a fraction of current number of candidates: ', np.round(len(dx)/len(tmp_cand_ids), 2))\n",
    "print('Number of candidates remaining: ', len(cand_ids))\n",
    "\n",
    "del dx\n",
    "del tmp_cand_ids, tmp_cand_nobjs, tmp_cand_meanrb"
   ]
  },
  {
   "cell_type": "markdown",
   "id": "5f579eb7-0d83-45a5-bae4-a5319da7eedd",
   "metadata": {},
   "source": [
    "## 3. Create PQLD candidate nightly-epoch lightcurves\n",
    "\n",
    "\"Nightly-epoch\" means all observations per filter per candidate in a given \n",
    "night are combined into a single photometry point.\n",
    "\n",
    "Although we have limited only to candidates with mean R/B scores over\n",
    "*all* objects are > 0.4, an individual nightly-epoch might have a mean R/B < 0.4.\n",
    "\n",
    "### 3.1. Combine photometry into nightly-epochs\n",
    "\n",
    "Use lists, first, and prefix with `tmp`.\n",
    "Then store results in numpy arrays.\n",
    "\n",
    "```\n",
    "ne_candid : candidate id\n",
    "ne_field  : field (COSMOS or ELAIS)\n",
    "ne_cal    : calendar date\n",
    "ne_mjd    : modified julian date\n",
    "ne_fil    : filter (g, r, i)\n",
    "ne_nobj   : number of objects combined\n",
    "ne_mag    : combined magnitude\n",
    "ne_mage   : combined magnitude error\n",
    "ne_mrb    : mean R/B score of combined objects\n",
    "```\n",
    "\n",
    "Set up the array of unique MJDs and unique calendar dates.\n",
    "\n",
    "Use every MJD since January 1 2021 as the set of unique mjds (umjd). JD = 2459215.5, MJD = 59215.0.\n",
    "\n",
    "Use this range for combining into a nightly epoch: $umjd - 0.1 < mjd < umjd + 0.5$.\n",
    "\n",
    "For the associated calendar date (\"local night of\"), use $umjd - 0.1$ as calendar date."
   ]
  },
  {
   "cell_type": "code",
   "execution_count": 16,
   "id": "912cce10-8c96-4e88-9830-4a77ce000c8a",
   "metadata": {
    "tags": []
   },
   "outputs": [],
   "source": [
    "umjds = 59216.0 + np.arange(1000, dtype='float')\n",
    "# print(umjds)"
   ]
  },
  {
   "cell_type": "code",
   "execution_count": 17,
   "id": "b4597e5c-934a-4e1b-b436-687bbd8e442a",
   "metadata": {
    "tags": []
   },
   "outputs": [],
   "source": [
    "temp1 = 59216.0 + np.arange(1000, dtype='float') - 0.1\n",
    "temp2 = Time(temp1, format='mjd')\n",
    "temp3 = []\n",
    "for t in range(len(temp2)):\n",
    "    temp4 = temp2[t].isot\n",
    "    temp3.append(temp4[0:10])\n",
    "    del temp4\n",
    "ucals = np.asarray(temp3, dtype='str')\n",
    "del temp1, temp2, temp3\n",
    "# print(ucals)"
   ]
  },
  {
   "cell_type": "markdown",
   "id": "ef478b67-dfea-4ea7-9af0-137a6e4bb3ce",
   "metadata": {},
   "source": [
    "This takes a few minutes."
   ]
  },
  {
   "cell_type": "code",
   "execution_count": 18,
   "id": "9a45bedf-c26c-4329-96b4-97417a9b0af3",
   "metadata": {},
   "outputs": [
    {
     "name": "stdout",
     "output_type": "stream",
     "text": [
      "c=    10, 412.4 seconds remain\n",
      "c=   100, 407.1 seconds remain\n",
      "c=  1000, 382.0 seconds remain\n",
      "elapsed: 438.3\n"
     ]
    }
   ],
   "source": [
    "t1 = time.time()\n",
    "\n",
    "tmp_ne_candid = []\n",
    "tmp_ne_field = []\n",
    "tmp_ne_cal = []\n",
    "tmp_ne_mjd = []\n",
    "tmp_ne_fil = []\n",
    "tmp_ne_nobj = []\n",
    "tmp_ne_mag = []\n",
    "tmp_ne_mage = []\n",
    "tmp_ne_mrb = []\n",
    "\n",
    "for c in range(len(cand_ids)):\n",
    "    tally_ne = 0\n",
    "    \n",
    "    if (c == 10) | (c == 100) | (c == 1000):\n",
    "        t2 = time.time()\n",
    "        print('c=%6i, %5.1f seconds remain' % (c, ((t2-t1)/float(c))*(float(len(cand_ids)-c))))\n",
    "       \n",
    "    cx = np.where(obj_candid == cand_ids[c])[0]\n",
    "    \n",
    "    if (np.mean(obj_ra[cx]) > 5.0) & (np.mean(obj_ra[cx]) < 12.0):\n",
    "        field = 'ELAIS'\n",
    "    else:\n",
    "        field = 'COSMOS'\n",
    "\n",
    "    for d, mjd in enumerate(umjds):\n",
    "        \n",
    "        for f, fil in enumerate(['g','r','i']):\n",
    "            fx = np.where((mjd - 0.1 < obj_mjd[cx]) & (obj_mjd[cx] < mjd + 0.5) & \n",
    "                          (obj_filt[cx] == fil) & \n",
    "                          (np.isfinite(obj_mag[cx])) & \n",
    "                          (obj_mag[cx] > 0.0))[0]\n",
    "            \n",
    "            if len(fx) >= 2:\n",
    "                tmp_ne_field.append(field)\n",
    "                tmp_ne_candid.append(cand_ids[c])\n",
    "                tmp_ne_cal.append(ucals[d])\n",
    "                tmp_ne_mjd.append(np.mean(obj_mjd[cx[fx]]))\n",
    "                tmp_ne_fil.append(fil)\n",
    "                tmp_ne_nobj.append(len(obj_mjd[cx[fx]]))\n",
    "                tmp_ne_mag.append(np.mean(obj_mag[cx[fx]]))\n",
    "                tmp_ne_mage.append(np.sqrt(np.mean(obj_mage[cx[fx]])**2 + \\\n",
    "                                            np.std(obj_mag[cx[fx]])**2))\n",
    "                tmp_ne_mrb.append(np.mean(obj_rb[cx[fx]]))\n",
    "                tally_ne += 1\n",
    "            \n",
    "            elif len(fx) == 1:\n",
    "                tmp_ne_field.append(field)\n",
    "                tmp_ne_candid.append(cand_ids[c])\n",
    "                tmp_ne_cal.append(ucals[d])\n",
    "                tmp_ne_mjd.append(obj_mjd[cx[fx[0]]])\n",
    "                tmp_ne_fil.append(fil)\n",
    "                tmp_ne_nobj.append(1)\n",
    "                tmp_ne_mag.append(obj_mag[cx[fx[0]]])\n",
    "                tmp_ne_mage.append(obj_mage[cx[fx[0]]])\n",
    "                tmp_ne_mrb.append(obj_rb[cx[fx[0]]])\n",
    "                tally_ne += 1\n",
    "                \n",
    "            del fx\n",
    "    \n",
    "    if tally_ne == 0:\n",
    "        print('warning: ', cand_id[c], ' no nightly epochs with detections')\n",
    "    del cx\n",
    "\n",
    "ne_field  = np.asarray(tmp_ne_field, dtype='str')\n",
    "ne_candid = np.asarray(tmp_ne_candid, dtype='str')\n",
    "ne_nobj   = np.asarray(tmp_ne_nobj, dtype='int')\n",
    "ne_mjd    = np.asarray(tmp_ne_mjd, dtype='float')\n",
    "ne_cal    = np.asarray(tmp_ne_cal, dtype='str')\n",
    "ne_fil    = np.asarray(tmp_ne_fil, dtype='str')\n",
    "ne_mag    = np.asarray(tmp_ne_mag, dtype='float')\n",
    "ne_mage   = np.asarray(tmp_ne_mage, dtype='float')\n",
    "ne_mrb    = np.asarray(tmp_ne_mrb, dtype='float')\n",
    "\n",
    "del tmp_ne_field, tmp_ne_candid, tmp_ne_nobj, tmp_ne_mjd, tmp_ne_cal\n",
    "del tmp_ne_fil, tmp_ne_mag, tmp_ne_mage, tmp_ne_mrb, tally_ne\n",
    "\n",
    "t2 = time.time()\n",
    "print('elapsed: %5.1f' % (t2 - t1))"
   ]
  },
  {
   "cell_type": "markdown",
   "id": "acec289d-7ea3-4184-afe9-1881b49dfb6a",
   "metadata": {},
   "source": [
    "### 3.2. Write the PQLD nightly-epoch lightcurves to file"
   ]
  },
  {
   "cell_type": "code",
   "execution_count": 20,
   "id": "530db449-bcff-4d25-aad2-169b01767a84",
   "metadata": {},
   "outputs": [
    {
     "name": "stdout",
     "output_type": "stream",
     "text": [
      "Wrote to:  all_nightly_epochs_files/PQLD_candidate_lightcurves.dat\n"
     ]
    }
   ],
   "source": [
    "fnm = 'all_nightly_epochs_files/PQLD_candidate_lightcurves.dat'\n",
    "fout = open(fnm, 'w')\n",
    "\n",
    "fout.write('# Melissa Graham, PQLD_candidate_nightly_epochs.ipynb \\n')\n",
    "tnow = time.strftime(\"%a, %d %b %Y %H:%M:%S +0000\", time.gmtime())\n",
    "fout.write('# UTC = '+tnow+' \\n')\n",
    "del tnow\n",
    "fout.write('# \\n')\n",
    "fout.write('# Columns \\n')\n",
    "fout.write('#  0 field  \\n')\n",
    "fout.write('#  1 id -- candidate identifier \\n')\n",
    "fout.write('#  2 calendar date \\n')\n",
    "fout.write('#  3 MJD \\n')\n",
    "fout.write('#  4 filter \\n')\n",
    "fout.write('#  5 number of objects combined \\n')\n",
    "fout.write('#  6 magnitude (mean of objects combined) \\n')\n",
    "fout.write('#  7 magnitude error \\n')\n",
    "fout.write('#  8 real/bogus (mean of objects combined) \\n')\n",
    "fout.write('# \\n')\n",
    "\n",
    "for i in range(len(ne_candid)):\n",
    "    fout.write('%-9s %-14s %-8s %12.6f '\\\n",
    "               '%1s %3i %6.3f %6.3f %6.4f \\n' % \\\n",
    "               (ne_field[i], ne_candid[i], ne_cal[i], ne_mjd[i], \\\n",
    "                ne_fil[i], ne_nobj[i], ne_mag[i], ne_mage[i], ne_mrb[i]) )\n",
    "\n",
    "fout.close()\n",
    "print('Wrote to: ', fnm)\n",
    "del fnm"
   ]
  },
  {
   "cell_type": "markdown",
   "id": "985c6e28-92b9-4fb0-adc3-690e10f07e9f",
   "metadata": {},
   "source": [
    "## 4. Calculate the PQLD lightcurve summary parameters\n",
    "\n",
    "Recall that \"lonely epochs\" are not included in the calculation of the summary parameters.\n",
    "\n",
    "Lightcurve summary parameters include:\n",
    "\n",
    "```\n",
    "tspan  : time span, the mjd of the last minus the first nightly-epoch\n",
    "minmag : minimum magnitude, apparent magnitude of the brightest nightly-epoch\n",
    "lcamp  : lightcurve amplitude, the difference between the brightest and faintest nightly-epoch\n",
    "nde    : number of non-lonely epochs\n",
    "```\n",
    "\n",
    "This takes a couple of minutes."
   ]
  },
  {
   "cell_type": "code",
   "execution_count": 22,
   "id": "a7ee17ed-d6c9-4c93-b249-164fd4971d20",
   "metadata": {},
   "outputs": [
    {
     "name": "stdout",
     "output_type": "stream",
     "text": [
      "c=    10, 153.5 seconds remain\n",
      "c=   100, 154.6 seconds remain\n",
      "c=  1000, 145.9 seconds remain\n",
      "elapsed: 148.9\n"
     ]
    }
   ],
   "source": [
    "t1 = time.time()\n",
    "\n",
    "### timespan (last date - first date of detection)\n",
    "nelc_tspan = np.zeros( len(cand_ids), dtype='float' )\n",
    "nelc_tspan_g = np.zeros( len(cand_ids), dtype='float' )\n",
    "nelc_tspan_r = np.zeros( len(cand_ids), dtype='float' )\n",
    "nelc_tspan_i = np.zeros( len(cand_ids), dtype='float' )\n",
    "\n",
    "### minimum magnitude (brightest detection)\n",
    "nelc_minmag = np.zeros( len(cand_ids), dtype='float' )\n",
    "nelc_minmag_g = np.zeros( len(cand_ids), dtype='float' )\n",
    "nelc_minmag_r = np.zeros( len(cand_ids), dtype='float' )\n",
    "nelc_minmag_i = np.zeros( len(cand_ids), dtype='float' )\n",
    "\n",
    "### amplitude (maximum - minimum detection)\n",
    "nelc_lcamp = np.zeros( len(cand_ids), dtype='float' )\n",
    "nelc_lcamp_g = np.zeros( len(cand_ids), dtype='float' )\n",
    "nelc_lcamp_r = np.zeros( len(cand_ids), dtype='float' )\n",
    "nelc_lcamp_i = np.zeros( len(cand_ids), dtype='float' )\n",
    "\n",
    "### number of epochs with detections\n",
    "nelc_nde = np.zeros( len(cand_ids), dtype='int' )\n",
    "nelc_nde_g = np.zeros( len(cand_ids), dtype='int' )\n",
    "nelc_nde_r = np.zeros( len(cand_ids), dtype='int' )\n",
    "nelc_nde_i = np.zeros( len(cand_ids), dtype='int' )\n",
    "\n",
    "tempfield = []\n",
    "\n",
    "### for every candidate\n",
    "for c, candid in enumerate(cand_ids):\n",
    "    if (c == 10) | (c == 100) | (c == 1000):\n",
    "        t2 = time.time()\n",
    "        print('c=%6i, %5.1f seconds remain' % (c, ((t2-t1)/float(c))*(float(len(cand_ids)-c))))\n",
    "        \n",
    "    ### at first, fill tempfield and check mag issues\n",
    "    cx = np.where( (ne_candid == candid) & (ne_nobj >= 1) )[0]\n",
    "    tempfield.append(ne_field[cx[0]])\n",
    "    ### where the nobj >= 1, the mag should never be nan\n",
    "    tx = np.where( np.isnan( ne_mag[cx] ) )[0]\n",
    "    if len(tx) != 0:\n",
    "        print('warning, ', candid, ' has a nobj >=1, mag=nan epoch')\n",
    "    del tx\n",
    "\n",
    "    cx = np.where( (ne_candid == candid) & (ne_nobj >= 1) )[0]\n",
    "    if len(cx) > 0:\n",
    "        temp = np.unique( ne_cal[cx] )\n",
    "        nelc_nde[c] = len(temp)\n",
    "        del temp\n",
    "        nelc_tspan[c]  = np.max( ne_mjd[cx] ) - np.min( ne_mjd[cx] )\n",
    "        nelc_minmag[c] = np.min( ne_mag[cx] )\n",
    "        nelc_lcamp[c]  = np.max( ne_mag[cx] ) - np.min( ne_mag[cx] )\n",
    "    del cx\n",
    "\n",
    "    gx = np.where( (ne_candid == candid) & (ne_nobj >= 1) & (ne_fil == 'g') )[0]\n",
    "    rx = np.where( (ne_candid == candid) & (ne_nobj >= 1) & (ne_fil == 'r') )[0]\n",
    "    ix = np.where( (ne_candid == candid) & (ne_nobj >= 1) & (ne_fil == 'i') )[0]\n",
    "    if len(gx) > 0:\n",
    "        nelc_nde_g[c]    = len(gx)\n",
    "        nelc_tspan_g[c]  = np.max( ne_mjd[gx] ) - np.min( ne_mjd[gx] )\n",
    "        nelc_minmag_g[c] = np.min( ne_mag[gx] )\n",
    "        nelc_lcamp_g[c]  = np.max( ne_mag[gx] ) - np.min( ne_mag[gx] )\n",
    "    if len(rx) > 0:\n",
    "        nelc_nde_r[c]    = len(rx)\n",
    "        nelc_tspan_r[c]  = np.max( ne_mjd[rx] ) - np.min( ne_mjd[rx] )\n",
    "        nelc_minmag_r[c] = np.min( ne_mag[rx] )\n",
    "        nelc_lcamp_r[c]  = np.max( ne_mag[rx] ) - np.min( ne_mag[rx] )\n",
    "    if len(ix) > 0:\n",
    "        nelc_nde_i[c]    = len(ix)\n",
    "        nelc_tspan_i[c]  = np.max( ne_mjd[ix] ) - np.min( ne_mjd[ix] )\n",
    "        nelc_minmag_i[c] = np.min( ne_mag[ix] )\n",
    "        nelc_lcamp_i[c]  = np.max( ne_mag[ix] ) - np.min( ne_mag[ix] )\n",
    "    del gx,rx,ix\n",
    "\n",
    "cand_field = np.asarray(tempfield, dtype='str')\n",
    "del tempfield\n",
    "\n",
    "t2 = time.time()\n",
    "print('elapsed: %5.1f' % (t2 - t1))\n",
    "del t1, t2"
   ]
  },
  {
   "cell_type": "markdown",
   "id": "76819fcb-7195-4fb9-924a-12102654810b",
   "metadata": {},
   "source": [
    "### 4.1. Write the PQLD lightcurve summary parameters to file"
   ]
  },
  {
   "cell_type": "code",
   "execution_count": 23,
   "id": "cf1f2310-abc9-4a04-ac74-bff218287209",
   "metadata": {},
   "outputs": [
    {
     "name": "stdout",
     "output_type": "stream",
     "text": [
      "Wrote to:  all_nightly_epochs_files/PQLD_candidate_lightcurve_parameters.dat\n"
     ]
    }
   ],
   "source": [
    "fnm = 'all_nightly_epochs_files/PQLD_candidate_lightcurve_parameters.dat'\n",
    "fout = open(fnm, 'w')\n",
    "\n",
    "fout.write('# Melissa Graham, PQLD_candidate_nightly_epochs.ipynb \\n')\n",
    "tnow = time.strftime(\"%a, %d %b %Y %H:%M:%S +0000\", time.gmtime())\n",
    "fout.write('# UTC = '+tnow+' \\n')\n",
    "del tnow\n",
    "fout.write('# \\n')\n",
    "fout.write('# Columns \\n')\n",
    "fout.write('#  0 field  \\n')\n",
    "fout.write('#  1 id -- candidate identifier \\n')\n",
    "fout.write('#  2 timespan (days between first and last detection) \\n')\n",
    "fout.write('#  3 timespan in g \\n')\n",
    "fout.write('#  4 timespan in r \\n')\n",
    "fout.write('#  5 timespan in i \\n')\n",
    "fout.write('#  6 minimum magnitude (not necessarily the peak) \\n')\n",
    "fout.write('#  7 minimum magnitude g \\n')\n",
    "fout.write('#  8 minimum magnitude r \\n')\n",
    "fout.write('#  9 minimum magnitude i \\n')\n",
    "fout.write('# 10 amplitude (magnitudes between brightest and faintest detection) \\n')\n",
    "fout.write('# 11 amplitude g \\n')\n",
    "fout.write('# 12 amplitude r \\n')\n",
    "fout.write('# 13 amplitude i \\n')\n",
    "fout.write('# \\n')\n",
    "\n",
    "for i in range(len(cand_ids)):\n",
    "    fout.write('%-8s %-14s '\\\n",
    "               '%7.2f %7.2f %7.2f %7.2f '\\\n",
    "               '%6.3f %6.3f %6.3f %6.3f '\\\n",
    "               '%6.3f %6.3f %6.3f %6.3f \\n' % \\\n",
    "               (cand_field[i], cand_ids[i], \\\n",
    "                nelc_tspan[i], nelc_tspan_g[i], nelc_tspan_r[i], nelc_tspan_i[i], \\\n",
    "                nelc_minmag[i], nelc_minmag_g[i], nelc_minmag_r[i], nelc_minmag_i[i], \\\n",
    "                nelc_lcamp[i], nelc_lcamp_g[i], nelc_lcamp_r[i], nelc_lcamp_i[i] ) )\n",
    "\n",
    "fout.close()\n",
    "print('Wrote to: ',fnm)\n",
    "del fnm"
   ]
  },
  {
   "cell_type": "code",
   "execution_count": null,
   "id": "5b408f39-c5a3-4f26-9331-f2299d346b17",
   "metadata": {},
   "outputs": [],
   "source": []
  }
 ],
 "metadata": {
  "kernelspec": {
   "display_name": "NERSC Python",
   "language": "python",
   "name": "python3"
  },
  "language_info": {
   "codemirror_mode": {
    "name": "ipython",
    "version": 3
   },
   "file_extension": ".py",
   "mimetype": "text/x-python",
   "name": "python",
   "nbconvert_exporter": "python",
   "pygments_lexer": "ipython3",
   "version": "3.11.6"
  }
 },
 "nbformat": 4,
 "nbformat_minor": 5
}
