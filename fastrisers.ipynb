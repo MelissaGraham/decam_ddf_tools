{
 "cells": [
  {
   "cell_type": "code",
   "execution_count": 1,
   "id": "f5c380a7-8f00-4ebe-a205-25511f229ea3",
   "metadata": {},
   "outputs": [],
   "source": [
    "# For passwords & database access:\n",
    "import psycopg2\n",
    "import psycopg2.extras\n",
    "import getpass\n",
    "\n",
    "# For plotting\n",
    "import matplotlib.pyplot as plt\n",
    "import matplotlib\n",
    "from IPython.display import display\n",
    "import ipywidgets\n",
    "\n",
    "# For math\n",
    "import numpy as np\n",
    "import pandas as pd"
   ]
  },
  {
   "cell_type": "markdown",
   "id": "5abd8c34-dfbd-4a6d-9106-bce3207b8b28",
   "metadata": {},
   "source": [
    "This notebook searches the COSMOS field for candidates that (on their first night of detection) rose by at least 0.2 mag over at least 4 detections"
   ]
  },
  {
   "cell_type": "code",
   "execution_count": 2,
   "id": "dc45187c-bec5-4f20-a62b-322f0c690a27",
   "metadata": {},
   "outputs": [
    {
     "name": "stdin",
     "output_type": "stream",
     "text": [
      "DB User:  kennedyt\n",
      "DB Password:  ············\n"
     ]
    }
   ],
   "source": [
    "# Logging in\n",
    "dbuser = input(\"DB User: \")\n",
    "dbpasswd = getpass.getpass(\"DB Password: \")\n",
    "db = psycopg2.connect( f\"dbname='decat' user='{dbuser}' password='{dbpasswd}' host='decatdb.lbl.gov'\" )\n",
    "\n",
    "db.autocommit = True # Makes the computer nicer about SQL syntax errors\n",
    "\n",
    "cursor = db.cursor( cursor_factory = psycopg2.extras.DictCursor )"
   ]
  },
  {
   "cell_type": "code",
   "execution_count": 3,
   "id": "086b773a-cd2d-4f47-81f1-98821f9745f1",
   "metadata": {},
   "outputs": [],
   "source": [
    "Term = \"2021B\"\n",
    "# Term = \"2021B\"\n",
    "if Term == \"2021A\": sgn = \"<\"\n",
    "elif Term == \"2021B\": sgn = \">\"\n",
    "else:\n",
    "    print(\"set 'Term' equal to either '2021A' or '2021B'\")"
   ]
  },
  {
   "cell_type": "markdown",
   "id": "7f199da9-0356-4416-aafc-3a4bd3d30718",
   "metadata": {},
   "source": [
    "#### The filter"
   ]
  },
  {
   "cell_type": "code",
   "execution_count": 4,
   "id": "eb7acdb5-5621-4637-b606-3aeecb982020",
   "metadata": {},
   "outputs": [],
   "source": [
    "# Get a list of every MJD for which we have an image\n",
    "\n",
    "query = ('SELECT e.mjd FROM exposures e '\n",
    "         'WHERE e.mjd '+sgn+' 59377 ' \n",
    "         'LIMIT 10000000')\n",
    "cursor.execute( query )\n",
    "\n",
    "datesquery = cursor.fetchall()"
   ]
  },
  {
   "cell_type": "code",
   "execution_count": 5,
   "id": "cdf1281d-0876-4012-857c-8e9d41315e97",
   "metadata": {},
   "outputs": [
    {
     "data": {
      "text/plain": [
       "array([59474., 59475., 59477., 59478., 59480., 59481., 59482., 59483.,\n",
       "       59486., 59489., 59492., 59498., 59501., 59504., 59505., 59507.,\n",
       "       59510., 59511., 59512., 59519., 59522., 59525., 59528., 59532.,\n",
       "       59533., 59534., 59535., 59537., 59540.])"
      ]
     },
     "execution_count": 5,
     "metadata": {},
     "output_type": "execute_result"
    }
   ],
   "source": [
    "# Make a list of every observing night (by rounding to the nearest MJD)\n",
    "odates = np.unique( np.round( datesquery ) )\n",
    "odates"
   ]
  },
  {
   "cell_type": "code",
   "execution_count": 7,
   "id": "c0400f48-8d56-4c86-ad83-bd4aaf6548a3",
   "metadata": {},
   "outputs": [
    {
     "name": "stderr",
     "output_type": "stream",
     "text": [
      "/tmp/ipykernel_54335/308145246.py:73: FutureWarning: elementwise comparison failed; returning scalar instead, but in the future will perform elementwise comparison\n",
      "  if arr[j][0][0] in oldcands:\n",
      "/usr/common/software/python/3.9-anaconda-2021.11/lib/python3.9/site-packages/numpy/core/_asarray.py:171: VisibleDeprecationWarning: Creating an ndarray from ragged nested sequences (which is a list-or-tuple of lists-or-tuples-or ndarrays with different lengths or shapes) is deprecated. If you meant to do this, you must specify 'dtype=object' when creating the ndarray.\n",
      "  return array(a, dtype, copy=False, order=order, subok=True)\n"
     ]
    }
   ],
   "source": [
    "fr = []\n",
    "frdates = []\n",
    "for field in [\"COSMOS\", \"ELIAS\"]:\n",
    "# for field in [\"ELIAS\"]:\n",
    "    for fil in [\"g\",\"r\",\"i\"]:\n",
    "        tempfr = [] # List for the names of fast-rising candidates\n",
    "        tempfrdates = [] # List for the dates on which fast riser behavior was observed\n",
    "\n",
    "        oldcands = np.array( [] ) # used to check if candidates have been detected before\n",
    "\n",
    "        for i in range(len(odates)):\n",
    "            # Loop through each observing night\n",
    "            # Grab all detections within a day of the night in question\n",
    "            lodate = odates[i] - 1\n",
    "            hidate = odates[i] + 1\n",
    "            if field == \"COSMOS\":\n",
    "                query = ('SELECT o.candidate_id, o.id, e.mjd, o.mag, rbs.rb, e.id FROM objects o '\n",
    "                         'JOIN subtractions s ON s.id=o.subtraction_id '\n",
    "                         'JOIN exposures e on s.exposure_id = e.id '\n",
    "                         'JOIN objectrbs as rbs ON o.id=rbs.object_id AND rbs.rbtype_id=1 '\n",
    "                         'WHERE q3c_radial_query(e.ra,e.dec,150,2.2,3) '\n",
    "                         'AND rbs.rb > 0.4 '\n",
    "                         'AND e.mjd > %s '\n",
    "                         'AND e.mjd < %s '\n",
    "                         'AND e.filter = %s'\n",
    "                         'AND e.mjd '+sgn+' 59377 ' \n",
    "                         'LIMIT 10000000')\n",
    "            elif field == \"ELIAS\":\n",
    "                query = ('SELECT o.candidate_id, o.id, e.mjd, o.mag, rbs.rb, e.id FROM objects o '\n",
    "                         'JOIN subtractions s ON s.id=o.subtraction_id '\n",
    "                         'JOIN exposures e on s.exposure_id = e.id '\n",
    "                         'JOIN objectrbs as rbs ON o.id=rbs.object_id AND rbs.rbtype_id=1 '\n",
    "                         'WHERE q3c_radial_query(o.ra,o.dec,8.5,-43.5,2) '\n",
    "                         'AND rbs.rb > 0.4 '\n",
    "                         'AND e.mjd > %s '\n",
    "                         'AND e.mjd < %s '\n",
    "                         'AND e.filter = %s'\n",
    "                         'AND e.mjd '+sgn+' 59377 ' \n",
    "                         'LIMIT 10000000')\n",
    "            cursor.execute( query, ( lodate, hidate, fil ) )\n",
    "\n",
    "            # Store that nights detections in an array\n",
    "            tempres = np.array( cursor.fetchall(), dtype=str ).transpose()\n",
    "\n",
    "            if len( tempres ) > 0: # Eliminates errors from gaps in the ELIAS observations by skipping empty nights\n",
    "                # Cut out duplicate objects\n",
    "                dupearr = np.array( [tempres[0], tempres[2], tempres[3], tempres[4], tempres[5]] ).transpose()\n",
    "                dupearr = [ \" \".join(j) for j in dupearr ]\n",
    "                dupearr, ind = np.unique( dupearr, return_index=True )\n",
    "\n",
    "                # Rejoin the array without the duplicates\n",
    "                uarr = np.array( [ i.split(\" \") for i in dupearr ] ).transpose()\n",
    "                res = np.array( [uarr[0], tempres[1][ind], uarr[1], uarr[2], uarr[3], uarr[4]] )\n",
    "\n",
    "                # Create an array of each unique candidate detected that night\n",
    "                ucands, uind, ucounts = np.unique( res[0], return_counts=True, return_index=True )\n",
    "\n",
    "                # Isolate those with at least 4 detections\n",
    "                goodcands = ucands[ ucounts > 3 ]\n",
    "\n",
    "\n",
    "                # Make an array of detections for each of those candidates, store all of those arrays in \"arr\"\n",
    "                arr = np.ones( len( goodcands ), dtype=object )\n",
    "                for j in range( len( goodcands ) ):\n",
    "                    arr[j] = res[:,res[0,:] == goodcands[j]]\n",
    "                # Mask out those that \n",
    "                # A) have been detected in previous nights, \n",
    "                # B) don't rise in every subsequent detection, or \n",
    "                # C) don't change by at least 0.2 mag\n",
    "                good = np.ones( len( arr ), dtype=bool )\n",
    "                for j in range( len( arr ) ):\n",
    "                    # A)\n",
    "                    if arr[j][0][0] in oldcands:\n",
    "                        good[j] = False\n",
    "                    for k in range( len( arr[j][3] ) - 1 ):\n",
    "                        # B)\n",
    "                        if arr[j][3][k] < arr[j][3][k + 1]:\n",
    "                            good[j] = False\n",
    "                        # C)\n",
    "                        if np.max( arr[j][3].astype(float) ) - np.min( arr[j][3].astype(float) ) < 0.2:\n",
    "                            good[j] = False\n",
    "\n",
    "                # Apply those cuts and append the candidates that passed to fr and frdates\n",
    "                for j in range( len( arr[good] ) ):\n",
    "                    tempfr.append( arr[good][j][0][0] )\n",
    "                    tempfrdates.append( [lodate, hidate] )\n",
    "            \n",
    "            # Make a note of all candidates detected this night (for cutting out things that have been previously detected)\n",
    "            try:\n",
    "                oldcands = np.append( oldcands, ucands )\n",
    "            except NameError:\n",
    "                pass\n",
    "            fr.append(tempfr)\n",
    "            frdates.append(tempfrdates)\n",
    "            \n",
    "\n",
    "x = []\n",
    "ind = np.unique(fr, return_index=True)[1]\n",
    "for i in [fr[ind] for ind in sorted(ind)]:\n",
    "    x.extend(i)\n",
    "fr = x\n",
    "\n",
    "y = []\n",
    "ind = np.unique(frdates, return_index=True)[1]\n",
    "for i in [frdates[ind] for ind in sorted(ind)]:\n",
    "    y.extend(i)\n",
    "frdates = y\n",
    "del x, y, ind"
   ]
  },
  {
   "cell_type": "code",
   "execution_count": 8,
   "id": "02e36ba9-d9b0-463c-b4be-abe450e6739e",
   "metadata": {},
   "outputs": [
    {
     "data": {
      "image/png": "[encoded data removed]",
      "text/plain": [
       "<Figure size 432x288 with 1 Axes>"
      ]
     },
     "metadata": {
      "needs_background": "light"
     },
     "output_type": "display_data"
    },
    {
     "data": {
      "image/png": "[encoded data removed]",
      "text/plain": [
       "<Figure size 432x288 with 1 Axes>"
      ]
     },
     "metadata": {
      "needs_background": "light"
     },
     "output_type": "display_data"
    },
    {
     "data": {
      "image/png": "[encoded data removed]",
      "text/plain": [
       "<Figure size 432x288 with 1 Axes>"
      ]
     },
     "metadata": {
      "needs_background": "light"
     },
     "output_type": "display_data"
    },
    {
     "data": {
      "image/png": "[encoded data removed]",
      "text/plain": [
       "<Figure size 432x288 with 1 Axes>"
      ]
     },
     "metadata": {
      "needs_background": "light"
     },
     "output_type": "display_data"
    },
    {
     "data": {
      "image/png": "[encoded data removed]",
      "text/plain": [
       "<Figure size 432x288 with 1 Axes>"
      ]
     },
     "metadata": {
      "needs_background": "light"
     },
     "output_type": "display_data"
    }
   ],
   "source": [
    "### Plotting up each of the identified fast risers\n",
    "for i in range( len( fr ) ):\n",
    "    query = ('SELECT c.id, e.mjd, o.mag, o.magerr, e.filter, o.ra FROM objects o '\n",
    "             'JOIN candidates c ON c.id=o.candidate_id '\n",
    "             'JOIN subtractions s ON s.id=o.subtraction_id '\n",
    "             'JOIN exposures e ON e.id=s.exposure_id '\n",
    "             'JOIN objectrbs as rbs ON o.id=rbs.object_id AND rbs.rbtype_id=1 '\n",
    "             'WHERE c.id=%s '\n",
    "             'AND e.mjd '+sgn+' 59377 ' \n",
    "             'AND rbs.rb > 0.4')\n",
    "    cursor.execute( query, ( fr[i], ) )\n",
    "    \n",
    "    array = np.array( cursor.fetchall() ).transpose()\n",
    "    gmsk = array[4] == 'g'\n",
    "    rmsk = array[4] == 'r'\n",
    "    imsk = array[4] == 'i'\n",
    "    \n",
    "    \n",
    "    # Color consistency\n",
    "    if float(array[5][0]) < 50:\n",
    "        field = \"ELIAS\"\n",
    "    else:\n",
    "        field = \"COSMOS\"\n",
    "    if field == \"COSMOS\": c = [\"darkgreen\",\"red\",\"brown\"]\n",
    "    elif field == \"ELIAS\": c = [\"limegreen\",\"darkorange\",\"peru\"]\n",
    "    \n",
    "    \n",
    "    plt.errorbar( ( array[1][gmsk] ).astype(float), \n",
    "                 ( array[2][gmsk] ).astype(float), \n",
    "                 yerr=array[3][gmsk].astype(float), \n",
    "                 fmt='o', \n",
    "                 markersize=5, \n",
    "                 ls= '', \n",
    "                 color=c[0], \n",
    "                 label='g' )\n",
    "    plt.errorbar( ( array[1][rmsk] ).astype(float), \n",
    "                 ( array[2][rmsk] ).astype(float), \n",
    "                 yerr=array[3][rmsk].astype(float), \n",
    "                 fmt='o', \n",
    "                 markersize=5, \n",
    "                 ls= '', \n",
    "                 color=c[1], \n",
    "                 label='r' )\n",
    "    plt.errorbar( ( array[1][imsk] ).astype(float), \n",
    "                 ( array[2][imsk] ).astype(float), \n",
    "                 yerr=array[3][imsk].astype(float), \n",
    "                 fmt='o', \n",
    "                 markersize=5, \n",
    "                 ls= '', \n",
    "                 color=c[2], \n",
    "                 label='i' )\n",
    "    \n",
    "    # Indicate the interesting part of the light curve\n",
    "    plt.axvline( float( frdates[i][0] ) )\n",
    "    plt.axvline( float( frdates[i][1] ) )\n",
    "    \n",
    "    plt.title( array[0][0]+\" (\"+field+\")\")\n",
    "    plt.gca().invert_yaxis()\n",
    "    plt.legend()\n",
    "    plt.show()"
   ]
  },
  {
   "cell_type": "code",
   "execution_count": 9,
   "id": "1db41ec1-2408-4c34-a8de-c878f67e44a2",
   "metadata": {},
   "outputs": [
    {
     "data": {
      "application/vnd.jupyter.widget-view+json": {
       "model_id": "594308333bde462b93bb97b516ff9c55",
       "version_major": 2,
       "version_minor": 0
      },
      "text/plain": [
       "HBox(children=(Image(value=b'\\xff\\xd8\\xff\\xe0\\x00\\x10JFIF\\x00\\x01\\x01\\x00\\x00\\x01\\x00\\x01\\x00\\x00\\xff\\xdb\\x00C…"
      ]
     },
     "metadata": {},
     "output_type": "display_data"
    },
    {
     "data": {
      "application/vnd.jupyter.widget-view+json": {
       "model_id": "e4db166c5cab4c0888f82311fa288225",
       "version_major": 2,
       "version_minor": 0
      },
      "text/plain": [
       "HBox(children=(Image(value=b'\\xff\\xd8\\xff\\xe0\\x00\\x10JFIF\\x00\\x01\\x01\\x00\\x00\\x01\\x00\\x01\\x00\\x00\\xff\\xdb\\x00C…"
      ]
     },
     "metadata": {},
     "output_type": "display_data"
    },
    {
     "data": {
      "application/vnd.jupyter.widget-view+json": {
       "model_id": "27f8bbc8afd24b47aa97996bcd89660a",
       "version_major": 2,
       "version_minor": 0
      },
      "text/plain": [
       "HBox(children=(Image(value=b'\\xff\\xd8\\xff\\xe0\\x00\\x10JFIF\\x00\\x01\\x01\\x00\\x00\\x01\\x00\\x01\\x00\\x00\\xff\\xdb\\x00C…"
      ]
     },
     "metadata": {},
     "output_type": "display_data"
    },
    {
     "name": "stdout",
     "output_type": "stream",
     "text": [
      "\n",
      "\n",
      "\n",
      "\n"
     ]
    },
    {
     "data": {
      "application/vnd.jupyter.widget-view+json": {
       "model_id": "c4bd0f67cc774632a13dc08a513ce19c",
       "version_major": 2,
       "version_minor": 0
      },
      "text/plain": [
       "HBox(children=(Image(value=b'\\xff\\xd8\\xff\\xe0\\x00\\x10JFIF\\x00\\x01\\x01\\x00\\x00\\x01\\x00\\x01\\x00\\x00\\xff\\xdb\\x00C…"
      ]
     },
     "metadata": {},
     "output_type": "display_data"
    },
    {
     "data": {
      "application/vnd.jupyter.widget-view+json": {
       "model_id": "8206c02f66c1484da6c1e9f01f8a626e",
       "version_major": 2,
       "version_minor": 0
      },
      "text/plain": [
       "HBox(children=(Image(value=b'\\xff\\xd8\\xff\\xe0\\x00\\x10JFIF\\x00\\x01\\x01\\x00\\x00\\x01\\x00\\x01\\x00\\x00\\xff\\xdb\\x00C…"
      ]
     },
     "metadata": {},
     "output_type": "display_data"
    },
    {
     "data": {
      "application/vnd.jupyter.widget-view+json": {
       "model_id": "813542f615eb480e8ae7c13dab2fb232",
       "version_major": 2,
       "version_minor": 0
      },
      "text/plain": [
       "HBox(children=(Image(value=b'\\xff\\xd8\\xff\\xe0\\x00\\x10JFIF\\x00\\x01\\x01\\x00\\x00\\x01\\x00\\x01\\x00\\x00\\xff\\xdb\\x00C…"
      ]
     },
     "metadata": {},
     "output_type": "display_data"
    },
    {
     "name": "stdout",
     "output_type": "stream",
     "text": [
      "\n",
      "\n",
      "\n",
      "\n"
     ]
    },
    {
     "data": {
      "application/vnd.jupyter.widget-view+json": {
       "model_id": "72cba13fc47e4460bd2ace03422fb340",
       "version_major": 2,
       "version_minor": 0
      },
      "text/plain": [
       "HBox(children=(Image(value=b'\\xff\\xd8\\xff\\xe0\\x00\\x10JFIF\\x00\\x01\\x01\\x00\\x00\\x01\\x00\\x01\\x00\\x00\\xff\\xdb\\x00C…"
      ]
     },
     "metadata": {},
     "output_type": "display_data"
    },
    {
     "data": {
      "application/vnd.jupyter.widget-view+json": {
       "model_id": "f7e8bacec39840e98967c06b22fcbea3",
       "version_major": 2,
       "version_minor": 0
      },
      "text/plain": [
       "HBox(children=(Image(value=b'\\xff\\xd8\\xff\\xe0\\x00\\x10JFIF\\x00\\x01\\x01\\x00\\x00\\x01\\x00\\x01\\x00\\x00\\xff\\xdb\\x00C…"
      ]
     },
     "metadata": {},
     "output_type": "display_data"
    },
    {
     "data": {
      "application/vnd.jupyter.widget-view+json": {
       "model_id": "6b0bb41b63514113840c6640540697dd",
       "version_major": 2,
       "version_minor": 0
      },
      "text/plain": [
       "HBox(children=(Image(value=b'\\xff\\xd8\\xff\\xe0\\x00\\x10JFIF\\x00\\x01\\x01\\x00\\x00\\x01\\x00\\x01\\x00\\x00\\xff\\xdb\\x00C…"
      ]
     },
     "metadata": {},
     "output_type": "display_data"
    },
    {
     "name": "stdout",
     "output_type": "stream",
     "text": [
      "\n",
      "\n",
      "\n",
      "\n"
     ]
    },
    {
     "data": {
      "application/vnd.jupyter.widget-view+json": {
       "model_id": "e19c5ecd51234c93ada7294812293675",
       "version_major": 2,
       "version_minor": 0
      },
      "text/plain": [
       "HBox(children=(Image(value=b'\\xff\\xd8\\xff\\xe0\\x00\\x10JFIF\\x00\\x01\\x01\\x00\\x00\\x01\\x00\\x01\\x00\\x00\\xff\\xdb\\x00C…"
      ]
     },
     "metadata": {},
     "output_type": "display_data"
    },
    {
     "data": {
      "application/vnd.jupyter.widget-view+json": {
       "model_id": "2cdc201ea74f4583875eb17c8676ffd4",
       "version_major": 2,
       "version_minor": 0
      },
      "text/plain": [
       "HBox(children=(Image(value=b'\\xff\\xd8\\xff\\xe0\\x00\\x10JFIF\\x00\\x01\\x01\\x00\\x00\\x01\\x00\\x01\\x00\\x00\\xff\\xdb\\x00C…"
      ]
     },
     "metadata": {},
     "output_type": "display_data"
    },
    {
     "data": {
      "application/vnd.jupyter.widget-view+json": {
       "model_id": "bfb77fd42f8045ecbaab6289a554ef9f",
       "version_major": 2,
       "version_minor": 0
      },
      "text/plain": [
       "HBox(children=(Image(value=b'\\xff\\xd8\\xff\\xe0\\x00\\x10JFIF\\x00\\x01\\x01\\x00\\x00\\x01\\x00\\x01\\x00\\x00\\xff\\xdb\\x00C…"
      ]
     },
     "metadata": {},
     "output_type": "display_data"
    },
    {
     "name": "stdout",
     "output_type": "stream",
     "text": [
      "\n",
      "\n",
      "\n",
      "\n"
     ]
    },
    {
     "data": {
      "application/vnd.jupyter.widget-view+json": {
       "model_id": "22e051d1f8b84fa180ecbf2786dcfc3e",
       "version_major": 2,
       "version_minor": 0
      },
      "text/plain": [
       "HBox(children=(Image(value=b'\\xff\\xd8\\xff\\xe0\\x00\\x10JFIF\\x00\\x01\\x01\\x00\\x00\\x01\\x00\\x01\\x00\\x00\\xff\\xdb\\x00C…"
      ]
     },
     "metadata": {},
     "output_type": "display_data"
    },
    {
     "data": {
      "application/vnd.jupyter.widget-view+json": {
       "model_id": "bbace1ca679443e49805c53f197f4e9b",
       "version_major": 2,
       "version_minor": 0
      },
      "text/plain": [
       "HBox(children=(Image(value=b'\\xff\\xd8\\xff\\xe0\\x00\\x10JFIF\\x00\\x01\\x01\\x00\\x00\\x01\\x00\\x01\\x00\\x00\\xff\\xdb\\x00C…"
      ]
     },
     "metadata": {},
     "output_type": "display_data"
    },
    {
     "data": {
      "application/vnd.jupyter.widget-view+json": {
       "model_id": "21cefd7b7ddf414f8e175f7f1cc8ea91",
       "version_major": 2,
       "version_minor": 0
      },
      "text/plain": [
       "HBox(children=(Image(value=b'\\xff\\xd8\\xff\\xe0\\x00\\x10JFIF\\x00\\x01\\x01\\x00\\x00\\x01\\x00\\x01\\x00\\x00\\xff\\xdb\\x00C…"
      ]
     },
     "metadata": {},
     "output_type": "display_data"
    },
    {
     "name": "stdout",
     "output_type": "stream",
     "text": [
      "\n",
      "\n",
      "\n",
      "\n"
     ]
    }
   ],
   "source": [
    "### This cell pulls out the reference, science, and subtraction images for eack of the SNe the filter detected, for every good detection\n",
    "\n",
    "for i in fr:\n",
    "    query = ( 'SELECT cand.id, e.mjd,e.filename,e.filter,c.sci_jpeg,c.ref_jpeg,c.diff_jpeg FROM cutouts c '\n",
    "              'INNER JOIN objects o ON c.object_id=o.id '\n",
    "              'INNER JOIN candidates cand ON o.candidate_id=cand.id '\n",
    "              'INNER JOIN subtractions s ON o.subtraction_id=s.id '\n",
    "              'INNER JOIN exposures e ON s.exposure_id=e.id '\n",
    "              'JOIN objectrbs as rbs ON o.id=rbs.object_id AND rbs.rbtype_id=1 '\n",
    "              'WHERE cand.id=%s '\n",
    "              'AND e.mjd '+sgn+' 59377 ' \n",
    "              'AND rbs.rb > 0.4 '\n",
    "              'ORDER BY e.mjd '\n",
    "              'LIMIT 3')\n",
    "    cursor.execute( query, ( i, ) )\n",
    "    for row in cursor:\n",
    "        label = ipywidgets.HTML( f'<b>Candidate</b>{row[\"id\"]}<br><b>{row[\"filename\"]}</b><br><b>Filter:</b> {row[\"filter\"]}' )\n",
    "        newimg = ipywidgets.Image( value=bytes(row[\"sci_jpeg\"]), width=102, height=102, format='jpeg' )\n",
    "        refimg = ipywidgets.Image( value=bytes(row[\"ref_jpeg\"]), width=102, height=102, format='jpeg' )\n",
    "        subimg = ipywidgets.Image( value=bytes(row[\"diff_jpeg\"]), width=102, height=102, format='jpeg' )\n",
    "        box = ipywidgets.HBox( [ newimg, refimg, subimg, label ] )\n",
    "        display( box )\n",
    "    print(\"\")\n",
    "    print(\"\")    \n",
    "    print(\"\")    \n",
    "    print(\"\")"
   ]
  },
  {
   "cell_type": "code",
   "execution_count": 10,
   "id": "59baec1d-c30d-46a7-8c1a-4343141718a4",
   "metadata": {},
   "outputs": [
    {
     "name": "stdout",
     "output_type": "stream",
     "text": [
      "DC21cgesc\n",
      "7.75785356869088\n",
      "-42.7816063284422\n",
      "DC21cgoaw\n",
      "7.78571203956245\n",
      "-43.2592318027686\n",
      "DC21kqtt\n",
      "10.3721736153821\n",
      "-43.5543003944234\n",
      "DC21kurv\n",
      "7.35341095023599\n",
      "-43.8986687544181\n",
      "DC21kutf\n",
      "9.45712169889595\n",
      "-43.4376772897517\n"
     ]
    }
   ],
   "source": [
    "engine=\"SDSS\"\n",
    "\n",
    "coordarr = np.empty( len( fr ), dtype=object )\n",
    "for i in range(len(fr)):\n",
    "    query = ('SELECT c.id, c.ra, c.dec FROM candidates c '\n",
    "            'WHERE c.id=%s ')\n",
    "    cursor.execute( query, (fr[i], ) )\n",
    "    coordarr[i] = cursor.fetchall()[0]\n",
    "\n",
    "\n",
    "if engine == \"SDSS\":\n",
    "    for i in coordarr:\n",
    "        print(i[0])\n",
    "        print(str(i[1]))\n",
    "        print(str(i[2]))\n",
    "elif engine==\"TNS\":\n",
    "    for i in coordarr:\n",
    "        if i[2]>0:\n",
    "            print(i[0])\n",
    "            print(str(i[1]),\"+\"+str(i[2]))\n",
    "        else:\n",
    "            print(i[0])\n",
    "            print(str(i[1]),str(i[2]))"
   ]
  },
  {
   "cell_type": "code",
   "execution_count": null,
   "id": "74b1a641-daee-47cc-81c5-4f770490e94e",
   "metadata": {},
   "outputs": [],
   "source": [
    "# From SDSS matches (2021A):\n",
    "# DC21fah-- STAR\n",
    "# DC21mis-- STAR\n",
    "# DC21nmo-- GALAXY\n",
    "# DC21tbc-- GALAXY\n",
    "# DC21crq-- STAR\n",
    "# DC21flsx-- GALAXY\n",
    "# ELIAS fast risers outside the SDSS footprint"
   ]
  },
  {
   "cell_type": "code",
   "execution_count": null,
   "id": "96e43756-634c-4602-8924-83bbb7889a7b",
   "metadata": {},
   "outputs": [],
   "source": []
  }
 ],
 "metadata": {
  "kernelspec": {
   "display_name": "Python 3.9-anaconda-2021.11",
   "language": "python",
   "name": "python3.9-anaconda-2021.11"
  },
  "language_info": {
   "codemirror_mode": {
    "name": "ipython",
    "version": 3
   },
   "file_extension": ".py",
   "mimetype": "text/x-python",
   "name": "python",
   "nbconvert_exporter": "python",
   "pygments_lexer": "ipython3",
   "version": "3.9.7"
  }
 },
 "nbformat": 4,
 "nbformat_minor": 5
}
