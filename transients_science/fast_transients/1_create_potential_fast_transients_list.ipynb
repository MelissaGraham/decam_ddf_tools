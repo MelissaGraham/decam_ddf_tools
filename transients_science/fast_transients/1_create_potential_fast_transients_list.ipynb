{
 "cells": [
  {
   "cell_type": "markdown",
   "id": "f7c022f4-e2cc-4b8b-b2f0-d85e9034eb30",
   "metadata": {},
   "source": [
    "# Create Potential Fast Transient List\n",
    "\n",
    "Author: Melissa Graham & Midori Rollins\n",
    "\n",
    "Identify potential fast transients from the \"good\" candidates created for all of the DDF.\n",
    "\n",
    "To do this, we constrain the time spans, peak magnitudes, amplitudes, rise slopes and rise times.\n",
    "\n",
    "Write the list of potential fast transients to `potential_fast_transients_list.txt`.\n",
    "\n",
    "Save the plot of every potential fast transient lightcurve in the folder `all_potential_fast_transients_plots/`.\n",
    "\n",
    "## Set up and read in data"
   ]
  },
  {
   "cell_type": "code",
   "execution_count": 1,
   "id": "5ac3b3aa-64ad-484e-bb33-0ff26bde2cd7",
   "metadata": {
    "tags": []
   },
   "outputs": [],
   "source": [
    "import os\n",
    "import numpy as np\n",
    "import matplotlib as mpl\n",
    "import matplotlib.pyplot as plt\n",
    "# import pandas as pd\n",
    "\n",
    "# from copy import deepcopy\n",
    "import time"
   ]
  },
  {
   "cell_type": "markdown",
   "id": "b61dadc6-c1b4-43ef-b185-5a43ee8f3ced",
   "metadata": {
    "tags": []
   },
   "source": [
    "Colors to use for COSMOS-g, -r, -i and ELAIS-g, -r, -i"
   ]
  },
  {
   "cell_type": "code",
   "execution_count": 23,
   "id": "ac8798ee-938f-4c71-a7ba-1d1854f8b2bf",
   "metadata": {
    "tags": []
   },
   "outputs": [],
   "source": [
    "clr = ['darkgreen', 'firebrick', 'saddlebrown', 'limegreen', 'orange', 'lightcoral']\n",
    "\n",
    "all_filters = ['g','r','i']\n",
    "all_fcolors = ['green','red','blue']\n",
    "all_fshapes = ['o','s','^']\n",
    "all_fsizes  = [5, 5, 7]"
   ]
  },
  {
   "cell_type": "code",
   "execution_count": 4,
   "id": "f67a2574-5b5f-42f8-a7c2-e6559c8123c3",
   "metadata": {
    "tags": []
   },
   "outputs": [],
   "source": [
    "fnm = '../all_nightly_epochs_files/candidate_lightcurves.dat'\n",
    "\n",
    "candLC_field = np.loadtxt(fnm, dtype='str', usecols=(0))\n",
    "candLC_candid = np.loadtxt(fnm, dtype='str', usecols=(1))\n",
    "candLC_caldate = np.loadtxt(fnm, dtype='str', usecols=(2))\n",
    "candLC_mjd = np.loadtxt(fnm, dtype='float', usecols=(3))\n",
    "candLC_filter = np.loadtxt(fnm, dtype='str', usecols=(4))\n",
    "candLC_Nobj = np.loadtxt(fnm, dtype='int', usecols=(5))\n",
    "candLC_mag = np.loadtxt(fnm, dtype='float', usecols=(6))\n",
    "candLC_mage = np.loadtxt(fnm, dtype='float', usecols=(7))\n",
    "candLC_mrb = np.loadtxt(fnm, dtype='float', usecols=(8))\n",
    "candLC_lef = np.loadtxt(fnm, dtype='float', usecols=(9))\n",
    "\n",
    "del fnm"
   ]
  },
  {
   "cell_type": "markdown",
   "id": "e16b24de-308e-418d-a4a3-eae7f92e0022",
   "metadata": {},
   "source": [
    "### Load the candidate lightcurves"
   ]
  },
  {
   "cell_type": "code",
   "execution_count": 5,
   "id": "94771cb5-afa4-4c6d-8bb5-4417c63e53d1",
   "metadata": {
    "tags": []
   },
   "outputs": [],
   "source": [
    "fnm = '../all_nightly_epochs_files/candidate_lightcurve_parameters.dat'\n",
    "\n",
    "paramLC_field = np.loadtxt( fnm, dtype='str', usecols=(0) )\n",
    "paramLC_candid = np.loadtxt( fnm, dtype='str', usecols=(1) )\n",
    "paramLC_tspan = np.loadtxt( fnm, dtype='float', usecols=(2) )\n",
    "paramLC_tspan_g = np.loadtxt( fnm, dtype='float', usecols=(3) )\n",
    "paramLC_tspan_r = np.loadtxt( fnm, dtype='float', usecols=(4) )\n",
    "paramLC_tspan_i = np.loadtxt( fnm, dtype='float', usecols=(5) )\n",
    "paramLC_minmag = np.loadtxt( fnm, dtype='float', usecols=(6) )\n",
    "paramLC_minmag_g = np.loadtxt( fnm, dtype='float', usecols=(7) )\n",
    "paramLC_minmag_r = np.loadtxt( fnm, dtype='float', usecols=(8) )\n",
    "paramLC_minmag_i = np.loadtxt( fnm, dtype='float', usecols=(9) )\n",
    "paramLC_amp = np.loadtxt( fnm, dtype='float', usecols=(10) )\n",
    "paramLC_amp_g = np.loadtxt( fnm, dtype='float', usecols=(11) )\n",
    "paramLC_amp_r = np.loadtxt( fnm, dtype='float', usecols=(12) )\n",
    "paramLC_amp_i = np.loadtxt( fnm, dtype='float', usecols=(13) )\n",
    "paramLC_neps = np.loadtxt( fnm, dtype='int', usecols=(14) )\n",
    "paramLC_neps_g = np.loadtxt( fnm, dtype='int', usecols=(15) )\n",
    "paramLC_neps_r = np.loadtxt( fnm, dtype='int', usecols=(16) )\n",
    "paramLC_neps_i = np.loadtxt( fnm, dtype='int', usecols=(17) )\n",
    "\n",
    "del fnm"
   ]
  },
  {
   "cell_type": "markdown",
   "id": "237da079-ccd3-4920-8bae-4a3bc7704165",
   "metadata": {},
   "source": [
    "## Constrain the rise slopes & times\n",
    "\n",
    "From Maria Drout's <a href=\"https://arxiv.org/abs/1405.3668\">paper</a>, I find a constraints I want to implement:\n",
    ">The transient must rise by 1.5 mag in the 9 days immediately prior to observed maximum light.\n",
    "\n",
    "To do this, I first calculate the rise slopes and rise times for each candidate in each filter."
   ]
  },
  {
   "cell_type": "code",
   "execution_count": 22,
   "id": "57990cee-9245-4693-a9e6-ff178c7cf1ce",
   "metadata": {},
   "outputs": [
    {
     "name": "stdout",
     "output_type": "stream",
     "text": [
      "CPU times: user 1min 47s, sys: 15.3 ms, total: 1min 47s\n",
      "Wall time: 1min 47s\n"
     ]
    }
   ],
   "source": [
    "%%time\n",
    "\n",
    "# define lists and arrays\n",
    "gslope = []\n",
    "rslope = []\n",
    "islope = []\n",
    "grise_time = []\n",
    "rrise_time = []\n",
    "irise_time = []\n",
    "gmin_date = np.zeros(len(paramLC_candid))\n",
    "rmin_date = np.zeros(len(paramLC_candid))\n",
    "imin_date = np.zeros(len(paramLC_candid))\n",
    "\n",
    "for i in range(len(paramLC_candid)):\n",
    "    \n",
    "    ### g band \n",
    "    # retrieve mjd date of the peak magnitude of each candidate in g-band\n",
    "    gtx = (np.where((candLC_candid == paramLC_candid[i]) & (candLC_filter == 'g')))[0]\n",
    "    if len(gtx) > 1: \n",
    "        gtx2 = np.where((candLC_candid == paramLC_candid[i]) & (candLC_filter == 'g') & (candLC_mag ==candLC_mag[gtx].min()))[0] \n",
    "        gmin_date[i] = candLC_mjd[gtx2][0]\n",
    "    gtx3 = np.where((candLC_candid == paramLC_candid[i]) & (candLC_filter == 'g') & (candLC_mjd <= gmin_date[i]))[0]\n",
    "    if len(candLC_mag[gtx3]) > 1:\n",
    "    # calculate rise time and rise slope in g-band\n",
    "        grise_mag = candLC_mag[gtx3[0]] - candLC_mag[gtx3[-1]] # get change in mag between first detection and peak\n",
    "        grise_t = candLC_mjd[gtx3[-1]] - candLC_mjd[gtx3[0]] # get change in time between first detection and peak\n",
    "        grise_time.append(candLC_mjd[gtx3[-1]] - candLC_mjd[gtx3[0]])\n",
    "        gslope.append(grise_mag/grise_t) # get rise slope\n",
    "    else:\n",
    "        grise_mag = -99.0\n",
    "        grise_time.append(99.0)\n",
    "        gslope.append(-99.0)\n",
    "    \n",
    "    ### r band\n",
    "    # retrieve mjd date of the peak magnitude of each candidate in r-band\n",
    "    rtx = (np.where((candLC_candid == paramLC_candid[i]) & (candLC_filter == 'r')))[0]\n",
    "    if len(rtx) > 1: \n",
    "        rtx2 = np.where((candLC_candid == paramLC_candid[i]) & (candLC_filter == 'r') & (candLC_mag ==candLC_mag[rtx].min()))[0]\n",
    "        rmin_date[i] = candLC_mjd[rtx2][0]\n",
    "    rtx3 = np.where((candLC_candid == paramLC_candid[i]) & (candLC_filter == 'r') & (candLC_mjd <= rmin_date[i]))[0]\n",
    "    if len(candLC_mag[rtx3]) > 1:\n",
    "    # calculate rise time and rise slope in r-band\n",
    "        rrise_mag = candLC_mag[rtx3[0]] - candLC_mag[rtx3[-1]] # get change in mag between first detection and peak\n",
    "        rrise_t = candLC_mjd[rtx3[-1]] - candLC_mjd[rtx3[0]] # get change in time between first detection and peak\n",
    "        rrise_time.append(candLC_mjd[rtx3[-1]] - candLC_mjd[rtx3[0]]) \n",
    "        rslope.append(rrise_mag/rrise_t) # get rise slope\n",
    "    else:\n",
    "        rrise_mag = -99.0\n",
    "        rrise_time.append(99.0)\n",
    "        rslope.append(-99.0)\n",
    "    \n",
    "    ### i band\n",
    "    # retrieve mjd date of the peak magnitude of each candidate in i-band\n",
    "    itx = (np.where((candLC_candid == paramLC_candid[i]) & (candLC_filter == 'i')))[0]\n",
    "    if len(itx) > 1: \n",
    "        itx2 = np.where((candLC_candid == paramLC_candid[i]) & (candLC_filter == 'i') & (candLC_mag ==candLC_mag[itx].min()))[0]\n",
    "        imin_date[i] = candLC_mjd[itx2][0]\n",
    "    itx3 = np.where((candLC_candid == paramLC_candid[i]) & (candLC_filter == 'i') & (candLC_mjd <= imin_date[i]))[0]\n",
    "    if len(candLC_mag[itx3]) > 1:\n",
    "    # calculate rise time and rise slope in i-band\n",
    "        irise_mag = candLC_mag[itx3[0]] - candLC_mag[itx3[-1]] # get change in mag between first detection and peak\n",
    "        irise_t = candLC_mjd[itx3[-1]] - candLC_mjd[itx3[0]] # get change in time between first detection and peak\n",
    "        irise_time.append(candLC_mjd[itx3[-1]] - candLC_mjd[itx3[0]])\n",
    "        islope.append(irise_mag/irise_t) # get rise slope\n",
    "    else:\n",
    "        irise_mag = -99.0\n",
    "        irise_time.append(99.0)\n",
    "        islope.append(-99.0)\n",
    "        \n",
    "gslope = np.array(gslope)\n",
    "rslope = np.array(rslope)\n",
    "islope = np.array(islope)\n",
    "grise_time = np.array(grise_time)\n",
    "rrise_time = np.array(rrise_time)\n",
    "irise_time = np.array(irise_time)\n",
    "\n",
    "del gtx, gtx2, gtx3, rtx, rtx2, rtx3, itx, itx2,itx3"
   ]
  },
  {
   "cell_type": "markdown",
   "id": "65e125e8-9895-465d-a90b-67f6784219a2",
   "metadata": {},
   "source": [
    "## Identify potential fast transients\n",
    "We constrain the timespans, peak magnitudes, amplitudes, rise times, and rise slopes:\n",
    " * Short timespan (4 to 40 days) in **every filter**\n",
    " * Reaches a peak of at least 22 mag in **any filter**\n",
    " * Has an amplitude of at least 0.5 mag in **any filter**\n",
    " * Prior to peak, rises in brightness with a slope of at least 1.5 mags/9 days in at least **2 filters**\n",
    " * Prior to peak, rises in brightness in less than 10 days in at least **2 filters**\n",
    "\n",
    "If a candidate satisfies all above constraints, we deem it a potential fast transient."
   ]
  },
  {
   "cell_type": "code",
   "execution_count": 24,
   "id": "4f5fb220-384b-4c88-90b8-6359d0af9966",
   "metadata": {
    "tags": []
   },
   "outputs": [
    {
     "name": "stdout",
     "output_type": "stream",
     "text": [
      "Number of potential fast transients in COSMOS:  0\n",
      "Number of potential fast transients in ELAIS:  1\n"
     ]
    }
   ],
   "source": [
    "# flag which candidates satisfy constraints in at least 2 bands\n",
    "paramLC_potft = np.zeros( len(paramLC_field), dtype='int' )\n",
    "\n",
    "tx = np.where((((paramLC_tspan_g >= 4) & (paramLC_tspan_g <= 40)) & \n",
    "               ((paramLC_tspan_r >= 4) & (paramLC_tspan_r <= 40)) & \n",
    "               ((paramLC_tspan_i >= 4) & (paramLC_tspan_i <= 40))) & \n",
    "              ((paramLC_minmag_g < 22) | (paramLC_minmag_r < 22) | (paramLC_minmag_i < 22)) &\n",
    "              ((paramLC_amp_g >= 0.5) | (paramLC_amp_r >= 0.5) | (paramLC_amp_i >= 0.5)))[0]\n",
    "\n",
    "for t in tx:\n",
    "    cntr = 0\n",
    "    if (gslope[t] >= 1.5/9) & (grise_time[t] < 10):\n",
    "        cntr += 1\n",
    "    if (rslope[t] >= 1.5/9) & (rrise_time[t] < 10):\n",
    "        cntr += 1\n",
    "    if (islope[t] >= 1.5/9) & (irise_time[t] < 10):\n",
    "        cntr += 1\n",
    "\n",
    "    if (cntr == 2) | (cntr == 3):\n",
    "        paramLC_potft[t] = 1\n",
    "    \n",
    "    del cntr\n",
    "del tx\n",
    "\n",
    "tx = np.where( (paramLC_potft == 1) & (paramLC_field == 'COSMOS') )[0]\n",
    "print('Number of potential fast transients in COSMOS: ',len(tx))\n",
    "del tx\n",
    "tx = np.where( (paramLC_potft == 1) & (paramLC_field == 'ELAIS') )[0]\n",
    "print('Number of potential fast transients in ELAIS: ',len(tx))\n",
    "del tx"
   ]
  },
  {
   "cell_type": "markdown",
   "id": "d28dbd06-f527-4ab9-a7db-a726c28aba6c",
   "metadata": {},
   "source": [
    "### Write the list of potential fast transients to file"
   ]
  },
  {
   "cell_type": "code",
   "execution_count": 10,
   "id": "105536de-30b0-4629-bc13-1b98660bee37",
   "metadata": {
    "tags": []
   },
   "outputs": [
    {
     "name": "stdout",
     "output_type": "stream",
     "text": [
      "Number of potential fast transients:  1\n"
     ]
    }
   ],
   "source": [
    "fout = open('potential_fast_transients_list.dat', 'w')\n",
    "tx = np.where(paramLC_potft == 1)[0]\n",
    "for x in tx:\n",
    "    fout.write(paramLC_candid[x]+'\\n')\n",
    "fout.close()\n",
    "print('Number of potential fast transients: ', len(tx))\n",
    "del tx"
   ]
  },
  {
   "cell_type": "markdown",
   "id": "2e7dadb1-fcf8-4bcc-8567-0fcc718935ca",
   "metadata": {},
   "source": [
    "### Plot the potential fast transient lightcurves\n",
    "\n",
    "DC22icaog shows both a rise and fall, just over two weeks. This looks like a real fast transient."
   ]
  },
  {
   "cell_type": "code",
   "execution_count": 15,
   "id": "b8257998-8051-4f59-a410-ba270bf11a41",
   "metadata": {
    "tags": []
   },
   "outputs": [
    {
     "data": {
      "image/png": "[encoded data removed]",
      "text/plain": [
       "<Figure size 1200x700 with 1 Axes>"
      ]
     },
     "metadata": {},
     "output_type": "display_data"
    }
   ],
   "source": [
    "sx = np.where(paramLC_potft == 1)[0]\n",
    "np.random.shuffle(sx)\n",
    "\n",
    "plt.figure(figsize=(12,7))\n",
    "\n",
    "s = 0\n",
    "for i in range(1):\n",
    "    plt.ylabel('apparent magnitude', fontsize=14)\n",
    "    for j in range(1):\n",
    "        for f,filt in enumerate(all_filters):\n",
    "            cx0 = np.where((candLC_candid == paramLC_candid[sx[s]]) & \\\n",
    "                           (candLC_filter == filt) & (candLC_mrb > 0.4))[0]\n",
    "            cx1 = np.where((candLC_candid == paramLC_candid[sx[s]]) & \\\n",
    "                           (candLC_filter == filt) & (candLC_mrb <= 0.4) & (candLC_lef == 0))[0]\n",
    "            cx2 = np.where((candLC_candid == paramLC_candid[sx[s]]) & \\\n",
    "                           (candLC_filter == filt) & (candLC_mrb <= 0.4) & (candLC_lef == 1))[0]\n",
    "            plt.plot(candLC_mjd[cx0]-59300., candLC_mag[cx0], \n",
    "                         all_fshapes[f], ms=all_fsizes[f], mew=0, alpha=0.8, color=all_fcolors[f], label=filt)\n",
    "            plt.plot(candLC_mjd[cx1]-59300., candLC_mag[cx1], \n",
    "                         all_fshapes[f], ms=all_fsizes[f], mew=1, alpha=0.8, color='none', mec=all_fcolors[f])\n",
    "            plt.plot(candLC_mjd[cx2]-59300., candLC_mag[cx2], \n",
    "                         all_fshapes[f], ms=all_fsizes[f]-1, mew=0, alpha=0.4, color=all_fcolors[f])\n",
    "            if f == 0:\n",
    "                xmin = 60000.\n",
    "                xmax = 0.\n",
    "                if (len(cx0) > 0):\n",
    "                    xmin = np.min(candLC_mjd[cx0])\n",
    "                    xmax = np.max(candLC_mjd[cx0])\n",
    "                elif (len(cx0) > 0) & (len(cx1) > 0):\n",
    "                    xmin = np.min([candLC_mjd[cx0], np.min(candLC_mjd[cx1])])\n",
    "                    xmax = np.max([candLC_mjd[cx0], np.min(candLC_mjd[cx1])])\n",
    "            elif f > 0:\n",
    "                if (len(cx0) > 0):\n",
    "                    xmin = np.min([xmin, np.min(candLC_mjd[cx0])])\n",
    "                    xmax = np.max([xmax, np.min(candLC_mjd[cx0])])\n",
    "                elif (len(cx0) > 0) & (len(cx1) > 0):\n",
    "                    xmin = np.min([xmin, np.min(candLC_mjd[cx0]), np.min(candLC_mjd[cx1])])\n",
    "                    xmax = np.max([xmax, np.min(candLC_mjd[cx0]), np.min(candLC_mjd[cx1])])\n",
    "                \n",
    "            del cx0, cx1, cx2\n",
    "        plt.gca().invert_yaxis()\n",
    "        plt.xlim([xmin-59300.-5, xmax-59300.+5])\n",
    "        del xmin, xmax\n",
    "        plt.title(paramLC_candid[sx[s]])\n",
    "        s += 1\n",
    "\n",
    "plt.legend(loc='upper right', labelspacing=0.1, handletextpad=0.1, fontsize=14)\n",
    "\n",
    "for j in range(5):\n",
    "    plt.xlabel('MJD-59300 (days)', fontsize=14)\n",
    "\n",
    "plt.tight_layout()\n",
    "plt.show()\n",
    "del sx, s"
   ]
  },
  {
   "cell_type": "markdown",
   "id": "aabf20db-ef2d-44ff-879f-7d80039b1fde",
   "metadata": {},
   "source": [
    "### Plot slope lines for the potential fast transient, DC22icaog, lightcurve\n",
    "\n",
    "We ensure the calculated rise slope matches the lightcurve data."
   ]
  },
  {
   "cell_type": "code",
   "execution_count": 19,
   "id": "2a07d7e2-a771-4631-ba65-63aabab47a73",
   "metadata": {
    "tags": []
   },
   "outputs": [
    {
     "data": {
      "image/png": "[encoded data removed]",
      "text/plain": [
       "<Figure size 1000x600 with 1 Axes>"
      ]
     },
     "metadata": {},
     "output_type": "display_data"
    }
   ],
   "source": [
    "tx = np.where((((paramLC_tspan_g >= 4) & (paramLC_tspan_g <= 40)) & \n",
    "               ((paramLC_tspan_r >= 4) & (paramLC_tspan_r <= 40)) & \n",
    "               ((paramLC_tspan_i >= 4) & (paramLC_tspan_i <= 40))) & \n",
    "              ((paramLC_minmag_g < 22) | (paramLC_minmag_r < 22) | (paramLC_minmag_i < 22)) &\n",
    "              ((paramLC_amp_g >= 0.5) | (paramLC_amp_r >= 0.5) | (paramLC_amp_i >= 0.5)))[0]\n",
    "tx2 = np.where((gslope[tx] >= 1.5/9) & (grise_time[tx] <10))\n",
    "\n",
    "gtx = np.where((candLC_candid == 'DC22icaog') & (candLC_filter == 'g'))\n",
    "rtx = np.where((candLC_candid == 'DC22icaog') & (candLC_filter == 'r'))\n",
    "itx = np.where((candLC_candid == 'DC22icaog') & (candLC_filter == 'i'))\n",
    "\n",
    "plt.figure(figsize=(10,6))\n",
    "\n",
    "plt.plot(candLC_mjd[gtx]-59747., candLC_mag[gtx], all_fshapes[0], ms=all_fsizes[0], mew=0, alpha=0.6, color=clr[0])\n",
    "plt.plot(candLC_mjd[rtx]-59747., candLC_mag[rtx], all_fshapes[1], ms=all_fsizes[1], mew=0, alpha=0.6, color=clr[1])\n",
    "plt.plot(candLC_mjd[itx]-59747., candLC_mag[itx], all_fshapes[2], ms=all_fsizes[2], mew=0, alpha=0.6, color=clr[2])\n",
    "del gtx, rtx, itx\n",
    "\n",
    "x = [1, 2, 3, 4]\n",
    "gy = [-(gslope[tx][tx2][0]*i)+ 23.2 for i in x]\n",
    "ry = [-(rslope[tx][tx2][0]*i)+ 23.2 for i in x]\n",
    "iy = [-(islope[tx][tx2][0]*i)+ 23.2 for i in x]\n",
    "\n",
    "plt.plot(x, gy, c='green', lw=1, ls='dashed', label =f'g slope={gslope[tx][tx2][0]:.4f}')\n",
    "plt.plot(x, ry, c='red', lw=1, ls='dotted', label =f'r slope={rslope[tx][tx2][0]:.4f}')\n",
    "plt.plot(x, iy, c='saddlebrown', lw=1, ls='dashdot', label =f'i slope={islope[tx][tx2][0]:.4f}')\n",
    "del x, gy, ry, iy, tx, tx2\n",
    "plt.ylabel('apparent mag')\n",
    "plt.title('DC22icaog with rise slope')\n",
    "plt.xlim(0, 23)\n",
    "\n",
    "plt.gca().invert_yaxis()\n",
    "plt.legend()\n",
    "plt.show()"
   ]
  },
  {
   "cell_type": "markdown",
   "id": "db07e8e7-2e42-44ac-8378-9ab9d7becd31",
   "metadata": {},
   "source": [
    "### Save individual plots as PNG files"
   ]
  },
  {
   "cell_type": "code",
   "execution_count": 20,
   "id": "08826202-637e-423c-93a6-d1b888b19b22",
   "metadata": {},
   "outputs": [],
   "source": [
    "sx = np.where(paramLC_potft == 1)[0]\n",
    "plt.rcParams.update({'font.size': 14})\n",
    "\n",
    "for x in range(len(sx)):\n",
    "    plt.figure(figsize=(8,6))\n",
    "    \n",
    "    for f,filt in enumerate(all_filters):\n",
    "        cx0 = np.where((candLC_candid == paramLC_candid[sx[x]]) & \\\n",
    "                       (candLC_filter == filt) & (candLC_mrb > 0.4))[0]\n",
    "        cx1 = np.where((candLC_candid == paramLC_candid[sx[x]]) & \\\n",
    "                       (candLC_filter == filt) & (candLC_mrb <= 0.4) & (candLC_lef == 0))[0]\n",
    "        cx2 = np.where((candLC_candid == paramLC_candid[sx[x]]) & \\\n",
    "                       (candLC_filter == filt) & (candLC_mrb <= 0.4) & (candLC_lef == 1))[0]\n",
    "        plt.plot(candLC_mjd[cx0]-59300., candLC_mag[cx0], \n",
    "                 all_fshapes[f], ms=all_fsizes[f], mew=0, alpha=0.8, color=all_fcolors[f], label=filt)\n",
    "        plt.plot(candLC_mjd[cx1]-59300., candLC_mag[cx1], \n",
    "                 all_fshapes[f], ms=all_fsizes[f], mew=1, alpha=0.8, color='none', mec=all_fcolors[f], \n",
    "                 label=filt+' (R/B<0.4)')\n",
    "        plt.plot(candLC_mjd[cx2]-59300., candLC_mag[cx2], \n",
    "                 all_fshapes[f], ms=all_fsizes[f]-1, mew=0, alpha=0.4, color=all_fcolors[f])\n",
    "    cx = np.where(candLC_candid == paramLC_candid[sx[x]])[0]\n",
    "    xmin = np.min(candLC_mjd[cx])\n",
    "    xmax = np.max(candLC_mjd[cx])\n",
    "    del cx\n",
    "    plt.gca().invert_yaxis()\n",
    "    plt.title(paramLC_candid[sx[x]])\n",
    "    plt.legend(loc='best', labelspacing=0.1, handletextpad=0.1, fontsize=14)\n",
    "    plt.xlim([xmin-59300.-5, xmax-59300.+5])\n",
    "    del xmin, xmax\n",
    "    plt.xlabel('MJD-59300 (days)', fontsize=14)\n",
    "    plt.ylabel('apparent magnitude', fontsize=14)\n",
    "    plt.savefig('all_potential_fast_transients_plots/'+paramLC_candid[sx[x]]+'.png')\n",
    "    plt.close()\n",
    "\n",
    "del sx"
   ]
  },
  {
   "cell_type": "code",
   "execution_count": null,
   "id": "1d5f2828-c4c3-45c6-a971-1a12f5ece1b5",
   "metadata": {},
   "outputs": [],
   "source": []
  }
 ],
 "metadata": {
  "kernelspec": {
   "display_name": "NERSC Python",
   "language": "python",
   "name": "python3"
  },
  "language_info": {
   "codemirror_mode": {
    "name": "ipython",
    "version": 3
   },
   "file_extension": ".py",
   "mimetype": "text/x-python",
   "name": "python",
   "nbconvert_exporter": "python",
   "pygments_lexer": "ipython3",
   "version": "3.11.6"
  }
 },
 "nbformat": 4,
 "nbformat_minor": 5
}
