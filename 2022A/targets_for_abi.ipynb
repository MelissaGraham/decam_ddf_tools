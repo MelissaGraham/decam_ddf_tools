{
 "cells": [
  {
   "cell_type": "markdown",
   "id": "ec1a8230-120e-4ac9-bfad-f527b0210ca4",
   "metadata": {},
   "source": [
    "# Targets for Abi\n",
    "\n",
    "She's on at Magellan June 3 and 22, 2022, and needs second-half-night targets.\n",
    "\n",
    "| field | ra | dec|\n",
    "|------------|--------|----------|\n",
    "|COSMOS-1    | 150.0  |  3.1     |\n",
    "|COSMOS-2    | 149.22 | 1.75     |\n",
    "|COSMOS-3    | 150.78 | 1.75     |\n",
    "|DECaPS-East | 270.89 | -29.53   |\n",
    "|ELAIS-E1    | 7.8746 | -43.0096 |\n",
    "|ELAIS-E2    | 9.5    | -43.9980 |\n",
    "|DECaPS-West | 116.32 | -26.25   |\n",
    "\n",
    "## June 3\n",
    "\n",
    "There are no new ELAIS targets yet.\n",
    "\n",
    "COSMOS has set, as has DECaPS-West.\n",
    "\n",
    "So we're looking for DECaPS-East targets."
   ]
  },
  {
   "cell_type": "code",
   "execution_count": 1,
   "id": "d753256f-0961-429f-a799-d737d858e6d8",
   "metadata": {},
   "outputs": [],
   "source": [
    "import psycopg2\n",
    "import psycopg2.extras\n",
    "import getpass\n",
    "# from IPython.display import display\n",
    "# import ipywidgets\n",
    "\n",
    "import os\n",
    "import numpy as np\n",
    "import matplotlib as mpl\n",
    "import matplotlib.pyplot as plt\n",
    "# import pandas as pd\n",
    "\n",
    "from copy import deepcopy\n",
    "import time\n",
    "from astropy.time import Time\n",
    "\n",
    "font = {'size' : 15}\n",
    "mpl.rc('font', **font)"
   ]
  },
  {
   "cell_type": "code",
   "execution_count": 2,
   "id": "58c42e0b-e008-4a9a-aa01-2f0e2de7c15d",
   "metadata": {},
   "outputs": [
    {
     "name": "stdin",
     "output_type": "stream",
     "text": [
      "DB User:  mgraham\n",
      "DB Password:  ············\n"
     ]
    }
   ],
   "source": [
    "dbuser = input(\"DB User: \")\n",
    "dbpasswd = getpass.getpass(\"DB Password: \")"
   ]
  },
  {
   "cell_type": "code",
   "execution_count": 3,
   "id": "b88cbd3a-6a70-408c-8856-396516ba3500",
   "metadata": {},
   "outputs": [],
   "source": [
    "db = psycopg2.connect(f\"dbname='decat' user='{dbuser}' password='{dbpasswd}' host='decatdb.lbl.gov'\")\n",
    "\n",
    "db.autocommit = True # Makes the computer nicer about SQL syntax errors\n",
    "\n",
    "cursor = db.cursor( cursor_factory = psycopg2.extras.DictCursor )"
   ]
  },
  {
   "cell_type": "code",
   "execution_count": null,
   "id": "6619854f-bc3b-41ce-9b81-4007cc6e2d88",
   "metadata": {},
   "outputs": [],
   "source": [
    "### If you want to print table schema\n",
    "# tables = ['exposures','subtractions','objects','objectrbs','candidates']\n",
    "# tables = ['exposures','subtractions','objects','candidates']\n",
    "# for table in tables:\n",
    "#     query = \"SELECT column_name, data_type FROM information_schema.columns WHERE table_name=%s\"\n",
    "#     cursor.execute( query, ( table, ))\n",
    "#     print( f\"\\nTABLE: {table}\\n===========================\" )\n",
    "#     for row in cursor:\n",
    "#         print( f\"{row['column_name']:24s}  :  {row['data_type']:s}\" )"
   ]
  },
  {
   "cell_type": "markdown",
   "id": "28703dac-a134-48bc-9149-9d28061dc882",
   "metadata": {},
   "source": [
    "### Look for recent candidates in DECaPS-East"
   ]
  },
  {
   "cell_type": "code",
   "execution_count": 4,
   "id": "7d506570-3282-439e-8f47-96c21ff501af",
   "metadata": {},
   "outputs": [
    {
     "name": "stdout",
     "output_type": "stream",
     "text": [
      "22.438858032226562\n",
      "1348524\n"
     ]
    }
   ],
   "source": [
    "t1 = time.time()\n",
    "\n",
    "query = (\"SELECT id, ra, dec, created_at, modified FROM candidates \"\n",
    "         \"WHERE ra > 268 AND ra < 273 AND dec < -27 AND dec > -32\")\n",
    "\n",
    "cursor.execute( query )\n",
    "results = np.array( cursor.fetchall() ).transpose()\n",
    "\n",
    "t2 = time.time()\n",
    "print(t2-t1)\n",
    "del t1,t2\n",
    "\n",
    "cand_id       = np.asarray( results[0] )\n",
    "cand_ra       = np.asarray( results[1], dtype='float' )\n",
    "cand_dec      = np.asarray( results[2], dtype='float' )\n",
    "cand_created  = np.asarray( results[3], dtype='str' )\n",
    "cand_modified = np.asarray( results[4], dtype='str' )\n",
    "del query, results\n",
    "\n",
    "print(len(cand_id))"
   ]
  },
  {
   "cell_type": "code",
   "execution_count": 5,
   "id": "dbfef2f5-48a9-4c52-83db-a061f898f0cf",
   "metadata": {},
   "outputs": [
    {
     "name": "stdout",
     "output_type": "stream",
     "text": [
      "Dates of DECaPS-East candidates, first and last created.\n",
      "2021-06-03 15:35:17.368927\n",
      "2022-03-30 10:30:54.504370\n",
      " \n",
      "Dates of DECaPS-East candidates, first and last modified.\n",
      "2021-06-03 15:35:17.368927\n",
      "2022-03-30 10:30:54.504370\n",
      " \n",
      "There does not seem to be any DECaPS-East candidates from 2022A, started April 2022\n"
     ]
    }
   ],
   "source": [
    "print('Dates of DECaPS-East candidates, first and last created.')\n",
    "sx = np.argsort( cand_created )\n",
    "print(cand_created[sx[0]])\n",
    "print(cand_created[sx[-1]])\n",
    "print(' ')\n",
    "print('Dates of DECaPS-East candidates, first and last modified.')\n",
    "sx = np.argsort( cand_modified )\n",
    "print(cand_modified[sx[0]])\n",
    "print(cand_modified[sx[-1]])\n",
    "print(' ')\n",
    "print('There does not seem to be any DECaPS-East candidates from 2022A, started April 2022')"
   ]
  },
  {
   "cell_type": "markdown",
   "id": "bbac9ea9-eadb-4765-913e-8b66ee846fce",
   "metadata": {},
   "source": [
    "### Look for recent objects in DECaPS-East"
   ]
  },
  {
   "cell_type": "code",
   "execution_count": 6,
   "id": "b4413d8b-8ee3-4bb0-8cf4-3b2b67135578",
   "metadata": {},
   "outputs": [
    {
     "name": "stdout",
     "output_type": "stream",
     "text": [
      "105.28891634941101\n",
      "3732716\n"
     ]
    }
   ],
   "source": [
    "t1 = time.time()\n",
    "\n",
    "query = (\"SELECT o.id, o.ra, o.dec, o.candidate_id, o.subtraction_id, o.mag, o.magerr, o.ignore, \"\n",
    "         \"rbs.rb, sub.id, sub.exposure_id, exp.mjd \"\n",
    "         \"FROM objects AS o \"\n",
    "         \"JOIN objectrbs AS rbs ON o.id=rbs.object_id AND rbs.rbtype_id=1 \"\n",
    "         \"JOIN subtractions AS sub ON sub.id=o.subtraction_id \"\n",
    "         \"JOIN exposures AS exp ON exp.id=sub.exposure_id \"\n",
    "         \"WHERE o.ra > 268 AND o.ra < 273 AND o.dec < -27 AND o.dec > -32\")\n",
    "cursor.execute( query )\n",
    "results = np.array( cursor.fetchall() ).transpose()\n",
    "\n",
    "t2 = time.time()\n",
    "print(t2-t1)\n",
    "del t1,t2\n",
    "\n",
    "obj_id     = np.asarray( results[0], dtype='int' )\n",
    "obj_ra     = np.asarray( results[1], dtype='float' )\n",
    "obj_dec    = np.asarray( results[2], dtype='float' )\n",
    "obj_candid = np.asarray( results[3] )\n",
    "obj_subid  = np.asarray( results[4], dtype='int' )\n",
    "obj_mag    = np.asarray( results[5], dtype='float' )\n",
    "obj_magerr = np.asarray( results[6], dtype='float' )\n",
    "obj_ignore = np.asarray( results[7] )\n",
    "obj_rb     = np.asarray( results[8], dtype='float' )\n",
    "obj_subid  = np.asarray( results[9], dtype='int' )\n",
    "obj_expid  = np.asarray( results[10], dtype='int' )\n",
    "obj_mjd    = np.asarray( results[11], dtype='float' )\n",
    "\n",
    "del query, results\n",
    "\n",
    "print(len(obj_id))"
   ]
  },
  {
   "cell_type": "code",
   "execution_count": 8,
   "id": "63d32f27-0091-4ced-afbc-0be38645115d",
   "metadata": {},
   "outputs": [
    {
     "name": "stdout",
     "output_type": "stream",
     "text": [
      "First object detected in DECaPS-East on:  2021-03-22 09:13:33.030\n",
      "Most recent object detected in DECaPS-East on:  2021-10-23 00:32:37.663\n"
     ]
    }
   ],
   "source": [
    "sx = np.argsort(obj_mjd)\n",
    "\n",
    "temp1 = Time(obj_mjd[sx[0]], format='mjd')\n",
    "temp2 = Time(obj_mjd[sx[-1]], format='mjd')\n",
    "\n",
    "print('First object detected in DECaPS-East on: ',temp1.iso)\n",
    "print('Most recent object detected in DECaPS-East on: ',temp2.iso)"
   ]
  },
  {
   "cell_type": "code",
   "execution_count": null,
   "id": "3edf557e-4836-4797-a243-d9b64b3c83d9",
   "metadata": {},
   "outputs": [],
   "source": []
  }
 ],
 "metadata": {
  "kernelspec": {
   "display_name": "NERSC Python",
   "language": "python",
   "name": "python3"
  },
  "language_info": {
   "codemirror_mode": {
    "name": "ipython",
    "version": 3
   },
   "file_extension": ".py",
   "mimetype": "text/x-python",
   "name": "python",
   "nbconvert_exporter": "python",
   "pygments_lexer": "ipython3",
   "version": "3.9.7"
  }
 },
 "nbformat": 4,
 "nbformat_minor": 5
}
