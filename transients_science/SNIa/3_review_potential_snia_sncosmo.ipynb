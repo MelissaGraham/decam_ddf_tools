{
 "cells": [
  {
   "cell_type": "markdown",
   "id": "78028554-e03f-43d8-ade8-eae961e01340",
   "metadata": {
    "tags": []
   },
   "source": [
    "# Review and flag the fit results from `sncosmo`\n",
    "\n",
    "Authors: Midori Rollins and Melissa Graham\n",
    "\n",
    "Create and examine the distributions for the fit parameters `z`, `t0`, `x0`, `x1`, and `c`.\n",
    "\n",
    "Review the lightcurves for potential SNIa that have outlier fit parameters.\n",
    "\n",
    "Flag the reviewed lightcurves as 0 (ok) or 1 (poor).\n",
    "\n",
    "Write the fit flags to file `all_fit_snia_files/results_sncosmos_fit_review.dat'`."
   ]
  },
  {
   "cell_type": "markdown",
   "id": "2eb32894-aa32-441a-9681-f10e255bb987",
   "metadata": {},
   "source": [
    "## Set up and read in data\n",
    "\n",
    "Import packages."
   ]
  },
  {
   "cell_type": "code",
   "execution_count": 1,
   "id": "2c159a03-6baf-4cfc-ae6d-066fb60a0d4b",
   "metadata": {
    "tags": []
   },
   "outputs": [],
   "source": [
    "import numpy as np\n",
    "import matplotlib.pyplot as plt\n",
    "import time"
   ]
  },
  {
   "cell_type": "markdown",
   "id": "c31530c8-7045-40c4-8de9-de7dfb4f3076",
   "metadata": {},
   "source": [
    "Read in the `sncosmo` results.\n",
    "\n",
    "The fit peak magnitudes are read in but not used in this notebook."
   ]
  },
  {
   "cell_type": "code",
   "execution_count": 2,
   "id": "19f6ee8c-0297-4136-9fb1-8676174a9d27",
   "metadata": {
    "tags": []
   },
   "outputs": [],
   "source": [
    "fnm = 'all_fit_snia_files/results_sncosmos.dat'\n",
    "\n",
    "fit_cand = np.loadtxt(fnm, dtype='str', usecols=(0))\n",
    "fit_est_z = np.loadtxt(fnm, dtype='float', usecols=(1))\n",
    "fit_in_zlo = np.loadtxt(fnm, dtype='float', usecols=(2))\n",
    "fit_in_zhi = np.loadtxt(fnm, dtype='float', usecols=(3))\n",
    "fit_z = np.loadtxt(fnm, dtype='float', usecols=(4))\n",
    "fit_ze = np.loadtxt(fnm, dtype='float', usecols=(5))\n",
    "fit_t0 = np.loadtxt(fnm, dtype='float', usecols=(6))\n",
    "fit_t0e = np.loadtxt(fnm, dtype='float', usecols=(7))\n",
    "fit_x0 = np.loadtxt(fnm, dtype='float', usecols=(8))\n",
    "fit_x0e = np.loadtxt(fnm, dtype='float', usecols=(9))\n",
    "fit_x1 = np.loadtxt(fnm, dtype='float', usecols=(10))\n",
    "fit_x1e = np.loadtxt(fnm, dtype='float', usecols=(11))\n",
    "fit_c = np.loadtxt(fnm, dtype='float', usecols=(12))\n",
    "fit_ce = np.loadtxt(fnm, dtype='float', usecols=(13))\n",
    "\n",
    "fit_pmB = np.loadtxt(fnm, dtype='float', usecols=(14))\n",
    "fit_pmg = np.loadtxt(fnm, dtype='float', usecols=(15))\n",
    "fit_pmr = np.loadtxt(fnm, dtype='float', usecols=(16))\n",
    "fit_pmi = np.loadtxt(fnm, dtype='float', usecols=(17))\n",
    "\n",
    "del fnm"
   ]
  },
  {
   "cell_type": "markdown",
   "id": "b55b7499-b1fc-4d3f-b869-c1a7ce26c55c",
   "metadata": {},
   "source": [
    "## Explore the parameter distributions for all fits\n",
    "\n",
    "We already know to reject any with values -99.9, the placeholder for \"no fit\"."
   ]
  },
  {
   "cell_type": "code",
   "execution_count": 3,
   "id": "48ebf6ce-1869-46a8-948e-7215c9d953bb",
   "metadata": {},
   "outputs": [
    {
     "data": {
      "image/png": "[encoded data removed]",
      "text/plain": [
       "<Figure size 936x720 with 10 Axes>"
      ]
     },
     "metadata": {
      "needs_background": "light"
     },
     "output_type": "display_data"
    }
   ],
   "source": [
    "tx = np.where(fit_z > -90.0)[0]\n",
    "\n",
    "fig, ax = plt.subplots(5, 2)\n",
    "fig.set_size_inches(13, 10)\n",
    "ax[0,0].hist(fit_z[tx], bins=20, density=False, histtype='stepfilled', color='lightseagreen')\n",
    "ax[0,0].set_xlabel('z')\n",
    "ax[0,1].hist(fit_ze[tx], bins=20, density=False, histtype='stepfilled', color='lightcoral')\n",
    "ax[0,1].set_xlabel('z error')\n",
    "ax[1,0].hist(fit_t0[tx], bins=20, density=False, histtype='stepfilled', color='lightseagreen')\n",
    "ax[1,0].set_xlabel('t0')\n",
    "ax[1,1].hist(fit_t0e[tx], bins=20, density=False, histtype='stepfilled', color='lightcoral')\n",
    "ax[1,1].set_xlabel('t0 error')\n",
    "ax[2,0].hist(fit_x0[tx], bins=20, density=False, histtype='stepfilled', color='lightseagreen')\n",
    "ax[2,0].set_xlabel('x0')\n",
    "ax[2,1].hist(fit_x0e[tx], bins=20, density=False, histtype='stepfilled', color='lightcoral')\n",
    "ax[2,1].set_xlabel('x0 error')\n",
    "ax[3,0].hist(fit_x1[tx], bins=20, density=False, histtype='stepfilled', color='lightseagreen')\n",
    "ax[3,0].set_xlabel('x1')\n",
    "ax[3,1].hist(fit_x1e[tx], bins=20, density=False, histtype='stepfilled', color='lightcoral')\n",
    "ax[3,1].set_xlabel('x1 error')\n",
    "ax[4,0].hist(fit_c[tx], bins=20, density=False, histtype='stepfilled', color='lightseagreen')\n",
    "ax[4,0].set_xlabel('c')\n",
    "ax[4,1].hist(fit_ce[tx], bins=20, density=False, histtype='stepfilled', color='lightcoral')\n",
    "ax[4,1].set_xlabel('c error')\n",
    "fig.tight_layout()\n",
    "fig.show()"
   ]
  },
  {
   "cell_type": "markdown",
   "id": "9d8ff5d1-8239-493d-9941-d71e4854cc53",
   "metadata": {},
   "source": [
    "### Examine the one major outlier in `x1` (DC21vfl)\n",
    "\n",
    "There is one potential SNIa with a very high value of `x1` (120000)."
   ]
  },
  {
   "cell_type": "code",
   "execution_count": 4,
   "id": "894a503c-b689-44bc-ba6a-a14283a0f2f4",
   "metadata": {
    "tags": []
   },
   "outputs": [
    {
     "name": "stdout",
     "output_type": "stream",
     "text": [
      "['DC21vfl']\n"
     ]
    }
   ],
   "source": [
    "tx = np.where(fit_x1 > 20000)[0]\n",
    "print(fit_cand[tx])"
   ]
  },
  {
   "cell_type": "markdown",
   "id": "8f366703-d55b-4d8d-8230-bba15087f2a8",
   "metadata": {},
   "source": [
    "It's lightcurve has few points and does not appear to be SNIa-like.\n",
    "\n",
    "Reject it by resetting the fit results to -99.9."
   ]
  },
  {
   "cell_type": "code",
   "execution_count": 5,
   "id": "ef98c05b-c1ad-4af8-a297-e52ff1461ff2",
   "metadata": {
    "tags": []
   },
   "outputs": [],
   "source": [
    "fit_z[tx] = -99.9\n",
    "fit_ze[tx] = -99.9\n",
    "fit_t0[tx] = -99.9\n",
    "fit_t0e[tx] = -99.9\n",
    "fit_x0[tx] = -99.9\n",
    "fit_x0e[tx] = -99.9\n",
    "fit_x1[tx] = -99.9\n",
    "fit_x1e[tx] = -99.9\n",
    "fit_c[tx] = -99.9\n",
    "fit_ce[tx] = -99.9"
   ]
  },
  {
   "cell_type": "code",
   "execution_count": 6,
   "id": "59e7b90d-4d42-42a9-847b-b223c0394a17",
   "metadata": {
    "tags": []
   },
   "outputs": [],
   "source": [
    "del tx"
   ]
  },
  {
   "cell_type": "markdown",
   "id": "995b75c6-f8eb-40f2-ab93-d5167104ecb4",
   "metadata": {},
   "source": [
    "### Replot distributions without DC21vfl"
   ]
  },
  {
   "cell_type": "code",
   "execution_count": 7,
   "id": "918a7cc4-c4c7-4970-818b-a7158c5ae063",
   "metadata": {
    "tags": []
   },
   "outputs": [
    {
     "data": {
      "image/png": "[encoded data removed]",
      "text/plain": [
       "<Figure size 936x720 with 10 Axes>"
      ]
     },
     "metadata": {
      "needs_background": "light"
     },
     "output_type": "display_data"
    }
   ],
   "source": [
    "tx = np.where(fit_z > -90.0)[0]\n",
    "\n",
    "fig, ax = plt.subplots(5, 2)\n",
    "fig.set_size_inches(13, 10)\n",
    "ax[0,0].hist(fit_z[tx], bins=20, density=False, histtype='stepfilled', color='lightseagreen')\n",
    "ax[0,0].set_xlabel('z')\n",
    "ax[0,1].hist(fit_ze[tx], bins=20, density=False, histtype='stepfilled', color='lightcoral')\n",
    "ax[0,1].set_xlabel('z error')\n",
    "ax[1,0].hist(fit_t0[tx], bins=20, density=False, histtype='stepfilled', color='lightseagreen')\n",
    "ax[1,0].set_xlabel('t0')\n",
    "ax[1,1].hist(fit_t0e[tx], bins=20, density=False, histtype='stepfilled', color='lightcoral')\n",
    "ax[1,1].set_xlabel('t0 error')\n",
    "ax[2,0].hist(fit_x0[tx], bins=20, density=False, histtype='stepfilled', color='lightseagreen')\n",
    "ax[2,0].set_xlabel('x0')\n",
    "ax[2,1].hist(fit_x0e[tx], bins=20, density=False, histtype='stepfilled', color='lightcoral')\n",
    "ax[2,1].set_xlabel('x0 error')\n",
    "ax[3,0].hist(fit_x1[tx], bins=20, density=False, histtype='stepfilled', color='lightseagreen')\n",
    "ax[3,0].set_xlabel('x1')\n",
    "ax[3,1].hist(fit_x1e[tx], bins=20, density=False, histtype='stepfilled', color='lightcoral')\n",
    "ax[3,1].set_xlabel('x1 error')\n",
    "ax[4,0].hist(fit_c[tx], bins=20, density=False, histtype='stepfilled', color='lightseagreen')\n",
    "ax[4,0].set_xlabel('c')\n",
    "ax[4,1].hist(fit_ce[tx], bins=20, density=False, histtype='stepfilled', color='lightcoral')\n",
    "ax[4,1].set_xlabel('c error')\n",
    "fig.tight_layout()\n",
    "fig.show()"
   ]
  },
  {
   "cell_type": "markdown",
   "id": "22f410f0-2cb7-42d1-99f7-08c07b675987",
   "metadata": {},
   "source": [
    "## Explore candidates with outlier parameter values\n",
    "\n",
    "The main distributions for the fit paramaters are:\n",
    " * `x0` < 0.0001\n",
    " * -5 < `x1` < 5\n",
    " * -0.5 < `c` < 0.5\n",
    "\n",
    "Identify the candidates which have values in the tails of the distributions."
   ]
  },
  {
   "cell_type": "code",
   "execution_count": 8,
   "id": "e6bb6ff1-0161-4515-92f1-25f5df5cf73e",
   "metadata": {
    "tags": []
   },
   "outputs": [
    {
     "name": "stdout",
     "output_type": "stream",
     "text": [
      "Number of candidates with parameter values in the tail for\n",
      "z:  4\n",
      "x0:  9\n",
      "x1:  18\n",
      "c:  13\n"
     ]
    }
   ],
   "source": [
    "tx_z = np.where(fit_z > 0.45)[0]\n",
    "tx_x0 = np.where(fit_x0 > 0.0001)[0]\n",
    "tx_x1 = np.where((fit_x1 < -5) | (fit_x1 > 5))[0]\n",
    "tx_c  = np.where((fit_c < -0.5) | (0.5 < fit_c))[0]\n",
    "\n",
    "print('Number of candidates with parameter values in the tail for')\n",
    "print('z: ', len(tx_z))\n",
    "print('x0: ', len(tx_x0))\n",
    "print('x1: ', len(tx_x1))\n",
    "print('c: ', len(tx_c))"
   ]
  },
  {
   "cell_type": "markdown",
   "id": "33c73d9a-846b-4bcc-953b-ba0091e0b2dd",
   "metadata": {},
   "source": [
    "And the candidates which have errors that are outliers."
   ]
  },
  {
   "cell_type": "code",
   "execution_count": 9,
   "id": "8875431f-21e2-4c1b-a743-e3f44f4c71a4",
   "metadata": {
    "tags": []
   },
   "outputs": [
    {
     "name": "stdout",
     "output_type": "stream",
     "text": [
      "Number of candidates with parameter errors in the tail for\n",
      "ze:  1\n",
      "t0e:  9\n",
      "x0e:  2\n",
      "x1e:  4\n",
      "ce:  8\n"
     ]
    }
   ],
   "source": [
    "tx_ze  = np.where(fit_ze > 0.1)[0]\n",
    "tx_t0e = np.where(fit_t0e > 2)[0]\n",
    "tx_x0e = np.where(fit_x0e > 0.00001)[0]\n",
    "tx_x1e = np.where(fit_x1e > 2)[0]\n",
    "tx_ce  = np.where(fit_ce > 0.12)[0]\n",
    "\n",
    "print('Number of candidates with parameter errors in the tail for')\n",
    "print('ze: ', len(tx_ze))\n",
    "print('t0e: ', len(tx_t0e))\n",
    "print('x0e: ', len(tx_x0e))\n",
    "print('x1e: ', len(tx_x1e))\n",
    "print('ce: ', len(tx_ce))"
   ]
  },
  {
   "cell_type": "markdown",
   "id": "5b5b9a9f-16c3-4a19-bc73-10686526ff3b",
   "metadata": {},
   "source": [
    "Get a list of names of fits to review:"
   ]
  },
  {
   "cell_type": "code",
   "execution_count": 10,
   "id": "c42aa2f5-a43c-4aea-83a6-555c4c6d963b",
   "metadata": {
    "tags": []
   },
   "outputs": [],
   "source": [
    "temp = []\n",
    "\n",
    "for x in tx_z:\n",
    "    temp.append(fit_cand[x])\n",
    "for x in tx_x0:\n",
    "    temp.append(fit_cand[x])\n",
    "for x in tx_x1:\n",
    "    temp.append(fit_cand[x])\n",
    "for x in tx_c:\n",
    "    temp.append(fit_cand[x])\n",
    "for x in tx_ze:\n",
    "    temp.append(fit_cand[x])\n",
    "for x in tx_t0e:\n",
    "    temp.append(fit_cand[x])\n",
    "for x in tx_x0e:\n",
    "    temp.append(fit_cand[x])\n",
    "for x in tx_x1e:\n",
    "    temp.append(fit_cand[x])\n",
    "for x in tx_ce:\n",
    "    temp.append(fit_cand[x])\n",
    "    \n",
    "temp2 = np.asarray(temp, dtype='str')"
   ]
  },
  {
   "cell_type": "code",
   "execution_count": 11,
   "id": "3aa4153f-649b-4d10-858a-eb2d076b11e1",
   "metadata": {
    "tags": []
   },
   "outputs": [
    {
     "name": "stdout",
     "output_type": "stream",
     "text": [
      "['DC21bfph' 'DC21cgfhs' 'DC21cgfui' 'DC21cvh' 'DC21cynfs' 'DC21dglus'\n",
      " 'DC21dhgm' 'DC21djbfp' 'DC21driax' 'DC21dsocp' 'DC21ecmr' 'DC21edhi'\n",
      " 'DC21emxv' 'DC21eoo' 'DC21eqq' 'DC21eyf' 'DC21fchc' 'DC21gbza' 'DC21gocx'\n",
      " 'DC21grk' 'DC21hpdc' 'DC21ijs' 'DC21jof' 'DC21kxb' 'DC21lvlb' 'DC21lza'\n",
      " 'DC21mjrj' 'DC21mvh' 'DC21pry' 'DC21vfl' 'DC22eawkf' 'DC22gtccc'\n",
      " 'DC22gvcqm' 'DC22hvtap' 'DC22hvtet' 'DC22hvuhl' 'DC22ikidc' 'DC22iteny'\n",
      " 'DC22iykha' 'DC22jbqyi']\n",
      "40  candidates to visually review\n"
     ]
    }
   ],
   "source": [
    "outlier_cand = np.unique(np.sort(temp2))\n",
    "del temp, temp2\n",
    "print(outlier_cand)\n",
    "print(len(outlier_cand), ' candidates to visually review')"
   ]
  },
  {
   "cell_type": "markdown",
   "id": "d7d9a039-b127-4c37-baed-f3a48664f0d8",
   "metadata": {},
   "source": [
    "### Review and flag LCs with outlier fit values\n",
    "\n",
    "Open the file `all_fit_snia_files/all_fit_snia.pdf` and review the `sncosmo` fits for all the outliers.\n",
    "You can page search (command-F) on the candidate id to find the `sncosmo` fit plot.\n",
    "The following cell defines a review flag, 0 for ok and 1 for poor."
   ]
  },
  {
   "cell_type": "code",
   "execution_count": 12,
   "id": "02fb03aa-70da-4ef2-85d4-6d0d6ecd051d",
   "metadata": {
    "tags": []
   },
   "outputs": [],
   "source": [
    "outlier_cand_review = {}"
   ]
  },
  {
   "cell_type": "code",
   "execution_count": 13,
   "id": "f7b80e2f-66be-45c0-a44c-29d9ce81be9b",
   "metadata": {
    "tags": []
   },
   "outputs": [],
   "source": [
    "outlier_cand_review['DC21bfph']  = 1 # never fit, due to poorly sampled lightcurve\n",
    "outlier_cand_review['DC21cgfhs'] = 1 # looks SNIa-like but we only caught the decline\n",
    "outlier_cand_review['DC21cgfui'] = 1 # looks SNIa-like but we only caught the decline\n",
    "outlier_cand_review['DC21cvh']   = 1 # lc is quite noisy, may have multiple peaks\n",
    "outlier_cand_review['DC21cynfs'] = 0 # ok just noisy\n",
    "outlier_cand_review['DC21dglus'] = 1 # we missed the peak brightness\n",
    "outlier_cand_review['DC21dhgm']  = 1 # lc has multiple peaks\n",
    "outlier_cand_review['DC21djbfp'] = 0 # ok just noisy\n",
    "outlier_cand_review['DC21driax'] = 0 # ok just noisy\n",
    "outlier_cand_review['DC21dsocp'] = 0 # ok\n",
    "outlier_cand_review['DC21ecmr']  = 1 # lc is quite noisy, may have multiple peaks\n",
    "outlier_cand_review['DC21edhi']  = 1 # lc is noisy, may have multiple peaks, AGN?\n",
    "outlier_cand_review['DC21emxv']  = 1 # lc has multiple peaks\n",
    "outlier_cand_review['DC21eoo']   = 1 # lc is quite noisy, may have multiple peaks\n",
    "outlier_cand_review['DC21eqq']   = 0 # ok just barely caught peak\n",
    "outlier_cand_review['DC21eyf']   = 1 # lc is quite noisy, g peak very offset from r\n",
    "outlier_cand_review['DC21fchc']  = 1 # lc is quite noisy, may have multiple peaks\n",
    "outlier_cand_review['DC21gbza']  = 1 # lc is quite noisy, may have multiple peaks\n",
    "outlier_cand_review['DC21gocx']  = 1 # lc is quite noisy, may have multiple peaks\n",
    "outlier_cand_review['DC21grk']   = 1 # lc is noisy, has multiple peaks (AGN?)\n",
    "outlier_cand_review['DC21hpdc']  = 1 # might be a fast transient\n",
    "outlier_cand_review['DC21ijs']   = 1 # AGN?\n",
    "outlier_cand_review['DC21jof']   = 0 # ok just barely caught peak\n",
    "outlier_cand_review['DC21kxb']   = 1 # ok but didn't catch rise, has slow decline \n",
    "outlier_cand_review['DC21lvlb']  = 1 # poor fit, not really declining\n",
    "outlier_cand_review['DC21lza']   = 1 # AGN?\n",
    "outlier_cand_review['DC21mjrj']  = 1 # we missed the peak brightness\n",
    "outlier_cand_review['DC21mvh']   = 1 # lc is quite noisy, may have multiple peaks\n",
    "outlier_cand_review['DC21pry']   = 1 # lc is quite noisy, not clearly declining\n",
    "outlier_cand_review['DC21vfl']   = 1 # lc sparsely sampled, fit has multiple peaks\n",
    "outlier_cand_review['DC22eawkf'] = 0 # ok\n",
    "outlier_cand_review['DC22gtccc'] = 0 # ok\n",
    "outlier_cand_review['DC22gvcqm'] = 1 # we missed the peak brightness\n",
    "outlier_cand_review['DC22hvtap'] = 1 # we missed the peak brightness\n",
    "outlier_cand_review['DC22hvtet'] = 1 # looks SNIa-like but we only caught the >20 day decline\n",
    "outlier_cand_review['DC22hvuhl'] = 1 # looks SNIa-like but we only caught the >20 day decline\n",
    "outlier_cand_review['DC22ikidc'] = 0 # ok but barely caught the rise\n",
    "outlier_cand_review['DC22iteny'] = 1 # lc sparsely sampled, fit has multiple peaks\n",
    "outlier_cand_review['DC22iykha'] = 0 # ok\n",
    "outlier_cand_review['DC22jbqyi'] = 1 # SLSN?"
   ]
  },
  {
   "cell_type": "markdown",
   "id": "f7710f4d-85e8-4c64-9b04-ebcbbfb1484e",
   "metadata": {},
   "source": [
    "Define a `fit_flag` array to be used with the rest of the `fit_` arrays."
   ]
  },
  {
   "cell_type": "code",
   "execution_count": 14,
   "id": "222c07f4-84a0-4c30-abb5-2d74841492bf",
   "metadata": {
    "tags": []
   },
   "outputs": [],
   "source": [
    "fit_flag = np.zeros(len(fit_z), dtype='float')\n",
    "for c, cand in enumerate(fit_cand):\n",
    "    if cand in outlier_cand_review:\n",
    "        fit_flag[c] = outlier_cand_review[cand]"
   ]
  },
  {
   "cell_type": "markdown",
   "id": "c3b30e6f-4770-4f48-84c0-c004ec20a01e",
   "metadata": {},
   "source": [
    "This is how the `fit_flag` array can work."
   ]
  },
  {
   "cell_type": "code",
   "execution_count": 15,
   "id": "ed827747-a5cc-41ac-9f0a-011d6f782d0d",
   "metadata": {
    "tags": []
   },
   "outputs": [
    {
     "name": "stdout",
     "output_type": "stream",
     "text": [
      "['DC21bfph' 'DC21cgfhs' 'DC21cgfui' 'DC21cvh' 'DC21dglus' 'DC21dhgm'\n",
      " 'DC21ecmr' 'DC21edhi' 'DC21emxv' 'DC21eoo' 'DC21eyf' 'DC21fchc'\n",
      " 'DC21gbza' 'DC21gocx' 'DC21grk' 'DC21hpdc' 'DC21ijs' 'DC21kxb' 'DC21lvlb'\n",
      " 'DC21lza' 'DC21mjrj' 'DC21mvh' 'DC21pry' 'DC21vfl' 'DC22gvcqm'\n",
      " 'DC22hvtap' 'DC22hvtet' 'DC22hvuhl' 'DC22iteny' 'DC22jbqyi']\n"
     ]
    }
   ],
   "source": [
    "tx = np.where(fit_flag == 1)[0]\n",
    "print(fit_cand[tx])\n",
    "del tx"
   ]
  },
  {
   "cell_type": "markdown",
   "id": "52bfa6a0-4b60-4582-af72-138a02c459e2",
   "metadata": {},
   "source": [
    "Double check that none of the outliers are missing from `outlier_cand_review` dictionary."
   ]
  },
  {
   "cell_type": "code",
   "execution_count": 16,
   "id": "58020972-facd-4a21-b8da-30f93c368136",
   "metadata": {
    "tags": []
   },
   "outputs": [],
   "source": [
    "for cand in outlier_cand:\n",
    "    if cand not in outlier_cand_review:\n",
    "        print(cand, ' not yet a key in outlier_cand_review')"
   ]
  },
  {
   "cell_type": "markdown",
   "id": "59e4e6bb-3ee6-4588-b81d-d2156ea98f2e",
   "metadata": {},
   "source": [
    "### Replot distributions without the flagged candidates"
   ]
  },
  {
   "cell_type": "code",
   "execution_count": 17,
   "id": "f931d4fa-a26c-4efe-827c-4d7e98c8c58a",
   "metadata": {
    "tags": []
   },
   "outputs": [
    {
     "data": {
      "image/png": "[encoded data removed]",
      "text/plain": [
       "<Figure size 936x720 with 10 Axes>"
      ]
     },
     "metadata": {
      "needs_background": "light"
     },
     "output_type": "display_data"
    }
   ],
   "source": [
    "tx = np.where(fit_flag == 0)[0]\n",
    "\n",
    "fig, ax = plt.subplots(5, 2)\n",
    "fig.set_size_inches(13, 10)\n",
    "ax[0,0].hist(fit_z[tx], bins=20, density=False, histtype='stepfilled', color='lightseagreen')\n",
    "ax[0,0].set_xlabel('z')\n",
    "ax[0,1].hist(fit_ze[tx], bins=20, density=False, histtype='stepfilled', color='lightcoral')\n",
    "ax[0,1].set_xlabel('z error')\n",
    "ax[1,0].hist(fit_t0[tx], bins=20, density=False, histtype='stepfilled', color='lightseagreen')\n",
    "ax[1,0].set_xlabel('t0')\n",
    "ax[1,1].hist(fit_t0e[tx], bins=20, density=False, histtype='stepfilled', color='lightcoral')\n",
    "ax[1,1].set_xlabel('t0 error')\n",
    "ax[2,0].hist(fit_x0[tx], bins=20, density=False, histtype='stepfilled', color='lightseagreen')\n",
    "ax[2,0].set_xlabel('x0')\n",
    "ax[2,1].hist(fit_x0e[tx], bins=20, density=False, histtype='stepfilled', color='lightcoral')\n",
    "ax[2,1].set_xlabel('x0 error')\n",
    "ax[3,0].hist(fit_x1[tx], bins=20, density=False, histtype='stepfilled', color='lightseagreen')\n",
    "ax[3,0].set_xlabel('x1')\n",
    "ax[3,1].hist(fit_x1e[tx], bins=20, density=False, histtype='stepfilled', color='lightcoral')\n",
    "ax[3,1].set_xlabel('x1 error')\n",
    "ax[4,0].hist(fit_c[tx], bins=20, density=False, histtype='stepfilled', color='lightseagreen')\n",
    "ax[4,0].set_xlabel('c')\n",
    "ax[4,1].hist(fit_ce[tx], bins=20, density=False, histtype='stepfilled', color='lightcoral')\n",
    "ax[4,1].set_xlabel('c error')\n",
    "fig.tight_layout()\n",
    "fig.show()"
   ]
  },
  {
   "cell_type": "markdown",
   "id": "921e3777-bb75-4d10-b490-75213e87fdce",
   "metadata": {},
   "source": [
    "### Midori's fit review flags\n",
    "\n",
    "The first round of SNIa lightcurve review stored the by-eye classifications of \"good\", \"maybe\", and \"poor\" by candidate index, not candidate id.\n",
    "\n",
    "This is space to recover those classifications and save as a file with column 1 as candidate index and column 2 as candidate id."
   ]
  },
  {
   "cell_type": "code",
   "execution_count": null,
   "id": "fdd297b8-2476-4c11-b76e-2d321ee3ae6c",
   "metadata": {},
   "outputs": [],
   "source": []
  },
  {
   "cell_type": "markdown",
   "id": "f3a6a0f9-e153-42e2-9792-3138bf60b0ee",
   "metadata": {},
   "source": [
    "## Write review results flag to file"
   ]
  },
  {
   "cell_type": "code",
   "execution_count": 18,
   "id": "6a52e16a-a4e9-4cab-a932-5faec767d26a",
   "metadata": {
    "tags": []
   },
   "outputs": [
    {
     "name": "stdout",
     "output_type": "stream",
     "text": [
      "Wrote to:  all_fit_snia_files/results_sncosmos_fit_review.dat\n"
     ]
    }
   ],
   "source": [
    "fnm = 'all_fit_snia_files/results_sncosmos_fit_review.dat'\n",
    "fout = open(fnm, 'w')\n",
    "\n",
    "fout.write('# Melissa Graham & Midori Rollins, review_potential_snia_sncosmos.ipynb \\n')\n",
    "tnow = time.strftime(\"%a, %d %b %Y %H:%M:%S +0000\", time.gmtime())\n",
    "fout.write('# UTC = '+tnow+' \\n')\n",
    "del tnow\n",
    "fout.write('# \\n')\n",
    "fout.write('# Columns \\n')\n",
    "fout.write('#  0 id -- candidate identifier \\n')\n",
    "fout.write('#  1 fit flag: 0 for OK, 1 for poor fit \\n')\n",
    "fout.write('# \\n')\n",
    "\n",
    "for c in range(len(fit_cand)):\n",
    "    fout.write('%-14s %2i \\n' % (fit_cand[c], fit_flag[c]))\n",
    "        \n",
    "fout.close()\n",
    "print('Wrote to: ', fnm)\n",
    "del fnm"
   ]
  },
  {
   "cell_type": "code",
   "execution_count": null,
   "id": "63ae6569-1525-4cca-bcdb-63617a7068ad",
   "metadata": {},
   "outputs": [],
   "source": []
  },
  {
   "cell_type": "code",
   "execution_count": null,
   "id": "a3313f21-5c52-434b-a692-c43349ca56e5",
   "metadata": {},
   "outputs": [],
   "source": []
  },
  {
   "cell_type": "code",
   "execution_count": null,
   "id": "9fc5ede8-cf77-4a95-a76e-9e4fd0411b9d",
   "metadata": {},
   "outputs": [],
   "source": []
  }
 ],
 "metadata": {
  "kernelspec": {
   "display_name": "NERSC Python",
   "language": "python",
   "name": "python3"
  },
  "language_info": {
   "codemirror_mode": {
    "name": "ipython",
    "version": 3
   },
   "file_extension": ".py",
   "mimetype": "text/x-python",
   "name": "python",
   "nbconvert_exporter": "python",
   "pygments_lexer": "ipython3",
   "version": "3.9.7"
  }
 },
 "nbformat": 4,
 "nbformat_minor": 5
}
