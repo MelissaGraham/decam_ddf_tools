{
 "cells": [
  {
   "cell_type": "markdown",
   "id": "29e25564-0086-4eec-a9d2-4017963ee976",
   "metadata": {},
   "source": [
    "# Source Detection Summary"
   ]
  },
  {
   "cell_type": "code",
   "execution_count": null,
   "id": "739f39b0-2822-418f-8705-11463d6793f3",
   "metadata": {},
   "outputs": [],
   "source": [
    "import psycopg2\n",
    "import psycopg2.extras\n",
    "import getpass\n",
    "from IPython.display import display\n",
    "import ipywidgets\n",
    "\n",
    "import matplotlib.pyplot as plt\n",
    "import numpy as np\n",
    "import pandas as pd\n",
    "import matplotlib as mpl\n",
    "import time"
   ]
  },
  {
   "cell_type": "code",
   "execution_count": null,
   "id": "97868a44-3786-41a8-9edb-77ec314a8aff",
   "metadata": {},
   "outputs": [],
   "source": [
    "font = {'size' : 15}\n",
    "mpl.rc('font', **font)"
   ]
  },
  {
   "cell_type": "code",
   "execution_count": null,
   "id": "23af043d-3664-43b2-8404-39c2aa85f0db",
   "metadata": {},
   "outputs": [],
   "source": [
    "dbuser = input(\"DB User: \")\n",
    "dbpasswd = getpass.getpass(\"DB Password: \")"
   ]
  },
  {
   "cell_type": "code",
   "execution_count": null,
   "id": "ffcfb618-ccbc-49be-8f7f-32826d21e11d",
   "metadata": {},
   "outputs": [],
   "source": [
    "db = psycopg2.connect(f\"dbname='decat' user='{dbuser}' password='{dbpasswd}' host='decatdb.lbl.gov'\")"
   ]
  },
  {
   "cell_type": "code",
   "execution_count": null,
   "id": "991f4916-5a12-4a62-8783-9d20acf60d28",
   "metadata": {},
   "outputs": [],
   "source": [
    "db.autocommit = True # Makes the computer nicer about SQL syntax errors"
   ]
  },
  {
   "cell_type": "code",
   "execution_count": null,
   "id": "755e44c8-9f3c-432b-ae9a-a8a85b9c098f",
   "metadata": {},
   "outputs": [],
   "source": [
    "cursor = db.cursor( cursor_factory = psycopg2.extras.DictCursor )"
   ]
  },
  {
   "cell_type": "code",
   "execution_count": null,
   "id": "c2b49314-fe4e-45ed-bdd3-7c734b3633f7",
   "metadata": {},
   "outputs": [],
   "source": [
    "### If you want to print table schema\n",
    "# tables = ['exposures','subtractions','objects','candidates']\n",
    "# for table in tables:\n",
    "#     query = \"SELECT column_name, data_type FROM information_schema.columns WHERE table_name=%s\"\n",
    "#     cursor.execute( query, ( table, ))\n",
    "#     print( f\"\\nTABLE: {table}\\n===========================\" )\n",
    "#     for row in cursor:\n",
    "#         print( f\"{row['column_name']:24s}  :  {row['data_type']:s}\" )"
   ]
  },
  {
   "cell_type": "markdown",
   "id": "e055cd17-4bcb-4963-801e-1b77790100fb",
   "metadata": {},
   "source": [
    "## Read in the data tables and store as numpy arrays\n",
    "Note that in some cases specifying the type throws an error, and so type is omitted for some numpy arrays."
   ]
  },
  {
   "cell_type": "code",
   "execution_count": null,
   "id": "6d6053eb-ea6d-4a7c-9873-79afb42ba0f6",
   "metadata": {},
   "outputs": [],
   "source": [
    "t1 = time.time()\n",
    "\n",
    "query = \"SELECT id, filename, mjd, filter FROM exposures\"\n",
    "cursor.execute( query )\n",
    "results = np.array( cursor.fetchall() ).transpose()\n",
    "\n",
    "t2 = time.time()\n",
    "print(t2-t1)\n",
    "del t1,t2\n",
    "\n",
    "exp_id  = np.asarray( results[0], dtype='int' )\n",
    "exp_fnm = np.asarray( results[1], dtype='str' )\n",
    "exp_mjd = np.asarray( results[2], dtype='float' )\n",
    "exp_fil = np.asarray( results[3], dtype='str' )\n",
    "del query, results\n",
    "\n",
    "print(len(exp_id))"
   ]
  },
  {
   "cell_type": "code",
   "execution_count": null,
   "id": "ed6cb32c-4e18-4aa5-9875-f4e34a12cd66",
   "metadata": {},
   "outputs": [],
   "source": [
    "t1 = time.time()\n",
    "\n",
    "query = \"SELECT id, lmt_mg, seeing, skysig, magzp, exposure_id FROM subtractions\"\n",
    "cursor.execute( query )\n",
    "results = np.array( cursor.fetchall() ).transpose()\n",
    "\n",
    "t2 = time.time()\n",
    "print(t2-t1)\n",
    "del t1,t2\n",
    "\n",
    "sub_id     = np.asarray( results[0], dtype='int' )\n",
    "sub_lmtmg  = np.asarray( results[1], dtype='float' )\n",
    "sub_seeing = np.asarray( results[2], dtype='float' )\n",
    "sub_skysig = np.asarray( results[3], dtype='float' )\n",
    "sub_magzp  = np.asarray( results[4], dtype='float' )\n",
    "sub_expid  = np.asarray( results[5], dtype='int' )\n",
    "del query, results\n",
    "\n",
    "print(len(sub_id))"
   ]
  },
  {
   "cell_type": "code",
   "execution_count": null,
   "id": "c1331cb6-df4a-4277-be03-a2bf72ac9771",
   "metadata": {},
   "outputs": [],
   "source": [
    "t1 = time.time()\n",
    "\n",
    "query = (\"SELECT o.id, o.ra, o.dec, o.candidate_id, o.subtraction_id, rbs.rb, o.mag, o.magerr, o.ignore FROM objects o \"\n",
    "         \"JOIN objectrbs as rbs ON o.id=rbs.object_id AND rbs.rbtype_id=1 \")\n",
    "cursor.execute( query )\n",
    "results = np.array( cursor.fetchall() ).transpose()\n",
    "\n",
    "t2 = time.time()\n",
    "print(t2-t1)\n",
    "del t1,t2\n",
    "\n",
    "obj_id     = np.asarray( results[0], dtype='int' )\n",
    "obj_ra     = np.asarray( results[1], dtype='float' )\n",
    "obj_dec    = np.asarray( results[2], dtype='float' )\n",
    "obj_candid = np.asarray( results[3] )\n",
    "obj_subid  = np.asarray( results[4], dtype='int' )\n",
    "obj_rb     = np.asarray( results[5], dtype='float' )\n",
    "obj_mag    = np.asarray( results[6], dtype='float' )\n",
    "obj_magerr = np.asarray( results[7], dtype='float' )\n",
    "obj_ignore = np.asarray( results[8] )\n",
    "del query, results\n",
    "\n",
    "print(len(obj_id))"
   ]
  },
  {
   "cell_type": "code",
   "execution_count": null,
   "id": "2a84ca48-a9df-48ed-96d6-75694b9406e0",
   "metadata": {},
   "outputs": [],
   "source": [
    "### What is this obj_ignore array?\n",
    "# ix = np.where( obj_ignore == True )[0]\n",
    "# print(len(ix))"
   ]
  },
  {
   "cell_type": "code",
   "execution_count": null,
   "id": "ad0977fc-f385-4983-9501-b1f31aa848bf",
   "metadata": {},
   "outputs": [],
   "source": [
    "t1 = time.time()\n",
    "\n",
    "query = \"SELECT id, ra, dec, nmatches FROM candidates\"\n",
    "cursor.execute( query )\n",
    "results = np.array( cursor.fetchall() ).transpose()\n",
    "\n",
    "t2 = time.time()\n",
    "print(t2-t1)\n",
    "del t1,t2\n",
    "\n",
    "cand_id       = np.asarray( results[0] )\n",
    "cand_ra       = np.asarray( results[1], dtype='float' )\n",
    "cand_dec      = np.asarray( results[2], dtype='float' )\n",
    "cand_nmatches = np.asarray( results[3] )\n",
    "del query, results\n",
    "\n",
    "print(len(cand_id))"
   ]
  },
  {
   "cell_type": "code",
   "execution_count": null,
   "id": "990380b4-08ce-47c7-bb47-c281420a8c76",
   "metadata": {},
   "outputs": [],
   "source": [
    "### There are more cand_id than there are unique obj_candid values.\n",
    "print(len(np.unique(cand_id)))\n",
    "print(len(np.unique(obj_candid)))"
   ]
  },
  {
   "cell_type": "markdown",
   "id": "433e5984-cf56-48a7-979d-1b2a85e5ba66",
   "metadata": {},
   "source": [
    "### What is cand_nmatches??\n",
    "\n",
    "It appears to be empty."
   ]
  },
  {
   "cell_type": "code",
   "execution_count": null,
   "id": "02810559-d86e-4535-b4b9-eb34c129cbe3",
   "metadata": {},
   "outputs": [],
   "source": [
    "# print(cand_nmatches)\n",
    "# print(len(cand_nmatches))\n",
    "# cx = np.where( cand_nmatches != None )[0]\n",
    "# print(len(cx))\n",
    "# print(cand_nmatches[cx])"
   ]
  },
  {
   "cell_type": "markdown",
   "id": "2a0c775b-7ee8-4c30-8154-428388f8b132",
   "metadata": {},
   "source": [
    "#### No matter, we can easily get the number of unique candidate ids from the object array"
   ]
  },
  {
   "cell_type": "code",
   "execution_count": null,
   "id": "e23df9e2-722c-4e1a-ab69-757aa035122f",
   "metadata": {},
   "outputs": [],
   "source": [
    "#all \n",
    "values, indices, counts = np.unique( obj_candid, return_inverse = True, return_counts = True )\n",
    "print( len(values), len(indices), len(counts) )\n",
    "print( values )\n",
    "print( indices )\n",
    "print( counts )\n",
    "print( np.min(counts), np.max(counts) )\n",
    "\n",
    "#good \"likely-real\"\n",
    "gx = np.where( obj_rb > 0.6 )[0]\n",
    "gvalues, gindices, gcounts = np.unique( obj_candid[gx], return_inverse = True, return_counts = True )\n",
    "print( len(gvalues), len(gindices), len(gcounts) )\n",
    "print( gvalues )\n",
    "print( gindices )\n",
    "print( gcounts )\n",
    "print( np.min(gcounts), np.max(gcounts) )"
   ]
  },
  {
   "cell_type": "code",
   "execution_count": null,
   "id": "472daae8-297a-4fe5-b8f6-0c91fec69c91",
   "metadata": {},
   "outputs": [],
   "source": [
    "# ### Plot a histogram of the number of candidates with N objects\n",
    "# plt.figure(figsize=(12, 4))\n",
    "# plt.hist( counts, bins=100, log=True )\n",
    "# plt.xlabel('number of objects')\n",
    "# plt.ylabel('log(number of candidates)')\n",
    "# plt.show()"
   ]
  },
  {
   "cell_type": "code",
   "execution_count": null,
   "id": "a1ef3bdb-0e55-4d95-a628-cbce0632b84d",
   "metadata": {},
   "outputs": [],
   "source": [
    "# ### Plot a histogram of the number of candidates with N good objects\n",
    "# plt.figure(figsize=(12, 4))\n",
    "# plt.hist( gcounts, bins=100, log=True, color='darkorange' )\n",
    "# plt.xlabel('number of good objects')\n",
    "# plt.ylabel('log(number of candidates)')\n",
    "# plt.show()"
   ]
  },
  {
   "cell_type": "markdown",
   "id": "089d9d65-ee35-4d0f-b8bb-03346d77555f",
   "metadata": {},
   "source": [
    "#### And then make new array to hold the number of objects for a candidate"
   ]
  },
  {
   "cell_type": "code",
   "execution_count": null,
   "id": "bbff8fb9-6cde-4ac6-a06c-09035757d5db",
   "metadata": {},
   "outputs": [],
   "source": [
    "### The number of objects associated with the same candidate, for each object\n",
    "obj_nobj = counts[indices]\n",
    "print(obj_nobj)"
   ]
  },
  {
   "cell_type": "markdown",
   "id": "328f12eb-cd7c-45d3-bd93-08f6ca560559",
   "metadata": {},
   "source": [
    "#### And also a new cand_nmatches, and one for just \"good\" objects too"
   ]
  },
  {
   "cell_type": "code",
   "execution_count": null,
   "id": "478f89d9-d9d8-4ab6-b7f5-5d7c809b7e6e",
   "metadata": {},
   "outputs": [],
   "source": [
    "### Get rid of the useless cand_nmatches and repopulate it\n",
    "\n",
    "t1 = time.time()\n",
    "\n",
    "del cand_nmatches\n",
    "cand_nmatches = np.zeros( len(cand_id), dtype='int' )\n",
    "cand_ngmatches = np.zeros( len(cand_id), dtype='int' )\n",
    "sx = np.argsort( cand_id )\n",
    "\n",
    "### Using sorted lists is the only way to do this is a reasonable amount of time\n",
    "### This is a loop for every unique candidate id\n",
    "cntr = 0\n",
    "for c,val in enumerate( values ):\n",
    "    if (c==100) | (c==1000) | (c==10000):\n",
    "        print( 'c = ', c, np.round(time.time()-t1,3), 's elapsed' )\n",
    "\n",
    "    match = False\n",
    "    while match == False:\n",
    "        if val == cand_id[sx[cntr]]:\n",
    "            cand_nmatches[sx[cntr]] = counts[c]\n",
    "            cntr += 1\n",
    "            match = True\n",
    "        else:\n",
    "            cntr += 1\n",
    "\n",
    "            \n",
    "cntr = 0\n",
    "for c,gval in enumerate( gvalues ):\n",
    "    if (c==100) | (c==1000) | (c==10000):\n",
    "        print( 'c = ', c, np.round(time.time()-t1,3), 's elapsed' )\n",
    "\n",
    "    match = False\n",
    "    while match == False:\n",
    "        if gval == cand_id[sx[cntr]]:\n",
    "            cand_ngmatches[sx[cntr]] = gcounts[c]\n",
    "            cntr += 1\n",
    "            match = True\n",
    "        else:\n",
    "            cntr += 1\n",
    "\n",
    "t2 = time.time()\n",
    "print(t2-t1)\n",
    "del t1,t2"
   ]
  },
  {
   "cell_type": "code",
   "execution_count": null,
   "id": "b2574a52-876c-4194-bba7-021ab358c3a8",
   "metadata": {},
   "outputs": [],
   "source": [
    "### Just double check that values of cand_nmatches are as expected (similar to counts array)\n",
    "# print( cand_nmatches )\n",
    "# print( np.min(cand_nmatches), np.max(cand_nmatches) )\n",
    "# for n in [10,20,30,100]:\n",
    "#     print(n, len(np.where( cand_nmatches >= n )[0]) )"
   ]
  },
  {
   "cell_type": "code",
   "execution_count": null,
   "id": "9cec9fc2-195b-4d95-a68f-bcd650ec30ec",
   "metadata": {},
   "outputs": [],
   "source": [
    "# print( cand_ngmatches )\n",
    "# print( np.min(cand_ngmatches), np.max(cand_ngmatches) )\n",
    "# for n in [10,20,30,100]:\n",
    "#     print(n, len(np.where( cand_ngmatches >= n )[0]) )"
   ]
  },
  {
   "cell_type": "code",
   "execution_count": null,
   "id": "99618b31-8aea-4525-b12f-01a6ba97d567",
   "metadata": {},
   "outputs": [],
   "source": [
    "### Plot a histogram of the number of candidates with N objects\n",
    "# plt.figure(figsize=(12, 4))\n",
    "# plt.hist( cand_nmatches, bins=100, log=True )\n",
    "# plt.xlabel('number of objects')\n",
    "# plt.ylabel('log(number of candidates)')\n",
    "# plt.show()"
   ]
  },
  {
   "cell_type": "code",
   "execution_count": null,
   "id": "65ea452b-5e5a-4f3e-a54c-6c8fe0fc9db7",
   "metadata": {},
   "outputs": [],
   "source": [
    "del values, indices, counts"
   ]
  },
  {
   "cell_type": "markdown",
   "id": "89b2bfce-dece-4038-886f-747527f90617",
   "metadata": {},
   "source": [
    "### Flag objects that are duplicates\n",
    "They are within 0.1\" of another object in the same subtraction.<br>\n",
    "This takes about 600 seconds."
   ]
  },
  {
   "cell_type": "code",
   "execution_count": null,
   "id": "411baafe-f90d-457b-bf3a-87ffc32b9361",
   "metadata": {},
   "outputs": [],
   "source": [
    "t1 = time.time()\n",
    "\n",
    "obj_dup = np.zeros( len(obj_id), dtype='int' )\n",
    "\n",
    "limit = (0.1 / 3600.0)**2\n",
    "for s,subid in enumerate(sub_id):\n",
    "    if (s==100) | (s==1000) | (s==10000) | (s==30000) | (s==60000):\n",
    "        ix = np.where( obj_dup == 1 )[0]\n",
    "        print( 's = ', s, np.round(time.time()-t1,3), 's elapsed, ', len(ix),' duplicates identified' )\n",
    "        del ix\n",
    "    # all the objects in this subtraction\n",
    "    ox = np.where( (obj_subid == subid) & (obj_dup == 0) )[0]\n",
    "    for o in ox:\n",
    "        # all the objects in this subtraction with similar RA and Dec to the o'th in ox\n",
    "        tx = np.where( (obj_ra[ox]-obj_ra[o])**2 + (obj_dec[ox]-obj_dec[o])**2 < limit )[0]\n",
    "        if len(tx) > 0:\n",
    "            # identify all the matching objects as duplicates\n",
    "            obj_dup[ox[tx]] = 1\n",
    "            # except the first one, of course, consider it the 'real' one\n",
    "            obj_dup[o] = 0\n",
    "        del tx\n",
    "    del ox\n",
    "\n",
    "tx = np.where( obj_dup == 1 )[0]\n",
    "print('total number of duplicates identified: ',len(tx))\n",
    "del tx\n",
    "\n",
    "t2 = time.time()\n",
    "print(t2-t1)\n",
    "del t1,t2"
   ]
  },
  {
   "cell_type": "markdown",
   "id": "fa945fcd-882c-4efb-97f4-0e88f0cb3c1f",
   "metadata": {},
   "source": [
    "### Flag objects that are from \"bad\" (short-exposure) images\n",
    "(i.e., files that do not have a classification of COSMOS, COSMOS-AGN, or ELAIS)\n",
    "\n",
    "At the same time, get the filter for each object."
   ]
  },
  {
   "cell_type": "code",
   "execution_count": null,
   "id": "de75d3bb-77ee-46c7-b5b0-f9a216b35892",
   "metadata": {},
   "outputs": [],
   "source": [
    "temp = []\n",
    "for efnm in exp_fnm:\n",
    "    temp.append( efnm[0:21] )\n",
    "exp_fnmbase = np.asarray( temp, dtype='str' )\n",
    "print( exp_fnm[0], exp_fnmbase[0] )"
   ]
  },
  {
   "cell_type": "code",
   "execution_count": null,
   "id": "e6a3f0a7-1a2a-421a-b136-cce9c0f0e097",
   "metadata": {},
   "outputs": [],
   "source": [
    "t1 = time.time()\n",
    "\n",
    "obj_bimg = np.zeros( len(obj_id), dtype='int' )\n",
    "obj_filt = np.zeros( len(obj_id), dtype='str' )\n",
    "obj_mjd  = np.zeros( len(obj_id), dtype='float' )\n",
    "\n",
    "img_fnmbase = np.loadtxt( 'archive_image_list.txt', dtype='str', usecols=(0) )\n",
    "img_class   = np.loadtxt( 'archive_image_list.txt', dtype='str', usecols=(9) )\n",
    "\n",
    "for f,fnmbase in enumerate(img_fnmbase):\n",
    "    if (f==10) | (f==100) | (f==1000):\n",
    "        ix = np.where( obj_bimg == 1 )[0]\n",
    "        print( 'f = ', f, np.round(time.time()-t1,3), 's elapsed, ', len(ix),' objects in bad images identified' )\n",
    "        del ix\n",
    "    if (img_class[f] != 'COSMOS') & (img_class[f] != 'COSMOS-AGN') & (img_class[f] != 'ELAIS'):\n",
    "        # all the exposures associated with this filename\n",
    "        ex = np.where( exp_fnmbase == fnmbase )[0]\n",
    "        if len(ex) > 0:\n",
    "            for e in ex:\n",
    "                # all the subtractions associated with this exposure\n",
    "                sx = np.where( sub_expid == exp_id[e] )[0]\n",
    "                if len(sx) > 0:\n",
    "                    for s in sx:\n",
    "                        # all the objects associated with this subtraction\n",
    "                        ox = np.where( obj_subid == sub_id[s] )[0]\n",
    "                        if len(ox) > 0:\n",
    "                            obj_bimg[ox] = 1\n",
    "                        del ox\n",
    "                del sx\n",
    "        del ex\n",
    "    else:\n",
    "        # all the exposures associated with this filename\n",
    "        ex = np.where( exp_fnmbase == fnmbase )[0]\n",
    "        if len(ex) > 0:\n",
    "            for e in ex:\n",
    "                sx = np.where( sub_expid == exp_id[e] )[0]\n",
    "                if len(sx) > 0:\n",
    "                    for s in sx:\n",
    "                        # all the objects associated with this subtraction\n",
    "                        ox = np.where( obj_subid == sub_id[s] )[0]\n",
    "                        if len(ox) > 0:\n",
    "                            obj_filt[ox] = exp_fil[e]\n",
    "                            obj_mjd[ox] = exp_mjd[e]\n",
    "                        del ox\n",
    "                del sx\n",
    "        del ex\n",
    "\n",
    "tx = np.where( obj_bimg == 1 )[0]\n",
    "print('number of objects in bad images = ', len(tx) )\n",
    "del tx\n",
    "\n",
    "t2 = time.time()\n",
    "print(t2-t1)\n",
    "del t1,t2"
   ]
  },
  {
   "cell_type": "code",
   "execution_count": null,
   "id": "8a683586-58fc-490d-93bb-5a905fdc6493",
   "metadata": {},
   "outputs": [],
   "source": [
    "### Just make sure the values of obj_filt are as expected\n",
    "tx = np.where( obj_bimg == 0 )[0]\n",
    "print( obj_filt[tx] )\n",
    "print( np.unique( obj_filt[tx] ) )\n",
    "del tx"
   ]
  },
  {
   "cell_type": "markdown",
   "id": "51739f7d-e2e2-436d-8433-d343e7dcad4c",
   "metadata": {},
   "source": [
    "### Generate some features of candidates (with >10 good matches) light curves.\n",
    "\n",
    "Candidate light curve time span (tspan), amplitude (amp) and mean R/B score. Only for objects (detections) with R/B>0.6.\n",
    "\n",
    "The following takes about 4 minutes."
   ]
  },
  {
   "cell_type": "code",
   "execution_count": null,
   "id": "d46df1cd-8938-426b-a263-cb1b092381aa",
   "metadata": {},
   "outputs": [],
   "source": [
    "t1 = time.time()\n",
    "\n",
    "### Candidate LC timespan and amplitude\n",
    "###  dimension 0,1,2,3 are for all filters, g, r, and i\n",
    "cand_LCtspan = np.zeros( (len(cand_nmatches),4), dtype='float' )\n",
    "cand_LCamp   = np.zeros( (len(cand_nmatches),4), dtype='float' )\n",
    "cand_LCngdet = np.zeros( (len(cand_nmatches),4), dtype='int' )\n",
    "cand_meanrb  = np.zeros( (len(cand_nmatches),4), dtype='float' )\n",
    "\n",
    "cx = np.where( cand_ngmatches >=10 )[0]\n",
    "print('len(cx) = ', len(cx) )\n",
    "\n",
    "for i,c in enumerate(cx):\n",
    "    if (i==100) | (i==1000) | (i==10000):\n",
    "        print( 'i = ', i, 'c = ', c, np.round(time.time()-t1,3), 's elapsed' )\n",
    "\n",
    "    ### All non-bad_img, non-duplicate, likely-real objects associated with this candidate\n",
    "    ox = np.where( (obj_candid == cand_id[c]) & (obj_bimg == 0) & (obj_dup == 0) & (obj_rb > 0.6) )[0]\n",
    "    if len(ox) >= 10:\n",
    "        cand_LCtspan[c,0] = np.max(obj_mjd[ox]) - np.min(obj_mjd[ox])\n",
    "        cand_LCamp[c,0]   = np.max(obj_mag[ox]) - np.min(obj_mag[ox])\n",
    "        cand_LCngdet[c,0] = len(ox)\n",
    "        cand_meanrb[c,0]  = np.mean(obj_rb[ox])\n",
    "        for f,fil in enumerate(['g','r','i']):\n",
    "            fx = np.where( obj_filt[ox] == fil )[0]\n",
    "            if len(fx) > 1:\n",
    "                cand_LCtspan[c,f+1] = np.max(obj_mjd[ox[fx]]) - np.min(obj_mjd[ox[fx]])\n",
    "                cand_LCamp[c,f+1]   = np.max(obj_mag[ox[fx]]) - np.min(obj_mag[ox[fx]])\n",
    "                cand_LCngdet[c,f+1] = len(fx)\n",
    "                cand_meanrb[c,f+1]  = np.mean(obj_rb[ox[fx]])\n",
    "            del fx\n",
    "    del ox\n",
    "\n",
    "print( 'finished. ', np.round(time.time()-t1,3), 's elapsed' )\n",
    "del t1,cx"
   ]
  },
  {
   "cell_type": "markdown",
   "id": "e78ac0ed-dcb2-4fcb-b723-20d5cd5a6b6c",
   "metadata": {},
   "source": [
    "<br><br>\n",
    "\n",
    "## Plots for ALL the objects \n",
    "Except those in \"bad\" images, or objects which are duplicates"
   ]
  },
  {
   "cell_type": "code",
   "execution_count": null,
   "id": "b55b33fe-80fb-4c6e-aa9e-ed4a10183b0a",
   "metadata": {},
   "outputs": [],
   "source": [
    "c = ['darkgreen', 'red', 'brown', 'limegreen', 'darkorange', 'peru']"
   ]
  },
  {
   "cell_type": "code",
   "execution_count": null,
   "id": "2b61e168-d0e9-4253-9377-61de02ba497f",
   "metadata": {},
   "outputs": [],
   "source": [
    "cx = np.where( (obj_bimg == 0) & (obj_dup == 0) & (obj_ra > 145.0) & (obj_ra < 155.0) & (obj_dec > -3.0) & (obj_dec < 7.0) )[0]\n",
    "ex = np.where( (obj_bimg == 0) & (obj_dup == 0) & (obj_ra > 3.0) & (obj_ra < 13.0) & (obj_dec > -48.0) & (obj_dec < -38.0) )[0]\n",
    "print(len(cx),len(ex))"
   ]
  },
  {
   "cell_type": "code",
   "execution_count": null,
   "id": "0282cb4f-bad6-4bad-a448-b91265d68ffb",
   "metadata": {},
   "outputs": [],
   "source": [
    "fig, ax = plt.subplots( 1, 3, figsize=(15,4), sharey=True )\n",
    "for i,ifilt in enumerate(['g','r','i']):\n",
    "    fcx = np.where( obj_filt[cx] == ifilt )[0]\n",
    "    fex = np.where( obj_filt[ex] == ifilt )[0]\n",
    "    ax[i].yaxis.set_tick_params(which='both', labelbottom=True)\n",
    "    ax[i].hist( [obj_rb[cx[fcx]],obj_rb[ex[fex]]], bins=20, stacked=True, log=True, color=[c[i],c[i+3]], label=['COSMOS','ELAIS'])\n",
    "    ax[i].legend()\n",
    "    if i == 0:\n",
    "        ax[i].set_ylabel(\"number of detections\")\n",
    "    ax[i].set_xlabel(\"real/bogus score\")\n",
    "    ax[i].set_ylim([1e3,8e5])\n",
    "    del fcx,fex\n",
    "fig.tight_layout()\n",
    "plt.savefig(\"./source_detection_summary_figures/rbhist.png\")"
   ]
  },
  {
   "cell_type": "code",
   "execution_count": null,
   "id": "838463ae-a982-4734-a862-6c45e3ae5e91",
   "metadata": {},
   "outputs": [],
   "source": [
    "fig, ax = plt.subplots( 1, 3, figsize=(15,4), sharey=True )\n",
    "for i,ifilt in enumerate(['g','r','i']):\n",
    "    fcx = np.where( obj_filt[cx] == ifilt )[0]\n",
    "    fex = np.where( obj_filt[ex] == ifilt )[0]\n",
    "    ax[i].yaxis.set_tick_params(which='both', labelbottom=True)\n",
    "    ax[i].hist( [obj_mag[cx[fcx]],obj_mag[ex[fex]]], bins=20, stacked=True, log=True, color=[c[i],c[i+3]], label=['COSMOS','ELAIS'])\n",
    "#     ax[i].legend()\n",
    "    if i == 0:\n",
    "        ax[i].set_ylabel(\"number of detections\")\n",
    "    ax[i].set_xlabel(\"apparent magnitude\")\n",
    "    del fcx,fex\n",
    "fig.tight_layout()\n",
    "plt.savefig(\"./source_detection_summary_figures/maghist.png\")"
   ]
  },
  {
   "cell_type": "code",
   "execution_count": null,
   "id": "899de8bb-7684-4c30-98ad-1fc6b7e00b94",
   "metadata": {},
   "outputs": [],
   "source": [
    "fig, ax = plt.subplots( 1, 3, figsize=(15,4), sharey=True )\n",
    "for i,ifilt in enumerate(['g','r','i']):\n",
    "    fcx = np.where( obj_filt[cx] == ifilt )[0]\n",
    "    fex = np.where( obj_filt[ex] == ifilt )[0]\n",
    "    ax[i].yaxis.set_tick_params(which='both', labelbottom=True)\n",
    "    ax[i].plot( obj_rb[cx[fcx]], obj_mag[cx[fcx]], 'o',ms=2,alpha=0.01,mew=0, color=c[i], label='COSMOS' )\n",
    "    ax[i].plot( obj_rb[ex[fex]], obj_mag[ex[fex]], 'o',ms=2,alpha=0.03,mew=0, color=c[i+3], label='ELAIS' )\n",
    "    if i == 0:\n",
    "        ax[i].set_ylabel(\"apparent magnitude\")\n",
    "    ax[i].set_xlabel(\"real/bogus score\")\n",
    "    ax[i].set_ylim([15.0,24.0])\n",
    "    del fcx,fex\n",
    "fig.tight_layout()\n",
    "plt.savefig(\"./source_detection_summary_figures/magVrb.png\")"
   ]
  },
  {
   "cell_type": "code",
   "execution_count": null,
   "id": "82aa75ad-a8e2-47cf-b9bc-e572e4596227",
   "metadata": {},
   "outputs": [],
   "source": [
    "fig, ax = plt.subplots( 1, 3, figsize=(15,4), sharey=True )\n",
    "for i,ifilt in enumerate(['g','r','i']):\n",
    "    fcx = np.where( obj_filt[cx] == ifilt )[0]\n",
    "    fex = np.where( obj_filt[ex] == ifilt )[0]\n",
    "    ax[i].yaxis.set_tick_params(which='both', labelbottom=True)\n",
    "    ax[i].plot( obj_rb[cx[fcx]], np.log10(obj_nobj[cx[fcx]]), 'o',ms=2,alpha=0.01,mew=0, color=c[i], label='COSMOS' )\n",
    "    ax[i].plot( obj_rb[ex[fex]], np.log10(obj_nobj[ex[fex]]), 'o',ms=2,alpha=0.03,mew=0, color=c[i+3], label='ELAIS' )\n",
    "    if i == 0:\n",
    "        ax[i].set_ylabel(\"log(associated detections)\")\n",
    "    ax[i].set_xlabel(\"real/bogus score\")\n",
    "#     ax[i].set_ylim([15.0,24.0])\n",
    "    del fcx,fex\n",
    "fig.tight_layout()\n",
    "plt.savefig(\"./source_detection_summary_figures/nobjVrb.png\")"
   ]
  },
  {
   "cell_type": "code",
   "execution_count": null,
   "id": "1ea9b3e6-4575-4d36-90db-760180e3289c",
   "metadata": {},
   "outputs": [],
   "source": [
    "fig, ax = plt.subplots( 1, 3, figsize=(15,4), sharey=True )\n",
    "for i,ifilt in enumerate(['g','r','i']):\n",
    "    fcx = np.where( (obj_filt[cx] == ifilt) & (obj_rb[cx] > 0.9) )[0]\n",
    "    fex = np.where( (obj_filt[ex] == ifilt) & (obj_rb[ex] > 0.9) )[0]\n",
    "    ax[i].yaxis.set_tick_params(which='both', labelbottom=True)\n",
    "    ax[i].hist( [np.log10(obj_nobj[cx[fcx]]),np.log10(obj_nobj[ex[fex]])], bins=20, \\\n",
    "               stacked=True, color=[c[i],c[i+3]], label=['COSMOS','ELAIS'] )\n",
    "    if i == 0:\n",
    "        ax[i].set_ylabel(\"# of det. (R/B > 0.9)\")\n",
    "    ax[i].set_xlabel(\"log(associated detections)\")\n",
    "#     ax[i].set_ylim([15.0,24.0])\n",
    "    del fcx,fex\n",
    "fig.tight_layout()\n",
    "plt.savefig(\"./source_detection_summary_figures/nobjcutoff.png\")"
   ]
  },
  {
   "cell_type": "markdown",
   "id": "0f225ee0-6c5a-4387-9010-87117ddaa371",
   "metadata": {},
   "source": [
    "<br><br>\n",
    "\n",
    "## Plots for Objects that are likely real (R/B>0.6) and potentially astrophysical (>10 detections of any R/B value)."
   ]
  },
  {
   "cell_type": "code",
   "execution_count": null,
   "id": "892b691d-de08-4177-b17e-858b0e2b913b",
   "metadata": {},
   "outputs": [],
   "source": [
    "good_cx = np.where( (obj_nobj > 10) & (obj_rb >= 0.6) & (obj_bimg == 0) & (obj_dup == 0) & \\\n",
    "                   (obj_ra > 145.0) & (obj_ra < 155.0) & (obj_dec > -3.0) & (obj_dec < 7.0) )[0]\n",
    "good_ex = np.where( (obj_nobj > 10) & (obj_rb >= 0.6) & (obj_bimg == 0) & (obj_dup == 0) & \\\n",
    "                   (obj_ra > 3.0) & (obj_ra < 13.0) & (obj_dec > -48.0) & (obj_dec < -38.0) )[0]"
   ]
  },
  {
   "cell_type": "code",
   "execution_count": null,
   "id": "42da41d7-0d93-4dd5-8c3d-6b2eda2cc4e4",
   "metadata": {},
   "outputs": [],
   "source": [
    "fig, ax = plt.subplots( 1, 3, figsize=(15,4), sharey=True )\n",
    "for i,ifilt in enumerate(['g','r','i']):\n",
    "    fcx = np.where( obj_filt[good_cx] == ifilt )\n",
    "    fex = np.where( obj_filt[good_ex] == ifilt )\n",
    "    ax[i].yaxis.set_tick_params(which='both', labelbottom=True)\n",
    "    ax[i].plot( obj_rb[good_cx[fcx]], obj_mag[good_cx[fcx]], 'o',ms=2,alpha=0.01,mew=0, color=c[i], label='COSMOS' )\n",
    "    ax[i].plot( obj_rb[good_ex[fex]], obj_mag[good_ex[fex]], 'o',ms=2,alpha=0.1,mew=0, color=c[i+3], label='ELAIS' )\n",
    "    if i == 0:\n",
    "        ax[i].set_ylabel(\"apparent magnitude\")\n",
    "    ax[i].set_xlabel(\"real/bogus score\")\n",
    "    ax[i].set_ylim([15.0,24.0])\n",
    "    del fcx,fex\n",
    "fig.tight_layout()\n",
    "plt.savefig(\"./source_detection_summary_figures/magVrb_good.png\")"
   ]
  },
  {
   "cell_type": "code",
   "execution_count": null,
   "id": "7cf84efb-2764-4e7f-bb25-e780029bd807",
   "metadata": {},
   "outputs": [],
   "source": [
    "fig, ax = plt.subplots( 1, 3, figsize=(15,4), sharey=True )\n",
    "for i,ifilt in enumerate(['g','r','i']):\n",
    "    fcx = np.where( obj_filt[good_cx] == ifilt )\n",
    "    fex = np.where( obj_filt[good_ex] == ifilt )\n",
    "    ax[i].yaxis.set_tick_params(which='both', labelbottom=True)\n",
    "    ax[i].hist( [obj_mag[good_cx[fcx]],obj_mag[good_ex[fex]]], bins=20, stacked=True, color=[c[i],c[i+3]], label=['COSMOS','ELAIS'])\n",
    "    ax[i].legend()\n",
    "    if i == 0:\n",
    "        ax[i].set_ylabel(\"log(number of detections)\")\n",
    "    ax[i].set_xlabel(\"apparent magnitude\")\n",
    "    del fcx,fex\n",
    "fig.tight_layout()\n",
    "plt.savefig(\"./source_detection_summary_figures/maghist_good.png\")"
   ]
  },
  {
   "cell_type": "code",
   "execution_count": null,
   "id": "3a546427-0611-437e-ba90-787979013d84",
   "metadata": {},
   "outputs": [],
   "source": [
    "nbins = int(np.ceil( np.max(obj_mjd[good_cx]) - np.min(obj_mjd[good_cx]) ))\n",
    "print(nbins)\n",
    "fig, ax = plt.subplots( 1, 3, figsize=(15,4), sharey=True )\n",
    "for i,ifilt in enumerate(['g','r','i']):\n",
    "    fcx = np.where( obj_filt[good_cx] == ifilt )\n",
    "    fex = np.where( obj_filt[good_ex] == ifilt )\n",
    "    ax[i].yaxis.set_tick_params(which='both', labelbottom=True)\n",
    "    ax[i].hist( [obj_mjd[good_cx[fcx]],obj_mjd[good_ex[fex]]], bins=nbins, stacked=True, color=[c[i],c[i+3]], label=['COSMOS','ELAIS'])\n",
    "    ax[i].legend()\n",
    "    ax[i].set_xlabel(\"MJD\")\n",
    "    if i == 0:\n",
    "        ax[i].set_ylabel(\"log(number of detections)\")\n",
    "    del fcx,fex\n",
    "fig.tight_layout()\n",
    "plt.savefig(\"./source_detection_summary_figures/maghist_good.png\")"
   ]
  },
  {
   "cell_type": "code",
   "execution_count": null,
   "id": "a5283f55-7892-4ed0-961e-335e5b0f11e3",
   "metadata": {},
   "outputs": [],
   "source": [
    "fig, ax = plt.subplots( 1, 3, figsize=(15,4), sharey=True )\n",
    "for i,ifilt in enumerate(['g','r','i']):\n",
    "    fcx = np.where( obj_filt[good_cx] == ifilt )\n",
    "    fex = np.where( obj_filt[good_ex] == ifilt )\n",
    "    ax[i].yaxis.set_tick_params(which='both', labelbottom=True)\n",
    "    ax[i].plot( obj_mag[good_cx[fcx]],obj_magerr[good_cx[fcx]], 'o',ms=2,alpha=0.05, color=c[i])\n",
    "    ax[i].plot( obj_mag[good_ex[fex]],obj_magerr[good_ex[fex]], 'o',ms=2,alpha=0.05, color=c[i+3])\n",
    "#     ax[i].legend()\n",
    "    if i == 0:\n",
    "        ax[i].set_ylabel(\"error\")\n",
    "    ax[i].set_xlabel(\"apparent magnitude\")\n",
    "    ax[i].set_xlim([17,24])\n",
    "    ax[i].set_ylim([0.0,0.3])\n",
    "    del fcx,fex\n",
    "fig.tight_layout()\n",
    "plt.savefig(\"./source_detection_summary_figures/magerr_good.png\")"
   ]
  },
  {
   "cell_type": "markdown",
   "id": "fda16a13-626d-45b1-8081-4a9d1537d17c",
   "metadata": {},
   "source": [
    "## Plots for Candidates that are likely supernovae\n",
    "\n",
    "They had >10 good (R/B>0.6) detections overall. Then we impose >10 good (R/B>0.6) in each filter as well, for the plots."
   ]
  },
  {
   "cell_type": "code",
   "execution_count": null,
   "id": "de6eba37-9705-45b8-97e3-f02540a8d2ed",
   "metadata": {},
   "outputs": [],
   "source": [
    "cx = np.where( cand_ngmatches >=10 )[0]"
   ]
  },
  {
   "cell_type": "markdown",
   "id": "053ac07e-5865-466b-ad36-fdbf5cd7c48d",
   "metadata": {},
   "source": [
    "Plot the amplitude vs. the time span. Notice how setting amplitude>0.6 mag and timespan 15-70 days cuts out a lot of points that are clustered in the timespan axis. Setting a timepan limit of 80 days also rejects candidates that had simply changed from the time of the template image but did not vary during our survey time (like AGN, which is a real astrophysical transient but not a SN)."
   ]
  },
  {
   "cell_type": "code",
   "execution_count": null,
   "id": "cddc3bb3-e47b-4158-b4be-eec8a0691fe9",
   "metadata": {},
   "outputs": [],
   "source": [
    "fig, ax = plt.subplots( 1, 3, figsize=(15,4), sharey=True )\n",
    "for i,ifilt in enumerate(['g','r','i']):\n",
    "    ax[i].axhline(0.6, alpha=0.5,color='grey')\n",
    "    ax[i].axvline(15, alpha=0.5,color='grey',ls='dashed')\n",
    "    ax[i].axvline(80, alpha=0.5,color='grey',ls='dashed')\n",
    "    fx = np.where( cand_LCngdet[cx,i+1] >= 10 )[0]\n",
    "    randos = np.random.normal( size=len(fx) ) * 0.5\n",
    "    ax[i].plot( cand_LCtspan[cx[fx],i+1]+randos, cand_LCamp[cx[fx],i+1], 'o',ms=4,mew=0,alpha=0.2, color=c[i] )\n",
    "    del fx\n",
    "    if i == 0:\n",
    "        ax[i].set_ylabel(\"LC Amplitude [mag]\")\n",
    "    ax[i].set_xlabel(\"LC Timespan [days]\")\n",
    "fig.tight_layout()"
   ]
  },
  {
   "cell_type": "markdown",
   "id": "3e7d0860-4bad-4138-8330-d33537885384",
   "metadata": {},
   "source": [
    "Plot the mean R/B score for all associated detections with R/B>0.6. There aren't really any usable correlations here with mean R/B value that we could use."
   ]
  },
  {
   "cell_type": "code",
   "execution_count": null,
   "id": "1e425e45-7612-40e5-8259-988c66ee7dfc",
   "metadata": {},
   "outputs": [],
   "source": [
    "fig, ax = plt.subplots( 1, 3, figsize=(15,4), sharey=True )\n",
    "for i,ifilt in enumerate(['g','r','i']):\n",
    "    fx = np.where( cand_LCngdet[cx,i+1] >= 10 )[0]\n",
    "    randos = np.random.normal( size=len(fx) ) * 0.5\n",
    "    ax[i].plot( cand_LCtspan[cx[fx],i+1]+randos, cand_meanrb[cx[fx],i+1], 'o',ms=4,mew=0,alpha=0.2, color=c[i] )\n",
    "    del fx\n",
    "    ax[i].set_xlabel(\"Lightcurve Timespan [days]\")\n",
    "    if i == 0:\n",
    "        ax[i].set_ylabel(\"Mean R/B (for R/B>0.6 det.)\")\n",
    "fig.tight_layout()\n",
    "\n",
    "fig, ax = plt.subplots( 1, 3, figsize=(15,4), sharey=True )\n",
    "for i,ifilt in enumerate(['g','r','i']):\n",
    "    fx = np.where( cand_LCngdet[cx,i+1] >= 10 )[0]\n",
    "    ax[i].plot( cand_LCamp[cx[fx],i+1], cand_meanrb[cx[fx],i+1], 'o',ms=4,mew=0,alpha=0.2, color=c[i] )\n",
    "    del fx\n",
    "    ax[i].set_xlabel(\"Lightcurve Amplitude [mag]\")\n",
    "    if i == 0:\n",
    "        ax[i].set_ylabel(\"Mean R/B (for R/B>0.6 det.)\")\n",
    "fig.tight_layout()"
   ]
  },
  {
   "cell_type": "markdown",
   "id": "880c1f15-5bc8-4998-9be8-df3afa61092e",
   "metadata": {},
   "source": [
    "#### There is some odd clustering of candidates in RA and Dec."
   ]
  },
  {
   "cell_type": "code",
   "execution_count": null,
   "id": "fe245b3e-fda1-4bf7-b145-ad05f1313c56",
   "metadata": {},
   "outputs": [],
   "source": [
    "cx = np.where( (cand_ngmatches >=10) & \\\n",
    "              (cand_ra > 145.0) & (cand_ra < 155.0) & (cand_dec > -3.0) & (cand_dec < 7.0) )[0]\n",
    "ex = np.where( (cand_ngmatches >=10) & \\\n",
    "              (cand_ra > 3.0) & (cand_ra < 13.0) & (cand_dec > -48.0) & (cand_dec < -38.0) )[0]\n",
    "\n",
    "print(' 0 < timespan < 15 days')\n",
    "fig, ax = plt.subplots( 1, 3, figsize=(15,4), sharey=True )\n",
    "for i,ifilt in enumerate(['g','r','i']):\n",
    "    fx = np.where( (cand_LCtspan[cx,i+1] > 0.0) & (cand_LCtspan[cx,i+1] < 15.0) )[0]\n",
    "    ax[i].plot( cand_ra[cx[fx]], cand_dec[cx[fx]], 'o',ms=2,mew=0,alpha=0.2, color=c[i] )\n",
    "    ax[i].set_xlabel(\"RA\")\n",
    "    if i == 0:\n",
    "        ax[i].set_ylabel(\"Dec\")\n",
    "fig.tight_layout()\n",
    "\n",
    "print(' 15 < timespan < 80 days ')\n",
    "fig, ax = plt.subplots( 1, 3, figsize=(15,4), sharey=True )\n",
    "for i,ifilt in enumerate(['g','r','i']):\n",
    "    fx = np.where( (cand_LCtspan[cx,i+1] >= 15.0) | (cand_LCtspan[cx,i+1] <= 80.0) )[0]\n",
    "    ax[i].plot( cand_ra[cx[fx]], cand_dec[cx[fx]], 'o',ms=2,mew=0,alpha=0.2, color=c[i] )\n",
    "    ax[i].set_xlabel(\"RA\")\n",
    "    if i == 0:\n",
    "        ax[i].set_ylabel(\"Dec\")\n",
    "fig.tight_layout()\n",
    "\n",
    "print(' 80 < timespan ')\n",
    "fig, ax = plt.subplots( 1, 3, figsize=(15,4), sharey=True )\n",
    "for i,ifilt in enumerate(['g','r','i']):\n",
    "    fx = np.where( cand_LCtspan[cx,i+1] > 80.0 )[0]\n",
    "    ax[i].plot( cand_ra[cx[fx]], cand_dec[cx[fx]], 'o',ms=2,mew=0,alpha=0.2, color=c[i] )\n",
    "    ax[i].set_xlabel(\"RA\")\n",
    "    if i == 0:\n",
    "        ax[i].set_ylabel(\"Dec\")\n",
    "fig.tight_layout()"
   ]
  },
  {
   "cell_type": "code",
   "execution_count": null,
   "id": "4791350a-1c6b-441f-a78f-fbc5ea3154c5",
   "metadata": {},
   "outputs": [],
   "source": [
    "print(' mean R/B < 0.9 ')\n",
    "fig, ax = plt.subplots( 1, 3, figsize=(15,4), sharey=True )\n",
    "for i,ifilt in enumerate(['g','r','i']):\n",
    "    fx = np.where( cand_meanrb[cx,i+1] < 0.9 )[0]\n",
    "    ax[i].plot( cand_ra[cx[fx]], cand_dec[cx[fx]], 'o',ms=2,mew=0,alpha=0.2, color=c[i] )\n",
    "    ax[i].set_xlabel(\"RA\")\n",
    "    if i == 0:\n",
    "        ax[i].set_ylabel(\"Dec\")\n",
    "fig.tight_layout()\n",
    "\n",
    "print(' mean R/B >= 0.9 ')\n",
    "fig, ax = plt.subplots( 1, 3, figsize=(15,4), sharey=True )\n",
    "for i,ifilt in enumerate(['g','r','i']):\n",
    "    fx = np.where( cand_meanrb[cx,i+1] >= 0.9 )[0]\n",
    "    ax[i].plot( cand_ra[cx[fx]], cand_dec[cx[fx]], 'o',ms=2,mew=0,alpha=0.2, color=c[i] )\n",
    "    ax[i].set_xlabel(\"RA\")\n",
    "    if i == 0:\n",
    "        ax[i].set_ylabel(\"Dec\")\n",
    "fig.tight_layout()"
   ]
  },
  {
   "cell_type": "code",
   "execution_count": null,
   "id": "2d64b5cf-5c3e-4e9d-8816-f9571c251984",
   "metadata": {},
   "outputs": [],
   "source": []
  },
  {
   "cell_type": "code",
   "execution_count": null,
   "id": "5e24c0a6-f531-4677-8b44-f4a20f62dfc3",
   "metadata": {},
   "outputs": [],
   "source": []
  }
 ],
 "metadata": {
  "kernelspec": {
   "display_name": "NERSC Python",
   "language": "python",
   "name": "python3"
  },
  "language_info": {
   "codemirror_mode": {
    "name": "ipython",
    "version": 3
   },
   "file_extension": ".py",
   "mimetype": "text/x-python",
   "name": "python",
   "nbconvert_exporter": "python",
   "pygments_lexer": "ipython3",
   "version": "3.9.7"
  }
 },
 "nbformat": 4,
 "nbformat_minor": 5
}
