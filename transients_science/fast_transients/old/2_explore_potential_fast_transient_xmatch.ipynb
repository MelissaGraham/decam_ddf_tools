{
 "cells": [
  {
   "cell_type": "markdown",
   "id": "33ac9fd3-1c1d-4ab3-b6c2-ad354d51e4af",
   "metadata": {
    "tags": []
   },
   "source": [
    "# Explore the LS DR10 cross-matches for potential Fast Transients\n",
    "\n",
    "Author: Melissa Graham, Midori Rollins\n",
    "\n",
    "## Set up and read files"
   ]
  },
  {
   "cell_type": "code",
   "execution_count": 1,
   "id": "8afe2d4c-6257-449a-a856-baf4c7b4e6e1",
   "metadata": {
    "tags": []
   },
   "outputs": [],
   "source": [
    "import os\n",
    "import numpy as np\n",
    "import matplotlib as mpl\n",
    "import matplotlib.pyplot as plt"
   ]
  },
  {
   "cell_type": "code",
   "execution_count": 2,
   "id": "5fc8e57f-34ac-4d1b-bee8-e6acf0170742",
   "metadata": {
    "tags": []
   },
   "outputs": [],
   "source": [
    "clr = ['darkgreen', 'firebrick', 'saddlebrown', 'limegreen', 'orange', 'lightcoral']\n",
    "\n",
    "all_filters = ['g','r','i']\n",
    "all_fcolors = ['green','red','blue']\n",
    "all_fshapes = ['o','s','^']\n",
    "all_fsizes  = [5, 5, 7]"
   ]
  },
  {
   "cell_type": "markdown",
   "id": "1aff483c-1cb6-40ee-82da-9d61d036a9c2",
   "metadata": {},
   "source": [
    "Read in the nightly epoch light curves for all candidates."
   ]
  },
  {
   "cell_type": "code",
   "execution_count": 3,
   "id": "408ce1fa-07aa-4a71-8d97-76eb57dc31be",
   "metadata": {
    "tags": []
   },
   "outputs": [],
   "source": [
    "fnm = '../all_nightly_epochs_files/candidate_lightcurves.dat'\n",
    "\n",
    "candLC_field = np.loadtxt(fnm, dtype='str', usecols=(0))\n",
    "candLC_candid = np.loadtxt(fnm, dtype='str', usecols=(1))\n",
    "candLC_caldate = np.loadtxt(fnm, dtype='str', usecols=(2))\n",
    "candLC_mjd = np.loadtxt(fnm, dtype='float', usecols=(3))\n",
    "candLC_filter = np.loadtxt(fnm, dtype='str', usecols=(4))\n",
    "candLC_Nobj = np.loadtxt(fnm, dtype='int', usecols=(5))\n",
    "candLC_mag = np.loadtxt(fnm, dtype='float', usecols=(6))\n",
    "candLC_mage = np.loadtxt(fnm, dtype='float', usecols=(7))\n",
    "candLC_mrb = np.loadtxt(fnm, dtype='float', usecols=(8))\n",
    "candLC_lef = np.loadtxt(fnm, dtype='float', usecols=(9))\n",
    "\n",
    "del fnm"
   ]
  },
  {
   "cell_type": "markdown",
   "id": "c31dce14-3acd-4ab3-9469-48dfe37b3597",
   "metadata": {},
   "source": [
    "Read in the parameters for the nightly epoch light curves for all candidates."
   ]
  },
  {
   "cell_type": "code",
   "execution_count": 4,
   "id": "410d2b04-57a6-4479-b16d-247af38bd443",
   "metadata": {
    "tags": []
   },
   "outputs": [],
   "source": [
    "fnm = '../all_nightly_epochs_files/candidate_lightcurve_parameters.dat'\n",
    "\n",
    "paramLC_field = np.loadtxt( fnm, dtype='str', usecols=(0) )\n",
    "paramLC_candid = np.loadtxt( fnm, dtype='str', usecols=(1) )\n",
    "paramLC_tspan = np.loadtxt( fnm, dtype='float', usecols=(2) )\n",
    "paramLC_tspan_g = np.loadtxt( fnm, dtype='float', usecols=(3) )\n",
    "paramLC_tspan_r = np.loadtxt( fnm, dtype='float', usecols=(4) )\n",
    "paramLC_tspan_i = np.loadtxt( fnm, dtype='float', usecols=(5) )\n",
    "paramLC_minmag = np.loadtxt( fnm, dtype='float', usecols=(6) )\n",
    "paramLC_minmag_g = np.loadtxt( fnm, dtype='float', usecols=(7) )\n",
    "paramLC_minmag_r = np.loadtxt( fnm, dtype='float', usecols=(8) )\n",
    "paramLC_minmag_i = np.loadtxt( fnm, dtype='float', usecols=(9) )\n",
    "paramLC_amp = np.loadtxt( fnm, dtype='float', usecols=(10) )\n",
    "paramLC_amp_g = np.loadtxt( fnm, dtype='float', usecols=(11) )\n",
    "paramLC_amp_r = np.loadtxt( fnm, dtype='float', usecols=(12) )\n",
    "paramLC_amp_i = np.loadtxt( fnm, dtype='float', usecols=(13) )\n",
    "paramLC_neps = np.loadtxt( fnm, dtype='int', usecols=(14) )\n",
    "paramLC_neps_g = np.loadtxt( fnm, dtype='int', usecols=(15) )\n",
    "paramLC_neps_r = np.loadtxt( fnm, dtype='int', usecols=(16) )\n",
    "paramLC_neps_i = np.loadtxt( fnm, dtype='int', usecols=(17) )\n",
    "\n",
    "del fnm"
   ]
  },
  {
   "cell_type": "markdown",
   "id": "c80e15cd-13cf-48fa-a215-7faf63cd6c94",
   "metadata": {},
   "source": [
    "Read in the list of candidate IDs for potential fast transients that Melissa made with the MLG_snia_menagerie.ipynb notebook."
   ]
  },
  {
   "cell_type": "code",
   "execution_count": 5,
   "id": "a69a8d73-1345-43a9-b94c-51f3a65872f1",
   "metadata": {
    "tags": []
   },
   "outputs": [],
   "source": [
    "potft_candid = np.loadtxt('potential_fast_transients_list.dat', dtype='str', usecols=(0))"
   ]
  },
  {
   "cell_type": "markdown",
   "id": "25c69817-6448-4fdc-93b8-e43b4c5e5ef9",
   "metadata": {
    "tags": []
   },
   "source": [
    "Read in all rows of the cross-matched file.\n",
    "\n",
    "`flagstar` : 1 if matched to a star; 0 if matched to a galaxy; -1 if unmatched (int) \n",
    "\n",
    "`flagcore` : 1 if matched to the core of the galaxy; 0 otherwise (int) \n",
    "\n",
    "`flagmatch` : 1 if a star AND galaxy met constraints; 0 if one or the other; -1 if unmatched (int) \n"
   ]
  },
  {
   "cell_type": "code",
   "execution_count": 6,
   "id": "bae85aeb-f435-43ce-975f-f2fe6df5e041",
   "metadata": {
    "tags": []
   },
   "outputs": [],
   "source": [
    "fnm = '../cross_matched_LSDR10/candidate_xmatch_LSdr10.dat'\n",
    "lsdr10xm_candid   = np.loadtxt(fnm, dtype='str', usecols=(0))\n",
    "lsdr10xm_candra   = np.loadtxt(fnm, dtype='float', usecols=(1))\n",
    "lsdr10xm_canddec  = np.loadtxt(fnm, dtype='float', usecols=(2))\n",
    "lsdr10xm_flagstar = np.loadtxt(fnm, dtype='int', usecols=(4))\n",
    "lsdr10xm_flagcore = np.loadtxt(fnm, dtype='int', usecols=(5))\n",
    "lsdr10xm_flagmatch= np.loadtxt(fnm, dtype='int', usecols=(6))\n",
    "lsdr10xm_sep      = np.loadtxt(fnm, dtype='float', usecols=(7))\n",
    "lsdr10xm_ra       = np.loadtxt(fnm, dtype='float', usecols=(8))\n",
    "lsdr10xm_dec      = np.loadtxt(fnm, dtype='float', usecols=(9))\n",
    "lsdr10xm_rmag     = np.loadtxt(fnm, dtype='float', usecols=(13))\n",
    "lsdr10xm_type     = np.loadtxt(fnm, dtype='str', usecols=(15))\n",
    "lsdr10xm_shaper   = np.loadtxt(fnm, dtype='float', usecols=(19))\n",
    "lsdr10xm_rpsfsize = np.loadtxt(fnm, dtype='float', usecols=(21))  \n",
    "lsdr10xm_meanpz   = np.loadtxt(fnm, dtype='float', usecols=(23))\n",
    "lsdr10xm_stdpz    = np.loadtxt(fnm, dtype='float', usecols=(24))\n",
    "lsdr10xm_specz    = np.loadtxt(fnm, dtype='float', usecols=(25))\n",
    "del fnm"
   ]
  },
  {
   "cell_type": "markdown",
   "id": "806625f4-ce7a-4deb-8a2c-d0aa709631a0",
   "metadata": {},
   "source": [
    "For every potential fast transient store its index in the `paramLC_` arrays \n",
    "as `mindex` for the `lsdr10xm_` arrays."
   ]
  },
  {
   "cell_type": "code",
   "execution_count": 7,
   "id": "b2080915-b2a7-4dc3-a9ee-2f9d7c90ac8c",
   "metadata": {
    "tags": []
   },
   "outputs": [],
   "source": [
    "lsdr10xm_mindex = np.zeros(len(lsdr10xm_candid), dtype='int')-1\n",
    "\n",
    "if potft_candid.size > 1:\n",
    "    for cid in potft_candid:\n",
    "        tx = np.where(lsdr10xm_candid == cid)[0]\n",
    "        if len(tx) == 1:\n",
    "            ttx = np.where(paramLC_candid == cid)[0]\n",
    "            if len(ttx) == 1:\n",
    "                lsdr10xm_mindex[tx[0]] = ttx[0]\n",
    "            del ttx\n",
    "        del tx\n",
    "if potft_candid.size == 1:\n",
    "    tx = np.where(lsdr10xm_candid == potft_candid)[0]\n",
    "    if len(tx) == 1:\n",
    "        ttx = np.where(paramLC_candid == potft_candid)[0]\n",
    "        if len(ttx) == 1:\n",
    "            lsdr10xm_mindex[tx[0]] = ttx[0]\n",
    "        del ttx\n",
    "    del tx"
   ]
  },
  {
   "cell_type": "markdown",
   "id": "9eb270c8-3d12-4c4e-b76a-ea002d5f4943",
   "metadata": {},
   "source": [
    "Check that all the potential SNIa were successfully matched."
   ]
  },
  {
   "cell_type": "code",
   "execution_count": 8,
   "id": "5964dbba-b8f6-49f6-b47e-71fa8745bb8a",
   "metadata": {
    "tags": []
   },
   "outputs": [
    {
     "name": "stdout",
     "output_type": "stream",
     "text": [
      "1  should equal  1\n"
     ]
    }
   ],
   "source": [
    "tx = np.where(lsdr10xm_mindex >= 0)[0]\n",
    "print(len(tx), ' should equal ', potft_candid.size)"
   ]
  },
  {
   "cell_type": "markdown",
   "id": "c671f849-8cab-48f8-b3ae-cc678b663431",
   "metadata": {},
   "source": [
    "## Number of potential SNIa with matches\n",
    "\n",
    "Recall that the `flagstar` column is 1 if the nearest cross-match is a star\n",
    "and 0 if it is a galaxy.\n",
    "\n",
    "Recall that the `flagmatch` column is 1 if there was a nearby object of a different\n",
    "type within the search radius, indicating potential confusion in object or host type.\n",
    "\n",
    "Identify potential SNIa with no matches, star matches, and galaxy matches."
   ]
  },
  {
   "cell_type": "code",
   "execution_count": 9,
   "id": "6711dfbb-ecdf-41ff-ab72-fe31339501ce",
   "metadata": {
    "tags": []
   },
   "outputs": [
    {
     "name": "stdout",
     "output_type": "stream",
     "text": [
      "1\n",
      " \n",
      "Number of potential fast transient that are cross-matched with:\n",
      "no source:  0\n",
      "a galaxy:  1\n",
      "a star:  0\n",
      " \n",
      "Number of potential fast transient that are cross-matched with:\n",
      "a galaxy, but a star is nearby too:  0\n",
      "[]\n",
      "a star, but a galaxy is nearby too:  0\n",
      "[]\n"
     ]
    }
   ],
   "source": [
    "tx = np.where(lsdr10xm_mindex >= 0)[0]\n",
    "print(len(tx))\n",
    "\n",
    "ax = np.where(lsdr10xm_flagstar[tx] == -1)[0]\n",
    "bx = np.where(lsdr10xm_flagstar[tx] == 0)[0]\n",
    "cx = np.where(lsdr10xm_flagstar[tx] == 1)[0]\n",
    "\n",
    "print(' ')\n",
    "print('Number of potential fast transient that are cross-matched with:')\n",
    "print('no source: ', len(ax))\n",
    "print('a galaxy: ', len(bx))\n",
    "print('a star: ', len(cx))\n",
    "\n",
    "dx = np.where(lsdr10xm_flagmatch[tx[bx]] == 1)[0]\n",
    "ex = np.where(lsdr10xm_flagmatch[tx[cx]] == 1)[0]\n",
    "\n",
    "print(' ')\n",
    "print('Number of potential fast transient that are cross-matched with:')\n",
    "print('a galaxy, but a star is nearby too: ', len(dx))\n",
    "print(lsdr10xm_candid[tx[bx[dx]]])\n",
    "print('a star, but a galaxy is nearby too: ', len(ex))\n",
    "print(lsdr10xm_candid[tx[cx[ex]]])\n",
    "\n",
    "del tx, ax, bx, cx, dx, ex"
   ]
  },
  {
   "cell_type": "markdown",
   "id": "9e8359b5-5474-4632-9ae6-48b05569bdbb",
   "metadata": {
    "tags": []
   },
   "source": [
    "## Histograms\n",
    "\n",
    "Plot some histograms to compare the cross-matched stars and galaxies."
   ]
  },
  {
   "cell_type": "code",
   "execution_count": 10,
   "id": "1c71bbb1-df31-4aad-aec2-69a615849339",
   "metadata": {
    "tags": []
   },
   "outputs": [
    {
     "data": {
      "image/png": "[encoded data removed]",
      "text/plain": [
       "<Figure size 400x200 with 1 Axes>"
      ]
     },
     "metadata": {},
     "output_type": "display_data"
    },
    {
     "data": {
      "image/png": "[encoded data removed]",
      "text/plain": [
       "<Figure size 400x200 with 1 Axes>"
      ]
     },
     "metadata": {},
     "output_type": "display_data"
    }
   ],
   "source": [
    "tx = np.where(lsdr10xm_mindex >= 0)[0]\n",
    "bx = np.where(lsdr10xm_flagstar[tx] == 0)[0]\n",
    "cx = np.where(lsdr10xm_flagstar[tx] == 1)[0]\n",
    "\n",
    "plt.figure(figsize=(4, 2))\n",
    "plt.hist(lsdr10xm_sep[tx[bx]]/lsdr10xm_shaper[tx[bx]], bins=20, histtype='step', color='darkgrey', lw=3, label='galaxy')\n",
    "plt.hist(lsdr10xm_sep[tx[cx]]/lsdr10xm_rpsfsize[tx[cx]], bins=20, histtype='step', color='black', lw=1, label='star')\n",
    "plt.xlabel('separation / size')\n",
    "plt.legend(loc='upper right')\n",
    "plt.show()\n",
    "\n",
    "plt.figure(figsize=(4, 2))\n",
    "plt.hist(lsdr10xm_rmag[tx[bx]], bins=20, histtype='step', color='darkgrey', lw=3, label='galaxy')\n",
    "plt.hist(lsdr10xm_rmag[tx[cx]], bins=20, histtype='step', color='black', lw=1, label='star')\n",
    "plt.xlabel('r-band apparent magnitude')\n",
    "plt.show()\n",
    "\n",
    "del tx, bx, cx"
   ]
  },
  {
   "cell_type": "markdown",
   "id": "1092e4d8-04ae-4081-b883-fafcd17510d3",
   "metadata": {},
   "source": [
    "## Light curve\n",
    "\n",
    "Plot our one potential fast transient, DC22icaog"
   ]
  },
  {
   "cell_type": "code",
   "execution_count": 11,
   "id": "0066e18f-27e5-4abd-8dad-9f2e48370830",
   "metadata": {
    "tags": []
   },
   "outputs": [
    {
     "data": {
      "image/png": "[encoded data removed]",
      "text/plain": [
       "<Figure size 600x400 with 1 Axes>"
      ]
     },
     "metadata": {},
     "output_type": "display_data"
    }
   ],
   "source": [
    "tx = np.where(lsdr10xm_mindex >= 0)[0]\n",
    "ttx = np.where(lsdr10xm_flagstar[tx] == 0)[0]\n",
    "sx = lsdr10xm_mindex[tx[ttx]]\n",
    "del tx, ttx\n",
    "\n",
    "plt.figure(figsize=(6,4))\n",
    "\n",
    "s = 0\n",
    "for i in range(1):\n",
    "    plt.ylabel('magnitude', fontsize=14)\n",
    "    for j in range(1):\n",
    "        # if s <= 17:\n",
    "            for f,filt in enumerate(all_filters):\n",
    "                cx0 = np.where((candLC_candid == paramLC_candid[sx[s]]) & \\\n",
    "                               (candLC_filter == filt) & (candLC_mrb > 0.4))[0]\n",
    "                cx1 = np.where((candLC_candid == paramLC_candid[sx[s]]) & \\\n",
    "                               (candLC_filter == filt) & (candLC_mrb <= 0.4) & (candLC_lef == 0))[0]\n",
    "                cx2 = np.where((candLC_candid == paramLC_candid[sx[s]]) & \\\n",
    "                               (candLC_filter == filt) & (candLC_mrb <= 0.4) & (candLC_lef == 1))[0]\n",
    "                plt.plot(candLC_mjd[cx0]-59300., candLC_mag[cx0], \n",
    "                             all_fshapes[f], ms=all_fsizes[f], mew=0, alpha=0.8, color=all_fcolors[f], label=filt)\n",
    "                plt.plot(candLC_mjd[cx1]-59300., candLC_mag[cx1], \n",
    "                             all_fshapes[f], ms=all_fsizes[f], mew=1, alpha=0.8, color='none', mec=all_fcolors[f])\n",
    "                plt.plot(candLC_mjd[cx2]-59300., candLC_mag[cx2], \n",
    "                             all_fshapes[f], ms=all_fsizes[f]-1, mew=0, alpha=0.4, color=all_fcolors[f])\n",
    "                del cx0, cx1, cx2\n",
    "\n",
    "            cx = np.where((candLC_candid == paramLC_candid[sx[s]]) & (candLC_lef == 0))[0]\n",
    "            xmin = np.min(candLC_mjd[cx])\n",
    "            xmax = np.max(candLC_mjd[cx])\n",
    "            if paramLC_candid[sx[s]] == 'DC21frjc':\n",
    "                xmin = 59940.0\n",
    "            del cx\n",
    "            plt.gca().invert_yaxis()\n",
    "            plt.xlim([xmin-59300.-5, xmax-59300.+5])\n",
    "            del xmin, xmax\n",
    "            plt.title(paramLC_candid[sx[s]])\n",
    "            s += 1\n",
    "\n",
    "plt.legend(loc='upper right', labelspacing=0.1, handletextpad=0.1, fontsize=14)\n",
    "\n",
    "for j in range(5):\n",
    "    plt.xlabel('MJD-59300', fontsize=14)\n",
    "\n",
    "plt.tight_layout()\n",
    "plt.show()\n",
    "del sx, s"
   ]
  },
  {
   "cell_type": "markdown",
   "id": "9f8cc869-2eca-4c7b-b1e8-dd20229237aa",
   "metadata": {
    "tags": []
   },
   "source": [
    "Let's get a little more insight into DC22icaog and it's host galaxy cross match"
   ]
  },
  {
   "cell_type": "code",
   "execution_count": 12,
   "id": "3bafc7c8-f7c4-44ff-be8c-7ed1e5093f1c",
   "metadata": {
    "tags": []
   },
   "outputs": [],
   "source": [
    "templist = ['DC22icaog']"
   ]
  },
  {
   "cell_type": "code",
   "execution_count": 13,
   "id": "52b26624-b8d1-49aa-944d-c76d23c48bd1",
   "metadata": {
    "tags": []
   },
   "outputs": [
    {
     "name": "stdout",
     "output_type": "stream",
     "text": [
      "    candid  flagstar  flagmatch    sep  rpsfsize    mag\n",
      " DC22icaog         0          0   0.20  1.164356  21.69\n",
      "https://www.legacysurvey.org/viewer/cutout.jpg?ra=8.56951878854105&dec=-43.2991451116652&layer=ls-dr9&pixscale=0.06\n",
      "https://decat-webap.lbl.gov/decatview.py/cand/DC22icaog\n"
     ]
    }
   ],
   "source": [
    "fnm = '../cross_matched_LSDR10/candidate_links.dat'\n",
    "\n",
    "link_candid = np.loadtxt(fnm, dtype='str', usecols=(0))\n",
    "link_lsview = np.loadtxt(fnm, dtype='str', usecols=(1))\n",
    "link_rkview = np.loadtxt(fnm, dtype='str', usecols=(2))\n",
    "\n",
    "print('%10s  %8s  %9s  %5s  %8s  %5s' % ('candid','flagstar','flagmatch','sep','rpsfsize','mag'))\n",
    "\n",
    "for temp in templist:\n",
    "    tx = np.where(link_candid == temp)[0]\n",
    "    jx = np.where(lsdr10xm_candid == temp)[0]\n",
    "    print('%10s  %8i  %9i  %5.2f  %8.6f  %5.2f' % \n",
    "          (temp, lsdr10xm_flagstar[jx[0]], lsdr10xm_flagmatch[jx[0]], \n",
    "          lsdr10xm_sep[jx[0]], lsdr10xm_rpsfsize[jx[0]], lsdr10xm_rmag[jx[0]]))\n",
    "    print(link_lsview[tx[0]])\n",
    "    print(link_rkview[tx[0]])\n",
    "    del tx\n",
    "\n",
    "del fnm"
   ]
  },
  {
   "cell_type": "markdown",
   "id": "6b6900d3-c548-4728-9b51-05265e5c1497",
   "metadata": {
    "tags": []
   },
   "source": [
    "After reviewing the match, we confirm DC22icaog is matched to a galaxy"
   ]
  },
  {
   "cell_type": "code",
   "execution_count": null,
   "id": "65850ba2-f635-4db3-9f7a-19684f1baf05",
   "metadata": {},
   "outputs": [],
   "source": []
  }
 ],
 "metadata": {
  "kernelspec": {
   "display_name": "NERSC Python",
   "language": "python",
   "name": "python3"
  },
  "language_info": {
   "codemirror_mode": {
    "name": "ipython",
    "version": 3
   },
   "file_extension": ".py",
   "mimetype": "text/x-python",
   "name": "python",
   "nbconvert_exporter": "python",
   "pygments_lexer": "ipython3",
   "version": "3.11.7"
  }
 },
 "nbformat": 4,
 "nbformat_minor": 5
}
