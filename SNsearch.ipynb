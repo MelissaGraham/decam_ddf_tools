{
 "cells": [
  {
   "cell_type": "code",
   "execution_count": 1,
   "id": "f831646b-7bb2-426b-951c-0098a80e154e",
   "metadata": {},
   "outputs": [],
   "source": [
    "import psycopg2\n",
    "import psycopg2.extras\n",
    "import getpass\n",
    "from IPython.display import display\n",
    "import ipywidgets\n",
    "import matplotlib.pyplot as plt\n",
    "import matplotlib\n",
    "import numpy as np\n",
    "import pandas as pd\n",
    "from astropy.time import Time\n",
    "from astropy.coordinates import get_moon, GCRS\n",
    "import astropy.units as u\n",
    "import copy"
   ]
  },
  {
   "cell_type": "markdown",
   "id": "b54e368f-7947-4a0d-bf10-907b205891e0",
   "metadata": {},
   "source": [
    "The purpose of this notebook is to search through the COSMOS field objects to identify candidates that are likely supernovae. This is done by selecting every candidate that has at least 10 detections over at least 1 month, with a change of at least 1.4 mag, and that doesn't increase in brightness more than once (numbers adjustable in next cell)"
   ]
  },
  {
   "cell_type": "code",
   "execution_count": 2,
   "id": "57dcfd06-a3d1-4c05-91f4-c58fd8602a4e",
   "metadata": {},
   "outputs": [],
   "source": [
    "# Minimum timespan between first and last detections in g, r, and i\n",
    "tspang, tspanr, tspani = 15, 15, 15\n",
    "# Minimum number of detections in g, r, and i\n",
    "numdetg, numdetr, numdeti = 10, 10, 10\n",
    "# Minimum magnitude change in g, r, and i\n",
    "minmagg, minmagr, minmagi = 0.4, 0.4, 0.4\n",
    "# The number of standard deviations tolerated to stretch the definition of increasing/decreasing\n",
    "# (0.3 seems to be the sweet spot, but a little higher works too)\n",
    "errmult = 0.3\n",
    "# Maximum average error a candidate's detections can have before they are eliminated from consideration\n",
    "rmaxerr, gmaxerr, imaxerr = 0.2, 0.2, 0.2"
   ]
  },
  {
   "cell_type": "code",
   "execution_count": 3,
   "id": "b1c53037-4e35-40b0-8693-e1c5f735d7b3",
   "metadata": {},
   "outputs": [
    {
     "name": "stdin",
     "output_type": "stream",
     "text": [
      "DB User:  kennedyt\n",
      "DB Password:  ············\n"
     ]
    }
   ],
   "source": [
    "dbuser = input(\"DB User: \")\n",
    "dbpasswd = getpass.getpass(\"DB Password: \")"
   ]
  },
  {
   "cell_type": "markdown",
   "id": "2ef01cad-0ac1-4905-bf8f-a68bf27cf681",
   "metadata": {},
   "source": [
    "The purpose of this notebook is to search through the COSMOS field objects to identify candidates that are likely supernovae. This is done by selecting every candidate that has at least 10 detections over at least 15 days, with a change of at least 1.4 mag, and that doesn't increase in brightness more than once (numbers adjustable in next cell)"
   ]
  },
  {
   "cell_type": "code",
   "execution_count": 4,
   "id": "5fd6640d-ced1-443d-ab18-055a890ad9e2",
   "metadata": {},
   "outputs": [],
   "source": [
    "db = psycopg2.connect( f\"dbname='decat' user='{dbuser}' password='{dbpasswd}' host='decatdb.lbl.gov'\" )\n",
    "\n",
    "db.autocommit = True # Makes the computer nicer about SQL syntax errors\n",
    "\n",
    "cursor = db.cursor( cursor_factory = psycopg2.extras.DictCursor )"
   ]
  },
  {
   "cell_type": "code",
   "execution_count": 5,
   "id": "afdb0dc1-bb59-4acc-98a1-0513f1afcab1",
   "metadata": {},
   "outputs": [],
   "source": [
    "query = ( 'SELECT o.candidate_id, o.id, e.mjd, o.mag, e.filter, o.magerr, o.ra, o.dec, e.filename FROM objects o '\n",
    "         'JOIN subtractions s ON o.subtraction_id=s.id '\n",
    "         'JOIN exposures e ON e.id=s.exposure_id '\n",
    "         'WHERE q3c_radial_query(o.ra,o.dec,150,2.2,3) '\n",
    "         'AND o.rb>0.5 '\n",
    "         'ORDER BY o.candidate_id '\n",
    "         'LIMIT 10000000' )\n",
    "cursor.execute( query )\n",
    "\n",
    "SNquery = np.array( cursor.fetchall() ).transpose()"
   ]
  },
  {
   "cell_type": "markdown",
   "id": "8a9fe60b-0363-4e1f-bc69-d2d23f56809e",
   "metadata": {},
   "source": [
    "#### Nonstandard exposure time filter"
   ]
  },
  {
   "cell_type": "code",
   "execution_count": 6,
   "id": "83238d75-a704-44bf-9b71-65d94dc3a7f3",
   "metadata": {},
   "outputs": [],
   "source": [
    "# Reads in lookup table with filenames and exposure times\n",
    "lutable = np.loadtxt( \"archive_image_list.txt\", dtype=object ).transpose()\n",
    "fnmtable, exptable = lutable[0], lutable[7].astype(float)\n",
    "\n",
    "fnms = SNquery[8]\n",
    "fnms = [fnms[i][:21] for i in range( len( fnms ) )] # truncate filenames to match lookup table format\n",
    "\n",
    "# Attach an exposure time to every object we pulled in the query\n",
    "exptime = np.array( [exptable[ np.where( fnms[i] == fnmtable )[0]][0] for i in range( len( fnms ) )], dtype=float )"
   ]
  },
  {
   "cell_type": "code",
   "execution_count": 7,
   "id": "b95a9cd8-aeb8-484a-b35c-4b67e6c8cc52",
   "metadata": {},
   "outputs": [
    {
     "data": {
      "text/plain": [
       "179696"
      ]
     },
     "execution_count": 7,
     "metadata": {},
     "output_type": "execute_result"
    }
   ],
   "source": [
    "# Eliminate objects from non-standard images\n",
    "gmsk = np.where( ( SNquery[4] == \"g\" ) & ( exptime > 50 ) )[0]\n",
    "rmsk = np.where( ( SNquery[4] == \"r\" ) & ( exptime > 20 ) )[0]\n",
    "imsk = np.where( ( SNquery[4] == \"i\" ) & ( exptime > 20 ) )[0]\n",
    "grmsk = np.append( rmsk, gmsk )\n",
    "grimsk = np.append( grmsk, imsk )\n",
    "len( grimsk )"
   ]
  },
  {
   "cell_type": "markdown",
   "id": "bded88f4-c9dd-482e-ae7f-6a06051f6522",
   "metadata": {},
   "source": [
    "#### Red filter:"
   ]
  },
  {
   "cell_type": "code",
   "execution_count": 8,
   "id": "f6471a56-16bf-48e4-9806-5e12ae42cff1",
   "metadata": {},
   "outputs": [],
   "source": [
    "# Mask to make sure we stay in the r band detections\n",
    "rmsk = np.where( SNquery[4] == \"r\" )[0]\n",
    "rmsk = [i for i in grimsk if i in rmsk]"
   ]
  },
  {
   "cell_type": "code",
   "execution_count": 9,
   "id": "f6191ab1-a9b4-4b14-988b-8bde54fbcaf3",
   "metadata": {},
   "outputs": [],
   "source": [
    "# Separating out various query results and applying the r mask \n",
    "candsr, objs, magsr, magerrsr = SNquery[0][rmsk], SNquery[1].astype(float)[rmsk], SNquery[3][rmsk], SNquery[5][rmsk]\n",
    "# Create an array of the dates rounded to the nearest MJD\n",
    "odatesr = np.round( SNquery[2].astype(float) )[rmsk]\n",
    "# Create an array of unique candidates\n",
    "ucandsr = np.unique( candsr )\n",
    "# create an array of unique night (rounded to nearest MJD)\n",
    "datesr = np.unique( odatesr )"
   ]
  },
  {
   "cell_type": "code",
   "execution_count": 10,
   "id": "579da7e4-d67c-487a-a094-03d24aef357b",
   "metadata": {},
   "outputs": [],
   "source": [
    "### The most computationally intensive cell in the notebook (along with its g band counterpart), should take less than 2 minutes\n",
    "# Create for each unique candidate an array of the dates it was observed on and store those arrays in a larger array (ucanddatesr)\n",
    "ucanddatesr = np.array( [odatesr[ np.where( candsr==i )[0] ] for i in ucandsr] )\n",
    "# Create for each unique candidate an array of measured magnitudes and store those arrays in a larger array (ucandmagsr)\n",
    "ucandmagsr = np.array( [magsr[ np.where( candsr==i )[0] ] for i in ucandsr] )\n",
    "# Create for each unique candidate an array of measured magnitude error bars and store those arrays in a larger array (ucandmagerrsr)\n",
    "ucandmagerrsr = np.array( [magerrsr[ np.where( candsr==i )[0] ] for i in ucandsr] )"
   ]
  },
  {
   "cell_type": "code",
   "execution_count": 11,
   "id": "8f50da4b-f311-4376-bef4-cbc9699df1a1",
   "metadata": {},
   "outputs": [],
   "source": [
    "# Convert those arrays (previously strings) to floats\n",
    "ucandmagsr = np.array( [i.astype(float) for i in ucandmagsr] )\n",
    "ucandmagerrsr = np.array( [i.astype(float) for i in ucandmagerrsr] )\n",
    "ucanddatesr = np.array( [i.astype(float) for i in ucanddatesr] )"
   ]
  },
  {
   "cell_type": "code",
   "execution_count": 12,
   "id": "9f38e93b-206d-4a8a-853e-9ef5297dc68c",
   "metadata": {},
   "outputs": [],
   "source": [
    "# Calculate how many days passed between the first and last detection \n",
    "ucandranger = np.array( [np.max(i) - np.min(i) for i in ucanddatesr] )\n",
    "# Calculate how many total times the candidates was detected\n",
    "ucandnumr = np.array( [len(i) for i in ucanddatesr] )"
   ]
  },
  {
   "cell_type": "code",
   "execution_count": 13,
   "id": "801590c5-4353-4537-99e4-608124d0b819",
   "metadata": {},
   "outputs": [],
   "source": [
    "# Make timespan and number of detection cuts\n",
    "cut1r = np.where( ucandranger > tspanr )[0] # eliminate candidates whose detections dont span at least a month\n",
    "cut2r = np.where( ucandnumr >= numdetr )[0] # eliminate candidates with fewer than 20 detections\n",
    "cut3r = np.array( [i for i in cut1r if i in cut2r] ).astype(np.int64) # merge the masks"
   ]
  },
  {
   "cell_type": "code",
   "execution_count": 14,
   "id": "4e597c38-7436-4ffe-a206-409d39357b8a",
   "metadata": {},
   "outputs": [
    {
     "name": "stderr",
     "output_type": "stream",
     "text": [
      "/usr/common/software/python/3.7-anaconda-2019.10/lib/python3.7/site-packages/ipykernel_launcher.py:9: RuntimeWarning: invalid value encountered in greater\n",
      "  if __name__ == '__main__':\n"
     ]
    }
   ],
   "source": [
    "# Apply those cuts\n",
    "cutcandsr = ucandsr[cut3r]\n",
    "cutdatesr = ucanddatesr[cut3r]\n",
    "cutmagsr = ucandmagsr[cut3r]\n",
    "cutmagerrsr = ucandmagerrsr[cut3r]\n",
    "\n",
    "# Create another cut for the minimum amplitude in mag\n",
    "cutmagranger = np.array( [np.max(i) - np.min(i) for i in cutmagsr] )\n",
    "cut6r = np.where( cutmagranger > minmagr )[0]\n",
    "\n",
    "# Create another cut for where the magerror is too high\n",
    "cutmagerrranger = np.array( [np.mean(i) for i in cutmagerrsr] )\n",
    "cut5r = np.where( cutmagerrranger < rmaxerr )[0]\n",
    "\n",
    "cut4r = np.array( [i for i in cut5r if i in cut6r] ).astype(np.int64)\n",
    "\n",
    "# And apply that cut as well\n",
    "cutcandsr = ucandsr[cut3r][cut4r]\n",
    "cutdatesr = ucanddatesr[cut3r][cut4r]\n",
    "cutmagsr = ucandmagsr[cut3r][cut4r]\n",
    "cutmagerrsr = ucandmagerrsr[cut3r][cut4r]\n",
    "\n"
   ]
  },
  {
   "cell_type": "code",
   "execution_count": 15,
   "id": "6484c01f-7225-4260-b721-7f115e9b956d",
   "metadata": {},
   "outputs": [],
   "source": [
    "# Create new arrays with the same dimensions as the cutdatesr, cutmagsr, and cutmagerrs arrays (those share dimensions)\n",
    "cutdatesr2 = copy.deepcopy( cutdatesr )\n",
    "nightr = copy.deepcopy( cutdatesr )\n",
    "nightrmag = copy.deepcopy( cutdatesr )\n",
    "nightrmagerr = copy.deepcopy( cutdatesr )\n",
    "\n",
    "for i in range( len( cutdatesr2 ) ):\n",
    "    # make an array of every night the candidate in question (candidate \"i\") was detected\n",
    "    unightr = np.unique( cutdatesr2[i] )\n",
    "    for j in range( len( unightr ) ):\n",
    "        # For each of those nights, make a mask that selects every observation that night\n",
    "        msk = np.where( cutdatesr2[i] == unightr[j] )[0]\n",
    "        # Populate the arrays we created earlier in the cell with appropriate values for the night of the observation,\n",
    "        # the average magnitude measured that night, and the error (propogated from individual errors) in that average measurement\n",
    "        # NOTE: there will be meaningless numbers at the end of each (nightr/nightrmag/nightrmagerr)[i] array, left over from\n",
    "        # when we created them by copying another array. It isn't elegant but it is accounted for later\n",
    "        nightr[i][j] = unightr[j]\n",
    "        nightrmag[i][j] = np.median( cutmagsr[i][msk] )\n",
    "        nightrmagerr[i][j] = np.sqrt( np.sum( cutmagerrsr[i][msk]**2 ) )"
   ]
  },
  {
   "cell_type": "code",
   "execution_count": 16,
   "id": "cafb2a96-3da8-4611-a8d3-80f96101e8ab",
   "metadata": {},
   "outputs": [],
   "source": [
    "# Create an array of dataframes. Each dataframe represents one candidate, and each contains \"Night\", \"Mag\", and \"Magerr\" columns, \n",
    "# with each row representing one night\n",
    "dfr = [pd.DataFrame(np.array(\n",
    "    [nightr[i][:len( np.unique( nightr[i] ) )], \n",
    "     nightrmag[i][:len( np.unique( nightr[i] ) )], \n",
    "     nightrmagerr[i][:len( np.unique( nightr[i] ) )]]).transpose(),\n",
    "    columns=[\"Night\",\n",
    "            \"Mag\",\n",
    "            \"Magerr\"])\n",
    " for i in range( len( cutcandsr ) )]"
   ]
  },
  {
   "cell_type": "code",
   "execution_count": 17,
   "id": "c0168a12-368e-4e7d-92ec-9591944b9c0f",
   "metadata": {},
   "outputs": [],
   "source": [
    "# This cell creates a mask to eliminate variable stars from the search:\n",
    "varstarmskr = np.ones( len( dfr ), dtype=bool )\n",
    "for i in range( len( dfr ) ):\n",
    "    num = 0\n",
    "    h = 0\n",
    "    # First, make sure that the dataframes in the dfr array are each in chronological order\n",
    "    dfr[i] = dfr[i].sort_values( by=\"Night\" )\n",
    "    for j in range( len( dfr[i][\"Mag\"] ) - 1 ):\n",
    "        h += 1\n",
    "        if ( num >= 0 ) & ( num < 1 ):\n",
    "            # On the rise, the \"current\" data point must be lower than the \"next\" data point (error bars included to give maximum leeway)\n",
    "            if dfr[i][\"Mag\"][j] + errmult * dfr[i][\"Magerr\"][j] > dfr[i][\"Mag\"][j + 1] - errmult * dfr[i][\"Magerr\"][j + 1]:\n",
    "                pass\n",
    "            else:\n",
    "                # Once that condition isn't met, 'num' changes, sending us to the descending loop\n",
    "                num += 1\n",
    "        if (num >= 1) & (num < 2):\n",
    "            # On the decline, the \"current\" data point must be lower than the \"next\" data point (error bars included to give maximum leeway)\n",
    "            if dfr[i][\"Mag\"][j] - errmult * dfr[i][\"Magerr\"][j] < dfr[i][\"Mag\"][j + 1] + errmult * dfr[i][\"Magerr\"][j + 1]:\n",
    "                pass\n",
    "            else:\n",
    "                # If this fails, it means that we went up, down, and up again--not a SN, so\n",
    "                num += 1\n",
    "#         if num == 2:\n",
    "#             if dfr[i][\"Mag\"][j]+dfr[i][\"Magerr\"][j] > dfr[i][\"Mag\"][j+1]-errmult*dfr[i][\"Magerr\"][j+1]:\n",
    "#                 pass\n",
    "#             else:\n",
    "#                 num+=1\n",
    "#         if num == 3:\n",
    "#             if dfr[i][\"Mag\"][j]-dfr[i][\"Magerr\"][j] < dfr[i][\"Mag\"][j+1]+errmult*dfr[i][\"Magerr\"][j+1]:\n",
    "#                 pass\n",
    "#             else:\n",
    "#                 num+=1\n",
    "        if num == 2:# and h<10:\n",
    "            # We make a note of that in the 'varstarmskr' mask\n",
    "            varstarmskr[i] = False"
   ]
  },
  {
   "cell_type": "code",
   "execution_count": 18,
   "id": "2752e219-ecfa-489c-9637-3a66bc4f8038",
   "metadata": {
    "scrolled": true,
    "tags": []
   },
   "outputs": [],
   "source": [
    "# Plotting only those that passed through the r-band filter\n",
    "for f in np.array( range( len( cutdatesr ) ) )[varstarmskr]:\n",
    "    g = len( np.unique( cutdatesr[f] ) )\n",
    "#     plt.errorbar(nightr[f][:g],nightrmag[f][:g], yerr=nightrmagerr[f][:g])\n",
    "#     plt.title(cutcandsr[f] + \" (r)\")\n",
    "#     plt.ylabel(\"Magnitude\")\n",
    "#     plt.xlabel(\"MJD\")\n",
    "#     plt.gca().invert_yaxis()\n",
    "#     plt.show()"
   ]
  },
  {
   "cell_type": "markdown",
   "id": "21ae8ff3-f31f-4d8a-9126-5f92147e17f7",
   "metadata": {},
   "source": [
    "#### Green filter"
   ]
  },
  {
   "cell_type": "code",
   "execution_count": 19,
   "id": "dfda6c5f-6053-488c-b630-17f00541991c",
   "metadata": {},
   "outputs": [],
   "source": [
    "### Everything in this section is the same as above besides some altered variable names\n",
    "gmsk = np.where( SNquery[4] == \"g\" )[0]\n",
    "gmsk = [i for i in grimsk if i in gmsk]"
   ]
  },
  {
   "cell_type": "code",
   "execution_count": 20,
   "id": "0cbc17f1-5d71-42c8-8c9a-c4efecfa4168",
   "metadata": {},
   "outputs": [],
   "source": [
    "candsg, objs, magsg, magerrsg = SNquery[0][gmsk], SNquery[1].astype(float)[gmsk], SNquery[3][gmsk], SNquery[5][gmsk]\n",
    "odatesg = np.round(SNquery[2].astype(float))[gmsk]\n",
    "ucandsg = np.unique(candsg)\n",
    "datesg = np.unique(odatesg)\n"
   ]
  },
  {
   "cell_type": "code",
   "execution_count": 21,
   "id": "488d9156-f35a-4f78-96d5-dc8455d4c2b2",
   "metadata": {},
   "outputs": [
    {
     "name": "stdout",
     "output_type": "stream",
     "text": [
      "CPU times: user 1min 14s, sys: 191 ms, total: 1min 15s\n",
      "Wall time: 1min 15s\n"
     ]
    }
   ],
   "source": [
    "%%time\n",
    "ucanddatesg = np.array([odatesg[np.where(candsg==i)[0]] for i in ucandsg])\n",
    "ucandmagsg = np.array([magsg[np.where(candsg==i)[0]] for i in ucandsg])\n",
    "ucandmagerrsg = np.array([magerrsg[np.where(candsg==i)[0]] for i in ucandsg])"
   ]
  },
  {
   "cell_type": "code",
   "execution_count": 22,
   "id": "8f9bc442-3b91-4412-9412-1dd323de688f",
   "metadata": {},
   "outputs": [],
   "source": [
    "ucandmagsg = np.array([i.astype(float) for i in ucandmagsg])\n",
    "ucandmagerrsg = np.array([i.astype(float) for i in ucandmagerrsg])\n",
    "ucanddatesg = np.array([i.astype(float) for i in ucanddatesg])"
   ]
  },
  {
   "cell_type": "code",
   "execution_count": 23,
   "id": "5fd8951c-825f-4f43-89df-369fe69cbd31",
   "metadata": {},
   "outputs": [],
   "source": [
    "ucandrangeg = np.array([np.max(i) - np.min(i) for i in ucanddatesg])\n",
    "ucandnumg = np.array([len(i) for i in ucanddatesg])"
   ]
  },
  {
   "cell_type": "code",
   "execution_count": 24,
   "id": "46ede292-6525-43ba-9aed-49826d62df4f",
   "metadata": {},
   "outputs": [],
   "source": [
    "cut1g = np.where(ucandrangeg > tspang)[0] # eliminate candidates whose detections dont span at least a month\n",
    "cut2g = np.where(ucandnumg > numdetg)[0] # eliminate candidates with fewer than 20 detections\n",
    "cut3g = np.array([i for i in cut1g if i in cut2g]).astype(np.int64) # merge the masks"
   ]
  },
  {
   "cell_type": "code",
   "execution_count": 25,
   "id": "a4b1598b-172c-40f3-a2bb-fb4c424d4ba0",
   "metadata": {},
   "outputs": [],
   "source": [
    "cutcandsg = ucandsg[cut3g]\n",
    "cutdatesg = ucanddatesg[cut3g]\n",
    "cutmagsg = ucandmagsg[cut3g]\n",
    "cutmagerrsg = ucandmagerrsg[cut3g]\n",
    "\n",
    "cutmagrangeg = np.array([np.max(i) - np.min(i) for i in cutmagsg])\n",
    "cut6g = np.where(cutmagrangeg > minmagg)[0]\n",
    "# Create another cut for where the magerror is too high\n",
    "cutmagerrrangeg = np.array([np.mean(i) for i in cutmagerrsg])\n",
    "cut5g = np.where(cutmagerrrangeg < gmaxerr)[0]\n",
    "\n",
    "cut4g = np.array([i for i in cut5g if i in cut6g])\n",
    "\n",
    "\n",
    "cutcandsg = ucandsg[cut3g][cut4g]\n",
    "cutdatesg = ucanddatesg[cut3g][cut4g]\n",
    "cutmagsg = ucandmagsg[cut3g][cut4g]\n",
    "cutmagerrsg = ucandmagerrsg[cut3g][cut4g]"
   ]
  },
  {
   "cell_type": "code",
   "execution_count": 26,
   "id": "0cccd676-ad09-4d59-af7c-d088787dd383",
   "metadata": {},
   "outputs": [],
   "source": [
    "cutdatesg2 = copy.deepcopy(cutdatesg)\n",
    "nightg = copy.deepcopy(cutdatesg)\n",
    "nightgmag = copy.deepcopy(cutdatesg)\n",
    "nightgmagerr = copy.deepcopy(cutdatesg)\n",
    "\n",
    "for i in range(len(cutdatesg2)):\n",
    "    unightg = np.unique(cutdatesg2[i])\n",
    "    for j in range(len(unightg)):\n",
    "        msk = np.where(cutdatesg2[i] == unightg[j])[0]\n",
    "        nightg[i][j] = unightg[j]\n",
    "        nightgmag[i][j] = np.median(cutmagsg[i][msk])\n",
    "        nightgmagerr[i][j] = np.sqrt(np.sum(cutmagerrsg[i][msk]**2))"
   ]
  },
  {
   "cell_type": "code",
   "execution_count": 27,
   "id": "de50b2bf-29d7-452c-b452-8e3ef0be2317",
   "metadata": {},
   "outputs": [],
   "source": [
    "dfg = [pd.DataFrame(np.array(\n",
    "    [nightg[i][:len(np.unique(nightg[i]))], \n",
    "     nightgmag[i][:len(np.unique(nightg[i]))], \n",
    "     nightgmagerr[i][:len(np.unique(nightg[i]))]]).transpose(),\n",
    "    columns=[\"Night\",\n",
    "            \"Mag\",\n",
    "            \"Magerr\"])\n",
    " for i in range(len(cutcandsg))]"
   ]
  },
  {
   "cell_type": "code",
   "execution_count": 28,
   "id": "00696979-0961-4132-9d5f-e4b1cc709812",
   "metadata": {},
   "outputs": [],
   "source": [
    "varstarmskg = np.ones(len(dfg), dtype=bool)\n",
    "for i in range(len(dfg)):\n",
    "    num = 0\n",
    "    h = 0\n",
    "    dfg[i] = dfg[i].sort_values(by=\"Night\")\n",
    "    for j in range(len(dfg[i][\"Mag\"]) - 1):\n",
    "        h+=1\n",
    "        if (num >= 0) & (num < 1):\n",
    "            if dfg[i][\"Mag\"][j]+errmult*dfg[i][\"Magerr\"][j] > dfg[i][\"Mag\"][j+1]-errmult*dfg[i][\"Magerr\"][j+1]:\n",
    "                pass\n",
    "            else:\n",
    "                num+=1\n",
    "        if (num >= 1) & (num < 2):\n",
    "            if dfg[i][\"Mag\"][j]-errmult*dfg[i][\"Magerr\"][j] < dfg[i][\"Mag\"][j+1]+errmult*dfg[i][\"Magerr\"][j+1]:\n",
    "                pass\n",
    "            else:\n",
    "                num+=1\n",
    "#         if num == 2:\n",
    "#             if dfg[i][\"Mag\"][j]+dfg[i][\"Magerr\"][j] > dfg[i][\"Mag\"][j+1]-errmult*dfg[i][\"Magerr\"][j+1]:\n",
    "#                 pass\n",
    "#             else:\n",
    "#                 num+=1\n",
    "#         if num == 3:\n",
    "#             if dfg[i][\"Mag\"][j]-dfg[i][\"Magerr\"][j] < dfg[i][\"Mag\"][j+1]+errmult*dfg[i][\"Magerr\"][j+1]:\n",
    "#                 pass\n",
    "#             else:\n",
    "#                 num+=1\n",
    "        \n",
    "        if num == 2:# and h<10:\n",
    "            varstarmskg[i] = False"
   ]
  },
  {
   "cell_type": "code",
   "execution_count": 29,
   "id": "df223f63-4e49-4d30-ae8e-51666a374634",
   "metadata": {
    "scrolled": true,
    "tags": []
   },
   "outputs": [],
   "source": [
    "for f in np.array(range(len(cutdatesg)))[varstarmskg]:\n",
    "    g = len(np.unique(cutdatesg[f]))\n",
    "#     plt.errorbar(nightg[f][:g],nightgmag[f][:g], yerr=nightgmagerr[f][:g])\n",
    "#     plt.title(cutcandsg[f]+\" (g)\")\n",
    "#     plt.ylabel(\"Magnitude\")\n",
    "#     plt.xlabel(\"MJD\")\n",
    "#     plt.gca().invert_yaxis()\n",
    "#     plt.show()"
   ]
  },
  {
   "cell_type": "markdown",
   "id": "3e4baa72-4e70-4c69-a5bc-5839f92a33aa",
   "metadata": {
    "tags": []
   },
   "source": [
    "#### I filter"
   ]
  },
  {
   "cell_type": "code",
   "execution_count": 30,
   "id": "c4ddb25f-7f1e-4909-8933-a28b0070b861",
   "metadata": {},
   "outputs": [],
   "source": [
    "### Everything in this section is the same as above besides some altered variable names\n",
    "imsk = np.where(SNquery[4] == \"i\")[0]\n",
    "imsk = [i for i in grimsk if i in imsk]"
   ]
  },
  {
   "cell_type": "code",
   "execution_count": 31,
   "id": "9f35a5cf-82e4-4975-8e1c-2a26c0d60f97",
   "metadata": {},
   "outputs": [],
   "source": [
    "candsi, objs, magsi, magerrsi = SNquery[0][imsk], SNquery[1].astype(float)[imsk], SNquery[3][imsk], SNquery[5][imsk]\n",
    "odatesi = np.round(SNquery[2].astype(float))[imsk]\n",
    "ucandsi = np.unique(candsi)\n",
    "datesi = np.unique(odatesi)\n"
   ]
  },
  {
   "cell_type": "code",
   "execution_count": 32,
   "id": "b253eb10-49c7-4697-9431-475467e69b79",
   "metadata": {},
   "outputs": [
    {
     "name": "stdout",
     "output_type": "stream",
     "text": [
      "CPU times: user 1min 11s, sys: 108 ms, total: 1min 11s\n",
      "Wall time: 1min 11s\n"
     ]
    }
   ],
   "source": [
    "%%time\n",
    "ucanddatesi = np.array([odatesi[np.where(candsi==i)[0]] for i in ucandsi])\n",
    "ucandmagsi = np.array([magsi[np.where(candsi==i)[0]] for i in ucandsi])\n",
    "ucandmagerrsi = np.array([magerrsi[np.where(candsi==i)[0]] for i in ucandsi])"
   ]
  },
  {
   "cell_type": "code",
   "execution_count": 33,
   "id": "7dfefbbe-3845-4b65-8b34-be4792f3817d",
   "metadata": {},
   "outputs": [],
   "source": [
    "ucandmagsi = np.array([i.astype(float) for i in ucandmagsi])\n",
    "ucandmagerrsi = np.array([i.astype(float) for i in ucandmagerrsi])\n",
    "ucanddatesi = np.array([i.astype(float) for i in ucanddatesi])"
   ]
  },
  {
   "cell_type": "code",
   "execution_count": 34,
   "id": "e909e3b9-a3e0-41b3-b6fa-a4d4f69fe263",
   "metadata": {},
   "outputs": [],
   "source": [
    "ucandrangei = np.array([np.max(i) - np.min(i) for i in ucanddatesi])\n",
    "ucandnumi = np.array([len(i) for i in ucanddatesi])"
   ]
  },
  {
   "cell_type": "code",
   "execution_count": 35,
   "id": "96ec1a19-1dcb-4bc3-ba90-94359fff3182",
   "metadata": {},
   "outputs": [],
   "source": [
    "cut1i = np.where(ucandrangei > tspani)[0] # eliminate candidates whose detections dont span at least tspani days\n",
    "cut2i = np.where(ucandnumi > numdeti)[0] # eliminate candidates with fewer than numdeti detections\n",
    "cut3i = np.array([i for i in cut1i if i in cut2i]).astype(np.int64) # merge the masks"
   ]
  },
  {
   "cell_type": "code",
   "execution_count": 36,
   "id": "d3be3ec5-5df8-481a-bfbc-ed09560730da",
   "metadata": {},
   "outputs": [
    {
     "data": {
      "text/plain": [
       "(188, 817, 187)"
      ]
     },
     "execution_count": 36,
     "metadata": {},
     "output_type": "execute_result"
    }
   ],
   "source": [
    "len(cut2i), len(cut1i), len(cut3i)"
   ]
  },
  {
   "cell_type": "code",
   "execution_count": 37,
   "id": "611c6613-e435-43f9-b81f-1ed895ab447f",
   "metadata": {},
   "outputs": [],
   "source": [
    "cutcandsi = ucandsi[cut3i]\n",
    "cutdatesi = ucanddatesi[cut3i]\n",
    "cutmagsi = ucandmagsi[cut3i]\n",
    "cutmagerrsi = ucandmagerrsi[cut3i]\n",
    "\n",
    "cutmagrangei = np.array([np.max(i) - np.min(i) for i in cutmagsi])\n",
    "cut6i = np.where(cutmagrangei > minmagi)[0]\n",
    "# Create another cut for where the magerror is too high\n",
    "cutmagerrrangei = np.array([np.mean(i) for i in cutmagerrsi])\n",
    "cut5i = np.where(cutmagerrrangei < imaxerr)[0]\n",
    "\n",
    "cut4i = np.array([i for i in cut5i if i in cut6i])\n",
    "\n",
    "\n",
    "cutcandsi = ucandsi[cut3i][cut4i]\n",
    "cutdatesi = ucanddatesi[cut3i][cut4i]\n",
    "cutmagsi = ucandmagsi[cut3i][cut4i]\n",
    "cutmagerrsi = ucandmagerrsi[cut3i][cut4i]"
   ]
  },
  {
   "cell_type": "code",
   "execution_count": 38,
   "id": "cb6a5057-fd13-4b5b-a04d-3e3c1b402ba0",
   "metadata": {},
   "outputs": [],
   "source": [
    "cutdatesi2 = copy.deepcopy(cutdatesi)\n",
    "nighti = copy.deepcopy(cutdatesi)\n",
    "nightimag = copy.deepcopy(cutdatesi)\n",
    "nightimagerr = copy.deepcopy(cutdatesi)\n",
    "\n",
    "for i in range(len(cutdatesi2)):\n",
    "    unighti = np.unique(cutdatesi2[i])\n",
    "    for j in range(len(unighti)):\n",
    "        msk = np.where(cutdatesi2[i] == unighti[j])[0]\n",
    "        nighti[i][j] = unighti[j]\n",
    "        nightimag[i][j] = np.median(cutmagsi[i][msk])\n",
    "        nightimagerr[i][j] = np.sqrt(np.sum(cutmagerrsi[i][msk]**2))"
   ]
  },
  {
   "cell_type": "code",
   "execution_count": 39,
   "id": "8a976425-d608-42d2-ba59-f5a2223d4e6d",
   "metadata": {},
   "outputs": [],
   "source": [
    "dfi = [pd.DataFrame(np.array(\n",
    "    [nighti[i][:len(np.unique(nighti[i]))], \n",
    "     nightimag[i][:len(np.unique(nighti[i]))], \n",
    "     nightimagerr[i][:len(np.unique(nighti[i]))]]).transpose(),\n",
    "    columns=[\"Night\",\n",
    "            \"Mag\",\n",
    "            \"Magerr\"])\n",
    " for i in range(len(cutcandsi))]"
   ]
  },
  {
   "cell_type": "code",
   "execution_count": 40,
   "id": "035cd0b4-f6cd-4dec-905d-6de36ffa1533",
   "metadata": {},
   "outputs": [],
   "source": [
    "varstarmski = np.ones(len(dfi), dtype=bool)\n",
    "for i in range(len(dfi)):\n",
    "    num = 0\n",
    "    h = 0\n",
    "    dfi[i] = dfi[i].sort_values(by=\"Night\")\n",
    "    for j in range(len(dfi[i][\"Mag\"]) - 1):\n",
    "        h+=1\n",
    "        if (num >= 0) & (num < 1):\n",
    "            if dfi[i][\"Mag\"][j]+errmult*dfi[i][\"Magerr\"][j] > dfi[i][\"Mag\"][j+1]-errmult*dfi[i][\"Magerr\"][j+1]:\n",
    "                pass\n",
    "            else:\n",
    "                num+=1\n",
    "        if (num >= 1) & (num < 2):\n",
    "            if dfi[i][\"Mag\"][j]-errmult*dfi[i][\"Magerr\"][j] < dfi[i][\"Mag\"][j+1]+errmult*dfi[i][\"Magerr\"][j+1]:\n",
    "                pass\n",
    "            else:\n",
    "                num+=1\n",
    "#         if num == 2:\n",
    "#             if dfg[i][\"Mag\"][j]+dfg[i][\"Magerr\"][j] > dfg[i][\"Mag\"][j+1]-errmult*dfg[i][\"Magerr\"][j+1]:\n",
    "#                 pass\n",
    "#             else:\n",
    "#                 num+=1\n",
    "#         if num == 3:\n",
    "#             if dfg[i][\"Mag\"][j]-dfg[i][\"Magerr\"][j] < dfg[i][\"Mag\"][j+1]+errmult*dfg[i][\"Magerr\"][j+1]:\n",
    "#                 pass\n",
    "#             else:\n",
    "#                 num+=1\n",
    "        \n",
    "        if num == 2:# and h<10:\n",
    "            varstarmski[i] = False"
   ]
  },
  {
   "cell_type": "code",
   "execution_count": 41,
   "id": "1ab868e2-b32f-4813-af3d-774964beeb10",
   "metadata": {
    "scrolled": true,
    "tags": []
   },
   "outputs": [],
   "source": [
    "for f in np.array(range(len(cutdatesi)))[varstarmski]:\n",
    "    g = len(np.unique(cutdatesi[f]))\n",
    "#     plt.errorbar(nightg[f][:g],nightgmag[f][:g], yerr=nightgmagerr[f][:g])\n",
    "#     plt.title(cutcandsg[f]+\" (g)\")\n",
    "#     plt.ylabel(\"Magnitude\")\n",
    "#     plt.xlabel(\"MJD\")\n",
    "#     plt.gca().invert_yaxis()\n",
    "#     plt.show()"
   ]
  },
  {
   "cell_type": "markdown",
   "id": "be52e352-c536-4d17-974e-df4834584224",
   "metadata": {},
   "source": [
    "#### Putting them together"
   ]
  },
  {
   "cell_type": "code",
   "execution_count": 42,
   "id": "a70f537e-17fa-4127-b8cb-17b4772ef005",
   "metadata": {},
   "outputs": [
    {
     "data": {
      "text/plain": [
       "array(['DC21bcpi', 'DC21bicq', 'DC21bkrj', 'DC21bpls', 'DC21cove',\n",
       "       'DC21cxou', 'DC21dhgr', 'DC21dqf', 'DC21dqik', 'DC21dtwb',\n",
       "       'DC21eqq', 'DC21fber', 'DC21homb', 'DC21hunj', 'DC21ixp',\n",
       "       'DC21kgy', 'DC21kog', 'DC21ktp', 'DC21kxb', 'DC21url'], dtype='<U8')"
      ]
     },
     "execution_count": 42,
     "metadata": {},
     "output_type": "execute_result"
    }
   ],
   "source": [
    "# Create lists of the candidates that passed each test\n",
    "SNr = [cutcandsr[f] for f in np.array(range(len(cutdatesr)))[varstarmskr]]\n",
    "SNg = [cutcandsg[f] for f in np.array(range(len(cutdatesg)))[varstarmskg]]\n",
    "SNi = [cutcandsi[f] for f in np.array(range(len(cutdatesi)))[varstarmski]]\n",
    "\n",
    "# Select the ones detected in at least two filters\n",
    "SNgr = [i for i in SNr if i in SNg]\n",
    "SNri = [i for i in SNr if i in SNi]\n",
    "SNgi = [i for i in SNg if i in SNi]\n",
    "SNgri = np.unique(np.concatenate([SNgr,SNri,SNgi]).flat)\n",
    "\n",
    "# And those found in all three\n",
    "SNgold = [i for i in SNgr if i in SNi] # Golden sample\n",
    "SNgri"
   ]
  },
  {
   "cell_type": "code",
   "execution_count": 43,
   "id": "637a2904-e108-477c-af7f-295fbefdbdc2",
   "metadata": {},
   "outputs": [
    {
     "data": {
      "text/plain": [
       "20"
      ]
     },
     "execution_count": 43,
     "metadata": {},
     "output_type": "execute_result"
    }
   ],
   "source": [
    "# And look at them!\n",
    "len(SNgri)"
   ]
  },
  {
   "cell_type": "markdown",
   "id": "c4b525b2-87aa-4df9-a11c-2f017454aca5",
   "metadata": {
    "tags": []
   },
   "source": [
    "#### A closer look at these SN"
   ]
  },
  {
   "cell_type": "code",
   "execution_count": 44,
   "id": "30b46bec-3ee3-4fde-a971-1b9fcf7a1e3f",
   "metadata": {
    "tags": []
   },
   "outputs": [
    {
     "name": "stdout",
     "output_type": "stream",
     "text": [
      "[['DC21bcpi', 151.076568049129, 2.67347244082796]]\n",
      "[['DC21bicq', 150.378328235109, 2.19651735991065]]\n",
      "[['DC21bkrj', 150.043978544436, 3.47660190275974]]\n",
      "[['DC21bpls', 149.300808259448, 2.094409454409]]\n",
      "[['DC21cove', 150.205260592532, 3.74323011868333]]\n",
      "[['DC21cxou', 150.17665779001, 4.05871167020173]]\n",
      "[['DC21dhgr', 148.96669780135, 1.65455109542668]]\n",
      "[['DC21dqf', 149.936831200786, 2.14923495883583]]\n",
      "[['DC21dqik', 151.689426712647, 2.00556682067166]]\n",
      "[['DC21dtwb', 149.302770735739, 1.77949389263242]]\n",
      "[['DC21eqq', 150.42577440236, 3.40271753256201]]\n",
      "[['DC21fber', 149.045078531139, 3.17994689983373]]\n",
      "[['DC21homb', 150.64824267531, 2.31492363575056]]\n",
      "[['DC21hunj', 150.372933776757, 2.44328182430186]]\n",
      "[['DC21ixp', 150.726849638736, 2.60341491739695]]\n",
      "[['DC21kgy', 149.877238942451, 2.40367842891255]]\n",
      "[['DC21kog', 151.123031420262, 1.10577376817372]]\n",
      "[['DC21ktp', 149.385740426683, 2.8139035077278]]\n",
      "[['DC21kxb', 150.732358932859, 2.95252258401769]]\n",
      "[['DC21url', 149.786414460809, 1.61867805106367]]\n"
     ]
    }
   ],
   "source": [
    "# Taking a look at their coordinates:\n",
    "for i in SNgri:\n",
    "    query = ('SELECT c.id, c.ra, c.dec FROM candidates c '\n",
    "            'WHERE c.id=%s ')\n",
    "    cursor.execute( query, (i, ) )\n",
    "    print(cursor.fetchall())"
   ]
  },
  {
   "cell_type": "code",
   "execution_count": 45,
   "id": "f7de05a0-1bc0-4505-9df0-7a764badf009",
   "metadata": {
    "tags": []
   },
   "outputs": [
    {
     "data": {
      "image/png": "[encoded data removed]",
      "text/plain": [
       "<Figure size 576x360 with 1 Axes>"
      ]
     },
     "metadata": {
      "needs_background": "light"
     },
     "output_type": "display_data"
    },
    {
     "data": {
      "image/png": "[encoded data removed]",
      "text/plain": [
       "<Figure size 576x360 with 1 Axes>"
      ]
     },
     "metadata": {
      "needs_background": "light"
     },
     "output_type": "display_data"
    },
    {
     "data": {
      "image/png": "[encoded data removed]",
      "text/plain": [
       "<Figure size 576x360 with 1 Axes>"
      ]
     },
     "metadata": {
      "needs_background": "light"
     },
     "output_type": "display_data"
    },
    {
     "data": {
      "image/png": "[encoded data removed]",
      "text/plain": [
       "<Figure size 576x360 with 1 Axes>"
      ]
     },
     "metadata": {
      "needs_background": "light"
     },
     "output_type": "display_data"
    },
    {
     "data": {
      "image/png": "[encoded data removed]",
      "text/plain": [
       "<Figure size 576x360 with 1 Axes>"
      ]
     },
     "metadata": {
      "needs_background": "light"
     },
     "output_type": "display_data"
    },
    {
     "data": {
      "image/png": "[encoded data removed]",
      "text/plain": [
       "<Figure size 576x360 with 1 Axes>"
      ]
     },
     "metadata": {
      "needs_background": "light"
     },
     "output_type": "display_data"
    },
    {
     "data": {
      "image/png": "[encoded data removed]",
      "text/plain": [
       "<Figure size 576x360 with 1 Axes>"
      ]
     },
     "metadata": {
      "needs_background": "light"
     },
     "output_type": "display_data"
    },
    {
     "data": {
      "image/png": "[encoded data removed]",
      "text/plain": [
       "<Figure size 576x360 with 1 Axes>"
      ]
     },
     "metadata": {
      "needs_background": "light"
     },
     "output_type": "display_data"
    },
    {
     "data": {
      "image/png": "[encoded data removed]",
      "text/plain": [
       "<Figure size 576x360 with 1 Axes>"
      ]
     },
     "metadata": {
      "needs_background": "light"
     },
     "output_type": "display_data"
    },
    {
     "data": {
      "image/png": "[encoded data removed]",
      "text/plain": [
       "<Figure size 576x360 with 1 Axes>"
      ]
     },
     "metadata": {
      "needs_background": "light"
     },
     "output_type": "display_data"
    },
    {
     "data": {
      "image/png": "[encoded data removed]",
      "text/plain": [
       "<Figure size 576x360 with 1 Axes>"
      ]
     },
     "metadata": {
      "needs_background": "light"
     },
     "output_type": "display_data"
    },
    {
     "data": {
      "image/png": "[encoded data removed]",
      "text/plain": [
       "<Figure size 576x360 with 1 Axes>"
      ]
     },
     "metadata": {
      "needs_background": "light"
     },
     "output_type": "display_data"
    },
    {
     "data": {
      "image/png": "[encoded data removed]",
      "text/plain": [
       "<Figure size 576x360 with 1 Axes>"
      ]
     },
     "metadata": {
      "needs_background": "light"
     },
     "output_type": "display_data"
    },
    {
     "data": {
      "image/png": "[encoded data removed]",
      "text/plain": [
       "<Figure size 576x360 with 1 Axes>"
      ]
     },
     "metadata": {
      "needs_background": "light"
     },
     "output_type": "display_data"
    },
    {
     "data": {
      "image/png": "[encoded data removed]",
      "text/plain": [
       "<Figure size 576x360 with 1 Axes>"
      ]
     },
     "metadata": {
      "needs_background": "light"
     },
     "output_type": "display_data"
    },
    {
     "data": {
      "image/png": "[encoded data removed]",
      "text/plain": [
       "<Figure size 576x360 with 1 Axes>"
      ]
     },
     "metadata": {
      "needs_background": "light"
     },
     "output_type": "display_data"
    },
    {
     "data": {
      "image/png": "[encoded data removed]",
      "text/plain": [
       "<Figure size 576x360 with 1 Axes>"
      ]
     },
     "metadata": {
      "needs_background": "light"
     },
     "output_type": "display_data"
    },
    {
     "data": {
      "image/png": "[encoded data removed]",
      "text/plain": [
       "<Figure size 576x360 with 1 Axes>"
      ]
     },
     "metadata": {
      "needs_background": "light"
     },
     "output_type": "display_data"
    },
    {
     "data": {
      "image/png": "[encoded data removed]",
      "text/plain": [
       "<Figure size 576x360 with 1 Axes>"
      ]
     },
     "metadata": {
      "needs_background": "light"
     },
     "output_type": "display_data"
    },
    {
     "data": {
      "image/png": "[encoded data removed]",
      "text/plain": [
       "<Figure size 576x360 with 1 Axes>"
      ]
     },
     "metadata": {
      "needs_background": "light"
     },
     "output_type": "display_data"
    }
   ],
   "source": [
    "# Plotting lightcurves for each potential SN\n",
    "for i in SNgri:\n",
    "    query = ('SELECT c.id, e.mjd, o.mag, e.filter FROM objects o '\n",
    "             'JOIN candidates c ON c.id=o.candidate_id '\n",
    "             'JOIN subtractions s ON s.id=o.subtraction_id '\n",
    "             'JOIN exposures e ON e.id=s.exposure_id '\n",
    "            'WHERE c.id=%s ')\n",
    "    cursor.execute( query, (i, ) )\n",
    "    array = np.array(cursor.fetchall()).transpose()\n",
    "    rmsk = np.where(array[3]=='r')[0]\n",
    "    gmsk = np.where(array[3]=='g')[0]\n",
    "    imsk = np.where(array[3]=='i')[0]\n",
    "    \n",
    "    plt.figure(figsize=(8,5))\n",
    "    plt.scatter((array[1][gmsk]).astype(float), (array[2][gmsk]).astype(float), color='g', label='g')\n",
    "    plt.scatter((array[1][rmsk]).astype(float), (array[2][rmsk]).astype(float), color='r', label='r')\n",
    "    plt.scatter((array[1][imsk]).astype(float), (array[2][imsk]).astype(float), color='b', label='i')\n",
    "\n",
    "    plt.title(array[0][0])\n",
    "    plt.gca().invert_yaxis()\n",
    "    plt.legend()\n",
    "    plt.show()"
   ]
  },
  {
   "cell_type": "code",
   "execution_count": 46,
   "id": "800b87fe-50d6-40b6-ab8a-c888d843219d",
   "metadata": {
    "tags": []
   },
   "outputs": [
    {
     "data": {
      "application/vnd.jupyter.widget-view+json": {
       "model_id": "4f611f1dd9524565bd7040356c7f0710",
       "version_major": 2,
       "version_minor": 0
      },
      "text/plain": [
       "HBox(children=(Image(value=b'\\xff\\xd8\\xff\\xe0\\x00\\x10JFIF\\x00\\x01\\x01\\x00\\x00\\x01\\x00\\x01\\x00\\x00\\xff\\xdb\\x00C…"
      ]
     },
     "metadata": {},
     "output_type": "display_data"
    },
    {
     "data": {
      "application/vnd.jupyter.widget-view+json": {
       "model_id": "dda47985231042ca9dc71d0feff1eae2",
       "version_major": 2,
       "version_minor": 0
      },
      "text/plain": [
       "HBox(children=(Image(value=b'\\xff\\xd8\\xff\\xe0\\x00\\x10JFIF\\x00\\x01\\x01\\x00\\x00\\x01\\x00\\x01\\x00\\x00\\xff\\xdb\\x00C…"
      ]
     },
     "metadata": {},
     "output_type": "display_data"
    },
    {
     "data": {
      "application/vnd.jupyter.widget-view+json": {
       "model_id": "bb782ce529f0428cb72a28d183754ff0",
       "version_major": 2,
       "version_minor": 0
      },
      "text/plain": [
       "HBox(children=(Image(value=b'\\xff\\xd8\\xff\\xe0\\x00\\x10JFIF\\x00\\x01\\x01\\x00\\x00\\x01\\x00\\x01\\x00\\x00\\xff\\xdb\\x00C…"
      ]
     },
     "metadata": {},
     "output_type": "display_data"
    },
    {
     "name": "stdout",
     "output_type": "stream",
     "text": [
      "\n",
      "\n",
      "\n",
      "\n"
     ]
    },
    {
     "data": {
      "application/vnd.jupyter.widget-view+json": {
       "model_id": "4eb20f4b534144dc88b3eb729d904513",
       "version_major": 2,
       "version_minor": 0
      },
      "text/plain": [
       "HBox(children=(Image(value=b'\\xff\\xd8\\xff\\xe0\\x00\\x10JFIF\\x00\\x01\\x01\\x00\\x00\\x01\\x00\\x01\\x00\\x00\\xff\\xdb\\x00C…"
      ]
     },
     "metadata": {},
     "output_type": "display_data"
    },
    {
     "data": {
      "application/vnd.jupyter.widget-view+json": {
       "model_id": "635dd339c35a4371806927d94cf003e2",
       "version_major": 2,
       "version_minor": 0
      },
      "text/plain": [
       "HBox(children=(Image(value=b'\\xff\\xd8\\xff\\xe0\\x00\\x10JFIF\\x00\\x01\\x01\\x00\\x00\\x01\\x00\\x01\\x00\\x00\\xff\\xdb\\x00C…"
      ]
     },
     "metadata": {},
     "output_type": "display_data"
    },
    {
     "data": {
      "application/vnd.jupyter.widget-view+json": {
       "model_id": "b09a0fa09a0949d29515469f49fd0972",
       "version_major": 2,
       "version_minor": 0
      },
      "text/plain": [
       "HBox(children=(Image(value=b'\\xff\\xd8\\xff\\xe0\\x00\\x10JFIF\\x00\\x01\\x01\\x00\\x00\\x01\\x00\\x01\\x00\\x00\\xff\\xdb\\x00C…"
      ]
     },
     "metadata": {},
     "output_type": "display_data"
    },
    {
     "name": "stdout",
     "output_type": "stream",
     "text": [
      "\n",
      "\n",
      "\n",
      "\n"
     ]
    },
    {
     "data": {
      "application/vnd.jupyter.widget-view+json": {
       "model_id": "4bba0c25de6c4a1286200ac76c1e4e83",
       "version_major": 2,
       "version_minor": 0
      },
      "text/plain": [
       "HBox(children=(Image(value=b'\\xff\\xd8\\xff\\xe0\\x00\\x10JFIF\\x00\\x01\\x01\\x00\\x00\\x01\\x00\\x01\\x00\\x00\\xff\\xdb\\x00C…"
      ]
     },
     "metadata": {},
     "output_type": "display_data"
    },
    {
     "data": {
      "application/vnd.jupyter.widget-view+json": {
       "model_id": "8ede4c21cbf04385b125767a15a0389e",
       "version_major": 2,
       "version_minor": 0
      },
      "text/plain": [
       "HBox(children=(Image(value=b'\\xff\\xd8\\xff\\xe0\\x00\\x10JFIF\\x00\\x01\\x01\\x00\\x00\\x01\\x00\\x01\\x00\\x00\\xff\\xdb\\x00C…"
      ]
     },
     "metadata": {},
     "output_type": "display_data"
    },
    {
     "data": {
      "application/vnd.jupyter.widget-view+json": {
       "model_id": "cfb5b12c926f491986340cf32e80794e",
       "version_major": 2,
       "version_minor": 0
      },
      "text/plain": [
       "HBox(children=(Image(value=b'\\xff\\xd8\\xff\\xe0\\x00\\x10JFIF\\x00\\x01\\x01\\x00\\x00\\x01\\x00\\x01\\x00\\x00\\xff\\xdb\\x00C…"
      ]
     },
     "metadata": {},
     "output_type": "display_data"
    },
    {
     "name": "stdout",
     "output_type": "stream",
     "text": [
      "\n",
      "\n",
      "\n",
      "\n"
     ]
    },
    {
     "data": {
      "application/vnd.jupyter.widget-view+json": {
       "model_id": "30fe46d091ef497abf3ec27fdf736daa",
       "version_major": 2,
       "version_minor": 0
      },
      "text/plain": [
       "HBox(children=(Image(value=b'\\xff\\xd8\\xff\\xe0\\x00\\x10JFIF\\x00\\x01\\x01\\x00\\x00\\x01\\x00\\x01\\x00\\x00\\xff\\xdb\\x00C…"
      ]
     },
     "metadata": {},
     "output_type": "display_data"
    },
    {
     "data": {
      "application/vnd.jupyter.widget-view+json": {
       "model_id": "678f536c4495420bbd5a68d7f950317d",
       "version_major": 2,
       "version_minor": 0
      },
      "text/plain": [
       "HBox(children=(Image(value=b'\\xff\\xd8\\xff\\xe0\\x00\\x10JFIF\\x00\\x01\\x01\\x00\\x00\\x01\\x00\\x01\\x00\\x00\\xff\\xdb\\x00C…"
      ]
     },
     "metadata": {},
     "output_type": "display_data"
    },
    {
     "data": {
      "application/vnd.jupyter.widget-view+json": {
       "model_id": "df4a208b26564fb3bfa69fa73893821d",
       "version_major": 2,
       "version_minor": 0
      },
      "text/plain": [
       "HBox(children=(Image(value=b'\\xff\\xd8\\xff\\xe0\\x00\\x10JFIF\\x00\\x01\\x01\\x00\\x00\\x01\\x00\\x01\\x00\\x00\\xff\\xdb\\x00C…"
      ]
     },
     "metadata": {},
     "output_type": "display_data"
    },
    {
     "name": "stdout",
     "output_type": "stream",
     "text": [
      "\n",
      "\n",
      "\n",
      "\n"
     ]
    },
    {
     "data": {
      "application/vnd.jupyter.widget-view+json": {
       "model_id": "02b57fa5917c4b098e8830cef9516d20",
       "version_major": 2,
       "version_minor": 0
      },
      "text/plain": [
       "HBox(children=(Image(value=b'\\xff\\xd8\\xff\\xe0\\x00\\x10JFIF\\x00\\x01\\x01\\x00\\x00\\x01\\x00\\x01\\x00\\x00\\xff\\xdb\\x00C…"
      ]
     },
     "metadata": {},
     "output_type": "display_data"
    },
    {
     "data": {
      "application/vnd.jupyter.widget-view+json": {
       "model_id": "c48c739efa5543878a94b5ee2338a5dd",
       "version_major": 2,
       "version_minor": 0
      },
      "text/plain": [
       "HBox(children=(Image(value=b'\\xff\\xd8\\xff\\xe0\\x00\\x10JFIF\\x00\\x01\\x01\\x00\\x00\\x01\\x00\\x01\\x00\\x00\\xff\\xdb\\x00C…"
      ]
     },
     "metadata": {},
     "output_type": "display_data"
    },
    {
     "data": {
      "application/vnd.jupyter.widget-view+json": {
       "model_id": "4e811cf9b54e43aeae4587b447a37200",
       "version_major": 2,
       "version_minor": 0
      },
      "text/plain": [
       "HBox(children=(Image(value=b'\\xff\\xd8\\xff\\xe0\\x00\\x10JFIF\\x00\\x01\\x01\\x00\\x00\\x01\\x00\\x01\\x00\\x00\\xff\\xdb\\x00C…"
      ]
     },
     "metadata": {},
     "output_type": "display_data"
    },
    {
     "name": "stdout",
     "output_type": "stream",
     "text": [
      "\n",
      "\n",
      "\n",
      "\n"
     ]
    },
    {
     "data": {
      "application/vnd.jupyter.widget-view+json": {
       "model_id": "62c82d1c0074494fb3caa8b7ceda19d8",
       "version_major": 2,
       "version_minor": 0
      },
      "text/plain": [
       "HBox(children=(Image(value=b'\\xff\\xd8\\xff\\xe0\\x00\\x10JFIF\\x00\\x01\\x01\\x00\\x00\\x01\\x00\\x01\\x00\\x00\\xff\\xdb\\x00C…"
      ]
     },
     "metadata": {},
     "output_type": "display_data"
    },
    {
     "data": {
      "application/vnd.jupyter.widget-view+json": {
       "model_id": "1d70d18c12404b848408a43926ecd63e",
       "version_major": 2,
       "version_minor": 0
      },
      "text/plain": [
       "HBox(children=(Image(value=b'\\xff\\xd8\\xff\\xe0\\x00\\x10JFIF\\x00\\x01\\x01\\x00\\x00\\x01\\x00\\x01\\x00\\x00\\xff\\xdb\\x00C…"
      ]
     },
     "metadata": {},
     "output_type": "display_data"
    },
    {
     "data": {
      "application/vnd.jupyter.widget-view+json": {
       "model_id": "df3f261d1880448484962502637ac836",
       "version_major": 2,
       "version_minor": 0
      },
      "text/plain": [
       "HBox(children=(Image(value=b'\\xff\\xd8\\xff\\xe0\\x00\\x10JFIF\\x00\\x01\\x01\\x00\\x00\\x01\\x00\\x01\\x00\\x00\\xff\\xdb\\x00C…"
      ]
     },
     "metadata": {},
     "output_type": "display_data"
    },
    {
     "name": "stdout",
     "output_type": "stream",
     "text": [
      "\n",
      "\n",
      "\n",
      "\n"
     ]
    },
    {
     "data": {
      "application/vnd.jupyter.widget-view+json": {
       "model_id": "8ff7bd2052504e1faba55c1e426aa068",
       "version_major": 2,
       "version_minor": 0
      },
      "text/plain": [
       "HBox(children=(Image(value=b'\\xff\\xd8\\xff\\xe0\\x00\\x10JFIF\\x00\\x01\\x01\\x00\\x00\\x01\\x00\\x01\\x00\\x00\\xff\\xdb\\x00C…"
      ]
     },
     "metadata": {},
     "output_type": "display_data"
    },
    {
     "data": {
      "application/vnd.jupyter.widget-view+json": {
       "model_id": "aa350c6a7bc84ebda933fa8fe3dd469b",
       "version_major": 2,
       "version_minor": 0
      },
      "text/plain": [
       "HBox(children=(Image(value=b'\\xff\\xd8\\xff\\xe0\\x00\\x10JFIF\\x00\\x01\\x01\\x00\\x00\\x01\\x00\\x01\\x00\\x00\\xff\\xdb\\x00C…"
      ]
     },
     "metadata": {},
     "output_type": "display_data"
    },
    {
     "data": {
      "application/vnd.jupyter.widget-view+json": {
       "model_id": "11511afd7c1a4fd6bfc7ee82c79afe95",
       "version_major": 2,
       "version_minor": 0
      },
      "text/plain": [
       "HBox(children=(Image(value=b'\\xff\\xd8\\xff\\xe0\\x00\\x10JFIF\\x00\\x01\\x01\\x00\\x00\\x01\\x00\\x01\\x00\\x00\\xff\\xdb\\x00C…"
      ]
     },
     "metadata": {},
     "output_type": "display_data"
    },
    {
     "name": "stdout",
     "output_type": "stream",
     "text": [
      "\n",
      "\n",
      "\n",
      "\n"
     ]
    },
    {
     "data": {
      "application/vnd.jupyter.widget-view+json": {
       "model_id": "f907fe421ee941c099ab089a8cf7e72b",
       "version_major": 2,
       "version_minor": 0
      },
      "text/plain": [
       "HBox(children=(Image(value=b'\\xff\\xd8\\xff\\xe0\\x00\\x10JFIF\\x00\\x01\\x01\\x00\\x00\\x01\\x00\\x01\\x00\\x00\\xff\\xdb\\x00C…"
      ]
     },
     "metadata": {},
     "output_type": "display_data"
    },
    {
     "data": {
      "application/vnd.jupyter.widget-view+json": {
       "model_id": "0c46510ef5b141249fe4938bd9f8afbe",
       "version_major": 2,
       "version_minor": 0
      },
      "text/plain": [
       "HBox(children=(Image(value=b'\\xff\\xd8\\xff\\xe0\\x00\\x10JFIF\\x00\\x01\\x01\\x00\\x00\\x01\\x00\\x01\\x00\\x00\\xff\\xdb\\x00C…"
      ]
     },
     "metadata": {},
     "output_type": "display_data"
    },
    {
     "data": {
      "application/vnd.jupyter.widget-view+json": {
       "model_id": "45591c0577f8451090d6e3bfe929280f",
       "version_major": 2,
       "version_minor": 0
      },
      "text/plain": [
       "HBox(children=(Image(value=b'\\xff\\xd8\\xff\\xe0\\x00\\x10JFIF\\x00\\x01\\x01\\x00\\x00\\x01\\x00\\x01\\x00\\x00\\xff\\xdb\\x00C…"
      ]
     },
     "metadata": {},
     "output_type": "display_data"
    },
    {
     "name": "stdout",
     "output_type": "stream",
     "text": [
      "\n",
      "\n",
      "\n",
      "\n"
     ]
    },
    {
     "data": {
      "application/vnd.jupyter.widget-view+json": {
       "model_id": "c60320af14fd4081be2dbf61526fb034",
       "version_major": 2,
       "version_minor": 0
      },
      "text/plain": [
       "HBox(children=(Image(value=b'\\xff\\xd8\\xff\\xe0\\x00\\x10JFIF\\x00\\x01\\x01\\x00\\x00\\x01\\x00\\x01\\x00\\x00\\xff\\xdb\\x00C…"
      ]
     },
     "metadata": {},
     "output_type": "display_data"
    },
    {
     "data": {
      "application/vnd.jupyter.widget-view+json": {
       "model_id": "11aec5d1c4b8458bbf3b8da50e958692",
       "version_major": 2,
       "version_minor": 0
      },
      "text/plain": [
       "HBox(children=(Image(value=b'\\xff\\xd8\\xff\\xe0\\x00\\x10JFIF\\x00\\x01\\x01\\x00\\x00\\x01\\x00\\x01\\x00\\x00\\xff\\xdb\\x00C…"
      ]
     },
     "metadata": {},
     "output_type": "display_data"
    },
    {
     "data": {
      "application/vnd.jupyter.widget-view+json": {
       "model_id": "e100ff9d00f1491894e54a55d5bf006f",
       "version_major": 2,
       "version_minor": 0
      },
      "text/plain": [
       "HBox(children=(Image(value=b'\\xff\\xd8\\xff\\xe0\\x00\\x10JFIF\\x00\\x01\\x01\\x00\\x00\\x01\\x00\\x01\\x00\\x00\\xff\\xdb\\x00C…"
      ]
     },
     "metadata": {},
     "output_type": "display_data"
    },
    {
     "name": "stdout",
     "output_type": "stream",
     "text": [
      "\n",
      "\n",
      "\n",
      "\n"
     ]
    },
    {
     "data": {
      "application/vnd.jupyter.widget-view+json": {
       "model_id": "e366436a22a14bdbabc409a09249afff",
       "version_major": 2,
       "version_minor": 0
      },
      "text/plain": [
       "HBox(children=(Image(value=b'\\xff\\xd8\\xff\\xe0\\x00\\x10JFIF\\x00\\x01\\x01\\x00\\x00\\x01\\x00\\x01\\x00\\x00\\xff\\xdb\\x00C…"
      ]
     },
     "metadata": {},
     "output_type": "display_data"
    },
    {
     "data": {
      "application/vnd.jupyter.widget-view+json": {
       "model_id": "61eec7f233c34223b63eb597fa6f98bb",
       "version_major": 2,
       "version_minor": 0
      },
      "text/plain": [
       "HBox(children=(Image(value=b'\\xff\\xd8\\xff\\xe0\\x00\\x10JFIF\\x00\\x01\\x01\\x00\\x00\\x01\\x00\\x01\\x00\\x00\\xff\\xdb\\x00C…"
      ]
     },
     "metadata": {},
     "output_type": "display_data"
    },
    {
     "data": {
      "application/vnd.jupyter.widget-view+json": {
       "model_id": "3344483d4c94458c96b6a9fe33acfe56",
       "version_major": 2,
       "version_minor": 0
      },
      "text/plain": [
       "HBox(children=(Image(value=b'\\xff\\xd8\\xff\\xe0\\x00\\x10JFIF\\x00\\x01\\x01\\x00\\x00\\x01\\x00\\x01\\x00\\x00\\xff\\xdb\\x00C…"
      ]
     },
     "metadata": {},
     "output_type": "display_data"
    },
    {
     "name": "stdout",
     "output_type": "stream",
     "text": [
      "\n",
      "\n",
      "\n",
      "\n"
     ]
    },
    {
     "data": {
      "application/vnd.jupyter.widget-view+json": {
       "model_id": "6be4faf6df094774b5c96b1ad66c42bb",
       "version_major": 2,
       "version_minor": 0
      },
      "text/plain": [
       "HBox(children=(Image(value=b'\\xff\\xd8\\xff\\xe0\\x00\\x10JFIF\\x00\\x01\\x01\\x00\\x00\\x01\\x00\\x01\\x00\\x00\\xff\\xdb\\x00C…"
      ]
     },
     "metadata": {},
     "output_type": "display_data"
    },
    {
     "data": {
      "application/vnd.jupyter.widget-view+json": {
       "model_id": "a0835c9812b1447aa299b2cd7975be6a",
       "version_major": 2,
       "version_minor": 0
      },
      "text/plain": [
       "HBox(children=(Image(value=b'\\xff\\xd8\\xff\\xe0\\x00\\x10JFIF\\x00\\x01\\x01\\x00\\x00\\x01\\x00\\x01\\x00\\x00\\xff\\xdb\\x00C…"
      ]
     },
     "metadata": {},
     "output_type": "display_data"
    },
    {
     "data": {
      "application/vnd.jupyter.widget-view+json": {
       "model_id": "98f9cb54e0a1499caed0c66c6dd49f24",
       "version_major": 2,
       "version_minor": 0
      },
      "text/plain": [
       "HBox(children=(Image(value=b'\\xff\\xd8\\xff\\xe0\\x00\\x10JFIF\\x00\\x01\\x01\\x00\\x00\\x01\\x00\\x01\\x00\\x00\\xff\\xdb\\x00C…"
      ]
     },
     "metadata": {},
     "output_type": "display_data"
    },
    {
     "name": "stdout",
     "output_type": "stream",
     "text": [
      "\n",
      "\n",
      "\n",
      "\n"
     ]
    },
    {
     "data": {
      "application/vnd.jupyter.widget-view+json": {
       "model_id": "6010ba956a0d46d2bcada6c1048c82fa",
       "version_major": 2,
       "version_minor": 0
      },
      "text/plain": [
       "HBox(children=(Image(value=b'\\xff\\xd8\\xff\\xe0\\x00\\x10JFIF\\x00\\x01\\x01\\x00\\x00\\x01\\x00\\x01\\x00\\x00\\xff\\xdb\\x00C…"
      ]
     },
     "metadata": {},
     "output_type": "display_data"
    },
    {
     "data": {
      "application/vnd.jupyter.widget-view+json": {
       "model_id": "60264c2db4b74d0ebbc48d222babbea1",
       "version_major": 2,
       "version_minor": 0
      },
      "text/plain": [
       "HBox(children=(Image(value=b'\\xff\\xd8\\xff\\xe0\\x00\\x10JFIF\\x00\\x01\\x01\\x00\\x00\\x01\\x00\\x01\\x00\\x00\\xff\\xdb\\x00C…"
      ]
     },
     "metadata": {},
     "output_type": "display_data"
    },
    {
     "data": {
      "application/vnd.jupyter.widget-view+json": {
       "model_id": "ddd8ba5fb320404fbc401a6a9c0d4eb0",
       "version_major": 2,
       "version_minor": 0
      },
      "text/plain": [
       "HBox(children=(Image(value=b'\\xff\\xd8\\xff\\xe0\\x00\\x10JFIF\\x00\\x01\\x01\\x00\\x00\\x01\\x00\\x01\\x00\\x00\\xff\\xdb\\x00C…"
      ]
     },
     "metadata": {},
     "output_type": "display_data"
    },
    {
     "name": "stdout",
     "output_type": "stream",
     "text": [
      "\n",
      "\n",
      "\n",
      "\n"
     ]
    },
    {
     "data": {
      "application/vnd.jupyter.widget-view+json": {
       "model_id": "d3399ecc82784306873222b51376d874",
       "version_major": 2,
       "version_minor": 0
      },
      "text/plain": [
       "HBox(children=(Image(value=b'\\xff\\xd8\\xff\\xe0\\x00\\x10JFIF\\x00\\x01\\x01\\x00\\x00\\x01\\x00\\x01\\x00\\x00\\xff\\xdb\\x00C…"
      ]
     },
     "metadata": {},
     "output_type": "display_data"
    },
    {
     "data": {
      "application/vnd.jupyter.widget-view+json": {
       "model_id": "ec4fea501e094d3d849635db4a2a4e3d",
       "version_major": 2,
       "version_minor": 0
      },
      "text/plain": [
       "HBox(children=(Image(value=b'\\xff\\xd8\\xff\\xe0\\x00\\x10JFIF\\x00\\x01\\x01\\x00\\x00\\x01\\x00\\x01\\x00\\x00\\xff\\xdb\\x00C…"
      ]
     },
     "metadata": {},
     "output_type": "display_data"
    },
    {
     "data": {
      "application/vnd.jupyter.widget-view+json": {
       "model_id": "91676bf31eec40cfafb072bfd6b7fb66",
       "version_major": 2,
       "version_minor": 0
      },
      "text/plain": [
       "HBox(children=(Image(value=b'\\xff\\xd8\\xff\\xe0\\x00\\x10JFIF\\x00\\x01\\x01\\x00\\x00\\x01\\x00\\x01\\x00\\x00\\xff\\xdb\\x00C…"
      ]
     },
     "metadata": {},
     "output_type": "display_data"
    },
    {
     "name": "stdout",
     "output_type": "stream",
     "text": [
      "\n",
      "\n",
      "\n",
      "\n"
     ]
    },
    {
     "data": {
      "application/vnd.jupyter.widget-view+json": {
       "model_id": "2c870171bc2d48009619044d28aa3f98",
       "version_major": 2,
       "version_minor": 0
      },
      "text/plain": [
       "HBox(children=(Image(value=b'\\xff\\xd8\\xff\\xe0\\x00\\x10JFIF\\x00\\x01\\x01\\x00\\x00\\x01\\x00\\x01\\x00\\x00\\xff\\xdb\\x00C…"
      ]
     },
     "metadata": {},
     "output_type": "display_data"
    },
    {
     "data": {
      "application/vnd.jupyter.widget-view+json": {
       "model_id": "bec1df51637f41e0bdb598b7bb9c4f24",
       "version_major": 2,
       "version_minor": 0
      },
      "text/plain": [
       "HBox(children=(Image(value=b'\\xff\\xd8\\xff\\xe0\\x00\\x10JFIF\\x00\\x01\\x01\\x00\\x00\\x01\\x00\\x01\\x00\\x00\\xff\\xdb\\x00C…"
      ]
     },
     "metadata": {},
     "output_type": "display_data"
    },
    {
     "data": {
      "application/vnd.jupyter.widget-view+json": {
       "model_id": "cb3932b49ee2404999dca4fe232bce2a",
       "version_major": 2,
       "version_minor": 0
      },
      "text/plain": [
       "HBox(children=(Image(value=b'\\xff\\xd8\\xff\\xe0\\x00\\x10JFIF\\x00\\x01\\x01\\x00\\x00\\x01\\x00\\x01\\x00\\x00\\xff\\xdb\\x00C…"
      ]
     },
     "metadata": {},
     "output_type": "display_data"
    },
    {
     "name": "stdout",
     "output_type": "stream",
     "text": [
      "\n",
      "\n",
      "\n",
      "\n"
     ]
    },
    {
     "data": {
      "application/vnd.jupyter.widget-view+json": {
       "model_id": "b2b9c8ec36c34eed9c04ae6b716b0d65",
       "version_major": 2,
       "version_minor": 0
      },
      "text/plain": [
       "HBox(children=(Image(value=b'\\xff\\xd8\\xff\\xe0\\x00\\x10JFIF\\x00\\x01\\x01\\x00\\x00\\x01\\x00\\x01\\x00\\x00\\xff\\xdb\\x00C…"
      ]
     },
     "metadata": {},
     "output_type": "display_data"
    },
    {
     "data": {
      "application/vnd.jupyter.widget-view+json": {
       "model_id": "49d65cbac97c4cb683ca2d8ca0a08986",
       "version_major": 2,
       "version_minor": 0
      },
      "text/plain": [
       "HBox(children=(Image(value=b'\\xff\\xd8\\xff\\xe0\\x00\\x10JFIF\\x00\\x01\\x01\\x00\\x00\\x01\\x00\\x01\\x00\\x00\\xff\\xdb\\x00C…"
      ]
     },
     "metadata": {},
     "output_type": "display_data"
    },
    {
     "data": {
      "application/vnd.jupyter.widget-view+json": {
       "model_id": "49b3d758cf194ea6a4a3f686f6af517b",
       "version_major": 2,
       "version_minor": 0
      },
      "text/plain": [
       "HBox(children=(Image(value=b'\\xff\\xd8\\xff\\xe0\\x00\\x10JFIF\\x00\\x01\\x01\\x00\\x00\\x01\\x00\\x01\\x00\\x00\\xff\\xdb\\x00C…"
      ]
     },
     "metadata": {},
     "output_type": "display_data"
    },
    {
     "name": "stdout",
     "output_type": "stream",
     "text": [
      "\n",
      "\n",
      "\n",
      "\n"
     ]
    },
    {
     "data": {
      "application/vnd.jupyter.widget-view+json": {
       "model_id": "9c610bc170e144d68e252202bb7d0acf",
       "version_major": 2,
       "version_minor": 0
      },
      "text/plain": [
       "HBox(children=(Image(value=b'\\xff\\xd8\\xff\\xe0\\x00\\x10JFIF\\x00\\x01\\x01\\x00\\x00\\x01\\x00\\x01\\x00\\x00\\xff\\xdb\\x00C…"
      ]
     },
     "metadata": {},
     "output_type": "display_data"
    },
    {
     "data": {
      "application/vnd.jupyter.widget-view+json": {
       "model_id": "0957b12bfd5b47a3814c056a1b5323b0",
       "version_major": 2,
       "version_minor": 0
      },
      "text/plain": [
       "HBox(children=(Image(value=b'\\xff\\xd8\\xff\\xe0\\x00\\x10JFIF\\x00\\x01\\x01\\x00\\x00\\x01\\x00\\x01\\x00\\x00\\xff\\xdb\\x00C…"
      ]
     },
     "metadata": {},
     "output_type": "display_data"
    },
    {
     "data": {
      "application/vnd.jupyter.widget-view+json": {
       "model_id": "36f7559e89614c18b52c35331de201c8",
       "version_major": 2,
       "version_minor": 0
      },
      "text/plain": [
       "HBox(children=(Image(value=b'\\xff\\xd8\\xff\\xe0\\x00\\x10JFIF\\x00\\x01\\x01\\x00\\x00\\x01\\x00\\x01\\x00\\x00\\xff\\xdb\\x00C…"
      ]
     },
     "metadata": {},
     "output_type": "display_data"
    },
    {
     "name": "stdout",
     "output_type": "stream",
     "text": [
      "\n",
      "\n",
      "\n",
      "\n"
     ]
    },
    {
     "data": {
      "application/vnd.jupyter.widget-view+json": {
       "model_id": "75036ff7f2b749188cd0178e2bfe3d51",
       "version_major": 2,
       "version_minor": 0
      },
      "text/plain": [
       "HBox(children=(Image(value=b'\\xff\\xd8\\xff\\xe0\\x00\\x10JFIF\\x00\\x01\\x01\\x00\\x00\\x01\\x00\\x01\\x00\\x00\\xff\\xdb\\x00C…"
      ]
     },
     "metadata": {},
     "output_type": "display_data"
    },
    {
     "data": {
      "application/vnd.jupyter.widget-view+json": {
       "model_id": "02bcc008b0c548de9777c47710732758",
       "version_major": 2,
       "version_minor": 0
      },
      "text/plain": [
       "HBox(children=(Image(value=b'\\xff\\xd8\\xff\\xe0\\x00\\x10JFIF\\x00\\x01\\x01\\x00\\x00\\x01\\x00\\x01\\x00\\x00\\xff\\xdb\\x00C…"
      ]
     },
     "metadata": {},
     "output_type": "display_data"
    },
    {
     "data": {
      "application/vnd.jupyter.widget-view+json": {
       "model_id": "4fdb77c46deb4ab9aa25b6fdea5ef483",
       "version_major": 2,
       "version_minor": 0
      },
      "text/plain": [
       "HBox(children=(Image(value=b'\\xff\\xd8\\xff\\xe0\\x00\\x10JFIF\\x00\\x01\\x01\\x00\\x00\\x01\\x00\\x01\\x00\\x00\\xff\\xdb\\x00C…"
      ]
     },
     "metadata": {},
     "output_type": "display_data"
    },
    {
     "name": "stdout",
     "output_type": "stream",
     "text": [
      "\n",
      "\n",
      "\n",
      "\n"
     ]
    },
    {
     "data": {
      "application/vnd.jupyter.widget-view+json": {
       "model_id": "d496b325ef95492ebbf52cba9c48ac18",
       "version_major": 2,
       "version_minor": 0
      },
      "text/plain": [
       "HBox(children=(Image(value=b'\\xff\\xd8\\xff\\xe0\\x00\\x10JFIF\\x00\\x01\\x01\\x00\\x00\\x01\\x00\\x01\\x00\\x00\\xff\\xdb\\x00C…"
      ]
     },
     "metadata": {},
     "output_type": "display_data"
    },
    {
     "data": {
      "application/vnd.jupyter.widget-view+json": {
       "model_id": "248cbd8279c148c5a75dc01f67f944ea",
       "version_major": 2,
       "version_minor": 0
      },
      "text/plain": [
       "HBox(children=(Image(value=b'\\xff\\xd8\\xff\\xe0\\x00\\x10JFIF\\x00\\x01\\x01\\x00\\x00\\x01\\x00\\x01\\x00\\x00\\xff\\xdb\\x00C…"
      ]
     },
     "metadata": {},
     "output_type": "display_data"
    },
    {
     "data": {
      "application/vnd.jupyter.widget-view+json": {
       "model_id": "6efdda546791448ebb72e6090971ee3e",
       "version_major": 2,
       "version_minor": 0
      },
      "text/plain": [
       "HBox(children=(Image(value=b'\\xff\\xd8\\xff\\xe0\\x00\\x10JFIF\\x00\\x01\\x01\\x00\\x00\\x01\\x00\\x01\\x00\\x00\\xff\\xdb\\x00C…"
      ]
     },
     "metadata": {},
     "output_type": "display_data"
    },
    {
     "name": "stdout",
     "output_type": "stream",
     "text": [
      "\n",
      "\n",
      "\n",
      "\n"
     ]
    },
    {
     "data": {
      "application/vnd.jupyter.widget-view+json": {
       "model_id": "97154a15b6d14213b237f69dff543ab9",
       "version_major": 2,
       "version_minor": 0
      },
      "text/plain": [
       "HBox(children=(Image(value=b'\\xff\\xd8\\xff\\xe0\\x00\\x10JFIF\\x00\\x01\\x01\\x00\\x00\\x01\\x00\\x01\\x00\\x00\\xff\\xdb\\x00C…"
      ]
     },
     "metadata": {},
     "output_type": "display_data"
    },
    {
     "data": {
      "application/vnd.jupyter.widget-view+json": {
       "model_id": "bc693cfce03d4eada7c43118b52da0f5",
       "version_major": 2,
       "version_minor": 0
      },
      "text/plain": [
       "HBox(children=(Image(value=b'\\xff\\xd8\\xff\\xe0\\x00\\x10JFIF\\x00\\x01\\x01\\x00\\x00\\x01\\x00\\x01\\x00\\x00\\xff\\xdb\\x00C…"
      ]
     },
     "metadata": {},
     "output_type": "display_data"
    },
    {
     "data": {
      "application/vnd.jupyter.widget-view+json": {
       "model_id": "5c3d0689fd944508ac092b190db83c39",
       "version_major": 2,
       "version_minor": 0
      },
      "text/plain": [
       "HBox(children=(Image(value=b'\\xff\\xd8\\xff\\xe0\\x00\\x10JFIF\\x00\\x01\\x01\\x00\\x00\\x01\\x00\\x01\\x00\\x00\\xff\\xdb\\x00C…"
      ]
     },
     "metadata": {},
     "output_type": "display_data"
    },
    {
     "name": "stdout",
     "output_type": "stream",
     "text": [
      "\n",
      "\n",
      "\n",
      "\n"
     ]
    },
    {
     "data": {
      "application/vnd.jupyter.widget-view+json": {
       "model_id": "f335dbfe43d645ab86a06021948bbc97",
       "version_major": 2,
       "version_minor": 0
      },
      "text/plain": [
       "HBox(children=(Image(value=b'\\xff\\xd8\\xff\\xe0\\x00\\x10JFIF\\x00\\x01\\x01\\x00\\x00\\x01\\x00\\x01\\x00\\x00\\xff\\xdb\\x00C…"
      ]
     },
     "metadata": {},
     "output_type": "display_data"
    },
    {
     "data": {
      "application/vnd.jupyter.widget-view+json": {
       "model_id": "ac2416745bf24945be0d31d4af5cd33e",
       "version_major": 2,
       "version_minor": 0
      },
      "text/plain": [
       "HBox(children=(Image(value=b'\\xff\\xd8\\xff\\xe0\\x00\\x10JFIF\\x00\\x01\\x01\\x00\\x00\\x01\\x00\\x01\\x00\\x00\\xff\\xdb\\x00C…"
      ]
     },
     "metadata": {},
     "output_type": "display_data"
    },
    {
     "data": {
      "application/vnd.jupyter.widget-view+json": {
       "model_id": "90ba73b2bda24e33bd37b5ab7e8abdec",
       "version_major": 2,
       "version_minor": 0
      },
      "text/plain": [
       "HBox(children=(Image(value=b'\\xff\\xd8\\xff\\xe0\\x00\\x10JFIF\\x00\\x01\\x01\\x00\\x00\\x01\\x00\\x01\\x00\\x00\\xff\\xdb\\x00C…"
      ]
     },
     "metadata": {},
     "output_type": "display_data"
    },
    {
     "name": "stdout",
     "output_type": "stream",
     "text": [
      "\n",
      "\n",
      "\n",
      "\n"
     ]
    }
   ],
   "source": [
    "### This cell pulls out the reference, science, and subtraction images for eack of the SNe the filter detected, for every good detection\n",
    "\n",
    "for i in SNgri:\n",
    "    query = ( 'SELECT cand.id, e.mjd,e.filename,e.filter,c.sci_jpeg,c.ref_jpeg,c.diff_jpeg FROM cutouts c '\n",
    "              'INNER JOIN objects o ON c.object_id=o.id '\n",
    "              'INNER JOIN candidates cand ON o.candidate_id=cand.id '\n",
    "              'INNER JOIN subtractions s ON o.subtraction_id=s.id '\n",
    "              'INNER JOIN exposures e ON s.exposure_id=e.id '\n",
    "              'WHERE cand.id=%s '\n",
    "              'AND o.rb>0.6 '\n",
    "              'ORDER BY e.mjd '\n",
    "              'LIMIT 3')\n",
    "    cursor.execute( query, ( i, ) )\n",
    "    for row in cursor:\n",
    "        label = ipywidgets.HTML( f'<b>Candidate</b>{row[\"id\"]}<br><b>{row[\"filename\"]}</b><br><b>Filter:</b> {row[\"filter\"]}' )\n",
    "        newimg = ipywidgets.Image( value=bytes(row[\"sci_jpeg\"]), width=102, height=102, format='jpeg' )\n",
    "        refimg = ipywidgets.Image( value=bytes(row[\"ref_jpeg\"]), width=102, height=102, format='jpeg' )\n",
    "        subimg = ipywidgets.Image( value=bytes(row[\"diff_jpeg\"]), width=102, height=102, format='jpeg' )\n",
    "        box = ipywidgets.HBox( [ newimg, refimg, subimg, label ] )\n",
    "        display( box )\n",
    "    print(\"\")\n",
    "    print(\"\")    \n",
    "    print(\"\")    \n",
    "    print(\"\")    "
   ]
  },
  {
   "cell_type": "code",
   "execution_count": null,
   "id": "7ab3090f-24b0-4c8d-9c1f-52d2c451a4d6",
   "metadata": {},
   "outputs": [],
   "source": []
  }
 ],
 "metadata": {
  "kernelspec": {
   "display_name": "Python 3",
   "language": "python",
   "name": "python3"
  },
  "language_info": {
   "codemirror_mode": {
    "name": "ipython",
    "version": 3
   },
   "file_extension": ".py",
   "mimetype": "text/x-python",
   "name": "python",
   "nbconvert_exporter": "python",
   "pygments_lexer": "ipython3",
   "version": "3.7.4"
  }
 },
 "nbformat": 4,
 "nbformat_minor": 5
}
