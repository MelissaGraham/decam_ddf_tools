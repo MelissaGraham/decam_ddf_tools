{
 "cells": [
  {
   "cell_type": "markdown",
   "id": "78028554-e03f-43d8-ade8-eae961e01340",
   "metadata": {
    "tags": []
   },
   "source": [
    "# Review the lightcurve flag values\n",
    "\n",
    "Authors: Midori Rollins and Melissa Graham\n",
    "\n",
    "Review and compare flag values for the light curves."
   ]
  },
  {
   "cell_type": "markdown",
   "id": "2eb32894-aa32-441a-9681-f10e255bb987",
   "metadata": {},
   "source": [
    "## Set up and read in data\n",
    "\n",
    "Import packages."
   ]
  },
  {
   "cell_type": "code",
   "execution_count": 1,
   "id": "2c159a03-6baf-4cfc-ae6d-066fb60a0d4b",
   "metadata": {
    "tags": []
   },
   "outputs": [],
   "source": [
    "import numpy as np\n",
    "import matplotlib.pyplot as plt\n",
    "import time"
   ]
  },
  {
   "cell_type": "markdown",
   "id": "c31530c8-7045-40c4-8de9-de7dfb4f3076",
   "metadata": {},
   "source": [
    "Read in the `sncosmo` results.\n",
    "\n",
    "The fit peak magnitudes are read in but not used in this notebook."
   ]
  },
  {
   "cell_type": "code",
   "execution_count": 2,
   "id": "19f6ee8c-0297-4136-9fb1-8676174a9d27",
   "metadata": {
    "tags": []
   },
   "outputs": [],
   "source": [
    "fnm = '2_all_potential_snia_fits/results_sncosmos.dat'\n",
    "fit_cand = np.loadtxt(fnm, dtype='str', usecols=(0))\n",
    "fit_est_z = np.loadtxt(fnm, dtype='float', usecols=(1))\n",
    "fit_in_zlo = np.loadtxt(fnm, dtype='float', usecols=(2))\n",
    "fit_in_zhi = np.loadtxt(fnm, dtype='float', usecols=(3))\n",
    "fit_z = np.loadtxt(fnm, dtype='float', usecols=(4))\n",
    "fit_ze = np.loadtxt(fnm, dtype='float', usecols=(5))\n",
    "fit_t0 = np.loadtxt(fnm, dtype='float', usecols=(6))\n",
    "fit_t0e = np.loadtxt(fnm, dtype='float', usecols=(7))\n",
    "fit_x0 = np.loadtxt(fnm, dtype='float', usecols=(8))\n",
    "fit_x0e = np.loadtxt(fnm, dtype='float', usecols=(9))\n",
    "fit_x1 = np.loadtxt(fnm, dtype='float', usecols=(10))\n",
    "fit_x1e = np.loadtxt(fnm, dtype='float', usecols=(11))\n",
    "fit_c = np.loadtxt(fnm, dtype='float', usecols=(12))\n",
    "fit_ce = np.loadtxt(fnm, dtype='float', usecols=(13))\n",
    "fit_pmB = np.loadtxt(fnm, dtype='float', usecols=(14))\n",
    "fit_pmg = np.loadtxt(fnm, dtype='float', usecols=(15))\n",
    "fit_pmr = np.loadtxt(fnm, dtype='float', usecols=(16))\n",
    "fit_pmi = np.loadtxt(fnm, dtype='float', usecols=(17))\n",
    "del fnm"
   ]
  },
  {
   "cell_type": "code",
   "execution_count": 3,
   "id": "9cc08454-066f-4dcf-891f-a9eae9898073",
   "metadata": {
    "tags": []
   },
   "outputs": [
    {
     "name": "stdout",
     "output_type": "stream",
     "text": [
      "Number of potential SNIa which were not fit by sncosmo:  0\n",
      "Number of SNIa that were fit with sncosmo:  100\n"
     ]
    }
   ],
   "source": [
    "tx = np.where(fit_z <= 0.)[0]\n",
    "print('Number of potential SNIa which were not fit by sncosmo: ', len(tx))\n",
    "del tx\n",
    "tx = np.where(fit_z > 0)[0]\n",
    "print('Number of SNIa that were fit with sncosmo: ', len(tx))\n",
    "del tx"
   ]
  },
  {
   "cell_type": "markdown",
   "id": "b3a98ef4-39d9-4d5c-b1cc-35ce858492c2",
   "metadata": {},
   "source": [
    "### Read in and compare review flags\n",
    "\n",
    "**Melissa's review flags**\n",
    "\n",
    "Read Melissa's review flags from `2_all_potential_snia_fits/all_fit_snia.pdf`.\n",
    "\n",
    "```\n",
    "0 : well-sampled lightcurve, could be suffecient for a SNIa classification\n",
    "1 : poorly-sample lightcurve in 1+ filter(s), would be insufficient for SNIa classification\n",
    "2 : inadequately-sampled lightcurve or clearly not SN-like\n",
    "```"
   ]
  },
  {
   "cell_type": "code",
   "execution_count": 4,
   "id": "58de35e1-c8c6-4b96-b6e2-609733d8b2a1",
   "metadata": {
    "tags": []
   },
   "outputs": [],
   "source": [
    "fnm = '2_all_potential_snia_fits/MLG_review_ratings.txt'\n",
    "mlg_review_candid = np.loadtxt(fnm, dtype='str', usecols=(0))\n",
    "mlg_review_flag = np.loadtxt(fnm, dtype='int', usecols=(1))\n",
    "del fnm"
   ]
  },
  {
   "cell_type": "markdown",
   "id": "bcea6a9c-e1c7-41db-af75-0ebdba287586",
   "metadata": {
    "tags": []
   },
   "source": [
    "Review the distribution of flag values."
   ]
  },
  {
   "cell_type": "code",
   "execution_count": 5,
   "id": "77126e4d-2f8c-403e-9d76-377c410d6d38",
   "metadata": {
    "tags": []
   },
   "outputs": [
    {
     "name": "stdout",
     "output_type": "stream",
     "text": [
      "0 0 37\n",
      "1 1 7\n",
      "2 2 89\n",
      "133\n"
     ]
    }
   ],
   "source": [
    "values, counts = np.unique(mlg_review_flag, return_counts=True)\n",
    "for v, val in enumerate(values):\n",
    "    print(v, val, counts[v])\n",
    "print(np.sum(counts))\n",
    "del values, counts"
   ]
  },
  {
   "cell_type": "markdown",
   "id": "cfbb5c58-a52e-45ad-9687-0531b144c9c0",
   "metadata": {},
   "source": [
    "There are many candidates that have been reviewed and since fallen off the list of potential SNIa\n",
    "due to changing parameters and cuts, but that's ok. Most of them were ranked as a 2, poor quality LC for fitting."
   ]
  },
  {
   "cell_type": "code",
   "execution_count": 6,
   "id": "3ec59fd1-555a-4ffe-9ea7-051c5e3a1674",
   "metadata": {
    "tags": []
   },
   "outputs": [
    {
     "name": "stdout",
     "output_type": "stream",
     "text": [
      "DC21bfph 2\n",
      "DC21cpais 2\n",
      "DC21cpcjp 0\n",
      "DC21cvh 2\n",
      "DC21cynfs 2\n",
      "DC21cynqo 2\n",
      "DC21dhgm 2\n",
      "DC21djbfp 1\n",
      "DC21emxv 2\n",
      "DC21eoo 2\n",
      "DC21eqtm 1\n",
      "DC21frjc 2\n",
      "DC21gocx 2\n",
      "DC21grk 2\n",
      "DC21ijs 2\n",
      "DC21kue 2\n",
      "DC21kxb 2\n",
      "DC21lvlb 2\n",
      "DC21mvh 2\n",
      "DC21pry 2\n",
      "DC21vfl 2\n",
      "DC22duvcm 2\n",
      "DC22earrc 2\n",
      "DC22enklo 2\n",
      "DC22gvcqm 2\n",
      "DC22hvtet 2\n",
      "DC22isyfm 2\n",
      "DC23jmqzz 2\n",
      "DC23jpbgx 2\n",
      "DC23jurva 2\n",
      "DC23kosqy 1\n",
      "DC23kwcyd 2\n",
      "DC23ldjbe 2\n"
     ]
    }
   ],
   "source": [
    "for c, candid in enumerate(mlg_review_candid):\n",
    "    tx = np.where(candid == fit_cand)[0]\n",
    "    if len(tx) == 0:\n",
    "        print(mlg_review_candid[c], mlg_review_flag[c])\n",
    "    del tx"
   ]
  },
  {
   "cell_type": "markdown",
   "id": "11823818-565e-4ab4-b548-0b2b46b77f41",
   "metadata": {},
   "source": [
    "There should be no candidates that are potential SNIa yet are not reviewed."
   ]
  },
  {
   "cell_type": "code",
   "execution_count": 7,
   "id": "6898f4ec-1e66-4997-b9e7-ca69e487e7b6",
   "metadata": {
    "tags": []
   },
   "outputs": [],
   "source": [
    "for c, candid in enumerate(fit_cand):\n",
    "    tx = np.where(candid == mlg_review_candid)[0]\n",
    "    if len(tx) == 0:\n",
    "        print(candid)\n",
    "    del tx"
   ]
  },
  {
   "cell_type": "markdown",
   "id": "ae268714-8843-4d32-88eb-c1062083c51d",
   "metadata": {},
   "source": [
    "Add an array to the set of other `fit_` arrays."
   ]
  },
  {
   "cell_type": "code",
   "execution_count": 8,
   "id": "8b5ad61b-f5bc-4849-83f7-f7d4ff0a8c80",
   "metadata": {
    "tags": []
   },
   "outputs": [],
   "source": [
    "fit_mlgflag = np.zeros(len(fit_cand), dtype='int') - 1\n",
    "for c, candid in enumerate(fit_cand):\n",
    "    tx = np.where(candid == mlg_review_candid)[0]\n",
    "    if len(tx) == 1:\n",
    "        fit_mlgflag[c] = mlg_review_flag[tx[0]]\n",
    "    del tx"
   ]
  },
  {
   "cell_type": "code",
   "execution_count": 9,
   "id": "6fd3899e-2eca-40f3-98cf-096dbce70d8e",
   "metadata": {
    "tags": []
   },
   "outputs": [
    {
     "name": "stdout",
     "output_type": "stream",
     "text": [
      "should be 0 :  0\n"
     ]
    }
   ],
   "source": [
    "tx = np.where(fit_mlgflag == -1)[0]\n",
    "print('should be 0 : ', len(tx))\n",
    "del tx"
   ]
  },
  {
   "cell_type": "markdown",
   "id": "d7b9c91a-8218-489a-8a73-7473e4e53017",
   "metadata": {},
   "source": [
    "**Midori's rating flags**\n",
    "\n",
    "After looking through the PDF of fits for all candidates, all were rated as good, maybe, or bad.\n",
    "\n",
    "> **0 = Good**: sncosmo fits our data very well; our data captures both the rise \n",
    "and fall of the supernova; has typical parameter values w/out large errors\n",
    "\n",
    "> **1 = Maybe**: sncosmo fits our data somewhat well; not enough data/our data only \n",
    "captures the incline/decline of the supernova; may have abnormal parameter values & large errors; missing in a band\n",
    "\n",
    "> **2 = Bad**: sncosmo does not fit our data well; our data is bad/clearly not \n",
    "type 1a-like; has abnormal parameter values w/ large errors"
   ]
  },
  {
   "cell_type": "code",
   "execution_count": 10,
   "id": "31cb8563-be4b-4aff-b51c-3bbeef774d9d",
   "metadata": {
    "tags": []
   },
   "outputs": [],
   "source": [
    "fnm = '2_all_potential_snia_fits/MR_review_ratings.txt'\n",
    "mr_rating_candid = np.loadtxt(fnm, dtype='str', usecols=(0))\n",
    "mr_rating_flag   = np.loadtxt(fnm, dtype='int', usecols=(1))\n",
    "del fnm"
   ]
  },
  {
   "cell_type": "markdown",
   "id": "b0e0de26-af55-410e-864b-9175e04c4481",
   "metadata": {},
   "source": [
    "Review the distribution of flag values, any candidates that\n",
    "did get a rating but have subsequently fallen off the list of \n",
    "potential SNIa, and ensure there are no potential SNIa that\n",
    "are missing a rating."
   ]
  },
  {
   "cell_type": "code",
   "execution_count": 11,
   "id": "809735c8-0b00-4493-9b07-af61aef6e3f7",
   "metadata": {
    "tags": []
   },
   "outputs": [
    {
     "name": "stdout",
     "output_type": "stream",
     "text": [
      "0 0 28\n",
      "1 1 40\n",
      "2 2 34\n",
      "102\n"
     ]
    }
   ],
   "source": [
    "values, counts = np.unique(mr_rating_flag, return_counts=True)\n",
    "for v, val in enumerate(values):\n",
    "    print(v, val, counts[v])\n",
    "print(np.sum(counts))\n",
    "del values, counts"
   ]
  },
  {
   "cell_type": "code",
   "execution_count": 12,
   "id": "fa778008-0b14-49b8-9413-1dc3095776c5",
   "metadata": {
    "tags": []
   },
   "outputs": [
    {
     "name": "stdout",
     "output_type": "stream",
     "text": [
      "DC21vfl\n",
      "DC21bfph\n",
      "DC21cpais\n",
      "DC21cpcjp\n",
      "DC21cvh\n",
      "DC21cynfs\n",
      "DC21cynqo\n",
      "DC21dhgm\n",
      "DC21djbfp\n",
      "DC21ecmr\n",
      "DC21edhi\n",
      "DC21emxv\n",
      "DC21eoo\n",
      "DC21eqtm\n",
      "DC21eyf\n",
      "DC21fchc\n",
      "DC21frjc\n",
      "DC21gbza\n",
      "DC21gocx\n",
      "DC21grk\n",
      "DC21ijs\n",
      "DC21kue\n",
      "DC21kxb\n",
      "DC21lvlb\n",
      "DC21lza\n",
      "DC21mvh\n",
      "DC21pry\n",
      "DC22duvcm\n",
      "DC22earrc\n",
      "DC22enklo\n",
      "DC22gvcqm\n",
      "DC22hvtet\n",
      "DC22isyfm\n",
      "DC22iteny\n",
      "DC22jbqyi\n",
      "DC23jmqzz\n",
      "DC23jmrgj\n",
      "DC23jpbgx\n",
      "DC23jurva\n",
      "DC23kosqy\n",
      "DC23kwcyd\n",
      "DC23ldjbe\n"
     ]
    }
   ],
   "source": [
    "for c, candid in enumerate(mr_rating_candid):\n",
    "    tx = np.where(candid == fit_cand)[0]\n",
    "    if len(tx) == 0:\n",
    "        print(candid)\n",
    "    del tx"
   ]
  },
  {
   "cell_type": "code",
   "execution_count": 13,
   "id": "c77e4fe8-d91f-4aa1-8208-38ec30ab31bf",
   "metadata": {
    "tags": []
   },
   "outputs": [
    {
     "name": "stdout",
     "output_type": "stream",
     "text": [
      "DC21bcpi\n",
      "DC21bohl\n",
      "DC21bwajh\n",
      "DC21bwbfe\n",
      "DC21bxvcb\n",
      "DC21cgfvi\n",
      "DC21cyks\n",
      "DC21djbcj\n",
      "DC21dlono\n",
      "DC21dqpcm\n",
      "DC21dqqdr\n",
      "DC21drcum\n",
      "DC21drien\n",
      "DC21eere\n",
      "DC21fsdd\n",
      "DC21gayy\n",
      "DC21lbmp\n",
      "DC21lqtw\n",
      "DC21mp\n",
      "DC21qil\n",
      "DC22eathc\n",
      "DC22gtbtd\n",
      "DC22hirtc\n",
      "DC22hvvaj\n",
      "DC22hxfom\n",
      "DC22iwnti\n",
      "DC22jckoa\n",
      "DC22jcyuz\n",
      "DC23jhgml\n",
      "DC23jjkcv\n",
      "DC23jjmhv\n",
      "DC23jqitt\n",
      "DC23jwhoq\n",
      "DC23jwnzq\n",
      "DC23jwvwc\n",
      "DC23khfqh\n",
      "DC23kmybj\n",
      "DC23kmzfs\n",
      "DC23kwpaw\n",
      "DC23lcpnh\n"
     ]
    }
   ],
   "source": [
    "for c, candid in enumerate(fit_cand):\n",
    "    tx = np.where(candid == mr_rating_candid)[0]\n",
    "    if len(tx) == 0:\n",
    "        print(candid)\n",
    "    del tx"
   ]
  },
  {
   "cell_type": "code",
   "execution_count": 14,
   "id": "b03bbf26-1b51-459e-937d-075ab4fa356d",
   "metadata": {
    "tags": []
   },
   "outputs": [
    {
     "name": "stderr",
     "output_type": "stream",
     "text": [
      "/tmp/ipykernel_2302312/960326746.py:5: DeprecationWarning: Conversion of an array with ndim > 0 to a scalar is deprecated, and will error in future. Ensure you extract a single element from your array before performing this operation. (Deprecated NumPy 1.25.)\n",
      "  fit_mrflag[c] = mr_rating_flag[tx]\n"
     ]
    }
   ],
   "source": [
    "fit_mrflag = np.zeros(len(fit_cand), dtype='int') - 1\n",
    "for c, candid in enumerate(fit_cand):\n",
    "    tx = np.where(candid == mr_rating_candid)[0]\n",
    "    if len(tx) == 1:\n",
    "        fit_mrflag[c] = mr_rating_flag[tx]\n",
    "    del tx"
   ]
  },
  {
   "cell_type": "code",
   "execution_count": 15,
   "id": "7114a1e6-e2f5-402d-a52f-d2b3900e8201",
   "metadata": {
    "tags": []
   },
   "outputs": [
    {
     "name": "stdout",
     "output_type": "stream",
     "text": [
      "should be 0 :  40\n"
     ]
    }
   ],
   "source": [
    "tx = np.where(fit_mrflag == -1)[0]\n",
    "print('should be 0 : ', len(tx))\n",
    "del tx"
   ]
  },
  {
   "cell_type": "markdown",
   "id": "8a00b5dc-4d14-4e51-b387-4b896dc6a3be",
   "metadata": {},
   "source": [
    "**Compare flags**\n",
    "\n",
    "Add in a bit of scatter just so we can see how many points are at each grid location.\n",
    "\n",
    " * All of the candidates MLG flags as '2' are flagged by MR as '1' or '2'.\n",
    " * Most of the candidates MLG flags as '0' are flagged by MR as '0', but not all."
   ]
  },
  {
   "cell_type": "code",
   "execution_count": 16,
   "id": "b07e5a41-2c08-41f4-983e-7b790bbf893c",
   "metadata": {
    "tags": []
   },
   "outputs": [
    {
     "data": {
      "image/png": "[encoded data removed]",
      "text/plain": [
       "<Figure size 300x300 with 1 Axes>"
      ]
     },
     "metadata": {},
     "output_type": "display_data"
    }
   ],
   "source": [
    "plt.figure(figsize=(3, 3))\n",
    "\n",
    "r1 = np.random.normal(scale=0.05, size=len(fit_cand))\n",
    "r2 = np.random.normal(scale=0.05, size=len(fit_cand))\n",
    "plt.plot(fit_mlgflag+r1, fit_mrflag+r2, 'o', ms=3, alpha=0.3, color='black')\n",
    "\n",
    "for i in [0, 1, 2]:\n",
    "    plt.axvline(i, lw=1, alpha=0.2, color='black')\n",
    "    for j in [0, 1, 2]:\n",
    "        if i == 0:\n",
    "            plt.axhline(j, lw=1, alpha=0.2, color='black')\n",
    "        tx = np.where((fit_mlgflag == i) & (fit_mrflag == j))[0]\n",
    "        plt.text(i+0.2, j+0.05, str(len(tx)))\n",
    "\n",
    "# plt.grid()\n",
    "plt.xlim([-0.2,2.45])\n",
    "plt.xlim([-0.2,2.45])\n",
    "plt.xlabel('MLG flag')\n",
    "plt.ylabel('MR flag')\n",
    "plt.show()"
   ]
  },
  {
   "cell_type": "code",
   "execution_count": null,
   "id": "b2ad763c-1c38-486f-adf6-b1833c5496b2",
   "metadata": {},
   "outputs": [],
   "source": []
  }
 ],
 "metadata": {
  "kernelspec": {
   "display_name": "NERSC Python",
   "language": "python",
   "name": "python3"
  },
  "language_info": {
   "codemirror_mode": {
    "name": "ipython",
    "version": 3
   },
   "file_extension": ".py",
   "mimetype": "text/x-python",
   "name": "python",
   "nbconvert_exporter": "python",
   "pygments_lexer": "ipython3",
   "version": "3.11.7"
  }
 },
 "nbformat": 4,
 "nbformat_minor": 5
}
