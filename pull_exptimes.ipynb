{
 "cells": [
  {
   "cell_type": "markdown",
   "id": "d4957a8e-9e93-41e7-a148-edd5b5eb4292",
   "metadata": {},
   "source": [
    "This notebook updates \"fnm_exptime.txt\" by pulling filenames and exposure times from the database. \"fnm_exptime.txt\" is used to exclude images with non-standard exposure times from our analyses"
   ]
  },
  {
   "cell_type": "code",
   "execution_count": 7,
   "id": "17d9a4f6-b7de-49d3-92ac-541bb577f15d",
   "metadata": {},
   "outputs": [],
   "source": [
    "# Login and database access\n",
    "import psycopg2\n",
    "import psycopg2.extras\n",
    "import getpass\n",
    "\n",
    "# Math\n",
    "import numpy as np"
   ]
  },
  {
   "cell_type": "code",
   "execution_count": 2,
   "id": "050f33f9-0ed2-4874-affe-2b168e3cc393",
   "metadata": {},
   "outputs": [
    {
     "name": "stdin",
     "output_type": "stream",
     "text": [
      "DB User:  kennedyt\n",
      "DB Password:  ············\n"
     ]
    }
   ],
   "source": [
    "dbuser = input(\"DB User: \")\n",
    "dbpasswd = getpass.getpass(\"DB Password: \")\n",
    "\n",
    "db = psycopg2.connect( f\"dbname='decat' user='{dbuser}' password='{dbpasswd}' host='decatdb.lbl.gov'\" )\n",
    "db.autocommit = True # Makes the computer nicer about SQL syntax errors\n",
    "\n",
    "cursor = db.cursor( cursor_factory = psycopg2.extras.DictCursor )"
   ]
  },
  {
   "cell_type": "code",
   "execution_count": 8,
   "id": "99687ea6-1b41-4583-8eef-57ac43511864",
   "metadata": {},
   "outputs": [],
   "source": [
    "query = (\"SELECT filename, header \"\n",
    "         \"FROM exposures \"\n",
    "         \"LIMIT 1000000\")\n",
    "cursor.execute(query)\n",
    "\n",
    "result = np.array(cursor.fetchall()).transpose()\n",
    "\n",
    "result[0] = [i[:21] for i in result[0]] # Truncate to just the important part of the filename\n",
    "result[1] = [str(i) for i in [i[\"EXPTIME\"] for i in result[1]]] # Pull out the exposure times\n",
    "\n",
    "result = np.array(result, dtype=str).transpose()"
   ]
  },
  {
   "cell_type": "code",
   "execution_count": 9,
   "id": "c7202289-bb27-484f-a611-70754e826988",
   "metadata": {},
   "outputs": [],
   "source": [
    "np.savetxt(\"fnm_exptime.txt\",result,fmt='%s', delimiter = \"\\t\", header = \"fnm \\t exptime\")"
   ]
  },
  {
   "cell_type": "code",
   "execution_count": null,
   "id": "bd078c27-4f4e-49f0-a2c0-fa5f56ead323",
   "metadata": {},
   "outputs": [],
   "source": []
  }
 ],
 "metadata": {
  "kernelspec": {
   "display_name": "Python 3.9-anaconda-2021.11",
   "language": "python",
   "name": "python3.9-anaconda-2021.11"
  },
  "language_info": {
   "codemirror_mode": {
    "name": "ipython",
    "version": 3
   },
   "file_extension": ".py",
   "mimetype": "text/x-python",
   "name": "python",
   "nbconvert_exporter": "python",
   "pygments_lexer": "ipython3",
   "version": "3.9.7"
  }
 },
 "nbformat": 4,
 "nbformat_minor": 5
}
