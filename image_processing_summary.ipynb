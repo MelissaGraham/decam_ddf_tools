{
 "cells": [
  {
   "cell_type": "markdown",
   "id": "bfb20ca1-dc1c-4aa7-a60d-4bade917a5c7",
   "metadata": {},
   "source": [
    "**Image Processing Review** <br>\n",
    "Melissa\n",
    "\n",
    "Just review images and how many have been processed (i.e., made subtractions).\n",
    "Which images/exposures haven't been processed? Which might have failed to process?"
   ]
  },
  {
   "cell_type": "code",
   "execution_count": null,
   "id": "4bc2e83a-97d1-45dd-bc69-b86fe491c024",
   "metadata": {},
   "outputs": [],
   "source": [
    "import psycopg2\n",
    "import psycopg2.extras\n",
    "import getpass\n",
    "\n",
    "import numpy as np\n",
    "from copy import deepcopy"
   ]
  },
  {
   "cell_type": "code",
   "execution_count": null,
   "id": "901b456d-7870-41e6-b9a5-869fdd31fe67",
   "metadata": {},
   "outputs": [],
   "source": [
    "dbuser = input(\"DB User: \")\n",
    "dbpasswd = getpass.getpass(\"DB Password: \")"
   ]
  },
  {
   "cell_type": "code",
   "execution_count": null,
   "id": "53bf3321-4494-4a0b-8d5e-9991f35c0e1f",
   "metadata": {},
   "outputs": [],
   "source": [
    "db = psycopg2.connect(f\"dbname='decat' user='{dbuser}' password='{dbpasswd}' host='decatdb.lbl.gov'\")"
   ]
  },
  {
   "cell_type": "code",
   "execution_count": null,
   "id": "4d11edf3-45a0-4e86-bc23-a65a32f21b20",
   "metadata": {},
   "outputs": [],
   "source": [
    "cursor = db.cursor( cursor_factory = psycopg2.extras.DictCursor )"
   ]
  },
  {
   "cell_type": "code",
   "execution_count": null,
   "id": "e1363d54-b90f-40e2-91ca-7d99ed2eb79a",
   "metadata": {},
   "outputs": [],
   "source": [
    "### If you want to print table schema\n",
    "# tables = ['exposures','subtractions']\n",
    "# for table in tables:\n",
    "#     query = \"SELECT column_name, data_type FROM information_schema.columns WHERE table_name=%s\"\n",
    "#     cursor.execute( query, ( table, ))\n",
    "#     print( f\"\\nTABLE: {table}\\n===========================\" )\n",
    "#     for row in cursor:\n",
    "#         print( f\"{row['column_name']:24s}  :  {row['data_type']:s}\" )"
   ]
  },
  {
   "cell_type": "code",
   "execution_count": null,
   "id": "b0de9106-bc19-4dac-83dd-e16ac31fc7a5",
   "metadata": {},
   "outputs": [],
   "source": [
    "### Get from the exposures table\n",
    "query = \"SELECT id, ra, dec, filename, mjd, filter, proposalid FROM exposures\"\n",
    "cursor.execute( query )\n",
    "results = np.array( cursor.fetchall() ).transpose()\n",
    "exp_id  = np.asarray( results[0], dtype='int' )\n",
    "exp_ra  = np.asarray( results[1], dtype='float' )\n",
    "exp_dec = np.asarray( results[2], dtype='float' )\n",
    "exp_fnm = np.asarray( results[3], dtype='str' )\n",
    "exp_mjd = np.asarray( results[4], dtype='float' )\n",
    "exp_fil = np.asarray( results[5], dtype='str' )\n",
    "exp_pid = np.asarray( results[6], dtype='str' )\n",
    "del query, results"
   ]
  },
  {
   "cell_type": "code",
   "execution_count": null,
   "id": "c1eae451-f0fc-486a-b995-c3ad37a67dc0",
   "metadata": {},
   "outputs": [],
   "source": [
    "exp_fbs = deepcopy(exp_fnm)\n",
    "for i,fnm in enumerate(exp_fnm):\n",
    "    exp_fbs[i] = fnm.split('.')[0]\n",
    "print(exp_fnm[0],exp_fbs[0])"
   ]
  },
  {
   "cell_type": "code",
   "execution_count": null,
   "id": "384c9d46-61a4-4eb3-bb78-3af0606362b3",
   "metadata": {},
   "outputs": [],
   "source": [
    "### Get from the subtractions table\n",
    "query = \"SELECT id, ra, dec, lmt_mg, seeing, skysig, magzp, \"+ \\\n",
    "        \"ccdnum, image_id, exposure_id FROM subtractions\"\n",
    "cursor.execute( query )\n",
    "results = np.array( cursor.fetchall() ).transpose()\n",
    "sub_id  = np.asarray( results[0], dtype='int' )\n",
    "sub_ra  = np.asarray( results[1], dtype='float' )\n",
    "sub_dec = np.asarray( results[2], dtype='float' )\n",
    "sub_lmg = np.asarray( results[3], dtype='float' )\n",
    "sub_see = np.asarray( results[4], dtype='float' )\n",
    "sub_sks = np.asarray( results[5], dtype='float' )\n",
    "sub_mzp = np.asarray( results[6], dtype='float' )\n",
    "sub_ccd = np.asarray( results[7], dtype='int' )\n",
    "sub_iid = np.asarray( results[8], dtype='int' )\n",
    "sub_eid = np.asarray( results[9], dtype='int' )\n",
    "del query, results"
   ]
  },
  {
   "cell_type": "code",
   "execution_count": null,
   "id": "a797bf43-471f-489f-be46-d5acbe1723a9",
   "metadata": {},
   "outputs": [],
   "source": [
    "print(np.min(exp_id),np.max(exp_id))\n",
    "print(np.min(sub_iid),np.max(sub_iid))\n",
    "print(np.min(sub_eid),np.max(sub_eid))"
   ]
  },
  {
   "cell_type": "code",
   "execution_count": null,
   "id": "23c87eb0-7526-4304-9516-c7b448867bae",
   "metadata": {},
   "outputs": [],
   "source": [
    "### Get from the file made from investigation into raw data files via NOIRLab DataLab\n",
    "fnm = 'ddf_image_data.txt'\n",
    "arch_fbase   = np.loadtxt( fnm, dtype='str', usecols=(0) )\n",
    "arch_ra      = np.loadtxt( fnm, dtype='float', usecols=(1) )\n",
    "arch_dec     = np.loadtxt( fnm, dtype='float', usecols=(2) )\n",
    "arch_mjd     = np.loadtxt( fnm, dtype='float', usecols=(3) )\n",
    "arch_filt    = np.loadtxt( fnm, dtype='str', usecols=(4) )\n",
    "arch_airm    = np.loadtxt( fnm, dtype='float', usecols=(5) )\n",
    "arch_obj     = np.loadtxt( fnm, dtype='str', usecols=(6) )\n",
    "arch_expt    = np.loadtxt( fnm, dtype='float', usecols=(7) )\n",
    "arch_seqid   = np.loadtxt( fnm, dtype='str', usecols=(8) )\n",
    "arch_class   = np.loadtxt( fnm, dtype='str', usecols=(9) )\n",
    "arch_ftype   = np.loadtxt( fnm, dtype='str', usecols=(10) )\n",
    "arch_moonsep = np.loadtxt( fnm, dtype='float', usecols=(11) )\n",
    "arch_moonill = np.loadtxt( fnm, dtype='float', usecols=(12) )\n",
    "arch_mpval   = np.loadtxt( fnm, dtype='float', usecols=(13) )"
   ]
  },
  {
   "cell_type": "code",
   "execution_count": null,
   "id": "a0a989d3-4742-4186-9675-a8e5778922bc",
   "metadata": {},
   "outputs": [],
   "source": [
    "### For all the archive raw images, are any unmatched to exposures table?\n",
    "exp_archid = np.zeros( len(exp_id), dtype='int' )\n",
    "\n",
    "nomatch = 0\n",
    "nomatch_class = []\n",
    "onematch = 0\n",
    "multimatch = 0\n",
    "\n",
    "for i,fbase in enumerate(arch_fbase):\n",
    "    tx = np.where( fbase == exp_fbs )[0]\n",
    "    if len(tx) == 0:\n",
    "        nomatch += 1\n",
    "        nomatch_class.append( arch_class[i] )\n",
    "    elif len(tx) == 1:\n",
    "        onematch += 1\n",
    "        exp_archid[tx] = i\n",
    "    elif len(tx) > 1:\n",
    "        multimatch += 1\n",
    "        print('Multiple matches for ',fbase, exp_fbs[tx])\n",
    "    del tx\n",
    "print( 'Number of archive images with mutiple matches to exposure', multimatch )\n",
    "\n",
    "print(' ')\n",
    "print( 'Number of archive images with one match to exposure ', onematch )\n",
    "\n",
    "print(' ')\n",
    "print( 'Number of archive images with no matches to exposure ', nomatch )\n",
    "tmps = np.asarray( nomatch_class, dtype='str')\n",
    "utmps = np.unique( np.sort( tmps ) )\n",
    "for u,utmp in enumerate(utmps):\n",
    "    tx = np.where( tmps == utmp )[0]\n",
    "    print(utmp, len(tx))\n",
    "    del tx\n",
    "\n",
    "print(' ')\n",
    "tx = np.where( exp_archid == 0 )[0]\n",
    "print('Number of exposures without an archive match: ',len(tx))\n",
    "del tx\n",
    "\n",
    "del nomatch,multimatch,nomatch_class,tmps,utmps"
   ]
  },
  {
   "cell_type": "code",
   "execution_count": null,
   "id": "0d481581-95b7-47ac-b951-70f0821ea9a9",
   "metadata": {},
   "outputs": [],
   "source": [
    "### For all in the exposure table, how many do / do not have a subtraction?\n",
    "\n",
    "exp_nsubs = np.zeros( len(exp_id), dtype='int' )\n",
    "for i,expid in enumerate(exp_id):\n",
    "    tx = np.where( sub_eid == expid )[0]\n",
    "    exp_nsubs[i] = len(tx)\n",
    "    del tx\n",
    "\n",
    "print('Number of subtractions; number of exposures with N subtractions.')\n",
    "tmps = np.sort(exp_nsubs)\n",
    "utmps = np.unique(tmps)\n",
    "for u,utmp in enumerate(utmps):\n",
    "    tx = np.where( tmps == utmp )[0]\n",
    "    print(utmp,len(tx))\n",
    "    del tx"
   ]
  },
  {
   "cell_type": "code",
   "execution_count": null,
   "id": "f7f1bbc3-b4b7-4472-9df3-3904b0b9eab2",
   "metadata": {},
   "outputs": [],
   "source": [
    "print('What kind of exposures do not have subtractions?')\n",
    "tx = np.where( exp_nsubs == 0 )[0]\n",
    "nosub_ra  = np.floor( exp_ra[tx] )\n",
    "nosub_fil = exp_fil[tx]\n",
    "\n",
    "tmps = np.sort( nosub_ra )\n",
    "utmps = np.unique( tmps )\n",
    "for u,utmp in enumerate(utmps):\n",
    "    tx = np.where( tmps == utmp )[0]\n",
    "    print(utmp,len(tx))\n",
    "\n",
    "tmps = np.sort( nosub_fil )\n",
    "utmps = np.unique( tmps )\n",
    "for u,utmp in enumerate(utmps):\n",
    "    tx = np.where( tmps == utmp )[0]\n",
    "    print(utmp,len(tx))\n",
    "\n",
    "print('Mostly COSMOS i-band that do not have subs.')"
   ]
  },
  {
   "cell_type": "code",
   "execution_count": null,
   "id": "b86e848b-2f74-4308-b90b-e2787f3297c3",
   "metadata": {},
   "outputs": [],
   "source": [
    "### Double check on ELAIS processing\n",
    "x = np.where( arch_class == 'ELAIS' )[0]\n",
    "for i in x:\n",
    "    # find matching exposure to this filename base\n",
    "    tx = np.where( arch_fbase[i] == exp_fbs )[0]\n",
    "    # find all matching subtractions for the exposure\n",
    "    sx = np.where( sub_eid == exp_id[tx] )[0]\n",
    "    if len(tx) == 1:\n",
    "        print(i,arch_class[i],exp_fbs[tx],len(sx))"
   ]
  },
  {
   "cell_type": "code",
   "execution_count": null,
   "id": "29cad167-e78a-4fd6-add7-4e52102c0283",
   "metadata": {},
   "outputs": [],
   "source": []
  },
  {
   "cell_type": "code",
   "execution_count": null,
   "id": "a44c1216-fd87-4ace-8846-5863f89039d6",
   "metadata": {},
   "outputs": [],
   "source": []
  }
 ],
 "metadata": {
  "kernelspec": {
   "display_name": "Python 3",
   "language": "python",
   "name": "python3"
  },
  "language_info": {
   "codemirror_mode": {
    "name": "ipython",
    "version": 3
   },
   "file_extension": ".py",
   "mimetype": "text/x-python",
   "name": "python",
   "nbconvert_exporter": "python",
   "pygments_lexer": "ipython3",
   "version": "3.7.4"
  }
 },
 "nbformat": 4,
 "nbformat_minor": 5
}
