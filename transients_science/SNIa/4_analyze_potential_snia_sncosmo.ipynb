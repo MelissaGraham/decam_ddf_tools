{
 "cells": [
  {
   "cell_type": "markdown",
   "id": "78028554-e03f-43d8-ade8-eae961e01340",
   "metadata": {
    "tags": []
   },
   "source": [
    "# Analyze the fit results from `sncosmo`\n",
    "\n",
    "Authors: Midori Rollins and Melissa Graham\n",
    "\n",
    "*Description to go here.*"
   ]
  },
  {
   "cell_type": "markdown",
   "id": "2eb32894-aa32-441a-9681-f10e255bb987",
   "metadata": {},
   "source": [
    "## Set up and read in the data\n",
    "\n",
    "Import packages."
   ]
  },
  {
   "cell_type": "code",
   "execution_count": 1,
   "id": "2c159a03-6baf-4cfc-ae6d-066fb60a0d4b",
   "metadata": {
    "tags": []
   },
   "outputs": [],
   "source": [
    "import numpy as np\n",
    "import matplotlib.pyplot as plt\n",
    "import time"
   ]
  },
  {
   "cell_type": "markdown",
   "id": "c31530c8-7045-40c4-8de9-de7dfb4f3076",
   "metadata": {},
   "source": [
    "Read in the `sncosmo` results."
   ]
  },
  {
   "cell_type": "code",
   "execution_count": 2,
   "id": "19f6ee8c-0297-4136-9fb1-8676174a9d27",
   "metadata": {
    "tags": []
   },
   "outputs": [],
   "source": [
    "fnm = 'all_fit_snia_files/results_sncosmos.dat'\n",
    "\n",
    "fit_cand = np.loadtxt(fnm, dtype='str', usecols=(0))\n",
    "fit_est_z = np.loadtxt(fnm, dtype='float', usecols=(1))\n",
    "fit_in_zlo = np.loadtxt(fnm, dtype='float', usecols=(2))\n",
    "fit_in_zhi = np.loadtxt(fnm, dtype='float', usecols=(3))\n",
    "fit_z = np.loadtxt(fnm, dtype='float', usecols=(4))\n",
    "fit_ze = np.loadtxt(fnm, dtype='float', usecols=(5))\n",
    "fit_t0 = np.loadtxt(fnm, dtype='float', usecols=(6))\n",
    "fit_t0e = np.loadtxt(fnm, dtype='float', usecols=(7))\n",
    "fit_x0 = np.loadtxt(fnm, dtype='float', usecols=(8))\n",
    "fit_x0e = np.loadtxt(fnm, dtype='float', usecols=(9))\n",
    "fit_x1 = np.loadtxt(fnm, dtype='float', usecols=(10))\n",
    "fit_x1e = np.loadtxt(fnm, dtype='float', usecols=(11))\n",
    "fit_c = np.loadtxt(fnm, dtype='float', usecols=(12))\n",
    "fit_ce = np.loadtxt(fnm, dtype='float', usecols=(13))\n",
    "\n",
    "fit_pmB = np.loadtxt(fnm, dtype='float', usecols=(14))\n",
    "fit_pmg = np.loadtxt(fnm, dtype='float', usecols=(15))\n",
    "fit_pmr = np.loadtxt(fnm, dtype='float', usecols=(16))\n",
    "fit_pmi = np.loadtxt(fnm, dtype='float', usecols=(17))\n",
    "\n",
    "del fnm"
   ]
  },
  {
   "cell_type": "markdown",
   "id": "b10a1232-63df-4df5-98ec-4179093ae6dc",
   "metadata": {},
   "source": [
    "And the review flags."
   ]
  },
  {
   "cell_type": "code",
   "execution_count": null,
   "id": "4e0a8861-5562-4df6-868b-1a688bcbf400",
   "metadata": {},
   "outputs": [],
   "source": [
    "fnm = 'all_fit_snia_files/results_sncosmos_fit_review.dat'\n",
    "fit_flag = np.loadtxt(fnm, dtype='int', usecols=(1))\n",
    "del fnm"
   ]
  },
  {
   "cell_type": "markdown",
   "id": "ccc5a5df-5a73-4da5-ac83-a7486b91120f",
   "metadata": {},
   "source": [
    "## Convert fit parameters to standard SNIa paramters\n",
    "\n",
    "We have used `sncosmo` with the SALT-2 lightcurve fitter,\n",
    "(<a href=\"https://ui.adsabs.harvard.edu/abs/2007A%26A...466...11G/abstract\">Guy et al. 2007</a>).\n",
    "\n",
    "The five fit parameters are:\n",
    " * `z`  : redshift\n",
    " * `t0` : time of peak brightness (MJD)\n",
    " * `x0` : flux normalization (a proxy for peak brightness)\n",
    " * `x1` : a proxy for lightcurve decline rate (or stretch factor)\n",
    " * `c`  : color offset\n",
    " \n",
    "### `z` and `t0`\n",
    "\n",
    "These two are standard, self-explanatory parameters and do not need any further conversions.\n",
    "\n",
    "### `x0` \n",
    "\n",
    "This is the SED normalization in the SALT2 fits, and a conversion from it to \n",
    "peak apparent brightness can be done with \n",
    "$m_{B} = −2.5\\log(x_{0}) + 10.635$ \n",
    "from <a href=\"https://arxiv.org/abs/1401.4065\">Mosher et al. (2014)</a>.\n",
    "\n",
    "However, this isn't necessary as the peak brightness in Bessel B, and sdss g, r, and i \n",
    "are all in the fit results file already.\n",
    "\n",
    "\n",
    "### `x1`\n",
    "\n",
    "#### To decline rate\n",
    "\n",
    "$\\Delta m_{15}$ is the change in magnitude (it is standard to report this in the B-band)\n",
    "during the first 15 days after peak brightness, and is commonly refered to as the\n",
    "decline rate.\n",
    "\n",
    "Section 5 of Guy+07 gives the conversion between $x_1$ and $\\Delta m_{15}$ as:\n",
    "\n",
    "> $\\Delta m_{15} = 1.09 - 0.161x_{1} + 0.013x_{1}^{2} - 0.00130x_{1}^{3}$\n",
    "\n",
    "SNIa with a larger value of $\\Delta m_{15}$ decline faster, and typically have reached\n",
    "fainter peak brightness.\n",
    "\n",
    "#### To stretch\n",
    "\n",
    "The stretch parameter, $s$, is another parameterization of the width or decline rate\n",
    "of the SNIa which also incorporates the rise time, and was defined in\n",
    "<a href=\"https://ui.adsabs.harvard.edu/abs/1997ApJ...483..565P/abstract\">Perlmutter et al. 1997</a>.\n",
    "\n",
    "Section 5 of Guy+07 gives the conversion between $x_1$ and $s$ as:\n",
    "\n",
    "> $s = 0.98 + 0.091 x_1 + 0.003 x_1^2 - 0.00075 x_1^3$\n",
    "\n",
    "SNIa with a larger stretch value have a narrower-width lightcurve that has reached a fainter peak.\n",
    "\n",
    "\n",
    "### `c` \n",
    "\n",
    "Section 2 of Guy+07 describes this as \n",
    "*\"...a color offset with respect to the average at the date maximum luminosity in B-band, \n",
    "$c = (B-V)_{\\rm MAX} - \\left< B-V \\right>$ ...\"*.\n",
    "\n",
    "In this case, $(B-V)_{\\rm MAX}$ is the color of the fit SNIa at maximum, \n",
    "and $\\left< B-V \\right>$ is the average color for SNIa in general.\n",
    "\n",
    "What does the value of $c$ indicate about the fit SNIa's color? Let's reason it out:\n",
    " * When $c < 0$, that means $(B-V)_{\\rm MAX} < \\left< B-V \\right>$.\n",
    " * The fit SNIa has a $B-V$ value that is lower than average.\n",
    " * This means either $B$ is smaller or $V$ is larger.\n",
    " * Since we're in magnitudes, that means $B$ is brighter or $V$ is fainter.\n",
    " * And $B$ being brighter or $V$ being fainter means the SNIa is *bluer*.\n",
    " * So when $c < 0$, the fit SNIa is bluer than a typical SNIa.\n",
    " * And vice versa, when $c > 0$ the fit SNIa is redder than a typical SNIa.\n",
    "\n",
    "This is important to understand because SNIa that are intrinsically brighter are bluer,\n",
    "and we should see this correlation in our fit results."
   ]
  },
  {
   "cell_type": "markdown",
   "id": "baed18a1-7823-4a17-9e7e-ab42f2664a37",
   "metadata": {},
   "source": [
    "<br>\n",
    "\n",
    "<br>\n",
    "\n",
    "*Next to do: the conversions.*"
   ]
  },
  {
   "cell_type": "code",
   "execution_count": null,
   "id": "fb544d4f-1493-4e16-8fa2-417e53f1e4e2",
   "metadata": {},
   "outputs": [],
   "source": []
  },
  {
   "cell_type": "code",
   "execution_count": null,
   "id": "ae8a6e87-0e21-4219-9787-466e4aeddd23",
   "metadata": {},
   "outputs": [],
   "source": []
  },
  {
   "cell_type": "code",
   "execution_count": null,
   "id": "462adcb7-a0fc-42f0-8a80-2240c7633233",
   "metadata": {},
   "outputs": [],
   "source": []
  },
  {
   "cell_type": "markdown",
   "id": "8056f703-4058-4a60-9718-e41f68390a22",
   "metadata": {},
   "source": []
  },
  {
   "cell_type": "code",
   "execution_count": null,
   "id": "81c8ea5b-2898-4de6-ae7d-b3d9cc6d7510",
   "metadata": {},
   "outputs": [],
   "source": [
    "import uncertainties as unc  \n",
    "import uncertainties.unumpy as unp\n",
    "\n",
    "x1_with_unc = unp.uarray((new_fit_x1, new_fit_x1e))"
   ]
  },
  {
   "cell_type": "code",
   "execution_count": null,
   "id": "9fb016b5-da83-409a-8498-87d0ccd59857",
   "metadata": {},
   "outputs": [],
   "source": [
    "delta_m15b=[]\n",
    "for i in range(len(new_fit_x1)):\n",
    "    delta_m15b.append(1.09 - (0.161*(x1_with_unc[i])) + (0.013*(x1_with_unc[i])**2) - (0.00130*(x1_with_unc[i])**3))\n",
    "delta_m15b_e = unp.std_devs(delta_m15b)\n",
    "delta_m15b_n = unp.nominal_values(delta_m15b)"
   ]
  },
  {
   "cell_type": "code",
   "execution_count": null,
   "id": "ef6de005-a6af-4ce1-bc62-9e998c9cbf9c",
   "metadata": {},
   "outputs": [],
   "source": [
    "# Look at relationship between x1 and delta m15\n",
    "# plt.scatter(new_fit_x1,delta_m15_n)\n",
    "plt.errorbar(new_fit_x1,delta_m15b_n,xerr=new_fit_x1e,yerr=delta_m15b_e, fmt=\"o\", elinewidth=1.1, ecolor=\"red\")\n",
    "plt.xlabel(\"x1\")\n",
    "plt.ylabel(\"$\\Delta m15$\");"
   ]
  },
  {
   "cell_type": "code",
   "execution_count": null,
   "id": "a0dc1caf-a2da-4fc5-91e4-1bcc5c07a911",
   "metadata": {},
   "outputs": [],
   "source": [
    "x0_with_unc = unp.uarray((new_fit_x0, new_fit_x0e))"
   ]
  },
  {
   "cell_type": "code",
   "execution_count": null,
   "id": "77d2af3a-312c-463c-ae16-1d39c2e1fd41",
   "metadata": {},
   "outputs": [],
   "source": [
    "mb=[]\n",
    "for i in range(len(new_fit_x0)):\n",
    "    mb.append((-2.5*unp.log10(x0_with_unc[i]))+10.635)\n",
    "mb_e = unp.std_devs(mb)\n",
    "mb_n = unp.nominal_values(mb)"
   ]
  },
  {
   "cell_type": "code",
   "execution_count": null,
   "id": "bbb46ab9-180e-4025-b279-46d415cc7bbc",
   "metadata": {},
   "outputs": [],
   "source": [
    "# Look at relationship between x0 and mb\n",
    "#plt.scatter(new_fit_x0,mb_n)\n",
    "plt.errorbar(new_fit_x0,mb_n,xerr=new_fit_x0e,yerr=mb_e, fmt=\"o\", elinewidth=1.1, ecolor=\"red\")\n",
    "plt.xlabel(\"x0\")\n",
    "plt.ylabel(\"mb\");"
   ]
  },
  {
   "cell_type": "markdown",
   "id": "541cdae8-ff4a-4799-a51f-7e5cc3f0bb29",
   "metadata": {},
   "source": [
    "### Calculating $ M_{B}$"
   ]
  },
  {
   "cell_type": "code",
   "execution_count": null,
   "id": "f0f324a5-43ee-4062-9871-87eca8291859",
   "metadata": {},
   "outputs": [],
   "source": [
    "new_fit_z_min = new_fit_z - new_fit_ze\n",
    "new_fit_z_max = new_fit_z + new_fit_ze\n",
    "\n",
    "new_fit_x1_min = new_fit_x1 - new_fit_x1e\n",
    "new_fit_x1_max = new_fit_x1 + new_fit_x1e\n",
    "\n",
    "new_fit_c_min = new_fit_c - new_fit_ce\n",
    "new_fit_c_max = new_fit_c + new_fit_ce"
   ]
  },
  {
   "cell_type": "code",
   "execution_count": null,
   "id": "e1e61c01-285c-4828-8b82-4078cb52afe0",
   "metadata": {},
   "outputs": [],
   "source": [
    "from astropy.cosmology import FlatLambdaCDM\n",
    "import astropy.units as u\n",
    "\n",
    "cosmo = FlatLambdaCDM(H0=70 * u.km / u.s / u.Mpc, Tcmb0=2.725 * u.K, Om0=0.3)\n",
    "alpha_min = 0.13-0.013\n",
    "alpha_max = 0.13+0.013\n",
    "beta_min = 1.77-0.16\n",
    "beta_max = 1.77+0.16\n",
    "\n",
    "abs_mag_min=[]\n",
    "abs_mag_max=[]\n",
    "for i in range(len(new_fit_x0)):\n",
    "    lum_dist_min = cosmo.luminosity_distance(new_fit_z_min[i])\n",
    "    lum_dist_max = cosmo.luminosity_distance(new_fit_z_max[i])\n",
    "    dist_mod_min = (5*np.log10(lum_dist_min.value))+25\n",
    "    dist_mod_max = (5*np.log10(lum_dist_max.value))+25\n",
    "    abs_mag_max.append((mb_n[i]-dist_mod_min)-(alpha_min*new_fit_x1_min[i])+(beta_min*new_fit_c_min[i]))\n",
    "    abs_mag_min.append((mb_n[i]-dist_mod_max)-(alpha_max*new_fit_x1_max[i])+(beta_max*new_fit_c_max[i]))\n",
    "abs_mage = (abs(np.array(abs_mag_min)-np.array(abs_mag_max)))/2\n",
    "abs_mag = abs_mag_min+abs_mage # or abs_mag_max-abs_mage"
   ]
  },
  {
   "cell_type": "code",
   "execution_count": null,
   "id": "6f32d70a-5d65-4e12-a646-55ebcfe0efd5",
   "metadata": {},
   "outputs": [],
   "source": [
    "plt.errorbar(delta_m15b_n,abs_mag, xerr=delta_m15b_e, yerr=abs_mage, fmt=\"o\", elinewidth=1.1, ecolor=\"red\")\n",
    "plt.xlabel(\"$\\Delta m_{15B}$\")\n",
    "plt.ylabel(\"$M_{B}$\")\n",
    "plt.gca().invert_yaxis();"
   ]
  },
  {
   "cell_type": "code",
   "execution_count": null,
   "id": "e460524c-e035-419c-922a-e3487217b10a",
   "metadata": {},
   "outputs": [],
   "source": [
    "plt.errorbar(new_fit_z, mb_n, xerr=new_fit_ze, yerr=mb_e, fmt=\"o\",elinewidth=1.1, ecolor=\"red\")\n",
    "plt.xlabel('z')\n",
    "plt.ylabel('mb');"
   ]
  },
  {
   "cell_type": "markdown",
   "id": "a75f2524-2a45-40cd-a29a-ce4c16b727b9",
   "metadata": {},
   "source": [
    "## Comparing relations between parameters"
   ]
  },
  {
   "cell_type": "markdown",
   "id": "51c4e5bf-294d-4b95-bd06-c71143d1befe",
   "metadata": {},
   "source": [
    "### Comparison between original parameters"
   ]
  },
  {
   "cell_type": "code",
   "execution_count": null,
   "id": "a5c7b7e3-c7df-4885-bc2f-53a33340a6c4",
   "metadata": {},
   "outputs": [],
   "source": [
    "fig, ax = plt.subplots(1, 3)\n",
    "fig.set_size_inches(13, 5)\n",
    "\n",
    "ax[0].scatter(new_fit_x0, new_fit_x1, color='slateblue')\n",
    "ax[0].set_xlabel('x0')\n",
    "ax[0].set_ylabel('x1')\n",
    "\n",
    "ax[1].scatter(new_fit_x0, new_fit_c, color='orchid')\n",
    "ax[1].set_xlabel('x0')\n",
    "ax[1].set_ylabel('c')\n",
    "\n",
    "ax[2].scatter(new_fit_x1, new_fit_c, color='seagreen')\n",
    "ax[2].set_xlabel('x1')\n",
    "ax[2].set_ylabel('c')\n",
    "\n",
    "fig.tight_layout()\n",
    "fig.show()"
   ]
  },
  {
   "cell_type": "markdown",
   "id": "7ea59893-bd18-4d33-ba8e-1301eff9e929",
   "metadata": {},
   "source": [
    "### Comparison between converted parameters"
   ]
  },
  {
   "cell_type": "code",
   "execution_count": null,
   "id": "245c7fe5-5745-4d4d-9852-9cd673e214fb",
   "metadata": {},
   "outputs": [],
   "source": [
    "fig, ax = plt.subplots(1, 3)\n",
    "fig.set_size_inches(13, 5)\n",
    "\n",
    "ax[0].scatter(mb_n, delta_m15b_n, color='slateblue')\n",
    "ax[0].set_xlabel(\"$m_{B}$\")\n",
    "ax[0].set_ylabel(\"$\\Delta m_{15B}$\")\n",
    "\n",
    "ax[1].scatter(mb_n, new_fit_c, color='orchid')\n",
    "ax[1].set_xlabel(\"$m_{B}$\")\n",
    "ax[1].set_ylabel('c')\n",
    "\n",
    "ax[2].scatter(delta_m15b_n, new_fit_c, color='seagreen')\n",
    "ax[2].set_xlabel(\"$\\Delta m_{15B}$\")\n",
    "ax[2].set_ylabel('c')\n",
    "\n",
    "fig.tight_layout()\n",
    "fig.show()"
   ]
  },
  {
   "cell_type": "markdown",
   "id": "dfa0bef4-87f8-4c5b-90ab-93091ada5dff",
   "metadata": {},
   "source": [
    "### Comparison between abs mag $M_{B}$, and original & converted parameters"
   ]
  },
  {
   "cell_type": "code",
   "execution_count": null,
   "id": "c7eda064-182f-4e22-b278-ca842d2e0793",
   "metadata": {},
   "outputs": [],
   "source": [
    "fig, ax = plt.subplots(2, 3)\n",
    "fig.set_size_inches(13, 9)\n",
    "\n",
    "ax[0,0].scatter(mb_n, abs_mag, color='slateblue')\n",
    "ax[0,0].set_xlabel(\"$m_{B}$\")\n",
    "ax[0,0].set_ylabel(\"$M_{B}$\")\n",
    "ax[0,0].invert_yaxis()\n",
    "ax[0,0].invert_xaxis()\n",
    "\n",
    "ax[0,1].scatter(delta_m15b_n, abs_mag, color='orchid')\n",
    "ax[0,1].set_xlabel(\"$\\Delta m_{15B}$\")\n",
    "ax[0,1].set_ylabel(\"$M_{B}$\")\n",
    "ax[0,1].invert_yaxis()\n",
    "\n",
    "ax[0,2].scatter(new_fit_z, abs_mag, color='seagreen')\n",
    "ax[0,2].set_xlabel('z')\n",
    "ax[0,2].set_ylabel(\"$M_{B}$\")\n",
    "ax[0,2].invert_yaxis()\n",
    "\n",
    "ax[1,0].scatter(new_fit_x0, abs_mag, color='maroon')\n",
    "ax[1,0].set_xlabel('x0')\n",
    "ax[1,0].set_ylabel(\"$M_{B}$\")\n",
    "ax[1,0].invert_yaxis()\n",
    "\n",
    "ax[1,1].scatter(new_fit_x1, abs_mag, color='goldenrod')\n",
    "ax[1,1].set_xlabel('x1')\n",
    "ax[1,1].set_ylabel(\"$M_{B}$\")\n",
    "ax[1,1].invert_yaxis()\n",
    "\n",
    "ax[1,2].scatter(new_fit_c, abs_mag, color='blueviolet')\n",
    "ax[1,2].set_xlabel('c')\n",
    "ax[1,2].set_ylabel(\"$M_{B}$\")\n",
    "ax[1,2].invert_yaxis()\n",
    "\n",
    "fig.tight_layout()\n",
    "fig.show();"
   ]
  },
  {
   "cell_type": "markdown",
   "id": "4c066e2d-a267-4ea4-a85c-251d8508a49e",
   "metadata": {},
   "source": [
    "### Rating the fits\n",
    "\n",
    "After looking through the PDF of fits for all candidates, I have given them a rating of good, maybe, or bad.\n",
    "\n",
    ">**Good**: sncosmo fits our data very well; our data captures both the rise and fall of the supernova; has typical parameter values w/out large errors\n",
    "\n",
    ">**Maybe**: sncosmo fits our data somewhat well; not enough data/our data only captures the incline/decline of the supernova; may have abnormal parameter values & large errors; missing in a band\n",
    "\n",
    ">**Bad**: sncosmo does not fit our data well; our data is bad/clearly not type 1a-like; has abnormal parameter values w/ large errors"
   ]
  },
  {
   "cell_type": "code",
   "execution_count": null,
   "id": "a2670b28-a5f7-4f18-aaa0-a9b038abcfaf",
   "metadata": {},
   "outputs": [],
   "source": [
    "good=[1,4,6,7,9,11,12,13,14,19,20,23,24,25,28,37,45,47,59,66,69,70,75,81]\n",
    "maybe=[3,15,16,17,22,26,27,29,34,35,39,46,51,54,55,56,57,58,60,61,62,63,64,67,68,72,73,79,83,84]\n",
    "bad=[0,2,5,8,10,18,21,30,31,32,33,36,38,40,41,42,43,44,48,49,50,52,53,65,71,74,76,77,78,80,82]"
   ]
  },
  {
   "cell_type": "code",
   "execution_count": null,
   "id": "e803515e-d538-4fde-b8a7-8fc2184c6e22",
   "metadata": {
    "tags": []
   },
   "outputs": [],
   "source": [
    "# creating flags for good, maybe, and bad indices\n",
    "flag = np.zeros(len(fit_x1),dtype='int')\n",
    "flag[good]=0\n",
    "flag[maybe]=1\n",
    "flag[bad]=2\n",
    "\n",
    "# defining lists for our plot parameters\n",
    "colors=['green','gold','red']\n",
    "labels=['good','maybe','bad']\n",
    "names=[\"x0\",\"x0 error\",\"x1\",\"x1 error\",\"c\",\"c error\",\"z\",\"z error\",\"t0\",\"t0 error\"]\n",
    "\n",
    "# defining various bin values for better visuals\n",
    "bin1=[2,2,20]\n",
    "bin2=[5,5,20]\n",
    "bin3=[10,10,20]\n",
    "bin4=[15,15,20]"
   ]
  },
  {
   "cell_type": "markdown",
   "id": "bf05421f-087b-404a-a876-e8c02cf00430",
   "metadata": {},
   "source": [
    "### Plotting the rated distributions"
   ]
  },
  {
   "cell_type": "code",
   "execution_count": null,
   "id": "a040434a-487f-45d2-9b56-b8a9c5563513",
   "metadata": {
    "tags": []
   },
   "outputs": [],
   "source": [
    "fig, ax = plt.subplots(5, 2)### Looking at the fit parameter distributions\n",
    "fig.set_size_inches(16, 16)\n",
    "plt.subplots_adjust(hspace=0.3)\n",
    "\n",
    "ax[0,0].hist(fit_x0, bins=20, density=False, histtype='stepfilled', color='lightgrey', label='all values')\n",
    "for i in range(3):\n",
    "    tx=np.where(flag==i)[0]\n",
    "    ax[0,0].hist(fit_x0[tx], bins=bin3[i], density=False, histtype='step', color=colors[i], label=labels[i])\n",
    "    ax[0,0].set_xlabel(\"x0\")\n",
    "    ax[0,0].legend()\n",
    "    \n",
    "ax[0,1].hist(fit_x0e, bins=20, density=False, histtype='stepfilled', color='lightgrey', label='all values')\n",
    "for i in range(3):\n",
    "    tx=np.where(flag==i)[0]\n",
    "    ax[0,1].hist(fit_x0e[tx], bins=bin1[i], density=False, histtype='step', color=colors[i], label=labels[i])\n",
    "    ax[0,1].set_xlabel(\"x0 error\")\n",
    "    # ax[0,1].legend()\n",
    "\n",
    "ax[1,0].hist(fit_x1, bins=20, density=False, histtype='stepfilled', color='lightgrey', label='all values')\n",
    "for i in range(3):\n",
    "    tx=np.where(flag==i)[0]\n",
    "    ax[1,0].hist(fit_x1[tx], bins=bin2[i], density=False, histtype='step', color=colors[i], label=labels[i])\n",
    "    ax[1,0].set_xlabel(\"x1\")\n",
    "    # ax[1,0].legend()\n",
    "    \n",
    "ax[1,1].hist(fit_x1e, bins=20, density=False, histtype='stepfilled', color='lightgrey', label='all values')\n",
    "for i in range(3):\n",
    "    tx=np.where(flag==i)[0]\n",
    "    ax[1,1].hist(fit_x1e[tx], bins=bin1[i], density=False, histtype='step', color=colors[i], label=labels[i])\n",
    "    ax[1,1].set_xlabel(\"x1 error\")\n",
    "    # ax[1,1].legend()\n",
    "    \n",
    "ax[2,0].hist(fit_c, bins=20, density=False, histtype='stepfilled', color='lightgrey', label='all values')\n",
    "for i in range(3):\n",
    "    tx=np.where(flag==i)[0]\n",
    "    ax[2,0].hist(fit_c[tx], bins=bin2[i], density=False, histtype='step', color=colors[i], label=labels[i])\n",
    "    ax[2,0].set_xlabel(\"c\")\n",
    "    # ax[2,0].legend()\n",
    "    \n",
    "ax[2,1].hist(fit_ce, bins=20, density=False, histtype='stepfilled', color='lightgrey', label='all values')\n",
    "for i in range(3):\n",
    "    tx=np.where(flag==i)[0]\n",
    "    ax[2,1].hist(fit_ce[tx], bins=bin2[i], density=False, histtype='step', color=colors[i], label=labels[i])\n",
    "    ax[2,1].set_xlabel(\"c error\")\n",
    "    # ax[2,1].legend()\n",
    "    \n",
    "ax[3,0].hist(fit_z, bins=20, density=False, histtype='stepfilled', color='lightgrey', label='all values')\n",
    "for i in range(3):\n",
    "    tx=np.where(flag==i)[0]\n",
    "    ax[3,0].hist(fit_z[tx], bins=bin4[i], density=False, histtype='step', color=colors[i], label=labels[i])\n",
    "    ax[3,0].set_xlabel(\"z\")\n",
    "    # ax[3,0].legend()\n",
    "    \n",
    "ax[3,1].hist(fit_ze, bins=20, density=False, histtype='stepfilled', color='lightgrey', label='all values')\n",
    "for i in range(3):\n",
    "    tx=np.where(flag==i)[0]\n",
    "    ax[3,1].hist(fit_ze[tx], bins=bin3[i], density=False, histtype='step', color=colors[i], label=labels[i])\n",
    "    ax[3,1].set_xlabel(\"z error\")\n",
    "    # ax[3,1].legend()\n",
    "    \n",
    "ax[4,0].hist(fit_t0, bins=20, density=False, histtype='stepfilled', color='lightgrey', label='all values')\n",
    "for i in range(3):\n",
    "    tx=np.where(flag==i)[0]\n",
    "    ax[4,0].hist(fit_t0[tx], bins=bin4[i], density=False, histtype='step', color=colors[i], label=labels[i])\n",
    "    ax[4,0].set_xlabel(\"t0\")\n",
    "    # ax[4,0].legend()\n",
    "    \n",
    "ax[4,1].hist(fit_t0e, bins=20, density=False, histtype='stepfilled', color='lightgrey', label='all values')\n",
    "for i in range(3):\n",
    "    tx=np.where(flag==i)[0]\n",
    "    ax[4,1].hist(fit_t0e[tx], bins=bin1[i], density=False, histtype='step', color=colors[i], label=labels[i])\n",
    "    ax[4,1].set_xlabel(\"t0 error\")\n",
    "    # ax[4,1].legend()"
   ]
  },
  {
   "cell_type": "markdown",
   "id": "43b5e8d7-855c-4259-b8d4-e872a28ed444",
   "metadata": {},
   "source": [
    "### Recomparing relations between parameters w/ rated data"
   ]
  },
  {
   "cell_type": "markdown",
   "id": "109fb3f9-b242-431e-bedd-99ce6cc3eed6",
   "metadata": {},
   "source": [
    "#### Comparison between original parameters w/ rated data"
   ]
  },
  {
   "cell_type": "code",
   "execution_count": null,
   "id": "bf4c8f3e-0b2d-4bf5-8c62-b13017b59558",
   "metadata": {
    "tags": []
   },
   "outputs": [],
   "source": [
    "fig, ax = plt.subplots(1, 3)\n",
    "fig.set_size_inches(15, 5)\n",
    "plt.subplots_adjust(wspace=0.3)\n",
    "\n",
    "for i in range(3):\n",
    "    tx=np.where(flag==i)[0]\n",
    "    ax[0].scatter(fit_x0[tx], fit_x1[tx],color=colors[i], label=labels[i])\n",
    "    ax[0].set_xlabel(\"x0\")\n",
    "    ax[0].set_ylabel(\"x1\")\n",
    "    ax[0].legend()\n",
    "    \n",
    "for i in range(3):\n",
    "    tx=np.where(flag==i)[0]\n",
    "    ax[1].scatter(fit_x0[tx], fit_c[tx], color=colors[i], label=labels[i])\n",
    "    ax[1].set_xlabel(\"x0\")\n",
    "    ax[1].set_ylabel(\"c\")\n",
    "    ax[1].legend()\n",
    "    \n",
    "for i in range(3):\n",
    "    tx=np.where(flag==i)[0]\n",
    "    ax[2].scatter(fit_x1[tx], fit_c[tx],color=colors[i], label=labels[i])\n",
    "    ax[2].set_xlabel(\"x1\")\n",
    "    ax[2].set_ylabel(\"c\")\n",
    "    ax[2].legend()\n"
   ]
  },
  {
   "cell_type": "markdown",
   "id": "109b128a-1bb3-42f2-bb95-426a8bba26a1",
   "metadata": {},
   "source": [
    "#### Comparison between converted parameters w/ rated data"
   ]
  },
  {
   "cell_type": "code",
   "execution_count": null,
   "id": "68175e07-25ae-4899-bf29-5fc2f073f854",
   "metadata": {},
   "outputs": [],
   "source": [
    "x1_with_unc = unp.uarray((fit_x1, fit_x1e))\n",
    "delta_m15b=[]\n",
    "for i in range(len(fit_x1)):\n",
    "    delta_m15b.append(1.09 - (0.161*(x1_with_unc[i])) + (0.013*(x1_with_unc[i])**2) - (0.00130*(x1_with_unc[i])**3))\n",
    "delta_m15b_e = unp.std_devs(delta_m15b)\n",
    "delta_m15b_n = unp.nominal_values(delta_m15b)"
   ]
  },
  {
   "cell_type": "code",
   "execution_count": null,
   "id": "f84da8c4-3fd0-41ae-bf4b-295c125ac1f6",
   "metadata": {},
   "outputs": [],
   "source": [
    "x0_with_unc = unp.uarray((fit_x0, fit_x0e))\n",
    "mb=[]\n",
    "for i in range(len(fit_x0)):\n",
    "    mb.append((-2.5*unp.log10(x0_with_unc[i]))+10.635)\n",
    "mb_e = unp.std_devs(mb)\n",
    "mb_n = unp.nominal_values(mb)"
   ]
  },
  {
   "cell_type": "code",
   "execution_count": null,
   "id": "2386ed87-822c-4ea7-9f23-87d141bce783",
   "metadata": {},
   "outputs": [],
   "source": [
    "cosmo = FlatLambdaCDM(H0=70 * u.km / u.s / u.Mpc, Tcmb0=2.725 * u.K, Om0=0.3)\n",
    "\n",
    "fit_z_min = fit_z - fit_ze\n",
    "fit_z_max = fit_z + fit_ze\n",
    "fit_x1_min = fit_x1 - fit_x1e\n",
    "fit_x1_max = fit_x1 + fit_x1e\n",
    "fit_c_min = fit_c - fit_ce\n",
    "fit_c_max = fit_c + fit_ce\n",
    "\n",
    "abs_mag_min=[]\n",
    "abs_mag_max=[]\n",
    "for i in range(len(fit_x0)):\n",
    "    lum_dist_min = cosmo.luminosity_distance(fit_z_min[i])\n",
    "    lum_dist_max = cosmo.luminosity_distance(fit_z_max[i])\n",
    "    dist_mod_min = (5*np.log10(lum_dist_min.value))+25\n",
    "    dist_mod_max = (5*np.log10(lum_dist_max.value))+25\n",
    "    abs_mag_max.append((mb_n[i]-dist_mod_min)-(alpha_min*fit_x1_min[i])+(beta_min*fit_c_min[i]))\n",
    "    abs_mag_min.append((mb_n[i]-dist_mod_max)-(alpha_max*fit_x1_max[i])+(beta_max*fit_c_max[i]))\n",
    "abs_mage = (abs(np.array(abs_mag_min)-np.array(abs_mag_max)))/2\n",
    "abs_mag = abs_mag_min+abs_mage # or abs_mag_max-abs_mage"
   ]
  },
  {
   "cell_type": "code",
   "execution_count": null,
   "id": "d0a8931a-8e30-48f7-af73-fb237b5c018b",
   "metadata": {
    "tags": []
   },
   "outputs": [],
   "source": [
    "fig, ax = plt.subplots(1, 3)\n",
    "fig.set_size_inches(12, 5)\n",
    "plt.subplots_adjust(wspace=0.3)\n",
    "\n",
    "for i in range(3):\n",
    "    tx=np.where(flag==i)[0]\n",
    "    ax[0].scatter(mb_n[tx], delta_m15b_n[tx], color=colors[i], label=labels[i])\n",
    "    ax[0].set_xlabel(\"$m_{B}$\")\n",
    "    ax[0].set_ylabel(\"$\\Delta m_{15B}$\")\n",
    "    ax[0].legend()\n",
    "    \n",
    "for i in range(3):\n",
    "    tx=np.where(flag==i)[0]\n",
    "    ax[1].scatter(mb_n[tx], fit_c[tx], color=colors[i], label=labels[i])\n",
    "    ax[1].set_xlabel(\"$m_{B}$\")\n",
    "    ax[1].set_ylabel('c')\n",
    "    \n",
    "for i in range(3):\n",
    "    tx=np.where(flag==i)[0]\n",
    "    ax[2].scatter(delta_m15b_n[tx], fit_c[tx],color=colors[i], label=labels[i])\n",
    "    ax[2].set_xlabel(\"$\\Delta m_{15B}$\")\n",
    "    ax[2].set_ylabel('c')\n"
   ]
  },
  {
   "cell_type": "markdown",
   "id": "ec93c9c9-2661-4b28-a086-11bf781c3cd7",
   "metadata": {},
   "source": [
    "#### Comparison between abs mag $M_{B}$, and original & converted parameters"
   ]
  },
  {
   "cell_type": "code",
   "execution_count": null,
   "id": "d167afe2-473e-4195-b388-3c32119a72c1",
   "metadata": {
    "tags": []
   },
   "outputs": [],
   "source": [
    "fig, ax = plt.subplots(2, 3)\n",
    "fig.set_size_inches(15, 11)\n",
    "\n",
    "for i in range(3):\n",
    "    tx=np.where(flag==i)[0]\n",
    "    ax[0,0].scatter(mb_n[tx], abs_mag[tx], color=colors[i])\n",
    "    ax[0,0].set_xlabel(\"$m_{B}$\")\n",
    "    ax[0,0].set_ylabel(\"$M_{B}$\")\n",
    "    ax[0,0].invert_yaxis()\n",
    "    ax[0,0].invert_xaxis()\n",
    "\n",
    "for i in range(3):\n",
    "    tx=np.where(flag==i)[0]\n",
    "    ax[0,1].scatter(delta_m15b_n[tx], abs_mag[tx], color=colors[i])\n",
    "    ax[0,1].set_xlabel(\"$\\Delta m_{15B}$\")\n",
    "    ax[0,1].set_ylabel(\"$M_{B}$\")\n",
    "    ax[0,1].invert_yaxis()\n",
    "    \n",
    "for i in range(3):\n",
    "    tx=np.where(flag==i)[0]\n",
    "    ax[0,2].scatter(fit_z[tx], abs_mag[tx], color=colors[i])\n",
    "    ax[0,2].set_xlabel('z')\n",
    "    ax[0,2].set_ylabel(\"$M_{B}$\")\n",
    "    ax[0,2].invert_yaxis()\n",
    "    \n",
    "for i in range(3):\n",
    "    tx=np.where(flag==i)[0]\n",
    "    ax[1,0].scatter(fit_x0[tx], abs_mag[tx], color=colors[i])\n",
    "    ax[1,0].set_xlabel('x0')\n",
    "    ax[1,0].set_ylabel(\"$M_{B}$\")\n",
    "    ax[1,0].invert_yaxis()\n",
    "    \n",
    "    \n",
    "for i in range(3):\n",
    "    tx=np.where(flag==i)[0]\n",
    "    ax[1,1].scatter(fit_x1[tx], abs_mag[tx], color=colors[i])\n",
    "    ax[1,1].set_xlabel('x1')\n",
    "    ax[1,1].set_ylabel(\"$M_{B}$\")\n",
    "    ax[1,1].invert_yaxis()\n",
    "    \n",
    "for i in range(3):\n",
    "    tx=np.where(flag==i)[0]\n",
    "    ax[1,2].scatter(fit_c[tx], abs_mag[tx], color=colors[i])\n",
    "    ax[1,2].set_xlabel('c')\n",
    "    ax[1,2].set_ylabel(\"$M_{B}$\")\n",
    "    ax[1,2].invert_yaxis()"
   ]
  },
  {
   "cell_type": "markdown",
   "id": "3825b6e8-8ea0-45e7-8bc7-e1a1291a370c",
   "metadata": {},
   "source": [
    "<!-- ### Other Analysis\n",
    "> **True Good:** Candidates that had normal parameter/error values AND had good fits\n",
    "> **True Bad:** Candidates that had outlying parameters/large errors AND had bad fits\n",
    "> **False_Good:** Candidates that had normal parameter/error values AND had bad fits\n",
    "> **False_Bad:** Candidates that had outlying parameters/large errors AND had good fits -->"
   ]
  },
  {
   "cell_type": "code",
   "execution_count": null,
   "id": "843fcc91-e16a-44ec-bf9e-c8eba288a496",
   "metadata": {},
   "outputs": [],
   "source": []
  },
  {
   "cell_type": "code",
   "execution_count": null,
   "id": "d73c5ce1-5f49-45ec-ae4c-00c06fe56e3c",
   "metadata": {},
   "outputs": [],
   "source": []
  }
 ],
 "metadata": {
  "kernelspec": {
   "display_name": "NERSC Python",
   "language": "python",
   "name": "python3"
  },
  "language_info": {
   "codemirror_mode": {
    "name": "ipython",
    "version": 3
   },
   "file_extension": ".py",
   "mimetype": "text/x-python",
   "name": "python",
   "nbconvert_exporter": "python",
   "pygments_lexer": "ipython3",
   "version": "3.9.7"
  }
 },
 "nbformat": 4,
 "nbformat_minor": 5
}
