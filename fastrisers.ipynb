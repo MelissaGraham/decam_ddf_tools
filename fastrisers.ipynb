{
 "cells": [
  {
   "cell_type": "code",
   "execution_count": 1,
   "id": "f5c380a7-8f00-4ebe-a205-25511f229ea3",
   "metadata": {},
   "outputs": [],
   "source": [
    "# For passwords & database access:\n",
    "import psycopg2\n",
    "import psycopg2.extras\n",
    "import getpass\n",
    "\n",
    "# For plotting\n",
    "import matplotlib.pyplot as plt\n",
    "import matplotlib\n",
    "from IPython.display import display\n",
    "import ipywidgets\n",
    "\n",
    "# For math\n",
    "import numpy as np\n",
    "import pandas as pd"
   ]
  },
  {
   "cell_type": "markdown",
   "id": "5abd8c34-dfbd-4a6d-9106-bce3207b8b28",
   "metadata": {},
   "source": [
    "This notebook searches the COSMOS field for candidates that (on their first night of detection) rose by at least 0.2 mag over at least 4 detections"
   ]
  },
  {
   "cell_type": "code",
   "execution_count": 2,
   "id": "dc45187c-bec5-4f20-a62b-322f0c690a27",
   "metadata": {},
   "outputs": [
    {
     "name": "stdin",
     "output_type": "stream",
     "text": [
      "DB User:  kennedyt\n",
      "DB Password:  ············\n"
     ]
    }
   ],
   "source": [
    "# Logging in\n",
    "dbuser = input(\"DB User: \")\n",
    "dbpasswd = getpass.getpass(\"DB Password: \")\n",
    "db = psycopg2.connect( f\"dbname='decat' user='{dbuser}' password='{dbpasswd}' host='decatdb.lbl.gov'\" )\n",
    "\n",
    "db.autocommit = True # Makes the computer nicer about SQL syntax errors\n",
    "\n",
    "cursor = db.cursor( cursor_factory = psycopg2.extras.DictCursor )"
   ]
  },
  {
   "cell_type": "markdown",
   "id": "7f199da9-0356-4416-aafc-3a4bd3d30718",
   "metadata": {},
   "source": [
    "#### The filter"
   ]
  },
  {
   "cell_type": "code",
   "execution_count": 3,
   "id": "eb7acdb5-5621-4637-b606-3aeecb982020",
   "metadata": {},
   "outputs": [],
   "source": [
    "# Get a list of every MJD for which we have a COSMOS image\n",
    "\n",
    "query = ('SELECT e.mjd FROM exposures e '\n",
    "         'WHERE q3c_radial_query(e.ra,e.dec,150,2.2,3) '\n",
    "         'AND e.mjd < 59377 ' \n",
    "         'LIMIT 10000000')\n",
    "cursor.execute( query )\n",
    "\n",
    "datesquery = cursor.fetchall()"
   ]
  },
  {
   "cell_type": "code",
   "execution_count": 4,
   "id": "cdf1281d-0876-4012-857c-8e9d41315e97",
   "metadata": {},
   "outputs": [
    {
     "data": {
      "text/plain": [
       "array([59292., 59295., 59297., 59301., 59304., 59307., 59310., 59313.,\n",
       "       59316., 59319., 59322., 59325., 59329., 59331., 59333., 59337.,\n",
       "       59340., 59343., 59346., 59349., 59352., 59356., 59358., 59361.,\n",
       "       59364., 59367., 59370., 59373., 59376.])"
      ]
     },
     "execution_count": 4,
     "metadata": {},
     "output_type": "execute_result"
    }
   ],
   "source": [
    "# Make a list of every observing night (by rounding to the nearest MJD)\n",
    "odates = np.unique( np.round( datesquery ) )\n",
    "odates"
   ]
  },
  {
   "cell_type": "code",
   "execution_count": 5,
   "id": "c0400f48-8d56-4c86-ad83-bd4aaf6548a3",
   "metadata": {},
   "outputs": [
    {
     "name": "stderr",
     "output_type": "stream",
     "text": [
      "/usr/common/software/python/3.7-anaconda-2019.10/lib/python3.7/site-packages/ipykernel_launcher.py:70: FutureWarning: elementwise comparison failed; returning scalar instead, but in the future will perform elementwise comparison\n"
     ]
    }
   ],
   "source": [
    "fr = []\n",
    "frdates = []\n",
    "for field in [\"COSMOS\", \"ELIAS\"]:\n",
    "    for fil in [\"g\",\"r\",\"i\"]:\n",
    "        tempfr = [] # List for the names of fast-rising candidates\n",
    "        tempfrdates = [] # List for the dates on which fast riser behavior was observed\n",
    "\n",
    "        oldcands = np.array( [] ) # used to check if candidates have been detected before\n",
    "\n",
    "        for i in range(len(odates)):\n",
    "            # Loop through each observing night\n",
    "            # Grab all detections within a day of the night in question\n",
    "            lodate = odates[i] - 1\n",
    "            hidate = odates[i] + 1\n",
    "            if field == \"COSMOS\":\n",
    "                query = ('SELECT o.candidate_id, o.id, e.mjd, o.mag, o.rb, e.id FROM objects o '\n",
    "                         'JOIN subtractions s ON s.id=o.subtraction_id '\n",
    "                         'JOIN exposures e on s.exposure_id = e.id '\n",
    "                         'WHERE q3c_radial_query(e.ra,e.dec,150,2.2,3) '\n",
    "                         'AND o.rb > 0.4 '\n",
    "                         'AND e.mjd > %s '\n",
    "                         'AND e.mjd < %s '\n",
    "                         'AND e.filter = %s'\n",
    "                         'AND e.mjd < 59377 ' \n",
    "                         'LIMIT 10000000')\n",
    "            elif field == \"ELIAS\":\n",
    "                query = ('SELECT o.candidate_id, o.id, e.mjd, o.mag, o.rb, e.id FROM objects o '\n",
    "                         'JOIN subtractions s ON s.id=o.subtraction_id '\n",
    "                         'JOIN exposures e on s.exposure_id = e.id '\n",
    "                         'WHERE q3c_radial_query(o.ra,o.dec,8.5,-43.5,2) '\n",
    "                         'AND o.rb > 0.4 '\n",
    "                         'AND e.mjd > %s '\n",
    "                         'AND e.mjd < %s '\n",
    "                         'AND e.filter = %s'\n",
    "                         'AND e.mjd < 59377 ' \n",
    "                         'LIMIT 10000000')\n",
    "            cursor.execute( query, ( lodate, hidate, fil ) )\n",
    "\n",
    "            # Store that nights detections in an array\n",
    "            tempres = np.array( cursor.fetchall(), dtype=str ).transpose()\n",
    "\n",
    "            if len( tempres ) > 0: # Eliminates errors from gaps in the ELIAS observations by skipping empty nights\n",
    "                # Cut out duplicate objects\n",
    "                dupearr = np.array( [tempres[0], tempres[2], tempres[3], tempres[4], tempres[5]] ).transpose()\n",
    "                dupearr = [ \" \".join(j) for j in dupearr ]\n",
    "                dupearr, ind = np.unique( dupearr, return_index=True )\n",
    "\n",
    "                # Rejoin the array without the duplicates\n",
    "                uarr = np.array( [ i.split(\" \") for i in dupearr ] ).transpose()\n",
    "                res = np.array( [uarr[0], tempres[1][ind], uarr[1], uarr[2], uarr[3], uarr[4]] )\n",
    "\n",
    "                # Create an array of each unique candidate detected that night\n",
    "                ucands, uind, ucounts = np.unique( res[0], return_counts=True, return_index=True )\n",
    "\n",
    "                # Isolate those with at least 4 detections\n",
    "                goodcands = ucands[ ucounts > 3 ]\n",
    "\n",
    "\n",
    "                # Make an array of detections for each of those candidates, store all of those arrays in \"arr\"\n",
    "                arr = np.ones( len( goodcands ), dtype=object )\n",
    "                for j in range( len( goodcands ) ):\n",
    "                    arr[j] = res[:,res[0,:] == goodcands[j]]\n",
    "                # Mask out those that \n",
    "                # A) have been detected in previous nights, \n",
    "                # B) don't rise in every subsequent detection, or \n",
    "                # C) don't change by at least 0.2 mag\n",
    "                good = np.ones( len( arr ), dtype=bool )\n",
    "                for j in range( len( arr ) ):\n",
    "                    # A)\n",
    "                    if arr[j][0][0] in oldcands:\n",
    "                        good[j] = False\n",
    "                    for k in range( len( arr[j][3] ) - 1 ):\n",
    "                        # B)\n",
    "                        if arr[j][3][k] < arr[j][3][k + 1]:\n",
    "                            good[j] = False\n",
    "                        # C)\n",
    "                        if np.max( arr[j][3].astype(float) ) - np.min( arr[j][3].astype(float) ) < 0.2:\n",
    "                            good[j] = False\n",
    "\n",
    "                # Apply those cuts and append the candidates that passed to fr and frdates\n",
    "                for j in range( len( arr[good] ) ):\n",
    "                    tempfr.append( arr[good][j][0][0] )\n",
    "                    tempfrdates.append( [lodate, hidate] )\n",
    "\n",
    "            # Make a note of all candidates detected this night (for cutting out things that have been previously detected)\n",
    "            oldcands = np.append( oldcands, ucands )\n",
    "            fr.append(tempfr)\n",
    "            frdates.append(tempfrdates)\n",
    "\n",
    "            \n",
    "\n",
    "x = []\n",
    "ind = np.unique(fr, return_index=True)[1]\n",
    "for i in [fr[ind] for ind in sorted(ind)]:\n",
    "    x.extend(i)\n",
    "fr = x\n",
    "\n",
    "y = []\n",
    "ind = np.unique(frdates, return_index=True)[1]\n",
    "for i in [frdates[ind] for ind in sorted(ind)]:\n",
    "    y.extend(i)\n",
    "frdates = y\n",
    "del x, y, ind"
   ]
  },
  {
   "cell_type": "code",
   "execution_count": 6,
   "id": "02e36ba9-d9b0-463c-b4be-abe450e6739e",
   "metadata": {},
   "outputs": [
    {
     "data": {
      "image/png": "[encoded data removed]",
      "text/plain": [
       "<Figure size 432x288 with 1 Axes>"
      ]
     },
     "metadata": {
      "needs_background": "light"
     },
     "output_type": "display_data"
    },
    {
     "data": {
      "image/png": "[encoded data removed]",
      "text/plain": [
       "<Figure size 432x288 with 1 Axes>"
      ]
     },
     "metadata": {
      "needs_background": "light"
     },
     "output_type": "display_data"
    },
    {
     "data": {
      "image/png": "[encoded data removed]",
      "text/plain": [
       "<Figure size 432x288 with 1 Axes>"
      ]
     },
     "metadata": {
      "needs_background": "light"
     },
     "output_type": "display_data"
    },
    {
     "data": {
      "image/png": "[encoded data removed]",
      "text/plain": [
       "<Figure size 432x288 with 1 Axes>"
      ]
     },
     "metadata": {
      "needs_background": "light"
     },
     "output_type": "display_data"
    },
    {
     "data": {
      "image/png": "[encoded data removed]",
      "text/plain": [
       "<Figure size 432x288 with 1 Axes>"
      ]
     },
     "metadata": {
      "needs_background": "light"
     },
     "output_type": "display_data"
    },
    {
     "data": {
      "image/png": "[encoded data removed]",
      "text/plain": [
       "<Figure size 432x288 with 1 Axes>"
      ]
     },
     "metadata": {
      "needs_background": "light"
     },
     "output_type": "display_data"
    },
    {
     "data": {
      "image/png": "[encoded data removed]",
      "text/plain": [
       "<Figure size 432x288 with 1 Axes>"
      ]
     },
     "metadata": {
      "needs_background": "light"
     },
     "output_type": "display_data"
    },
    {
     "data": {
      "image/png": "[encoded data removed]",
      "text/plain": [
       "<Figure size 432x288 with 1 Axes>"
      ]
     },
     "metadata": {
      "needs_background": "light"
     },
     "output_type": "display_data"
    },
    {
     "data": {
      "image/png": "[encoded data removed]",
      "text/plain": [
       "<Figure size 432x288 with 1 Axes>"
      ]
     },
     "metadata": {
      "needs_background": "light"
     },
     "output_type": "display_data"
    }
   ],
   "source": [
    "### Plotting up each of the identified fast risers\n",
    "for i in range( len( fr ) ):\n",
    "    query = ('SELECT c.id, e.mjd, o.mag, o.magerr, e.filter, o.ra FROM objects o '\n",
    "             'JOIN candidates c ON c.id=o.candidate_id '\n",
    "             'JOIN subtractions s ON s.id=o.subtraction_id '\n",
    "             'JOIN exposures e ON e.id=s.exposure_id '\n",
    "             'WHERE c.id=%s '\n",
    "             'AND e.mjd < 59377 ' \n",
    "             'AND o.rb > 0.4')\n",
    "    cursor.execute( query, ( fr[i], ) )\n",
    "    \n",
    "    array = np.array( cursor.fetchall() ).transpose()\n",
    "    gmsk = array[4] == 'g'\n",
    "    rmsk = array[4] == 'r'\n",
    "    imsk = array[4] == 'i'\n",
    "    \n",
    "    \n",
    "    # Color consistency\n",
    "    if float(array[5][0]) < 50:\n",
    "        field = \"ELIAS\"\n",
    "    else:\n",
    "        field = \"COSMOS\"\n",
    "    if field == \"COSMOS\": c = [\"darkgreen\",\"red\",\"brown\"]\n",
    "    elif field == \"ELIAS\": c = [\"limegreen\",\"darkorange\",\"peru\"]\n",
    "    \n",
    "    \n",
    "    plt.errorbar( ( array[1][gmsk] ).astype(float), \n",
    "                 ( array[2][gmsk] ).astype(float), \n",
    "                 yerr=array[3][gmsk].astype(float), \n",
    "                 fmt='o', \n",
    "                 markersize=5, \n",
    "                 ls= '', \n",
    "                 color=c[0], \n",
    "                 label='g' )\n",
    "    plt.errorbar( ( array[1][rmsk] ).astype(float), \n",
    "                 ( array[2][rmsk] ).astype(float), \n",
    "                 yerr=array[3][rmsk].astype(float), \n",
    "                 fmt='o', \n",
    "                 markersize=5, \n",
    "                 ls= '', \n",
    "                 color=c[1], \n",
    "                 label='r' )\n",
    "    plt.errorbar( ( array[1][imsk] ).astype(float), \n",
    "                 ( array[2][imsk] ).astype(float), \n",
    "                 yerr=array[3][imsk].astype(float), \n",
    "                 fmt='o', \n",
    "                 markersize=5, \n",
    "                 ls= '', \n",
    "                 color=c[2], \n",
    "                 label='i' )\n",
    "    \n",
    "    # Indicate the interesting part of the light curve\n",
    "    plt.axvline( float( frdates[i][0] ) )\n",
    "    plt.axvline( float( frdates[i][1] ) )\n",
    "    \n",
    "    plt.title( array[0][0]+\" (\"+field+\")\")\n",
    "    plt.gca().invert_yaxis()\n",
    "    plt.legend()\n",
    "    plt.show()"
   ]
  },
  {
   "cell_type": "code",
   "execution_count": 7,
   "id": "1db41ec1-2408-4c34-a8de-c878f67e44a2",
   "metadata": {},
   "outputs": [
    {
     "data": {
      "application/vnd.jupyter.widget-view+json": {
       "model_id": "3faa6038831e431bb6edec635be9471a",
       "version_major": 2,
       "version_minor": 0
      },
      "text/plain": [
       "HBox(children=(Image(value=b'\\xff\\xd8\\xff\\xe0\\x00\\x10JFIF\\x00\\x01\\x01\\x00\\x00\\x01\\x00\\x01\\x00\\x00\\xff\\xdb\\x00C…"
      ]
     },
     "metadata": {},
     "output_type": "display_data"
    },
    {
     "data": {
      "application/vnd.jupyter.widget-view+json": {
       "model_id": "f899ae2fec874ae8a329c0b666101087",
       "version_major": 2,
       "version_minor": 0
      },
      "text/plain": [
       "HBox(children=(Image(value=b'\\xff\\xd8\\xff\\xe0\\x00\\x10JFIF\\x00\\x01\\x01\\x00\\x00\\x01\\x00\\x01\\x00\\x00\\xff\\xdb\\x00C…"
      ]
     },
     "metadata": {},
     "output_type": "display_data"
    },
    {
     "data": {
      "application/vnd.jupyter.widget-view+json": {
       "model_id": "35b32b12e68043a7a3287e7bcdd8ed82",
       "version_major": 2,
       "version_minor": 0
      },
      "text/plain": [
       "HBox(children=(Image(value=b'\\xff\\xd8\\xff\\xe0\\x00\\x10JFIF\\x00\\x01\\x01\\x00\\x00\\x01\\x00\\x01\\x00\\x00\\xff\\xdb\\x00C…"
      ]
     },
     "metadata": {},
     "output_type": "display_data"
    },
    {
     "name": "stdout",
     "output_type": "stream",
     "text": [
      "\n",
      "\n",
      "\n",
      "\n"
     ]
    },
    {
     "data": {
      "application/vnd.jupyter.widget-view+json": {
       "model_id": "14061f56d9614f66b934d9e305500acb",
       "version_major": 2,
       "version_minor": 0
      },
      "text/plain": [
       "HBox(children=(Image(value=b'\\xff\\xd8\\xff\\xe0\\x00\\x10JFIF\\x00\\x01\\x01\\x00\\x00\\x01\\x00\\x01\\x00\\x00\\xff\\xdb\\x00C…"
      ]
     },
     "metadata": {},
     "output_type": "display_data"
    },
    {
     "data": {
      "application/vnd.jupyter.widget-view+json": {
       "model_id": "c912744cf0bd4c75907b3c3f5e78b321",
       "version_major": 2,
       "version_minor": 0
      },
      "text/plain": [
       "HBox(children=(Image(value=b'\\xff\\xd8\\xff\\xe0\\x00\\x10JFIF\\x00\\x01\\x01\\x00\\x00\\x01\\x00\\x01\\x00\\x00\\xff\\xdb\\x00C…"
      ]
     },
     "metadata": {},
     "output_type": "display_data"
    },
    {
     "data": {
      "application/vnd.jupyter.widget-view+json": {
       "model_id": "a2db7511e27f419cab2307ff18aeda97",
       "version_major": 2,
       "version_minor": 0
      },
      "text/plain": [
       "HBox(children=(Image(value=b'\\xff\\xd8\\xff\\xe0\\x00\\x10JFIF\\x00\\x01\\x01\\x00\\x00\\x01\\x00\\x01\\x00\\x00\\xff\\xdb\\x00C…"
      ]
     },
     "metadata": {},
     "output_type": "display_data"
    },
    {
     "name": "stdout",
     "output_type": "stream",
     "text": [
      "\n",
      "\n",
      "\n",
      "\n"
     ]
    },
    {
     "data": {
      "application/vnd.jupyter.widget-view+json": {
       "model_id": "5006ddf449ab4c238f4e5f474e8aef47",
       "version_major": 2,
       "version_minor": 0
      },
      "text/plain": [
       "HBox(children=(Image(value=b'\\xff\\xd8\\xff\\xe0\\x00\\x10JFIF\\x00\\x01\\x01\\x00\\x00\\x01\\x00\\x01\\x00\\x00\\xff\\xdb\\x00C…"
      ]
     },
     "metadata": {},
     "output_type": "display_data"
    },
    {
     "data": {
      "application/vnd.jupyter.widget-view+json": {
       "model_id": "3922631f8611437e96cca3f322d9dfd4",
       "version_major": 2,
       "version_minor": 0
      },
      "text/plain": [
       "HBox(children=(Image(value=b'\\xff\\xd8\\xff\\xe0\\x00\\x10JFIF\\x00\\x01\\x01\\x00\\x00\\x01\\x00\\x01\\x00\\x00\\xff\\xdb\\x00C…"
      ]
     },
     "metadata": {},
     "output_type": "display_data"
    },
    {
     "data": {
      "application/vnd.jupyter.widget-view+json": {
       "model_id": "a57b572e5d6846709a9c7e8f22031af3",
       "version_major": 2,
       "version_minor": 0
      },
      "text/plain": [
       "HBox(children=(Image(value=b'\\xff\\xd8\\xff\\xe0\\x00\\x10JFIF\\x00\\x01\\x01\\x00\\x00\\x01\\x00\\x01\\x00\\x00\\xff\\xdb\\x00C…"
      ]
     },
     "metadata": {},
     "output_type": "display_data"
    },
    {
     "name": "stdout",
     "output_type": "stream",
     "text": [
      "\n",
      "\n",
      "\n",
      "\n"
     ]
    },
    {
     "data": {
      "application/vnd.jupyter.widget-view+json": {
       "model_id": "f370497c35484570878a12d4996d7f24",
       "version_major": 2,
       "version_minor": 0
      },
      "text/plain": [
       "HBox(children=(Image(value=b'\\xff\\xd8\\xff\\xe0\\x00\\x10JFIF\\x00\\x01\\x01\\x00\\x00\\x01\\x00\\x01\\x00\\x00\\xff\\xdb\\x00C…"
      ]
     },
     "metadata": {},
     "output_type": "display_data"
    },
    {
     "data": {
      "application/vnd.jupyter.widget-view+json": {
       "model_id": "d53ef16d22094c01813439e8771f03e7",
       "version_major": 2,
       "version_minor": 0
      },
      "text/plain": [
       "HBox(children=(Image(value=b'\\xff\\xd8\\xff\\xe0\\x00\\x10JFIF\\x00\\x01\\x01\\x00\\x00\\x01\\x00\\x01\\x00\\x00\\xff\\xdb\\x00C…"
      ]
     },
     "metadata": {},
     "output_type": "display_data"
    },
    {
     "data": {
      "application/vnd.jupyter.widget-view+json": {
       "model_id": "5f1e077ed09b43deb4617a5333b9b758",
       "version_major": 2,
       "version_minor": 0
      },
      "text/plain": [
       "HBox(children=(Image(value=b'\\xff\\xd8\\xff\\xe0\\x00\\x10JFIF\\x00\\x01\\x01\\x00\\x00\\x01\\x00\\x01\\x00\\x00\\xff\\xdb\\x00C…"
      ]
     },
     "metadata": {},
     "output_type": "display_data"
    },
    {
     "name": "stdout",
     "output_type": "stream",
     "text": [
      "\n",
      "\n",
      "\n",
      "\n"
     ]
    },
    {
     "data": {
      "application/vnd.jupyter.widget-view+json": {
       "model_id": "24c1cf65fa7e43078cc9c147a590135a",
       "version_major": 2,
       "version_minor": 0
      },
      "text/plain": [
       "HBox(children=(Image(value=b'\\xff\\xd8\\xff\\xe0\\x00\\x10JFIF\\x00\\x01\\x01\\x00\\x00\\x01\\x00\\x01\\x00\\x00\\xff\\xdb\\x00C…"
      ]
     },
     "metadata": {},
     "output_type": "display_data"
    },
    {
     "data": {
      "application/vnd.jupyter.widget-view+json": {
       "model_id": "262ddf9b8136457eb303f037637b7113",
       "version_major": 2,
       "version_minor": 0
      },
      "text/plain": [
       "HBox(children=(Image(value=b'\\xff\\xd8\\xff\\xe0\\x00\\x10JFIF\\x00\\x01\\x01\\x00\\x00\\x01\\x00\\x01\\x00\\x00\\xff\\xdb\\x00C…"
      ]
     },
     "metadata": {},
     "output_type": "display_data"
    },
    {
     "data": {
      "application/vnd.jupyter.widget-view+json": {
       "model_id": "1a71ee37db634e6bbc3c5bd6d57957ab",
       "version_major": 2,
       "version_minor": 0
      },
      "text/plain": [
       "HBox(children=(Image(value=b'\\xff\\xd8\\xff\\xe0\\x00\\x10JFIF\\x00\\x01\\x01\\x00\\x00\\x01\\x00\\x01\\x00\\x00\\xff\\xdb\\x00C…"
      ]
     },
     "metadata": {},
     "output_type": "display_data"
    },
    {
     "name": "stdout",
     "output_type": "stream",
     "text": [
      "\n",
      "\n",
      "\n",
      "\n"
     ]
    },
    {
     "data": {
      "application/vnd.jupyter.widget-view+json": {
       "model_id": "67a3f070af0e49d4bdddf92efb753750",
       "version_major": 2,
       "version_minor": 0
      },
      "text/plain": [
       "HBox(children=(Image(value=b'\\xff\\xd8\\xff\\xe0\\x00\\x10JFIF\\x00\\x01\\x01\\x00\\x00\\x01\\x00\\x01\\x00\\x00\\xff\\xdb\\x00C…"
      ]
     },
     "metadata": {},
     "output_type": "display_data"
    },
    {
     "data": {
      "application/vnd.jupyter.widget-view+json": {
       "model_id": "81d1de25f2fc4e108c014a847fe6c913",
       "version_major": 2,
       "version_minor": 0
      },
      "text/plain": [
       "HBox(children=(Image(value=b'\\xff\\xd8\\xff\\xe0\\x00\\x10JFIF\\x00\\x01\\x01\\x00\\x00\\x01\\x00\\x01\\x00\\x00\\xff\\xdb\\x00C…"
      ]
     },
     "metadata": {},
     "output_type": "display_data"
    },
    {
     "data": {
      "application/vnd.jupyter.widget-view+json": {
       "model_id": "2b4068b5a08c4519ba838ec82958fb3c",
       "version_major": 2,
       "version_minor": 0
      },
      "text/plain": [
       "HBox(children=(Image(value=b'\\xff\\xd8\\xff\\xe0\\x00\\x10JFIF\\x00\\x01\\x01\\x00\\x00\\x01\\x00\\x01\\x00\\x00\\xff\\xdb\\x00C…"
      ]
     },
     "metadata": {},
     "output_type": "display_data"
    },
    {
     "name": "stdout",
     "output_type": "stream",
     "text": [
      "\n",
      "\n",
      "\n",
      "\n"
     ]
    },
    {
     "data": {
      "application/vnd.jupyter.widget-view+json": {
       "model_id": "3437fa4042a343b28730d8f666c9b802",
       "version_major": 2,
       "version_minor": 0
      },
      "text/plain": [
       "HBox(children=(Image(value=b'\\xff\\xd8\\xff\\xe0\\x00\\x10JFIF\\x00\\x01\\x01\\x00\\x00\\x01\\x00\\x01\\x00\\x00\\xff\\xdb\\x00C…"
      ]
     },
     "metadata": {},
     "output_type": "display_data"
    },
    {
     "data": {
      "application/vnd.jupyter.widget-view+json": {
       "model_id": "a92f672af1b148e095eb123b93027b08",
       "version_major": 2,
       "version_minor": 0
      },
      "text/plain": [
       "HBox(children=(Image(value=b'\\xff\\xd8\\xff\\xe0\\x00\\x10JFIF\\x00\\x01\\x01\\x00\\x00\\x01\\x00\\x01\\x00\\x00\\xff\\xdb\\x00C…"
      ]
     },
     "metadata": {},
     "output_type": "display_data"
    },
    {
     "data": {
      "application/vnd.jupyter.widget-view+json": {
       "model_id": "f905870cfaff4dd785679b657a0e9e24",
       "version_major": 2,
       "version_minor": 0
      },
      "text/plain": [
       "HBox(children=(Image(value=b'\\xff\\xd8\\xff\\xe0\\x00\\x10JFIF\\x00\\x01\\x01\\x00\\x00\\x01\\x00\\x01\\x00\\x00\\xff\\xdb\\x00C…"
      ]
     },
     "metadata": {},
     "output_type": "display_data"
    },
    {
     "name": "stdout",
     "output_type": "stream",
     "text": [
      "\n",
      "\n",
      "\n",
      "\n"
     ]
    },
    {
     "data": {
      "application/vnd.jupyter.widget-view+json": {
       "model_id": "49f4f53666f94482a17fa34225952b52",
       "version_major": 2,
       "version_minor": 0
      },
      "text/plain": [
       "HBox(children=(Image(value=b'\\xff\\xd8\\xff\\xe0\\x00\\x10JFIF\\x00\\x01\\x01\\x00\\x00\\x01\\x00\\x01\\x00\\x00\\xff\\xdb\\x00C…"
      ]
     },
     "metadata": {},
     "output_type": "display_data"
    },
    {
     "data": {
      "application/vnd.jupyter.widget-view+json": {
       "model_id": "182f1b8be6074f19be9146966289f284",
       "version_major": 2,
       "version_minor": 0
      },
      "text/plain": [
       "HBox(children=(Image(value=b'\\xff\\xd8\\xff\\xe0\\x00\\x10JFIF\\x00\\x01\\x01\\x00\\x00\\x01\\x00\\x01\\x00\\x00\\xff\\xdb\\x00C…"
      ]
     },
     "metadata": {},
     "output_type": "display_data"
    },
    {
     "data": {
      "application/vnd.jupyter.widget-view+json": {
       "model_id": "cfd6fb2deac54ee68a82bd322238ac69",
       "version_major": 2,
       "version_minor": 0
      },
      "text/plain": [
       "HBox(children=(Image(value=b'\\xff\\xd8\\xff\\xe0\\x00\\x10JFIF\\x00\\x01\\x01\\x00\\x00\\x01\\x00\\x01\\x00\\x00\\xff\\xdb\\x00C…"
      ]
     },
     "metadata": {},
     "output_type": "display_data"
    },
    {
     "name": "stdout",
     "output_type": "stream",
     "text": [
      "\n",
      "\n",
      "\n",
      "\n"
     ]
    },
    {
     "data": {
      "application/vnd.jupyter.widget-view+json": {
       "model_id": "376d8079bcd54bbf8f7ff560d602460b",
       "version_major": 2,
       "version_minor": 0
      },
      "text/plain": [
       "HBox(children=(Image(value=b'\\xff\\xd8\\xff\\xe0\\x00\\x10JFIF\\x00\\x01\\x01\\x00\\x00\\x01\\x00\\x01\\x00\\x00\\xff\\xdb\\x00C…"
      ]
     },
     "metadata": {},
     "output_type": "display_data"
    },
    {
     "data": {
      "application/vnd.jupyter.widget-view+json": {
       "model_id": "93ad03bd3a534e8a8c2ce900dd7f3719",
       "version_major": 2,
       "version_minor": 0
      },
      "text/plain": [
       "HBox(children=(Image(value=b'\\xff\\xd8\\xff\\xe0\\x00\\x10JFIF\\x00\\x01\\x01\\x00\\x00\\x01\\x00\\x01\\x00\\x00\\xff\\xdb\\x00C…"
      ]
     },
     "metadata": {},
     "output_type": "display_data"
    },
    {
     "data": {
      "application/vnd.jupyter.widget-view+json": {
       "model_id": "7c432591bd7e4440817627850778e021",
       "version_major": 2,
       "version_minor": 0
      },
      "text/plain": [
       "HBox(children=(Image(value=b'\\xff\\xd8\\xff\\xe0\\x00\\x10JFIF\\x00\\x01\\x01\\x00\\x00\\x01\\x00\\x01\\x00\\x00\\xff\\xdb\\x00C…"
      ]
     },
     "metadata": {},
     "output_type": "display_data"
    },
    {
     "name": "stdout",
     "output_type": "stream",
     "text": [
      "\n",
      "\n",
      "\n",
      "\n"
     ]
    }
   ],
   "source": [
    "### This cell pulls out the reference, science, and subtraction images for eack of the SNe the filter detected, for every good detection\n",
    "\n",
    "for i in fr:\n",
    "    query = ( 'SELECT cand.id, e.mjd,e.filename,e.filter,c.sci_jpeg,c.ref_jpeg,c.diff_jpeg FROM cutouts c '\n",
    "              'INNER JOIN objects o ON c.object_id=o.id '\n",
    "              'INNER JOIN candidates cand ON o.candidate_id=cand.id '\n",
    "              'INNER JOIN subtractions s ON o.subtraction_id=s.id '\n",
    "              'INNER JOIN exposures e ON s.exposure_id=e.id '\n",
    "              'WHERE cand.id=%s '\n",
    "              'AND e.mjd < 59377 ' \n",
    "              'AND o.rb > 0.4 '\n",
    "              'ORDER BY e.mjd '\n",
    "              'LIMIT 3')\n",
    "    cursor.execute( query, ( i, ) )\n",
    "    for row in cursor:\n",
    "        label = ipywidgets.HTML( f'<b>Candidate</b>{row[\"id\"]}<br><b>{row[\"filename\"]}</b><br><b>Filter:</b> {row[\"filter\"]}' )\n",
    "        newimg = ipywidgets.Image( value=bytes(row[\"sci_jpeg\"]), width=102, height=102, format='jpeg' )\n",
    "        refimg = ipywidgets.Image( value=bytes(row[\"ref_jpeg\"]), width=102, height=102, format='jpeg' )\n",
    "        subimg = ipywidgets.Image( value=bytes(row[\"diff_jpeg\"]), width=102, height=102, format='jpeg' )\n",
    "        box = ipywidgets.HBox( [ newimg, refimg, subimg, label ] )\n",
    "        display( box )\n",
    "    print(\"\")\n",
    "    print(\"\")    \n",
    "    print(\"\")    \n",
    "    print(\"\")"
   ]
  },
  {
   "cell_type": "code",
   "execution_count": 16,
   "id": "59baec1d-c30d-46a7-8c1a-4343141718a4",
   "metadata": {},
   "outputs": [
    {
     "name": "stdout",
     "output_type": "stream",
     "text": [
      "DC21fah\n",
      "149.216877247918\n",
      "3.40763001494962\n",
      "DC21mis\n",
      "150.285387353558\n",
      "3.13985001105248\n",
      "DC21nmo\n",
      "148.523594575545\n",
      "1.7871803355365\n",
      "DC21tbc\n",
      "150.028197204063\n",
      "3.2419419580704\n",
      "DC21crq\n",
      "148.327197887083\n",
      "1.84002664907599\n",
      "DC21flsx\n",
      "150.173840223641\n",
      "2.17343026664713\n",
      "DC21ktrb\n",
      "9.76380278641914\n",
      "-44.5742855020337\n",
      "DC21kmfb\n",
      "7.26228031727868\n",
      "-42.0471932870565\n",
      "DC21kvdn\n",
      "10.4985589769072\n",
      "-44.0218495835263\n"
     ]
    }
   ],
   "source": [
    "engine=\"SDSS\"\n",
    "\n",
    "coordarr = np.empty( len( fr ), dtype=object )\n",
    "for i in range(len(fr)):\n",
    "    query = ('SELECT c.id, c.ra, c.dec FROM candidates c '\n",
    "            'WHERE c.id=%s ')\n",
    "    cursor.execute( query, (fr[i], ) )\n",
    "    coordarr[i] = cursor.fetchall()[0]\n",
    "\n",
    "\n",
    "if engine == \"SDSS\":\n",
    "    for i in coordarr:\n",
    "        print(i[0])\n",
    "        print(str(i[1]))\n",
    "        print(str(i[2]))\n",
    "elif engine==\"TNS\":\n",
    "    for i in coordarr:\n",
    "        if i[2]>0:\n",
    "            print(i[0])\n",
    "            print(str(i[1]),\"+\"+str(i[2]))\n",
    "        else:\n",
    "            print(i[0])\n",
    "            print(str(i[1]),str(i[2]))"
   ]
  },
  {
   "cell_type": "code",
   "execution_count": 17,
   "id": "74b1a641-daee-47cc-81c5-4f770490e94e",
   "metadata": {},
   "outputs": [],
   "source": [
    "# From SDSS matches:\n",
    "# DC21fah-- STAR\n",
    "# DC21mis-- STAR\n",
    "# DC21nmo-- GALAXY\n",
    "# DC21tbc-- GALAXY\n",
    "# DC21crq-- STAR\n",
    "# DC21flsx-- GALAXY\n",
    "# ELIAS fast risers outside the SDSS footprint"
   ]
  },
  {
   "cell_type": "code",
   "execution_count": null,
   "id": "96e43756-634c-4602-8924-83bbb7889a7b",
   "metadata": {},
   "outputs": [],
   "source": []
  }
 ],
 "metadata": {
  "kernelspec": {
   "display_name": "Python 3",
   "language": "python",
   "name": "python3"
  },
  "language_info": {
   "codemirror_mode": {
    "name": "ipython",
    "version": 3
   },
   "file_extension": ".py",
   "mimetype": "text/x-python",
   "name": "python",
   "nbconvert_exporter": "python",
   "pygments_lexer": "ipython3",
   "version": "3.7.4"
  }
 },
 "nbformat": 4,
 "nbformat_minor": 5
}
