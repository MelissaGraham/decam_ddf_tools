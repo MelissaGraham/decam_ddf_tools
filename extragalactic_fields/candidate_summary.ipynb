{
 "cells": [
  {
   "cell_type": "markdown",
   "id": "1a06816f-764a-4648-8fc5-682a54d8e3e8",
   "metadata": {},
   "source": [
    "# Candidate Summary\n",
    "\n",
    "Author: Melissa Graham\n",
    "\n",
    "Explore the lightcurves and lightcurve parameters created by `candidate_nightly_epochs.ipynb`.\n",
    "\n",
    "Plot histograms and correlations of the lightcurve parameters (time span, amplitude, minimum magnitude, number of epochs).\n",
    "\n",
    "Plot the lightcurves of some samples of candidates (the 25 brightest, largest amplitude, etc.)"
   ]
  },
  {
   "cell_type": "code",
   "execution_count": null,
   "id": "2ab52e31-7a85-40e2-8d34-9719df0ee1da",
   "metadata": {},
   "outputs": [],
   "source": [
    "# import os\n",
    "import numpy as np\n",
    "import matplotlib as mpl\n",
    "import matplotlib.pyplot as plt\n",
    "# import pandas as pd\n",
    "\n",
    "# from copy import deepcopy\n",
    "import time"
   ]
  },
  {
   "cell_type": "code",
   "execution_count": null,
   "id": "9d02afdb-5926-4694-9b99-8619c4518476",
   "metadata": {},
   "outputs": [],
   "source": [
    "### Colors to use for COSMOS-g, -r, -i and ELAIS-g, -r, -i\n",
    "clr = ['darkgreen', 'firebrick', 'saddlebrown', 'limegreen', 'orange', 'lightcoral']"
   ]
  },
  {
   "cell_type": "markdown",
   "id": "bb98c52a-33e3-4b2d-84ca-24915054c03a",
   "metadata": {},
   "source": [
    "## Read in the candidate lightcurves"
   ]
  },
  {
   "cell_type": "code",
   "execution_count": null,
   "id": "5d8e2e30-330b-4895-8939-c7f299c1a41c",
   "metadata": {},
   "outputs": [],
   "source": [
    "fnm = 'candidate_nightly_epochs_files/candidate_lightcurves.dat'\n",
    "\n",
    "candLC_field = np.loadtxt( fnm, dtype='str', usecols=(0) )\n",
    "candLC_candid = np.loadtxt( fnm, dtype='str', usecols=(1) )\n",
    "candLC_caldate = np.loadtxt( fnm, dtype='str', usecols=(2) )\n",
    "candLC_mjd = np.loadtxt( fnm, dtype='float', usecols=(3) )\n",
    "candLC_filter = np.loadtxt( fnm, dtype='str', usecols=(4) )\n",
    "candLC_Nobj = np.loadtxt( fnm, dtype='int', usecols=(5) )\n",
    "candLC_mag = np.loadtxt( fnm, dtype='float', usecols=(6) )\n",
    "candLC_mage = np.loadtxt( fnm, dtype='float', usecols=(7) )\n",
    "candLC_mrb = np.loadtxt( fnm, dtype='float', usecols=(8) )\n",
    "candLC_maglim = np.loadtxt( fnm, dtype='float', usecols=(9) )\n",
    "\n",
    "del fnm"
   ]
  },
  {
   "cell_type": "markdown",
   "id": "080c0419-3886-4756-bf1a-00d0234c79bf",
   "metadata": {},
   "source": [
    "Check on the number of unique candidates and epochs in COSMOS and ELAIS."
   ]
  },
  {
   "cell_type": "code",
   "execution_count": null,
   "id": "0ab15b03-0041-4583-9893-06b4d5efc717",
   "metadata": {},
   "outputs": [],
   "source": [
    "cx = np.where( candLC_field == 'COSMOS' )[0]\n",
    "ex = np.where( candLC_field == 'ELAIS' )[0]\n",
    "\n",
    "all_cosmos_epochs = np.unique( np.sort(candLC_caldate[cx]) )\n",
    "all_elais_epochs = np.unique( np.sort(candLC_caldate[ex]) )\n",
    "\n",
    "print( len(all_cosmos_epochs), ' unique COSMOS epochs.' )\n",
    "print( len(all_elais_epochs), ' unique ELAIS epochs.' )\n",
    "\n",
    "all_cosmos_candids = np.unique( np.sort(candLC_candid[cx]) )\n",
    "all_elais_candids = np.unique( np.sort(candLC_candid[ex]) )\n",
    "\n",
    "print( len(all_cosmos_candids), ' unique COSMOS candidates' )\n",
    "print( len(all_elais_candids), ' unique ELAIS candidates' )\n",
    "\n",
    "del cx,ex"
   ]
  },
  {
   "cell_type": "markdown",
   "id": "80fae304-6422-483b-b0b0-2284c6c8214c",
   "metadata": {},
   "source": [
    "## Read in the candidate lightcurves parameters"
   ]
  },
  {
   "cell_type": "code",
   "execution_count": null,
   "id": "97c5ec5b-dc75-49d4-a7aa-e46ccab990fd",
   "metadata": {},
   "outputs": [],
   "source": [
    "fnm = 'candidate_nightly_epochs_files/candidate_lightcurve_parameters.dat'\n",
    "\n",
    "paramLC_field = np.loadtxt( fnm, dtype='str', usecols=(0) )\n",
    "paramLC_candid = np.loadtxt( fnm, dtype='str', usecols=(1) )\n",
    "paramLC_tspan = np.loadtxt( fnm, dtype='float', usecols=(2) )\n",
    "paramLC_tspan_g = np.loadtxt( fnm, dtype='float', usecols=(3) )\n",
    "paramLC_tspan_r = np.loadtxt( fnm, dtype='float', usecols=(4) )\n",
    "paramLC_tspan_i = np.loadtxt( fnm, dtype='float', usecols=(5) )\n",
    "paramLC_minmag = np.loadtxt( fnm, dtype='float', usecols=(6) )\n",
    "paramLC_minmag_g = np.loadtxt( fnm, dtype='float', usecols=(7) )\n",
    "paramLC_minmag_r = np.loadtxt( fnm, dtype='float', usecols=(8) )\n",
    "paramLC_minmag_i = np.loadtxt( fnm, dtype='float', usecols=(9) )\n",
    "paramLC_amp = np.loadtxt( fnm, dtype='float', usecols=(10) )\n",
    "paramLC_amp_g = np.loadtxt( fnm, dtype='float', usecols=(11) )\n",
    "paramLC_amp_r = np.loadtxt( fnm, dtype='float', usecols=(12) )\n",
    "paramLC_amp_i = np.loadtxt( fnm, dtype='float', usecols=(13) )\n",
    "paramLC_neps = np.loadtxt( fnm, dtype='int', usecols=(14) )\n",
    "paramLC_neps_g = np.loadtxt( fnm, dtype='int', usecols=(15) )\n",
    "paramLC_neps_r = np.loadtxt( fnm, dtype='int', usecols=(16) )\n",
    "paramLC_neps_i = np.loadtxt( fnm, dtype='int', usecols=(17) )\n",
    "\n",
    "del fnm"
   ]
  },
  {
   "cell_type": "markdown",
   "id": "1648909e-54d4-4f86-9023-e7366733b0de",
   "metadata": {},
   "source": [
    "How many candidates had just one epoch of detection?"
   ]
  },
  {
   "cell_type": "code",
   "execution_count": null,
   "id": "31fcc1f7-05fc-4230-8297-d92f0054803f",
   "metadata": {},
   "outputs": [],
   "source": [
    "cx = np.where( (paramLC_field == 'COSMOS') & (paramLC_neps == 0) )[0]\n",
    "ex = np.where( (paramLC_field == 'ELAIS') & (paramLC_neps == 0) )[0]\n",
    "cx_g = np.where( (paramLC_field == 'COSMOS') & (paramLC_neps_g == 0) )[0]\n",
    "ex_g = np.where( (paramLC_field == 'ELAIS') & (paramLC_neps_g == 0) )[0]\n",
    "cx_r = np.where( (paramLC_field == 'COSMOS') & (paramLC_neps_r == 0) )[0]\n",
    "ex_r = np.where( (paramLC_field == 'ELAIS') & (paramLC_neps_r == 0) )[0]\n",
    "cx_i = np.where( (paramLC_field == 'COSMOS') & (paramLC_neps_i == 0) )[0]\n",
    "ex_i = np.where( (paramLC_field == 'ELAIS') & (paramLC_neps_i == 0) )[0]\n",
    "\n",
    "print('Number of candidates with NO epochs (any, g, r, i).')\n",
    "print('COSMOS: ', len(cx),len(cx_g),len(cx_r),len(cx_i) )\n",
    "print('ELAIS:  ', len(ex),len(ex_g),len(ex_r),len(ex_i) )\n",
    "print(' ')\n",
    "del cx,ex,cx_g,cx_r,cx_i,ex_g,ex_r,ex_i\n",
    "\n",
    "cx = np.where( (paramLC_field == 'COSMOS') & (paramLC_neps == 1) )[0]\n",
    "ex = np.where( (paramLC_field == 'ELAIS') & (paramLC_neps == 1) )[0]\n",
    "cx_g = np.where( (paramLC_field == 'COSMOS') & (paramLC_neps_g == 1) )[0]\n",
    "ex_g = np.where( (paramLC_field == 'ELAIS') & (paramLC_neps_g == 1) )[0]\n",
    "cx_r = np.where( (paramLC_field == 'COSMOS') & (paramLC_neps_r == 1) )[0]\n",
    "ex_r = np.where( (paramLC_field == 'ELAIS') & (paramLC_neps_r == 1) )[0]\n",
    "cx_i = np.where( (paramLC_field == 'COSMOS') & (paramLC_neps_i == 1) )[0]\n",
    "ex_i = np.where( (paramLC_field == 'ELAIS') & (paramLC_neps_i == 1) )[0]\n",
    "\n",
    "print('Number of candidates with ONE epoch (any, g, r, i).')\n",
    "print('COSMOS: ', len(cx),len(cx_g),len(cx_r),len(cx_i) )\n",
    "print('ELAIS:  ', len(ex),len(ex_g),len(ex_r),len(ex_i) )\n",
    "del cx,ex,cx_g,cx_r,cx_i,ex_g,ex_r,ex_i"
   ]
  },
  {
   "cell_type": "markdown",
   "id": "767adf98-acdc-41ad-a9e8-ed8df9202d41",
   "metadata": {},
   "source": [
    "# Plots\n",
    "\n",
    "## Histograms of light curve summary parameters"
   ]
  },
  {
   "cell_type": "code",
   "execution_count": null,
   "id": "a4a52eb9-da0e-4b67-9ab2-a781c6a31d86",
   "metadata": {},
   "outputs": [],
   "source": [
    "cx = np.where( paramLC_field == 'COSMOS' )[0]\n",
    "ex = np.where( paramLC_field == 'ELAIS' )[0]\n",
    "\n",
    "fig, ax = plt.subplots( 4, 4, figsize=(16,12), sharex=False, sharey=False )\n",
    "\n",
    "ax[0,0].hist( paramLC_tspan[cx],  histtype='step', log=True, bins=20, range=(0,320), color='dodgerblue')\n",
    "ax[0,1].hist( paramLC_minmag[cx], histtype='step', log=True, bins=20, range=(15,25), color='dodgerblue')\n",
    "ax[0,2].hist( paramLC_amp[cx],    histtype='step', log=True, bins=20, range=(0,4),   color='dodgerblue')\n",
    "ax[0,3].hist( paramLC_neps[cx],   histtype='step', log=True, bins=20, range=(0,50),  color='dodgerblue')\n",
    "ax[0,0].hist( paramLC_tspan[ex],  histtype='step', log=True, bins=20, range=(0,320), color='darkviolet')\n",
    "ax[0,1].hist( paramLC_minmag[ex], histtype='step', log=True, bins=20, range=(15,25),   color='darkviolet')\n",
    "ax[0,2].hist( paramLC_amp[ex],    histtype='step', log=True, bins=20, range=(0,4),   color='darkviolet')\n",
    "ax[0,3].hist( paramLC_neps[ex],   histtype='step', log=True, bins=20, range=(0,50), color='darkviolet')\n",
    "\n",
    "ax[1,0].hist( paramLC_tspan_g[cx],  histtype='step', log=True, bins=20, range=(0,320), color=clr[0])\n",
    "ax[1,1].hist( paramLC_minmag_g[cx], histtype='step', log=True, bins=20, range=(15,25), color=clr[0])\n",
    "ax[1,2].hist( paramLC_amp_g[cx],    histtype='step', log=True, bins=20, range=(0,4),   color=clr[0])\n",
    "ax[1,3].hist( paramLC_neps_g[cx],   histtype='step', log=True, bins=20, range=(0,50),  color=clr[0])\n",
    "ax[1,0].hist( paramLC_tspan_g[ex],  histtype='step', log=True, bins=20, range=(0,320), color=clr[3])\n",
    "ax[1,1].hist( paramLC_minmag_g[ex], histtype='step', log=True, bins=20, range=(15,25), color=clr[3])\n",
    "ax[1,2].hist( paramLC_amp_g[ex],    histtype='step', log=True, bins=20, range=(0,4),   color=clr[3])\n",
    "ax[1,3].hist( paramLC_neps_g[ex],   histtype='step', log=True, bins=20, range=(0,50),  color=clr[3])\n",
    "\n",
    "ax[2,0].hist( paramLC_tspan_r[cx],  histtype='step', log=True, bins=20, range=(0,320), color=clr[1])\n",
    "ax[2,1].hist( paramLC_minmag_r[cx], histtype='step', log=True, bins=20, range=(15,25), color=clr[1])\n",
    "ax[2,2].hist( paramLC_amp_r[cx],    histtype='step', log=True, bins=20, range=(0,4),   color=clr[1])\n",
    "ax[2,3].hist( paramLC_neps_r[cx],   histtype='step', log=True, bins=20, range=(0,50),  color=clr[1])\n",
    "ax[2,0].hist( paramLC_tspan_r[ex],  histtype='step', log=True, bins=20, range=(0,320), color=clr[4])\n",
    "ax[2,1].hist( paramLC_minmag_r[ex], histtype='step', log=True, bins=20, range=(15,25), color=clr[4])\n",
    "ax[2,2].hist( paramLC_amp_r[ex],    histtype='step', log=True, bins=20, range=(0,4),   color=clr[4])\n",
    "ax[2,3].hist( paramLC_neps_r[ex],   histtype='step', log=True, bins=20, range=(0,50),  color=clr[4])\n",
    "\n",
    "ax[3,0].hist( paramLC_tspan_i[cx],  histtype='step', log=True, bins=20, range=(0,320), color=clr[2])\n",
    "ax[3,1].hist( paramLC_minmag_i[cx], histtype='step', log=True, bins=20, range=(15,25), color=clr[2])\n",
    "ax[3,2].hist( paramLC_amp_i[cx],    histtype='step', log=True, bins=20, range=(0,4),   color=clr[2])\n",
    "ax[3,3].hist( paramLC_neps_i[cx],   histtype='step', log=True, bins=20, range=(0,50),  color=clr[2])\n",
    "ax[3,0].hist( paramLC_tspan_i[ex],  histtype='step', log=True, bins=20, range=(0,320), color=clr[5])\n",
    "ax[3,1].hist( paramLC_minmag_i[ex], histtype='step', log=True, bins=20, range=(15,25), color=clr[5])\n",
    "ax[3,2].hist( paramLC_amp_i[ex],    histtype='step', log=True, bins=20, range=(0,4),   color=clr[5])\n",
    "ax[3,3].hist( paramLC_neps_i[ex],   histtype='step', log=True, bins=20, range=(0,50),  color=clr[5])\n",
    "\n",
    "ax[3,0].set_xlabel('time span')\n",
    "ax[3,1].set_xlabel('minimum magnitude')\n",
    "ax[3,2].set_xlabel('amplitude')\n",
    "ax[3,3].set_xlabel('number of epochs')\n",
    "\n",
    "ax[0,0].set_ylabel('number of candidates')\n",
    "ax[1,0].set_ylabel('number of candidates')\n",
    "ax[2,0].set_ylabel('number of candidates')\n",
    "ax[3,0].set_ylabel('number of candidates')\n",
    "\n",
    "ax[0,2].text(0.60, 0.85, 'COSMOS', fontsize=14, color='dodgerblue', verticalalignment='bottom', horizontalalignment='left',  transform=ax[0,2].transAxes)    \n",
    "ax[0,2].text(0.60, 0.75, 'ELAIS',  fontsize=14, color='darkviolet', verticalalignment='bottom', horizontalalignment='left',  transform=ax[0,2].transAxes)    \n",
    "ax[1,2].text(0.60, 0.85, 'COSMOS', fontsize=14, color=clr[0], verticalalignment='bottom', horizontalalignment='left',  transform=ax[1,2].transAxes)    \n",
    "ax[1,2].text(0.60, 0.75, 'ELAIS',  fontsize=14, color=clr[3], verticalalignment='bottom', horizontalalignment='left',  transform=ax[1,2].transAxes)    \n",
    "ax[2,2].text(0.60, 0.85, 'COSMOS', fontsize=14, color=clr[1], verticalalignment='bottom', horizontalalignment='left',  transform=ax[2,2].transAxes)    \n",
    "ax[2,2].text(0.60, 0.75, 'ELAIS',  fontsize=14, color=clr[4], verticalalignment='bottom', horizontalalignment='left',  transform=ax[2,2].transAxes)    \n",
    "ax[3,2].text(0.60, 0.85, 'COSMOS', fontsize=14, color=clr[2], verticalalignment='bottom', horizontalalignment='left',  transform=ax[3,2].transAxes)    \n",
    "ax[3,2].text(0.60, 0.75, 'ELAIS',  fontsize=14, color=clr[5], verticalalignment='bottom', horizontalalignment='left',  transform=ax[3,2].transAxes)    \n",
    "\n",
    "ax[0,3].text(0.80, 0.85, 'all',fontsize=14, color='black', verticalalignment='bottom', horizontalalignment='left',  transform=ax[0,3].transAxes)\n",
    "ax[1,3].text(0.80, 0.85, 'g',  fontsize=14, color='black', verticalalignment='bottom', horizontalalignment='left',  transform=ax[1,3].transAxes)\n",
    "ax[2,3].text(0.80, 0.85, 'r',  fontsize=14, color='black', verticalalignment='bottom', horizontalalignment='left',  transform=ax[2,3].transAxes)\n",
    "ax[3,3].text(0.80, 0.85, 'i',  fontsize=14, color='black', verticalalignment='bottom', horizontalalignment='left',  transform=ax[3,3].transAxes)\n",
    "\n",
    "plt.show()\n",
    "\n",
    "del cx,ex"
   ]
  },
  {
   "cell_type": "markdown",
   "id": "a3a6f2e0-7136-44c1-a5fd-a2fa1e7f1964",
   "metadata": {},
   "source": [
    "## Correlations between lightcurve summary parameters\n",
    "\n",
    "For candidates with more than one epoch.\n",
    "\n",
    "Just time span, minimum magnitude, and amplitude."
   ]
  },
  {
   "cell_type": "code",
   "execution_count": null,
   "id": "69eac389-1790-4ace-b636-581f3b7f2f52",
   "metadata": {},
   "outputs": [],
   "source": [
    "fig, ax = plt.subplots( 4, 3, figsize=(16,12), sharex=False, sharey=False )\n",
    "\n",
    "cx = np.where( (paramLC_field == 'COSMOS') & (paramLC_neps > 1) )[0]\n",
    "ex = np.where( (paramLC_field == 'ELAIS') & (paramLC_neps > 1) )[0]\n",
    "ax[0,0].plot( paramLC_tspan[cx],  paramLC_minmag[cx], 'o', ms=5, mew=0, alpha=0.5, color='dodgerblue')\n",
    "ax[0,1].plot( paramLC_tspan[cx],  paramLC_amp[cx],    'o', ms=5, mew=0, alpha=0.5, color='dodgerblue')\n",
    "ax[0,2].plot( paramLC_minmag[cx], paramLC_amp[cx],    'o', ms=5, mew=0, alpha=0.5, color='dodgerblue')\n",
    "ax[0,0].plot( paramLC_tspan[ex],  paramLC_minmag[ex], 'o', ms=5, mew=0, alpha=0.5, color='darkviolet')\n",
    "ax[0,1].plot( paramLC_tspan[ex],  paramLC_amp[ex],    'o', ms=5, mew=0, alpha=0.5, color='darkviolet')\n",
    "ax[0,2].plot( paramLC_minmag[ex], paramLC_amp[ex],    'o', ms=5, mew=0, alpha=0.5, color='darkviolet')\n",
    "del cx,ex\n",
    "\n",
    "cx = np.where( (paramLC_field == 'COSMOS') & (paramLC_neps_g > 1) )[0]\n",
    "ex = np.where( (paramLC_field == 'ELAIS') & (paramLC_neps_g > 1) )[0]\n",
    "ax[1,0].plot( paramLC_tspan_g[cx],  paramLC_minmag_g[cx], 'o', ms=5, mew=0, alpha=0.5, color=clr[0])\n",
    "ax[1,1].plot( paramLC_tspan_g[cx],  paramLC_amp_g[cx],    'o', ms=5, mew=0, alpha=0.5, color=clr[0])\n",
    "ax[1,2].plot( paramLC_minmag_g[cx], paramLC_amp_g[cx],    'o', ms=5, mew=0, alpha=0.5, color=clr[0])\n",
    "ax[1,0].plot( paramLC_tspan_g[ex],  paramLC_minmag_g[ex], 'o', ms=5, mew=0, alpha=0.5, color=clr[3])\n",
    "ax[1,1].plot( paramLC_tspan_g[ex],  paramLC_amp_g[ex],    'o', ms=5, mew=0, alpha=0.5, color=clr[3])\n",
    "ax[1,2].plot( paramLC_minmag_g[ex], paramLC_amp_g[ex],    'o', ms=5, mew=0, alpha=0.5, color=clr[3])\n",
    "del cx,ex\n",
    "\n",
    "cx = np.where( (paramLC_field == 'COSMOS') & (paramLC_neps_r > 1) )[0]\n",
    "ex = np.where( (paramLC_field == 'ELAIS') & (paramLC_neps_r > 1) )[0]\n",
    "ax[2,0].plot( paramLC_tspan_r[cx],  paramLC_minmag_r[cx], 'o', ms=5, mew=0, alpha=0.5, color=clr[1])\n",
    "ax[2,1].plot( paramLC_tspan_r[cx],  paramLC_amp_r[cx],    'o', ms=5, mew=0, alpha=0.5, color=clr[1])\n",
    "ax[2,2].plot( paramLC_minmag_r[cx], paramLC_amp_r[cx],    'o', ms=5, mew=0, alpha=0.5, color=clr[1])\n",
    "ax[2,0].plot( paramLC_tspan_r[ex],  paramLC_minmag_r[ex], 'o', ms=5, mew=0, alpha=0.5, color=clr[4])\n",
    "ax[2,1].plot( paramLC_tspan_r[ex],  paramLC_amp_r[ex],    'o', ms=5, mew=0, alpha=0.5, color=clr[4])\n",
    "ax[2,2].plot( paramLC_minmag_r[ex], paramLC_amp_r[ex],    'o', ms=5, mew=0, alpha=0.5, color=clr[4])\n",
    "del cx,ex\n",
    "\n",
    "cx = np.where( (paramLC_field == 'COSMOS') & (paramLC_neps_i > 1) )[0]\n",
    "ex = np.where( (paramLC_field == 'ELAIS') & (paramLC_neps_i > 1) )[0]\n",
    "ax[3,0].plot( paramLC_tspan_i[cx],  paramLC_minmag_i[cx], 'o', ms=5, mew=0, alpha=0.5, color=clr[2])\n",
    "ax[3,1].plot( paramLC_tspan_i[cx],  paramLC_amp_i[cx],    'o', ms=5, mew=0, alpha=0.5, color=clr[2])\n",
    "ax[3,2].plot( paramLC_minmag_i[cx], paramLC_amp_i[cx],    'o', ms=5, mew=0, alpha=0.5, color=clr[2])\n",
    "ax[3,0].plot( paramLC_tspan_i[ex],  paramLC_minmag_i[ex], 'o', ms=5, mew=0, alpha=0.5, color=clr[5])\n",
    "ax[3,1].plot( paramLC_tspan_i[ex],  paramLC_amp_i[ex],    'o', ms=5, mew=0, alpha=0.5, color=clr[5])\n",
    "ax[3,2].plot( paramLC_minmag_i[ex], paramLC_amp_i[ex],    'o', ms=5, mew=0, alpha=0.5, color=clr[5])\n",
    "del cx,ex\n",
    "\n",
    "ax[0,0].set_ylabel('minimum magnitude')\n",
    "ax[0,1].set_ylabel('amplitude')\n",
    "ax[0,2].set_ylabel('amplitude')\n",
    "\n",
    "ax[1,0].set_ylabel('minimum magnitude (g)')\n",
    "ax[1,1].set_ylabel('amplitude (g)')\n",
    "ax[1,2].set_ylabel('amplitude (g)')\n",
    "\n",
    "ax[2,0].set_ylabel('minimum magnitude (r)')\n",
    "ax[2,1].set_ylabel('amplitude (r)')\n",
    "ax[2,2].set_ylabel('amplitude (r)')\n",
    "\n",
    "ax[3,0].set_xlabel('time span')\n",
    "ax[3,1].set_xlabel('time span')\n",
    "ax[3,2].set_xlabel('minimum magnitude')\n",
    "ax[3,0].set_ylabel('minimum magnitude (i)')\n",
    "ax[3,1].set_ylabel('amplitude (i)')\n",
    "ax[3,2].set_ylabel('amplitude (i)')\n",
    "\n",
    "plt.show()"
   ]
  },
  {
   "cell_type": "markdown",
   "id": "b00563b1-debe-4fbd-9ddc-8d9848196fe3",
   "metadata": {
    "tags": []
   },
   "source": [
    "<br>\n",
    "\n",
    "## Demo: plot lightcurves for some remarkable candidates"
   ]
  },
  {
   "cell_type": "code",
   "execution_count": null,
   "id": "054842f6-c37c-4a53-9dba-20adc88b4b3a",
   "metadata": {},
   "outputs": [],
   "source": [
    "all_filters = ['g','r','i']"
   ]
  },
  {
   "cell_type": "markdown",
   "id": "08c6be4c-0863-4df0-aa58-cdec2ea60edd",
   "metadata": {},
   "source": [
    "### The 25 brightest in any filter"
   ]
  },
  {
   "cell_type": "code",
   "execution_count": null,
   "id": "6fa33861-8510-4ce0-b145-19ed27549c32",
   "metadata": {},
   "outputs": [],
   "source": [
    "sx = np.argsort( paramLC_minmag )\n",
    "\n",
    "fig, ax = plt.subplots( 5, 5, figsize=(16,16), sharex=False, sharey=False )\n",
    "\n",
    "s = 0\n",
    "for i in range(5):\n",
    "    for j in range(5):\n",
    "        for f,filt in enumerate(all_filters):\n",
    "            cx = np.where( (candLC_candid == paramLC_candid[sx[s]]) & (candLC_filter == filt) )[0]\n",
    "            if paramLC_field[sx[s]] == 'COSMOS':\n",
    "                clr_i = f\n",
    "            elif paramLC_field[sx[s]] == 'ELAIS':\n",
    "                clr_i = f+3\n",
    "            ax[i,j].plot( candLC_mjd[cx], candLC_mag[cx], 'o', ms=3, mew=0, alpha=0.8, color=clr[clr_i] )\n",
    "            del cx\n",
    "        s += 1\n",
    "        ax[i,j].invert_yaxis()\n",
    "\n",
    "plt.show()\n",
    "del sx,s"
   ]
  },
  {
   "cell_type": "markdown",
   "id": "98b5efe5-41ea-4807-9ad0-f0493cf086f5",
   "metadata": {},
   "source": [
    "### The 25 largest amplitude in the _g_ filter\n",
    "\n",
    "**Warning**: use amplitude _in a filter_ as the demo here, because \"the amplitude in _any_ filter\" can be due more to color than change in brightness."
   ]
  },
  {
   "cell_type": "code",
   "execution_count": null,
   "id": "494896f3-9daf-44a2-81fc-66d072cf8016",
   "metadata": {},
   "outputs": [],
   "source": [
    "sx = np.flip( np.argsort( paramLC_amp_g ) )\n",
    "\n",
    "fig, ax = plt.subplots( 5, 5, figsize=(16,16), sharex=False, sharey=False )\n",
    "\n",
    "s = 0\n",
    "for i in range(5):\n",
    "    for j in range(5):\n",
    "        for f,filt in enumerate(all_filters):\n",
    "            cx = np.where( (candLC_candid == paramLC_candid[sx[s]]) & (candLC_filter == filt) )[0]\n",
    "            if paramLC_field[sx[s]] == 'COSMOS':\n",
    "                clr_i = f\n",
    "            elif paramLC_field[sx[s]] == 'ELAIS':\n",
    "                clr_i = f+3\n",
    "            ax[i,j].plot( candLC_mjd[cx], candLC_mag[cx], 'o', ms=3, mew=0, alpha=0.8, color=clr[clr_i] )\n",
    "            del cx\n",
    "        s += 1\n",
    "        ax[i,j].invert_yaxis()\n",
    "\n",
    "plt.show()\n",
    "del sx,s"
   ]
  },
  {
   "cell_type": "markdown",
   "id": "48928185-f327-495f-8e6b-27013959469a",
   "metadata": {},
   "source": [
    "### The 25 best-sampled in any filter\n",
    "\n",
    "They're all in COSMOS, which recieved more epochs so far."
   ]
  },
  {
   "cell_type": "code",
   "execution_count": null,
   "id": "ae3dee19-e8dd-47b8-8018-229ba293f97b",
   "metadata": {},
   "outputs": [],
   "source": [
    "sx = np.flip( np.argsort( paramLC_neps ) )\n",
    "\n",
    "fig, ax = plt.subplots( 5, 5, figsize=(16,16), sharex=False, sharey=False )\n",
    "\n",
    "s = 0\n",
    "for i in range(5):\n",
    "    for j in range(5):\n",
    "        for f,filt in enumerate(all_filters):\n",
    "            cx = np.where( (candLC_candid == paramLC_candid[sx[s]]) & (candLC_filter == filt) )[0]\n",
    "            if paramLC_field[sx[s]] == 'COSMOS':\n",
    "                clr_i = f\n",
    "            elif paramLC_field[sx[s]] == 'ELAIS':\n",
    "                clr_i = f+3\n",
    "            ax[i,j].plot( candLC_mjd[cx], candLC_mag[cx], 'o', ms=3, mew=0, alpha=0.8, color=clr[clr_i] )\n",
    "            del cx\n",
    "        s += 1\n",
    "        ax[i,j].invert_yaxis()\n",
    "\n",
    "plt.show()\n",
    "del sx,s"
   ]
  },
  {
   "cell_type": "markdown",
   "id": "b12030d1-f04e-4426-b063-5c7e4402bbca",
   "metadata": {},
   "source": [
    "### The 19 most \"SN-Like\"\n",
    "\n",
    "A time span of 30-150 days, and an amplitude of at least 0.5 mag, in _every_ filter."
   ]
  },
  {
   "cell_type": "code",
   "execution_count": null,
   "id": "8f52f6d2-b19e-41b6-8b6a-147c6c49c0bb",
   "metadata": {},
   "outputs": [],
   "source": [
    "tx = np.where( (paramLC_tspan_g > 30) & (paramLC_tspan_r > 30) & (paramLC_tspan_i > 30) &\n",
    "               (paramLC_tspan_g < 150) & (paramLC_tspan_r < 150) & (paramLC_tspan_i < 150) &\n",
    "               (paramLC_amp_g > 0.5) & (paramLC_amp_r > 0.5) & (paramLC_amp_i > 0.5) )[0]\n",
    "print(len(tx))\n",
    "\n",
    "fig, ax = plt.subplots( 4, 5, figsize=(16,12), sharex=False, sharey=False )\n",
    "\n",
    "t = 0\n",
    "for i in range(4):\n",
    "    for j in range(5):\n",
    "        if t < len(tx):\n",
    "            for f,filt in enumerate(all_filters):\n",
    "                cx = np.where( (candLC_candid == paramLC_candid[tx[t]]) & (candLC_filter == filt) )[0]\n",
    "                if paramLC_field[tx[t]] == 'COSMOS':\n",
    "                    clr_i = f\n",
    "                elif paramLC_field[tx[t]] == 'ELAIS':\n",
    "                    clr_i = f+3\n",
    "                ax[i,j].plot( candLC_mjd[cx], candLC_mag[cx], 'o', ms=3, mew=0, alpha=0.8, color=clr[clr_i] )\n",
    "                del cx\n",
    "            t += 1\n",
    "            ax[i,j].invert_yaxis()\n",
    "\n",
    "plt.show()\n",
    "del tx,t"
   ]
  }
 ],
 "metadata": {
  "kernelspec": {
   "display_name": "NERSC Python",
   "language": "python",
   "name": "python3"
  },
  "language_info": {
   "codemirror_mode": {
    "name": "ipython",
    "version": 3
   },
   "file_extension": ".py",
   "mimetype": "text/x-python",
   "name": "python",
   "nbconvert_exporter": "python",
   "pygments_lexer": "ipython3",
   "version": "3.9.7"
  }
 },
 "nbformat": 4,
 "nbformat_minor": 5
}
