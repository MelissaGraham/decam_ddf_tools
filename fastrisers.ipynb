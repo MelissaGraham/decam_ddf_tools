{
 "cells": [
  {
   "cell_type": "code",
   "execution_count": 288,
   "id": "f5c380a7-8f00-4ebe-a205-25511f229ea3",
   "metadata": {},
   "outputs": [],
   "source": [
    "import psycopg2\n",
    "import psycopg2.extras\n",
    "import getpass\n",
    "from IPython.display import display\n",
    "import ipywidgets\n",
    "import matplotlib.pyplot as plt\n",
    "import matplotlib\n",
    "import numpy as np\n",
    "import pandas as pd\n",
    "from astropy.time import Time\n",
    "from astropy.coordinates import get_moon, GCRS\n",
    "import astropy.units as u"
   ]
  },
  {
   "cell_type": "code",
   "execution_count": 289,
   "id": "9ae9f4be-023f-43a0-833e-49fd84d6e383",
   "metadata": {},
   "outputs": [],
   "source": [
    "dbuser = 'kennedyt' # input(\"DB User: \")\n",
    "dbpasswd = 'loq81a5ocd6m' # getpass.getpass(\"DB Password: \")\n",
    "db = psycopg2.connect(f\"dbname='decat' user='{dbuser}' password='{dbpasswd}' host='decatdb.lbl.gov'\")\n",
    "\n",
    "db.autocommit = True # Makes the computer nicer about SQL syntax errors\n",
    "\n",
    "cursor = db.cursor( cursor_factory = psycopg2.extras.DictCursor )"
   ]
  },
  {
   "cell_type": "code",
   "execution_count": 290,
   "id": "eb7acdb5-5621-4637-b606-3aeecb982020",
   "metadata": {},
   "outputs": [],
   "source": [
    "query = ( 'SELECT e.mjd FROM exposures e '\n",
    "         'WHERE q3c_radial_query(e.ra,e.dec,150,2.2,3) '\n",
    "         'LIMIT 10000000')\n",
    "cursor.execute( query )\n",
    "\n",
    "datesquery = cursor.fetchall()"
   ]
  },
  {
   "cell_type": "code",
   "execution_count": 291,
   "id": "cdf1281d-0876-4012-857c-8e9d41315e97",
   "metadata": {},
   "outputs": [
    {
     "data": {
      "text/plain": [
       "array([59292., 59295., 59297., 59301., 59304., 59307., 59310., 59313.,\n",
       "       59316., 59319., 59322., 59325., 59329., 59331., 59333., 59337.,\n",
       "       59340., 59343., 59346., 59349., 59352., 59356., 59358., 59361.,\n",
       "       59364., 59367., 59370., 59373., 59376.])"
      ]
     },
     "execution_count": 291,
     "metadata": {},
     "output_type": "execute_result"
    }
   ],
   "source": [
    "# Make a list of every observation date\n",
    "odates = np.unique(np.round(datesquery))\n",
    "odates"
   ]
  },
  {
   "cell_type": "code",
   "execution_count": 292,
   "id": "aa2443e8-4977-4805-a612-5c540fda800d",
   "metadata": {
    "tags": []
   },
   "outputs": [],
   "source": [
    "fr = []\n",
    "frdates = []\n",
    "fil = 'g'\n",
    "\n",
    "# array = np.empty(len(odates), dtype=object)\n",
    "# for i in range(len(odates)):\n",
    "for i in range(len(odates)):\n",
    "    lodate = odates[i] - 1\n",
    "    hidate = odates[i] + 1\n",
    "    query = ('SELECT o.candidate_id, o.id, e.mjd, o.mag, o.rb, e.id FROM objects o '\n",
    "             'JOIN subtractions s ON s.id=o.subtraction_id '\n",
    "             'JOIN exposures e on s.exposure_id = e.id '\n",
    "             'WHERE q3c_radial_query(e.ra,e.dec,150,2.2,3) '\n",
    "             'AND o.rb > 0.4 '\n",
    "             'AND e.mjd > %s '\n",
    "             'AND e.mjd < %s '\n",
    "             'AND e.filter = %s'\n",
    "             'LIMIT 10000000')\n",
    "    cursor.execute( query, (lodate, hidate, fil) )\n",
    "    tempdf = np.array(cursor.fetchall(), dtype=str).transpose()#, columns = [\"CandID\", \"ObjID\", \"MJD\", \"Mag\", \"R/B\", \"ExpID\"])\n",
    "\n",
    "    dupearr = np.array([tempdf[0], tempdf[2], tempdf[3], tempdf[4], tempdf[5]]).transpose()\n",
    "    dupearr = [\"-\".join(j) for j in dupearr]\n",
    "    dupearr, ind = np.unique(dupearr, return_index=True)\n",
    "    uarr = np.array([i.split(\"-\") for i in dupearr]).transpose()\n",
    "    df = np.array([uarr[0],tempdf[1][ind], uarr[1], uarr[2], uarr[3], uarr[4]])\n",
    "    ucands, uind, ucounts = np.unique(df[0], return_counts=True, return_index=True)\n",
    "    goodcands = ucands[np.where(ucounts>3)[0]]\n",
    "    arr = np.ones(len(goodcands), dtype=object)\n",
    "    for j in range(len(goodcands)):\n",
    "        arr[j] = df[:,df[0,:] == goodcands[j]]\n",
    "    bad = np.ones(len(arr), dtype=bool)\n",
    "    for j in range(len(arr)):\n",
    "        for k in range(len(arr[j][3])-1):\n",
    "            if arr[j][3][k] < arr[j][3][k+1]:\n",
    "                bad[j] = False\n",
    "            if (np.max(arr[j][3].astype(float))-np.min(arr[j][3].astype(float))) < 0.2:\n",
    "                bad[j] = False\n",
    "    for j in range(len(arr[bad])):\n",
    "        fr.append(arr[bad][j][0][0])\n",
    "        frdates.append([lodate, hidate])\n",
    "\n",
    "good = np.ones(len(fr), dtype=bool)\n",
    "for i in range(len(fr)):\n",
    "    query = ('SELECT o.candidate_id, o.id FROM objects o '\n",
    "             'JOIN subtractions s ON s.id=o.subtraction_id '\n",
    "             'JOIN exposures e on s.exposure_id = e.id '\n",
    "             'WHERE q3c_radial_query(e.ra,e.dec,150,2.2,3) '\n",
    "             'AND o.rb > 0.4 '\n",
    "             'AND e.mjd < %s '\n",
    "             'AND e.filter = %s'\n",
    "             'AND o.candidate_id = %s'\n",
    "             'LIMIT 10000000')\n",
    "    cursor.execute( query, (frdates[i][0], fil, fr[i]) )\n",
    "    result = np.array(cursor.fetchall())\n",
    "    if len(result) > 0:\n",
    "        good[i] = False\n",
    "fr = np.array(fr)[good]\n",
    "frdates = np.array(frdates)[good]"
   ]
  },
  {
   "cell_type": "code",
   "execution_count": 293,
   "id": "ff7c589e-ab53-4cd5-be7c-3a4c201922ee",
   "metadata": {
    "tags": []
   },
   "outputs": [
    {
     "data": {
      "text/plain": [
       "2"
      ]
     },
     "execution_count": 293,
     "metadata": {},
     "output_type": "execute_result"
    }
   ],
   "source": [
    "len(fr)"
   ]
  },
  {
   "cell_type": "code",
   "execution_count": 295,
   "id": "02e36ba9-d9b0-463c-b4be-abe450e6739e",
   "metadata": {},
   "outputs": [
    {
     "data": {
      "image/png": "[encoded data removed]",
      "text/plain": [
       "<Figure size 432x288 with 1 Axes>"
      ]
     },
     "metadata": {
      "needs_background": "light"
     },
     "output_type": "display_data"
    },
    {
     "data": {
      "image/png": "[encoded data removed]",
      "text/plain": [
       "<Figure size 432x288 with 1 Axes>"
      ]
     },
     "metadata": {
      "needs_background": "light"
     },
     "output_type": "display_data"
    }
   ],
   "source": [
    "for i in range(len(fr)):\n",
    "    query = ('SELECT c.id, e.mjd, o.mag, o.magerr, e.filter FROM objects o '\n",
    "             'JOIN candidates c ON c.id=o.candidate_id '\n",
    "             'JOIN subtractions s ON s.id=o.subtraction_id '\n",
    "             'JOIN exposures e ON e.id=s.exposure_id '\n",
    "            'WHERE c.id=%s '\n",
    "            'AND o.rb > 0.4')\n",
    "    cursor.execute( query, (fr[i], ) )\n",
    "    array = np.array(cursor.fetchall()).transpose()\n",
    "    rmsk = np.where(array[4]=='r')[0]\n",
    "    gmsk = np.where(array[4]=='g')[0]\n",
    "#     plt.errorbar((array[1][rmsk]).astype(float), (array[2][rmsk]).astype(float), yerr=array[3][rmsk].astype(float), fmt='o', markersize=5, ls= '', color='r', label='r')\n",
    "#     plt.scatter((array[1][rmsk]).astype(float), (array[2][rmsk]).astype(float), color='r', label='r')\n",
    "    plt.scatter((array[1][gmsk]).astype(float), (array[2][gmsk]).astype(float), color='g', label='g')\n",
    "    plt.axvline(float(frdates[i][0]))\n",
    "    plt.axvline(float(frdates[i][1]))\n",
    "    plt.title(array[0][0])\n",
    "    plt.gca().invert_yaxis()\n",
    "    plt.legend()\n",
    "    plt.show()"
   ]
  },
  {
   "cell_type": "code",
   "execution_count": null,
   "id": "daa58906-01ea-40ab-aa99-fc1cbdf7d18c",
   "metadata": {},
   "outputs": [],
   "source": []
  }
 ],
 "metadata": {
  "kernelspec": {
   "display_name": "Python 3",
   "language": "python",
   "name": "python3"
  },
  "language_info": {
   "codemirror_mode": {
    "name": "ipython",
    "version": 3
   },
   "file_extension": ".py",
   "mimetype": "text/x-python",
   "name": "python",
   "nbconvert_exporter": "python",
   "pygments_lexer": "ipython3",
   "version": "3.7.4"
  }
 },
 "nbformat": 4,
 "nbformat_minor": 5
}
