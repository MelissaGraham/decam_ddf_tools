{
 "cells": [
  {
   "cell_type": "markdown",
   "id": "9621bfbd-a1da-48c9-81a9-6d0bc8ce8b82",
   "metadata": {
    "tags": []
   },
   "source": [
    "# Test the use of the `uncertainties` package for error propogation\n",
    "\n",
    "We compare two methods of propogating errors:\n",
    "1. Manual calculation/propogation of value and error separately (Melissa's work)\n",
    "2. Using `uncertainties`, which calculates/propogates values/errors altogether for you (Midori's implementation)\n",
    "\n",
    "We investigate the differences in final values of a few parameters between theses methods."
   ]
  },
  {
   "cell_type": "markdown",
   "id": "b7c6f28e-008b-47c0-9d1b-60e9d0e353cc",
   "metadata": {},
   "source": [
    "## Set up and read in data\n",
    "\n",
    "Import packages"
   ]
  },
  {
   "cell_type": "code",
   "execution_count": 1,
   "id": "38d76c41-0f21-426d-aafb-b989ea0478d4",
   "metadata": {
    "tags": []
   },
   "outputs": [],
   "source": [
    "import numpy as np\n",
    "import matplotlib.pyplot as plt\n",
    "import uncertainties as unc  \n",
    "import uncertainties.unumpy as unp\n",
    "import time\n",
    "\n",
    "from astropy.cosmology import FlatLambdaCDM\n",
    "import astropy.units as u\n",
    "cosmo = FlatLambdaCDM(H0=70 * u.km / u.s / u.Mpc, Tcmb0=2.725 * u.K, Om0=0.3)"
   ]
  },
  {
   "cell_type": "markdown",
   "id": "8e515c15-f13f-481b-af53-7b1174a90e7d",
   "metadata": {},
   "source": [
    "Read in the `sncosmo` results.\n",
    "\n",
    "The fit peak magnitudes are read in but not used in this notebook."
   ]
  },
  {
   "cell_type": "code",
   "execution_count": 2,
   "id": "b1f6d142-e049-46db-be4b-034850218626",
   "metadata": {
    "tags": []
   },
   "outputs": [],
   "source": [
    "fnm = 'all_fit_snia_files/results_sncosmos.dat'\n",
    "\n",
    "fit_cand = np.loadtxt(fnm, dtype='str', usecols=(0))\n",
    "fit_est_z = np.loadtxt(fnm, dtype='float', usecols=(1))\n",
    "fit_in_zlo = np.loadtxt(fnm, dtype='float', usecols=(2))\n",
    "fit_in_zhi = np.loadtxt(fnm, dtype='float', usecols=(3))\n",
    "fit_z = np.loadtxt(fnm, dtype='float', usecols=(4))\n",
    "fit_ze = np.loadtxt(fnm, dtype='float', usecols=(5))\n",
    "fit_t0 = np.loadtxt(fnm, dtype='float', usecols=(6))\n",
    "fit_t0e = np.loadtxt(fnm, dtype='float', usecols=(7))\n",
    "fit_x0 = np.loadtxt(fnm, dtype='float', usecols=(8))\n",
    "fit_x0e = np.loadtxt(fnm, dtype='float', usecols=(9))\n",
    "fit_x1 = np.loadtxt(fnm, dtype='float', usecols=(10))\n",
    "fit_x1e = np.loadtxt(fnm, dtype='float', usecols=(11))\n",
    "fit_c = np.loadtxt(fnm, dtype='float', usecols=(12))\n",
    "fit_ce = np.loadtxt(fnm, dtype='float', usecols=(13))\n",
    "\n",
    "fit_pmB = np.loadtxt(fnm, dtype='float', usecols=(14))\n",
    "fit_pmg = np.loadtxt(fnm, dtype='float', usecols=(15))\n",
    "fit_pmr = np.loadtxt(fnm, dtype='float', usecols=(16))\n",
    "fit_pmi = np.loadtxt(fnm, dtype='float', usecols=(17))\n",
    "\n",
    "del fnm"
   ]
  },
  {
   "cell_type": "markdown",
   "id": "d1dcbf39-3e0e-4791-8f44-10de105b4784",
   "metadata": {
    "tags": []
   },
   "source": [
    "Creating flags so we can look at just the candidates w/ good fits/values"
   ]
  },
  {
   "cell_type": "code",
   "execution_count": 3,
   "id": "b12813fc-dd7c-4635-b254-15bb33059e11",
   "metadata": {
    "tags": []
   },
   "outputs": [],
   "source": [
    "fnm = 'all_fit_snia_files/results_sncosmos_fit_review.dat'\n",
    "fit_flag = np.loadtxt(fnm, dtype='int', usecols=(1))\n",
    "fit_flagMR = np.loadtxt(fnm, dtype='int', usecols=(2))\n",
    "del fnm"
   ]
  },
  {
   "cell_type": "markdown",
   "id": "8101ea7e-a28e-4d5a-a594-e7fe7930d7ee",
   "metadata": {},
   "source": [
    "> 'fit_[**parameter**]'& 'fit_[**parametere**]e' indicates separate value & error calculations, done by Melissa (eg. fit_x0; array containing just x0 values, and fit_x0e; array containing just x0 errors)\n",
    "\n",
    "> '[**parameter**]' indicates use of uncertainties package (eg. x0; uarray containing both nominal and error values of x0)\n",
    "\n",
    "> fit_x0, fit_x1, fit_c, fit_z, fit_pmB & corresponding errors are all derived from sncosmo, so no manual calculation necessary. x0, x1, color, z & mB are values/errors from sncosmo itself\n",
    "\n",
    ">dm15 & dm15e, s & se, mBe are calculated using uncertainties package\n",
    "\n",
    ">fit_dm15, fit_s, fit_MB & respective error arrays are manual error propogation"
   ]
  },
  {
   "cell_type": "markdown",
   "id": "121adfcc-0195-4be5-975f-f481972358f9",
   "metadata": {},
   "source": [
    "The only meaningful relationships we should find are for mBe, as well as delta_m15, stretch, and their corresponding errors. These are the only parameters that we actually use uncertainties package for (x1 is unp.array()). We cannot put an unp.array() through the cosmology package. "
   ]
  },
  {
   "cell_type": "code",
   "execution_count": 4,
   "id": "4ce0a924-a0a1-4d93-a043-f25ead28fac0",
   "metadata": {
    "tags": []
   },
   "outputs": [
    {
     "name": "stderr",
     "output_type": "stream",
     "text": [
      "/tmp/ipykernel_1562429/1424468453.py:2: UserWarning: Obsolete: uarray() should now be called with two arguments. Code can be automatically updated with python -m uncertainties.1to2 -w ProgramDirectory.\n",
      "  x0 = unp.uarray((fit_x0, abs(fit_x0e)))\n",
      "/tmp/ipykernel_1562429/1424468453.py:5: UserWarning: Obsolete: uarray() should now be called with two arguments. Code can be automatically updated with python -m uncertainties.1to2 -w ProgramDirectory.\n",
      "  x1 = unp.uarray((fit_x1, abs(fit_x1e)))\n"
     ]
    }
   ],
   "source": [
    "# x0\n",
    "x0 = unp.uarray((fit_x0, abs(fit_x0e)))\n",
    "\n",
    "# x1\n",
    "x1 = unp.uarray((fit_x1, abs(fit_x1e)))"
   ]
  },
  {
   "cell_type": "code",
   "execution_count": 5,
   "id": "98668623-7093-4ebf-b0a2-01c6581058e0",
   "metadata": {
    "tags": []
   },
   "outputs": [],
   "source": [
    "# dm15\n",
    "dm15 = 1.09 - 0.161*x1 + 0.013*x1**2 - 0.00130*x1**3\n",
    "\n",
    "# fit_dm15\n",
    "fit_dm15 = 1.09 - 0.161*fit_x1 + 0.013*fit_x1**2 - 0.00130*fit_x1**3\n",
    "\n",
    "# fit_dm15e\n",
    "fit_dm15e = np.zeros(len(fit_dm15), dtype='float')\n",
    "for c in range(len(fit_dm15)):\n",
    "    if fit_x1e[c] > 0:\n",
    "        temp = np.random.normal(loc=fit_x1[c], scale=fit_x1e[c], size=10000)\n",
    "        temp2 = 1.09 - 0.161*temp + 0.013*temp**2 - 0.00130*temp**3\n",
    "        fit_dm15e[c] = np.std(temp2)\n",
    "        del temp, temp2\n",
    "    else:\n",
    "        fit_dm15e[c] = -99.9"
   ]
  },
  {
   "cell_type": "code",
   "execution_count": 6,
   "id": "3d895c89-399f-4063-80d1-b0e35faa7dc4",
   "metadata": {
    "tags": []
   },
   "outputs": [],
   "source": [
    "# s\n",
    "s = 0.98 + 0.091*x1 + 0.003*x1**2 - 0.00075*x1**3\n",
    "\n",
    "# fit_s\n",
    "fit_s = 0.98 + 0.091*fit_x1 + 0.003*fit_x1**2 - 0.00075*fit_x1**3\n",
    "\n",
    "#fit_se\n",
    "fit_se = np.zeros(len(fit_s), dtype='float')\n",
    "for c in range(len(fit_s)):\n",
    "    if fit_x1e[c] > 0:\n",
    "        temp = np.random.normal(loc=fit_x1[c], scale=fit_x1e[c], size=10000)\n",
    "        temp2 = 0.98 + 0.091*temp + 0.003*temp**2 - 0.00075*temp**3\n",
    "        fit_se[c] = np.std(temp2)\n",
    "        del temp, temp2\n",
    "    else:\n",
    "        fit_se[c] = -99.9"
   ]
  },
  {
   "cell_type": "code",
   "execution_count": 7,
   "id": "24c98672-777b-4fff-8feb-2926b8d0b208",
   "metadata": {
    "tags": []
   },
   "outputs": [
    {
     "name": "stderr",
     "output_type": "stream",
     "text": [
      "/tmp/ipykernel_1562429/1521408878.py:6: RuntimeWarning: invalid value encountered in log10\n",
      "  temp2 = -2.5 * np.log10(temp) + 10.635\n"
     ]
    }
   ],
   "source": [
    "# fit_pmfe\n",
    "fit_pmfe = np.zeros(len(fit_x0e), dtype='float')\n",
    "for c in range(len(fit_x0e)):\n",
    "    if fit_x0e[c] > 0:\n",
    "        temp = np.random.normal(loc=fit_x0[c], scale=fit_x0e[c], size=10000)\n",
    "        temp2 = -2.5 * np.log10(temp) + 10.635\n",
    "        fit_pmfe[c] = np.std(temp2)\n",
    "        del temp, temp2\n",
    "    else:\n",
    "        fit_pmfe[c] = -99.9"
   ]
  },
  {
   "cell_type": "code",
   "execution_count": 8,
   "id": "40d0ee2e-ba08-4c0a-a852-40733664cc80",
   "metadata": {
    "tags": []
   },
   "outputs": [
    {
     "name": "stderr",
     "output_type": "stream",
     "text": [
      "/tmp/ipykernel_1562429/994376975.py:11: UserWarning: Obsolete: uarray() should now be called with two arguments. Code can be automatically updated with python -m uncertainties.1to2 -w ProgramDirectory.\n",
      "  pmB = unp.uarray((fit_pmB, abs(unp_pmfe)))\n"
     ]
    }
   ],
   "source": [
    "# pmB\n",
    "unp_pmfe = np.zeros(len(x0), dtype='float')\n",
    "for c in range(len(x0)):\n",
    "    if x0[c] > 0:\n",
    "        temp = -2.5 * unp.log10(x0[c]) + 10.635\n",
    "        unp_pmfe[c] = unp.std_devs(temp)\n",
    "        del temp\n",
    "    else:\n",
    "        unp_pmfe[c] = -99.9\n",
    "        \n",
    "pmB = unp.uarray((fit_pmB, abs(unp_pmfe)))"
   ]
  },
  {
   "cell_type": "markdown",
   "id": "5db65481-4021-4ac9-995c-ca082062d001",
   "metadata": {},
   "source": [
    "### Plot relationships\n",
    "* Derivation of parameter values look good, pretty much 1:1 relationship.\n",
    "\n",
    "* Derivation of errors diverge from 1:1 relationship at larger values. Which method is to blame?"
   ]
  },
  {
   "cell_type": "code",
   "execution_count": 9,
   "id": "07de94fc-8c35-47f8-b031-7ae4659cea75",
   "metadata": {
    "tags": []
   },
   "outputs": [],
   "source": [
    "tx = np.where((fit_z > 0.0) & (fit_flagMR == 0))[0]"
   ]
  },
  {
   "cell_type": "code",
   "execution_count": 13,
   "id": "da0bbe63-0327-4692-b1b9-e210e02fc800",
   "metadata": {},
   "outputs": [
    {
     "data": {
      "image/png": "[encoded data removed]",
      "text/plain": [
       "<Figure size 1008x432 with 6 Axes>"
      ]
     },
     "metadata": {
      "needs_background": "light"
     },
     "output_type": "display_data"
    }
   ],
   "source": [
    "fig, ax = plt.subplots(2, 3, figsize=(14, 6), sharex=False, sharey=False)\n",
    "fig.tight_layout(pad=1.5)\n",
    "\n",
    "ax[0,0].scatter(fit_dm15[tx], unp.nominal_values(dm15)[tx])\n",
    "ax[0,0].set_title('dm15')\n",
    "ax[0,0].set_ylabel('uncertainties propogation')\n",
    "ax[0,0].plot([0.66, 1.32], [0.66, 1.32], ls='solid', lw=1.5, alpha=0.6, color='grey')\n",
    "ax[1,0].scatter(fit_dm15e[tx], unp.std_devs(dm15)[tx], color='darkorange')\n",
    "ax[1,0].set_title('dm15 error')\n",
    "ax[1,0].set_ylabel('uncertainties propogation')\n",
    "ax[1,0].plot([0.02, 0.138], [0.02, 0.138], ls='solid', lw=1.5, alpha=0.6, color='grey')\n",
    "ax[0,1].scatter(fit_s[tx], unp.nominal_values(s)[tx])\n",
    "ax[0,1].set_title('stretch')\n",
    "ax[0,1].plot([0.86, 1.28], [0.86, 1.28], ls='solid', lw=1.5, alpha=0.6, color='grey')\n",
    "ax[1,1].scatter(fit_se[tx], unp.std_devs(s)[tx],color='darkorange')\n",
    "ax[1,1].set_title('stretch error')\n",
    "ax[1,1].plot([0.01, 0.1], [0.01, 0.1], ls='solid', lw=1.5, alpha=0.6, color='grey')\n",
    "# ax[0,2].scatter(fit_pmB[tx], unp.nominal_values(pmB)[tx])\n",
    "# ax[0,2].set_title('mB')\n",
    "# ax[0,2].plot([20.2, 22.8], [20.2, 22.8], ls='solid', lw=1.5, alpha=0.6, color='grey')\n",
    "ax[1,2].scatter(fit_pmfe[tx], unp.std_devs(pmB)[tx],color='darkorange')\n",
    "ax[1,2].set_title('mB error')\n",
    "ax[1,2].plot([0.01, 0.12], [0.01, 0.12], ls='solid', lw=1.5, alpha=0.6, color='grey')\n",
    "\n",
    "\n",
    "plt.show()"
   ]
  },
  {
   "cell_type": "markdown",
   "id": "400de8ce-ffad-4ca2-be6b-b769ba21ccbf",
   "metadata": {},
   "source": [
    "Due to limitations with uncertainties package, at least in our particular situation, it's probably best to just manually calulate & propogate values/errors. Best to propogate error the same way for everything, especially since there does appear to be slight differences in error values between the two methods"
   ]
  },
  {
   "cell_type": "code",
   "execution_count": null,
   "id": "00003f3c-ca70-4c37-9d30-0ccb1c4e9ad8",
   "metadata": {},
   "outputs": [],
   "source": []
  },
  {
   "cell_type": "code",
   "execution_count": null,
   "id": "cc50e47f-7a59-4fc7-a6e0-3bafe06b7276",
   "metadata": {},
   "outputs": [],
   "source": []
  },
  {
   "cell_type": "code",
   "execution_count": null,
   "id": "7f8717c5-146d-441d-ba67-fdf58ce29b8a",
   "metadata": {},
   "outputs": [],
   "source": []
  },
  {
   "cell_type": "code",
   "execution_count": 53,
   "id": "47742b0f-59bc-4705-bd8f-515e780920b4",
   "metadata": {
    "tags": []
   },
   "outputs": [],
   "source": [
    "# # fit_MB\n",
    "# fit_MB = np.zeros(len(fit_pmB), dtype='float')\n",
    "# tx = np.where(fit_z > 0.0)[0]\n",
    "# fit_MB[tx] = fit_pmB[tx] - (5. * np.log10(cosmo.luminosity_distance(fit_z[tx]).value) + 25.)\n",
    "# del tx"
   ]
  },
  {
   "cell_type": "code",
   "execution_count": 54,
   "id": "3166cb85-b475-4d35-8141-b8694b689060",
   "metadata": {
    "tags": []
   },
   "outputs": [],
   "source": [
    "# # fit_MBe\n",
    "# fit_MBe = np.zeros(len(fit_MB), dtype='float')\n",
    "# for c in range(len(fit_MB)):\n",
    "#     if fit_z[c] > 0.0:\n",
    "#         temp = np.random.normal(loc=fit_z[c], scale=fit_ze[c], size=10000)\n",
    "#         temp2 = np.random.normal(loc=fit_pmB[c], scale=fit_pmfe[c], size=10000)\n",
    "#         temp3 = temp2 - (5. * np.log10(cosmo.luminosity_distance(temp).value) + 25.)\n",
    "#         fit_MBe[c] = np.std(temp3)\n",
    "#         del temp, temp2, temp3\n",
    "#     else:\n",
    "#         fit_MBe[c] = -99.9"
   ]
  },
  {
   "cell_type": "code",
   "execution_count": 55,
   "id": "23b17f0b-3613-4801-af82-0217e353f316",
   "metadata": {
    "tags": []
   },
   "outputs": [],
   "source": [
    "# # MB\n",
    "# unp_MB = np.zeros(len(unp.nominal_values(pmB)), dtype='float')\n",
    "# tx = np.where(z > 0.0)[0]\n",
    "# unp_MB[tx] = unp.nominal_values(pmB)[tx] - (5. * np.log10(cosmo.luminosity_distance(unp.nominal_values(z)[tx]).value) + 25.)\n",
    "# del tx\n",
    "\n",
    "# unp_MBe = np.zeros(len(unp.nominal_values(unp_MB)), dtype='float')\n",
    "# for c in range(len(unp.nominal_values(unp_MB))):\n",
    "#     if unp.nominal_values(z)[c] > 0.0:\n",
    "#         temp = np.random.normal(loc=unp.nominal_values(z)[c], scale=unp.std_devs(z)[c], size=10000)\n",
    "#         temp2 = np.random.normal(loc=unp.nominal_values(pmB)[c], scale=unp.std_devs(pmB)[c], size=10000)\n",
    "#         temp3 = temp2 - (5. * np.log10(cosmo.luminosity_distance(temp).value) + 25.)\n",
    "#         unp_MBe[c] = np.std(temp3)\n",
    "#         del temp, temp2, temp3\n",
    "#     else:\n",
    "#         unp_MBe[c] = -99.9\n",
    "        \n",
    "# MB = unp.uarray((unp_MB, abs(unp_MBe)))"
   ]
  },
  {
   "cell_type": "code",
   "execution_count": 56,
   "id": "585edcdd-16a2-4149-b487-1cf28fffcf65",
   "metadata": {
    "tags": []
   },
   "outputs": [],
   "source": [
    "# fig, ax = plt.subplots(2, 4, figsize=(14, 6), sharex=False, sharey=False)\n",
    "# fig.tight_layout(pad=1.5)\n",
    "# ax[0,0].scatter(fit_x0[tx], unp.nominal_values(x0)[tx])\n",
    "# ax[0,0].set_title('x0')\n",
    "# ax[0,0].set_ylabel('uncertainties propogation')\n",
    "# ax[0,0].plot([0.00001, 0.000125], [0.00001, 0.000125], ls='solid', lw=1.5, alpha=0.6, color='grey')\n",
    "# ax[1,0].scatter(fit_x0e[tx], unp.std_devs(x0)[tx])\n",
    "# ax[1,0].set_title('x0e')\n",
    "# ax[1,0].set_ylabel('uncertainties propogation')\n",
    "# ax[1,0].plot([0.46e-6, 2.0e-6], [0.46e-6, 2.0e-6], ls='solid', lw=1.5, alpha=0.6, color='grey')\n",
    "# ax[0,1].scatter(fit_x1[tx], unp.nominal_values(x1)[tx])\n",
    "# ax[0,1].set_title('x1')\n",
    "# ax[0,1].plot([-1.4, 3.2], [-1.4, 3.2], ls='solid', lw=1.5, alpha=0.6, color='grey')\n",
    "# ax[1,1].scatter(fit_x1e[tx], unp.std_devs(x1)[tx])\n",
    "# ax[1,1].set_title('x1e')\n",
    "# ax[1,1].plot([0.15, 1.05], [0.15, 1.05], ls='solid', lw=1.5, alpha=0.6, color='grey')\n",
    "# ax[0,2].scatter(fit_c[tx], unp.nominal_values(color)[tx])\n",
    "# ax[0,2].set_title('c')\n",
    "# ax[0,2].plot([-0.2, 0.22], [-0.2, 0.22], ls='solid', lw=1.5, alpha=0.6, color='grey')\n",
    "# ax[1,2].scatter(fit_ce[tx], unp.std_devs(color)[tx])\n",
    "# ax[1,2].set_title('ce')\n",
    "# ax[1,2].plot([0.01, 0.085], [0.01, 0.085], ls='solid', lw=1.5, alpha=0.6, color='grey')\n",
    "# ax[0,3].scatter(fit_z[tx], unp.nominal_values(z)[tx])\n",
    "# ax[0,3].set_title('z')\n",
    "# ax[0,3].plot([0.1, 0.6], [0.1, 0.6], ls='solid', lw=1.5, alpha=0.6, color='grey')\n",
    "# ax[1,3].scatter(fit_ze[tx], unp.std_devs(z)[tx])\n",
    "# ax[1,3].set_title('ze')\n",
    "# ax[1,3].plot([0.005, 0.07], [0.005, 0.07], ls='solid', lw=1.5, alpha=0.6, color='grey')\n",
    "\n",
    "# plt.show()"
   ]
  },
  {
   "cell_type": "code",
   "execution_count": 57,
   "id": "9228b10d-8c8b-470a-b059-ab6dd42c3fd0",
   "metadata": {
    "tags": []
   },
   "outputs": [],
   "source": [
    "# fig, ax = plt.subplots(2, 4, figsize=(14, 6), sharex=False, sharey=False)\n",
    "# fig.tight_layout(pad=1.5)\n",
    "\n",
    "# ax[0,0].scatter(fit_dm15[tx], unp.nominal_values(dm15)[tx])\n",
    "# ax[0,0].set_title('dm15')\n",
    "# ax[0,0].set_ylabel('uncertainties propogation')\n",
    "# ax[0,0].plot([0.66, 1.32], [0.66, 1.32], ls='solid', lw=1.5, alpha=0.6, color='grey')\n",
    "# ax[1,0].scatter(fit_dm15e[tx], unp.std_devs(dm15)[tx])\n",
    "# ax[1,0].set_title('dm15e')\n",
    "# ax[1,0].set_ylabel('uncertainties propogation')\n",
    "# ax[1,0].plot([0.02, 0.138], [0.02, 0.138], ls='solid', lw=1.5, alpha=0.6, color='grey')\n",
    "# ax[0,1].scatter(fit_s[tx], unp.nominal_values(s)[tx])\n",
    "# ax[0,1].set_title('s')\n",
    "# ax[0,1].plot([0.86, 1.28], [0.86, 1.28], ls='solid', lw=1.5, alpha=0.6, color='grey')\n",
    "# ax[1,1].scatter(fit_se[tx], unp.std_devs(s)[tx])\n",
    "# ax[1,1].set_title('se')\n",
    "# ax[1,1].plot([0.01, 0.1], [0.01, 0.1], ls='solid', lw=1.5, alpha=0.6, color='grey')\n",
    "# ax[0,2].scatter(fit_pmB[tx], unp.nominal_values(pmB)[tx])\n",
    "# ax[0,2].set_title('mB')\n",
    "# ax[0,2].plot([20.2, 22.8], [20.2, 22.8], ls='solid', lw=1.5, alpha=0.6, color='grey')\n",
    "# ax[1,2].scatter(fit_pmfe[tx], unp.std_devs(pmB)[tx])\n",
    "# ax[1,2].set_title('mBe')\n",
    "# ax[1,2].plot([0.01, 0.12], [0.01, 0.12], ls='solid', lw=1.5, alpha=0.6, color='grey')\n",
    "# ax[0,3].scatter(fit_MB[tx], unp.nominal_values(MB)[tx])\n",
    "# ax[0,3].set_title('MB')\n",
    "# ax[0,3].plot([-20.0, -17.8], [-20.0, -17.8], ls='solid', lw=1.5, alpha=0.6, color='grey')\n",
    "# ax[1,3].scatter(fit_MBe[tx], unp.std_devs(MB)[tx])\n",
    "# ax[1,3].set_title('MBe')\n",
    "# ax[1,3].plot([0.05, 0.41], [0.05, 0.41], ls='solid', lw=1.5, alpha=0.6, color='grey')\n",
    "\n",
    "# plt.show()"
   ]
  },
  {
   "cell_type": "code",
   "execution_count": null,
   "id": "9f5a8317-ba1a-41a0-8d00-9a3b63322c1f",
   "metadata": {},
   "outputs": [],
   "source": []
  }
 ],
 "metadata": {
  "kernelspec": {
   "display_name": "NERSC Python",
   "language": "python",
   "name": "python3"
  },
  "language_info": {
   "codemirror_mode": {
    "name": "ipython",
    "version": 3
   },
   "file_extension": ".py",
   "mimetype": "text/x-python",
   "name": "python",
   "nbconvert_exporter": "python",
   "pygments_lexer": "ipython3",
   "version": "3.9.7"
  }
 },
 "nbformat": 4,
 "nbformat_minor": 5
}
