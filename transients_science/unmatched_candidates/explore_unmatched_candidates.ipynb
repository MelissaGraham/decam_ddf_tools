{
 "cells": [
  {
   "cell_type": "markdown",
   "id": "c0130779-049d-402c-b67c-8e94b93a8428",
   "metadata": {},
   "source": [
    "# Unmatched candidates\n",
    "\n",
    "As described in Section 2.2 of the paper draft,\n",
    "the DECam DDF candidates were cross-matched\n",
    "to the DESI Legacy Imaging Suvey's Tractor Catalog.\n",
    "\n",
    "Of the 8998 candidates, 121 were not matched to\n",
    "a star or galaxy. \n",
    "\n",
    "What are they, are they interesting? High-redshift?"
   ]
  },
  {
   "cell_type": "markdown",
   "id": "c7a480c3-0d98-4df2-958e-d96a5a93d359",
   "metadata": {},
   "source": [
    "## 1. Set up the notebook\n",
    "\n",
    "### Import packages"
   ]
  },
  {
   "cell_type": "code",
   "execution_count": null,
   "id": "a94e67d2-205b-40fa-85e8-e6168c37db81",
   "metadata": {
    "tags": []
   },
   "outputs": [],
   "source": [
    "import numpy as np\n",
    "import matplotlib.pyplot as plt"
   ]
  },
  {
   "cell_type": "markdown",
   "id": "fdaeeb80-8e71-45ff-aa91-abf9e1998cf3",
   "metadata": {
    "tags": []
   },
   "source": [
    "### Set plot parameters"
   ]
  },
  {
   "cell_type": "code",
   "execution_count": null,
   "id": "43310a01-472b-4ac4-905c-44a598866d05",
   "metadata": {
    "tags": []
   },
   "outputs": [],
   "source": [
    "all_filters = ['g','r','i']\n",
    "all_fcolors = ['green','red','blue']\n",
    "all_fshapes = ['o','s','^']\n",
    "all_fsizes  = [5, 5, 7]"
   ]
  },
  {
   "cell_type": "markdown",
   "id": "bc7624e0-1833-471e-ac91-123306d6c741",
   "metadata": {
    "tags": []
   },
   "source": [
    "### Read files\n",
    "\n",
    "Files all have headers that explain the columns.\n",
    "Use the terminal to navigate to the directory of a file \n",
    "and type `more <filename`, see the header lines\n",
    "prefixed with `#`, then type `q` to return to an\n",
    "active command line.\n",
    "\n",
    "Read the candidates' light curve data."
   ]
  },
  {
   "cell_type": "code",
   "execution_count": null,
   "id": "3e885fcb-6ea9-4810-8d59-c2739b0224fb",
   "metadata": {
    "tags": []
   },
   "outputs": [],
   "source": [
    "fnm = '../all_nightly_epochs_files/candidate_lightcurves.dat'\n",
    "candLC_field = np.loadtxt(fnm, dtype='str', usecols=(0))\n",
    "candLC_candid = np.loadtxt(fnm, dtype='str', usecols=(1))\n",
    "candLC_caldate = np.loadtxt(fnm, dtype='str', usecols=(2))\n",
    "candLC_mjd = np.loadtxt(fnm, dtype='float', usecols=(3))\n",
    "candLC_filter = np.loadtxt(fnm, dtype='str', usecols=(4))\n",
    "candLC_Nobj = np.loadtxt(fnm, dtype='int', usecols=(5))\n",
    "candLC_mag = np.loadtxt(fnm, dtype='float', usecols=(6))\n",
    "candLC_mage = np.loadtxt(fnm, dtype='float', usecols=(7))\n",
    "candLC_mrb = np.loadtxt(fnm, dtype='float', usecols=(8))\n",
    "candLC_lef = np.loadtxt(fnm, dtype='float', usecols=(9))\n",
    "del fnm"
   ]
  },
  {
   "cell_type": "markdown",
   "id": "fe9c947e-056c-4b74-a43d-c50ca17a873b",
   "metadata": {},
   "source": [
    "Read the candidates' light curve summary parameters."
   ]
  },
  {
   "cell_type": "code",
   "execution_count": null,
   "id": "a3f4a264-f68a-4d06-aec4-74b8c8df0639",
   "metadata": {
    "tags": []
   },
   "outputs": [],
   "source": [
    "fnm = '../all_nightly_epochs_files/candidate_lightcurve_parameters.dat'\n",
    "paramLC_field = np.loadtxt(fnm, dtype='str', usecols=(0))\n",
    "paramLC_candid = np.loadtxt(fnm, dtype='str', usecols=(1))\n",
    "paramLC_tspan = np.loadtxt(fnm, dtype='float', usecols=(2))\n",
    "paramLC_tspan_g = np.loadtxt(fnm, dtype='float', usecols=(3))\n",
    "paramLC_tspan_r = np.loadtxt(fnm, dtype='float', usecols=(4))\n",
    "paramLC_tspan_i = np.loadtxt(fnm, dtype='float', usecols=(5))\n",
    "paramLC_minmag = np.loadtxt(fnm, dtype='float', usecols=(6))\n",
    "paramLC_minmag_g = np.loadtxt(fnm, dtype='float', usecols=(7))\n",
    "paramLC_minmag_r = np.loadtxt(fnm, dtype='float', usecols=(8))\n",
    "paramLC_minmag_i = np.loadtxt(fnm, dtype='float', usecols=(9))\n",
    "paramLC_amp = np.loadtxt(fnm, dtype='float', usecols=(10))\n",
    "paramLC_amp_g = np.loadtxt(fnm, dtype='float', usecols=(11))\n",
    "paramLC_amp_r = np.loadtxt(fnm, dtype='float', usecols=(12))\n",
    "paramLC_amp_i = np.loadtxt(fnm, dtype='float', usecols=(13))\n",
    "paramLC_neps = np.loadtxt(fnm, dtype='int', usecols=(14))\n",
    "paramLC_neps_g = np.loadtxt(fnm, dtype='int', usecols=(15))\n",
    "paramLC_neps_r = np.loadtxt(fnm, dtype='int', usecols=(16))\n",
    "paramLC_neps_i = np.loadtxt(fnm, dtype='int', usecols=(17))\n",
    "del fnm"
   ]
  },
  {
   "cell_type": "markdown",
   "id": "bd1e0bfd-7880-4e3f-838e-e29ad967f60e",
   "metadata": {},
   "source": [
    "Read the candidates' cross-match results."
   ]
  },
  {
   "cell_type": "code",
   "execution_count": null,
   "id": "40d621ae-d321-4953-a577-12901e330fa1",
   "metadata": {
    "tags": []
   },
   "outputs": [],
   "source": [
    "fnm = '../cross_matched_LSDR10/candidate_xmatch_LSdr10.dat'\n",
    "lsdr10xm_candid   = np.loadtxt(fnm, dtype='str', usecols=(0))\n",
    "lsdr10xm_candra   = np.loadtxt(fnm, dtype='float', usecols=(1))\n",
    "lsdr10xm_canddec  = np.loadtxt(fnm, dtype='float', usecols=(2))\n",
    "lsdr10xm_flagstar = np.loadtxt(fnm, dtype='int', usecols=(4))\n",
    "lsdr10xm_flagcore = np.loadtxt(fnm, dtype='int', usecols=(5))\n",
    "lsdr10xm_flagmatch= np.loadtxt(fnm, dtype='int', usecols=(6))\n",
    "lsdr10xm_sep      = np.loadtxt(fnm, dtype='float', usecols=(7))\n",
    "lsdr10xm_ra       = np.loadtxt(fnm, dtype='float', usecols=(8))\n",
    "lsdr10xm_dec      = np.loadtxt(fnm, dtype='float', usecols=(9))\n",
    "lsdr10xm_rmag     = np.loadtxt(fnm, dtype='float', usecols=(13))\n",
    "lsdr10xm_type     = np.loadtxt(fnm, dtype='str', usecols=(15))\n",
    "lsdr10xm_shaper   = np.loadtxt(fnm, dtype='float', usecols=(19))\n",
    "lsdr10xm_rpsfsize = np.loadtxt(fnm, dtype='float', usecols=(21))  \n",
    "lsdr10xm_meanpz   = np.loadtxt(fnm, dtype='float', usecols=(23))\n",
    "lsdr10xm_stdpz    = np.loadtxt(fnm, dtype='float', usecols=(24))\n",
    "lsdr10xm_specz    = np.loadtxt(fnm, dtype='float', usecols=(25))\n",
    "del fnm"
   ]
  },
  {
   "cell_type": "markdown",
   "id": "3fa7f272-1380-4641-9642-d57a96de725e",
   "metadata": {},
   "source": [
    "Read the candidates' links to Legacy Survey viewer (lsview) and to Rob Knop's candidate viewer (rkview)."
   ]
  },
  {
   "cell_type": "code",
   "execution_count": null,
   "id": "0316bebc-03f5-47f5-8841-caa937a03807",
   "metadata": {
    "tags": []
   },
   "outputs": [],
   "source": [
    "fnm = '../cross_matched_LSDR10/candidate_links.dat'\n",
    "link_candid = np.loadtxt(fnm, dtype='str', usecols=(0))\n",
    "link_lsview = np.loadtxt(fnm, dtype='str', usecols=(1))\n",
    "link_rkview = np.loadtxt(fnm, dtype='str', usecols=(2))\n",
    "del fnm"
   ]
  },
  {
   "cell_type": "markdown",
   "id": "beb7dd50-c822-4003-bb52-6130aaca5c5e",
   "metadata": {},
   "source": [
    "### Find the unmatched candidates\n",
    "\n",
    "The header of the file `candidate_xmatch_LSdr10.dat` specifies that\n",
    "the third column (with index 4), which was read into `lsdr10xm_flagstar`,\n",
    "contains a flag value that indicates if the candidate was matched or not.\n",
    "\n",
    "```\n",
    "#  4 : Flag: 1 if matched to a star; 0 if matched to a galaxy; -1 if unmatched (int) \n",
    "```\n"
   ]
  },
  {
   "cell_type": "code",
   "execution_count": null,
   "id": "872c2d39-0194-40af-82c6-de1e89fb54c9",
   "metadata": {
    "tags": []
   },
   "outputs": [],
   "source": [
    "tx = np.where(lsdr10xm_flagstar == -1)[0]\n",
    "print('Number of unmatched candidates: ', len(tx))"
   ]
  },
  {
   "cell_type": "code",
   "execution_count": null,
   "id": "651770f0-3cb1-412a-9522-47221b6d60e2",
   "metadata": {
    "tags": []
   },
   "outputs": [],
   "source": [
    "unmatched_candid = lsdr10xm_candid[tx]\n",
    "print(unmatched_candid)"
   ]
  },
  {
   "cell_type": "markdown",
   "id": "476b6e0d-d546-4804-a5fd-4f2b88cf56ca",
   "metadata": {},
   "source": [
    "## 2. Review the environment with the Legacy Viewer links\n",
    "\n",
    "These candidates were unmatched, but are they in truly empty\n",
    "space, or is there something faint there?\n",
    "Perhaps did something go wrong with the matching?\n",
    "\n",
    "Keep track of the results of the reivew.\n",
    "\n",
    "For example, make a file called, e.g., \"unmatched_candidates_review.txt\".\n",
    "Have column 1 be the candidate name, column 2 a flag, \n",
    "and maybe after that have notes.\n",
    "\n",
    "The flag values might be, e.g., \n",
    "0 for blank area, \n",
    "1 for faint things nearby,\n",
    "2 for bright things nearby,\n",
    "3 for star right at candidate location,\n",
    "4 for galaxy right at candidate location."
   ]
  },
  {
   "cell_type": "code",
   "execution_count": null,
   "id": "983287ec-83e8-4ddc-bb61-3218350524af",
   "metadata": {
    "tags": []
   },
   "outputs": [],
   "source": [
    "for c, candid in enumerate(unmatched_candid):\n",
    "    cx = np.where(link_candid == candid)[0]\n",
    "    print(candid, link_lsview[cx])"
   ]
  },
  {
   "cell_type": "markdown",
   "id": "f92ac46b-f754-439a-a6b4-4b93fb6c7e00",
   "metadata": {},
   "source": [
    "## 3. Plot the light curves of unmatched candidates\n",
    "\n",
    "Create the folder `plots_lightcurves/`, which is required\n",
    "to exist by the code cell before.\n",
    "The PNG light curve plots will be stored in that folder.\n",
    "The filename will be the candidate name.\n",
    "\n",
    "After running the following cell, visually review the light curves. Do any stand out as interesting?\n",
    "\n",
    "Perhaps create another flag file to keep track of the results\n",
    "of your review of the candidate light curves."
   ]
  },
  {
   "cell_type": "code",
   "execution_count": null,
   "id": "412db573-c083-4649-9e35-42fedb6beaa8",
   "metadata": {
    "tags": []
   },
   "outputs": [],
   "source": [
    "for c, candid in enumerate(unmatched_candid):\n",
    "    fig = plt.figure(figsize=(8, 6))\n",
    "    for f,filt in enumerate(all_filters):\n",
    "        \n",
    "        # index regular, poor-RB, and lonely epochs\n",
    "        cx0 = np.where((candLC_candid == candid) & \\\n",
    "                       (candLC_filter == filt) & \n",
    "                       (candLC_mrb > 0.4))[0]\n",
    "        cx1 = np.where((candLC_candid == candid) & \\\n",
    "                       (candLC_filter == filt) & \n",
    "                       (candLC_mrb <= 0.4) & \n",
    "                       (candLC_lef == 0))[0]\n",
    "        cx2 = np.where((candLC_candid == candid) & \\\n",
    "                       (candLC_filter == filt) & \n",
    "                       (candLC_mrb <= 0.4) & \n",
    "                       (candLC_lef == 1))[0]\n",
    "        \n",
    "        # plot the regular, poor-RB, and lonely epochs\n",
    "        # with different symbol types\n",
    "        plt.plot(candLC_mjd[cx0], candLC_mag[cx0], \n",
    "                 all_fshapes[f], ms=all_fsizes[f], \n",
    "                 mew=0, alpha=0.8, color=all_fcolors[f], label=filt)\n",
    "        plt.plot(candLC_mjd[cx1], candLC_mag[cx1], \n",
    "                 all_fshapes[f], ms=all_fsizes[f], \n",
    "                 mew=1, alpha=0.8, color='none', mec=all_fcolors[f], \n",
    "                 label=filt+' (R/B<0.4)')\n",
    "        plt.plot(candLC_mjd[cx2], candLC_mag[cx2], \n",
    "                 all_fshapes[f], ms=all_fsizes[f]-1, \n",
    "                 mew=0, alpha=0.4, color=all_fcolors[f])\n",
    "        \n",
    "        # clean up\n",
    "        del cx0, cx1, cx2\n",
    "    \n",
    "    # set the x-axis limits & label\n",
    "    cx = np.where(candLC_candid == candid)[0]\n",
    "    xmin = np.min(candLC_mjd[cx])\n",
    "    xmax = np.max(candLC_mjd[cx])\n",
    "    plt.xlim([xmin- 5.0, xmax + 5.0])\n",
    "    del cx, xmin, xmax\n",
    "    plt.xlabel('MJD-59300', fontsize=14)\n",
    "    \n",
    "    # set the y-axis limits & label\n",
    "    plt.gca().invert_yaxis()\n",
    "    plt.ylabel('mag', fontsize=14)\n",
    "    \n",
    "    # title and legend, then save and close\n",
    "    plt.title(candid)\n",
    "    plt.legend(loc='best', labelspacing=0.1, handletextpad=0.1, fontsize=14)\n",
    "    plt.savefig('plots_lightcurves/'+candid+'.png')\n",
    "    plt.close()"
   ]
  },
  {
   "cell_type": "markdown",
   "id": "a4e4ed02-1370-4eef-930e-aa40a1de66e3",
   "metadata": {},
   "source": [
    "## 4. Plot distributions of light curve summary parameters\n",
    "\n",
    "Create a folder called `plots_lcsummary` and save all\n",
    "plots created to that directory.\n",
    "\n",
    "The calculated light curve summary paramters are described\n",
    "in Section 2.1 of the paper draft.\n",
    "\n",
    "Distributions and relationships of these summary parameters\n",
    "are shown in Figures 1 and 2 of the paper draft.\n",
    "\n",
    "Make plots that compare the distributions and relations\n",
    "of these summary parameters for the unmatched candidates\n",
    "to all of the candidates.\n",
    "Save them in the `plots_lcsummary/` directory.\n",
    "\n",
    "E.g., recreate histograms/distributions\n",
    "as in Figs 1/2 of paper draft\n",
    "but overplot histograms/distributions of\n",
    "just the unmatched candidates.\n",
    "\n",
    "Do the unmatched candidates occupy any particular part\n",
    "of parameter space? E.g., do they mostly have smaller\n",
    "amplitudes, larger durations, or anything else notable?\n",
    "\n",
    "To see how the plots in Figs 1/2 were made, can look at\n",
    "`transients_science/explore_nightly_epoch_summary.ipynb`."
   ]
  },
  {
   "cell_type": "code",
   "execution_count": null,
   "id": "25b3b83d-b611-4c5a-b792-6ba2b6fa8691",
   "metadata": {},
   "outputs": [],
   "source": []
  }
 ],
 "metadata": {
  "kernelspec": {
   "display_name": "NERSC Python",
   "language": "python",
   "name": "python3"
  },
  "language_info": {
   "codemirror_mode": {
    "name": "ipython",
    "version": 3
   },
   "file_extension": ".py",
   "mimetype": "text/x-python",
   "name": "python",
   "nbconvert_exporter": "python",
   "pygments_lexer": "ipython3",
   "version": "3.11.7"
  }
 },
 "nbformat": 4,
 "nbformat_minor": 5
}
