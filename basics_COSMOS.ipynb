{
 "cells": [
  {
   "cell_type": "markdown",
   "id": "2fa186a1-1599-41a5-ac5e-038be6f25418",
   "metadata": {},
   "source": [
    "This notebook answers a few basics questions about the COSMOS field data-- how many objects and candidates were detected, how objects are distributed among candidates, and how those distributions change when an R/B cutoff is applied."
   ]
  },
  {
   "cell_type": "code",
   "execution_count": 1,
   "id": "ebbd0adc-ebbf-43ba-bc6e-1e938c1e21f4",
   "metadata": {},
   "outputs": [],
   "source": [
    "import psycopg2\n",
    "import psycopg2.extras\n",
    "import getpass\n",
    "from IPython.display import display\n",
    "import ipywidgets\n",
    "import matplotlib.pyplot as plt\n",
    "import numpy as np\n",
    "import pandas as pd"
   ]
  },
  {
   "cell_type": "code",
   "execution_count": 2,
   "id": "910551c6-9b72-4ca8-b88b-a2372375149a",
   "metadata": {},
   "outputs": [
    {
     "name": "stdin",
     "output_type": "stream",
     "text": [
      "DB User:  kennedyt\n",
      "DB Password:  ············\n"
     ]
    }
   ],
   "source": [
    "dbuser = input(\"DB User: \")\n",
    "dbpasswd = getpass.getpass(\"DB Password: \")"
   ]
  },
  {
   "cell_type": "code",
   "execution_count": 3,
   "id": "12a2b476-acab-4716-b290-6b027982eaaa",
   "metadata": {},
   "outputs": [],
   "source": [
    "db = psycopg2.connect(f\"dbname='decat' user='{dbuser}' password='{dbpasswd}' host='decatdb.lbl.gov'\")"
   ]
  },
  {
   "cell_type": "code",
   "execution_count": 4,
   "id": "b2b766de-e184-4f46-861e-2063d55747be",
   "metadata": {},
   "outputs": [],
   "source": [
    "db.autocommit = True # Makes the computer nicer about SQL syntax errors\n",
    "\n",
    "cursor = db.cursor( cursor_factory = psycopg2.extras.DictCursor )"
   ]
  },
  {
   "cell_type": "markdown",
   "id": "54d86e37-e0c6-4614-9bec-8dcf55d82d4e",
   "metadata": {},
   "source": [
    "#### How many standard images are in the COSMOS field?"
   ]
  },
  {
   "cell_type": "code",
   "execution_count": 5,
   "id": "732db733-ec13-49d9-a95c-39b535edbdcb",
   "metadata": {},
   "outputs": [],
   "source": [
    "query = ( 'SELECT e.filename, e.filter FROM exposures e '\n",
    "         'WHERE q3c_radial_query(e.ra,e.dec,150,2.2,3) '\n",
    "         'LIMIT 10000000')\n",
    "cursor.execute( query )\n",
    "\n",
    "expnumquery = np.array(cursor.fetchall()).transpose()"
   ]
  },
  {
   "cell_type": "code",
   "execution_count": 6,
   "id": "0206df30-dda3-4213-80d7-b91fd01744cc",
   "metadata": {},
   "outputs": [],
   "source": [
    "# truncate filenames to match lookup table format\n",
    "fnms = [ expnumquery[0][i][:21] for i in range( len( expnumquery[0] ) ) ]\n",
    "\n",
    "# read in the exposure time lookup table\n",
    "lutable = np.loadtxt(\"archive_image_list.txt\", dtype=object).transpose()\n",
    "fnmtable, exptable = lutable[0], lutable[7].astype(float)\n",
    "\n",
    "# find the exposure time for each object\n",
    "exptimes = np.array([exptable[np.where(fnms[i] == fnmtable)[0]][0] for i in range(len(fnms))], dtype=float)"
   ]
  },
  {
   "cell_type": "code",
   "execution_count": 7,
   "id": "fddfc611-3df0-4990-bfe4-78c9a7ce4021",
   "metadata": {},
   "outputs": [
    {
     "data": {
      "text/plain": [
       "1043"
      ]
     },
     "execution_count": 7,
     "metadata": {},
     "output_type": "execute_result"
    }
   ],
   "source": [
    "filters = np.array(expnumquery[1])\n",
    "\n",
    "# Eliminate objects from non-standard images\n",
    "gmsk = np.where((filters==\"g\") & (exptimes>50))[0]\n",
    "rmsk = np.where((filters==\"r\") & (exptimes>20))[0]\n",
    "imsk = np.where((filters==\"i\") & (exptimes>20))[0]\n",
    "\n",
    "grmsk = np.append(rmsk, gmsk)\n",
    "grimsk = np.append(grmsk, imsk)\n",
    "\n",
    "# apply the standard images mask\n",
    "len(grimsk)"
   ]
  },
  {
   "cell_type": "markdown",
   "id": "073f6977-441e-47af-a995-ec99cf4a40cb",
   "metadata": {},
   "source": [
    "#### How many objects total in the COSMOS field?"
   ]
  },
  {
   "cell_type": "code",
   "execution_count": 8,
   "id": "69241613-4bbd-4f18-af59-6305d4c7b1ca",
   "metadata": {},
   "outputs": [],
   "source": [
    "query = ( 'SELECT o.id, e.filename, e.filter FROM objects o '\n",
    "         'JOIN subtractions s ON o.subtraction_id=s.id '\n",
    "         'JOIN exposures e ON s.exposure_id=e.id '\n",
    "         'WHERE q3c_radial_query(o.ra,o.dec,150,2.2,3) '\n",
    "         'LIMIT 10000000')\n",
    "cursor.execute( query )\n",
    "\n",
    "objnum = pd.DataFrame(cursor.fetchall(), columns=[\"ObjID\", \"Fnm\", \"Filter\"])\n",
    "# print( objnum )"
   ]
  },
  {
   "cell_type": "code",
   "execution_count": 9,
   "id": "a772e264-d582-44fa-b456-a83b46f96257",
   "metadata": {},
   "outputs": [],
   "source": [
    "# Grab lookup table for exposure times\n",
    "lutable = np.loadtxt(\"archive_image_list.txt\", dtype=object).transpose()\n",
    "fnmtable, exptable = lutable[0], lutable[7]\n",
    "\n",
    "# truncate filenames to match lookup table format\n",
    "fnms = [objnum[\"Fnm\"][i][:21] for i in range(len(objnum[\"Fnm\"]))]"
   ]
  },
  {
   "cell_type": "code",
   "execution_count": 10,
   "id": "63d13c0c-78aa-4d3e-9c75-a2aae8ec3805",
   "metadata": {},
   "outputs": [],
   "source": [
    "# find the exposure time for each object\n",
    "exptime = [exptable[np.where(fnms[i] == fnmtable)[0]][0] for i in range(len(fnms))]\n",
    "objnum[\"Exptime\"] = np.array(exptime).astype(float)"
   ]
  },
  {
   "cell_type": "code",
   "execution_count": 11,
   "id": "1859726d-857b-4af9-833c-928e1cfe87fb",
   "metadata": {},
   "outputs": [],
   "source": [
    "# Eliminate objects from non-standard images\n",
    "gmsk = np.where((objnum[\"Filter\"]==\"g\") & (objnum[\"Exptime\"]>50))[0]\n",
    "rmsk = np.where((objnum[\"Filter\"]==\"r\") & (objnum[\"Exptime\"]>20))[0]\n",
    "imsk = np.where((objnum[\"Filter\"]==\"i\") & (objnum[\"Exptime\"]>20))[0]\n",
    "grmsk = np.append(rmsk, gmsk)\n",
    "grimsk = np.append(grmsk, imsk)"
   ]
  },
  {
   "cell_type": "code",
   "execution_count": 16,
   "id": "952bed78-eed0-4ef8-94b8-d05aae50fc9c",
   "metadata": {},
   "outputs": [
    {
     "name": "stdout",
     "output_type": "stream",
     "text": [
      "There are 1733967 total objects from standard images in the COSMOS field data\n",
      "468260 g-band objects\n",
      "883736 r-band objects\n",
      "381971 i-band objects\n"
     ]
    }
   ],
   "source": [
    "# length of resulting mask is the total number of objects from science images\n",
    "print(\"There are %s total objects from standard images in the COSMOS field data\" % (len(grimsk)))\n",
    "print(\"%s g-band objects\" % (len(gmsk)))\n",
    "print(\"%s r-band objects\" % (len(rmsk)))\n",
    "print(\"%s i-band objects\" % (len(imsk)))"
   ]
  },
  {
   "cell_type": "markdown",
   "id": "d7fa5e00-81a0-4d82-9bc0-ad056aa57b3a",
   "metadata": {},
   "source": [
    "#### How many good (R/B>0.6) objects total in the COSMOS field?"
   ]
  },
  {
   "cell_type": "code",
   "execution_count": 17,
   "id": "1ab44a06-53f6-4da4-b503-c2a6bf74cc68",
   "metadata": {},
   "outputs": [],
   "source": [
    "query = ( 'SELECT o.id, e.filename, e.filter FROM objects o '\n",
    "         'JOIN subtractions s ON o.subtraction_id=s.id '\n",
    "         'JOIN exposures e ON s.exposure_id=e.id '\n",
    "         'WHERE q3c_radial_query(o.ra,o.dec,150,2.2,3) '\n",
    "         'AND o.rb > 0.6 '\n",
    "         'LIMIT 10000000')\n",
    "cursor.execute( query )\n",
    "\n",
    "objnumdf = pd.DataFrame(cursor.fetchall(), columns=[\"ObjID\", \"Fnm\", \"Filter\"])"
   ]
  },
  {
   "cell_type": "code",
   "execution_count": 18,
   "id": "cbd94172-df06-4934-8d05-09234a95baae",
   "metadata": {},
   "outputs": [
    {
     "data": {
      "text/plain": [
       "166483"
      ]
     },
     "execution_count": 18,
     "metadata": {},
     "output_type": "execute_result"
    }
   ],
   "source": [
    "len(objnumdf[\"ObjID\"]) # total number of good objects"
   ]
  },
  {
   "cell_type": "code",
   "execution_count": 19,
   "id": "474eebeb-38d2-4b16-9715-5aead5188343",
   "metadata": {},
   "outputs": [],
   "source": [
    "lutable = np.loadtxt(\"archive_image_list.txt\", dtype=object).transpose()\n",
    "fnmtable, exptable = lutable[0], lutable[7].astype(float)\n",
    "fnms = [objnumdf[\"Fnm\"][i][:21] for i in range(len(objnumdf[\"Fnm\"]))] # truncate filenames to match lookup table format"
   ]
  },
  {
   "cell_type": "code",
   "execution_count": 20,
   "id": "0d164fb8-f347-4546-a5a5-ebecfdde5c71",
   "metadata": {},
   "outputs": [],
   "source": [
    "# find the exposure time for each object\n",
    "objnumdf[\"Exptime\"] = [exptable[np.where(fnms[i] == fnmtable)[0]][0] for i in range(len(fnms))]"
   ]
  },
  {
   "cell_type": "code",
   "execution_count": 21,
   "id": "a7c5c0a6-f8d4-45db-8114-610841011629",
   "metadata": {},
   "outputs": [],
   "source": [
    "# Eliminate objects from non-standard images\n",
    "gmsk = np.where((objnumdf[\"Filter\"]==\"g\") & (objnumdf[\"Exptime\"]>50))[0]\n",
    "rmsk = np.where((objnumdf[\"Filter\"]==\"r\") & (objnumdf[\"Exptime\"]>20))[0]\n",
    "imsk = np.where((objnumdf[\"Filter\"]==\"i\") & (objnumdf[\"Exptime\"]>20))[0]\n",
    "grmsk = np.append(rmsk, gmsk)\n",
    "grimsk = np.append(grmsk, imsk)"
   ]
  },
  {
   "cell_type": "code",
   "execution_count": 25,
   "id": "3df57dac-664f-4d9a-b579-898978e36352",
   "metadata": {},
   "outputs": [
    {
     "name": "stdout",
     "output_type": "stream",
     "text": [
      "There are 161017 total good (R/B > 0.6) objects from standard images in the COSMOS field data\n",
      "55909 g-band objects\n",
      "62782 r-band objects\n",
      "42326 i-band objects\n"
     ]
    }
   ],
   "source": [
    "print(\"There are %s total good (R/B > 0.6) objects from standard images in the COSMOS field data\" % (len(grimsk)))\n",
    "print(\"%s g-band objects\" % (len(gmsk)))\n",
    "print(\"%s r-band objects\" % (len(rmsk)))\n",
    "print(\"%s i-band objects\" % (len(imsk)))"
   ]
  },
  {
   "cell_type": "markdown",
   "id": "e95ddd1f-d411-4096-ad9a-a610d16fd9b7",
   "metadata": {},
   "source": [
    "#### How many candidates total in the COSMOS field?"
   ]
  },
  {
   "cell_type": "code",
   "execution_count": 26,
   "id": "9fad7374-8d38-4710-8ace-9f352642f130",
   "metadata": {},
   "outputs": [
    {
     "name": "stdout",
     "output_type": "stream",
     "text": [
      "298779\n"
     ]
    }
   ],
   "source": [
    "# Not sure how I would go about eliminating candidates with detections only in non-standard images, but I imagine that fraction is negligible?\n",
    "query = ( 'SELECT COUNT(*) FROM candidates c '\n",
    "         'WHERE q3c_radial_query(c.ra,c.dec,150,2.2,3) ' \n",
    "         'LIMIT 10000000')\n",
    "cursor.execute( query )\n",
    "\n",
    "candnum = cursor.fetchall()[0][0]\n",
    "print( candnum )"
   ]
  },
  {
   "cell_type": "markdown",
   "id": "2f52b047-16de-4fd8-b5f5-81913b6c119f",
   "metadata": {},
   "source": [
    "#### How are the objects distributed among candidates (COSMOS, ignoring RB scores)?"
   ]
  },
  {
   "cell_type": "code",
   "execution_count": 27,
   "id": "80c3f68b-a6a9-46e2-87f0-98c5138f5869",
   "metadata": {},
   "outputs": [
    {
     "data": {
      "text/plain": [
       "array([['DC21e', 'DC21c', 'DC21f', ..., 'DC21mmu', 'DC21ttw', 'DC21dahl']],\n",
       "      dtype='<U9')"
      ]
     },
     "execution_count": 27,
     "metadata": {},
     "output_type": "execute_result"
    }
   ],
   "source": [
    "### Returns objects.candidate_id for every object\n",
    "\n",
    "query = ( 'SELECT candidate_id FROM objects o '\n",
    "         'WHERE q3c_radial_query(o.ra,o.dec,150,2.2,3) '\n",
    "         'LIMIT 10000000')\n",
    "cursor.execute( query )\n",
    "\n",
    "cndobj_a = np.array( cursor.fetchall() ).transpose()\n",
    "cndobj_a"
   ]
  },
  {
   "cell_type": "code",
   "execution_count": 28,
   "id": "53c46d7a-7cb0-4ec9-8d39-06b3bbfb1103",
   "metadata": {},
   "outputs": [],
   "source": [
    "# Finding out how many objects have a given candidate id\n",
    "candidate_a, frequencies_a = np.unique( cndobj_a[0], return_counts=True )"
   ]
  },
  {
   "cell_type": "code",
   "execution_count": 29,
   "id": "e845794c-c634-46e3-b4a3-8945b04dd1d7",
   "metadata": {},
   "outputs": [
    {
     "data": {
      "text/html": [
       "<div>\n",
       "<style scoped>\n",
       "    .dataframe tbody tr th:only-of-type {\n",
       "        vertical-align: middle;\n",
       "    }\n",
       "\n",
       "    .dataframe tbody tr th {\n",
       "        vertical-align: top;\n",
       "    }\n",
       "\n",
       "    .dataframe thead th {\n",
       "        text-align: right;\n",
       "    }\n",
       "</style>\n",
       "<table border=\"1\" class=\"dataframe\">\n",
       "  <thead>\n",
       "    <tr style=\"text-align: right;\">\n",
       "      <th></th>\n",
       "      <th>Number of detections</th>\n",
       "    </tr>\n",
       "  </thead>\n",
       "  <tbody>\n",
       "    <tr>\n",
       "      <td>DC21b</td>\n",
       "      <td>163</td>\n",
       "    </tr>\n",
       "    <tr>\n",
       "      <td>DC21ba</td>\n",
       "      <td>143</td>\n",
       "    </tr>\n",
       "    <tr>\n",
       "      <td>DC21baa</td>\n",
       "      <td>60</td>\n",
       "    </tr>\n",
       "    <tr>\n",
       "      <td>DC21baaa</td>\n",
       "      <td>32</td>\n",
       "    </tr>\n",
       "    <tr>\n",
       "      <td>DC21baab</td>\n",
       "      <td>24</td>\n",
       "    </tr>\n",
       "    <tr>\n",
       "      <td>...</td>\n",
       "      <td>...</td>\n",
       "    </tr>\n",
       "    <tr>\n",
       "      <td>DC21zzv</td>\n",
       "      <td>69</td>\n",
       "    </tr>\n",
       "    <tr>\n",
       "      <td>DC21zzw</td>\n",
       "      <td>1</td>\n",
       "    </tr>\n",
       "    <tr>\n",
       "      <td>DC21zzx</td>\n",
       "      <td>81</td>\n",
       "    </tr>\n",
       "    <tr>\n",
       "      <td>DC21zzy</td>\n",
       "      <td>20</td>\n",
       "    </tr>\n",
       "    <tr>\n",
       "      <td>DC21zzz</td>\n",
       "      <td>1</td>\n",
       "    </tr>\n",
       "  </tbody>\n",
       "</table>\n",
       "<p>298774 rows × 1 columns</p>\n",
       "</div>"
      ],
      "text/plain": [
       "          Number of detections\n",
       "DC21b                      163\n",
       "DC21ba                     143\n",
       "DC21baa                     60\n",
       "DC21baaa                    32\n",
       "DC21baab                    24\n",
       "...                        ...\n",
       "DC21zzv                     69\n",
       "DC21zzw                      1\n",
       "DC21zzx                     81\n",
       "DC21zzy                     20\n",
       "DC21zzz                      1\n",
       "\n",
       "[298774 rows x 1 columns]"
      ]
     },
     "execution_count": 29,
     "metadata": {},
     "output_type": "execute_result"
    }
   ],
   "source": [
    "pd.DataFrame( frequencies_a, candidate_a, columns=[\"Number of detections\"]) # visualization"
   ]
  },
  {
   "cell_type": "code",
   "execution_count": 30,
   "id": "2a358969-afcc-4425-92f5-97cf8b560b17",
   "metadata": {},
   "outputs": [
    {
     "name": "stdout",
     "output_type": "stream",
     "text": [
      "THIS PLOT HAS LIMITED X-AXIS RANGE FOR VISIBILITY, should go out to ~700\n",
      "It also includes every object, regardless of rb score\n"
     ]
    },
    {
     "data": {
      "image/png": "[encoded data removed]",
      "text/plain": [
       "<Figure size 576x360 with 1 Axes>"
      ]
     },
     "metadata": {
      "needs_background": "light"
     },
     "output_type": "display_data"
    }
   ],
   "source": [
    "# Plotting it up\n",
    "plt.figure( figsize=(8,5) )\n",
    "plt.hist( frequencies_a, bins=100 )\n",
    "plt.xlim( 0, 170 )\n",
    "plt.xlabel( \"Objects per candidate\" )\n",
    "plt.ylabel( \"Number of candidates\" )\n",
    "plt.axvline( np.mean( frequencies_a ), label=\"Mean objs/cand, %f\" % (np.mean(frequencies_a)), color='r' )\n",
    "plt.legend()\n",
    "print( \"THIS PLOT HAS LIMITED X-AXIS RANGE FOR VISIBILITY, should go out to ~700\" )\n",
    "print( \"It also includes every object, regardless of rb score\" )"
   ]
  },
  {
   "cell_type": "markdown",
   "id": "6353c2f3-2d05-4ce5-a707-3f3320902fc8",
   "metadata": {},
   "source": [
    "#### Same analysis, but for only \"good\" object detections (COSMOS, R/B>0.6)"
   ]
  },
  {
   "cell_type": "code",
   "execution_count": 31,
   "id": "f5aa64a6-28f9-4675-8fe6-01a41385bf49",
   "metadata": {},
   "outputs": [
    {
     "data": {
      "text/plain": [
       "array([['DC21g', 'DC21j', 'DC21bd', ..., 'DC21bivgh', 'DC21bivgn',\n",
       "        'DC21eamv'],\n",
       "       ['c4d_210319_002223_ori.fits.fz', 'c4d_210319_002223_ori.fits.fz',\n",
       "        'c4d_210319_002223_ori.fits.fz', ...,\n",
       "        'c4d_210611_001044_ori.fits.fz', 'c4d_210611_001044_ori.fits.fz',\n",
       "        'c4d_210611_001044_ori.fits.fz']], dtype='<U29')"
      ]
     },
     "execution_count": 31,
     "metadata": {},
     "output_type": "execute_result"
    }
   ],
   "source": [
    "query = ( 'SELECT candidate_id, e.filename FROM objects o '\n",
    "         'JOIN subtractions s ON o.subtraction_id=s.id '\n",
    "         'JOIN exposures e ON s.exposure_id=e.id '\n",
    "         'WHERE rb > 0.6 '\n",
    "         'AND q3c_radial_query(o.ra,o.dec,150,2.2,3) ' \n",
    "         'LIMIT 10000000')\n",
    "cursor.execute( query )\n",
    "\n",
    "cndobj_g = np.array( cursor.fetchall() ).transpose()\n",
    "cndobj_g"
   ]
  },
  {
   "cell_type": "code",
   "execution_count": 32,
   "id": "46a1af83-e1b0-4880-accc-872364ab8238",
   "metadata": {},
   "outputs": [],
   "source": [
    "lutable = np.loadtxt(\"archive_image_list.txt\", dtype=object).transpose()\n",
    "fnmtable, exptable = lutable[0], lutable[7].astype(float)\n",
    "fnms = [cndobj_g[1][i][:21] for i in range(len(cndobj_g[1]))] # truncate filenames to match lookup table format"
   ]
  },
  {
   "cell_type": "code",
   "execution_count": 33,
   "id": "63d71343-0a00-4332-91f9-6663cb4d84d9",
   "metadata": {},
   "outputs": [],
   "source": [
    "# find the exposure time for each object\n",
    "exptime = np.array([exptable[np.where(fnms[i] == fnmtable)[0]][0] for i in range(len(fnms))]).astype(float)"
   ]
  },
  {
   "cell_type": "code",
   "execution_count": 34,
   "id": "49f99e80-b324-4d20-91a4-e44d7604b9a9",
   "metadata": {},
   "outputs": [],
   "source": [
    "# Eliminate objects from non-standard images\n",
    "gmsk = np.where((objnumdf[\"Filter\"]==\"g\") & (exptime>50))[0]\n",
    "rmsk = np.where((objnumdf[\"Filter\"]==\"r\") & (exptime>20))[0]\n",
    "imsk = np.where((objnumdf[\"Filter\"]==\"i\") & (exptime>20))[0]\n",
    "grmsk = np.append(rmsk, gmsk)\n",
    "grimsk = np.append(grmsk, imsk)"
   ]
  },
  {
   "cell_type": "code",
   "execution_count": 35,
   "id": "33995dd3-9d51-45f5-8a0f-077637678c0d",
   "metadata": {},
   "outputs": [],
   "source": [
    "# Finding out how many objects have a given candidate id\n",
    "candidate_g, frequencies_g = np.unique( cndobj_g[0][grimsk], return_counts=True )"
   ]
  },
  {
   "cell_type": "code",
   "execution_count": 36,
   "id": "115e5eb5-ec1a-49c3-99e3-57577003a6cb",
   "metadata": {},
   "outputs": [
    {
     "name": "stdout",
     "output_type": "stream",
     "text": [
      "THIS PLOT HAS LIMITED X-AXIS RANGE FOR VISIBILITY, should go out to ~350\n",
      "It includes only objects with rb scores above 0.6\n"
     ]
    },
    {
     "data": {
      "image/png": "[encoded data removed]",
      "text/plain": [
       "<Figure size 576x360 with 1 Axes>"
      ]
     },
     "metadata": {
      "needs_background": "light"
     },
     "output_type": "display_data"
    }
   ],
   "source": [
    "# Plotting it up\n",
    "plt.figure( figsize=(8,5) )\n",
    "plt.hist( frequencies_g, bins=200 )\n",
    "plt.xlim( 0, 50 )\n",
    "plt.xlabel( \"Objects per candidate\" )\n",
    "plt.ylabel( \"Number of candidates\" )\n",
    "plt.axvline( np.mean( frequencies_g ), label=\"Mean objs/cand, %f\" % ( np.mean(frequencies_g) ), color='r' )\n",
    "plt.legend()\n",
    "print( \"THIS PLOT HAS LIMITED X-AXIS RANGE FOR VISIBILITY, should go out to ~350\" )\n",
    "print( \"It includes only objects with rb scores above 0.6\" )"
   ]
  },
  {
   "cell_type": "markdown",
   "id": "5e53a0ef-1966-4810-bb22-e9245809cc55",
   "metadata": {},
   "source": [
    "#### How are objects.magnitude values correlated with objects.magerr values?"
   ]
  },
  {
   "cell_type": "code",
   "execution_count": 37,
   "id": "f41f8cad-09a6-4be1-82a1-17a32a1a459a",
   "metadata": {},
   "outputs": [],
   "source": [
    "query = ( 'SELECT o.mag, o.magerr, e.filename, e.filter FROM objects o '\n",
    "         'JOIN subtractions s ON s.id = o.subtraction_id '\n",
    "         'JOIN exposures e ON e.id = s.exposure_id '\n",
    "         'WHERE q3c_radial_query(e.ra,e.dec,150,2.2,3) '\n",
    "         'AND o.rb > 0.3 '\n",
    "         'LIMIT 10000000')\n",
    "cursor.execute( query )\n",
    "\n",
    "magverr = np.array(cursor.fetchall()).transpose()"
   ]
  },
  {
   "cell_type": "code",
   "execution_count": 38,
   "id": "1488ce0f-8c4e-44dc-9e41-01c7ba6b59ef",
   "metadata": {},
   "outputs": [],
   "source": [
    "### Limiting to standard exposure times\n",
    "\n",
    "# truncate filenames to match lookup table format\n",
    "fnms = [ magverr[2][i][:21] for i in range( len( magverr[2] ) ) ]\n",
    "\n",
    "# read in the exposure time lookup table\n",
    "lutable = np.loadtxt(\"archive_image_list.txt\", dtype=object).transpose()\n",
    "fnmtable, exptable = lutable[0], lutable[7].astype(float)\n",
    "\n",
    "# find the exposure time for each object\n",
    "exptimes = np.array([exptable[np.where(fnms[i] == fnmtable)[0]][0] for i in range(len(fnms))], dtype=float)\n",
    "\n",
    "filters = np.array(magverr[3])\n",
    "\n",
    "# Eliminate objects from non-standard images\n",
    "gmsk = np.where((filters==\"g\") & (exptimes>50))[0]\n",
    "rmsk = np.where((filters==\"r\") & (exptimes>20))[0]\n",
    "imsk = np.where((filters==\"i\") & (exptimes>20))[0]\n",
    "\n",
    "grmsk = np.append(rmsk, gmsk)\n",
    "grimsk = np.append(grmsk, imsk)\n",
    "\n",
    "# apply the standard images mask\n",
    "magverr = magverr.transpose()[grimsk].transpose()"
   ]
  },
  {
   "cell_type": "code",
   "execution_count": 39,
   "id": "115e1966-4659-4e9c-8ab6-99b334631e73",
   "metadata": {},
   "outputs": [
    {
     "data": {
      "text/plain": [
       "Text(0, 0.5, 'Magerr')"
      ]
     },
     "execution_count": 39,
     "metadata": {},
     "output_type": "execute_result"
    },
    {
     "data": {
      "image/png": "[encoded data removed]",
      "text/plain": [
       "<Figure size 432x288 with 1 Axes>"
      ]
     },
     "metadata": {
      "needs_background": "light"
     },
     "output_type": "display_data"
    }
   ],
   "source": [
    "# Put in a random seed\n",
    "np.random.seed(40)\n",
    "# Select a sample of the objects to plot\n",
    "rand = np.random.randint(0, high=len(magverr[0]),size=50000)\n",
    "plt.scatter(magverr[0].astype(float)[rand], magverr[1].astype(float)[rand], alpha = 0.03)\n",
    "plt.xlim(16,24)\n",
    "plt.ylim(-0.1,0.5)\n",
    "plt.xlabel(\"Mag\")\n",
    "plt.ylabel(\"Magerr\")"
   ]
  },
  {
   "cell_type": "code",
   "execution_count": null,
   "id": "985b60db-c82c-43bf-bcf5-3453dccb2022",
   "metadata": {},
   "outputs": [],
   "source": []
  }
 ],
 "metadata": {
  "kernelspec": {
   "display_name": "Python 3",
   "language": "python",
   "name": "python3"
  },
  "language_info": {
   "codemirror_mode": {
    "name": "ipython",
    "version": 3
   },
   "file_extension": ".py",
   "mimetype": "text/x-python",
   "name": "python",
   "nbconvert_exporter": "python",
   "pygments_lexer": "ipython3",
   "version": "3.7.4"
  }
 },
 "nbformat": 4,
 "nbformat_minor": 5
}
