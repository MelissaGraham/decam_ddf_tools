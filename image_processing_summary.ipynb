{
 "cells": [
  {
   "cell_type": "markdown",
   "id": "bfb20ca1-dc1c-4aa7-a60d-4bade917a5c7",
   "metadata": {},
   "source": [
    "# Image Processing Summary\n",
    "Author: Melissa\n",
    "\n",
    "This NB uses the file archive_image_list.txt, which was generated for all images from both 2021A-0113 and 2021B-0149 in the NOIRLab Data Archive.\n",
    "\n",
    "**Class:** MLG has assigned all archive images a \"class\", as follows.<br>\n",
    "Some images were obtained with a different exposure time and are not \"standard\".\n",
    "\n",
    "`| Image Class  | filters | exposure times |     |`<br>\n",
    "`| COSMOS       | g r i   | 60  86  130    | std |`<br>\n",
    "`| COSMOS-MOON  | g r i   | 60  30  30     |     |`<br>\n",
    "`| COSMOS-AGN   | g r i   | 80  70  90     |     |`<br>\n",
    "`| ELAIS        | g r i   | 60  86  130    | std |`<br>\n",
    "`| DECaPS-East  | g r i z | 96  50  30  30 | std |`<br>\n",
    "`| DECaPS-West  | g r i z | 96  50  30  30 | std |`<br>"
   ]
  },
  {
   "cell_type": "markdown",
   "id": "0b2ec6a6-5b82-4974-8b70-b5c80a8fbd22",
   "metadata": {},
   "source": [
    "## Set Up"
   ]
  },
  {
   "cell_type": "code",
   "execution_count": 1,
   "id": "4bc2e83a-97d1-45dd-bc69-b86fe491c024",
   "metadata": {},
   "outputs": [],
   "source": [
    "import psycopg2\n",
    "import psycopg2.extras\n",
    "import getpass\n",
    "\n",
    "import os\n",
    "import numpy as np\n",
    "import matplotlib.pyplot as plt\n",
    "from copy import deepcopy\n",
    "\n",
    "from astropy.coordinates import SkyCoord"
   ]
  },
  {
   "cell_type": "code",
   "execution_count": 2,
   "id": "901b456d-7870-41e6-b9a5-869fdd31fe67",
   "metadata": {},
   "outputs": [
    {
     "name": "stdin",
     "output_type": "stream",
     "text": [
      "DB User:  mgraham\n",
      "DB Password:  ············\n"
     ]
    }
   ],
   "source": [
    "dbuser = input(\"DB User: \")\n",
    "dbpasswd = getpass.getpass(\"DB Password: \")"
   ]
  },
  {
   "cell_type": "code",
   "execution_count": 3,
   "id": "53bf3321-4494-4a0b-8d5e-9991f35c0e1f",
   "metadata": {},
   "outputs": [],
   "source": [
    "db = psycopg2.connect(f\"dbname='decat' user='{dbuser}' password='{dbpasswd}' host='decatdb.lbl.gov'\")"
   ]
  },
  {
   "cell_type": "code",
   "execution_count": 4,
   "id": "4d11edf3-45a0-4e86-bc23-a65a32f21b20",
   "metadata": {},
   "outputs": [],
   "source": [
    "cursor = db.cursor( cursor_factory = psycopg2.extras.DictCursor )"
   ]
  },
  {
   "cell_type": "code",
   "execution_count": 87,
   "id": "e1363d54-b90f-40e2-91ca-7d99ed2eb79a",
   "metadata": {},
   "outputs": [
    {
     "name": "stdout",
     "output_type": "stream",
     "text": [
      "\n",
      "TABLE: exposures\n",
      "===========================\n",
      "id                        :  integer\n",
      "created_at                :  timestamp without time zone\n",
      "modified                  :  timestamp without time zone\n",
      "ra                        :  double precision\n",
      "dec                       :  double precision\n",
      "gallat                    :  double precision\n",
      "gallong                   :  double precision\n",
      "header                    :  jsonb\n",
      "filename                  :  text\n",
      "mjd                       :  double precision\n",
      "event_name                :  text\n",
      "filter                    :  text\n",
      "proposalid                :  text\n",
      "graceid                   :  text\n",
      "is_stack                  :  boolean\n",
      "camera_id                 :  integer\n",
      "\n",
      "TABLE: subtractions\n",
      "===========================\n",
      "id                        :  integer\n",
      "created_at                :  timestamp without time zone\n",
      "modified                  :  timestamp without time zone\n",
      "ra                        :  double precision\n",
      "dec                       :  double precision\n",
      "header                    :  jsonb\n",
      "ra1                       :  double precision\n",
      "dec1                      :  double precision\n",
      "ra2                       :  double precision\n",
      "dec2                      :  double precision\n",
      "ra3                       :  double precision\n",
      "dec3                      :  double precision\n",
      "ra4                       :  double precision\n",
      "dec4                      :  double precision\n",
      "lmt_mg                    :  double precision\n",
      "seeing                    :  double precision\n",
      "skysig                    :  double precision\n",
      "magzp                     :  double precision\n",
      "ccdnum                    :  integer\n",
      "basename                  :  text\n",
      "image_id                  :  integer\n",
      "template_header           :  jsonb\n",
      "exposure_id               :  integer\n"
     ]
    }
   ],
   "source": [
    "### If you want to print table schema\n",
    "tables = ['exposures','subtractions']\n",
    "for table in tables:\n",
    "    query = \"SELECT column_name, data_type FROM information_schema.columns WHERE table_name=%s\"\n",
    "    cursor.execute( query, ( table, ))\n",
    "    print( f\"\\nTABLE: {table}\\n===========================\" )\n",
    "    for row in cursor:\n",
    "        print( f\"{row['column_name']:24s}  :  {row['data_type']:s}\" )"
   ]
  },
  {
   "cell_type": "markdown",
   "id": "7b5c61ad-d08d-41d4-8e19-54c46010ad05",
   "metadata": {},
   "source": [
    "<br>\n",
    "<br>\n",
    "\n",
    "## Exposures and subtractions tables, and NOIRLab archive image list"
   ]
  },
  {
   "cell_type": "markdown",
   "id": "58a26a7e-70c3-40ad-b40b-92b1532bf2c6",
   "metadata": {},
   "source": [
    "### exposures table\n",
    "put selected columns into numpy arrays"
   ]
  },
  {
   "cell_type": "code",
   "execution_count": 32,
   "id": "b0de9106-bc19-4dac-83dd-e16ac31fc7a5",
   "metadata": {},
   "outputs": [],
   "source": [
    "query = \"SELECT id, ra, dec, filename, mjd, filter, proposalid, header FROM exposures\"\n",
    "cursor.execute( query )\n",
    "results = np.array( cursor.fetchall() ).transpose()\n",
    "exp_id  = np.asarray( results[0], dtype='int' )\n",
    "exp_ra  = np.asarray( results[1], dtype='float' )\n",
    "exp_dec = np.asarray( results[2], dtype='float' )\n",
    "exp_fnm = np.asarray( results[3], dtype='str' )\n",
    "exp_mjd = np.asarray( results[4], dtype='float' )\n",
    "exp_fil = np.asarray( results[5], dtype='str' )\n",
    "exp_pid = np.asarray( results[6], dtype='str' )\n",
    "exp_hdr = np.asarray( results[7], dtype='str' )\n",
    "del query, results"
   ]
  },
  {
   "cell_type": "code",
   "execution_count": 33,
   "id": "c1eae451-f0fc-486a-b995-c3ad37a67dc0",
   "metadata": {},
   "outputs": [
    {
     "name": "stdout",
     "output_type": "stream",
     "text": [
      "c4d_211128_043355_ori.fits.fz\n",
      "c4d_211128_043355_ori\n",
      "211128\n"
     ]
    }
   ],
   "source": [
    "### exp_fbs : just the filename base (without the extension)\n",
    "### exp_cal : calendar date\n",
    "exp_fbs = deepcopy(exp_fnm)\n",
    "exp_cal = np.zeros( len(exp_fnm), dtype='int' )\n",
    "\n",
    "for i,fnm in enumerate(exp_fnm):\n",
    "    tmp1 = fnm.split('.')[0]\n",
    "    exp_fbs[i] = tmp1\n",
    "    tmp2 = tmp1.split('_')[1]\n",
    "    exp_cal[i] = int(tmp2)\n",
    "    del tmp1,tmp2\n",
    "\n",
    "print(exp_fnm[0])\n",
    "print(exp_fbs[0])\n",
    "print(exp_cal[0])"
   ]
  },
  {
   "cell_type": "code",
   "execution_count": 34,
   "id": "915d7fe3-3844-4daa-9a01-4fdd5344b3fb",
   "metadata": {},
   "outputs": [],
   "source": [
    "### The header is a string that can be converted to a directory.\n",
    "# temp = eval(exp_hdr[0])\n",
    "# temp\n",
    "# print(\"temp['AZ'] = \",temp['AZ'])"
   ]
  },
  {
   "cell_type": "markdown",
   "id": "5c74af11-0f6f-4863-a5ad-aef6e6de89d6",
   "metadata": {},
   "source": [
    "show map of all exposures"
   ]
  },
  {
   "cell_type": "code",
   "execution_count": 35,
   "id": "1196fc36-a2c7-411f-9fa5-ac506b3eba9a",
   "metadata": {},
   "outputs": [
    {
     "name": "stdout",
     "output_type": "stream",
     "text": [
      "there are no DECaPS fields in the exposures table\n"
     ]
    },
    {
     "data": {
      "image/png": "[encoded data removed]",
      "text/plain": [
       "<Figure size 864x288 with 1 Axes>"
      ]
     },
     "metadata": {
      "needs_background": "light"
     },
     "output_type": "display_data"
    }
   ],
   "source": [
    "plt.figure(figsize=(12, 4))\n",
    "plt.plot( exp_ra, exp_dec, 'o', ms=10, alpha=0.01, mew=0, color='grey')\n",
    "\n",
    "# COSMOS-1     150.0   +3.1\n",
    "# COSMOS-2     149.22  +1.75\n",
    "# COSMOS-3     150.78  +1.75\n",
    "# ELAIS-E1     7.8746  -43.0096\n",
    "# ELAIS-E2     9.5     -43.9980\n",
    "# DECaPS-East  270.89  -29.53\n",
    "# DECaPS-West  116.32  -26.25\n",
    "   \n",
    "plt.plot( 150.0 ,  +3.1,     '*', ms=6, alpha=1, color='dodgerblue')\n",
    "plt.plot( 149.22,  +1.75,    '*', ms=6, alpha=1, color='dodgerblue')\n",
    "plt.plot( 150.78,  +1.75,    '*', ms=6, alpha=1, color='dodgerblue')\n",
    "plt.plot( 7.8746,  -43.0096, '*', ms=6, alpha=1, color='darkviolet')\n",
    "plt.plot( 9.5   ,  -43.9980, '*', ms=6, alpha=1, color='darkviolet')\n",
    "plt.plot( 270.89,  -29.53,   '*', ms=6, alpha=1, color='darkorange')\n",
    "plt.plot( 116.32,  -26.25,   '*', ms=6, alpha=1, color='yellowgreen')\n",
    "\n",
    "print('there are no DECaPS fields in the exposures table')"
   ]
  },
  {
   "cell_type": "markdown",
   "id": "973b941a-82f4-4a28-b6ab-92cd1b4bd7fa",
   "metadata": {},
   "source": [
    "### subtractions table\n",
    "put selected columns into numpy arrays"
   ]
  },
  {
   "cell_type": "code",
   "execution_count": 36,
   "id": "384c9d46-61a4-4eb3-bb78-3af0606362b3",
   "metadata": {},
   "outputs": [],
   "source": [
    "query = \"SELECT id, ra, dec, lmt_mg, seeing, skysig, magzp, \"+ \\\n",
    "        \"ccdnum, image_id, exposure_id FROM subtractions\"\n",
    "cursor.execute( query )\n",
    "results = np.array( cursor.fetchall() ).transpose()\n",
    "sub_id  = np.asarray( results[0], dtype='int' )\n",
    "sub_ra  = np.asarray( results[1], dtype='float' )\n",
    "sub_dec = np.asarray( results[2], dtype='float' )\n",
    "sub_lmg = np.asarray( results[3], dtype='float' )\n",
    "sub_see = np.asarray( results[4], dtype='float' )\n",
    "sub_sks = np.asarray( results[5], dtype='float' )\n",
    "sub_mzp = np.asarray( results[6], dtype='float' )\n",
    "sub_ccd = np.asarray( results[7], dtype='int' )\n",
    "sub_iid = np.asarray( results[8], dtype='int' )\n",
    "sub_eid = np.asarray( results[9], dtype='int' )\n",
    "del query, results"
   ]
  },
  {
   "cell_type": "markdown",
   "id": "74de1b2a-8c7f-4c76-b323-df02848c19dc",
   "metadata": {},
   "source": [
    "add a few more qualities to the sub_ tables"
   ]
  },
  {
   "cell_type": "code",
   "execution_count": 37,
   "id": "471581a9-26f1-492e-9b26-55adc707328a",
   "metadata": {},
   "outputs": [],
   "source": [
    "### sub_fil : the filter of the exposure associated with the subtraction\n",
    "### sub_mjd : the MJD of the exposure associated with the subtraction\n",
    "### sub_era : the exposure ra\n",
    "### sub_ede : the exposure dec\n",
    "### sub_off : the offset in arcsec of the sub ccd from the image center\n",
    "\n",
    "sub_fil = np.zeros( len(sub_eid), dtype='str' )\n",
    "sub_mjd = np.zeros( len(sub_eid), dtype='float' )\n",
    "sub_era = np.zeros( len(sub_eid), dtype='float' )\n",
    "sub_ede = np.zeros( len(sub_eid), dtype='float' )\n",
    "for i in range(len(sub_eid)):\n",
    "    tx = np.where( exp_id == sub_eid[i] )[0]\n",
    "    if len(tx) == 1:\n",
    "        sub_fil[i] = exp_fil[tx[0]]\n",
    "        sub_mjd[i] = exp_mjd[tx[0]]\n",
    "        sub_era[i] = exp_ra[tx[0]]\n",
    "        sub_ede[i] = exp_dec[tx[0]]\n",
    "    elif len(tx) == 0:\n",
    "        print('No exposure id match for: ', sub_eid[i])\n",
    "    elif len(tx) > 1:\n",
    "        print('More than one exposure id match for: ', sub_eid[i])\n",
    "    del tx\n",
    "\n",
    "c1 = SkyCoord(sub_ra,sub_dec,unit=\"deg\")\n",
    "c2 = SkyCoord(sub_era,sub_ede,unit=\"deg\")\n",
    "sub_off = c1.separation(c2).arcsec\n",
    "\n",
    "del sub_era,sub_ede,c1,c2"
   ]
  },
  {
   "cell_type": "markdown",
   "id": "1c6d0265-69ff-40a3-b9ae-52aafd188f14",
   "metadata": {},
   "source": [
    "add a few more qualities to the exposure tables based on the subtraction table data"
   ]
  },
  {
   "cell_type": "code",
   "execution_count": 38,
   "id": "6886afa0-9d5e-4947-855c-77691845889e",
   "metadata": {},
   "outputs": [
    {
     "name": "stderr",
     "output_type": "stream",
     "text": [
      "/usr/common/software/python/3.9-anaconda-2021.11/lib/python3.9/site-packages/numpy/core/fromnumeric.py:3419: RuntimeWarning: Mean of empty slice.\n",
      "  return _methods._mean(a, axis=axis, dtype=dtype,\n",
      "/usr/common/software/python/3.9-anaconda-2021.11/lib/python3.9/site-packages/numpy/core/_methods.py:188: RuntimeWarning: invalid value encountered in double_scalars\n",
      "  ret = ret.dtype.type(ret / rcount)\n"
     ]
    }
   ],
   "source": [
    "### exp_mdn_see : median seeing over all subtractions for this exposure\n",
    "### exp_mdn_lmg : median limiting magnitude over all subtractions for this exposure\n",
    "### exp_mdn_sks : median skysig over all subtractions for this exposure\n",
    "### exp_mdn_mzp : median zeropoint over all subtractions for this exposure\n",
    "\n",
    "exp_mdn_see = np.zeros( len(exp_id), dtype='float' )\n",
    "exp_mdn_lmg = np.zeros( len(exp_id), dtype='float' )\n",
    "exp_mdn_sks = np.zeros( len(exp_id), dtype='float' )\n",
    "exp_mdn_mzp = np.zeros( len(exp_id), dtype='float' )\n",
    "for i in range(len(exp_id)):\n",
    "    sx = np.where( sub_eid == exp_id[i] )[0]\n",
    "    exp_mdn_see[i] = np.median(sub_see[sx])\n",
    "    exp_mdn_lmg[i] = np.median(sub_lmg[sx])\n",
    "    exp_mdn_sks[i] = np.median(sub_sks[sx])\n",
    "    exp_mdn_mzp[i] = np.median(sub_mzp[sx])"
   ]
  },
  {
   "cell_type": "markdown",
   "id": "d0a0eb75-c493-45b3-92c4-6d0e1d2f5ad8",
   "metadata": {},
   "source": [
    "and a few final subtraction table arrays"
   ]
  },
  {
   "cell_type": "code",
   "execution_count": 39,
   "id": "0728f022-c1ce-4868-835b-dba56e6be2cc",
   "metadata": {},
   "outputs": [],
   "source": [
    "### sub_rel_see : fraction of subtraction seeing / median seeing for all subs of exp\n",
    "### sub_rel_lmg : \" but for limiting magnitude\n",
    "### sub_rel_sks : \" but for skysig\n",
    "### sub_rel_mzp : \" but for zeropoint\n",
    "\n",
    "sub_rel_see = np.zeros( len(sub_eid), dtype='float' )\n",
    "sub_rel_lmg = np.zeros( len(sub_eid), dtype='float' )\n",
    "sub_rel_sks = np.zeros( len(sub_eid), dtype='float' )\n",
    "sub_rel_mzp = np.zeros( len(sub_eid), dtype='float' )\n",
    "for i in range(len(sub_eid)):\n",
    "    tx = np.where( exp_id == sub_eid[i] )[0]\n",
    "    sub_rel_see[i] = sub_see[i] / exp_mdn_see[tx[0]]\n",
    "    sub_rel_lmg[i] = sub_lmg[i] / exp_mdn_lmg[tx[0]]\n",
    "    sub_rel_sks[i] = sub_sks[i] / exp_mdn_sks[tx[0]]\n",
    "    sub_rel_mzp[i] = sub_mzp[i] / exp_mdn_mzp[tx[0]]"
   ]
  },
  {
   "cell_type": "code",
   "execution_count": 40,
   "id": "a797bf43-471f-489f-be46-d5acbe1723a9",
   "metadata": {},
   "outputs": [],
   "source": [
    "### Print value ranges for the exposure id, subtraction id, subtraction ccd\n",
    "# print(np.min(exp_id),np.max(exp_id))\n",
    "# print(np.min(sub_ccd),np.max(sub_ccd))\n",
    "# print(np.min(sub_iid),np.max(sub_iid))\n",
    "# print(np.min(sub_eid),np.max(sub_eid))"
   ]
  },
  {
   "cell_type": "code",
   "execution_count": 41,
   "id": "1c9e9624-e3a7-4523-8fc2-0b27d889b095",
   "metadata": {},
   "outputs": [],
   "source": [
    "### Are there any bad ccds?\n",
    "### Yes. CCD = 31, 61 have no subtractions\n",
    "### Known issue: http://www.ctio.noao.edu/noao/node/2630\n",
    "\n",
    "# usebins = np.arange( 63, dtype='float' ) + 0.5\n",
    "# plt.hist(sub_ccd, bins=usebins, histtype='step')\n",
    "# plt.xlabel('CCD Number')\n",
    "# plt.ylabel('Number of Subtractions')\n",
    "\n",
    "### Print number of subtractions per CCD as a check\n",
    "# for i in range(63):\n",
    "#     tx = np.where( sub_ccd == i )[0]\n",
    "#     print(i, len(tx))\n",
    "#     del tx"
   ]
  },
  {
   "cell_type": "markdown",
   "id": "bc8faf6c-659c-473e-b50f-4ee84f390b2c",
   "metadata": {},
   "source": [
    "Show map of RA, Dec of the COSMOS and ELAIS subtractions"
   ]
  },
  {
   "cell_type": "code",
   "execution_count": 42,
   "id": "5c33db28-540c-44fa-8a5e-5a7dfaa0f072",
   "metadata": {},
   "outputs": [
    {
     "data": {
      "text/plain": [
       "[<matplotlib.lines.Line2D at 0x2aaae7ca4af0>]"
      ]
     },
     "execution_count": 42,
     "metadata": {},
     "output_type": "execute_result"
    },
    {
     "data": {
      "image/png": "[encoded data removed]",
      "text/plain": [
       "<Figure size 864x288 with 2 Axes>"
      ]
     },
     "metadata": {
      "needs_background": "light"
     },
     "output_type": "display_data"
    }
   ],
   "source": [
    "plt.figure(figsize=(12, 4))\n",
    "plt.subplot(1, 2, 1)\n",
    "cx = np.where( (sub_ra>145) & (sub_ra<155) & (sub_dec>0.0) & (sub_dec<8.0) )[0]\n",
    "plt.plot( sub_ra[cx], sub_dec[cx], 'o', ms=10, alpha=0.01, color='dodgerblue')\n",
    "plt.subplot(1, 2, 2)\n",
    "ex = np.where( (sub_ra>2.0) & (sub_ra<12.0) & (sub_dec>-48.0) & (sub_dec<-40.0) )[0]\n",
    "plt.plot( sub_ra[ex], sub_dec[ex], 'o', ms=10, alpha=0.01, color='darkviolet')"
   ]
  },
  {
   "cell_type": "markdown",
   "id": "5c4ff785-532e-4492-906a-d85f1c963923",
   "metadata": {},
   "source": [
    "### archive image list\n",
    "read it into numpy arrays\n",
    "\n",
    "Melissa made this list of all 2021A-0113 and 2021B-0149 images from the NOIRLab Data Archive.\n",
    "\n",
    "* fbase : base of archive filename (without extension)\n",
    "* ra, dec : coordinates in decimal degrees\n",
    "* mjd : modified julian date of observation (at exposure start)\n",
    "* filt : filter\n",
    "* airm : airmass\n",
    "* obj : object name\n",
    "* expt : exposure time\n",
    "* seqid : sequence id (relates to JSON file for observing)\n",
    "* **class : COSMOS, COSMOS-AGN, COSMOS-MOON, ELAIS, DECaPS-East, DECaPS-West, or NONE**\n",
    "   * -AGN and -MOON indicate non-standard exposure times\n",
    "   * class = COSMOS, ELAIS, or DECaPS are considered \"standard\"\n",
    "* ftype : field type, EGAL, GAL, or NONE\n",
    "* moonsep : moon separation in degrees\n",
    "* moonill : moon illumination as a fraction\n",
    "* mpval : 0.2 quantile sky background value for central chip (for images with moonsep<60 and moonill>0.2)\n",
    "\n",
    "Recall that mpval used to be just the median image pixel value for images with moonsep<60 and moonill>0.2."
   ]
  },
  {
   "cell_type": "code",
   "execution_count": 43,
   "id": "23c87eb0-7526-4304-9516-c7b448867bae",
   "metadata": {},
   "outputs": [],
   "source": [
    "fnm = 'archive_image_list.txt'\n",
    "arch_fbase   = np.loadtxt( fnm, dtype='str', usecols=(0) )\n",
    "arch_ra      = np.loadtxt( fnm, dtype='float', usecols=(1) )\n",
    "arch_dec     = np.loadtxt( fnm, dtype='float', usecols=(2) )\n",
    "arch_mjd     = np.loadtxt( fnm, dtype='float', usecols=(3) )\n",
    "arch_filt    = np.loadtxt( fnm, dtype='str', usecols=(4) )\n",
    "arch_airm    = np.loadtxt( fnm, dtype='float', usecols=(5) )\n",
    "arch_obj     = np.loadtxt( fnm, dtype='str', usecols=(6) )\n",
    "arch_expt    = np.loadtxt( fnm, dtype='float', usecols=(7) )\n",
    "arch_seqid   = np.loadtxt( fnm, dtype='str', usecols=(8) )\n",
    "arch_class   = np.loadtxt( fnm, dtype='str', usecols=(9) )\n",
    "arch_ftype   = np.loadtxt( fnm, dtype='str', usecols=(10) )\n",
    "arch_moonsep = np.loadtxt( fnm, dtype='float', usecols=(11) )\n",
    "arch_moonill = np.loadtxt( fnm, dtype='float', usecols=(12) )\n",
    "arch_mpval   = np.loadtxt( fnm, dtype='float', usecols=(13) )"
   ]
  },
  {
   "cell_type": "markdown",
   "id": "3214f1cf-77cf-4d30-b4d3-01a154d5453e",
   "metadata": {},
   "source": [
    "match archive image list to the exposures and subtractions table"
   ]
  },
  {
   "cell_type": "code",
   "execution_count": 75,
   "id": "108a165d-9354-46f6-9405-0e28c05f33d7",
   "metadata": {},
   "outputs": [],
   "source": [
    "### exp_aid : the index of the exposure in the archive table\n",
    "### exp_cls : class from archive table\n",
    "### exp_std : if the archive image has a \"standard\" classification (COSMOS, ELAIS, or DECaPS only)\n",
    "exp_aid = np.zeros( len(exp_id), dtype='int' ) -1\n",
    "exp_cls = deepcopy(exp_fnm)\n",
    "exp_std = np.zeros( len(exp_id), dtype='int' ) -1\n",
    "for i in range(len(exp_cls)):\n",
    "    exp_cls[i] = ''\n",
    "\n",
    "### arch_nem : number of exposure table matches\n",
    "### arch_eid : expsoure id of match (first, if multiple)\n",
    "arch_nem = np.zeros( len(arch_fbase), dtype='int' )\n",
    "arch_eid = np.zeros( len(arch_fbase), dtype='int' )\n",
    "\n",
    "for i,fbase in enumerate(arch_fbase):\n",
    "    tx = np.where( fbase == exp_fbs )[0]\n",
    "    arch_nem[i] = len(tx)\n",
    "    if len(tx) == 0:\n",
    "        arch_eid[i] = -1\n",
    "    elif len(tx) >= 1:\n",
    "        arch_eid[i] = exp_id[tx[0]]\n",
    "        exp_aid[tx[0]] = i\n",
    "        exp_cls[tx[0]] = arch_class[i]\n",
    "        if (arch_class[i] == 'COSMOS') | \\\n",
    "        (arch_class[i] == 'ELAIS') | \\\n",
    "        (arch_class[i] == 'DECaPS-East') | \\\n",
    "        (arch_class[i] == 'DECaPS-West'):\n",
    "            exp_std[tx[0]] = 1\n",
    "        elif (arch_class[i] == 'COSMOS-MOON') | \\\n",
    "        (arch_class[i] == 'COSMOS-AGN'):\n",
    "            exp_std[tx[0]] = 1\n",
    "    del tx"
   ]
  },
  {
   "cell_type": "markdown",
   "id": "2b884342-846a-4d35-8ee7-fb959dda0e79",
   "metadata": {},
   "source": [
    "create a few more subtraction arrays based on the new archive data"
   ]
  },
  {
   "cell_type": "code",
   "execution_count": 76,
   "id": "f2dd4414-4e35-43b2-a1b0-d0945e59b80c",
   "metadata": {},
   "outputs": [],
   "source": [
    "### sub_expt    : exposure time of the image for this subtraction\n",
    "### sub_moonsep : moon separation in degrees of the image for this subtraction\n",
    "### sub_moonill : moon illumination (fraction) of the image for this subtraction\n",
    "### sub_aid     : archive image list id for this subtraction\n",
    "### sub_std     : is a standard image (COSMOS, ELAIS, or DECapS; no -AGN, no -MOON)\n",
    "### sub_cls     : archive image class for this subtraction\n",
    "\n",
    "sub_expt    = np.zeros( len(sub_eid), dtype='float' )\n",
    "sub_moonsep = np.zeros( len(sub_eid), dtype='float' )\n",
    "sub_moonill = np.zeros( len(sub_eid), dtype='float' )\n",
    "sub_mpixval = np.zeros( len(sub_eid), dtype='float' )\n",
    "sub_aid     = np.zeros( len(sub_eid), dtype='int' ) -1\n",
    "sub_std     = np.zeros( len(sub_eid), dtype='int' ) -1\n",
    "\n",
    "tmpclass = []\n",
    "for i in range(len(sub_eid)):\n",
    "    tx = np.where( exp_id == sub_eid[i] )[0]\n",
    "    if len(tx) == 1:\n",
    "        archid = exp_aid[tx[0]]\n",
    "        sub_expt[i] = arch_expt[archid]\n",
    "        sub_moonsep[i] = arch_moonsep[archid]\n",
    "        sub_moonill[i] = arch_moonill[archid]\n",
    "        sub_mpixval[i] = arch_mpval[archid]\n",
    "        sub_aid[i] = exp_aid[tx[0]]\n",
    "        sub_std[i] = exp_std[tx[0]]\n",
    "        tmpclass.append( exp_cls[tx[0]] )\n",
    "    else:\n",
    "        print('multiple matches')\n",
    "\n",
    "sub_cls = np.asarray( tmpclass, dtype='str' )\n",
    "del tmpclass"
   ]
  },
  {
   "cell_type": "markdown",
   "id": "fce879f6-34c8-40c6-bf4a-70eed9d88e4c",
   "metadata": {},
   "source": [
    "<br>\n",
    "<br>\n",
    "\n",
    "## Account for all images"
   ]
  },
  {
   "cell_type": "markdown",
   "id": "8c6697cf-ef54-4fa0-a635-f3bbf62a86eb",
   "metadata": {},
   "source": [
    "#### Matching archive image list to exposures table"
   ]
  },
  {
   "cell_type": "code",
   "execution_count": 77,
   "id": "45bee285-d866-4513-b4a0-98c0e07da699",
   "metadata": {},
   "outputs": [
    {
     "name": "stdout",
     "output_type": "stream",
     "text": [
      "class         arch   exp      sub   sub/60\n",
      "COSMOS        1023   968    57716    961.9\n",
      "ELAIS         1083  1052    62674   1044.6\n",
      "DECaPS-East   1016     0        0      0.0\n",
      "DECaPS-West   1033     0        0      0.0\n"
     ]
    }
   ],
   "source": [
    "print('%-12s %5s %5s %8s %8s' % ('class','arch','exp','sub','sub/60') )\n",
    "for tc,tclass in enumerate(['COSMOS','ELAIS','DECaPS-East','DECaPS-West']):\n",
    "    ax = np.where( arch_class == tclass )[0]\n",
    "    ex = np.where( exp_cls == tclass )[0]\n",
    "    sx = np.where( sub_cls == tclass )[0]\n",
    "    print('%-12s %5i %5i %8i %8.1f' % (tclass, len(ax), len(ex), len(sx), len(sx)/60.0) )\n",
    "    del ax,ex,sx"
   ]
  },
  {
   "cell_type": "code",
   "execution_count": 78,
   "id": "d936f82f-44ab-4356-8014-814d7ddfba9c",
   "metadata": {},
   "outputs": [
    {
     "name": "stdout",
     "output_type": "stream",
     "text": [
      "N, number of archive images with N matches to exposure table:\n",
      "0 2250\n",
      "1 2323\n",
      "2 6\n",
      "3 0\n",
      "\n"
     ]
    }
   ],
   "source": [
    "print('N, number of archive images with N matches to exposure table:')\n",
    "for i in range(4):\n",
    "    tx = np.where( arch_nem == i )[0]\n",
    "    print(i, len(tx))\n",
    "    del tx\n",
    "print('')"
   ]
  },
  {
   "cell_type": "code",
   "execution_count": 79,
   "id": "a0a989d3-4742-4186-9675-a8e5778922bc",
   "metadata": {},
   "outputs": [
    {
     "name": "stdout",
     "output_type": "stream",
     "text": [
      "Image \"class\", number of archive images without a match to the exposure table.\n",
      "COSMOS         55\n",
      "COSMOS-AGN      1\n",
      "DECaPS-East  1016\n",
      "DECaPS-West  1033\n",
      "ELAIS          31\n",
      "None          114\n",
      "\n",
      "Most of the unmatched archive images are DECaPS (as expected).\n",
      "The NONE image class is standard stars, pointing checks, etc.\n"
     ]
    }
   ],
   "source": [
    "print('Image \"class\", number of archive images without a match to the exposure table.')\n",
    "tx = np.where( arch_nem == 0 )[0]\n",
    "tmps = np.asarray( arch_class[tx], dtype='str')\n",
    "utmps = np.unique( np.sort( tmps ) )\n",
    "for u,utmp in enumerate(utmps):\n",
    "    tx = np.where( tmps == utmp )[0]\n",
    "    print('%-12s %4i' % (utmp, len(tx)))\n",
    "    del tx\n",
    "print('')\n",
    "\n",
    "print('Most of the unmatched archive images are DECaPS (as expected).')\n",
    "print('The NONE image class is standard stars, pointing checks, etc.')\n",
    "del tmps,utmps"
   ]
  },
  {
   "cell_type": "markdown",
   "id": "570294e5-520c-4eb7-9f64-8ca64d0cb164",
   "metadata": {},
   "source": [
    "#### Number of exposures unmatched to the archive list"
   ]
  },
  {
   "cell_type": "code",
   "execution_count": 81,
   "id": "dfd898a4-381f-4443-93e7-8b3faa4dce62",
   "metadata": {},
   "outputs": [
    {
     "name": "stdout",
     "output_type": "stream",
     "text": [
      "6372\n",
      "Number of exposures matched to archive image list:  2329 0.3655053358443189\n",
      "290818\n",
      "Number of subtractions matched to archive image list:  138630 0.47668988852134325\n"
     ]
    }
   ],
   "source": [
    "print( len(exp_id) )\n",
    "tx = np.where( exp_aid >= 0 )[0]\n",
    "print( 'Number of exposures matched to archive image list: ', len(tx), len(tx)/len(exp_id) )\n",
    "del(tx)\n",
    "\n",
    "print( len(sub_id) )\n",
    "tx = np.where( sub_aid >= 0 )[0]\n",
    "print( 'Number of subtractions matched to archive image list: ', len(tx), len(tx)/len(sub_id) )\n",
    "del(tx)"
   ]
  },
  {
   "cell_type": "markdown",
   "id": "acad114c-bd58-461e-a974-0bd9a971f71a",
   "metadata": {},
   "source": [
    "#### Number of exposures without subtractions"
   ]
  },
  {
   "cell_type": "code",
   "execution_count": 82,
   "id": "0d481581-95b7-47ac-b951-70f0821ea9a9",
   "metadata": {},
   "outputs": [
    {
     "name": "stdout",
     "output_type": "stream",
     "text": [
      "Number of subtractions, number of exposures with N subtractions.\n",
      "0     1504\n",
      "1-59  392\n",
      "60    4463\n",
      ">60   13\n",
      "\n",
      "Most exposures have either 60 subtractions, or none; as expected.\n"
     ]
    }
   ],
   "source": [
    "### exp_nsubs : the number of subtractions associated with each exposure\n",
    "\n",
    "exp_nsubs = np.zeros( len(exp_id), dtype='int' )\n",
    "for i,expid in enumerate(exp_id):\n",
    "    tx = np.where( sub_eid == expid )[0]\n",
    "    exp_nsubs[i] = len(tx)\n",
    "    del tx\n",
    "\n",
    "print('Number of subtractions, number of exposures with N subtractions.')\n",
    "# tmps = np.sort(exp_nsubs)\n",
    "# utmps = np.unique(tmps)\n",
    "# for u,utmp in enumerate(utmps):\n",
    "#     tx = np.where( tmps == utmp )[0]\n",
    "#     print(utmp,len(tx))\n",
    "#     del tx\n",
    "\n",
    "tx = np.where( exp_nsubs == 0 )[0]\n",
    "print('0    ', len(tx))\n",
    "tx = np.where( (exp_nsubs > 0) & (exp_nsubs < 60) )[0]\n",
    "print('1-59 ', len(tx))\n",
    "tx = np.where( exp_nsubs == 60 )[0]\n",
    "print('60   ', len(tx))\n",
    "tx = np.where( exp_nsubs > 60 )[0]\n",
    "print('>60  ', len(tx))\n",
    "del tx\n",
    "\n",
    "print('')\n",
    "print('Most exposures have either 60 subtractions, or none; as expected.')"
   ]
  },
  {
   "cell_type": "markdown",
   "id": "692abe0a-03a0-42e9-820e-ecb8fcd9bb49",
   "metadata": {},
   "source": [
    "#### Which exposures have no subtractions?"
   ]
  },
  {
   "cell_type": "code",
   "execution_count": 83,
   "id": "6d9d820b-3361-4bb1-a07f-9f15bcf7e480",
   "metadata": {},
   "outputs": [
    {
     "name": "stdout",
     "output_type": "stream",
     "text": [
      "['ELAIS' '' '' ... '' '' '']\n"
     ]
    }
   ],
   "source": [
    "ex = np.where( exp_nsubs == 0 )[0]\n",
    "print( exp_cls )\n",
    "# print( exp_cls[ex] )"
   ]
  },
  {
   "cell_type": "code",
   "execution_count": 84,
   "id": "f7f1bbc3-b4b7-4472-9df3-3904b0b9eab2",
   "metadata": {},
   "outputs": [
    {
     "name": "stdout",
     "output_type": "stream",
     "text": [
      "archive image \"class\", number of exposures without subtractions\n",
      "COSMOS       1501\n",
      "None            3\n",
      "\n",
      "filter, number of exposures without subtractions\n",
      "g 250\n",
      "i 840\n",
      "r 255\n",
      "u 2\n",
      "z 157\n",
      "\n",
      "cal, number of exposures without subtractions\n",
      "210421 6\n",
      "210509 1\n",
      "210529 1\n",
      "210917 54\n",
      "210918 6\n",
      "210920 76\n",
      "210921 15\n",
      "210923 70\n",
      "210924 5\n",
      "210925 7\n",
      "210926 31\n",
      "210929 26\n",
      "211002 22\n",
      "211005 31\n",
      "211011 32\n",
      "211014 36\n",
      "211017 68\n",
      "211019 1\n",
      "211020 82\n",
      "211022 1\n",
      "211023 58\n",
      "211024 6\n",
      "211025 38\n",
      "211101 21\n",
      "211104 31\n",
      "211107 26\n",
      "211110 18\n",
      "211114 22\n",
      "211115 34\n",
      "211116 25\n",
      "211117 77\n",
      "211119 16\n",
      "211122 20\n",
      "211128 30\n",
      "211201 17\n",
      "211204 6\n",
      "211207 16\n",
      "211210 22\n",
      "211213 18\n",
      "211216 24\n",
      "211219 24\n",
      "211222 23\n",
      "211223 31\n",
      "211224 21\n",
      "211228 19\n",
      "211231 9\n",
      "220103 31\n",
      "220106 9\n",
      "220109 26\n",
      "220113 19\n",
      "220116 11\n",
      "220118 5\n",
      "220121 63\n",
      "220122 42\n",
      "220123 30\n",
      "220124 45\n",
      "\n",
      "Why do so many ELIAS images not have subtractions?\n"
     ]
    }
   ],
   "source": [
    "ex = np.where( exp_nsubs == 0 )[0]\n",
    "\n",
    "print('archive image \"class\", number of exposures without subtractions')\n",
    "nosub_class = arch_class[ exp_aid[ex] ]\n",
    "tmps = np.sort( nosub_class )\n",
    "utmps = np.unique( tmps )\n",
    "for u,utmp in enumerate(utmps):\n",
    "    tx = np.where( tmps == utmp )[0]\n",
    "    print('%-12s %4i' % (utmp,len(tx)))\n",
    "    del tx\n",
    "del tmps,utmps\n",
    "del nosub_class\n",
    "\n",
    "print('')\n",
    "print('filter, number of exposures without subtractions')\n",
    "nosub_fil = exp_fil[ex]\n",
    "tmps = np.sort( nosub_fil )\n",
    "utmps = np.unique( tmps )\n",
    "for u,utmp in enumerate(utmps):\n",
    "    tx = np.where( tmps == utmp )[0]\n",
    "    print(utmp,len(tx))\n",
    "    del tx\n",
    "del tmps,utmps\n",
    "del nosub_fil\n",
    "\n",
    "print('')\n",
    "print('cal, number of exposures without subtractions')\n",
    "nosub_cal = exp_cal[ex]\n",
    "tmps = np.sort( nosub_cal )\n",
    "utmps = np.unique( tmps )\n",
    "for u,utmp in enumerate(utmps):\n",
    "    tx = np.where( tmps == utmp )[0]\n",
    "    print(utmp,len(tx))\n",
    "    del tx\n",
    "del tmps,utmps\n",
    "del nosub_cal\n",
    "\n",
    "del ex\n",
    "\n",
    "print('')\n",
    "# Before Aug 11\n",
    "# print('The exposures without subtractions are primarily the COSMOS i-band, as expected.')\n",
    "# After Aug 11\n",
    "# print('There are almost no exposures without subtractions.')\n",
    "# Sat Jan 29 2022\n",
    "print('Why do so many ELIAS images not have subtractions?')"
   ]
  },
  {
   "cell_type": "markdown",
   "id": "771baba6-8a93-4c0d-aafa-b267d0ce5e5a",
   "metadata": {},
   "source": [
    "<br>\n",
    "<br>\n",
    "\n",
    "## Plot histograms of image characteristics\n",
    "\n",
    "Only for subtractions of 'standard' exposures/images, that have a class of COSMOS, ELAIS (or DECaPS, if there were any).\n",
    "This removes the -AGN and -MOON exposures which have different (shorter) exposure times.\n",
    "\n",
    "`| COSMOS       | g r i   | 60  86  130    | std |`<br>\n",
    "`| COSMOS MOON  | g r i   | 60  30  30     |     |`<br>\n",
    "`| COSMOS AGN   | g r i   | 80  70  90     |     |`<br>\n",
    "`| ELAIS        | g r i   | 60  86  130    | std |`<br>\n",
    "`| DECaPS       | g r i z | 96  50  30  30 | std |`<br>\n",
    "`| DECaPS MOON  | g r i z | -   25  30  30 |     |`<br>\n",
    "\n",
    "I.e., only use subtractions with `sub_std == 1`."
   ]
  },
  {
   "cell_type": "code",
   "execution_count": null,
   "id": "29cad167-e78a-4fd6-add7-4e52102c0283",
   "metadata": {},
   "outputs": [],
   "source": [
    "### COSMOS subtractions in g and r with standard exposure times\n",
    "cxg = np.where( (sub_ra>145) & (sub_ra<155)  & (sub_fil == 'g') & (sub_std == 1) )[0]\n",
    "cxr = np.where( (sub_ra>145) & (sub_ra<155)  & (sub_fil == 'r') & (sub_std == 1) )[0]\n",
    "cxi = np.where( (sub_ra>145) & (sub_ra<155)  & (sub_fil == 'i') & (sub_std == 1) )[0]\n",
    "\n",
    "### ELAIS subtractions in g and r with standard exposure times\n",
    "exg = np.where( (sub_ra>2.0) & (sub_ra<12.0) & (sub_fil == 'g') & (sub_std == 1) )[0]\n",
    "exr = np.where( (sub_ra>2.0) & (sub_ra<12.0) & (sub_fil == 'r') & (sub_std == 1) )[0]\n",
    "exi = np.where( (sub_ra>2.0) & (sub_ra<12.0) & (sub_fil == 'i') & (sub_std == 1) )[0]\n",
    "\n",
    "# ### **IF* you want to do this for all images, not just the 'standard' exposure times:\n",
    "# ### COSMOS subtractions in g and r with standard exposure times\n",
    "# cxg = np.where( (sub_ra>145) & (sub_ra<155)  & (sub_fil == 'g') )[0]\n",
    "# cxr = np.where( (sub_ra>145) & (sub_ra<155)  & (sub_fil == 'r') )[0]\n",
    "# ### ELAIS subtractions in g and r with standard exposure times\n",
    "# exg = np.where( (sub_ra>2.0) & (sub_ra<12.0) & (sub_fil == 'g') )[0]\n",
    "# exr = np.where( (sub_ra>2.0) & (sub_ra<12.0) & (sub_fil == 'r') )[0]\n",
    "# exi = np.where( (sub_ra>2.0) & (sub_ra<12.0) & (sub_fil == 'i') )[0]"
   ]
  },
  {
   "cell_type": "code",
   "execution_count": null,
   "id": "a44c1216-fd87-4ace-8846-5863f89039d6",
   "metadata": {},
   "outputs": [],
   "source": [
    "plt.figure(figsize=(12, 4))\n",
    "plt.rcParams.update({'font.size': 13})\n",
    "# plt.subplots(1, 3, sharey=True)\n",
    "ax1 = plt.subplot(1, 3, 1)\n",
    "plt.hist( [sub_lmg[cxg],sub_lmg[exg]], bins=30, stacked=True, color=['darkgreen','limegreen'], label=['COSMOS','ELAIS'])\n",
    "plt.xlabel('g-band Limiting Magnitude [mag]')\n",
    "plt.ylabel('Number of Processed CCDs')\n",
    "plt.xlim([21,24.5])\n",
    "plt.legend(loc='upper left')\n",
    "ax2 = plt.subplot(1, 3, 2, sharex=ax1, sharey=ax1)\n",
    "plt.hist( [sub_lmg[cxr],sub_lmg[exr]], bins=30, stacked=True, color=['red','darkorange'], label=['COSMOS','ELAIS'])\n",
    "plt.xlabel('r-band Limiting Magnitude [mag]')\n",
    "plt.xlim([21,24.5])\n",
    "plt.legend(loc='upper left')\n",
    "ax3 = plt.subplot(1, 3, 3, sharex=ax1, sharey=ax1)\n",
    "plt.hist( [sub_lmg[cxi],sub_lmg[exi]], bins=30, stacked=True, color=['brown','peru'], label=['COSMOS','ELAIS'])\n",
    "plt.xlabel('i-band Limiting Magnitude [mag]')\n",
    "plt.xlim([21,24.5])\n",
    "plt.legend(loc='upper left')\n",
    "plt.tight_layout(pad=1.0)\n",
    "plt.savefig('image_processing_summary_figures/limmag_dist')\n",
    "plt.show()\n",
    "\n",
    "plt.figure(figsize=(12, 4))\n",
    "ax1 = plt.subplot(1, 3, 1)\n",
    "plt.hist( [sub_see[cxg],sub_see[exg]], bins=30, stacked=True, color=['darkgreen','limegreen'], label=['COSMOS','ELAIS'])\n",
    "plt.xlabel('g-band Seeing (arcsec)')\n",
    "plt.xlim([0,3])\n",
    "plt.ylabel('Number of Processed CCDs')\n",
    "plt.legend(loc='upper right')\n",
    "ax2 = plt.subplot(1, 3, 2, sharex=ax1, sharey=ax1)\n",
    "plt.hist( [sub_see[cxr],sub_see[exr]], bins=30, stacked=True, color=['red','darkorange'], label=['COSMOS','ELAIS'])\n",
    "plt.xlabel('r-band Seeing (arcsec)')\n",
    "plt.xlim([0,3])\n",
    "plt.legend(loc='upper right')\n",
    "ax3 = plt.subplot(1, 3, 3, sharex=ax1, sharey=ax1)\n",
    "plt.hist( [sub_see[cxi],sub_see[exi]], bins=30, stacked=True, color=['brown','peru'], label=['COSMOS','ELAIS'])\n",
    "plt.xlabel('i-band Seeing (arcsec)')\n",
    "plt.xlim([0,3])\n",
    "plt.legend(loc='upper right')\n",
    "plt.tight_layout(pad=1.0)\n",
    "plt.savefig('image_processing_summary_figures/seeing_dist')\n",
    "plt.show()\n",
    "\n",
    "plt.figure(figsize=(12, 4))\n",
    "ax1 = plt.subplot(1, 3, 1)\n",
    "plt.hist( [np.log10(sub_sks[cxg]),np.log10(sub_sks[exg])], bins=30, stacked=True, color=['darkgreen','limegreen'], label=['COSMOS','ELAIS'])\n",
    "plt.xlabel('g-band Log(sigma_sky) [log(counts)]')\n",
    "plt.ylabel('Number of Processed CCDs')\n",
    "plt.legend(loc='upper right')\n",
    "ax2 = plt.subplot(1, 3, 2, sharex=ax1, sharey=ax1)\n",
    "plt.hist( [np.log10(sub_sks[cxr]),np.log10(sub_sks[exr])], bins=30, stacked=True, color=['red','darkorange'], label=['COSMOS','ELAIS'])\n",
    "plt.xlabel('r-band Log(sigma_sky) [log(counts)]')\n",
    "plt.legend(loc='upper right')\n",
    "ax3 = plt.subplot(1, 3, 3, sharex=ax1, sharey=ax1)\n",
    "plt.hist( [np.log10(sub_sks[cxi]),np.log10(sub_sks[exi])], bins=30, stacked=True, color=['brown','peru'], label=['COSMOS','ELAIS'])\n",
    "plt.xlabel('i-band Log(sigma_sky) [log(counts)]')\n",
    "plt.legend(loc='upper right')\n",
    "plt.tight_layout(pad=1.0)\n",
    "plt.savefig('image_processing_summary_figures/logsky_dist')\n",
    "plt.show()\n",
    "\n",
    "### zeropoint is not useful\n",
    "# plt.figure(figsize=(12, 4))\n",
    "# ax1 = plt.subplot(1, 3, 1)\n",
    "# plt.hist( [sub_mzp[cxg],sub_mzp[exg]], bins=30, stacked=True, color=['darkgreen','limegreen'], label=['COSMOS','ELAIS'])\n",
    "# plt.xlabel('Zeropoint (g)')\n",
    "# plt.ylabel('Number of Processed CCDs')\n",
    "# plt.legend(loc='upper left')\n",
    "# ax2 = plt.subplot(1, 3, 2, sharex=ax1, sharey=ax1)\n",
    "# plt.hist( [sub_mzp[cxr],sub_mzp[exr]], bins=30, stacked=True, color=['red','darkorange'], label=['COSMOS','ELAIS'])\n",
    "# plt.xlabel('Zeropoint (r)')\n",
    "# plt.legend(loc='upper left')\n",
    "# ax3 = plt.subplot(1, 3, 3, sharex=ax1, sharey=ax1)\n",
    "# plt.hist( [sub_mzp[cxi],sub_mzp[exi]], bins=30, stacked=True, color=['brown','peru'], label=['COSMOS','ELAIS'])\n",
    "# plt.xlabel('Zeropoint (i)')\n",
    "# plt.legend(loc='upper left')\n",
    "# plt.tight_layout(pad=1.0)\n",
    "# plt.savefig('image_processing_summary_figures/zeropoing_dist')\n",
    "# plt.show()"
   ]
  },
  {
   "cell_type": "markdown",
   "id": "faee4a81-2afd-4bd3-b82d-833c585412ef",
   "metadata": {},
   "source": [
    "<br>\n",
    "<br>\n",
    "\n",
    "## Plot correlations between IQ parameters\n",
    "\n",
    "### limiting magnitude, seeing, log10(skysig), and zeropoint VS. MJD"
   ]
  },
  {
   "cell_type": "code",
   "execution_count": null,
   "id": "df35ea3d-c273-485e-ab2f-f1b02dd32224",
   "metadata": {},
   "outputs": [],
   "source": [
    "plt.figure(figsize=(12, 3))\n",
    "plt.subplot(1, 3, 1)\n",
    "plt.plot( sub_mjd[cxg], sub_lmg[cxg], 'o', ms=2, alpha=0.1, color='darkgreen', label='COSMOS')\n",
    "plt.plot( sub_mjd[exg], sub_lmg[exg], 'o', ms=2, alpha=0.1, color='limegreen', label='ELAIS')\n",
    "plt.xlabel('g-band MJD')\n",
    "plt.ylabel('g-band lmt_mg')\n",
    "# plt.legend(loc='upper left')\n",
    "plt.subplot(1, 3, 2)\n",
    "plt.plot( sub_mjd[cxr], sub_lmg[cxr], 'o', ms=2, alpha=0.1, color='red', label='COSMOS')\n",
    "plt.plot( sub_mjd[exr], sub_lmg[exr], 'o', ms=2, alpha=0.1, color='darkorange', label='ELAIS')\n",
    "plt.xlabel('r-band MJD')\n",
    "plt.ylabel('r-band lmg_mg')\n",
    "# plt.legend(loc='upper left')\n",
    "plt.subplot(1, 3, 3)\n",
    "plt.plot( sub_mjd[cxi], sub_lmg[cxi], 'o', ms=2, alpha=0.1, color='brown', label='COSMOS')\n",
    "plt.plot( sub_mjd[exi], sub_lmg[exi], 'o', ms=2, alpha=0.1, color='peru', label='ELAIS')\n",
    "plt.xlabel('i-band MJD')\n",
    "# plt.ylabel('i-band lmg_mg')\n",
    "plt.show()\n",
    "\n",
    "plt.figure(figsize=(12, 3))\n",
    "plt.subplot(1, 3, 1)\n",
    "plt.plot( sub_mjd[cxg], sub_see[cxg], 'o', ms=2, alpha=0.1, color='darkgreen', label='COSMOS')\n",
    "plt.plot( sub_mjd[exg], sub_see[exg], 'o', ms=2, alpha=0.1, color='limegreen', label='ELAIS')\n",
    "plt.xlabel('g-band MJD')\n",
    "plt.ylabel('g-band seeing')\n",
    "# plt.legend(loc='upper left')\n",
    "plt.subplot(1, 3, 2)\n",
    "plt.plot( sub_mjd[cxr], sub_see[cxr], 'o', ms=2, alpha=0.1, color='red', label='COSMOS')\n",
    "plt.plot( sub_mjd[exr], sub_see[exr], 'o', ms=2, alpha=0.1, color='darkorange', label='ELAIS')\n",
    "plt.xlabel('r-band MJD')\n",
    "# plt.ylabel('r-band seeing')\n",
    "# plt.legend(loc='upper left')\n",
    "plt.subplot(1, 3, 3)\n",
    "plt.plot( sub_mjd[cxi], sub_see[cxi], 'o', ms=2, alpha=0.1, color='brown', label='COSMOS')\n",
    "plt.plot( sub_mjd[exi], sub_see[exi], 'o', ms=2, alpha=0.1, color='peru', label='ELAIS')\n",
    "plt.xlabel('i-band MJD')\n",
    "# plt.ylabel('i-band seeing')\n",
    "plt.show()\n",
    "\n",
    "plt.figure(figsize=(12, 3))\n",
    "plt.subplot(1, 3, 1)\n",
    "plt.plot( sub_mjd[cxg], np.log10(sub_sks[cxg]), 'o', ms=2, alpha=0.1, color='darkgreen', label='COSMOS')\n",
    "plt.plot( sub_mjd[exg], np.log10(sub_sks[exg]), 'o', ms=2, alpha=0.1, color='limegreen', label='ELAIS')\n",
    "plt.xlabel('g-band MJD')\n",
    "plt.ylabel('log10(g-band skysig)')\n",
    "# plt.legend(loc='upper left')\n",
    "plt.subplot(1, 3, 2)\n",
    "plt.plot( sub_mjd[cxr], np.log10(sub_sks[cxr]), 'o', ms=2, alpha=0.1, color='red', label='COSMOS')\n",
    "plt.plot( sub_mjd[exr], np.log10(sub_sks[exr]), 'o', ms=2, alpha=0.1, color='darkorange', label='ELAIS')\n",
    "plt.xlabel('r-band MJD')\n",
    "# plt.ylabel('r-band skysig')\n",
    "# plt.legend(loc='upper left')\n",
    "plt.subplot(1, 3, 3)\n",
    "plt.plot( sub_mjd[cxi], np.log10(sub_sks[cxi]), 'o', ms=2, alpha=0.1, color='brown', label='COSMOS')\n",
    "plt.plot( sub_mjd[exi], np.log10(sub_sks[exi]), 'o', ms=2, alpha=0.1, color='peru', label='ELAIS')\n",
    "plt.xlabel('i-band MJD')\n",
    "# plt.ylabel('i-band skysig')\n",
    "plt.show()\n",
    "\n",
    "plt.figure(figsize=(12, 3))\n",
    "plt.subplot(1, 3, 1)\n",
    "plt.plot( sub_mjd[cxg], sub_mzp[cxg], 'o', ms=2, alpha=0.1, color='darkgreen', label='COSMOS')\n",
    "plt.plot( sub_mjd[exg], sub_mzp[exg], 'o', ms=2, alpha=0.1, color='limegreen', label='ELAIS')\n",
    "plt.xlabel('g-band MJD')\n",
    "plt.ylabel('g-band mag_zp')\n",
    "# plt.legend(loc='upper left')\n",
    "plt.subplot(1, 3, 2)\n",
    "plt.plot( sub_mjd[cxr], sub_mzp[cxr], 'o', ms=2, alpha=0.1, color='red', label='COSMOS')\n",
    "plt.plot( sub_mjd[exr], sub_mzp[exr], 'o', ms=2, alpha=0.1, color='darkorange', label='ELAIS')\n",
    "plt.xlabel('r-band MJD')\n",
    "# plt.ylabel('r-band mag_zp')\n",
    "# plt.legend(loc='upper left')\n",
    "plt.subplot(1, 3, 3)\n",
    "plt.plot( sub_mjd[cxi], sub_mzp[cxi], 'o', ms=2, alpha=0.1, color='brown', label='COSMOS')\n",
    "plt.plot( sub_mjd[exi], sub_mzp[exi], 'o', ms=2, alpha=0.1, color='peru', label='ELAIS')\n",
    "plt.xlabel('i-band MJD')\n",
    "# plt.ylabel('i-band mag_zp')\n",
    "plt.show()"
   ]
  },
  {
   "cell_type": "markdown",
   "id": "0d7ead44-85d8-42c2-9ae3-d7a35f33e6af",
   "metadata": {},
   "source": [
    "### magzp VS. limiting magnitude, seeing, and log10(skysig)"
   ]
  },
  {
   "cell_type": "code",
   "execution_count": null,
   "id": "7aeff480-98b1-4f5d-bfe9-ac875b8fbf67",
   "metadata": {},
   "outputs": [],
   "source": [
    "plt.figure(figsize=(12, 3))\n",
    "plt.subplot(1, 3, 1)\n",
    "plt.plot( sub_lmg[cxg], sub_mzp[cxg], 'o', ms=2, alpha=0.1, color='darkgreen', label='COSMOS')\n",
    "plt.plot( sub_lmg[exg], sub_mzp[exg], 'o', ms=2, alpha=0.1, color='limegreen', label='ELAIS')\n",
    "plt.xlabel('g-band lmt_mg')\n",
    "plt.ylabel('g-band mag_zp')\n",
    "# plt.legend(loc='upper left')\n",
    "plt.subplot(1, 3, 2)\n",
    "plt.plot( sub_lmg[cxr], sub_mzp[cxr], 'o', ms=2, alpha=0.1, color='red', label='COSMOS')\n",
    "plt.plot( sub_lmg[exr], sub_mzp[exr], 'o', ms=2, alpha=0.1, color='darkorange', label='ELAIS')\n",
    "plt.xlabel('r-band lmt_mg')\n",
    "# plt.ylabel('r-band mag_zp')\n",
    "# plt.legend(loc='upper left')\n",
    "plt.subplot(1, 3, 3)\n",
    "plt.plot( sub_lmg[cxi], sub_mzp[cxi], 'o', ms=2, alpha=0.1, color='brown', label='COSMOS')\n",
    "plt.plot( sub_lmg[exi], sub_mzp[exi], 'o', ms=2, alpha=0.1, color='peru', label='ELAIS')\n",
    "plt.xlabel('i-band lmt_mg')\n",
    "# plt.ylabel('i-band mag_zp')\n",
    "plt.show()\n",
    "\n",
    "plt.figure(figsize=(12, 3))\n",
    "plt.subplot(1, 3, 1)\n",
    "plt.plot( sub_see[cxg], sub_mzp[cxg], 'o', ms=2, alpha=0.1, color='darkgreen', label='COSMOS')\n",
    "plt.plot( sub_see[exg], sub_mzp[exg], 'o', ms=2, alpha=0.1, color='limegreen', label='ELAIS')\n",
    "plt.xlabel('g-band seeing')\n",
    "plt.ylabel('g-band mag_zp')\n",
    "# plt.legend(loc='upper left')\n",
    "plt.subplot(1, 3, 2)\n",
    "plt.plot( sub_see[cxr], sub_mzp[cxr], 'o', ms=2, alpha=0.1, color='red', label='COSMOS')\n",
    "plt.plot( sub_see[exr], sub_mzp[exr], 'o', ms=2, alpha=0.1, color='darkorange', label='ELAIS')\n",
    "plt.xlabel('r-band seeing')\n",
    "# plt.ylabel('r-band mag_zp')\n",
    "# plt.legend(loc='upper left')\n",
    "plt.subplot(1, 3, 3)\n",
    "plt.plot( sub_see[cxi], sub_mzp[cxi], 'o', ms=2, alpha=0.1, color='brown', label='COSMOS')\n",
    "plt.plot( sub_see[exi], sub_mzp[exi], 'o', ms=2, alpha=0.1, color='peru', label='ELAIS')\n",
    "plt.xlabel('i-band seeing')\n",
    "# plt.ylabel('i-band mag_zp')\n",
    "plt.show()\n",
    "\n",
    "plt.figure(figsize=(12, 3))\n",
    "plt.subplot(1, 3, 1)\n",
    "plt.plot( np.log10(sub_sks[cxg]), sub_mzp[cxg], 'o', ms=2, alpha=0.1, color='darkgreen', label='COSMOS')\n",
    "plt.plot( np.log10(sub_sks[exg]), sub_mzp[exg], 'o', ms=2, alpha=0.1, color='limegreen', label='ELAIS')\n",
    "plt.xlabel('log10(g-band skysig)')\n",
    "plt.ylabel('g-band mag_zp')\n",
    "# plt.legend(loc='upper left')\n",
    "plt.subplot(1, 3, 2)\n",
    "plt.plot( np.log10(sub_sks[cxr]), sub_mzp[cxr], 'o', ms=2, alpha=0.1, color='red', label='COSMOS')\n",
    "plt.plot( np.log10(sub_sks[exr]), sub_mzp[exr], 'o', ms=2, alpha=0.1, color='darkorange', label='ELAIS')\n",
    "plt.xlabel('log10(r-band skysig)')\n",
    "# plt.ylabel('r-band mag_zp')\n",
    "# plt.legend(loc='upper left')\n",
    "plt.subplot(1, 3, 3)\n",
    "plt.plot( np.log10(sub_sks[cxi]), sub_mzp[cxi], 'o', ms=2, alpha=0.1, color='brown', label='COSMOS')\n",
    "plt.plot( np.log10(sub_sks[exi]), sub_mzp[exi], 'o', ms=2, alpha=0.1, color='peru', label='ELAIS')\n",
    "plt.xlabel('log10(i-band skysig)')\n",
    "# plt.ylabel('i-band mag_zp')\n",
    "plt.show()\n"
   ]
  },
  {
   "cell_type": "markdown",
   "id": "1cbc7612-683d-4265-b3ce-c438012ce147",
   "metadata": {},
   "source": [
    "### seeing and log10(skysig) VS. limiting magnitude"
   ]
  },
  {
   "cell_type": "code",
   "execution_count": null,
   "id": "504ca3ee-4a61-4677-b992-41524394d4c7",
   "metadata": {},
   "outputs": [],
   "source": [
    "plt.figure(figsize=(12, 3))\n",
    "plt.rcParams.update({'font.size': 13})\n",
    "ax1 = plt.subplot(1, 3, 1)\n",
    "plt.plot( sub_see[cxg], sub_lmg[cxg], 'o', ms=2, alpha=0.1, color='darkgreen', label='COSMOS')\n",
    "plt.plot( sub_see[exg], sub_lmg[exg], 'o', ms=2, alpha=0.1, color='limegreen', label='ELAIS')\n",
    "plt.xlabel('g-band Seeing [arcsec]')\n",
    "plt.ylabel('Limiting Magnitude [mag]')\n",
    "# plt.legend(loc='upper left')\n",
    "ax2 = plt.subplot(1, 3, 2, sharex=ax1, sharey=ax1)\n",
    "plt.plot( sub_see[cxr], sub_lmg[cxr], 'o', ms=2, alpha=0.1, color='red', label='COSMOS')\n",
    "plt.plot( sub_see[exr], sub_lmg[exr], 'o', ms=2, alpha=0.1, color='darkorange', label='ELAIS')\n",
    "plt.xlabel('r-band Seeing [arcsec]')\n",
    "# plt.ylabel('r-band lmt_mg')\n",
    "# plt.legend(loc='upper left')\n",
    "ax3 = plt.subplot(1, 3, 3, sharex=ax1, sharey=ax1)\n",
    "plt.plot( sub_see[cxi], sub_lmg[cxi], 'o', ms=2, alpha=0.1, color='brown', label='COSMOS')\n",
    "plt.plot( sub_see[exi], sub_lmg[exi], 'o', ms=2, alpha=0.1, color='peru', label='ELAIS')\n",
    "plt.xlabel('i-band Seeing [arcsec]')\n",
    "# plt.ylabel('i-band lmt_mg')\n",
    "plt.tight_layout(pad=0.7)\n",
    "plt.savefig('image_processing_summary_figures/seeing_vs_limmag')\n",
    "plt.show()\n",
    "\n",
    "plt.figure(figsize=(12, 3))\n",
    "plt.rcParams.update({'font.size': 13})\n",
    "ax1 = plt.subplot(1, 3, 1)\n",
    "plt.plot( np.log10(sub_sks[cxg]), sub_lmg[cxg], 'o', ms=2, alpha=0.1, color='darkgreen', label='COSMOS')\n",
    "plt.plot( np.log10(sub_sks[exg]), sub_lmg[exg], 'o', ms=2, alpha=0.1, color='limegreen', label='ELAIS')\n",
    "plt.xlabel('g-band Log(sigma_sky) [log(counts)]')\n",
    "plt.ylabel('Limiting Magnitude [mag]')\n",
    "# plt.legend(loc='upper left')\n",
    "ax2 = plt.subplot(1, 3, 2, sharex=ax1, sharey=ax1)\n",
    "plt.plot( np.log10(sub_sks[cxr]), sub_lmg[cxr], 'o', ms=2, alpha=0.1, color='red', label='COSMOS')\n",
    "plt.plot( np.log10(sub_sks[exr]), sub_lmg[exr], 'o', ms=2, alpha=0.1, color='darkorange', label='ELAIS')\n",
    "plt.xlabel('r-band Log(sigma_sky) [log(counts)]')\n",
    "# plt.ylabel('r-band lmt_mg')\n",
    "# plt.legend(loc='upper left')\n",
    "ax3 = plt.subplot(1, 3, 3, sharex=ax1, sharey=ax1)\n",
    "plt.plot( np.log10(sub_sks[cxi]), sub_lmg[cxi], 'o', ms=2, alpha=0.1, color='brown', label='COSMOS')\n",
    "plt.plot( np.log10(sub_sks[exi]), sub_lmg[exi], 'o', ms=2, alpha=0.1, color='peru', label='ELAIS')\n",
    "plt.xlabel('i-band Log(sigma_sky) [log(counts)]')\n",
    "# plt.ylabel('i-band lmt_mg')\n",
    "plt.tight_layout(pad=0.7)\n",
    "plt.savefig('image_processing_summary_figures/skysig_vs_limmag')\n",
    "plt.show()\n",
    "\n",
    "\n",
    "plt.figure(figsize=(12, 3))\n",
    "plt.rcParams.update({'font.size': 13})\n",
    "ax1 = plt.subplot(1, 3, 1)\n",
    "plt.plot( sub_moonsep[cxg]+(2.5*np.random.rand(len(cxg))), sub_lmg[cxg], 'o', ms=2, alpha=0.1, color='darkgreen', label='COSMOS')\n",
    "plt.plot( sub_moonsep[exg]+(2.5*np.random.rand(len(exg))), sub_lmg[exg], 'o', ms=2, alpha=0.1, color='limegreen', label='ELAIS')\n",
    "plt.xlabel('Moon Separation [deg]')\n",
    "plt.ylabel('Limiting Magnitude [mag]')\n",
    "# plt.legend(loc='upper left')\n",
    "ax2 = plt.subplot(1, 3, 2, sharex=ax1, sharey=ax1)\n",
    "plt.plot( sub_moonsep[cxr]+(2.5*np.random.rand(len(cxr))), sub_lmg[cxr], 'o', ms=2, alpha=0.1, color='red', label='COSMOS')\n",
    "plt.plot( sub_moonsep[exr]+(2.5*np.random.rand(len(exr))), sub_lmg[exr], 'o', ms=2, alpha=0.1, color='darkorange', label='ELAIS')\n",
    "plt.xlabel('Moon Separation [deg]')\n",
    "# plt.ylabel('r-band lmt_mg')\n",
    "# plt.legend(loc='upper left')\n",
    "ax3 = plt.subplot(1, 3, 3, sharex=ax1, sharey=ax1)\n",
    "plt.plot( sub_moonsep[cxi]+(2.5*np.random.rand(len(cxi))), sub_lmg[cxi], 'o', ms=2, alpha=0.1, color='brown', label='COSMOS')\n",
    "plt.plot( sub_moonsep[exi]+(2.5*np.random.rand(len(exi))), sub_lmg[exi], 'o', ms=2, alpha=0.1, color='peru', label='ELAIS')\n",
    "plt.xlabel('Moon Separation [deg]')\n",
    "# plt.ylabel('i-band lmt_mg')\n",
    "plt.tight_layout(pad=0.7)\n",
    "plt.savefig('image_processing_summary_figures/moonsep_vs_limmag')\n",
    "plt.show()\n",
    "\n",
    "plt.figure(figsize=(12, 3))\n",
    "plt.rcParams.update({'font.size': 13})\n",
    "ax1 = plt.subplot(1, 3, 1)\n",
    "plt.plot( sub_moonill[cxg]+(0.025*np.random.rand(len(cxg))), sub_lmg[cxg], 'o', ms=2, alpha=0.1, color='darkgreen', label='COSMOS')\n",
    "plt.plot( sub_moonill[exg]+(0.025*np.random.rand(len(exg))), sub_lmg[exg], 'o', ms=2, alpha=0.1, color='limegreen', label='ELAIS')\n",
    "plt.xlabel('Moon Illumination Fraction')\n",
    "plt.ylabel('Limiting Magnitude [mag]')\n",
    "# plt.legend(loc='upper left')\n",
    "ax2 = plt.subplot(1, 3, 2, sharex=ax1, sharey=ax1)\n",
    "plt.plot( sub_moonill[cxr]+(0.025*np.random.rand(len(cxr))), sub_lmg[cxr], 'o', ms=2, alpha=0.1, color='red', label='COSMOS')\n",
    "plt.plot( sub_moonill[exr]+(0.025*np.random.rand(len(exr))), sub_lmg[exr], 'o', ms=2, alpha=0.1, color='darkorange', label='ELAIS')\n",
    "plt.xlabel('Moon Illumination Fraction')\n",
    "# plt.ylabel('r-band lmt_mg')\n",
    "# plt.legend(loc='upper left')\n",
    "ax3 = plt.subplot(1, 3, 3, sharex=ax1, sharey=ax1)\n",
    "plt.plot( sub_moonill[cxi]+(0.025*np.random.rand(len(cxi))), sub_lmg[cxi], 'o', ms=2, alpha=0.1, color='brown', label='COSMOS')\n",
    "plt.plot( sub_moonill[exi]+(0.025*np.random.rand(len(exi))), sub_lmg[exi], 'o', ms=2, alpha=0.1, color='peru', label='ELAIS')\n",
    "plt.xlabel('Moon Illumination Fraction')\n",
    "# plt.ylabel('i-band lmt_mg')\n",
    "plt.tight_layout(pad=0.7)\n",
    "plt.savefig('image_processing_summary_figures/moonill_vs_limmag')\n",
    "plt.show()"
   ]
  },
  {
   "cell_type": "markdown",
   "id": "9344c0ba-1c48-4c30-ad54-03b76ad3bd9f",
   "metadata": {},
   "source": [
    "### seeing and limiting magnitude VS. ccd offset from center of image"
   ]
  },
  {
   "cell_type": "code",
   "execution_count": null,
   "id": "a46bb1c3-6bcf-44fa-8e09-88dabae91685",
   "metadata": {},
   "outputs": [],
   "source": [
    "plt.figure(figsize=(12, 3))\n",
    "plt.subplot(1, 3, 1)\n",
    "plt.plot( sub_off[cxg], sub_rel_lmg[cxg], 'o', ms=2, alpha=0.1, color='darkgreen', label='COSMOS')\n",
    "plt.plot( sub_off[exg], sub_rel_lmg[exg], 'o', ms=2, alpha=0.1, color='limegreen', label='ELAIS')\n",
    "plt.xlabel('g-band ccd offset (arcsec)')\n",
    "plt.ylabel('g-band sub lmt_mg / exp lmt_mg')\n",
    "# plt.legend(loc='upper left')\n",
    "plt.subplot(1, 3, 2)\n",
    "plt.plot( sub_off[cxr], sub_rel_lmg[cxr], 'o', ms=2, alpha=0.1, color='red', label='COSMOS')\n",
    "plt.plot( sub_off[exr], sub_rel_lmg[exr], 'o', ms=2, alpha=0.1, color='darkorange', label='ELAIS')\n",
    "plt.xlabel('r-band ccd offset (arcsec)')\n",
    "# plt.ylabel('r-band sub lmt_mg / exp lmt_mg')\n",
    "# plt.legend(loc='upper left')\n",
    "plt.subplot(1, 3, 3)\n",
    "plt.plot( sub_off[cxi], sub_rel_lmg[cxi], 'o', ms=2, alpha=0.1, color='brown', label='COSMOS')\n",
    "plt.plot( sub_off[exi], sub_rel_lmg[exi], 'o', ms=2, alpha=0.1, color='peru', label='ELAIS')\n",
    "plt.xlabel('i-band ccd offset (arcsec)')\n",
    "# plt.ylabel('i-band sub lmt_mg / exp lmt_mg')\n",
    "plt.show()\n",
    "\n",
    "plt.figure(figsize=(12, 3))\n",
    "plt.subplot(1, 3, 1)\n",
    "plt.plot( sub_off[cxg], sub_rel_see[cxg], 'o', ms=2, alpha=0.1, color='darkgreen', label='COSMOS')\n",
    "plt.plot( sub_off[exg], sub_rel_see[exg], 'o', ms=2, alpha=0.1, color='limegreen', label='ELAIS')\n",
    "plt.xlabel('g-band ccd offset (arcsec)')\n",
    "plt.ylabel('g-band sub seeing / exp seeing')\n",
    "# plt.legend(loc='upper left')\n",
    "plt.subplot(1, 3, 2)\n",
    "plt.plot( sub_off[cxr], sub_rel_see[cxr], 'o', ms=2, alpha=0.1, color='red', label='COSMOS')\n",
    "plt.plot( sub_off[exr], sub_rel_see[exr], 'o', ms=2, alpha=0.1, color='darkorange', label='ELAIS')\n",
    "plt.xlabel('r-band ccd offset (arcsec)')\n",
    "# plt.ylabel('r-band sub seeing / exp seeing')\n",
    "# plt.legend(loc='upper left')\n",
    "plt.subplot(1, 3, 3)\n",
    "plt.plot( sub_off[cxi], sub_rel_see[cxi], 'o', ms=2, alpha=0.1, color='brown', label='COSMOS')\n",
    "plt.plot( sub_off[exi], sub_rel_see[exi], 'o', ms=2, alpha=0.1, color='peru', label='ELAIS')\n",
    "plt.xlabel('i-band ccd offset (arcsec)')\n",
    "# plt.ylabel('i-band sub seeing / exp seeing')\n",
    "plt.show()\n",
    "\n",
    "plt.figure(figsize=(12, 3))\n",
    "plt.subplot(1, 3, 1)\n",
    "plt.plot( sub_off[cxg], sub_rel_sks[cxg], 'o', ms=2, alpha=0.1, color='darkgreen', label='COSMOS')\n",
    "plt.plot( sub_off[exg], sub_rel_sks[exg], 'o', ms=2, alpha=0.1, color='limegreen', label='ELAIS')\n",
    "plt.xlabel('g-band ccd offset (arcsec)')\n",
    "plt.ylabel('g-band sub skysig / exp skysig')\n",
    "# plt.legend(loc='upper left')\n",
    "plt.subplot(1, 3, 2)\n",
    "plt.plot( sub_off[cxr], sub_rel_sks[cxr], 'o', ms=2, alpha=0.1, color='red', label='COSMOS')\n",
    "plt.plot( sub_off[exr], sub_rel_sks[exr], 'o', ms=2, alpha=0.1, color='darkorange', label='ELAIS')\n",
    "plt.xlabel('r-band ccd offset (arcsec)')\n",
    "# plt.ylabel('r-band sub skysig / exp skysig')\n",
    "# plt.legend(loc='upper left')\n",
    "plt.subplot(1, 3, 3)\n",
    "plt.plot( sub_off[cxi], sub_rel_sks[cxi], 'o', ms=2, alpha=0.1, color='brown', label='COSMOS')\n",
    "plt.plot( sub_off[exi], sub_rel_sks[exi], 'o', ms=2, alpha=0.1, color='peru', label='ELAIS')\n",
    "plt.xlabel('i-band ccd offset (arcsec)')\n",
    "# plt.ylabel('i-band sub skysig / exp skysig')\n",
    "plt.show()\n",
    "\n",
    "plt.figure(figsize=(12, 3))\n",
    "plt.subplot(1, 3, 1)\n",
    "plt.plot( sub_off[cxg], sub_rel_mzp[cxg], 'o', ms=2, alpha=0.1, color='darkgreen', label='COSMOS')\n",
    "plt.plot( sub_off[exg], sub_rel_mzp[exg], 'o', ms=2, alpha=0.1, color='limegreen', label='ELAIS')\n",
    "plt.xlabel('g-band ccd offset (arcsec)')\n",
    "plt.ylabel('g-band sub zeropoint / exp zeropoint')\n",
    "# plt.legend(loc='upper left')\n",
    "plt.subplot(1, 3, 2)\n",
    "plt.plot( sub_off[cxr], sub_rel_mzp[cxr], 'o', ms=2, alpha=0.1, color='red', label='COSMOS')\n",
    "plt.plot( sub_off[exr], sub_rel_mzp[exr], 'o', ms=2, alpha=0.1, color='darkorange', label='ELAIS')\n",
    "plt.xlabel('r-band ccd offset (arcsec)')\n",
    "# plt.ylabel('r-band sub zeropoint / exp zeropoint')\n",
    "# plt.legend(loc='upper left')\n",
    "plt.subplot(1, 3, 3)\n",
    "plt.plot( sub_off[cxi], sub_rel_mzp[cxi], 'o', ms=2, alpha=0.1, color='brown', label='COSMOS')\n",
    "plt.plot( sub_off[exi], sub_rel_mzp[exi], 'o', ms=2, alpha=0.1, color='peru', label='ELAIS')\n",
    "plt.xlabel('i-band ccd offset (arcsec)')\n",
    "# plt.ylabel('i-band sub zeropoint / exp zeropoint')\n",
    "plt.show()"
   ]
  },
  {
   "cell_type": "code",
   "execution_count": null,
   "id": "c9de4428-e931-4cde-b83a-05b5ff2e0f87",
   "metadata": {},
   "outputs": [],
   "source": []
  },
  {
   "cell_type": "code",
   "execution_count": null,
   "id": "d9cb2806-6aaa-411d-ae69-ca2c880ac904",
   "metadata": {},
   "outputs": [],
   "source": []
  }
 ],
 "metadata": {
  "kernelspec": {
   "display_name": "NERSC Python",
   "language": "python",
   "name": "python3"
  },
  "language_info": {
   "codemirror_mode": {
    "name": "ipython",
    "version": 3
   },
   "file_extension": ".py",
   "mimetype": "text/x-python",
   "name": "python",
   "nbconvert_exporter": "python",
   "pygments_lexer": "ipython3",
   "version": "3.9.7"
  }
 },
 "nbformat": 4,
 "nbformat_minor": 5
}
