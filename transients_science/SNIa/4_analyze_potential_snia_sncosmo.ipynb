{
 "cells": [
  {
   "cell_type": "markdown",
   "id": "78028554-e03f-43d8-ade8-eae961e01340",
   "metadata": {
    "tags": []
   },
   "source": [
    "# Analyze the fit results from `sncosmo`\n",
    "\n",
    "Authors: Midori Rollins and Melissa Graham\n",
    "\n",
    "*Description to go here.*"
   ]
  },
  {
   "cell_type": "markdown",
   "id": "2eb32894-aa32-441a-9681-f10e255bb987",
   "metadata": {},
   "source": [
    "## Set up and read in the data\n",
    "\n",
    "Import packages."
   ]
  },
  {
   "cell_type": "code",
   "execution_count": 1,
   "id": "2c159a03-6baf-4cfc-ae6d-066fb60a0d4b",
   "metadata": {
    "tags": []
   },
   "outputs": [],
   "source": [
    "import numpy as np\n",
    "import matplotlib.pyplot as plt\n",
    "import time\n",
    "\n",
    "from astropy.cosmology import FlatLambdaCDM\n",
    "import astropy.units as u\n",
    "cosmo = FlatLambdaCDM(H0=70 * u.km / u.s / u.Mpc, Tcmb0=2.725 * u.K, Om0=0.3)"
   ]
  },
  {
   "cell_type": "markdown",
   "id": "c31530c8-7045-40c4-8de9-de7dfb4f3076",
   "metadata": {},
   "source": [
    "Read in the `sncosmo` results."
   ]
  },
  {
   "cell_type": "code",
   "execution_count": 2,
   "id": "19f6ee8c-0297-4136-9fb1-8676174a9d27",
   "metadata": {
    "tags": []
   },
   "outputs": [],
   "source": [
    "fnm = 'all_fit_snia_files/results_sncosmos.dat'\n",
    "\n",
    "fit_cand = np.loadtxt(fnm, dtype='str', usecols=(0))\n",
    "fit_est_z = np.loadtxt(fnm, dtype='float', usecols=(1))\n",
    "fit_in_zlo = np.loadtxt(fnm, dtype='float', usecols=(2))\n",
    "fit_in_zhi = np.loadtxt(fnm, dtype='float', usecols=(3))\n",
    "fit_z = np.loadtxt(fnm, dtype='float', usecols=(4))\n",
    "fit_ze = np.loadtxt(fnm, dtype='float', usecols=(5))\n",
    "fit_t0 = np.loadtxt(fnm, dtype='float', usecols=(6))\n",
    "fit_t0e = np.loadtxt(fnm, dtype='float', usecols=(7))\n",
    "fit_x0 = np.loadtxt(fnm, dtype='float', usecols=(8))\n",
    "fit_x0e = np.loadtxt(fnm, dtype='float', usecols=(9))\n",
    "fit_x1 = np.loadtxt(fnm, dtype='float', usecols=(10))\n",
    "fit_x1e = np.loadtxt(fnm, dtype='float', usecols=(11))\n",
    "fit_c = np.loadtxt(fnm, dtype='float', usecols=(12))\n",
    "fit_ce = np.loadtxt(fnm, dtype='float', usecols=(13))\n",
    "\n",
    "fit_pmB = np.loadtxt(fnm, dtype='float', usecols=(14))\n",
    "fit_pmg = np.loadtxt(fnm, dtype='float', usecols=(15))\n",
    "fit_pmr = np.loadtxt(fnm, dtype='float', usecols=(16))\n",
    "fit_pmi = np.loadtxt(fnm, dtype='float', usecols=(17))\n",
    "\n",
    "del fnm"
   ]
  },
  {
   "cell_type": "markdown",
   "id": "b10a1232-63df-4df5-98ec-4179093ae6dc",
   "metadata": {},
   "source": [
    "And the review flags."
   ]
  },
  {
   "cell_type": "code",
   "execution_count": 3,
   "id": "4e0a8861-5562-4df6-868b-1a688bcbf400",
   "metadata": {},
   "outputs": [],
   "source": [
    "fnm = 'all_fit_snia_files/results_sncosmos_fit_review.dat'\n",
    "fit_flag = np.loadtxt(fnm, dtype='int', usecols=(1))\n",
    "fit_flagMR = np.loadtxt(fnm, dtype='int', usecols=(2))\n",
    "del fnm"
   ]
  },
  {
   "cell_type": "markdown",
   "id": "ccc5a5df-5a73-4da5-ac83-a7486b91120f",
   "metadata": {},
   "source": [
    "## A primer on the SALT2 fit parameters\n",
    "\n",
    "We have used `sncosmo` with the SALT-2 lightcurve fitter,\n",
    "(<a href=\"https://ui.adsabs.harvard.edu/abs/2007A%26A...466...11G/abstract\">Guy et al. 2007</a>).\n",
    "\n",
    "The five fit parameters are:\n",
    " * `z`  : redshift\n",
    " * `t0` : time of peak brightness (MJD)\n",
    " * `x0` : flux normalization (a proxy for peak brightness)\n",
    " * `x1` : a proxy for lightcurve decline rate (or stretch factor)\n",
    " * `c`  : color offset\n",
    " \n",
    "### `z` and `t0`\n",
    "\n",
    "These two are standard, self-explanatory parameters and do not need any further conversions.\n",
    "\n",
    "### `x0` \n",
    "\n",
    "This is the SED normalization in the SALT2 fits, and a conversion from it to \n",
    "peak apparent brightness can be done with \n",
    "$m_{B} = −2.5\\log(x_{0}) + 10.635$ \n",
    "from <a href=\"https://arxiv.org/abs/1401.4065\">Mosher et al. (2014)</a>.\n",
    "\n",
    "However, this isn't necessary as the peak brightness in Bessel B, and sdss g, r, and i \n",
    "are all in the fit results file already.\n",
    "\n",
    "\n",
    "### `x1`\n",
    "\n",
    "#### Decline rate\n",
    "\n",
    "$\\Delta m_{15}$ is the change in magnitude (it is standard to report this in the B-band)\n",
    "during the first 15 days after peak brightness, and is commonly refered to as the\n",
    "decline rate.\n",
    "\n",
    "Section 5 of Guy+07 gives the conversion between $x_1$ and $\\Delta m_{15}$ as:\n",
    "\n",
    "> $\\Delta m_{15} = 1.09 - 0.161x_{1} + 0.013x_{1}^{2} - 0.00130x_{1}^{3}$\n",
    "\n",
    "SNIa with a larger value of $\\Delta m_{15}$ decline faster, and typically have reached\n",
    "fainter peak brightness.\n",
    "\n",
    "#### Stretch\n",
    "\n",
    "The stretch parameter, $s$, is another parameterization of the width or decline rate\n",
    "of the SNIa which also incorporates the rise time, and was defined in\n",
    "<a href=\"https://ui.adsabs.harvard.edu/abs/1997ApJ...483..565P/abstract\">Perlmutter et al. 1997</a>.\n",
    "\n",
    "Section 5 of Guy+07 gives the conversion between $x_1$ and $s$ as:\n",
    "\n",
    "> $s = 0.98 + 0.091 x_1 + 0.003 x_1^2 - 0.00075 x_1^3$\n",
    "\n",
    "SNIa with a larger stretch value have a narrower-width lightcurve that has reached a fainter peak.\n",
    "\n",
    "\n",
    "### `c` \n",
    "\n",
    "Section 2 of Guy+07 describes this as \n",
    "*\"...a color offset with respect to the average at the date maximum luminosity in B-band, \n",
    "$c = (B-V)_{\\rm MAX} - \\left< B-V \\right>$ ...\"*.\n",
    "\n",
    "In this case, $(B-V)_{\\rm MAX}$ is the color of the fit SNIa at maximum, \n",
    "and $\\left< B-V \\right>$ is the average color for SNIa in general.\n",
    "\n",
    "What does the value of $c$ indicate about the fit SNIa's color? Let's reason it out:\n",
    " * When $c < 0$, that means $(B-V)_{\\rm MAX} < \\left< B-V \\right>$.\n",
    " * The fit SNIa has a $B-V$ value that is lower than average.\n",
    " * This means either $B$ is smaller or $V$ is larger.\n",
    " * Since we're in magnitudes, that means $B$ is brighter or $V$ is fainter.\n",
    " * And $B$ being brighter or $V$ being fainter means the SNIa is *bluer*.\n",
    " * So when $c < 0$, the fit SNIa is bluer than a typical SNIa.\n",
    " * And vice versa, when $c > 0$ the fit SNIa is redder than a typical SNIa.\n",
    "\n",
    "This is important to understand because SNIa that are intrinsically brighter are bluer,\n",
    "and we should see this correlation in our fit results."
   ]
  },
  {
   "cell_type": "markdown",
   "id": "baed18a1-7823-4a17-9e7e-ab42f2664a37",
   "metadata": {},
   "source": [
    "## Convert parameters and calculate errors\n",
    "\n",
    "### Convert `x1` to $\\Delta m_{15}$ and stretch\n",
    "\n",
    "Determine the error values analytically.\n",
    "\n",
    "#### $\\Delta m_{15}$"
   ]
  },
  {
   "cell_type": "code",
   "execution_count": 4,
   "id": "fb544d4f-1493-4e16-8fa2-417e53f1e4e2",
   "metadata": {},
   "outputs": [],
   "source": [
    "fit_dm15 = 1.09 - 0.161*fit_x1 + 0.013*fit_x1**2 - 0.00130*fit_x1**3\n",
    "fit_dm15e = np.zeros(len(fit_dm15), dtype='float')\n",
    "for c in range(len(fit_dm15)):\n",
    "    if fit_x1e[c] > 0:\n",
    "        temp = np.random.normal(loc=fit_x1[c], scale=fit_x1e[c], size=10000)\n",
    "        temp2 = 1.09 - 0.161*temp + 0.013*temp**2 - 0.00130*temp**3\n",
    "        fit_dm15e[c] = np.std(temp2)\n",
    "        del temp, temp2\n",
    "    else:\n",
    "        fit_dm15e[c] = -99.9"
   ]
  },
  {
   "cell_type": "markdown",
   "id": "1b19c963-4f67-4c7f-9aec-e5fe1beb1c75",
   "metadata": {},
   "source": [
    "#### Stretch"
   ]
  },
  {
   "cell_type": "code",
   "execution_count": 5,
   "id": "ae8a6e87-0e21-4219-9787-466e4aeddd23",
   "metadata": {},
   "outputs": [],
   "source": [
    "fit_s = 0.98 + 0.091*fit_x1 + 0.003*fit_x1**2 - 0.00075*fit_x1**3\n",
    "fit_se = np.zeros(len(fit_s), dtype='float')\n",
    "for c in range(len(fit_s)):\n",
    "    if fit_x1e[c] > 0:\n",
    "        temp = np.random.normal(loc=fit_x1[c], scale=fit_x1e[c], size=10000)\n",
    "        temp2 = 0.98 + 0.091*temp + 0.003*temp**2 - 0.00075*temp**3\n",
    "        fit_se[c] = np.std(temp2)\n",
    "        del temp, temp2\n",
    "    else:\n",
    "        fit_se[c] = -99.9"
   ]
  },
  {
   "cell_type": "markdown",
   "id": "31933871-96d6-492f-b01a-b9054b88eb78",
   "metadata": {},
   "source": [
    "### Calculate error in peak apparent brightness\n",
    "\n",
    "Derive an error in peak brightness from the error in the fit value of `x0`."
   ]
  },
  {
   "cell_type": "code",
   "execution_count": 6,
   "id": "462adcb7-a0fc-42f0-8a80-2240c7633233",
   "metadata": {},
   "outputs": [
    {
     "name": "stderr",
     "output_type": "stream",
     "text": [
      "/tmp/ipykernel_1120674/44849587.py:5: RuntimeWarning: invalid value encountered in log10\n",
      "  temp2 = -2.5 * np.log10(temp) + 10.635\n"
     ]
    }
   ],
   "source": [
    "fit_pmfe = np.zeros(len(fit_x0e), dtype='float')\n",
    "for c in range(len(fit_x0e)):\n",
    "    if fit_x0e[c] > 0:\n",
    "        temp = np.random.normal(loc=fit_x0[c], scale=fit_x0e[c], size=10000)\n",
    "        temp2 = -2.5 * np.log10(temp) + 10.635\n",
    "        fit_pmfe[c] = np.std(temp2)\n",
    "        del temp, temp2\n",
    "    else:\n",
    "        fit_pmfe[c] = -99.9"
   ]
  },
  {
   "cell_type": "markdown",
   "id": "541cdae8-ff4a-4799-a51f-7e5cc3f0bb29",
   "metadata": {},
   "source": [
    "### Estimate peak intrinsic magnitude: $ M_{B}$\n",
    "\n",
    "Since we have the redshift from the fit, determine the distance modulus and\n",
    "calculate the peak intrinsic magnitude of each potential SNIa.\n",
    "\n",
    "The simple way to do this is to use $\\mu = m-M$ where $\\mu = 5log(D_L) + 25$."
   ]
  },
  {
   "cell_type": "code",
   "execution_count": 7,
   "id": "6a6142e3-8b35-414b-9b2f-9f542cd493e3",
   "metadata": {
    "tags": []
   },
   "outputs": [],
   "source": [
    "fit_MB = np.zeros(len(fit_pmB), dtype='float')\n",
    "tx = np.where(fit_z > 0.0)[0]\n",
    "fit_MB[tx] = fit_pmB[tx] - (5. * np.log10(cosmo.luminosity_distance(fit_z[tx]).value) + 25.)\n",
    "del tx"
   ]
  },
  {
   "cell_type": "code",
   "execution_count": 8,
   "id": "f92b7111-3d44-4366-bbb9-f0d58baa21bd",
   "metadata": {
    "tags": []
   },
   "outputs": [
    {
     "name": "stderr",
     "output_type": "stream",
     "text": [
      "/tmp/ipykernel_1120674/4282898857.py:6: RuntimeWarning: invalid value encountered in log10\n",
      "  temp3 = temp2 - (5. * np.log10(cosmo.luminosity_distance(temp).value) + 25.)\n"
     ]
    }
   ],
   "source": [
    "fit_MBe = np.zeros(len(fit_MB), dtype='float')\n",
    "for c in range(len(fit_MB)):\n",
    "    if fit_z[c] > 0.0:\n",
    "        temp = np.random.normal(loc=fit_z[c], scale=fit_ze[c], size=10000)\n",
    "        temp2 = np.random.normal(loc=fit_pmB[c], scale=fit_pmfe[c], size=10000)\n",
    "        temp3 = temp2 - (5. * np.log10(cosmo.luminosity_distance(temp).value) + 25.)\n",
    "        fit_MBe[c] = np.std(temp3)\n",
    "        del temp, temp2, temp3\n",
    "    else:\n",
    "        fit_MBe[c] = -99.9"
   ]
  },
  {
   "cell_type": "markdown",
   "id": "61990bbc-84ae-4d46-b772-892495a93378",
   "metadata": {},
   "source": [
    "Can we use the lightcurve fits to get a \"corrected\" peak magnitude?\n",
    "\n",
    "For example, by using this equation from Section 7.2 in Guy+07:\n",
    "\n",
    "$\\mu_B = m^{*}_B - M + \\alpha_x \\times x_1 - \\beta \\times c$\n",
    "\n",
    "This can get you a better *distance* but it relies on the assumption that all SNIa can be \"corrected\" to a common peak brightness.\n",
    "\n",
    "Using this equation does not result in a more accurate calculation of the true intrinsic peak brightness."
   ]
  },
  {
   "cell_type": "markdown",
   "id": "26d3fb43-b8e4-4aaf-b8ef-581717c1550a",
   "metadata": {},
   "source": [
    "## Plot parameter correlations\n",
    "\n",
    "Only include potential SNIa with *unflagged* fit parameters in the plots."
   ]
  },
  {
   "cell_type": "code",
   "execution_count": 9,
   "id": "c6b993d6-3965-4232-a488-0a44e9edcfdc",
   "metadata": {
    "tags": []
   },
   "outputs": [],
   "source": [
    "tx = np.where((fit_z > 0.0) & (fit_flag == 0))[0]"
   ]
  },
  {
   "cell_type": "markdown",
   "id": "ffb835c5-59de-469a-957a-854a739b1b79",
   "metadata": {},
   "source": [
    "### SALT2 parameters\n",
    "\n",
    "As a function of redshift.\n",
    "\n",
    "Only `x0`, the peak apparent magnitude, should be correlated with redshift."
   ]
  },
  {
   "cell_type": "code",
   "execution_count": 10,
   "id": "c79630bf-76ae-43e2-aada-62140aea6fd6",
   "metadata": {
    "tags": []
   },
   "outputs": [
    {
     "data": {
      "image/png": "[encoded data removed]",
      "text/plain": [
       "<Figure size 1152x288 with 3 Axes>"
      ]
     },
     "metadata": {
      "needs_background": "light"
     },
     "output_type": "display_data"
    }
   ],
   "source": [
    "fig, ax = plt.subplots(1, 3, figsize=(16, 4), sharex=True, sharey=False)\n",
    "\n",
    "ax[0].errorbar(fit_z[tx], fit_x0[tx], fmt='o', xerr=fit_ze[tx], yerr=fit_x0e[tx], mew=0, color='black')\n",
    "ax[0].set_xlabel('z')\n",
    "ax[0].set_ylabel('x0')\n",
    "\n",
    "ax[1].errorbar(fit_z[tx], fit_x1[tx], fmt='o', xerr=fit_ze[tx], yerr=fit_x1e[tx], mew=0, color='black')\n",
    "ax[1].set_xlabel('z')\n",
    "ax[1].set_ylabel('x1')\n",
    "\n",
    "ax[2].errorbar(fit_z[tx], fit_c[tx], fmt='o', xerr=fit_ze[tx], yerr=fit_ce[tx], mew=0, color='black')\n",
    "ax[2].set_xlabel('z')\n",
    "ax[2].set_ylabel('c')\n",
    "\n",
    "fig.tight_layout()\n",
    "fig.show()"
   ]
  },
  {
   "cell_type": "markdown",
   "id": "d9bef37b-e2d9-49e5-bc63-46af27f75372",
   "metadata": {},
   "source": [
    "Each parameter vs. the other. We should not see any correlations here, as the three parameters should be independent."
   ]
  },
  {
   "cell_type": "code",
   "execution_count": 11,
   "id": "a5c7b7e3-c7df-4885-bc2f-53a33340a6c4",
   "metadata": {},
   "outputs": [
    {
     "data": {
      "image/png": "[encoded data removed]",
      "text/plain": [
       "<Figure size 1152x288 with 3 Axes>"
      ]
     },
     "metadata": {
      "needs_background": "light"
     },
     "output_type": "display_data"
    }
   ],
   "source": [
    "fig, ax = plt.subplots(1, 3, figsize=(16, 4), sharex=False, sharey=False)\n",
    "\n",
    "tx = np.where((fit_z > 0.0) & (fit_flag == 0))[0]\n",
    "                           \n",
    "ax[0].errorbar(fit_x0[tx], fit_x1[tx], fmt='o', xerr=fit_x0e[tx], yerr=fit_x1e[tx], mew=0, color='black')\n",
    "ax[0].set_xlabel('x0')\n",
    "ax[0].set_ylabel('x1')\n",
    "\n",
    "ax[1].errorbar(fit_x0[tx], fit_c[tx], fmt='o', xerr=fit_x0e[tx], yerr=fit_ce[tx], mew=0, color='black')\n",
    "ax[1].set_xlabel('x0')\n",
    "ax[1].set_ylabel('c')\n",
    "\n",
    "ax[2].errorbar(fit_x1[tx], fit_c[tx], fmt='o', xerr=fit_x1e[tx], yerr=fit_ce[tx], mew=0, color='black')\n",
    "ax[2].set_xlabel('x1')\n",
    "ax[2].set_ylabel('c')\n",
    "\n",
    "fig.tight_layout()\n",
    "fig.show()"
   ]
  },
  {
   "cell_type": "markdown",
   "id": "7ea59893-bd18-4d33-ba8e-1301eff9e929",
   "metadata": {},
   "source": [
    "### Derived lightcurve parameters and and redshift\n",
    "\n",
    "Here we absolutely expect to see a clear trend between peak apparent magnitude and redshift, \n",
    "but not between redshift for stretch or $\\Delta m_{15}$.\n",
    "\n",
    "While we didn't expect the trend between $m$ and $z$ to be linear, the scatter at lower redshifts is odd."
   ]
  },
  {
   "cell_type": "code",
   "execution_count": 12,
   "id": "0deb9f26-1eed-48b3-a7d2-e8e424c970c9",
   "metadata": {
    "tags": []
   },
   "outputs": [
    {
     "data": {
      "image/png": "[encoded data removed]",
      "text/plain": [
       "<Figure size 1152x288 with 3 Axes>"
      ]
     },
     "metadata": {
      "needs_background": "light"
     },
     "output_type": "display_data"
    }
   ],
   "source": [
    "fig, ax = plt.subplots(1, 3, figsize=(16, 4), sharex=True, sharey=False)\n",
    "\n",
    "ax[0].errorbar(fit_z[tx], fit_pmB[tx], fmt='o', xerr=fit_ze[tx], yerr=fit_pmfe[tx], mew=0, color='black')\n",
    "ax[0].set_xlabel('z')\n",
    "ax[0].set_ylabel('mB')\n",
    "\n",
    "ax[1].errorbar(fit_z[tx], fit_s[tx], fmt='o', xerr=fit_ze[tx], yerr=fit_se[tx], mew=0, color='black')\n",
    "ax[1].set_xlabel('z')\n",
    "ax[1].set_ylabel('stretch')\n",
    "\n",
    "ax[2].errorbar(fit_z[tx], fit_dm15[tx], fmt='o', xerr=fit_ze[tx], yerr=fit_dm15e[tx], mew=0, color='black')\n",
    "ax[2].set_xlabel('z')\n",
    "ax[2].set_ylabel('delta m_15')\n",
    "\n",
    "fig.tight_layout()\n",
    "fig.show()"
   ]
  },
  {
   "cell_type": "markdown",
   "id": "b13d8834-3123-4b23-b3db-4beac3d2d81c",
   "metadata": {},
   "source": [
    "### Intrinsic peak brightness and redshift\n",
    "\n",
    "Here we **DO NOT** expect to see a trend.\n",
    "\n",
    "And yet we do, which remains concerning.\n",
    "\n",
    "What this *might* mean is that a bunch of the lower-redshift objects (z<0.2) are not SNIa.\n",
    "\n",
    "This trend could be entirely a result of our detection biases, where we can\n",
    "more easily detect bright things if they're nearby."
   ]
  },
  {
   "cell_type": "code",
   "execution_count": 13,
   "id": "a0c20602-d7af-4e08-8dcc-d04688ea919b",
   "metadata": {
    "tags": []
   },
   "outputs": [
    {
     "data": {
      "image/png": "[encoded data removed]",
      "text/plain": [
       "<Figure size 432x432 with 1 Axes>"
      ]
     },
     "metadata": {
      "needs_background": "light"
     },
     "output_type": "display_data"
    }
   ],
   "source": [
    "plt.figure(figsize=(6, 6))\n",
    "\n",
    "plt.errorbar(fit_z[tx], fit_MB[tx], fmt='o', xerr=fit_ze[tx], yerr=fit_MBe[tx], mew=0, color='black')\n",
    "\n",
    "plt.xlabel('z')\n",
    "plt.ylabel('intrinsic peak magnitude')\n",
    "plt.show()"
   ]
  },
  {
   "cell_type": "markdown",
   "id": "8f99b51b-955c-44de-9983-23677973ecdb",
   "metadata": {},
   "source": [
    "### Lightcurve parameters vs. peak intrinsic magnitude\n",
    "\n",
    "Here we do expect stretch and $\\Delta m_{15}$ to be correlated with peak intrinsic magnitude.\n",
    "\n",
    "This is commonly known as the Phillips relation, or the width-luminosity relation, from <a href=\"https://ui.adsabs.harvard.edu/abs/1993ApJ...413L.105P/abstract\">Phillips et al. (1993)</a>.\n",
    "\n",
    "We aren't seeing it super clearly here though.\n",
    "\n",
    "Below, we've colored the low-redshift objects as blue."
   ]
  },
  {
   "cell_type": "code",
   "execution_count": 14,
   "id": "a9a5bec0-8ac1-4396-b055-3de96ff25f48",
   "metadata": {
    "tags": []
   },
   "outputs": [
    {
     "data": {
      "image/png": "[encoded data removed]",
      "text/plain": [
       "<Figure size 1152x288 with 3 Axes>"
      ]
     },
     "metadata": {
      "needs_background": "light"
     },
     "output_type": "display_data"
    }
   ],
   "source": [
    "tx2 = np.where((fit_z < 0.2) & (fit_flag == 0))[0]\n",
    "\n",
    "fig, ax = plt.subplots(1, 3, figsize=(16, 4), sharex=True, sharey=False)\n",
    "\n",
    "ax[0].errorbar(fit_MB[tx], fit_c[tx], fmt='o', xerr=fit_MBe[tx], yerr=fit_ce[tx], mew=0, color='black')\n",
    "ax[0].errorbar(fit_MB[tx2], fit_c[tx2], fmt='o', xerr=fit_MBe[tx2], yerr=fit_ce[tx2], mew=0, color='dodgerblue')\n",
    "ax[0].set_xlabel('MB')\n",
    "ax[0].set_ylabel('c')\n",
    "\n",
    "ax[1].errorbar(fit_MB[tx], fit_s[tx], fmt='o', xerr=fit_MBe[tx], yerr=fit_se[tx], mew=0, color='black')\n",
    "ax[1].errorbar(fit_MB[tx2], fit_s[tx2], fmt='o', xerr=fit_MBe[tx2], yerr=fit_se[tx2], mew=0, color='dodgerblue')\n",
    "ax[1].set_xlabel('MB')\n",
    "ax[1].set_ylabel('stretch')\n",
    "\n",
    "ax[2].errorbar(fit_MB[tx], fit_dm15[tx], fmt='o', xerr=fit_MBe[tx], yerr=fit_dm15e[tx], mew=0, color='black')\n",
    "ax[2].errorbar(fit_MB[tx2], fit_dm15[tx2], fmt='o', xerr=fit_MBe[tx2], yerr=fit_dm15e[tx2], mew=0, color='dodgerblue')\n",
    "ax[2].set_xlabel('MB')\n",
    "ax[2].set_ylabel('delta m_15')\n",
    "\n",
    "fig.tight_layout()\n",
    "fig.show()"
   ]
  },
  {
   "cell_type": "code",
   "execution_count": null,
   "id": "6cadf733-aa17-4b04-a775-bcbda62c4bd0",
   "metadata": {},
   "outputs": [],
   "source": []
  },
  {
   "cell_type": "markdown",
   "id": "8a9fd1ba-3272-4917-95a9-93798c02b8c4",
   "metadata": {},
   "source": [
    "And this is as far as Melissa got.\n",
    "\n",
    "<br>\n",
    "\n",
    "<br>\n",
    "\n",
    "<br>\n",
    "\n",
    "<br>\n",
    "\n",
    "# Everything below here that isn't recreated above, should be.\n",
    "\n",
    "There is space in NB 3, the review NB, to recreate the visual review flags.\n",
    "\n",
    "Store them in `fit_flagMR` (MR = Midori Rollins) and we could use them here."
   ]
  },
  {
   "cell_type": "code",
   "execution_count": null,
   "id": "ace1cfeb-7972-4f09-8cb0-8e65a668dc92",
   "metadata": {},
   "outputs": [],
   "source": []
  },
  {
   "cell_type": "code",
   "execution_count": null,
   "id": "93c54bbd-3eb3-4a2e-ae35-6e29560c0452",
   "metadata": {},
   "outputs": [],
   "source": []
  },
  {
   "cell_type": "code",
   "execution_count": null,
   "id": "6e23c031-bf81-4303-a1c1-6b271a8acb25",
   "metadata": {},
   "outputs": [],
   "source": []
  },
  {
   "cell_type": "code",
   "execution_count": null,
   "id": "abc6cd8e-df3c-4698-9c6b-636501f42c59",
   "metadata": {},
   "outputs": [],
   "source": []
  },
  {
   "cell_type": "code",
   "execution_count": null,
   "id": "e5bab9ab-23f1-46a2-a397-61c2147b3394",
   "metadata": {},
   "outputs": [],
   "source": []
  },
  {
   "cell_type": "code",
   "execution_count": null,
   "id": "a9d9ad4c-3a5d-418c-8d44-d9a20439e922",
   "metadata": {},
   "outputs": [],
   "source": []
  },
  {
   "cell_type": "code",
   "execution_count": null,
   "id": "379eab50-9191-4338-8da2-89aa3e4b741e",
   "metadata": {},
   "outputs": [],
   "source": []
  },
  {
   "cell_type": "code",
   "execution_count": null,
   "id": "8390e014-f15e-437c-8403-4d92bc783f9d",
   "metadata": {},
   "outputs": [],
   "source": []
  },
  {
   "cell_type": "code",
   "execution_count": null,
   "id": "8ef7d5ab-c71b-4bbd-b948-e9328a422452",
   "metadata": {},
   "outputs": [],
   "source": []
  },
  {
   "cell_type": "code",
   "execution_count": null,
   "id": "245c7fe5-5745-4d4d-9852-9cd673e214fb",
   "metadata": {},
   "outputs": [],
   "source": [
    "fig, ax = plt.subplots(1, 3)\n",
    "fig.set_size_inches(13, 5)\n",
    "\n",
    "ax[0].scatter(mb_n, delta_m15b_n, color='slateblue')\n",
    "ax[0].set_xlabel(\"$m_{B}$\")\n",
    "ax[0].set_ylabel(\"$\\Delta m_{15B}$\")\n",
    "\n",
    "ax[1].scatter(mb_n, new_fit_c, color='orchid')\n",
    "ax[1].set_xlabel(\"$m_{B}$\")\n",
    "ax[1].set_ylabel('c')\n",
    "\n",
    "ax[2].scatter(delta_m15b_n, new_fit_c, color='seagreen')\n",
    "ax[2].set_xlabel(\"$\\Delta m_{15B}$\")\n",
    "ax[2].set_ylabel('c')\n",
    "\n",
    "fig.tight_layout()\n",
    "fig.show()"
   ]
  },
  {
   "cell_type": "markdown",
   "id": "dfa0bef4-87f8-4c5b-90ab-93091ada5dff",
   "metadata": {},
   "source": [
    "### Comparison between abs mag $M_{B}$, and original & converted parameters"
   ]
  },
  {
   "cell_type": "code",
   "execution_count": null,
   "id": "c7eda064-182f-4e22-b278-ca842d2e0793",
   "metadata": {},
   "outputs": [],
   "source": [
    "fig, ax = plt.subplots(2, 3)\n",
    "fig.set_size_inches(13, 9)\n",
    "\n",
    "ax[0,0].scatter(mb_n, abs_mag, color='slateblue')\n",
    "ax[0,0].set_xlabel(\"$m_{B}$\")\n",
    "ax[0,0].set_ylabel(\"$M_{B}$\")\n",
    "ax[0,0].invert_yaxis()\n",
    "ax[0,0].invert_xaxis()\n",
    "\n",
    "ax[0,1].scatter(delta_m15b_n, abs_mag, color='orchid')\n",
    "ax[0,1].set_xlabel(\"$\\Delta m_{15B}$\")\n",
    "ax[0,1].set_ylabel(\"$M_{B}$\")\n",
    "ax[0,1].invert_yaxis()\n",
    "\n",
    "ax[0,2].scatter(new_fit_z, abs_mag, color='seagreen')\n",
    "ax[0,2].set_xlabel('z')\n",
    "ax[0,2].set_ylabel(\"$M_{B}$\")\n",
    "ax[0,2].invert_yaxis()\n",
    "\n",
    "ax[1,0].scatter(new_fit_x0, abs_mag, color='maroon')\n",
    "ax[1,0].set_xlabel('x0')\n",
    "ax[1,0].set_ylabel(\"$M_{B}$\")\n",
    "ax[1,0].invert_yaxis()\n",
    "\n",
    "ax[1,1].scatter(new_fit_x1, abs_mag, color='goldenrod')\n",
    "ax[1,1].set_xlabel('x1')\n",
    "ax[1,1].set_ylabel(\"$M_{B}$\")\n",
    "ax[1,1].invert_yaxis()\n",
    "\n",
    "ax[1,2].scatter(new_fit_c, abs_mag, color='blueviolet')\n",
    "ax[1,2].set_xlabel('c')\n",
    "ax[1,2].set_ylabel(\"$M_{B}$\")\n",
    "ax[1,2].invert_yaxis()\n",
    "\n",
    "fig.tight_layout()\n",
    "fig.show();"
   ]
  },
  {
   "cell_type": "markdown",
   "id": "4c066e2d-a267-4ea4-a85c-251d8508a49e",
   "metadata": {},
   "source": [
    "### Rating the fits\n",
    "\n",
    "After looking through the PDF of fits for all candidates, I have given them a rating of good, maybe, or bad.\n",
    "\n",
    ">**Good**: sncosmo fits our data very well; our data captures both the rise and fall of the supernova; has typical parameter values w/out large errors\n",
    "\n",
    ">**Maybe**: sncosmo fits our data somewhat well; not enough data/our data only captures the incline/decline of the supernova; may have abnormal parameter values & large errors; missing in a band\n",
    "\n",
    ">**Bad**: sncosmo does not fit our data well; our data is bad/clearly not type 1a-like; has abnormal parameter values w/ large errors"
   ]
  },
  {
   "cell_type": "code",
   "execution_count": null,
   "id": "a2670b28-a5f7-4f18-aaa0-a9b038abcfaf",
   "metadata": {},
   "outputs": [],
   "source": [
    "good=[1,4,6,7,9,11,12,13,14,19,20,23,24,25,28,37,45,47,59,66,69,70,75,81]\n",
    "maybe=[3,15,16,17,22,26,27,29,34,35,39,46,51,54,55,56,57,58,60,61,62,63,64,67,68,72,73,79,83,84]\n",
    "bad=[0,2,5,8,10,18,21,30,31,32,33,36,38,40,41,42,43,44,48,49,50,52,53,65,71,74,76,77,78,80,82]"
   ]
  },
  {
   "cell_type": "code",
   "execution_count": null,
   "id": "e803515e-d538-4fde-b8a7-8fc2184c6e22",
   "metadata": {
    "tags": []
   },
   "outputs": [],
   "source": [
    "# creating flags for good, maybe, and bad indices\n",
    "flag = np.zeros(len(fit_x1),dtype='int')\n",
    "flag[good]=0\n",
    "flag[maybe]=1\n",
    "flag[bad]=2\n",
    "\n",
    "# defining lists for our plot parameters\n",
    "colors=['green','gold','red']\n",
    "labels=['good','maybe','bad']\n",
    "names=[\"x0\",\"x0 error\",\"x1\",\"x1 error\",\"c\",\"c error\",\"z\",\"z error\",\"t0\",\"t0 error\"]\n",
    "\n",
    "# defining various bin values for better visuals\n",
    "bin1=[2,2,20]\n",
    "bin2=[5,5,20]\n",
    "bin3=[10,10,20]\n",
    "bin4=[15,15,20]"
   ]
  },
  {
   "cell_type": "markdown",
   "id": "bf05421f-087b-404a-a876-e8c02cf00430",
   "metadata": {},
   "source": [
    "### Plotting the rated distributions"
   ]
  },
  {
   "cell_type": "code",
   "execution_count": null,
   "id": "a040434a-487f-45d2-9b56-b8a9c5563513",
   "metadata": {
    "tags": []
   },
   "outputs": [],
   "source": [
    "fig, ax = plt.subplots(5, 2)### Looking at the fit parameter distributions\n",
    "fig.set_size_inches(16, 16)\n",
    "plt.subplots_adjust(hspace=0.3)\n",
    "\n",
    "ax[0,0].hist(fit_x0, bins=20, density=False, histtype='stepfilled', color='lightgrey', label='all values')\n",
    "for i in range(3):\n",
    "    tx=np.where(flag==i)[0]\n",
    "    ax[0,0].hist(fit_x0[tx], bins=bin3[i], density=False, histtype='step', color=colors[i], label=labels[i])\n",
    "    ax[0,0].set_xlabel(\"x0\")\n",
    "    ax[0,0].legend()\n",
    "    \n",
    "ax[0,1].hist(fit_x0e, bins=20, density=False, histtype='stepfilled', color='lightgrey', label='all values')\n",
    "for i in range(3):\n",
    "    tx=np.where(flag==i)[0]\n",
    "    ax[0,1].hist(fit_x0e[tx], bins=bin1[i], density=False, histtype='step', color=colors[i], label=labels[i])\n",
    "    ax[0,1].set_xlabel(\"x0 error\")\n",
    "    # ax[0,1].legend()\n",
    "\n",
    "ax[1,0].hist(fit_x1, bins=20, density=False, histtype='stepfilled', color='lightgrey', label='all values')\n",
    "for i in range(3):\n",
    "    tx=np.where(flag==i)[0]\n",
    "    ax[1,0].hist(fit_x1[tx], bins=bin2[i], density=False, histtype='step', color=colors[i], label=labels[i])\n",
    "    ax[1,0].set_xlabel(\"x1\")\n",
    "    # ax[1,0].legend()\n",
    "    \n",
    "ax[1,1].hist(fit_x1e, bins=20, density=False, histtype='stepfilled', color='lightgrey', label='all values')\n",
    "for i in range(3):\n",
    "    tx=np.where(flag==i)[0]\n",
    "    ax[1,1].hist(fit_x1e[tx], bins=bin1[i], density=False, histtype='step', color=colors[i], label=labels[i])\n",
    "    ax[1,1].set_xlabel(\"x1 error\")\n",
    "    # ax[1,1].legend()\n",
    "    \n",
    "ax[2,0].hist(fit_c, bins=20, density=False, histtype='stepfilled', color='lightgrey', label='all values')\n",
    "for i in range(3):\n",
    "    tx=np.where(flag==i)[0]\n",
    "    ax[2,0].hist(fit_c[tx], bins=bin2[i], density=False, histtype='step', color=colors[i], label=labels[i])\n",
    "    ax[2,0].set_xlabel(\"c\")\n",
    "    # ax[2,0].legend()\n",
    "    \n",
    "ax[2,1].hist(fit_ce, bins=20, density=False, histtype='stepfilled', color='lightgrey', label='all values')\n",
    "for i in range(3):\n",
    "    tx=np.where(flag==i)[0]\n",
    "    ax[2,1].hist(fit_ce[tx], bins=bin2[i], density=False, histtype='step', color=colors[i], label=labels[i])\n",
    "    ax[2,1].set_xlabel(\"c error\")\n",
    "    # ax[2,1].legend()\n",
    "    \n",
    "ax[3,0].hist(fit_z, bins=20, density=False, histtype='stepfilled', color='lightgrey', label='all values')\n",
    "for i in range(3):\n",
    "    tx=np.where(flag==i)[0]\n",
    "    ax[3,0].hist(fit_z[tx], bins=bin4[i], density=False, histtype='step', color=colors[i], label=labels[i])\n",
    "    ax[3,0].set_xlabel(\"z\")\n",
    "    # ax[3,0].legend()\n",
    "    \n",
    "ax[3,1].hist(fit_ze, bins=20, density=False, histtype='stepfilled', color='lightgrey', label='all values')\n",
    "for i in range(3):\n",
    "    tx=np.where(flag==i)[0]\n",
    "    ax[3,1].hist(fit_ze[tx], bins=bin3[i], density=False, histtype='step', color=colors[i], label=labels[i])\n",
    "    ax[3,1].set_xlabel(\"z error\")\n",
    "    # ax[3,1].legend()\n",
    "    \n",
    "ax[4,0].hist(fit_t0, bins=20, density=False, histtype='stepfilled', color='lightgrey', label='all values')\n",
    "for i in range(3):\n",
    "    tx=np.where(flag==i)[0]\n",
    "    ax[4,0].hist(fit_t0[tx], bins=bin4[i], density=False, histtype='step', color=colors[i], label=labels[i])\n",
    "    ax[4,0].set_xlabel(\"t0\")\n",
    "    # ax[4,0].legend()\n",
    "    \n",
    "ax[4,1].hist(fit_t0e, bins=20, density=False, histtype='stepfilled', color='lightgrey', label='all values')\n",
    "for i in range(3):\n",
    "    tx=np.where(flag==i)[0]\n",
    "    ax[4,1].hist(fit_t0e[tx], bins=bin1[i], density=False, histtype='step', color=colors[i], label=labels[i])\n",
    "    ax[4,1].set_xlabel(\"t0 error\")\n",
    "    # ax[4,1].legend()"
   ]
  },
  {
   "cell_type": "markdown",
   "id": "43b5e8d7-855c-4259-b8d4-e872a28ed444",
   "metadata": {},
   "source": [
    "### Recomparing relations between parameters w/ rated data"
   ]
  },
  {
   "cell_type": "markdown",
   "id": "109fb3f9-b242-431e-bedd-99ce6cc3eed6",
   "metadata": {},
   "source": [
    "#### Comparison between original parameters w/ rated data"
   ]
  },
  {
   "cell_type": "code",
   "execution_count": null,
   "id": "bf4c8f3e-0b2d-4bf5-8c62-b13017b59558",
   "metadata": {
    "tags": []
   },
   "outputs": [],
   "source": [
    "fig, ax = plt.subplots(1, 3)\n",
    "fig.set_size_inches(15, 5)\n",
    "plt.subplots_adjust(wspace=0.3)\n",
    "\n",
    "for i in range(3):\n",
    "    tx=np.where(flag==i)[0]\n",
    "    ax[0].scatter(fit_x0[tx], fit_x1[tx],color=colors[i], label=labels[i])\n",
    "    ax[0].set_xlabel(\"x0\")\n",
    "    ax[0].set_ylabel(\"x1\")\n",
    "    ax[0].legend()\n",
    "    \n",
    "for i in range(3):\n",
    "    tx=np.where(flag==i)[0]\n",
    "    ax[1].scatter(fit_x0[tx], fit_c[tx], color=colors[i], label=labels[i])\n",
    "    ax[1].set_xlabel(\"x0\")\n",
    "    ax[1].set_ylabel(\"c\")\n",
    "    ax[1].legend()\n",
    "    \n",
    "for i in range(3):\n",
    "    tx=np.where(flag==i)[0]\n",
    "    ax[2].scatter(fit_x1[tx], fit_c[tx],color=colors[i], label=labels[i])\n",
    "    ax[2].set_xlabel(\"x1\")\n",
    "    ax[2].set_ylabel(\"c\")\n",
    "    ax[2].legend()\n"
   ]
  },
  {
   "cell_type": "markdown",
   "id": "109b128a-1bb3-42f2-bb95-426a8bba26a1",
   "metadata": {},
   "source": [
    "#### Comparison between converted parameters w/ rated data"
   ]
  },
  {
   "cell_type": "code",
   "execution_count": null,
   "id": "68175e07-25ae-4899-bf29-5fc2f073f854",
   "metadata": {},
   "outputs": [],
   "source": [
    "x1_with_unc = unp.uarray((fit_x1, fit_x1e))\n",
    "delta_m15b=[]\n",
    "for i in range(len(fit_x1)):\n",
    "    delta_m15b.append(1.09 - (0.161*(x1_with_unc[i])) + (0.013*(x1_with_unc[i])**2) - (0.00130*(x1_with_unc[i])**3))\n",
    "delta_m15b_e = unp.std_devs(delta_m15b)\n",
    "delta_m15b_n = unp.nominal_values(delta_m15b)"
   ]
  },
  {
   "cell_type": "code",
   "execution_count": null,
   "id": "f84da8c4-3fd0-41ae-bf4b-295c125ac1f6",
   "metadata": {},
   "outputs": [],
   "source": [
    "x0_with_unc = unp.uarray((fit_x0, fit_x0e))\n",
    "mb=[]\n",
    "for i in range(len(fit_x0)):\n",
    "    mb.append((-2.5*unp.log10(x0_with_unc[i]))+10.635)\n",
    "mb_e = unp.std_devs(mb)\n",
    "mb_n = unp.nominal_values(mb)"
   ]
  },
  {
   "cell_type": "code",
   "execution_count": null,
   "id": "2386ed87-822c-4ea7-9f23-87d141bce783",
   "metadata": {},
   "outputs": [],
   "source": [
    "cosmo = FlatLambdaCDM(H0=70 * u.km / u.s / u.Mpc, Tcmb0=2.725 * u.K, Om0=0.3)\n",
    "\n",
    "fit_z_min = fit_z - fit_ze\n",
    "fit_z_max = fit_z + fit_ze\n",
    "fit_x1_min = fit_x1 - fit_x1e\n",
    "fit_x1_max = fit_x1 + fit_x1e\n",
    "fit_c_min = fit_c - fit_ce\n",
    "fit_c_max = fit_c + fit_ce\n",
    "\n",
    "abs_mag_min=[]\n",
    "abs_mag_max=[]\n",
    "for i in range(len(fit_x0)):\n",
    "    lum_dist_min = cosmo.luminosity_distance(fit_z_min[i])\n",
    "    lum_dist_max = cosmo.luminosity_distance(fit_z_max[i])\n",
    "    dist_mod_min = (5*np.log10(lum_dist_min.value))+25\n",
    "    dist_mod_max = (5*np.log10(lum_dist_max.value))+25\n",
    "    abs_mag_max.append((mb_n[i]-dist_mod_min)-(alpha_min*fit_x1_min[i])+(beta_min*fit_c_min[i]))\n",
    "    abs_mag_min.append((mb_n[i]-dist_mod_max)-(alpha_max*fit_x1_max[i])+(beta_max*fit_c_max[i]))\n",
    "abs_mage = (abs(np.array(abs_mag_min)-np.array(abs_mag_max)))/2\n",
    "abs_mag = abs_mag_min+abs_mage # or abs_mag_max-abs_mage"
   ]
  },
  {
   "cell_type": "code",
   "execution_count": null,
   "id": "d0a8931a-8e30-48f7-af73-fb237b5c018b",
   "metadata": {
    "tags": []
   },
   "outputs": [],
   "source": [
    "fig, ax = plt.subplots(1, 3)\n",
    "fig.set_size_inches(12, 5)\n",
    "plt.subplots_adjust(wspace=0.3)\n",
    "\n",
    "for i in range(3):\n",
    "    tx=np.where(flag==i)[0]\n",
    "    ax[0].scatter(mb_n[tx], delta_m15b_n[tx], color=colors[i], label=labels[i])\n",
    "    ax[0].set_xlabel(\"$m_{B}$\")\n",
    "    ax[0].set_ylabel(\"$\\Delta m_{15B}$\")\n",
    "    ax[0].legend()\n",
    "    \n",
    "for i in range(3):\n",
    "    tx=np.where(flag==i)[0]\n",
    "    ax[1].scatter(mb_n[tx], fit_c[tx], color=colors[i], label=labels[i])\n",
    "    ax[1].set_xlabel(\"$m_{B}$\")\n",
    "    ax[1].set_ylabel('c')\n",
    "    \n",
    "for i in range(3):\n",
    "    tx=np.where(flag==i)[0]\n",
    "    ax[2].scatter(delta_m15b_n[tx], fit_c[tx],color=colors[i], label=labels[i])\n",
    "    ax[2].set_xlabel(\"$\\Delta m_{15B}$\")\n",
    "    ax[2].set_ylabel('c')\n"
   ]
  },
  {
   "cell_type": "markdown",
   "id": "ec93c9c9-2661-4b28-a086-11bf781c3cd7",
   "metadata": {},
   "source": [
    "#### Comparison between abs mag $M_{B}$, and original & converted parameters"
   ]
  },
  {
   "cell_type": "code",
   "execution_count": null,
   "id": "d167afe2-473e-4195-b388-3c32119a72c1",
   "metadata": {
    "tags": []
   },
   "outputs": [],
   "source": [
    "fig, ax = plt.subplots(2, 3)\n",
    "fig.set_size_inches(15, 11)\n",
    "\n",
    "for i in range(3):\n",
    "    tx=np.where(flag==i)[0]\n",
    "    ax[0,0].scatter(mb_n[tx], abs_mag[tx], color=colors[i])\n",
    "    ax[0,0].set_xlabel(\"$m_{B}$\")\n",
    "    ax[0,0].set_ylabel(\"$M_{B}$\")\n",
    "    ax[0,0].invert_yaxis()\n",
    "    ax[0,0].invert_xaxis()\n",
    "\n",
    "for i in range(3):\n",
    "    tx=np.where(flag==i)[0]\n",
    "    ax[0,1].scatter(delta_m15b_n[tx], abs_mag[tx], color=colors[i])\n",
    "    ax[0,1].set_xlabel(\"$\\Delta m_{15B}$\")\n",
    "    ax[0,1].set_ylabel(\"$M_{B}$\")\n",
    "    ax[0,1].invert_yaxis()\n",
    "    \n",
    "for i in range(3):\n",
    "    tx=np.where(flag==i)[0]\n",
    "    ax[0,2].scatter(fit_z[tx], abs_mag[tx], color=colors[i])\n",
    "    ax[0,2].set_xlabel('z')\n",
    "    ax[0,2].set_ylabel(\"$M_{B}$\")\n",
    "    ax[0,2].invert_yaxis()\n",
    "    \n",
    "for i in range(3):\n",
    "    tx=np.where(flag==i)[0]\n",
    "    ax[1,0].scatter(fit_x0[tx], abs_mag[tx], color=colors[i])\n",
    "    ax[1,0].set_xlabel('x0')\n",
    "    ax[1,0].set_ylabel(\"$M_{B}$\")\n",
    "    ax[1,0].invert_yaxis()\n",
    "    \n",
    "    \n",
    "for i in range(3):\n",
    "    tx=np.where(flag==i)[0]\n",
    "    ax[1,1].scatter(fit_x1[tx], abs_mag[tx], color=colors[i])\n",
    "    ax[1,1].set_xlabel('x1')\n",
    "    ax[1,1].set_ylabel(\"$M_{B}$\")\n",
    "    ax[1,1].invert_yaxis()\n",
    "    \n",
    "for i in range(3):\n",
    "    tx=np.where(flag==i)[0]\n",
    "    ax[1,2].scatter(fit_c[tx], abs_mag[tx], color=colors[i])\n",
    "    ax[1,2].set_xlabel('c')\n",
    "    ax[1,2].set_ylabel(\"$M_{B}$\")\n",
    "    ax[1,2].invert_yaxis()"
   ]
  },
  {
   "cell_type": "markdown",
   "id": "3825b6e8-8ea0-45e7-8bc7-e1a1291a370c",
   "metadata": {},
   "source": [
    "<!-- ### Other Analysis\n",
    "> **True Good:** Candidates that had normal parameter/error values AND had good fits\n",
    "> **True Bad:** Candidates that had outlying parameters/large errors AND had bad fits\n",
    "> **False_Good:** Candidates that had normal parameter/error values AND had bad fits\n",
    "> **False_Bad:** Candidates that had outlying parameters/large errors AND had good fits -->"
   ]
  },
  {
   "cell_type": "code",
   "execution_count": null,
   "id": "843fcc91-e16a-44ec-bf9e-c8eba288a496",
   "metadata": {},
   "outputs": [],
   "source": []
  },
  {
   "cell_type": "code",
   "execution_count": null,
   "id": "d73c5ce1-5f49-45ec-ae4c-00c06fe56e3c",
   "metadata": {},
   "outputs": [],
   "source": []
  }
 ],
 "metadata": {
  "kernelspec": {
   "display_name": "NERSC Python",
   "language": "python",
   "name": "python3"
  },
  "language_info": {
   "codemirror_mode": {
    "name": "ipython",
    "version": 3
   },
   "file_extension": ".py",
   "mimetype": "text/x-python",
   "name": "python",
   "nbconvert_exporter": "python",
   "pygments_lexer": "ipython3",
   "version": "3.9.7"
  }
 },
 "nbformat": 4,
 "nbformat_minor": 5
}
