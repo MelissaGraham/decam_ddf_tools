{
 "cells": [
  {
   "cell_type": "code",
   "execution_count": 1,
   "id": "85aba83f-4e96-4c81-9f71-4f0cd55701e7",
   "metadata": {},
   "outputs": [],
   "source": [
    "# For passwords & database access:\n",
    "import psycopg2\n",
    "import psycopg2.extras\n",
    "import getpass\n",
    "\n",
    "# For plotting\n",
    "import matplotlib.pyplot as plt\n",
    "import matplotlib\n",
    "from IPython.display import display\n",
    "import ipywidgets\n",
    "\n",
    "# For math\n",
    "from astropy.coordinates import SkyCoord\n",
    "import astropy.units as u\n",
    "import numpy as np\n",
    "import pandas as pd\n",
    "import shapely.wkt as wkt\n",
    "from shapely.geometry import Point"
   ]
  },
  {
   "cell_type": "code",
   "execution_count": 2,
   "id": "bcce61cb-4c44-419b-bfe1-0a219a0298af",
   "metadata": {},
   "outputs": [
    {
     "name": "stdin",
     "output_type": "stream",
     "text": [
      "DB User:  midorr\n",
      "DB Password:  ········\n"
     ]
    }
   ],
   "source": [
    "# Logging in\n",
    "dbuser = input(\"DB User: \")\n",
    "dbpasswd = getpass.getpass(\"DB Password: \")\n",
    "db = psycopg2.connect( f\"dbname='decat' user='{dbuser}' password='{dbpasswd}' host='decatdb.lbl.gov'\" )\n",
    "\n",
    "db.autocommit = True # Makes the computer nicer about SQL syntax errors\n",
    "\n",
    "cursor = db.cursor( cursor_factory = psycopg2.extras.DictCursor )"
   ]
  },
  {
   "cell_type": "code",
   "execution_count": 6,
   "id": "979afde7-c7e5-43d4-bb89-a79ff03e965d",
   "metadata": {},
   "outputs": [],
   "source": [
    "tag = \"latest\"   # Eventually we'll probably want to use \"default\"\n",
    "db.rollback()\n",
    "q = ( \"SELECT id,tag FROM versiontags WHERE tag=%(tag)s\" )\n",
    "cursor.execute( q, { \"tag\": tag } )\n",
    "row = cursor.fetchone()\n",
    "tagid = row['id']"
   ]
  },
  {
   "cell_type": "markdown",
   "id": "d84478bf-0d24-479c-b20d-b70a71c62faf",
   "metadata": {},
   "source": [
    "#### Choices (uncomment one field and one filename):"
   ]
  },
  {
   "cell_type": "code",
   "execution_count": 309,
   "id": "5de63064-5f6d-47d4-bc70-05230eaaa51f",
   "metadata": {},
   "outputs": [],
   "source": [
    "# field = \"COSMOS\"\n",
    "# fnm = \"./COSMOS_result.txt\" # Use all known AGN in COSMOS\n",
    "# fnm = \"./COSMOS2015_result.txt\" # Use AGN from COSMOS2015 catalog\n",
    "# fnm = \"./ACS-GC_result.txt\" # Use AGN from ACS-GC catalog\n",
    "\n",
    "field = \"ELAIS\"\n",
    "# fnm = \"./ELAIS_result.txt\" # All ELAIS AGN\n",
    "fnm = \"./ESIS_result.txt\" # Use AGN from ESIS (ESO-Spitzer Imaging extragalactic Survey)\n",
    "# fnm = \"./SWIRE_result.txt\" # Use AGN from SWIRE\n",
    "\n",
    "# Doesn't matter a ton, makes the polygons more tight if it's smaller, but runs slower, I recommend 0.05\n",
    "prec=0.05 "
   ]
  },
  {
   "cell_type": "markdown",
   "id": "31227247-ab43-426b-8482-08fcb2f510dc",
   "metadata": {},
   "source": [
    "#### Making a simple polygon enclosing our field (short enough that its vertices fit in an ADQL query)"
   ]
  },
  {
   "cell_type": "code",
   "execution_count": 310,
   "id": "7cff0789-6b48-4b2b-aa6d-55a95b8b8af3",
   "metadata": {},
   "outputs": [],
   "source": [
    "### Pull all cand ras+decs:\n",
    "if field==\"COSMOS\":\n",
    "    query = (\"SELECT od.ra, od.dec \"\n",
    "             \"FROM objectdatas AS od \"\n",
    "             \"INNER JOIN objectdata_versiontag AS odvt ON od.id=odvt.objectdata_id AND odvt.versiontag_id=%(tagid)s \"\n",
    "             \"INNER JOIN objects AS o ON od.object_id=o.id \"\n",
    "             \"INNER JOIN images AS i ON o.image_id=i.id \"\n",
    "             \"INNER JOIN objectrbs as rbs ON od.object_id=rbs.id AND rbs.rbtype_id=2 \"\n",
    "             \"INNER JOIN exposures AS e ON i.exposure_id=e.id \"\n",
    "             \"WHERE od.ra > 147.0 AND od.ra < 154.0 AND od.dec > 0 \" # COSMOS\n",
    "             \"AND rbs.rb > 0.6 \"\n",
    "             \"AND (e.proposalid = '2021A-0113' OR e.proposalid = '2021B-0149' OR \"\n",
    "             \"e.proposalid = '2022A-724693' OR e.proposalid = '2022B-762878') \"\n",
    "             \"LIMIT 10000000\" )\n",
    "elif field==\"ELAIS\":\n",
    "    query = (\"SELECT od.ra, od.dec \"\n",
    "             \"FROM objectdatas AS od \"\n",
    "             \"INNER JOIN objectdata_versiontag AS odvt ON od.id=odvt.objectdata_id AND odvt.versiontag_id=%(tagid)s \"\n",
    "             \"INNER JOIN objects AS o ON od.object_id=o.id \"\n",
    "             \"INNER JOIN images AS i ON o.image_id=i.id \"\n",
    "             \"INNER JOIN objectrbs as rbs ON od.object_id=rbs.id AND rbs.rbtype_id=2 \"\n",
    "             \"INNER JOIN exposures AS e ON i.exposure_id=e.id \"\n",
    "             \"WHERE od.ra > 5.0 AND od.ra < 12.0 AND od.dec > -46 AND od.dec < -41 \" # ELAIS\n",
    "             \"AND rbs.rb > 0.6 \" \n",
    "             \"AND (e.proposalid = '2021A-0113' OR e.proposalid = '2021B-0149' OR \"\n",
    "             \"e.proposalid = '2022A-724693' OR e.proposalid = '2022B-762878') \"\n",
    "             \"LIMIT 10000000\" )\n",
    "    \n",
    "cursor.execute( query, { 'tagid': tagid } )\n",
    "radecquery = np.array(cursor.fetchall()).transpose().astype(float)\n",
    "radecquery = np.unique(radecquery.transpose(), axis=0).transpose()\n",
    "#df = pd.DataFrame( cursor.fetchall() )\n",
    "#radecquery = np.array( cursor.fetchall() )"
   ]
  },
  {
   "cell_type": "code",
   "execution_count": 311,
   "id": "4d48dbb8-03ff-4440-b25b-b71a0741b2c8",
   "metadata": {},
   "outputs": [],
   "source": [
    "### Create a polygon object using all of those points as vertices\n",
    "polystr = str([str(i[0])+\" \"+str(i[1]) for i in np.round(radecquery.T,2)]).replace(\"'\",\"\")\n",
    "if field==\"COSMOS\":\n",
    "    pol = wkt.loads(\"POLYGON (({}))\".format(polystr[1:-1]+', '+polystr[1:11])) # COSMOS\n",
    "elif field==\"ELAIS\":\n",
    "    pol = wkt.loads(\"POLYGON (({}))\".format(polystr[1:-1]+', '+polystr[1:11])) # ELAIS"
   ]
  },
  {
   "cell_type": "code",
   "execution_count": 312,
   "id": "e3b47b50-ddec-4de1-865d-1d0b0b9287f7",
   "metadata": {},
   "outputs": [
    {
     "data": {
      "image/png": "[encoded data removed]",
      "text/plain": [
       "<Figure size 432x288 with 1 Axes>"
      ]
     },
     "metadata": {
      "needs_background": "light"
     },
     "output_type": "display_data"
    }
   ],
   "source": [
    "### Simplify the polygon to the simplest convex shape that encloses all data:\n",
    "polconvhull = pol.convex_hull\n",
    "convhullarr = polconvhull.exterior.coords.xy\n",
    "\n",
    "if field==\"COSMOS\":\n",
    "    plt.title(\"COSMOS\")\n",
    "if field==\"ELAIS\":\n",
    "    plt.title(\"ELAIS\")\n",
    "    \n",
    "plt.xlabel('RA')\n",
    "plt.ylabel('Dec')\n",
    "plt.scatter(*radecquery)\n",
    "plt.plot(convhullarr[0],convhullarr[1],color='orange')# orange is simplest convex polygon enclosing all pts\n",
    "plt.show()"
   ]
  },
  {
   "cell_type": "code",
   "execution_count": 313,
   "id": "08701c30-e311-49ea-abd1-b220728a8180",
   "metadata": {
    "tags": []
   },
   "outputs": [
    {
     "data": {
      "text/plain": [
       "'9.79, -44.98, 8.87, -44.97, 7.28, -43.98, 7.25, -43.96, 7.03, -43.81, 6.82, -43.65, 6.61, -43.48, 6.6, -43.47, 6.41, -43.15, 6.4, -43.07, 6.4, -42.95, 6.41, -42.88, 6.42, -42.86, 6.62, -42.52, 7.05, -42.19, 7.26, -42.04, 7.34, -42.03, 8.07, -42.03, 8.48, -42.04, 10.12, -43.02, 10.34, -43.19, 10.78, -43.53, 11.0, -44.03, 11.0, -44.11, 10.79, -44.47, 10.36, -44.81, 10.15, -44.97, 9.98, -44.98, 9.79, -44.98'"
      ]
     },
     "execution_count": 313,
     "metadata": {},
     "output_type": "execute_result"
    }
   ],
   "source": [
    "str(list(np.array(convhullarr).T.flatten()))[1:-1]"
   ]
  },
  {
   "cell_type": "code",
   "execution_count": 314,
   "id": "29e74af2-e683-4131-9240-17c737b42c8e",
   "metadata": {},
   "outputs": [
    {
     "name": "stdout",
     "output_type": "stream",
     "text": [
      "SELECT distinct main_id, ra, dec, otype_txt\n",
      "FROM basic\n",
      "WHERE otype = 'AGN..'\n",
      "AND CONTAINS(POINT('ICRS', ra, dec), POLYGON('ICRS', 9.79, -44.98, 8.87, -44.97, 7.28, -43.98, 7.25, -43.96, 7.03, -43.81, 6.82, -43.65, 6.61, -43.48, 6.6, -43.47, 6.41, -43.15, 6.4, -43.07, 6.4, -42.95, 6.41, -42.88, 6.42, -42.86, 6.62, -42.52, 7.05, -42.19, 7.26, -42.04, 7.34, -42.03, 8.07, -42.03, 8.48, -42.04, 10.12, -43.02, 10.34, -43.19, 10.78, -43.53, 11.0, -44.03, 11.0, -44.11, 10.79, -44.47, 10.36, -44.81, 10.15, -44.97, 9.98, -44.98, 9.79, -44.98)) = 1\n",
      "GROUP BY main_id, otype_txt, ra, dec\n"
     ]
    }
   ],
   "source": [
    "## Grabbed every AGN within that orange boundary from SIMBAD at http://simbad.u-strasbg.fr/simbad/sim-tap\n",
    "## Used this query, saved as {field}_result.txt in this directory\n",
    "## Just showing my work, the query results for all of the below are saved to this directory already\n",
    "print(\"SELECT distinct main_id, ra, dec, otype_txt\")\n",
    "print(\"FROM basic\")\n",
    "print(\"WHERE otype = 'AGN..'\") # 'AGN..' here means all subtypes of AGN (QSOs, seyferts, etc.)\n",
    "print(\"AND CONTAINS(POINT('ICRS', ra, dec), POLYGON('ICRS', {})) = 1\".format(str(list(np.array(convhullarr).T.flatten()))[1:-1]))\n",
    "print(\"GROUP BY main_id, otype_txt, ra, dec\")\n",
    "\n",
    "## SIMBAD ADQL queries used for the catalog-specific queries\n",
    "\n",
    "# print(\"\"\"\n",
    "# SELECT distinct IDENT.id, basic.ra, basic.dec, basic.otype_txt\n",
    "# FROM basic\n",
    "# JOIN IDENT on IDENT.oidref=basic.oid\n",
    "# WHERE basic.otype = 'AGN..'\n",
    "# AND IDENT.id like 'ESIS%'\n",
    "# AND CONTAINS(POINT('ICRS', basic.ra, basic.dec), POLYGON('ICRS', {})) = 1\n",
    "# GROUP BY IDENT.id, basic.otype_txt, basic.ra, basic.dec\n",
    "# \"\"\".format(str(list(np.array(convhullarr).T.flatten()))[1:-1]))\n",
    "\n",
    "# \"\"\"\n",
    "# SELECT distinct IDENT.id, basic.ra, basic.dec, basic.otype_txt\n",
    "# FROM basic\n",
    "# JOIN IDENT on IDENT.oidref=basic.oid\n",
    "# WHERE basic.otype = 'AGN..'\n",
    "# AND IDENT.id like 'COSMOS2015%'\n",
    "# AND CONTAINS(POINT('ICRS', basic.ra, basic.dec), POLYGON('ICRS', 150.6, 0.77, 148.79, 0.78, 148.3, 1.34, 148.15, 1.6, 148.15, 1.9, 148.32, 2.23, 149.08, 3.56, 149.26, 3.75, 149.57, 4.05, 150.21, 4.07, 150.44, 4.02, 150.91, 3.53, 151.69, 2.22, 151.85, 1.73, 151.85, 1.66, 151.84, 1.62, 151.7, 1.34, 151.53, 1.12, 151.39, 0.96, 151.22, 0.8, 151.18, 0.79, 151.0, 0.78, 150.6, 0.77)) = 1\n",
    "# GROUP BY IDENT.id, basic.otype_txt, basic.ra, basic.dec\n",
    "# \"\"\"\n",
    "\n",
    "# \"\"\"\n",
    "# SELECT distinct IDENT.id, basic.ra, basic.dec, basic.otype_txt\n",
    "# FROM basic\n",
    "# JOIN IDENT on IDENT.oidref=basic.oid\n",
    "# WHERE basic.otype = 'AGN..'\n",
    "# AND IDENT.id like 'ACS-GC%'\n",
    "# AND CONTAINS(POINT('ICRS', basic.ra, basic.dec), POLYGON('ICRS', 150.6, 0.77, 148.79, 0.78, 148.3, 1.34, 148.15, 1.6, 148.15, 1.9, 148.32, 2.23, 149.08, 3.56, 149.26, 3.75, 149.57, 4.05, 150.21, 4.07, 150.44, 4.02, 150.91, 3.53, 151.69, 2.22, 151.85, 1.73, 151.85, 1.66, 151.84, 1.62, 151.7, 1.34, 151.53, 1.12, 151.39, 0.96, 151.22, 0.8, 151.18, 0.79, 151.0, 0.78, 150.6, 0.77)) = 1\n",
    "# GROUP BY IDENT.id, basic.otype_txt, basic.ra, basic.dec\n",
    "# \"\"\"\n",
    "\n",
    "# \"\"\"\n",
    "# SELECT distinct IDENT.id, basic.ra, basic.dec, basic.otype_txt\n",
    "# FROM basic\n",
    "# JOIN IDENT on IDENT.oidref=basic.oid\n",
    "# WHERE basic.otype = 'AGN..'\n",
    "# AND IDENT.id like 'SWIRE%'\n",
    "# AND CONTAINS(POINT('ICRS', basic.ra, basic.dec), POLYGON('ICRS', 9.79, -44.98, 8.87, -44.97, 7.28, -43.98, 7.25, -43.96, 7.03, -43.81, 6.82, -43.65, 6.61, -43.48, 6.6, -43.47, 6.41, -43.15, 6.4, -43.07, 6.4, -42.95, 6.41, -42.88, 6.42, -42.86, 6.62, -42.52, 7.05, -42.19, 7.26, -42.04, 7.34, -42.03, 8.07, -42.03, 8.48, -42.04, 10.12, -43.02, 10.34, -43.19, 10.78, -43.53, 11.0, -44.03, 11.0, -44.11, 10.79, -44.47, 10.36, -44.81, 10.15, -44.97, 9.98, -44.98, 9.79, -44.98)) = 1\n",
    "# GROUP BY IDENT.id, basic.otype_txt, basic.ra, basic.dec\n",
    "# \"\"\";"
   ]
  },
  {
   "cell_type": "code",
   "execution_count": 315,
   "id": "ea9c1241-f549-427e-a594-235c12c66678",
   "metadata": {},
   "outputs": [],
   "source": [
    "agn = np.loadtxt(fnm, skiprows=2,delimiter='|', dtype=str) # Reading in SIMBAD data\n",
    "agnnames, agnras, agndecs, agntypes = agn.T\n",
    "agnras, agndecs = agnras.astype(float), agndecs.astype(float)\n",
    "agncoords = np.array([agnras,agndecs]).T"
   ]
  },
  {
   "cell_type": "code",
   "execution_count": 316,
   "id": "ea2c9432-1766-4412-a652-91ffc6456289",
   "metadata": {},
   "outputs": [
    {
     "data": {
      "text/plain": [
       "array([[  8.45583333, -43.38527778],\n",
       "       [  8.35625   , -43.36916667],\n",
       "       [  8.47333333, -43.35777778],\n",
       "       [  8.29208333, -43.35138889],\n",
       "       [  8.46208333, -43.35222222]])"
      ]
     },
     "execution_count": 316,
     "metadata": {},
     "output_type": "execute_result"
    }
   ],
   "source": [
    "### Now have coords for every agn in the orange boundary (this includes things outside our fields still)\n",
    "agncoords[:5]"
   ]
  },
  {
   "cell_type": "markdown",
   "id": "e2d74f26-134e-4b84-883e-f884736e1644",
   "metadata": {
    "tags": []
   },
   "source": [
    "#### This section draws a tighter polygon around the field and excludes SIMBAD AGN from outside that region"
   ]
  },
  {
   "cell_type": "code",
   "execution_count": 317,
   "id": "ab07e92b-a366-4ec9-ab14-ebc558dafa0c",
   "metadata": {},
   "outputs": [
    {
     "data": {
      "image/png": "[encoded data removed]",
      "text/plain": [
       "<Figure size 432x288 with 1 Axes>"
      ]
     },
     "metadata": {
      "needs_background": "light"
     },
     "output_type": "display_data"
    }
   ],
   "source": [
    "### Create a stricter boundary now that we have the raw data:\n",
    "### I do this by making a grid and labelling each rectangle as 'containing data' or not \n",
    "### (if I don't condense the data like this, making the polygon gets computationally prohibitive)\n",
    "\n",
    "plt.scatter(radecquery[0],radecquery[1])\n",
    "plt.xlabel(\"RA\")\n",
    "plt.ylabel(\"Dec\")\n",
    "\n",
    "if field==\"ELAIS\":\n",
    "    ys = np.arange(-45.0,-41.7,prec) # ELAIS\n",
    "    xs = np.arange(6,11.5,prec) # ELAIS\n",
    "    xys = np.meshgrid(xs,ys) # ELAIS\n",
    "    plt.title(\"All ELAIS cands\")\n",
    "elif field==\"COSMOS\":\n",
    "    ys = np.arange(0.65,4.25,prec) # COSMOS\n",
    "    xs = np.arange(148,152,prec) # COSMOS\n",
    "    xys = np.meshgrid(xs,ys) # COSMOS\n",
    "    plt.title(\"All COSMOS cands\")\n",
    "\n",
    "for i in ys:\n",
    "    plt.axhline(i, color='black',lw=0.2)\n",
    "for i in xs:\n",
    "    plt.axvline(i, color='black',lw=0.2)"
   ]
  },
  {
   "cell_type": "code",
   "execution_count": 318,
   "id": "92ea808a-2e8c-456a-83f9-e1aa0b364b0c",
   "metadata": {},
   "outputs": [],
   "source": [
    "good = []\n",
    "for i in range(len(xs)):\n",
    "    for j in range(len(ys)):\n",
    "        data = radecquery[0][np.where((radecquery[0]<xs[i]+prec) & (radecquery[0]>xs[i]) \\\n",
    "                                      & (radecquery[1]<ys[j]+prec) & (radecquery[1]>ys[j]))[0]]\n",
    "        if len(data) > 0:\n",
    "            good.append([i,j])\n",
    "goodidx = np.array(good).transpose()\n",
    "goodxs = xs[goodidx[0]] + prec/2 # Center coordinate within grid box\n",
    "goodys = ys[goodidx[1]] + prec/2 # Center coordinate within grid box\n",
    "goods = np.array([goodxs,goodys])"
   ]
  },
  {
   "cell_type": "code",
   "execution_count": 319,
   "id": "dad1bd32-036e-4927-a5a9-3c415987bf8e",
   "metadata": {},
   "outputs": [
    {
     "data": {
      "image/png": "[encoded data removed]",
      "text/plain": [
       "<Figure size 432x288 with 1 Axes>"
      ]
     },
     "metadata": {
      "needs_background": "light"
     },
     "output_type": "display_data"
    }
   ],
   "source": [
    "plt.scatter(*radecquery)\n",
    "plt.scatter(*goods,lw=0.05, color='orange')\n",
    "for i in ys:\n",
    "    plt.axhline(i, color='black',lw=0.2)\n",
    "for i in xs:\n",
    "    plt.axvline(i, color='black',lw=0.2)"
   ]
  },
  {
   "cell_type": "code",
   "execution_count": 320,
   "id": "db6f26ce-8c8e-4e7c-9d86-3489e12900b7",
   "metadata": {},
   "outputs": [],
   "source": [
    "pol2str = str([str(i[0])+\" \"+str(i[1]) for i in np.round(goods.T,2)]).replace(\"'\",\"\")\n",
    "\n",
    "if field==\"COSMOS\":\n",
    "    pol2 = wkt.loads(\"POLYGON (({}))\".format(pol2str[1:-1]+', '+pol2str[1:12])) # COSMOS\n",
    "elif field==\"ELAIS\":\n",
    "    pol2 = wkt.loads(\"POLYGON (({}))\".format(pol2str[1:-1]+', '+pol2str[1:12])) # ELAIS\n",
    "\n",
    "pol3 = pol2.buffer(prec)\n",
    "pol3arr = pol3.exterior.coords.xy"
   ]
  },
  {
   "cell_type": "code",
   "execution_count": 321,
   "id": "04f6c859-effe-4605-9010-0265d0fb8199",
   "metadata": {},
   "outputs": [],
   "source": [
    "agnmsk = []\n",
    "for coord in agncoords:\n",
    "    pt = Point(coord[0],coord[1])\n",
    "    agnmsk.append(pt.within(pol3))\n",
    "agncoords1 = agncoords[agnmsk]\n",
    "agnnames1 = agnnames[agnmsk]\n",
    "agntypes1 = agntypes[agnmsk]"
   ]
  },
  {
   "cell_type": "code",
   "execution_count": 322,
   "id": "b067355b-7b5c-49e6-9376-c6911743db7d",
   "metadata": {},
   "outputs": [
    {
     "data": {
      "text/plain": [
       "(346, 346)"
      ]
     },
     "execution_count": 322,
     "metadata": {},
     "output_type": "execute_result"
    }
   ],
   "source": [
    "len(agncoords), len(agncoords1)"
   ]
  },
  {
   "cell_type": "code",
   "execution_count": 323,
   "id": "5d2c0468-1ed1-4a85-ac36-6892dc5926d4",
   "metadata": {},
   "outputs": [
    {
     "data": {
      "image/png": "[encoded data removed]",
      "text/plain": [
       "<Figure size 432x288 with 1 Axes>"
      ]
     },
     "metadata": {
      "needs_background": "light"
     },
     "output_type": "display_data"
    }
   ],
   "source": [
    "plt.scatter(*radecquery)\n",
    "plt.plot(*pol3arr, color='orange',label=\"New polygon\")\n",
    "plt.scatter(*agncoords.T,color='red', lw=0.1, label=\"Masked out\")\n",
    "plt.scatter(*agncoords1.T,color='black', lw=0.1, label=\"In new polygon\")\n",
    "#plt.scatter(agncoords.T[0][np.char.startswith(agnnames,'\"SWIR')],agncoords.T[1][np.char.startswith(agnnames,'\"SWIR')], color=\"g\")\n",
    "plt.legend(loc='upper right')\n",
    "plt.show()"
   ]
  },
  {
   "cell_type": "markdown",
   "id": "e9b4de2c-cd65-468b-910e-9118cd53efc8",
   "metadata": {},
   "source": [
    "#### So now we have all of the known AGN we could theoretically detect in our field\n",
    "Next step is to match them up to \"probably-real\" candidates"
   ]
  },
  {
   "cell_type": "code",
   "execution_count": 324,
   "id": "68371f18-f049-400c-85c0-af657e3a9956",
   "metadata": {},
   "outputs": [],
   "source": [
    "### Grab all cand names for 'probably-real' cands\n",
    "realcandsarr = np.genfromtxt('../extragalactic_fields/candidate_nightly_epochs_files/candidate_lightcurve_parameters.dat', dtype=str)\n",
    "realcands = np.unique(realcandsarr.T[1])"
   ]
  },
  {
   "cell_type": "code",
   "execution_count": 325,
   "id": "272792ca-a50c-4c14-ac84-166edea26e94",
   "metadata": {},
   "outputs": [],
   "source": [
    "### Find coords and make SkyCoord objects for all candidates:\n",
    "candcoord = []\n",
    "for i in realcands:\n",
    "    query = (\"SELECT c.ra, c.dec FROM candidates c \"\n",
    "             \"WHERE c.id = %s \"\n",
    "             \"LIMIT 1\")\n",
    "    cursor.execute(query,(i,))\n",
    "    res = np.array(cursor.fetchall())[0]\n",
    "    candcoord.append([i,res])\n",
    "candcoord1 = np.array([[i[0], SkyCoord(i[1][0],i[1][1], unit='deg')] for i in candcoord])"
   ]
  },
  {
   "cell_type": "code",
   "execution_count": 326,
   "id": "95cb8dd1-a71a-4273-ad14-8094b25f4a8c",
   "metadata": {
    "tags": []
   },
   "outputs": [],
   "source": [
    "### Make a catalog-style set of SkyCoords for the SIMBAD sample\n",
    "agncoords2 = SkyCoord(agncoords1,unit='deg')"
   ]
  },
  {
   "cell_type": "code",
   "execution_count": 327,
   "id": "d95aaac8-f840-4890-8cdd-ecb348ee34af",
   "metadata": {},
   "outputs": [
    {
     "name": "stderr",
     "output_type": "stream",
     "text": [
      "/tmp/ipykernel_19519/2178453017.py:7: VisibleDeprecationWarning: Creating an ndarray from ragged nested sequences (which is a list-or-tuple of lists-or-tuples-or ndarrays with different lengths or shapes) is deprecated. If you meant to do this, you must specify 'dtype=object' when creating the ndarray.\n",
      "  matches = np.array(matches)\n"
     ]
    }
   ],
   "source": [
    "### Match the datasets with a 2 arcsec radius\n",
    "matches = []\n",
    "for i, coord in enumerate(candcoord1.T[1]):\n",
    "    idx, sep2d, dist3d = coord.match_to_catalog_sky(agncoords2)\n",
    "    if sep2d < 2*u.arcsec:\n",
    "        matches.append([i,coord,idx, sep2d])\n",
    "matches = np.array(matches)"
   ]
  },
  {
   "cell_type": "code",
   "execution_count": 328,
   "id": "7c5f6b25-40b0-4446-8038-122af6a41f35",
   "metadata": {},
   "outputs": [
    {
     "name": "stdout",
     "output_type": "stream",
     "text": [
      "For the ELAIS field:\n",
      "Using this file: ./ESIS_result.txt\n",
      "found 28 out of 316 \"AGN\"     (8.86 %)\n",
      "found 0 out of 3 \"LIN\"     (0.0 %)\n",
      "found 3 out of 24 \"QSO\"     (12.5 %)\n",
      "found 0 out of 2 \"Sy1\"     (0.0 %)\n",
      "found 0 out of 1 \"Sy2\"     (0.0 %)\n",
      "We detected 31 known agn as 'probably-real' candidates, out of 346 known agn\n",
      "This represents 8.96 % of all the known agn in our field\n"
     ]
    }
   ],
   "source": [
    "### Display percentages matched\n",
    "matchmsk = matches.T[2].astype(int)\n",
    "agncoordsmatched = agncoords1[matchmsk]\n",
    "agntypesmatched = agntypes1[matchmsk]\n",
    "agnnamesmatched = agnnames1[matchmsk]\n",
    "print(\"For the {} field:\".format(field))\n",
    "print(\"Using this file: {}\".format(fnm))\n",
    "for typee in np.unique(agntypes):\n",
    "    msk = np.where(agntypesmatched==typee)[0]\n",
    "    nummatched = len(agnnamesmatched[msk])\n",
    "    try:\n",
    "        numtot = len(agnnames1[agntypes1==typee])\n",
    "        perc = np.round(nummatched/numtot*100,2)\n",
    "        print(\"found {} out of {} {} ({} %)\".format(nummatched, numtot,typee,perc))\n",
    "    except:\n",
    "        pass\n",
    "print(\"We detected {} known agn as 'probably-real' candidates, out of {} known agn\".format(len(matches), len(agncoords1)))\n",
    "print(\"This represents {} % of all the known agn in our field\".format(np.round(len(matches)/len(agncoords1)*100,2)))"
   ]
  },
  {
   "cell_type": "code",
   "execution_count": null,
   "id": "25f48130-ee23-42f3-8c25-fc97c1dd05b6",
   "metadata": {},
   "outputs": [],
   "source": []
  }
 ],
 "metadata": {
  "kernelspec": {
   "display_name": "NERSC Python",
   "language": "python",
   "name": "python3"
  },
  "language_info": {
   "codemirror_mode": {
    "name": "ipython",
    "version": 3
   },
   "file_extension": ".py",
   "mimetype": "text/x-python",
   "name": "python",
   "nbconvert_exporter": "python",
   "pygments_lexer": "ipython3",
   "version": "3.9.7"
  }
 },
 "nbformat": 4,
 "nbformat_minor": 5
}
