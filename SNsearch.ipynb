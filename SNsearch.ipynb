{
 "cells": [
  {
   "cell_type": "code",
   "execution_count": 1,
   "id": "f831646b-7bb2-426b-951c-0098a80e154e",
   "metadata": {},
   "outputs": [],
   "source": [
    "# Login and database access\n",
    "import psycopg2\n",
    "import psycopg2.extras\n",
    "import getpass\n",
    "\n",
    "# Plotting\n",
    "import matplotlib.pyplot as plt\n",
    "import matplotlib\n",
    "from IPython.display import display\n",
    "import ipywidgets\n",
    "\n",
    "# Math\n",
    "import numpy as np\n",
    "import pandas as pd\n",
    "import copy"
   ]
  },
  {
   "cell_type": "markdown",
   "id": "b54e368f-7947-4a0d-bf10-907b205891e0",
   "metadata": {},
   "source": [
    "The purpose of this notebook is to search through the COSMOS field objects to identify candidates that are likely supernovae. This is done by selecting every candidate that has at least 10 detections over at least 1 month, with a change of at least 1.4 mag, and that doesn't increase in brightness more than once (numbers adjustable below)"
   ]
  },
  {
   "cell_type": "code",
   "execution_count": 2,
   "id": "b1c53037-4e35-40b0-8693-e1c5f735d7b3",
   "metadata": {},
   "outputs": [
    {
     "name": "stdin",
     "output_type": "stream",
     "text": [
      "DB User:  kennedyt\n",
      "DB Password:  ············\n"
     ]
    }
   ],
   "source": [
    "dbuser = input(\"DB User: \")\n",
    "dbpasswd = getpass.getpass(\"DB Password: \")\n",
    "\n",
    "db = psycopg2.connect( f\"dbname='decat' user='{dbuser}' password='{dbpasswd}' host='decatdb.lbl.gov'\" )\n",
    "db.autocommit = True # Makes the computer nicer about SQL syntax errors\n",
    "\n",
    "cursor = db.cursor( cursor_factory = psycopg2.extras.DictCursor )"
   ]
  },
  {
   "cell_type": "code",
   "execution_count": 3,
   "id": "05bf3a3c-f664-43be-b149-13fed83cb4fa",
   "metadata": {},
   "outputs": [],
   "source": [
    "def rm_dupes( arr, ecols=None ):\n",
    "    \"\"\"\n",
    "    Removes duplicate rows from a numpy array. Has functionality to exclude some column(s) from the duplicate-finding process.\n",
    "    For the purposes of the DECam DDF notebooks, that should be the index of the object ID column, if your array includes it, and left \\\n",
    "    blank if not. For best results, make sure your array includes candidate id, R/B score, and something to tie it to a specific \n",
    "    exposure (fnm, eid, etc.)\n",
    "    \n",
    "    Takes:\n",
    "    arr : the original array with some duplicate rows\n",
    "    ecols : index/indices of excluded columns. NOTE: no matter what this index is, it will be the first column of res\n",
    "    \n",
    "    Returns:\n",
    "    res : the original array with the duplicate rows removed\n",
    "    \"\"\"\n",
    "    if ecols == None:\n",
    "        dupes = arr\n",
    "    else:\n",
    "        dupes = np.delete(arr, ecols, axis=0)\n",
    "    dupes = np.array( [\" \".join(i) for i in dupes.transpose()] )\n",
    "    unique, ind = np.unique( dupes, return_index=True )\n",
    "    uarr = np.array( [ i.split(\" \") for i in unique ] ).transpose()\n",
    "    if ecols == None:\n",
    "        res = uarr\n",
    "    else:\n",
    "        res = np.append( [arr[ecols][ind]], uarr, axis=0 )\n",
    "    print( \"%s duplicates removed\" % ( len( arr[0] ) - len( res[0] ) ) )\n",
    "    return res"
   ]
  },
  {
   "cell_type": "markdown",
   "id": "1cbc9172-a071-4f3d-932a-4835261b54ff",
   "metadata": {},
   "source": [
    "### Adjustable parameters"
   ]
  },
  {
   "cell_type": "code",
   "execution_count": 4,
   "id": "afdb0dc1-bb59-4acc-98a1-0513f1afcab1",
   "metadata": {},
   "outputs": [],
   "source": [
    "# Minimum timespan between first and last detections in g, r, and i\n",
    "tspang, tspanr, tspani = 15, 15, 15\n",
    "# tspang, tspanr, tspani = 10, 10, 10 # Use for ELIAS\n",
    "# Minimum number of detections in g, r, and i\n",
    "numdetg, numdetr, numdeti = 10, 10, 10\n",
    "# Minimum magnitude change in g, r, and i\n",
    "minmagg, minmagr, minmagi = 0.4, 0.4, 0.4\n",
    "# The number of standard deviations tolerated to stretch the definition of increasing/decreasing\n",
    "# (0.3 seems to be the sweet spot, but a little higher works too)\n",
    "errmult = 0.3\n",
    "# Maximum average error a candidate's detections can have before they are eliminated from consideration\n",
    "rmaxerr, gmaxerr, imaxerr = 0.2, 0.2, 0.2\n",
    "\n",
    "\n",
    "field = \"COSMOS\"\n",
    "# field = \"ELIAS\""
   ]
  },
  {
   "cell_type": "code",
   "execution_count": 5,
   "id": "21e5a342-7684-48da-97b6-1f69a91bef98",
   "metadata": {},
   "outputs": [],
   "source": [
    "if field == \"COSMOS\":\n",
    "    query = ( 'SELECT o.id, o.candidate_id, e.mjd, o.mag, e.filter, o.magerr, e.filename FROM objects o '\n",
    "             'JOIN subtractions s ON o.subtraction_id=s.id '\n",
    "             'JOIN exposures e ON e.id=s.exposure_id '\n",
    "             'WHERE q3c_radial_query(o.ra,o.dec,150,2.2,3) '\n",
    "             'AND o.rb>0.6 '\n",
    "             'ORDER BY o.candidate_id '\n",
    "             'LIMIT 10000000' )\n",
    "elif field == \"ELIAS\":\n",
    "    query = ( 'SELECT o.id, o.candidate_id, e.mjd, o.mag, e.filter, o.magerr, e.filename FROM objects o '\n",
    "             'JOIN subtractions s ON o.subtraction_id=s.id '\n",
    "             'JOIN exposures e ON e.id=s.exposure_id '\n",
    "             'WHERE q3c_radial_query(o.ra,o.dec,8.5,-43.5,2) '\n",
    "             'AND o.rb>0.6 '\n",
    "             'ORDER BY o.candidate_id '\n",
    "             'LIMIT 10000000' )\n",
    "\n",
    "cursor.execute( query )\n",
    "\n",
    "SNquery = np.array( cursor.fetchall() ).transpose()"
   ]
  },
  {
   "cell_type": "code",
   "execution_count": 6,
   "id": "99dcf3dc-3a76-4161-89b6-a121101e5483",
   "metadata": {},
   "outputs": [
    {
     "name": "stdout",
     "output_type": "stream",
     "text": [
      "2068 duplicates removed\n"
     ]
    }
   ],
   "source": [
    "SNquery = rm_dupes(SNquery,0)"
   ]
  },
  {
   "cell_type": "markdown",
   "id": "8a9fe60b-0363-4e1f-bc69-d2d23f56809e",
   "metadata": {},
   "source": [
    "### Nonstandard exposure time filter"
   ]
  },
  {
   "cell_type": "code",
   "execution_count": 7,
   "id": "83238d75-a704-44bf-9b71-65d94dc3a7f3",
   "metadata": {},
   "outputs": [],
   "source": [
    "# Reads in lookup table with filenames and exposure times\n",
    "lutable = np.loadtxt( \"archive_image_list.txt\", dtype=object ).transpose()\n",
    "fnmtable, exptable = lutable[0], lutable[7].astype(float)\n",
    "\n",
    "fnms = SNquery[6]\n",
    "fnms = [fnms[i][:21] for i in range( len( fnms ) )] # truncate filenames to match lookup table format\n",
    "\n",
    "# Attach an exposure time to every object we pulled in the query\n",
    "exptime = np.array( [exptable[ np.where( fnms[i] == fnmtable )[0]][0] for i in range( len( fnms ) )], dtype=float )"
   ]
  },
  {
   "cell_type": "code",
   "execution_count": 8,
   "id": "b95a9cd8-aeb8-484a-b35c-4b67e6c8cc52",
   "metadata": {},
   "outputs": [
    {
     "name": "stdout",
     "output_type": "stream",
     "text": [
      "24378 34674 30778\n"
     ]
    }
   ],
   "source": [
    "# Eliminate objects from non-standard images\n",
    "gcands = np.unique(SNquery[1][SNquery[4] == \"g\"])\n",
    "rcands = np.unique(SNquery[1][SNquery[4] == \"r\"])\n",
    "icands = np.unique(SNquery[1][SNquery[4] == \"i\"])\n",
    "print(len(gcands), len(rcands), len(icands))\n",
    "del gcands, rcands, icands\n",
    "gmsk = np.where( ( SNquery[4] == \"g\" ) & ( exptime > 50 ) )[0]\n",
    "rmsk = np.where( ( SNquery[4] == \"r\" ) & ( exptime > 20 ) )[0]\n",
    "imsk = np.where( ( SNquery[4] == \"i\" ) & ( exptime > 20 ) )[0]\n",
    "grmsk = np.append( rmsk, gmsk )\n",
    "grimsk = np.append( grmsk, imsk )"
   ]
  },
  {
   "cell_type": "code",
   "execution_count": 9,
   "id": "a39fd3b1-64e0-40d9-af38-1e859133338f",
   "metadata": {
    "tags": []
   },
   "outputs": [
    {
     "data": {
      "text/plain": [
       "(55453, 61738, 41766)"
      ]
     },
     "execution_count": 9,
     "metadata": {},
     "output_type": "execute_result"
    }
   ],
   "source": [
    "len(gmsk), len(rmsk), len(imsk)"
   ]
  },
  {
   "cell_type": "markdown",
   "id": "3b96681f-7ca9-487a-9579-e514d3f3645f",
   "metadata": {
    "tags": []
   },
   "source": [
    "### g filter:"
   ]
  },
  {
   "cell_type": "code",
   "execution_count": 10,
   "id": "5e3101b2-1506-4659-9710-0e893e36e7b4",
   "metadata": {},
   "outputs": [],
   "source": [
    "# Mask to make sure we stay in the r band detections\n",
    "gmsk = np.where( SNquery[4] == \"g\" )[0]\n",
    "gmsk = [i for i in grimsk if i in gmsk]"
   ]
  },
  {
   "cell_type": "code",
   "execution_count": 11,
   "id": "d0cce097-4b2c-4842-94ba-37f1609da419",
   "metadata": {},
   "outputs": [],
   "source": [
    "# Separating out various query results and applying the r mask \n",
    "candsg, objs, magsg, magerrsg = SNquery[1][gmsk], SNquery[0].astype(float)[gmsk], SNquery[3][gmsk], SNquery[5][gmsk]\n",
    "# Create an array of the dates rounded to the nearest MJD\n",
    "odatesg = np.round( SNquery[2].astype(float) )[gmsk]\n",
    "# create an array of unique night (rounded to nearest MJD)\n",
    "datesg = np.unique( odatesg )\n",
    "\n",
    "# Create an array of unique candidates\n",
    "ucandsg, ucandctsg = np.unique( candsg, return_counts=True )\n",
    "\n",
    "cut0candsg = ucandsg[np.where(ucandctsg > numdetg)[0]]\n",
    "cut0rg = [i for i in ucandsg if i not in cut0candsg]\n",
    "\n",
    "nummskg = np.isin(candsg, ucandsg, invert=False)\n",
    "candsg, objs, magsg, magerrsg, odatesg = candsg[nummskg], objs[nummskg], magsg[nummskg], magerrsg[nummskg], odatesg[nummskg]"
   ]
  },
  {
   "cell_type": "code",
   "execution_count": 12,
   "id": "ec48f00c-f8d5-4e22-8136-61934e926287",
   "metadata": {},
   "outputs": [],
   "source": [
    "# Create for each unique candidate an array of the dates it was observed on and store those arrays in a larger array (ucanddatesr)\n",
    "ucanddatesg = np.array( [odatesg[ np.where( candsg==i )[0] ] for i in cut0candsg] )\n",
    "# Create for each unique candidate an array of measured magnitudes and store those arrays in a larger array (ucandmagsr)\n",
    "ucandmagsg = np.array( [magsg[ np.where( candsg==i )[0] ] for i in cut0candsg] )\n",
    "# Create for each unique candidate an array of measured magnitude error bars and store those arrays in a larger array (ucandmagerrsr)\n",
    "ucandmagerrsg = np.array( [magerrsg[ np.where( candsg==i )[0] ] for i in cut0candsg] )"
   ]
  },
  {
   "cell_type": "code",
   "execution_count": 13,
   "id": "26075504-a41e-4af3-ae77-20d5a59e5e4e",
   "metadata": {},
   "outputs": [],
   "source": [
    "# Convert those arrays (previously strings) to floats\n",
    "ucandmagsg = np.array( [i.astype(float) for i in ucandmagsg] )\n",
    "ucandmagerrsg = np.array( [i.astype(float) for i in ucandmagerrsg] )\n",
    "ucanddatesg = np.array( [i.astype(float) for i in ucanddatesg] )"
   ]
  },
  {
   "cell_type": "code",
   "execution_count": 14,
   "id": "e2e041e1-6648-4aaf-ada8-602d90e05d5d",
   "metadata": {},
   "outputs": [],
   "source": [
    "# Calculate how many days passed between the first and last detection \n",
    "ucandrangeg = np.array( [np.max(i) - np.min(i) for i in ucanddatesg] )"
   ]
  },
  {
   "cell_type": "code",
   "execution_count": 15,
   "id": "8db7676c-0851-4c1c-bef0-9eadfadfb6ea",
   "metadata": {},
   "outputs": [],
   "source": [
    "# Make timespan cuts\n",
    "cut1g = np.where( ucandrangeg > tspang )[0] # eliminate candidates whose detections dont span at least tspanr days\n",
    "\n",
    "cut1candsg   =  cut0candsg[cut1g]\n",
    "cut1datesg   =  ucanddatesg[cut1g]\n",
    "cut1magsg    =  ucandmagsg[cut1g]\n",
    "cut1magerrsg =  ucandmagerrsg[cut1g]\n",
    "\n",
    "# Every candidate removed by this cut\n",
    "cut1rg = [i for i in cut0candsg if i not in cut1candsg]\n",
    "\n",
    "# Create another cut for the minimum amplitude in mag\n",
    "cut1magrangeg = np.array( [np.max(i) - np.min(i) for i in cut1magsg] )\n",
    "cut2g = np.where( cut1magrangeg > minmagg )[0]\n",
    "\n",
    "cut2candsg   =  cut1candsg[cut2g]\n",
    "cut2datesg   =  cut1datesg[cut2g]\n",
    "cut2magsg    =  cut1magsg[cut2g]\n",
    "cut2magerrsg =  cut1magerrsg[cut2g]\n",
    "\n",
    "# Every candidate removed by this cut\n",
    "cut2rg = [i for i in cut1candsg if i not in cut2candsg]\n",
    "\n",
    "\n",
    "# Create another cut for where the magerror is too high\n",
    "cut2magerrrangeg = np.array( [np.mean(i) for i in cut2magerrsg] )\n",
    "cut3g = np.where( cut2magerrrangeg < gmaxerr )[0]\n",
    "\n",
    "# And apply that cut as well\n",
    "cut3candsg   =  cut2candsg[cut3g]\n",
    "cut3datesg   =  cut2datesg[cut3g]\n",
    "cut3magsg    =  cut2magsg[cut3g]\n",
    "cut3magerrsg =  cut2magerrsg[cut3g]\n",
    "\n",
    "# Every candidate removed by this cut\n",
    "cut3rg = [i for i in cut2candsg if i not in cut3candsg]"
   ]
  },
  {
   "cell_type": "code",
   "execution_count": 16,
   "id": "7e783bb8-8c41-4eef-912e-6b601aca497e",
   "metadata": {},
   "outputs": [],
   "source": [
    "# Create new arrays with the same dimensions as the cutdatesr, cutmagsr, and cutmagerrs arrays (those share dimensions)\n",
    "\n",
    "cut3datesg2 = copy.deepcopy( cut3datesg )\n",
    "nightg = copy.deepcopy( cut3datesg )\n",
    "nightgmag = copy.deepcopy( cut3datesg )\n",
    "nightgmagerr = copy.deepcopy( cut3datesg )\n",
    "\n",
    "for i in range( len( cut3datesg2 ) ):\n",
    "    # make an array of every night the candidate in question (candidate \"i\") was detected\n",
    "    unightg = np.unique( cut3datesg2[i] )\n",
    "    for j in range( len( unightg ) ):\n",
    "        # For each of those nights, make a mask that selects every observation that night\n",
    "        msk = np.where( cut3datesg2[i] == unightg[j] )[0]\n",
    "        # Populate the arrays we created earlier in the cell with appropriate values for the night of the observation,\n",
    "        # the average magnitude measured that night, and the error (propogated from individual errors) in that average measurement\n",
    "        # NOTE: there will be meaningless numbers at the end of each (nightr/nightrmag/nightrmagerr)[i] array, left over from\n",
    "        # when we created them by copying another array. It isn't elegant but it is accounted for later\n",
    "        nightg[i][j] = unightg[j]\n",
    "        nightgmag[i][j] = np.median( cut3magsg[i][msk] )\n",
    "        nightgmagerr[i][j] = np.sqrt( np.sum( cut3magerrsg[i][msk]**2 ) )"
   ]
  },
  {
   "cell_type": "code",
   "execution_count": 17,
   "id": "24369776-9947-4841-b1e8-ef3190e3bfcb",
   "metadata": {},
   "outputs": [],
   "source": [
    "# Create an array of dataframes. Each dataframe represents one candidate, and each contains \"Night\", \"Mag\", and \"Magerr\" columns, \n",
    "# with each row representing one night\n",
    "dfg = [pd.DataFrame(np.array(\n",
    "    [nightg[i][:len( np.unique( nightg[i] ) )], \n",
    "     nightgmag[i][:len( np.unique( nightg[i] ) )], \n",
    "     nightgmagerr[i][:len( np.unique( nightg[i] ) )]]).transpose(),\n",
    "    columns=[\"Night\",\n",
    "            \"Mag\",\n",
    "            \"Magerr\"])\n",
    " for i in range( len( cut3candsg ) )]"
   ]
  },
  {
   "cell_type": "code",
   "execution_count": 18,
   "id": "d8dc13d6-4b98-4fea-ad8c-002e5fc6fdc9",
   "metadata": {},
   "outputs": [],
   "source": [
    "# This cell creates a mask to eliminate variable stars from the search:\n",
    "varstarmskg = np.ones( len( dfg ), dtype=bool )\n",
    "for i in range( len( dfg ) ):\n",
    "    num = 0\n",
    "    h = 0\n",
    "    # First, make sure that the dataframes in the dfr array are each in chronological order\n",
    "    dfg[i] = dfg[i].sort_values( by=\"Night\" )\n",
    "    for j in range( len( dfg[i][\"Mag\"] ) - 1 ):\n",
    "        h += 1\n",
    "        if ( num >= 0 ) & ( num < 1 ):\n",
    "            # On the rise, the \"current\" data point must be lower than the \"next\" data point (error bars included to give maximum leeway)\n",
    "            if dfg[i][\"Mag\"][j] + errmult * dfg[i][\"Magerr\"][j] > dfg[i][\"Mag\"][j + 1] - errmult * dfg[i][\"Magerr\"][j + 1]:\n",
    "                pass\n",
    "            else:\n",
    "                # Once that condition isn't met, 'num' changes, sending us to the descending loop\n",
    "                num += 1\n",
    "        if (num >= 1) & (num < 2):\n",
    "            # On the decline, the \"current\" data point must be lower than the \"next\" data point (error bars included to give maximum leeway)\n",
    "            if dfg[i][\"Mag\"][j] - errmult * dfg[i][\"Magerr\"][j] < dfg[i][\"Mag\"][j + 1] + errmult * dfg[i][\"Magerr\"][j + 1]:\n",
    "                pass\n",
    "            else:\n",
    "                # If this fails, it means that we went up, down, and up again--not a SN, so\n",
    "                num += 1\n",
    "#         if num == 2:\n",
    "#             if dfg[i][\"Mag\"][j]+dfg[i][\"Magerr\"][j] > dfg[i][\"Mag\"][j+1]-errmult*dfg[i][\"Magerr\"][j+1]:\n",
    "#                 pass\n",
    "#             else:\n",
    "#                 num+=1\n",
    "#         if num == 3:\n",
    "#             if dfg[i][\"Mag\"][j]-dfg[i][\"Magerr\"][j] < dfg[i][\"Mag\"][j+1]+errmult*dfg[i][\"Magerr\"][j+1]:\n",
    "#                 pass\n",
    "#             else:\n",
    "#                 num+=1\n",
    "        if num == 2:# and h<10:\n",
    "            # We make a note of that in the 'varstarmskg' mask\n",
    "            varstarmskg[i] = False"
   ]
  },
  {
   "cell_type": "code",
   "execution_count": 19,
   "id": "18101d28-2020-4380-b98a-7b30d8a07da6",
   "metadata": {},
   "outputs": [
    {
     "data": {
      "text/plain": [
       "43"
      ]
     },
     "execution_count": 19,
     "metadata": {},
     "output_type": "execute_result"
    }
   ],
   "source": [
    "# Number of candidates that passed all g cuts\n",
    "sum(varstarmskg.astype(int))"
   ]
  },
  {
   "cell_type": "code",
   "execution_count": 20,
   "id": "a1c96c4e-5be9-48a0-8baa-50bc3a81d17f",
   "metadata": {
    "scrolled": true,
    "tags": []
   },
   "outputs": [],
   "source": [
    "SNg = [cut3candsg[f] for f in np.array(range(len(cut3datesg)))[varstarmskg]] # Every passed cadidate\n",
    "cut4rg = [i for i in cut3candsg if i not in SNg]\n",
    "\n",
    "# Plotting only those that passed through the r-band filter\n",
    "# for f in np.array( range( len( cut3datesg ) ) )[varstarmskg]:\n",
    "#     g = len( np.unique( cut3datesg[f] ) )\n",
    "#     plt.errorbar(nightg[f][:g],nightgmag[f][:g], yerr=nightgmagerr[f][:g])\n",
    "#     plt.title(cut3candsg[f] + \" (g)\")\n",
    "#     plt.ylabel(\"Magnitude\")\n",
    "#     plt.xlabel(\"MJD\")\n",
    "#     plt.gca().invert_yaxis()\n",
    "#     plt.show()"
   ]
  },
  {
   "cell_type": "code",
   "execution_count": 21,
   "id": "90199619-807c-4bb7-a21e-529737a63bcc",
   "metadata": {},
   "outputs": [
    {
     "data": {
      "text/plain": [
       "[22831, 8, 41, 1, 723]"
      ]
     },
     "execution_count": 21,
     "metadata": {},
     "output_type": "execute_result"
    }
   ],
   "source": [
    "# Number of candidates each step eliminated\n",
    "[len(cut0rg),len(cut1rg),len(cut2rg),len(cut3rg),len(cut4rg)]"
   ]
  },
  {
   "cell_type": "markdown",
   "id": "bded88f4-c9dd-482e-ae7f-6a06051f6522",
   "metadata": {
    "tags": []
   },
   "source": [
    "### r filter:"
   ]
  },
  {
   "cell_type": "code",
   "execution_count": 22,
   "id": "f6471a56-16bf-48e4-9806-5e12ae42cff1",
   "metadata": {},
   "outputs": [],
   "source": [
    "# Mask to make sure we stay in the r band detections\n",
    "rmsk = np.where( SNquery[4] == \"r\" )[0]\n",
    "rmsk = [i for i in grimsk if i in rmsk]"
   ]
  },
  {
   "cell_type": "code",
   "execution_count": 23,
   "id": "f6191ab1-a9b4-4b14-988b-8bde54fbcaf3",
   "metadata": {},
   "outputs": [],
   "source": [
    "# Separating out various query results and applying the r mask \n",
    "candsr, objs, magsr, magerrsr = SNquery[1][rmsk], SNquery[0].astype(float)[rmsk], SNquery[3][rmsk], SNquery[5][rmsk]\n",
    "# Create an array of the dates rounded to the nearest MJD\n",
    "odatesr = np.round( SNquery[2].astype(float) )[rmsk]\n",
    "# create an array of unique night (rounded to nearest MJD)\n",
    "datesr = np.unique( odatesr )\n",
    "\n",
    "# Create an array of unique candidates\n",
    "ucandsr, ucandctsr = np.unique( candsr, return_counts=True )\n",
    "\n",
    "cut0candsr = ucandsr[np.where(ucandctsr > numdetr)[0]]\n",
    "cut0rr = [i for i in ucandsr if i not in cut0candsr]\n",
    "\n",
    "nummskr = np.isin(candsr, ucandsr, invert=False)\n",
    "candsr, objs, magsr, magerrsr, odatesr = candsr[nummskr], objs[nummskr], magsr[nummskr], magerrsr[nummskr], odatesr[nummskr]"
   ]
  },
  {
   "cell_type": "code",
   "execution_count": 24,
   "id": "579da7e4-d67c-487a-a094-03d24aef357b",
   "metadata": {},
   "outputs": [],
   "source": [
    "# Create for each unique candidate an array of the dates it was observed on and store those arrays in a larger array (ucanddatesr)\n",
    "ucanddatesr = np.array( [odatesr[ np.where( candsr==i )[0] ] for i in cut0candsr] )\n",
    "# Create for each unique candidate an array of measured magnitudes and store those arrays in a larger array (ucandmagsr)\n",
    "ucandmagsr = np.array( [magsr[ np.where( candsr==i )[0] ] for i in cut0candsr] )\n",
    "# Create for each unique candidate an array of measured magnitude error bars and store those arrays in a larger array (ucandmagerrsr)\n",
    "ucandmagerrsr = np.array( [magerrsr[ np.where( candsr==i )[0] ] for i in cut0candsr] )"
   ]
  },
  {
   "cell_type": "code",
   "execution_count": 25,
   "id": "8f50da4b-f311-4376-bef4-cbc9699df1a1",
   "metadata": {},
   "outputs": [],
   "source": [
    "# Convert those arrays (previously strings) to floats\n",
    "ucandmagsr = np.array( [i.astype(float) for i in ucandmagsr] )\n",
    "ucandmagerrsr = np.array( [i.astype(float) for i in ucandmagerrsr] )\n",
    "ucanddatesr = np.array( [i.astype(float) for i in ucanddatesr] )"
   ]
  },
  {
   "cell_type": "code",
   "execution_count": 26,
   "id": "9f38e93b-206d-4a8a-853e-9ef5297dc68c",
   "metadata": {},
   "outputs": [],
   "source": [
    "# Calculate how many days passed between the first and last detection \n",
    "ucandranger = np.array( [np.max(i) - np.min(i) for i in ucanddatesr] )"
   ]
  },
  {
   "cell_type": "code",
   "execution_count": 27,
   "id": "4e597c38-7436-4ffe-a206-409d39357b8a",
   "metadata": {},
   "outputs": [
    {
     "name": "stderr",
     "output_type": "stream",
     "text": [
      "/usr/common/software/python/3.7-anaconda-2019.10/lib/python3.7/site-packages/ipykernel_launcher.py:15: RuntimeWarning: invalid value encountered in greater\n",
      "  from ipykernel import kernelapp as app\n"
     ]
    }
   ],
   "source": [
    "# Make timespan cuts\n",
    "cut1r = np.where( ucandranger > tspanr )[0] # eliminate candidates whose detections dont span at least tspanr days\n",
    "\n",
    "cut1candsr   =  cut0candsr[cut1r]\n",
    "cut1datesr   =  ucanddatesr[cut1r]\n",
    "cut1magsr    =  ucandmagsr[cut1r]\n",
    "cut1magerrsr =  ucandmagerrsr[cut1r]\n",
    "\n",
    "# Every candidate removed by this cut\n",
    "cut1rr = [i for i in cut0candsr if i not in cut1candsr]\n",
    "\n",
    "\n",
    "# Create another cut for the minimum amplitude in mag\n",
    "cut1magranger = np.array( [np.max(i) - np.min(i) for i in cut1magsr] )\n",
    "cut2r = np.where( cut1magranger > minmagr )[0]\n",
    "\n",
    "cut2candsr   =  cut1candsr[cut2r]\n",
    "cut2datesr   =  cut1datesr[cut2r]\n",
    "cut2magsr    =  cut1magsr[cut2r]\n",
    "cut2magerrsr =  cut1magerrsr[cut2r]\n",
    "\n",
    "# Every candidate removed by this cut\n",
    "cut2rr = [i for i in cut1candsr if i not in cut2candsr]\n",
    "\n",
    "\n",
    "# Create another cut for where the magerror is too high\n",
    "cut2magerrranger = np.array( [np.mean(i) for i in cut2magerrsr] )\n",
    "cut3r = np.where( cut2magerrranger < rmaxerr )[0]\n",
    "\n",
    "# And apply that cut as well\n",
    "cut3candsr   =  cut2candsr[cut3r]\n",
    "cut3datesr   =  cut2datesr[cut3r]\n",
    "cut3magsr    =  cut2magsr[cut3r]\n",
    "cut3magerrsr =  cut2magerrsr[cut3r]\n",
    "\n",
    "# Every candidate removed by this cut\n",
    "cut3rr = [i for i in cut2candsr if i not in cut3candsr]"
   ]
  },
  {
   "cell_type": "code",
   "execution_count": 28,
   "id": "6484c01f-7225-4260-b721-7f115e9b956d",
   "metadata": {},
   "outputs": [],
   "source": [
    "# Create new arrays with the same dimensions as the cutdatesr, cutmagsr, and cutmagerrs arrays (those share dimensions)\n",
    "\n",
    "cut3datesr2 = copy.deepcopy( cut3datesr )\n",
    "nightr = copy.deepcopy( cut3datesr )\n",
    "nightrmag = copy.deepcopy( cut3datesr )\n",
    "nightrmagerr = copy.deepcopy( cut3datesr )\n",
    "\n",
    "for i in range( len( cut3datesr2 ) ):\n",
    "    # make an array of every night the candidate in question (candidate \"i\") was detected\n",
    "    unightr = np.unique( cut3datesr2[i] )\n",
    "    for j in range( len( unightr ) ):\n",
    "        # For each of those nights, make a mask that selects every observation that night\n",
    "        msk = np.where( cut3datesr2[i] == unightr[j] )[0]\n",
    "        # Populate the arrays we created earlier in the cell with appropriate values for the night of the observation,\n",
    "        # the average magnitude measured that night, and the error (propogated from individual errors) in that average measurement\n",
    "        # NOTE: there will be meaningless numbers at the end of each (nightr/nightrmag/nightrmagerr)[i] array, left over from\n",
    "        # when we created them by copying another array. It isn't elegant but it is accounted for later\n",
    "        nightr[i][j] = unightr[j]\n",
    "        nightrmag[i][j] = np.median( cut3magsr[i][msk] )\n",
    "        nightrmagerr[i][j] = np.sqrt( np.sum( cut3magerrsr[i][msk]**2 ) )"
   ]
  },
  {
   "cell_type": "code",
   "execution_count": 29,
   "id": "cafb2a96-3da8-4611-a8d3-80f96101e8ab",
   "metadata": {},
   "outputs": [],
   "source": [
    "# Create an array of dataframes. Each dataframe represents one candidate, and each contains \"Night\", \"Mag\", and \"Magerr\" columns, \n",
    "# with each row representing one night\n",
    "dfr = [pd.DataFrame(np.array(\n",
    "    [nightr[i][:len( np.unique( nightr[i] ) )], \n",
    "     nightrmag[i][:len( np.unique( nightr[i] ) )], \n",
    "     nightrmagerr[i][:len( np.unique( nightr[i] ) )]]).transpose(),\n",
    "    columns=[\"Night\",\n",
    "            \"Mag\",\n",
    "            \"Magerr\"])\n",
    " for i in range( len( cut3candsr ) )]"
   ]
  },
  {
   "cell_type": "code",
   "execution_count": 30,
   "id": "c0168a12-368e-4e7d-92ec-9591944b9c0f",
   "metadata": {},
   "outputs": [],
   "source": [
    "# This cell creates a mask to eliminate variable stars from the search:\n",
    "varstarmskr = np.ones( len( dfr ), dtype=bool )\n",
    "for i in range( len( dfr ) ):\n",
    "    num = 0\n",
    "    h = 0\n",
    "    # First, make sure that the dataframes in the dfr array are each in chronological order\n",
    "    dfr[i] = dfr[i].sort_values( by=\"Night\" )\n",
    "    for j in range( len( dfr[i][\"Mag\"] ) - 1 ):\n",
    "        h += 1\n",
    "        if ( num >= 0 ) & ( num < 1 ):\n",
    "            # On the rise, the \"current\" data point must be lower than the \"next\" data point (error bars included to give maximum leeway)\n",
    "            if dfr[i][\"Mag\"][j] + errmult * dfr[i][\"Magerr\"][j] > dfr[i][\"Mag\"][j + 1] - errmult * dfr[i][\"Magerr\"][j + 1]:\n",
    "                pass\n",
    "            else:\n",
    "                # Once that condition isn't met, 'num' changes, sending us to the descending loop\n",
    "                num += 1\n",
    "        if (num >= 1) & (num < 2):\n",
    "            # On the decline, the \"current\" data point must be lower than the \"next\" data point (error bars included to give maximum leeway)\n",
    "            if dfr[i][\"Mag\"][j] - errmult * dfr[i][\"Magerr\"][j] < dfr[i][\"Mag\"][j + 1] + errmult * dfr[i][\"Magerr\"][j + 1]:\n",
    "                pass\n",
    "            else:\n",
    "                # If this fails, it means that we went up, down, and up again--not a SN, so\n",
    "                num += 1\n",
    "#         if num == 2:\n",
    "#             if dfr[i][\"Mag\"][j]+dfr[i][\"Magerr\"][j] > dfr[i][\"Mag\"][j+1]-errmult*dfr[i][\"Magerr\"][j+1]:\n",
    "#                 pass\n",
    "#             else:\n",
    "#                 num+=1\n",
    "#         if num == 3:\n",
    "#             if dfr[i][\"Mag\"][j]-dfr[i][\"Magerr\"][j] < dfr[i][\"Mag\"][j+1]+errmult*dfr[i][\"Magerr\"][j+1]:\n",
    "#                 pass\n",
    "#             else:\n",
    "#                 num+=1\n",
    "        if num == 2:# and h<10:\n",
    "            # We make a note of that in the 'varstarmskr' mask\n",
    "            varstarmskr[i] = False"
   ]
  },
  {
   "cell_type": "code",
   "execution_count": 31,
   "id": "e131eb23-2f8e-44af-919d-ba78f440ec60",
   "metadata": {},
   "outputs": [
    {
     "data": {
      "text/plain": [
       "38"
      ]
     },
     "execution_count": 31,
     "metadata": {},
     "output_type": "execute_result"
    }
   ],
   "source": [
    "# Number of candidates that passed all r cuts\n",
    "sum(varstarmskr.astype(int))"
   ]
  },
  {
   "cell_type": "code",
   "execution_count": 32,
   "id": "2752e219-ecfa-489c-9637-3a66bc4f8038",
   "metadata": {
    "scrolled": true,
    "tags": []
   },
   "outputs": [],
   "source": [
    "SNr = [cut3candsr[f] for f in np.array(range(len(cut3datesr)))[varstarmskr]] # Every passed cadidate\n",
    "cut4rr = [i for i in cut3candsr if i not in SNr]\n",
    "\n",
    "# Plotting only those that passed through the r-band filter\n",
    "# for f in np.array( range( len( cut3datesr ) ) )[varstarmskr]:\n",
    "#     g = len( np.unique( cut3datesr[f] ) )\n",
    "#     plt.errorbar(nightr[f][:g],nightrmag[f][:g], yerr=nightrmagerr[f][:g])\n",
    "#     plt.title(cut3candsr[f] + \" (r)\")\n",
    "#     plt.ylabel(\"Magnitude\")\n",
    "#     plt.xlabel(\"MJD\")\n",
    "#     plt.gca().invert_yaxis()\n",
    "#     plt.show()"
   ]
  },
  {
   "cell_type": "code",
   "execution_count": 33,
   "id": "e190c5d9-60a0-4380-b749-6a54bfd19d16",
   "metadata": {},
   "outputs": [
    {
     "data": {
      "text/plain": [
       "[34090, 7, 61, 0, 478]"
      ]
     },
     "execution_count": 33,
     "metadata": {},
     "output_type": "execute_result"
    }
   ],
   "source": [
    "# Number of candidates each step eliminated\n",
    "[len(cut0rr),len(cut1rr),len(cut2rr),len(cut3rr),len(cut4rr)]"
   ]
  },
  {
   "cell_type": "markdown",
   "id": "d8e763fd-c5af-4c79-bb47-be544159dc88",
   "metadata": {
    "tags": []
   },
   "source": [
    "### i filter:"
   ]
  },
  {
   "cell_type": "code",
   "execution_count": 34,
   "id": "1184b579-2701-47d5-859f-febb8691df87",
   "metadata": {},
   "outputs": [],
   "source": [
    "# Mask to make sure we stay in the r band detections\n",
    "imsk = np.where( SNquery[4] == \"i\" )[0]\n",
    "imsk = [i for i in grimsk if i in imsk]"
   ]
  },
  {
   "cell_type": "code",
   "execution_count": 35,
   "id": "798215a4-9f92-40ac-b8c5-696194ab51d1",
   "metadata": {},
   "outputs": [],
   "source": [
    "# Separating out various query results and applying the r mask \n",
    "candsi, objs, magsi, magerrsi = SNquery[1][imsk], SNquery[0].astype(float)[imsk], SNquery[3][imsk], SNquery[5][imsk]\n",
    "# Create an array of the dates rounded to the nearest MJD\n",
    "odatesi = np.round( SNquery[2].astype(float) )[imsk]\n",
    "# create an array of unique night (rounded to nearest MJD)\n",
    "datesi = np.unique( odatesi )\n",
    "\n",
    "# Create an array of unique candidates\n",
    "ucandsi, ucandctsi = np.unique( candsi, return_counts=True )\n",
    "\n",
    "cut0candsi = ucandsi[np.where(ucandctsi > numdetg)[0]]\n",
    "cut0ri = [i for i in ucandsi if i not in cut0candsi]\n",
    "\n",
    "nummski = np.isin(candsi, ucandsi, invert=False)\n",
    "candsi, objs, magsi, magerrsi, odatesi = candsi[nummski], objs[nummski], magsi[nummski], magerrsi[nummski], odatesi[nummski]"
   ]
  },
  {
   "cell_type": "code",
   "execution_count": 36,
   "id": "40b521af-3647-4a91-82ad-576fbf06e85c",
   "metadata": {},
   "outputs": [],
   "source": [
    "# Create for each unique candidate an array of the dates it was observed on and store those arrays in a larger array (ucanddatesr)\n",
    "ucanddatesi = np.array( [odatesi[ np.where( candsi==i )[0] ] for i in cut0candsi] )\n",
    "# Create for each unique candidate an array of measured magnitudes and store those arrays in a larger array (ucandmagsr)\n",
    "ucandmagsi = np.array( [magsi[ np.where( candsi==i )[0] ] for i in cut0candsi] )\n",
    "# Create for each unique candidate an array of measured magnitude error bars and store those arrays in a larger array (ucandmagerrsr)\n",
    "ucandmagerrsi = np.array( [magerrsi[ np.where( candsi==i )[0] ] for i in cut0candsi] )"
   ]
  },
  {
   "cell_type": "code",
   "execution_count": 37,
   "id": "26908784-1bac-44e5-9517-f617c4a8b050",
   "metadata": {},
   "outputs": [],
   "source": [
    "# Convert those arrays (previously strings) to floats\n",
    "ucandmagsi = np.array( [i.astype(float) for i in ucandmagsi] )\n",
    "ucandmagerrsi = np.array( [i.astype(float) for i in ucandmagerrsi] )\n",
    "ucanddatesi = np.array( [i.astype(float) for i in ucanddatesi] )"
   ]
  },
  {
   "cell_type": "code",
   "execution_count": 38,
   "id": "2cf582f0-2e85-4910-82b7-a74e465b8530",
   "metadata": {},
   "outputs": [],
   "source": [
    "# Calculate how many days passed between the first and last detection \n",
    "ucandrangei = np.array( [np.max(i) - np.min(i) for i in ucanddatesi] )"
   ]
  },
  {
   "cell_type": "code",
   "execution_count": 39,
   "id": "a1b200ea-2b15-4846-922a-ec446382307f",
   "metadata": {},
   "outputs": [],
   "source": [
    "# Make timespan cuts\n",
    "cut1i = np.where( ucandrangei > tspang )[0] # eliminate candidates whose detections dont span at least tspanr days\n",
    "\n",
    "cut1candsi   =  cut0candsi[cut1i]\n",
    "cut1datesi   =  ucanddatesi[cut1i]\n",
    "cut1magsi    =  ucandmagsi[cut1i]\n",
    "cut1magerrsi =  ucandmagerrsi[cut1i]\n",
    "\n",
    "# Every candidate removed by this cut\n",
    "cut1ri = [i for i in cut0candsi if i not in cut1candsi]\n",
    "\n",
    "# Create another cut for the minimum amplitude in mag\n",
    "cut1magrangei = np.array( [np.max(i) - np.min(i) for i in cut1magsi] )\n",
    "cut2i = np.where( cut1magrangei > minmagi )[0]\n",
    "\n",
    "cut2candsi   =  cut1candsi[cut2i]\n",
    "cut2datesi   =  cut1datesi[cut2i]\n",
    "cut2magsi    =  cut1magsi[cut2i]\n",
    "cut2magerrsi =  cut1magerrsi[cut2i]\n",
    "\n",
    "# Every candidate removed by this cut\n",
    "cut2ri = [i for i in cut1candsi if i not in cut2candsi]\n",
    "\n",
    "\n",
    "# Create another cut for where the magerror is too high\n",
    "cut2magerrrangei = np.array( [np.mean(i) for i in cut2magerrsi] )\n",
    "cut3i = np.where( cut2magerrrangei < imaxerr )[0]\n",
    "\n",
    "# And apply that cut as well\n",
    "cut3candsi   =  cut2candsi[cut3i]\n",
    "cut3datesi   =  cut2datesi[cut3i]\n",
    "cut3magsi    =  cut2magsi[cut3i]\n",
    "cut3magerrsi =  cut2magerrsi[cut3i]\n",
    "\n",
    "# Every candidate removed by this cut\n",
    "cut3ri = [i for i in cut2candsi if i not in cut3candsi]"
   ]
  },
  {
   "cell_type": "code",
   "execution_count": 40,
   "id": "8586f3d6-4a5f-44d7-be3c-ebe728f083e7",
   "metadata": {},
   "outputs": [],
   "source": [
    "# Create new arrays with the same dimensions as the cutdatesr, cutmagsr, and cutmagerrs arrays (those share dimensions)\n",
    "\n",
    "cut3datesi2 = copy.deepcopy( cut3datesi )\n",
    "nighti = copy.deepcopy( cut3datesi )\n",
    "nightimag = copy.deepcopy( cut3datesi )\n",
    "nightimagerr = copy.deepcopy( cut3datesi )\n",
    "\n",
    "for i in range( len( cut3datesi2 ) ):\n",
    "    # make an array of every night the candidate in question (candidate \"i\") was detected\n",
    "    unighti = np.unique( cut3datesi2[i] )\n",
    "    for j in range( len( unighti ) ):\n",
    "        # For each of those nights, make a mask that selects every observation that night\n",
    "        msk = np.where( cut3datesi2[i] == unighti[j] )[0]\n",
    "        # Populate the arrays we created earlier in the cell with appropriate values for the night of the observation,\n",
    "        # the average magnitude measured that night, and the error (propogated from individual errors) in that average measurement\n",
    "        # NOTE: there will be meaningless numbers at the end of each (nightr/nightrmag/nightrmagerr)[i] array, left over from\n",
    "        # when we created them by copying another array. It isn't elegant but it is accounted for later\n",
    "        nighti[i][j] = unighti[j]\n",
    "        nightimag[i][j] = np.median( cut3magsi[i][msk] )\n",
    "        nightimagerr[i][j] = np.sqrt( np.sum( cut3magerrsi[i][msk]**2 ) )"
   ]
  },
  {
   "cell_type": "code",
   "execution_count": 41,
   "id": "d7bc752b-571b-4087-98d3-0139f7cf205e",
   "metadata": {},
   "outputs": [],
   "source": [
    "# Create an array of dataframes. Each dataframe represents one candidate, and each contains \"Night\", \"Mag\", and \"Magerr\" columns, \n",
    "# with each row representing one night\n",
    "dfi = [pd.DataFrame(np.array(\n",
    "    [nighti[i][:len( np.unique( nighti[i] ) )], \n",
    "     nightimag[i][:len( np.unique( nighti[i] ) )], \n",
    "     nightimagerr[i][:len( np.unique( nighti[i] ) )]]).transpose(),\n",
    "    columns=[\"Night\",\n",
    "            \"Mag\",\n",
    "            \"Magerr\"])\n",
    " for i in range( len( cut3candsi ) )]"
   ]
  },
  {
   "cell_type": "code",
   "execution_count": 42,
   "id": "35c04b2c-96f4-4880-a9f1-0c20833e4813",
   "metadata": {},
   "outputs": [],
   "source": [
    "# This cell creates a mask to eliminate variable stars from the search:\n",
    "varstarmski = np.ones( len( dfi ), dtype=bool )\n",
    "for i in range( len( dfi ) ):\n",
    "    num = 0\n",
    "    h = 0\n",
    "    # First, make sure that the dataframes in the dfr array are each in chronological order\n",
    "    dfi[i] = dfi[i].sort_values( by=\"Night\" )\n",
    "    for j in range( len( dfi[i][\"Mag\"] ) - 1 ):\n",
    "        h += 1\n",
    "        if ( num >= 0 ) & ( num < 1 ):\n",
    "            # On the rise, the \"current\" data point must be lower than the \"next\" data point (error bars included to give maximum leeway)\n",
    "            if dfi[i][\"Mag\"][j] + errmult * dfi[i][\"Magerr\"][j] > dfi[i][\"Mag\"][j + 1] - errmult * dfi[i][\"Magerr\"][j + 1]:\n",
    "                pass\n",
    "            else:\n",
    "                # Once that condition isn't met, 'num' changes, sending us to the descending loop\n",
    "                num += 1\n",
    "        if (num >= 1) & (num < 2):\n",
    "            # On the decline, the \"current\" data point must be lower than the \"next\" data point (error bars included to give maximum leeway)\n",
    "            if dfi[i][\"Mag\"][j] - errmult * dfi[i][\"Magerr\"][j] < dfi[i][\"Mag\"][j + 1] + errmult * dfi[i][\"Magerr\"][j + 1]:\n",
    "                pass\n",
    "            else:\n",
    "                # If this fails, it means that we went up, down, and up again--not a SN, so\n",
    "                num += 1\n",
    "#         if num == 2:\n",
    "#             if dfi[i][\"Mag\"][j]+dfi[i][\"Magerr\"][j] > dfi[i][\"Mag\"][j+1]-errmult*dfi[i][\"Magerr\"][j+1]:\n",
    "#                 pass\n",
    "#             else:\n",
    "#                 num+=1\n",
    "#         if num == 3:\n",
    "#             if dfi[i][\"Mag\"][j]-dfi[i][\"Magerr\"][j] < dfi[i][\"Mag\"][j+1]+errmult*dfi[i][\"Magerr\"][j+1]:\n",
    "#                 pass\n",
    "#             else:\n",
    "#                 num+=1\n",
    "        if num == 2:# and h<10:\n",
    "            # We make a note of that in the 'varstarmski' mask\n",
    "            varstarmski[i] = False"
   ]
  },
  {
   "cell_type": "code",
   "execution_count": 43,
   "id": "f6fbed72-aa00-4610-9c97-5b6e7a12e8d5",
   "metadata": {},
   "outputs": [
    {
     "data": {
      "text/plain": [
       "29"
      ]
     },
     "execution_count": 43,
     "metadata": {},
     "output_type": "execute_result"
    }
   ],
   "source": [
    "# Number of candidates that passed all i cuts\n",
    "sum(varstarmski.astype(int))"
   ]
  },
  {
   "cell_type": "code",
   "execution_count": 44,
   "id": "eee7268b-b5cc-4cd7-916a-030861e192ea",
   "metadata": {
    "scrolled": true,
    "tags": []
   },
   "outputs": [],
   "source": [
    "SNi = [cut3candsi[f] for f in np.array(range(len(cut3datesi)))[varstarmski]] # Every passed cadidate\n",
    "cut4ri = [i for i in cut3candsi if i not in SNi]\n",
    "\n",
    "# Plotting only those that passed through the r-band filter\n",
    "# for f in np.array( range( len( cut3datesi ) ) )[varstarmski]:\n",
    "#     g = len( np.unique( cut3datesi[f] ) )\n",
    "#     plt.errorbar(nighti[f][:g],nightimag[f][:g], yerr=nightimagerr[f][:g])\n",
    "#     plt.title(cut3candsi[f] + \" (g)\")\n",
    "#     plt.ylabel(\"Magnitude\")\n",
    "#     plt.xlabel(\"MJD\")\n",
    "#     plt.gca().invert_yaxis()\n",
    "#     plt.show()"
   ]
  },
  {
   "cell_type": "code",
   "execution_count": 45,
   "id": "481e0715-79b4-4631-a3b2-a5f44a32b497",
   "metadata": {},
   "outputs": [
    {
     "data": {
      "text/plain": [
       "[30601, 1, 33, 0, 114]"
      ]
     },
     "execution_count": 45,
     "metadata": {},
     "output_type": "execute_result"
    }
   ],
   "source": [
    "# Number of candidates each step eliminated\n",
    "[len(cut0ri),len(cut1ri),len(cut2ri),len(cut3ri),len(cut4ri)]"
   ]
  },
  {
   "cell_type": "markdown",
   "id": "be52e352-c536-4d17-974e-df4834584224",
   "metadata": {},
   "source": [
    "### Putting them together"
   ]
  },
  {
   "cell_type": "code",
   "execution_count": 46,
   "id": "a70f537e-17fa-4127-b8cb-17b4772ef005",
   "metadata": {},
   "outputs": [
    {
     "data": {
      "text/plain": [
       "array(['DC21bcpi', 'DC21bicq', 'DC21bkrj', 'DC21bpls', 'DC21cove',\n",
       "       'DC21dhgr', 'DC21dqf', 'DC21dqik', 'DC21dtwb', 'DC21eqq',\n",
       "       'DC21fber', 'DC21gayy', 'DC21homb', 'DC21hunj', 'DC21ixp',\n",
       "       'DC21kog', 'DC21ktp', 'DC21kxb', 'DC21url', 'DC21wlm'], dtype='<U8')"
      ]
     },
     "execution_count": 46,
     "metadata": {},
     "output_type": "execute_result"
    }
   ],
   "source": [
    "# Create lists of the candidates that passed any test\n",
    "SNany = np.unique(np.concatenate([SNg,SNr,SNi]).flat)\n",
    "\n",
    "# Select the ones detected in at least two filters\n",
    "SNgr = [i for i in SNr if i in SNg]\n",
    "SNri = [i for i in SNr if i in SNi]\n",
    "SNgi = [i for i in SNg if i in SNi]\n",
    "SNgri = np.unique(np.concatenate([SNgr,SNri,SNgi]).flat)\n",
    "\n",
    "# And those found in all three\n",
    "SNgold = [i for i in SNgr if i in SNi] # Golden sample\n",
    "SNgri"
   ]
  },
  {
   "cell_type": "code",
   "execution_count": 47,
   "id": "637a2904-e108-477c-af7f-295fbefdbdc2",
   "metadata": {},
   "outputs": [
    {
     "data": {
      "text/plain": [
       "(83, 20, 7)"
      ]
     },
     "execution_count": 47,
     "metadata": {},
     "output_type": "execute_result"
    }
   ],
   "source": [
    "# How many do we have?\n",
    "len(SNany), len(SNgri), len(SNgold)"
   ]
  },
  {
   "cell_type": "markdown",
   "id": "c4b525b2-87aa-4df9-a11c-2f017454aca5",
   "metadata": {
    "tags": []
   },
   "source": [
    "### A closer look at these SNe"
   ]
  },
  {
   "cell_type": "markdown",
   "id": "5449f3f0-94e9-41bf-a1a2-f504377278b9",
   "metadata": {},
   "source": [
    "Note that while the filter program only sees detections w/ R/B > 0.6, this displays ALL detections"
   ]
  },
  {
   "cell_type": "code",
   "execution_count": 48,
   "id": "f7de05a0-1bc0-4505-9df0-7a764badf009",
   "metadata": {
    "tags": []
   },
   "outputs": [
    {
     "data": {
      "image/png": "[encoded data removed]",
      "text/plain": [
       "<Figure size 576x360 with 1 Axes>"
      ]
     },
     "metadata": {
      "needs_background": "light"
     },
     "output_type": "display_data"
    },
    {
     "data": {
      "image/png": "[encoded data removed]",
      "text/plain": [
       "<Figure size 576x360 with 1 Axes>"
      ]
     },
     "metadata": {
      "needs_background": "light"
     },
     "output_type": "display_data"
    },
    {
     "data": {
      "image/png": "[encoded data removed]",
      "text/plain": [
       "<Figure size 576x360 with 1 Axes>"
      ]
     },
     "metadata": {
      "needs_background": "light"
     },
     "output_type": "display_data"
    },
    {
     "data": {
      "image/png": "[encoded data removed]",
      "text/plain": [
       "<Figure size 576x360 with 1 Axes>"
      ]
     },
     "metadata": {
      "needs_background": "light"
     },
     "output_type": "display_data"
    },
    {
     "data": {
      "image/png": "[encoded data removed]",
      "text/plain": [
       "<Figure size 576x360 with 1 Axes>"
      ]
     },
     "metadata": {
      "needs_background": "light"
     },
     "output_type": "display_data"
    },
    {
     "data": {
      "image/png": "[encoded data removed]",
      "text/plain": [
       "<Figure size 576x360 with 1 Axes>"
      ]
     },
     "metadata": {
      "needs_background": "light"
     },
     "output_type": "display_data"
    },
    {
     "data": {
      "image/png": "[encoded data removed]",
      "text/plain": [
       "<Figure size 576x360 with 1 Axes>"
      ]
     },
     "metadata": {
      "needs_background": "light"
     },
     "output_type": "display_data"
    }
   ],
   "source": [
    "if field == \"COSMOS\": c = [\"darkgreen\",\"red\",\"brown\"]\n",
    "elif field == \"ELIAS\": c = [\"limegreen\",\"darkorange\",\"peru\"]\n",
    "\n",
    "# Plotting lightcurves for each potential SN\n",
    "for i in SNgold: # Passed in all 3\n",
    "# for i in [i for i in SNgri if i not in SNgold]: # Passed in only 2\n",
    "# for i in [i for i in SNany if i not in SNgri]: # Passed in only 1\n",
    "    query = ('SELECT c.id, e.mjd, o.mag, e.filter FROM objects o '\n",
    "             'JOIN candidates c ON c.id=o.candidate_id '\n",
    "             'JOIN subtractions s ON s.id=o.subtraction_id '\n",
    "             'JOIN exposures e ON e.id=s.exposure_id '\n",
    "            'WHERE c.id=%s ')\n",
    "    cursor.execute( query, (i, ) )\n",
    "    array = np.array(cursor.fetchall()).transpose()\n",
    "    rmsk = np.where(array[3]=='r')[0]\n",
    "    gmsk = np.where(array[3]=='g')[0]\n",
    "    imsk = np.where(array[3]=='i')[0]\n",
    "    \n",
    "    plt.figure(figsize=(8,5))\n",
    "    plt.scatter((array[1][gmsk]).astype(float), (array[2][gmsk]).astype(float), color=c[0], label='g')\n",
    "    plt.scatter((array[1][rmsk]).astype(float), (array[2][rmsk]).astype(float), color=c[1], label='r')\n",
    "    plt.scatter((array[1][imsk]).astype(float), (array[2][imsk]).astype(float), color=c[2], label='i')\n",
    "\n",
    "    plt.title(array[0][0])\n",
    "    plt.gca().invert_yaxis()\n",
    "    plt.legend()\n",
    "    plt.show()"
   ]
  },
  {
   "cell_type": "code",
   "execution_count": 49,
   "id": "800b87fe-50d6-40b6-ab8a-c888d843219d",
   "metadata": {
    "tags": []
   },
   "outputs": [],
   "source": [
    "### This cell pulls out the reference, science, and subtraction images for eack of the SNe the filter detected, for every good detection\n",
    "\n",
    "# for i in SNgri:\n",
    "#     query = ( 'SELECT cand.id, e.mjd,e.filename,e.filter,c.sci_jpeg,c.ref_jpeg,c.diff_jpeg FROM cutouts c '\n",
    "#               'INNER JOIN objects o ON c.object_id=o.id '\n",
    "#               'INNER JOIN candidates cand ON o.candidate_id=cand.id '\n",
    "#               'INNER JOIN subtractions s ON o.subtraction_id=s.id '\n",
    "#               'INNER JOIN exposures e ON s.exposure_id=e.id '\n",
    "#               'WHERE cand.id=%s '\n",
    "#               'AND o.rb>0.6 '\n",
    "#               'ORDER BY e.mjd '\n",
    "#               'LIMIT 3')\n",
    "#     cursor.execute( query, ( i, ) )\n",
    "#     for row in cursor:\n",
    "#         label = ipywidgets.HTML( f'<b>Candidate</b>{row[\"id\"]}<br><b>{row[\"filename\"]}</b><br><b>Filter:</b> {row[\"filter\"]}' )\n",
    "#         newimg = ipywidgets.Image( value=bytes(row[\"sci_jpeg\"]), width=102, height=102, format='jpeg' )\n",
    "#         refimg = ipywidgets.Image( value=bytes(row[\"ref_jpeg\"]), width=102, height=102, format='jpeg' )\n",
    "#         subimg = ipywidgets.Image( value=bytes(row[\"diff_jpeg\"]), width=102, height=102, format='jpeg' )\n",
    "#         box = ipywidgets.HBox( [ newimg, refimg, subimg, label ] )\n",
    "#         display( box )\n",
    "#     print(\"\")\n",
    "#     print(\"\")    \n",
    "#     print(\"\")    \n",
    "#     print(\"\")"
   ]
  },
  {
   "cell_type": "markdown",
   "id": "be2ac6b4-e38d-4132-812a-d615336a6c53",
   "metadata": {},
   "source": [
    "### Convenient coordinate printouts for TNS search https://www.wis-tns.org/"
   ]
  },
  {
   "cell_type": "code",
   "execution_count": 50,
   "id": "9361679e-be73-4a41-b7cf-0c7744ea8d7b",
   "metadata": {},
   "outputs": [],
   "source": [
    "# SNlist = SNgold # 3 passes\n",
    "SNlist = SNgri # >=2 passes\n",
    "# SNlist = SNany # >=1 passes\n",
    "# SNlist = [i for i in SNgri if i not in SNgold] # exactly 2 passes\n",
    "# SNlist = [i for i in SNany if i not in SNgri] # exactly 1 pass\n",
    "\n",
    "\n",
    "coordarr = np.empty( len( SNlist ), dtype=object )\n",
    "for i in range(len(SNlist)):\n",
    "    query = ('SELECT c.id, c.ra, c.dec FROM candidates c '\n",
    "            'WHERE c.id=%s ')\n",
    "    cursor.execute( query, (SNlist[i], ) )\n",
    "    coordarr[i] = cursor.fetchall()[0]"
   ]
  },
  {
   "cell_type": "code",
   "execution_count": 51,
   "id": "cc06744b-7764-4256-9987-7665c61cf25b",
   "metadata": {},
   "outputs": [
    {
     "name": "stdout",
     "output_type": "stream",
     "text": [
      "DC21bcpi\n",
      "151.076568049129 +2.67347244082796\n",
      "DC21bicq\n",
      "150.378328235109 +2.19651735991065\n",
      "DC21bkrj\n",
      "150.043978544436 +3.47660190275974\n",
      "DC21bpls\n",
      "149.300808259448 +2.094409454409\n",
      "DC21cove\n",
      "150.205260592532 +3.74323011868333\n",
      "DC21dhgr\n",
      "148.96669780135 +1.65455109542668\n",
      "DC21dqf\n",
      "149.936831200786 +2.14923495883583\n",
      "DC21dqik\n",
      "151.689426712647 +2.00556682067166\n",
      "DC21dtwb\n",
      "149.302770735739 +1.77949389263242\n",
      "DC21eqq\n",
      "150.42577440236 +3.40271753256201\n",
      "DC21fber\n",
      "149.045078531139 +3.17994689983373\n",
      "DC21gayy\n",
      "149.717118082649 +2.47704325443787\n",
      "DC21homb\n",
      "150.64824267531 +2.31492363575056\n",
      "DC21hunj\n",
      "150.372933776757 +2.44328182430186\n",
      "DC21ixp\n",
      "150.726849638736 +2.60341491739695\n",
      "DC21kog\n",
      "151.123031420262 +1.10577376817372\n",
      "DC21ktp\n",
      "149.385740426683 +2.8139035077278\n",
      "DC21kxb\n",
      "150.732358932859 +2.95252258401769\n",
      "DC21url\n",
      "149.786414460809 +1.61867805106367\n",
      "DC21wlm\n",
      "149.287406509256 +3.47954748489081\n"
     ]
    }
   ],
   "source": [
    "for i in coordarr:\n",
    "    print(i[0])\n",
    "    print(str(i[1]),\"+\"+str(i[2]))\n",
    "\n",
    "# ['DC21dqik']"
   ]
  },
  {
   "cell_type": "markdown",
   "id": "f931975d-0e7a-41e4-82fe-bdf24a497aa6",
   "metadata": {},
   "source": [
    "### What went wrong with those that passed in only one filter?"
   ]
  },
  {
   "cell_type": "code",
   "execution_count": 53,
   "id": "b3d96293-3b33-4d28-b62c-c4b20364e5d6",
   "metadata": {},
   "outputs": [
    {
     "data": {
      "text/html": [
       "<div>\n",
       "<style scoped>\n",
       "    .dataframe tbody tr th:only-of-type {\n",
       "        vertical-align: middle;\n",
       "    }\n",
       "\n",
       "    .dataframe tbody tr th {\n",
       "        vertical-align: top;\n",
       "    }\n",
       "\n",
       "    .dataframe thead th {\n",
       "        text-align: right;\n",
       "    }\n",
       "</style>\n",
       "<table border=\"1\" class=\"dataframe\">\n",
       "  <thead>\n",
       "    <tr style=\"text-align: right;\">\n",
       "      <th></th>\n",
       "      <th>g</th>\n",
       "      <th>r</th>\n",
       "      <th>i</th>\n",
       "    </tr>\n",
       "  </thead>\n",
       "  <tbody>\n",
       "    <tr>\n",
       "      <td>DC21bea</td>\n",
       "      <td>Passed</td>\n",
       "      <td>Double-peaked</td>\n",
       "      <td>Double-peaked</td>\n",
       "    </tr>\n",
       "    <tr>\n",
       "      <td>DC21bgms</td>\n",
       "      <td>Double-peaked</td>\n",
       "      <td>Passed</td>\n",
       "      <td>No data</td>\n",
       "    </tr>\n",
       "    <tr>\n",
       "      <td>DC21bwahz</td>\n",
       "      <td>No data</td>\n",
       "      <td>No data</td>\n",
       "      <td>Passed</td>\n",
       "    </tr>\n",
       "    <tr>\n",
       "      <td>DC21bwbfe</td>\n",
       "      <td>No data</td>\n",
       "      <td>No data</td>\n",
       "      <td>Passed</td>\n",
       "    </tr>\n",
       "    <tr>\n",
       "      <td>DC21bwcke</td>\n",
       "      <td>No data</td>\n",
       "      <td>No data</td>\n",
       "      <td>Passed</td>\n",
       "    </tr>\n",
       "    <tr>\n",
       "      <td>...</td>\n",
       "      <td>...</td>\n",
       "      <td>...</td>\n",
       "      <td>...</td>\n",
       "    </tr>\n",
       "    <tr>\n",
       "      <td>DC21xuy</td>\n",
       "      <td>Double-peaked</td>\n",
       "      <td>&lt;10 objs</td>\n",
       "      <td>Passed</td>\n",
       "    </tr>\n",
       "    <tr>\n",
       "      <td>DC21xyd</td>\n",
       "      <td>Passed</td>\n",
       "      <td>No data</td>\n",
       "      <td>Double-peaked</td>\n",
       "    </tr>\n",
       "    <tr>\n",
       "      <td>DC21ygx</td>\n",
       "      <td>Passed</td>\n",
       "      <td>Double-peaked</td>\n",
       "      <td>No data</td>\n",
       "    </tr>\n",
       "    <tr>\n",
       "      <td>DC21yn</td>\n",
       "      <td>Double-peaked</td>\n",
       "      <td>&lt;10 objs</td>\n",
       "      <td>Passed</td>\n",
       "    </tr>\n",
       "    <tr>\n",
       "      <td>DC21zlo</td>\n",
       "      <td>Passed</td>\n",
       "      <td>No data</td>\n",
       "      <td>No data</td>\n",
       "    </tr>\n",
       "  </tbody>\n",
       "</table>\n",
       "<p>63 rows × 3 columns</p>\n",
       "</div>"
      ],
      "text/plain": [
       "                       g              r              i\n",
       "DC21bea           Passed  Double-peaked  Double-peaked\n",
       "DC21bgms   Double-peaked         Passed        No data\n",
       "DC21bwahz        No data        No data         Passed\n",
       "DC21bwbfe        No data        No data         Passed\n",
       "DC21bwcke        No data        No data         Passed\n",
       "...                  ...            ...            ...\n",
       "DC21xuy    Double-peaked       <10 objs         Passed\n",
       "DC21xyd           Passed        No data  Double-peaked\n",
       "DC21ygx           Passed  Double-peaked        No data\n",
       "DC21yn     Double-peaked       <10 objs         Passed\n",
       "DC21zlo           Passed        No data        No data\n",
       "\n",
       "[63 rows x 3 columns]"
      ]
     },
     "execution_count": 53,
     "metadata": {},
     "output_type": "execute_result"
    }
   ],
   "source": [
    "# onefiltcands = SNgold # 3 passes\n",
    "# onefiltcands = SNgri # >=2 passes\n",
    "# onefiltcands = SNany # >=1 passes\n",
    "# onefiltcands = [i for i in SNgri if i not in SNgold] # exactly 2 passes\n",
    "onefiltcands = [i for i in SNany if i not in SNgri] # exactly 1 pass\n",
    "\n",
    "g = np.empty(len(onefiltcands))\n",
    "r = np.empty(len(onefiltcands))\n",
    "i = np.empty(len(onefiltcands))\n",
    "onefiltdf = pd.DataFrame(np.array([g,r,i]).transpose(), columns=[\"g\",\"r\",\"i\"], index=onefiltcands)\n",
    "\n",
    "for i in onefiltdf.index:\n",
    "    if i in cut4rg:\n",
    "        onefiltdf.loc[i,\"g\"] = \"Double-peaked\"\n",
    "    elif i in cut3rg:\n",
    "        onefiltdf.loc[i,\"g\"] = \"Too noisy\"\n",
    "    elif i in cut2rg:\n",
    "        onefiltdf.loc[i,\"g\"] = \"Too dim\"\n",
    "    elif i in cut1rg:\n",
    "        onefiltdf.loc[i,\"g\"] = \"<15 days\"\n",
    "    elif i in cut0rg:\n",
    "        onefiltdf.loc[i,\"g\"] = \"<10 objs\"\n",
    "    elif i in SNg:\n",
    "        onefiltdf.loc[i,\"g\"] = \"Passed\"\n",
    "    else:\n",
    "        onefiltdf.loc[i,\"g\"] = \"No data\"\n",
    "    if i in cut4rr:\n",
    "        onefiltdf.loc[i,\"r\"] = \"Double-peaked\"\n",
    "    elif i in cut3rr:\n",
    "        onefiltdf.loc[i,\"r\"] = \"Too noisy\"\n",
    "    elif i in cut2rr:\n",
    "        onefiltdf.loc[i,\"r\"] = \"Too dim\"\n",
    "    elif i in cut1rr:\n",
    "        onefiltdf.loc[i,\"r\"] = \"<15 days\"\n",
    "    elif i in cut0rr:\n",
    "        onefiltdf.loc[i,\"r\"] = \"<10 objs\"\n",
    "    elif i in SNr:\n",
    "        onefiltdf.loc[i,\"r\"] = \"Passed\"\n",
    "    else:\n",
    "        onefiltdf.loc[i,\"r\"] = \"No data\"\n",
    "    if i in cut4ri:\n",
    "        onefiltdf.loc[i,\"i\"] = \"Double-peaked\"\n",
    "    elif i in cut3ri:\n",
    "        onefiltdf.loc[i,\"i\"] = \"Too noisy\"\n",
    "    elif i in cut2ri:\n",
    "        onefiltdf.loc[i,\"i\"] = \"Too dim\"\n",
    "    elif i in cut1ri:\n",
    "        onefiltdf.loc[i,\"i\"] = \"<15 days\"\n",
    "    elif i in cut0ri:\n",
    "        onefiltdf.loc[i,\"i\"] = \"<10 objs\"\n",
    "    elif i in SNi:\n",
    "        onefiltdf.loc[i,\"i\"] = \"Passed\"\n",
    "    else:\n",
    "        onefiltdf.loc[i,\"i\"] = \"No data\"\n",
    "onefiltdf"
   ]
  },
  {
   "cell_type": "markdown",
   "id": "e208c34c-e3fc-46ad-b2b1-52c445535544",
   "metadata": {},
   "source": [
    "#### Reasons for failure along with plots:"
   ]
  },
  {
   "cell_type": "code",
   "execution_count": null,
   "id": "392aca45-06c1-474c-91ee-a265921377c3",
   "metadata": {
    "tags": []
   },
   "outputs": [
    {
     "name": "stdout",
     "output_type": "stream",
     "text": [
      "Reasons for failure:\n",
      "g           Passed\n",
      "r    Double-peaked\n",
      "i    Double-peaked\n",
      "Name: DC21bea, dtype: object\n"
     ]
    },
    {
     "data": {
      "image/png": "[encoded data removed]",
      "text/plain": [
       "<Figure size 576x360 with 1 Axes>"
      ]
     },
     "metadata": {
      "needs_background": "light"
     },
     "output_type": "display_data"
    },
    {
     "name": "stdout",
     "output_type": "stream",
     "text": [
      "Reasons for failure:\n",
      "g    Double-peaked\n",
      "r           Passed\n",
      "i          No data\n",
      "Name: DC21bgms, dtype: object\n"
     ]
    },
    {
     "data": {
      "image/png": "[encoded data removed]",
      "text/plain": [
       "<Figure size 576x360 with 1 Axes>"
      ]
     },
     "metadata": {
      "needs_background": "light"
     },
     "output_type": "display_data"
    },
    {
     "name": "stdout",
     "output_type": "stream",
     "text": [
      "Reasons for failure:\n",
      "g    No data\n",
      "r    No data\n",
      "i     Passed\n",
      "Name: DC21bwahz, dtype: object\n"
     ]
    },
    {
     "data": {
      "image/png": "[encoded data removed]",
      "text/plain": [
       "<Figure size 576x360 with 1 Axes>"
      ]
     },
     "metadata": {
      "needs_background": "light"
     },
     "output_type": "display_data"
    },
    {
     "name": "stdout",
     "output_type": "stream",
     "text": [
      "Reasons for failure:\n",
      "g    No data\n",
      "r    No data\n",
      "i     Passed\n",
      "Name: DC21bwbfe, dtype: object\n"
     ]
    },
    {
     "data": {
      "image/png": "[encoded data removed]",
      "text/plain": [
       "<Figure size 576x360 with 1 Axes>"
      ]
     },
     "metadata": {
      "needs_background": "light"
     },
     "output_type": "display_data"
    },
    {
     "name": "stdout",
     "output_type": "stream",
     "text": [
      "Reasons for failure:\n",
      "g    No data\n",
      "r    No data\n",
      "i     Passed\n",
      "Name: DC21bwcke, dtype: object\n"
     ]
    },
    {
     "data": {
      "image/png": "[encoded data removed]",
      "text/plain": [
       "<Figure size 576x360 with 1 Axes>"
      ]
     },
     "metadata": {
      "needs_background": "light"
     },
     "output_type": "display_data"
    },
    {
     "name": "stdout",
     "output_type": "stream",
     "text": [
      "Reasons for failure:\n",
      "g           Passed\n",
      "r    Double-peaked\n",
      "i          No data\n",
      "Name: DC21chy, dtype: object\n"
     ]
    },
    {
     "data": {
      "image/png": "[encoded data removed]",
      "text/plain": [
       "<Figure size 576x360 with 1 Axes>"
      ]
     },
     "metadata": {
      "needs_background": "light"
     },
     "output_type": "display_data"
    },
    {
     "name": "stdout",
     "output_type": "stream",
     "text": [
      "Reasons for failure:\n",
      "g    <15 days\n",
      "r     Too dim\n",
      "i      Passed\n",
      "Name: DC21cxou, dtype: object\n"
     ]
    },
    {
     "data": {
      "image/png": "[encoded data removed]",
      "text/plain": [
       "<Figure size 576x360 with 1 Axes>"
      ]
     },
     "metadata": {
      "needs_background": "light"
     },
     "output_type": "display_data"
    },
    {
     "name": "stdout",
     "output_type": "stream",
     "text": [
      "Reasons for failure:\n",
      "g      Passed\n",
      "r    <10 objs\n",
      "i     No data\n",
      "Name: DC21dmf, dtype: object\n"
     ]
    },
    {
     "data": {
      "image/png": "[encoded data removed]",
      "text/plain": [
       "<Figure size 576x360 with 1 Axes>"
      ]
     },
     "metadata": {
      "needs_background": "light"
     },
     "output_type": "display_data"
    },
    {
     "name": "stdout",
     "output_type": "stream",
     "text": [
      "Reasons for failure:\n",
      "g         <10 objs\n",
      "r    Double-peaked\n",
      "i           Passed\n",
      "Name: DC21dna, dtype: object\n"
     ]
    },
    {
     "data": {
      "image/png": "[encoded data removed]",
      "text/plain": [
       "<Figure size 576x360 with 1 Axes>"
      ]
     },
     "metadata": {
      "needs_background": "light"
     },
     "output_type": "display_data"
    },
    {
     "name": "stdout",
     "output_type": "stream",
     "text": [
      "Reasons for failure:\n",
      "g     Passed\n",
      "r    No data\n",
      "i    No data\n",
      "Name: DC21dqjw, dtype: object\n"
     ]
    },
    {
     "data": {
      "image/png": "[encoded data removed]",
      "text/plain": [
       "<Figure size 576x360 with 1 Axes>"
      ]
     },
     "metadata": {
      "needs_background": "light"
     },
     "output_type": "display_data"
    },
    {
     "name": "stdout",
     "output_type": "stream",
     "text": [
      "Reasons for failure:\n",
      "g     Passed\n",
      "r    No data\n",
      "i    No data\n",
      "Name: DC21dsnm, dtype: object\n"
     ]
    },
    {
     "data": {
      "image/png": "[encoded data removed]",
      "text/plain": [
       "<Figure size 576x360 with 1 Axes>"
      ]
     },
     "metadata": {
      "needs_background": "light"
     },
     "output_type": "display_data"
    },
    {
     "name": "stdout",
     "output_type": "stream",
     "text": [
      "Reasons for failure:\n",
      "g      Passed\n",
      "r    <10 objs\n",
      "i     No data\n",
      "Name: DC21dzay, dtype: object\n"
     ]
    },
    {
     "data": {
      "image/png": "[encoded data removed]",
      "text/plain": [
       "<Figure size 576x360 with 1 Axes>"
      ]
     },
     "metadata": {
      "needs_background": "light"
     },
     "output_type": "display_data"
    }
   ],
   "source": [
    "pd.set_option('display.max_rows', 500)\n",
    "\n",
    "for i in onefiltcands:\n",
    "    query = ('SELECT c.id, e.mjd, o.mag, e.filter FROM objects o '\n",
    "             'JOIN candidates c ON c.id=o.candidate_id '\n",
    "             'JOIN subtractions s ON s.id=o.subtraction_id '\n",
    "             'JOIN exposures e ON e.id=s.exposure_id '\n",
    "             'WHERE c.id=%s '\n",
    "             'AND o.rb>0.6')\n",
    "    cursor.execute( query, (i, ) )\n",
    "    array = np.array(cursor.fetchall()).transpose()\n",
    "    rmsk = np.where(array[3]=='r')[0]\n",
    "    gmsk = np.where(array[3]=='g')[0]\n",
    "    imsk = np.where(array[3]=='i')[0]\n",
    "    \n",
    "    plt.figure(figsize=(8,5))\n",
    "    plt.scatter((array[1][gmsk]).astype(float), (array[2][gmsk]).astype(float), color=c[0], label='g')\n",
    "    plt.scatter((array[1][rmsk]).astype(float), (array[2][rmsk]).astype(float), color=c[1], label='r')\n",
    "    plt.scatter((array[1][imsk]).astype(float), (array[2][imsk]).astype(float), color=c[2], label='i')\n",
    "\n",
    "    plt.title(array[0][0])\n",
    "    plt.gca().invert_yaxis()\n",
    "    plt.legend()\n",
    "    print(\"Reasons for failure:\")\n",
    "    print(onefiltdf.loc[i])\n",
    "    plt.show()"
   ]
  },
  {
   "cell_type": "code",
   "execution_count": null,
   "id": "19eaa7fc-924e-4fa8-b4a7-b159b0d6fe04",
   "metadata": {},
   "outputs": [],
   "source": []
  }
 ],
 "metadata": {
  "kernelspec": {
   "display_name": "Python 3",
   "language": "python",
   "name": "python3"
  },
  "language_info": {
   "codemirror_mode": {
    "name": "ipython",
    "version": 3
   },
   "file_extension": ".py",
   "mimetype": "text/x-python",
   "name": "python",
   "nbconvert_exporter": "python",
   "pygments_lexer": "ipython3",
   "version": "3.7.4"
  }
 },
 "nbformat": 4,
 "nbformat_minor": 5
}
