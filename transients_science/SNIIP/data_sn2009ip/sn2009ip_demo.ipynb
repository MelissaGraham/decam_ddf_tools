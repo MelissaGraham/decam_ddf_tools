{
 "cells": [
  {
   "cell_type": "markdown",
   "id": "919e50c5-b0fc-4996-bcf8-af34f33f5190",
   "metadata": {},
   "source": [
    "A demo of how to read in and plot photometry for SN2009ip."
   ]
  },
  {
   "cell_type": "code",
   "execution_count": 1,
   "id": "8695750d-c64e-4017-924d-fe03f876d9f5",
   "metadata": {
    "tags": []
   },
   "outputs": [],
   "source": [
    "import numpy as np\n",
    "import matplotlib.pyplot as plt\n",
    "from astropy.time import Time"
   ]
  },
  {
   "cell_type": "code",
   "execution_count": 2,
   "id": "74fb4c10-e8c0-4ef9-892f-66b3bb7560fb",
   "metadata": {
    "tags": []
   },
   "outputs": [],
   "source": [
    "fname = 'sn2009ip_photom.dat'"
   ]
  },
  {
   "cell_type": "markdown",
   "id": "eef8d11b-ec10-4af0-a5e3-7ff05cd1f5db",
   "metadata": {},
   "source": [
    "Read the data into separate arrays.\n",
    "\n",
    "Below, only the 2m data is read in b/c it is sufficient for a comparison with a DECam DDF potential SNII."
   ]
  },
  {
   "cell_type": "code",
   "execution_count": 3,
   "id": "6cd1c343-8eaa-43bf-a4f5-2cb7bf7b7051",
   "metadata": {
    "tags": []
   },
   "outputs": [],
   "source": [
    "SN09ip_year = np.loadtxt(fname, dtype='int', comments='#', skiprows=38, usecols=(0))\n",
    "SN09ip_month = np.loadtxt(fname, dtype='int', comments='#', skiprows=38, usecols=(1))\n",
    "SN09ip_day = np.loadtxt(fname, dtype='int', comments='#', skiprows=38, usecols=(2))\n",
    "\n",
    "SN09ip_g_2m_mag = np.loadtxt(fname, dtype='float', comments='#', skiprows=38, usecols=(3))\n",
    "SN09ip_g_2m_mage = np.loadtxt(fname, dtype='float', comments='#', skiprows=38, usecols=(4))\n",
    "SN09ip_r_2m_mag = np.loadtxt(fname, dtype='float', comments='#', skiprows=38, usecols=(5))\n",
    "SN09ip_r_2m_mage = np.loadtxt(fname, dtype='float', comments='#', skiprows=38, usecols=(6))\n",
    "SN09ip_i_2m_mag = np.loadtxt(fname, dtype='float', comments='#', skiprows=38, usecols=(7))\n",
    "SN09ip_i_2m_mage = np.loadtxt(fname, dtype='float', comments='#', skiprows=38, usecols=(8))\n",
    "\n",
    "# SN09ip_g_1m_mag = np.loadtxt(fname, dtype='float', comments='#', skiprows=38, usecols=(9))\n",
    "# SN09ip_g_1m_mage = np.loadtxt(fname, dtype='float', comments='#', skiprows=38, usecols=(10))\n",
    "# SN09ip_r_1m_mag = np.loadtxt(fname, dtype='float', comments='#', skiprows=38, usecols=(11))\n",
    "# SN09ip_r_1m_mage = np.loadtxt(fname, dtype='float', comments='#', skiprows=38, usecols=(12))\n",
    "# SN09ip_i_1m_mag = np.loadtxt(fname, dtype='float', comments='#', skiprows=38, usecols=(13))\n",
    "# SN09ip_i_1m_mage = np.loadtxt(fname, dtype='float', comments='#', skiprows=38, usecols=(14))\n",
    "# SN09ip_z_1m_mag = np.loadtxt(fname, dtype='float', comments='#', skiprows=38, usecols=(15))\n",
    "# SN09ip_z_1m_mage = np.loadtxt(fname, dtype='float', comments='#', skiprows=38, usecols=(16))\n",
    "# SN09ip_U_1m_mag = np.loadtxt(fname, dtype='float', comments='#', skiprows=38, usecols=(17))\n",
    "# SN09ip_U_1m_mage = np.loadtxt(fname, dtype='float', comments='#', skiprows=38, usecols=(18))\n",
    "# SN09ip_B_1m_mag = np.loadtxt(fname, dtype='float', comments='#', skiprows=38, usecols=(19))\n",
    "# SN09ip_B_1m_mage = np.loadtxt(fname, dtype='float', comments='#', skiprows=38, usecols=(20))\n",
    "# SN09ip_V_1m_mag = np.loadtxt(fname, dtype='float', comments='#', skiprows=38, usecols=(21))\n",
    "# SN09ip_V_1m_mage = np.loadtxt(fname, dtype='float', comments='#', skiprows=38, usecols=(22))\n",
    "# SN09ip_R_1m_mag = np.loadtxt(fname, dtype='float', comments='#', skiprows=38, usecols=(23))\n",
    "# SN09ip_R_1m_mage = np.loadtxt(fname, dtype='float', comments='#', skiprows=38, usecols=(24))\n",
    "# SN09ip_I_1m_mag = np.loadtxt(fname, dtype='float', comments='#', skiprows=38, usecols=(25))\n",
    "# SN09ip_I_1m_mage = np.loadtxt(fname, dtype='float', comments='#', skiprows=38, usecols=(26))"
   ]
  },
  {
   "cell_type": "markdown",
   "id": "9c4ca412-b946-4ada-9609-40af6c3555be",
   "metadata": {},
   "source": [
    "Convert calendar dates to MJD.\n",
    "\n",
    "String format for the Time function: '2010-01-01T00:00:00'"
   ]
  },
  {
   "cell_type": "code",
   "execution_count": 4,
   "id": "b8f9b907-ec4f-44e6-b593-4ed640050aeb",
   "metadata": {
    "tags": []
   },
   "outputs": [],
   "source": [
    "temp = []\n",
    "\n",
    "for i in range(len(SN09ip_year)):\n",
    "    s = str(SN09ip_year[i]) + '-' + str(SN09ip_month[i]) + '-' + str(SN09ip_day[i]) + 'T00:00:00'\n",
    "    t = Time(s, format='isot', scale='utc')\n",
    "    temp.append(t.mjd)\n",
    "\n",
    "SN09ip_mjd = np.asarray(temp, dtype='float')"
   ]
  },
  {
   "cell_type": "markdown",
   "id": "9394bcae-b71e-4111-84d7-decc61668fbc",
   "metadata": {},
   "source": [
    "Plot the light curve of SN 2009ip (skipped error bars & legend for this demo).\n",
    "\n",
    "It won't be necessary to use all of the data. Just the points from the 2m Faulks telescope would be sufficient for comparing to potential DECam DDF SNII."
   ]
  },
  {
   "cell_type": "code",
   "execution_count": 5,
   "id": "051bb261-21a7-4555-ad89-b1b95638b17a",
   "metadata": {
    "tags": []
   },
   "outputs": [
    {
     "data": {
      "image/png": "[encoded data removed]",
      "text/plain": [
       "<Figure size 800x500 with 1 Axes>"
      ]
     },
     "metadata": {},
     "output_type": "display_data"
    }
   ],
   "source": [
    "fig = plt.figure(figsize=(8, 5))\n",
    "\n",
    "tx = np.where(SN09ip_g_2m_mag < 90)[0]\n",
    "plt.plot(SN09ip_mjd[tx], SN09ip_g_2m_mag[tx], 'o', alpha=0.5, mew=0, color='green')\n",
    "tx = np.where(SN09ip_r_2m_mag < 90)[0]\n",
    "plt.plot(SN09ip_mjd[tx], SN09ip_r_2m_mag[tx], 'o', alpha=0.5, mew=0, color='red') \n",
    "tx = np.where(SN09ip_i_2m_mag < 90)[0]\n",
    "plt.plot(SN09ip_mjd[tx], SN09ip_i_2m_mag[tx], 'o', alpha=0.5, mew=0, color='blue')\n",
    "\n",
    "# tx = np.where(SN09ip_g_1m_mag < 90)[0]\n",
    "# plt.plot(SN09ip_mjd[tx], SN09ip_g_1m_mag[tx], 's', alpha=0.5, mew=0, color='green')\n",
    "# tx = np.where(SN09ip_r_1m_mag < 90)[0]\n",
    "# plt.plot(SN09ip_mjd[tx], SN09ip_r_1m_mag[tx], 's', alpha=0.5, mew=0, color='red')\n",
    "# tx = np.where(SN09ip_i_1m_mag < 90)[0]\n",
    "# plt.plot(SN09ip_mjd[tx], SN09ip_i_1m_mag[tx], 's', alpha=0.5, mew=0, color='blue')\n",
    "\n",
    "# tx = np.where(SN09ip_z_1m_mag < 90)[0]\n",
    "# plt.plot(SN09ip_mjd[tx], SN09ip_z_1m_mag[tx], 's', alpha=0.5, mew=0, color='brown')\n",
    "# tx = np.where(SN09ip_U_1m_mag < 90)[0]\n",
    "# plt.plot(SN09ip_mjd[tx], SN09ip_U_1m_mag[tx], '*', alpha=0.5, mew=0, color='darkviolet')\n",
    "# tx = np.where(SN09ip_B_1m_mag < 90)[0]\n",
    "# plt.plot(SN09ip_mjd[tx], SN09ip_B_1m_mag[tx], '*', alpha=0.5, mew=0, color='cyan')\n",
    "# tx = np.where(SN09ip_V_1m_mag < 90)[0]\n",
    "# plt.plot(SN09ip_mjd[tx], SN09ip_V_1m_mag[tx], '*', alpha=0.5, mew=0, color='lightgreen')\n",
    "# tx = np.where(SN09ip_R_1m_mag < 90)[0]\n",
    "# plt.plot(SN09ip_mjd[tx], SN09ip_R_1m_mag[tx], '*', alpha=0.5, mew=0, color='red')\n",
    "# tx = np.where(SN09ip_I_1m_mag < 90)[0]\n",
    "# plt.plot(SN09ip_mjd[tx], SN09ip_I_1m_mag[tx], '*', alpha=0.5, mew=0, color='blue')\n",
    "\n",
    "plt.xlim([56190, 56300])\n",
    "plt.ylim([19,13.3])\n",
    "plt.show()"
   ]
  },
  {
   "cell_type": "code",
   "execution_count": null,
   "id": "86571df7-d253-4cfe-ae82-4cb43c225d10",
   "metadata": {},
   "outputs": [],
   "source": []
  }
 ],
 "metadata": {
  "kernelspec": {
   "display_name": "NERSC Python",
   "language": "python",
   "name": "python3"
  },
  "language_info": {
   "codemirror_mode": {
    "name": "ipython",
    "version": 3
   },
   "file_extension": ".py",
   "mimetype": "text/x-python",
   "name": "python",
   "nbconvert_exporter": "python",
   "pygments_lexer": "ipython3",
   "version": "3.11.7"
  }
 },
 "nbformat": 4,
 "nbformat_minor": 5
}
