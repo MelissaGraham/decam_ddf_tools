{
 "cells": [
  {
   "cell_type": "markdown",
   "id": "9b4d3877-d462-4823-b86e-a16f26c41abc",
   "metadata": {},
   "source": [
    "This notebook examines correlations between sky factors (moon distance, moon illumination, seeing, zero-point magnitude, limiting magnitude, and skysig) and the number of \"good\" (R/B > 0.6) object detections per exposure."
   ]
  },
  {
   "cell_type": "code",
   "execution_count": null,
   "id": "80ed67d9-3f21-4ce3-bf1c-a3ead1da8444",
   "metadata": {},
   "outputs": [],
   "source": [
    "# Logging in and connecting to the database\n",
    "import psycopg2\n",
    "import psycopg2.extras\n",
    "import getpass\n",
    "\n",
    "# Plotting\n",
    "import matplotlib.pyplot as plt\n",
    "import matplotlib as mpl\n",
    "\n",
    "# Finding moon separation\n",
    "from astropy.time import Time\n",
    "from astropy.coordinates import get_moon, GCRS\n",
    "import astropy.units as u\n",
    "\n",
    "# Math\n",
    "import numpy as np\n",
    "import pandas as pd\n",
    "\n",
    "# Custom\n",
    "from decam_utils import rm_dupes, plotlc"
   ]
  },
  {
   "cell_type": "code",
   "execution_count": null,
   "id": "9054ee47-d11a-40c0-961b-49a2aaf3e35f",
   "metadata": {},
   "outputs": [],
   "source": [
    "font = {'size'   : 15}\n",
    "\n",
    "mpl.rc('font', **font)\n",
    "\n",
    "# For the three-panel figures, the dimensions of each row\n",
    "figwidth = 15\n",
    "figheight = 4\n",
    "lfs = 13 # legend font size\n",
    "\n",
    "dotsize = 50 # Marker size for scatterplots\n",
    "a = 0.2 # Alpha value"
   ]
  },
  {
   "cell_type": "code",
   "execution_count": null,
   "id": "ae30df57-65f7-40d9-b2c3-a8679aa7bb94",
   "metadata": {},
   "outputs": [],
   "source": [
    "dbuser = input(\"DB User: \")\n",
    "dbpasswd = getpass.getpass(\"DB Password: \")\n",
    "\n",
    "db = psycopg2.connect(f\"dbname='decat' user='{dbuser}' password='{dbpasswd}' host='decatdb.lbl.gov'\")\n",
    "\n",
    "db.autocommit = True # Makes the computer more forgiving about SQL syntax errors\n",
    "\n",
    "cursor = db.cursor( cursor_factory = psycopg2.extras.DictCursor )"
   ]
  },
  {
   "cell_type": "markdown",
   "id": "95f0618e-4ce5-4392-92ec-be18a8838e59",
   "metadata": {
    "tags": []
   },
   "source": [
    "#### How does moon illumination affect the number of good detections per image? (uses lookup table 'moondata.txt') (COSMOS & ELIAS)"
   ]
  },
  {
   "cell_type": "code",
   "execution_count": null,
   "id": "6ae13ddf-85b8-4047-87f1-b96f966ea882",
   "metadata": {},
   "outputs": [],
   "source": [
    "query = ( 'SELECT o.candidate_id, e.filename, e.filter, rbs.rb FROM objects o '\n",
    "         'JOIN subtractions s ON o.subtraction_id=s.id '\n",
    "         'JOIN exposures e ON e.id=s.exposure_id '\n",
    "         'JOIN objectrbs as rbs ON o.id=rbs.object_id AND rbs.rbtype_id=1 '\n",
    "         'WHERE q3c_radial_query(o.ra,o.dec,150,2.2,3) ' \n",
    "         'AND rbs.rb>0.6 '\n",
    "         'AND e.mjd < 59377 '\n",
    "         'LIMIT 10000000' )\n",
    "\n",
    "cursor.execute( query )\n",
    "\n",
    "moonquery2 = np.array( cursor.fetchall() ).transpose()\n",
    "\n",
    "query = ( 'SELECT o.candidate_id, e.filename, e.filter, rbs.rb FROM objects o '\n",
    "         'JOIN subtractions s ON o.subtraction_id=s.id '\n",
    "         'JOIN exposures e ON e.id=s.exposure_id '\n",
    "         'JOIN objectrbs as rbs ON o.id=rbs.object_id AND rbs.rbtype_id=1 '\n",
    "         'WHERE q3c_radial_query(o.ra,o.dec,8.5,-43.5,3) '\n",
    "         'AND rbs.rb > 0.6 '\n",
    "         'AND e.mjd < 59377 '\n",
    "         'LIMIT 10000000' )\n",
    "\n",
    "cursor.execute( query )\n",
    "\n",
    "ELIASillum = np.array( cursor.fetchall() ).transpose()"
   ]
  },
  {
   "cell_type": "code",
   "execution_count": null,
   "id": "b5b53e21-f496-48ad-aa0c-7452e239a84d",
   "metadata": {},
   "outputs": [],
   "source": [
    "# Removing duplicate objects\n",
    "moonquery2 = rm_dupes(moonquery2)\n",
    "ELIASillum = rm_dupes(ELIASillum)"
   ]
  },
  {
   "cell_type": "code",
   "execution_count": null,
   "id": "7de74199-86df-4b5e-9e33-2e241fadddb5",
   "metadata": {},
   "outputs": [],
   "source": [
    "# truncate filenames to match lookup table format\n",
    "fnms = [ moonquery2[1][i][:21] for i in range( len( moonquery2[1] ) ) ]\n",
    "\n",
    "# count the number of objects in each image (obsperimg) and create a mask to select the data for each of those exposures only once (index)\n",
    "cands, index, objsperimg = np.unique( moonquery2[1], return_index=True, return_counts=True )\n",
    "\n",
    "# load in the lookup table\n",
    "moonlt = np.loadtxt( \"moondata.txt\", dtype=np.str ).transpose()\n",
    "\n",
    "fnms = np.array( fnms )[index]\n",
    "\n",
    "# create an array of moon illuminations by matching the filenames in the query result to the filenames in the lookup table\n",
    "illum = np.ones( len( fnms ) )\n",
    "for i in range( len( fnms ) ):\n",
    "    illum[i] = moonlt[2][ np.where( fnms[i] == moonlt[0] )[0] ]"
   ]
  },
  {
   "cell_type": "code",
   "execution_count": null,
   "id": "a62847cc-46c2-4a9d-bbb6-271fe0a220da",
   "metadata": {},
   "outputs": [],
   "source": [
    "# read in the exposure time lookup table\n",
    "lutable = np.loadtxt(\"archive_image_list.txt\", dtype=object).transpose()\n",
    "fnmtable, exptable = lutable[0], lutable[7].astype(float)\n",
    "\n",
    "# find the exposure time for each object\n",
    "exptimes = np.array([exptable[np.where(fnms[i] == fnmtable)[0]][0] for i in range(len(fnms))], dtype=float)"
   ]
  },
  {
   "cell_type": "code",
   "execution_count": null,
   "id": "d53141fd-e3af-42f2-ad81-6334466a1176",
   "metadata": {},
   "outputs": [],
   "source": [
    "# Eliminate objects from non-standard images\n",
    "filters = np.array( moonquery2[2] )[index]\n",
    "\n",
    "gmsk = np.where((filters==\"g\") & (exptimes>50))[0]\n",
    "rmsk = np.where((filters==\"r\") & (exptimes>20))[0]\n",
    "imsk = np.where((filters==\"i\") & (exptimes>20))[0]\n",
    "\n",
    "grmsk = np.append(rmsk, gmsk)\n",
    "grimsk = np.append(grmsk, imsk)\n",
    "\n",
    "# apply the standard images mask\n",
    "filters = filters[grimsk]\n",
    "illum = illum[grimsk]\n",
    "objsperimg = objsperimg[grimsk]"
   ]
  },
  {
   "cell_type": "code",
   "execution_count": null,
   "id": "427292d7-2ed1-4040-bc7f-9dcd4c300e4c",
   "metadata": {},
   "outputs": [],
   "source": [
    "# Create masks for different filters\n",
    "gmsk = np.where( filters=='g' )[0]\n",
    "rmsk = np.where( filters=='r' )[0]\n",
    "imsk = np.where( filters=='i' )[0]\n",
    "\n",
    "# Apply those filters and spread the data points out a bit\n",
    "gill, opig_ill = illum[gmsk]+0.025*np.random.rand(len(gmsk)), objsperimg[gmsk] \n",
    "rill, opir_ill = illum[rmsk]+0.025*np.random.rand(len(rmsk)), objsperimg[rmsk] \n",
    "iill, opii_ill = illum[imsk]+0.025*np.random.rand(len(imsk)), objsperimg[imsk] "
   ]
  },
  {
   "cell_type": "code",
   "execution_count": null,
   "id": "a3b78762-233c-4783-857b-58c4d6fc0300",
   "metadata": {},
   "outputs": [],
   "source": [
    "# truncate filenames to match lookup table format\n",
    "fnms = [ ELIASillum[1][i][:21] for i in range( len( ELIASillum[1] ) ) ]\n",
    "\n",
    "# count the number of objects in each image (obsperimg) and create a mask to select the data for each of those exposures only once (index)\n",
    "cands, index, objsperimg = np.unique( ELIASillum[1], return_index=True, return_counts=True )\n",
    "\n",
    "# load in the lookup table\n",
    "moonlt = np.loadtxt( \"moondata.txt\", dtype=np.str ).transpose()\n",
    "\n",
    "fnms = np.array( fnms )[index]\n",
    "\n",
    "# create an array of moon illuminations by matching the filenames in the query result to the filenames in the lookup table\n",
    "illum = np.ones( len( fnms ) )\n",
    "for i in range( len( fnms ) ):\n",
    "    illum[i] = moonlt[2][ np.where( fnms[i] == moonlt[0] )[0] ]"
   ]
  },
  {
   "cell_type": "code",
   "execution_count": null,
   "id": "3651effe-66fa-43f8-9ead-971a3d039e46",
   "metadata": {},
   "outputs": [],
   "source": [
    "# read in the exposure time lookup table\n",
    "lutable = np.loadtxt(\"archive_image_list.txt\", dtype=object).transpose()\n",
    "fnmtable, exptable = lutable[0], lutable[7].astype(float)\n",
    "\n",
    "# find the exposure time for each object\n",
    "exptimes = np.array([exptable[np.where(fnms[i] == fnmtable)[0]][0] for i in range(len(fnms))], dtype=float)"
   ]
  },
  {
   "cell_type": "code",
   "execution_count": null,
   "id": "9df2db96-0554-4dd0-8647-8ff3251c9284",
   "metadata": {},
   "outputs": [],
   "source": [
    "# Eliminate objects from non-standard images\n",
    "filters = np.array( ELIASillum[2] )[index]\n",
    "\n",
    "gmsk = np.where((filters==\"g\") & (exptimes>50))[0]\n",
    "rmsk = np.where((filters==\"r\") & (exptimes>20))[0]\n",
    "imsk = np.where((filters==\"i\") & (exptimes>20))[0]\n",
    "\n",
    "grmsk = np.append(rmsk, gmsk)\n",
    "grimsk = np.append(grmsk, imsk)\n",
    "\n",
    "# apply the standard images mask\n",
    "filters = filters[grimsk]\n",
    "illum = illum[grimsk]\n",
    "objsperimg = objsperimg[grimsk]"
   ]
  },
  {
   "cell_type": "code",
   "execution_count": null,
   "id": "e5ba7602-c0c1-44fc-8e69-c240781a342d",
   "metadata": {},
   "outputs": [],
   "source": [
    "# Create masks for different filters\n",
    "gmsk = np.where( filters=='g' )[0]\n",
    "rmsk = np.where( filters=='r' )[0]\n",
    "imsk = np.where( filters=='i' )[0]\n",
    "\n",
    "Egill, Eopig_ill = illum[gmsk]+0.025*np.random.rand(len(gmsk)), objsperimg[gmsk] \n",
    "Erill, Eopir_ill = illum[rmsk]+0.025*np.random.rand(len(rmsk)), objsperimg[rmsk] \n",
    "Eiill, Eopii_ill = illum[imsk]+0.025*np.random.rand(len(imsk)), objsperimg[imsk] "
   ]
  },
  {
   "cell_type": "code",
   "execution_count": null,
   "id": "dd7ea7fa-afdc-4902-a0ae-6a2d1b47cd55",
   "metadata": {},
   "outputs": [],
   "source": [
    "# Plotting it\n",
    "fig, ax = plt.subplots(1,3, figsize = (figwidth,figheight))\n",
    "\n",
    "ax[0].scatter( gill, opig_ill, color='darkgreen', label='COSMOS', s=dotsize, alpha=a, edgecolors='none' )\n",
    "ax[0].scatter( Egill, Eopig_ill, color='limegreen', label='ELIAS', s=dotsize, alpha=a, edgecolors='none' )\n",
    "ax[1].scatter( rill, opir_ill, color='red', label='COSMOS', s=dotsize, alpha=a, edgecolors='none' )\n",
    "ax[1].scatter( Erill, Eopir_ill, color='darkorange', label='ELIAS', s=dotsize, alpha=a, edgecolors='none' )\n",
    "ax[2].scatter( iill, opii_ill, color='brown', label='COSMOS', s=dotsize, alpha=a, edgecolors='none' )\n",
    "ax[2].scatter( Eiill, Eopii_ill, color='peru', label='ELIAS', s=dotsize, alpha=a, edgecolors='none' )\n",
    "\n",
    "for i in ax:\n",
    "    i.set_xlabel( 'Moon Illumination Fraction' )\n",
    "#     i.legend(fontsize=lfs)\n",
    "ax[0].set_ylabel( 'Sources (R/B>0.6) Per Image' )\n",
    "plt.tight_layout()\n",
    "plt.savefig(\"./images/moonillVopi_COSMOS\");"
   ]
  },
  {
   "cell_type": "markdown",
   "id": "691939ad-225f-464d-9421-d214c7448956",
   "metadata": {},
   "source": [
    "#### How does seeing affect the number of good detections? (COSMOS & ELIAS)"
   ]
  },
  {
   "cell_type": "code",
   "execution_count": null,
   "id": "7ae4bd4c-cead-4906-af65-f197bfb147ce",
   "metadata": {},
   "outputs": [],
   "source": [
    "query = ( 'SELECT o.id, e.filename, s.seeing, e.filter, e.id, o.candidate_id, rbs.rb FROM objects o '\n",
    "         'JOIN subtractions s ON o.subtraction_id=s.id '\n",
    "         'JOIN exposures e ON e.id=s.exposure_id '\n",
    "         'JOIN objectrbs as rbs ON o.id=rbs.object_id AND rbs.rbtype_id=1 '\n",
    "         'WHERE q3c_radial_query(o.ra,o.dec,150,2.2,3) ' \n",
    "         'AND rbs.rb > 0.6 '\n",
    "         'AND e.mjd < 59377 '\n",
    "         'LIMIT 10000000' )\n",
    "\n",
    "cursor.execute( query )\n",
    "\n",
    "seeingquery = np.array( cursor.fetchall() ).transpose()\n",
    "\n",
    "query = ( 'SELECT o.id, e.filename, s.seeing, e.filter, e.id, o.candidate_id, rbs.rb FROM objects o '\n",
    "         'JOIN subtractions s ON o.subtraction_id=s.id '\n",
    "         'JOIN exposures e ON e.id=s.exposure_id '\n",
    "         'JOIN objectrbs as rbs ON o.id=rbs.object_id AND rbs.rbtype_id=1 '\n",
    "         'WHERE q3c_radial_query(o.ra,o.dec,8.5,-43.5,3) '\n",
    "         'AND rbs.rb > 0.6 '\n",
    "         'AND e.mjd < 59377 '\n",
    "         'LIMIT 10000000' )\n",
    "\n",
    "cursor.execute( query )\n",
    "\n",
    "Eseeingquery = np.array( cursor.fetchall() ).transpose()"
   ]
  },
  {
   "cell_type": "code",
   "execution_count": null,
   "id": "62d70a41-ef47-4a10-9e00-b089856f37b6",
   "metadata": {},
   "outputs": [],
   "source": [
    "seeingquery = rm_dupes(seeingquery, 0)\n",
    "Eseeingquery = rm_dupes(Eseeingquery, 0)"
   ]
  },
  {
   "cell_type": "code",
   "execution_count": null,
   "id": "394a4f57-075f-44bf-a5ae-2a1af26c028f",
   "metadata": {},
   "outputs": [],
   "source": [
    "expids = seeingquery[4].astype(np.int)\n",
    "seeing = seeingquery[2].astype(np.float)\n",
    "\n",
    "# Determine which exposure IDs are present\n",
    "# expids_unique = np.unique(expids)\n",
    "expids_unique, indices, objperimg = np.unique( seeingquery[4], return_counts=True, return_index=True )\n",
    "\n",
    "\n",
    "# Find the average seeing for each exposure\n",
    "seeing = np.array( [np.median( seeing[np.where( expids == i )[0]] ) for i in expids_unique.astype(float)] )"
   ]
  },
  {
   "cell_type": "code",
   "execution_count": null,
   "id": "651f2d9d-5605-4da0-a6e5-07700b2eea28",
   "metadata": {},
   "outputs": [],
   "source": [
    "# determine how many objects are in each exposure, and create an array of filters resized in the same way\n",
    "exp, indices, objperimg = np.unique( seeingquery[4], return_counts=True, return_index=True )\n",
    "filters = np.array(seeingquery[3][indices])\n",
    "fnms = seeingquery[1][indices]"
   ]
  },
  {
   "cell_type": "code",
   "execution_count": null,
   "id": "46812624-e6e4-46e6-90f1-13f00fa2bf22",
   "metadata": {},
   "outputs": [],
   "source": [
    "# truncate filenames to match lookup table format\n",
    "fnms = [fnms[i][:21] for i in range(len(fnms))]\n",
    "\n",
    "# read in the exposure time lookup table\n",
    "lutable = np.loadtxt(\"archive_image_list.txt\", dtype=object).transpose()\n",
    "fnmtable, exptable = lutable[0], lutable[7].astype(float)\n",
    "\n",
    "# find the exposure time for each object\n",
    "exptimes = np.array([exptable[np.where(fnms[i] == fnmtable)[0]][0] for i in range(len(fnms))], dtype=float)"
   ]
  },
  {
   "cell_type": "code",
   "execution_count": null,
   "id": "f8b019e5-2ba7-4726-a8a0-84e8e07382e8",
   "metadata": {},
   "outputs": [],
   "source": [
    "# Eliminate objects from non-standard images\n",
    "gmsk = np.where((filters==\"g\") & (exptimes>50))[0]\n",
    "rmsk = np.where((filters==\"r\") & (exptimes>20))[0]\n",
    "imsk = np.where((filters==\"i\") & (exptimes>20))[0]\n",
    "\n",
    "grmsk = np.append(rmsk, gmsk)\n",
    "grimsk = np.append(grmsk, imsk)\n",
    "\n",
    "# apply the standard images mask\n",
    "seeing = seeing[grimsk]\n",
    "objperimg = objperimg[grimsk]\n",
    "filters = filters[grimsk]\n",
    "len(grimsk)"
   ]
  },
  {
   "cell_type": "code",
   "execution_count": null,
   "id": "e33678b3-0923-4b2e-abe9-723a9308ca85",
   "metadata": {},
   "outputs": [],
   "source": [
    "# Creating masks for each filter\n",
    "gmsk = np.where( filters == 'g' )[0]\n",
    "rmsk = np.where( filters == 'r' )[0]\n",
    "imsk = np.where( filters == 'i' )[0]\n",
    "\n",
    "gsee, opig_see = seeing[gmsk], objperimg[gmsk]\n",
    "rsee, opir_see = seeing[rmsk], objperimg[rmsk]\n",
    "isee, opii_see = seeing[imsk], objperimg[imsk]"
   ]
  },
  {
   "cell_type": "code",
   "execution_count": null,
   "id": "47f4558f-f7bf-48d8-ab13-f4d3d9320cc3",
   "metadata": {},
   "outputs": [],
   "source": [
    "expids = Eseeingquery[4].astype(np.int)\n",
    "seeing = Eseeingquery[2].astype(np.float)\n",
    "\n",
    "# Determine which exposure IDs are present\n",
    "# expids_unique = np.unique(expids)\n",
    "expids_unique, indices, objperimg = np.unique( Eseeingquery[4], return_counts=True, return_index=True )\n",
    "\n",
    "\n",
    "# Find the average seeing for each exposure\n",
    "seeing = np.array( [np.median( seeing[np.where( expids == i )[0]] ) for i in expids_unique.astype(float)] )"
   ]
  },
  {
   "cell_type": "code",
   "execution_count": null,
   "id": "a36581e0-97de-4bd1-b48b-e537f52f2dd9",
   "metadata": {},
   "outputs": [],
   "source": [
    "# determine how many objects are in each exposure, and create an array of filters resized in the same way\n",
    "exp, indices, objperimg = np.unique( Eseeingquery[4], return_counts=True, return_index=True )\n",
    "filters = np.array(Eseeingquery[3][indices])\n",
    "fnms = Eseeingquery[1][indices]"
   ]
  },
  {
   "cell_type": "code",
   "execution_count": null,
   "id": "d9dda200-a89f-442c-962a-97ee967a6412",
   "metadata": {},
   "outputs": [],
   "source": [
    "# truncate filenames to match lookup table format\n",
    "fnms = [fnms[i][:21] for i in range(len(fnms))]\n",
    "\n",
    "# read in the exposure time lookup table\n",
    "lutable = np.loadtxt(\"archive_image_list.txt\", dtype=object).transpose()\n",
    "fnmtable, exptable = lutable[0], lutable[7].astype(float)\n",
    "\n",
    "# find the exposure time for each object\n",
    "exptimes = np.array([exptable[np.where(fnms[i] == fnmtable)[0]][0] for i in range(len(fnms))], dtype=float)"
   ]
  },
  {
   "cell_type": "code",
   "execution_count": null,
   "id": "7cf1de4e-ea43-47c6-873d-758a8abb108b",
   "metadata": {},
   "outputs": [],
   "source": [
    "# Eliminate objects from non-standard images\n",
    "gmsk = np.where((filters==\"g\") & (exptimes>50))[0]\n",
    "rmsk = np.where((filters==\"r\") & (exptimes>20))[0]\n",
    "imsk = np.where((filters==\"i\") & (exptimes>20))[0]\n",
    "\n",
    "grmsk = np.append(rmsk, gmsk)\n",
    "grimsk = np.append(grmsk, imsk)\n",
    "\n",
    "# apply the standard images mask\n",
    "seeing = seeing[grimsk]\n",
    "objperimg = objperimg[grimsk]\n",
    "filters = filters[grimsk]\n",
    "len(grimsk)"
   ]
  },
  {
   "cell_type": "code",
   "execution_count": null,
   "id": "ab94963f-e1ab-40ee-a0b7-d9d7206e6572",
   "metadata": {},
   "outputs": [],
   "source": [
    "# Creating masks for each filter\n",
    "gmsk = np.where( filters == 'g' )[0]\n",
    "rmsk = np.where( filters == 'r' )[0]\n",
    "imsk = np.where( filters == 'i' )[0]\n",
    "\n",
    "Egsee, Eopig_see = seeing[gmsk], objperimg[gmsk]\n",
    "Ersee, Eopir_see = seeing[rmsk], objperimg[rmsk]\n",
    "Eisee, Eopii_see = seeing[imsk], objperimg[imsk]"
   ]
  },
  {
   "cell_type": "code",
   "execution_count": null,
   "id": "3225c1bb-fb8b-4324-808b-feb57b2a3fc0",
   "metadata": {},
   "outputs": [],
   "source": [
    "# Plotting it all up\n",
    "fig, ax = plt.subplots(1,3, figsize=(figwidth, figheight), sharex=True)\n",
    "ax[0].xaxis.set_tick_params(which='both', labelbottom=True)\n",
    "ax[1].xaxis.set_tick_params(which='both', labelbottom=True)\n",
    "\n",
    "ax[0].scatter( gsee, opig_see, color='darkgreen', s=dotsize, alpha=a, edgecolors='none')\n",
    "ax[0].scatter( Egsee, Eopig_see, color='limegreen', s=dotsize, alpha=a, edgecolors='none')\n",
    "ax[1].scatter( rsee, opir_see, color='red', s=dotsize, alpha=a, edgecolors='none')\n",
    "ax[1].scatter( Ersee, Eopir_see, color='darkorange', s=dotsize, alpha=a, edgecolors='none')\n",
    "ax[2].scatter( isee, opii_see, color='brown', s=dotsize, alpha=a, edgecolors='none')\n",
    "ax[2].scatter( Eisee, Eopii_see, color='peru', s=dotsize, alpha=a, edgecolors='none')\n",
    "ax[0].set_xlabel( 'g-band Seeing [arcsec]' )\n",
    "ax[0].set_ylabel( 'Sources (R/B>0.6) Per Image' )\n",
    "ax[1].set_xlabel( 'r-band Seeing [arcsec]' )\n",
    "# ax[1].set_ylabel( 'Sources (R/B>0.6) Per Image' )\n",
    "ax[2].set_xlabel( 'i-band Seeing [arcsec]' )\n",
    "# ax[2].set_ylabel( 'Sources (R/B>0.6) Per Image' )\n",
    "\n",
    "\n",
    "fig.tight_layout()\n",
    "plt.savefig(\"./images/seeingVopi_COSMOS\");"
   ]
  },
  {
   "cell_type": "markdown",
   "id": "5b9559a4-93db-48c5-83b8-8c08362dd51b",
   "metadata": {},
   "source": [
    "#### Limiting magnitude v OPI (COSMOS & ELIAS)"
   ]
  },
  {
   "cell_type": "code",
   "execution_count": null,
   "id": "e5c7e1e4-6f16-456b-b225-9ea360ad2640",
   "metadata": {},
   "outputs": [],
   "source": [
    "query = ( 'SELECT o.id, e.filename, s.lmt_mg, e.filter, e.id, e.mjd, o.candidate_id, rbs.rb FROM objects o '\n",
    "         'JOIN subtractions s ON o.subtraction_id=s.id '\n",
    "         'JOIN exposures e ON e.id=s.exposure_id '\n",
    "         'JOIN objectrbs as rbs ON o.id=rbs.object_id AND rbs.rbtype_id=1 '\n",
    "         'WHERE q3c_radial_query(o.ra,o.dec,150,2.2,3) ' \n",
    "         'AND rbs.rb > 0.6 '\n",
    "         'AND e.mjd < 59377 '\n",
    "         'LIMIT 10000000' )\n",
    "\n",
    "cursor.execute( query )\n",
    "\n",
    "lmtmgquery = np.array( cursor.fetchall() ).transpose()\n",
    "\n",
    "query = ( 'SELECT o.id, e.filename, s.lmt_mg, e.filter, e.id, e.mjd, o.candidate_id, rbs.rb FROM objects o '\n",
    "         'JOIN subtractions s ON o.subtraction_id=s.id '\n",
    "         'JOIN exposures e ON e.id=s.exposure_id '\n",
    "         'JOIN objectrbs as rbs ON o.id=rbs.object_id AND rbs.rbtype_id=1 '\n",
    "         'WHERE q3c_radial_query(o.ra,o.dec,8.5,-43.5,3) '\n",
    "         'AND rbs.rb > 0.6 '\n",
    "         'AND e.mjd < 59377 '\n",
    "         'LIMIT 10000000' )\n",
    "\n",
    "cursor.execute( query )\n",
    "\n",
    "Elmtmgquery = np.array( cursor.fetchall() ).transpose()"
   ]
  },
  {
   "cell_type": "code",
   "execution_count": null,
   "id": "6448ee62-9c2a-4a25-961d-0ae59c048620",
   "metadata": {},
   "outputs": [],
   "source": [
    "lmtmgquery = rm_dupes(lmtmgquery,0)\n",
    "Elmtmgquery = rm_dupes(Elmtmgquery,0)"
   ]
  },
  {
   "cell_type": "code",
   "execution_count": null,
   "id": "126b53ec-c73e-4cd8-8cd1-476bcaee969c",
   "metadata": {},
   "outputs": [],
   "source": [
    "fnms = np.array(lmtmgquery[1], dtype=str)\n",
    "lmt_mg = lmtmgquery[2].astype(np.float)\n",
    "\n",
    "fnms_unique, indices, opi = np.unique( fnms, return_counts=True, return_index=True )\n",
    "fnms_unique = fnms_unique.astype(str)\n",
    "\n",
    "# Find the average magzp for each exposure\n",
    "lmt_mg_med = np.zeros(len(fnms_unique))\n",
    "for i in range(len(fnms_unique)):\n",
    "    msk = np.where( fnms == fnms_unique[i] )[0]\n",
    "    lmt_mg_med[i] = np.median( lmt_mg[msk] )"
   ]
  },
  {
   "cell_type": "code",
   "execution_count": null,
   "id": "69ef0afe-6bf4-4206-8cc4-481ef29b6376",
   "metadata": {},
   "outputs": [],
   "source": [
    "filters = lmtmgquery[3][indices]"
   ]
  },
  {
   "cell_type": "code",
   "execution_count": null,
   "id": "d9bd36b3-530e-4a8b-aa43-3671079ffb88",
   "metadata": {},
   "outputs": [],
   "source": [
    "# truncate filenames to match lookup table format\n",
    "fnms_unique = [fnms_unique[i][:21] for i in range(len(fnms_unique))]\n",
    "\n",
    "# read in the exposure time lookup table\n",
    "lutable = np.loadtxt(\"archive_image_list.txt\", dtype=object).transpose()\n",
    "fnmtable, exptable = lutable[0], lutable[7].astype(float)\n",
    "\n",
    "# find the exposure time for each object\n",
    "exptimes = np.array([exptable[np.where(fnms_unique[i] == fnmtable)[0]][0] for i in range(len(fnms_unique))], dtype=float)"
   ]
  },
  {
   "cell_type": "code",
   "execution_count": null,
   "id": "c1b61e7c-dcb5-42a5-a27b-4666e871d3ff",
   "metadata": {},
   "outputs": [],
   "source": [
    "# Eliminate objects from non-standard images\n",
    "gmsk = np.where((filters==\"g\") & (exptimes>50))[0]\n",
    "rmsk = np.where((filters==\"r\") & (exptimes>20))[0]\n",
    "imsk = np.where((filters==\"i\") & (exptimes>20))[0]\n",
    "\n",
    "grmsk = np.append(rmsk, gmsk)\n",
    "grimsk = np.append(grmsk, imsk)\n",
    "\n",
    "# apply the standard images mask\n",
    "lmt_mg_med = lmt_mg_med[grimsk]\n",
    "opi = opi[grimsk]\n",
    "filters = filters[grimsk]"
   ]
  },
  {
   "cell_type": "code",
   "execution_count": null,
   "id": "83b899ae-b0a3-439c-9468-f8ea8ea601a3",
   "metadata": {},
   "outputs": [],
   "source": [
    "# Creating masks for each filter\n",
    "gmsk = np.where( filters == 'g' )[0]\n",
    "rmsk = np.where( filters == 'r' )[0]\n",
    "imsk = np.where( filters == 'i' )[0]\n",
    "\n",
    "glmt_mg_med, opig_lmt_mg = lmt_mg_med[gmsk], opi[gmsk]\n",
    "rlmt_mg_med, opir_lmt_mg = lmt_mg_med[rmsk], opi[rmsk]\n",
    "ilmt_mg_med, opii_lmt_mg = lmt_mg_med[imsk], opi[imsk]"
   ]
  },
  {
   "cell_type": "code",
   "execution_count": null,
   "id": "8f515109-16e5-4732-a93c-245b13675f1f",
   "metadata": {},
   "outputs": [],
   "source": [
    "fnms = np.array(Elmtmgquery[1], dtype=str)\n",
    "lmt_mg = Elmtmgquery[2].astype(np.float)\n",
    "\n",
    "# Determine which exposure IDs are present\n",
    "# expids_unique = np.unique(expids)\n",
    "fnms_unique, indices, opi = np.unique( fnms, return_counts=True, return_index=True )\n",
    "fnms_unique = fnms_unique.astype(str)\n",
    "# Find the average magzp for each exposure\n",
    "lmt_mg_med = np.zeros(len(fnms_unique))\n",
    "for i in range(len(fnms_unique)):\n",
    "    msk = np.where( fnms == fnms_unique[i] )[0]\n",
    "    lmt_mg_med[i] = np.median( lmt_mg[msk] )"
   ]
  },
  {
   "cell_type": "code",
   "execution_count": null,
   "id": "4ec6c511-ae41-41ea-9077-3da9f7005cc9",
   "metadata": {},
   "outputs": [],
   "source": [
    "filters = Elmtmgquery[3][indices]"
   ]
  },
  {
   "cell_type": "code",
   "execution_count": null,
   "id": "f1fbe2de-3de2-4cb8-9ada-fa8aa8f3be86",
   "metadata": {},
   "outputs": [],
   "source": [
    "# truncate filenames to match lookup table format\n",
    "fnms_unique = [fnms_unique[i][:21] for i in range(len(fnms_unique))]\n",
    "\n",
    "# read in the exposure time lookup table\n",
    "lutable = np.loadtxt(\"archive_image_list.txt\", dtype=object).transpose()\n",
    "fnmtable, exptable = lutable[0], lutable[7].astype(float)\n",
    "\n",
    "# find the exposure time for each object\n",
    "exptimes = np.array([exptable[np.where(fnms_unique[i] == fnmtable)[0]][0] for i in range(len(fnms_unique))], dtype=float)"
   ]
  },
  {
   "cell_type": "code",
   "execution_count": null,
   "id": "3ec06022-b093-434b-8473-9c7792615568",
   "metadata": {},
   "outputs": [],
   "source": [
    "# Eliminate objects from non-standard images\n",
    "gmsk = np.where((filters==\"g\") & (exptimes>50))[0]\n",
    "rmsk = np.where((filters==\"r\") & (exptimes>20))[0]\n",
    "imsk = np.where((filters==\"i\") & (exptimes>20))[0]\n",
    "\n",
    "grmsk = np.append(rmsk, gmsk)\n",
    "grimsk = np.append(grmsk, imsk)\n",
    "\n",
    "# apply the standard images mask\n",
    "lmt_mg_med = lmt_mg_med[grimsk]\n",
    "opi = opi[grimsk]\n",
    "filters = filters[grimsk]"
   ]
  },
  {
   "cell_type": "code",
   "execution_count": null,
   "id": "bc3a8933-ff73-49ff-9f0b-d5a195f900f0",
   "metadata": {},
   "outputs": [],
   "source": [
    "# Creating masks for each filter\n",
    "gmsk = np.where( filters == 'g' )[0]\n",
    "rmsk = np.where( filters == 'r' )[0]\n",
    "imsk = np.where( filters == 'i' )[0]\n",
    "\n",
    "Eglmt_mg_med, Eopig_lmt_mg = lmt_mg_med[gmsk], opi[gmsk]\n",
    "Erlmt_mg_med, Eopir_lmt_mg = lmt_mg_med[rmsk], opi[rmsk]\n",
    "Eilmt_mg_med, Eopii_lmt_mg = lmt_mg_med[imsk], opi[imsk]"
   ]
  },
  {
   "cell_type": "code",
   "execution_count": null,
   "id": "b40cb518-8bde-4a79-9082-c6bacf49b4b8",
   "metadata": {},
   "outputs": [],
   "source": [
    "# Plotting it all up\n",
    "fig, ax = plt.subplots(1,3, figsize=(figwidth, figheight), sharex=True)\n",
    "\n",
    "\n",
    "ax[0].scatter( glmt_mg_med, opig_lmt_mg, color='darkgreen', s=dotsize, alpha=a, edgecolors='none')\n",
    "ax[0].scatter( Eglmt_mg_med, Eopig_lmt_mg, color='limegreen', s=dotsize, alpha=a, edgecolors='none')\n",
    "ax[0].set_xlabel( 'g-band Limiting Magnitude [mag]' )\n",
    "\n",
    "ax[1].scatter( rlmt_mg_med, opir_lmt_mg, color='red', s=dotsize, alpha=a, edgecolors='none')\n",
    "ax[1].scatter( Erlmt_mg_med, Eopir_lmt_mg, color='darkorange', s=dotsize, alpha=a, edgecolors='none')\n",
    "ax[1].set_xlabel( 'r-band Limiting Magnitude [mag]' )\n",
    "\n",
    "ax[2].scatter( ilmt_mg_med, opii_lmt_mg, color='brown', s=dotsize, alpha=a, edgecolors='none')\n",
    "ax[2].scatter( Eilmt_mg_med, Eopii_lmt_mg, color='peru', s=dotsize, alpha=a, edgecolors='none')\n",
    "ax[2].set_xlabel( 'i-band Limiting Magnitude [mag]' )\n",
    "\n",
    "ax[0].scatter( -100, 100, color=\"darkgreen\", label=\"COSMOS\")\n",
    "ax[0].scatter( -100, 100, color=\"limegreen\", label=\"ELIAS\")\n",
    "ax[1].scatter( -100, 100, color=\"red\", label=\"COSMOS\")\n",
    "ax[1].scatter( -100, 100, color=\"darkorange\", label=\"ELIAS\")\n",
    "ax[2].scatter( -100, 100, color=\"brown\", label=\"COSMOS\")\n",
    "ax[2].scatter( -100, 100, color=\"peru\", label=\"ELIAS\")\n",
    "ax[0].set_xlim(21,24.5)\n",
    "ax[1].set_xlim(21,24.5)\n",
    "ax[2].set_xlim(21,24.5)\n",
    "\n",
    "for i in ax:\n",
    "    i.xaxis.set_tick_params(which='both', labelbottom=True)\n",
    "    i.legend(fontsize=lfs, loc=\"upper left\")\n",
    "ax[0].set_ylabel( 'Sources (R/B>0.6) Per Image' )\n",
    "fig.tight_layout()\n",
    "plt.savefig(\"./images/lmtmgVopi_COSMOS\");"
   ]
  },
  {
   "cell_type": "markdown",
   "id": "22e089d6-79ec-4dbd-afc8-56eb7ba20245",
   "metadata": {
    "tags": []
   },
   "source": [
    "#### Skysig v OPI (COSMOS & ELIAS)"
   ]
  },
  {
   "cell_type": "code",
   "execution_count": null,
   "id": "df39e32d-e6ef-4ecb-a76b-94511b08d6c4",
   "metadata": {},
   "outputs": [],
   "source": [
    "query = ( 'SELECT o.id, e.filename, s.skysig, e.filter, e.id, e.mjd, o.candidate_id, rbs.rb FROM objects o '\n",
    "         'JOIN subtractions s ON o.subtraction_id=s.id '\n",
    "         'JOIN exposures e ON e.id=s.exposure_id '\n",
    "         'JOIN objectrbs as rbs ON o.id=rbs.object_id AND rbs.rbtype_id=1 '\n",
    "         'WHERE q3c_radial_query(o.ra,o.dec,150,2.2,3) ' \n",
    "         'AND rbs.rb > 0.6 '\n",
    "         'AND e.mjd < 59377 '\n",
    "         'LIMIT 10000000' )\n",
    "\n",
    "cursor.execute( query )\n",
    "\n",
    "skysigquery = np.array( cursor.fetchall() ).transpose()\n",
    "\n",
    "query = ( 'SELECT o.id, e.filename, s.skysig, e.filter, e.id, e.mjd, o.candidate_id, rbs.rb FROM objects o '\n",
    "         'JOIN subtractions s ON o.subtraction_id=s.id '\n",
    "         'JOIN exposures e ON e.id=s.exposure_id '\n",
    "         'JOIN objectrbs as rbs ON o.id=rbs.object_id AND rbs.rbtype_id=1 '\n",
    "         'WHERE q3c_radial_query(o.ra,o.dec,8.5,-43.5,3) '\n",
    "         'AND rbs.rb > 0.6 '\n",
    "         'AND e.mjd < 59377 '\n",
    "         'LIMIT 10000000' )\n",
    "\n",
    "cursor.execute( query )\n",
    "\n",
    "Eskysigquery = np.array( cursor.fetchall() ).transpose()"
   ]
  },
  {
   "cell_type": "code",
   "execution_count": null,
   "id": "ad18339e-01b7-4874-b340-fc6921a6f903",
   "metadata": {},
   "outputs": [],
   "source": [
    "skysigquery = rm_dupes(skysigquery,0)\n",
    "Eskysigquery = rm_dupes(Eskysigquery,0)"
   ]
  },
  {
   "cell_type": "code",
   "execution_count": null,
   "id": "19f11b36-2537-4421-87b7-77ef188abcaf",
   "metadata": {},
   "outputs": [],
   "source": [
    "fnms = np.array(skysigquery[1], dtype=str)\n",
    "skysig = skysigquery[2].astype(np.float)\n",
    "\n",
    "# Determine which exposure IDs are present\n",
    "# expids_unique = np.unique(expids)\n",
    "fnms_unique, indices, opi = np.unique( fnms, return_counts=True, return_index=True )\n",
    "fnms_unique = fnms_unique.astype(str)\n",
    "# Find the average magzp for each exposure\n",
    "logskysig_med = np.zeros(len(fnms_unique))\n",
    "for i in range(len(fnms_unique)):\n",
    "    msk = np.where( fnms == fnms_unique[i] )[0]\n",
    "    logskysig_med[i] = np.log10( np.median( skysig[msk] ) )"
   ]
  },
  {
   "cell_type": "code",
   "execution_count": null,
   "id": "1a3efe44-e503-4006-9b20-e88e8aa0d4b5",
   "metadata": {},
   "outputs": [],
   "source": [
    "filters = skysigquery[3][indices]"
   ]
  },
  {
   "cell_type": "code",
   "execution_count": null,
   "id": "4796755f-eebe-4338-a6bd-15eb18158d55",
   "metadata": {},
   "outputs": [],
   "source": [
    "# truncate filenames to match lookup table format\n",
    "fnms_unique = [fnms_unique[i][:21] for i in range(len(fnms_unique))]\n",
    "\n",
    "# read in the exposure time lookup table\n",
    "lutable = np.loadtxt(\"archive_image_list.txt\", dtype=object).transpose()\n",
    "fnmtable, exptable = lutable[0], lutable[7].astype(float)\n",
    "\n",
    "# find the exposure time for each object\n",
    "exptimes = np.array([exptable[np.where(fnms_unique[i] == fnmtable)[0]][0] for i in range(len(fnms_unique))], dtype=float)"
   ]
  },
  {
   "cell_type": "code",
   "execution_count": null,
   "id": "15731dfa-55af-46f0-bcff-bb0b486e9129",
   "metadata": {},
   "outputs": [],
   "source": [
    "# Eliminate objects from non-standard images\n",
    "gmsk = np.where((filters==\"g\") & (exptimes>50))[0]\n",
    "rmsk = np.where((filters==\"r\") & (exptimes>20))[0]\n",
    "imsk = np.where((filters==\"i\") & (exptimes>20))[0]\n",
    "\n",
    "grmsk = np.append(rmsk, gmsk)\n",
    "grimsk = np.append(grmsk, imsk)\n",
    "\n",
    "# apply the standard images mask\n",
    "logskysig_med = logskysig_med[grimsk]\n",
    "opi = opi[grimsk]\n",
    "filters = filters[grimsk]"
   ]
  },
  {
   "cell_type": "code",
   "execution_count": null,
   "id": "7695194b-7a74-4ea9-92db-80f8c17e33ab",
   "metadata": {},
   "outputs": [],
   "source": [
    "# Creating masks for each filter\n",
    "gmsk = np.where( filters == 'g' )[0]\n",
    "rmsk = np.where( filters == 'r' )[0]\n",
    "imsk = np.where( filters == 'i' )[0]\n",
    "\n",
    "glogskysig_med, opig_skysig = logskysig_med[gmsk], opi[gmsk]\n",
    "rlogskysig_med, opir_skysig = logskysig_med[rmsk], opi[rmsk]\n",
    "ilogskysig_med, opii_skysig = logskysig_med[imsk], opi[imsk]"
   ]
  },
  {
   "cell_type": "code",
   "execution_count": null,
   "id": "adaef9c6-ebf8-4965-89e9-dd3b80904aa0",
   "metadata": {},
   "outputs": [],
   "source": [
    "fnms = np.array(Eskysigquery[1], dtype=str)\n",
    "skysig = Eskysigquery[2].astype(np.float)\n",
    "\n",
    "# Determine which exposure IDs are present\n",
    "# expids_unique = np.unique(expids)\n",
    "fnms_unique, indices, opi = np.unique( fnms, return_counts=True, return_index=True )\n",
    "fnms_unique = fnms_unique.astype(str)\n",
    "# Find the average magzp for each exposure\n",
    "logskysig_med = np.zeros(len(fnms_unique))\n",
    "for i in range(len(fnms_unique)):\n",
    "    msk = np.where( fnms == fnms_unique[i] )[0]\n",
    "    logskysig_med[i] = np.log10( np.median( skysig[msk] ) )"
   ]
  },
  {
   "cell_type": "code",
   "execution_count": null,
   "id": "aeda16d7-32c2-4f1e-9b4d-4b4b6a938a81",
   "metadata": {},
   "outputs": [],
   "source": [
    "filters = Eskysigquery[3][indices]"
   ]
  },
  {
   "cell_type": "code",
   "execution_count": null,
   "id": "e6fe744e-905a-4893-8bce-98be63a12bf6",
   "metadata": {},
   "outputs": [],
   "source": [
    "# truncate filenames to match lookup table format\n",
    "fnms_unique = [fnms_unique[i][:21] for i in range(len(fnms_unique))]\n",
    "\n",
    "# read in the exposure time lookup table\n",
    "lutable = np.loadtxt(\"archive_image_list.txt\", dtype=object).transpose()\n",
    "fnmtable, exptable = lutable[0], lutable[7].astype(float)\n",
    "\n",
    "# find the exposure time for each object\n",
    "exptimes = np.array([exptable[np.where(fnms_unique[i] == fnmtable)[0]][0] for i in range(len(fnms_unique))], dtype=float)"
   ]
  },
  {
   "cell_type": "code",
   "execution_count": null,
   "id": "95bd248b-5de6-41eb-b1df-4ae36b8a867e",
   "metadata": {},
   "outputs": [],
   "source": [
    "# Eliminate objects from non-standard images\n",
    "gmsk = np.where((filters==\"g\") & (exptimes>50))[0]\n",
    "rmsk = np.where((filters==\"r\") & (exptimes>20))[0]\n",
    "imsk = np.where((filters==\"i\") & (exptimes>20))[0]\n",
    "\n",
    "grmsk = np.append(rmsk, gmsk)\n",
    "grimsk = np.append(grmsk, imsk)\n",
    "\n",
    "# apply the standard images mask\n",
    "logskysig_med = logskysig_med[grimsk]\n",
    "opi = opi[grimsk]\n",
    "filters = filters[grimsk]"
   ]
  },
  {
   "cell_type": "code",
   "execution_count": null,
   "id": "04a11341-9baf-4b33-b5a8-a64fa353a19f",
   "metadata": {},
   "outputs": [],
   "source": [
    "# Creating masks for each filter\n",
    "gmsk = np.where( filters == 'g' )[0]\n",
    "rmsk = np.where( filters == 'r' )[0]\n",
    "imsk = np.where( filters == 'i' )[0]\n",
    "\n",
    "Eglogskysig_med, Eopig_skysig = logskysig_med[gmsk], opi[gmsk]\n",
    "Erlogskysig_med, Eopir_skysig = logskysig_med[rmsk], opi[rmsk]\n",
    "Eilogskysig_med, Eopii_skysig = logskysig_med[imsk], opi[imsk]"
   ]
  },
  {
   "cell_type": "code",
   "execution_count": null,
   "id": "dfdc5959-9e8c-4049-8fac-bb88a17b89ac",
   "metadata": {},
   "outputs": [],
   "source": [
    "# Plotting it all up\n",
    "fig, ax = plt.subplots(1,3, figsize=(figwidth, figheight), sharex=True)\n",
    "\n",
    "\n",
    "ax[0].scatter( glogskysig_med, opig_skysig, color='darkgreen', label='COSMOS', s=dotsize, alpha=a, edgecolors='none')\n",
    "ax[0].scatter( Eglogskysig_med, Eopig_skysig, color='limegreen', label='ELIAS', s=dotsize, alpha=a, edgecolors='none')\n",
    "ax[0].set_xlabel( 'g-band Log(sigma_sky) [log(counts)]' )\n",
    "\n",
    "ax[1].scatter( rlogskysig_med, opir_skysig, color='red', label='COSMOS', s=dotsize, alpha=a, edgecolors='none')\n",
    "ax[1].scatter( Erlogskysig_med, Eopir_skysig, color='darkorange', label='ELIAS', s=dotsize, alpha=a, edgecolors='none')\n",
    "ax[1].set_xlabel( 'r-band Log(sigma_sky) [log(counts)]' )\n",
    "\n",
    "ax[2].scatter( ilogskysig_med, opii_skysig, color='brown', label='COSMOS', s=dotsize, alpha=a, edgecolors='none')\n",
    "ax[2].scatter( Eilogskysig_med, Eopii_skysig, color='peru', label='ELIAS', s=dotsize, alpha=a, edgecolors='none')\n",
    "ax[2].set_xlabel( 'i-band Log(sigma_sky) [log(counts)]' )\n",
    "\n",
    "for i in ax:\n",
    "    i.xaxis.set_tick_params(which='both', labelbottom=True)\n",
    "#     i.legend(fontsize=lfs)\n",
    "ax[0].set_ylabel( 'Sources (R/B>0.6) Per Image' )\n",
    "\n",
    "fig.tight_layout()\n",
    "plt.savefig(\"./images/logskysigVopi_COSMOS\");"
   ]
  },
  {
   "cell_type": "markdown",
   "id": "0abbc477-a95c-48f4-ae6f-d10f1109047b",
   "metadata": {
    "tags": []
   },
   "source": [
    "# No longer useful"
   ]
  },
  {
   "cell_type": "markdown",
   "id": "f2e89025-656f-4751-bdfc-3369bdbe2eeb",
   "metadata": {
    "tags": []
   },
   "source": [
    "#### How does median pixel value affect number of good detections? (uses lookup table 'medpixval.txt') (COSMOS)"
   ]
  },
  {
   "cell_type": "code",
   "execution_count": null,
   "id": "d6d1e877-38e0-4b75-8e30-78b16c31298f",
   "metadata": {},
   "outputs": [],
   "source": [
    "query = ( 'SELECT o.candidate_id, e.filename, e.filter FROM objects o '\n",
    "         'JOIN subtractions s ON o.subtraction_id=s.id '\n",
    "         'JOIN exposures e ON e.id=s.exposure_id '\n",
    "         'JOIN objectrbs as rbs ON o.id=rbs.object_id AND rbs.rbtype_id=1 '\n",
    "         'WHERE q3c_radial_query(o.ra,o.dec,150,2.2,3) ' \n",
    "         'AND rbs.rb>0.6 '\n",
    "         'AND e.mjd < 59377 '\n",
    "         'LIMIT 10000000' )\n",
    "\n",
    "cursor.execute( query )\n",
    "\n",
    "pixvalquery = np.array( cursor.fetchall() ).transpose()"
   ]
  },
  {
   "cell_type": "code",
   "execution_count": null,
   "id": "56eb3405-5bf2-4a2f-a89b-db5838383aef",
   "metadata": {},
   "outputs": [],
   "source": [
    "# truncate filenames to match lookup table format\n",
    "fnms = [pixvalquery[1][i][:21] for i in range(len(pixvalquery[1]))]\n",
    "\n",
    "# count the number of objects in each image (obsperimg) and create a mask to select the data for each of those exposures only once (index)\n",
    "cands, index, objsperimg = np.unique(pixvalquery[1], return_index=True, return_counts=True)\n",
    "\n",
    "# load in the lookup table\n",
    "pixvallt = np.loadtxt(\"medpixval.txt\", dtype=np.str).transpose()\n",
    "\n",
    "# resize the filename array to only look at each exposure once (i.e. not once for every object in it)\n",
    "fnms = np.array(fnms)[index]\n",
    "\n",
    "# create an array of mmedian pixel values by matching the filenames in the query result to the filenames in the lookup table \n",
    "pixval = np.ones(len(fnms))\n",
    "for i in range(len(fnms)):\n",
    "    pixval[i] = pixvallt[1][np.where(fnms[i] == pixvallt[0])[0]]"
   ]
  },
  {
   "cell_type": "code",
   "execution_count": null,
   "id": "f1d889de-c2a0-40b4-95d1-f48ed9ee8202",
   "metadata": {},
   "outputs": [],
   "source": [
    "# read in the exposure time lookup table\n",
    "lutable = np.loadtxt(\"archive_image_list.txt\", dtype=object).transpose()\n",
    "fnmtable, exptable = lutable[0], lutable[7].astype(float)\n",
    "\n",
    "# find the exposure time for each object\n",
    "exptimes = np.array([exptable[np.where(fnms[i] == fnmtable)[0]][0] for i in range(len(fnms))], dtype=float)"
   ]
  },
  {
   "cell_type": "code",
   "execution_count": null,
   "id": "3818f08c-326b-4c6a-a252-bf736d36d37d",
   "metadata": {},
   "outputs": [],
   "source": [
    "# Eliminate objects from non-standard images\n",
    "filters = np.array( pixvalquery[2] )[index]\n",
    "\n",
    "gmsk = np.where((filters==\"g\") & (exptimes>50))[0]\n",
    "rmsk = np.where((filters==\"r\") & (exptimes>20))[0]\n",
    "imsk = np.where((filters==\"i\") & (exptimes>20))[0]\n",
    "\n",
    "grmsk = np.append(rmsk, gmsk)\n",
    "grimsk = np.append(grmsk, imsk)\n",
    "\n",
    "# apply the standard images mask\n",
    "filters = filters[grimsk]\n",
    "pixval = pixval[grimsk]\n",
    "objsperimg = objsperimg[grimsk]"
   ]
  },
  {
   "cell_type": "code",
   "execution_count": null,
   "id": "edf0632a-2f1f-4e88-879e-409ff3537b36",
   "metadata": {},
   "outputs": [],
   "source": [
    "# Create masks for different filters\n",
    "gmsk = np.where(filters=='g')[0]\n",
    "rmsk = np.where(filters=='r')[0]\n",
    "imsk = np.where(filters=='i')[0]"
   ]
  },
  {
   "cell_type": "code",
   "execution_count": null,
   "id": "9cd915af-5596-4c1b-bb7d-a49e0481f3eb",
   "metadata": {},
   "outputs": [],
   "source": [
    "# Plotting it up\n",
    "plt.figure(figsize=(8,5))\n",
    "plt.scatter(pixval[gmsk], objsperimg[gmsk], color='darkgreen', label='g')\n",
    "plt.scatter(pixval[rmsk], objsperimg[rmsk], color='red', label='r')\n",
    "plt.scatter(pixval[imsk], objsperimg[imsk], color='brown', label='i')\n",
    "plt.xlim(1920, )\n",
    "plt.xlabel('Median pixel value')\n",
    "plt.ylabel('Likely-real detections per image')\n",
    "plt.legend(fontsize=lfs)\n",
    "plt.tight_layout()\n",
    "plt.savefig(\"./images/medpixvalVopi_COSMOS\");"
   ]
  },
  {
   "cell_type": "markdown",
   "id": "1ffc5045-2e7b-4ea0-9e70-abf1081f9555",
   "metadata": {
    "tags": []
   },
   "source": [
    "#### How does the distance to the moon affect the number of good detections? (COSMOS)"
   ]
  },
  {
   "cell_type": "code",
   "execution_count": null,
   "id": "a568597b-be2b-48d0-af0a-b142c76b48e6",
   "metadata": {},
   "outputs": [],
   "source": [
    "query = ( 'SELECT o.id, e.filename, e.mjd, e.ra, e.dec, e.filter FROM objects o '\n",
    "         'JOIN subtractions s ON o.subtraction_id=s.id '\n",
    "         'JOIN exposures e ON e.id=s.exposure_id '\n",
    "         'JOIN objectrbs as rbs ON o.id=rbs.object_id AND rbs.rbtype_id=1 '\n",
    "         'WHERE q3c_radial_query(o.ra,o.dec,150,2.2,3) ' \n",
    "         'AND rbs.rb > 0.6 '\n",
    "         'AND e.mjd < 59377 '\n",
    "         'LIMIT 10000000' )\n",
    "\n",
    "cursor.execute( query )\n",
    "\n",
    "moonquery = np.array( cursor.fetchall() ).transpose()"
   ]
  },
  {
   "cell_type": "code",
   "execution_count": null,
   "id": "8d224d0a-0c91-4871-ad0b-c2d0b78cb173",
   "metadata": {
    "tags": []
   },
   "outputs": [],
   "source": [
    "# Counting the number of objects in each exposure (objs) and masking the dates, filters, and coordinates to match\n",
    "exps, indices, objs = np.unique( moonquery[1], return_counts=True, return_index=True )\n",
    "mjds = moonquery[2][indices].astype(np.float)\n",
    "filters = moonquery[5][indices]\n",
    "obs_coords = GCRS( ra = moonquery[3][indices].astype(np.float)*u.deg, dec = moonquery[4][indices].astype(np.float)*u.deg, representation_type=None )\n",
    "\n",
    "# Putting it into a Pandas DataFrame to keep better track of what is what\n",
    "moon_df = pd.DataFrame(np.array([exps,objs,filters,mjds, obs_coords]).transpose(), columns = ['Fnm', 'Objs', 'Filter', 'MJD', 'ObsCoords'])"
   ]
  },
  {
   "cell_type": "code",
   "execution_count": null,
   "id": "cf495b6f-2c79-469e-8aa0-2e91b02e0c6f",
   "metadata": {},
   "outputs": [],
   "source": [
    "# Calculate the Moon's coordinates at the time of observation and put them into a new column\n",
    "moon_df['MJD'] = [Time(i, format='mjd') for i in moon_df['MJD']]\n",
    "moon_df[\"MoonCoords\"] = [get_moon(i) for i in moon_df['MJD']]"
   ]
  },
  {
   "cell_type": "code",
   "execution_count": null,
   "id": "c67b4615-5b33-4f8e-bf55-73fd11236e22",
   "metadata": {},
   "outputs": [],
   "source": [
    "# Calculate the great circle distance separation between the observation and the Moon and put it in a new column\n",
    "moon_df['MoonSep'] = [moon_df['ObsCoords'][i].separation(moon_df['MoonCoords'][i]) for i in range(len(moon_df['Fnm']))]\n",
    "moon_df['MoonSep'] = [i.value for i in moon_df['MoonSep']]"
   ]
  },
  {
   "cell_type": "code",
   "execution_count": null,
   "id": "83a57007-16fc-4cc3-b0b6-b4d811981608",
   "metadata": {},
   "outputs": [],
   "source": [
    "lutable = np.loadtxt(\"archive_image_list.txt\", dtype=object).transpose()\n",
    "fnmtable, exptable = lutable[0], lutable[7].astype(float)\n",
    "fnms = [exps[i][:21] for i in range(len(exps))] # truncate filenames to match lookup table format"
   ]
  },
  {
   "cell_type": "code",
   "execution_count": null,
   "id": "10c642a0-7bcb-497e-9781-5bea9106d85c",
   "metadata": {},
   "outputs": [],
   "source": [
    "# find the exposure time for each object\n",
    "moon_df[\"Exptime\"] = np.array([exptable[np.where(fnms[i] == fnmtable)[0]][0] for i in range(len(fnms))], dtype=float)"
   ]
  },
  {
   "cell_type": "code",
   "execution_count": null,
   "id": "ac4bb01e-e7b6-4fd7-919a-ad60ccdce2af",
   "metadata": {},
   "outputs": [],
   "source": [
    "# Eliminate objects from non-standard images\n",
    "gmsk = np.where((moon_df[\"Filter\"]==\"g\") & (moon_df[\"Exptime\"]>50))[0]\n",
    "rmsk = np.where((moon_df[\"Filter\"]==\"r\") & (moon_df[\"Exptime\"]>20))[0]\n",
    "imsk = np.where((moon_df[\"Filter\"]==\"i\") & (moon_df[\"Exptime\"]>20))[0]\n",
    "grmsk = np.append(rmsk, gmsk)\n",
    "grimsk = np.append(grmsk, imsk)\n",
    "len(grimsk)\n",
    "# apply the standard images mask\n",
    "for i in moon_df:\n",
    "    moon_df[i] = moon_df[i][grimsk]"
   ]
  },
  {
   "cell_type": "code",
   "execution_count": null,
   "id": "e8804b22-2211-4c9f-b757-9559a3a33264",
   "metadata": {},
   "outputs": [],
   "source": [
    "# Create masks for different filters\n",
    "gmsk = np.where(moon_df[\"Filter\"]=='g')[0]\n",
    "rmsk = np.where(moon_df[\"Filter\"]=='r')[0]\n",
    "imsk = np.where(moon_df[\"Filter\"]=='i')[0]\n",
    "\n",
    "# Plot\n",
    "plt.figure(figsize=(8,5))\n",
    "plt.scatter(moon_df['MoonSep'][gmsk], moon_df['Objs'][gmsk], color='darkgreen', label='g')\n",
    "plt.scatter(moon_df['MoonSep'][rmsk], moon_df['Objs'][rmsk], color='red', label='r')\n",
    "plt.scatter(moon_df['MoonSep'][imsk], moon_df['Objs'][imsk], color='brown', label='i')\n",
    "plt.xlabel('Moon distance (deg)')\n",
    "plt.ylabel('Likely-real detections per image')\n",
    "plt.legend(fontsize=lfs)\n",
    "plt.tight_layout()\n",
    "plt.savefig(\"./images/moondistVopi_COSMOS\");"
   ]
  },
  {
   "cell_type": "markdown",
   "id": "ab928f63-3a88-49cf-bf07-1df2fd65fd75",
   "metadata": {
    "tags": []
   },
   "source": [
    "#### How does the distance to the moon affect the number of good detections? (COSMOS) (This section uses the 'moondata.txt' lookup table but gets the same result as above, so I have it commented out)"
   ]
  },
  {
   "cell_type": "code",
   "execution_count": null,
   "id": "3eb51537-0929-4dcb-b195-376c0eec597a",
   "metadata": {},
   "outputs": [],
   "source": [
    "# query = ( 'SELECT o.candidate_id, e.filename, e.filter FROM objects o '\n",
    "#          'JOIN subtractions s ON o.subtraction_id=s.id '\n",
    "#          'JOIN exposures e ON e.id=s.exposure_id '\n",
    "# 'JOIN objectrbs as rbs ON o.id=rbs.object_id AND rbs.rbtype_id=1 '\n",
    "#          'WHERE q3c_radial_query(o.ra,o.dec,150,2.2,3) ' \n",
    "#          'AND rbs.rb>0.6 '\n",
    "#          'LIMIT 10000000' )\n",
    "\n",
    "# cursor.execute( query )\n",
    "\n",
    "# moonquery2 = np.array( cursor.fetchall() ).transpose()"
   ]
  },
  {
   "cell_type": "code",
   "execution_count": null,
   "id": "fbf84c44-76de-44e5-adda-423017031045",
   "metadata": {},
   "outputs": [],
   "source": [
    "# fnms = [moonquery2[1][i][:21] for i in range(len(moonquery2[1]))] # truncate filenames to match lookup table format\n",
    "# cands, index, objsperimg = np.unique(moonquery2[1], return_index=True, return_counts=True)\n",
    "# table = np.loadtxt(\"moondata.txt\", dtype=np.str).transpose()\n",
    "# fnms = np.array(fnms)[index]\n",
    "# moondist = np.ones(len(fnms))\n",
    "# for i in range(len(fnms)):\n",
    "#     moondist[i] = table[1][np.where(fnms[i] == table[0])[0]]"
   ]
  },
  {
   "cell_type": "code",
   "execution_count": null,
   "id": "f787f485-aa4e-4ec3-a937-b7c2163de439",
   "metadata": {},
   "outputs": [],
   "source": [
    "# # Create masks for different filters\n",
    "# gmsk = np.where(moonquery2[2][index]=='g')[0]\n",
    "# rmsk = np.where(moonquery2[2][index]=='r')[0]\n",
    "# imsk = np.where(moonquery2[2][index]=='i')[0]"
   ]
  },
  {
   "cell_type": "code",
   "execution_count": null,
   "id": "ac6ac9a9-4ce2-4ea0-9567-5d37fa3517e9",
   "metadata": {},
   "outputs": [],
   "source": [
    "# # Plotting it all up, looks the same as before\n",
    "\n",
    "# plt.figure(figsize=(8,5))\n",
    "# plt.scatter(moondist[gmsk], objsperimg[gmsk], color='g', label='g')\n",
    "# plt.scatter(moondist[rmsk], objsperimg[rmsk], color='r', label='r')\n",
    "# plt.scatter(moondist[imsk], objsperimg[imsk], color='b', label='i')\n",
    "# plt.xlabel('Moon distance (deg)')\n",
    "# plt.ylabel('Likely-real detections per image')\n",
    "# plt.legend(fontsize=lfs);"
   ]
  },
  {
   "cell_type": "markdown",
   "id": "50c0a93e-8f93-45cc-a1d0-5a7e5ffa6198",
   "metadata": {
    "tags": []
   },
   "source": [
    "#### How does magzp affect number of good detections? (COSMOS)"
   ]
  },
  {
   "cell_type": "code",
   "execution_count": null,
   "id": "62ef79a5-9ad1-4654-88d4-652def4b523b",
   "metadata": {},
   "outputs": [],
   "source": [
    "query = ( 'SELECT o.id, e.filename, s.magzp, e.filter, e.id, e.mjd FROM objects o '\n",
    "         'JOIN subtractions s ON o.subtraction_id=s.id '\n",
    "         'JOIN exposures e ON e.id=s.exposure_id '\n",
    "         'JOIN objectrbs as rbs ON o.id=rbs.object_id AND rbs.rbtype_id=1 '\n",
    "         'WHERE q3c_radial_query(o.ra,o.dec,150,2.2,3) ' \n",
    "         'AND rbs.rb>0.6 '\n",
    "         'AND e.mjd < 59377 '\n",
    "         'LIMIT 10000000' )\n",
    "\n",
    "cursor.execute( query )\n",
    "\n",
    "magzpquery = np.array( cursor.fetchall() ).transpose()"
   ]
  },
  {
   "cell_type": "code",
   "execution_count": null,
   "id": "e8d1f53f-6b93-4968-9bb5-8074a990a763",
   "metadata": {},
   "outputs": [],
   "source": [
    "fnms = np.array(magzpquery[1], dtype=str)\n",
    "magzp = magzpquery[2].astype(np.float)\n",
    "\n",
    "# Determine which exposure IDs are present\n",
    "# expids_unique = np.unique(expids)\n",
    "fnms_unique, indices, objperimg = np.unique( fnms, return_counts=True, return_index=True )\n",
    "fnms_unique = fnms_unique.astype(str)\n",
    "# Find the average magzp for each exposure\n",
    "magzpav = np.zeros(len(fnms_unique))\n",
    "for i in range(len(fnms_unique)):\n",
    "    msk = np.where( fnms == fnms_unique[i] )[0]\n",
    "    magzpav[i] = np.median( magzp[msk] )\n",
    "\n",
    "# magzp = np.array( [np.median( magzp[np.where( fnms == i )[0]] ) for i in fnms_unique.astype(str)] )"
   ]
  },
  {
   "cell_type": "code",
   "execution_count": null,
   "id": "ca2ce885-c536-46c2-b6a9-889af8d662e9",
   "metadata": {},
   "outputs": [],
   "source": [
    "len(magzp)"
   ]
  },
  {
   "cell_type": "code",
   "execution_count": null,
   "id": "f55c0124-8384-42ec-9754-b3bc20e1e1f7",
   "metadata": {},
   "outputs": [],
   "source": [
    "# determine how many objects are in each exposure, and create an array of filters resized in the same way\n",
    "# exp, indices, objperimg = np.unique( expids, return_counts=True, return_index=True )\n",
    "filters = magzpquery[3][indices]"
   ]
  },
  {
   "cell_type": "code",
   "execution_count": null,
   "id": "f3681629-4bdd-43f1-83ef-79d3b9a8d627",
   "metadata": {},
   "outputs": [],
   "source": [
    "# truncate filenames to match lookup table format\n",
    "fnms_unique = [fnms_unique[i][:21] for i in range(len(fnms_unique))]\n",
    "\n",
    "# read in the exposure time lookup table\n",
    "lutable = np.loadtxt(\"archive_image_list.txt\", dtype=object).transpose()\n",
    "fnmtable, exptable = lutable[0], lutable[7].astype(float)\n",
    "\n",
    "# find the exposure time for each object\n",
    "exptimes = np.array([exptable[np.where(fnms_unique[i] == fnmtable)[0]][0] for i in range(len(fnms_unique))], dtype=float)"
   ]
  },
  {
   "cell_type": "code",
   "execution_count": null,
   "id": "5f5f425d-238f-40c9-981e-e3fee23b575c",
   "metadata": {},
   "outputs": [],
   "source": [
    "# Eliminate objects from non-standard images\n",
    "gmsk = np.where((filters==\"g\") & (exptimes>50))[0]\n",
    "rmsk = np.where((filters==\"r\") & (exptimes>20))[0]\n",
    "imsk = np.where((filters==\"i\") & (exptimes>20))[0]\n",
    "\n",
    "grmsk = np.append(rmsk, gmsk)\n",
    "grimsk = np.append(grmsk, imsk)\n",
    "\n",
    "# apply the standard images mask\n",
    "magzpav = magzpav[grimsk]\n",
    "objperimg = objperimg[grimsk]\n",
    "filters = filters[grimsk]"
   ]
  },
  {
   "cell_type": "code",
   "execution_count": null,
   "id": "8bc43954-b4c1-41f1-96ae-89246550e1fd",
   "metadata": {},
   "outputs": [],
   "source": [
    "# Creating masks for each filter\n",
    "gmsk = np.where( filters == 'g' )[0]\n",
    "rmsk = np.where( filters == 'r' )[0]\n",
    "imsk = np.where( filters == 'i' )[0]\n",
    "\n",
    "gmagzpav, opig_magzp = magzpav[gmsk], objperimg[gmsk]\n",
    "rmagzpav, opir_magzp = magzpav[rmsk], objperimg[rmsk]\n",
    "imagzpav, opii_magzp = magzpav[imsk], objperimg[imsk]"
   ]
  },
  {
   "cell_type": "code",
   "execution_count": null,
   "id": "47ac7762-c17c-4b36-9013-7e83600961c4",
   "metadata": {},
   "outputs": [],
   "source": [
    "# Plotting it all up\n",
    "fig, ax = plt.subplots(1,3, figsize=(figwidth, figheight), sharex=True)\n",
    "\n",
    "\n",
    "ax[0].scatter( gmagzpav, opig_magzp, color='darkgreen', label='g', s=dotsize, alpha=a, edgecolors='none')\n",
    "ax[1].scatter( rmagzpav, opir_magzp, color='red', label='r', s=dotsize, alpha=a, edgecolors='none')\n",
    "ax[2].scatter( imagzpav, opii_magzp, color='brown', label='i', s=dotsize, alpha=a, edgecolors='none')\n",
    "for i in ax:\n",
    "    i.xaxis.set_tick_params(which='both', labelbottom=True)\n",
    "    i.set_xlabel( 'Zero-point magnitude')\n",
    "    i.set_ylabel( 'Likely-real detections per image' )\n",
    "    i.legend(fontsize=lfs)\n",
    "fig.tight_layout()\n",
    "plt.savefig(\"./images/magzpVopi_COSMOS\");"
   ]
  },
  {
   "cell_type": "code",
   "execution_count": null,
   "id": "7cadfb14-266b-4483-8bd6-cbadb4274274",
   "metadata": {},
   "outputs": [],
   "source": []
  }
 ],
 "metadata": {
  "kernelspec": {
   "display_name": "NERSC Python",
   "language": "python",
   "name": "python3"
  },
  "language_info": {
   "codemirror_mode": {
    "name": "ipython",
    "version": 3
   },
   "file_extension": ".py",
   "mimetype": "text/x-python",
   "name": "python",
   "nbconvert_exporter": "python",
   "pygments_lexer": "ipython3",
   "version": "3.9.7"
  }
 },
 "nbformat": 4,
 "nbformat_minor": 5
}
