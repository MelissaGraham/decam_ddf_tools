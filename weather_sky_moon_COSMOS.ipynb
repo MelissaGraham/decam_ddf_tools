{
 "cells": [
  {
   "cell_type": "markdown",
   "id": "9b4d3877-d462-4823-b86e-a16f26c41abc",
   "metadata": {},
   "source": [
    "This notebook examines correlations between sky factors (moon distance, moon illumination, seeing, and zero-point magnitude) and the number of \"good\" (R/B > 0.6) object detections per exposure."
   ]
  },
  {
   "cell_type": "code",
   "execution_count": null,
   "id": "405ca020-6238-47c5-a8c2-d8cd89ea5613",
   "metadata": {},
   "outputs": [],
   "source": [
    "import psycopg2\n",
    "import psycopg2.extras\n",
    "import getpass\n",
    "from IPython.display import display\n",
    "import ipywidgets\n",
    "import matplotlib.pyplot as plt\n",
    "import numpy as np\n",
    "import pandas as pd\n",
    "from astropy.time import Time\n",
    "from astropy.coordinates import get_moon, GCRS\n",
    "import astropy.units as u"
   ]
  },
  {
   "cell_type": "code",
   "execution_count": null,
   "id": "ae30df57-65f7-40d9-b2c3-a8679aa7bb94",
   "metadata": {},
   "outputs": [],
   "source": [
    "dbuser = input(\"DB User: \")\n",
    "dbpasswd = getpass.getpass(\"DB Password: \")"
   ]
  },
  {
   "cell_type": "code",
   "execution_count": null,
   "id": "1ffd98d0-3a2e-4460-8e2e-ed96d74291dd",
   "metadata": {},
   "outputs": [],
   "source": [
    "db = psycopg2.connect(f\"dbname='decat' user='{dbuser}' password='{dbpasswd}' host='decatdb.lbl.gov'\")"
   ]
  },
  {
   "cell_type": "code",
   "execution_count": null,
   "id": "ca192056-9ded-4bdc-bb06-9a847417818b",
   "metadata": {},
   "outputs": [],
   "source": [
    "db.autocommit = True # Makes the computer more forgiving about SQL syntax errors\n",
    "\n",
    "cursor = db.cursor( cursor_factory = psycopg2.extras.DictCursor )"
   ]
  },
  {
   "cell_type": "markdown",
   "id": "42aad843-c896-4cb2-be45-ef9ae09d7b41",
   "metadata": {},
   "source": [
    "#### How does the distance to the moon affect the number of good detections? (COSMOS)"
   ]
  },
  {
   "cell_type": "code",
   "execution_count": null,
   "id": "2a0fb65f-854d-4a76-aeec-09103a8f24d4",
   "metadata": {},
   "outputs": [],
   "source": [
    "query = ( 'SELECT o.id, s.exposure_id, e.mjd, e.ra, e.dec, e.filter FROM objects o '\n",
    "         'JOIN subtractions s ON o.subtraction_id=s.id '\n",
    "         'JOIN exposures e ON e.id=s.exposure_id '\n",
    "         'WHERE q3c_radial_query(o.ra,o.dec,150,2.2,3) ' \n",
    "         'AND o.rb>0.6 '\n",
    "         'LIMIT 10000000' )\n",
    "\n",
    "cursor.execute( query )\n",
    "\n",
    "moonquery = np.array( cursor.fetchall() ).transpose()"
   ]
  },
  {
   "cell_type": "code",
   "execution_count": null,
   "id": "1c9bd2f5-ddf4-4885-a541-668108fd7da2",
   "metadata": {},
   "outputs": [],
   "source": [
    "# Counting the number of objects in each exposure (objs) and masking the dates, filters, and coordinates to match\n",
    "exps, indices, objs = np.unique( moonquery[1], return_counts=True, return_index=True )\n",
    "mjds = moonquery[2][indices].astype(np.float)\n",
    "filters = moonquery[5][indices]\n",
    "obs_coords = GCRS( ra = moonquery[3][indices].astype(np.float)*u.deg, dec = moonquery[4][indices].astype(np.float)*u.deg, representation_type=None )\n",
    "\n",
    "# Putting it into a Pandas DataFrame to keep better track of what is what\n",
    "moon_df = pd.DataFrame(np.array([exps,objs,filters,mjds, obs_coords]).transpose(), columns = ['ExpID', 'Objs', 'Filter', 'MJD', 'ObsCoords'])"
   ]
  },
  {
   "cell_type": "code",
   "execution_count": null,
   "id": "8ad60832-1b0b-4741-87da-d9fb7081cefb",
   "metadata": {},
   "outputs": [],
   "source": [
    "# Calculate the Moon's coordinates at the time of observation and put them into a new column\n",
    "moon_df['MJD'] = [Time(i, format='mjd') for i in moon_df['MJD']]\n",
    "moon_df[\"MoonCoords\"] = [get_moon(i) for i in moon_df['MJD']]"
   ]
  },
  {
   "cell_type": "code",
   "execution_count": null,
   "id": "d57423e5-324a-46f0-8807-a7214e3e29f1",
   "metadata": {},
   "outputs": [],
   "source": [
    "# Calculate the great circle distance separation between the observation and the Moon and put it in a new column\n",
    "moon_df['MoonSep'] = [moon_df['ObsCoords'][i].separation(moon_df['MoonCoords'][i]) for i in range(len(moon_df['ExpID']))]\n",
    "moon_df['MoonSep'] = [i.value for i in moon_df['MoonSep']]"
   ]
  },
  {
   "cell_type": "code",
   "execution_count": null,
   "id": "1653da76-9604-4d70-987b-439669db10a6",
   "metadata": {},
   "outputs": [],
   "source": [
    "# Create masks for different filters\n",
    "gmsk = np.where(moon_df[\"Filter\"]=='g')[0]\n",
    "rmsk = np.where(moon_df[\"Filter\"]=='r')[0]\n",
    "imsk = np.where(moon_df[\"Filter\"]=='i')[0]\n",
    "\n",
    "# Plot\n",
    "plt.figure(figsize=(8,5))\n",
    "plt.scatter(moon_df['MoonSep'][gmsk], moon_df['Objs'][gmsk], color='g', label='g')\n",
    "plt.scatter(moon_df['MoonSep'][rmsk], moon_df['Objs'][rmsk], color='r', label='r')\n",
    "plt.scatter(moon_df['MoonSep'][imsk], moon_df['Objs'][imsk], color='b', label='i')\n",
    "plt.xlabel('Moon distance (deg)')\n",
    "plt.ylabel('\"Good\" detections per image')\n",
    "plt.legend();"
   ]
  },
  {
   "cell_type": "markdown",
   "id": "8cca7380-6ca7-4b6d-97a0-2bbd9950dde1",
   "metadata": {},
   "source": [
    "#### How does the distance to the moon affect the number of good detections? (COSMOS) (This section uses the 'moondata.txt' lookup table but gets the same result as above, so I have it commented out)"
   ]
  },
  {
   "cell_type": "code",
   "execution_count": null,
   "id": "c1ccbb04-b8ec-4a08-8b95-93213bffcfcc",
   "metadata": {},
   "outputs": [],
   "source": [
    "# query = ( 'SELECT o.candidate_id, e.filename, e.filter FROM objects o '\n",
    "#          'JOIN subtractions s ON o.subtraction_id=s.id '\n",
    "#          'JOIN exposures e ON e.id=s.exposure_id '\n",
    "#          'WHERE q3c_radial_query(o.ra,o.dec,150,2.2,3) ' \n",
    "#          'AND o.rb>0.6 '\n",
    "#          'LIMIT 10000000' )\n",
    "\n",
    "# cursor.execute( query )\n",
    "\n",
    "# moonquery2 = np.array( cursor.fetchall() ).transpose()"
   ]
  },
  {
   "cell_type": "code",
   "execution_count": null,
   "id": "3609fcfc-8978-4ce7-878c-557436de9f38",
   "metadata": {},
   "outputs": [],
   "source": [
    "# fnms = [moonquery2[1][i][:21] for i in range(len(moonquery2[1]))] # truncate filenames to match lookup table format\n",
    "# cands, index, objsperimg = np.unique(moonquery2[1], return_index=True, return_counts=True)\n",
    "# table = np.loadtxt(\"moondata.txt\", dtype=np.str).transpose()\n",
    "# fnms = np.array(fnms)[index]\n",
    "# moondist = np.ones(len(fnms))\n",
    "# for i in range(len(fnms)):\n",
    "#     moondist[i] = table[1][np.where(fnms[i] == table[0])[0]]"
   ]
  },
  {
   "cell_type": "code",
   "execution_count": null,
   "id": "fce15a28-202c-4dc7-b09a-17eb4373bc16",
   "metadata": {},
   "outputs": [],
   "source": [
    "# # Create masks for different filters\n",
    "# gmsk = np.where(moonquery2[2][index]=='g')[0]\n",
    "# rmsk = np.where(moonquery2[2][index]=='r')[0]\n",
    "# imsk = np.where(moonquery2[2][index]=='i')[0]"
   ]
  },
  {
   "cell_type": "code",
   "execution_count": null,
   "id": "efc05633-c492-46cc-90a1-378930a6ab20",
   "metadata": {},
   "outputs": [],
   "source": [
    "# # Plotting it all up, looks the same as before\n",
    "\n",
    "# plt.figure(figsize=(8,5))\n",
    "# plt.scatter(moondist[gmsk], objsperimg[gmsk], color='g', label='g')\n",
    "# plt.scatter(moondist[rmsk], objsperimg[rmsk], color='r', label='r')\n",
    "# plt.scatter(moondist[imsk], objsperimg[imsk], color='b', label='i')\n",
    "# plt.xlabel('Moon distance (deg)')\n",
    "# plt.ylabel('\"Good\" detections per image')\n",
    "# plt.legend();"
   ]
  },
  {
   "cell_type": "markdown",
   "id": "95f0618e-4ce5-4392-92ec-be18a8838e59",
   "metadata": {},
   "source": [
    "#### How does moon illumination affect the number of good detections per image? (uses lookup table 'moondata.txt')"
   ]
  },
  {
   "cell_type": "code",
   "execution_count": null,
   "id": "6ae13ddf-85b8-4047-87f1-b96f966ea882",
   "metadata": {},
   "outputs": [],
   "source": [
    "query = ( 'SELECT o.candidate_id, e.filename, e.filter FROM objects o '\n",
    "         'JOIN subtractions s ON o.subtraction_id=s.id '\n",
    "         'JOIN exposures e ON e.id=s.exposure_id '\n",
    "         'WHERE q3c_radial_query(o.ra,o.dec,150,2.2,3) ' \n",
    "         'AND o.rb>0.6 '\n",
    "         'LIMIT 10000000' )\n",
    "\n",
    "cursor.execute( query )\n",
    "\n",
    "moonquery2 = np.array( cursor.fetchall() ).transpose()"
   ]
  },
  {
   "cell_type": "code",
   "execution_count": null,
   "id": "7de74199-86df-4b5e-9e33-2e241fadddb5",
   "metadata": {},
   "outputs": [],
   "source": [
    "# truncate filenames to match lookup table format\n",
    "fnms = [ moonquery2[1][i][:21] for i in range( len( moonquery2[1] ) ) ]\n",
    "\n",
    "# count the number of objects in each image (obsperimg) and create a mask to select the data for each of those exposures only once (index)\n",
    "cands, index, objsperimg = np.unique( moonquery2[1], return_index=True, return_counts=True )\n",
    "\n",
    "# load in the lookup table\n",
    "moonlt = np.loadtxt( \"moondata.txt\", dtype=np.str ).transpose()\n",
    "\n",
    "fnms = np.array( fnms )[index]\n",
    "\n",
    "# create an array of moon illuminations by matching the filenames in the query result to the filenames in the lookup table\n",
    "illum = np.ones( len( fnms ) )\n",
    "for i in range( len( fnms ) ):\n",
    "    illum[i] = moonlt[2][ np.where( fnms[i] == moonlt[0] )[0] ]"
   ]
  },
  {
   "cell_type": "code",
   "execution_count": null,
   "id": "427292d7-2ed1-4040-bc7f-9dcd4c300e4c",
   "metadata": {},
   "outputs": [],
   "source": [
    "# Create masks for different filters\n",
    "gmsk = np.where( moonquery2[2][index]=='g' )[0]\n",
    "rmsk = np.where( moonquery2[2][index]=='r' )[0]\n",
    "imsk = np.where( moonquery2[2][index]=='i' )[0]"
   ]
  },
  {
   "cell_type": "code",
   "execution_count": null,
   "id": "dd7ea7fa-afdc-4902-a0ae-6a2d1b47cd55",
   "metadata": {},
   "outputs": [],
   "source": [
    "# Plotting it\n",
    "\n",
    "plt.figure( figsize=(8,5) )\n",
    "plt.scatter( illum[gmsk], objsperimg[gmsk], color='g', label='g' )\n",
    "plt.scatter( illum[rmsk], objsperimg[rmsk], color='r', label='r' )\n",
    "plt.scatter( illum[imsk], objsperimg[imsk], color='b', label='i' )\n",
    "plt.xlabel( 'Moon illumination (fractional)' )\n",
    "plt.ylabel( '\"Good\" detections per image' )\n",
    "plt.legend();"
   ]
  },
  {
   "cell_type": "markdown",
   "id": "dc9bda6e-8c5d-45cc-a9fc-f3f37d6777f0",
   "metadata": {},
   "source": [
    "#### How does median pixel value affect number of good detections? (uses lookup table 'medpixval.txt')"
   ]
  },
  {
   "cell_type": "code",
   "execution_count": null,
   "id": "549e2582-1db2-42e1-a1d9-4bd9622bf25e",
   "metadata": {},
   "outputs": [],
   "source": [
    "query = ( 'SELECT o.candidate_id, e.filename, e.filter FROM objects o '\n",
    "         'JOIN subtractions s ON o.subtraction_id=s.id '\n",
    "         'JOIN exposures e ON e.id=s.exposure_id '\n",
    "         'WHERE q3c_radial_query(o.ra,o.dec,150,2.2,3) ' \n",
    "         'AND o.rb>0.6 '\n",
    "         'LIMIT 10000000' )\n",
    "\n",
    "cursor.execute( query )\n",
    "\n",
    "pixvalquery = np.array( cursor.fetchall() ).transpose()"
   ]
  },
  {
   "cell_type": "code",
   "execution_count": null,
   "id": "0b5f5af3-b9a4-4db6-9fc1-67a14cae3600",
   "metadata": {},
   "outputs": [],
   "source": [
    "# truncate filenames to match lookup table format\n",
    "fnms = [pixvalquery[1][i][:21] for i in range(len(pixvalquery[1]))]\n",
    "\n",
    "# count the number of objects in each image (obsperimg) and create a mask to select the data for each of those exposures only once (index)\n",
    "cands, index, objsperimg = np.unique(pixvalquery[1], return_index=True, return_counts=True)\n",
    "\n",
    "# load in the lookup table\n",
    "pixvallt = np.loadtxt(\"medpixval.txt\", dtype=np.str).transpose()\n",
    "\n",
    "# resize the filename array to only look at each exposure once (i.e. not once for every object in it)\n",
    "fnms = np.array(fnms)[index]\n",
    "\n",
    "# create an array of mmedian pixel values by matching the filenames in the query result to the filenames in the lookup table \n",
    "pixval = np.ones(len(fnms))\n",
    "for i in range(len(fnms)):\n",
    "    pixval[i] = pixvallt[1][np.where(fnms[i] == pixvallt[0])[0]]"
   ]
  },
  {
   "cell_type": "code",
   "execution_count": null,
   "id": "264095e6-c463-4034-bcf2-a3ed60f4d6d8",
   "metadata": {},
   "outputs": [],
   "source": [
    "# Create masks for different filters\n",
    "gmsk = np.where(pixvalquery[2][index]=='g')[0]\n",
    "rmsk = np.where(pixvalquery[2][index]=='r')[0]\n",
    "imsk = np.where(pixvalquery[2][index]=='i')[0]"
   ]
  },
  {
   "cell_type": "code",
   "execution_count": null,
   "id": "7f8465bf-9867-4365-b288-ee602690c4ff",
   "metadata": {},
   "outputs": [],
   "source": [
    "# Plotting it up\n",
    "plt.figure(figsize=(8,5))\n",
    "plt.scatter(pixval[gmsk], objsperimg[gmsk], color='g', label='g')\n",
    "plt.scatter(pixval[rmsk], objsperimg[rmsk], color='r', label='r')\n",
    "plt.scatter(pixval[imsk], objsperimg[imsk], color='b', label='i')\n",
    "plt.xlabel('Median pixel value')\n",
    "plt.ylabel('\"Good\" detections per image')\n",
    "plt.legend();"
   ]
  },
  {
   "cell_type": "markdown",
   "id": "691939ad-225f-464d-9421-d214c7448956",
   "metadata": {},
   "source": [
    "#### How does seeing affect the number of good detections? (COSMOS)"
   ]
  },
  {
   "cell_type": "code",
   "execution_count": null,
   "id": "7ae4bd4c-cead-4906-af65-f197bfb147ce",
   "metadata": {},
   "outputs": [],
   "source": [
    "query = ( 'SELECT o.id, s.id, s.seeing, e.filter, e.id FROM objects o '\n",
    "         'JOIN subtractions s ON o.subtraction_id=s.id '\n",
    "         'JOIN exposures e ON e.id=s.exposure_id '\n",
    "         'WHERE q3c_radial_query(o.ra,o.dec,150,2.2,3) ' \n",
    "         'AND o.rb>0.6 '\n",
    "         'LIMIT 10000000' )\n",
    "\n",
    "cursor.execute( query )\n",
    "\n",
    "seeingquery = np.array( cursor.fetchall() ).transpose()"
   ]
  },
  {
   "cell_type": "code",
   "execution_count": null,
   "id": "394a4f57-075f-44bf-a5ae-2a1af26c028f",
   "metadata": {},
   "outputs": [],
   "source": [
    "expids = seeingquery[4].astype(np.int)\n",
    "seeing = seeingquery[2].astype(np.float)\n",
    "\n",
    "# Determine which exposure IDs are present\n",
    "expids_unique = np.unique(expids)\n",
    "\n",
    "# Find the average seeing for each exposure\n",
    "seeing = np.array( [np.mean( seeing[np.where( expids == i )[0]] ) for i in expids_unique] )"
   ]
  },
  {
   "cell_type": "code",
   "execution_count": null,
   "id": "651f2d9d-5605-4da0-a6e5-07700b2eea28",
   "metadata": {},
   "outputs": [],
   "source": [
    "# determine how many objects are in each exposure, and create an array of filters resized in the same way\n",
    "exp, indices, objperimg = np.unique( seeingquery[4], return_counts=True, return_index=True )\n",
    "filters = seeingquery[3][indices]"
   ]
  },
  {
   "cell_type": "code",
   "execution_count": null,
   "id": "e33678b3-0923-4b2e-abe9-723a9308ca85",
   "metadata": {},
   "outputs": [],
   "source": [
    "# Creating masks for each filter\n",
    "gmsk = np.where( filters == 'g' )[0]\n",
    "rmsk = np.where( filters == 'r' )[0]\n",
    "imsk = np.where( filters == 'i' )[0]"
   ]
  },
  {
   "cell_type": "code",
   "execution_count": null,
   "id": "3225c1bb-fb8b-4324-808b-feb57b2a3fc0",
   "metadata": {},
   "outputs": [],
   "source": [
    "# Plotting it all up\n",
    "plt.figure(figsize=(8,5))\n",
    "plt.scatter(seeing, objperimg)\n",
    "plt.scatter( seeing[gmsk], objperimg[gmsk], color='g', label='g' )\n",
    "plt.scatter( seeing[rmsk], objperimg[rmsk], color='r', label='r' )\n",
    "plt.scatter( seeing[imsk], objperimg[imsk], color='b', label='i' )\n",
    "plt.xlabel( 'Seeing' )\n",
    "plt.ylabel( 'Good detections per image' )\n",
    "plt.legend();"
   ]
  },
  {
   "cell_type": "markdown",
   "id": "41d5427c-678d-4ded-9161-1a8563c2ee5e",
   "metadata": {},
   "source": [
    "#### How does magzp affect number of good detections? (COSMOS)"
   ]
  },
  {
   "cell_type": "code",
   "execution_count": null,
   "id": "abeacc08-02e8-4ea5-aa6f-79033e6aa318",
   "metadata": {},
   "outputs": [],
   "source": [
    "query = ( 'SELECT o.id, s.id, s.magzp, e.filter, e.id FROM objects o '\n",
    "         'JOIN subtractions s ON o.subtraction_id=s.id '\n",
    "         'JOIN exposures e ON e.id=s.exposure_id '\n",
    "         'WHERE q3c_radial_query(o.ra,o.dec,150,2.2,3) ' \n",
    "         'AND o.rb>0.6 '\n",
    "         'LIMIT 10000000' )\n",
    "\n",
    "cursor.execute( query )\n",
    "\n",
    "magzpquery = np.array( cursor.fetchall() ).transpose()"
   ]
  },
  {
   "cell_type": "code",
   "execution_count": null,
   "id": "f3574d8d-7549-4d43-9fb0-46a3f4f6d720",
   "metadata": {},
   "outputs": [],
   "source": [
    "expids = magzpquery[4].astype(np.int)\n",
    "magzp = magzpquery[2].astype(np.float)\n",
    "\n",
    "# Determine which exposure IDs are present\n",
    "expids_unique = np.unique(expids)\n",
    "\n",
    "# Find the average magzp for each exposure\n",
    "magzp = np.array( [np.mean( magzp[np.where( expids == i )[0]] ) for i in expids_unique] )"
   ]
  },
  {
   "cell_type": "code",
   "execution_count": null,
   "id": "d3cff816-4fe9-4ece-a26c-6bddb54a55f8",
   "metadata": {},
   "outputs": [],
   "source": [
    "# determine how many objects are in each exposure, and create an array of filters resized in the same way\n",
    "exp, indices, objperimg = np.unique( magzpquery[4], return_counts=True, return_index=True )\n",
    "filters = magzpquery[3][indices]"
   ]
  },
  {
   "cell_type": "code",
   "execution_count": null,
   "id": "bb7c3ab8-4fd2-4c11-b0e8-60a58fd7f89d",
   "metadata": {},
   "outputs": [],
   "source": [
    "# Creating masks for each filter\n",
    "gmsk = np.where( filters == 'g' )[0]\n",
    "rmsk = np.where( filters == 'r' )[0]\n",
    "imsk = np.where( filters == 'i' )[0]"
   ]
  },
  {
   "cell_type": "code",
   "execution_count": null,
   "id": "655579d3-0ca1-4a96-b9f8-ba3eaa1aa028",
   "metadata": {},
   "outputs": [],
   "source": [
    "# Plotting it all up\n",
    "plt.figure(figsize=(8,5))\n",
    "plt.scatter(magzp, objperimg)\n",
    "plt.scatter( magzp[gmsk], objperimg[gmsk], color='g', label='g' )\n",
    "plt.scatter( magzp[rmsk], objperimg[rmsk], color='r', label='r' )\n",
    "plt.scatter( magzp[imsk], objperimg[imsk], color='b', label='i' )\n",
    "plt.xlabel( 'Zero-point magnitude' )\n",
    "plt.ylabel( 'Good detections per image' )\n",
    "plt.legend();"
   ]
  }
 ],
 "metadata": {
  "kernelspec": {
   "display_name": "Python 3",
   "language": "python",
   "name": "python3"
  },
  "language_info": {
   "codemirror_mode": {
    "name": "ipython",
    "version": 3
   },
   "file_extension": ".py",
   "mimetype": "text/x-python",
   "name": "python",
   "nbconvert_exporter": "python",
   "pygments_lexer": "ipython3",
   "version": "3.7.4"
  }
 },
 "nbformat": 4,
 "nbformat_minor": 5
}
