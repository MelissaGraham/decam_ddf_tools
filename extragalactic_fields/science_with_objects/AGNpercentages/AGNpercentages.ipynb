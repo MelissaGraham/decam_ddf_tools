{
 "cells": [
  {
   "cell_type": "code",
   "execution_count": 1,
   "id": "85aba83f-4e96-4c81-9f71-4f0cd55701e7",
   "metadata": {},
   "outputs": [],
   "source": [
    "# For passwords & database access:\n",
    "import psycopg2\n",
    "import psycopg2.extras\n",
    "import getpass\n",
    "\n",
    "# For plotting\n",
    "import matplotlib.pyplot as plt\n",
    "import matplotlib\n",
    "from IPython.display import display\n",
    "import ipywidgets\n",
    "\n",
    "# For math\n",
    "from astropy.coordinates import SkyCoord\n",
    "import astropy.units as u\n",
    "import numpy as np\n",
    "import pandas as pd\n",
    "import shapely.wkt as wkt\n",
    "from shapely.geometry import Point"
   ]
  },
  {
   "cell_type": "code",
   "execution_count": 2,
   "id": "bcce61cb-4c44-419b-bfe1-0a219a0298af",
   "metadata": {},
   "outputs": [
    {
     "name": "stdin",
     "output_type": "stream",
     "text": [
      "DB User:  kennedyt\n",
      "DB Password:  ············\n"
     ]
    }
   ],
   "source": [
    "# Logging in\n",
    "dbuser = input(\"DB User: \")\n",
    "dbpasswd = getpass.getpass(\"DB Password: \")\n",
    "db = psycopg2.connect( f\"dbname='decat' user='{dbuser}' password='{dbpasswd}' host='decatdb.lbl.gov'\" )\n",
    "\n",
    "db.autocommit = True # Makes the computer nicer about SQL syntax errors\n",
    "\n",
    "cursor = db.cursor( cursor_factory = psycopg2.extras.DictCursor )"
   ]
  },
  {
   "cell_type": "code",
   "execution_count": 3,
   "id": "7cff0789-6b48-4b2b-aa6d-55a95b8b8af3",
   "metadata": {},
   "outputs": [],
   "source": [
    "### Pull all cand ras+decs:\n",
    "query = (\"SELECT c.ra, c.dec FROM candidates c \"\n",
    "         \"JOIN objects o ON o.candidate_id=c.id \"\n",
    "         \"JOIN subtractions s ON s.id=o.subtraction_id \"\n",
    "         \"JOIN exposures e ON e.id = s.exposure_id \"\n",
    "         \"WHERE (e.proposalid = '2021A-0113' \"\n",
    "         \"OR e.proposalid = '2021B-0149' )\"\n",
    "         \"AND c.dec > 0 \"\n",
    "         \"LIMIT 10000000\")\n",
    "cursor.execute( query, )\n",
    "\n",
    "radecquery = np.array(cursor.fetchall()).transpose().astype(float)\n",
    "radecquery = np.unique(radecquery.transpose(), axis=0).transpose()"
   ]
  },
  {
   "cell_type": "code",
   "execution_count": 4,
   "id": "4d48dbb8-03ff-4440-b25b-b71a0741b2c8",
   "metadata": {},
   "outputs": [],
   "source": [
    "### Create a polygon object using all of those points as vertices\n",
    "polystr = str([str(i[0])+\" \"+str(i[1]) for i in np.round(radecquery.T,2)]).replace(\"'\",\"\")\n",
    "pol = wkt.loads(\"\"\"\n",
    "POLYGON\n",
    "(({}))\n",
    "\"\"\".format(polystr[1:-1]+', '+polystr[1:12]))"
   ]
  },
  {
   "cell_type": "code",
   "execution_count": 5,
   "id": "e3b47b50-ddec-4de1-865d-1d0b0b9287f7",
   "metadata": {},
   "outputs": [
    {
     "data": {
      "text/plain": [
       "[<matplotlib.lines.Line2D at 0x1555188d8250>]"
      ]
     },
     "execution_count": 5,
     "metadata": {},
     "output_type": "execute_result"
    },
    {
     "data": {
      "image/png": "[encoded data removed]",
      "text/plain": [
       "<Figure size 432x288 with 1 Axes>"
      ]
     },
     "metadata": {
      "needs_background": "light"
     },
     "output_type": "display_data"
    }
   ],
   "source": [
    "### Simplify the polygon to the simplest convex shape that encloses all data:\n",
    "polconvhull = pol.convex_hull\n",
    "convhullarr = polconvhull.exterior.coords.xy\n",
    "\n",
    "plt.scatter(*radecquery)\n",
    "plt.plot(convhullarr[0],convhullarr[1],color='orange') # orange is simplest convex polygon enclosing all pts"
   ]
  },
  {
   "cell_type": "code",
   "execution_count": 6,
   "id": "29e74af2-e683-4131-9240-17c737b42c8e",
   "metadata": {},
   "outputs": [
    {
     "name": "stdout",
     "output_type": "stream",
     "text": [
      "SELECT distinct main_id, ra, dec, otype_txt\n",
      "FROM basic\n",
      "WHERE otype = 'AGN..'\n",
      "AND CONTAINS(POINT('ICRS', ra, dec), POLYGON('ICRS', 148.76, 0.77, 148.3, 1.26, 148.14, 1.6, 148.14, 1.91, 148.3, 2.23, 149.07, 3.57, 149.23, 3.75, 149.38, 3.91, 149.54, 4.08, 150.46, 4.08, 150.62, 3.91, 150.77, 3.75, 150.93, 3.57, 151.71, 2.23, 151.86, 1.73, 151.86, 1.59, 151.71, 1.26, 151.24, 0.77, 148.76, 0.77)) = 1\n",
      "GROUP BY main_id, otype_txt, ra, dec\n"
     ]
    }
   ],
   "source": [
    "### Grap every AGN within that orange boundary from SIMBAD at http://simbad.u-strasbg.fr/simbad/sim-tap\n",
    "### Use this query, save as result.txt in this directory\n",
    "print(\"SELECT distinct main_id, ra, dec, otype_txt\")\n",
    "print(\"FROM basic\")\n",
    "print(\"WHERE otype = 'AGN..'\") # 'AGN..' here means all subtypes of AGN (QSOs, seyferts, etc.)\n",
    "print(\"AND CONTAINS(POINT('ICRS', ra, dec), POLYGON('ICRS', {})) = 1\".format(str(list(np.array(convhullarr).T.flatten()))[1:-1]))\n",
    "print(\"GROUP BY main_id, otype_txt, ra, dec\")\n",
    "\n",
    "### SIMBAD ADQL queries for two biggest catalogs for AGN in this field, the POLYGON numbers aren't excluding any of their data\n",
    "### Alternatively, you can use the files COSMOS2015_result.txt or ACS-GC_result.txt in the next cell\n",
    "# \"\"\"\n",
    "# SELECT distinct IDENT.id, basic.ra, basic.dec, basic.otype_txt\n",
    "# FROM basic\n",
    "# JOIN IDENT on IDENT.oidref=basic.oid\n",
    "# WHERE basic.otype = 'AGN..'\n",
    "# AND IDENT.id like 'COSMOS2015%'\n",
    "# AND CONTAINS(POINT('ICRS', basic.ra, basic.dec), POLYGON('ICRS', 148.76, 0.77, 148.3, 1.26, 148.14, 1.6, 148.14, 1.91, 148.3, 2.23, 149.07, 3.57, 149.23, 3.75, 149.38, 3.91, 149.54, 4.08, 150.46, 4.08, 150.62, 3.91, 150.77, 3.75, 150.93, 3.57, 151.71, 2.23, 151.86, 1.73, 151.86, 1.59, 151.71, 1.26, 151.24, 0.77, 148.76, 0.77)) = 1\n",
    "# GROUP BY IDENT.id, basic.otype_txt, basic.ra, basic.dec\n",
    "# \"\"\"\n",
    "\n",
    "# \"\"\"\n",
    "# SELECT distinct IDENT.id, basic.ra, basic.dec, basic.otype_txt\n",
    "# FROM basic\n",
    "# JOIN IDENT on IDENT.oidref=basic.oid\n",
    "# WHERE basic.otype = 'AGN..'\n",
    "# AND IDENT.id like 'ACS-GC%'\n",
    "# AND CONTAINS(POINT('ICRS', basic.ra, basic.dec), POLYGON('ICRS', 148.76, 0.77, 148.3, 1.26, 148.14, 1.6, 148.14, 1.91, 148.3, 2.23, 149.07, 3.57, 149.23, 3.75, 149.38, 3.91, 149.54, 4.08, 150.46, 4.08, 150.62, 3.91, 150.77, 3.75, 150.93, 3.57, 151.71, 2.23, 151.86, 1.73, 151.86, 1.59, 151.71, 1.26, 151.24, 0.77, 148.76, 0.77)) = 1\n",
    "# GROUP BY IDENT.id, basic.otype_txt, basic.ra, basic.dec\n",
    "# \"\"\";"
   ]
  },
  {
   "cell_type": "code",
   "execution_count": 91,
   "id": "ea9c1241-f549-427e-a594-235c12c66678",
   "metadata": {},
   "outputs": [],
   "source": [
    "agn = np.loadtxt('./COSMOS_result.txt', skiprows=2,delimiter='|', dtype=str) # All catalogs\n",
    "# agns = np.loadtxt('./ACS-GC_result.txt', skiprows=2,delimiter='|', dtype=str) # ACS-GC catalog only\n",
    "# agns = np.loadtxt('./COSMOS2015_result.txt', skiprows=2,delimiter='|', dtype=str) # COSMOS2015 catalog only\n",
    "\n",
    "agnnames, agnras, agndecs, agntypes = agn.T\n",
    "agnras, agndecs = agnras.astype(float), agndecs.astype(float)\n",
    "agncoords = np.array([agnras,agndecs]).T"
   ]
  },
  {
   "cell_type": "code",
   "execution_count": 92,
   "id": "ea2c9432-1766-4412-a652-91ffc6456289",
   "metadata": {},
   "outputs": [
    {
     "data": {
      "text/plain": [
       "array([[148.64301056,   2.59270066],\n",
       "       [149.59890909,   1.2099168 ],\n",
       "       [149.661917  ,   2.39674   ],\n",
       "       ...,\n",
       "       [150.64840833,   1.817525  ],\n",
       "       [150.57816667,   1.97094444],\n",
       "       [149.70599583,   2.419475  ]])"
      ]
     },
     "execution_count": 92,
     "metadata": {},
     "output_type": "execute_result"
    }
   ],
   "source": [
    "### Now have coords for every agn in the orange boundary (this includes things outside our fields still)\n",
    "agncoords"
   ]
  },
  {
   "cell_type": "markdown",
   "id": "e2d74f26-134e-4b84-883e-f884736e1644",
   "metadata": {
    "tags": []
   },
   "source": [
    "#### This section needs to be less generous, but is close to correct"
   ]
  },
  {
   "cell_type": "code",
   "execution_count": 93,
   "id": "ab07e92b-a366-4ec9-ab14-ebc558dafa0c",
   "metadata": {},
   "outputs": [
    {
     "data": {
      "image/png": "[encoded data removed]",
      "text/plain": [
       "<Figure size 432x288 with 1 Axes>"
      ]
     },
     "metadata": {
      "needs_background": "light"
     },
     "output_type": "display_data"
    }
   ],
   "source": [
    "### Create a stricter boundary now that we have the raw data:\n",
    "### I do this by making a grid and labelling each rectangle as 'containing data' or not \n",
    "### (if I don't condense the data like this, it's computationally prohibitive)\n",
    "\n",
    "plt.scatter(radecquery[0],radecquery[1])\n",
    "plt.title(\"All COSMOS cands\")\n",
    "plt.xlabel(\"RA\")\n",
    "plt.ylabel(\"Dec\")\n",
    "prec=0.1\n",
    "ys = np.arange(0.65,4.25,prec)\n",
    "xs = np.arange(148,152,prec)\n",
    "xys = np.meshgrid(xs,ys)\n",
    "\n",
    "for i in ys:\n",
    "    plt.axhline(i, color='black',lw=0.2)\n",
    "for i in xs:\n",
    "    plt.axvline(i, color='black',lw=0.2)"
   ]
  },
  {
   "cell_type": "code",
   "execution_count": 94,
   "id": "92ea808a-2e8c-456a-83f9-e1aa0b364b0c",
   "metadata": {},
   "outputs": [],
   "source": [
    "good = []\n",
    "for i in range(len(xs)):\n",
    "    for j in range(len(ys)):\n",
    "        data = radecquery[0][np.where((radecquery[0]<xs[i]+prec) & (radecquery[0]>xs[i]) \\\n",
    "                                      & (radecquery[1]<ys[j]+prec) & (radecquery[1]>ys[j]))[0]]\n",
    "        if len(data) > 0:\n",
    "            good.append([i,j])\n",
    "goodidx = np.array(good).transpose()\n",
    "goodxs = xs[goodidx[0]] + prec/2\n",
    "goodys = ys[goodidx[1]] + prec/2\n",
    "goods = np.array([goodxs,goodys])"
   ]
  },
  {
   "cell_type": "code",
   "execution_count": 95,
   "id": "dad1bd32-036e-4927-a5a9-3c415987bf8e",
   "metadata": {},
   "outputs": [
    {
     "data": {
      "image/png": "[encoded data removed]",
      "text/plain": [
       "<Figure size 432x288 with 1 Axes>"
      ]
     },
     "metadata": {
      "needs_background": "light"
     },
     "output_type": "display_data"
    }
   ],
   "source": [
    "plt.scatter(*radecquery,color='orange')\n",
    "plt.scatter(*goods,lw=0.05)\n",
    "for i in ys:\n",
    "    plt.axhline(i, color='black',lw=0.2)\n",
    "for i in xs:\n",
    "    plt.axvline(i, color='black',lw=0.2)"
   ]
  },
  {
   "cell_type": "code",
   "execution_count": 96,
   "id": "db6f26ce-8c8e-4e7c-9d86-3489e12900b7",
   "metadata": {},
   "outputs": [],
   "source": [
    "pol2str = str([str(i[0])+\" \"+str(i[1]) for i in np.round(goods.T,2)]).replace(\"'\",\"\")\n",
    "pol2 = wkt.loads(\"\"\"\n",
    "POLYGON\n",
    "(({}))\n",
    "\"\"\".format(pol2str[1:-1]+', '+pol2str[1:11]))\n",
    "pol3 = pol2.buffer(0.1)\n",
    "pol3arr = pol3.exterior.coords.xy"
   ]
  },
  {
   "cell_type": "code",
   "execution_count": 97,
   "id": "04f6c859-effe-4605-9010-0265d0fb8199",
   "metadata": {},
   "outputs": [],
   "source": [
    "agnmsk = []\n",
    "for coord in agncoords:\n",
    "    pt = Point(coord[0],coord[1])\n",
    "    agnmsk.append(pt.within(pol3))\n",
    "agncoords1 = agncoords[agnmsk]\n",
    "agnnames1 = agnnames[agnmsk]\n",
    "agntypes1 = agntypes[agnmsk]"
   ]
  },
  {
   "cell_type": "code",
   "execution_count": 98,
   "id": "b067355b-7b5c-49e6-9376-c6911743db7d",
   "metadata": {},
   "outputs": [
    {
     "data": {
      "text/plain": [
       "(3944, 3926)"
      ]
     },
     "execution_count": 98,
     "metadata": {},
     "output_type": "execute_result"
    }
   ],
   "source": [
    "len(agncoords), len(agncoords1)"
   ]
  },
  {
   "cell_type": "code",
   "execution_count": 99,
   "id": "5d2c0468-1ed1-4a85-ac36-6892dc5926d4",
   "metadata": {},
   "outputs": [
    {
     "data": {
      "text/plain": [
       "<matplotlib.legend.Legend at 0x155514914b20>"
      ]
     },
     "execution_count": 99,
     "metadata": {},
     "output_type": "execute_result"
    },
    {
     "data": {
      "image/png": "[encoded data removed]",
      "text/plain": [
       "<Figure size 432x288 with 1 Axes>"
      ]
     },
     "metadata": {
      "needs_background": "light"
     },
     "output_type": "display_data"
    }
   ],
   "source": [
    "plt.scatter(*radecquery)\n",
    "plt.scatter(*agncoords.T,color='red', lw=0.1, label=\"Masked out\")\n",
    "plt.plot(*pol3arr, color='orange')\n",
    "plt.scatter(*agncoords1.T,color='black', lw=0.1, label=\"In new polygon\")\n",
    "plt.legend(loc='upper right')"
   ]
  },
  {
   "cell_type": "markdown",
   "id": "e9b4de2c-cd65-468b-910e-9118cd53efc8",
   "metadata": {},
   "source": [
    "#### So now we have all of the known QSOs we could theoretically detect in COSMOS\n",
    "Next step is to match them up to \"probably-real\" candidates"
   ]
  },
  {
   "cell_type": "code",
   "execution_count": 100,
   "id": "68371f18-f049-400c-85c0-af657e3a9956",
   "metadata": {},
   "outputs": [],
   "source": [
    "### Grab all cand names for 'probably-real' cands\n",
    "realcandsarr = np.genfromtxt('../candidate_nightly_epochs_files/candidate_lightcurve_parameters.dat', dtype=str)\n",
    "realcands = np.unique(realcandsarr.T[1])"
   ]
  },
  {
   "cell_type": "code",
   "execution_count": 101,
   "id": "272792ca-a50c-4c14-ac84-166edea26e94",
   "metadata": {},
   "outputs": [],
   "source": [
    "### Find coords and make SkyCoord objects for all candidates:\n",
    "candcoord = []\n",
    "for i in realcands:\n",
    "    query = (\"SELECT c.ra, c.dec FROM candidates c \"\n",
    "             \"WHERE c.id = %s \"\n",
    "             \"LIMIT 1\")\n",
    "    cursor.execute(query,(i,))\n",
    "    res = np.array(cursor.fetchall())[0]\n",
    "    candcoord.append([i,res])\n",
    "candcoord1 = np.array([[i[0], SkyCoord(i[1][0],i[1][1], unit='deg')] for i in candcoord])"
   ]
  },
  {
   "cell_type": "code",
   "execution_count": 102,
   "id": "95cb8dd1-a71a-4273-ad14-8094b25f4a8c",
   "metadata": {
    "tags": []
   },
   "outputs": [],
   "source": [
    "### Make a catalog-style set of SkyCoords for the SIMBAD sample\n",
    "agncoords2 = SkyCoord(agncoords1,unit='deg')"
   ]
  },
  {
   "cell_type": "code",
   "execution_count": 103,
   "id": "d95aaac8-f840-4890-8cdd-ecb348ee34af",
   "metadata": {},
   "outputs": [
    {
     "name": "stderr",
     "output_type": "stream",
     "text": [
      "/tmp/ipykernel_43417/2178453017.py:7: VisibleDeprecationWarning: Creating an ndarray from ragged nested sequences (which is a list-or-tuple of lists-or-tuples-or ndarrays with different lengths or shapes) is deprecated. If you meant to do this, you must specify 'dtype=object' when creating the ndarray.\n",
      "  matches = np.array(matches)\n"
     ]
    }
   ],
   "source": [
    "### Match the datasets with a 2 arcsec radius\n",
    "matches = []\n",
    "for i, coord in enumerate(candcoord1.T[1]):\n",
    "    idx, sep2d, dist3d = coord.match_to_catalog_sky(agncoords2)\n",
    "    if sep2d < 2*u.arcsec:\n",
    "        matches.append([i,coord,idx, sep2d])\n",
    "matches = np.array(matches)"
   ]
  },
  {
   "cell_type": "code",
   "execution_count": 104,
   "id": "96fe76d0-a3b0-42d0-a7d0-3bd51fa8d5e1",
   "metadata": {},
   "outputs": [
    {
     "name": "stdout",
     "output_type": "stream",
     "text": [
      "We detected 295 known agn as 'probably-real' candidates, out of 3926 known agn\n",
      "This represents 7.5140091696383084 percent of the known agn in our field\n"
     ]
    }
   ],
   "source": [
    "print(\"We detected {} known agn as 'probably-real' candidates, out of {} known agn\".format(len(matches), len(agncoords1)))\n",
    "print(\"This represents {} percent of the known agn in our field\".format(len(matches)/len(agncoords1)*100))\n"
   ]
  },
  {
   "cell_type": "code",
   "execution_count": 105,
   "id": "7c5f6b25-40b0-4446-8038-122af6a41f35",
   "metadata": {},
   "outputs": [
    {
     "name": "stdout",
     "output_type": "stream",
     "text": [
      "For the ACS-GC sample:\n",
      "found 89 out of 3214 \"AGN\"     (2.77 %)\n",
      "found 191 out of 595 \"QSO\"     (32.1 %)\n",
      "found 14 out of 58 \"Sy1\"     (24.14 %)\n",
      "found 1 out of 24 \"Sy2\"     (4.17 %)\n"
     ]
    }
   ],
   "source": [
    "matchmsk = matches.T[2].astype(int)\n",
    "agncoordsmatched = agncoords1[matchmsk]\n",
    "agntypesmatched = agntypes1[matchmsk]\n",
    "agnnamesmatched = agnnames1[matchmsk]\n",
    "print(\"For the ACS-GC sample:\")\n",
    "for typee in np.unique(agntypesmatched):\n",
    "    msk = np.where(agntypesmatched==typee)[0]\n",
    "    nummatched = len(agnnamesmatched[msk])\n",
    "    numtot = len(agnnames1[agntypes1==typee])\n",
    "    perc = np.round(nummatched/numtot*100,2)\n",
    "    print(\"found {} out of {} {} ({} %)\".format(nummatched, numtot,typee,perc))"
   ]
  }
 ],
 "metadata": {
  "kernelspec": {
   "display_name": "NERSC Python",
   "language": "python",
   "name": "python3"
  },
  "language_info": {
   "codemirror_mode": {
    "name": "ipython",
    "version": 3
   },
   "file_extension": ".py",
   "mimetype": "text/x-python",
   "name": "python",
   "nbconvert_exporter": "python",
   "pygments_lexer": "ipython3",
   "version": "3.9.7"
  }
 },
 "nbformat": 4,
 "nbformat_minor": 5
}
