{
 "cells": [
  {
   "cell_type": "markdown",
   "id": "517d7cf5-eeff-44f6-91cb-83eb7aa1c7e0",
   "metadata": {},
   "source": [
    "# 01_demo_candidates\n",
    "\n",
    "Author: Melissa Graham\n",
    "\n",
    "This notebook demonstrates the contents of several publicly available files containing data for the \"probably-real\" candidates.\n",
    "\n",
    "Recall:\n",
    " * \"object\" refers to a single detection in a difference image\n",
    " * \"candidate\" refers to associated detections at a given sky location\n",
    " * \"probably-real\" candidates means >10 detections, mean R/B>0.6\n",
    "   * cuts shown to be reasonable in `extragalactic_fields/source_detection_summary_figures.ipynb`\n",
    "   * cuts also discussed in Section 3 of Graham et al. (in prep)"
   ]
  },
  {
   "cell_type": "code",
   "execution_count": null,
   "id": "69f05e45-1e0a-4d74-ad34-691e84b96396",
   "metadata": {},
   "outputs": [],
   "source": [
    "# import os\n",
    "import numpy as np\n",
    "import matplotlib as mpl\n",
    "import matplotlib.pyplot as plt\n",
    "# import pandas as pd\n",
    "\n",
    "# from copy import deepcopy\n",
    "import time"
   ]
  },
  {
   "cell_type": "markdown",
   "id": "11341eaa-5eba-40a1-b94a-1e61e43b2448",
   "metadata": {},
   "source": [
    "## Read data files\n",
    "\n",
    "All of the data files have headers explaining when they were created, by which code, and what the columns are."
   ]
  },
  {
   "cell_type": "markdown",
   "id": "b3fc3b73-f381-4302-b5a1-5de2eae828df",
   "metadata": {},
   "source": [
    "### Exposures\n",
    "\n",
    "Information about the exposures obtained for the extragalactic fields, COSMOS and ELAIS.\n",
    "\n",
    "Columns which are mean values are the average over all subtractions, or in other words all CCDs, of the exposure."
   ]
  },
  {
   "cell_type": "code",
   "execution_count": null,
   "id": "607b857c-523b-4b34-9d86-d26ea17348fa",
   "metadata": {},
   "outputs": [],
   "source": [
    "fnm = '../source_detection_summary_files/exposures.dat'\n",
    "exp_field  = np.loadtxt( fnm, dtype='str',   usecols=(0) )  # field, COSMOS or ELAIS\n",
    "exp_cal    = np.loadtxt( fnm, dtype='str',   usecols=(1) )  # calendar date\n",
    "exp_fbs    = np.loadtxt( fnm, dtype='str',   usecols=(2) )  # filename base\n",
    "exp_id     = np.loadtxt( fnm, dtype='int',   usecols=(3) )  # exposure identifier\n",
    "exp_mjd    = np.loadtxt( fnm, dtype='float', usecols=(4) )  # modified julian date\n",
    "exp_filter = np.loadtxt( fnm, dtype='str',   usecols=(5) )  # filter\n",
    "exp_mlmg   = np.loadtxt( fnm, dtype='float', usecols=(6) )  # mean limiting magnitude (mag)\n",
    "exp_msee   = np.loadtxt( fnm, dtype='float', usecols=(7) )  # mean seeing (arcsec)\n",
    "exp_msks   = np.loadtxt( fnm, dtype='float', usecols=(8) )  # mean sky background (counts)\n",
    "exp_tnobj  = np.loadtxt( fnm, dtype='int',   usecols=(9) )  # number of objects\n",
    "exp_tnobjg = np.loadtxt( fnm, dtype='int',   usecols=(10) ) # number of objects with R/B score > 0.6 \n",
    "del fnm"
   ]
  },
  {
   "cell_type": "code",
   "execution_count": null,
   "id": "81d5d36b-39c2-4888-9b09-abc03579b36a",
   "metadata": {},
   "outputs": [],
   "source": [
    "print(len(exp_field))"
   ]
  },
  {
   "cell_type": "markdown",
   "id": "2db4a5b9-3b19-4afb-bf5b-effd7dea76e4",
   "metadata": {},
   "source": [
    "### Candidates\n",
    "\n",
    "This file only contains \"probably-real\" candidates, which had >10 detections and a mean R/B>0.4.\n",
    "\n",
    "Recall that 'object' means 'detection in a single difference image'."
   ]
  },
  {
   "cell_type": "code",
   "execution_count": null,
   "id": "5e9ec015-aaf3-4067-9fe5-3517c24c0820",
   "metadata": {},
   "outputs": [],
   "source": [
    "fnm = '../source_detection_summary_files/candidates.dat'\n",
    "cand_field    = np.loadtxt( fnm, dtype='str',   usecols=(0) ) # field, COSMOS or ELAIS\n",
    "cand_id       = np.loadtxt( fnm, dtype='str',   usecols=(1) ) # candidate identifier\n",
    "cand_ra       = np.loadtxt( fnm, dtype='float', usecols=(2) ) # right ascension (deg)\n",
    "cand_dec      = np.loadtxt( fnm, dtype='float', usecols=(3) ) # declination (deg)\n",
    "\n",
    "cand_cobj     = np.loadtxt( fnm, dtype='int',   usecols=(4) ) # number of objects\n",
    "cand_meanrb   = np.loadtxt( fnm, dtype='float', usecols=(5) ) # mean R/B score of objects\n",
    "cand_stdrb    = np.loadtxt( fnm, dtype='float', usecols=(6) ) # standard deviation of R/B score of objects\n",
    "cand_tspan    = np.loadtxt( fnm, dtype='float', usecols=(7) ) # time span between first and last object (days)\n",
    "cand_amp      = np.loadtxt( fnm, dtype='float', usecols=(8) ) # amplitude between brightest and faintest object (mag)\n",
    "\n",
    "cand_cobj_g   = np.loadtxt( fnm, dtype='int',   usecols=(9) )\n",
    "cand_meanrb_g = np.loadtxt( fnm, dtype='float', usecols=(10) )\n",
    "cand_stdrb_g  = np.loadtxt( fnm, dtype='float', usecols=(11) )\n",
    "cand_tspan_g  = np.loadtxt( fnm, dtype='float', usecols=(12) )\n",
    "cand_amp_g    = np.loadtxt( fnm, dtype='float', usecols=(13) )\n",
    "\n",
    "cand_cobj_r   = np.loadtxt( fnm, dtype='int',   usecols=(14) )\n",
    "cand_meanrb_r = np.loadtxt( fnm, dtype='float', usecols=(15) )\n",
    "cand_stdrb_r  = np.loadtxt( fnm, dtype='float', usecols=(16) )\n",
    "cand_tspan_r  = np.loadtxt( fnm, dtype='float', usecols=(17) )\n",
    "cand_amp_r    = np.loadtxt( fnm, dtype='float', usecols=(18) )\n",
    "\n",
    "cand_cobj_i   = np.loadtxt( fnm, dtype='int',   usecols=(19) )\n",
    "cand_meanrb_i = np.loadtxt( fnm, dtype='float', usecols=(20) )\n",
    "cand_stdrb_i  = np.loadtxt( fnm, dtype='float', usecols=(21) )\n",
    "cand_tspan_i  = np.loadtxt( fnm, dtype='float', usecols=(22) )\n",
    "cand_amp_i    = np.loadtxt( fnm, dtype='float', usecols=(23) )\n",
    "\n",
    "del fnm"
   ]
  },
  {
   "cell_type": "code",
   "execution_count": null,
   "id": "823043e7-bb6f-4e30-9dd2-4706994af349",
   "metadata": {},
   "outputs": [],
   "source": [
    "print(len(cand_field))"
   ]
  },
  {
   "cell_type": "markdown",
   "id": "96992e0e-7bd3-4465-96b4-5c650388dbf5",
   "metadata": {},
   "source": [
    "### Objects\n",
    "\n",
    "These are objects that are associated with a \"probably real\" candidate only.\n",
    "\n",
    "Since this is a deep drilling survey, there can be multiple objects in a given filter in a given night."
   ]
  },
  {
   "cell_type": "code",
   "execution_count": null,
   "id": "020572a1-1c13-4e13-9b2a-d6810b5db869",
   "metadata": {},
   "outputs": [],
   "source": [
    "fnm = '../source_detection_summary_files/candidate_objects.dat'\n",
    "obj_field  = np.loadtxt( fnm, dtype='str',   usecols=(0) )  # field, COSMOS or ELAIS\n",
    "obj_candid = np.loadtxt( fnm, dtype='str',   usecols=(1) )  # candidate identifier\n",
    "obj_id     = np.loadtxt( fnm, dtype='str',   usecols=(2) )  # object identifier\n",
    "obj_ra     = np.loadtxt( fnm, dtype='float', usecols=(3) )  # right ascension\n",
    "obj_dec    = np.loadtxt( fnm, dtype='float', usecols=(4) )  # declination\n",
    "obj_mjd    = np.loadtxt( fnm, dtype='float', usecols=(5) )  # modified julian date\n",
    "obj_filter = np.loadtxt( fnm, dtype='str',   usecols=(6) )  # filter\n",
    "obj_mag    = np.loadtxt( fnm, dtype='float', usecols=(7) )  # apparent magnitude\n",
    "obj_mage   = np.loadtxt( fnm, dtype='float', usecols=(8) )  # error in apparent magnitude\n",
    "obj_rb     = np.loadtxt( fnm, dtype='float', usecols=(9) )  # real/bogus score\n",
    "obj_expid  = np.loadtxt( fnm, dtype='int',   usecols=(10) ) # exposure id\n",
    "del fnm"
   ]
  },
  {
   "cell_type": "code",
   "execution_count": null,
   "id": "c18ad8e0-d2d0-4ea1-b345-95283d7ddf7a",
   "metadata": {},
   "outputs": [],
   "source": [
    "print(len(obj_field))"
   ]
  },
  {
   "cell_type": "markdown",
   "id": "2ce22054-23be-448d-a562-b0367e64fbd2",
   "metadata": {},
   "source": [
    "### Nightly-Epoch Lightcurves for Candidates\n",
    "\n",
    "'Epoch' means 'night'. These are lightcurves for which the photometry for a given night has been combined.\n",
    "\n",
    "The magnitude error (`mage`) has two components, added in quadrature:\n",
    " 1. the mean of all objects' magnitude errors\n",
    " 2. the standard deviation in the objects' magnitudes\n",
    " \n",
    "In this file, every epoch is included, whether or not the candidate was detected in that epoch.\n",
    "\n",
    "Thus, in some cases the `Nobj`=0, and `mag`, `mage`, and `mrb` are `NaN`, and the limiting magnitude can be used as an upper limit."
   ]
  },
  {
   "cell_type": "code",
   "execution_count": null,
   "id": "c759bf20-8ded-4745-9098-c46e25422e59",
   "metadata": {},
   "outputs": [],
   "source": [
    "fnm = '../candidate_nightly_epochs_files/candidate_lightcurves.dat'\n",
    "candLC_field  = np.loadtxt( fnm, dtype='str',   usecols=(0) ) # field, COSMOS or ELAIS\n",
    "candLC_candid = np.loadtxt( fnm, dtype='str',   usecols=(1) ) # candidate identifier\n",
    "candLC_cal    = np.loadtxt( fnm, dtype='str',   usecols=(2) ) # calendar date of epoch\n",
    "candLC_mjd    = np.loadtxt( fnm, dtype='float', usecols=(3) ) # modified julian date (mean of all exposures)\n",
    "candLC_filter = np.loadtxt( fnm, dtype='str',   usecols=(4) ) # filter\n",
    "candLC_Nobj   = np.loadtxt( fnm, dtype='int',   usecols=(5) ) # number of objects combined \n",
    "candLC_mag    = np.loadtxt( fnm, dtype='float', usecols=(6) ) # mean magnitude of all objects combined\n",
    "candLC_mage   = np.loadtxt( fnm, dtype='float', usecols=(7) ) # magnitude error (see text above)\n",
    "candLC_mrb    = np.loadtxt( fnm, dtype='float', usecols=(8) ) # mean real bogus score for all objects combined\n",
    "candLC_maglim = np.loadtxt( fnm, dtype='float', usecols=(9) ) # mean limiting magnitude of all exposures in epoch\n",
    "del fnm"
   ]
  },
  {
   "cell_type": "code",
   "execution_count": null,
   "id": "5396bc79-c35b-46fb-a5a2-2d3e7a651754",
   "metadata": {},
   "outputs": [],
   "source": [
    "print(len(candLC_field))"
   ]
  },
  {
   "cell_type": "markdown",
   "id": "bcf86a5f-d676-4b8c-b7db-80ce0d7c01ca",
   "metadata": {},
   "source": [
    "Summary parameters for the nightly-epoch lightcurves."
   ]
  },
  {
   "cell_type": "code",
   "execution_count": null,
   "id": "ef5dd285-4a16-4d01-8f89-595dcd8516ea",
   "metadata": {},
   "outputs": [],
   "source": [
    "fnm = '../candidate_nightly_epochs_files/candidate_lightcurve_parameters.dat'\n",
    "paramLC_field    = np.loadtxt( fnm, dtype='str',   usecols=(0) ) # field, COSMOS or ELAIS\n",
    "paramLC_candid   = np.loadtxt( fnm, dtype='str',   usecols=(1) ) # candidate identifier\n",
    "paramLC_tspan    = np.loadtxt( fnm, dtype='float', usecols=(2) ) # time span in days (first to last epoch)\n",
    "paramLC_tspan_g  = np.loadtxt( fnm, dtype='float', usecols=(3) )\n",
    "paramLC_tspan_r  = np.loadtxt( fnm, dtype='float', usecols=(4) )\n",
    "paramLC_tspan_i  = np.loadtxt( fnm, dtype='float', usecols=(5) )\n",
    "paramLC_minmag   = np.loadtxt( fnm, dtype='float', usecols=(6) ) # brightest magnitude detected\n",
    "paramLC_minmag_g = np.loadtxt( fnm, dtype='float', usecols=(7) )\n",
    "paramLC_minmag_r = np.loadtxt( fnm, dtype='float', usecols=(8) )\n",
    "paramLC_minmag_i = np.loadtxt( fnm, dtype='float', usecols=(9) )\n",
    "paramLC_amp      = np.loadtxt( fnm, dtype='float', usecols=(10) ) # amplitude, difference between brightest and faintest epoch detected\n",
    "paramLC_amp_g    = np.loadtxt( fnm, dtype='float', usecols=(11) )\n",
    "paramLC_amp_r    = np.loadtxt( fnm, dtype='float', usecols=(12) )\n",
    "paramLC_amp_i    = np.loadtxt( fnm, dtype='float', usecols=(13) )\n",
    "paramLC_neps     = np.loadtxt( fnm, dtype='int',   usecols=(14) ) # number of epochs detected\n",
    "paramLC_neps_g   = np.loadtxt( fnm, dtype='int',   usecols=(15) )\n",
    "paramLC_neps_r   = np.loadtxt( fnm, dtype='int',   usecols=(16) )\n",
    "paramLC_neps_i   = np.loadtxt( fnm, dtype='int',   usecols=(17) )\n",
    "del fnm"
   ]
  },
  {
   "cell_type": "code",
   "execution_count": null,
   "id": "a1b07dc1-7f31-4a6b-b7d1-a9c96bb40862",
   "metadata": {},
   "outputs": [],
   "source": [
    "print(len(paramLC_field))"
   ]
  },
  {
   "cell_type": "markdown",
   "id": "1c0e0ad8-36d3-4ed9-b5e4-502ae7e33a20",
   "metadata": {},
   "source": [
    "## Demonstrate How To Use The Data\n",
    "\n",
    "### For one SN-like candidate, DC21cgfrp\n",
    "\n",
    "Selected DC21cgfrp as a nice example from the plot in MLG_snia_menagerie.ipynb."
   ]
  },
  {
   "cell_type": "code",
   "execution_count": null,
   "id": "69f45466-b713-46eb-9d4b-09d6d3051d87",
   "metadata": {},
   "outputs": [],
   "source": [
    "all_filters = ['g','r','i']\n",
    "all_fcolors = ['green','red','blue']\n",
    "all_fshapes = ['o','s','*']\n",
    "all_fsizes  = [5, 5, 7]\n",
    "\n",
    "use_candid = 'DC21cgfrp'\n",
    "\n",
    "ox = np.where( obj_candid == use_candid )[0]\n",
    "cx = np.where( candLC_candid == use_candid )[0]"
   ]
  },
  {
   "cell_type": "markdown",
   "id": "4d86c56a-ac2d-4a20-8491-5dd627bda33f",
   "metadata": {},
   "source": [
    "#### Use object and nightly-epoch photometry together\n",
    "\n",
    "Create a lightcurve figure that shows both the object photometry and the nightly-epoch combined photometry.\n",
    "\n",
    "Use one example candidate."
   ]
  },
  {
   "cell_type": "code",
   "execution_count": null,
   "id": "7c627dc5-02ab-4c42-9347-8f51c954e830",
   "metadata": {},
   "outputs": [],
   "source": [
    "fig, ax = plt.subplots( 3, 2, figsize=(16,10), sharex=False, sharey=False, \n",
    "                       gridspec_kw={'width_ratios': [3, 1]} )\n",
    "\n",
    "### at left, plot the full light curve\n",
    "for f,filt in enumerate(all_filters):\n",
    "    ### plot individual objects\n",
    "    fx = np.where( obj_filter[ox] == filt )[0]\n",
    "    ax[f,0].plot( obj_mjd[ox[fx]], obj_mag[ox[fx]], \n",
    "                  all_fshapes[f], ms=all_fsizes[f]-2, alpha=0.3, mew=0, color=all_fcolors[f] )\n",
    "    del fx\n",
    "    ### plot the nightly-epoch combined photometry with error bar\n",
    "    fx = np.where( candLC_filter[cx] == filt )[0]\n",
    "    ax[f,0].errorbar( candLC_mjd[cx[fx]], candLC_mag[cx[fx]], yerr=candLC_mage[cx[fx]], \n",
    "                      fmt=all_fshapes[f], ms=all_fsizes[f], alpha=0.8, mew=0, color=all_fcolors[f] )\n",
    "    ### plot limiting magnitudes where there are non-detections\n",
    "    lx = np.where( np.isnan(candLC_mag[cx[fx]]) == 1 )[0]\n",
    "    ax[f,0].plot( candLC_mjd[cx[fx[lx]]], candLC_maglim[cx[fx[lx]]], \n",
    "                  'v', ms=5, alpha=0.6, mew=0, color='grey' )\n",
    "    ### flip the y-axis\n",
    "    ax[f,0].invert_yaxis()\n",
    "    ### cut out non-detections from previous year\n",
    "    ax[f,0].set_xlim([59465,59550])\n",
    "\n",
    "### title\n",
    "ax[0,0].set_title('full light curve, with limits for epochs of non-detection')\n",
    "\n",
    "### at right, zoom in on one epoch\n",
    "for f,filt in enumerate(all_filters):\n",
    "    ### plot individual objects\n",
    "    fx = np.where( obj_filter[ox] == filt )[0]\n",
    "    ax[f,1].errorbar( obj_mjd[ox[fx]], obj_mag[ox[fx]], yerr=obj_mage[ox[fx]], \n",
    "                      fmt=all_fshapes[f], ms=all_fsizes[f]-2, alpha=0.3, mew=0, color=all_fcolors[f] )\n",
    "    del fx\n",
    "    ### plot the nightly-epoch combined photometry with error bar\n",
    "    fx = np.where( candLC_filter[cx] == filt )[0]\n",
    "    ax[f,1].errorbar( candLC_mjd[cx[fx]], candLC_mag[cx[fx]], yerr=candLC_mage[cx[fx]], \n",
    "                      fmt=all_fshapes[f], ms=all_fsizes[f], alpha=0.8, mew=0, color=all_fcolors[f] )\n",
    "    ### flip the y-axis\n",
    "    ax[f,1].invert_yaxis()\n",
    "    ### zoom in\n",
    "    ax[f,1].set_xlim([59480.05,59480.2])\n",
    "\n",
    "### title\n",
    "ax[0,1].set_title('a single epoch near peak brightness')\n",
    "\n",
    "### customize zoom-in y-axis limits\n",
    "ax[0,1].set_ylim([21.5,21.0])\n",
    "ax[1,1].set_ylim([21.4,21.1])\n",
    "ax[2,1].set_ylim([21.6,21.3])\n",
    "\n",
    "plt.show()"
   ]
  },
  {
   "cell_type": "markdown",
   "id": "7092dbd4-58c1-48e7-bc06-b54f937032ca",
   "metadata": {},
   "source": [
    "#### Use photometry and exposure data together\n",
    "\n",
    "Investigate why some nightly-epochs have larger magnitude errors.\n",
    "\n",
    "Plot the nightly-epoch magnitude error as a function of the seeing and sky background of the individual exposures for that epoch."
   ]
  },
  {
   "cell_type": "code",
   "execution_count": null,
   "id": "e5b88f0f-32fe-4d13-9ebb-ccd0ffb76b9b",
   "metadata": {},
   "outputs": [],
   "source": [
    "fig, ax = plt.subplots( 2, 3, figsize=(16,8), sharex=False, sharey=False)\n",
    "\n",
    "for f,filt in enumerate(all_filters):\n",
    "    fx = np.where( candLC_filter[cx] == filt )[0]\n",
    "    for x in range(len(fx)):\n",
    "        yval = candLC_mage[cx[fx[x]]]\n",
    "        \n",
    "        ### all the objects which contributed to this epoch, filter, and candidate\n",
    "        tx = np.where( ( obj_filter[ox] == filt ) & \\\n",
    "                       ( np.abs( obj_mjd[ox] - candLC_mjd[cx[fx[x]]] ) < 0.4 )  )[0]\n",
    "        for t in range(len(tx)):\n",
    "            ### match to the exposure\n",
    "            ex = np.where( exp_id == obj_expid[ox[tx[t]]] )[0]\n",
    "            xval0 = exp_msee[ex]\n",
    "            ax[0,f].plot( xval0, yval, all_fshapes[f], ms=all_fsizes[f], alpha=0.5, mew=0, color=all_fcolors[f] )\n",
    "            xval1 = exp_msks[ex]\n",
    "            ax[1,f].plot( xval1, yval, all_fshapes[f], ms=all_fsizes[f], alpha=0.5, mew=0, color=all_fcolors[f] )\n",
    "            del ex, xval0, xval1\n",
    "        del tx, yval\n",
    "    del fx\n",
    "    \n",
    "    ax[0,f].set_xlabel('seeing (arcsec)')\n",
    "    ax[1,f].set_xlabel('sky background (counts)')\n",
    "    ax[0,f].set_ylabel('nightly-epoch magnitude error')\n",
    "    ax[1,f].set_ylabel('nightly-epoch magnitude error')\n",
    "\n",
    "plt.show()\n",
    "\n",
    "print('The above shows that epochs with larger magnitude errors had exposures with higher seeing and sky backgrounds')"
   ]
  },
  {
   "cell_type": "code",
   "execution_count": null,
   "id": "743bc7a9-ac77-4a70-8c3e-caa5803b696b",
   "metadata": {},
   "outputs": [],
   "source": [
    "del ox,cx"
   ]
  },
  {
   "cell_type": "markdown",
   "id": "4a07b187-f62d-4968-96bb-9ef1e79bda69",
   "metadata": {},
   "source": [
    "#### Obtain the image triplets for DC21cgfrp\n",
    "\n",
    "Go to https://decat-webap.lbl.gov/decatview.py/\n",
    "\n",
    "Under \"Candidate Lookup\" enter DC21cgfrp.\n",
    "\n",
    "Or, go straight to https://decat-webap.lbl.gov/decatview.py/showcand?candidate=DC21cgfrp\n",
    "\n",
    "This actually looks like a variable star, not a SN!\n",
    "\n",
    "<br>"
   ]
  },
  {
   "cell_type": "markdown",
   "id": "d1243561-069d-4f49-8e59-627b5fa67940",
   "metadata": {},
   "source": [
    "### For one rapidly evolving candidate, DC21ksmv\n",
    "\n",
    "This candidate was selected from the `candidate_nightly_epochs.ipynb` plot for short-duration bright evolving phenomena.\n",
    "\n",
    "#### Look for intra-night evolution in brightness"
   ]
  },
  {
   "cell_type": "code",
   "execution_count": null,
   "id": "fc6dfc77-d7af-41ca-b24d-d1102759eade",
   "metadata": {},
   "outputs": [],
   "source": [
    "use_candid = 'DC21ksmv'\n",
    "mjdzero = 59354\n",
    "# use_candid = 'DC22eclvq'\n",
    "# mjdzero = 59590\n",
    "\n",
    "ox = np.where( obj_candid == use_candid )[0]\n",
    "cx = np.where( candLC_candid == use_candid )[0]"
   ]
  },
  {
   "cell_type": "code",
   "execution_count": null,
   "id": "532cdfba-c764-4f80-bea8-1a281b08e30b",
   "metadata": {},
   "outputs": [],
   "source": [
    "fig, ax = plt.subplots( 1, 3, figsize=(16,3), sharex=True, sharey=False )\n",
    "\n",
    "for f,filt in enumerate(all_filters):\n",
    "\n",
    "    fx = np.where( obj_filter[ox] == filt )[0]\n",
    "    ax[f].plot( obj_mjd[ox[fx]]-mjdzero, obj_mag[ox[fx]], \n",
    "                all_fshapes[f], ms=all_fsizes[f]-2, alpha=0.3, mew=0, color=all_fcolors[f] )\n",
    "    del fx\n",
    "\n",
    "    fx = np.where( candLC_filter[cx] == filt )[0]\n",
    "    ax[f].errorbar( candLC_mjd[cx[fx]]-mjdzero, candLC_mag[cx[fx]], yerr=candLC_mage[cx[fx]], \n",
    "                    fmt=all_fshapes[f], ms=all_fsizes[f], alpha=1.0, mew=0, color=all_fcolors[f] )\n",
    "\n",
    "    lx = np.where( np.isnan(candLC_mag[cx[fx]]) == 1 )[0]\n",
    "    ax[f].plot( candLC_mjd[cx[fx[lx]]]-mjdzero, candLC_maglim[cx[fx[lx]]], \n",
    "                'v', ms=5, alpha=0.6, mew=0, color='grey' )\n",
    "\n",
    "    ax[f].invert_yaxis()\n",
    "\n",
    "ax[0].set_xlim([0,20])\n",
    "\n",
    "plt.show()"
   ]
  },
  {
   "cell_type": "markdown",
   "id": "2d2dc59c-402c-4eee-a61c-02ab0da553cb",
   "metadata": {},
   "source": [
    "Zoom in on each unique epoch."
   ]
  },
  {
   "cell_type": "code",
   "execution_count": null,
   "id": "869238a3-0fe4-447d-a50a-88a4d68dc79b",
   "metadata": {},
   "outputs": [],
   "source": [
    "ex = np.where( np.isfinite(candLC_mag[cx]) == 1 )[0]\n",
    "unique_epochs = np.unique( candLC_cal[cx[ex]] )\n",
    "print('Unique epochs: ', unique_epochs )\n",
    "del ex"
   ]
  },
  {
   "cell_type": "code",
   "execution_count": null,
   "id": "aa708b87-af75-4deb-ac88-3cd94949edc2",
   "metadata": {},
   "outputs": [],
   "source": [
    "fig, ax = plt.subplots( 1, len(unique_epochs), figsize=(16,3), sharex=False, sharey=False )\n",
    "\n",
    "for e,epoch in enumerate(unique_epochs):\n",
    "    for f,filt in enumerate(all_filters):\n",
    "        tx = np.where( (candLC_cal[cx] == epoch) & \n",
    "                       (np.isfinite(candLC_mag[cx])) & \n",
    "                       (candLC_filter[cx] == filt) )[0]\n",
    "        ax[e].errorbar( candLC_mjd[cx[tx]]-mjdzero, candLC_mag[cx[tx]], yerr=candLC_mage[cx[tx]], \n",
    "                        fmt=all_fshapes[f], ms=all_fsizes[f], alpha=1.0, mew=0, color=all_fcolors[f] )\n",
    "        del tx\n",
    "\n",
    "        tx = np.where( (candLC_cal[cx] == epoch) & \n",
    "                       (np.isfinite(candLC_mag[cx])) & \n",
    "                       (candLC_filter[cx] == filt) )[0]\n",
    "        for t in range(len(tx)):\n",
    "            x = np.where( (np.abs(obj_mjd[ox]-candLC_mjd[cx[tx[t]]]) < 0.4) & \n",
    "                          (obj_filter[ox] == filt) )[0]\n",
    "            ax[e].errorbar( obj_mjd[ox[x]]-mjdzero, obj_mag[ox[x]], yerr=obj_mage[ox[x]], \n",
    "                            fmt=all_fshapes[f], ms=all_fsizes[f]-2, alpha=0.5, mew=0, color=all_fcolors[f] )\n",
    "            del x\n",
    "        del tx\n",
    "    ax[e].invert_yaxis()\n",
    "\n",
    "plt.show()"
   ]
  },
  {
   "cell_type": "code",
   "execution_count": null,
   "id": "b8ad92f1-1c0b-4c2d-acd6-4eb633fe4e7c",
   "metadata": {},
   "outputs": [],
   "source": [
    "del ox,cx"
   ]
  },
  {
   "cell_type": "markdown",
   "id": "ead169bf-f557-4ba2-8938-894239148854",
   "metadata": {},
   "source": [
    "#### Obtain the image triplets for DC21ksmv\n",
    "\n",
    "It looks like we can see some very short timescale variability.\n",
    "\n",
    "This object looks like a nuclear transient.\n",
    "\n",
    "https://decat-webap.lbl.gov/decatview.py/showcand?candidate=DC21ksmv"
   ]
  },
  {
   "cell_type": "code",
   "execution_count": null,
   "id": "fa75b15f-120c-43a6-a2c0-4bf0dd1eb7e5",
   "metadata": {},
   "outputs": [],
   "source": []
  }
 ],
 "metadata": {
  "kernelspec": {
   "display_name": "NERSC Python",
   "language": "python",
   "name": "python3"
  },
  "language_info": {
   "codemirror_mode": {
    "name": "ipython",
    "version": 3
   },
   "file_extension": ".py",
   "mimetype": "text/x-python",
   "name": "python",
   "nbconvert_exporter": "python",
   "pygments_lexer": "ipython3",
   "version": "3.9.7"
  }
 },
 "nbformat": 4,
 "nbformat_minor": 5
}
