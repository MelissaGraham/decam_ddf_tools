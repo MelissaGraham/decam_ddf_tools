{
 "cells": [
  {
   "cell_type": "markdown",
   "id": "ec1a8230-120e-4ac9-bfad-f527b0210ca4",
   "metadata": {},
   "source": [
    "# Targets for Abi\n",
    "\n",
    "She's on at Magellan June 3 and 22, 2022, and needs second-half-night targets.\n",
    "\n",
    "| field | ra | dec|\n",
    "|------------|--------|----------|\n",
    "|COSMOS-1    | 150.0  |  3.1     |\n",
    "|COSMOS-2    | 149.22 | 1.75     |\n",
    "|COSMOS-3    | 150.78 | 1.75     |\n",
    "|DECaPS-East | 270.89 | -29.53   |\n",
    "|ELAIS-E1    | 7.8746 | -43.0096 |\n",
    "|ELAIS-E2    | 9.5    | -43.9980 |\n",
    "|DECaPS-West | 116.32 | -26.25   |\n",
    "\n",
    "## June 3\n",
    "\n",
    "There are no new ELAIS targets yet.\n",
    "\n",
    "COSMOS has set, as has DECaPS-West.\n",
    "\n",
    "So we're looking for DECaPS-East targets."
   ]
  },
  {
   "cell_type": "code",
   "execution_count": null,
   "id": "d753256f-0961-429f-a799-d737d858e6d8",
   "metadata": {},
   "outputs": [],
   "source": [
    "import psycopg2\n",
    "import psycopg2.extras\n",
    "import getpass\n",
    "# from IPython.display import display\n",
    "# import ipywidgets\n",
    "\n",
    "import os\n",
    "import numpy as np\n",
    "import matplotlib as mpl\n",
    "import matplotlib.pyplot as plt\n",
    "# import pandas as pd\n",
    "\n",
    "from copy import deepcopy\n",
    "import time\n",
    "from astropy.time import Time\n",
    "\n",
    "font = {'size' : 15}\n",
    "mpl.rc('font', **font)"
   ]
  },
  {
   "cell_type": "code",
   "execution_count": null,
   "id": "58c42e0b-e008-4a9a-aa01-2f0e2de7c15d",
   "metadata": {},
   "outputs": [],
   "source": [
    "dbuser = input(\"DB User: \")\n",
    "dbpasswd = getpass.getpass(\"DB Password: \")"
   ]
  },
  {
   "cell_type": "code",
   "execution_count": null,
   "id": "b88cbd3a-6a70-408c-8856-396516ba3500",
   "metadata": {},
   "outputs": [],
   "source": [
    "db = psycopg2.connect(f\"dbname='decat' user='{dbuser}' password='{dbpasswd}' host='decatdb.lbl.gov'\")\n",
    "\n",
    "db.autocommit = True # Makes the computer nicer about SQL syntax errors\n",
    "\n",
    "cursor = db.cursor( cursor_factory = psycopg2.extras.DictCursor )"
   ]
  },
  {
   "cell_type": "code",
   "execution_count": null,
   "id": "6619854f-bc3b-41ce-9b81-4007cc6e2d88",
   "metadata": {},
   "outputs": [],
   "source": [
    "### If you want to print table schema\n",
    "# tables = ['exposures','subtractions','objects','objectrbs','candidates']\n",
    "tables = ['exposures','subtractions','objects','candidates']\n",
    "for table in tables:\n",
    "    query = \"SELECT column_name, data_type FROM information_schema.columns WHERE table_name=%s\"\n",
    "    cursor.execute( query, ( table, ))\n",
    "    print( f\"\\nTABLE: {table}\\n===========================\" )\n",
    "    for row in cursor:\n",
    "        print( f\"{row['column_name']:24s}  :  {row['data_type']:s}\" )"
   ]
  },
  {
   "cell_type": "markdown",
   "id": "28703dac-a134-48bc-9149-9d28061dc882",
   "metadata": {},
   "source": [
    "### Look for recent candidates in DECaPS-East"
   ]
  },
  {
   "cell_type": "code",
   "execution_count": null,
   "id": "7d506570-3282-439e-8f47-96c21ff501af",
   "metadata": {},
   "outputs": [],
   "source": [
    "# t1 = time.time()\n",
    "\n",
    "# query = (\"SELECT id, ra, dec, created_at, modified FROM candidates \"\n",
    "#          \"WHERE ra > 268 AND ra < 273 AND dec < -27 AND dec > -32\")\n",
    "\n",
    "# cursor.execute( query )\n",
    "# results = np.array( cursor.fetchall() ).transpose()\n",
    "\n",
    "# t2 = time.time()\n",
    "# print(t2-t1)\n",
    "# del t1,t2\n",
    "\n",
    "# cand_id       = np.asarray( results[0] )\n",
    "# cand_ra       = np.asarray( results[1], dtype='float' )\n",
    "# cand_dec      = np.asarray( results[2], dtype='float' )\n",
    "# cand_created  = np.asarray( results[3], dtype='str' )\n",
    "# cand_modified = np.asarray( results[4], dtype='str' )\n",
    "# del query, results\n",
    "\n",
    "# print(len(cand_id))"
   ]
  },
  {
   "cell_type": "code",
   "execution_count": null,
   "id": "dbfef2f5-48a9-4c52-83db-a061f898f0cf",
   "metadata": {},
   "outputs": [],
   "source": [
    "# print('Dates of DECaPS-East candidates, first and last created.')\n",
    "# sx = np.argsort( cand_created )\n",
    "# print(cand_created[sx[0]])\n",
    "# print(cand_created[sx[-1]])\n",
    "# print(' ')\n",
    "# print('Dates of DECaPS-East candidates, first and last modified.')\n",
    "# sx = np.argsort( cand_modified )\n",
    "# print(cand_modified[sx[0]])\n",
    "# print(cand_modified[sx[-1]])\n",
    "# print(' ')\n",
    "# print('There does not seem to be any DECaPS-East candidates from 2022A, started April 2022')"
   ]
  },
  {
   "cell_type": "markdown",
   "id": "bbac9ea9-eadb-4765-913e-8b66ee846fce",
   "metadata": {},
   "source": [
    "### Look for recent objects in DECaPS-East"
   ]
  },
  {
   "cell_type": "code",
   "execution_count": null,
   "id": "b4413d8b-8ee3-4bb0-8cf4-3b2b67135578",
   "metadata": {},
   "outputs": [],
   "source": [
    "t1 = time.time()\n",
    "\n",
    "query = (\"SELECT o.id, o.ra, o.dec, o.candidate_id, o.subtraction_id, o.mag, o.magerr, \"\n",
    "         \"rbs.rb, sub.exposure_id, exp.mjd, exp.filter \"\n",
    "         \"FROM objects AS o \"\n",
    "         \"JOIN objectrbs AS rbs ON o.id=rbs.object_id AND rbs.rbtype_id=1 \"\n",
    "         \"JOIN subtractions AS sub ON sub.id=o.subtraction_id \"\n",
    "         \"JOIN exposures AS exp ON exp.id=sub.exposure_id \"\n",
    "         \"WHERE o.ra > 268 AND o.ra < 273 AND o.dec < -27 AND o.dec > -32 \"\n",
    "         \"AND exp.mjd > 59680\")\n",
    "cursor.execute( query )\n",
    "results = np.array( cursor.fetchall() ).transpose()\n",
    "\n",
    "t2 = time.time()\n",
    "print(t2-t1)\n",
    "del t1,t2\n",
    "\n",
    "obj_id     = np.asarray( results[0], dtype='int' )\n",
    "obj_ra     = np.asarray( results[1], dtype='float' )\n",
    "obj_dec    = np.asarray( results[2], dtype='float' )\n",
    "obj_candid = np.asarray( results[3] )\n",
    "obj_subid  = np.asarray( results[4], dtype='int' )\n",
    "obj_mag    = np.asarray( results[5], dtype='float' )\n",
    "obj_magerr = np.asarray( results[6], dtype='float' )\n",
    "obj_rb     = np.asarray( results[7], dtype='float' )\n",
    "obj_expid  = np.asarray( results[8], dtype='int' )\n",
    "obj_mjd    = np.asarray( results[9], dtype='float' )\n",
    "obj_filter = np.asarray( results[10] )\n",
    "\n",
    "del query, results\n",
    "\n",
    "print(len(obj_id))"
   ]
  },
  {
   "cell_type": "markdown",
   "id": "7e61a12a-3860-4a27-a676-70ef62f56327",
   "metadata": {},
   "source": [
    "## Find and remove objects for candidates with < 45 detections"
   ]
  },
  {
   "cell_type": "code",
   "execution_count": null,
   "id": "63d32f27-0091-4ced-afbc-0be38645115d",
   "metadata": {},
   "outputs": [],
   "source": [
    "sx = np.argsort(obj_mjd)\n",
    "\n",
    "temp1 = Time(obj_mjd[sx[0]], format='mjd')\n",
    "temp2 = Time(obj_mjd[sx[-1]], format='mjd')\n",
    "\n",
    "print('First object detected in DECaPS-East on: ',obj_mjd[sx[0]],temp1.iso)\n",
    "print('Most recent object detected in DECaPS-East on: ',obj_mjd[sx[-1]],temp2.iso)\n",
    "\n",
    "plt.hist( obj_mjd[sx], bins=1000, cumulative=True, histtype='step' )\n",
    "# plt.xlim([59680,59740])\n",
    "# plt.ylim([3e6,5e6])\n",
    "plt.show()\n",
    "\n",
    "del sx"
   ]
  },
  {
   "cell_type": "code",
   "execution_count": null,
   "id": "3edf557e-4836-4797-a243-d9b64b3c83d9",
   "metadata": {},
   "outputs": [],
   "source": [
    "values, indices, counts = np.unique( obj_candid, return_inverse = True, return_counts = True )\n",
    "print( 'obj_candid lengths = ', len(values), len(indices), len(counts) )\n",
    "print( values )\n",
    "print( indices )\n",
    "print( counts )\n",
    "\n",
    "plt.hist( counts, bins=20, log=True )\n",
    "plt.show()"
   ]
  },
  {
   "cell_type": "code",
   "execution_count": null,
   "id": "c66fc0c9-6694-40bf-8dfc-92ac44b327d6",
   "metadata": {},
   "outputs": [],
   "source": [
    "tx = np.where(counts[indices] < 45)[0]\n",
    "print(len(tx))\n",
    "\n",
    "obj2_id     = np.delete( obj_id, tx )\n",
    "obj2_ra     = np.delete( obj_ra, tx )\n",
    "obj2_dec    = np.delete( obj_dec, tx )\n",
    "obj2_candid = np.delete( obj_candid, tx )\n",
    "obj2_subid  = np.delete( obj_subid, tx )\n",
    "obj2_mag    = np.delete( obj_mag, tx )\n",
    "obj2_magerr = np.delete( obj_magerr, tx )\n",
    "obj2_rb     = np.delete( obj_rb, tx )\n",
    "obj2_expid  = np.delete( obj_expid, tx )\n",
    "obj2_mjd    = np.delete( obj_mjd, tx )\n",
    "obj2_filter = np.delete( obj_filter, tx )\n",
    "\n",
    "del tx\n",
    "\n",
    "del obj_id, obj_ra, obj_dec, obj_candid, obj_subid\n",
    "del obj_mag, obj_magerr, obj_rb, obj_expid, obj_mjd, obj_filter"
   ]
  },
  {
   "cell_type": "code",
   "execution_count": null,
   "id": "42c6060d-143a-4972-9ed2-e72759ffe9f5",
   "metadata": {},
   "outputs": [],
   "source": [
    "del values, indices, counts"
   ]
  },
  {
   "cell_type": "markdown",
   "id": "bc471590-d917-4c35-b47b-e33c6800ad79",
   "metadata": {},
   "source": [
    "## Make new candidates array"
   ]
  },
  {
   "cell_type": "code",
   "execution_count": null,
   "id": "e9b186cb-4ed9-46d2-b73b-e1acbd36066e",
   "metadata": {},
   "outputs": [],
   "source": [
    "cand_id, indices, cand_nobj = np.unique( obj2_candid, return_inverse = True, return_counts = True )\n",
    "print( 'lengths = ', len(cand_id), len(indices), len(cand_nobj) )\n",
    "print( cand_id )\n",
    "print( indices )\n",
    "print( cand_nobj )"
   ]
  },
  {
   "cell_type": "code",
   "execution_count": null,
   "id": "38d5c983-3c94-40dc-9fd7-367af36ccd9f",
   "metadata": {},
   "outputs": [],
   "source": [
    "cand_gnobj = np.zeros( len(cand_id), dtype='int' )\n",
    "cand_rnobj = np.zeros( len(cand_id), dtype='int' )\n",
    "cand_inobj = np.zeros( len(cand_id), dtype='int' )\n",
    "\n",
    "cand_gnep = np.zeros( len(cand_id), dtype='int' )\n",
    "cand_rnep = np.zeros( len(cand_id), dtype='int' )\n",
    "cand_inep = np.zeros( len(cand_id), dtype='int' )\n",
    "\n",
    "cand_gnrep = np.zeros( len(cand_id), dtype='int' )\n",
    "cand_rnrep = np.zeros( len(cand_id), dtype='int' )\n",
    "cand_inrep = np.zeros( len(cand_id), dtype='int' )\n",
    "\n",
    "cand_gmrb = np.zeros( len(cand_id), dtype='float' )\n",
    "cand_rmrb = np.zeros( len(cand_id), dtype='float' )\n",
    "cand_imrb = np.zeros( len(cand_id), dtype='float' )\n",
    "\n",
    "cand_gpk = np.zeros( len(cand_id), dtype='float' )\n",
    "cand_rpk = np.zeros( len(cand_id), dtype='float' )\n",
    "cand_ipk = np.zeros( len(cand_id), dtype='float' )\n",
    "\n",
    "cand_gamp = np.zeros( len(cand_id), dtype='float' )\n",
    "cand_ramp = np.zeros( len(cand_id), dtype='float' )\n",
    "cand_iamp = np.zeros( len(cand_id), dtype='float' )\n",
    "\n",
    "for c, cid in enumerate(cand_id):\n",
    "    ox = np.where( obj2_candid == cid )[0]\n",
    "    \n",
    "    gx = np.where( obj2_filter[ox] == 'g' )[0]\n",
    "    rx = np.where( obj2_filter[ox] == 'r' )[0]\n",
    "    ix = np.where( obj2_filter[ox] == 'i' )[0]\n",
    "    \n",
    "    cand_gnobj[c] = len(gx)\n",
    "    cand_rnobj[c] = len(rx)\n",
    "    cand_inobj[c] = len(ix)\n",
    "    \n",
    "    if len(gx) > 1:\n",
    "        temp = np.unique( np.sort( np.floor( obj2_mjd[ox[gx]] ) ) )\n",
    "        cand_gnep[c] = len(temp)\n",
    "        tx = np.where( temp > 59715.)[0]\n",
    "        cand_gnrep[c] = len(tx)\n",
    "        del temp, tx\n",
    "        cand_gmrb[c] = np.mean( obj2_rb[ox[gx]] )\n",
    "        cand_gpk[c] = np.min( obj2_mag[ox[gx]] )\n",
    "        cand_gamp[c] = np.max( obj2_mag[ox[gx]] ) - np.min( obj2_mag[ox[gx]] )\n",
    "        \n",
    "    if len(rx) > 1:\n",
    "        temp = np.unique( np.sort( np.floor( obj2_mjd[ox[rx]] ) ) )\n",
    "        cand_rnep[c] = len(temp)\n",
    "        tx = np.where( temp > 59715.)[0]\n",
    "        cand_rnrep[c] = len(tx)\n",
    "        del temp, tx\n",
    "        cand_rmrb[c] = np.mean( obj2_rb[ox[rx]] )\n",
    "        cand_rpk[c] = np.min( obj2_mag[ox[rx]] )\n",
    "        cand_ramp[c] = np.max( obj2_mag[ox[rx]] ) - np.min( obj2_mag[ox[rx]] )\n",
    "\n",
    "    if len(ix) > 1:\n",
    "        temp = np.unique( np.sort( np.floor( obj2_mjd[ox[ix]] ) ) )\n",
    "        cand_inep[c] = len(temp)\n",
    "        tx = np.where( temp > 59715.)[0]\n",
    "        cand_inrep[c] = len(tx)\n",
    "        del temp, tx\n",
    "        cand_imrb[c] = np.mean( obj2_rb[ox[ix]] )\n",
    "        cand_ipk[c] = np.min( obj2_mag[ox[ix]] )\n",
    "        cand_iamp[c] = np.max( obj2_mag[ox[ix]] ) - np.min( obj2_mag[ox[ix]] )\n",
    "\n"
   ]
  },
  {
   "cell_type": "code",
   "execution_count": null,
   "id": "f0ca4e23-bc54-4610-ad22-588918768182",
   "metadata": {},
   "outputs": [],
   "source": [
    "fig, ax = plt.subplots( 1, 3, figsize=(15,3), sharey=True, sharex=True )\n",
    "ax[0].hist( cand_gnep, bins=20 )\n",
    "ax[1].hist( cand_rnep, bins=20 )\n",
    "ax[2].hist( cand_inep, bins=20 )\n",
    "# ax[0].set_xlim([17,23])\n",
    "plt.show()\n",
    "\n",
    "fig, ax = plt.subplots( 1, 3, figsize=(15,3), sharey=True, sharex=True )\n",
    "ax[0].hist( cand_gnrep, bins=10 )\n",
    "ax[1].hist( cand_rnrep, bins=10 )\n",
    "ax[2].hist( cand_inrep, bins=10 )\n",
    "# ax[0].set_xlim([17,23])\n",
    "plt.show()"
   ]
  },
  {
   "cell_type": "code",
   "execution_count": null,
   "id": "bf351883-6b75-4aee-b7a6-b99fb9ee8bd2",
   "metadata": {},
   "outputs": [],
   "source": [
    "fig, ax = plt.subplots( 1, 3, figsize=(15,3), sharey=True, sharex=True )\n",
    "ax[0].plot( cand_gnobj, cand_gnrep, 'o', ms=2, alpha=0.05, mew=0, color='darkgreen' )\n",
    "ax[1].plot( cand_rnobj, cand_rnrep, 'o', ms=2, alpha=0.05, mew=0, color='darkorange' )\n",
    "ax[2].plot( cand_inobj, cand_inrep, 'o', ms=2, alpha=0.05, mew=0, color='red' )\n",
    "# ax[0].set_xlim([17,23])\n",
    "plt.show()"
   ]
  },
  {
   "cell_type": "code",
   "execution_count": null,
   "id": "aadc014d-f1c4-4bf1-9f00-cc3c70aa7a69",
   "metadata": {},
   "outputs": [],
   "source": [
    "gx = np.where( (cand_gnobj > 15) & (cand_gnrep == 3) )[0]\n",
    "rx = np.where( (cand_rnobj > 15) & (cand_rnrep == 3) )[0]\n",
    "ix = np.where( (cand_inobj > 15) & (cand_inrep == 3) )[0]\n",
    "\n",
    "fig, ax = plt.subplots( 1, 3, figsize=(15,3), sharey=True, sharex=True )\n",
    "ax[0].hist( cand_gpk, bins=50, color='darkgreen' )\n",
    "ax[1].hist( cand_rpk, bins=50, color='darkorange' )\n",
    "ax[2].hist( cand_ipk, bins=50, color='red' )\n",
    "ax[0].set_xlim([17,23])\n",
    "plt.show()\n",
    "\n",
    "fig, ax = plt.subplots( 1, 3, figsize=(15,3), sharey=True, sharex=True )\n",
    "ax[0].hist( cand_gpk[gx], bins=50, color='darkgreen' )\n",
    "ax[1].hist( cand_rpk[rx], bins=50, color='darkorange' )\n",
    "ax[2].hist( cand_ipk[ix], bins=50, color='red' )\n",
    "ax[0].set_xlim([17,23])\n",
    "plt.show()\n",
    "\n",
    "del gx,rx,ix"
   ]
  },
  {
   "cell_type": "code",
   "execution_count": null,
   "id": "8bdd5dce-0308-439c-9aff-7c224b64f036",
   "metadata": {},
   "outputs": [],
   "source": [
    "tx = np.where( (cand_gnobj > 15) & (cand_rnobj > 15) & (cand_inobj > 15) & \\\n",
    "               (cand_gnrep == 3) & (cand_rnrep == 3) & (cand_inrep == 3) )[0]\n",
    "print(len(tx))\n",
    "\n",
    "fig, ax = plt.subplots( 5, 6, figsize=(20,15) )\n",
    "i = 0\n",
    "j = 0\n",
    "for x in tx:\n",
    "    ox = np.where( obj2_candid == cand_id[x] )[0]\n",
    "    gx = np.where( obj2_filter[ox] == 'g' )[0]\n",
    "    rx = np.where( obj2_filter[ox] == 'r' )[0]\n",
    "    ix = np.where( obj2_filter[ox] == 'i' )[0]\n",
    "    ax[i,j].plot( obj2_mjd[ox[gx]], obj2_mag[ox[gx]], 'o', ms=3, mew=0, alpha=0.4, color='darkgreen' )\n",
    "    ax[i,j].plot( obj2_mjd[ox[rx]], obj2_mag[ox[rx]], 'o', ms=3, mew=0, alpha=0.4, color='darkorange' )\n",
    "    ax[i,j].plot( obj2_mjd[ox[ix]], obj2_mag[ox[ix]], 'o', ms=3, mew=0, alpha=0.4, color='red' )\n",
    "    ax[i,j].invert_yaxis()\n",
    "    ax[i,j].set_title(cand_id[x])\n",
    "    j += 1\n",
    "    if j == 6:\n",
    "        j = 0\n",
    "        i += 1\n",
    "plt.tight_layout()\n",
    "plt.show()"
   ]
  },
  {
   "cell_type": "code",
   "execution_count": null,
   "id": "21b08d1e-6817-4d9d-a36d-064c3fb35642",
   "metadata": {},
   "outputs": [],
   "source": [
    "targets = np.asarray( ['DC21bgiwr', 'DC21qcpw', 'DC21sbdf', 'DC22eojsc', 'DC22hlnrv', 'DC22hlnsy'], dtype='str' )\n",
    "\n",
    "print('%-10s   %-10s  %-10s   %-10s  %-10s' % ('name','ra (deg)','dec (deg)','ra_err (\")','dec_err (\")'))\n",
    "for x in range(6):\n",
    "    ox = np.where( obj2_candid == targets[x] )[0]\n",
    "    print('%-10s   %10.6f  %10.6f   %10.3f %10.3f' % \n",
    "          (targets[x], \\\n",
    "          np.round(np.mean(obj2_ra[ox]),6), np.round(np.mean(obj2_dec[ox]),6), \\\n",
    "          np.round(np.std(obj2_ra[ox])*3600.,3), np.round(np.std(obj2_dec[ox])*3600.,3)))"
   ]
  },
  {
   "cell_type": "code",
   "execution_count": null,
   "id": "39349337-438e-4a77-ab58-27fc26c99a28",
   "metadata": {},
   "outputs": [],
   "source": [
    "fig, ax = plt.subplots( 2, 3, figsize=(20,7) )\n",
    "i = 0\n",
    "j = 0\n",
    "for x in range(6):\n",
    "    ox = np.where( obj2_candid == targets[x] )[0]\n",
    "    gx = np.where( obj2_filter[ox] == 'g' )[0]\n",
    "    rx = np.where( obj2_filter[ox] == 'r' )[0]\n",
    "    ix = np.where( obj2_filter[ox] == 'i' )[0]\n",
    "    ax[i,j].plot( obj2_mjd[ox[gx]], obj2_mag[ox[gx]], 'o', ms=3, mew=0, alpha=0.4, color='darkgreen' )\n",
    "    ax[i,j].plot( obj2_mjd[ox[rx]], obj2_mag[ox[rx]], 'o', ms=3, mew=0, alpha=0.4, color='darkorange' )\n",
    "    ax[i,j].plot( obj2_mjd[ox[ix]], obj2_mag[ox[ix]], 'o', ms=3, mew=0, alpha=0.4, color='red' )\n",
    "    ax[i,j].invert_yaxis()\n",
    "    ax[i,j].set_title(targets[x])\n",
    "    j += 1\n",
    "    if j == 3:\n",
    "        j = 0\n",
    "        i += 1\n",
    "plt.tight_layout()\n",
    "plt.show()"
   ]
  },
  {
   "cell_type": "code",
   "execution_count": null,
   "id": "4dabc513-f55d-479e-b218-4d5f704a3f0a",
   "metadata": {},
   "outputs": [],
   "source": [
    "temp1 = Time(59725, format='mjd')\n",
    "print(temp1.isot)"
   ]
  },
  {
   "cell_type": "code",
   "execution_count": null,
   "id": "07ab23d8-cf3b-4320-bab0-c94f85443f49",
   "metadata": {},
   "outputs": [],
   "source": []
  }
 ],
 "metadata": {
  "kernelspec": {
   "display_name": "NERSC Python",
   "language": "python",
   "name": "python3"
  },
  "language_info": {
   "codemirror_mode": {
    "name": "ipython",
    "version": 3
   },
   "file_extension": ".py",
   "mimetype": "text/x-python",
   "name": "python",
   "nbconvert_exporter": "python",
   "pygments_lexer": "ipython3",
   "version": "3.9.7"
  }
 },
 "nbformat": 4,
 "nbformat_minor": 5
}
