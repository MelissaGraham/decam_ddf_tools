{
 "cells": [
  {
   "cell_type": "markdown",
   "id": "0ac0c737-eb69-45ac-8337-86ecc5c8ec70",
   "metadata": {},
   "source": [
    "This notebook demonstrates correlations between the legitimacy of candidates and the RB scores of their candidates $\\textbf{IT DOESN'T SEEM TO BE WORKING YET}$\n",
    "\n",
    "For S.3.7, let's start with the R/B. Three histograms (in a row, g-r-i) of the R/B scores for all sources detected (ever) in COSMOS and ELAIS. Then in the row below, perhaps histograms of the average R/B scores for all candidates with at least 3 detections in a given filter in one night (i.e., likely reals). This will give us an immediate comparison of R/B values for \"all detections\" and \"all real candidates\"."
   ]
  },
  {
   "cell_type": "code",
   "execution_count": 1,
   "id": "c6960ea0-28c7-4591-8cb2-fe77921649f6",
   "metadata": {},
   "outputs": [],
   "source": [
    "import psycopg2\n",
    "import psycopg2.extras\n",
    "import getpass\n",
    "from IPython.display import display\n",
    "import ipywidgets\n",
    "import matplotlib.pyplot as plt\n",
    "import numpy as np\n",
    "import pandas as pd\n",
    "import matplotlib as mpl\n",
    "\n",
    "# Custom\n",
    "from decam_utils import *"
   ]
  },
  {
   "cell_type": "code",
   "execution_count": 4,
   "id": "c8e39097-68c4-463d-bbb3-0235f7d0ac83",
   "metadata": {},
   "outputs": [
    {
     "name": "stdin",
     "output_type": "stream",
     "text": [
      "DB User:  kennedyt\n",
      "DB Password:  ············\n"
     ]
    }
   ],
   "source": [
    "dbuser = input(\"DB User: \")\n",
    "dbpasswd = getpass.getpass(\"DB Password: \")"
   ]
  },
  {
   "cell_type": "code",
   "execution_count": 5,
   "id": "a311d883-6f2b-4ce8-8e46-55a2d666036c",
   "metadata": {},
   "outputs": [],
   "source": [
    "db = psycopg2.connect(f\"dbname='decat' user='{dbuser}' password='{dbpasswd}' host='decatdb.lbl.gov'\")"
   ]
  },
  {
   "cell_type": "code",
   "execution_count": 6,
   "id": "a98f6dd9-9629-4806-8611-4e7099efb398",
   "metadata": {},
   "outputs": [],
   "source": [
    "db.autocommit = True # Makes the computer nicer about SQL syntax errors\n",
    "\n",
    "cursor = db.cursor( cursor_factory = psycopg2.extras.DictCursor )"
   ]
  },
  {
   "cell_type": "code",
   "execution_count": 7,
   "id": "2ea0c596-4fbf-440e-aa05-fdc5416ba867",
   "metadata": {},
   "outputs": [],
   "source": [
    "font = {'size'   : 15}\n",
    "\n",
    "mpl.rc('font', **font)"
   ]
  },
  {
   "cell_type": "code",
   "execution_count": 8,
   "id": "7d818922-286e-4609-bd10-6213b17dbba8",
   "metadata": {},
   "outputs": [],
   "source": [
    "# def rm_dupes( arr, ecols=None ):\n",
    "#     \"\"\"\n",
    "#     Removes duplicate rows from a numpy array. Has functionality to exclude some column(s) from the duplicate-finding process.\n",
    "#     For the purposes of the DECam DDF notebooks, that should be the index of the object ID column, if your array includes it, and left \\\n",
    "#     blank if not. For best results, make sure your array includes candidate id, R/B score, and something to tie it to a specific \n",
    "#     exposure (fnm, eid, etc.)\n",
    "    \n",
    "#     Takes:\n",
    "#     arr : the original array with some duplicate rows\n",
    "#     ecols : index/indices of excluded columns. NOTE: no matter what this index is, it will be the first column of res\n",
    "    \n",
    "#     Returns:\n",
    "#     res : the original array with the duplicate rows removed\n",
    "#     \"\"\"\n",
    "#     if ecols == None:\n",
    "#         dupes = arr\n",
    "#     else:\n",
    "#         dupes = np.delete(arr, ecols, axis=0)\n",
    "#     dupes = np.array( [\" \".join(i) for i in dupes.transpose()] )\n",
    "#     unique, ind = np.unique( dupes, return_index=True )\n",
    "#     uarr = np.array( [ i.split(\" \") for i in unique ] ).transpose()\n",
    "#     if ecols == None:\n",
    "#         res = uarr\n",
    "#     else:\n",
    "#         res = np.append( [arr[ecols][ind]], uarr, axis=0 )\n",
    "#     print( \"%s duplicates removed\" % ( len( arr[0] ) - len( res[0] ) ) )\n",
    "#     return res"
   ]
  },
  {
   "cell_type": "markdown",
   "id": "3a54f935-1121-4b51-b738-56469ab2bba7",
   "metadata": {},
   "source": [
    "### Top Panel"
   ]
  },
  {
   "cell_type": "code",
   "execution_count": 9,
   "id": "8e31c76f-91f6-48eb-a566-1adaaddabd64",
   "metadata": {},
   "outputs": [],
   "source": [
    "# Pulling in all the detections ever from both COSMOS and ELIAS\n",
    "query = ( 'SELECT o.id, rbs.rb, o.candidate_id, e.filter, e.mjd, e.filename FROM objects o '\n",
    "         'JOIN subtractions s ON o.subtraction_id=s.id '\n",
    "         'JOIN exposures e ON e.id=s.exposure_id '\n",
    "         'JOIN objectrbs as rbs ON o.id=rbs.object_id AND rbs.rbtype_id=1 '\n",
    "         'WHERE q3c_radial_query(o.ra,o.dec,150,2.2,3) '\n",
    "         'AND e.mjd < 59377 ' \n",
    "         'LIMIT 10000000' )\n",
    "\n",
    "cursor.execute( query )\n",
    "\n",
    "COSMOSrbquery = np.array( cursor.fetchall() ).transpose()\n",
    "\n",
    "query = ( 'SELECT o.id, rbs.rb, o.candidate_id, e.filter, e.mjd, e.filename FROM objects o '\n",
    "         'JOIN subtractions s ON o.subtraction_id=s.id '\n",
    "         'JOIN exposures e ON s.exposure_id=e.id '\n",
    "         'JOIN objectrbs as rbs ON o.id=rbs.object_id AND rbs.rbtype_id=1 '\n",
    "         'WHERE q3c_radial_query(o.ra,o.dec,8.5,-43.5,2) '\n",
    "         'AND e.mjd < 59377 ' \n",
    "         'LIMIT 10000000' )\n",
    "\n",
    "cursor.execute( query )\n",
    "\n",
    "ELIASrbquery = np.array( cursor.fetchall() ).transpose()"
   ]
  },
  {
   "cell_type": "code",
   "execution_count": 10,
   "id": "bc64dfbc-d67e-498f-b6ee-cfe19850f9cf",
   "metadata": {
    "tags": []
   },
   "outputs": [
    {
     "name": "stdout",
     "output_type": "stream",
     "text": [
      "94622 duplicates removed\n",
      "1148 duplicates removed\n"
     ]
    }
   ],
   "source": [
    "# Eliminating dupes (COSMOS & ELIAS)\n",
    "Cres = rm_dupes( COSMOSrbquery, 0 )\n",
    "Eres = rm_dupes( ELIASrbquery, 0 )"
   ]
  },
  {
   "cell_type": "code",
   "execution_count": 11,
   "id": "c0ed96b6-a19c-4478-b90b-bd7fb8f2386d",
   "metadata": {},
   "outputs": [],
   "source": [
    "# read in the exposure time lookup table\n",
    "lutable = np.loadtxt(\"archive_image_list.txt\", dtype=object).transpose()\n",
    "fnmtable, exptable = lutable[0], lutable[7].astype(float)\n",
    "\n",
    "\n",
    "# truncate filenames to match lookup table format (COSMOS)\n",
    "Cfnms = [ Cres[5][i][:21] for i in range( len( Cres[5] ) ) ]\n",
    "# find the exposure time for each object\n",
    "Cexptimes = np.array([exptable[np.where(Cfnms[i] == fnmtable)[0]][0] for i in range(len(Cfnms))], dtype=float)\n",
    "\n",
    "# truncate filenames to match lookup table format (ELIAS)\n",
    "Efnms = [ Eres[5][i][:21] for i in range( len( Eres[5] ) ) ]\n",
    "# find the exposure time for each object\n",
    "Eexptimes = np.array([exptable[np.where(Efnms[i] == fnmtable)[0]][0] for i in range(len(Efnms))], dtype=float)"
   ]
  },
  {
   "cell_type": "code",
   "execution_count": 12,
   "id": "bb6e6bf8-b3f3-4693-8042-6db4fa5d9ebb",
   "metadata": {},
   "outputs": [],
   "source": [
    "# Eliminate nonstandard exposure times (COSMOS)\n",
    "Cfilters = Cres[3]\n",
    "gmsk = np.where((Cfilters==\"g\") & (Cexptimes>50))[0]\n",
    "rmsk = np.where((Cfilters==\"r\") & (Cexptimes>20))[0]\n",
    "imsk = np.where((Cfilters==\"i\") & (Cexptimes>20))[0]\n",
    "\n",
    "# Combine and apply the standard images masks (COSMOS)\n",
    "grmsk = np.append(rmsk, gmsk)\n",
    "Cgrimsk = np.append(grmsk, imsk)\n",
    "Cres = [i[Cgrimsk] for i in Cres]\n",
    "\n",
    "# Eliminate nonstandard exposure times (ELIAS)\n",
    "Efilters = Eres[3]\n",
    "gmsk = np.where((Efilters==\"g\") & (Eexptimes>50))[0]\n",
    "rmsk = np.where((Efilters==\"r\") & (Eexptimes>20))[0]\n",
    "imsk = np.where((Efilters==\"i\") & (Eexptimes>20))[0]\n",
    "\n",
    "# Combine and apply the standard images masks (ELIAS)\n",
    "grmsk = np.append(rmsk, gmsk)\n",
    "Egrimsk = np.append(grmsk, imsk)\n",
    "Eres = [i[Egrimsk] for i in Eres]"
   ]
  },
  {
   "cell_type": "code",
   "execution_count": 13,
   "id": "7f526347-e072-4af0-b41b-ce08677f8239",
   "metadata": {},
   "outputs": [],
   "source": [
    "# Create lists of rb scores in g, r, and i for both COSMOS and ELIAS, store in Crbs and Erbs\n",
    "Cgmsk = np.where(Cres[3] == \"g\")[0]\n",
    "Crmsk = np.where(Cres[3] == \"r\")[0]\n",
    "Cimsk = np.where(Cres[3] == \"i\")[0]\n",
    "Crbs = [Cres[1][Cgmsk].astype(float),\n",
    "        Cres[1][Crmsk].astype(float),\n",
    "        Cres[1][Cimsk].astype(float)]\n",
    "\n",
    "Egmsk = np.where(Eres[3] == \"g\")[0]\n",
    "Ermsk = np.where(Eres[3] == \"r\")[0]\n",
    "Eimsk = np.where(Eres[3] == \"i\")[0]\n",
    "Erbs = [Eres[1][Egmsk].astype(float),\n",
    "        Eres[1][Ermsk].astype(float),\n",
    "        Eres[1][Eimsk].astype(float)]"
   ]
  },
  {
   "cell_type": "code",
   "execution_count": 14,
   "id": "c1d707e4-4dca-4cf1-b290-6b3094f7ef4b",
   "metadata": {},
   "outputs": [
    {
     "data": {
      "image/png": "[encoded data removed]",
      "text/plain": [
       "<Figure size 1080x288 with 3 Axes>"
      ]
     },
     "metadata": {
      "needs_background": "light"
     },
     "output_type": "display_data"
    }
   ],
   "source": [
    "# Create bins to be applied on all three plots\n",
    "bins = np.histogram(Crbs[0], bins=15)[1]\n",
    "\n",
    "# Plot it all up\n",
    "c = ['darkgreen', 'red', 'brown', 'limegreen', 'darkorange', 'peru']\n",
    "fig, ax = plt.subplots( 1,3,figsize=(15,4), sharey=True )\n",
    "\n",
    "for i in [0,1,2]:\n",
    "    ax[i].yaxis.set_tick_params(which='both', labelbottom=True)\n",
    "    ax[i].hist( [Crbs[i],Erbs[i]], bins, stacked=True, color=[c[i],c[i+3]], label=['COSMOS','ELAIS'])\n",
    "    ax[i].legend()\n",
    "    ax[i].set_ylabel(\"Number of objects\")\n",
    "    ax[i].set_xlabel(\"R/B score\")\n",
    "fig.tight_layout()\n",
    "plt.savefig(\"./images/RBvobjsCOSMOS.png\")"
   ]
  },
  {
   "cell_type": "markdown",
   "id": "0b591fdb-8944-4d47-9d9e-be4c6a944930",
   "metadata": {},
   "source": [
    "### Bottom Panel"
   ]
  },
  {
   "cell_type": "code",
   "execution_count": 15,
   "id": "eb099d53-75fa-470f-a742-13305c7551df",
   "metadata": {
    "tags": []
   },
   "outputs": [],
   "source": [
    "x = [] # An array to store the names of candidates that pass the test\n",
    "\n",
    "for f in [Cgmsk, Crmsk, Cimsk]: # Looping through filters (just COSMOS for now)\n",
    "    # Grab the rounded nights, candidates, and a list of unique candidates in a given filter\n",
    "    Crnights = np.round( Cres[4][f].astype(float) )\n",
    "    Ccands = Cres[2][f]\n",
    "    Cucands = np.unique(Cres[2][f])\n",
    "    \n",
    "    # Get a list of every observing night\n",
    "    unights = np.unique( Crnights )\n",
    "\n",
    "    # Make a list of every candidate (including repeats) detected in each night\n",
    "    arr = [ Ccands[ Crnights == i ] for i in unights ]\n",
    "\n",
    "    # Create newarr, an array of arrays (one per night) that contain\n",
    "    #       0) The names of all candidates detected that night (no repeats)\n",
    "    #       1) The mask used to create (0) from arr[i]\n",
    "    #       2) The number of times each candidate was detected on that night\n",
    "    newarr = [ np.array( np.unique( i, return_index=True, return_counts = True) ) for i in arr ]\n",
    "    # Pull out the components\n",
    "    cands = [i[0] for i in newarr]\n",
    "    indices = [i[1] for i in newarr]\n",
    "    cts = [i[2] for i in newarr]\n",
    "    # Make a list of every candidate that was detected at least 3 times in a night in the given filter (f)\n",
    "    newnewarr = [ cands[i][ np.where(cts[i].astype(int) > 2)[0] ] for i in range(len(newarr)) ]\n",
    "    # Add all of those candidate's names to x\n",
    "    for i in newnewarr:\n",
    "        x.extend(i)\n",
    "\n",
    "# This results in some duplicates, so remove them\n",
    "goodcands = np.unique(x)\n",
    "# And we have a list of every candidate that was detected at least 3 times in a given filter in one night"
   ]
  },
  {
   "cell_type": "code",
   "execution_count": 16,
   "id": "683a34f8-bd6a-4b94-a229-dcc190a55247",
   "metadata": {},
   "outputs": [
    {
     "data": {
      "image/png": "[encoded data removed]",
      "text/plain": [
       "<Figure size 432x288 with 1 Axes>"
      ]
     },
     "metadata": {
      "needs_background": "light"
     },
     "output_type": "display_data"
    }
   ],
   "source": [
    "# Pick out every R/B value corresponding to one of these candidates and put them into a histogram\n",
    "msk = np.isin( Cres[2], goodcands )\n",
    "plt.hist( Cres[1][msk].astype(float) );"
   ]
  },
  {
   "cell_type": "code",
   "execution_count": 17,
   "id": "56dbba8e-93b3-4ba2-aee6-e1b61e82e4c7",
   "metadata": {},
   "outputs": [
    {
     "data": {
      "image/png": "[encoded data removed]",
      "text/plain": [
       "<Figure size 432x288 with 1 Axes>"
      ]
     },
     "metadata": {
      "needs_background": "light"
     },
     "output_type": "display_data"
    }
   ],
   "source": [
    "# Curiously, this seems to do better if we take only the candidates that did not pass the test\n",
    "msk = np.isin( Cres[2], goodcands, invert=True )\n",
    "plt.hist( Cres[1][msk].astype(float) );"
   ]
  },
  {
   "cell_type": "code",
   "execution_count": 16,
   "id": "b79c77d2-415b-443d-a7cc-3ec2fe8acda1",
   "metadata": {},
   "outputs": [],
   "source": [
    "### Some test subjects (from the SNsearch notebook) that should (and do) pass the test\n",
    "# g = ['DC21bcpi', 'DC21bicq', 'DC21bkrj', 'DC21bpls', 'DC21cove',\n",
    "#        'DC21cxou', 'DC21dhgr', 'DC21dqf', 'DC21dqik', 'DC21dtwb',\n",
    "#        'DC21eqq', 'DC21fber', 'DC21homb', 'DC21hunj', 'DC21ixp',\n",
    "#        'DC21kgy', 'DC21kog', 'DC21ktp', 'DC21kxb', 'DC21url']\n",
    "\n",
    "# for i in g:\n",
    "#     print(i in goodcands)\n",
    "# [i for i in g if i not in goodcands]"
   ]
  },
  {
   "cell_type": "code",
   "execution_count": null,
   "id": "5b7cfdf5-66c1-4193-adbd-c6e0401ff029",
   "metadata": {},
   "outputs": [],
   "source": []
  }
 ],
 "metadata": {
  "kernelspec": {
   "display_name": "Python 3.9-anaconda-2021.11",
   "language": "python",
   "name": "python3.9-anaconda-2021.11"
  },
  "language_info": {
   "codemirror_mode": {
    "name": "ipython",
    "version": 3
   },
   "file_extension": ".py",
   "mimetype": "text/x-python",
   "name": "python",
   "nbconvert_exporter": "python",
   "pygments_lexer": "ipython3",
   "version": "3.9.7"
  }
 },
 "nbformat": 4,
 "nbformat_minor": 5
}
