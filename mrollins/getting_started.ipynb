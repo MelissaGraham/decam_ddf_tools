{
 "cells": [
  {
   "cell_type": "markdown",
   "id": "dd29e1df-3271-4d57-b978-75fa91dc7bbc",
   "metadata": {},
   "source": [
    "## Import packages"
   ]
  },
  {
   "cell_type": "code",
   "execution_count": 1,
   "id": "9ece4fa3-c82a-4733-ab53-cd8e22e3c8f8",
   "metadata": {},
   "outputs": [],
   "source": [
    "import psycopg2\n",
    "import psycopg2.extras\n",
    "import getpass\n",
    "\n",
    "import os\n",
    "import numpy as np\n",
    "import matplotlib as mpl\n",
    "import matplotlib.pyplot as plt\n",
    "\n",
    "from copy import deepcopy\n",
    "import time"
   ]
  },
  {
   "cell_type": "code",
   "execution_count": 2,
   "id": "b7bb9dfb-5eb2-4759-a117-baee62c29a16",
   "metadata": {},
   "outputs": [],
   "source": [
    "font = {'size' : 15}\n",
    "mpl.rc('font', **font)"
   ]
  },
  {
   "cell_type": "markdown",
   "id": "fabff977-f367-43dc-8906-519192d94ee5",
   "metadata": {},
   "source": [
    "## Connect to database"
   ]
  },
  {
   "cell_type": "code",
   "execution_count": 3,
   "id": "e0273b68-5822-48ef-92e8-504be7433dd7",
   "metadata": {},
   "outputs": [
    {
     "name": "stdin",
     "output_type": "stream",
     "text": [
      "DB User:  mgraham\n",
      "DB Password:  ············\n"
     ]
    }
   ],
   "source": [
    "dbuser = input(\"DB User: \")\n",
    "dbpasswd = getpass.getpass(\"DB Password: \")"
   ]
  },
  {
   "cell_type": "code",
   "execution_count": 4,
   "id": "298deaf4-dbb3-437e-ba5a-0b0466dddd9b",
   "metadata": {},
   "outputs": [],
   "source": [
    "db = psycopg2.connect(f\"dbname='decat' user='{dbuser}' password='{dbpasswd}' host='decatdb.lbl.gov'\")"
   ]
  },
  {
   "cell_type": "code",
   "execution_count": 5,
   "id": "c26c5ead-f59f-4fce-ab37-c2678eb9b599",
   "metadata": {},
   "outputs": [],
   "source": [
    "db.autocommit = True # Makes the computer nicer about SQL syntax errors"
   ]
  },
  {
   "cell_type": "code",
   "execution_count": 6,
   "id": "050cec3f-02d1-4b71-9dd1-ef60425ba969",
   "metadata": {},
   "outputs": [],
   "source": [
    "cursor = db.cursor( cursor_factory = psycopg2.extras.DictCursor )"
   ]
  },
  {
   "cell_type": "markdown",
   "id": "166022da-f2d8-440e-a037-4fceda094ab1",
   "metadata": {},
   "source": [
    "## Print table schema"
   ]
  },
  {
   "cell_type": "code",
   "execution_count": 7,
   "id": "c597f69b-7613-489d-8113-25b63209ef34",
   "metadata": {},
   "outputs": [
    {
     "name": "stdout",
     "output_type": "stream",
     "text": [
      "\n",
      "TABLE: exposures\n",
      "===========================\n",
      "id                        :  integer\n",
      "created_at                :  timestamp without time zone\n",
      "modified                  :  timestamp without time zone\n",
      "ra                        :  double precision\n",
      "dec                       :  double precision\n",
      "gallat                    :  double precision\n",
      "gallong                   :  double precision\n",
      "header                    :  jsonb\n",
      "filename                  :  text\n",
      "mjd                       :  double precision\n",
      "event_name                :  text\n",
      "proposalid                :  text\n",
      "camera_id                 :  integer\n",
      "filter                    :  text\n",
      "\n",
      "TABLE: subtractions\n",
      "===========================\n",
      "id                        :  integer\n",
      "created_at                :  timestamp without time zone\n",
      "modified                  :  timestamp without time zone\n",
      "ra                        :  double precision\n",
      "dec                       :  double precision\n",
      "header                    :  jsonb\n",
      "ra1                       :  double precision\n",
      "dec1                      :  double precision\n",
      "ra2                       :  double precision\n",
      "dec2                      :  double precision\n",
      "ra3                       :  double precision\n",
      "dec3                      :  double precision\n",
      "ra4                       :  double precision\n",
      "dec4                      :  double precision\n",
      "image_id                  :  integer\n",
      "template_header           :  jsonb\n",
      "subtype_id                :  integer\n",
      "complete                  :  boolean\n",
      "\n",
      "TABLE: objects\n",
      "===========================\n",
      "id                        :  integer\n",
      "created_at                :  timestamp without time zone\n",
      "modified                  :  timestamp without time zone\n",
      "candidate_id              :  text\n",
      "name                      :  text\n",
      "image_id                  :  integer\n",
      "\n",
      "TABLE: objectrbs\n",
      "===========================\n",
      "id                        :  integer\n",
      "rbtype_id                 :  integer\n",
      "rb                        :  real\n",
      "objectdata_id             :  integer\n",
      "\n",
      "TABLE: candidates\n",
      "===========================\n",
      "created_at                :  timestamp without time zone\n",
      "modified                  :  timestamp without time zone\n",
      "ra                        :  double precision\n",
      "dec                       :  double precision\n",
      "id                        :  text\n",
      "nmatches                  :  integer\n",
      "sg_gaia                   :  integer\n",
      "oldname                   :  text\n",
      "clura                     :  double precision\n",
      "cludec                    :  double precision\n",
      "cludistmpc                :  double precision\n",
      "cluname                   :  text\n",
      "clumstar                  :  double precision\n",
      "clusfr_fuv                :  double precision\n",
      "clusfr_ha                 :  double precision\n",
      "cluid                     :  integer\n",
      "cluseparcsec              :  double precision\n",
      "clusepkpc                 :  double precision\n",
      "parallax                  :  double precision\n",
      "z_phot_med                :  double precision\n",
      "z_phot_avg                :  double precision\n",
      "z_phot_l68                :  double precision\n",
      "z_phot_u68                :  double precision\n",
      "z_phot_l95                :  double precision\n",
      "z_phot_u95                :  double precision\n",
      "dr9_id                    :  integer\n",
      "dr9_type                  :  text\n",
      "dr9_dist                  :  double precision\n"
     ]
    }
   ],
   "source": [
    "tables = ['exposures','subtractions','objects','objectrbs','candidates']\n",
    "for table in tables:\n",
    "    query = \"SELECT column_name, data_type FROM information_schema.columns WHERE table_name=%s\"\n",
    "    cursor.execute( query, ( table, ))\n",
    "    print( f\"\\nTABLE: {table}\\n===========================\" )\n",
    "    for row in cursor:\n",
    "        print( f\"{row['column_name']:24s}  :  {row['data_type']:s}\" )"
   ]
  },
  {
   "cell_type": "markdown",
   "id": "bc48f7e7-2887-42d4-bba2-721429de210b",
   "metadata": {},
   "source": [
    "## A simple first query, plot the sky locations of all the exposures"
   ]
  },
  {
   "cell_type": "code",
   "execution_count": 8,
   "id": "f0e36ba9-31b6-42f0-ba33-36ced225247b",
   "metadata": {},
   "outputs": [],
   "source": [
    "### query the exposures table and return 8 columns from it\n",
    "query = \"SELECT id, ra, dec, filename, mjd, filter, proposalid, header FROM exposures\"\n",
    "cursor.execute( query )\n",
    "results = np.array( cursor.fetchall() ).transpose()\n",
    "\n",
    "### Convert the query results into numpy arrays\n",
    "exp_id  = np.asarray( results[0], dtype='int' )\n",
    "exp_ra  = np.asarray( results[1], dtype='float' )\n",
    "exp_dec = np.asarray( results[2], dtype='float' )\n",
    "exp_fnm = np.asarray( results[3], dtype='str' )\n",
    "exp_mjd = np.asarray( results[4], dtype='float' )\n",
    "exp_fil = np.asarray( results[5], dtype='str' )\n",
    "exp_pid = np.asarray( results[6], dtype='str' )\n",
    "exp_hdr = np.asarray( results[7], dtype='str' )\n",
    "\n",
    "### Clean up\n",
    "del query, results"
   ]
  },
  {
   "cell_type": "code",
   "execution_count": 11,
   "id": "b4174e58-ea1a-4925-a041-6fc18174fb95",
   "metadata": {},
   "outputs": [
    {
     "data": {
      "text/plain": [
       "[<matplotlib.lines.Line2D at 0x15551b8e1eb0>]"
      ]
     },
     "execution_count": 11,
     "metadata": {},
     "output_type": "execute_result"
    },
    {
     "data": {
      "image/png": "[encoded data removed]",
      "text/plain": [
       "<Figure size 432x288 with 1 Axes>"
      ]
     },
     "metadata": {
      "needs_background": "light"
     },
     "output_type": "display_data"
    }
   ],
   "source": [
    "plt.plot( exp_ra, exp_dec, 'o', alpha=0.1, mew=0 )"
   ]
  },
  {
   "cell_type": "markdown",
   "id": "9145dfdc-1d83-4e8c-be7a-1903f7d9005d",
   "metadata": {},
   "source": [
    "We will have to ask Rob all what is in this database.\n",
    "\n",
    "Exercises:\n",
    " * overplot as circles the locations of our DDFs.\n",
    " * plot distribution of filter values, how many exposures in griz, for example\n",
    " * plot cumulative number of exposures over days (mjd = modified julian date)\n"
   ]
  }
 ],
 "metadata": {
  "kernelspec": {
   "display_name": "NERSC Python",
   "language": "python",
   "name": "python3"
  },
  "language_info": {
   "codemirror_mode": {
    "name": "ipython",
    "version": 3
   },
   "file_extension": ".py",
   "mimetype": "text/x-python",
   "name": "python",
   "nbconvert_exporter": "python",
   "pygments_lexer": "ipython3",
   "version": "3.9.7"
  }
 },
 "nbformat": 4,
 "nbformat_minor": 5
}
