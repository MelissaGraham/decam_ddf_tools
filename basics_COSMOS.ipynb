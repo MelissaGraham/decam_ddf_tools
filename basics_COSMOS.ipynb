{
 "cells": [
  {
   "cell_type": "markdown",
   "id": "2fa186a1-1599-41a5-ac5e-038be6f25418",
   "metadata": {},
   "source": [
    "This notebook answers a few basics questions about the COSMOS field data-- how many objects and candidates were detected, how objects are distributed among candidates, and how those distributions change when an R/B cutoff is applied."
   ]
  },
  {
   "cell_type": "code",
   "execution_count": null,
   "id": "ebbd0adc-ebbf-43ba-bc6e-1e938c1e21f4",
   "metadata": {},
   "outputs": [],
   "source": [
    "import psycopg2\n",
    "import psycopg2.extras\n",
    "import getpass\n",
    "from IPython.display import display\n",
    "import ipywidgets\n",
    "import matplotlib.pyplot as plt\n",
    "import numpy as np\n",
    "import pandas as pd"
   ]
  },
  {
   "cell_type": "code",
   "execution_count": null,
   "id": "910551c6-9b72-4ca8-b88b-a2372375149a",
   "metadata": {},
   "outputs": [],
   "source": [
    "dbuser = input(\"DB User: \")\n",
    "dbpasswd = getpass.getpass(\"DB Password: \")"
   ]
  },
  {
   "cell_type": "code",
   "execution_count": null,
   "id": "12a2b476-acab-4716-b290-6b027982eaaa",
   "metadata": {},
   "outputs": [],
   "source": [
    "db = psycopg2.connect(f\"dbname='decat' user='{dbuser}' password='{dbpasswd}' host='decatdb.lbl.gov'\")"
   ]
  },
  {
   "cell_type": "code",
   "execution_count": null,
   "id": "b2b766de-e184-4f46-861e-2063d55747be",
   "metadata": {},
   "outputs": [],
   "source": [
    "db.autocommit = True # Makes the computer nicer about SQL syntax errors\n",
    "\n",
    "cursor = db.cursor( cursor_factory = psycopg2.extras.DictCursor )"
   ]
  },
  {
   "cell_type": "markdown",
   "id": "073f6977-441e-47af-a995-ec99cf4a40cb",
   "metadata": {},
   "source": [
    "#### How many objects total in the COSMOS field?"
   ]
  },
  {
   "cell_type": "code",
   "execution_count": null,
   "id": "69241613-4bbd-4f18-af59-6305d4c7b1ca",
   "metadata": {},
   "outputs": [],
   "source": [
    "query = ( 'SELECT COUNT(*) FROM objects o '\n",
    "         'WHERE q3c_radial_query(o.ra,o.dec,150,2.2,3) '\n",
    "         'LIMIT 10000000')\n",
    "cursor.execute( query )\n",
    "\n",
    "objnum = cursor.fetchall()[0][0]\n",
    "print( objnum )"
   ]
  },
  {
   "cell_type": "markdown",
   "id": "d7fa5e00-81a0-4d82-9bc0-ad056aa57b3a",
   "metadata": {},
   "source": [
    "#### How many good (R/B>0.6) objects total in the COSMOS field?"
   ]
  },
  {
   "cell_type": "code",
   "execution_count": null,
   "id": "1ab44a06-53f6-4da4-b503-c2a6bf74cc68",
   "metadata": {},
   "outputs": [],
   "source": [
    "query = ( 'SELECT COUNT(*) FROM objects o '\n",
    "         'WHERE q3c_radial_query(o.ra,o.dec,150,2.2,3) '\n",
    "         'AND o.rb>0.6 '\n",
    "         'LIMIT 10000000')\n",
    "cursor.execute( query )\n",
    "\n",
    "objnum = cursor.fetchall()[0][0]\n",
    "print( objnum )"
   ]
  },
  {
   "cell_type": "markdown",
   "id": "e95ddd1f-d411-4096-ad9a-a610d16fd9b7",
   "metadata": {},
   "source": [
    "#### How many candidates total in the COSMOS field?"
   ]
  },
  {
   "cell_type": "code",
   "execution_count": null,
   "id": "9fad7374-8d38-4710-8ace-9f352642f130",
   "metadata": {},
   "outputs": [],
   "source": [
    "query = ( 'SELECT COUNT(*) FROM candidates c '\n",
    "         'WHERE q3c_radial_query(c.ra,c.dec,150,2.2,3) ' \n",
    "         'LIMIT 10000000')\n",
    "cursor.execute( query )\n",
    "\n",
    "candnum = cursor.fetchall()[0][0]\n",
    "print( candnum )"
   ]
  },
  {
   "cell_type": "markdown",
   "id": "bd379dae-7460-41f8-99b3-f97a352e7bf3",
   "metadata": {},
   "source": [
    "#### How many objects per candidate, on average? (COSMOS)"
   ]
  },
  {
   "cell_type": "code",
   "execution_count": null,
   "id": "a766afe3-6bcd-4e49-b74f-678bac75cd65",
   "metadata": {},
   "outputs": [],
   "source": [
    "obj_per_cand_av = objnum / candnum\n",
    "print( obj_per_cand_av ) # This matches what we get later\n",
    "\n",
    "del candnum, objnum, obj_per_cand_av"
   ]
  },
  {
   "cell_type": "markdown",
   "id": "2f52b047-16de-4fd8-b5f5-81913b6c119f",
   "metadata": {},
   "source": [
    "#### How are the objects distributed among candidates (COSMOS, ignoring RB scores)?"
   ]
  },
  {
   "cell_type": "code",
   "execution_count": null,
   "id": "80c3f68b-a6a9-46e2-87f0-98c5138f5869",
   "metadata": {},
   "outputs": [],
   "source": [
    "### Returns objects.candidate_id for every object\n",
    "\n",
    "query = ( 'SELECT candidate_id FROM objects o '\n",
    "         'WHERE q3c_radial_query(o.ra,o.dec,150,2.2,3) '\n",
    "         'LIMIT 10000000')\n",
    "cursor.execute( query )\n",
    "\n",
    "cndobj_a = np.array( cursor.fetchall() ).transpose()\n",
    "cndobj_a"
   ]
  },
  {
   "cell_type": "code",
   "execution_count": null,
   "id": "53c46d7a-7cb0-4ec9-8d39-06b3bbfb1103",
   "metadata": {},
   "outputs": [],
   "source": [
    "# Finding out how many objects have a given candidate id\n",
    "candidate_a, frequencies_a = np.unique( cndobj_a[0], return_counts=True )"
   ]
  },
  {
   "cell_type": "code",
   "execution_count": null,
   "id": "e845794c-c634-46e3-b4a3-8945b04dd1d7",
   "metadata": {},
   "outputs": [],
   "source": [
    "pd.DataFrame( frequencies_a, candidate_a, columns=[\"Number of detections\"]) # visualization"
   ]
  },
  {
   "cell_type": "code",
   "execution_count": null,
   "id": "2a358969-afcc-4425-92f5-97cf8b560b17",
   "metadata": {},
   "outputs": [],
   "source": [
    "# Plotting it up\n",
    "plt.figure( figsize=(8,5) )\n",
    "plt.hist( frequencies_a, bins=100 )\n",
    "plt.xlim( 0, 170 )\n",
    "plt.xlabel( \"Objects per candidate\" )\n",
    "plt.ylabel( \"Number of candidates\" )\n",
    "plt.axvline( np.mean( frequencies_a ), label=\"Mean objs/cand, %f\" % (np.mean(frequencies_a)), color='r' )\n",
    "plt.legend()\n",
    "print( \"THIS PLOT HAS LIMITED X-AXIS RANGE FOR VISIBILITY, should go out to ~700\" )\n",
    "print( \"It also includes every object, regardless of rb score\" )"
   ]
  },
  {
   "cell_type": "markdown",
   "id": "6353c2f3-2d05-4ce5-a707-3f3320902fc8",
   "metadata": {},
   "source": [
    "#### Same analysis, but for only \"good\" object detections (COSMOS, R/B>0.6)"
   ]
  },
  {
   "cell_type": "code",
   "execution_count": null,
   "id": "f5aa64a6-28f9-4675-8fe6-01a41385bf49",
   "metadata": {},
   "outputs": [],
   "source": [
    "query = ( 'SELECT candidate_id FROM objects o '\n",
    "         'WHERE rb > 0.6 '\n",
    "         'AND q3c_radial_query(o.ra,o.dec,150,2.2,3) ' \n",
    "         'LIMIT 10000000')\n",
    "cursor.execute( query )\n",
    "\n",
    "cndobj_g = np.array( cursor.fetchall() ).transpose()\n",
    "cndobj_g"
   ]
  },
  {
   "cell_type": "code",
   "execution_count": null,
   "id": "33995dd3-9d51-45f5-8a0f-077637678c0d",
   "metadata": {},
   "outputs": [],
   "source": [
    "# Finding out how many objects have a given candidate id\n",
    "candidate_g, frequencies_g = np.unique( cndobj_g[0], return_counts=True )"
   ]
  },
  {
   "cell_type": "code",
   "execution_count": null,
   "id": "115e5eb5-ec1a-49c3-99e3-57577003a6cb",
   "metadata": {},
   "outputs": [],
   "source": [
    "# Plotting it up\n",
    "plt.figure( figsize=(8,5) )\n",
    "plt.hist( frequencies_g, bins=150 )\n",
    "plt.xlim( 0, 50 )\n",
    "plt.xlabel( \"Objects per candidate\" )\n",
    "plt.ylabel( \"Number of candidates\" )\n",
    "plt.axvline( np.mean( frequencies_g ), label=\"Mean objs/cand, %f\" % ( np.mean(frequencies_g) ), color='r' )\n",
    "plt.legend()\n",
    "print( \"THIS PLOT HAS LIMITED X-AXIS RANGE FOR VISIBILITY, should go out to ~350\" )\n",
    "print( \"It includes only objects with rb scores above 0.6\" )"
   ]
  },
  {
   "cell_type": "code",
   "execution_count": null,
   "id": "4a9039ea-da37-4f33-9667-a2651d03fe0e",
   "metadata": {},
   "outputs": [],
   "source": []
  },
  {
   "cell_type": "code",
   "execution_count": null,
   "id": "be026cdc-7451-4d5d-9b75-df221388f7ee",
   "metadata": {},
   "outputs": [],
   "source": []
  }
 ],
 "metadata": {
  "kernelspec": {
   "display_name": "Python 3",
   "language": "python",
   "name": "python3"
  },
  "language_info": {
   "codemirror_mode": {
    "name": "ipython",
    "version": 3
   },
   "file_extension": ".py",
   "mimetype": "text/x-python",
   "name": "python",
   "nbconvert_exporter": "python",
   "pygments_lexer": "ipython3",
   "version": "3.7.4"
  }
 },
 "nbformat": 4,
 "nbformat_minor": 5
}
