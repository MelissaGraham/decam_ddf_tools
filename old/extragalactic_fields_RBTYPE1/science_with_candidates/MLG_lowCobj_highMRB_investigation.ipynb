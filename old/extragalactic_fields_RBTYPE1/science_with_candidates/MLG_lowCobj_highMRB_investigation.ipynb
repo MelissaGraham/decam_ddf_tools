{
 "cells": [
  {
   "cell_type": "markdown",
   "id": "c18439c5-f383-42c1-91b0-4b62f7c6cb8a",
   "metadata": {},
   "source": [
    "# Investigation of the low Cobj, high mean R/B candidates\n",
    "\n",
    "IN PROGRESS\n",
    "\n",
    "What are we missing when we impose Cobj >= 10?"
   ]
  },
  {
   "cell_type": "code",
   "execution_count": null,
   "id": "19cba399-bdb2-4c51-a71d-361bc3fa841b",
   "metadata": {},
   "outputs": [],
   "source": [
    "# import os\n",
    "import numpy as np\n",
    "import matplotlib as mpl\n",
    "import matplotlib.pyplot as plt\n",
    "# import pandas as pd\n",
    "\n",
    "# from copy import deepcopy\n",
    "import time"
   ]
  },
  {
   "cell_type": "markdown",
   "id": "6ed1b5b5-f2cb-465f-b85d-1fc35f5b21d7",
   "metadata": {},
   "source": [
    "## Load the data"
   ]
  },
  {
   "cell_type": "code",
   "execution_count": null,
   "id": "b7021238-b8ba-4a41-8a2b-e2e1cefadb8f",
   "metadata": {},
   "outputs": [],
   "source": [
    "fnm = '../source_detection_summary_files/MLG_lowCobj_highMRB/candidates_lowCobj_highMRB.dat'\n",
    "cand_field    = np.loadtxt( fnm, dtype='str',   usecols=(0) ) # field, COSMOS or ELAIS\n",
    "cand_id       = np.loadtxt( fnm, dtype='str',   usecols=(1) ) # candidate identifier\n",
    "cand_ra       = np.loadtxt( fnm, dtype='float', usecols=(2) ) # right ascension (deg)\n",
    "cand_dec      = np.loadtxt( fnm, dtype='float', usecols=(3) ) # declination (deg)\n",
    "\n",
    "cand_cobj     = np.loadtxt( fnm, dtype='int',   usecols=(4) ) # number of objects\n",
    "cand_meanrb   = np.loadtxt( fnm, dtype='float', usecols=(5) ) # mean R/B score of objects\n",
    "cand_stdrb    = np.loadtxt( fnm, dtype='float', usecols=(6) ) # standard deviation of R/B score of objects\n",
    "cand_tspan    = np.loadtxt( fnm, dtype='float', usecols=(7) ) # time span between first and last object (days)\n",
    "cand_amp      = np.loadtxt( fnm, dtype='float', usecols=(8) ) # amplitude between brightest and faintest object (mag)\n",
    "\n",
    "cand_cobj_g   = np.loadtxt( fnm, dtype='int',   usecols=(9) )\n",
    "cand_meanrb_g = np.loadtxt( fnm, dtype='float', usecols=(10) )\n",
    "cand_stdrb_g  = np.loadtxt( fnm, dtype='float', usecols=(11) )\n",
    "cand_tspan_g  = np.loadtxt( fnm, dtype='float', usecols=(12) )\n",
    "cand_amp_g    = np.loadtxt( fnm, dtype='float', usecols=(13) )\n",
    "\n",
    "cand_cobj_r   = np.loadtxt( fnm, dtype='int',   usecols=(14) )\n",
    "cand_meanrb_r = np.loadtxt( fnm, dtype='float', usecols=(15) )\n",
    "cand_stdrb_r  = np.loadtxt( fnm, dtype='float', usecols=(16) )\n",
    "cand_tspan_r  = np.loadtxt( fnm, dtype='float', usecols=(17) )\n",
    "cand_amp_r    = np.loadtxt( fnm, dtype='float', usecols=(18) )\n",
    "\n",
    "cand_cobj_i   = np.loadtxt( fnm, dtype='int',   usecols=(19) )\n",
    "cand_meanrb_i = np.loadtxt( fnm, dtype='float', usecols=(20) )\n",
    "cand_stdrb_i  = np.loadtxt( fnm, dtype='float', usecols=(21) )\n",
    "cand_tspan_i  = np.loadtxt( fnm, dtype='float', usecols=(22) )\n",
    "cand_amp_i    = np.loadtxt( fnm, dtype='float', usecols=(23) )\n",
    "\n",
    "del fnm"
   ]
  },
  {
   "cell_type": "code",
   "execution_count": null,
   "id": "3e46454b-18e9-46b4-b4ba-eafcf5a59784",
   "metadata": {},
   "outputs": [],
   "source": [
    "fnm = '../source_detection_summary_files/MLG_lowCobj_highMRB/candidate_objects_lowCobj_highMRB.dat'\n",
    "obj_field  = np.loadtxt( fnm, dtype='str',   usecols=(0) )  # field, COSMOS or ELAIS\n",
    "obj_candid = np.loadtxt( fnm, dtype='str',   usecols=(1) )  # candidate identifier\n",
    "obj_id     = np.loadtxt( fnm, dtype='str',   usecols=(2) )  # object identifier\n",
    "obj_ra     = np.loadtxt( fnm, dtype='float', usecols=(3) )  # right ascension\n",
    "obj_dec    = np.loadtxt( fnm, dtype='float', usecols=(4) )  # declination\n",
    "obj_mjd    = np.loadtxt( fnm, dtype='float', usecols=(5) )  # modified julian date\n",
    "obj_filter = np.loadtxt( fnm, dtype='str',   usecols=(6) )  # filter\n",
    "obj_mag    = np.loadtxt( fnm, dtype='float', usecols=(7) )  # apparent magnitude\n",
    "obj_mage   = np.loadtxt( fnm, dtype='float', usecols=(8) )  # error in apparent magnitude\n",
    "obj_rb     = np.loadtxt( fnm, dtype='float', usecols=(9) )  # real/bogus score\n",
    "obj_expid  = np.loadtxt( fnm, dtype='int',   usecols=(10) ) # exposure id\n",
    "del fnm"
   ]
  },
  {
   "cell_type": "code",
   "execution_count": null,
   "id": "be2e6587-c440-4ef9-a240-3e218677936c",
   "metadata": {},
   "outputs": [],
   "source": []
  }
 ],
 "metadata": {
  "kernelspec": {
   "display_name": "NERSC Python",
   "language": "python",
   "name": "python3"
  },
  "language_info": {
   "codemirror_mode": {
    "name": "ipython",
    "version": 3
   },
   "file_extension": ".py",
   "mimetype": "text/x-python",
   "name": "python",
   "nbconvert_exporter": "python",
   "pygments_lexer": "ipython3",
   "version": "3.9.7"
  }
 },
 "nbformat": 4,
 "nbformat_minor": 5
}
