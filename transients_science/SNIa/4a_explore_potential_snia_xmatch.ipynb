{
 "cells": [
  {
   "cell_type": "markdown",
   "id": "2762778c-0fa8-438b-8f1d-4419116daca2",
   "metadata": {},
   "source": [
    "# Explore the LS DR10 cross-matches for potential SN Ia\n",
    "\n",
    "Author: Melissa Graham\n",
    "\n",
    "## Set up and read files"
   ]
  },
  {
   "cell_type": "code",
   "execution_count": 1,
   "id": "a7ffe197-f429-4532-a771-c51dfe10563e",
   "metadata": {
    "tags": []
   },
   "outputs": [],
   "source": [
    "import os\n",
    "import numpy as np\n",
    "import matplotlib as mpl\n",
    "import matplotlib.pyplot as plt"
   ]
  },
  {
   "cell_type": "code",
   "execution_count": 2,
   "id": "20de7945-9107-404d-9fc7-9a218abea6bd",
   "metadata": {
    "tags": []
   },
   "outputs": [],
   "source": [
    "clr = ['darkgreen', 'firebrick', 'saddlebrown', 'limegreen', 'orange', 'lightcoral']\n",
    "\n",
    "all_filters = ['g','r','i']\n",
    "all_fcolors = ['green','red','blue']\n",
    "all_fshapes = ['o','s','^']\n",
    "all_fsizes  = [5, 5, 7]"
   ]
  },
  {
   "cell_type": "markdown",
   "id": "d27e3416-b16a-4295-b98f-4a40b8dc0cc6",
   "metadata": {},
   "source": [
    "Read in the nightly epoch light curves for all candidates."
   ]
  },
  {
   "cell_type": "code",
   "execution_count": 3,
   "id": "1c523312-76cc-4195-b9bd-e4d1ac5538c0",
   "metadata": {
    "tags": []
   },
   "outputs": [],
   "source": [
    "fnm = '../all_nightly_epochs_files/candidate_lightcurves.dat'\n",
    "\n",
    "candLC_field = np.loadtxt(fnm, dtype='str', usecols=(0))\n",
    "candLC_candid = np.loadtxt(fnm, dtype='str', usecols=(1))\n",
    "candLC_caldate = np.loadtxt(fnm, dtype='str', usecols=(2))\n",
    "candLC_mjd = np.loadtxt(fnm, dtype='float', usecols=(3))\n",
    "candLC_filter = np.loadtxt(fnm, dtype='str', usecols=(4))\n",
    "candLC_Nobj = np.loadtxt(fnm, dtype='int', usecols=(5))\n",
    "candLC_mag = np.loadtxt(fnm, dtype='float', usecols=(6))\n",
    "candLC_mage = np.loadtxt(fnm, dtype='float', usecols=(7))\n",
    "candLC_mrb = np.loadtxt(fnm, dtype='float', usecols=(8))\n",
    "candLC_lef = np.loadtxt(fnm, dtype='float', usecols=(9))\n",
    "\n",
    "del fnm"
   ]
  },
  {
   "cell_type": "markdown",
   "id": "50c4c6e8-8b18-4923-ad14-7ff66bc5a5ed",
   "metadata": {},
   "source": [
    "Read in the parameters for the nightly epoch light curves for all candidates."
   ]
  },
  {
   "cell_type": "code",
   "execution_count": 4,
   "id": "e76d8aa8-35fe-4bb1-bb86-d3a20c7fc13d",
   "metadata": {
    "tags": []
   },
   "outputs": [],
   "source": [
    "fnm = '../all_nightly_epochs_files/candidate_lightcurve_parameters.dat'\n",
    "\n",
    "paramLC_field = np.loadtxt( fnm, dtype='str', usecols=(0) )\n",
    "paramLC_candid = np.loadtxt( fnm, dtype='str', usecols=(1) )\n",
    "paramLC_tspan = np.loadtxt( fnm, dtype='float', usecols=(2) )\n",
    "paramLC_tspan_g = np.loadtxt( fnm, dtype='float', usecols=(3) )\n",
    "paramLC_tspan_r = np.loadtxt( fnm, dtype='float', usecols=(4) )\n",
    "paramLC_tspan_i = np.loadtxt( fnm, dtype='float', usecols=(5) )\n",
    "paramLC_minmag = np.loadtxt( fnm, dtype='float', usecols=(6) )\n",
    "paramLC_minmag_g = np.loadtxt( fnm, dtype='float', usecols=(7) )\n",
    "paramLC_minmag_r = np.loadtxt( fnm, dtype='float', usecols=(8) )\n",
    "paramLC_minmag_i = np.loadtxt( fnm, dtype='float', usecols=(9) )\n",
    "paramLC_amp = np.loadtxt( fnm, dtype='float', usecols=(10) )\n",
    "paramLC_amp_g = np.loadtxt( fnm, dtype='float', usecols=(11) )\n",
    "paramLC_amp_r = np.loadtxt( fnm, dtype='float', usecols=(12) )\n",
    "paramLC_amp_i = np.loadtxt( fnm, dtype='float', usecols=(13) )\n",
    "paramLC_neps = np.loadtxt( fnm, dtype='int', usecols=(14) )\n",
    "paramLC_neps_g = np.loadtxt( fnm, dtype='int', usecols=(15) )\n",
    "paramLC_neps_r = np.loadtxt( fnm, dtype='int', usecols=(16) )\n",
    "paramLC_neps_i = np.loadtxt( fnm, dtype='int', usecols=(17) )\n",
    "\n",
    "del fnm"
   ]
  },
  {
   "cell_type": "markdown",
   "id": "76d0df14-79ab-4760-a68e-9167181e03ae",
   "metadata": {},
   "source": [
    "Read in the list of candidate IDs for potential SNIa that Melissa made with the MLG_snia_menagerie.ipynb notebook."
   ]
  },
  {
   "cell_type": "code",
   "execution_count": 5,
   "id": "047ef7b9-7114-4ff7-9a94-1bde9cb4c0d6",
   "metadata": {
    "tags": []
   },
   "outputs": [],
   "source": [
    "potSNIa_candid = np.loadtxt('potential_snia_list.dat', dtype='str', usecols=(0))"
   ]
  },
  {
   "cell_type": "markdown",
   "id": "077bf79c-2776-4658-b0b6-62dd5ec92ea3",
   "metadata": {},
   "source": [
    "Read in all rows of the cross-matched file.\n",
    "\n",
    "`flagstar` : 1 if matched to a star; 0 if matched to a galaxy; -1 if unmatched (int) \n",
    "\n",
    "`flagcore` : 1 if matched to the core of the galaxy; 0 otherwise (int) \n",
    "\n",
    "`flagmatch` : 1 if a star AND galaxy met constraints; 0 if one or the other; -1 if unmatched (int) \n"
   ]
  },
  {
   "cell_type": "code",
   "execution_count": 6,
   "id": "710d3ef6-703b-4ed5-8ef5-b97997de0d77",
   "metadata": {
    "tags": []
   },
   "outputs": [],
   "source": [
    "fnm = '../cross_matched_LSDR10/candidate_xmatch_LSdr10.dat'\n",
    "lsdr10xm_candid   = np.loadtxt(fnm, dtype='str', usecols=(0))\n",
    "lsdr10xm_candra   = np.loadtxt(fnm, dtype='float', usecols=(1))\n",
    "lsdr10xm_canddec  = np.loadtxt(fnm, dtype='float', usecols=(2))\n",
    "lsdr10xm_flagstar = np.loadtxt(fnm, dtype='int', usecols=(4))\n",
    "lsdr10xm_flagcore = np.loadtxt(fnm, dtype='int', usecols=(5))\n",
    "lsdr10xm_flagmatch= np.loadtxt(fnm, dtype='int', usecols=(6))\n",
    "lsdr10xm_sep      = np.loadtxt(fnm, dtype='float', usecols=(7))\n",
    "lsdr10xm_ra       = np.loadtxt(fnm, dtype='float', usecols=(8))\n",
    "lsdr10xm_dec      = np.loadtxt(fnm, dtype='float', usecols=(9))\n",
    "lsdr10xm_rmag     = np.loadtxt(fnm, dtype='float', usecols=(13))\n",
    "lsdr10xm_type     = np.loadtxt(fnm, dtype='str', usecols=(15))\n",
    "lsdr10xm_shaper   = np.loadtxt(fnm, dtype='float', usecols=(19))\n",
    "lsdr10xm_rpsfsize = np.loadtxt(fnm, dtype='float', usecols=(21))  \n",
    "lsdr10xm_meanpz   = np.loadtxt(fnm, dtype='float', usecols=(23))\n",
    "lsdr10xm_stdpz    = np.loadtxt(fnm, dtype='float', usecols=(24))\n",
    "lsdr10xm_specz    = np.loadtxt(fnm, dtype='float', usecols=(25))\n",
    "del fnm"
   ]
  },
  {
   "cell_type": "markdown",
   "id": "2e4bfa91-7e5b-4097-887e-33c02be4d339",
   "metadata": {},
   "source": [
    "For every potential SNIa store its index in the `paramLC_` arrays \n",
    "as `mindex` for the `lsdr10xm_` arrays."
   ]
  },
  {
   "cell_type": "code",
   "execution_count": 7,
   "id": "2311dfc2-2469-47fb-8fbd-53c2a0f6b980",
   "metadata": {
    "tags": []
   },
   "outputs": [],
   "source": [
    "lsdr10xm_mindex = np.zeros(len(lsdr10xm_candid), dtype='int')-1\n",
    "\n",
    "for cid in potSNIa_candid:\n",
    "    tx = np.where(lsdr10xm_candid == cid)[0]\n",
    "    if len(tx) == 1:\n",
    "        ttx = np.where(paramLC_candid == cid)[0]\n",
    "        if len(ttx) == 1:\n",
    "            lsdr10xm_mindex[tx[0]] = ttx[0]\n",
    "        del ttx\n",
    "    del tx"
   ]
  },
  {
   "cell_type": "markdown",
   "id": "914596eb-9f8d-4e4d-8f00-c68fd1dda723",
   "metadata": {
    "tags": []
   },
   "source": [
    "Check that all the potential SNIa were successfully matched."
   ]
  },
  {
   "cell_type": "code",
   "execution_count": 8,
   "id": "3d96a6da-ae4c-4800-8b67-6e56857eb181",
   "metadata": {
    "tags": []
   },
   "outputs": [
    {
     "name": "stdout",
     "output_type": "stream",
     "text": [
      "100  should equal  100\n"
     ]
    }
   ],
   "source": [
    "tx = np.where(lsdr10xm_mindex >= 0)[0]\n",
    "print(len(tx), ' should equal ', len(potSNIa_candid))"
   ]
  },
  {
   "cell_type": "markdown",
   "id": "5079096e-dec0-4b76-a266-91ea4d11333c",
   "metadata": {},
   "source": [
    "Read in the `sncosmo` results."
   ]
  },
  {
   "cell_type": "code",
   "execution_count": 9,
   "id": "0520bcd6-e0a7-4949-9093-ba6d5686f389",
   "metadata": {
    "tags": []
   },
   "outputs": [],
   "source": [
    "fnm = '2_all_potential_snia_fits/results_sncosmos.dat'\n",
    "\n",
    "fit_cand = np.loadtxt(fnm, dtype='str', usecols=(0))\n",
    "fit_est_z = np.loadtxt(fnm, dtype='float', usecols=(1))\n",
    "fit_in_zlo = np.loadtxt(fnm, dtype='float', usecols=(2))\n",
    "fit_in_zhi = np.loadtxt(fnm, dtype='float', usecols=(3))\n",
    "fit_z = np.loadtxt(fnm, dtype='float', usecols=(4))\n",
    "fit_ze = np.loadtxt(fnm, dtype='float', usecols=(5))\n",
    "fit_t0 = np.loadtxt(fnm, dtype='float', usecols=(6))\n",
    "fit_t0e = np.loadtxt(fnm, dtype='float', usecols=(7))\n",
    "fit_x0 = np.loadtxt(fnm, dtype='float', usecols=(8))\n",
    "fit_x0e = np.loadtxt(fnm, dtype='float', usecols=(9))\n",
    "fit_x1 = np.loadtxt(fnm, dtype='float', usecols=(10))\n",
    "fit_x1e = np.loadtxt(fnm, dtype='float', usecols=(11))\n",
    "fit_c = np.loadtxt(fnm, dtype='float', usecols=(12))\n",
    "fit_ce = np.loadtxt(fnm, dtype='float', usecols=(13))\n",
    "\n",
    "fit_pmB = np.loadtxt(fnm, dtype='float', usecols=(14))\n",
    "fit_pmg = np.loadtxt(fnm, dtype='float', usecols=(15))\n",
    "fit_pmr = np.loadtxt(fnm, dtype='float', usecols=(16))\n",
    "fit_pmi = np.loadtxt(fnm, dtype='float', usecols=(17))\n",
    "\n",
    "del fnm"
   ]
  },
  {
   "cell_type": "markdown",
   "id": "7be011ec-b3ee-4c07-8971-04e5845ac0f9",
   "metadata": {},
   "source": [
    "And the review flags from MLG."
   ]
  },
  {
   "cell_type": "code",
   "execution_count": 10,
   "id": "0cda3f4d-5ae1-47ac-acd5-f13f2cd07bb7",
   "metadata": {
    "tags": []
   },
   "outputs": [],
   "source": [
    "fnm = '2_all_potential_snia_fits/MLG_review_ratings.txt'\n",
    "mlg_review_candid = np.loadtxt(fnm, dtype='str', usecols=(0))\n",
    "mlg_review_flag = np.loadtxt(fnm, dtype='int', usecols=(1))\n",
    "del fnm\n",
    "\n",
    "fit_mlgflag = np.zeros(len(fit_cand), dtype='int') - 1\n",
    "for c, candid in enumerate(fit_cand):\n",
    "    tx = np.where(candid == mlg_review_candid)[0]\n",
    "    if len(tx) == 1:\n",
    "        fit_mlgflag[c] = mlg_review_flag[tx[0]]\n",
    "    del tx"
   ]
  },
  {
   "cell_type": "markdown",
   "id": "cc871567-9031-4e3f-a086-896efb1aebb9",
   "metadata": {},
   "source": [
    "For every potential SNIa store its index in the `fit_` arrays \n",
    "as `findex` for the `lsdr10xm_` arrays."
   ]
  },
  {
   "cell_type": "code",
   "execution_count": 11,
   "id": "31488f35-5fbd-4710-8c9c-225968e8cc36",
   "metadata": {
    "tags": []
   },
   "outputs": [],
   "source": [
    "lsdr10xm_findex = np.zeros(len(lsdr10xm_candid), dtype='int')-1\n",
    "\n",
    "for cid in potSNIa_candid:\n",
    "    tx = np.where(lsdr10xm_candid == cid)[0]\n",
    "    if len(tx) == 1:\n",
    "        ttx = np.where(fit_cand == cid)[0]\n",
    "        if len(ttx) == 1:\n",
    "            lsdr10xm_findex[tx[0]] = ttx[0]\n",
    "        del ttx\n",
    "    del tx"
   ]
  },
  {
   "cell_type": "code",
   "execution_count": 12,
   "id": "9044577a-d5bb-4564-9d43-b790ee47eb54",
   "metadata": {
    "tags": []
   },
   "outputs": [
    {
     "name": "stdout",
     "output_type": "stream",
     "text": [
      "100  should equal  100\n"
     ]
    }
   ],
   "source": [
    "tx = np.where(lsdr10xm_findex >= 0)[0]\n",
    "print(len(tx), ' should equal ', len(potSNIa_candid))"
   ]
  },
  {
   "cell_type": "markdown",
   "id": "23b9d758-5c74-4dc8-bc82-1af256663d16",
   "metadata": {},
   "source": [
    "## Number of potential SNIa with matches\n",
    "\n",
    "Recall that the `flagstar` column is 1 if the nearest cross-match is a star\n",
    "and 0 if it is a galaxy.\n",
    "\n",
    "Recall that the `flagmatch` column is 1 if there was a nearby object of a different\n",
    "type within the search radius, indicating potential confusion in object or host type.\n",
    "\n",
    "Identify potential SNIa with no matches, star matches, and galaxy matches."
   ]
  },
  {
   "cell_type": "code",
   "execution_count": 13,
   "id": "cd9d374d-9461-4ef5-b850-bca9d2bfd94a",
   "metadata": {
    "tags": []
   },
   "outputs": [
    {
     "name": "stdout",
     "output_type": "stream",
     "text": [
      "100\n",
      " \n",
      "Number of potential SN Ia that are cross-matched with:\n",
      "no source:  3\n",
      "a galaxy:  84\n",
      "a star:  13\n",
      " \n",
      "Number of potential SN Ia that are cross-matched with:\n",
      "a galaxy, but a star is nearby too:  8\n",
      "['DC21cgfrp' 'DC21cyddn' 'DC21drcum' 'DC22gtpdx' 'DC22hvtwp' 'DC22hvuhl'\n",
      " 'DC23jjloo' 'DC23kdata']\n",
      "a star, but a galaxy is nearby too:  10\n",
      "['DC21bwajh' 'DC21dqik' 'DC21fber' 'DC21jfcb' 'DC21lbmp' 'DC21lqtw'\n",
      " 'DC21mp' 'DC23jwvwc' 'DC23khfqh' 'DC23kpkys']\n"
     ]
    }
   ],
   "source": [
    "tx = np.where(lsdr10xm_mindex >= 0)[0]\n",
    "print(len(tx))\n",
    "\n",
    "ax = np.where(lsdr10xm_flagstar[tx] == -1)[0]\n",
    "bx = np.where(lsdr10xm_flagstar[tx] == 0)[0]\n",
    "cx = np.where(lsdr10xm_flagstar[tx] == 1)[0]\n",
    "\n",
    "print(' ')\n",
    "print('Number of potential SN Ia that are cross-matched with:')\n",
    "print('no source: ', len(ax))\n",
    "print('a galaxy: ', len(bx))\n",
    "print('a star: ', len(cx))\n",
    "\n",
    "dx = np.where(lsdr10xm_flagmatch[tx[bx]] == 1)[0]\n",
    "ex = np.where(lsdr10xm_flagmatch[tx[cx]] == 1)[0]\n",
    "\n",
    "print(' ')\n",
    "print('Number of potential SN Ia that are cross-matched with:')\n",
    "print('a galaxy, but a star is nearby too: ', len(dx))\n",
    "print(lsdr10xm_candid[tx[bx[dx]]])\n",
    "print('a star, but a galaxy is nearby too: ', len(ex))\n",
    "print(lsdr10xm_candid[tx[cx[ex]]])\n",
    "\n",
    "del tx, ax, bx, cx, dx, ex"
   ]
  },
  {
   "cell_type": "code",
   "execution_count": 15,
   "id": "83184fdd-ed31-45c9-9e18-aafaf5cb3994",
   "metadata": {
    "tags": []
   },
   "outputs": [
    {
     "name": "stdout",
     "output_type": "stream",
     "text": [
      "number fit but flagged:  66\n",
      " \n",
      "Number of FLAGGED potential SN Ia that are cross-matched with:\n",
      "no source:  2 ( DC21dglus DC21mjrj )\n",
      "a galaxy:  55\n",
      "a star:  9\n",
      " \n",
      "Number of FLAGGED potential SN Ia that are cross-matched with:\n",
      "a galaxy, but a star is nearby too:  4\n",
      "['DC21drcum' 'DC22hvuhl' 'DC23jjloo' 'DC23kdata']\n",
      "a star, but a galaxy is nearby too:  6\n",
      "['DC21bwajh' 'DC21lbmp' 'DC21lqtw' 'DC21mp' 'DC23khfqh' 'DC23kpkys']\n"
     ]
    }
   ],
   "source": [
    "# the fit_ array index for all the potential snia\n",
    "fx = np.where(lsdr10xm_findex >= 0)[0]\n",
    "tmp1 = lsdr10xm_findex[fx]\n",
    "\n",
    "# the fit-but-flagged potential SNIa\n",
    "ix = np.where((fit_z[tmp1] > -90.0) & (fit_mlgflag[tmp1] != 0))[0]\n",
    "print('number fit but flagged: ', len(ix))\n",
    "\n",
    "# index the fit-but-flagged potential SNIa in the xmatch array\n",
    "tx = fx[ix]\n",
    "del fx, tmp1, ix\n",
    "\n",
    "ax = np.where(lsdr10xm_flagstar[tx] == -1)[0]\n",
    "bx = np.where(lsdr10xm_flagstar[tx] == 0)[0]\n",
    "cx = np.where(lsdr10xm_flagstar[tx] == 1)[0]\n",
    "\n",
    "print(' ')\n",
    "print('Number of FLAGGED potential SN Ia that are cross-matched with:')\n",
    "print('no source: ', len(ax), '(', lsdr10xm_candid[tx[ax[0]]], lsdr10xm_candid[tx[ax[1]]], ')')\n",
    "print('a galaxy: ', len(bx))\n",
    "print('a star: ', len(cx))\n",
    "\n",
    "dx = np.where(lsdr10xm_flagmatch[tx[bx]] == 1)[0]\n",
    "ex = np.where(lsdr10xm_flagmatch[tx[cx]] == 1)[0]\n",
    "\n",
    "print(' ')\n",
    "print('Number of FLAGGED potential SN Ia that are cross-matched with:')\n",
    "print('a galaxy, but a star is nearby too: ', len(dx))\n",
    "print(lsdr10xm_candid[tx[bx[dx]]])\n",
    "print('a star, but a galaxy is nearby too: ', len(ex))\n",
    "print(lsdr10xm_candid[tx[cx[ex]]])\n",
    "\n",
    "del tx, ax, bx, cx, dx, ex"
   ]
  },
  {
   "cell_type": "code",
   "execution_count": 22,
   "id": "61c99c97-c71d-45b8-af46-6c49104ac91d",
   "metadata": {
    "tags": []
   },
   "outputs": [
    {
     "name": "stdout",
     "output_type": "stream",
     "text": [
      "number fit but UNflagged:  34\n",
      " \n",
      "Number of UNFLAGGED potential SN Ia that are cross-matched with:\n",
      "no source:  1 ( DC23jsner )\n",
      "a galaxy:  29\n",
      "a star:  4\n",
      " \n",
      "Number of UNFLAGGED potential SN Ia that are cross-matched with:\n",
      "a galaxy, but a star is nearby too:  4\n",
      "['DC21cgfrp' 'DC21cyddn' 'DC22gtpdx' 'DC22hvtwp']\n",
      "a star, but a galaxy is nearby too:  4\n",
      "['DC21dqik' 'DC21fber' 'DC21jfcb' 'DC23jwvwc']\n"
     ]
    }
   ],
   "source": [
    "# the fit_ array index for all the potential snia\n",
    "fx = np.where(lsdr10xm_findex >= 0)[0]\n",
    "tmp1 = lsdr10xm_findex[fx]\n",
    "\n",
    "# the fit-but-UNflagged potential SNIa\n",
    "ix = np.where((fit_z[tmp1] > -90.0) & (fit_mlgflag[tmp1] == 0))[0]\n",
    "print('number fit but UNflagged: ', len(ix))\n",
    "\n",
    "# index the fit-but-UNflagged potential SNIa in the xmatch array\n",
    "tx = fx[ix]\n",
    "del fx, tmp1, ix\n",
    "\n",
    "ax = np.where(lsdr10xm_flagstar[tx] == -1)[0]\n",
    "bx = np.where(lsdr10xm_flagstar[tx] == 0)[0]\n",
    "cx = np.where(lsdr10xm_flagstar[tx] == 1)[0]\n",
    "\n",
    "print(' ')\n",
    "print('Number of UNFLAGGED potential SN Ia that are cross-matched with:')\n",
    "print('no source: ', len(ax), '(', lsdr10xm_candid[tx[ax[0]]], ')')\n",
    "print('a galaxy: ', len(bx))\n",
    "print('a star: ', len(cx))\n",
    "\n",
    "dx = np.where(lsdr10xm_flagmatch[tx[bx]] == 1)[0]\n",
    "ex = np.where(lsdr10xm_flagmatch[tx[cx]] == 1)[0]\n",
    "\n",
    "print(' ')\n",
    "print('Number of UNFLAGGED potential SN Ia that are cross-matched with:')\n",
    "print('a galaxy, but a star is nearby too: ', len(dx))\n",
    "print(lsdr10xm_candid[tx[bx[dx]]])\n",
    "print('a star, but a galaxy is nearby too: ', len(ex))\n",
    "print(lsdr10xm_candid[tx[cx[ex]]])\n",
    "\n",
    "del tx, ax, bx, cx, dx, ex"
   ]
  },
  {
   "cell_type": "code",
   "execution_count": null,
   "id": "5d4b2004-5c4f-416c-8288-0d57eb05a7ba",
   "metadata": {},
   "outputs": [],
   "source": []
  },
  {
   "cell_type": "markdown",
   "id": "35e6c971-68d3-4f4e-9856-86d436ea639f",
   "metadata": {},
   "source": [
    "## Histograms\n",
    "\n",
    "Plot some histograms to compare the cross-matched stars and galaxies."
   ]
  },
  {
   "cell_type": "code",
   "execution_count": 19,
   "id": "b58cb6d6-8013-4fdc-820e-c8d9fb53e14e",
   "metadata": {
    "tags": []
   },
   "outputs": [
    {
     "data": {
      "image/png": "[encoded data removed]",
      "text/plain": [
       "<Figure size 400x200 with 1 Axes>"
      ]
     },
     "metadata": {},
     "output_type": "display_data"
    },
    {
     "data": {
      "image/png": "[encoded data removed]",
      "text/plain": [
       "<Figure size 400x200 with 1 Axes>"
      ]
     },
     "metadata": {},
     "output_type": "display_data"
    }
   ],
   "source": [
    "tx = np.where(lsdr10xm_mindex >= 0)[0]\n",
    "bx = np.where(lsdr10xm_flagstar[tx] == 0)[0]\n",
    "cx = np.where(lsdr10xm_flagstar[tx] == 1)[0]\n",
    "\n",
    "plt.figure(figsize=(4, 2))\n",
    "plt.hist(lsdr10xm_sep[tx[bx]]/lsdr10xm_shaper[tx[bx]], bins=20, histtype='step', color='darkgrey', lw=3, label='galaxy')\n",
    "plt.hist(lsdr10xm_sep[tx[cx]]/lsdr10xm_rpsfsize[tx[cx]], bins=20, histtype='step', color='black', lw=1, label='star')\n",
    "plt.xlabel('separation / size')\n",
    "plt.legend(loc='upper right')\n",
    "plt.show()\n",
    "\n",
    "plt.figure(figsize=(4, 2))\n",
    "plt.hist(lsdr10xm_rmag[tx[bx]], bins=20, histtype='step', color='darkgrey', lw=3, label='galaxy')\n",
    "plt.hist(lsdr10xm_rmag[tx[cx]], bins=20, histtype='step', color='black', lw=1, label='star')\n",
    "plt.xlabel('r-band apparent magnitude')\n",
    "plt.show()\n",
    "\n",
    "del tx, bx, cx"
   ]
  },
  {
   "cell_type": "code",
   "execution_count": 23,
   "id": "692064cb-ce3e-4cbe-90c1-44bb7565048d",
   "metadata": {
    "tags": []
   },
   "outputs": [
    {
     "data": {
      "image/png": "[encoded data removed]",
      "text/plain": [
       "<Figure size 1000x200 with 3 Axes>"
      ]
     },
     "metadata": {},
     "output_type": "display_data"
    }
   ],
   "source": [
    "# the fit_ array index for all the potential snia\n",
    "fx = np.where(lsdr10xm_findex >= 0)[0]\n",
    "tmp1 = lsdr10xm_findex[fx]\n",
    "\n",
    "# the fit-but-UNflagged potential SNIa\n",
    "ix = np.where((fit_z[tmp1] > -90.0) & (fit_mlgflag[tmp1] == 0))[0]\n",
    "\n",
    "# index the fit-but-UNflagged potential SNIa in the xmatch array\n",
    "tx = fx[ix]\n",
    "del fx, tmp1, ix\n",
    "\n",
    "bx = np.where(lsdr10xm_flagstar[tx] == 0)[0]\n",
    "\n",
    "fig, ax = plt.subplots(1, 3, figsize=(10, 2))\n",
    "\n",
    "ax[0].hist(lsdr10xm_shaper[tx[bx]], bins=20, histtype='step')\n",
    "ax[0].set_xlabel('shaper')\n",
    "\n",
    "ax[1].hist(lsdr10xm_rpsfsize[tx[bx]], bins=20, histtype='step')\n",
    "ax[1].set_xlabel('rpsfsize')\n",
    "\n",
    "x = np.where(lsdr10xm_meanpz[tx[bx]] > 0.0)[0]\n",
    "ax[2].hist(lsdr10xm_meanpz[tx[bx[x]]], bins=20, histtype='step')\n",
    "ax[2].set_xlabel('meanpz')\n",
    "\n",
    "plt.show()\n",
    "\n",
    "del tx, bx, x"
   ]
  },
  {
   "cell_type": "code",
   "execution_count": 24,
   "id": "c7a90a61-b005-4883-ac69-b7456118c1fb",
   "metadata": {
    "tags": []
   },
   "outputs": [
    {
     "data": {
      "image/png": "[encoded data removed]",
      "text/plain": [
       "<Figure size 300x300 with 1 Axes>"
      ]
     },
     "metadata": {},
     "output_type": "display_data"
    }
   ],
   "source": [
    "# the fit_ array index for all the potential snia\n",
    "fx = np.where(lsdr10xm_findex >= 0)[0]\n",
    "tmp1 = lsdr10xm_findex[fx]\n",
    "\n",
    "# the fit-but-UNflagged potential SNIa\n",
    "ix = np.where((fit_z[tmp1] > -90.0) & (fit_mlgflag[tmp1] == 0))[0]\n",
    "jx = np.where((fit_z[tmp1] > -90.0) & (fit_mlgflag[tmp1] != 0))[0]\n",
    "\n",
    "# index the fit-but-UNflagged potential SNIa in the xmatch array\n",
    "tx = fx[ix]\n",
    "ttx = fx[jx]\n",
    "del fx, tmp1, ix, jx\n",
    "\n",
    "bx = np.where(lsdr10xm_flagstar[tx] == 0)[0]\n",
    "bbx = np.where(lsdr10xm_flagstar[ttx] == 0)[0]\n",
    "\n",
    "x = np.where(lsdr10xm_meanpz[tx[bx]] > 0.0)[0]\n",
    "xx = np.where(lsdr10xm_meanpz[ttx[bbx]] > 0.0)[0]\n",
    "\n",
    "plt.figure(figsize=(3, 3))\n",
    "plt.plot([0.1,1.1], [0.1,1.1], lw=1, color='grey')\n",
    "\n",
    "plt.plot(lsdr10xm_meanpz[ttx[bbx[xx]]], fit_z[lsdr10xm_findex[ttx[bbx[xx]]]], \n",
    "         'o', ms=7, alpha=0.4, mew=0, color='darkgreen', label='flagged')\n",
    "\n",
    "plt.plot(lsdr10xm_meanpz[tx[bx[x]]], fit_z[lsdr10xm_findex[tx[bx[x]]]], \n",
    "         'o', ms=3, mew=0, color='black', label='unflagged')\n",
    "\n",
    "plt.xlabel('xmatch object pz')\n",
    "plt.ylabel('sncosmos fit z')\n",
    "plt.legend(loc='best')\n",
    "plt.show()\n",
    "\n",
    "\n",
    "del tx, bx, x, ttx, bbx, xx"
   ]
  },
  {
   "cell_type": "markdown",
   "id": "cb978ec9-6b56-4474-a726-1eb24b244fc3",
   "metadata": {},
   "source": [
    "## Light curves\n",
    "\n",
    "Plot the light curves of the 4 unflagged potential SNIa that are cross-matched to stars.\n",
    "\n",
    "For all of them, a galaxy is nearby too.\n",
    "\n"
   ]
  },
  {
   "cell_type": "code",
   "execution_count": 30,
   "id": "0c39a729-4de0-4eaa-9d1b-3e3b6dc4a81f",
   "metadata": {
    "tags": []
   },
   "outputs": [
    {
     "data": {
      "image/png": "[encoded data removed]",
      "text/plain": [
       "<Figure size 600x600 with 4 Axes>"
      ]
     },
     "metadata": {},
     "output_type": "display_data"
    }
   ],
   "source": [
    "# tx = np.where(lsdr10xm_mindex >= 0)[0]\n",
    "# ttx = np.where(lsdr10xm_flagstar[tx] == 1)[0]\n",
    "# sx = lsdr10xm_mindex[tx[ttx]]\n",
    "# del tx, ttx\n",
    "\n",
    "usecands = np.asarray(['DC21dqik', 'DC21fber', 'DC21jfcb', 'DC23jwvwc'], dtype='str')\n",
    "fig, ax = plt.subplots( 2, 2, figsize=(6, 6), sharex=False, sharey=False )\n",
    "s = 0\n",
    "\n",
    "for i in range(2):\n",
    "    ax[i, 0].set_ylabel('magnitude', fontsize=14)\n",
    "    for j in range(2):\n",
    "        for f,filt in enumerate(all_filters):\n",
    "            cx0 = np.where((candLC_candid == usecands[s]) & \\\n",
    "                           (candLC_filter == filt) & (candLC_mrb > 0.4))[0]\n",
    "            cx1 = np.where((candLC_candid == usecands[s]) & \\\n",
    "                           (candLC_filter == filt) & (candLC_mrb <= 0.4) & (candLC_lef == 0))[0]\n",
    "            cx2 = np.where((candLC_candid == usecands[s]) & \\\n",
    "                           (candLC_filter == filt) & (candLC_mrb <= 0.4) & (candLC_lef == 1))[0]\n",
    "            ax[i, j].plot(candLC_mjd[cx0]-59300., candLC_mag[cx0], \n",
    "                         all_fshapes[f], ms=all_fsizes[f], mew=0, alpha=0.8, color=all_fcolors[f], label=filt)\n",
    "            ax[i, j].plot(candLC_mjd[cx1]-59300., candLC_mag[cx1], \n",
    "                         all_fshapes[f], ms=all_fsizes[f], mew=1, alpha=0.8, color='none', mec=all_fcolors[f])\n",
    "            ax[i, j].plot(candLC_mjd[cx2]-59300., candLC_mag[cx2], \n",
    "                         all_fshapes[f], ms=all_fsizes[f]-1, mew=0, alpha=0.4, color=all_fcolors[f])\n",
    "            del cx0, cx1, cx2\n",
    "\n",
    "        cx = np.where((candLC_candid == usecands[s]) & (candLC_lef == 0))[0]\n",
    "        xmin = np.min(candLC_mjd[cx])\n",
    "        xmax = np.max(candLC_mjd[cx])\n",
    "        del cx\n",
    "        ax[i, j].invert_yaxis()\n",
    "        ax[i, j].set_xlim([xmin-59300.-5, xmax-59300.+5])\n",
    "        del xmin, xmax\n",
    "        ax[i, j].set_title(usecands[s])\n",
    "        s += 1\n",
    "\n",
    "ax[0, 1].legend(loc='upper right', labelspacing=0.1, handletextpad=0.1, fontsize=14)\n",
    "\n",
    "for j in range(2):\n",
    "    ax[1, j].set_xlabel('MJD-59300', fontsize=14)\n",
    "\n",
    "plt.tight_layout()\n",
    "plt.show()"
   ]
  },
  {
   "cell_type": "code",
   "execution_count": 31,
   "id": "7763b1b0-9893-4101-ac68-b38f2c7e7009",
   "metadata": {
    "tags": []
   },
   "outputs": [
    {
     "name": "stdout",
     "output_type": "stream",
     "text": [
      "    candid  flagstar  flagmatch    sep  rpsfsize    mag\n",
      "  DC21dqik         1          1   0.10  1.179211  24.02\n",
      "https://www.legacysurvey.org/viewer/cutout.jpg?ra=151.689426712647&dec=2.00556682067166&layer=ls-dr9&pixscale=0.06\n",
      "https://decat-webap.lbl.gov/decatview.py/cand/DC21dqik\n",
      "  DC21fber         1          1   0.30  1.237684  24.70\n",
      "https://www.legacysurvey.org/viewer/cutout.jpg?ra=149.045078531139&dec=3.17994689983373&layer=ls-dr9&pixscale=0.06\n",
      "https://decat-webap.lbl.gov/decatview.py/cand/DC21fber\n",
      "  DC21jfcb         1          1   0.10  1.215312  25.94\n",
      "https://www.legacysurvey.org/viewer/cutout.jpg?ra=150.7729446044&dec=2.88665225035047&layer=ls-dr9&pixscale=0.06\n",
      "https://decat-webap.lbl.gov/decatview.py/cand/DC21jfcb\n",
      " DC23jwvwc         1          1   0.40  1.210548  25.25\n",
      "https://www.legacysurvey.org/viewer/cutout.jpg?ra=150.699095590192&dec=2.65003680784035&layer=ls-dr9&pixscale=0.06\n",
      "https://decat-webap.lbl.gov/decatview.py/cand/DC23jwvwc\n"
     ]
    }
   ],
   "source": [
    "fnm = '../cross_matched_LSDR10/candidate_links.dat'\n",
    "\n",
    "link_candid = np.loadtxt(fnm, dtype='str', usecols=(0))\n",
    "link_lsview = np.loadtxt(fnm, dtype='str', usecols=(1))\n",
    "link_rkview = np.loadtxt(fnm, dtype='str', usecols=(2))\n",
    "\n",
    "print('%10s  %8s  %9s  %5s  %8s  %5s' % ('candid','flagstar','flagmatch','sep','rpsfsize','mag'))\n",
    "\n",
    "for temp in usecands:\n",
    "    tx = np.where(link_candid == temp)[0]\n",
    "    jx = np.where(lsdr10xm_candid == temp)[0]\n",
    "    print('%10s  %8i  %9i  %5.2f  %8.6f  %5.2f' % \n",
    "          (temp, lsdr10xm_flagstar[jx[0]], lsdr10xm_flagmatch[jx[0]], \n",
    "          lsdr10xm_sep[jx[0]], lsdr10xm_rpsfsize[jx[0]], lsdr10xm_rmag[jx[0]]))\n",
    "    print(link_lsview[tx[0]])\n",
    "    print(link_rkview[tx[0]])\n",
    "    del tx\n",
    "\n",
    "del fnm"
   ]
  },
  {
   "cell_type": "markdown",
   "id": "395e8ad2-fafd-43eb-a2c2-343af26c95cc",
   "metadata": {},
   "source": [
    "After reviewing the matches.\n",
    "\n",
    " * DC21dqik - galaxy (no star)\n",
    " * DC21fber - hard to say (star and galaxy)\n",
    " * DC21jfcb - nothing there\n",
    " * DC23jwvwc - galaxy (no star)\n"
   ]
  },
  {
   "cell_type": "code",
   "execution_count": null,
   "id": "3cf46133-8230-40dc-b584-a0369dcabcf1",
   "metadata": {},
   "outputs": [],
   "source": []
  }
 ],
 "metadata": {
  "kernelspec": {
   "display_name": "NERSC Python",
   "language": "python",
   "name": "python3"
  },
  "language_info": {
   "codemirror_mode": {
    "name": "ipython",
    "version": 3
   },
   "file_extension": ".py",
   "mimetype": "text/x-python",
   "name": "python",
   "nbconvert_exporter": "python",
   "pygments_lexer": "ipython3",
   "version": "3.11.7"
  }
 },
 "nbformat": 4,
 "nbformat_minor": 5
}
