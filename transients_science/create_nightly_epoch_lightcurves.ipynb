{
 "cells": [
  {
   "cell_type": "markdown",
   "id": "28c1cc48-6771-4408-ad06-a0e7d28b8fbd",
   "metadata": {},
   "source": [
    "# Create Nightly Epoch Lightcurves\n",
    "\n",
    "Create nightly-epoch lightcurves for \"good\" candidates, to use as a starting sample for transient science with the DECam deep drilling field data.\n",
    "\n",
    "\"Good\" means at least 10 objects (detections in any filter) and a mean real-bogus score > 0.4 for all objects.\n",
    "\n",
    "Create output files in the same format as made by `candidate_nightly_epochs.ipynb`:\n",
    " * candidate_lightcurves.dat\n",
    " * candidate_lightcurve_parameters.dat\n",
    " "
   ]
  },
  {
   "cell_type": "markdown",
   "id": "2b94c879-d742-4837-8d71-8d42e52ee505",
   "metadata": {},
   "source": [
    "# 0. Set up\n",
    "\n",
    "Import packages and connect to database."
   ]
  },
  {
   "cell_type": "code",
   "execution_count": null,
   "id": "c4406d08-04a5-47d0-aefe-07b2d282fb38",
   "metadata": {},
   "outputs": [],
   "source": [
    "import psycopg2\n",
    "import psycopg2.extras\n",
    "import getpass\n",
    "import pandas\n",
    "\n",
    "import os\n",
    "import numpy as np\n",
    "import matplotlib as mpl\n",
    "import matplotlib.pyplot as plt\n",
    "\n",
    "from copy import deepcopy\n",
    "import time"
   ]
  },
  {
   "cell_type": "markdown",
   "id": "c53f27ef-d5fa-4bdb-9a84-91df853207ba",
   "metadata": {},
   "source": [
    "User decat_ro, in order to access `versiontags`."
   ]
  },
  {
   "cell_type": "code",
   "execution_count": null,
   "id": "4c0c7461-8a81-49f7-aab9-a92ea944e81e",
   "metadata": {},
   "outputs": [],
   "source": [
    "dbuser = input(\"DB User: \")\n",
    "dbpasswd = getpass.getpass(\"DB Password: \")\n",
    "db = psycopg2.connect(f\"dbname='decat' user='{dbuser}' password='{dbpasswd}' host='decatdb.lbl.gov'\")"
   ]
  },
  {
   "cell_type": "code",
   "execution_count": null,
   "id": "720566b7-15ab-476c-a13f-834924a69300",
   "metadata": {},
   "outputs": [],
   "source": [
    "db.autocommit = True\n",
    "cursor = db.cursor( cursor_factory = psycopg2.extras.DictCursor )"
   ]
  },
  {
   "cell_type": "markdown",
   "id": "3bc8c2f1-87c8-4d1e-80cb-faa825a525aa",
   "metadata": {},
   "source": [
    "If you want to print table schema."
   ]
  },
  {
   "cell_type": "code",
   "execution_count": null,
   "id": "f58e8a58-4585-4704-af10-9639033d203a",
   "metadata": {},
   "outputs": [],
   "source": [
    "# tables = ['versiontags','exposures','subtractions','images',\\\n",
    "#           'objects','objectrbs','objectdatas','objectdata_versiontag','candidates']\n",
    "# for table in tables:\n",
    "#     query = \"SELECT column_name, data_type FROM information_schema.columns WHERE table_name=%s\"\n",
    "#     cursor.execute( query, ( table, ))\n",
    "#     print( f\"\\nTABLE: {table}\\n===========================\" )\n",
    "#     for row in cursor:\n",
    "#         print( f\"{row['column_name']:24s}  :  {row['data_type']:s}\" )"
   ]
  },
  {
   "cell_type": "markdown",
   "id": "c4bc11af-d1aa-48b3-913e-ce8ff0f8aede",
   "metadata": {},
   "source": [
    "Things in the database are tagged with versions.\n",
    "This is because we might redo something, or we might try different subtraction algorithms.\n",
    "This might change in the future, but, at the moment everything that's in the database should be tagged with the \"latest\" tag, which means it was the last thing saved to the database."
   ]
  },
  {
   "cell_type": "code",
   "execution_count": null,
   "id": "3694239b-31f3-488c-9c6f-c4a9c7bc66db",
   "metadata": {},
   "outputs": [],
   "source": [
    "tag = \"latest\"\n",
    "db.rollback()\n",
    "q = ( \"SELECT id, tag FROM versiontags WHERE tag=%(tag)s\" )\n",
    "cursor.execute( q, { \"tag\": tag } )\n",
    "row = cursor.fetchone()\n",
    "tagid = row['id']\n",
    "print(tagid)"
   ]
  },
  {
   "cell_type": "markdown",
   "id": "a4699a12-a8d7-42a3-9c0f-8e47639e3dc5",
   "metadata": {},
   "source": [
    "Get all the objects in ELAIS and COSMOS fields.\n",
    "\n",
    "This takes about a minute."
   ]
  },
  {
   "cell_type": "code",
   "execution_count": null,
   "id": "1c58e2d9-adca-40bd-8a9b-689807d4849f",
   "metadata": {},
   "outputs": [],
   "source": [
    "%%time\n",
    "q = (\"SELECT od.ra, od.dec, od.mag, od.magerr, rbs.rb, \"\n",
    "     \"i.filter, i.meanmjd, o.candidate_id, e.proposalid \"\n",
    "     \"FROM objectdatas AS od \"\n",
    "     \"INNER JOIN objectdata_versiontag AS odvt \"\n",
    "     \"ON od.id=odvt.objectdata_id AND odvt.versiontag_id=%(tagid)s \"\n",
    "     \"INNER JOIN objects AS o ON od.object_id=o.id \"\n",
    "     \"INNER JOIN images AS i ON o.image_id=i.id \"\n",
    "     \"INNER JOIN objectrbs as rbs ON od.id=rbs.objectdata_id AND rbs.rbtype_id=2 \"\n",
    "     \"INNER JOIN exposures AS e ON i.exposure_id=e.id \"\n",
    "     \"WHERE ((od.ra > 147.0 AND od.ra < 153.0 AND od.dec > -0.25 AND od.dec < 5) \"\n",
    "     \"OR (od.ra > 5.0 AND od.ra < 12.0 AND od.dec > -46 AND od.dec < -41)) \")\n",
    "cursor.execute(q, {'tagid': tagid})\n",
    "df = pandas.DataFrame(cursor.fetchall())"
   ]
  },
  {
   "cell_type": "markdown",
   "id": "3a1169e7-a68e-412a-a061-60385ac5d63e",
   "metadata": {},
   "source": [
    "Print total number of objects."
   ]
  },
  {
   "cell_type": "code",
   "execution_count": null,
   "id": "ece3ad5f-0cfb-4861-b3c0-f7cee73499ca",
   "metadata": {},
   "outputs": [],
   "source": [
    "print(len(df))"
   ]
  },
  {
   "cell_type": "markdown",
   "id": "127c0283-0ba7-4d8d-8c22-257db6c720ac",
   "metadata": {},
   "source": [
    "Put the objects into numpy arrays."
   ]
  },
  {
   "cell_type": "code",
   "execution_count": null,
   "id": "ae5e6b80-fdc6-4fe7-9add-c92ce6bafbbd",
   "metadata": {},
   "outputs": [],
   "source": [
    "obj_ra     = np.asarray(df[0], dtype='float')\n",
    "obj_dec    = np.asarray(df[1], dtype='float')\n",
    "obj_mag    = np.asarray(df[2], dtype='float')\n",
    "obj_mage   = np.asarray(df[3], dtype='float')\n",
    "obj_rb     = np.asarray(df[4], dtype='float')\n",
    "obj_filt   = np.asarray(df[5], dtype='str')\n",
    "obj_mjd    = np.asarray(df[6], dtype='float')\n",
    "obj_candid = np.asarray(df[7], dtype='str')\n",
    "obj_propid = np.asarray(df[8], dtype='str')\n",
    "del df"
   ]
  },
  {
   "cell_type": "markdown",
   "id": "6d34f752-0c7d-45b3-a473-e4aefef35bcd",
   "metadata": {},
   "source": [
    "The unique candidates for these objects."
   ]
  },
  {
   "cell_type": "code",
   "execution_count": null,
   "id": "b5487cfb-bde6-45e0-991c-818764501a15",
   "metadata": {},
   "outputs": [],
   "source": [
    "values, indices, counts = np.unique(obj_candid, return_index=True,  return_counts=True)"
   ]
  },
  {
   "cell_type": "code",
   "execution_count": null,
   "id": "8fe98959-d5d2-4bbf-98c5-0e4d857c3a8c",
   "metadata": {},
   "outputs": [],
   "source": [
    "print('len(values), len(indices), len(counts)', len(values), len(indices), len(counts))\n",
    "print(' ')\n",
    "print('On average, %4.2f objects per candidate' % (len(obj_candid)/len(values)))"
   ]
  },
  {
   "cell_type": "markdown",
   "id": "11d6e0bf-981b-4521-b005-3266a6a0166e",
   "metadata": {},
   "source": [
    "<br> \n",
    "\n",
    "Delete all objects of candidates with just one object/candidate.\n",
    "\n",
    "Making the object arrays smaller speeds up the processing later on."
   ]
  },
  {
   "cell_type": "code",
   "execution_count": null,
   "id": "b8c4726f-b279-4732-97c2-217f5a6bc033",
   "metadata": {},
   "outputs": [],
   "source": [
    "tx = np.where(counts == 1)[0]\n",
    "dx = indices[tx]"
   ]
  },
  {
   "cell_type": "code",
   "execution_count": null,
   "id": "201ccfb8-34b0-43b5-9da4-7e6a9f429df9",
   "metadata": {},
   "outputs": [],
   "source": [
    "obj_ra     = np.delete(obj_ra, dx)\n",
    "obj_dec    = np.delete(obj_dec, dx)\n",
    "obj_mag    = np.delete(obj_mag, dx)\n",
    "obj_mage   = np.delete(obj_mage, dx)\n",
    "obj_rb     = np.delete(obj_rb, dx)\n",
    "obj_filt   = np.delete(obj_filt, dx)\n",
    "obj_mjd    = np.delete(obj_mjd, dx)\n",
    "obj_candid = np.delete(obj_candid, dx)\n",
    "obj_propid = np.delete(obj_propid, dx)\n",
    "del tx, dx"
   ]
  },
  {
   "cell_type": "code",
   "execution_count": null,
   "id": "a9f76167-5924-4c18-80a8-d4cdf2bec73f",
   "metadata": {},
   "outputs": [],
   "source": [
    "print(len(obj_ra))"
   ]
  },
  {
   "cell_type": "markdown",
   "id": "9c5a93e0-4fa9-4bf9-9719-1ba26e12e18d",
   "metadata": {},
   "source": [
    "Identify unique candidates with >= 10 objects, and calculate their mean real-bogus."
   ]
  },
  {
   "cell_type": "code",
   "execution_count": null,
   "id": "d3a50988-a8c4-4769-8843-e4d61fcf6454",
   "metadata": {},
   "outputs": [],
   "source": [
    "tx = np.where(counts >= 10)[0]\n",
    "tmp_candid = obj_candid[tx]\n",
    "print(len(tx), 'candidates have >=10 objects')\n",
    "del tx"
   ]
  },
  {
   "cell_type": "code",
   "execution_count": null,
   "id": "6cd99c9a-cd1d-4d85-a44e-af4d2e6e5473",
   "metadata": {},
   "outputs": [],
   "source": [
    "tmp_nobjs = np.zeros(len(tmp_candid), dtype='int')\n",
    "tmp_meanrb = np.zeros(len(tmp_candid), dtype='float')\n",
    "obj_keep = np.zeros(len(obj_ra), dtype='int')"
   ]
  },
  {
   "cell_type": "markdown",
   "id": "5260cbb9-09c9-41c5-b201-fe95b72000f9",
   "metadata": {},
   "source": [
    "This is going to take about 10 minutes."
   ]
  },
  {
   "cell_type": "code",
   "execution_count": null,
   "id": "7c583d19-7cc6-4078-aefd-579d3cfffba0",
   "metadata": {},
   "outputs": [],
   "source": [
    "%%time\n",
    "t0 = time.time()\n",
    "for c, candid in enumerate(tmp_candid):\n",
    "    if (c == 100) | (c == 1000) | (c == 10000):\n",
    "        t1 = time.time()\n",
    "        print(c, t1 - t0, 'sec')\n",
    "    cx = np.where(obj_candid == candid)[0]\n",
    "    tmp_nobjs[c] = len(cx)\n",
    "    tmp_meanrb[c] = np.nanmean(obj_rb[cx])\n",
    "    if (tmp_nobjs[c] >= 10) & (tmp_meanrb[c] >= 0.4):\n",
    "        obj_keep[cx] = 1\n",
    "    del cx"
   ]
  },
  {
   "cell_type": "code",
   "execution_count": null,
   "id": "ce49e43d-d6a4-44a2-9849-6e56bfdf3057",
   "metadata": {},
   "outputs": [],
   "source": []
  },
  {
   "cell_type": "code",
   "execution_count": null,
   "id": "f1898123-418d-45d7-baa6-4e791742fb80",
   "metadata": {},
   "outputs": [],
   "source": []
  },
  {
   "cell_type": "code",
   "execution_count": null,
   "id": "334f808b-40cc-4bfb-9257-0f5349f6b215",
   "metadata": {},
   "outputs": [],
   "source": []
  },
  {
   "cell_type": "code",
   "execution_count": null,
   "id": "fdec3e07-e9d8-4df7-ba7a-cdbe742c017e",
   "metadata": {},
   "outputs": [],
   "source": []
  }
 ],
 "metadata": {
  "kernelspec": {
   "display_name": "NERSC Python",
   "language": "python",
   "name": "python3"
  },
  "language_info": {
   "codemirror_mode": {
    "name": "ipython",
    "version": 3
   },
   "file_extension": ".py",
   "mimetype": "text/x-python",
   "name": "python",
   "nbconvert_exporter": "python",
   "pygments_lexer": "ipython3",
   "version": "3.9.7"
  }
 },
 "nbformat": 4,
 "nbformat_minor": 5
}
