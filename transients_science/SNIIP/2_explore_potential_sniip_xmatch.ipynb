{
 "cells": [
  {
   "cell_type": "markdown",
   "id": "c4031d98-5429-4994-becf-dc9dc5e5d48b",
   "metadata": {},
   "source": [
    "# Explore the LS DR10 cross-matches for potential SN IIP\n",
    "\n",
    "Author: Melissa Graham, Midori Rollins\n",
    "\n",
    "## Set up and read files"
   ]
  },
  {
   "cell_type": "code",
   "execution_count": 1,
   "id": "45b0d101-6c7d-446d-82fc-b149e4a25a86",
   "metadata": {
    "tags": []
   },
   "outputs": [],
   "source": [
    "import os\n",
    "import numpy as np\n",
    "import matplotlib as mpl\n",
    "import matplotlib.pyplot as plt"
   ]
  },
  {
   "cell_type": "code",
   "execution_count": 2,
   "id": "d21d5253-b14d-4eb0-8991-e3c50d93f343",
   "metadata": {
    "tags": []
   },
   "outputs": [],
   "source": [
    "clr = ['darkgreen', 'firebrick', 'saddlebrown', 'limegreen', 'orange', 'lightcoral']\n",
    "\n",
    "all_filters = ['g','r','i']\n",
    "all_fcolors = ['green','red','blue']\n",
    "all_fshapes = ['o','s','^']\n",
    "all_fsizes  = [5, 5, 7]"
   ]
  },
  {
   "cell_type": "markdown",
   "id": "89eee71a-8992-44bc-93c7-d64646da4f70",
   "metadata": {},
   "source": [
    "Read in the nightly epoch light curves for all candidates."
   ]
  },
  {
   "cell_type": "code",
   "execution_count": 3,
   "id": "4ce1c968-5810-40fd-bec9-e2c1bbe89e95",
   "metadata": {
    "tags": []
   },
   "outputs": [],
   "source": [
    "fnm = '../all_nightly_epochs_files/candidate_lightcurves.dat'\n",
    "\n",
    "candLC_field = np.loadtxt(fnm, dtype='str', usecols=(0))\n",
    "candLC_candid = np.loadtxt(fnm, dtype='str', usecols=(1))\n",
    "candLC_caldate = np.loadtxt(fnm, dtype='str', usecols=(2))\n",
    "candLC_mjd = np.loadtxt(fnm, dtype='float', usecols=(3))\n",
    "candLC_filter = np.loadtxt(fnm, dtype='str', usecols=(4))\n",
    "candLC_Nobj = np.loadtxt(fnm, dtype='int', usecols=(5))\n",
    "candLC_mag = np.loadtxt(fnm, dtype='float', usecols=(6))\n",
    "candLC_mage = np.loadtxt(fnm, dtype='float', usecols=(7))\n",
    "candLC_mrb = np.loadtxt(fnm, dtype='float', usecols=(8))\n",
    "candLC_lef = np.loadtxt(fnm, dtype='float', usecols=(9))\n",
    "\n",
    "del fnm"
   ]
  },
  {
   "cell_type": "markdown",
   "id": "527651eb-14cb-4f6c-a3a2-598a01677fba",
   "metadata": {},
   "source": [
    "Read in the parameters for the nightly epoch light curves for all candidates."
   ]
  },
  {
   "cell_type": "code",
   "execution_count": 4,
   "id": "c5d4c272-16fa-45c4-b524-c678f6fd8cf1",
   "metadata": {
    "tags": []
   },
   "outputs": [],
   "source": [
    "fnm = '../all_nightly_epochs_files/candidate_lightcurve_parameters.dat'\n",
    "\n",
    "paramLC_field = np.loadtxt( fnm, dtype='str', usecols=(0) )\n",
    "paramLC_candid = np.loadtxt( fnm, dtype='str', usecols=(1) )\n",
    "paramLC_tspan = np.loadtxt( fnm, dtype='float', usecols=(2) )\n",
    "paramLC_tspan_g = np.loadtxt( fnm, dtype='float', usecols=(3) )\n",
    "paramLC_tspan_r = np.loadtxt( fnm, dtype='float', usecols=(4) )\n",
    "paramLC_tspan_i = np.loadtxt( fnm, dtype='float', usecols=(5) )\n",
    "paramLC_minmag = np.loadtxt( fnm, dtype='float', usecols=(6) )\n",
    "paramLC_minmag_g = np.loadtxt( fnm, dtype='float', usecols=(7) )\n",
    "paramLC_minmag_r = np.loadtxt( fnm, dtype='float', usecols=(8) )\n",
    "paramLC_minmag_i = np.loadtxt( fnm, dtype='float', usecols=(9) )\n",
    "paramLC_amp = np.loadtxt( fnm, dtype='float', usecols=(10) )\n",
    "paramLC_amp_g = np.loadtxt( fnm, dtype='float', usecols=(11) )\n",
    "paramLC_amp_r = np.loadtxt( fnm, dtype='float', usecols=(12) )\n",
    "paramLC_amp_i = np.loadtxt( fnm, dtype='float', usecols=(13) )\n",
    "paramLC_neps = np.loadtxt( fnm, dtype='int', usecols=(14) )\n",
    "paramLC_neps_g = np.loadtxt( fnm, dtype='int', usecols=(15) )\n",
    "paramLC_neps_r = np.loadtxt( fnm, dtype='int', usecols=(16) )\n",
    "paramLC_neps_i = np.loadtxt( fnm, dtype='int', usecols=(17) )\n",
    "\n",
    "del fnm"
   ]
  },
  {
   "cell_type": "markdown",
   "id": "d1166c82-2664-4318-ab4c-b2fe4cb18fec",
   "metadata": {
    "tags": []
   },
   "source": [
    "Read in the list of candidate IDs for potential SNIIP that Melissa made with the MLG_snia_menagerie.ipynb notebook."
   ]
  },
  {
   "cell_type": "code",
   "execution_count": 6,
   "id": "09973927-602b-4236-87b3-e7436d386867",
   "metadata": {
    "tags": []
   },
   "outputs": [],
   "source": [
    "potsniip_candid = np.loadtxt('potential_sniip_list.dat', dtype='str', usecols=(0))"
   ]
  },
  {
   "cell_type": "markdown",
   "id": "6596f99e-d0c1-4856-88b6-a46c45660ee1",
   "metadata": {},
   "source": [
    "Read in all rows of the cross-matched file.\n",
    "\n",
    "`flagstar` : 1 if matched to a star; 0 if matched to a galaxy; -1 if unmatched (int) \n",
    "\n",
    "`flagcore` : 1 if matched to the core of the galaxy; 0 otherwise (int) \n",
    "\n",
    "`flagmatch` : 1 if a star AND galaxy met constraints; 0 if one or the other; -1 if unmatched (int) \n"
   ]
  },
  {
   "cell_type": "code",
   "execution_count": 7,
   "id": "a39c7beb-1866-43d8-acf9-e785eec8267b",
   "metadata": {
    "tags": []
   },
   "outputs": [],
   "source": [
    "fnm = '../cross_matched_LSDR10/candidate_xmatch_LSdr10.dat'\n",
    "lsdr10xm_candid   = np.loadtxt(fnm, dtype='str', usecols=(0))\n",
    "lsdr10xm_candra   = np.loadtxt(fnm, dtype='float', usecols=(1))\n",
    "lsdr10xm_canddec  = np.loadtxt(fnm, dtype='float', usecols=(2))\n",
    "lsdr10xm_flagstar = np.loadtxt(fnm, dtype='int', usecols=(4))\n",
    "lsdr10xm_flagcore = np.loadtxt(fnm, dtype='int', usecols=(5))\n",
    "lsdr10xm_flagmatch= np.loadtxt(fnm, dtype='int', usecols=(6))\n",
    "lsdr10xm_sep      = np.loadtxt(fnm, dtype='float', usecols=(7))\n",
    "lsdr10xm_ra       = np.loadtxt(fnm, dtype='float', usecols=(8))\n",
    "lsdr10xm_dec      = np.loadtxt(fnm, dtype='float', usecols=(9))\n",
    "lsdr10xm_rmag     = np.loadtxt(fnm, dtype='float', usecols=(13))\n",
    "lsdr10xm_type     = np.loadtxt(fnm, dtype='str', usecols=(15))\n",
    "lsdr10xm_shaper   = np.loadtxt(fnm, dtype='float', usecols=(19))\n",
    "lsdr10xm_rpsfsize = np.loadtxt(fnm, dtype='float', usecols=(21))  \n",
    "lsdr10xm_meanpz   = np.loadtxt(fnm, dtype='float', usecols=(23))\n",
    "lsdr10xm_stdpz    = np.loadtxt(fnm, dtype='float', usecols=(24))\n",
    "lsdr10xm_specz    = np.loadtxt(fnm, dtype='float', usecols=(25))\n",
    "del fnm"
   ]
  },
  {
   "cell_type": "markdown",
   "id": "37c9d3ae-6d1f-496a-bc12-5d79fa009865",
   "metadata": {},
   "source": [
    "For every potential sniip store its index in the `paramLC_` arrays \n",
    "as `mindex` for the `lsdr10xm_` arrays."
   ]
  },
  {
   "cell_type": "code",
   "execution_count": 9,
   "id": "adefbff9-89c0-45ab-b5a1-851488d0ff5a",
   "metadata": {
    "tags": []
   },
   "outputs": [],
   "source": [
    "lsdr10xm_mindex = np.zeros(len(lsdr10xm_candid), dtype='int')-1\n",
    "\n",
    "if potsniip_candid.size > 1:\n",
    "    for cid in potsniip_candid:\n",
    "        tx = np.where(lsdr10xm_candid == cid)[0]\n",
    "        if len(tx) == 1:\n",
    "            ttx = np.where(paramLC_candid == cid)[0]\n",
    "            if len(ttx) == 1:\n",
    "                lsdr10xm_mindex[tx[0]] = ttx[0]\n",
    "            del ttx\n",
    "        del tx\n",
    "if potsniip_candid.size == 1:\n",
    "    tx = np.where(lsdr10xm_candid == potsniip_candid)[0]\n",
    "    if len(tx) == 1:\n",
    "        ttx = np.where(paramLC_candid == potsniip_candid)[0]\n",
    "        if len(ttx) == 1:\n",
    "            lsdr10xm_mindex[tx[0]] = ttx[0]\n",
    "        del ttx\n",
    "    del tx"
   ]
  },
  {
   "cell_type": "markdown",
   "id": "e5f3f553-bdf9-429e-baa0-4e3294e4f0b2",
   "metadata": {},
   "source": [
    "Check that all the potential SNIa were successfully matched."
   ]
  },
  {
   "cell_type": "code",
   "execution_count": 10,
   "id": "2e2f692e-ce16-4054-b7a9-7fd31e73cc43",
   "metadata": {
    "tags": []
   },
   "outputs": [
    {
     "name": "stdout",
     "output_type": "stream",
     "text": [
      "5  should equal  5\n"
     ]
    }
   ],
   "source": [
    "tx = np.where(lsdr10xm_mindex >= 0)[0]\n",
    "print(len(tx), ' should equal ', potsniip_candid.size)"
   ]
  },
  {
   "cell_type": "markdown",
   "id": "9c227118-b4a4-4a31-974f-ce4644f7529c",
   "metadata": {},
   "source": [
    "## Number of potential SNIa with matches\n",
    "\n",
    "Recall that the `flagstar` column is 1 if the nearest cross-match is a star\n",
    "and 0 if it is a galaxy.\n",
    "\n",
    "Recall that the `flagmatch` column is 1 if there was a nearby object of a different\n",
    "type within the search radius, indicating potential confusion in object or host type.\n",
    "\n",
    "Identify potential SNIa with no matches, star matches, and galaxy matches."
   ]
  },
  {
   "cell_type": "code",
   "execution_count": 11,
   "id": "fd6a471a-279a-42cb-a7f1-340b7a8f8ccf",
   "metadata": {
    "tags": []
   },
   "outputs": [
    {
     "name": "stdout",
     "output_type": "stream",
     "text": [
      "5\n",
      " \n",
      "Number of potential SNIIP that are cross-matched with:\n",
      "no source:  0\n",
      "a galaxy:  2\n",
      "a star:  3\n",
      " \n",
      "Number of potential SNIIP that are cross-matched with:\n",
      "a galaxy, but a star is nearby too:  1\n",
      "['DC23kgxwc']\n",
      "a star, but a galaxy is nearby too:  2\n",
      "['DC23jmszp' 'DC23kgbgx']\n"
     ]
    }
   ],
   "source": [
    "tx = np.where(lsdr10xm_mindex >= 0)[0]\n",
    "print(len(tx))\n",
    "\n",
    "ax = np.where(lsdr10xm_flagstar[tx] == -1)[0]\n",
    "bx = np.where(lsdr10xm_flagstar[tx] == 0)[0]\n",
    "cx = np.where(lsdr10xm_flagstar[tx] == 1)[0]\n",
    "\n",
    "print(' ')\n",
    "print('Number of potential SNIIP that are cross-matched with:')\n",
    "print('no source: ', len(ax))\n",
    "print('a galaxy: ', len(bx))\n",
    "print('a star: ', len(cx))\n",
    "\n",
    "dx = np.where(lsdr10xm_flagmatch[tx[bx]] == 1)[0]\n",
    "ex = np.where(lsdr10xm_flagmatch[tx[cx]] == 1)[0]\n",
    "\n",
    "print(' ')\n",
    "print('Number of potential SNIIP that are cross-matched with:')\n",
    "print('a galaxy, but a star is nearby too: ', len(dx))\n",
    "print(lsdr10xm_candid[tx[bx[dx]]])\n",
    "print('a star, but a galaxy is nearby too: ', len(ex))\n",
    "print(lsdr10xm_candid[tx[cx[ex]]])\n",
    "\n",
    "del tx, ax, bx, cx, dx, ex"
   ]
  },
  {
   "cell_type": "markdown",
   "id": "07aa2568-26bb-42d0-84b5-93443894c778",
   "metadata": {
    "tags": []
   },
   "source": [
    "## Histograms\n",
    "\n",
    "Plot some histograms to compare the cross-matched stars and galaxies."
   ]
  },
  {
   "cell_type": "code",
   "execution_count": 13,
   "id": "1abe7357-f08a-4fe2-a8e4-ba60fe42a47a",
   "metadata": {
    "tags": []
   },
   "outputs": [
    {
     "data": {
      "image/png": "[encoded data removed]",
      "text/plain": [
       "<Figure size 400x200 with 1 Axes>"
      ]
     },
     "metadata": {},
     "output_type": "display_data"
    },
    {
     "data": {
      "image/png": "[encoded data removed]",
      "text/plain": [
       "<Figure size 400x200 with 1 Axes>"
      ]
     },
     "metadata": {},
     "output_type": "display_data"
    }
   ],
   "source": [
    "tx = np.where(lsdr10xm_mindex >= 0)[0]\n",
    "bx = np.where(lsdr10xm_flagstar[tx] == 0)[0]\n",
    "cx = np.where(lsdr10xm_flagstar[tx] == 1)[0]\n",
    "\n",
    "plt.figure(figsize=(4, 2))\n",
    "plt.hist(lsdr10xm_sep[tx[bx]]/lsdr10xm_shaper[tx[bx]], bins=20, histtype='step', color='darkgrey', lw=3, label='galaxy')\n",
    "plt.hist(lsdr10xm_sep[tx[cx]]/lsdr10xm_rpsfsize[tx[cx]], bins=20, histtype='step', color='black', lw=1, label='star')\n",
    "plt.xlabel('separation / size')\n",
    "plt.legend(loc='upper right')\n",
    "plt.show()\n",
    "\n",
    "plt.figure(figsize=(4, 2))\n",
    "plt.hist(lsdr10xm_rmag[tx[bx]], bins=20, histtype='step', color='darkgrey', lw=3, label='galaxy')\n",
    "plt.hist(lsdr10xm_rmag[tx[cx]], bins=20, histtype='step', color='black', lw=1, label='star')\n",
    "plt.xlabel('r-band apparent magnitude')\n",
    "plt.show()\n",
    "\n",
    "del tx, bx, cx"
   ]
  },
  {
   "cell_type": "markdown",
   "id": "d5768db5-8585-472e-ae9c-f30cc554c73f",
   "metadata": {},
   "source": [
    "## Light curves\n",
    "\n",
    "Plot the lightcurves of 3 potential SNIIP that are cross-matched to stars"
   ]
  },
  {
   "cell_type": "code",
   "execution_count": 33,
   "id": "56e349bd-9d52-463c-a504-60963f490872",
   "metadata": {
    "tags": []
   },
   "outputs": [
    {
     "data": {
      "image/png": "[encoded data removed]",
      "text/plain": [
       "<Figure size 1000x300 with 3 Axes>"
      ]
     },
     "metadata": {},
     "output_type": "display_data"
    }
   ],
   "source": [
    "tx = np.where(lsdr10xm_mindex >= 0)[0]\n",
    "ttx = np.where(lsdr10xm_flagstar[tx] == 1)[0]\n",
    "sx = lsdr10xm_mindex[tx[ttx]]\n",
    "del tx, ttx\n",
    "\n",
    "fig, ax = plt.subplots( 1, 3, figsize=(10, 3), sharex=False, sharey=False )\n",
    "\n",
    "s = 0\n",
    "for i in range(1):\n",
    "    ax[0].set_ylabel('magnitude', fontsize=14)\n",
    "    for j in range(3):\n",
    "        if s <= 17:\n",
    "            for f,filt in enumerate(all_filters):\n",
    "                cx0 = np.where((candLC_candid == paramLC_candid[sx[s]]) & \\\n",
    "                               (candLC_filter == filt) & (candLC_mrb > 0.4))[0]\n",
    "                cx1 = np.where((candLC_candid == paramLC_candid[sx[s]]) & \\\n",
    "                               (candLC_filter == filt) & (candLC_mrb <= 0.4) & (candLC_lef == 0))[0]\n",
    "                cx2 = np.where((candLC_candid == paramLC_candid[sx[s]]) & \\\n",
    "                               (candLC_filter == filt) & (candLC_mrb <= 0.4) & (candLC_lef == 1))[0]\n",
    "                ax[j].plot(candLC_mjd[cx0]-59300., candLC_mag[cx0], \n",
    "                             all_fshapes[f], ms=all_fsizes[f], mew=0, alpha=0.8, color=all_fcolors[f], label=filt)\n",
    "                ax[j].plot(candLC_mjd[cx1]-59300., candLC_mag[cx1], \n",
    "                             all_fshapes[f], ms=all_fsizes[f], mew=1, alpha=0.8, color='none', mec=all_fcolors[f])\n",
    "                ax[j].plot(candLC_mjd[cx2]-59300., candLC_mag[cx2], \n",
    "                             all_fshapes[f], ms=all_fsizes[f]-1, mew=0, alpha=0.4, color=all_fcolors[f])\n",
    "                del cx0, cx1, cx2\n",
    "\n",
    "            cx = np.where((candLC_candid == paramLC_candid[sx[s]]) & (candLC_lef == 0))[0]\n",
    "            xmin = np.min(candLC_mjd[cx])\n",
    "            xmax = np.max(candLC_mjd[cx])\n",
    "            del cx\n",
    "            ax[j].invert_yaxis()\n",
    "            ax[j].set_xlim([xmin-59300.-5, xmax-59300.+5])\n",
    "            del xmin, xmax\n",
    "            ax[j].set_title(paramLC_candid[sx[s]])\n",
    "            s += 1\n",
    "\n",
    "ax[1].legend(loc='upper right', labelspacing=0.1, handletextpad=0.1, fontsize=14)\n",
    "\n",
    "for j in range(3):\n",
    "    ax[j].set_xlabel('MJD-59300', fontsize=14)\n",
    "\n",
    "plt.tight_layout()\n",
    "plt.show()\n",
    "del sx, s"
   ]
  },
  {
   "cell_type": "markdown",
   "id": "e2cbdcd3-91cd-4028-b3e6-b74f100810d4",
   "metadata": {
    "tags": []
   },
   "source": [
    "This one looks transient-like:"
   ]
  },
  {
   "cell_type": "code",
   "execution_count": 35,
   "id": "e784089f-7700-48c4-a793-cb0b5b95c6b7",
   "metadata": {
    "tags": []
   },
   "outputs": [],
   "source": [
    "templist = ['DC23jmszp']"
   ]
  },
  {
   "cell_type": "code",
   "execution_count": 36,
   "id": "50395235-ded4-4b0d-9414-4aa07c9d79f0",
   "metadata": {
    "tags": []
   },
   "outputs": [
    {
     "name": "stdout",
     "output_type": "stream",
     "text": [
      "    candid  flagstar  flagmatch    sep  rpsfsize    mag\n",
      " DC23jmszp         1          1   0.00  1.249492  22.88\n",
      "https://www.legacysurvey.org/viewer/cutout.jpg?ra=149.99760402174&dec=2.02701910723299&layer=ls-dr9&pixscale=0.06\n",
      "https://decat-webap.lbl.gov/decatview.py/cand/DC23jmszp\n"
     ]
    }
   ],
   "source": [
    "fnm = '../cross_matched_LSDR10/candidate_links.dat'\n",
    "\n",
    "link_candid = np.loadtxt(fnm, dtype='str', usecols=(0))\n",
    "link_lsview = np.loadtxt(fnm, dtype='str', usecols=(1))\n",
    "link_rkview = np.loadtxt(fnm, dtype='str', usecols=(2))\n",
    "\n",
    "print('%10s  %8s  %9s  %5s  %8s  %5s' % ('candid','flagstar','flagmatch','sep','rpsfsize','mag'))\n",
    "\n",
    "for temp in templist:\n",
    "    tx = np.where(link_candid == temp)[0]\n",
    "    jx = np.where(lsdr10xm_candid == temp)[0]\n",
    "    print('%10s  %8i  %9i  %5.2f  %8.6f  %5.2f' % \n",
    "          (temp, lsdr10xm_flagstar[jx[0]], lsdr10xm_flagmatch[jx[0]], \n",
    "          lsdr10xm_sep[jx[0]], lsdr10xm_rpsfsize[jx[0]], lsdr10xm_rmag[jx[0]]))\n",
    "    print(link_lsview[tx[0]])\n",
    "    print(link_rkview[tx[0]])\n",
    "    del tx\n",
    "\n",
    "del fnm"
   ]
  },
  {
   "cell_type": "markdown",
   "id": "97f9efc8-7969-457f-9d71-d7b53f4b0b3d",
   "metadata": {},
   "source": [
    "After reviewing the match, DC23jmszp looks to be matched to a star.\n",
    "\n",
    "However notice that the match flag was 1, so the star was faint. Likely a mis-match, we keep in mind."
   ]
  },
  {
   "cell_type": "code",
   "execution_count": null,
   "id": "42741b54-b34e-49f1-8f10-3a4eb45b2cc5",
   "metadata": {},
   "outputs": [],
   "source": []
  }
 ],
 "metadata": {
  "kernelspec": {
   "display_name": "NERSC Python",
   "language": "python",
   "name": "python3"
  },
  "language_info": {
   "codemirror_mode": {
    "name": "ipython",
    "version": 3
   },
   "file_extension": ".py",
   "mimetype": "text/x-python",
   "name": "python",
   "nbconvert_exporter": "python",
   "pygments_lexer": "ipython3",
   "version": "3.11.6"
  }
 },
 "nbformat": 4,
 "nbformat_minor": 5
}
