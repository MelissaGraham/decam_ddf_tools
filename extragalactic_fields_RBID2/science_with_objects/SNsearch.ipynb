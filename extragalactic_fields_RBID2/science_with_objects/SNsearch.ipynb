{
 "cells": [
  {
   "cell_type": "code",
   "execution_count": null,
   "id": "f831646b-7bb2-426b-951c-0098a80e154e",
   "metadata": {},
   "outputs": [],
   "source": [
    "# Login and database access\n",
    "import psycopg2\n",
    "import psycopg2.extras\n",
    "import getpass\n",
    "\n",
    "# Plotting\n",
    "import matplotlib.pyplot as plt\n",
    "import matplotlib\n",
    "from IPython.display import display\n",
    "import ipywidgets as widgets\n",
    "\n",
    "# Math\n",
    "import numpy as np\n",
    "import pandas as pd\n",
    "import copy\n",
    "\n",
    "# Custom\n",
    "from decam_utils import *"
   ]
  },
  {
   "cell_type": "markdown",
   "id": "b54e368f-7947-4a0d-bf10-907b205891e0",
   "metadata": {},
   "source": [
    "The purpose of this notebook is to search through the COSMOS field objects to identify candidates that are likely supernovae. This is done by selecting every candidate that has at least 10 detections over at least 1 month, with a change of at least 1.4 mag, and that doesn't increase in brightness more than once (numbers adjustable below)\n",
    "\n",
    "**Uses rbid = 2.**"
   ]
  },
  {
   "cell_type": "code",
   "execution_count": null,
   "id": "b1c53037-4e35-40b0-8693-e1c5f735d7b3",
   "metadata": {},
   "outputs": [],
   "source": [
    "dbuser = input(\"DB User: \")\n",
    "dbpasswd = getpass.getpass(\"DB Password: \")\n",
    "\n",
    "db = psycopg2.connect( f\"dbname='decat' user='{dbuser}' password='{dbpasswd}' host='decatdb.lbl.gov'\" )\n",
    "db.autocommit = True # Makes the computer nicer about SQL syntax errors\n",
    "\n",
    "cursor = db.cursor( cursor_factory = psycopg2.extras.DictCursor )"
   ]
  },
  {
   "cell_type": "markdown",
   "id": "1cbc9172-a071-4f3d-932a-4835261b54ff",
   "metadata": {},
   "source": [
    "### Adjustable parameters"
   ]
  },
  {
   "cell_type": "code",
   "execution_count": null,
   "id": "afdb0dc1-bb59-4acc-98a1-0513f1afcab1",
   "metadata": {},
   "outputs": [],
   "source": [
    "# Minimum timespan between first and last detections in g, r, and i\n",
    "tspang, tspanr, tspani = 15, 15, 15\n",
    "maxtspan = 1000\n",
    "# tspang, tspanr, tspani = 10, 10, 10 # Use for ELAIS\n",
    "# Minimum number of detections in g, r, and i\n",
    "numdetg, numdetr, numdeti = 10, 10, 10\n",
    "# Minimum magnitude change in g, r, and i\n",
    "minmagg, minmagr, minmagi = 0.6, 0.6, 0.6\n",
    "# The number of standard deviations tolerated to stretch the definition of increasing/decreasing\n",
    "# (0.3 seems to be the sweet spot, but a little higher works too)\n",
    "errmult = 0.3\n",
    "# Maximum average error a candidate's detections can have before they are eliminated from consideration\n",
    "rmaxerr, gmaxerr, imaxerr = 0.2, 0.2, 0.2\n",
    "\n",
    "\n",
    "field = \"COSMOS\"\n",
    "term = \"2021A-0113\"\n",
    "\n",
    "# field = \"ELAIS\"\n",
    "# term = \"2021B-0149\""
   ]
  },
  {
   "cell_type": "code",
   "execution_count": null,
   "id": "21e5a342-7684-48da-97b6-1f69a91bef98",
   "metadata": {},
   "outputs": [],
   "source": [
    "if field == \"COSMOS\":\n",
    "    query = ( 'SELECT o.id, o.candidate_id, e.mjd, o.mag, e.filter, o.magerr, e.filename FROM objects o '\n",
    "             'JOIN subtractions s ON o.subtraction_id=s.id '\n",
    "             'JOIN exposures e ON e.id=s.exposure_id '\n",
    "             'JOIN objectrbs as rbs ON o.id=rbs.object_id AND rbs.rbtype_id=2 '\n",
    "             'WHERE q3c_radial_query(o.ra,o.dec,150,2.2,3) '\n",
    "             'AND e.proposalid=%s '\n",
    "             'AND rbs.rb > 0.6 '\n",
    "             'ORDER BY o.candidate_id '\n",
    "             'LIMIT 10000000' )\n",
    "elif field == \"ELAIS\":\n",
    "    query = ( 'SELECT o.id, o.candidate_id, e.mjd, o.mag, e.filter, o.magerr, e.filename FROM objects o '\n",
    "             'JOIN subtractions s ON o.subtraction_id=s.id '\n",
    "             'JOIN exposures e ON e.id=s.exposure_id '\n",
    "             'JOIN objectrbs as rbs ON o.id=rbs.object_id AND rbs.rbtype_id=2 '\n",
    "             'WHERE q3c_radial_query(o.ra,o.dec,8.5,-43.5,2) '\n",
    "             'AND e.proposalid=%s '\n",
    "             'AND rbs.rb > 0.6 '\n",
    "             'ORDER BY o.candidate_id '\n",
    "             'LIMIT 10000000' )\n",
    "\n",
    "cursor.execute( query, (term, ) )\n",
    "\n",
    "SNquery = np.array( cursor.fetchall() ).transpose()"
   ]
  },
  {
   "cell_type": "code",
   "execution_count": null,
   "id": "99dcf3dc-3a76-4161-89b6-a121101e5483",
   "metadata": {},
   "outputs": [],
   "source": [
    "SNquery = rm_dupes(SNquery,0)"
   ]
  },
  {
   "cell_type": "markdown",
   "id": "8a9fe60b-0363-4e1f-bc69-d2d23f56809e",
   "metadata": {},
   "source": [
    "### Nonstandard exposure time filter"
   ]
  },
  {
   "cell_type": "code",
   "execution_count": null,
   "id": "ca634d55-0fc6-4e8e-a8de-398ff6df3dda",
   "metadata": {},
   "outputs": [],
   "source": [
    "print(len(SNquery[6]))\n",
    "goodfnms = good_fnms(cursor)[1]\n",
    "msk = np.isin(SNquery[6], goodfnms)\n",
    "SNquery = [i[msk] for i in SNquery]\n",
    "print(len(SNquery[6]))"
   ]
  },
  {
   "cell_type": "code",
   "execution_count": null,
   "id": "fe91b18b-1b80-4780-9862-eef3952482b6",
   "metadata": {},
   "outputs": [],
   "source": [
    "gcands = np.unique(SNquery[1][SNquery[4] == \"g\"])\n",
    "rcands = np.unique(SNquery[1][SNquery[4] == \"r\"])\n",
    "icands = np.unique(SNquery[1][SNquery[4] == \"i\"])\n",
    "print(len(gcands), len(rcands), len(icands))\n",
    "\n",
    "gmsk = np.where( SNquery[4] == \"g\" )[0]\n",
    "rmsk = np.where( SNquery[4] == \"r\" )[0]\n",
    "imsk = np.where( SNquery[4] == \"i\" )[0]\n",
    "grmsk = np.append( rmsk, gmsk )\n",
    "grimsk = np.append( grmsk, imsk )\n",
    "len(gmsk),len(rmsk),len(imsk)"
   ]
  },
  {
   "cell_type": "markdown",
   "id": "3b96681f-7ca9-487a-9579-e514d3f3645f",
   "metadata": {
    "tags": []
   },
   "source": [
    "### g filter:"
   ]
  },
  {
   "cell_type": "code",
   "execution_count": null,
   "id": "5e3101b2-1506-4659-9710-0e893e36e7b4",
   "metadata": {},
   "outputs": [],
   "source": [
    "# Mask to make sure we stay in the r band detections\n",
    "gmsk = np.where( SNquery[4] == \"g\" )[0]\n",
    "gmsk = [i for i in grimsk if i in gmsk]"
   ]
  },
  {
   "cell_type": "code",
   "execution_count": null,
   "id": "d0cce097-4b2c-4842-94ba-37f1609da419",
   "metadata": {},
   "outputs": [],
   "source": [
    "# Separating out various query results and applying the r mask \n",
    "candsg, objs, magsg, magerrsg = SNquery[1][gmsk], SNquery[0].astype(float)[gmsk], SNquery[3][gmsk], SNquery[5][gmsk]\n",
    "# Create an array of the dates rounded to the nearest MJD\n",
    "odatesg = np.round( SNquery[2].astype(float) )[gmsk]\n",
    "# create an array of unique night (rounded to nearest MJD)\n",
    "datesg = np.unique( odatesg )\n",
    "\n",
    "# Create an array of unique candidates\n",
    "ucandsg, ucandctsg = np.unique( candsg, return_counts=True )\n",
    "\n",
    "cut0candsg = ucandsg[np.where(ucandctsg > numdetg)[0]]\n",
    "cut0rg = [i for i in ucandsg if i not in cut0candsg]\n",
    "\n",
    "nummskg = np.isin(candsg, ucandsg, invert=False)\n",
    "candsg, objs, magsg, magerrsg, odatesg = candsg[nummskg], objs[nummskg], magsg[nummskg], magerrsg[nummskg], odatesg[nummskg]"
   ]
  },
  {
   "cell_type": "code",
   "execution_count": null,
   "id": "ec48f00c-f8d5-4e22-8136-61934e926287",
   "metadata": {},
   "outputs": [],
   "source": [
    "# Create for each unique candidate an array of the dates it was observed on and store those arrays in a larger array (ucanddatesr)\n",
    "ucanddatesg = np.array( [odatesg[ np.where( candsg==i )[0] ] for i in cut0candsg] )\n",
    "# Create for each unique candidate an array of measured magnitudes and store those arrays in a larger array (ucandmagsr)\n",
    "ucandmagsg = np.array( [magsg[ np.where( candsg==i )[0] ] for i in cut0candsg] )\n",
    "# Create for each unique candidate an array of measured magnitude error bars and store those arrays in a larger array (ucandmagerrsr)\n",
    "ucandmagerrsg = np.array( [magerrsg[ np.where( candsg==i )[0] ] for i in cut0candsg] )"
   ]
  },
  {
   "cell_type": "code",
   "execution_count": null,
   "id": "26075504-a41e-4af3-ae77-20d5a59e5e4e",
   "metadata": {},
   "outputs": [],
   "source": [
    "# Convert those arrays (previously strings) to floats\n",
    "ucandmagsg = np.array( [i.astype(float) for i in ucandmagsg] )\n",
    "ucandmagerrsg = np.array( [i.astype(float) for i in ucandmagerrsg] )\n",
    "ucanddatesg = np.array( [i.astype(float) for i in ucanddatesg] )"
   ]
  },
  {
   "cell_type": "code",
   "execution_count": null,
   "id": "e2e041e1-6648-4aaf-ada8-602d90e05d5d",
   "metadata": {},
   "outputs": [],
   "source": [
    "# Calculate how many days passed between the first and last detection \n",
    "ucandrangeg = np.array( [np.max(i) - np.min(i) for i in ucanddatesg] )"
   ]
  },
  {
   "cell_type": "code",
   "execution_count": null,
   "id": "8db7676c-0851-4c1c-bef0-9eadfadfb6ea",
   "metadata": {},
   "outputs": [],
   "source": [
    "# Make timespan cuts\n",
    "cut1g = np.where( (ucandrangeg > tspang) & (ucandrangeg < maxtspan) )[0] # eliminate candidates whose detections dont span at least tspanr days\n",
    "\n",
    "cut1candsg   =  cut0candsg[cut1g]\n",
    "cut1datesg   =  ucanddatesg[cut1g]\n",
    "cut1magsg    =  ucandmagsg[cut1g]\n",
    "cut1magerrsg =  ucandmagerrsg[cut1g]\n",
    "\n",
    "# Every candidate removed by this cut\n",
    "cut1rg = [i for i in cut0candsg if i not in cut1candsg]\n",
    "\n",
    "# Create another cut for the minimum amplitude in mag\n",
    "cut1magrangeg = np.array( [np.max(i) - np.min(i) for i in cut1magsg] )\n",
    "cut2g = np.where( cut1magrangeg > minmagg )[0]\n",
    "\n",
    "cut2candsg   =  cut1candsg[cut2g]\n",
    "cut2datesg   =  cut1datesg[cut2g]\n",
    "cut2magsg    =  cut1magsg[cut2g]\n",
    "cut2magerrsg =  cut1magerrsg[cut2g]\n",
    "\n",
    "# Every candidate removed by this cut\n",
    "cut2rg = [i for i in cut1candsg if i not in cut2candsg]\n",
    "\n",
    "\n",
    "# Create another cut for where the magerror is too high\n",
    "cut2magerrrangeg = np.array( [np.mean(i) for i in cut2magerrsg] )\n",
    "cut3g = np.where( cut2magerrrangeg < gmaxerr )[0]\n",
    "\n",
    "# And apply that cut as well\n",
    "cut3candsg   =  cut2candsg[cut3g]\n",
    "cut3datesg   =  cut2datesg[cut3g]\n",
    "cut3magsg    =  cut2magsg[cut3g]\n",
    "cut3magerrsg =  cut2magerrsg[cut3g]\n",
    "\n",
    "# Every candidate removed by this cut\n",
    "cut3rg = [i for i in cut2candsg if i not in cut3candsg]"
   ]
  },
  {
   "cell_type": "code",
   "execution_count": null,
   "id": "7e783bb8-8c41-4eef-912e-6b601aca497e",
   "metadata": {},
   "outputs": [],
   "source": [
    "# Create new arrays with the same dimensions as the cutdatesr, cutmagsr, and cutmagerrs arrays (those share dimensions)\n",
    "\n",
    "cut3datesg2 = copy.deepcopy( cut3datesg )\n",
    "nightg = copy.deepcopy( cut3datesg )\n",
    "nightgmag = copy.deepcopy( cut3datesg )\n",
    "nightgmagerr = copy.deepcopy( cut3datesg )\n",
    "\n",
    "for i in range( len( cut3datesg2 ) ):\n",
    "    # make an array of every night the candidate in question (candidate \"i\") was detected\n",
    "    unightg = np.unique( cut3datesg2[i] )\n",
    "    for j in range( len( unightg ) ):\n",
    "        # For each of those nights, make a mask that selects every observation that night\n",
    "        msk = np.where( cut3datesg2[i] == unightg[j] )[0]\n",
    "        # Populate the arrays we created earlier in the cell with appropriate values for the night of the observation,\n",
    "        # the average magnitude measured that night, and the error (propogated from individual errors) in that average measurement\n",
    "        # NOTE: there will be meaningless numbers at the end of each (nightr/nightrmag/nightrmagerr)[i] array, left over from\n",
    "        # when we created them by copying another array. It isn't elegant but it is accounted for later\n",
    "        nightg[i][j] = unightg[j]\n",
    "        nightgmag[i][j] = np.median( cut3magsg[i][msk] )\n",
    "        nightgmagerr[i][j] = np.sqrt( np.sum( cut3magerrsg[i][msk]**2 ) )"
   ]
  },
  {
   "cell_type": "code",
   "execution_count": null,
   "id": "24369776-9947-4841-b1e8-ef3190e3bfcb",
   "metadata": {},
   "outputs": [],
   "source": [
    "# Create an array of dataframes. Each dataframe represents one candidate, and each contains \"Night\", \"Mag\", and \"Magerr\" columns, \n",
    "# with each row representing one night\n",
    "dfg = [pd.DataFrame(np.array(\n",
    "    [nightg[i][:len( np.unique( nightg[i] ) )], \n",
    "     nightgmag[i][:len( np.unique( nightg[i] ) )], \n",
    "     nightgmagerr[i][:len( np.unique( nightg[i] ) )]]).transpose(),\n",
    "    columns=[\"Night\",\n",
    "            \"Mag\",\n",
    "            \"Magerr\"])\n",
    " for i in range( len( cut3candsg ) )]"
   ]
  },
  {
   "cell_type": "code",
   "execution_count": null,
   "id": "d8dc13d6-4b98-4fea-ad8c-002e5fc6fdc9",
   "metadata": {},
   "outputs": [],
   "source": [
    "# This cell creates a mask to eliminate variable stars from the search:\n",
    "varstarmskg = np.ones( len( dfg ), dtype=bool )\n",
    "for i in range( len( dfg ) ):\n",
    "    num = 0\n",
    "    h = 0\n",
    "    # First, make sure that the dataframes in the dfr array are each in chronological order\n",
    "    dfg[i] = dfg[i].sort_values( by=\"Night\" )\n",
    "    for j in range( len( dfg[i][\"Mag\"] ) - 1 ):\n",
    "        h += 1\n",
    "        if ( num >= 0 ) & ( num < 1 ):\n",
    "            # On the rise, the \"current\" data point must be lower than the \"next\" data point (error bars included to give maximum leeway)\n",
    "            if dfg[i][\"Mag\"][j] + errmult * dfg[i][\"Magerr\"][j] > dfg[i][\"Mag\"][j + 1] - errmult * dfg[i][\"Magerr\"][j + 1]:\n",
    "                pass\n",
    "            else:\n",
    "                # Once that condition isn't met, 'num' changes, sending us to the descending loop\n",
    "                num += 1\n",
    "        if (num >= 1) & (num < 2):\n",
    "            # On the decline, the \"current\" data point must be lower than the \"next\" data point (error bars included to give maximum leeway)\n",
    "            if dfg[i][\"Mag\"][j] - errmult * dfg[i][\"Magerr\"][j] < dfg[i][\"Mag\"][j + 1] + errmult * dfg[i][\"Magerr\"][j + 1]:\n",
    "                pass\n",
    "            else:\n",
    "                # If this fails, it means that we went up, down, and up again--not a SN, so\n",
    "                num += 1\n",
    "#         if num == 2:\n",
    "#             if dfg[i][\"Mag\"][j]+dfg[i][\"Magerr\"][j] > dfg[i][\"Mag\"][j+1]-errmult*dfg[i][\"Magerr\"][j+1]:\n",
    "#                 pass\n",
    "#             else:\n",
    "#                 num+=1\n",
    "#         if num == 3:\n",
    "#             if dfg[i][\"Mag\"][j]-dfg[i][\"Magerr\"][j] < dfg[i][\"Mag\"][j+1]+errmult*dfg[i][\"Magerr\"][j+1]:\n",
    "#                 pass\n",
    "#             else:\n",
    "#                 num+=1\n",
    "        if num == 2:# and h<10:\n",
    "            # We make a note of that in the 'varstarmskg' mask\n",
    "            varstarmskg[i] = False"
   ]
  },
  {
   "cell_type": "code",
   "execution_count": null,
   "id": "18101d28-2020-4380-b98a-7b30d8a07da6",
   "metadata": {},
   "outputs": [],
   "source": [
    "# Number of candidates that passed all g cuts\n",
    "sum(varstarmskg.astype(int))"
   ]
  },
  {
   "cell_type": "code",
   "execution_count": null,
   "id": "a1c96c4e-5be9-48a0-8baa-50bc3a81d17f",
   "metadata": {
    "scrolled": true,
    "tags": []
   },
   "outputs": [],
   "source": [
    "SNg = np.array([cut3candsg[f] for f in np.array(range(len(cut3datesg)))[varstarmskg]]) # Every passed cadidate\n",
    "cut4rg = [i for i in cut3candsg if i not in SNg]\n",
    "\n",
    "# cut4candsg = np.array([cut3candsg[f] for f in np.array(range(len(cut3datesg)))[varstarmskg]]) # Every passed cadidate\n",
    "# cut4rg = [i for i in cut3candsg if i not in cut4candsg]\n",
    "\n",
    "# RBs = []\n",
    "# for i in cut4candsg:\n",
    "#     query = ('SELECT o.rb FROM objects o '\n",
    "#              'JOIN subtractions s ON s.id=o.subtraction_id '\n",
    "#              'JOIN exposures e ON e.id = s.exposure_id '\n",
    "#              'WHERE o.candidate_id = %s '\n",
    "#              'AND e.filter = %s '\n",
    "#              'LIMIT 10000 ' )\n",
    "#     cursor.execute( query, (i,'g',))\n",
    "#     medRB = np.median( np.array( cursor.fetchall() ).transpose() )\n",
    "#     RBs.extend( [medRB] )\n",
    "# RBs = np.array( RBs )\n",
    "# cut5g = np.where( RBs > 0.6 )[0]\n",
    "\n",
    "# SNg = cut4candsg[cut5g]\n",
    "# cut5rg = [i for i in cut4candsg if i not in SNg]\n",
    "\n",
    "# Plotting only those that passed through the r-band filter\n",
    "# for f in np.array( range( len( cut3datesg ) ) )[varstarmskg]:\n",
    "#     g = len( np.unique( cut3datesg[f] ) )\n",
    "#     plt.errorbar(nightg[f][:g],nightgmag[f][:g], yerr=nightgmagerr[f][:g])\n",
    "#     plt.title(cut3candsg[f] + \" (g)\")\n",
    "#     plt.ylabel(\"Magnitude\")\n",
    "#     plt.xlabel(\"MJD\")\n",
    "#     plt.gca().invert_yaxis()\n",
    "#     plt.show()"
   ]
  },
  {
   "cell_type": "code",
   "execution_count": null,
   "id": "90199619-807c-4bb7-a21e-529737a63bcc",
   "metadata": {},
   "outputs": [],
   "source": [
    "# Number of candidates each step eliminated\n",
    "[len(cut0rg),len(cut1rg),len(cut2rg),len(cut3rg),len(cut4rg)]"
   ]
  },
  {
   "cell_type": "markdown",
   "id": "bded88f4-c9dd-482e-ae7f-6a06051f6522",
   "metadata": {
    "tags": []
   },
   "source": [
    "### r filter:"
   ]
  },
  {
   "cell_type": "code",
   "execution_count": null,
   "id": "f6471a56-16bf-48e4-9806-5e12ae42cff1",
   "metadata": {},
   "outputs": [],
   "source": [
    "# Mask to make sure we stay in the r band detections\n",
    "rmsk = np.where( SNquery[4] == \"r\" )[0]\n",
    "rmsk = [i for i in grimsk if i in rmsk]"
   ]
  },
  {
   "cell_type": "code",
   "execution_count": null,
   "id": "f6191ab1-a9b4-4b14-988b-8bde54fbcaf3",
   "metadata": {},
   "outputs": [],
   "source": [
    "# Separating out various query results and applying the r mask \n",
    "candsr, objs, magsr, magerrsr = SNquery[1][rmsk], SNquery[0].astype(float)[rmsk], SNquery[3][rmsk], SNquery[5][rmsk]\n",
    "# Create an array of the dates rounded to the nearest MJD\n",
    "odatesr = np.round( SNquery[2].astype(float) )[rmsk]\n",
    "# create an array of unique night (rounded to nearest MJD)\n",
    "datesr = np.unique( odatesr )\n",
    "\n",
    "# Create an array of unique candidates\n",
    "ucandsr, ucandctsr = np.unique( candsr, return_counts=True )\n",
    "\n",
    "cut0candsr = ucandsr[np.where(ucandctsr > numdetr)[0]]\n",
    "cut0rr = [i for i in ucandsr if i not in cut0candsr]\n",
    "\n",
    "nummskr = np.isin(candsr, ucandsr, invert=False)\n",
    "candsr, objs, magsr, magerrsr, odatesr = candsr[nummskr], objs[nummskr], magsr[nummskr], magerrsr[nummskr], odatesr[nummskr]"
   ]
  },
  {
   "cell_type": "code",
   "execution_count": null,
   "id": "579da7e4-d67c-487a-a094-03d24aef357b",
   "metadata": {},
   "outputs": [],
   "source": [
    "# Create for each unique candidate an array of the dates it was observed on and store those arrays in a larger array (ucanddatesr)\n",
    "ucanddatesr = np.array( [odatesr[ np.where( candsr==i )[0] ] for i in cut0candsr] )\n",
    "# Create for each unique candidate an array of measured magnitudes and store those arrays in a larger array (ucandmagsr)\n",
    "ucandmagsr = np.array( [magsr[ np.where( candsr==i )[0] ] for i in cut0candsr] )\n",
    "# Create for each unique candidate an array of measured magnitude error bars and store those arrays in a larger array (ucandmagerrsr)\n",
    "ucandmagerrsr = np.array( [magerrsr[ np.where( candsr==i )[0] ] for i in cut0candsr] )"
   ]
  },
  {
   "cell_type": "code",
   "execution_count": null,
   "id": "8f50da4b-f311-4376-bef4-cbc9699df1a1",
   "metadata": {},
   "outputs": [],
   "source": [
    "# Convert those arrays (previously strings) to floats\n",
    "ucandmagsr = np.array( [i.astype(float) for i in ucandmagsr] )\n",
    "ucandmagerrsr = np.array( [i.astype(float) for i in ucandmagerrsr] )\n",
    "ucanddatesr = np.array( [i.astype(float) for i in ucanddatesr] )"
   ]
  },
  {
   "cell_type": "code",
   "execution_count": null,
   "id": "9f38e93b-206d-4a8a-853e-9ef5297dc68c",
   "metadata": {},
   "outputs": [],
   "source": [
    "# Calculate how many days passed between the first and last detection \n",
    "ucandranger = np.array( [np.max(i) - np.min(i) for i in ucanddatesr] )"
   ]
  },
  {
   "cell_type": "code",
   "execution_count": null,
   "id": "4e597c38-7436-4ffe-a206-409d39357b8a",
   "metadata": {},
   "outputs": [],
   "source": [
    "# Make timespan cuts\n",
    "cut1r = np.where( ( ucandranger > tspanr ) & ( ucandranger < maxtspan ) )[0] # eliminate candidates whose detections dont span at least tspanr days\n",
    "\n",
    "cut1candsr   =  cut0candsr[cut1r]\n",
    "cut1datesr   =  ucanddatesr[cut1r]\n",
    "cut1magsr    =  ucandmagsr[cut1r]\n",
    "cut1magerrsr =  ucandmagerrsr[cut1r]\n",
    "\n",
    "# Every candidate removed by this cut\n",
    "cut1rr = [i for i in cut0candsr if i not in cut1candsr]\n",
    "\n",
    "\n",
    "# Create another cut for the minimum amplitude in mag\n",
    "cut1magranger = np.array( [np.max(i) - np.min(i) for i in cut1magsr] )\n",
    "cut2r = np.where( cut1magranger > minmagr )[0]\n",
    "\n",
    "cut2candsr   =  cut1candsr[cut2r]\n",
    "cut2datesr   =  cut1datesr[cut2r]\n",
    "cut2magsr    =  cut1magsr[cut2r]\n",
    "cut2magerrsr =  cut1magerrsr[cut2r]\n",
    "\n",
    "# Every candidate removed by this cut\n",
    "cut2rr = [i for i in cut1candsr if i not in cut2candsr]\n",
    "\n",
    "\n",
    "# Create another cut for where the magerror is too high\n",
    "cut2magerrranger = np.array( [np.mean(i) for i in cut2magerrsr] )\n",
    "cut3r = np.where( cut2magerrranger < rmaxerr )[0]\n",
    "\n",
    "# And apply that cut as well\n",
    "cut3candsr   =  cut2candsr[cut3r]\n",
    "cut3datesr   =  cut2datesr[cut3r]\n",
    "cut3magsr    =  cut2magsr[cut3r]\n",
    "cut3magerrsr =  cut2magerrsr[cut3r]\n",
    "\n",
    "# Every candidate removed by this cut\n",
    "cut3rr = [i for i in cut2candsr if i not in cut3candsr]"
   ]
  },
  {
   "cell_type": "code",
   "execution_count": null,
   "id": "6484c01f-7225-4260-b721-7f115e9b956d",
   "metadata": {},
   "outputs": [],
   "source": [
    "# Create new arrays with the same dimensions as the cutdatesr, cutmagsr, and cutmagerrs arrays (those share dimensions)\n",
    "\n",
    "cut3datesr2 = copy.deepcopy( cut3datesr )\n",
    "nightr = copy.deepcopy( cut3datesr )\n",
    "nightrmag = copy.deepcopy( cut3datesr )\n",
    "nightrmagerr = copy.deepcopy( cut3datesr )\n",
    "\n",
    "for i in range( len( cut3datesr2 ) ):\n",
    "    # make an array of every night the candidate in question (candidate \"i\") was detected\n",
    "    unightr = np.unique( cut3datesr2[i] )\n",
    "    for j in range( len( unightr ) ):\n",
    "        # For each of those nights, make a mask that selects every observation that night\n",
    "        msk = np.where( cut3datesr2[i] == unightr[j] )[0]\n",
    "        # Populate the arrays we created earlier in the cell with appropriate values for the night of the observation,\n",
    "        # the average magnitude measured that night, and the error (propogated from individual errors) in that average measurement\n",
    "        # NOTE: there will be meaningless numbers at the end of each (nightr/nightrmag/nightrmagerr)[i] array, left over from\n",
    "        # when we created them by copying another array. It isn't elegant but it is accounted for later\n",
    "        nightr[i][j] = unightr[j]\n",
    "        nightrmag[i][j] = np.median( cut3magsr[i][msk] )\n",
    "        nightrmagerr[i][j] = np.sqrt( np.sum( cut3magerrsr[i][msk]**2 ) )"
   ]
  },
  {
   "cell_type": "code",
   "execution_count": null,
   "id": "cafb2a96-3da8-4611-a8d3-80f96101e8ab",
   "metadata": {},
   "outputs": [],
   "source": [
    "# Create an array of dataframes. Each dataframe represents one candidate, and each contains \"Night\", \"Mag\", and \"Magerr\" columns, \n",
    "# with each row representing one night\n",
    "dfr = [pd.DataFrame(np.array(\n",
    "    [nightr[i][:len( np.unique( nightr[i] ) )], \n",
    "     nightrmag[i][:len( np.unique( nightr[i] ) )], \n",
    "     nightrmagerr[i][:len( np.unique( nightr[i] ) )]]).transpose(),\n",
    "    columns=[\"Night\",\n",
    "            \"Mag\",\n",
    "            \"Magerr\"])\n",
    " for i in range( len( cut3candsr ) )]"
   ]
  },
  {
   "cell_type": "code",
   "execution_count": null,
   "id": "c0168a12-368e-4e7d-92ec-9591944b9c0f",
   "metadata": {},
   "outputs": [],
   "source": [
    "# This cell creates a mask to eliminate variable stars from the search:\n",
    "varstarmskr = np.ones( len( dfr ), dtype=bool )\n",
    "for i in range( len( dfr ) ):\n",
    "    num = 0\n",
    "    h = 0\n",
    "    # First, make sure that the dataframes in the dfr array are each in chronological order\n",
    "    dfr[i] = dfr[i].sort_values( by=\"Night\" )\n",
    "    for j in range( len( dfr[i][\"Mag\"] ) - 1 ):\n",
    "        h += 1\n",
    "        if ( num >= 0 ) & ( num < 1 ):\n",
    "            # On the rise, the \"current\" data point must be lower than the \"next\" data point (error bars included to give maximum leeway)\n",
    "            if dfr[i][\"Mag\"][j] + errmult * dfr[i][\"Magerr\"][j] > dfr[i][\"Mag\"][j + 1] - errmult * dfr[i][\"Magerr\"][j + 1]:\n",
    "                pass\n",
    "            else:\n",
    "                # Once that condition isn't met, 'num' changes, sending us to the descending loop\n",
    "                num += 1\n",
    "        if (num >= 1) & (num < 2):\n",
    "            # On the decline, the \"current\" data point must be lower than the \"next\" data point (error bars included to give maximum leeway)\n",
    "            if dfr[i][\"Mag\"][j] - errmult * dfr[i][\"Magerr\"][j] < dfr[i][\"Mag\"][j + 1] + errmult * dfr[i][\"Magerr\"][j + 1]:\n",
    "                pass\n",
    "            else:\n",
    "                # If this fails, it means that we went up, down, and up again--not a SN, so\n",
    "                num += 1\n",
    "#         if num == 2:\n",
    "#             if dfr[i][\"Mag\"][j]+dfr[i][\"Magerr\"][j] > dfr[i][\"Mag\"][j+1]-errmult*dfr[i][\"Magerr\"][j+1]:\n",
    "#                 pass\n",
    "#             else:\n",
    "#                 num+=1\n",
    "#         if num == 3:\n",
    "#             if dfr[i][\"Mag\"][j]-dfr[i][\"Magerr\"][j] < dfr[i][\"Mag\"][j+1]+errmult*dfr[i][\"Magerr\"][j+1]:\n",
    "#                 pass\n",
    "#             else:\n",
    "#                 num+=1\n",
    "        if num == 2:# and h<10:\n",
    "            # We make a note of that in the 'varstarmskr' mask\n",
    "            varstarmskr[i] = False"
   ]
  },
  {
   "cell_type": "code",
   "execution_count": null,
   "id": "e131eb23-2f8e-44af-919d-ba78f440ec60",
   "metadata": {},
   "outputs": [],
   "source": [
    "# Number of candidates that passed all r cuts\n",
    "sum(varstarmskr.astype(int))"
   ]
  },
  {
   "cell_type": "code",
   "execution_count": null,
   "id": "2752e219-ecfa-489c-9637-3a66bc4f8038",
   "metadata": {
    "scrolled": true,
    "tags": []
   },
   "outputs": [],
   "source": [
    "SNr = np.array([cut3candsr[f] for f in np.array(range(len(cut3datesr)))[varstarmskr]]) # Every passed cadidate\n",
    "cut4rr = [i for i in cut3candsr if i not in SNr]\n",
    "\n",
    "# cut4candsr = np.array([cut3candsr[f] for f in np.array(range(len(cut3datesr)))[varstarmskr]]) # Every passed candidate\n",
    "# cut4rr = [i for i in cut3candsr if i not in cut4candsr]\n",
    "\n",
    "# RBs = []\n",
    "# for i in cut4candsr:\n",
    "#     query = ('SELECT o.rb FROM objects o '\n",
    "#              'JOIN subtractions s ON s.id=o.subtraction_id '\n",
    "#              'JOIN exposures e ON e.id = s.exposure_id '\n",
    "#              'WHERE o.candidate_id = %s '\n",
    "#              'AND e.filter = %s '\n",
    "#              'LIMIT 10000 ' )\n",
    "#     cursor.execute( query, (i,'r',))\n",
    "#     medRB = np.median( np.array( cursor.fetchall() ).transpose() )\n",
    "#     RBs.extend( [medRB] )\n",
    "# RBs = np.array( RBs )\n",
    "# cut5r = np.where( RBs > 0.6 )[0]\n",
    "\n",
    "# SNr = cut4candsr[cut5r]\n",
    "# cut5rr = [i for i in cut4candsr if i not in SNr]\n",
    "\n",
    "# Plotting only those that passed through the r-band filter\n",
    "# for f in np.array( range( len( cut3datesr ) ) )[varstarmskr]:\n",
    "#     g = len( np.unique( cut3datesr[f] ) )\n",
    "#     plt.errorbar(nightr[f][:g],nightrmag[f][:g], yerr=nightrmagerr[f][:g])\n",
    "#     plt.title(cut3candsr[f] + \" (r)\")\n",
    "#     plt.ylabel(\"Magnitude\")\n",
    "#     plt.xlabel(\"MJD\")\n",
    "#     plt.gca().invert_yaxis()\n",
    "#     plt.show()"
   ]
  },
  {
   "cell_type": "code",
   "execution_count": null,
   "id": "e190c5d9-60a0-4380-b749-6a54bfd19d16",
   "metadata": {},
   "outputs": [],
   "source": [
    "# Number of candidates each step eliminated\n",
    "[len(cut0rr),len(cut1rr),len(cut2rr),len(cut3rr),len(cut4rr)]"
   ]
  },
  {
   "cell_type": "markdown",
   "id": "d8e763fd-c5af-4c79-bb47-be544159dc88",
   "metadata": {
    "tags": []
   },
   "source": [
    "### i filter:"
   ]
  },
  {
   "cell_type": "code",
   "execution_count": null,
   "id": "1184b579-2701-47d5-859f-febb8691df87",
   "metadata": {},
   "outputs": [],
   "source": [
    "# Mask to make sure we stay in the r band detections\n",
    "imsk = np.where( SNquery[4] == \"i\" )[0]\n",
    "imsk = [i for i in grimsk if i in imsk]"
   ]
  },
  {
   "cell_type": "code",
   "execution_count": null,
   "id": "798215a4-9f92-40ac-b8c5-696194ab51d1",
   "metadata": {},
   "outputs": [],
   "source": [
    "# Separating out various query results and applying the r mask \n",
    "candsi, objs, magsi, magerrsi = SNquery[1][imsk], SNquery[0].astype(float)[imsk], SNquery[3][imsk], SNquery[5][imsk]\n",
    "# Create an array of the dates rounded to the nearest MJD\n",
    "odatesi = np.round( SNquery[2].astype(float) )[imsk]\n",
    "# create an array of unique night (rounded to nearest MJD)\n",
    "datesi = np.unique( odatesi )\n",
    "\n",
    "# Create an array of unique candidates\n",
    "ucandsi, ucandctsi = np.unique( candsi, return_counts=True )\n",
    "\n",
    "cut0candsi = ucandsi[np.where(ucandctsi > numdetg)[0]]\n",
    "cut0ri = [i for i in ucandsi if i not in cut0candsi]\n",
    "\n",
    "nummski = np.isin(candsi, ucandsi, invert=False)\n",
    "candsi, objs, magsi, magerrsi, odatesi = candsi[nummski], objs[nummski], magsi[nummski], magerrsi[nummski], odatesi[nummski]"
   ]
  },
  {
   "cell_type": "code",
   "execution_count": null,
   "id": "40b521af-3647-4a91-82ad-576fbf06e85c",
   "metadata": {},
   "outputs": [],
   "source": [
    "# Create for each unique candidate an array of the dates it was observed on and store those arrays in a larger array (ucanddatesr)\n",
    "ucanddatesi = np.array( [odatesi[ np.where( candsi==i )[0] ] for i in cut0candsi] )\n",
    "# Create for each unique candidate an array of measured magnitudes and store those arrays in a larger array (ucandmagsr)\n",
    "ucandmagsi = np.array( [magsi[ np.where( candsi==i )[0] ] for i in cut0candsi] )\n",
    "# Create for each unique candidate an array of measured magnitude error bars and store those arrays in a larger array (ucandmagerrsr)\n",
    "ucandmagerrsi = np.array( [magerrsi[ np.where( candsi==i )[0] ] for i in cut0candsi] )"
   ]
  },
  {
   "cell_type": "code",
   "execution_count": null,
   "id": "26908784-1bac-44e5-9517-f617c4a8b050",
   "metadata": {},
   "outputs": [],
   "source": [
    "# Convert those arrays (previously strings) to floats\n",
    "ucandmagsi = np.array( [i.astype(float) for i in ucandmagsi] )\n",
    "ucandmagerrsi = np.array( [i.astype(float) for i in ucandmagerrsi] )\n",
    "ucanddatesi = np.array( [i.astype(float) for i in ucanddatesi] )"
   ]
  },
  {
   "cell_type": "code",
   "execution_count": null,
   "id": "2cf582f0-2e85-4910-82b7-a74e465b8530",
   "metadata": {},
   "outputs": [],
   "source": [
    "# Calculate how many days passed between the first and last detection \n",
    "ucandrangei = np.array( [np.max(i) - np.min(i) for i in ucanddatesi] )"
   ]
  },
  {
   "cell_type": "code",
   "execution_count": null,
   "id": "a1b200ea-2b15-4846-922a-ec446382307f",
   "metadata": {},
   "outputs": [],
   "source": [
    "# Make timespan cuts\n",
    "cut1i = np.where( ( ucandrangei > tspang ) & (ucandrangei < maxtspan) )[0] # eliminate candidates whose detections dont span at least tspanr days\n",
    "\n",
    "cut1candsi   =  cut0candsi[cut1i]\n",
    "cut1datesi   =  ucanddatesi[cut1i]\n",
    "cut1magsi    =  ucandmagsi[cut1i]\n",
    "cut1magerrsi =  ucandmagerrsi[cut1i]\n",
    "\n",
    "# Every candidate removed by this cut\n",
    "cut1ri = [i for i in cut0candsi if i not in cut1candsi]\n",
    "\n",
    "# Create another cut for the minimum amplitude in mag\n",
    "cut1magrangei = np.array( [np.max(i) - np.min(i) for i in cut1magsi] )\n",
    "cut2i = np.where( cut1magrangei > minmagi )[0]\n",
    "\n",
    "cut2candsi   =  cut1candsi[cut2i]\n",
    "cut2datesi   =  cut1datesi[cut2i]\n",
    "cut2magsi    =  cut1magsi[cut2i]\n",
    "cut2magerrsi =  cut1magerrsi[cut2i]\n",
    "\n",
    "# Every candidate removed by this cut\n",
    "cut2ri = [i for i in cut1candsi if i not in cut2candsi]\n",
    "\n",
    "\n",
    "# Create another cut for where the magerror is too high\n",
    "cut2magerrrangei = np.array( [np.mean(i) for i in cut2magerrsi] )\n",
    "cut3i = np.where( cut2magerrrangei < imaxerr )[0]\n",
    "\n",
    "# And apply that cut as well\n",
    "cut3candsi   =  cut2candsi[cut3i]\n",
    "cut3datesi   =  cut2datesi[cut3i]\n",
    "cut3magsi    =  cut2magsi[cut3i]\n",
    "cut3magerrsi =  cut2magerrsi[cut3i]\n",
    "\n",
    "# Every candidate removed by this cut\n",
    "cut3ri = [i for i in cut2candsi if i not in cut3candsi]"
   ]
  },
  {
   "cell_type": "code",
   "execution_count": null,
   "id": "8586f3d6-4a5f-44d7-be3c-ebe728f083e7",
   "metadata": {},
   "outputs": [],
   "source": [
    "# Create new arrays with the same dimensions as the cutdatesr, cutmagsr, and cutmagerrs arrays (those share dimensions)\n",
    "\n",
    "cut3datesi2 = copy.deepcopy( cut3datesi )\n",
    "nighti = copy.deepcopy( cut3datesi )\n",
    "nightimag = copy.deepcopy( cut3datesi )\n",
    "nightimagerr = copy.deepcopy( cut3datesi )\n",
    "\n",
    "for i in range( len( cut3datesi2 ) ):\n",
    "    # make an array of every night the candidate in question (candidate \"i\") was detected\n",
    "    unighti = np.unique( cut3datesi2[i] )\n",
    "    for j in range( len( unighti ) ):\n",
    "        # For each of those nights, make a mask that selects every observation that night\n",
    "        msk = np.where( cut3datesi2[i] == unighti[j] )[0]\n",
    "        # Populate the arrays we created earlier in the cell with appropriate values for the night of the observation,\n",
    "        # the average magnitude measured that night, and the error (propogated from individual errors) in that average measurement\n",
    "        # NOTE: there will be meaningless numbers at the end of each (nightr/nightrmag/nightrmagerr)[i] array, left over from\n",
    "        # when we created them by copying another array. It isn't elegant but it is accounted for later\n",
    "        nighti[i][j] = unighti[j]\n",
    "        nightimag[i][j] = np.median( cut3magsi[i][msk] )\n",
    "        nightimagerr[i][j] = np.sqrt( np.sum( cut3magerrsi[i][msk]**2 ) )"
   ]
  },
  {
   "cell_type": "code",
   "execution_count": null,
   "id": "d7bc752b-571b-4087-98d3-0139f7cf205e",
   "metadata": {},
   "outputs": [],
   "source": [
    "# Create an array of dataframes. Each dataframe represents one candidate, and each contains \"Night\", \"Mag\", and \"Magerr\" columns, \n",
    "# with each row representing one night\n",
    "dfi = [pd.DataFrame(np.array(\n",
    "    [nighti[i][:len( np.unique( nighti[i] ) )], \n",
    "     nightimag[i][:len( np.unique( nighti[i] ) )], \n",
    "     nightimagerr[i][:len( np.unique( nighti[i] ) )]]).transpose(),\n",
    "    columns=[\"Night\",\n",
    "            \"Mag\",\n",
    "            \"Magerr\"])\n",
    " for i in range( len( cut3candsi ) )]"
   ]
  },
  {
   "cell_type": "code",
   "execution_count": null,
   "id": "35c04b2c-96f4-4880-a9f1-0c20833e4813",
   "metadata": {},
   "outputs": [],
   "source": [
    "# This cell creates a mask to eliminate variable stars from the search:\n",
    "varstarmski = np.ones( len( dfi ), dtype=bool )\n",
    "for i in range( len( dfi ) ):\n",
    "    num = 0\n",
    "    h = 0\n",
    "    # First, make sure that the dataframes in the dfr array are each in chronological order\n",
    "    dfi[i] = dfi[i].sort_values( by=\"Night\" )\n",
    "    for j in range( len( dfi[i][\"Mag\"] ) - 1 ):\n",
    "        h += 1\n",
    "        if ( num >= 0 ) & ( num < 1 ):\n",
    "            # On the rise, the \"current\" data point must be lower than the \"next\" data point (error bars included to give maximum leeway)\n",
    "            if dfi[i][\"Mag\"][j] + errmult * dfi[i][\"Magerr\"][j] > dfi[i][\"Mag\"][j + 1] - errmult * dfi[i][\"Magerr\"][j + 1]:\n",
    "                pass\n",
    "            else:\n",
    "                # Once that condition isn't met, 'num' changes, sending us to the descending loop\n",
    "                num += 1\n",
    "        if (num >= 1) & (num < 2):\n",
    "            # On the decline, the \"current\" data point must be lower than the \"next\" data point (error bars included to give maximum leeway)\n",
    "            if dfi[i][\"Mag\"][j] - errmult * dfi[i][\"Magerr\"][j] < dfi[i][\"Mag\"][j + 1] + errmult * dfi[i][\"Magerr\"][j + 1]:\n",
    "                pass\n",
    "            else:\n",
    "                # If this fails, it means that we went up, down, and up again--not a SN, so\n",
    "                num += 1\n",
    "#         if num == 2:\n",
    "#             if dfi[i][\"Mag\"][j]+dfi[i][\"Magerr\"][j] > dfi[i][\"Mag\"][j+1]-errmult*dfi[i][\"Magerr\"][j+1]:\n",
    "#                 pass\n",
    "#             else:\n",
    "#                 num+=1\n",
    "#         if num == 3:\n",
    "#             if dfi[i][\"Mag\"][j]-dfi[i][\"Magerr\"][j] < dfi[i][\"Mag\"][j+1]+errmult*dfi[i][\"Magerr\"][j+1]:\n",
    "#                 pass\n",
    "#             else:\n",
    "#                 num+=1\n",
    "        if num == 2:# and h<10:\n",
    "            # We make a note of that in the 'varstarmski' mask\n",
    "            varstarmski[i] = False"
   ]
  },
  {
   "cell_type": "code",
   "execution_count": null,
   "id": "f6fbed72-aa00-4610-9c97-5b6e7a12e8d5",
   "metadata": {},
   "outputs": [],
   "source": [
    "# Number of candidates that passed all i cuts\n",
    "sum(varstarmski.astype(int))"
   ]
  },
  {
   "cell_type": "code",
   "execution_count": null,
   "id": "eee7268b-b5cc-4cd7-916a-030861e192ea",
   "metadata": {
    "scrolled": true,
    "tags": []
   },
   "outputs": [],
   "source": [
    "SNi = np.array([cut3candsi[f] for f in np.array(range(len(cut3datesi)))[varstarmski]]) # Every passed cadidate\n",
    "cut4ri = [i for i in cut3candsi if i not in SNi]\n",
    "\n",
    "# cut4candsi = np.array([cut3candsi[f] for f in np.array(range(len(cut3datesi)))[varstarmski]]) # Every passed candidate\n",
    "# cut4ri = [i for i in cut3candsi if i not in cut4candsi]\n",
    "\n",
    "# RBs = []\n",
    "# for i in cut4candsi:\n",
    "#     query = ('SELECT o.rb FROM objects o '\n",
    "#              'JOIN subtractions s ON s.id=o.subtraction_id '\n",
    "#              'JOIN exposures e ON e.id = s.exposure_id '\n",
    "#              'WHERE o.candidate_id = %s '\n",
    "#              'AND e.filter = %s '\n",
    "#              'LIMIT 10000 ' )\n",
    "#     cursor.execute( query, (i,'i',))\n",
    "#     medRB = np.median( np.array( cursor.fetchall() ).transpose() )\n",
    "#     RBs.extend( [medRB] )\n",
    "# RBs = np.array( RBs )\n",
    "# cut5i = np.where( RBs > 0.6 )[0]\n",
    "\n",
    "# SNi = cut4candsi[cut5i]\n",
    "# cut5ri = [i for i in cut4candsi if i not in SNi]\n",
    "\n",
    "\n",
    "# Plotting only those that passed through the r-band filter\n",
    "# for f in np.array( range( len( cut3datesi ) ) )[varstarmski]:\n",
    "#     g = len( np.unique( cut3datesi[f] ) )\n",
    "#     plt.errorbar(nighti[f][:g],nightimag[f][:g], yerr=nightimagerr[f][:g])\n",
    "#     plt.title(cut3candsi[f] + \" (g)\")\n",
    "#     plt.ylabel(\"Magnitude\")\n",
    "#     plt.xlabel(\"MJD\")\n",
    "#     plt.gca().invert_yaxis()\n",
    "#     plt.show()"
   ]
  },
  {
   "cell_type": "code",
   "execution_count": null,
   "id": "481e0715-79b4-4631-a3b2-a5f44a32b497",
   "metadata": {},
   "outputs": [],
   "source": [
    "# Number of candidates in each step of the process for the paper\n",
    "\n",
    "print(\"g\")\n",
    "print([len(cut0rg),len(cut1rg),len(cut2rg),len(cut3rg),len(cut4rg), len(SNg)])\n",
    "print(sum([len(cut1rg),len(cut2rg),len(cut3rg),len(cut4rg), len(SNg)]))\n",
    "print(sum([len(cut2rg),len(cut3rg),len(cut4rg), len(SNg)]))\n",
    "print(sum([len(cut3rg),len(cut4rg), len(SNg)]))\n",
    "print(sum([len(cut4rg), len(SNg)]))\n",
    "print(sum([len(SNg)]))\n",
    "\n",
    "print(\"\")\n",
    "print(\"r\")\n",
    "print([len(cut0rr),len(cut1rr),len(cut2rr),len(cut3rr),len(cut4rr), len(SNr)])\n",
    "print(sum([len(cut1rr),len(cut2rr),len(cut3rr),len(cut4rr), len(SNr)]))\n",
    "print(sum([len(cut2rr),len(cut3rr),len(cut4rr), len(SNr)]))\n",
    "print(sum([len(cut3rr),len(cut4rr), len(SNr)]))\n",
    "print(sum([len(cut4rr), len(SNr)]))\n",
    "print(sum([len(SNr)]))\n",
    "\n",
    "print(\"\")\n",
    "print(\"i\")\n",
    "print([len(cut0ri),len(cut1ri),len(cut2ri),len(cut3ri),len(cut4ri), len(SNi)])\n",
    "print(sum([len(cut1ri),len(cut2ri),len(cut3ri),len(cut4ri), len(SNi)]))\n",
    "print(sum([len(cut2ri),len(cut3ri),len(cut4ri), len(SNi)]))\n",
    "print(sum([len(cut3ri),len(cut4ri), len(SNi)]))\n",
    "print(sum([len(cut4ri), len(SNi)]))\n",
    "print(sum([len(SNi)]))"
   ]
  },
  {
   "cell_type": "markdown",
   "id": "be52e352-c536-4d17-974e-df4834584224",
   "metadata": {},
   "source": [
    "### Putting them together"
   ]
  },
  {
   "cell_type": "code",
   "execution_count": null,
   "id": "a70f537e-17fa-4127-b8cb-17b4772ef005",
   "metadata": {},
   "outputs": [],
   "source": [
    "# Create lists of the candidates that passed any test\n",
    "SNany = np.unique(np.concatenate([SNg,SNr,SNi]).flat)\n",
    "\n",
    "# Select the ones detected in at least two filters\n",
    "SNgr = [i for i in SNr if i in SNg]\n",
    "SNri = [i for i in SNr if i in SNi]\n",
    "SNgi = [i for i in SNg if i in SNi]\n",
    "SNgri = np.unique(np.concatenate([SNgr,SNri,SNgi]).flat)\n",
    "\n",
    "# And those found in all three\n",
    "SNgold = [i for i in SNgr if i in SNi] # Golden sample\n",
    "np.unique(np.concatenate((SNr,SNg)))"
   ]
  },
  {
   "cell_type": "code",
   "execution_count": null,
   "id": "14088b1d-7256-4401-bac8-73b3059dc615",
   "metadata": {},
   "outputs": [],
   "source": [
    "print(len(SNgold), len(SNgri)-len(SNgold), len(SNany) - len(SNgri))"
   ]
  },
  {
   "cell_type": "markdown",
   "id": "c4b525b2-87aa-4df9-a11c-2f017454aca5",
   "metadata": {
    "tags": []
   },
   "source": [
    "### A closer look at these SNe"
   ]
  },
  {
   "cell_type": "markdown",
   "id": "5449f3f0-94e9-41bf-a1a2-f504377278b9",
   "metadata": {},
   "source": [
    "Note that while the filter program only sees detections w/ R/B > 0.6, this displays ALL detections"
   ]
  },
  {
   "cell_type": "code",
   "execution_count": null,
   "id": "f7de05a0-1bc0-4505-9df0-7a764badf009",
   "metadata": {
    "tags": []
   },
   "outputs": [],
   "source": [
    "if field == \"COSMOS\": c = [\"darkgreen\",\"red\",\"brown\"]\n",
    "elif field == \"ELAIS\": c = [\"limegreen\",\"darkorange\",\"peru\"]\n",
    "\n",
    "# Plotting lightcurves for each potential SN\n",
    "\n",
    "# for i in SNgold: # Passed in all 3\n",
    "# for i in SNgri: # Passed in at least 2\n",
    "# for i in [i for i in SNgri if i not in SNgold]: # Passed in only 2\n",
    "for i in SNany: # Passed in at least 1\n",
    "# for i in [i for i in SNany if i not in SNgri]: # Passed in only 1\n",
    "\n",
    "# for i in [i for i in SNprev if i not in SNany]:\n",
    "    query = ('SELECT c.id, e.mjd, o.mag, e.filter, rbs.rb FROM objects o '\n",
    "             'JOIN candidates c ON c.id=o.candidate_id '\n",
    "             'JOIN subtractions s ON s.id=o.subtraction_id '\n",
    "             'JOIN objectrbs as rbs ON o.id=rbs.object_id AND rbs.rbtype_id=2 '\n",
    "             'JOIN exposures e ON e.id=s.exposure_id '\n",
    "             'WHERE c.id=%s '\n",
    "             'AND e.proposalid=%s ')\n",
    "    cursor.execute( query, (i, term, ) )\n",
    "    array = np.array(cursor.fetchall()).transpose()\n",
    "    rmsk = np.where(array[3]=='r')[0]\n",
    "    gmsk = np.where(array[3]=='g')[0]\n",
    "    imsk = np.where(array[3]=='i')[0]\n",
    "    \n",
    "    plt.figure(figsize=(8,5))\n",
    "#     plt.scatter((array[1][gmsk]).astype(float), (array[2][gmsk]).astype(float), color=c[0], label='g')\n",
    "#     plt.scatter((array[1][rmsk]).astype(float), (array[2][rmsk]).astype(float), color=c[1], label='r')\n",
    "#     plt.scatter((array[1][imsk]).astype(float), (array[2][imsk]).astype(float), color=c[2], label='i')\n",
    "    for i in range(len(gmsk)):\n",
    "        plt.scatter((array[1][gmsk][i]).astype(float), (array[2][gmsk][i]).astype(float), color=c[0],)# alpha=array[4][gmsk][i])\n",
    "    for i in range(len(rmsk)):\n",
    "        plt.scatter((array[1][rmsk][i]).astype(float), (array[2][rmsk][i]).astype(float), color=c[1],)# alpha=array[4][rmsk][i])\n",
    "    for i in range(len(imsk)):\n",
    "        plt.scatter((array[1][imsk][i]).astype(float), (array[2][imsk][i]).astype(float), color=c[2],)# alpha=array[4][imsk][i])\n",
    "    \n",
    "    plt.title(array[0][0])\n",
    "    plt.gca().invert_yaxis()\n",
    "#     plt.legend()\n",
    "    plt.show()"
   ]
  },
  {
   "cell_type": "code",
   "execution_count": null,
   "id": "6600cace-f361-4e8c-9086-572f8a38c4bf",
   "metadata": {},
   "outputs": [],
   "source": [
    "plotlc(\"DC21mjrj\",cursor)\n",
    "len(SNany)"
   ]
  },
  {
   "cell_type": "code",
   "execution_count": null,
   "id": "800b87fe-50d6-40b6-ab8a-c888d843219d",
   "metadata": {
    "tags": []
   },
   "outputs": [],
   "source": [
    "### This cell pulls out the reference, science, and subtraction images for eack of the SNe the filter detected, for every good detection\n",
    "\n",
    "# for i in SNgri:\n",
    "#     query = ( 'SELECT cand.id, e.mjd,e.filename,e.filter,c.sci_jpeg,c.ref_jpeg,c.diff_jpeg FROM cutouts c '\n",
    "#               'INNER JOIN objects o ON c.object_id=o.id '\n",
    "#               'INNER JOIN candidates cand ON o.candidate_id=cand.id '\n",
    "#               'INNER JOIN subtractions s ON o.subtraction_id=s.id '\n",
    "#               'INNER JOIN exposures e ON s.exposure_id=e.id '\n",
    "#               'WHERE cand.id=%s '\n",
    "#               'AND o.rb>0.6 '\n",
    "#               'ORDER BY e.mjd '\n",
    "#               'LIMIT 3')\n",
    "#     cursor.execute( query, ( i, ) )\n",
    "#     for row in cursor:\n",
    "#         label = ipywidgets.HTML( f'<b>Candidate</b>{row[\"id\"]}<br><b>{row[\"filename\"]}</b><br><b>Filter:</b> {row[\"filter\"]}' )\n",
    "#         newimg = ipywidgets.Image( value=bytes(row[\"sci_jpeg\"]), width=102, height=102, format='jpeg' )\n",
    "#         refimg = ipywidgets.Image( value=bytes(row[\"ref_jpeg\"]), width=102, height=102, format='jpeg' )\n",
    "#         subimg = ipywidgets.Image( value=bytes(row[\"diff_jpeg\"]), width=102, height=102, format='jpeg' )\n",
    "#         box = ipywidgets.HBox( [ newimg, refimg, subimg, label ] )\n",
    "#         display( box )\n",
    "#     print(\"\")\n",
    "#     print(\"\")    \n",
    "#     print(\"\")    \n",
    "#     print(\"\")"
   ]
  },
  {
   "cell_type": "markdown",
   "id": "be2ac6b4-e38d-4132-812a-d615336a6c53",
   "metadata": {
    "tags": []
   },
   "source": [
    "### Convenient coordinate printouts for TNS search https://www.wis-tns.org/"
   ]
  },
  {
   "cell_type": "code",
   "execution_count": null,
   "id": "9361679e-be73-4a41-b7cf-0c7744ea8d7b",
   "metadata": {},
   "outputs": [],
   "source": [
    "# SNlist = SNgold # 3 passes\n",
    "# SNlist = SNgri # >=2 passes\n",
    "SNlist = SNany # >=1 passes\n",
    "# SNlist = [i for i in SNgri if i not in SNgold] # exactly 2 passes\n",
    "# SNlist = [i for i in SNany if i not in SNgri] # exactly 1 pass\n",
    "\n",
    "\n",
    "coordarr = np.empty( len( SNlist ), dtype=object )\n",
    "for i in range(len(SNlist)):\n",
    "    query = ('SELECT c.id, c.ra, c.dec FROM candidates c '\n",
    "            'WHERE c.id=%s ')\n",
    "    cursor.execute( query, (SNlist[i], ) )\n",
    "    coordarr[i] = cursor.fetchall()[0]"
   ]
  },
  {
   "cell_type": "code",
   "execution_count": null,
   "id": "cc06744b-7764-4256-9987-7665c61cf25b",
   "metadata": {},
   "outputs": [],
   "source": [
    "if field == \"COSMOS\":\n",
    "    for i in coordarr:\n",
    "        print(i[0])\n",
    "        print(str(i[1]),\"+\"+str(i[2]))\n",
    "elif field == \"ELAIS\":\n",
    "    for i in coordarr:\n",
    "        print(i[0])\n",
    "        print(str(i[1]),str(i[2]))\n",
    "# List of those that have a match in TNS:\n",
    "# ['DC21dqik', 'DC21bwbfe',]\n",
    "# And what their names are in TNS:\n",
    "# ['AT 2021nfp', 'SN 2021bnv']"
   ]
  },
  {
   "cell_type": "markdown",
   "id": "f931975d-0e7a-41e4-82fe-bdf24a497aa6",
   "metadata": {
    "tags": []
   },
   "source": [
    "### What went wrong with those that passed in only one filter?"
   ]
  },
  {
   "cell_type": "code",
   "execution_count": null,
   "id": "b3d96293-3b33-4d28-b62c-c4b20364e5d6",
   "metadata": {},
   "outputs": [],
   "source": [
    "# # onefiltcands = SNgold # 3 passes\n",
    "# # onefiltcands = SNgri # >=2 passes\n",
    "# onefiltcands = SNany # >=1 passes\n",
    "# # onefiltcands = [i for i in SNgri if i not in SNgold] # exactly 2 passes\n",
    "# # onefiltcands = [i for i in SNany if i not in SNgri] # exactly 1 pass\n",
    "\n",
    "# g = np.empty(len(onefiltcands))\n",
    "# r = np.empty(len(onefiltcands))\n",
    "# i = np.empty(len(onefiltcands))\n",
    "# onefiltdf = pd.DataFrame(np.array([g,r,i]).transpose(), columns=[\"g\",\"r\",\"i\"], index=onefiltcands)\n",
    "\n",
    "# for i in onefiltdf.index:\n",
    "# #     if i in cut5rg:\n",
    "# #         onefiltdf.loc[i,\"g\"] = \"Low med. R/B\"\n",
    "#     if i in cut4rg:\n",
    "#         onefiltdf.loc[i,\"g\"] = \"Double-peaked\"\n",
    "#     elif i in cut3rg:\n",
    "#         onefiltdf.loc[i,\"g\"] = \"Too noisy\"\n",
    "#     elif i in cut2rg:\n",
    "#         onefiltdf.loc[i,\"g\"] = \"Too dim\"\n",
    "#     elif i in cut1rg:\n",
    "#         onefiltdf.loc[i,\"g\"] = \"<15 days or >80 days\"\n",
    "#     elif i in cut0rg:\n",
    "#         onefiltdf.loc[i,\"g\"] = \"<10 objs\"\n",
    "#     elif i in SNg:\n",
    "#         onefiltdf.loc[i,\"g\"] = \"Passed\"\n",
    "#     else:\n",
    "#         onefiltdf.loc[i,\"g\"] = \"No data\"\n",
    "\n",
    "# #     if i in cut5rr:\n",
    "# #         onefiltdf.loc[i,\"r\"] = \"Low med. R/B\"\n",
    "#     if i in cut4rr:\n",
    "#         onefiltdf.loc[i,\"r\"] = \"Double-peaked\"\n",
    "#     elif i in cut3rr:\n",
    "#         onefiltdf.loc[i,\"r\"] = \"Too noisy\"\n",
    "#     elif i in cut2rr:\n",
    "#         onefiltdf.loc[i,\"r\"] = \"Too dim\"\n",
    "#     elif i in cut1rr:\n",
    "#         onefiltdf.loc[i,\"r\"] = \"<15 days or >80 days\"\n",
    "#     elif i in cut0rr:\n",
    "#         onefiltdf.loc[i,\"r\"] = \"<10 objs\"\n",
    "#     elif i in SNr:\n",
    "#         onefiltdf.loc[i,\"r\"] = \"Passed\"\n",
    "#     else:\n",
    "#         onefiltdf.loc[i,\"r\"] = \"No data\"\n",
    "        \n",
    "# #     if i in cut5ri:\n",
    "# #         onefiltdf.loc[i,\"i\"] = \"Low med. R/B\"\n",
    "#     if i in cut4ri:\n",
    "#         onefiltdf.loc[i,\"i\"] = \"Double-peaked\"\n",
    "#     elif i in cut3ri:\n",
    "#         onefiltdf.loc[i,\"i\"] = \"Too noisy\"\n",
    "#     elif i in cut2ri:\n",
    "#         onefiltdf.loc[i,\"i\"] = \"Too dim\"\n",
    "#     elif i in cut1ri:\n",
    "#         onefiltdf.loc[i,\"i\"] = \"<15 days or >80 days\"\n",
    "#     elif i in cut0ri:\n",
    "#         onefiltdf.loc[i,\"i\"] = \"<10 objs\"\n",
    "#     elif i in SNi:\n",
    "#         onefiltdf.loc[i,\"i\"] = \"Passed\"\n",
    "#     else:\n",
    "#         onefiltdf.loc[i,\"i\"] = \"No data\"\n",
    "# pd.set_option('display.max_rows', 500)\n",
    "# onefiltdf"
   ]
  },
  {
   "cell_type": "markdown",
   "id": "e208c34c-e3fc-46ad-b2b1-52c445535544",
   "metadata": {
    "tags": []
   },
   "source": [
    "#### Reasons for failure along with plots:\n",
    "\n",
    "This time, only R/B>0.6 (what the filter gets) is plotted"
   ]
  },
  {
   "cell_type": "code",
   "execution_count": null,
   "id": "392aca45-06c1-474c-91ee-a265921377c3",
   "metadata": {
    "tags": []
   },
   "outputs": [],
   "source": [
    "# for i in onefiltcands:\n",
    "#     query = ('SELECT c.id, e.mjd, o.mag, e.filter FROM objects o '\n",
    "#              'JOIN candidates c ON c.id=o.candidate_id '\n",
    "#              'JOIN subtractions s ON s.id=o.subtraction_id '\n",
    "#              'JOIN exposures e ON e.id=s.exposure_id '\n",
    "#              'JOIN objectrbs as rbs ON o.id=rbs.object_id AND rbs.rbtype_id=2 '\n",
    "#              'WHERE c.id=%s '\n",
    "#              'AND e.proposalid=%s '\n",
    "#              # 'AND e.mjd < 59377 ' \n",
    "#              'AND rbs.rb>0.6')\n",
    "#     cursor.execute( query, (i, term, ) )\n",
    "#     array = np.array(cursor.fetchall()).transpose()\n",
    "#     rmsk = np.where(array[3]=='r')[0]\n",
    "#     gmsk = np.where(array[3]=='g')[0]\n",
    "#     imsk = np.where(array[3]=='i')[0]\n",
    "    \n",
    "#     plt.figure(figsize=(8,5))\n",
    "#     plt.scatter((array[1][gmsk]).astype(float), (array[2][gmsk]).astype(float), color=c[0], label='g')\n",
    "#     plt.scatter((array[1][rmsk]).astype(float), (array[2][rmsk]).astype(float), color=c[1], label='r')\n",
    "#     plt.scatter((array[1][imsk]).astype(float), (array[2][imsk]).astype(float), color=c[2], label='i')\n",
    "\n",
    "#     plt.title(array[0][0])\n",
    "#     plt.gca().invert_yaxis()\n",
    "#     plt.legend()\n",
    "#     print(\"Reasons for failure:\")\n",
    "#     print(onefiltdf.loc[i])\n",
    "#     plt.show()"
   ]
  },
  {
   "cell_type": "code",
   "execution_count": null,
   "id": "b4e58d1f-23bb-4505-b2c8-b12a47293033",
   "metadata": {},
   "outputs": [],
   "source": [
    "from IPython.display import clear_output\n",
    "\n",
    "# def visinspect(SNlist):\n",
    "#     SNvis = []\n",
    "#     for i in SNlist:\n",
    "#         query = ('SELECT c.id, e.mjd, o.mag, e.filter FROM objects o '\n",
    "#                  'JOIN candidates c ON c.id=o.candidate_id '\n",
    "#                  'JOIN subtractions s ON s.id=o.subtraction_id '\n",
    "#                  'JOIN exposures e ON e.id=s.exposure_id '\n",
    "#                  'JOIN objectrbs as rbs ON o.id=rbs.object_id AND rbs.rbtype_id=2 '\n",
    "#                  'WHERE c.id=%s '\n",
    "#                  'AND rbs.rb>0.3')\n",
    "#         cursor.execute( query, (i, ) )\n",
    "#         array = np.array(cursor.fetchall()).transpose()\n",
    "#         rmsk = np.where(array[3]=='r')[0]\n",
    "#         gmsk = np.where(array[3]=='g')[0]\n",
    "#         imsk = np.where(array[3]=='i')[0]\n",
    "\n",
    "#         plt.figure(figsize=(8,5))\n",
    "#         plt.scatter((array[1][gmsk]).astype(float), (array[2][gmsk]).astype(float), color=c[0], label='g')\n",
    "#         plt.scatter((array[1][rmsk]).astype(float), (array[2][rmsk]).astype(float), color=c[1], label='r')\n",
    "#         plt.scatter((array[1][imsk]).astype(float), (array[2][imsk]).astype(float), color=c[2], label='i')\n",
    "\n",
    "#         plt.title(array[0][0])\n",
    "#         plt.gca().invert_yaxis()\n",
    "#         plt.legend()\n",
    "#         plt.show()\n",
    "#         yn = input(\"Does this pass visual muster? y/n\")\n",
    "#         if yn == 'y':\n",
    "#             SNvis.append(i)\n",
    "#         clear_output(wait=True)\n",
    "#     return SNvis\n",
    "\n",
    "def visinspect(SNlist):\n",
    "    SNvis = []\n",
    "    for i in SNlist:\n",
    "        plotlc(i,cursor)\n",
    "        yn = input(\"Does this pass visual muster? y/n\")\n",
    "        if yn == 'y':\n",
    "            SNvis.append(i)\n",
    "        clear_output(wait=True)\n",
    "    return SNvis"
   ]
  },
  {
   "cell_type": "code",
   "execution_count": null,
   "id": "5fe05680-2466-45d3-9aea-73e54fd31acd",
   "metadata": {},
   "outputs": [],
   "source": [
    "# SNvis1 = visinspect(SNany)"
   ]
  },
  {
   "cell_type": "code",
   "execution_count": null,
   "id": "8779247f-5ce9-4005-8e2c-13f9db9bf26e",
   "metadata": {},
   "outputs": [],
   "source": [
    "# SNvis = ['DC21bcpi', # those that passed my last visual inspection (2021A)\n",
    "#  'DC21bkrj',\n",
    "#  'DC21bpls',\n",
    "#  'DC21bwbfe',\n",
    "#  'DC21chy',\n",
    "#  'DC21cove',\n",
    "#  'DC21dhgr',\n",
    "#  'DC21dna',\n",
    "#  'DC21dqf',\n",
    "#  'DC21dqik',\n",
    "#  'DC21dtwb',\n",
    "#  'DC21ebkp',\n",
    "#  'DC21edbu',\n",
    "#  'DC21eqq',\n",
    "#  'DC21eqtm',\n",
    "#  'DC21fber',\n",
    "#  'DC21fkyg',\n",
    "#  'DC21gayy',\n",
    "#  'DC21hunj',\n",
    "#  'DC21ikah',\n",
    "#  'DC21ixp',\n",
    "#  'DC21jfcb',\n",
    "#  'DC21jgl',\n",
    "#  'DC21kgy',\n",
    "#  'DC21kog',\n",
    "#  'DC21ktp',\n",
    "#  'DC21kxb',\n",
    "#  'DC21qil',\n",
    "#  'DC21qyq',\n",
    "#  'DC21url',\n",
    "#  'DC21vfz',\n",
    "#  'DC21wlm']\n",
    "\n",
    "# # Code to do another visual inspection:\n",
    "# # SNvis = visinspect(SNany)"
   ]
  },
  {
   "cell_type": "code",
   "execution_count": null,
   "id": "1391cb61-bcf1-444f-8271-89a818e88682",
   "metadata": {},
   "outputs": [],
   "source": [
    "# query = ('SELECT o.mag FROM objects o '\n",
    "#          'JOIN candidates c ON c.id=o.candidate_id '\n",
    "#          'JOIN subtractions s ON s.id=o.subtraction_id '\n",
    "#          'JOIN exposures e ON e.id=s.exposure_id '\n",
    "#          'JOIN objectrbs as rbs ON o.id=rbs.object_id AND rbs.rbtype_id=2 '\n",
    "#          'WHERE c.id=%s '\n",
    "#          'AND e.mjd < 59377 ' \n",
    "#          'AND e.filter=%s '\n",
    "#          'AND rbs.rb>0.6')\n",
    "# ff = ['g', 'r', 'i']\n",
    "# SNpeak = np.zeros((len(SNvis),3))\n",
    "# for i in range(len(SNvis)):\n",
    "#     for j in [0,1,2]:\n",
    "#         cursor.execute(query, (SNvis[i],ff[j],))\n",
    "#         try:\n",
    "#             SNpeak[i][j] = np.max(np.array(cursor.fetchall()).transpose())\n",
    "#         except ValueError:\n",
    "#             pass"
   ]
  },
  {
   "cell_type": "code",
   "execution_count": null,
   "id": "199155bc-6736-4b1e-a6cd-3b04192ec94b",
   "metadata": {},
   "outputs": [],
   "source": [
    "# SNvisDF = pd.DataFrame(SNpeak, columns=ff,index=SNvis)"
   ]
  },
  {
   "cell_type": "code",
   "execution_count": null,
   "id": "da50f95b-6a24-4f67-88d8-9ca8cec0c9c3",
   "metadata": {},
   "outputs": [],
   "source": [
    "# c = {\"g\": \"darkgreen\",\n",
    "#          \"r\": \"red\",\n",
    "#          \"i\": \"darkorange\"}\n",
    "# for i in ff:\n",
    "#     plt.title(i)\n",
    "#     plt.hist(SNvisDF[i][SNvisDF[i]>0], color=c[i])\n",
    "#     print(len(SNvisDF[i][SNvisDF[i]>0]))\n",
    "#     plt.xlabel(\"Peak Apparent Magnitude\")\n",
    "#     plt.ylabel(\"Number of Candidates\")\n",
    "#     plt.show()"
   ]
  },
  {
   "cell_type": "code",
   "execution_count": null,
   "id": "115cfd60-6fda-4579-88f8-4e7ca9ad8ad2",
   "metadata": {},
   "outputs": [],
   "source": [
    "# # g,r : 22.5-23.2\n",
    "# # i : 22.3-22.\n",
    "# sum(((SNvisDF.loc[:,\"i\"]>22.3) & (SNvisDF.loc[:,\"i\"]<22.8)).astype(int))"
   ]
  },
  {
   "cell_type": "code",
   "execution_count": null,
   "id": "289731ef-20ae-4a1e-9db5-61dff35818d8",
   "metadata": {},
   "outputs": [],
   "source": [
    "# plt.hist([SNvisDF['g'][SNvisDF['g']>0],SNvisDF['r'][SNvisDF['r']>0],SNvisDF['i'][SNvisDF['i']>0]], color=['darkgreen','red','darkorange'], label=ff,stacked=True, bins=20)\n",
    "# plt.legend()\n",
    "# plt.xlabel(\"Peak Apparent Magnitude\")\n",
    "# plt.ylabel(\"Number of SN Candidates\")\n",
    "# plt.savefig(\"images/peakmaghist\")\n",
    "# plt.show()"
   ]
  },
  {
   "cell_type": "code",
   "execution_count": null,
   "id": "dbde0eae-8c35-4497-83d3-451012d7b312",
   "metadata": {},
   "outputs": [],
   "source": []
  }
 ],
 "metadata": {
  "kernelspec": {
   "display_name": "NERSC Python",
   "language": "python",
   "name": "python3"
  },
  "language_info": {
   "codemirror_mode": {
    "name": "ipython",
    "version": 3
   },
   "file_extension": ".py",
   "mimetype": "text/x-python",
   "name": "python",
   "nbconvert_exporter": "python",
   "pygments_lexer": "ipython3",
   "version": "3.9.7"
  }
 },
 "nbformat": 4,
 "nbformat_minor": 5
}
