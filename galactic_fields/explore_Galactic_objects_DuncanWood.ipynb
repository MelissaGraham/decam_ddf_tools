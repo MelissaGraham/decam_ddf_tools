{
 "cells": [
  {
   "cell_type": "markdown",
   "id": "ad5d290f-ea32-4401-80c4-8da1994c2620",
   "metadata": {},
   "source": [
    "# Explore difference-image objects in the Galactic fields\n",
    "\n",
    "This notebook was created Wed June 21 for Duncan Wood.\n",
    "\n",
    "```\n",
    "Name         RA         Dec        RA (deg)   Dec (deg)\n",
    "DECaPS-East  18:03:34   −29:32:02  270.89167  -29.53389\n",
    "DECaPS-West  07:45:16.8 −26:15:00  116.32     -26.25\n",
    "```"
   ]
  },
  {
   "cell_type": "code",
   "execution_count": 1,
   "id": "9fdc531e-7c56-4401-b98f-cf2651ee37d7",
   "metadata": {},
   "outputs": [],
   "source": [
    "import os\n",
    "import pandas\n",
    "import numpy as np\n",
    "import matplotlib.pyplot as plt\n",
    "from copy import deepcopy\n",
    "from astropy.coordinates import SkyCoord\n",
    "\n",
    "import getpass\n",
    "import psycopg2\n",
    "import psycopg2.extras"
   ]
  },
  {
   "cell_type": "markdown",
   "id": "cef86edf-9b5c-4f7f-9d29-954bcf34f0a5",
   "metadata": {},
   "source": [
    "Excute the cell and be prompted for username and password.\n",
    "\n",
    "For the password it will suggest to you your NERSC password (I think), so you have to first delete that and then enter the database password. If your browser gives you the pop-up asking if you want to \"Update password?\", don't do it."
   ]
  },
  {
   "cell_type": "code",
   "execution_count": 2,
   "id": "cf1d0ce0-e16a-4baf-ad34-f418402a5b23",
   "metadata": {},
   "outputs": [
    {
     "name": "stdin",
     "output_type": "stream",
     "text": [
      "DB User:  decat_ro\n",
      "DB Password:  ········\n"
     ]
    }
   ],
   "source": [
    "dbuser = input(\"DB User: \")\n",
    "dbpasswd = getpass.getpass(\"DB Password: \")"
   ]
  },
  {
   "cell_type": "code",
   "execution_count": 6,
   "id": "4cc96ae5-d9ee-43b5-aa77-9030fc0407cb",
   "metadata": {},
   "outputs": [],
   "source": [
    "db = psycopg2.connect(f\"dbname='decat' user='{dbuser}' password='{dbpasswd}' host='decatdb.lbl.gov'\")\n",
    "db.autocommit = True\n",
    "cursor = db.cursor( cursor_factory = psycopg2.extras.DictCursor )"
   ]
  },
  {
   "cell_type": "markdown",
   "id": "bfb584b4-7c2a-4145-9dbb-038f0b871c33",
   "metadata": {},
   "source": [
    "If you want to print out the schema for the available tables."
   ]
  },
  {
   "cell_type": "code",
   "execution_count": 7,
   "id": "2901ed2f-8784-4817-9c72-61de0ba9cf16",
   "metadata": {},
   "outputs": [],
   "source": [
    "# tables = ['exposures', 'subtractions', 'objects', 'candidates', 'versiontags']\n",
    "# for table in tables:\n",
    "#     query = \"SELECT column_name, data_type FROM information_schema.columns WHERE table_name=%s\"\n",
    "#     cursor.execute( query, ( table, ))\n",
    "#     print( f\"\\nTABLE: {table}\\n===========================\" )\n",
    "#     for row in cursor:\n",
    "#         print( f\"{row['column_name']:24s}  :  {row['data_type']:s}\" )"
   ]
  },
  {
   "cell_type": "markdown",
   "id": "087768aa-41d5-4995-9df0-4565f91a4df3",
   "metadata": {},
   "source": [
    "Set the version of the tag to use. \n",
    "\n",
    "> **This is something to be checked with Rob Knop.**"
   ]
  },
  {
   "cell_type": "code",
   "execution_count": 8,
   "id": "bfdc773d-e968-45d0-922c-839fed25e752",
   "metadata": {},
   "outputs": [
    {
     "name": "stdout",
     "output_type": "stream",
     "text": [
      "1\n"
     ]
    }
   ],
   "source": [
    "tag = \"latest\"\n",
    "db.rollback()\n",
    "q = ( \"SELECT id, tag FROM versiontags WHERE tag=%(tag)s\" )\n",
    "cursor.execute( q, { \"tag\": tag } )\n",
    "row = cursor.fetchone()\n",
    "tagid = row['id']\n",
    "print(tagid)"
   ]
  },
  {
   "cell_type": "markdown",
   "id": "efb5fcee-00ed-4606-a83d-602b0a42c54f",
   "metadata": {},
   "source": [
    "Get all objects in the DECaPS fields by constraining RA and Dec. This takes about a minute."
   ]
  },
  {
   "cell_type": "code",
   "execution_count": 9,
   "id": "1870e52b-ccb2-49f3-958b-4ee0f258a636",
   "metadata": {},
   "outputs": [
    {
     "name": "stdout",
     "output_type": "stream",
     "text": [
      "3728632\n",
      "CPU times: user 23.6 s, sys: 2.32 s, total: 25.9 s\n",
      "Wall time: 49 s\n"
     ]
    }
   ],
   "source": [
    "%%time\n",
    "q = (\"SELECT od.ra, od.dec, od.mag, od.magerr, rbs.rb, \"\n",
    "     \"i.filter, i.meanmjd, o.candidate_id, e.proposalid \"\n",
    "     \"FROM objectdatas AS od \"\n",
    "     \"INNER JOIN objectdata_versiontag AS odvt \"\n",
    "     \"ON od.id=odvt.objectdata_id AND odvt.versiontag_id=%(tagid)s \"\n",
    "     \"INNER JOIN objects AS o ON od.object_id=o.id \"\n",
    "     \"INNER JOIN images AS i ON o.image_id=i.id \"\n",
    "     \"INNER JOIN objectrbs as rbs ON od.id=rbs.objectdata_id AND rbs.rbtype_id=2 \"\n",
    "     \"INNER JOIN exposures AS e ON i.exposure_id=e.id \"\n",
    "     \"WHERE ((od.ra > 267.8 AND od.ra < 273.8 AND od.dec > -32.5 AND od.dec < -26.5) \"\n",
    "     \"OR (od.ra > 113.3 AND od.ra < 119.3 AND od.dec > -29.3 AND od.dec < -23.3)) \")\n",
    "cursor.execute(q, {'tagid': tagid})\n",
    "df = pandas.DataFrame(cursor.fetchall())\n",
    "print(len(df))"
   ]
  },
  {
   "cell_type": "markdown",
   "id": "16bf37ec-2ac9-4eb7-b9d0-29ab161d3960",
   "metadata": {},
   "source": [
    "Convert the returned data into numpy arrays (Melissa's preference; use whatever you like).\n",
    "\n",
    "```\n",
    "ra      =  right ascension (decimal degrees)\n",
    "dec     =  declination (decimal degrees)\n",
    "mag     =  apparent magnitude from difference-image flux\n",
    "mage    =  error in apparent magnitude from difference-image flux\n",
    "rb      =  real/bogus score (0 to 1, bogus to real)\n",
    "filt    =  filter, griz\n",
    "mjd     =  modified julian date\n",
    "candid  =  candidate id\n",
    "propid  =  proposal id\n",
    "```"
   ]
  },
  {
   "cell_type": "code",
   "execution_count": 10,
   "id": "f25ca1d7-5890-4335-89fb-1df5492a08d5",
   "metadata": {},
   "outputs": [],
   "source": [
    "raw_obj_ra     = np.asarray(df[0], dtype='float')\n",
    "raw_obj_dec    = np.asarray(df[1], dtype='float')\n",
    "raw_obj_mag    = np.asarray(df[2], dtype='float')\n",
    "raw_obj_mage   = np.asarray(df[3], dtype='float')\n",
    "raw_obj_rb     = np.asarray(df[4], dtype='float')\n",
    "raw_obj_filt   = np.asarray(df[5], dtype='str')\n",
    "raw_obj_mjd    = np.asarray(df[6], dtype='float')\n",
    "raw_obj_candid = np.asarray(df[7], dtype='str')\n",
    "raw_obj_propid = np.asarray(df[8], dtype='str')\n",
    "del df"
   ]
  },
  {
   "cell_type": "markdown",
   "id": "81b15583-ca15-4451-8795-6d76c38abe1d",
   "metadata": {},
   "source": [
    "Make a few plots to explore the Galactic data.\n",
    "\n",
    "<br><br>\n",
    "\n",
    "Looks like there is only one field, DECaPS-East.\n",
    "\n",
    "> **This is something else to be checked by Rob Knop.**"
   ]
  },
  {
   "cell_type": "code",
   "execution_count": 11,
   "id": "08715280-1212-4f91-84ca-857a25e5519c",
   "metadata": {},
   "outputs": [
    {
     "data": {
      "text/plain": [
       "[<matplotlib.lines.Line2D at 0x7fd1d8122820>]"
      ]
     },
     "execution_count": 11,
     "metadata": {},
     "output_type": "execute_result"
    },
    {
     "data": {
      "image/png": "[encoded data removed]",
      "text/plain": [
       "<Figure size 432x288 with 1 Axes>"
      ]
     },
     "metadata": {
      "needs_background": "light"
     },
     "output_type": "display_data"
    }
   ],
   "source": [
    "plt.plot(raw_obj_ra, raw_obj_dec, 'o', ms=2, alpha=0.2, mew=0)"
   ]
  },
  {
   "cell_type": "markdown",
   "id": "3fa433dc-083c-4ddd-b9b3-f795323134cc",
   "metadata": {},
   "source": [
    "<br>\n",
    "Looks like there is only 2021 data available, but this might be a result of the choice of R/B tag."
   ]
  },
  {
   "cell_type": "code",
   "execution_count": 29,
   "id": "e77641c6-75f1-4191-a98b-cd02732c703e",
   "metadata": {},
   "outputs": [
    {
     "data": {
      "image/png": "[encoded data removed]",
      "text/plain": [
       "<Figure size 432x288 with 1 Axes>"
      ]
     },
     "metadata": {
      "needs_background": "light"
     },
     "output_type": "display_data"
    }
   ],
   "source": [
    "plt.hist(raw_obj_mjd, bins=30)\n",
    "plt.axvline(59215.5, ls='dashed', color='darkorange', label='Jan 1 2021')\n",
    "plt.axvline(59580.5, ls='dotted', color='purple', label='Jan 1 2022')\n",
    "plt.legend(loc='best')\n",
    "plt.show()"
   ]
  },
  {
   "cell_type": "markdown",
   "id": "ed40a911-3075-4afb-8b36-92e6e1643e1a",
   "metadata": {},
   "source": [
    "<br>\n",
    "Looks like most of it is classified as bogus, but again, I'm not sure which of the R/B tags we should use here."
   ]
  },
  {
   "cell_type": "code",
   "execution_count": 16,
   "id": "d017f136-c935-42ee-98b2-6bc3bfae6ae7",
   "metadata": {},
   "outputs": [
    {
     "data": {
      "image/png": "[encoded data removed]",
      "text/plain": [
       "<Figure size 432x288 with 1 Axes>"
      ]
     },
     "metadata": {
      "needs_background": "light"
     },
     "output_type": "display_data"
    }
   ],
   "source": [
    "plt.hist(raw_obj_rb, bins=50, log=True)\n",
    "plt.show()"
   ]
  },
  {
   "cell_type": "markdown",
   "id": "c447be01-70e6-4f68-981b-616586743539",
   "metadata": {},
   "source": [
    "<br>\n",
    "How many unique candidates are there among the \"good\" (let's say R/B >= 0.8) objects?\n",
    "\n",
    "Recall that one \"object\" is one detection in a difference-image, and one \"candidate\" is a set of objects at the same sky coordinate."
   ]
  },
  {
   "cell_type": "code",
   "execution_count": 26,
   "id": "7195f243-df07-481d-9c61-a41a1207d0b4",
   "metadata": {},
   "outputs": [
    {
     "name": "stdout",
     "output_type": "stream",
     "text": [
      "number of \"good\" (R/B>=0.8) objects:  46117\n"
     ]
    }
   ],
   "source": [
    "tx = np.where(raw_obj_rb >= 0.8)[0]\n",
    "print('number of \"good\" (R/B>=0.8) objects: ', len(tx))"
   ]
  },
  {
   "cell_type": "code",
   "execution_count": 27,
   "id": "45e67bda-dbce-4f70-96ee-cad0f2b0edec",
   "metadata": {},
   "outputs": [
    {
     "name": "stdout",
     "output_type": "stream",
     "text": [
      "number of unique candidates for \"good\" objects:  3767\n"
     ]
    }
   ],
   "source": [
    "values, counts = np.unique(raw_obj_candid[tx], return_counts=True)\n",
    "print('number of unique candidates for \"good\" objects: ', len(values))"
   ]
  },
  {
   "cell_type": "markdown",
   "id": "15abc756-3d19-4c87-8655-199f5439a6da",
   "metadata": {},
   "source": [
    "<br> \n",
    "Plot the distribution of the number of objects per candidate. See that there are many candidates with just one detection. Those candidates & objects can be rejected from further study."
   ]
  },
  {
   "cell_type": "code",
   "execution_count": 24,
   "id": "086d0d82-cb47-4504-a44e-aaef3290e572",
   "metadata": {},
   "outputs": [
    {
     "data": {
      "image/png": "[encoded data removed]",
      "text/plain": [
       "<Figure size 432x288 with 1 Axes>"
      ]
     },
     "metadata": {
      "needs_background": "light"
     },
     "output_type": "display_data"
    }
   ],
   "source": [
    "plt.hist(np.log10(counts), bins=50, log=True)\n",
    "plt.xlabel('log number of objects per candidate')\n",
    "plt.ylabel('log number of candidates')\n",
    "plt.show()"
   ]
  },
  {
   "cell_type": "code",
   "execution_count": null,
   "id": "ca1e57cd-66fc-4f41-b1c4-bf597fe7298f",
   "metadata": {},
   "outputs": [],
   "source": []
  }
 ],
 "metadata": {
  "kernelspec": {
   "display_name": "NERSC Python",
   "language": "python",
   "name": "python3"
  },
  "language_info": {
   "codemirror_mode": {
    "name": "ipython",
    "version": 3
   },
   "file_extension": ".py",
   "mimetype": "text/x-python",
   "name": "python",
   "nbconvert_exporter": "python",
   "pygments_lexer": "ipython3",
   "version": "3.9.7"
  }
 },
 "nbformat": 4,
 "nbformat_minor": 5
}
