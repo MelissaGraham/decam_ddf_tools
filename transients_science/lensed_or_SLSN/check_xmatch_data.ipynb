{
 "cells": [
  {
   "cell_type": "markdown",
   "id": "0757f984-92eb-4072-a99f-2d2ea31f0cdd",
   "metadata": {},
   "source": [
    "# Check static-sky cross-match for the potentially lensed or superluminous candidates\n",
    "\n",
    "## Set up\n",
    "\n",
    "Import packages."
   ]
  },
  {
   "cell_type": "code",
   "execution_count": 1,
   "id": "5b4ac9a7-f473-4871-996f-2c9c34da4cc8",
   "metadata": {
    "tags": []
   },
   "outputs": [],
   "source": [
    "import os\n",
    "import numpy as np\n",
    "import matplotlib as mpl\n",
    "import matplotlib.pyplot as plt"
   ]
  },
  {
   "cell_type": "markdown",
   "id": "8dcd2dac-ba75-4943-8858-e324822adc20",
   "metadata": {},
   "source": [
    "Read in all rows of the cross-matched file.\n",
    "\n",
    "The file has a header describing every column.\n",
    "\n",
    "`flagstar` : 1 if matched to a star; 0 if matched to a galaxy; -1 if unmatched (int) \n",
    "\n",
    "`flagcore` : 1 if matched to the core of the galaxy; 0 otherwise (int) \n",
    "\n",
    "`flagmatch` : 1 if a star AND galaxy met constraints; 0 if one or the other; -1 if unmatched (int) \n"
   ]
  },
  {
   "cell_type": "code",
   "execution_count": 2,
   "id": "fccc571e-3ad6-4072-84a0-8ffcdd0abd9d",
   "metadata": {
    "tags": []
   },
   "outputs": [],
   "source": [
    "fnm = '../cross_matched_LSDR10/candidate_xmatch_LSdr10.dat'\n",
    "lsdr10xm_candid   = np.loadtxt(fnm, dtype='str', usecols=(0))\n",
    "lsdr10xm_candra   = np.loadtxt(fnm, dtype='float', usecols=(1))\n",
    "lsdr10xm_canddec  = np.loadtxt(fnm, dtype='float', usecols=(2))\n",
    "lsdr10xm_flagstar = np.loadtxt(fnm, dtype='int', usecols=(4))\n",
    "lsdr10xm_flagcore = np.loadtxt(fnm, dtype='int', usecols=(5))\n",
    "lsdr10xm_flagmatch= np.loadtxt(fnm, dtype='int', usecols=(6))\n",
    "lsdr10xm_sep      = np.loadtxt(fnm, dtype='float', usecols=(7))\n",
    "lsdr10xm_ra       = np.loadtxt(fnm, dtype='float', usecols=(8))\n",
    "lsdr10xm_dec      = np.loadtxt(fnm, dtype='float', usecols=(9))\n",
    "lsdr10xm_rmag     = np.loadtxt(fnm, dtype='float', usecols=(13))\n",
    "lsdr10xm_type     = np.loadtxt(fnm, dtype='str', usecols=(15))\n",
    "lsdr10xm_shaper   = np.loadtxt(fnm, dtype='float', usecols=(19))\n",
    "lsdr10xm_rpsfsize = np.loadtxt(fnm, dtype='float', usecols=(21))  \n",
    "lsdr10xm_meanpz   = np.loadtxt(fnm, dtype='float', usecols=(23))\n",
    "lsdr10xm_stdpz    = np.loadtxt(fnm, dtype='float', usecols=(24))\n",
    "lsdr10xm_specz    = np.loadtxt(fnm, dtype='float', usecols=(25))\n",
    "del fnm"
   ]
  },
  {
   "cell_type": "markdown",
   "id": "6c7e9f80-6db6-472a-95ab-773d43be3e9d",
   "metadata": {},
   "source": [
    "Read in all rows of the candidate links file.\n",
    "\n",
    "`link_candid` : candidate name\n",
    "\n",
    "`link_lsview` : link to the Legacy Survey viewer stamp centered on candidate\n",
    "\n",
    "`link_rkview` : link to Rob Knop's candidate viewer (detection triplets)"
   ]
  },
  {
   "cell_type": "code",
   "execution_count": 3,
   "id": "2e2da862-010a-4d22-a3fc-8b07eb535842",
   "metadata": {
    "tags": []
   },
   "outputs": [],
   "source": [
    "fnm = '../cross_matched_LSDR10/candidate_links.dat'\n",
    "link_candid = np.loadtxt(fnm, dtype='str', usecols=(0))\n",
    "link_lsview = np.loadtxt(fnm, dtype='str', usecols=(1))\n",
    "link_rkview = np.loadtxt(fnm, dtype='str', usecols=(2))\n",
    "del fnm"
   ]
  },
  {
   "cell_type": "markdown",
   "id": "2cd78a38-a00b-44a1-870a-7f8c0484651b",
   "metadata": {},
   "source": [
    "## Show cross-matched information for a list of candidates\n",
    "\n",
    "Define the set of candidates to get cross-match information for."
   ]
  },
  {
   "cell_type": "code",
   "execution_count": 4,
   "id": "04f086a2-cdc9-46eb-bf77-1c8b74336065",
   "metadata": {
    "tags": []
   },
   "outputs": [],
   "source": [
    "my_cands = np.asarray(['DC22eaxvq', 'DC22hxfpz', 'DC21cwsvw', 'DC23ldice'], dtype='str')"
   ]
  },
  {
   "cell_type": "markdown",
   "id": "48c811da-2a79-4511-aad4-8935caf1aad0",
   "metadata": {},
   "source": [
    "### Cross-match flags\n",
    "\n",
    "Print a few key cross-match results."
   ]
  },
  {
   "cell_type": "code",
   "execution_count": 9,
   "id": "454973ea-6ed6-4003-9a3d-664fbafef067",
   "metadata": {
    "tags": []
   },
   "outputs": [
    {
     "name": "stdout",
     "output_type": "stream",
     "text": [
      "    candid  flagstar  flagcore  flagmatch    sep  rpsfsize    mag\n",
      " DC22eaxvq         0         1          0   0.20  1.141272  22.27\n",
      " DC22hxfpz         0         1          0   0.40  1.302290  21.63\n",
      " DC21cwsvw         0         1          0   0.30  1.116397  21.69\n",
      " DC23ldice         0         1          0   0.10  1.109765  21.73\n"
     ]
    }
   ],
   "source": [
    "print('%10s  %8s  %8s  %9s  %5s  %8s  %5s' % ('candid','flagstar','flagcore','flagmatch','sep','rpsfsize','mag'))\n",
    "\n",
    "for cand in my_cands:\n",
    "    tx = np.where(lsdr10xm_candid == cand)[0]\n",
    "    print('%10s  %8i  %8i  %9i  %5.2f  %8.6f  %5.2f' % \n",
    "          (lsdr10xm_candid[tx[0]], lsdr10xm_flagstar[tx[0]], lsdr10xm_flagcore[tx[0]], lsdr10xm_flagmatch[tx[0]], \n",
    "           lsdr10xm_sep[tx[0]], lsdr10xm_rpsfsize[tx[0]], lsdr10xm_rmag[tx[0]]))\n",
    "    del tx"
   ]
  },
  {
   "cell_type": "markdown",
   "id": "ed973e87-cc63-4e88-acb6-5f5edd8f73b3",
   "metadata": {},
   "source": [
    "**Summary of cross-match flags.**\n",
    "\n",
    "For DC22eaxvq, DC22hxfpz, DC21cwsvw, and DC23ldice.\n",
    "\n",
    "All of the candidates have `flagstar = 0`. This means the nearest static-sky object is a galaxy.\n",
    "\n",
    "All of the candidates have `flagmatch = 0`. This means there was not a point source (star) near enough to be considered a match.\n",
    "\n",
    "All of the candidates have `flagcore = 1`. This means they were in the center of the galaxy.\n",
    "\n",
    "<br>\n",
    "\n",
    "Print links to the static-sky stamps."
   ]
  },
  {
   "cell_type": "code",
   "execution_count": 7,
   "id": "47983382-cf04-4e66-b5a7-4baa3f4da1a4",
   "metadata": {
    "tags": []
   },
   "outputs": [
    {
     "name": "stdout",
     "output_type": "stream",
     "text": [
      "DC22eaxvq\n",
      "https://www.legacysurvey.org/viewer/cutout.jpg?ra=151.153864817921&dec=2.18197602296089&layer=ls-dr9&pixscale=0.06\n",
      "https://decat-webap.lbl.gov/decatview.py/cand/DC22eaxvq\n",
      "\n",
      "DC22hxfpz\n",
      "https://www.legacysurvey.org/viewer/cutout.jpg?ra=10.0702135233034&dec=-43.350545544702&layer=ls-dr9&pixscale=0.06\n",
      "https://decat-webap.lbl.gov/decatview.py/cand/DC22hxfpz\n",
      "\n",
      "DC21cwsvw\n",
      "https://www.legacysurvey.org/viewer/cutout.jpg?ra=7.60749482079275&dec=-42.9927594179486&layer=ls-dr9&pixscale=0.06\n",
      "https://decat-webap.lbl.gov/decatview.py/cand/DC21cwsvw\n",
      "\n",
      "DC23ldice\n",
      "https://www.legacysurvey.org/viewer/cutout.jpg?ra=6.99686156178051&dec=-42.3928214580849&layer=ls-dr9&pixscale=0.06\n",
      "https://decat-webap.lbl.gov/decatview.py/cand/DC23ldice\n",
      "\n"
     ]
    }
   ],
   "source": [
    "for cand in my_cands:\n",
    "    tx = np.where(link_candid == cand)[0]\n",
    "    print(link_candid[tx[0]])\n",
    "    print(link_lsview[tx[0]])\n",
    "    print(link_rkview[tx[0]])\n",
    "    print('')\n",
    "    del tx"
   ]
  },
  {
   "cell_type": "markdown",
   "id": "5a3f96e8-6450-4849-b92b-6f37a2b753e4",
   "metadata": {},
   "source": [
    "**Summary of stamp review.**\n",
    "\n",
    "DC22eaxvq - very red, small but probably not a point source\n",
    "\n",
    "DC22hxfpz - faint galaxy\n",
    "\n",
    "DC21cwsvw - could be point source\n",
    "\n",
    "DC23ldice - faint galaxy"
   ]
  },
  {
   "cell_type": "code",
   "execution_count": null,
   "id": "63450851-ea21-4193-bbac-cbb20759abb3",
   "metadata": {},
   "outputs": [],
   "source": []
  }
 ],
 "metadata": {
  "kernelspec": {
   "display_name": "NERSC Python",
   "language": "python",
   "name": "python3"
  },
  "language_info": {
   "codemirror_mode": {
    "name": "ipython",
    "version": 3
   },
   "file_extension": ".py",
   "mimetype": "text/x-python",
   "name": "python",
   "nbconvert_exporter": "python",
   "pygments_lexer": "ipython3",
   "version": "3.11.7"
  }
 },
 "nbformat": 4,
 "nbformat_minor": 5
}
