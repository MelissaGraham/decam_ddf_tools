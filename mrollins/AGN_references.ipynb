{
 "cells": [
  {
   "cell_type": "markdown",
   "id": "cb208d95-3ec2-4b49-ab2b-b66ea773e52b",
   "metadata": {},
   "source": [
    "# AGN References: Finding the catalog origins for the known AGN\n",
    "\n",
    "The purpose of this notebook is to understand where the AGN from SIMBAD came from.\n",
    " * How were the AGN originally classified? (e.g., spectroscopically, optical photometry, other)\n",
    " * How many might we _expect_ to see variability for? (e.g., fraction at low redshift)\n",
    "\n",
    "The original SIMBAD TAP queries are in the AGNpercentages_v2.ipynb notebook.\n",
    "\n",
    "Graphic for all the SIMBAD TAP catalogs: http://simbad.u-strasbg.fr/simbad/tap/tapsearch.html\n",
    "\n",
    "The table schema at the above link show that the `bibcode` reference is in the `ref` table.\n",
    "\n",
    "\n",
    "**General approach:** Retrieve the references and bibliography codes for the known AGN in our fields. Assume that the reference with the earliest date is how the known AGN was identified as an AGN and added to SIMBAD. \n",
    "\n",
    "**More information about AGN:**\n",
    " * Astrobite's guide to galaxy and AGN types: https://astrobites.org/guides/galaxy-and-agn-types/\n"
   ]
  },
  {
   "cell_type": "markdown",
   "id": "0600df54-a329-49a4-949b-aac172d15aed",
   "metadata": {},
   "source": [
    "## Set Up"
   ]
  },
  {
   "cell_type": "code",
   "execution_count": 1,
   "id": "e3b53852-634b-4278-992b-a5c60dbe5d22",
   "metadata": {},
   "outputs": [],
   "source": [
    "import numpy as np"
   ]
  },
  {
   "cell_type": "markdown",
   "id": "98634cac-65a3-4485-97be-a439bfdc6f10",
   "metadata": {},
   "source": [
    "## COSMOS\n",
    "\n",
    "In Graham et al. (2022),\n",
    "<a href=\"https://iopscience.iop.org/article/10.1088/0067-0049/200/1/9\">Griffith et al. 2012</a> and \n",
    "<a href=\"https://iopscience.iop.org/article/10.3847/0067-0049/224/2/24\">Laigle et al. 2016</a>\n",
    "are cited as the origins for the ACS-GC and COSMOS2015 catalogs, respectively.\n",
    "\n",
    "But neither describe the AGN identification process.\n",
    "\n",
    "Turn back to SIMBAD to find the exact references for the AGN in the catalogs that we matched to DDF candidates.\n",
    "\n",
    "The following query was executed to make the \"COSMOS_references.txt\" file at http://simbad.u-strasbg.fr/simbad/sim-tap."
   ]
  },
  {
   "cell_type": "raw",
   "id": "78b0d52e-fe35-4e1b-a21f-b27b2a40b8a3",
   "metadata": {},
   "source": [
    "SELECT distinct basic.main_id, basic.ra, basic.dec, basic.otype_txt, basic.oid, has_ref.oidref, has_ref.oidbibref, ref.oidbib, ref.bibcode \n",
    "FROM basic \n",
    "JOIN has_ref ON basic.oid = has_ref.oidref \n",
    "JOIN ref ON has_ref.oidbibref = ref.oidbib \n",
    "WHERE otype = 'AGN..' \n",
    "AND CONTAINS(POINT('ICRS', ra, dec), POLYGON('ICRS', 148.8, 0.77, 148.78, 0.78, 148.45, 1.11, 148.3, 1.26, 148.14, 1.6, 148.14, 1.89, 148.3, 2.23, 149.08, 3.56, 149.23, 3.73, 149.39, 3.91, 149.56, 4.07, 149.89, 4.08, 150.44, 4.08, 150.46, 4.07, 150.93, 3.56, 151.71, 2.22, 151.86, 1.73, 151.86, 1.63, 151.85, 1.6, 151.69, 1.27, 151.55, 1.11, 151.39, 0.94, 151.22, 0.77, 148.8, 0.77)) = 1"
   ]
  },
  {
   "cell_type": "markdown",
   "id": "aec87453-00d2-43ed-96b1-1cbe8d0d00e6",
   "metadata": {},
   "source": [
    "### Read in \"COSMOS_references.txt\".\n",
    "\n",
    " * 0 main_id\n",
    " * 1 ra\n",
    " * 2 dec\n",
    " * 3 otype_txt\n",
    " * 4 oid\n",
    " * 5 oidref\n",
    " * 6 oidbibref\n",
    " * 7 oidbib\n",
    " * 8 bibcode\n",
    " \n",
    "> **NOTE** A given AGN (i.e., a given `main_id` or `oid`), can have _multiple_ references. This means there are _multiple_ rows in \"COSMOS_references.txt\" for a given AGN."
   ]
  },
  {
   "cell_type": "code",
   "execution_count": 2,
   "id": "4c89474b-2377-464e-8acb-b9753fb67517",
   "metadata": {},
   "outputs": [],
   "source": [
    "fnm = 'COSMOS_references.txt'\n",
    "cosmos_refs_id = np.loadtxt(fnm, skiprows=2, delimiter='|', usecols={0}, dtype='str')\n",
    "cosmos_refs_bibcode = np.loadtxt(fnm, skiprows=2, delimiter='|', usecols={8}, dtype='str')"
   ]
  },
  {
   "cell_type": "markdown",
   "id": "6dfabf0e-dcbe-44b8-90f7-dd5f8c605109",
   "metadata": {},
   "source": [
    "Print the first elements of the array to see the string format."
   ]
  },
  {
   "cell_type": "code",
   "execution_count": 3,
   "id": "62c9d0bf-91db-4a4d-af36-9765719b3e4d",
   "metadata": {},
   "outputs": [
    {
     "name": "stdout",
     "output_type": "stream",
     "text": [
      "\"2MASS J09543431+0235335\"                 \n",
      "\"2011ApJ...737..101L\"\n"
     ]
    }
   ],
   "source": [
    "print(cosmos_refs_id[0])\n",
    "print(cosmos_refs_bibcode[0])"
   ]
  },
  {
   "cell_type": "markdown",
   "id": "d3a60143-7c66-4225-98a2-9185032f2fb6",
   "metadata": {},
   "source": [
    "Strip whitespace and quote marks from the `id` or we won't be able to use the `id` to match to the \"COSMOS_matches.txt\" table."
   ]
  },
  {
   "cell_type": "code",
   "execution_count": 4,
   "id": "19152e2b-36e7-4b89-95e4-7fe4161ef98d",
   "metadata": {},
   "outputs": [],
   "source": [
    "for i,temp in enumerate(cosmos_refs_id):\n",
    "    cosmos_refs_id[i] = temp.strip().strip('\"')\n",
    "del i, temp"
   ]
  },
  {
   "cell_type": "code",
   "execution_count": 5,
   "id": "1b345232-9bbb-4bc2-9f0a-361777e7b4f2",
   "metadata": {},
   "outputs": [
    {
     "name": "stdout",
     "output_type": "stream",
     "text": [
      "2MASS J09543431+0235335\n"
     ]
    }
   ],
   "source": [
    "print(cosmos_refs_id[0])"
   ]
  },
  {
   "cell_type": "markdown",
   "id": "40d30f61-882f-4a44-b99a-b4729024806e",
   "metadata": {},
   "source": [
    "### Read in the \"COSMOS_matches.txt\" file.\n",
    "\n",
    " * 0 main_id\n",
    " * 1 ra\n",
    " * 2 dec\n",
    " * 3 type\n",
    " * 4 DDF candidate id\n",
    " * 5 DDF candidate separation in arcsec"
   ]
  },
  {
   "cell_type": "code",
   "execution_count": 6,
   "id": "a2f25853-1b51-4537-9228-9142a62f84b3",
   "metadata": {},
   "outputs": [],
   "source": [
    "fnm = 'COSMOS_matches.txt'\n",
    "cosmos_matches_id = np.loadtxt(fnm, delimiter=',', usecols={0}, dtype='str')\n",
    "cosmos_matches_type = np.loadtxt(fnm, delimiter=',', usecols={3}, dtype='str')"
   ]
  },
  {
   "cell_type": "markdown",
   "id": "b873ee87-b933-4563-a41d-69a7803f1c3a",
   "metadata": {},
   "source": [
    "Print the first elements of the array to see the string format."
   ]
  },
  {
   "cell_type": "code",
   "execution_count": 7,
   "id": "9c9c592c-7279-4c5c-9c4c-96af5a7fa5d2",
   "metadata": {},
   "outputs": [
    {
     "name": "stdout",
     "output_type": "stream",
     "text": [
      "[MMS2013] 102826\n",
      " QSO\n"
     ]
    }
   ],
   "source": [
    "print(cosmos_matches_id[0])\n",
    "print(cosmos_matches_type[0])"
   ]
  },
  {
   "cell_type": "markdown",
   "id": "a9f0cfde-0d87-48f6-bb30-431c836497b3",
   "metadata": {},
   "source": [
    "Get rid of the whitespace at the start/end of the strings (due to comma-delimiters)."
   ]
  },
  {
   "cell_type": "code",
   "execution_count": 8,
   "id": "65cdaafc-f1a7-403e-b970-6b622ec91927",
   "metadata": {},
   "outputs": [],
   "source": [
    "for i,temp in enumerate(cosmos_matches_id):\n",
    "    cosmos_matches_id[i] = temp.strip()\n",
    "del i, temp\n",
    "\n",
    "for i,temp in enumerate(cosmos_matches_type):\n",
    "    cosmos_matches_type[i] = temp.strip()\n",
    "del i, temp"
   ]
  },
  {
   "cell_type": "code",
   "execution_count": 9,
   "id": "9c87d066-f3b6-48d6-8c6d-1daa280a4631",
   "metadata": {},
   "outputs": [
    {
     "name": "stdout",
     "output_type": "stream",
     "text": [
      "[MMS2013] 102826\n",
      "QSO\n"
     ]
    }
   ],
   "source": [
    "print(cosmos_matches_id[0])\n",
    "print(cosmos_matches_type[0])"
   ]
  },
  {
   "cell_type": "markdown",
   "id": "f8be253f-ffba-4bc2-829b-79507a87c69a",
   "metadata": {},
   "source": [
    "### Match \"COSMOS_matches.txt\" to \"COSMOS_references.txt\"\n",
    "\n",
    "Use the `id` to get the index of `cosmos_matches_id` for THE FIRST REFERENCE in the array `cosmos_refs_id`."
   ]
  },
  {
   "cell_type": "code",
   "execution_count": 10,
   "id": "f884cc3e-c8fc-4a65-83c3-54b93ad1893c",
   "metadata": {},
   "outputs": [],
   "source": [
    "cosmos_matches_refs_index = np.zeros(len(cosmos_matches_id), dtype='int')\n",
    "placeholder = []"
   ]
  },
  {
   "cell_type": "code",
   "execution_count": 11,
   "id": "c0bd743b-c066-42bb-ba32-dc7fe9835e0e",
   "metadata": {},
   "outputs": [
    {
     "name": "stdout",
     "output_type": "stream",
     "text": [
      "CPU times: user 168 ms, sys: 1.09 ms, total: 169 ms\n",
      "Wall time: 163 ms\n"
     ]
    }
   ],
   "source": [
    "%%time\n",
    "for i,temp in enumerate(cosmos_matches_id):\n",
    "    tx = np.where(temp == cosmos_refs_id)[0]\n",
    "    if len(tx) >= 1:\n",
    "        cosmos_matches_refs_index[i] = tx[0]\n",
    "        placeholder.append(cosmos_refs_bibcode[tx[0]])\n",
    "    else:\n",
    "        cosmos_matches_refs_index[i] = -1\n",
    "        placeholder.append('none')\n",
    "del i, temp"
   ]
  },
  {
   "cell_type": "code",
   "execution_count": 12,
   "id": "3d78c20f-2b35-4fd2-b8ef-50707b297cc3",
   "metadata": {},
   "outputs": [],
   "source": [
    "cosmos_matches_refs_bibcode = np.asarray(placeholder, dtype='str')"
   ]
  },
  {
   "cell_type": "code",
   "execution_count": 13,
   "id": "9b0b3f55-9536-4c34-a691-72947e1d21b8",
   "metadata": {},
   "outputs": [
    {
     "name": "stdout",
     "output_type": "stream",
     "text": [
      "\"2001MNRAS.322L..29C\" 3\n",
      "\"2003AJ....126.2579S\" 2\n",
      "\"2004MNRAS.349.1397C\" 1\n",
      "\"2005AJ....130..367S\" 2\n",
      "\"2006A&A...455..773V\" 1\n",
      "\"2006A&A...457...79G\" 4\n",
      "\"2007ApJS..172...29H\" 6\n",
      "\"2007ApJS..172...46S\" 2\n",
      "\"2009ApJS..184..158E\" 1\n",
      "\"2011A&A...527A.126P\" 1\n",
      "\"2012MNRAS.421.1569B\" 1\n",
      "\"2014A&A...563A..54P\" 21\n",
      "\"2014ApJS..210....7C\" 2\n",
      "\"2017ApJ...836..186J\" 1\n",
      "\"2018AJ....155..189D\" 1\n",
      "\"2020ApJ...888...78S\" 1\n",
      "\"2020ApJS..250....8L\" 2\n",
      "none 256\n"
     ]
    }
   ],
   "source": [
    "values, counts = np.unique(cosmos_matches_refs_bibcode, return_counts=True)\n",
    "\n",
    "for v,val in enumerate(values):\n",
    "    print(val, counts[v])"
   ]
  },
  {
   "cell_type": "markdown",
   "id": "efe0c60d-0eaf-4c94-b81a-0f2082489c2b",
   "metadata": {},
   "source": [
    "### Explore these references\n",
    "\n",
    "OK that's promising, there are but a handful of first-references (i.e., the paper that added the object to SIMBAD) for all of COSMOS."
   ]
  },
  {
   "cell_type": "code",
   "execution_count": 14,
   "id": "992376a4-5090-4f0b-9301-9b9c59c7f3d0",
   "metadata": {},
   "outputs": [
    {
     "name": "stdout",
     "output_type": "stream",
     "text": [
      "['AGN' 'QSO' 'Sy1' 'Sy2' 'rG']\n"
     ]
    }
   ],
   "source": [
    "print(np.unique(cosmos_matches_type))"
   ]
  },
  {
   "cell_type": "code",
   "execution_count": 16,
   "id": "2944e0af-cce9-4aa0-903b-f2d8f290aaac",
   "metadata": {},
   "outputs": [
    {
     "name": "stdout",
     "output_type": "stream",
     "text": [
      "AGN\n",
      "\"2006A&A...457...79G\" 1\n",
      "\"2007ApJS..172...29H\" 3\n",
      "\"2007ApJS..172...46S\" 2\n",
      "\"2009ApJS..184..158E\" 1\n",
      "\"2020ApJ...888...78S\" 1\n",
      "none 91\n",
      "QSO\n",
      "\"2001MNRAS.322L..29C\" 2\n",
      "\"2003AJ....126.2579S\" 2\n",
      "\"2004MNRAS.349.1397C\" 1\n",
      "\"2005AJ....130..367S\" 2\n",
      "\"2006A&A...455..773V\" 1\n",
      "\"2006A&A...457...79G\" 3\n",
      "\"2007ApJS..172...29H\" 2\n",
      "\"2014A&A...563A..54P\" 21\n",
      "\"2014ApJS..210....7C\" 2\n",
      "\"2017ApJ...836..186J\" 1\n",
      "\"2018AJ....155..189D\" 1\n",
      "\"2020ApJS..250....8L\" 2\n",
      "none 150\n",
      "Sy1\n",
      "\"2001MNRAS.322L..29C\" 1\n",
      "\"2007ApJS..172...29H\" 1\n",
      "\"2011A&A...527A.126P\" 1\n",
      "none 11\n",
      "Sy2\n",
      "none 1\n",
      "rG\n",
      "\"2012MNRAS.421.1569B\" 1\n",
      "none 3\n"
     ]
    }
   ],
   "source": [
    "for agntype in ['AGN', 'QSO', 'Sy1', 'Sy2', 'rG']:\n",
    "    print(agntype)\n",
    "    tx = np.where(cosmos_matches_type == agntype)[0]\n",
    "    values, counts = np.unique(cosmos_matches_refs_bibcode[tx], return_counts=True)\n",
    "    for v,val in enumerate(values):\n",
    "        print(val, counts[v])\n",
    "    del tx, values, counts, v, val"
   ]
  },
  {
   "cell_type": "markdown",
   "id": "3ab74e84-a55b-4034-8f1a-0b3efc7a3c66",
   "metadata": {},
   "source": [
    "#### Summary\n",
    "\n",
    "Looks like most of the COSMOS-field known AGN (well, QSOs) that we matched with a DDF candidate and that ALSO have a bibcode in SIMBAD are from \"2014A&A...563A..54P\", which is \"The Sloan Digital Sky Survey quasar catalog: tenth data release\" https://ui.adsabs.harvard.edu/abs/2014A%26A...563A..54P/abstract. \n",
    "\n",
    "These are **spectroscopically** classified QSOs. \n",
    "\n",
    "> **NOTE** This is still not great because 91 AGN and 150 QSOs from SIMBAD that the DDF detected have no bibcode, no reference?? How can something have no origin?"
   ]
  },
  {
   "cell_type": "markdown",
   "id": "095c4c57-564b-4014-aa18-72aa5a65bc8f",
   "metadata": {},
   "source": [
    "<br>\n",
    "<br>\n",
    "\n",
    "## COSMOS2015\n",
    "\n",
    "It's important to note that the `id` for COSMOS2015 and ESIS is the `ident.id`, not the `basic.main_id` from SIMBAD. This affects the matching process to connect the AGN detected by our DDF with the SIMBAD references.\n",
    "\n",
    "The following query was executed to make the \"COSMOS2015_references.txt\" file. It has one more column than \"COSMOS_references.txt\", which is the `ident.id`."
   ]
  },
  {
   "cell_type": "raw",
   "id": "1fe71594-e461-4604-914b-34eeafedd3ae",
   "metadata": {},
   "source": [
    "SELECT distinct basic.main_id, basic.ra, basic.dec, basic.otype_txt, basic.oid, has_ref.oidref, has_ref.oidbibref, ref.oidbib, ref.bibcode, ident.id \n",
    "FROM basic \n",
    "JOIN ident ON basic.oid = ident.oidref \n",
    "JOIN has_ref ON basic.oid = has_ref.oidref \n",
    "JOIN ref ON has_ref.oidbibref = ref.oidbib \n",
    "WHERE otype = 'AGN..' \n",
    "AND ident.id like 'COSMOS2015%'\n",
    "AND CONTAINS(POINT('ICRS', ra, dec), POLYGON('ICRS', 148.8, 0.77, 148.78, 0.78, 148.45, 1.11, 148.3, 1.26, 148.14, 1.6, 148.14, 1.89, 148.3, 2.23, 149.08, 3.56, 149.23, 3.73, 149.39, 3.91, 149.56, 4.07, 149.89, 4.08, 150.44, 4.08, 150.46, 4.07, 150.93, 3.56, 151.71, 2.22, 151.86, 1.73, 151.86, 1.63, 151.85, 1.6, 151.69, 1.27, 151.55, 1.11, 151.39, 0.94, 151.22, 0.77, 148.8, 0.77)) = 1"
   ]
  },
  {
   "cell_type": "markdown",
   "id": "8d465dac-3216-4b2e-bc13-874a742e7666",
   "metadata": {},
   "source": [
    "### Read in the \"COSMOS2015_references.txt\" file.\n",
    "\n",
    " * 0 main_id\n",
    " * 1 ra\n",
    " * 2 dec\n",
    " * 3 otype_txt\n",
    " * 4 oid\n",
    " * 5 oidref\n",
    " * 6 oidbibref\n",
    " * 7 oidbib\n",
    " * 8 bibcode\n",
    " * 9 ident.id"
   ]
  },
  {
   "cell_type": "code",
   "execution_count": 17,
   "id": "1b97b016-b6e1-4f8a-a8f7-650bd21d515a",
   "metadata": {},
   "outputs": [],
   "source": [
    "fnm = 'COSMOS2015_references.txt'\n",
    "cosmos2015_refs_id = np.loadtxt(fnm, skiprows=2, delimiter='|', usecols={9}, dtype='str')\n",
    "cosmos2015_refs_bibcode = np.loadtxt(fnm, skiprows=2, delimiter='|', usecols={8}, dtype='str')"
   ]
  },
  {
   "cell_type": "code",
   "execution_count": 18,
   "id": "293cbd00-ea5d-47d7-a99c-72ad5c291c2f",
   "metadata": {},
   "outputs": [
    {
     "name": "stdout",
     "output_type": "stream",
     "text": [
      "\"COSMOS2015 583822\" \n",
      "\"2009A&A...497..635C\"\n"
     ]
    }
   ],
   "source": [
    "print(cosmos2015_refs_id[0])\n",
    "print(cosmos2015_refs_bibcode[0])"
   ]
  },
  {
   "cell_type": "code",
   "execution_count": 19,
   "id": "37e3713c-4d33-4400-93f0-e075dfd5389a",
   "metadata": {},
   "outputs": [],
   "source": [
    "for i,temp in enumerate(cosmos2015_refs_id):\n",
    "    cosmos2015_refs_id[i] = temp.strip().strip('\"')\n",
    "del i, temp"
   ]
  },
  {
   "cell_type": "code",
   "execution_count": 20,
   "id": "0851394c-9bb2-4b42-9ac8-ef6cc1a02f20",
   "metadata": {},
   "outputs": [
    {
     "name": "stdout",
     "output_type": "stream",
     "text": [
      "COSMOS2015 583822\n"
     ]
    }
   ],
   "source": [
    "print(cosmos2015_refs_id[0])"
   ]
  },
  {
   "cell_type": "markdown",
   "id": "0865e141-25bd-40a2-85a5-d53860e3c982",
   "metadata": {},
   "source": [
    "### Read in the \"COSMOS2015_matches.txt\" file.\n",
    "\n",
    " * 0 ident_id\n",
    " * 1 ra\n",
    " * 2 dec\n",
    " * 3 type\n",
    " * 4 DDF candidate id\n",
    " * 5 DDF candidate separation in arcsec"
   ]
  },
  {
   "cell_type": "code",
   "execution_count": 21,
   "id": "efa72264-3825-42e6-ba6b-f6a8a4713f2c",
   "metadata": {},
   "outputs": [],
   "source": [
    "fnm = 'COSMOS2015_matches.txt'\n",
    "cosmos2015_matches_id = np.loadtxt(fnm, delimiter=',', usecols={0}, dtype='str')\n",
    "cosmos2015_matches_type = np.loadtxt(fnm, delimiter=',', usecols={3}, dtype='str')"
   ]
  },
  {
   "cell_type": "code",
   "execution_count": 22,
   "id": "18a2113d-81da-460c-bc9f-5efd1ce16fa9",
   "metadata": {},
   "outputs": [
    {
     "name": "stdout",
     "output_type": "stream",
     "text": [
      "COSMOS2015 452180\n",
      " QSO\n"
     ]
    }
   ],
   "source": [
    "print(cosmos2015_matches_id[0])\n",
    "print(cosmos2015_matches_type[0])"
   ]
  },
  {
   "cell_type": "markdown",
   "id": "224aa42b-ecdd-4d0e-a4f4-d29ac70d6a6e",
   "metadata": {},
   "source": [
    "Get rid of the whitespace."
   ]
  },
  {
   "cell_type": "code",
   "execution_count": 23,
   "id": "9c0cfb9c-a765-44dc-9308-c9eb84c0dc39",
   "metadata": {},
   "outputs": [],
   "source": [
    "for i,temp in enumerate(cosmos2015_matches_id):\n",
    "    cosmos2015_matches_id[i] = temp.strip()\n",
    "del i, temp\n",
    "\n",
    "for i,temp in enumerate(cosmos2015_matches_type):\n",
    "    cosmos2015_matches_type[i] = temp.strip()\n",
    "del i, temp"
   ]
  },
  {
   "cell_type": "code",
   "execution_count": 24,
   "id": "9debec2d-04b5-419c-998e-9f5ed8bef526",
   "metadata": {},
   "outputs": [
    {
     "name": "stdout",
     "output_type": "stream",
     "text": [
      "COSMOS2015 452180\n",
      "QSO\n"
     ]
    }
   ],
   "source": [
    "print(cosmos2015_matches_id[0])\n",
    "print(cosmos2015_matches_type[0])"
   ]
  },
  {
   "cell_type": "markdown",
   "id": "85616641-2735-423e-8b9e-0f0fe1dbd104",
   "metadata": {},
   "source": [
    "### Match \"COSMOS2015_matches.txt\" to \"COSMOS2015_references.txt\""
   ]
  },
  {
   "cell_type": "code",
   "execution_count": 25,
   "id": "a7844484-b44a-4f70-88ef-6dcf00c842fb",
   "metadata": {},
   "outputs": [],
   "source": [
    "cosmos2015_matches_refs_index = np.zeros(len(cosmos2015_matches_id), dtype='int')\n",
    "placeholder = []"
   ]
  },
  {
   "cell_type": "code",
   "execution_count": 26,
   "id": "79a48317-6f7f-4f95-ad7c-ebd93bf40e32",
   "metadata": {},
   "outputs": [
    {
     "name": "stdout",
     "output_type": "stream",
     "text": [
      "CPU times: user 136 ms, sys: 7.58 ms, total: 143 ms\n",
      "Wall time: 141 ms\n"
     ]
    }
   ],
   "source": [
    "%%time\n",
    "for i,temp in enumerate(cosmos2015_matches_id):\n",
    "    tx = np.where(temp == cosmos2015_refs_id)[0]\n",
    "    if len(tx) >= 1:\n",
    "        cosmos2015_matches_refs_index[i] = tx[0]\n",
    "        placeholder.append(cosmos2015_refs_bibcode[tx[0]])\n",
    "    else:\n",
    "        cosmos2015_matches_refs_index[i] = -1\n",
    "        placeholder.append('')\n",
    "del i, temp"
   ]
  },
  {
   "cell_type": "code",
   "execution_count": 27,
   "id": "17a61d46-8405-4362-8be0-7559431adf6f",
   "metadata": {},
   "outputs": [],
   "source": [
    "cosmos2015_matches_refs_bibcode = np.asarray(placeholder, dtype='str')"
   ]
  },
  {
   "cell_type": "code",
   "execution_count": 28,
   "id": "d0204f31-d91e-41ca-a46d-c7c7dfb475f4",
   "metadata": {},
   "outputs": [
    {
     "name": "stdout",
     "output_type": "stream",
     "text": [
      "\"2001MNRAS.322L..29C\" 10\n",
      "\"2003AJ....126.2579S\" 16\n",
      "\"2004AJ....128.1974S\" 7\n",
      "\"2004MNRAS.349.1397C\" 1\n",
      "\"2005AJ....130..367S\" 2\n",
      "\"2006A&A...455..773V\" 27\n",
      "\"2006ApJ...644..100P\" 2\n",
      "\"2007ApJS..172...29H\" 79\n",
      "\"2007ApJS..172...46S\" 14\n",
      "\"2008ApJS..176...19F\" 1\n",
      "\"2009A&A...497..635C\" 7\n",
      "\"2009ApJS..184..158E\" 5\n",
      "\"2010AJ....140..533G\" 3\n",
      "\"2010ApJS..191..254H\" 1\n",
      "\"2012ApJ...753..121K\" 1\n",
      "\"2013ApJS..206....8M\" 4\n",
      "\"2014A&A...563A..54P\" 1\n"
     ]
    }
   ],
   "source": [
    "values, counts = np.unique(cosmos2015_matches_refs_bibcode, return_counts=True)\n",
    "\n",
    "for v,val in enumerate(values):\n",
    "    print(val, counts[v])"
   ]
  },
  {
   "cell_type": "markdown",
   "id": "c415b117-19a2-4b2d-9bf1-bcebc3a826dd",
   "metadata": {},
   "source": [
    "This is better! All of the known AGN that we have matched with a DDF candidate have a bibcode, as in, they have a known origin.\n",
    "\n",
    "### Explore these references\n",
    "\n",
    "And, they're mostly from 2007ApJS..172...29H, \"The XMM-Newton Wide-Field Survey in the COSMOS Field. I. Survey Description\" https://ui.adsabs.harvard.edu/abs/2007ApJS..172...29H/abstract. Which means a bunch are X-ray identified AGN. Good to know.\n",
    "\n",
    "Let's do the same as above and look at the bibcode by AGN type."
   ]
  },
  {
   "cell_type": "code",
   "execution_count": 29,
   "id": "118e3892-8d80-48f8-8f17-d731c5b99a7d",
   "metadata": {},
   "outputs": [
    {
     "name": "stdout",
     "output_type": "stream",
     "text": [
      "['AGN' 'QSO' 'Sy1' 'rG']\n"
     ]
    }
   ],
   "source": [
    "print(np.unique(cosmos2015_matches_type))"
   ]
  },
  {
   "cell_type": "code",
   "execution_count": 30,
   "id": "95156ec9-528d-4441-bc98-5d07ec025e3c",
   "metadata": {},
   "outputs": [
    {
     "name": "stdout",
     "output_type": "stream",
     "text": [
      "AGN\n",
      "\"2004AJ....128.1974S\" 4\n",
      "\"2006A&A...455..773V\" 2\n",
      "\"2006ApJ...644..100P\" 2\n",
      "\"2007ApJS..172...29H\" 53\n",
      "\"2007ApJS..172...46S\" 10\n",
      "\"2008ApJS..176...19F\" 1\n",
      "\"2009A&A...497..635C\" 4\n",
      "\"2009ApJS..184..158E\" 3\n",
      "\"2010AJ....140..533G\" 3\n",
      "\"2010ApJS..191..254H\" 1\n",
      "\"2012ApJ...753..121K\" 1\n",
      "\"2013ApJS..206....8M\" 4\n",
      "QSO\n",
      "\"2001MNRAS.322L..29C\" 10\n",
      "\"2003AJ....126.2579S\" 15\n",
      "\"2004AJ....128.1974S\" 3\n",
      "\"2005AJ....130..367S\" 1\n",
      "\"2006A&A...455..773V\" 23\n",
      "\"2007ApJS..172...29H\" 25\n",
      "\"2007ApJS..172...46S\" 1\n",
      "\"2009A&A...497..635C\" 3\n",
      "\"2009ApJS..184..158E\" 2\n",
      "\"2014A&A...563A..54P\" 1\n",
      "Sy1\n",
      "\"2003AJ....126.2579S\" 1\n",
      "\"2004MNRAS.349.1397C\" 1\n",
      "\"2005AJ....130..367S\" 1\n",
      "\"2006A&A...455..773V\" 2\n",
      "\"2007ApJS..172...29H\" 1\n",
      "rG\n",
      "\"2007ApJS..172...46S\" 3\n"
     ]
    }
   ],
   "source": [
    "for agntype in ['AGN', 'QSO', 'Sy1', 'rG']:\n",
    "    print(agntype)\n",
    "    tx = np.where(cosmos2015_matches_type == agntype)[0]\n",
    "    values, counts = np.unique(cosmos2015_matches_refs_bibcode[tx], return_counts=True)\n",
    "    for v,val in enumerate(values):\n",
    "        print(val, counts[v])\n",
    "    del tx, values, counts, v, val"
   ]
  },
  {
   "cell_type": "markdown",
   "id": "94dff8d8-5496-4aa7-b98f-977acff46b18",
   "metadata": {},
   "source": [
    "#### Summary\n",
    "\n",
    "The AGN and QSO in COSMOS2015 mostly have first-references of 2007ApJS..172...29H, though the QSOs in particular have a bunch of other paper origins.\n",
    "\n",
    "Further investigation needed."
   ]
  },
  {
   "cell_type": "code",
   "execution_count": null,
   "id": "22915e84-dee6-41e1-abe8-ae66f7fd3e89",
   "metadata": {},
   "outputs": [],
   "source": []
  },
  {
   "cell_type": "code",
   "execution_count": null,
   "id": "196c7e1d-ff7b-4aef-a9a0-e3e666867b3a",
   "metadata": {},
   "outputs": [],
   "source": []
  }
 ],
 "metadata": {
  "kernelspec": {
   "display_name": "NERSC Python",
   "language": "python",
   "name": "python3"
  },
  "language_info": {
   "codemirror_mode": {
    "name": "ipython",
    "version": 3
   },
   "file_extension": ".py",
   "mimetype": "text/x-python",
   "name": "python",
   "nbconvert_exporter": "python",
   "pygments_lexer": "ipython3",
   "version": "3.9.7"
  }
 },
 "nbformat": 4,
 "nbformat_minor": 5
}
