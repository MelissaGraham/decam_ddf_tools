{
 "cells": [
  {
   "cell_type": "code",
   "execution_count": 1,
   "id": "dabf8de6-e880-4b1e-ad11-7d06e250ee78",
   "metadata": {},
   "outputs": [],
   "source": [
    "# Login and database access\n",
    "import psycopg2\n",
    "import psycopg2.extras\n",
    "import getpass\n",
    "\n",
    "# Plotting\n",
    "import matplotlib.pyplot as plt\n",
    "import matplotlib\n",
    "from IPython.display import display\n",
    "import ipywidgets as widgets\n",
    "\n",
    "# Math\n",
    "import numpy as np\n",
    "import pandas as pd\n",
    "import copy\n",
    "\n",
    "# Custom\n",
    "from decam_utils import *"
   ]
  },
  {
   "cell_type": "markdown",
   "id": "f25cc7b3-746f-4604-9923-2d179e67bc6b",
   "metadata": {},
   "source": [
    "The purpose of this notebook is to identify potential supernovae in the DECAM DDF database (extragalactic fields)"
   ]
  },
  {
   "cell_type": "code",
   "execution_count": 2,
   "id": "d5ff0be8-8425-4618-a9a1-fd3be6a4036d",
   "metadata": {},
   "outputs": [
    {
     "name": "stdin",
     "output_type": "stream",
     "text": [
      "DB User:  kennedyt\n",
      "DB Password:  ············\n"
     ]
    }
   ],
   "source": [
    "dbuser = input(\"DB User: \")\n",
    "dbpasswd = getpass.getpass(\"DB Password: \")\n",
    "\n",
    "db = psycopg2.connect( f\"dbname='decat' user='{dbuser}' password='{dbpasswd}' host='decatdb.lbl.gov'\" )\n",
    "db.autocommit = True # Makes the computer nicer about SQL syntax errors\n",
    "\n",
    "cursor = db.cursor( cursor_factory = psycopg2.extras.DictCursor )"
   ]
  },
  {
   "cell_type": "markdown",
   "id": "61be2bd1-6597-4491-bbc7-7ab53d51c4b5",
   "metadata": {},
   "source": [
    "### Adjustable parameters"
   ]
  },
  {
   "cell_type": "code",
   "execution_count": 3,
   "id": "98946f74-c453-4373-aac2-74d26c24aaa4",
   "metadata": {},
   "outputs": [],
   "source": [
    "# Minimum timespan between first and last detections in g, r, and i\n",
    "tspang, tspanr, tspani = 15, 15, 15\n",
    "maxtspan = 1000\n",
    "# tspang, tspanr, tspani = 10, 10, 10 # Use for ELAIS\n",
    "# Minimum number of detections in g, r, and i\n",
    "numdetg, numdetr, numdeti = 10, 10, 10\n",
    "# Minimum magnitude change in g, r, and i\n",
    "minmagg, minmagr, minmagi = 0.6, 0.6, 0.6\n",
    "# The number of standard deviations tolerated to stretch the definition of increasing/decreasing\n",
    "# (0.3 seems to be the sweet spot, but a little higher works too)\n",
    "errmult = 0.3\n",
    "# Maximum average error a candidate's detections can have before they are eliminated from consideration\n",
    "rmaxerr, gmaxerr, imaxerr = 0.2, 0.2, 0.2"
   ]
  },
  {
   "cell_type": "code",
   "execution_count": 4,
   "id": "1178b550-d970-487c-a34f-b67463acacd2",
   "metadata": {},
   "outputs": [],
   "source": [
    "terms = [\"2021A-0113\",\"2021B-0149\"]\n",
    "query = ( 'SELECT o.id, o.candidate_id, e.mjd, o.mag, e.filter, o.magerr, e.filename FROM objects o '\n",
    "         'JOIN subtractions s ON o.subtraction_id=s.id '\n",
    "         'JOIN exposures e ON e.id=s.exposure_id '\n",
    "         'JOIN objectrbs as rbs ON o.id=rbs.object_id AND rbs.rbtype_id=2 '\n",
    "         'WHERE (q3c_radial_query(o.ra,o.dec,150,2.2,3) '\n",
    "         'OR q3c_radial_query(o.ra,o.dec,8.5,-43.5,2)) '\n",
    "         'AND (e.proposalid=%s  '\n",
    "         'OR e.proposalid=%s ) '\n",
    "         'AND rbs.rb > 0.4 '\n",
    "         'ORDER BY o.candidate_id '\n",
    "         'LIMIT 10000000' )\n",
    "\n",
    "cursor.execute( query, (terms[0],terms[1],) )\n",
    "\n",
    "SNquery = np.array( cursor.fetchall() ).transpose()"
   ]
  },
  {
   "cell_type": "code",
   "execution_count": 5,
   "id": "6b164c28-261d-4c89-ade4-762074c7a9a2",
   "metadata": {},
   "outputs": [],
   "source": [
    "SNquery = rm_dupes(SNquery,0) # gets rid of duplicate objects"
   ]
  },
  {
   "cell_type": "markdown",
   "id": "26e97992-0dba-4eca-a996-1867dea3785b",
   "metadata": {},
   "source": [
    "### Nonstandard exposure time filter"
   ]
  },
  {
   "cell_type": "code",
   "execution_count": 6,
   "id": "e03a2743-206e-45a9-b74e-4ec4e4c5652a",
   "metadata": {},
   "outputs": [
    {
     "name": "stdout",
     "output_type": "stream",
     "text": [
      "406145\n",
      "399170\n"
     ]
    }
   ],
   "source": [
    "# Gets rid of objects from images with nonstandard exposure times\n",
    "# <20 secs for r & i, <50 secs for g\n",
    "print(len(SNquery[6]))\n",
    "goodfnms = good_fnms(cursor)[1]\n",
    "msk = np.isin(SNquery[6], goodfnms)\n",
    "SNquery = [i[msk] for i in SNquery]\n",
    "print(len(SNquery[6]))"
   ]
  },
  {
   "cell_type": "code",
   "execution_count": 7,
   "id": "6e8a050f-e922-4682-bee5-15257a0aed63",
   "metadata": {},
   "outputs": [
    {
     "name": "stdout",
     "output_type": "stream",
     "text": [
      "27823 41441 26239\n"
     ]
    },
    {
     "data": {
      "text/plain": [
       "(123854, 218878, 56438)"
      ]
     },
     "execution_count": 7,
     "metadata": {},
     "output_type": "execute_result"
    }
   ],
   "source": [
    "gcands = np.unique(SNquery[1][SNquery[4] == \"g\"])\n",
    "rcands = np.unique(SNquery[1][SNquery[4] == \"r\"])\n",
    "icands = np.unique(SNquery[1][SNquery[4] == \"i\"])\n",
    "print(len(gcands), len(rcands), len(icands))\n",
    "\n",
    "gmsk = np.where( SNquery[4] == \"g\" )[0]\n",
    "rmsk = np.where( SNquery[4] == \"r\" )[0]\n",
    "imsk = np.where( SNquery[4] == \"i\" )[0]\n",
    "grmsk = np.append( rmsk, gmsk )\n",
    "grimsk = np.append( grmsk, imsk )\n",
    "len(gmsk),len(rmsk),len(imsk)"
   ]
  },
  {
   "cell_type": "markdown",
   "id": "baa3c0f0-4ad9-4e19-a11c-74227a523b1b",
   "metadata": {
    "tags": []
   },
   "source": [
    "### g filter:"
   ]
  },
  {
   "cell_type": "code",
   "execution_count": 8,
   "id": "c0c5d4e5-127c-4c4d-bea7-cb52cce3ed18",
   "metadata": {},
   "outputs": [],
   "source": [
    "# Mask to make sure we stay in the r band detections\n",
    "gmsk = np.where( SNquery[4] == \"g\" )[0]\n",
    "gmsk = [i for i in grimsk if i in gmsk]"
   ]
  },
  {
   "cell_type": "code",
   "execution_count": 9,
   "id": "04ff1b65-88f8-4e2a-9bc1-ca1de5dc2cc9",
   "metadata": {},
   "outputs": [],
   "source": [
    "# Separating out various query results and applying the r mask \n",
    "candsg, objs, magsg, magerrsg = SNquery[1][gmsk], SNquery[0].astype(float)[gmsk], SNquery[3][gmsk], SNquery[5][gmsk]\n",
    "# Create an array of the dates rounded to the nearest MJD\n",
    "odatesg = np.round( SNquery[2].astype(float) )[gmsk]\n",
    "# create an array of unique night (rounded to nearest MJD)\n",
    "datesg = np.unique( odatesg )\n",
    "\n",
    "# Create an array of unique candidates\n",
    "ucandsg, ucandctsg = np.unique( candsg, return_counts=True )\n",
    "\n",
    "cut0candsg = ucandsg[np.where(ucandctsg > numdetg)[0]]\n",
    "cut0rg = [i for i in ucandsg if i not in cut0candsg]\n",
    "\n",
    "nummskg = np.isin(candsg, ucandsg, invert=False)\n",
    "candsg, objs, magsg, magerrsg, odatesg = candsg[nummskg], objs[nummskg], magsg[nummskg], magerrsg[nummskg], odatesg[nummskg]"
   ]
  },
  {
   "cell_type": "code",
   "execution_count": 10,
   "id": "4eb99245-1b73-4762-81f4-3575f3799f89",
   "metadata": {},
   "outputs": [
    {
     "name": "stderr",
     "output_type": "stream",
     "text": [
      "/tmp/ipykernel_34070/3431569689.py:2: VisibleDeprecationWarning: Creating an ndarray from ragged nested sequences (which is a list-or-tuple of lists-or-tuples-or ndarrays with different lengths or shapes) is deprecated. If you meant to do this, you must specify 'dtype=object' when creating the ndarray.\n",
      "  ucanddatesg = np.array( [odatesg[ np.where( candsg==i )[0] ] for i in cut0candsg] )\n",
      "/tmp/ipykernel_34070/3431569689.py:4: VisibleDeprecationWarning: Creating an ndarray from ragged nested sequences (which is a list-or-tuple of lists-or-tuples-or ndarrays with different lengths or shapes) is deprecated. If you meant to do this, you must specify 'dtype=object' when creating the ndarray.\n",
      "  ucandmagsg = np.array( [magsg[ np.where( candsg==i )[0] ] for i in cut0candsg] )\n",
      "/tmp/ipykernel_34070/3431569689.py:6: VisibleDeprecationWarning: Creating an ndarray from ragged nested sequences (which is a list-or-tuple of lists-or-tuples-or ndarrays with different lengths or shapes) is deprecated. If you meant to do this, you must specify 'dtype=object' when creating the ndarray.\n",
      "  ucandmagerrsg = np.array( [magerrsg[ np.where( candsg==i )[0] ] for i in cut0candsg] )\n"
     ]
    }
   ],
   "source": [
    "# Create for each unique candidate an array of the dates it was observed on and store those arrays in a larger array (ucanddatesr)\n",
    "ucanddatesg = np.array( [odatesg[ np.where( candsg==i )[0] ] for i in cut0candsg] )\n",
    "# Create for each unique candidate an array of measured magnitudes and store those arrays in a larger array (ucandmagsr)\n",
    "ucandmagsg = np.array( [magsg[ np.where( candsg==i )[0] ] for i in cut0candsg] )\n",
    "# Create for each unique candidate an array of measured magnitude error bars and store those arrays in a larger array (ucandmagerrsr)\n",
    "ucandmagerrsg = np.array( [magerrsg[ np.where( candsg==i )[0] ] for i in cut0candsg] )"
   ]
  },
  {
   "cell_type": "code",
   "execution_count": 11,
   "id": "3a18e5ee-7416-4782-b27a-b7a06219f6bf",
   "metadata": {},
   "outputs": [
    {
     "name": "stderr",
     "output_type": "stream",
     "text": [
      "/tmp/ipykernel_34070/220325912.py:2: VisibleDeprecationWarning: Creating an ndarray from ragged nested sequences (which is a list-or-tuple of lists-or-tuples-or ndarrays with different lengths or shapes) is deprecated. If you meant to do this, you must specify 'dtype=object' when creating the ndarray.\n",
      "  ucandmagsg = np.array( [i.astype(float) for i in ucandmagsg] )\n",
      "/tmp/ipykernel_34070/220325912.py:3: VisibleDeprecationWarning: Creating an ndarray from ragged nested sequences (which is a list-or-tuple of lists-or-tuples-or ndarrays with different lengths or shapes) is deprecated. If you meant to do this, you must specify 'dtype=object' when creating the ndarray.\n",
      "  ucandmagerrsg = np.array( [i.astype(float) for i in ucandmagerrsg] )\n",
      "/tmp/ipykernel_34070/220325912.py:4: VisibleDeprecationWarning: Creating an ndarray from ragged nested sequences (which is a list-or-tuple of lists-or-tuples-or ndarrays with different lengths or shapes) is deprecated. If you meant to do this, you must specify 'dtype=object' when creating the ndarray.\n",
      "  ucanddatesg = np.array( [i.astype(float) for i in ucanddatesg] )\n"
     ]
    }
   ],
   "source": [
    "# Convert those arrays (previously strings) to floats\n",
    "ucandmagsg = np.array( [i.astype(float) for i in ucandmagsg] )\n",
    "ucandmagerrsg = np.array( [i.astype(float) for i in ucandmagerrsg] )\n",
    "ucanddatesg = np.array( [i.astype(float) for i in ucanddatesg] )"
   ]
  },
  {
   "cell_type": "code",
   "execution_count": 12,
   "id": "0b7e47d6-73b7-4ccd-a320-cd0d2620ad29",
   "metadata": {},
   "outputs": [],
   "source": [
    "# Calculate how many days passed between the first and last detection \n",
    "ucandrangeg = np.array( [np.max(i) - np.min(i) for i in ucanddatesg] )"
   ]
  },
  {
   "cell_type": "code",
   "execution_count": 13,
   "id": "be98a9e1-d032-4184-b552-e2c1b7fd40e6",
   "metadata": {},
   "outputs": [],
   "source": [
    "# Make timespan cuts\n",
    "cut1g = np.where( (ucandrangeg > tspang) & (ucandrangeg < maxtspan) )[0] # eliminate candidates whose detections dont span at least tspanr days\n",
    "\n",
    "cut1candsg   =  cut0candsg[cut1g]\n",
    "cut1datesg   =  ucanddatesg[cut1g]\n",
    "cut1magsg    =  ucandmagsg[cut1g]\n",
    "cut1magerrsg =  ucandmagerrsg[cut1g]\n",
    "\n",
    "# Every candidate removed by this cut\n",
    "cut1rg = [i for i in cut0candsg if i not in cut1candsg]\n",
    "\n",
    "# Create another cut for the minimum amplitude in mag\n",
    "cut1magrangeg = np.array( [np.max(i) - np.min(i) for i in cut1magsg] )\n",
    "cut2g = np.where( cut1magrangeg > minmagg )[0]\n",
    "\n",
    "cut2candsg   =  cut1candsg[cut2g]\n",
    "cut2datesg   =  cut1datesg[cut2g]\n",
    "cut2magsg    =  cut1magsg[cut2g]\n",
    "cut2magerrsg =  cut1magerrsg[cut2g]\n",
    "\n",
    "# Every candidate removed by this cut\n",
    "cut2rg = [i for i in cut1candsg if i not in cut2candsg]\n",
    "\n",
    "\n",
    "# Create another cut for where the magerror is too high\n",
    "cut2magerrrangeg = np.array( [np.mean(i) for i in cut2magerrsg] )\n",
    "cut3g = np.where( cut2magerrrangeg < gmaxerr )[0]\n",
    "\n",
    "# And apply that cut as well\n",
    "cut3candsg   =  cut2candsg[cut3g]\n",
    "cut3datesg   =  cut2datesg[cut3g]\n",
    "cut3magsg    =  cut2magsg[cut3g]\n",
    "cut3magerrsg =  cut2magerrsg[cut3g]\n",
    "\n",
    "# Every candidate removed by this cut\n",
    "cut3rg = [i for i in cut2candsg if i not in cut3candsg]"
   ]
  },
  {
   "cell_type": "code",
   "execution_count": 14,
   "id": "bf4bbf21-464b-49d4-b753-8bf813e66c75",
   "metadata": {},
   "outputs": [],
   "source": [
    "# Create new arrays with the same dimensions as the cutdatesr, cutmagsr, and cutmagerrs arrays (those share dimensions)\n",
    "\n",
    "cut3datesg2 = copy.deepcopy( cut3datesg )\n",
    "nightg = copy.deepcopy( cut3datesg )\n",
    "nightgmag = copy.deepcopy( cut3datesg )\n",
    "nightgmagerr = copy.deepcopy( cut3datesg )\n",
    "\n",
    "for i in range( len( cut3datesg2 ) ):\n",
    "    # make an array of every night the candidate in question (candidate \"i\") was detected\n",
    "    unightg = np.unique( cut3datesg2[i] )\n",
    "    for j in range( len( unightg ) ):\n",
    "        # For each of those nights, make a mask that selects every observation that night\n",
    "        msk = np.where( cut3datesg2[i] == unightg[j] )[0]\n",
    "        # Populate the arrays we created earlier in the cell with appropriate values for the night of the observation,\n",
    "        # the average magnitude measured that night, and the error (propogated from individual errors) in that average measurement\n",
    "        # NOTE: there will be meaningless numbers at the end of each (nightr/nightrmag/nightrmagerr)[i] array, left over from\n",
    "        # when we created them by copying another array. It isn't elegant but it is accounted for later\n",
    "        nightg[i][j] = unightg[j]\n",
    "        nightgmag[i][j] = np.median( cut3magsg[i][msk] )\n",
    "        nightgmagerr[i][j] = np.sqrt( np.sum( cut3magerrsg[i][msk]**2 ) )"
   ]
  },
  {
   "cell_type": "code",
   "execution_count": 15,
   "id": "048983d3-958f-4153-86c6-1f52c746d384",
   "metadata": {},
   "outputs": [],
   "source": [
    "# Create an array of dataframes. Each dataframe represents one candidate, and each contains \"Night\", \"Mag\", and \"Magerr\" columns, \n",
    "# with each row representing one night\n",
    "dfg = [pd.DataFrame(np.array(\n",
    "    [nightg[i][:len( np.unique( nightg[i] ) )], \n",
    "     nightgmag[i][:len( np.unique( nightg[i] ) )], \n",
    "     nightgmagerr[i][:len( np.unique( nightg[i] ) )]]).transpose(),\n",
    "    columns=[\"Night\",\n",
    "            \"Mag\",\n",
    "            \"Magerr\"])\n",
    " for i in range( len( cut3candsg ) )]"
   ]
  },
  {
   "cell_type": "code",
   "execution_count": 16,
   "id": "e9e36e55-af4c-420f-a72f-58bd08414208",
   "metadata": {},
   "outputs": [],
   "source": [
    "# This cell creates a mask to eliminate variable stars from the search:\n",
    "varstarmskg = np.ones( len( dfg ), dtype=bool )\n",
    "for i in range( len( dfg ) ):\n",
    "    num = 0\n",
    "    h = 0\n",
    "    # First, make sure that the dataframes in the dfr array are each in chronological order\n",
    "    dfg[i] = dfg[i].sort_values( by=\"Night\" )\n",
    "    for j in range( len( dfg[i][\"Mag\"] ) - 1 ):\n",
    "        h += 1\n",
    "        if ( num >= 0 ) & ( num < 1 ):\n",
    "            # On the rise, the \"current\" data point must be lower than the \"next\" data point (error bars included to give maximum leeway)\n",
    "            if dfg[i][\"Mag\"][j] + errmult * dfg[i][\"Magerr\"][j] > dfg[i][\"Mag\"][j + 1] - errmult * dfg[i][\"Magerr\"][j + 1]:\n",
    "                pass\n",
    "            else:\n",
    "                # Once that condition isn't met, 'num' changes, sending us to the descending loop\n",
    "                num += 1\n",
    "        if (num >= 1) & (num < 2):\n",
    "            # On the decline, the \"current\" data point must be lower than the \"next\" data point (error bars included to give maximum leeway)\n",
    "            if dfg[i][\"Mag\"][j] - errmult * dfg[i][\"Magerr\"][j] < dfg[i][\"Mag\"][j + 1] + errmult * dfg[i][\"Magerr\"][j + 1]:\n",
    "                pass\n",
    "            else:\n",
    "                # If this fails, it means that we went up, down, and up again--not a SN, so\n",
    "                num += 1\n",
    "#         if num == 2:\n",
    "#             if dfg[i][\"Mag\"][j]+dfg[i][\"Magerr\"][j] > dfg[i][\"Mag\"][j+1]-errmult*dfg[i][\"Magerr\"][j+1]:\n",
    "#                 pass\n",
    "#             else:\n",
    "#                 num+=1\n",
    "#         if num == 3:\n",
    "#             if dfg[i][\"Mag\"][j]-dfg[i][\"Magerr\"][j] < dfg[i][\"Mag\"][j+1]+errmult*dfg[i][\"Magerr\"][j+1]:\n",
    "#                 pass\n",
    "#             else:\n",
    "#                 num+=1\n",
    "        if num == 2:# and h<10:\n",
    "            # We make a note of that in the 'varstarmskg' mask\n",
    "            varstarmskg[i] = False"
   ]
  },
  {
   "cell_type": "code",
   "execution_count": 17,
   "id": "d9a919e8-c8ad-404b-afd4-8a3434403ff9",
   "metadata": {},
   "outputs": [
    {
     "data": {
      "text/plain": [
       "69"
      ]
     },
     "execution_count": 17,
     "metadata": {},
     "output_type": "execute_result"
    }
   ],
   "source": [
    "# Number of candidates that passed all g cuts\n",
    "sum(varstarmskg.astype(int))"
   ]
  },
  {
   "cell_type": "code",
   "execution_count": 18,
   "id": "20d7da05-9f78-4ef7-a4d0-805618a586c2",
   "metadata": {
    "scrolled": true,
    "tags": []
   },
   "outputs": [],
   "source": [
    "SNg = np.array([cut3candsg[f] for f in np.array(range(len(cut3datesg)))[varstarmskg]]) # Every passed cadidate\n",
    "cut4rg = [i for i in cut3candsg if i not in SNg]\n",
    "\n",
    "# cut4candsg = np.array([cut3candsg[f] for f in np.array(range(len(cut3datesg)))[varstarmskg]]) # Every passed cadidate\n",
    "# cut4rg = [i for i in cut3candsg if i not in cut4candsg]\n",
    "\n",
    "# RBs = []\n",
    "# for i in cut4candsg:\n",
    "#     query = ('SELECT o.rb FROM objects o '\n",
    "#              'JOIN subtractions s ON s.id=o.subtraction_id '\n",
    "#              'JOIN exposures e ON e.id = s.exposure_id '\n",
    "#              'WHERE o.candidate_id = %s '\n",
    "#              'AND e.filter = %s '\n",
    "#              'LIMIT 10000 ' )\n",
    "#     cursor.execute( query, (i,'g',))\n",
    "#     medRB = np.median( np.array( cursor.fetchall() ).transpose() )\n",
    "#     RBs.extend( [medRB] )\n",
    "# RBs = np.array( RBs )\n",
    "# cut5g = np.where( RBs > 0.6 )[0]\n",
    "\n",
    "# SNg = cut4candsg[cut5g]\n",
    "# cut5rg = [i for i in cut4candsg if i not in SNg]\n",
    "\n",
    "# Plotting only those that passed through the r-band filter\n",
    "# for f in np.array( range( len( cut3datesg ) ) )[varstarmskg]:\n",
    "#     g = len( np.unique( cut3datesg[f] ) )\n",
    "#     plt.errorbar(nightg[f][:g],nightgmag[f][:g], yerr=nightgmagerr[f][:g])\n",
    "#     plt.title(cut3candsg[f] + \" (g)\")\n",
    "#     plt.ylabel(\"Magnitude\")\n",
    "#     plt.xlabel(\"MJD\")\n",
    "#     plt.gca().invert_yaxis()\n",
    "#     plt.show()"
   ]
  },
  {
   "cell_type": "code",
   "execution_count": 19,
   "id": "89d36026-8425-43a1-af6c-0cf09729e005",
   "metadata": {},
   "outputs": [
    {
     "data": {
      "text/plain": [
       "[25204, 44, 354, 0, 2152]"
      ]
     },
     "execution_count": 19,
     "metadata": {},
     "output_type": "execute_result"
    }
   ],
   "source": [
    "# Number of candidates each step eliminated\n",
    "[len(cut0rg),len(cut1rg),len(cut2rg),len(cut3rg),len(cut4rg)]"
   ]
  },
  {
   "cell_type": "markdown",
   "id": "d316b285-b339-4c4c-8b42-c11c8bf38355",
   "metadata": {
    "tags": []
   },
   "source": [
    "### r filter:"
   ]
  },
  {
   "cell_type": "code",
   "execution_count": 20,
   "id": "22d0fcb2-eeeb-4fa9-b233-df6c3ed536c8",
   "metadata": {},
   "outputs": [],
   "source": [
    "# Mask to make sure we stay in the r band detections\n",
    "rmsk = np.where( SNquery[4] == \"r\" )[0]\n",
    "rmsk = [i for i in grimsk if i in rmsk]"
   ]
  },
  {
   "cell_type": "code",
   "execution_count": 21,
   "id": "8bcb8779-e69a-4b3c-a05f-b8e8a9ad65f5",
   "metadata": {},
   "outputs": [],
   "source": [
    "# Separating out various query results and applying the r mask \n",
    "candsr, objs, magsr, magerrsr = SNquery[1][rmsk], SNquery[0].astype(float)[rmsk], SNquery[3][rmsk], SNquery[5][rmsk]\n",
    "# Create an array of the dates rounded to the nearest MJD\n",
    "odatesr = np.round( SNquery[2].astype(float) )[rmsk]\n",
    "# create an array of unique night (rounded to nearest MJD)\n",
    "datesr = np.unique( odatesr )\n",
    "\n",
    "# Create an array of unique candidates\n",
    "ucandsr, ucandctsr = np.unique( candsr, return_counts=True )\n",
    "\n",
    "cut0candsr = ucandsr[np.where(ucandctsr > numdetr)[0]]\n",
    "cut0rr = [i for i in ucandsr if i not in cut0candsr]\n",
    "\n",
    "nummskr = np.isin(candsr, ucandsr, invert=False)\n",
    "candsr, objs, magsr, magerrsr, odatesr = candsr[nummskr], objs[nummskr], magsr[nummskr], magerrsr[nummskr], odatesr[nummskr]"
   ]
  },
  {
   "cell_type": "code",
   "execution_count": 22,
   "id": "a0a87965-aa02-438e-9a29-1544ae2276b6",
   "metadata": {},
   "outputs": [
    {
     "name": "stderr",
     "output_type": "stream",
     "text": [
      "/tmp/ipykernel_34070/2696614266.py:2: VisibleDeprecationWarning: Creating an ndarray from ragged nested sequences (which is a list-or-tuple of lists-or-tuples-or ndarrays with different lengths or shapes) is deprecated. If you meant to do this, you must specify 'dtype=object' when creating the ndarray.\n",
      "  ucanddatesr = np.array( [odatesr[ np.where( candsr==i )[0] ] for i in cut0candsr] )\n",
      "/tmp/ipykernel_34070/2696614266.py:4: VisibleDeprecationWarning: Creating an ndarray from ragged nested sequences (which is a list-or-tuple of lists-or-tuples-or ndarrays with different lengths or shapes) is deprecated. If you meant to do this, you must specify 'dtype=object' when creating the ndarray.\n",
      "  ucandmagsr = np.array( [magsr[ np.where( candsr==i )[0] ] for i in cut0candsr] )\n",
      "/tmp/ipykernel_34070/2696614266.py:6: VisibleDeprecationWarning: Creating an ndarray from ragged nested sequences (which is a list-or-tuple of lists-or-tuples-or ndarrays with different lengths or shapes) is deprecated. If you meant to do this, you must specify 'dtype=object' when creating the ndarray.\n",
      "  ucandmagerrsr = np.array( [magerrsr[ np.where( candsr==i )[0] ] for i in cut0candsr] )\n"
     ]
    }
   ],
   "source": [
    "# Create for each unique candidate an array of the dates it was observed on and store those arrays in a larger array (ucanddatesr)\n",
    "ucanddatesr = np.array( [odatesr[ np.where( candsr==i )[0] ] for i in cut0candsr] )\n",
    "# Create for each unique candidate an array of measured magnitudes and store those arrays in a larger array (ucandmagsr)\n",
    "ucandmagsr = np.array( [magsr[ np.where( candsr==i )[0] ] for i in cut0candsr] )\n",
    "# Create for each unique candidate an array of measured magnitude error bars and store those arrays in a larger array (ucandmagerrsr)\n",
    "ucandmagerrsr = np.array( [magerrsr[ np.where( candsr==i )[0] ] for i in cut0candsr] )"
   ]
  },
  {
   "cell_type": "code",
   "execution_count": 23,
   "id": "51047598-7bd7-4cd1-9387-e96ca3c5bab5",
   "metadata": {},
   "outputs": [
    {
     "name": "stderr",
     "output_type": "stream",
     "text": [
      "/tmp/ipykernel_34070/2364201928.py:2: VisibleDeprecationWarning: Creating an ndarray from ragged nested sequences (which is a list-or-tuple of lists-or-tuples-or ndarrays with different lengths or shapes) is deprecated. If you meant to do this, you must specify 'dtype=object' when creating the ndarray.\n",
      "  ucandmagsr = np.array( [i.astype(float) for i in ucandmagsr] )\n",
      "/tmp/ipykernel_34070/2364201928.py:3: VisibleDeprecationWarning: Creating an ndarray from ragged nested sequences (which is a list-or-tuple of lists-or-tuples-or ndarrays with different lengths or shapes) is deprecated. If you meant to do this, you must specify 'dtype=object' when creating the ndarray.\n",
      "  ucandmagerrsr = np.array( [i.astype(float) for i in ucandmagerrsr] )\n",
      "/tmp/ipykernel_34070/2364201928.py:4: VisibleDeprecationWarning: Creating an ndarray from ragged nested sequences (which is a list-or-tuple of lists-or-tuples-or ndarrays with different lengths or shapes) is deprecated. If you meant to do this, you must specify 'dtype=object' when creating the ndarray.\n",
      "  ucanddatesr = np.array( [i.astype(float) for i in ucanddatesr] )\n"
     ]
    }
   ],
   "source": [
    "# Convert those arrays (previously strings) to floats\n",
    "ucandmagsr = np.array( [i.astype(float) for i in ucandmagsr] )\n",
    "ucandmagerrsr = np.array( [i.astype(float) for i in ucandmagerrsr] )\n",
    "ucanddatesr = np.array( [i.astype(float) for i in ucanddatesr] )"
   ]
  },
  {
   "cell_type": "code",
   "execution_count": 24,
   "id": "72564594-7899-433e-85c4-eb2c052734a2",
   "metadata": {},
   "outputs": [],
   "source": [
    "# Calculate how many days passed between the first and last detection \n",
    "ucandranger = np.array( [np.max(i) - np.min(i) for i in ucanddatesr] )"
   ]
  },
  {
   "cell_type": "code",
   "execution_count": 25,
   "id": "797ab093-22e7-478f-ace1-40ef34d2d202",
   "metadata": {},
   "outputs": [],
   "source": [
    "# Make timespan cuts\n",
    "cut1r = np.where( ( ucandranger > tspanr ) & ( ucandranger < maxtspan ) )[0] # eliminate candidates whose detections dont span at least tspanr days\n",
    "\n",
    "cut1candsr   =  cut0candsr[cut1r]\n",
    "cut1datesr   =  ucanddatesr[cut1r]\n",
    "cut1magsr    =  ucandmagsr[cut1r]\n",
    "cut1magerrsr =  ucandmagerrsr[cut1r]\n",
    "\n",
    "# Every candidate removed by this cut\n",
    "cut1rr = [i for i in cut0candsr if i not in cut1candsr]\n",
    "\n",
    "\n",
    "# Create another cut for the minimum amplitude in mag\n",
    "cut1magranger = np.array( [np.max(i) - np.min(i) for i in cut1magsr] )\n",
    "cut2r = np.where( cut1magranger > minmagr )[0]\n",
    "\n",
    "cut2candsr   =  cut1candsr[cut2r]\n",
    "cut2datesr   =  cut1datesr[cut2r]\n",
    "cut2magsr    =  cut1magsr[cut2r]\n",
    "cut2magerrsr =  cut1magerrsr[cut2r]\n",
    "\n",
    "# Every candidate removed by this cut\n",
    "cut2rr = [i for i in cut1candsr if i not in cut2candsr]\n",
    "\n",
    "\n",
    "# Create another cut for where the magerror is too high\n",
    "cut2magerrranger = np.array( [np.mean(i) for i in cut2magerrsr] )\n",
    "cut3r = np.where( cut2magerrranger < rmaxerr )[0]\n",
    "\n",
    "# And apply that cut as well\n",
    "cut3candsr   =  cut2candsr[cut3r]\n",
    "cut3datesr   =  cut2datesr[cut3r]\n",
    "cut3magsr    =  cut2magsr[cut3r]\n",
    "cut3magerrsr =  cut2magerrsr[cut3r]\n",
    "\n",
    "# Every candidate removed by this cut\n",
    "cut3rr = [i for i in cut2candsr if i not in cut3candsr]"
   ]
  },
  {
   "cell_type": "code",
   "execution_count": 26,
   "id": "5442a041-98ca-4b8b-93f6-98a3f8fc0493",
   "metadata": {},
   "outputs": [],
   "source": [
    "# Create new arrays with the same dimensions as the cutdatesr, cutmagsr, and cutmagerrs arrays (those share dimensions)\n",
    "\n",
    "cut3datesr2 = copy.deepcopy( cut3datesr )\n",
    "nightr = copy.deepcopy( cut3datesr )\n",
    "nightrmag = copy.deepcopy( cut3datesr )\n",
    "nightrmagerr = copy.deepcopy( cut3datesr )\n",
    "\n",
    "for i in range( len( cut3datesr2 ) ):\n",
    "    # make an array of every night the candidate in question (candidate \"i\") was detected\n",
    "    unightr = np.unique( cut3datesr2[i] )\n",
    "    for j in range( len( unightr ) ):\n",
    "        # For each of those nights, make a mask that selects every observation that night\n",
    "        msk = np.where( cut3datesr2[i] == unightr[j] )[0]\n",
    "        # Populate the arrays we created earlier in the cell with appropriate values for the night of the observation,\n",
    "        # the average magnitude measured that night, and the error (propogated from individual errors) in that average measurement\n",
    "        # NOTE: there will be meaningless numbers at the end of each (nightr/nightrmag/nightrmagerr)[i] array, left over from\n",
    "        # when we created them by copying another array. It isn't elegant but it is accounted for later\n",
    "        nightr[i][j] = unightr[j]\n",
    "        nightrmag[i][j] = np.median( cut3magsr[i][msk] )\n",
    "        nightrmagerr[i][j] = np.sqrt( np.sum( cut3magerrsr[i][msk]**2 ) )"
   ]
  },
  {
   "cell_type": "code",
   "execution_count": 27,
   "id": "55488936-b08a-4531-aa61-10a3f2fcf028",
   "metadata": {},
   "outputs": [],
   "source": [
    "# Create an array of dataframes. Each dataframe represents one candidate, and each contains \"Night\", \"Mag\", and \"Magerr\" columns, \n",
    "# with each row representing one night\n",
    "dfr = [pd.DataFrame(np.array(\n",
    "    [nightr[i][:len( np.unique( nightr[i] ) )], \n",
    "     nightrmag[i][:len( np.unique( nightr[i] ) )], \n",
    "     nightrmagerr[i][:len( np.unique( nightr[i] ) )]]).transpose(),\n",
    "    columns=[\"Night\",\n",
    "            \"Mag\",\n",
    "            \"Magerr\"])\n",
    " for i in range( len( cut3candsr ) )]"
   ]
  },
  {
   "cell_type": "code",
   "execution_count": 28,
   "id": "c056e816-92ce-4fb7-9531-15149db23a16",
   "metadata": {},
   "outputs": [],
   "source": [
    "# This cell creates a mask to eliminate variable stars from the search:\n",
    "varstarmskr = np.ones( len( dfr ), dtype=bool )\n",
    "for i in range( len( dfr ) ):\n",
    "    num = 0\n",
    "    h = 0\n",
    "    # First, make sure that the dataframes in the dfr array are each in chronological order\n",
    "    dfr[i] = dfr[i].sort_values( by=\"Night\" )\n",
    "    for j in range( len( dfr[i][\"Mag\"] ) - 1 ):\n",
    "        h += 1\n",
    "        if ( num >= 0 ) & ( num < 1 ):\n",
    "            # On the rise, the \"current\" data point must be lower than the \"next\" data point (error bars included to give maximum leeway)\n",
    "            if dfr[i][\"Mag\"][j] + errmult * dfr[i][\"Magerr\"][j] > dfr[i][\"Mag\"][j + 1] - errmult * dfr[i][\"Magerr\"][j + 1]:\n",
    "                pass\n",
    "            else:\n",
    "                # Once that condition isn't met, 'num' changes, sending us to the descending loop\n",
    "                num += 1\n",
    "        if (num >= 1) & (num < 2):\n",
    "            # On the decline, the \"current\" data point must be lower than the \"next\" data point (error bars included to give maximum leeway)\n",
    "            if dfr[i][\"Mag\"][j] - errmult * dfr[i][\"Magerr\"][j] < dfr[i][\"Mag\"][j + 1] + errmult * dfr[i][\"Magerr\"][j + 1]:\n",
    "                pass\n",
    "            else:\n",
    "                # If this fails, it means that we went up, down, and up again--not a SN, so\n",
    "                num += 1\n",
    "#         if num == 2:\n",
    "#             if dfr[i][\"Mag\"][j]+dfr[i][\"Magerr\"][j] > dfr[i][\"Mag\"][j+1]-errmult*dfr[i][\"Magerr\"][j+1]:\n",
    "#                 pass\n",
    "#             else:\n",
    "#                 num+=1\n",
    "#         if num == 3:\n",
    "#             if dfr[i][\"Mag\"][j]-dfr[i][\"Magerr\"][j] < dfr[i][\"Mag\"][j+1]+errmult*dfr[i][\"Magerr\"][j+1]:\n",
    "#                 pass\n",
    "#             else:\n",
    "#                 num+=1\n",
    "        if num == 2:# and h<10:\n",
    "            # We make a note of that in the 'varstarmskr' mask\n",
    "            varstarmskr[i] = False"
   ]
  },
  {
   "cell_type": "code",
   "execution_count": 29,
   "id": "0d43b0ff-7db5-4028-98ce-dacc04eb9c6d",
   "metadata": {},
   "outputs": [
    {
     "data": {
      "text/plain": [
       "85"
      ]
     },
     "execution_count": 29,
     "metadata": {},
     "output_type": "execute_result"
    }
   ],
   "source": [
    "# Number of candidates that passed all r cuts\n",
    "sum(varstarmskr.astype(int))"
   ]
  },
  {
   "cell_type": "code",
   "execution_count": 30,
   "id": "979decd8-58f6-4af6-a4fb-7f46bb28d028",
   "metadata": {
    "scrolled": true,
    "tags": []
   },
   "outputs": [],
   "source": [
    "SNr = np.array([cut3candsr[f] for f in np.array(range(len(cut3datesr)))[varstarmskr]]) # Every passed cadidate\n",
    "cut4rr = [i for i in cut3candsr if i not in SNr]\n",
    "\n",
    "# cut4candsr = np.array([cut3candsr[f] for f in np.array(range(len(cut3datesr)))[varstarmskr]]) # Every passed candidate\n",
    "# cut4rr = [i for i in cut3candsr if i not in cut4candsr]\n",
    "\n",
    "# RBs = []\n",
    "# for i in cut4candsr:\n",
    "#     query = ('SELECT o.rb FROM objects o '\n",
    "#              'JOIN subtractions s ON s.id=o.subtraction_id '\n",
    "#              'JOIN exposures e ON e.id = s.exposure_id '\n",
    "#              'WHERE o.candidate_id = %s '\n",
    "#              'AND e.filter = %s '\n",
    "#              'LIMIT 10000 ' )\n",
    "#     cursor.execute( query, (i,'r',))\n",
    "#     medRB = np.median( np.array( cursor.fetchall() ).transpose() )\n",
    "#     RBs.extend( [medRB] )\n",
    "# RBs = np.array( RBs )\n",
    "# cut5r = np.where( RBs > 0.6 )[0]\n",
    "\n",
    "# SNr = cut4candsr[cut5r]\n",
    "# cut5rr = [i for i in cut4candsr if i not in SNr]\n",
    "\n",
    "# Plotting only those that passed through the r-band filter\n",
    "# for f in np.array( range( len( cut3datesr ) ) )[varstarmskr]:\n",
    "#     g = len( np.unique( cut3datesr[f] ) )\n",
    "#     plt.errorbar(nightr[f][:g],nightrmag[f][:g], yerr=nightrmagerr[f][:g])\n",
    "#     plt.title(cut3candsr[f] + \" (r)\")\n",
    "#     plt.ylabel(\"Magnitude\")\n",
    "#     plt.xlabel(\"MJD\")\n",
    "#     plt.gca().invert_yaxis()\n",
    "#     plt.show()"
   ]
  },
  {
   "cell_type": "code",
   "execution_count": 31,
   "id": "521a4654-eced-46ff-82f1-f5cd9f04c912",
   "metadata": {},
   "outputs": [
    {
     "data": {
      "text/plain": [
       "[36998, 63, 526, 0, 3769]"
      ]
     },
     "execution_count": 31,
     "metadata": {},
     "output_type": "execute_result"
    }
   ],
   "source": [
    "# Number of candidates each step eliminated\n",
    "[len(cut0rr),len(cut1rr),len(cut2rr),len(cut3rr),len(cut4rr)]"
   ]
  },
  {
   "cell_type": "markdown",
   "id": "8e8febea-a713-4563-a023-6b3568e08b11",
   "metadata": {
    "tags": []
   },
   "source": [
    "### i filter:"
   ]
  },
  {
   "cell_type": "code",
   "execution_count": 32,
   "id": "9cbf0769-6fa4-4ddb-991e-d24c8e0e8ddc",
   "metadata": {},
   "outputs": [],
   "source": [
    "# Mask to make sure we stay in the r band detections\n",
    "imsk = np.where( SNquery[4] == \"i\" )[0]\n",
    "imsk = [i for i in grimsk if i in imsk]"
   ]
  },
  {
   "cell_type": "code",
   "execution_count": 33,
   "id": "34dffb4c-10f9-43ab-8555-238aea18004b",
   "metadata": {},
   "outputs": [],
   "source": [
    "# Separating out various query results and applying the r mask \n",
    "candsi, objs, magsi, magerrsi = SNquery[1][imsk], SNquery[0].astype(float)[imsk], SNquery[3][imsk], SNquery[5][imsk]\n",
    "# Create an array of the dates rounded to the nearest MJD\n",
    "odatesi = np.round( SNquery[2].astype(float) )[imsk]\n",
    "# create an array of unique night (rounded to nearest MJD)\n",
    "datesi = np.unique( odatesi )\n",
    "\n",
    "# Create an array of unique candidates\n",
    "ucandsi, ucandctsi = np.unique( candsi, return_counts=True )\n",
    "\n",
    "cut0candsi = ucandsi[np.where(ucandctsi > numdetg)[0]]\n",
    "cut0ri = [i for i in ucandsi if i not in cut0candsi]\n",
    "\n",
    "nummski = np.isin(candsi, ucandsi, invert=False)\n",
    "candsi, objs, magsi, magerrsi, odatesi = candsi[nummski], objs[nummski], magsi[nummski], magerrsi[nummski], odatesi[nummski]"
   ]
  },
  {
   "cell_type": "code",
   "execution_count": 34,
   "id": "16fcf912-b130-4bee-863a-5657a615f699",
   "metadata": {},
   "outputs": [
    {
     "name": "stderr",
     "output_type": "stream",
     "text": [
      "/tmp/ipykernel_34070/431968677.py:2: VisibleDeprecationWarning: Creating an ndarray from ragged nested sequences (which is a list-or-tuple of lists-or-tuples-or ndarrays with different lengths or shapes) is deprecated. If you meant to do this, you must specify 'dtype=object' when creating the ndarray.\n",
      "  ucanddatesi = np.array( [odatesi[ np.where( candsi==i )[0] ] for i in cut0candsi] )\n",
      "/tmp/ipykernel_34070/431968677.py:4: VisibleDeprecationWarning: Creating an ndarray from ragged nested sequences (which is a list-or-tuple of lists-or-tuples-or ndarrays with different lengths or shapes) is deprecated. If you meant to do this, you must specify 'dtype=object' when creating the ndarray.\n",
      "  ucandmagsi = np.array( [magsi[ np.where( candsi==i )[0] ] for i in cut0candsi] )\n",
      "/tmp/ipykernel_34070/431968677.py:6: VisibleDeprecationWarning: Creating an ndarray from ragged nested sequences (which is a list-or-tuple of lists-or-tuples-or ndarrays with different lengths or shapes) is deprecated. If you meant to do this, you must specify 'dtype=object' when creating the ndarray.\n",
      "  ucandmagerrsi = np.array( [magerrsi[ np.where( candsi==i )[0] ] for i in cut0candsi] )\n"
     ]
    }
   ],
   "source": [
    "# Create for each unique candidate an array of the dates it was observed on and store those arrays in a larger array (ucanddatesr)\n",
    "ucanddatesi = np.array( [odatesi[ np.where( candsi==i )[0] ] for i in cut0candsi] )\n",
    "# Create for each unique candidate an array of measured magnitudes and store those arrays in a larger array (ucandmagsr)\n",
    "ucandmagsi = np.array( [magsi[ np.where( candsi==i )[0] ] for i in cut0candsi] )\n",
    "# Create for each unique candidate an array of measured magnitude error bars and store those arrays in a larger array (ucandmagerrsr)\n",
    "ucandmagerrsi = np.array( [magerrsi[ np.where( candsi==i )[0] ] for i in cut0candsi] )"
   ]
  },
  {
   "cell_type": "code",
   "execution_count": 35,
   "id": "e93c74b9-7adc-4b39-a1ce-0960a4b9c43d",
   "metadata": {},
   "outputs": [
    {
     "name": "stderr",
     "output_type": "stream",
     "text": [
      "/tmp/ipykernel_34070/2875944682.py:2: VisibleDeprecationWarning: Creating an ndarray from ragged nested sequences (which is a list-or-tuple of lists-or-tuples-or ndarrays with different lengths or shapes) is deprecated. If you meant to do this, you must specify 'dtype=object' when creating the ndarray.\n",
      "  ucandmagsi = np.array( [i.astype(float) for i in ucandmagsi] )\n",
      "/tmp/ipykernel_34070/2875944682.py:3: VisibleDeprecationWarning: Creating an ndarray from ragged nested sequences (which is a list-or-tuple of lists-or-tuples-or ndarrays with different lengths or shapes) is deprecated. If you meant to do this, you must specify 'dtype=object' when creating the ndarray.\n",
      "  ucandmagerrsi = np.array( [i.astype(float) for i in ucandmagerrsi] )\n",
      "/tmp/ipykernel_34070/2875944682.py:4: VisibleDeprecationWarning: Creating an ndarray from ragged nested sequences (which is a list-or-tuple of lists-or-tuples-or ndarrays with different lengths or shapes) is deprecated. If you meant to do this, you must specify 'dtype=object' when creating the ndarray.\n",
      "  ucanddatesi = np.array( [i.astype(float) for i in ucanddatesi] )\n"
     ]
    }
   ],
   "source": [
    "# Convert those arrays (previously strings) to floats\n",
    "ucandmagsi = np.array( [i.astype(float) for i in ucandmagsi] )\n",
    "ucandmagerrsi = np.array( [i.astype(float) for i in ucandmagerrsi] )\n",
    "ucanddatesi = np.array( [i.astype(float) for i in ucanddatesi] )"
   ]
  },
  {
   "cell_type": "code",
   "execution_count": 36,
   "id": "022938fb-46fd-42bf-8ca1-a0163434ee41",
   "metadata": {},
   "outputs": [],
   "source": [
    "# Calculate how many days passed between the first and last detection \n",
    "ucandrangei = np.array( [np.max(i) - np.min(i) for i in ucanddatesi] )"
   ]
  },
  {
   "cell_type": "code",
   "execution_count": 37,
   "id": "4907fe6e-c4f2-4719-9a66-fa6378d731bd",
   "metadata": {},
   "outputs": [],
   "source": [
    "# Make timespan cuts\n",
    "cut1i = np.where( ( ucandrangei > tspang ) & (ucandrangei < maxtspan) )[0] # eliminate candidates whose detections dont span at least tspanr days\n",
    "\n",
    "cut1candsi   =  cut0candsi[cut1i]\n",
    "cut1datesi   =  ucanddatesi[cut1i]\n",
    "cut1magsi    =  ucandmagsi[cut1i]\n",
    "cut1magerrsi =  ucandmagerrsi[cut1i]\n",
    "\n",
    "# Every candidate removed by this cut\n",
    "cut1ri = [i for i in cut0candsi if i not in cut1candsi]\n",
    "\n",
    "# Create another cut for the minimum amplitude in mag\n",
    "cut1magrangei = np.array( [np.max(i) - np.min(i) for i in cut1magsi] )\n",
    "cut2i = np.where( cut1magrangei > minmagi )[0]\n",
    "\n",
    "cut2candsi   =  cut1candsi[cut2i]\n",
    "cut2datesi   =  cut1datesi[cut2i]\n",
    "cut2magsi    =  cut1magsi[cut2i]\n",
    "cut2magerrsi =  cut1magerrsi[cut2i]\n",
    "\n",
    "# Every candidate removed by this cut\n",
    "cut2ri = [i for i in cut1candsi if i not in cut2candsi]\n",
    "\n",
    "\n",
    "# Create another cut for where the magerror is too high\n",
    "cut2magerrrangei = np.array( [np.mean(i) for i in cut2magerrsi] )\n",
    "cut3i = np.where( cut2magerrrangei < imaxerr )[0]\n",
    "\n",
    "# And apply that cut as well\n",
    "cut3candsi   =  cut2candsi[cut3i]\n",
    "cut3datesi   =  cut2datesi[cut3i]\n",
    "cut3magsi    =  cut2magsi[cut3i]\n",
    "cut3magerrsi =  cut2magerrsi[cut3i]\n",
    "\n",
    "# Every candidate removed by this cut\n",
    "cut3ri = [i for i in cut2candsi if i not in cut3candsi]"
   ]
  },
  {
   "cell_type": "code",
   "execution_count": 38,
   "id": "3865c705-6bed-437a-b26e-191b2ef8f02e",
   "metadata": {},
   "outputs": [],
   "source": [
    "# Create new arrays with the same dimensions as the cutdatesr, cutmagsr, and cutmagerrs arrays (those share dimensions)\n",
    "\n",
    "cut3datesi2 = copy.deepcopy( cut3datesi )\n",
    "nighti = copy.deepcopy( cut3datesi )\n",
    "nightimag = copy.deepcopy( cut3datesi )\n",
    "nightimagerr = copy.deepcopy( cut3datesi )\n",
    "\n",
    "for i in range( len( cut3datesi2 ) ):\n",
    "    # make an array of every night the candidate in question (candidate \"i\") was detected\n",
    "    unighti = np.unique( cut3datesi2[i] )\n",
    "    for j in range( len( unighti ) ):\n",
    "        # For each of those nights, make a mask that selects every observation that night\n",
    "        msk = np.where( cut3datesi2[i] == unighti[j] )[0]\n",
    "        # Populate the arrays we created earlier in the cell with appropriate values for the night of the observation,\n",
    "        # the average magnitude measured that night, and the error (propogated from individual errors) in that average measurement\n",
    "        # NOTE: there will be meaningless numbers at the end of each (nightr/nightrmag/nightrmagerr)[i] array, left over from\n",
    "        # when we created them by copying another array. It isn't elegant but it is accounted for later\n",
    "        nighti[i][j] = unighti[j]\n",
    "        nightimag[i][j] = np.median( cut3magsi[i][msk] )\n",
    "        nightimagerr[i][j] = np.sqrt( np.sum( cut3magerrsi[i][msk]**2 ) )"
   ]
  },
  {
   "cell_type": "code",
   "execution_count": 39,
   "id": "95ded2af-fc05-463c-bee3-cc63bdbd6e5d",
   "metadata": {},
   "outputs": [],
   "source": [
    "# Create an array of dataframes. Each dataframe represents one candidate, and each contains \"Night\", \"Mag\", and \"Magerr\" columns, \n",
    "# with each row representing one night\n",
    "dfi = [pd.DataFrame(np.array(\n",
    "    [nighti[i][:len( np.unique( nighti[i] ) )], \n",
    "     nightimag[i][:len( np.unique( nighti[i] ) )], \n",
    "     nightimagerr[i][:len( np.unique( nighti[i] ) )]]).transpose(),\n",
    "    columns=[\"Night\",\n",
    "            \"Mag\",\n",
    "            \"Magerr\"])\n",
    " for i in range( len( cut3candsi ) )]"
   ]
  },
  {
   "cell_type": "code",
   "execution_count": 40,
   "id": "939530d2-344d-4ca3-a143-b8f68fcd43d5",
   "metadata": {},
   "outputs": [],
   "source": [
    "# This cell creates a mask to eliminate variable stars from the search:\n",
    "varstarmski = np.ones( len( dfi ), dtype=bool )\n",
    "for i in range( len( dfi ) ):\n",
    "    num = 0\n",
    "    h = 0\n",
    "    # First, make sure that the dataframes in the dfr array are each in chronological order\n",
    "    dfi[i] = dfi[i].sort_values( by=\"Night\" )\n",
    "    for j in range( len( dfi[i][\"Mag\"] ) - 1 ):\n",
    "        h += 1\n",
    "        if ( num >= 0 ) & ( num < 1 ):\n",
    "            # On the rise, the \"current\" data point must be lower than the \"next\" data point (error bars included to give maximum leeway)\n",
    "            if dfi[i][\"Mag\"][j] + errmult * dfi[i][\"Magerr\"][j] > dfi[i][\"Mag\"][j + 1] - errmult * dfi[i][\"Magerr\"][j + 1]:\n",
    "                pass\n",
    "            else:\n",
    "                # Once that condition isn't met, 'num' changes, sending us to the descending loop\n",
    "                num += 1\n",
    "        if (num >= 1) & (num < 2):\n",
    "            # On the decline, the \"current\" data point must be lower than the \"next\" data point (error bars included to give maximum leeway)\n",
    "            if dfi[i][\"Mag\"][j] - errmult * dfi[i][\"Magerr\"][j] < dfi[i][\"Mag\"][j + 1] + errmult * dfi[i][\"Magerr\"][j + 1]:\n",
    "                pass\n",
    "            else:\n",
    "                # If this fails, it means that we went up, down, and up again--not a SN, so\n",
    "                num += 1\n",
    "#         if num == 2:\n",
    "#             if dfi[i][\"Mag\"][j]+dfi[i][\"Magerr\"][j] > dfi[i][\"Mag\"][j+1]-errmult*dfi[i][\"Magerr\"][j+1]:\n",
    "#                 pass\n",
    "#             else:\n",
    "#                 num+=1\n",
    "#         if num == 3:\n",
    "#             if dfi[i][\"Mag\"][j]-dfi[i][\"Magerr\"][j] < dfi[i][\"Mag\"][j+1]+errmult*dfi[i][\"Magerr\"][j+1]:\n",
    "#                 pass\n",
    "#             else:\n",
    "#                 num+=1\n",
    "        if num == 2:# and h<10:\n",
    "            # We make a note of that in the 'varstarmski' mask\n",
    "            varstarmski[i] = False"
   ]
  },
  {
   "cell_type": "code",
   "execution_count": 41,
   "id": "c9357a28-7302-4849-8a3f-96f3674ed7e2",
   "metadata": {},
   "outputs": [
    {
     "data": {
      "text/plain": [
       "74"
      ]
     },
     "execution_count": 41,
     "metadata": {},
     "output_type": "execute_result"
    }
   ],
   "source": [
    "# Number of candidates that passed all i cuts\n",
    "sum(varstarmski.astype(int))"
   ]
  },
  {
   "cell_type": "code",
   "execution_count": 42,
   "id": "a3b816d9-76f2-4d20-8fbd-ac6b72bb686f",
   "metadata": {
    "scrolled": true,
    "tags": []
   },
   "outputs": [],
   "source": [
    "SNi = np.array([cut3candsi[f] for f in np.array(range(len(cut3datesi)))[varstarmski]]) # Every passed cadidate\n",
    "cut4ri = [i for i in cut3candsi if i not in SNi]\n",
    "\n",
    "# cut4candsi = np.array([cut3candsi[f] for f in np.array(range(len(cut3datesi)))[varstarmski]]) # Every passed candidate\n",
    "# cut4ri = [i for i in cut3candsi if i not in cut4candsi]\n",
    "\n",
    "# RBs = []\n",
    "# for i in cut4candsi:\n",
    "#     query = ('SELECT o.rb FROM objects o '\n",
    "#              'JOIN subtractions s ON s.id=o.subtraction_id '\n",
    "#              'JOIN exposures e ON e.id = s.exposure_id '\n",
    "#              'WHERE o.candidate_id = %s '\n",
    "#              'AND e.filter = %s '\n",
    "#              'LIMIT 10000 ' )\n",
    "#     cursor.execute( query, (i,'i',))\n",
    "#     medRB = np.median( np.array( cursor.fetchall() ).transpose() )\n",
    "#     RBs.extend( [medRB] )\n",
    "# RBs = np.array( RBs )\n",
    "# cut5i = np.where( RBs > 0.6 )[0]\n",
    "\n",
    "# SNi = cut4candsi[cut5i]\n",
    "# cut5ri = [i for i in cut4candsi if i not in SNi]\n",
    "\n",
    "\n",
    "# Plotting only those that passed through the r-band filter\n",
    "# for f in np.array( range( len( cut3datesi ) ) )[varstarmski]:\n",
    "#     g = len( np.unique( cut3datesi[f] ) )\n",
    "#     plt.errorbar(nighti[f][:g],nightimag[f][:g], yerr=nightimagerr[f][:g])\n",
    "#     plt.title(cut3candsi[f] + \" (g)\")\n",
    "#     plt.ylabel(\"Magnitude\")\n",
    "#     plt.xlabel(\"MJD\")\n",
    "#     plt.gca().invert_yaxis()\n",
    "#     plt.show()"
   ]
  },
  {
   "cell_type": "code",
   "execution_count": 43,
   "id": "d7569307-335a-419f-b0cc-d8ad3a0c3a27",
   "metadata": {},
   "outputs": [
    {
     "name": "stdout",
     "output_type": "stream",
     "text": [
      "g\n",
      "[25204, 44, 354, 0, 2152, 69]\n",
      "2619\n",
      "2575\n",
      "2221\n",
      "2221\n",
      "69\n",
      "\n",
      "r\n",
      "[36998, 63, 526, 0, 3769, 85]\n",
      "4443\n",
      "4380\n",
      "3854\n",
      "3854\n",
      "85\n",
      "\n",
      "i\n",
      "[25622, 21, 245, 0, 277, 74]\n",
      "617\n",
      "596\n",
      "351\n",
      "351\n",
      "74\n"
     ]
    }
   ],
   "source": [
    "# Number of candidates in each step of the process\n",
    "\n",
    "print(\"g\")\n",
    "print([len(cut0rg),len(cut1rg),len(cut2rg),len(cut3rg),len(cut4rg), len(SNg)])\n",
    "print(sum([len(cut1rg),len(cut2rg),len(cut3rg),len(cut4rg), len(SNg)]))\n",
    "print(sum([len(cut2rg),len(cut3rg),len(cut4rg), len(SNg)]))\n",
    "print(sum([len(cut3rg),len(cut4rg), len(SNg)]))\n",
    "print(sum([len(cut4rg), len(SNg)]))\n",
    "print(sum([len(SNg)]))\n",
    "\n",
    "print(\"\")\n",
    "print(\"r\")\n",
    "print([len(cut0rr),len(cut1rr),len(cut2rr),len(cut3rr),len(cut4rr), len(SNr)])\n",
    "print(sum([len(cut1rr),len(cut2rr),len(cut3rr),len(cut4rr), len(SNr)]))\n",
    "print(sum([len(cut2rr),len(cut3rr),len(cut4rr), len(SNr)]))\n",
    "print(sum([len(cut3rr),len(cut4rr), len(SNr)]))\n",
    "print(sum([len(cut4rr), len(SNr)]))\n",
    "print(sum([len(SNr)]))\n",
    "\n",
    "print(\"\")\n",
    "print(\"i\")\n",
    "print([len(cut0ri),len(cut1ri),len(cut2ri),len(cut3ri),len(cut4ri), len(SNi)])\n",
    "print(sum([len(cut1ri),len(cut2ri),len(cut3ri),len(cut4ri), len(SNi)]))\n",
    "print(sum([len(cut2ri),len(cut3ri),len(cut4ri), len(SNi)]))\n",
    "print(sum([len(cut3ri),len(cut4ri), len(SNi)]))\n",
    "print(sum([len(cut4ri), len(SNi)]))\n",
    "print(sum([len(SNi)]))"
   ]
  },
  {
   "cell_type": "markdown",
   "id": "943e9258-72f8-4380-91d9-9db08a7537bd",
   "metadata": {},
   "source": [
    "### Putting them together"
   ]
  },
  {
   "cell_type": "code",
   "execution_count": 44,
   "id": "efaaf714-22d1-41e2-bf1e-9ea2fd384541",
   "metadata": {},
   "outputs": [],
   "source": [
    "# Create lists of the candidates that passed any test\n",
    "SNany = np.unique(np.concatenate([SNg,SNr,SNi]).flat)\n",
    "\n",
    "# Select the ones detected in at least two filters\n",
    "SNgr = [i for i in SNr if i in SNg]\n",
    "SNri = [i for i in SNr if i in SNi]\n",
    "SNgi = [i for i in SNg if i in SNi]\n",
    "SNgri = np.unique(np.concatenate([SNgr,SNri,SNgi]).flat)\n",
    "\n",
    "# And those found in all three\n",
    "SNgold = [i for i in SNgr if i in SNi] # Golden sample"
   ]
  },
  {
   "cell_type": "code",
   "execution_count": 45,
   "id": "ad928172-5986-4ab8-b82e-da782e5f923e",
   "metadata": {},
   "outputs": [
    {
     "name": "stdout",
     "output_type": "stream",
     "text": [
      "6 26 158\n"
     ]
    }
   ],
   "source": [
    "print(len(SNgold), len(SNgri)-len(SNgold), len(SNany) - len(SNgri))"
   ]
  },
  {
   "cell_type": "markdown",
   "id": "38576881-4822-447c-8d2c-a08348a127c4",
   "metadata": {
    "tags": []
   },
   "source": [
    "### A closer look at these SNe"
   ]
  },
  {
   "cell_type": "code",
   "execution_count": 46,
   "id": "1ebbd6f5-45f9-488d-b43d-63b0a84ee639",
   "metadata": {
    "tags": []
   },
   "outputs": [
    {
     "data": {
      "image/png": "[encoded data removed]",
      "text/plain": [
       "<Figure size 576x360 with 1 Axes>"
      ]
     },
     "metadata": {
      "needs_background": "light"
     },
     "output_type": "display_data"
    },
    {
     "data": {
      "image/png": "[encoded data removed]",
      "text/plain": [
       "<Figure size 576x360 with 1 Axes>"
      ]
     },
     "metadata": {
      "needs_background": "light"
     },
     "output_type": "display_data"
    },
    {
     "data": {
      "image/png": "[encoded data removed]",
      "text/plain": [
       "<Figure size 576x360 with 1 Axes>"
      ]
     },
     "metadata": {
      "needs_background": "light"
     },
     "output_type": "display_data"
    },
    {
     "data": {
      "image/png": "[encoded data removed]",
      "text/plain": [
       "<Figure size 576x360 with 1 Axes>"
      ]
     },
     "metadata": {
      "needs_background": "light"
     },
     "output_type": "display_data"
    },
    {
     "data": {
      "image/png": "[encoded data removed]",
      "text/plain": [
       "<Figure size 576x360 with 1 Axes>"
      ]
     },
     "metadata": {
      "needs_background": "light"
     },
     "output_type": "display_data"
    },
    {
     "data": {
      "image/png": "[encoded data removed]",
      "text/plain": [
       "<Figure size 576x360 with 1 Axes>"
      ]
     },
     "metadata": {
      "needs_background": "light"
     },
     "output_type": "display_data"
    }
   ],
   "source": [
    "all_fshapes = ['o','s','*']\n",
    "all_fsizes  = [5, 5, 7]\n",
    "# Plotting lightcurves for each potential SN\n",
    "\n",
    "for i in SNgold: # Passed in all 3\n",
    "# for i in SNgri: # Passed in at least 2\n",
    "# for i in [i for i in SNgri if i not in SNgold]: # Passed in only 2\n",
    "# for i in SNany: # Passed in at least 1\n",
    "# for i in [i for i in SNany if i not in SNgri]: # Passed in only 1\n",
    "    try:\n",
    "        plt.figure(figsize=(8,5))\n",
    "        mjds, mags, magerrs, field = plotlc(i, cursor, show_plot=False, return_field=True, rbcut = 0.4)\n",
    "        if field == \"COSMOS\": c = [\"darkgreen\",\"red\",\"brown\"]\n",
    "        elif field == \"ELAIS\": c = [\"limegreen\",\"darkorange\",\"peru\"]\n",
    "        for f in [0,1,2]:\n",
    "            plt.errorbar(mjds[f],mags[f],yerr=magerrs[f], color=c[f],fmt=all_fshapes[f], ms=all_fsizes[f], alpha=0.5, mew=0)\n",
    "    except:\n",
    "        pass\n",
    "# #     plt.scatter((array[1][gmsk]).astype(float), (array[2][gmsk]).astype(float), color=c[0], label='g')\n",
    "# #     plt.scatter((array[1][rmsk]).astype(float), (array[2][rmsk]).astype(float), color=c[1], label='r')\n",
    "# #     plt.scatter((array[1][imsk]).astype(float), (array[2][imsk]).astype(float), color=c[2], label='i')\n",
    "#     for i in range(len(gmsk)):\n",
    "#         plt.scatter((array[1][gmsk][i]).astype(float), (array[2][gmsk][i]).astype(float), color=c[0],)# alpha=array[4][gmsk][i])\n",
    "#     for i in range(len(rmsk)):\n",
    "#         plt.scatter((array[1][rmsk][i]).astype(float), (array[2][rmsk][i]).astype(float), color=c[1],)# alpha=array[4][rmsk][i])\n",
    "#     for i in range(len(imsk)):\n",
    "#         plt.scatter((array[1][imsk][i]).astype(float), (array[2][imsk][i]).astype(float), color=c[2],)# alpha=array[4][imsk][i])\n",
    "    \n",
    "    plt.title(i)\n",
    "    plt.gca().invert_yaxis()\n",
    "    plt.show()"
   ]
  },
  {
   "cell_type": "markdown",
   "id": "7f23320c-a997-4222-abbc-1f2d871ccafc",
   "metadata": {
    "tags": []
   },
   "source": [
    "### What went wrong with those that passed in some but not all filters?"
   ]
  },
  {
   "cell_type": "code",
   "execution_count": 48,
   "id": "ab7c2333-f206-469d-84dd-5abf63b8d30f",
   "metadata": {},
   "outputs": [],
   "source": [
    "# # onefiltcands = SNgold # 3 passes\n",
    "# # onefiltcands = SNgri # >=2 passes\n",
    "# onefiltcands = SNany # >=1 passes\n",
    "# # onefiltcands = [i for i in SNgri if i not in SNgold] # exactly 2 passes\n",
    "# # onefiltcands = [i for i in SNany if i not in SNgri] # exactly 1 pass\n",
    "\n",
    "# g = np.empty(len(onefiltcands))\n",
    "# r = np.empty(len(onefiltcands))\n",
    "# i = np.empty(len(onefiltcands))\n",
    "# onefiltdf = pd.DataFrame(np.array([g,r,i]).transpose(), columns=[\"g\",\"r\",\"i\"], index=onefiltcands)\n",
    "\n",
    "# for i in onefiltdf.index:\n",
    "# #     if i in cut5rg:\n",
    "# #         onefiltdf.loc[i,\"g\"] = \"Low med. R/B\"\n",
    "#     if i in cut4rg:\n",
    "#         onefiltdf.loc[i,\"g\"] = \"Double-peaked\"\n",
    "#     elif i in cut3rg:\n",
    "#         onefiltdf.loc[i,\"g\"] = \"Too noisy\"\n",
    "#     elif i in cut2rg:\n",
    "#         onefiltdf.loc[i,\"g\"] = \"Too dim\"\n",
    "#     elif i in cut1rg:\n",
    "#         onefiltdf.loc[i,\"g\"] = \"<15 days\"\n",
    "#     elif i in cut0rg:\n",
    "#         onefiltdf.loc[i,\"g\"] = \"<10 objs\"\n",
    "#     elif i in SNg:\n",
    "#         onefiltdf.loc[i,\"g\"] = \"Passed\"\n",
    "#     else:\n",
    "#         onefiltdf.loc[i,\"g\"] = \"No data\"\n",
    "\n",
    "# #     if i in cut5rr:\n",
    "# #         onefiltdf.loc[i,\"r\"] = \"Low med. R/B\"\n",
    "#     if i in cut4rr:\n",
    "#         onefiltdf.loc[i,\"r\"] = \"Double-peaked\"\n",
    "#     elif i in cut3rr:\n",
    "#         onefiltdf.loc[i,\"r\"] = \"Too noisy\"\n",
    "#     elif i in cut2rr:\n",
    "#         onefiltdf.loc[i,\"r\"] = \"Too dim\"\n",
    "#     elif i in cut1rr:\n",
    "#         onefiltdf.loc[i,\"r\"] = \"<15 days\"\n",
    "#     elif i in cut0rr:\n",
    "#         onefiltdf.loc[i,\"r\"] = \"<10 objs\"\n",
    "#     elif i in SNr:\n",
    "#         onefiltdf.loc[i,\"r\"] = \"Passed\"\n",
    "#     else:\n",
    "#         onefiltdf.loc[i,\"r\"] = \"No data\"\n",
    "        \n",
    "# #     if i in cut5ri:\n",
    "# #         onefiltdf.loc[i,\"i\"] = \"Low med. R/B\"\n",
    "#     if i in cut4ri:\n",
    "#         onefiltdf.loc[i,\"i\"] = \"Double-peaked\"\n",
    "#     elif i in cut3ri:\n",
    "#         onefiltdf.loc[i,\"i\"] = \"Too noisy\"\n",
    "#     elif i in cut2ri:\n",
    "#         onefiltdf.loc[i,\"i\"] = \"Too dim\"\n",
    "#     elif i in cut1ri:\n",
    "#         onefiltdf.loc[i,\"i\"] = \"<15 days\"\n",
    "#     elif i in cut0ri:\n",
    "#         onefiltdf.loc[i,\"i\"] = \"<10 objs\"\n",
    "#     elif i in SNi:\n",
    "#         onefiltdf.loc[i,\"i\"] = \"Passed\"\n",
    "#     else:\n",
    "#         onefiltdf.loc[i,\"i\"] = \"No data\"\n",
    "# pd.set_option('display.max_rows', 500)\n",
    "# onefiltdf"
   ]
  }
 ],
 "metadata": {
  "kernelspec": {
   "display_name": "NERSC Python",
   "language": "python",
   "name": "python3"
  },
  "language_info": {
   "codemirror_mode": {
    "name": "ipython",
    "version": 3
   },
   "file_extension": ".py",
   "mimetype": "text/x-python",
   "name": "python",
   "nbconvert_exporter": "python",
   "pygments_lexer": "ipython3",
   "version": "3.9.7"
  }
 },
 "nbformat": 4,
 "nbformat_minor": 5
}
