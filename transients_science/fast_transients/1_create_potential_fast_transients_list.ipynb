{
 "cells": [
  {
   "cell_type": "markdown",
   "id": "f7c022f4-e2cc-4b8b-b2f0-d85e9034eb30",
   "metadata": {},
   "source": [
    "# Create Potential Fast Transient List\n",
    "\n",
    "Author: Melissa Graham & Midori Rollins\n",
    "\n",
    "Identify potential fast transients from the \"good\" candidates created for all of the DDF.\n",
    "\n",
    "To do this, we constrain the time spans, peak magnitudes, and amplitudes\n",
    "\n",
    "**Short-duration transient phenomena**:\n",
    "\n",
    " * Short timespan (2 to 20 days) in every filter.\n",
    " * Reaches a peak of at least 22 mag in any filter.\n",
    " * Has an amplitude of at least 0.5 mag in any filter.\n",
    "\n",
    "Write the list of potential SNIa to `potential_fast_transients_list.txt`.\n",
    "\n",
    "Save the plot of every potential SNIa lightcurve in the folder `all_potential_fast_transients_plots/`.\n",
    "\n",
    "## Set up and read in data"
   ]
  },
  {
   "cell_type": "code",
   "execution_count": 563,
   "id": "5ac3b3aa-64ad-484e-bb33-0ff26bde2cd7",
   "metadata": {
    "tags": []
   },
   "outputs": [],
   "source": [
    "import os\n",
    "import numpy as np\n",
    "import matplotlib as mpl\n",
    "import matplotlib.pyplot as plt\n",
    "# import pandas as pd\n",
    "\n",
    "# from copy import deepcopy\n",
    "import time"
   ]
  },
  {
   "cell_type": "code",
   "execution_count": 564,
   "id": "ac8798ee-938f-4c71-a7ba-1d1854f8b2bf",
   "metadata": {
    "tags": []
   },
   "outputs": [],
   "source": [
    "clr = ['darkgreen', 'firebrick', 'saddlebrown', 'limegreen', 'orange', 'lightcoral']\n",
    "\n",
    "all_filters = ['g','r','i']\n",
    "all_fcolors = ['green','red','blue']\n",
    "all_fshapes = ['o','s','^']\n",
    "all_fsizes  = [5, 5, 7]"
   ]
  },
  {
   "cell_type": "code",
   "execution_count": 565,
   "id": "0e9062f0-9f4d-4c7a-aa96-2bece2d3047c",
   "metadata": {
    "tags": []
   },
   "outputs": [],
   "source": [
    "all_filters = ['g', 'r', 'i']\n",
    "clr = ['darkgreen', 'firebrick', 'saddlebrown', 'limegreen', 'orange', 'lightcoral']\n",
    "sym = ['o', 's', '^', 'o', 's', '^']\n",
    "siz = [5, 5, 7, 5, 5, 7]"
   ]
  },
  {
   "cell_type": "code",
   "execution_count": 566,
   "id": "f67a2574-5b5f-42f8-a7c2-e6559c8123c3",
   "metadata": {
    "tags": []
   },
   "outputs": [],
   "source": [
    "fnm = '../all_nightly_epochs_files/candidate_lightcurves.dat'\n",
    "\n",
    "candLC_field = np.loadtxt(fnm, dtype='str', usecols=(0))\n",
    "candLC_candid = np.loadtxt(fnm, dtype='str', usecols=(1))\n",
    "candLC_caldate = np.loadtxt(fnm, dtype='str', usecols=(2))\n",
    "candLC_mjd = np.loadtxt(fnm, dtype='float', usecols=(3))\n",
    "candLC_filter = np.loadtxt(fnm, dtype='str', usecols=(4))\n",
    "candLC_Nobj = np.loadtxt(fnm, dtype='int', usecols=(5))\n",
    "candLC_mag = np.loadtxt(fnm, dtype='float', usecols=(6))\n",
    "candLC_mage = np.loadtxt(fnm, dtype='float', usecols=(7))\n",
    "candLC_mrb = np.loadtxt(fnm, dtype='float', usecols=(8))\n",
    "candLC_lef = np.loadtxt(fnm, dtype='float', usecols=(9))\n",
    "\n",
    "del fnm"
   ]
  },
  {
   "cell_type": "code",
   "execution_count": 567,
   "id": "94771cb5-afa4-4c6d-8bb5-4417c63e53d1",
   "metadata": {
    "tags": []
   },
   "outputs": [],
   "source": [
    "fnm = '../all_nightly_epochs_files/candidate_lightcurve_parameters.dat'\n",
    "\n",
    "paramLC_field = np.loadtxt( fnm, dtype='str', usecols=(0) )\n",
    "paramLC_candid = np.loadtxt( fnm, dtype='str', usecols=(1) )\n",
    "paramLC_tspan = np.loadtxt( fnm, dtype='float', usecols=(2) )\n",
    "paramLC_tspan_g = np.loadtxt( fnm, dtype='float', usecols=(3) )\n",
    "paramLC_tspan_r = np.loadtxt( fnm, dtype='float', usecols=(4) )\n",
    "paramLC_tspan_i = np.loadtxt( fnm, dtype='float', usecols=(5) )\n",
    "paramLC_minmag = np.loadtxt( fnm, dtype='float', usecols=(6) )\n",
    "paramLC_minmag_g = np.loadtxt( fnm, dtype='float', usecols=(7) )\n",
    "paramLC_minmag_r = np.loadtxt( fnm, dtype='float', usecols=(8) )\n",
    "paramLC_minmag_i = np.loadtxt( fnm, dtype='float', usecols=(9) )\n",
    "paramLC_amp = np.loadtxt( fnm, dtype='float', usecols=(10) )\n",
    "paramLC_amp_g = np.loadtxt( fnm, dtype='float', usecols=(11) )\n",
    "paramLC_amp_r = np.loadtxt( fnm, dtype='float', usecols=(12) )\n",
    "paramLC_amp_i = np.loadtxt( fnm, dtype='float', usecols=(13) )\n",
    "paramLC_neps = np.loadtxt( fnm, dtype='int', usecols=(14) )\n",
    "paramLC_neps_g = np.loadtxt( fnm, dtype='int', usecols=(15) )\n",
    "paramLC_neps_r = np.loadtxt( fnm, dtype='int', usecols=(16) )\n",
    "paramLC_neps_i = np.loadtxt( fnm, dtype='int', usecols=(17) )\n",
    "\n",
    "del fnm"
   ]
  },
  {
   "cell_type": "markdown",
   "id": "237da079-ccd3-4920-8bae-4a3bc7704165",
   "metadata": {},
   "source": [
    "---\n",
    "## Testing other constraints\n",
    "\n",
    "From Maria Drouts paper <a href=\"https://arxiv.org/abs/1405.3668\">here</a>, I find a couple constraints I want to try to implement:\n",
    ">1. The transient must rise by & 1.5 mag in the 9 days immediately prior to observed maximum light.\n",
    "\n",
    ">2. The transient must decline by & 1.5 mag in ∼ 25 days post observed maximum.\n",
    "\n",
    "These two are similar, so if I can implement one, I should be able to do the other. I'll start with `#1.` "
   ]
  },
  {
   "cell_type": "code",
   "execution_count": 568,
   "id": "46f64726-12b0-4e3d-85e9-5b1e774b6e33",
   "metadata": {
    "tags": []
   },
   "outputs": [],
   "source": [
    "# %%time\n",
    "# slope = []\n",
    "# rise_time = []\n",
    "# for i in range(len(paramLC_candid[:50])):\n",
    "#     tx = (np.where((candLC_candid == paramLC_candid[i]) & (candLC_filter == 'g')))[0]\n",
    "#     # try:\n",
    "#     if len(tx) > 1: \n",
    "#         tx2 = np.where((candLC_candid == paramLC_candid[i]) & (candLC_filter == 'g') & (candLC_mag ==candLC_mag[tx].min()))[0]\n",
    "#     # except ValueError:\n",
    "#     #     pass\n",
    "#     min_date = np.unique(candLC_mjd[tx2])[0]\n",
    "#     tx3 = np.where((candLC_candid == paramLC_candid[i]) & (candLC_filter == 'g') & (candLC_mjd <= min_date))[0]\n",
    "#     # if any(j > 0 for j in candLC_mag[tx3]):\n",
    "#     #     rise_mag = candLC_mag[tx3[0]] - candLC_mag[tx3[-1]]\n",
    "#     #     rise_time = candLC_mjd[tx3[-1]] - candLC_mjd[tx3[0]]\n",
    "#     #     slope.append(rise_mag/rise_time)\n",
    "#     if len(candLC_mag[tx3]) > 1:\n",
    "#         rise_mag = candLC_mag[tx3[0]] - candLC_mag[tx3[-1]]\n",
    "#         rise_t = candLC_mjd[tx3[-1]] - candLC_mjd[tx3[0]]\n",
    "#         rise_time.append(candLC_mjd[tx3[-1]] - candLC_mjd[tx3[0]])\n",
    "#         slope.append(rise_mag/rise_t)\n",
    "#     else:\n",
    "#         rise_mag = -99.0\n",
    "#         rise_time.append(-99.0)\n",
    "#         slope.append(-99.0)\n",
    "# del tx, tx2, tx3\n",
    "# slope = np.array(slope)\n",
    "# rise_time = np.array(rise_time)"
   ]
  },
  {
   "cell_type": "code",
   "execution_count": 569,
   "id": "57990cee-9245-4693-a9e6-ff178c7cf1ce",
   "metadata": {},
   "outputs": [
    {
     "name": "stdout",
     "output_type": "stream",
     "text": [
      "CPU times: user 4min 29s, sys: 27 ms, total: 4min 29s\n",
      "Wall time: 4min 29s\n"
     ]
    }
   ],
   "source": [
    "%%time\n",
    "gslope = []\n",
    "rslope = []\n",
    "islope = []\n",
    "grise_time = []\n",
    "rrise_time = []\n",
    "irise_time = []\n",
    "for i in range(len(paramLC_candid)):\n",
    "    gtx = (np.where((candLC_candid == paramLC_candid[i]) & (candLC_filter == 'g')))[0]\n",
    "    if len(gtx) > 1: \n",
    "        gtx2 = np.where((candLC_candid == paramLC_candid[i]) & (candLC_filter == 'g') & (candLC_mag ==candLC_mag[gtx].min()))[0]\n",
    "    gmin_date = np.unique(candLC_mjd[gtx2])[0]\n",
    "    gtx3 = np.where((candLC_candid == paramLC_candid[i]) & (candLC_filter == 'g') & (candLC_mjd <= gmin_date))[0]\n",
    "    if len(candLC_mag[gtx3]) > 1:\n",
    "        grise_mag = candLC_mag[gtx3[0]] - candLC_mag[gtx3[-1]]\n",
    "        grise_t = candLC_mjd[gtx3[-1]] - candLC_mjd[gtx3[0]]\n",
    "        grise_time.append(candLC_mjd[gtx3[-1]] - candLC_mjd[gtx3[0]])\n",
    "        gslope.append(grise_mag/grise_t)\n",
    "    else:\n",
    "        grise_mag = -99.0\n",
    "        grise_time.append(99.0)\n",
    "        gslope.append(-99.0)\n",
    "    \n",
    "    rtx = (np.where((candLC_candid == paramLC_candid[i]) & (candLC_filter == 'r')))[0]\n",
    "    if len(rtx) > 1: \n",
    "        rtx2 = np.where((candLC_candid == paramLC_candid[i]) & (candLC_filter == 'r') & (candLC_mag ==candLC_mag[rtx].min()))[0]\n",
    "    rmin_date = np.unique(candLC_mjd[rtx2])[0]\n",
    "    rtx3 = np.where((candLC_candid == paramLC_candid[i]) & (candLC_filter == 'r') & (candLC_mjd <= rmin_date))[0]\n",
    "    if len(candLC_mag[rtx3]) > 1:\n",
    "        rrise_mag = candLC_mag[rtx3[0]] - candLC_mag[rtx3[-1]]\n",
    "        rrise_t = candLC_mjd[rtx3[-1]] - candLC_mjd[rtx3[0]]\n",
    "        rrise_time.append(candLC_mjd[rtx3[-1]] - candLC_mjd[rtx3[0]])\n",
    "        rslope.append(rrise_mag/rrise_t)\n",
    "    else:\n",
    "        rrise_mag = -99.0\n",
    "        rrise_time.append(99.0)\n",
    "        rslope.append(-99.0)\n",
    "    \n",
    "    itx = (np.where((candLC_candid == paramLC_candid[i]) & (candLC_filter == 'i')))[0]\n",
    "    if len(itx) > 1: \n",
    "        itx2 = np.where((candLC_candid == paramLC_candid[i]) & (candLC_filter == 'i') & (candLC_mag ==candLC_mag[itx].min()))[0]\n",
    "    imin_date = np.unique(candLC_mjd[itx2])[0]\n",
    "    itx3 = np.where((candLC_candid == paramLC_candid[i]) & (candLC_filter == 'i') & (candLC_mjd <= imin_date))[0]\n",
    "    if len(candLC_mag[itx3]) > 1:\n",
    "        irise_mag = candLC_mag[itx3[0]] - candLC_mag[itx3[-1]]\n",
    "        irise_t = candLC_mjd[itx3[-1]] - candLC_mjd[itx3[0]]\n",
    "        irise_time.append(candLC_mjd[itx3[-1]] - candLC_mjd[itx3[0]])\n",
    "        islope.append(irise_mag/irise_t)\n",
    "    else:\n",
    "        irise_mag = -99.0\n",
    "        irise_time.append(99.0)\n",
    "        islope.append(-99.0)\n",
    "        \n",
    "gslope = np.array(gslope)\n",
    "rslope = np.array(rslope)\n",
    "islope = np.array(islope)\n",
    "grise_time = np.array(grise_time)\n",
    "rrise_time = np.array(rrise_time)\n",
    "irise_time = np.array(irise_time)\n",
    "\n",
    "# del gtx, rtx, itx, gtx2, rtx2, itx2, gtx3, rtx3, itx3"
   ]
  },
  {
   "cell_type": "markdown",
   "id": "ed472743-c22b-44fe-90d5-a4738d213d71",
   "metadata": {},
   "source": [
    "---"
   ]
  },
  {
   "cell_type": "markdown",
   "id": "65e125e8-9895-465d-a90b-67f6784219a2",
   "metadata": {},
   "source": [
    "## Identify potential fast transients\n",
    "\n",
    "We end up using just a single line in the amplitude _vs._ time span plane. It's the dashed line in the plots below.\n",
    "\n",
    "> **NOTE** - **2023-03-07** - the conditions have been RELAXED to allow for a larger number of potential SNIa (also fast transients?)"
   ]
  },
  {
   "cell_type": "code",
   "execution_count": 674,
   "id": "4f5fb220-384b-4c88-90b8-6359d0af9966",
   "metadata": {
    "tags": []
   },
   "outputs": [
    {
     "name": "stdout",
     "output_type": "stream",
     "text": [
      "Number of potential fast transients in COSMOS:  0\n",
      "Number of potential fast transients in ELAIS:  1\n"
     ]
    }
   ],
   "source": [
    "# fig, ax = plt.subplots( 1, 3, figsize=(17,5), sharex=True, sharey=True )\n",
    "\n",
    "### plot all the candidates in parameter space of timespan vs amplitude\n",
    "tx = np.where((((paramLC_field == 'COSMOS') & (paramLC_tspan_g >= 4) & (paramLC_tspan_g <= 40)) & \n",
    "               ((paramLC_tspan_r >= 4) & (paramLC_tspan_r <= 40)) & \n",
    "               ((paramLC_tspan_i >= 4) & (paramLC_tspan_i <= 40))) & \n",
    "              ((paramLC_minmag_g < 22) | (paramLC_minmag_r < 22) | (paramLC_minmag_i < 22)) &\n",
    "              ((paramLC_amp_g >= 0.5) | (paramLC_amp_r >= 0.5) | (paramLC_amp_i >= 0.5)))[0]\n",
    "# tx2 = np.where(((gslope[tx] >= 1.5/9) & (grise_time[tx] <10))|((rslope[tx] >= 1.5/9) & (rrise_time[tx] <10))|((islope[tx] >= 1.5/9) & (irise_time[tx] <10)))\n",
    "# print('Number of potential fast transients in COSMOS: ',len(tx2[0]))\n",
    "# ax[0].plot(paramLC_tspan_g[tx][tx2], paramLC_amp_g[tx][tx2], 'o', ms=4, mew=0, alpha=0.8, color=clr[0], label='COSMOS')\n",
    "# ax[1].plot(paramLC_tspan_r[tx][tx2], paramLC_amp_r[tx][tx2], 'o', ms=4, mew=0, alpha=0.8, color=clr[1], label='COSMOS')\n",
    "# ax[2].plot(paramLC_tspan_i[tx][tx2], paramLC_amp_i[tx][tx2], 'o', ms=4, mew=0, alpha=0.8, color=clr[2], label='COSMOS')\n",
    "del tx\n",
    "tx = np.where((((paramLC_field == 'ELAIS') & (paramLC_tspan_g >= 4) & (paramLC_tspan_g <= 40)) & \n",
    "               ((paramLC_tspan_r >= 4) & (paramLC_tspan_r <= 40)) & \n",
    "               ((paramLC_tspan_i >= 4) & (paramLC_tspan_i <= 40))) & \n",
    "              ((paramLC_minmag_g < 22) | (paramLC_minmag_r < 22) | (paramLC_minmag_i < 22)) &\n",
    "              ((paramLC_amp_g >= 0.5) | (paramLC_amp_r >= 0.5) | (paramLC_amp_i >= 0.5)))[0]\n",
    "# tx2 = np.where(((gslope[tx] >= 1.5/9) & (grise_time[tx] <10))|((rslope[tx] >= 1.5/9) & (rrise_time[tx] <10))|((islope[tx] >= 1.5/9) & (irise_time[tx] <10)))\n",
    "# print('Number of potential fast transients in ELAIS: ',len(tx2[0]))\n",
    "# ax[0].plot(paramLC_tspan_g[tx][tx2], paramLC_amp_g[tx][tx2], 'o', ms=4, mew=0, alpha=0.8, color=clr[3], label='ELAIS')\n",
    "# ax[1].plot(paramLC_tspan_r[tx][tx2], paramLC_amp_r[tx][tx2], 'o', ms=4, mew=0, alpha=0.8, color=clr[4], label='ELAIS')\n",
    "# ax[2].plot(paramLC_tspan_i[tx][tx2], paramLC_amp_i[tx][tx2], 'o', ms=4, mew=0, alpha=0.8, color=clr[5], label='ELAIS')\n",
    "del tx\n",
    "\n",
    "# for f in range(3):\n",
    "#     ax[f].axvline(2, lw=1, ls='dashed', color='black')\n",
    "#     ax[f].axvline(20, lw=1, ls='dashed', color='black')\n",
    "#     ax[f].axhline(0.5, lw=1, ls='dashed', color='black')\n",
    "    \n",
    "# Flag which candidates satisfy constraints in at least 2 bands\n",
    "paramLC_potft = np.zeros( len(paramLC_field), dtype='int' )\n",
    "\n",
    "tx = np.where((((paramLC_tspan_g >= 4) & (paramLC_tspan_g <= 40)) & \n",
    "               ((paramLC_tspan_r >= 4) & (paramLC_tspan_r <= 40)) & \n",
    "               ((paramLC_tspan_i >= 4) & (paramLC_tspan_i <= 40))) & \n",
    "              ((paramLC_minmag_g < 22) | (paramLC_minmag_r < 22) | (paramLC_minmag_i < 22)) &\n",
    "              ((paramLC_amp_g >= 0.5) | (paramLC_amp_r >= 0.5) | (paramLC_amp_i >= 0.5)))[0]\n",
    "\n",
    "for t in tx:\n",
    "    cntr = 0\n",
    "    if (gslope[t] >= 1.5/9) & (grise_time[t] < 10):\n",
    "        cntr += 1\n",
    "    if (rslope[t] >= 1.5/9) & (rrise_time[t] < 10):\n",
    "        cntr += 1\n",
    "    if (islope[t] >= 1.5/9) & (irise_time[t] < 10):\n",
    "        cntr += 1\n",
    "\n",
    "    if (cntr == 2) | (cntr == 3):\n",
    "        paramLC_potft[t] = 1\n",
    "    \n",
    "    del cntr\n",
    "del tx\n",
    "\n",
    "tx = np.where( (paramLC_potft == 1) & (paramLC_field == 'COSMOS') )[0]\n",
    "print('Number of potential fast transients in COSMOS: ',len(tx))\n",
    "# ax[0].plot(paramLC_tspan_g[tx], paramLC_amp_g[tx], 'o', ms=4, mew=0, alpha=0.8, color=clr[0], label='COSMOS')\n",
    "# ax[1].plot(paramLC_tspan_r[tx], paramLC_amp_r[tx], 'o', ms=4, mew=0, alpha=0.8, color=clr[1], label='COSMOS')\n",
    "# ax[2].plot(paramLC_tspan_i[tx], paramLC_amp_i[tx], 'o', ms=4, mew=0, alpha=0.8, color=clr[2], label='COSMOS')\n",
    "del tx\n",
    "tx = np.where( (paramLC_potft == 1) & (paramLC_field == 'ELAIS') )[0]\n",
    "print('Number of potential fast transients in ELAIS: ',len(tx))\n",
    "# ax[0].plot(paramLC_tspan_g[tx], paramLC_amp_g[tx], 'o', ms=4, mew=0, alpha=0.8, color=clr[3], label='ELAIS')\n",
    "# ax[1].plot(paramLC_tspan_r[tx], paramLC_amp_r[tx], 'o', ms=4, mew=0, alpha=0.8, color=clr[4], label='ELAIS')\n",
    "# ax[2].plot(paramLC_tspan_i[tx], paramLC_amp_i[tx], 'o', ms=4, mew=0, alpha=0.8, color=clr[5], label='ELAIS')\n",
    "del tx\n",
    "\n",
    "# ### finish up the plot and show it\n",
    "# ax[0].set_xlim([-1,25])\n",
    "# ax[1].set_xlim([-1,25])\n",
    "# ax[2].set_xlim([-1,25])\n",
    "# ax[0].set_ylim([0.,2.5])\n",
    "# ax[1].set_ylim([0.,2.5])\n",
    "# ax[2].set_ylim([0.,2.5])\n",
    "# ax[0].set_ylabel('amplitude')\n",
    "# # ax[1,0].set_ylabel('amplitude')\n",
    "# ax[0].set_xlabel('time span')\n",
    "# ax[1].set_xlabel('time span')\n",
    "# ax[2].set_xlabel('time span')\n",
    "# ax[0].legend(loc='best',fontsize=10)\n",
    "# ax[1].legend(loc='best',fontsize=10)\n",
    "# ax[2].legend(loc='best',fontsize=10)\n",
    "# plt.show()"
   ]
  },
  {
   "cell_type": "markdown",
   "id": "d28dbd06-f527-4ab9-a7db-a726c28aba6c",
   "metadata": {},
   "source": [
    "### Write the list of potential fast transients to file"
   ]
  },
  {
   "cell_type": "code",
   "execution_count": 675,
   "id": "105536de-30b0-4629-bc13-1b98660bee37",
   "metadata": {
    "tags": []
   },
   "outputs": [
    {
     "name": "stdout",
     "output_type": "stream",
     "text": [
      "Number of potential fast transients:  1\n"
     ]
    }
   ],
   "source": [
    "fout = open('potential_fast_transients_list.dat', 'w')\n",
    "tx = np.where(paramLC_potft == 1)[0]\n",
    "for x in tx:\n",
    "    fout.write(paramLC_candid[x]+'\\n')\n",
    "fout.close()\n",
    "print('Number of potential fast transients: ', len(tx))\n",
    "del tx"
   ]
  },
  {
   "cell_type": "markdown",
   "id": "2e7dadb1-fcf8-4bcc-8567-0fcc718935ca",
   "metadata": {},
   "source": [
    "### Plot the potential fast transient lightcurves\n",
    "\n",
    "Display the time span and the amplitude in the upper left corner.\n",
    "\n",
    "Some appear to be \"short duration\" just by being partial lightcurves,\n",
    "but at least DC22icaog seems to have a rise and fall, just over two weeks."
   ]
  },
  {
   "cell_type": "code",
   "execution_count": 676,
   "id": "b8257998-8051-4f59-a410-ba270bf11a41",
   "metadata": {
    "tags": []
   },
   "outputs": [
    {
     "data": {
      "image/png": "[encoded data removed]",
      "text/plain": [
       "<Figure size 864x504 with 1 Axes>"
      ]
     },
     "metadata": {
      "needs_background": "light"
     },
     "output_type": "display_data"
    }
   ],
   "source": [
    "sx = np.where(paramLC_potft == 1)[0]\n",
    "np.random.shuffle(sx)\n",
    "\n",
    "# fig, ax = plt.subplots( 1, 1, figsize=(16,24), sharex=False, sharey=False )\n",
    "plt.figure(figsize=(12,7))\n",
    "\n",
    "\n",
    "s = 0\n",
    "for i in range(1):\n",
    "    plt.ylabel('magnitude', fontsize=14)\n",
    "    for j in range(1):\n",
    "        for f,filt in enumerate(all_filters):\n",
    "            cx0 = np.where((candLC_candid == paramLC_candid[sx[s]]) & \\\n",
    "                           (candLC_filter == filt) & (candLC_mrb > 0.4))[0]\n",
    "            cx1 = np.where((candLC_candid == paramLC_candid[sx[s]]) & \\\n",
    "                           (candLC_filter == filt) & (candLC_mrb <= 0.4) & (candLC_lef == 0))[0]\n",
    "            cx2 = np.where((candLC_candid == paramLC_candid[sx[s]]) & \\\n",
    "                           (candLC_filter == filt) & (candLC_mrb <= 0.4) & (candLC_lef == 1))[0]\n",
    "            plt.plot(candLC_mjd[cx0]-59300., candLC_mag[cx0], \n",
    "                         all_fshapes[f], ms=all_fsizes[f], mew=0, alpha=0.8, color=all_fcolors[f], label=filt)\n",
    "            plt.plot(candLC_mjd[cx1]-59300., candLC_mag[cx1], \n",
    "                         all_fshapes[f], ms=all_fsizes[f], mew=1, alpha=0.8, color='none', mec=all_fcolors[f])\n",
    "            plt.plot(candLC_mjd[cx2]-59300., candLC_mag[cx2], \n",
    "                         all_fshapes[f], ms=all_fsizes[f]-1, mew=0, alpha=0.4, color=all_fcolors[f])\n",
    "            if f == 0:\n",
    "                xmin = 60000.\n",
    "                xmax = 0.\n",
    "                if (len(cx0) > 0):\n",
    "                    xmin = np.min(candLC_mjd[cx0])\n",
    "                    xmax = np.max(candLC_mjd[cx0])\n",
    "                elif (len(cx0) > 0) & (len(cx1) > 0):\n",
    "                    xmin = np.min([candLC_mjd[cx0], np.min(candLC_mjd[cx1])])\n",
    "                    xmax = np.max([candLC_mjd[cx0], np.min(candLC_mjd[cx1])])\n",
    "            elif f > 0:\n",
    "                if (len(cx0) > 0):\n",
    "                    xmin = np.min([xmin, np.min(candLC_mjd[cx0])])\n",
    "                    xmax = np.max([xmax, np.min(candLC_mjd[cx0])])\n",
    "                elif (len(cx0) > 0) & (len(cx1) > 0):\n",
    "                    xmin = np.min([xmin, np.min(candLC_mjd[cx0]), np.min(candLC_mjd[cx1])])\n",
    "                    xmax = np.max([xmax, np.min(candLC_mjd[cx0]), np.min(candLC_mjd[cx1])])\n",
    "                \n",
    "            del cx0, cx1, cx2\n",
    "        plt.gca().invert_yaxis()\n",
    "        plt.xlim([xmin-59300.-5, xmax-59300.+5])\n",
    "        del xmin, xmax\n",
    "        plt.title(paramLC_candid[sx[s]])\n",
    "        s += 1\n",
    "\n",
    "plt.legend(loc='upper right', labelspacing=0.1, handletextpad=0.1, fontsize=14)\n",
    "\n",
    "for j in range(5):\n",
    "    plt.xlabel('MJD-59300', fontsize=14)\n",
    "\n",
    "plt.tight_layout()\n",
    "plt.show()\n",
    "del sx, s"
   ]
  },
  {
   "cell_type": "code",
   "execution_count": 680,
   "id": "2a07d7e2-a771-4631-ba65-63aabab47a73",
   "metadata": {
    "tags": []
   },
   "outputs": [
    {
     "data": {
      "image/png": "[encoded data removed]",
      "text/plain": [
       "<Figure size 720x432 with 1 Axes>"
      ]
     },
     "metadata": {
      "needs_background": "light"
     },
     "output_type": "display_data"
    }
   ],
   "source": [
    "tx = np.where((((paramLC_tspan_g >= 4) & (paramLC_tspan_g <= 40)) & \n",
    "               ((paramLC_tspan_r >= 4) & (paramLC_tspan_r <= 40)) & \n",
    "               ((paramLC_tspan_i >= 4) & (paramLC_tspan_i <= 40))) & \n",
    "              ((paramLC_minmag_g < 22) | (paramLC_minmag_r < 22) | (paramLC_minmag_i < 22)) &\n",
    "              ((paramLC_amp_g >= 0.5) | (paramLC_amp_r >= 0.5) | (paramLC_amp_i >= 0.5)))[0]\n",
    "tx2 = np.where((gslope[tx] >= 1.5/9) & (grise_time[tx] <10))\n",
    "\n",
    "gtx = np.where((candLC_candid == 'DC22icaog') & (candLC_filter == 'g'))\n",
    "rtx = np.where((candLC_candid == 'DC22icaog') & (candLC_filter == 'r'))\n",
    "itx = np.where((candLC_candid == 'DC22icaog') & (candLC_filter == 'i'))\n",
    "\n",
    "plt.figure(figsize=(10,6))\n",
    "\n",
    "plt.plot(candLC_mjd[gtx]-59747., candLC_mag[gtx], sym[0], ms=siz[0], mew=0, alpha=0.6, color=clr[0])\n",
    "plt.plot(candLC_mjd[rtx]-59747., candLC_mag[rtx], sym[1], ms=siz[1], mew=0, alpha=0.6, color=clr[1])\n",
    "plt.plot(candLC_mjd[itx]-59747., candLC_mag[itx], sym[2], ms=siz[2], mew=0, alpha=0.6, color=clr[2])\n",
    "del gtx, rtx, itx\n",
    "\n",
    "# gtx = np.where(dec_df['band']=='g')\n",
    "# rtx = np.where(dec_df['band']=='r')\n",
    "# itx = np.where(dec_df['band']=='i')\n",
    "# plt.plot(dec_df['mjd'][gtx[0]]-57983,dec_df['mag'][gtx[0]]+1.5, c='green', label='g')\n",
    "# plt.plot(dec_df['mjd'][rtx[0]]-57983,dec_df['mag'][rtx[0]]+2.5, c='red', label='r')\n",
    "# plt.plot(dec_df['mjd'][itx[0]]-57983,dec_df['mag'][itx[0]]+3, c='brown', label='i')\n",
    "# del gtx, rtx, itx\n",
    "\n",
    "x = [ 1, 2, 3, 4]\n",
    "gy = [-(gslope[tx][tx2][0]*i)+ 23.2 for i in x]\n",
    "ry = [-(rslope[tx][tx2][0]*i)+ 23.2 for i in x]\n",
    "iy = [-(islope[tx][tx2][0]*i)+ 23.2 for i in x]\n",
    "# slope, intercept = np.polyfit(x, y, 1)\n",
    "# abline_values = [-slope * i + intercept for i in x]\n",
    "plt.plot(x, gy, c='green', lw=1, ls='dashed', label =f'slope={gslope[tx][tx2][0]:.4f}')\n",
    "plt.plot(x, ry, c='red', lw=1, ls='dotted', label =f'slope={rslope[tx][tx2][0]:.4f}')\n",
    "plt.plot(x, iy, c='saddlebrown', lw=1, ls='dashdot', label =f'slope={islope[tx][tx2][0]:.4f}')\n",
    "del x, gy, ry, iy, tx, tx2\n",
    "plt.ylabel('apparent mag')\n",
    "plt.title('DC22icaog with rise slope')\n",
    "plt.xlim(0, 23)\n",
    "\n",
    "plt.gca().invert_yaxis()\n",
    "plt.legend()\n",
    "plt.show()"
   ]
  },
  {
   "cell_type": "markdown",
   "id": "db07e8e7-2e42-44ac-8378-9ab9d7becd31",
   "metadata": {},
   "source": [
    "### Save individual plots as PNG files"
   ]
  },
  {
   "cell_type": "code",
   "execution_count": 681,
   "id": "f948e311-0054-4bb8-89b9-64379e209da7",
   "metadata": {},
   "outputs": [],
   "source": [
    "# sx = np.where((((paramLC_tspan_g >= 4) & (paramLC_tspan_g <= 40)) & \n",
    "#                ((paramLC_tspan_r >= 4) & (paramLC_tspan_r <= 40)) & \n",
    "#                ((paramLC_tspan_i >= 4) & (paramLC_tspan_i <= 40))) & \n",
    "#               ((paramLC_minmag_g < 22) | (paramLC_minmag_r < 22) | (paramLC_minmag_i < 22)) &\n",
    "#               ((paramLC_amp_g >= 0.5) | (paramLC_amp_r >= 0.5) | (paramLC_amp_i >= 0.5)))[0]\n",
    "# sx2 = np.where((slope[sx] >= 1.5/9) & (rise_time[sx] <10))\n",
    "# plt.rcParams.update({'font.size': 14})\n",
    "\n",
    "# for x in range(len(sx[sx2])):\n",
    "#     plt.figure(figsize=(8,6))\n",
    "    \n",
    "#     for f,filt in enumerate(all_filters):\n",
    "#         clr_i = f\n",
    "#         if paramLC_field[sx][sx2][0] == 'ELAIS':\n",
    "#             clr_i = f+3\n",
    "#         cx0 = np.where((candLC_candid == paramLC_candid[sx][sx2][0]) & \\\n",
    "#                        (candLC_filter == filt) & (candLC_mrb > 0.4))[0]\n",
    "#         cx1 = np.where((candLC_candid == paramLC_candid[sx][sx2][0]) & \\\n",
    "#                        (candLC_filter == filt) & (candLC_mrb <= 0.4))[0]\n",
    "#         plt.plot( candLC_mjd[cx0]-59300., candLC_mag[cx0], \n",
    "#                      sym[clr_i], ms=siz[clr_i], mew=0, alpha=0.6, color=clr[clr_i], label=filt )\n",
    "#         plt.plot( candLC_mjd[cx1]-59300., candLC_mag[cx1], \n",
    "#                      sym[clr_i], ms=siz[clr_i], mew=1, alpha=0.6, mec=clr[clr_i], color='none', label=filt+' (R/B<0.4)' )\n",
    "#         del cx0, cx1\n",
    "#     plt.gca().invert_yaxis()\n",
    "#     plt.legend(loc='best', labelspacing=0.1, handletextpad=0.1, fontsize=14)\n",
    "#     plt.title(paramLC_candid[sx][sx2][0], fontsize=14)\n",
    "    # plt.text(0.70, 0.85, str(np.round(paramLC_tspan[sx][sx2][0],0)), fontsize=12, color='black')\n",
    "    # plt.text(0.70, 0.75, str(np.round(paramLC_amp[sx][sx2][0],1)), fontsize=12, color='black')\n",
    "    \n",
    "    # plt.xlabel('MJD-59300', fontsize=14)\n",
    "    # plt.ylabel('mag',fontsize=14)\n",
    "    # plt.savefig('all_potential_fast_transients_plots/'+paramLC_candid[sx][sx2[x]][0]+'.png')\n",
    "    # plt.close()\n",
    "\n",
    "# del sx"
   ]
  },
  {
   "cell_type": "code",
   "execution_count": 682,
   "id": "08826202-637e-423c-93a6-d1b888b19b22",
   "metadata": {},
   "outputs": [],
   "source": [
    "sx = np.where(paramLC_potft == 1)[0]\n",
    "plt.rcParams.update({'font.size': 14})\n",
    "\n",
    "for x in range(len(sx)):\n",
    "    plt.figure(figsize=(8,6))\n",
    "    \n",
    "    for f,filt in enumerate(all_filters):\n",
    "        cx0 = np.where((candLC_candid == paramLC_candid[sx[x]]) & \\\n",
    "                       (candLC_filter == filt) & (candLC_mrb > 0.4))[0]\n",
    "        cx1 = np.where((candLC_candid == paramLC_candid[sx[x]]) & \\\n",
    "                       (candLC_filter == filt) & (candLC_mrb <= 0.4) & (candLC_lef == 0))[0]\n",
    "        cx2 = np.where((candLC_candid == paramLC_candid[sx[x]]) & \\\n",
    "                       (candLC_filter == filt) & (candLC_mrb <= 0.4) & (candLC_lef == 1))[0]\n",
    "        plt.plot(candLC_mjd[cx0]-59300., candLC_mag[cx0], \n",
    "                 all_fshapes[f], ms=all_fsizes[f], mew=0, alpha=0.8, color=all_fcolors[f], label=filt)\n",
    "        plt.plot(candLC_mjd[cx1]-59300., candLC_mag[cx1], \n",
    "                 all_fshapes[f], ms=all_fsizes[f], mew=1, alpha=0.8, color='none', mec=all_fcolors[f], \n",
    "                 label=filt+' (R/B<0.4)')\n",
    "        plt.plot(candLC_mjd[cx2]-59300., candLC_mag[cx2], \n",
    "                 all_fshapes[f], ms=all_fsizes[f]-1, mew=0, alpha=0.4, color=all_fcolors[f])\n",
    "        if f == 0:\n",
    "            xmin = 60000.\n",
    "            xmax = 0.\n",
    "            if (len(cx0) > 0):\n",
    "                xmin = np.min(candLC_mjd[cx0])\n",
    "                xmax = np.max(candLC_mjd[cx0])\n",
    "            elif (len(cx0) > 0) & (len(cx1) > 0):\n",
    "                xmin = np.min([candLC_mjd[cx0], np.min(candLC_mjd[cx1])])\n",
    "                xmax = np.max([candLC_mjd[cx0], np.min(candLC_mjd[cx1])])\n",
    "        elif f > 0:\n",
    "            if (len(cx0) > 0):\n",
    "                xmin = np.min([xmin, np.min(candLC_mjd[cx0])])\n",
    "                xmax = np.max([xmax, np.min(candLC_mjd[cx0])])\n",
    "            elif (len(cx0) > 0) & (len(cx1) > 0):\n",
    "                xmin = np.min([xmin, np.min(candLC_mjd[cx0]), np.min(candLC_mjd[cx1])])\n",
    "                xmax = np.max([xmax, np.min(candLC_mjd[cx0]), np.min(candLC_mjd[cx1])])\n",
    "        del cx0, cx1, cx2\n",
    "    plt.gca().invert_yaxis()\n",
    "    plt.title(paramLC_candid[sx[x]])\n",
    "    plt.legend(loc='best', labelspacing=0.1, handletextpad=0.1, fontsize=14)\n",
    "    plt.xlim([xmin-59300.-5, xmax-59300.+5])\n",
    "    del xmin, xmax\n",
    "    plt.xlabel('MJD-59300', fontsize=14)\n",
    "    plt.ylabel('mag', fontsize=14)\n",
    "    plt.savefig('all_potential_fast_transients_plots/'+paramLC_candid[sx[x]]+'.png')\n",
    "    plt.close()\n",
    "\n",
    "del sx"
   ]
  },
  {
   "cell_type": "code",
   "execution_count": 658,
   "id": "b98d5d80-5b4f-4360-8cb4-ce9a0b4f6541",
   "metadata": {
    "tags": []
   },
   "outputs": [
    {
     "data": {
      "image/png": "[encoded data removed]",
      "text/plain": [
       "<IPython.core.display.Image object>"
      ]
     },
     "metadata": {
      "image/png": {
       "width": 450
      }
     },
     "output_type": "display_data"
    }
   ],
   "source": [
    "from IPython.display import display, Image\n",
    "image = Image(filename='../fast_transients/all_potential_fast_transients_plots/DC22icaog.png',width=450)\n",
    "display(image)"
   ]
  },
  {
   "cell_type": "code",
   "execution_count": null,
   "id": "85a45671-4c3a-4db0-94fb-34afff3b54dd",
   "metadata": {},
   "outputs": [],
   "source": []
  },
  {
   "cell_type": "code",
   "execution_count": null,
   "id": "a2eec1eb-44d3-41db-9793-2660890bcc70",
   "metadata": {},
   "outputs": [],
   "source": []
  }
 ],
 "metadata": {
  "kernelspec": {
   "display_name": "NERSC Python",
   "language": "python",
   "name": "python3"
  },
  "language_info": {
   "codemirror_mode": {
    "name": "ipython",
    "version": 3
   },
   "file_extension": ".py",
   "mimetype": "text/x-python",
   "name": "python",
   "nbconvert_exporter": "python",
   "pygments_lexer": "ipython3",
   "version": "3.9.7"
  }
 },
 "nbformat": 4,
 "nbformat_minor": 5
}
