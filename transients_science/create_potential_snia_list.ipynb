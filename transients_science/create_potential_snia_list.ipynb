{
 "cells": [
  {
   "cell_type": "markdown",
   "id": "5327bc0e-a6b9-4377-a086-904a0ffb4b3f",
   "metadata": {},
   "source": [
    "# Create Potential SNIa List\n",
    "\n",
    "Author: Melissa Graham\n",
    "\n",
    "Identify potential SN Ia from the \"good\" candidates created for **ALL** of the DDF, not just 2021.\n",
    "\n",
    "Write the list of potential SNeIa to `potential_snia_list.txt`."
   ]
  },
  {
   "cell_type": "code",
   "execution_count": null,
   "id": "3abf2b70-a4fe-4a49-8fec-53abfe79069a",
   "metadata": {},
   "outputs": [],
   "source": [
    "# import os\n",
    "import numpy as np\n",
    "import matplotlib as mpl\n",
    "import matplotlib.pyplot as plt\n",
    "# import pandas as pd\n",
    "\n",
    "# from copy import deepcopy\n",
    "import time"
   ]
  },
  {
   "cell_type": "code",
   "execution_count": null,
   "id": "dbd2dc1d-2dea-4a22-bef4-f7d581a844e2",
   "metadata": {},
   "outputs": [],
   "source": [
    "### Colors to use for COSMOS-g, -r, -i and ELAIS-g, -r, -i\n",
    "clr = ['darkgreen', 'firebrick', 'saddlebrown', 'limegreen', 'orange', 'lightcoral']\n",
    "\n",
    "all_filters = ['g','r','i']\n",
    "all_fcolors = ['green','red','blue']\n",
    "all_fshapes = ['o','s','^']\n",
    "all_fsizes  = [5, 5, 7]"
   ]
  },
  {
   "cell_type": "markdown",
   "id": "82d773e6-9396-4d54-b938-0ae9cea3f6b9",
   "metadata": {},
   "source": [
    "## Load the candidate lightcurves"
   ]
  },
  {
   "cell_type": "code",
   "execution_count": null,
   "id": "0a65330f-f306-4fc4-9c80-531d799f3fa5",
   "metadata": {},
   "outputs": [],
   "source": [
    "fnm = 'all_candidate_nightly_epochs_files/candidate_lightcurves.dat'\n",
    "\n",
    "candLC_field = np.loadtxt( fnm, dtype='str', usecols=(0) )\n",
    "candLC_candid = np.loadtxt( fnm, dtype='str', usecols=(1) )\n",
    "candLC_caldate = np.loadtxt( fnm, dtype='str', usecols=(2) )\n",
    "candLC_mjd = np.loadtxt( fnm, dtype='float', usecols=(3) )\n",
    "candLC_filter = np.loadtxt( fnm, dtype='str', usecols=(4) )\n",
    "candLC_Nobj = np.loadtxt( fnm, dtype='int', usecols=(5) )\n",
    "candLC_mag = np.loadtxt( fnm, dtype='float', usecols=(6) )\n",
    "candLC_mage = np.loadtxt( fnm, dtype='float', usecols=(7) )\n",
    "candLC_mrb = np.loadtxt( fnm, dtype='float', usecols=(8) )\n",
    "\n",
    "del fnm"
   ]
  },
  {
   "cell_type": "markdown",
   "id": "ddca47b3-5ed5-4fd7-b11c-7a832869985d",
   "metadata": {},
   "source": [
    "## Load the lightcurve parameters data"
   ]
  },
  {
   "cell_type": "code",
   "execution_count": null,
   "id": "41438d89-ac8c-4d36-b274-be7132c6684b",
   "metadata": {},
   "outputs": [],
   "source": [
    "fnm = 'all_candidate_nightly_epochs_files/candidate_lightcurve_parameters.dat'\n",
    "\n",
    "paramLC_field = np.loadtxt( fnm, dtype='str', usecols=(0) )\n",
    "paramLC_candid = np.loadtxt( fnm, dtype='str', usecols=(1) )\n",
    "paramLC_tspan = np.loadtxt( fnm, dtype='float', usecols=(2) )\n",
    "paramLC_tspan_g = np.loadtxt( fnm, dtype='float', usecols=(3) )\n",
    "paramLC_tspan_r = np.loadtxt( fnm, dtype='float', usecols=(4) )\n",
    "paramLC_tspan_i = np.loadtxt( fnm, dtype='float', usecols=(5) )\n",
    "paramLC_minmag = np.loadtxt( fnm, dtype='float', usecols=(6) )\n",
    "paramLC_minmag_g = np.loadtxt( fnm, dtype='float', usecols=(7) )\n",
    "paramLC_minmag_r = np.loadtxt( fnm, dtype='float', usecols=(8) )\n",
    "paramLC_minmag_i = np.loadtxt( fnm, dtype='float', usecols=(9) )\n",
    "paramLC_amp = np.loadtxt( fnm, dtype='float', usecols=(10) )\n",
    "paramLC_amp_g = np.loadtxt( fnm, dtype='float', usecols=(11) )\n",
    "paramLC_amp_r = np.loadtxt( fnm, dtype='float', usecols=(12) )\n",
    "paramLC_amp_i = np.loadtxt( fnm, dtype='float', usecols=(13) )\n",
    "paramLC_neps = np.loadtxt( fnm, dtype='int', usecols=(14) )\n",
    "paramLC_neps_g = np.loadtxt( fnm, dtype='int', usecols=(15) )\n",
    "paramLC_neps_r = np.loadtxt( fnm, dtype='int', usecols=(16) )\n",
    "paramLC_neps_i = np.loadtxt( fnm, dtype='int', usecols=(17) )\n",
    "\n",
    "del fnm"
   ]
  },
  {
   "cell_type": "markdown",
   "id": "2b70bfae-86f5-4441-9bca-cc4bf2f9c47b",
   "metadata": {},
   "source": [
    "## Load the polygons data\n",
    "\n",
    "Type Ia SNe occupy a certain region in the parameter space of time span _vs._ amplitude.\n",
    "\n",
    "MLG derived polygons in this region of parameter space separately, and we read them in now."
   ]
  },
  {
   "cell_type": "code",
   "execution_count": null,
   "id": "a9405711-7a69-4971-80ff-6a5449d819db",
   "metadata": {},
   "outputs": [],
   "source": [
    "fnm = '../extragalactic_fields/science_with_candidates/MLG_snia_menagerie_files/MLG_polygons_tspan_lcamp.dat'\n",
    "poly_tspans = np.loadtxt( fnm, dtype='float', usecols=(0) )\n",
    "poly_lcamps = np.loadtxt( fnm, dtype='float', usecols=(1,2,3,4,5,6), unpack=True)"
   ]
  },
  {
   "cell_type": "markdown",
   "id": "501b2d9b-d440-418c-aca3-971186af3d3c",
   "metadata": {},
   "source": [
    "## Use polygons to identify potential SNe Ia\n",
    "\n",
    "We end up using just a single line in the amplitude _vs._ time span plane. It's the dashed line in the plots below.\n",
    "\n",
    "> **NOTE** - **2023-03-07** - the conditions have been RELAXED to allow for a larger number of potential SNIa"
   ]
  },
  {
   "cell_type": "code",
   "execution_count": null,
   "id": "452204f5-0449-43d3-bd7c-fc865f6840bf",
   "metadata": {},
   "outputs": [],
   "source": [
    "fig, ax = plt.subplots( 2, 3, figsize=(16,10), sharex=True, sharey=True )\n",
    "\n",
    "### plot all the candidates in parameter space of timespan vs amplitude\n",
    "tx = np.where( (paramLC_field == 'COSMOS') & (paramLC_tspan >= 10) & (paramLC_amp >= 0.5) & (paramLC_neps >= 5) )[0]\n",
    "ax[0,0].plot( paramLC_tspan_g[tx], paramLC_amp_g[tx], 'o', ms=3, mew=0, alpha=0.5, color=clr[0] )\n",
    "ax[0,1].plot( paramLC_tspan_r[tx], paramLC_amp_r[tx], 'o', ms=3, mew=0, alpha=0.5, color=clr[1] )\n",
    "ax[0,2].plot( paramLC_tspan_i[tx], paramLC_amp_i[tx], 'o', ms=3, mew=0, alpha=0.5, color=clr[2] )\n",
    "del tx\n",
    "tx = np.where( (paramLC_field == 'ELAIS') & (paramLC_tspan >= 10) & (paramLC_amp >= 0.5) & (paramLC_neps >= 5) )[0]\n",
    "ax[0,0].plot( paramLC_tspan_g[tx], paramLC_amp_g[tx], 'o', ms=3, mew=0, alpha=0.5, color=clr[3] )\n",
    "ax[0,1].plot( paramLC_tspan_r[tx], paramLC_amp_r[tx], 'o', ms=3, mew=0, alpha=0.5, color=clr[4] )\n",
    "ax[0,2].plot( paramLC_tspan_i[tx], paramLC_amp_i[tx], 'o', ms=3, mew=0, alpha=0.5, color=clr[5] )\n",
    "del tx\n",
    "\n",
    "### plot the polygon ranges from template light curves\n",
    "for a in range(3):\n",
    "    i = a * 2\n",
    "    j = (a * 2) + 1\n",
    "    x = poly_tspans[:]\n",
    "    y1 = poly_lcamps[i,:]\n",
    "    y2 = poly_lcamps[j,:]\n",
    "    ax[0,a].plot( x, y1, lw=1, color='black')\n",
    "    ax[0,a].plot( x, y2, lw=1, color='black')\n",
    "\n",
    "### define a slightly more relaxed and easier cut, and apply it \n",
    "x = poly_tspans[:]\n",
    "slopes = np.asarray([2.0/40, 1.5/40, 1.5/40],dtype='float')\n",
    "yints  = np.asarray([2.0-slopes[0]*70, 1.5-slopes[1]*70, 1.5-slopes[2]*80],dtype='float')\n",
    "for f in range(3):\n",
    "    y = slopes[f]*x + yints[f]\n",
    "    ax[0,f].plot(x, y, lw=2, ls='dashed', color='black')\n",
    "    ax[0,f].axvline(10, lw=2, ls='dashed', color='black')\n",
    "    ax[0,f].axhline(0.5, lw=2, ls='dashed', color='black')\n",
    "    ax[1,f].plot(x, y, lw=1, ls='dashed', color='black')\n",
    "    ax[1,f].axvline(10, lw=2, ls='dashed', color='black')\n",
    "    ax[1,f].axhline(0.5, lw=2, ls='dashed', color='black')\n",
    "del x, y\n",
    "\n",
    "print('For the dashed lines in the plots below.')\n",
    "print('%-6s %-6s %-6s' % ('filter','slope','y-int'))\n",
    "print('%-6s %6.3f %6.3f' % ('g',slopes[0],yints[0]))\n",
    "print('%-6s %6.3f %6.3f' % ('r',slopes[1],yints[1]))\n",
    "print('%-6s %6.3f %6.3f' % ('i',slopes[2],yints[2]))\n",
    "\n",
    "### create an array for flagging potential SNIa (1 = yes)\n",
    "paramLC_potSNIa = np.zeros( len(paramLC_field), dtype='int' )\n",
    "\n",
    "tx = np.where( (paramLC_tspan >= 10) & (paramLC_amp >= 0.5) & (paramLC_neps >= 5) )[0]\n",
    "for t in tx:\n",
    "    cntr = 0\n",
    "    glow = slopes[0]*paramLC_tspan_g[t] + yints[0]\n",
    "    rlow = slopes[1]*paramLC_tspan_r[t] + yints[1]\n",
    "    ilow = slopes[2]*paramLC_tspan_i[t] + yints[2]\n",
    "    if (glow <= paramLC_amp_g[t]) & (paramLC_amp_g[t] >= 0.5) & \\\n",
    "       (paramLC_tspan_g[t] >= 10) & (paramLC_tspan_g[t] <= 200) & \\\n",
    "       (paramLC_neps_g[t] >= 5):\n",
    "        cntr += 1\n",
    "    if (rlow <= paramLC_amp_r[t]) & (paramLC_amp_r[t] >= 0.5) & \\\n",
    "       (paramLC_tspan_r[t] >= 10) & (paramLC_tspan_r[t] <= 200) & \\\n",
    "       (paramLC_neps_r[t] >= 5):\n",
    "        cntr += 1\n",
    "    if (ilow <= paramLC_amp_i[t]) & (paramLC_amp_i[t] >= 0.5) & \\\n",
    "        (paramLC_tspan_i[t] >= 10) & (paramLC_tspan_i[t] <= 200) & \\\n",
    "        (paramLC_neps_i[t] >= 5):\n",
    "        cntr += 1\n",
    "\n",
    "    if (cntr == 2) | (cntr == 3):\n",
    "        paramLC_potSNIa[t] = 1\n",
    "    \n",
    "    del glow,rlow,ilow,cntr\n",
    "del tx, slopes, yints\n",
    "\n",
    "print(' ')\n",
    "### overplot the potential SNeIa\n",
    "tx = np.where( (paramLC_potSNIa == 1) & (paramLC_field == 'COSMOS') )[0]\n",
    "print('Number of potential sneia in COSMOS: ',len(tx))\n",
    "ax[1,0].plot( paramLC_tspan_g[tx], paramLC_amp_g[tx], '*', ms=8, mew=0, alpha=0.7, color=clr[0] )\n",
    "ax[1,1].plot( paramLC_tspan_r[tx], paramLC_amp_r[tx], '*', ms=8, mew=0, alpha=0.7, color=clr[1] )\n",
    "ax[1,2].plot( paramLC_tspan_i[tx], paramLC_amp_i[tx], '*', ms=8, mew=0, alpha=0.7, color=clr[2] )\n",
    "del tx\n",
    "tx = np.where( (paramLC_potSNIa == 1) & (paramLC_field == 'ELAIS') )[0]\n",
    "print('Number of potential sneia in ELAIS: ',len(tx))\n",
    "ax[1,0].plot( paramLC_tspan_g[tx], paramLC_amp_g[tx], '*', ms=8, mew=0, alpha=0.7, color=clr[3] )\n",
    "ax[1,1].plot( paramLC_tspan_r[tx], paramLC_amp_r[tx], '*', ms=8, mew=0, alpha=0.7, color=clr[4] )\n",
    "ax[1,2].plot( paramLC_tspan_i[tx], paramLC_amp_i[tx], '*', ms=8, mew=0, alpha=0.7, color=clr[5] )\n",
    "del tx\n",
    "\n",
    "### finish up the plot and show it\n",
    "ax[0,0].set_xlim([0,150])\n",
    "ax[0,1].set_xlim([0,150])\n",
    "ax[0,2].set_xlim([0,150])\n",
    "ax[0,0].set_ylim([0.,2.5])\n",
    "ax[0,1].set_ylim([0.,2.5])\n",
    "ax[0,2].set_ylim([0.,2.5])\n",
    "ax[0,0].set_ylabel('amplitude')\n",
    "ax[1,0].set_ylabel('amplitude')\n",
    "ax[1,0].set_xlabel('time span')\n",
    "ax[1,1].set_xlabel('time span')\n",
    "ax[1,2].set_xlabel('time span')\n",
    "plt.show()"
   ]
  },
  {
   "cell_type": "markdown",
   "id": "fed15b98-8498-43b1-8e3d-b32324b979d3",
   "metadata": {},
   "source": [
    "Write the list of candidate ids for the potential SNIa."
   ]
  },
  {
   "cell_type": "code",
   "execution_count": null,
   "id": "97c3ffdb-8f7e-497f-b18b-b612c395d5e6",
   "metadata": {},
   "outputs": [],
   "source": [
    "fout = open('potential_snia_list.dat', 'w')\n",
    "tx = np.where(paramLC_potSNIa == 1)[0]\n",
    "for x in tx:\n",
    "    fout.write(paramLC_candid[x]+'\\n')\n",
    "fout.close()"
   ]
  },
  {
   "cell_type": "markdown",
   "id": "266439bc-b4d3-41c4-8a2a-210d4101f5eb",
   "metadata": {},
   "source": [
    "### Plot the potential-SNIa menagerie"
   ]
  },
  {
   "cell_type": "code",
   "execution_count": null,
   "id": "1b94ab21-5eb1-4f6b-8d9f-0b65f7bbd9b4",
   "metadata": {},
   "outputs": [],
   "source": [
    "sx = np.where(paramLC_potSNIa == 1)[0]\n",
    "print(len(sx))\n",
    "print(paramLC_candid[sx])\n",
    "np.random.shuffle(sx)\n",
    "\n",
    "fig, ax = plt.subplots( 8, 5, figsize=(16,24), sharex=False, sharey=False )\n",
    "\n",
    "s = 0\n",
    "for i in range(8):\n",
    "    ax[i, 0].set_ylabel('magnitude', fontsize=14)\n",
    "    for j in range(5):\n",
    "        for f,filt in enumerate(all_filters):\n",
    "            cx0 = np.where((candLC_candid == paramLC_candid[sx[s]]) & \\\n",
    "                           (candLC_filter == filt) & (candLC_mrb > 0.4))[0]\n",
    "            cx1 = np.where((candLC_candid == paramLC_candid[sx[s]]) & \\\n",
    "                           (candLC_filter == filt) & (candLC_mrb <= 0.4))[0]\n",
    "            ax[i,j].plot(candLC_mjd[cx0]-59300., candLC_mag[cx0], \n",
    "                         all_fshapes[f], ms=all_fsizes[f], mew=0, alpha=0.8, color=all_fcolors[f], label=filt)\n",
    "            ax[i,j].plot(candLC_mjd[cx1]-59300., candLC_mag[cx1], \n",
    "                         all_fshapes[f], ms=all_fsizes[f], mew=1, alpha=0.8, color='none')\n",
    "            del cx0, cx1\n",
    "        ax[i,j].invert_yaxis()\n",
    "        ax[i,j].set_title(paramLC_candid[sx[s]])\n",
    "        s += 1\n",
    "\n",
    "ax[0,1].legend(loc='upper right', labelspacing=0.1, handletextpad=0.1, fontsize=14)\n",
    "\n",
    "for j in range(5):\n",
    "    ax[3,j].set_xlabel('MJD-59300', fontsize=14)\n",
    "\n",
    "plt.tight_layout()\n",
    "plt.show()\n",
    "del sx, s"
   ]
  },
  {
   "cell_type": "code",
   "execution_count": null,
   "id": "eebda9ff-52bd-4efc-abf3-fcf78403414b",
   "metadata": {},
   "outputs": [],
   "source": []
  },
  {
   "cell_type": "code",
   "execution_count": null,
   "id": "5cd90f25-92e0-4e29-8b76-32af2027e2ac",
   "metadata": {},
   "outputs": [],
   "source": []
  }
 ],
 "metadata": {
  "kernelspec": {
   "display_name": "NERSC Python",
   "language": "python",
   "name": "python3"
  },
  "language_info": {
   "codemirror_mode": {
    "name": "ipython",
    "version": 3
   },
   "file_extension": ".py",
   "mimetype": "text/x-python",
   "name": "python",
   "nbconvert_exporter": "python",
   "pygments_lexer": "ipython3",
   "version": "3.9.7"
  }
 },
 "nbformat": 4,
 "nbformat_minor": 5
}
