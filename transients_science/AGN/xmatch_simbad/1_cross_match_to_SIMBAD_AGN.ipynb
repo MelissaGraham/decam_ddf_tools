{
 "cells": [
  {
   "cell_type": "markdown",
   "id": "23f6be35-e7fb-4350-a75c-3f17de1b026d",
   "metadata": {},
   "source": [
    "# Cross-match to SIMBAD AGN in the DECam DDF COSMOS & ELAIS fields\n",
    "\n",
    "Previous work derived catalogs of AGN from SIMBAD, for the 2021 data only.\n",
    "\n",
    "Use these same catalogs (as the field areas have not changed) and cross-match to the\n",
    "candidates with nightly-epoch light curves being released with Paper II."
   ]
  },
  {
   "cell_type": "markdown",
   "id": "51e63400-1d16-4299-89eb-50ee89954a57",
   "metadata": {},
   "source": [
    "## Set up and read in data\n",
    "\n",
    "All the files have headers which explain the columns."
   ]
  },
  {
   "cell_type": "code",
   "execution_count": 1,
   "id": "1fe80f3a-a425-44ad-b580-ae0c367ff5e1",
   "metadata": {
    "execution": {
     "iopub.execute_input": "2024-05-15T23:32:50.628379Z",
     "iopub.status.busy": "2024-05-15T23:32:50.627620Z",
     "iopub.status.idle": "2024-05-15T23:32:50.635604Z",
     "shell.execute_reply": "2024-05-15T23:32:50.634240Z",
     "shell.execute_reply.started": "2024-05-15T23:32:50.628322Z"
    },
    "tags": [],
    "ExecuteTime": {
     "end_time": "2024-05-15T23:44:27.566045Z",
     "start_time": "2024-05-15T23:44:27.058855Z"
    }
   },
   "outputs": [],
   "source": [
    "import os\n",
    "import numpy as np\n",
    "import matplotlib.pyplot as plt\n",
    "import time\n",
    "from astropy.coordinates import SkyCoord\n",
    "import astropy.units as u\n",
    "\n",
    "import collections\n",
    "from astropy.io import ascii"
   ]
  },
  {
   "cell_type": "markdown",
   "id": "00d353d7-14ae-4cbf-94ef-1d3ed546906a",
   "metadata": {},
   "source": [
    "Plotting parameters for nightly-epoch light curves."
   ]
  },
  {
   "cell_type": "code",
   "execution_count": 2,
   "id": "5ead377a-290a-4a42-ba67-088d7b20b189",
   "metadata": {
    "execution": {
     "iopub.execute_input": "2024-05-15T23:32:50.638264Z",
     "iopub.status.busy": "2024-05-15T23:32:50.637659Z",
     "iopub.status.idle": "2024-05-15T23:32:50.645092Z",
     "shell.execute_reply": "2024-05-15T23:32:50.643677Z",
     "shell.execute_reply.started": "2024-05-15T23:32:50.638214Z"
    },
    "tags": [],
    "ExecuteTime": {
     "end_time": "2024-05-15T23:44:27.570344Z",
     "start_time": "2024-05-15T23:44:27.567132Z"
    }
   },
   "outputs": [],
   "source": [
    "all_filters = ['g','r','i']\n",
    "all_fcolors = ['green','red','blue']\n",
    "all_fshapes = ['o','s','^']\n",
    "all_fsizes  = [5, 5, 7]"
   ]
  },
  {
   "cell_type": "markdown",
   "id": "237c566f-7317-49bc-a101-fb52a20d5597",
   "metadata": {},
   "source": [
    "Candidate coordinates."
   ]
  },
  {
   "cell_type": "code",
   "execution_count": 3,
   "id": "a78bf668-0d04-4d71-98e8-29b01ca18a28",
   "metadata": {
    "execution": {
     "iopub.execute_input": "2024-05-15T23:32:50.647565Z",
     "iopub.status.busy": "2024-05-15T23:32:50.646954Z",
     "iopub.status.idle": "2024-05-15T23:32:50.681242Z",
     "shell.execute_reply": "2024-05-15T23:32:50.679924Z",
     "shell.execute_reply.started": "2024-05-15T23:32:50.647515Z"
    },
    "tags": [],
    "ExecuteTime": {
     "end_time": "2024-05-15T23:44:27.574659Z",
     "start_time": "2024-05-15T23:44:27.570236Z"
    }
   },
   "outputs": [],
   "source": [
    "fnm = '../../all_nightly_epochs_files/candidate_coordinates.dat'\n",
    "cand_id = np.loadtxt(fnm, dtype='str', usecols=(0))\n",
    "cand_ra = np.loadtxt(fnm, dtype='float', usecols=(1))\n",
    "cand_dec = np.loadtxt(fnm, dtype='float', usecols=(2))\n",
    "del fnm"
   ]
  },
  {
   "cell_type": "markdown",
   "id": "084d8d20-c803-48d6-8ddd-f1ede8c87320",
   "metadata": {},
   "source": [
    "Light curve data for candidates."
   ]
  },
  {
   "cell_type": "code",
   "execution_count": 4,
   "id": "169ec661-588a-47d9-9294-30664db52fea",
   "metadata": {
    "execution": {
     "iopub.execute_input": "2024-05-15T23:32:50.693899Z",
     "iopub.status.busy": "2024-05-15T23:32:50.693311Z",
     "iopub.status.idle": "2024-05-15T23:32:52.542684Z",
     "shell.execute_reply": "2024-05-15T23:32:52.541644Z",
     "shell.execute_reply.started": "2024-05-15T23:32:50.693852Z"
    },
    "tags": [],
    "ExecuteTime": {
     "end_time": "2024-05-15T23:44:27.757918Z",
     "start_time": "2024-05-15T23:44:27.575939Z"
    }
   },
   "outputs": [],
   "source": [
    "fnm = '../../all_nightly_epochs_files/candidate_lightcurves.dat'\n",
    "candLC_field = np.loadtxt(fnm, dtype='str', usecols=(0))\n",
    "candLC_candid = np.loadtxt(fnm, dtype='str', usecols=(1))\n",
    "candLC_caldate = np.loadtxt(fnm, dtype='str', usecols=(2))\n",
    "candLC_mjd = np.loadtxt(fnm, dtype='float', usecols=(3))\n",
    "candLC_filter = np.loadtxt(fnm, dtype='str', usecols=(4))\n",
    "candLC_Nobj = np.loadtxt(fnm, dtype='int', usecols=(5))\n",
    "candLC_mag = np.loadtxt(fnm, dtype='float', usecols=(6))\n",
    "candLC_mage = np.loadtxt(fnm, dtype='float', usecols=(7))\n",
    "candLC_mrb = np.loadtxt(fnm, dtype='float', usecols=(8))\n",
    "candLC_lef = np.loadtxt(fnm, dtype='float', usecols=(9))\n",
    "del fnm"
   ]
  },
  {
   "cell_type": "code",
   "execution_count": 5,
   "id": "2162e163-513d-4ff1-9f13-1b2022b052eb",
   "metadata": {
    "execution": {
     "iopub.execute_input": "2024-05-15T23:32:52.544080Z",
     "iopub.status.busy": "2024-05-15T23:32:52.543807Z",
     "iopub.status.idle": "2024-05-15T23:32:52.645301Z",
     "shell.execute_reply": "2024-05-15T23:32:52.644210Z",
     "shell.execute_reply.started": "2024-05-15T23:32:52.544058Z"
    },
    "tags": [],
    "ExecuteTime": {
     "end_time": "2024-05-15T23:44:27.775896Z",
     "start_time": "2024-05-15T23:44:27.761252Z"
    }
   },
   "outputs": [],
   "source": [
    "fnm = '../../all_nightly_epochs_files/candidate_lightcurve_parameters.dat'\n",
    "paramLC_field = np.loadtxt(fnm, dtype='str', usecols=(0))\n",
    "paramLC_candid = np.loadtxt(fnm, dtype='str', usecols=(1))\n",
    "paramLC_tspan = np.loadtxt(fnm, dtype='float', usecols=(2))\n",
    "paramLC_tspan_g = np.loadtxt(fnm, dtype='float', usecols=(3))\n",
    "paramLC_tspan_r = np.loadtxt(fnm, dtype='float', usecols=(4))\n",
    "paramLC_tspan_i = np.loadtxt(fnm, dtype='float', usecols=(5))\n",
    "paramLC_minmag = np.loadtxt(fnm, dtype='float', usecols=(6))\n",
    "paramLC_minmag_g = np.loadtxt(fnm, dtype='float', usecols=(7))\n",
    "paramLC_minmag_r = np.loadtxt(fnm, dtype='float', usecols=(8))\n",
    "paramLC_minmag_i = np.loadtxt(fnm, dtype='float', usecols=(9))\n",
    "paramLC_amp = np.loadtxt(fnm, dtype='float', usecols=(10))\n",
    "paramLC_amp_g = np.loadtxt(fnm, dtype='float', usecols=(11))\n",
    "paramLC_amp_r = np.loadtxt(fnm, dtype='float', usecols=(12))\n",
    "paramLC_amp_i = np.loadtxt(fnm, dtype='float', usecols=(13))\n",
    "paramLC_neps = np.loadtxt(fnm, dtype='int', usecols=(14))\n",
    "paramLC_neps_g = np.loadtxt(fnm, dtype='int', usecols=(15))\n",
    "paramLC_neps_r = np.loadtxt(fnm, dtype='int', usecols=(16))\n",
    "paramLC_neps_i = np.loadtxt(fnm, dtype='int', usecols=(17))\n",
    "del fnm"
   ]
  },
  {
   "cell_type": "markdown",
   "id": "903e8f72-3a4a-4440-ac0c-fa8ca3e8d132",
   "metadata": {},
   "source": [
    "Various lists of AGN from SIMBAD.\n",
    "\n",
    "RA and Dec are both in decimal degrees."
   ]
  },
  {
   "cell_type": "code",
   "execution_count": 6,
   "id": "3d9199a4-6a88-499a-980b-aa548f12fe62",
   "metadata": {
    "execution": {
     "iopub.execute_input": "2024-05-15T23:32:52.646862Z",
     "iopub.status.busy": "2024-05-15T23:32:52.646595Z",
     "iopub.status.idle": "2024-05-15T23:32:53.148927Z",
     "shell.execute_reply": "2024-05-15T23:32:53.147919Z",
     "shell.execute_reply.started": "2024-05-15T23:32:52.646840Z"
    },
    "tags": [],
    "ExecuteTime": {
     "end_time": "2024-05-15T23:44:27.847914Z",
     "start_time": "2024-05-15T23:44:27.780829Z"
    }
   },
   "outputs": [
    {
     "name": "stdout",
     "output_type": "stream",
     "text": [
      "cosmos  55623\n",
      "cosmos15  3696\n",
      "acs  2692\n",
      "elais  1867\n",
      "esis  347\n",
      "swire  209\n"
     ]
    }
   ],
   "source": [
    "fnm = 'all_agn_catalog_results/COSMOS_result.txt'\n",
    "cosmos_id = np.loadtxt(fnm, skiprows=2, delimiter='|', usecols={0}, dtype='str')\n",
    "cosmos_ra = np.loadtxt(fnm, skiprows=2, delimiter='|', usecols={1}, dtype='float')\n",
    "cosmos_dec = np.loadtxt(fnm, skiprows=2, delimiter='|', usecols={2}, dtype='float')\n",
    "cosmos_type = np.loadtxt(fnm, skiprows=2, delimiter='|', usecols={3}, dtype='str')\n",
    "print('cosmos ', len(cosmos_id))\n",
    "del fnm\n",
    "\n",
    "fnm = 'all_agn_catalog_results/COSMOS2015_result.txt'\n",
    "cosmos15_id = np.loadtxt(fnm, skiprows=2, delimiter='|', usecols={0}, dtype='str')\n",
    "cosmos15_ra = np.loadtxt(fnm, skiprows=2, delimiter='|', usecols={1}, dtype='float')\n",
    "cosmos15_dec = np.loadtxt(fnm, skiprows=2, delimiter='|', usecols={2}, dtype='float')\n",
    "cosmos15_type = np.loadtxt(fnm, skiprows=2, delimiter='|', usecols={3}, dtype='str')\n",
    "print('cosmos15 ', len(cosmos15_id))\n",
    "del fnm\n",
    "\n",
    "fnm = 'all_agn_catalog_results/ACS-GC_result.txt'\n",
    "acs_id = np.loadtxt(fnm, skiprows=2, delimiter='|', usecols={0}, dtype='str')\n",
    "acs_ra = np.loadtxt(fnm, skiprows=2, delimiter='|', usecols={1}, dtype='float')\n",
    "acs_dec = np.loadtxt(fnm, skiprows=2, delimiter='|', usecols={2}, dtype='float')\n",
    "acs_type = np.loadtxt(fnm, skiprows=2, delimiter='|', usecols={3}, dtype='str')\n",
    "print('acs ', len(acs_id))\n",
    "del fnm\n",
    "\n",
    "fnm = 'all_agn_catalog_results/ELAIS_result.txt'\n",
    "elais_id = np.loadtxt(fnm, skiprows=2, delimiter='|', usecols={0}, dtype='str')\n",
    "elais_ra = np.loadtxt(fnm, skiprows=2, delimiter='|', usecols={1}, dtype='float')\n",
    "elais_dec = np.loadtxt(fnm, skiprows=2, delimiter='|', usecols={2}, dtype='float')\n",
    "elais_type = np.loadtxt(fnm, skiprows=2, delimiter='|', usecols={3}, dtype='str')\n",
    "print('elais ', len(elais_id))\n",
    "del fnm\n",
    "\n",
    "fnm = 'all_agn_catalog_results/ESIS_result.txt'\n",
    "esis_id = np.loadtxt(fnm, skiprows=2, delimiter='|', usecols={0}, dtype='str')\n",
    "esis_ra = np.loadtxt(fnm, skiprows=2, delimiter='|', usecols={1}, dtype='float')\n",
    "esis_dec = np.loadtxt(fnm, skiprows=2, delimiter='|', usecols={2}, dtype='float')\n",
    "esis_type = np.loadtxt(fnm, skiprows=2, delimiter='|', usecols={3}, dtype='str')\n",
    "print('esis ', len(esis_id))\n",
    "del fnm\n",
    "\n",
    "fnm = 'all_agn_catalog_results/SWIRE_result.txt'\n",
    "swire_id = np.loadtxt(fnm, skiprows=2, delimiter='|', usecols={0}, dtype='str')\n",
    "swire_ra = np.loadtxt(fnm, skiprows=2, delimiter='|', usecols={1}, dtype='float')\n",
    "swire_dec = np.loadtxt(fnm, skiprows=2, delimiter='|', usecols={2}, dtype='float')\n",
    "swire_type = np.loadtxt(fnm, skiprows=2, delimiter='|', usecols={3}, dtype='str')\n",
    "print('swire ', len(swire_id))\n",
    "del fnm"
   ]
  },
  {
   "cell_type": "code",
   "execution_count": 7,
   "id": "73c3e67a-c6c3-432a-9b84-fcd1c2698f4d",
   "metadata": {
    "execution": {
     "iopub.execute_input": "2024-05-15T23:32:53.150446Z",
     "iopub.status.busy": "2024-05-15T23:32:53.150176Z",
     "iopub.status.idle": "2024-05-15T23:32:53.154904Z",
     "shell.execute_reply": "2024-05-15T23:32:53.154076Z",
     "shell.execute_reply.started": "2024-05-15T23:32:53.150424Z"
    },
    "tags": [],
    "ExecuteTime": {
     "end_time": "2024-05-15T23:44:27.848206Z",
     "start_time": "2024-05-15T23:44:27.845455Z"
    }
   },
   "outputs": [
    {
     "name": "stdout",
     "output_type": "stream",
     "text": [
      "64434\n"
     ]
    }
   ],
   "source": [
    "total = len(cosmos_id) + len(cosmos15_id) + len(acs_id) + len(elais_id) + len(esis_id) + len(swire_id)\n",
    "print(total)\n",
    "del total"
   ]
  },
  {
   "cell_type": "markdown",
   "id": "62d9a7d5-8c84-49b8-949d-bf5dd2a2aa28",
   "metadata": {},
   "source": [
    "Consolidate. There will be duplicates but that's OK."
   ]
  },
  {
   "cell_type": "code",
   "execution_count": 8,
   "id": "b27ff2eb-1773-4ba5-be2f-ed8f847309f2",
   "metadata": {
    "execution": {
     "iopub.execute_input": "2024-05-15T23:32:53.156018Z",
     "iopub.status.busy": "2024-05-15T23:32:53.155737Z",
     "iopub.status.idle": "2024-05-15T23:32:53.315549Z",
     "shell.execute_reply": "2024-05-15T23:32:53.314510Z",
     "shell.execute_reply.started": "2024-05-15T23:32:53.155997Z"
    },
    "tags": [],
    "ExecuteTime": {
     "end_time": "2024-05-15T23:44:27.914606Z",
     "start_time": "2024-05-15T23:44:27.887881Z"
    }
   },
   "outputs": [],
   "source": [
    "tmp_id = []\n",
    "tmp_ra = []\n",
    "tmp_dec = []\n",
    "tmp_type = []\n",
    "tmp_cat = []\n",
    "\n",
    "for i in range(len(cosmos_id)):\n",
    "    tmp_id.append(cosmos_id[i])\n",
    "    tmp_ra.append(cosmos_ra[i])\n",
    "    tmp_dec.append(cosmos_dec[i])\n",
    "    tmp_type.append(cosmos_type[i])\n",
    "    tmp_cat.append('cosmos')\n",
    "\n",
    "for i in range(len(cosmos15_id)):\n",
    "    tmp_id.append(cosmos15_id[i])\n",
    "    tmp_ra.append(cosmos15_ra[i])\n",
    "    tmp_dec.append(cosmos15_dec[i])\n",
    "    tmp_type.append(cosmos15_type[i])\n",
    "    tmp_cat.append('cosmos15')\n",
    "\n",
    "for i in range(len(acs_id)):\n",
    "    tmp_id.append(acs_id[i])\n",
    "    tmp_ra.append(acs_ra[i])\n",
    "    tmp_dec.append(acs_dec[i])\n",
    "    tmp_type.append(acs_type[i])\n",
    "    tmp_cat.append('acs')\n",
    "\n",
    "for i in range(len(elais_id)):\n",
    "    tmp_id.append(elais_id[i])\n",
    "    tmp_ra.append(elais_ra[i])\n",
    "    tmp_dec.append(elais_dec[i])\n",
    "    tmp_type.append(elais_type[i])\n",
    "    tmp_cat.append('elais')\n",
    "\n",
    "for i in range(len(esis_id)):\n",
    "    tmp_id.append(esis_id[i])\n",
    "    tmp_ra.append(esis_ra[i])\n",
    "    tmp_dec.append(esis_dec[i])\n",
    "    tmp_type.append(esis_type[i])\n",
    "    tmp_cat.append('esis')\n",
    "\n",
    "for i in range(len(swire_id)):\n",
    "    tmp_id.append(swire_id[i])\n",
    "    tmp_ra.append(swire_ra[i])\n",
    "    tmp_dec.append(swire_dec[i])\n",
    "    tmp_type.append(swire_type[i])\n",
    "    tmp_cat.append('swire')\n",
    "\n",
    "agn_id = np.asarray(tmp_id, dtype='str')\n",
    "agn_ra = np.asarray(tmp_ra, dtype='float')\n",
    "agn_dec = np.asarray(tmp_dec, dtype='float')\n",
    "agn_type = np.asarray(tmp_type, dtype='str')\n",
    "agn_cat = np.asarray(tmp_cat, dtype='str')\n",
    "\n",
    "del tmp_id, tmp_ra, tmp_dec, tmp_type, tmp_cat\n",
    "del cosmos_id, cosmos_ra, cosmos_dec, cosmos_type\n",
    "del cosmos15_id, cosmos15_ra, cosmos15_dec, cosmos15_type\n",
    "del acs_id, acs_ra, acs_dec, acs_type\n",
    "del elais_id, elais_ra, elais_dec, elais_type\n",
    "del esis_id, esis_ra, esis_dec, esis_type\n",
    "del swire_id, swire_ra, swire_dec, swire_type"
   ]
  },
  {
   "cell_type": "markdown",
   "id": "99605f90-300c-4d0d-a889-ede089fa5d8d",
   "metadata": {},
   "source": [
    "There's going to be cross-matching, so use `astropy` `SkyCoord`."
   ]
  },
  {
   "cell_type": "code",
   "execution_count": 9,
   "id": "3f3e929c-4598-4cc2-8845-f94249aeb763",
   "metadata": {
    "execution": {
     "iopub.execute_input": "2024-05-15T23:32:53.316779Z",
     "iopub.status.busy": "2024-05-15T23:32:53.316499Z",
     "iopub.status.idle": "2024-05-15T23:32:53.323483Z",
     "shell.execute_reply": "2024-05-15T23:32:53.322504Z",
     "shell.execute_reply.started": "2024-05-15T23:32:53.316756Z"
    },
    "tags": [],
    "ExecuteTime": {
     "end_time": "2024-05-15T23:44:27.918881Z",
     "start_time": "2024-05-15T23:44:27.915161Z"
    }
   },
   "outputs": [],
   "source": [
    "agn_coords = SkyCoord(agn_ra, agn_dec, unit='deg')"
   ]
  },
  {
   "cell_type": "code",
   "execution_count": 10,
   "id": "2c29c790-ddbf-4d7f-9055-55bd6b536c8a",
   "metadata": {
    "execution": {
     "iopub.execute_input": "2024-05-15T23:32:53.324453Z",
     "iopub.status.busy": "2024-05-15T23:32:53.324194Z",
     "iopub.status.idle": "2024-05-15T23:32:53.328820Z",
     "shell.execute_reply": "2024-05-15T23:32:53.328035Z",
     "shell.execute_reply.started": "2024-05-15T23:32:53.324432Z"
    },
    "tags": [],
    "ExecuteTime": {
     "end_time": "2024-05-15T23:44:27.922754Z",
     "start_time": "2024-05-15T23:44:27.919305Z"
    }
   },
   "outputs": [],
   "source": [
    "cand_coords = SkyCoord(cand_ra, cand_dec, unit='deg')"
   ]
  },
  {
   "cell_type": "markdown",
   "id": "ce182c45-12c8-4c3b-828b-486f671d464b",
   "metadata": {},
   "source": [
    "## Cross-match\n",
    "\n",
    "The AGN are all within the boundaries of the ELAIS or COSMOS fields.\n",
    "\n",
    "Record the match indices and also the number of matches.\n",
    "\n",
    "For candidates, record the minimum separation and the stadard deviation in separations.\n",
    "The latter is always very small showing multiple matches are just the result of duplication."
   ]
  },
  {
   "cell_type": "code",
   "execution_count": 11,
   "id": "3087f6f8-3371-4be3-a48b-c8da9603382b",
   "metadata": {
    "execution": {
     "iopub.execute_input": "2024-05-15T23:32:53.330747Z",
     "iopub.status.busy": "2024-05-15T23:32:53.330475Z",
     "iopub.status.idle": "2024-05-15T23:32:53.335915Z",
     "shell.execute_reply": "2024-05-15T23:32:53.335023Z",
     "shell.execute_reply.started": "2024-05-15T23:32:53.330725Z"
    },
    "tags": [],
    "ExecuteTime": {
     "end_time": "2024-05-15T23:44:27.926967Z",
     "start_time": "2024-05-15T23:44:27.922558Z"
    }
   },
   "outputs": [],
   "source": [
    "agn_cindex = np.zeros(len(agn_id), dtype='int') - 1\n",
    "agn_nmatches = np.zeros(len(agn_id), dtype='int')\n",
    "\n",
    "cand_aindex = np.zeros(len(cand_id), dtype='int') - 1\n",
    "cand_minsep = np.zeros(len(cand_id), dtype='float')\n",
    "cand_stdsep = np.zeros(len(cand_id), dtype='float')\n",
    "cand_nmatches = np.zeros(len(cand_id), dtype='int')"
   ]
  },
  {
   "cell_type": "code",
   "execution_count": 12,
   "id": "bd3e22d6-85e5-46cd-9989-04fb7b49b65f",
   "metadata": {
    "execution": {
     "iopub.execute_input": "2024-05-15T23:32:53.336940Z",
     "iopub.status.busy": "2024-05-15T23:32:53.336680Z",
     "iopub.status.idle": "2024-05-15T23:33:00.360485Z",
     "shell.execute_reply": "2024-05-15T23:33:00.359370Z",
     "shell.execute_reply.started": "2024-05-15T23:32:53.336919Z"
    },
    "tags": [],
    "ExecuteTime": {
     "end_time": "2024-05-15T23:44:29.795468Z",
     "start_time": "2024-05-15T23:44:27.926876Z"
    }
   },
   "outputs": [
    {
     "name": "stdout",
     "output_type": "stream",
     "text": [
      "CPU times: user 1.79 s, sys: 58.1 ms, total: 1.85 s\n",
      "Wall time: 1.86 s\n"
     ]
    }
   ],
   "source": [
    "%%time\n",
    "\n",
    "agn_candidates = np.array([])\n",
    "\n",
    "for c, cand in enumerate(cand_id):\n",
    "    tx = np.where((np.abs(agn_ra - cand_ra[c])*3600.0 < 10.0) & \n",
    "                  (np.abs(agn_dec - cand_dec[c])*3600.0 < 10.0))[0]\n",
    "    sep = cand_coords[c].separation(agn_coords[tx]).arcsec\n",
    "    sx = np.where(sep < 2.)[0]\n",
    "    if len(sx) > 0:\n",
    "        mx = np.argmin(sep)\n",
    "        cand_aindex[c] = tx[sx[mx]]\n",
    "        cand_nmatches[c] = len(sx)\n",
    "        cand_minsep[c] = sep[sx[mx]]\n",
    "        cand_stdsep[c] = np.std(sep[sx])\n",
    "        del mx\n",
    "        agn_candidates = np.append(agn_candidates,cand_id[c])\n",
    "    agn_cindex[tx[sx]] = c\n",
    "    agn_nmatches[tx[sx]] += 1\n",
    "    del sep, tx, sx"
   ]
  },
  {
   "cell_type": "code",
   "execution_count": 13,
   "id": "dec2e6a0-6792-4b2c-b93e-10b69e09a854",
   "metadata": {
    "execution": {
     "iopub.execute_input": "2024-05-15T23:33:00.361954Z",
     "iopub.status.busy": "2024-05-15T23:33:00.361664Z",
     "iopub.status.idle": "2024-05-15T23:33:00.386478Z",
     "shell.execute_reply": "2024-05-15T23:33:00.385537Z",
     "shell.execute_reply.started": "2024-05-15T23:33:00.361929Z"
    },
    "tags": [],
    "ExecuteTime": {
     "end_time": "2024-05-15T23:44:29.799894Z",
     "start_time": "2024-05-15T23:44:29.795036Z"
    }
   },
   "outputs": [
    {
     "name": "stdout",
     "output_type": "stream",
     "text": [
      "candidates with one match:  109\n",
      " \n",
      "candidates with multiple matches:  357\n",
      "mean stdsep  0.001335834128174628\n",
      "how many times was the std in separations large-ish?\n",
      "2 [0.21771448 0.2591783 ]\n",
      "the vast majority of the time, multiple matches are just to duplicates\n",
      " \n",
      "candidates with one or more matches:  466\n",
      "\"AGN\"     119\n",
      "\"BLL\"     2\n",
      "\"QSO\"     325\n",
      "\"Sy1\"     18\n",
      "\"Sy2\"     1\n",
      "\"SyG\"     1\n"
     ]
    }
   ],
   "source": [
    "tx = np.where(cand_nmatches == 1)[0]\n",
    "print('candidates with one match: ', len(tx))\n",
    "del tx\n",
    "print(' ')\n",
    "\n",
    "tx = np.where(cand_nmatches > 1)[0]\n",
    "print('candidates with multiple matches: ', len(tx))\n",
    "\n",
    "mean_stdsep = np.mean(cand_stdsep[tx])\n",
    "print('mean stdsep ', mean_stdsep)\n",
    "ttx = np.where(cand_stdsep[tx] > mean_stdsep * 3)[0]\n",
    "print('how many times was the std in separations large-ish?')\n",
    "print(len(ttx), cand_stdsep[tx[ttx]])\n",
    "del tx\n",
    "print('the vast majority of the time, multiple matches are just to duplicates')\n",
    "print(' ')\n",
    "\n",
    "tx = np.where(cand_nmatches >= 1)[0]\n",
    "print('candidates with one or more matches: ', len(tx))\n",
    "\n",
    "values, counts = np.unique(agn_type[cand_aindex[tx]], return_counts=True)\n",
    "for v, val in enumerate(values):\n",
    "    print(val, counts[v])\n",
    "\n",
    "savefile = 'crossmatch_AGN_types.txt'\n",
    "dictionary = collections.OrderedDict()\n",
    "dictionary['id']       = cand_id[tx]\n",
    "dictionary['agn_type'] = agn_type[cand_aindex[tx]]\n",
    "ascii.write(dictionary, savefile, format=\"fixed_width\", delimiter=' ', overwrite=True)\n",
    "\n",
    "del tx"
   ]
  },
  {
   "cell_type": "code",
   "execution_count": 14,
   "id": "5edb12d6-fd1a-425c-b38a-55c9ebe9f6a7",
   "metadata": {
    "execution": {
     "iopub.execute_input": "2024-05-15T23:33:00.387547Z",
     "iopub.status.busy": "2024-05-15T23:33:00.387287Z",
     "iopub.status.idle": "2024-05-15T23:33:00.394107Z",
     "shell.execute_reply": "2024-05-15T23:33:00.393332Z",
     "shell.execute_reply.started": "2024-05-15T23:33:00.387526Z"
    },
    "tags": [],
    "ExecuteTime": {
     "end_time": "2024-05-15T23:44:29.807409Z",
     "start_time": "2024-05-15T23:44:29.802530Z"
    }
   },
   "outputs": [
    {
     "name": "stdout",
     "output_type": "stream",
     "text": [
      "agn with one match:  4112\n",
      "agn with multiple matches:  242\n",
      "agn with one or more matches:  4354\n"
     ]
    }
   ],
   "source": [
    "tx = np.where(agn_nmatches == 1)[0]\n",
    "print('agn with one match: ', len(tx))\n",
    "del tx\n",
    "tx = np.where(agn_nmatches > 1)[0]\n",
    "print('agn with multiple matches: ', len(tx))\n",
    "del tx\n",
    "tx = np.where(agn_nmatches >= 1)[0]\n",
    "print('agn with one or more matches: ', len(tx))\n",
    "del tx"
   ]
  },
  {
   "cell_type": "markdown",
   "id": "1aab53b6-7f33-462f-a94f-3369c1bb6e2a",
   "metadata": {},
   "source": [
    "## Identify some AGN-like variable candidates, explore light curve\n",
    "\n",
    "Some loose constraints on what \"AGN-like\" variability means."
   ]
  },
  {
   "cell_type": "code",
   "execution_count": 15,
   "id": "f509975b-87db-4f8a-b50e-b8a09025892e",
   "metadata": {
    "execution": {
     "iopub.execute_input": "2024-05-15T23:33:00.395098Z",
     "iopub.status.busy": "2024-05-15T23:33:00.394835Z",
     "iopub.status.idle": "2024-05-15T23:33:00.406644Z",
     "shell.execute_reply": "2024-05-15T23:33:00.405640Z",
     "shell.execute_reply.started": "2024-05-15T23:33:00.395077Z"
    },
    "tags": [],
    "ExecuteTime": {
     "end_time": "2024-05-15T23:44:29.808668Z",
     "start_time": "2024-05-15T23:44:29.806152Z"
    }
   },
   "outputs": [
    {
     "name": "stdout",
     "output_type": "stream",
     "text": [
      "234\n"
     ]
    }
   ],
   "source": [
    "min_tspan = 720\n",
    "max_minmag = 23\n",
    "min_amp = 0.2\n",
    "min_neps = 40\n",
    "tx = np.where(((paramLC_tspan_g >= min_tspan) | (paramLC_tspan_r >= min_tspan) | (paramLC_tspan_i >= min_tspan)) &\n",
    "              ((paramLC_minmag_g <= max_minmag) | (paramLC_minmag_r <= max_minmag) | (paramLC_minmag_i <= max_minmag)) & \n",
    "              ((paramLC_amp_g >= min_amp) | (paramLC_amp_r >= min_amp) | (paramLC_amp_i >= min_amp)) & \n",
    "              ((paramLC_neps_g >= min_neps) | (paramLC_neps_r >= min_neps) | (paramLC_neps_i >= min_neps)))[0]\n",
    "del min_tspan, max_minmag, min_amp, min_neps\n",
    "print(len(tx))\n",
    "\n",
    "potential_agn = paramLC_candid[tx]\n",
    "del tx"
   ]
  },
  {
   "cell_type": "markdown",
   "id": "aeea2b1c-7a3d-4d81-a9f3-4e7910c368a2",
   "metadata": {},
   "source": [
    "Identify candidates that vary like an AGN and are also matched to a catalog AGN.\n",
    "\n",
    "Take one example of each and plot light curves."
   ]
  },
  {
   "cell_type": "code",
   "execution_count": 16,
   "id": "78a8a84a-2eb4-4fc3-8d21-e83618e689dc",
   "metadata": {
    "execution": {
     "iopub.execute_input": "2024-05-15T23:33:00.407648Z",
     "iopub.status.busy": "2024-05-15T23:33:00.407377Z",
     "iopub.status.idle": "2024-05-15T23:33:00.433408Z",
     "shell.execute_reply": "2024-05-15T23:33:00.432724Z",
     "shell.execute_reply.started": "2024-05-15T23:33:00.407626Z"
    },
    "tags": [],
    "ExecuteTime": {
     "end_time": "2024-05-15T23:44:29.844364Z",
     "start_time": "2024-05-15T23:44:29.814883Z"
    }
   },
   "outputs": [
    {
     "name": "stdout",
     "output_type": "stream",
     "text": [
      "variable like and AGN and matched to known AGN:  121\n",
      "\"AGN\"     13\n",
      "\"QSO\"     103\n",
      "\"Sy1\"     5\n",
      "['DC21kpxs' 'DC21gux' 'DC21kree' 'DC21cgfio']\n",
      "['AGN' 'QSO' 'QSO' 'Sy1']\n"
     ]
    }
   ],
   "source": [
    "cand_varagn = np.zeros(len(cand_id), dtype='int')\n",
    "for c, cand in enumerate(cand_id):\n",
    "    tx = np.where(cand == potential_agn)[0]\n",
    "    if len(tx) == 1:\n",
    "        cand_varagn[c] = 1\n",
    "    del tx\n",
    "\n",
    "tx = np.where((cand_nmatches >= 1) & (cand_varagn == 1))[0]\n",
    "\n",
    "print('variable like and AGN and matched to known AGN: ', len(tx))\n",
    "\n",
    "types = agn_type[cand_aindex[tx]]\n",
    "values, counts = np.unique(types, return_counts=True)\n",
    "\n",
    "tmp1 = []\n",
    "tmp2 = []\n",
    "for v, val in enumerate(values):\n",
    "    print(val, counts[v])\n",
    "    ttx = np.where(agn_type[cand_aindex[tx]] == val)[0]\n",
    "    rx = np.random.choice(len(ttx), 1)\n",
    "    tmp1.append(cand_id[tx[ttx[rx[0]]]])\n",
    "    tmp2.append(val.strip().strip('\"'))\n",
    "    del rx\n",
    "    if val.strip().strip('\"') == 'QSO':\n",
    "        rx = np.random.choice(len(ttx), 1)\n",
    "        tmp1.append(cand_id[tx[ttx[rx[0]]]])\n",
    "        tmp2.append(val.strip().strip('\"'))\n",
    "        del rx        \n",
    "    del ttx\n",
    "del tx\n",
    "\n",
    "cand_of_int = np.asarray(tmp1, dtype='str')\n",
    "cand_of_int_type = np.asarray(tmp2, dtype='str')\n",
    "del tmp1, tmp2\n",
    "del types, values\n",
    "\n",
    "print(cand_of_int)\n",
    "print(cand_of_int_type)"
   ]
  },
  {
   "cell_type": "markdown",
   "id": "615420ff-fc40-455d-9d40-b225060284d3",
   "metadata": {},
   "source": [
    "Rearrange the order for the plot.\n",
    "\n",
    "Note that rG = radio galaxy.\n",
    "\n",
    "MLG side note: the first random batch was\n",
    "\n",
    "`['DC21lau' 'DC21eov' 'DC21fll' 'DC21bsih' 'DC21rmv' 'DC21uur']`\n",
    "\n",
    "`['AGN' 'QSO' 'QSO' 'Sy1' 'Sy2' 'rG']`\n"
   ]
  },
  {
   "cell_type": "code",
   "execution_count": 17,
   "id": "245f14ee-1bd1-45f8-83c0-4dee605e1b55",
   "metadata": {
    "execution": {
     "iopub.execute_input": "2024-05-15T23:33:00.434389Z",
     "iopub.status.busy": "2024-05-15T23:33:00.434130Z",
     "iopub.status.idle": "2024-05-15T23:33:00.441531Z",
     "shell.execute_reply": "2024-05-15T23:33:00.440732Z",
     "shell.execute_reply.started": "2024-05-15T23:33:00.434368Z"
    },
    "tags": [],
    "ExecuteTime": {
     "end_time": "2024-05-15T23:44:29.844876Z",
     "start_time": "2024-05-15T23:44:29.819281Z"
    }
   },
   "outputs": [
    {
     "name": "stdout",
     "output_type": "stream",
     "text": [
      "['DC21gux' 'DC21kree' 'DC21cgfio' 'DC21kpxs']\n",
      "['QSO' 'QSO' 'Sy1' 'AGN']\n"
     ]
    }
   ],
   "source": [
    "reorder_cand_of_int_type = np.asarray(['QSO', 'QSO', 'Sy1', 'AGN'], dtype='str')\n",
    "\n",
    "tmp = []\n",
    "tx = np.where(cand_of_int_type == 'QSO')[0]\n",
    "tmp.append(cand_of_int[tx[0]])\n",
    "tmp.append(cand_of_int[tx[1]])\n",
    "del tx\n",
    "\n",
    "tx = np.where(cand_of_int_type == 'Sy1')[0]\n",
    "tmp.append(cand_of_int[tx[0]])\n",
    "del tx\n",
    "\n",
    "tx = np.where(cand_of_int_type == 'AGN')[0]\n",
    "tmp.append(cand_of_int[tx[0]])\n",
    "del tx\n",
    "\n",
    "reorder_cand_of_int = np.asarray(tmp, dtype='str')\n",
    "del tmp\n",
    "\n",
    "print(reorder_cand_of_int)\n",
    "print(reorder_cand_of_int_type)"
   ]
  },
  {
   "cell_type": "code",
   "execution_count": 18,
   "id": "eedc09ed-a4fe-4796-8922-b2cf2d3876b0",
   "metadata": {
    "execution": {
     "iopub.execute_input": "2024-05-15T23:33:00.442600Z",
     "iopub.status.busy": "2024-05-15T23:33:00.442329Z",
     "iopub.status.idle": "2024-05-15T23:33:01.505565Z",
     "shell.execute_reply": "2024-05-15T23:33:01.504657Z",
     "shell.execute_reply.started": "2024-05-15T23:33:00.442571Z"
    },
    "tags": [],
    "ExecuteTime": {
     "end_time": "2024-05-15T23:44:30.140208Z",
     "start_time": "2024-05-15T23:44:29.825742Z"
    }
   },
   "outputs": [
    {
     "data": {
      "text/plain": "<Figure size 500x500 with 4 Axes>",
      "image/png": "[encoded data removed]"
     },
     "metadata": {},
     "output_type": "display_data"
    }
   ],
   "source": [
    "nrow = 2\n",
    "ncol = 2\n",
    "fig, ax = plt.subplots(nrow, ncol, figsize=(5, 5), sharex=False, sharey=False)\n",
    "\n",
    "x = 0\n",
    "for i in range(nrow):\n",
    "    ax[i, 0].set_ylabel('difference mag', fontsize=12)\n",
    "    for j in range(ncol):\n",
    "        if x <= len(reorder_cand_of_int)-1:\n",
    "            for f,filt in enumerate(all_filters):\n",
    "                cx0 = np.where((candLC_candid == reorder_cand_of_int[x]) & \\\n",
    "                               (candLC_filter == filt) & (candLC_mrb > 0.4))[0]\n",
    "                cx1 = np.where((candLC_candid == reorder_cand_of_int[x]) & \\\n",
    "                               (candLC_filter == filt) & (candLC_mrb <= 0.4) & (candLC_lef == 0))[0]\n",
    "                cx2 = np.where((candLC_candid == reorder_cand_of_int[x]) & \\\n",
    "                               (candLC_filter == filt) & (candLC_mrb <= 0.4) & (candLC_lef == 1))[0]\n",
    "                ax[i, j].plot(candLC_mjd[cx0], candLC_mag[cx0], \n",
    "                             all_fshapes[f], ms=all_fsizes[f], mew=0, alpha=0.8, color=all_fcolors[f], label=filt)\n",
    "                ax[i, j].plot(candLC_mjd[cx1], candLC_mag[cx1], \n",
    "                             all_fshapes[f], ms=all_fsizes[f], mew=1, alpha=0.8, color='none', mec=all_fcolors[f])\n",
    "                ax[i, j].plot(candLC_mjd[cx2], candLC_mag[cx2], \n",
    "                             all_fshapes[f], ms=all_fsizes[f]-1, mew=0, alpha=0.4, color=all_fcolors[f])\n",
    "                del cx0, cx1, cx2\n",
    "\n",
    "            cx = np.where((candLC_candid == reorder_cand_of_int[x]) & (candLC_lef == 0))[0]\n",
    "            xmin = np.min(candLC_mjd[cx])\n",
    "            xmax = np.max(candLC_mjd[cx])\n",
    "            del cx\n",
    "            ax[i, j].invert_yaxis()\n",
    "            ax[i, j].set_xlim([xmin-5, xmax+5])\n",
    "            del xmin, xmax\n",
    "            cx = np.where(cand_of_int == reorder_cand_of_int[x])[0]\n",
    "            ax[i, j].set_title(reorder_cand_of_int[x] + ' ' + reorder_cand_of_int_type[x])\n",
    "            x += 1\n",
    "\n",
    "ax[0, 1].legend(loc='best', labelspacing=0.1, handletextpad=0.1, fontsize=14)\n",
    "\n",
    "for j in range(ncol):\n",
    "    ax[nrow-1, j].set_xlabel('MJD', fontsize=12)\n",
    "\n",
    "plt.tight_layout()\n",
    "plt.savefig('agn_xmatch_lc.png')\n",
    "plt.show()\n",
    "del x"
   ]
  },
  {
   "cell_type": "code",
   "execution_count": 18,
   "id": "ab2b3fe8-1038-40c7-8e4f-1bfbaa371577",
   "metadata": {
    "ExecuteTime": {
     "end_time": "2024-05-15T23:44:30.143680Z",
     "start_time": "2024-05-15T23:44:30.139809Z"
    }
   },
   "outputs": [],
   "source": []
  }
 ],
 "metadata": {
  "kernelspec": {
   "display_name": "Python 3",
   "language": "python",
   "name": "python3"
  },
  "language_info": {
   "codemirror_mode": {
    "name": "ipython",
    "version": 3
   },
   "file_extension": ".py",
   "mimetype": "text/x-python",
   "name": "python",
   "nbconvert_exporter": "python",
   "pygments_lexer": "ipython3",
   "version": "3.8.8"
  }
 },
 "nbformat": 4,
 "nbformat_minor": 5
}
