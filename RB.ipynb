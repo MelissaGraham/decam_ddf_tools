{
 "cells": [
  {
   "cell_type": "markdown",
   "id": "0ac0c737-eb69-45ac-8337-86ecc5c8ec70",
   "metadata": {},
   "source": [
    "This notebook demonstrates correlations between the legitimacy of candidates and the RB scores of their candidates $\\textbf{IT DOESN'T SEEM TO BE WORKING YET}$\n",
    "\n",
    "For S.3.7, let's start with the R/B. Three histograms (in a row, g-r-i) of the R/B scores for all sources detected (ever) in COSMOS and ELAIS. Then in the row below, perhaps histograms of the average R/B scores for all candidates with at least 3 detections in a given filter in one night (i.e., likely reals). This will give us an immediate comparison of R/B values for \"all detections\" and \"all real candidates\"."
   ]
  },
  {
   "cell_type": "code",
   "execution_count": 1,
   "id": "c6960ea0-28c7-4591-8cb2-fe77921649f6",
   "metadata": {},
   "outputs": [],
   "source": [
    "import psycopg2\n",
    "import psycopg2.extras\n",
    "import getpass\n",
    "from IPython.display import display\n",
    "import ipywidgets\n",
    "import matplotlib.pyplot as plt\n",
    "import numpy as np\n",
    "import pandas as pd\n",
    "import matplotlib as mpl"
   ]
  },
  {
   "cell_type": "code",
   "execution_count": 2,
   "id": "c8e39097-68c4-463d-bbb3-0235f7d0ac83",
   "metadata": {},
   "outputs": [
    {
     "name": "stdin",
     "output_type": "stream",
     "text": [
      "DB User:  kennedyt\n",
      "DB Password:  ············\n"
     ]
    }
   ],
   "source": [
    "dbuser = input(\"DB User: \")\n",
    "dbpasswd = getpass.getpass(\"DB Password: \")"
   ]
  },
  {
   "cell_type": "code",
   "execution_count": 3,
   "id": "a311d883-6f2b-4ce8-8e46-55a2d666036c",
   "metadata": {},
   "outputs": [],
   "source": [
    "db = psycopg2.connect(f\"dbname='decat' user='{dbuser}' password='{dbpasswd}' host='decatdb.lbl.gov'\")"
   ]
  },
  {
   "cell_type": "code",
   "execution_count": 4,
   "id": "a98f6dd9-9629-4806-8611-4e7099efb398",
   "metadata": {},
   "outputs": [],
   "source": [
    "db.autocommit = True # Makes the computer nicer about SQL syntax errors\n",
    "\n",
    "cursor = db.cursor( cursor_factory = psycopg2.extras.DictCursor )"
   ]
  },
  {
   "cell_type": "code",
   "execution_count": 5,
   "id": "2ea0c596-4fbf-440e-aa05-fdc5416ba867",
   "metadata": {},
   "outputs": [],
   "source": [
    "font = {'size'   : 15}\n",
    "\n",
    "mpl.rc('font', **font)"
   ]
  },
  {
   "cell_type": "markdown",
   "id": "3a54f935-1121-4b51-b738-56469ab2bba7",
   "metadata": {},
   "source": [
    "### Top Panel"
   ]
  },
  {
   "cell_type": "code",
   "execution_count": 6,
   "id": "8e31c76f-91f6-48eb-a566-1adaaddabd64",
   "metadata": {},
   "outputs": [],
   "source": [
    "# Pulling in all the detctions ever from both COSMOS and ELIAS\n",
    "query = ( 'SELECT o.id, o.rb, o.candidate_id, e.filter, e.mjd, e.filename FROM objects o '\n",
    "         'JOIN subtractions s ON o.subtraction_id=s.id '\n",
    "         'JOIN exposures e ON e.id=s.exposure_id '\n",
    "         'WHERE q3c_radial_query(o.ra,o.dec,150,2.2,3) '\n",
    "         'LIMIT 10000000' )\n",
    "\n",
    "cursor.execute( query )\n",
    "\n",
    "COSMOSrbquery = np.array( cursor.fetchall() ).transpose()\n",
    "\n",
    "query = ( 'SELECT o.id, o.rb, o.candidate_id, e.filter, e.mjd, e.filename FROM objects o '\n",
    "         'JOIN subtractions s ON o.subtraction_id=s.id '\n",
    "         'JOIN exposures e ON s.exposure_id=e.id '\n",
    "         'WHERE q3c_radial_query(o.ra,o.dec,8.5,-43.5,2) '\n",
    "         'LIMIT 10000000' )\n",
    "\n",
    "cursor.execute( query )\n",
    "\n",
    "ELIASrbquery = np.array( cursor.fetchall() ).transpose()"
   ]
  },
  {
   "cell_type": "code",
   "execution_count": 7,
   "id": "bc64dfbc-d67e-498f-b6ee-cfe19850f9cf",
   "metadata": {
    "tags": []
   },
   "outputs": [],
   "source": [
    "# Eliminating dupes (COSMOS)\n",
    "C_dupes = np.array([COSMOSrbquery[1],COSMOSrbquery[2],COSMOSrbquery[3],COSMOSrbquery[4],COSMOSrbquery[5]]).transpose()\n",
    "C_dupes = np.array([\" \".join(i) for i in C_dupes])\n",
    "unique, ind = np.unique(C_dupes, return_index=True)\n",
    "uarr = np.array( [ i.split(\" \") for i in unique ] ).transpose()\n",
    "Cres = np.array( [COSMOSrbquery[0][ind], uarr[0], uarr[1], uarr[2], uarr[3], uarr[4]] )\n",
    "\n",
    "# Eliminating dupes (ELIAS)\n",
    "E_dupes = np.array([ELIASrbquery[1],ELIASrbquery[2],ELIASrbquery[3],ELIASrbquery[4],ELIASrbquery[5]]).transpose()\n",
    "E_dupes = np.array([\" \".join(i) for i in E_dupes])\n",
    "unique, ind = np.unique(E_dupes, return_index=True)\n",
    "uarr = np.array( [ i.split(\" \") for i in unique ] ).transpose()\n",
    "Eres = np.array( [ELIASrbquery[0][ind], uarr[0], uarr[1], uarr[2], uarr[3], uarr[4]] )"
   ]
  },
  {
   "cell_type": "code",
   "execution_count": 8,
   "id": "c0ed96b6-a19c-4478-b90b-bd7fb8f2386d",
   "metadata": {},
   "outputs": [],
   "source": [
    "# read in the exposure time lookup table\n",
    "lutable = np.loadtxt(\"archive_image_list.txt\", dtype=object).transpose()\n",
    "fnmtable, exptable = lutable[0], lutable[7].astype(float)\n",
    "\n",
    "\n",
    "# truncate filenames to match lookup table format (COSMOS)\n",
    "Cfnms = [ Cres[5][i][:21] for i in range( len( Cres[5] ) ) ]\n",
    "# find the exposure time for each object\n",
    "Cexptimes = np.array([exptable[np.where(Cfnms[i] == fnmtable)[0]][0] for i in range(len(Cfnms))], dtype=float)\n",
    "\n",
    "# truncate filenames to match lookup table format (ELIAS)\n",
    "Efnms = [ Eres[5][i][:21] for i in range( len( Eres[5] ) ) ]\n",
    "# find the exposure time for each object\n",
    "Eexptimes = np.array([exptable[np.where(Efnms[i] == fnmtable)[0]][0] for i in range(len(Efnms))], dtype=float)"
   ]
  },
  {
   "cell_type": "code",
   "execution_count": 9,
   "id": "bb6e6bf8-b3f3-4693-8042-6db4fa5d9ebb",
   "metadata": {},
   "outputs": [],
   "source": [
    "# Eliminate nonstandard exposure times (COSMOS)\n",
    "Cfilters = Cres[3]\n",
    "gmsk = np.where((Cfilters==\"g\") & (Cexptimes>50))[0]\n",
    "rmsk = np.where((Cfilters==\"r\") & (Cexptimes>20))[0]\n",
    "imsk = np.where((Cfilters==\"i\") & (Cexptimes>20))[0]\n",
    "\n",
    "grmsk = np.append(rmsk, gmsk)\n",
    "Cgrimsk = np.append(grmsk, imsk)\n",
    "Cres = [i[Cgrimsk] for i in Cres]\n",
    "\n",
    "# Eliminate nonstandard exposure times (ELIAS)\n",
    "Efilters = Eres[3]\n",
    "gmsk = np.where((Efilters==\"g\") & (Eexptimes>50))[0]\n",
    "rmsk = np.where((Efilters==\"r\") & (Eexptimes>20))[0]\n",
    "imsk = np.where((Efilters==\"i\") & (Eexptimes>20))[0]\n",
    "\n",
    "grmsk = np.append(rmsk, gmsk)\n",
    "Egrimsk = np.append(grmsk, imsk)\n",
    "Eres = [i[Egrimsk] for i in Eres]"
   ]
  },
  {
   "cell_type": "code",
   "execution_count": 10,
   "id": "7f526347-e072-4af0-b41b-ce08677f8239",
   "metadata": {},
   "outputs": [],
   "source": [
    "Cgmsk = np.where(Cres[3] == \"g\")[0]\n",
    "Crmsk = np.where(Cres[3] == \"r\")[0]\n",
    "Cimsk = np.where(Cres[3] == \"i\")[0]\n",
    "opic = [Cres[1][Cgmsk].astype(float),\n",
    "        Cres[1][Crmsk].astype(float),\n",
    "        Cres[1][Cimsk].astype(float)]\n",
    "Egmsk = np.where(Eres[3] == \"g\")[0]\n",
    "Ermsk = np.where(Eres[3] == \"r\")[0]\n",
    "Eimsk = np.where(Eres[3] == \"i\")[0]\n",
    "opie = [Eres[1][Egmsk].astype(float),\n",
    "        Eres[1][Ermsk].astype(float),\n",
    "        Eres[1][Eimsk].astype(float)]"
   ]
  },
  {
   "cell_type": "code",
   "execution_count": 11,
   "id": "c1d707e4-4dca-4cf1-b290-6b3094f7ef4b",
   "metadata": {},
   "outputs": [
    {
     "data": {
      "image/png": "[encoded data removed]",
      "text/plain": [
       "<Figure size 1080x288 with 3 Axes>"
      ]
     },
     "metadata": {
      "needs_background": "light"
     },
     "output_type": "display_data"
    }
   ],
   "source": [
    "c = ['darkgreen', 'red', 'brown', 'limegreen', 'darkorange', 'peru']\n",
    "bins = np.histogram(opic[0], bins=15)[1]\n",
    "fig, ax = plt.subplots( 1,3,figsize=(15,4), sharey=True )\n",
    "\n",
    "for i in [0,1,2]:\n",
    "    ax[i].yaxis.set_tick_params(which='both', labelbottom=True)\n",
    "    ax[i].hist( [opic[i],opie[i]], bins, stacked=True, color=[c[i],c[i+3]], label=['COSMOS','ELAIS'])\n",
    "    ax[i].legend()\n",
    "    ax[i].set_ylabel(\"Number of objects\")\n",
    "    ax[i].set_xlabel(\"R/B score\")\n",
    "fig.tight_layout()\n",
    "plt.savefig(\"./images/RBvobjsCOSMOS.png\")"
   ]
  },
  {
   "cell_type": "markdown",
   "id": "0b591fdb-8944-4d47-9d9e-be4c6a944930",
   "metadata": {},
   "source": [
    "### Bottom Panel"
   ]
  },
  {
   "cell_type": "code",
   "execution_count": 12,
   "id": "eb099d53-75fa-470f-a742-13305c7551df",
   "metadata": {
    "tags": []
   },
   "outputs": [
    {
     "name": "stdout",
     "output_type": "stream",
     "text": [
      "['DC21ba' 'DC21bam' 'DC21bao' 'DC21bap' 'DC21bbc' 'DC21bbe' 'DC21bby'\n",
      " 'DC21bc' 'DC21bcd' 'DC21bce' 'DC21bcn' 'DC21bdu' 'DC21bdw' 'DC21bdx'\n",
      " 'DC21beh' 'DC21bf' 'DC21bfq' 'DC21bfr' 'DC21bfs' 'DC21bfy' 'DC21bg'\n",
      " 'DC21bgl' 'DC21bgt' 'DC21bhk' 'DC21bhw' 'DC21bic' 'DC21bil' 'DC21bj'\n",
      " 'DC21bje' 'DC21bjy' 'DC21bkf' 'DC21bkj' 'DC21blg' 'DC21bma' 'DC21bmd'\n",
      " 'DC21bmx' 'DC21bne' 'DC21bnt' 'DC21boc' 'DC21bog' 'DC21boj' 'DC21bor'\n",
      " 'DC21bou' 'DC21bp' 'DC21bqj' 'DC21bqn' 'DC21bqo' 'DC21br' 'DC21bsa'\n",
      " 'DC21bsv' 'DC21bt' 'DC21btr' 'DC21but' 'DC21bv' 'DC21bvc' 'DC21bvf'\n",
      " 'DC21bvt' 'DC21bxb' 'DC21bxv' 'DC21by' 'DC21bzj' 'DC21bzn' 'DC21bzu'\n",
      " 'DC21bzv' 'DC21cav' 'DC21cbm' 'DC21ccg' 'DC21ccr' 'DC21cda' 'DC21cfc'\n",
      " 'DC21cgy' 'DC21che' 'DC21chg' 'DC21chi' 'DC21chk' 'DC21ci' 'DC21cja'\n",
      " 'DC21cjv' 'DC21cjy' 'DC21ck' 'DC21ckb' 'DC21ckc' 'DC21cl' 'DC21cla'\n",
      " 'DC21clc' 'DC21clw' 'DC21cm' 'DC21cmk' 'DC21cns' 'DC21cny' 'DC21co'\n",
      " 'DC21cpc' 'DC21cpj' 'DC21cqh' 'DC21crg' 'DC21crk' 'DC21csj' 'DC21cst'\n",
      " 'DC21csz' 'DC21ctu' 'DC21cui' 'DC21cuj' 'DC21cuy' 'DC21cv' 'DC21cva'\n",
      " 'DC21cvp' 'DC21cvz' 'DC21cwp' 'DC21cwv' 'DC21cww' 'DC21cwz' 'DC21cx'\n",
      " 'DC21cxk' 'DC21cxy' 'DC21cy' 'DC21cyv' 'DC21czm' 'DC21czz' 'DC21dae'\n",
      " 'DC21dal' 'DC21dam' 'DC21dc' 'DC21dcj' 'DC21dcq' 'DC21dcv' 'DC21de'\n",
      " 'DC21df' 'DC21dfa' 'DC21dfw' 'DC21dg' 'DC21dgr' 'DC21dgx' 'DC21dhl'\n",
      " 'DC21dhu' 'DC21did' 'DC21din' 'DC21diq' 'DC21dis' 'DC21dje' 'DC21djp'\n",
      " 'DC21dk' 'DC21dlm' 'DC21dlp' 'DC21dlz' 'DC21dm' 'DC21dme' 'DC21dmh'\n",
      " 'DC21dmp' 'DC21dn' 'DC21dna' 'DC21do' 'DC21doo' 'DC21dou' 'DC21dpj'\n",
      " 'DC21dq' 'DC21dqf' 'DC21dqj' 'DC21dra' 'DC21drc' 'DC21drm' 'DC21du'\n",
      " 'DC21duo' 'DC21dvp' 'DC21dw' 'DC21dwl' 'DC21dxf' 'DC21dxv' 'DC21dys'\n",
      " 'DC21dyx' 'DC21dz' 'DC21dzc' 'DC21dzg' 'DC21dzu' 'DC21eap' 'DC21eb'\n",
      " 'DC21eek' 'DC21eer' 'DC21eg' 'DC21egs' 'DC21ei' 'DC21ejz' 'DC21ek'\n",
      " 'DC21eku' 'DC21el' 'DC21elk' 'DC21ely' 'DC21emi' 'DC21ent' 'DC21ep'\n",
      " 'DC21epk' 'DC21epl' 'DC21epv' 'DC21eqh' 'DC21eqt' 'DC21eqv' 'DC21eqx'\n",
      " 'DC21esa' 'DC21esh' 'DC21esr' 'DC21ess' 'DC21est' 'DC21et' 'DC21etm'\n",
      " 'DC21eua' 'DC21ev' 'DC21ewk' 'DC21ext' 'DC21ez' 'DC21ezm' 'DC21fbc'\n",
      " 'DC21fbg' 'DC21fcj' 'DC21fet' 'DC21ff' 'DC21ffu' 'DC21fg' 'DC21fga'\n",
      " 'DC21fh' 'DC21fhu' 'DC21fhz' 'DC21fij' 'DC21fjb' 'DC21fkj' 'DC21fky'\n",
      " 'DC21fn' 'DC21fnn' 'DC21fnz' 'DC21fob' 'DC21fpb' 'DC21fpx' 'DC21fro'\n",
      " 'DC21frx' 'DC21fs' 'DC21fsl' 'DC21fsr' 'DC21ftu' 'DC21fuz' 'DC21fwf'\n",
      " 'DC21fz' 'DC21fza' 'DC21gaz' 'DC21gbn' 'DC21gdc' 'DC21gga' 'DC21ggk'\n",
      " 'DC21gha' 'DC21ghy' 'DC21gjr' 'DC21gmp' 'DC21grk' 'DC21gw' 'DC21gy'\n",
      " 'DC21hb' 'DC21hck' 'DC21hf' 'DC21hke' 'DC21hl' 'DC21hnf' 'DC21hoh'\n",
      " 'DC21hpp' 'DC21hq' 'DC21hqp' 'DC21hzb' 'DC21ia' 'DC21iar' 'DC21iba'\n",
      " 'DC21ico' 'DC21icu' 'DC21icx' 'DC21id' 'DC21idu' 'DC21ie' 'DC21ien'\n",
      " 'DC21iet' 'DC21ig' 'DC21igo' 'DC21igs' 'DC21iij' 'DC21iit' 'DC21ijy'\n",
      " 'DC21ikv' 'DC21ilq' 'DC21im' 'DC21inf' 'DC21io' 'DC21ip' 'DC21ipa'\n",
      " 'DC21ipm' 'DC21iqe' 'DC21iqu' 'DC21iri' 'DC21isc' 'DC21ish' 'DC21isw'\n",
      " 'DC21itx' 'DC21iv' 'DC21ivk' 'DC21ivw' 'DC21iwg' 'DC21ixu' 'DC21ixy'\n",
      " 'DC21ja' 'DC21jb' 'DC21jc' 'DC21jdt' 'DC21je' 'DC21jeu' 'DC21jf'\n",
      " 'DC21jfs' 'DC21jg' 'DC21jh' 'DC21jkf' 'DC21jlv' 'DC21jns' 'DC21jtl'\n",
      " 'DC21ju' 'DC21jvg' 'DC21jxl' 'DC21jy' 'DC21ka' 'DC21kdx' 'DC21ke'\n",
      " 'DC21kg' 'DC21kh' 'DC21khn' 'DC21khp' 'DC21ki' 'DC21kie' 'DC21kk'\n",
      " 'DC21kr' 'DC21kxh' 'DC21ky' 'DC21kz' 'DC21kzo' 'DC21lbr' 'DC21lf'\n",
      " 'DC21lg' 'DC21lh' 'DC21lk' 'DC21lmt' 'DC21lo' 'DC21lv' 'DC21lw' 'DC21lx'\n",
      " 'DC21mk' 'DC21ms' 'DC21mt' 'DC21nba' 'DC21nc' 'DC21ndm' 'DC21nfm'\n",
      " 'DC21ng' 'DC21ni' 'DC21nj' 'DC21np' 'DC21nr' 'DC21oc' 'DC21oe' 'DC21oh'\n",
      " 'DC21oj' 'DC21om' 'DC21op' 'DC21opq' 'DC21or' 'DC21os' 'DC21ot' 'DC21oy'\n",
      " 'DC21oz' 'DC21pf' 'DC21ph' 'DC21pi' 'DC21pk' 'DC21pl' 'DC21ppu' 'DC21pq'\n",
      " 'DC21pt' 'DC21qa' 'DC21qg' 'DC21qx' 'DC21ri' 'DC21rj' 'DC21sc' 'DC21sd'\n",
      " 'DC21so' 'DC21tc' 'DC21vg' 'DC21vj' 'DC21wa' 'DC21wt' 'DC21xd' 'DC21xh'\n",
      " 'DC21xm' 'DC21yo' 'DC21yv' 'DC21yw' 'DC21yx' 'DC21zg' 'DC21zl']\n",
      "['DC21ba' 'DC21bad' 'DC21bae' ... 'DC21zs' 'DC21zt' 'DC21zu']\n",
      "['DC21bae' 'DC21baii' 'DC21bal' 'DC21bamf' 'DC21bbcr' 'DC21bcnb' 'DC21beg'\n",
      " 'DC21bflx' 'DC21bfs' 'DC21bg' 'DC21bib' 'DC21bidu' 'DC21bimg' 'DC21bjtx'\n",
      " 'DC21bjy' 'DC21blbo' 'DC21blkp' 'DC21bmd' 'DC21bne' 'DC21brb' 'DC21bvywj'\n",
      " 'DC21bvywo' 'DC21bvywt' 'DC21bvyyw' 'DC21bvyzm' 'DC21bvzab' 'DC21bvzck'\n",
      " 'DC21bvzco' 'DC21bvzfx' 'DC21bvzgx' 'DC21bvzhq' 'DC21bvzin' 'DC21bvzio'\n",
      " 'DC21bvzjs' 'DC21bvzrk' 'DC21bvzsz' 'DC21bvzze' 'DC21bwahq' 'DC21bwame'\n",
      " 'DC21bwayk' 'DC21bxf' 'DC21bxhj' 'DC21bxv' 'DC21by' 'DC21cbm' 'DC21cdf'\n",
      " 'DC21cdh' 'DC21cep' 'DC21cfh' 'DC21cgm' 'DC21cicb' 'DC21cje' 'DC21clm'\n",
      " 'DC21cmq' 'DC21cpb' 'DC21cpt' 'DC21cpw' 'DC21ctc' 'DC21cvr' 'DC21cyi'\n",
      " 'DC21cym' 'DC21cyox' 'DC21cyv' 'DC21cz' 'DC21dae' 'DC21dau' 'DC21div'\n",
      " 'DC21dlp' 'DC21dna' 'DC21drdu' 'DC21dvw' 'DC21dzg' 'DC21eio' 'DC21emj'\n",
      " 'DC21eqh' 'DC21eqx' 'DC21esh' 'DC21etbz' 'DC21evix' 'DC21fdv' 'DC21ffz'\n",
      " 'DC21fg' 'DC21fhu' 'DC21ftfg' 'DC21fwt' 'DC21fza' 'DC21gcl' 'DC21ggfv'\n",
      " 'DC21gha' 'DC21gj' 'DC21gjo' 'DC21gmx' 'DC21gyq' 'DC21hat' 'DC21hdh'\n",
      " 'DC21hdw' 'DC21hqy' 'DC21hxr' 'DC21ibk' 'DC21ify' 'DC21igwk' 'DC21ii'\n",
      " 'DC21im' 'DC21ioi' 'DC21ivc' 'DC21jaw' 'DC21jct' 'DC21jdt' 'DC21jw'\n",
      " 'DC21jwk' 'DC21jxg' 'DC21klu' 'DC21kq' 'DC21krz' 'DC21ksc' 'DC21kub'\n",
      " 'DC21kzu' 'DC21lyj' 'DC21lz' 'DC21mjz' 'DC21mk' 'DC21mmx' 'DC21mpu'\n",
      " 'DC21nce' 'DC21ni' 'DC21nny' 'DC21npb' 'DC21npr' 'DC21ot' 'DC21pcn'\n",
      " 'DC21psw' 'DC21pxh' 'DC21qpd' 'DC21qvt' 'DC21rmv' 'DC21scs' 'DC21sj'\n",
      " 'DC21tqk' 'DC21uce' 'DC21vkd' 'DC21vz' 'DC21wt' 'DC21xm' 'DC21yn'\n",
      " 'DC21zaj' 'DC21zrv']\n"
     ]
    }
   ],
   "source": [
    "x = []\n",
    "for f in [Cgmsk, Crmsk, Cimsk]:\n",
    "    # Select the nights, candidates, and a list of unique candidates in a certain filter\n",
    "    Crnights = np.round( Cres[4][f].astype(float) )\n",
    "    Ccands = Cres[2][f]\n",
    "    Cucands = np.unique(Cres[2][f])\n",
    "    # Get a list of every observing night\n",
    "    unights = np.unique(Crnights)\n",
    "\n",
    "    # Make a list of every candidate (including repeats) detected in each night\n",
    "    arr = [ Ccands[ Crnights == i ] for i in unights ]\n",
    "\n",
    "    # Create arrays \n",
    "    newarr = [ np.array( np.unique( i, return_index=True, return_counts = True) ) for i in arr ]\n",
    "    cands = [i[0] for i in newarr]\n",
    "    indices = [i[1] for i in newarr]\n",
    "    cts = [i[2] for i in newarr]\n",
    "\n",
    "    newnewarr = [ cands[i][ np.where(cts[i].astype(int) > 3)[0] ] for i in range(len(newarr)) ]\n",
    "    print(newnewarr[0])\n",
    "    for i in newnewarr:\n",
    "        x.extend(i)\n",
    "goodcands = np.unique(x)"
   ]
  },
  {
   "cell_type": "code",
   "execution_count": 13,
   "id": "2ca60bb2-733e-4636-bd77-e82128c6a589",
   "metadata": {},
   "outputs": [
    {
     "data": {
      "text/plain": [
       "14052"
      ]
     },
     "execution_count": 13,
     "metadata": {},
     "output_type": "execute_result"
    }
   ],
   "source": [
    "len(goodcands)"
   ]
  },
  {
   "cell_type": "code",
   "execution_count": 14,
   "id": "683a34f8-bd6a-4b94-a229-dcc190a55247",
   "metadata": {},
   "outputs": [
    {
     "data": {
      "text/plain": [
       "(array([365730.,  19991.,  11442.,   8265.,   6677.,   5829.,   5390.,\n",
       "          5387.,   6127.,  77967.]),\n",
       " array([0.        , 0.09999991, 0.19999982, 0.29999973, 0.39999964,\n",
       "        0.49999954, 0.59999945, 0.69999936, 0.79999927, 0.89999918,\n",
       "        0.99999909]),\n",
       " <a list of 10 Patch objects>)"
      ]
     },
     "execution_count": 14,
     "metadata": {},
     "output_type": "execute_result"
    },
    {
     "data": {
      "image/png": "[encoded data removed]",
      "text/plain": [
       "<Figure size 432x288 with 1 Axes>"
      ]
     },
     "metadata": {
      "needs_background": "light"
     },
     "output_type": "display_data"
    }
   ],
   "source": [
    "msk = np.isin(COSMOSrbquery[2], goodcands, invert=True)\n",
    "plt.hist(COSMOSrbquery[1][msk].astype(float))"
   ]
  },
  {
   "cell_type": "code",
   "execution_count": 15,
   "id": "56dbba8e-93b3-4ba2-aee6-e1b61e82e4c7",
   "metadata": {},
   "outputs": [
    {
     "data": {
      "text/plain": [
       "(array([1049302.,   59410.,   30955.,   21210.,   16222.,   13588.,\n",
       "          12214.,   12047.,   13806.,   33545.]),\n",
       " array([0.        , 0.09999984, 0.19999968, 0.29999952, 0.39999937,\n",
       "        0.49999921, 0.59999905, 0.69999889, 0.79999873, 0.89999857,\n",
       "        0.99999841]),\n",
       " <a list of 10 Patch objects>)"
      ]
     },
     "execution_count": 15,
     "metadata": {},
     "output_type": "execute_result"
    },
    {
     "data": {
      "image/png": "[encoded data removed]",
      "text/plain": [
       "<Figure size 432x288 with 1 Axes>"
      ]
     },
     "metadata": {
      "needs_background": "light"
     },
     "output_type": "display_data"
    }
   ],
   "source": [
    "msk = np.isin(COSMOSrbquery[2], goodcands, invert=False)\n",
    "plt.hist(COSMOSrbquery[1][msk].astype(float))"
   ]
  },
  {
   "cell_type": "code",
   "execution_count": 16,
   "id": "992e2ff7-203f-4823-ba4e-17325704e6ad",
   "metadata": {},
   "outputs": [
    {
     "data": {
      "text/plain": [
       "1262299"
      ]
     },
     "execution_count": 16,
     "metadata": {},
     "output_type": "execute_result"
    }
   ],
   "source": [
    "sum(msk.astype(int))"
   ]
  },
  {
   "cell_type": "code",
   "execution_count": 17,
   "id": "91aba58e-6e2d-4456-ba82-cd10889b72f6",
   "metadata": {},
   "outputs": [
    {
     "data": {
      "text/plain": [
       "True"
      ]
     },
     "execution_count": 17,
     "metadata": {},
     "output_type": "execute_result"
    }
   ],
   "source": [
    "\"DC21dqik\" in goodcands"
   ]
  },
  {
   "cell_type": "code",
   "execution_count": 18,
   "id": "b79c77d2-415b-443d-a7cc-3ec2fe8acda1",
   "metadata": {},
   "outputs": [],
   "source": [
    "g = ['DC21bcpi', 'DC21bicq', 'DC21bkrj', 'DC21bpls', 'DC21cove',\n",
    "       'DC21cxou', 'DC21dhgr', 'DC21dqf', 'DC21dqik', 'DC21dtwb',\n",
    "       'DC21eqq', 'DC21fber', 'DC21homb', 'DC21hunj', 'DC21ixp',\n",
    "       'DC21kgy', 'DC21kog', 'DC21ktp', 'DC21kxb', 'DC21url']"
   ]
  },
  {
   "cell_type": "code",
   "execution_count": 19,
   "id": "249a5e21-49fa-4436-a654-82458343e10a",
   "metadata": {},
   "outputs": [
    {
     "name": "stdout",
     "output_type": "stream",
     "text": [
      "True\n",
      "True\n",
      "True\n",
      "True\n",
      "True\n",
      "True\n",
      "True\n",
      "True\n",
      "True\n",
      "True\n",
      "True\n",
      "True\n",
      "True\n",
      "True\n",
      "True\n",
      "True\n",
      "True\n",
      "True\n",
      "True\n",
      "True\n"
     ]
    },
    {
     "data": {
      "text/plain": [
       "[]"
      ]
     },
     "execution_count": 19,
     "metadata": {},
     "output_type": "execute_result"
    }
   ],
   "source": [
    "for i in g:\n",
    "    print(i in goodcands)\n",
    "[i for i in g if i not in goodcands]"
   ]
  },
  {
   "cell_type": "code",
   "execution_count": null,
   "id": "3d893a78-4903-401e-af45-9d2dfaf09362",
   "metadata": {},
   "outputs": [],
   "source": []
  }
 ],
 "metadata": {
  "kernelspec": {
   "display_name": "Python 3",
   "language": "python",
   "name": "python3"
  },
  "language_info": {
   "codemirror_mode": {
    "name": "ipython",
    "version": 3
   },
   "file_extension": ".py",
   "mimetype": "text/x-python",
   "name": "python",
   "nbconvert_exporter": "python",
   "pygments_lexer": "ipython3",
   "version": "3.7.4"
  }
 },
 "nbformat": 4,
 "nbformat_minor": 5
}
