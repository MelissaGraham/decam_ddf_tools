{
 "cells": [
  {
   "cell_type": "markdown",
   "id": "29e25564-0086-4eec-a9d2-4017963ee976",
   "metadata": {},
   "source": [
    "# Source Detection Summary\n",
    "\n",
    "Explore how many sources are detected as a function of, e.g., image quality, real/bogus score, etc."
   ]
  },
  {
   "cell_type": "markdown",
   "id": "6c422539-e69b-468a-b4b7-991051ce937a",
   "metadata": {},
   "source": [
    "## Connect to database"
   ]
  },
  {
   "cell_type": "code",
   "execution_count": null,
   "id": "739f39b0-2822-418f-8705-11463d6793f3",
   "metadata": {},
   "outputs": [],
   "source": [
    "import psycopg2\n",
    "import psycopg2.extras\n",
    "import getpass\n",
    "# from IPython.display import display\n",
    "# import ipywidgets\n",
    "\n",
    "import os\n",
    "import numpy as np\n",
    "import matplotlib as mpl\n",
    "import matplotlib.pyplot as plt\n",
    "# import pandas as pd\n",
    "\n",
    "from copy import deepcopy\n",
    "import time"
   ]
  },
  {
   "cell_type": "code",
   "execution_count": null,
   "id": "97868a44-3786-41a8-9edb-77ec314a8aff",
   "metadata": {},
   "outputs": [],
   "source": [
    "font = {'size' : 15}\n",
    "mpl.rc('font', **font)"
   ]
  },
  {
   "cell_type": "code",
   "execution_count": null,
   "id": "23af043d-3664-43b2-8404-39c2aa85f0db",
   "metadata": {},
   "outputs": [],
   "source": [
    "dbuser = input(\"DB User: \")\n",
    "dbpasswd = getpass.getpass(\"DB Password: \")"
   ]
  },
  {
   "cell_type": "code",
   "execution_count": null,
   "id": "ffcfb618-ccbc-49be-8f7f-32826d21e11d",
   "metadata": {},
   "outputs": [],
   "source": [
    "db = psycopg2.connect(f\"dbname='decat' user='{dbuser}' password='{dbpasswd}' host='decatdb.lbl.gov'\")"
   ]
  },
  {
   "cell_type": "code",
   "execution_count": null,
   "id": "991f4916-5a12-4a62-8783-9d20acf60d28",
   "metadata": {},
   "outputs": [],
   "source": [
    "db.autocommit = True # Makes the computer nicer about SQL syntax errors"
   ]
  },
  {
   "cell_type": "code",
   "execution_count": null,
   "id": "755e44c8-9f3c-432b-ae9a-a8a85b9c098f",
   "metadata": {},
   "outputs": [],
   "source": [
    "cursor = db.cursor( cursor_factory = psycopg2.extras.DictCursor )"
   ]
  },
  {
   "cell_type": "code",
   "execution_count": null,
   "id": "c2b49314-fe4e-45ed-bdd3-7c734b3633f7",
   "metadata": {},
   "outputs": [],
   "source": [
    "### If you want to print table schema\n",
    "# tables = ['exposures','subtractions','objects','candidates']\n",
    "# for table in tables:\n",
    "#     query = \"SELECT column_name, data_type FROM information_schema.columns WHERE table_name=%s\"\n",
    "#     cursor.execute( query, ( table, ))\n",
    "#     print( f\"\\nTABLE: {table}\\n===========================\" )\n",
    "#     for row in cursor:\n",
    "#         print( f\"{row['column_name']:24s}  :  {row['data_type']:s}\" )\n",
    "\n",
    "# tables = ['subtractions']\n",
    "# for table in tables:\n",
    "#     query = \"SELECT column_name, data_type FROM information_schema.columns WHERE table_name=%s\"\n",
    "#     cursor.execute( query, ( table, ))\n",
    "#     print( f\"\\nTABLE: {table}\\n===========================\" )\n",
    "#     for row in cursor:\n",
    "#         print( f\"{row['column_name']:24s}  :  {row['data_type']:s}\" )"
   ]
  },
  {
   "cell_type": "markdown",
   "id": "e7f7a03b-caab-4590-b14a-233de6ee0e75",
   "metadata": {},
   "source": [
    "## NOIRLab Archive Image List\n",
    "\n",
    "Melissa made this list of all 2021A-0113 and 2021B-0149 images from the NOIRLab Data Archive."
   ]
  },
  {
   "cell_type": "code",
   "execution_count": null,
   "id": "408c5fd5-d159-485f-8ce6-91a8cb664f74",
   "metadata": {},
   "outputs": [],
   "source": [
    "fnm = 'archive_image_list.txt'\n",
    "arch_fbase   = np.loadtxt( fnm, dtype='str', usecols=(0) )\n",
    "arch_ra      = np.loadtxt( fnm, dtype='float', usecols=(1) )\n",
    "arch_dec     = np.loadtxt( fnm, dtype='float', usecols=(2) )\n",
    "arch_mjd     = np.loadtxt( fnm, dtype='float', usecols=(3) )\n",
    "arch_filt    = np.loadtxt( fnm, dtype='str', usecols=(4) )\n",
    "arch_airm    = np.loadtxt( fnm, dtype='float', usecols=(5) )\n",
    "arch_obj     = np.loadtxt( fnm, dtype='str', usecols=(6) )\n",
    "arch_expt    = np.loadtxt( fnm, dtype='float', usecols=(7) )\n",
    "arch_seqid   = np.loadtxt( fnm, dtype='str', usecols=(8) )\n",
    "arch_class   = np.loadtxt( fnm, dtype='str', usecols=(9) )\n",
    "arch_ftype   = np.loadtxt( fnm, dtype='str', usecols=(10) )\n",
    "arch_moonsep = np.loadtxt( fnm, dtype='float', usecols=(11) )\n",
    "arch_moonill = np.loadtxt( fnm, dtype='float', usecols=(12) )\n",
    "arch_mpval   = np.loadtxt( fnm, dtype='float', usecols=(13) )"
   ]
  },
  {
   "cell_type": "markdown",
   "id": "e6d06f39-59c4-4544-a38a-ff72741e2119",
   "metadata": {},
   "source": [
    "#### get rid of the DECaPS and non-standard archive images"
   ]
  },
  {
   "cell_type": "code",
   "execution_count": null,
   "id": "01b5423d-8f91-4c00-9a64-1bde255edb9c",
   "metadata": {},
   "outputs": [],
   "source": [
    "tx = np.where( (arch_class != 'COSMOS') & (arch_class != 'ELAIS') )[0]\n",
    "print('identified ',len(tx),' array elements to remove, out of ',len(arch_class))\n",
    "\n",
    "arch_fbase   = np.delete( arch_fbase, tx )\n",
    "arch_ra      = np.delete( arch_ra, tx )\n",
    "arch_dec     = np.delete( arch_dec, tx )\n",
    "arch_mjd     = np.delete( arch_mjd, tx )\n",
    "arch_filt    = np.delete( arch_filt, tx )\n",
    "arch_airm    = np.delete( arch_airm, tx )\n",
    "arch_obj     = np.delete( arch_obj, tx )\n",
    "arch_expt    = np.delete( arch_expt, tx )\n",
    "arch_seqid   = np.delete( arch_seqid, tx )\n",
    "arch_class   = np.delete( arch_class, tx )\n",
    "arch_ftype   = np.delete( arch_ftype, tx )\n",
    "arch_moonsep = np.delete( arch_moonsep, tx )\n",
    "arch_moonill = np.delete( arch_moonill, tx )\n",
    "arch_mpval   = np.delete( arch_mpval, tx )\n",
    "del tx\n",
    "\n",
    "print('new length of arch arrays = ',len(arch_fbase))"
   ]
  },
  {
   "cell_type": "markdown",
   "id": "7ed0a82d-71fd-4589-a3f8-42794b7dbedd",
   "metadata": {},
   "source": [
    "## Exposures and Subtractions Tables\n",
    "\n",
    "### exposures"
   ]
  },
  {
   "cell_type": "code",
   "execution_count": null,
   "id": "09e1e0ed-f4a7-46a6-82da-dac38e8b33e7",
   "metadata": {},
   "outputs": [],
   "source": [
    "query = \"SELECT id, ra, dec, filename, mjd, filter, proposalid, header FROM exposures\"\n",
    "cursor.execute( query )\n",
    "results = np.array( cursor.fetchall() ).transpose()\n",
    "exp_id  = np.asarray( results[0], dtype='int' )\n",
    "exp_ra  = np.asarray( results[1], dtype='float' )\n",
    "exp_dec = np.asarray( results[2], dtype='float' )\n",
    "exp_fnm = np.asarray( results[3], dtype='str' )\n",
    "exp_mjd = np.asarray( results[4], dtype='float' )\n",
    "exp_fil = np.asarray( results[5], dtype='str' )\n",
    "exp_pid = np.asarray( results[6], dtype='str' )\n",
    "exp_hdr = np.asarray( results[7], dtype='str' )\n",
    "del query, results"
   ]
  },
  {
   "cell_type": "code",
   "execution_count": null,
   "id": "49d187b0-72aa-4e01-80d8-b8f7ee8c8f7c",
   "metadata": {},
   "outputs": [],
   "source": [
    "### exp_fbs : just the filename base (without the extension)\n",
    "### exp_cal : calendar date\n",
    "exp_fbs = deepcopy(exp_fnm)\n",
    "exp_cal = np.zeros( len(exp_fnm), dtype='int' )\n",
    "\n",
    "for i,fnm in enumerate(exp_fnm):\n",
    "    tmp1 = fnm.split('.')[0]\n",
    "    exp_fbs[i] = tmp1\n",
    "    tmp2 = tmp1.split('_')[1]\n",
    "    exp_cal[i] = int(tmp2)\n",
    "    del tmp1,tmp2\n",
    "\n",
    "# print('fnm: ', exp_fnm[0])\n",
    "# print('fbs: ',exp_fbs[0])\n",
    "# print('cal: ',exp_cal[0])"
   ]
  },
  {
   "cell_type": "markdown",
   "id": "961fc0eb-ff99-4750-aa5c-5bfbf0267219",
   "metadata": {},
   "source": [
    "#### get rid of non-DDF and non-standard exposures"
   ]
  },
  {
   "cell_type": "code",
   "execution_count": null,
   "id": "26be31a6-9546-4a26-925f-6b96a30da164",
   "metadata": {},
   "outputs": [],
   "source": [
    "### exp_aid : archive identifier (index in archive array)\n",
    "exp_aid = np.zeros( len(exp_id), dtype='int' ) - 1\n",
    "\n",
    "tag = 0\n",
    "for i,fbase in enumerate(arch_fbase):\n",
    "    tx = np.where( fbase == exp_fbs )[0]\n",
    "    if len(tx) == 1:\n",
    "        exp_aid[tx[0]] = i\n",
    "    elif len(tx) > 1:\n",
    "        exp_aid[tx[0]] = i\n",
    "        tag += 1\n",
    "    del tx\n",
    "\n",
    "print(tag,' cases of double-matches, only the first will be kept')\n",
    "del tag"
   ]
  },
  {
   "cell_type": "code",
   "execution_count": null,
   "id": "ca796a32-56dc-411b-a8bf-43b6d05f9581",
   "metadata": {},
   "outputs": [],
   "source": [
    "tx = np.where( exp_aid == -1 )[0]\n",
    "print('identified ',len(tx),' array elements to remove, out of ',len(exp_aid))\n",
    "\n",
    "exp_id = np.delete( exp_id, tx )\n",
    "exp_ra = np.delete( exp_ra, tx )\n",
    "exp_dec = np.delete( exp_dec, tx )\n",
    "exp_fnm = np.delete( exp_fnm, tx )\n",
    "exp_mjd = np.delete( exp_mjd, tx )\n",
    "exp_fil = np.delete( exp_fil, tx )\n",
    "exp_pid = np.delete( exp_pid, tx )\n",
    "exp_hdr = np.delete( exp_hdr, tx )\n",
    "exp_fbs = np.delete( exp_fbs, tx )\n",
    "exp_cal = np.delete( exp_cal, tx )\n",
    "exp_aid = np.delete( exp_aid, tx )\n",
    "del tx\n",
    "\n",
    "print('new length of exp arrays = ',len(exp_id))"
   ]
  },
  {
   "cell_type": "markdown",
   "id": "4d6c2be0-986d-4ea2-93ce-f71a100fd52a",
   "metadata": {},
   "source": [
    "### subtractions"
   ]
  },
  {
   "cell_type": "code",
   "execution_count": null,
   "id": "bd80f980-6107-4d8d-89f7-0afd65c6d234",
   "metadata": {},
   "outputs": [],
   "source": [
    "query = \"SELECT id, ra, dec, lmt_mg, seeing, skysig, magzp, \"+ \\\n",
    "        \"ccdnum, image_id, exposure_id FROM subtractions\"\n",
    "cursor.execute( query )\n",
    "results = np.array( cursor.fetchall() ).transpose()\n",
    "sub_id  = np.asarray( results[0], dtype='int' )\n",
    "sub_ra  = np.asarray( results[1], dtype='float' )\n",
    "sub_dec = np.asarray( results[2], dtype='float' )\n",
    "sub_lmg = np.asarray( results[3], dtype='float' )\n",
    "sub_see = np.asarray( results[4], dtype='float' )\n",
    "sub_sks = np.asarray( results[5], dtype='float' )\n",
    "sub_mzp = np.asarray( results[6], dtype='float' )\n",
    "sub_ccd = np.asarray( results[7], dtype='int' )\n",
    "sub_iid = np.asarray( results[8], dtype='int' )\n",
    "sub_eid = np.asarray( results[9], dtype='int' )\n",
    "del query, results"
   ]
  },
  {
   "cell_type": "markdown",
   "id": "9eb74e47-3155-431c-bdde-57be77ed7762",
   "metadata": {},
   "source": [
    "#### get rid of subtractions that aren't matched to exposure table"
   ]
  },
  {
   "cell_type": "code",
   "execution_count": null,
   "id": "3d7c325d-2976-4a39-bff3-b8822afcb86a",
   "metadata": {},
   "outputs": [],
   "source": [
    "### sub_expind : exposure table index\n",
    "sub_expind = np.zeros( len(sub_id), dtype='int' ) - 1\n",
    "\n",
    "tag = 0\n",
    "for i in range(len(exp_id)):\n",
    "    tx = np.where( exp_id[i] == sub_eid )[0]\n",
    "    if len(tx) > 0:\n",
    "        sub_expind[tx] = i\n",
    "    else:\n",
    "        tag += 1\n",
    "    del tx\n",
    "\n",
    "print(tag,' exposures had no subtractions')\n",
    "del tag"
   ]
  },
  {
   "cell_type": "code",
   "execution_count": null,
   "id": "b959112e-a7fc-4dc5-ad83-034c6f18e4ea",
   "metadata": {},
   "outputs": [],
   "source": [
    "tx = np.where( sub_expind == -1 )[0]\n",
    "print('identified ',len(tx),' array elements to remove, out of ',len(sub_id))\n",
    "sub_id  = np.delete(sub_id, tx)\n",
    "sub_ra  = np.delete(sub_ra, tx)\n",
    "sub_dec = np.delete(sub_dec, tx)\n",
    "sub_lmg = np.delete(sub_lmg, tx)\n",
    "sub_see = np.delete(sub_see, tx)\n",
    "sub_sks = np.delete(sub_sks, tx)\n",
    "sub_mzp = np.delete(sub_mzp, tx)\n",
    "sub_ccd = np.delete(sub_ccd, tx)\n",
    "sub_iid = np.delete(sub_iid, tx)\n",
    "sub_eid = np.delete(sub_eid, tx)\n",
    "sub_expind = np.delete(sub_expind, tx)\n",
    "\n",
    "print('new length of sub arrays = ',len(sub_id))\n",
    "del tx"
   ]
  },
  {
   "cell_type": "markdown",
   "id": "ce1b58ba-6b4b-445a-9132-b572ca04e39a",
   "metadata": {},
   "source": [
    "## Objects and Candidates Tables\n",
    "\n",
    "**objects** are the individual detections on a subtraction <br>\n",
    "**candidates** are objects associated by location <br>\n",
    "\n",
    "### objects\n",
    "\n",
    "this query takes about 80 seconds"
   ]
  },
  {
   "cell_type": "code",
   "execution_count": null,
   "id": "e2f01a2a-0376-4f8e-a716-b624a1df3243",
   "metadata": {},
   "outputs": [],
   "source": [
    "t1 = time.time()\n",
    "\n",
    "query = (\"SELECT o.id, o.ra, o.dec, o.candidate_id, o.subtraction_id, rbs.rb, o.mag, o.magerr, o.ignore FROM objects o \"\n",
    "         \"JOIN objectrbs as rbs ON o.id=rbs.object_id AND rbs.rbtype_id=1 \")\n",
    "cursor.execute( query )\n",
    "results = np.array( cursor.fetchall() ).transpose()\n",
    "\n",
    "t2 = time.time()\n",
    "print(t2-t1)\n",
    "del t1,t2\n",
    "\n",
    "obj_id     = np.asarray( results[0], dtype='int' )\n",
    "obj_ra     = np.asarray( results[1], dtype='float' )\n",
    "obj_dec    = np.asarray( results[2], dtype='float' )\n",
    "obj_candid = np.asarray( results[3] )\n",
    "obj_subid  = np.asarray( results[4], dtype='int' )\n",
    "obj_rb     = np.asarray( results[5], dtype='float' )\n",
    "obj_mag    = np.asarray( results[6], dtype='float' )\n",
    "obj_magerr = np.asarray( results[7], dtype='float' )\n",
    "obj_ignore = np.asarray( results[8] )\n",
    "del query, results\n",
    "\n",
    "print(len(obj_id))"
   ]
  },
  {
   "cell_type": "markdown",
   "id": "3c101ee4-f256-4f5b-958f-69de90cb5ca9",
   "metadata": {},
   "source": [
    "obj_ignore is always false"
   ]
  },
  {
   "cell_type": "code",
   "execution_count": null,
   "id": "396c150e-0cf6-4484-bd4f-3315943a3c42",
   "metadata": {},
   "outputs": [],
   "source": [
    "# print(obj_ignore)\n",
    "# tx = np.where( obj_ignore == 'True' )[0]\n",
    "# print(len(tx))\n",
    "# del tx"
   ]
  },
  {
   "cell_type": "markdown",
   "id": "2308210c-c187-45c4-85c2-05e3d9d0db58",
   "metadata": {},
   "source": [
    "#### get rid of objects that are not matched to a subtraction"
   ]
  },
  {
   "cell_type": "code",
   "execution_count": null,
   "id": "b699a76e-d11e-4e72-9ae2-4818cf1f8a95",
   "metadata": {},
   "outputs": [],
   "source": [
    "### Check that all sub_id are unique (all lengths are the same)\n",
    "values, indices, counts = np.unique( sub_id, return_inverse = True, return_counts = True )\n",
    "print( 'sub_id lengths = ', len(values), len(indices), len(counts) )\n",
    "print( values )\n",
    "del values, indices, counts\n",
    "\n",
    "### Note that obj_subid are not unique, of course\n",
    "values, indices, counts = np.unique( obj_subid, return_inverse = True, return_counts = True )\n",
    "print( 'obj_subid lengths = ', len(values), len(indices), len(counts) )\n",
    "print( values )\n",
    "del values, indices, counts"
   ]
  },
  {
   "cell_type": "code",
   "execution_count": null,
   "id": "6e74d582-acc5-4976-ad62-14f69edabd20",
   "metadata": {},
   "outputs": [],
   "source": [
    "fout = open('deleteme.txt','w')\n",
    "\n",
    "obj_subind = np.zeros( len(obj_subid), dtype='int' ) - 1\n",
    "sub_nobj = np.zeros( len(sub_id), dtype='int' )\n",
    "sub_nobjg = np.zeros( len(sub_id), dtype='int' )\n",
    "\n",
    "ssx = np.argsort( sub_id )\n",
    "ossx = np.argsort( obj_subid )\n",
    "\n",
    "t1 = time.time()\n",
    "\n",
    "j = 0\n",
    "for i in range(len(ssx)):\n",
    "    cntr = 0\n",
    "    cntrg = 0\n",
    "    \n",
    "    if (i == 1000) | (i == 10000):\n",
    "        timeleft = ((time.time()-t1)/float(i)) * (len(sub_id)-float(i))\n",
    "        print('TIMER: i=',i,'  this will take another ',timeleft,' seconds')\n",
    "        del timeleft\n",
    "    \n",
    "    next_sub = False\n",
    "    while (next_sub == False) & (j < len(ossx)):\n",
    "        cntr += 1\n",
    "        if obj_rb[ossx[j]] > 0.6:\n",
    "            cntrg += 1\n",
    "        if sub_id[ssx[i]] > obj_subid[ossx[j]]:\n",
    "            fout.write('%1s %10i %10i %10s %10i %10i \\n' %\\\n",
    "                       ('A', i, j, next_sub, sub_id[ssx[i]], obj_subid[ossx[j]]) )\n",
    "            j += 1\n",
    "        elif sub_id[ssx[i]] == obj_subid[ossx[j]]:\n",
    "            obj_subind[ossx[j]] = ssx[i]\n",
    "            fout.write('%1s %10i %10i %10s %10i %10i \\n' %\\\n",
    "                       ('B', i, j, next_sub, sub_id[ssx[i]], obj_subid[ossx[j]]) )\n",
    "            j += 1\n",
    "        elif sub_id[ssx[i]] < obj_subid[ossx[j]]:\n",
    "            next_sub = True\n",
    "            fout.write('%1s %10i %10i %10s %10i %10i \\n' %\\\n",
    "                       ('C', i, j, next_sub, sub_id[ssx[i]], obj_subid[ossx[j]]) )\n",
    "\n",
    "    sub_nobj[ssx[i]] = cntr\n",
    "    sub_nobjg[ssx[i]] = cntrg\n",
    "    del cntr, cntrg\n",
    "\n",
    "fout.close()\n",
    "print('wrote to deleteme.txt')\n",
    "\n",
    "del i, j, ssx, ossx\n",
    "\n",
    "t2 = time.time()\n",
    "print(t2-t1)\n",
    "del t1,t2"
   ]
  },
  {
   "cell_type": "code",
   "execution_count": null,
   "id": "fd18c9c1-2c4d-4b4d-b2ab-870fc6019425",
   "metadata": {},
   "outputs": [],
   "source": [
    "os.system('rm deleteme.txt')"
   ]
  },
  {
   "cell_type": "markdown",
   "id": "e0a7ac18-ba55-4f47-852e-cbba259e9479",
   "metadata": {},
   "source": [
    "now actually remove the elements of the objects array"
   ]
  },
  {
   "cell_type": "code",
   "execution_count": null,
   "id": "efba2c77-8a6f-4066-bdf5-cf166b9d00ce",
   "metadata": {},
   "outputs": [],
   "source": [
    "tx = np.where( obj_subind < 0 )[0]\n",
    "print('identified ',len(tx),' array elements to remove, out of ',len(obj_subind))\n",
    "\n",
    "obj_id     = np.delete( obj_id, tx )\n",
    "obj_ra     = np.delete( obj_ra, tx )\n",
    "obj_dec    = np.delete( obj_dec, tx )\n",
    "obj_candid = np.delete( obj_candid, tx )\n",
    "obj_subid  = np.delete( obj_subid, tx )\n",
    "obj_rb     = np.delete( obj_rb, tx )\n",
    "obj_mag    = np.delete( obj_mag, tx )\n",
    "obj_magerr = np.delete( obj_magerr, tx )\n",
    "obj_ignore = np.delete( obj_ignore, tx )\n",
    "obj_subind = np.delete( obj_subind, tx )\n",
    "\n",
    "print('new length of obj arrays = ',len(obj_id))\n",
    "del tx"
   ]
  },
  {
   "cell_type": "markdown",
   "id": "b7ee3933-817a-4a67-8c67-577a0b69dba3",
   "metadata": {},
   "source": [
    "#### update the exposures table with subtraction data"
   ]
  },
  {
   "cell_type": "code",
   "execution_count": null,
   "id": "d98521d3-e947-409d-9b1a-773eb27d406b",
   "metadata": {},
   "outputs": [],
   "source": [
    "### mean limiting magnitudes, seeing, and sky background\n",
    "exp_mlmg = np.zeros( len(exp_id), dtype='float')\n",
    "exp_msee = np.zeros( len(exp_id), dtype='float')\n",
    "exp_msks = np.zeros( len(exp_id), dtype='float')\n",
    "\n",
    "### total number of objects, and good objects with R/B>0.6\n",
    "exp_tnobj = np.zeros( len(exp_id), dtype='float')\n",
    "exp_tnobjg = np.zeros( len(exp_id), dtype='float')\n",
    "\n",
    "t1 = time.time()\n",
    "\n",
    "for e,expid in enumerate(exp_id):\n",
    "    if (e == 100) | (e == 1000) | (e == 10000):\n",
    "        t2 = time.time()\n",
    "        print('time remaining: ', ((t2-t1)/float(e))*(float(len(exp_id))-float(e)) )\n",
    "    tx = np.where( sub_eid == expid )[0]\n",
    "    exp_mlmg[e] = np.mean( sub_lmg[tx] )\n",
    "    exp_msee[e] = np.mean( sub_see[tx] )\n",
    "    exp_msks[e] = np.mean( sub_sks[tx] )\n",
    "    exp_tnobj[e] = np.sum( sub_nobj[tx] )\n",
    "    exp_tnobjg[e] = np.sum( sub_nobjg[tx] )\n",
    "    del tx\n",
    "\n",
    "t3 = time.time()\n",
    "print('done, ',t3-t1,' elapsed')\n",
    "del t1,t2,t3"
   ]
  },
  {
   "cell_type": "markdown",
   "id": "c5197679-3f84-4006-bafe-51fb53934484",
   "metadata": {},
   "source": [
    "#### get rid of objects that are duplicates\n",
    "\n",
    "they are within 0.1\" of another object in the same subtraction <br>\n",
    "this would take about 125 minutes, need to find a better way <br>\n",
    "used to be done in a small amount of time but now there are too many objects "
   ]
  },
  {
   "cell_type": "code",
   "execution_count": null,
   "id": "b3e29444-2fe9-427d-831e-a2e3c65c5d66",
   "metadata": {},
   "outputs": [],
   "source": [
    "# t1 = time.time()\n",
    "\n",
    "# obj_dup = np.zeros( len(obj_id), dtype='int' )\n",
    "\n",
    "# limit = (0.1 / 3600.0)**2\n",
    "# for s,subid in enumerate(sub_id):\n",
    "#     if (s==100) | (s==1000) | (s==10000) | (s==30000) | (s==60000):\n",
    "#         ix = np.where( obj_dup == 1 )[0]\n",
    "#         print( 's = ', s, np.round(time.time()-t1,3), 's elapsed, ', len(ix),' duplicates identified' )\n",
    "#         del ix\n",
    "#     # all the objects in this subtraction\n",
    "#     ox = np.where( (obj_subid == subid) & (obj_dup == 0) )[0]\n",
    "#     for o in ox:\n",
    "#         # all the objects in this subtraction with similar RA and Dec to the o'th in ox\n",
    "#         tx = np.where( (obj_ra[ox]-obj_ra[o])**2 + (obj_dec[ox]-obj_dec[o])**2 < limit )[0]\n",
    "#         if len(tx) > 0:\n",
    "#             # identify all the matching objects as duplicates\n",
    "#             obj_dup[ox[tx]] = 1\n",
    "#             # except the first one, of course, consider it the 'real' one\n",
    "#             obj_dup[o] = 0\n",
    "#         del tx\n",
    "#     del ox\n",
    "\n",
    "# tx = np.where( obj_dup == 1 )[0]\n",
    "# print('total number of duplicates identified: ',len(tx))\n",
    "# del tx\n",
    "\n",
    "# t2 = time.time()\n",
    "# print(t2-t1)\n",
    "# del t1,t2"
   ]
  },
  {
   "cell_type": "code",
   "execution_count": null,
   "id": "920e6f62-5208-4443-ae13-67c7c49029f3",
   "metadata": {},
   "outputs": [],
   "source": [
    "# tx = np.where( obj_dup == 1 )[0]\n",
    "# print('identified ',len(tx),' array elements to remove, out of ',len(obj_tmp))\n",
    "\n",
    "# obj_id     = np.delete( obj_id, tx )\n",
    "# obj_ra     = np.delete( obj_ra, tx )\n",
    "# obj_dec    = np.delete( obj_dec, tx )\n",
    "# obj_candid = np.delete( obj_candid, tx )\n",
    "# obj_subid  = np.delete( obj_subid, tx )\n",
    "# obj_rb     = np.delete( obj_rb, tx )\n",
    "# obj_mag    = np.delete( obj_mag, tx )\n",
    "# obj_magerr = np.delete( obj_magerr, tx )\n",
    "# obj_ignore = np.delete( obj_ignore, tx )\n",
    "\n",
    "# print('new length of obj arrays = ',len(obj_id))\n",
    "# del obj_tmp, tx"
   ]
  },
  {
   "cell_type": "markdown",
   "id": "c4f5f6b6-fc3d-4a59-a608-b6a18e5f3966",
   "metadata": {},
   "source": [
    "### candidates\n",
    "\n",
    "this query takes about 30 seconds"
   ]
  },
  {
   "cell_type": "code",
   "execution_count": null,
   "id": "98af41ed-2af4-406e-857b-453ecaf71b0f",
   "metadata": {},
   "outputs": [],
   "source": [
    "t1 = time.time()\n",
    "\n",
    "# query = \"SELECT id, ra, dec, nmatches FROM candidates\"\n",
    "query = \"SELECT id, ra, dec FROM candidates\"\n",
    "cursor.execute( query )\n",
    "results = np.array( cursor.fetchall() ).transpose()\n",
    "\n",
    "t2 = time.time()\n",
    "print(t2-t1)\n",
    "del t1,t2\n",
    "\n",
    "cand_id       = np.asarray( results[0] )\n",
    "cand_ra       = np.asarray( results[1], dtype='float' )\n",
    "cand_dec      = np.asarray( results[2], dtype='float' )\n",
    "# cand_nmatches = np.asarray( results[3] )\n",
    "del query, results\n",
    "\n",
    "print(len(cand_id))"
   ]
  },
  {
   "cell_type": "code",
   "execution_count": null,
   "id": "933a03c3-6699-45ae-b19f-1ded4fdc1268",
   "metadata": {},
   "outputs": [],
   "source": [
    "### Check that all cand_id are unique (all lengths are the same)\n",
    "values, indices, counts = np.unique( cand_id, return_inverse = True, return_counts = True )\n",
    "print( 'lengths = ', len(values), len(indices), len(counts) )\n",
    "del values, indices, counts"
   ]
  },
  {
   "cell_type": "markdown",
   "id": "4231957d-fe2d-47bb-ac1e-dcc84b1b1cc6",
   "metadata": {},
   "source": [
    "#### get rid of candidates that are not matched to an object\n",
    "\n",
    "this process takes about 4 seconds"
   ]
  },
  {
   "cell_type": "code",
   "execution_count": null,
   "id": "fc332b00-4031-46bd-a216-bb9162081421",
   "metadata": {},
   "outputs": [],
   "source": [
    "values, indices, counts = np.unique( obj_candid, return_inverse = True, return_counts = True )\n",
    "print( 'lengths = ', len(values), len(indices), len(counts) )\n",
    "print( 'values = ', values )\n",
    "print( 'indices = ', indices )\n",
    "print( 'counts = ', counts )\n",
    "print( ' ' )\n",
    "\n",
    "t1 = time.time()\n",
    "\n",
    "cand_nobj = np.zeros( len(cand_id), dtype='int' ) - 1\n",
    "\n",
    "sx = np.argsort( cand_id )\n",
    "cntr = 0\n",
    "for c,val in enumerate( values ):\n",
    "    match = False\n",
    "    while match == False:\n",
    "        if val == cand_id[sx[cntr]]:\n",
    "            cand_nobj[sx[cntr]] = counts[c]\n",
    "            cntr += 1\n",
    "            match = True\n",
    "        else:\n",
    "            cntr += 1\n",
    "    del match\n",
    "del cntr,sx\n",
    "\n",
    "t2 = time.time()\n",
    "print(t2-t1)\n",
    "del t1,t2\n",
    "\n",
    "del values, indices, counts"
   ]
  },
  {
   "cell_type": "code",
   "execution_count": null,
   "id": "c736ddf4-1b08-4c71-acde-ef725c84f395",
   "metadata": {},
   "outputs": [],
   "source": [
    "### That was really fast; double check.\n",
    "\n",
    "# tx = np.where( cand_nobj <= 0 )[0]\n",
    "# print(len(tx),' candidates are NOT matched to an object, out of ',len(cand_nobj))\n",
    "# for i in range(10):\n",
    "#     rx = np.where( obj_candid == cand_id[tx[i]] )[0]\n",
    "#     print( cand_id[tx[i]], len(rx) )\n",
    "#     del rx\n",
    "# del tx\n",
    "\n",
    "# tx = np.where( cand_nobj > 0 )[0]\n",
    "# print(len(tx),' candidates ARE matched to an object, out of ',len(cand_nobj))\n",
    "# for i in range(10):\n",
    "#     rx = np.where( obj_candid == cand_id[tx[i]] )[0]\n",
    "#     print( cand_id[tx[i]], len(rx) )\n",
    "#     del rx\n",
    "# del tx"
   ]
  },
  {
   "cell_type": "code",
   "execution_count": null,
   "id": "08152552-f99a-4d65-8b04-7fcdefcedca1",
   "metadata": {},
   "outputs": [],
   "source": [
    "tx = np.where( cand_nobj <= 0 )[0]\n",
    "cand_id   = np.delete( cand_id, tx )\n",
    "cand_ra   = np.delete( cand_ra, tx )\n",
    "cand_dec  = np.delete( cand_dec, tx )\n",
    "cand_nobj = np.delete( cand_nobj, tx )\n",
    "\n",
    "print('new length of cand arrays = ',len(cand_id))\n",
    "del tx"
   ]
  },
  {
   "cell_type": "markdown",
   "id": "dbc91ad1-f4f8-406f-8478-a36f12ffebc4",
   "metadata": {},
   "source": [
    "### calculate candidate mean real/bogus score "
   ]
  },
  {
   "cell_type": "code",
   "execution_count": null,
   "id": "30872a57-d83f-4cc6-bb3a-71693e1ff75a",
   "metadata": {},
   "outputs": [],
   "source": [
    "t1 = time.time()\n",
    "\n",
    "csx = np.argsort(cand_id)\n",
    "osx = np.argsort(obj_candid)\n",
    "\n",
    "cand_meanrb = np.zeros( len(cand_id), dtype='float' )\n",
    "\n",
    "j = 0\n",
    "for i,x in enumerate(csx):\n",
    "    if (i==100) | (i==10000) | (i==100000):\n",
    "        elt = time.time()-t1\n",
    "        print('Time remaining:', (elt/float(i)) * float(len(cand_id)-float(i)) )\n",
    "    \n",
    "    if cand_id[x] == obj_candid[osx[j]]:\n",
    "        match = True\n",
    "        temp = []\n",
    "\n",
    "        while match == True:\n",
    "            if j < len(obj_candid):\n",
    "                if cand_id[x] == obj_candid[osx[j]]:\n",
    "                    temp.append( obj_rb[osx[j]] )\n",
    "                    j += 1\n",
    "                elif cand_id[x] != obj_candid[osx[j]]:\n",
    "                    match = False\n",
    "                    cand_meanrb[x] = np.mean( np.asarray( temp, dtype='float' ) )\n",
    "            else:\n",
    "                match = False\n",
    "                cand_meanrb[x] = np.mean( np.asarray( temp, dtype='float' ) )\n",
    "\n",
    "        del temp, match\n",
    "        \n",
    "t2 = time.time()\n",
    "print('Time elapsed: ',t2-t1)\n",
    "del t1,t2\n",
    "\n",
    "del csx, osx"
   ]
  },
  {
   "cell_type": "markdown",
   "id": "4a75283a-9cb1-4fce-bc72-015a5b28c1d6",
   "metadata": {},
   "source": [
    "<br>\n",
    "<br>\n",
    "<br>\n",
    "\n",
    "# Plots"
   ]
  },
  {
   "cell_type": "code",
   "execution_count": null,
   "id": "b6685319-00b5-418a-87a2-43141b6fb8aa",
   "metadata": {},
   "outputs": [],
   "source": [
    "### COSMOS g, r, i, ELAIS g, r, i\n",
    "c = ['darkgreen', 'firebrick', 'saddlebrown', 'limegreen', 'orange', 'lightcoral']\n",
    "\n",
    "### COSMOS, ELIAS\n",
    "cc = 'dodgerblue'\n",
    "ce = 'darkviolet'\n",
    "\n",
    "# plt.rcParams.update({\n",
    "#     \"text.usetex\": True,\n",
    "#     \"font.family\": \"sans-serif\",\n",
    "#     \"font.sans-serif\": [\"Helvetica\"]})"
   ]
  },
  {
   "cell_type": "markdown",
   "id": "5b7a8a1b-4c3f-4880-8353-622febe9d4d4",
   "metadata": {},
   "source": [
    "<br>\n",
    "<br>\n",
    "\n",
    "## plot exposure qualities"
   ]
  },
  {
   "cell_type": "code",
   "execution_count": null,
   "id": "19d8fb6e-2d48-4f1a-850b-b750236efb9f",
   "metadata": {},
   "outputs": [],
   "source": [
    "cex = np.where( (exp_ra > 140.0) & (exp_ra < 160.0) & (exp_dec > -5.0)  & (exp_dec < 10.0) )[0]\n",
    "eex = np.where( (exp_ra > 0.0)   & (exp_ra < 20.0)  & (exp_dec > -50.0) & (exp_dec < -40.0) )[0]\n",
    "print('Number of COSMOS exposures: ',len(cex))\n",
    "print('Number of ELAIS exposures: ',len(eex))\n",
    "print(len(cex)+len(eex),' should equal ',len(exp_ra))\n",
    "\n",
    "tx = np.where( exp_tnobj < 1 )[0]\n",
    "print('Number of exposures with no objects: ',len(tx))\n",
    "del tx\n",
    "\n",
    "tx = np.where( exp_tnobjg < 1 )[0]\n",
    "print('Number of exposures with no good objects: ',len(tx))\n",
    "del tx"
   ]
  },
  {
   "cell_type": "code",
   "execution_count": null,
   "id": "0ec4ac73-9574-46a6-8d0b-2b2a993b2b43",
   "metadata": {},
   "outputs": [],
   "source": [
    "exp_moonsep = arch_moonsep[ exp_aid ]\n",
    "exp_moonill = arch_moonill[ exp_aid ]"
   ]
  },
  {
   "cell_type": "code",
   "execution_count": null,
   "id": "2ea8109a-f759-4c74-8ef4-d204b5590ff0",
   "metadata": {},
   "outputs": [],
   "source": [
    "fig, ax = plt.subplots( 2, 3, figsize=(15,5), sharey=True )\n",
    "\n",
    "ax[0,0].set_ylabel('Num. of Exp.')\n",
    "ax[1,0].set_ylabel('Num. of Exp.')\n",
    "\n",
    "for i,ifilt in enumerate(['g','r','i']):\n",
    "    cfx = np.where( exp_fil[cex] == ifilt )[0]\n",
    "    efx = np.where( exp_fil[eex] == ifilt )[0]\n",
    "    j = i + 3\n",
    "    ax[0,i].hist( exp_tnobj[cex[cfx]], bins=40, range=(0,4000), histtype='step', lw=3, alpha=0.5, \\\n",
    "                 color=c[i], label='COSMOS, '+ifilt+'-band')\n",
    "    ax[0,i].hist( exp_tnobj[eex[efx]], bins=40, range=(0,4000), histtype='step', lw=3, alpha=0.5, \\\n",
    "                 color=c[j], label='ELAIS, '+ifilt+'-band')\n",
    "    ax[0,i].set_xlabel(r'Total $N_{\\rm obj}$ (all)')\n",
    "    # ax[0,i].set_xlim([20,25])\n",
    "    ax[0,i].legend(loc='upper right', labelspacing=0, fontsize=12)\n",
    "\n",
    "for i,ifilt in enumerate(['g','r','i']):\n",
    "    cfx = np.where( exp_fil[cex] == ifilt )[0]\n",
    "    efx = np.where( exp_fil[eex] == ifilt )[0]\n",
    "    j = i + 3\n",
    "    ax[1,i].hist( exp_tnobjg[cex[cfx]], bins=40, range=(0,500), histtype='step', lw=1, color=c[i])\n",
    "    ax[1,i].hist( exp_tnobjg[eex[efx]], bins=40, range=(0,500), histtype='step', lw=1, color=c[j])\n",
    "    ax[1,i].set_xlabel(r'Total $N_{\\rm obj}$ (R/B>0.6)')\n",
    "    # ax[1,i].set_xlim([20,25])\n",
    "\n",
    "ax[0,i].yaxis.set_tick_params(which='both', labelbottom=True)\n",
    "# ax[1,i].yaxis.set_tick_params(which='both', labelbottom=True)\n",
    "\n",
    "fig.tight_layout()\n",
    "plt.show()"
   ]
  },
  {
   "cell_type": "code",
   "execution_count": null,
   "id": "64aade0d-1908-4f01-a61d-b37954581ca9",
   "metadata": {},
   "outputs": [],
   "source": [
    "fig, ax = plt.subplots( 5, 3, figsize=(15,17), sharey=True )\n",
    "\n",
    "for row in range(5):\n",
    "    for i,ifilt in enumerate(['g','r','i']):\n",
    "        cfx = np.where( exp_fil[cex] == ifilt )[0]\n",
    "        efx = np.where( exp_fil[eex] == ifilt )[0]\n",
    "        j = i + 3\n",
    "\n",
    "        if row == 0:\n",
    "            ax[row,i].plot( exp_mlmg[cex[cfx]], np.log10(exp_tnobjg[cex[cfx]]), 'o', ms=4, alpha=0.4, mew=0, color=c[i])\n",
    "            ax[row,i].plot( exp_mlmg[eex[efx]], np.log10(exp_tnobjg[eex[efx]]), 'o', ms=4, alpha=0.4, mew=0, color=c[j])\n",
    "            ax[row,i].set_xlabel(\"Mean Limiting Magnitude\")\n",
    "            ax[row,i].set_xlim([20,25])\n",
    "            \n",
    "            ax[row,i].plot( -99, -99, 'o', ms=6, alpha=1, mew=0, color=c[i], label='COSMOS, '+ifilt+'-band')\n",
    "            ax[row,i].plot( -99, -99, 'o', ms=6, alpha=1, mew=0, color=c[j], label='ELAIS, '+ifilt+'-band')\n",
    "            ax[row,i].legend(loc='upper left', handletextpad=0, labelspacing=0.1, fontsize=14)\n",
    "        if row == 1:\n",
    "            ax[row,i].plot( exp_msee[cex[cfx]], np.log10(exp_tnobjg[cex[cfx]]), 'o', ms=4, alpha=0.4, mew=0, color=c[i])\n",
    "            ax[row,i].plot( exp_msee[eex[efx]], np.log10(exp_tnobjg[eex[efx]]), 'o', ms=4, alpha=0.4, mew=0, color=c[j])\n",
    "            ax[row,i].set_xlabel(\"Mean Seeing\")\n",
    "            ax[row,i].set_xlim([0.5,2.5])\n",
    "        if row == 2:\n",
    "            ax[row,i].plot( np.log10(exp_msks[cex[cfx]]), np.log10(exp_tnobjg[cex[cfx]]), 'o', ms=4, alpha=0.4, mew=0, color=c[i])\n",
    "            ax[row,i].plot( np.log10(exp_msks[eex[efx]]), np.log10(exp_tnobjg[eex[efx]]), 'o', ms=4, alpha=0.4, mew=0, color=c[j])\n",
    "            ax[row,i].set_xlabel(\"Mean Sky Background\")\n",
    "            ax[row,i].set_xlim([0,2.5])\n",
    "        if row == 3:\n",
    "            ax[row,i].plot( exp_moonsep[cex[cfx]], np.log10(exp_tnobjg[cex[cfx]]), 'o', ms=4, alpha=0.4, mew=0, color=c[i])\n",
    "            ax[row,i].plot( exp_moonsep[eex[efx]], np.log10(exp_tnobjg[eex[efx]]), 'o', ms=4, alpha=0.4, mew=0, color=c[j])\n",
    "            ax[row,i].set_xlabel(\"Moon Separation [degrees]\")\n",
    "            # ax[row,i].set_xlim([0,5000])\n",
    "        if row == 4:\n",
    "            ax[row,i].plot( exp_moonill[cex[cfx]], np.log10(exp_tnobjg[cex[cfx]]), 'o', ms=4, alpha=0.4, mew=0, color=c[i])\n",
    "            ax[row,i].plot( exp_moonill[eex[efx]], np.log10(exp_tnobjg[eex[efx]]), 'o', ms=4, alpha=0.4, mew=0, color=c[j])\n",
    "            ax[row,i].set_xlabel(\"Moon Illumination Fraction\")\n",
    "            # ax[row,i].set_xlim([0,5000])\n",
    "        # if row == 5:\n",
    "        #     ax[row,i].plot( exp_mjd[cex[cfx]], np.log10(exp_tnobjg[cex[cfx]]), 'o', ms=4, alpha=0.2, mew=0, color=c[i])\n",
    "        #     ax[row,i].plot( exp_mjd[eex[efx]], np.log10(exp_tnobjg[eex[efx]]), 'o', ms=4, alpha=0.2, mew=0, color=c[j])\n",
    "        #     ax[row,i].set_xlabel(\"MJD\")\n",
    "        # if row == 6:\n",
    "        #     ax[row,i].plot( exp_tnobj[cex[cfx]], np.log10(exp_tnobjg[cex[cfx]]), 'o', ms=4, alpha=0.2, mew=0, color=c[i])\n",
    "        #     ax[row,i].plot( exp_tnobj[eex[efx]], np.log10(exp_tnobjg[eex[efx]]), 'o', ms=4, alpha=0.2, mew=0, color=c[j])\n",
    "        #     ax[row,i].set_xlabel(\"Number of Objects (all)\")\n",
    "        #     ax[row,i].set_xlim([0,5000])\n",
    "\n",
    "        ax[row,i].yaxis.set_tick_params(which='both', labelbottom=True)\n",
    "        if i == 0:\n",
    "            ax[row,i].set_ylabel(r'$N_{\\rm obj}$'+' (R/B>0.6)')\n",
    "        ax[row,i].set_ylim([1,3])\n",
    "\n",
    "        del cfx,efx,j\n",
    "    \n",
    "fig.tight_layout()\n",
    "plt.savefig('source_detection_summary_figures/srcdet_nobjimg')\n",
    "# plt.show()"
   ]
  },
  {
   "cell_type": "markdown",
   "id": "fea65d55-8e39-41fa-adba-15a529540a2e",
   "metadata": {},
   "source": [
    "<br>\n",
    "<br>\n",
    "\n",
    "## plot subtraction qualities\n",
    "\n",
    "Not needed, we did with the exposures instead."
   ]
  },
  {
   "cell_type": "code",
   "execution_count": null,
   "id": "59d0ef3a-6fa3-4ec8-a526-2c342f9862b2",
   "metadata": {},
   "outputs": [],
   "source": [
    "# csx = np.where( (sub_ra > 140.0) & (sub_ra < 160.0) & (sub_dec > -5.0)  & (sub_dec < 10.0) )[0]\n",
    "# esx = np.where( (sub_ra > 0.0)   & (sub_ra < 20.0)  & (sub_dec > -50.0) & (sub_dec < -40.0) )[0]\n",
    "# print('Number of COSMOS subtractions: ',len(csx))\n",
    "# print('Number of ELAIS subtractions: ',len(esx))"
   ]
  },
  {
   "cell_type": "code",
   "execution_count": null,
   "id": "a2bed522-a01c-4ad5-a38f-f0f4d6c3d943",
   "metadata": {},
   "outputs": [],
   "source": [
    "# sub_moonsep = arch_moonsep[ exp_aid[ sub_expind ] ]\n",
    "# sub_moonill = arch_moonill[ exp_aid[ sub_expind ] ]"
   ]
  },
  {
   "cell_type": "markdown",
   "id": "21ac3292-6a10-44d2-8357-54b253e3589d",
   "metadata": {},
   "source": [
    "#### Which subtractions have no good objects? (R/B>0.6)\n",
    "\n",
    "Plot fraction of objects that are good vs. various subtraction parameters.\n",
    "\n",
    "There are some subtractions with no good objects, but it's not like a certain date, or certain CCD.\n",
    "\n",
    "There are no subtractions with NO objects at all.\n",
    "\n",
    "And since the subtractions only have up to about 100 objects each, it's not that weird that some diffs would be empty."
   ]
  },
  {
   "cell_type": "code",
   "execution_count": null,
   "id": "dcf2a97e-fdbc-4152-abf1-0a2605af46f0",
   "metadata": {},
   "outputs": [],
   "source": [
    "# fig, ax = plt.subplots( 6, 3, figsize=(15,20), sharey=True )\n",
    "\n",
    "# for row in range(6):\n",
    "#     for i,ifilt in enumerate(['g','r','i']):\n",
    "#         cfx = np.where( exp_fil[ sub_expind[csx] ] == ifilt )[0]\n",
    "#         efx = np.where( exp_fil[ sub_expind[esx] ] == ifilt )[0]\n",
    "#         j = i + 3\n",
    "\n",
    "#         if row == 0:\n",
    "#             ax[row,i].plot( sub_lmg[csx[cfx]], sub_nobjg[csx[cfx]]/sub_nobj[csx[cfx]], 'o', ms=3, alpha=0.02, mew=0, color=c[i])\n",
    "#             ax[row,i].plot( sub_lmg[esx[efx]], sub_nobjg[esx[efx]]/sub_nobj[esx[efx]], 'o', ms=3, alpha=0.02, mew=0, color=c[j])\n",
    "#             ax[row,i].set_xlabel(\"Limiting Magnitude\")\n",
    "#         if row == 1:\n",
    "#             ax[row,i].plot( sub_see[csx[cfx]], sub_nobjg[csx[cfx]]/sub_nobj[csx[cfx]], 'o', ms=3, alpha=0.02, mew=0, color=c[i])\n",
    "#             ax[row,i].plot( sub_see[esx[efx]], sub_nobjg[esx[efx]]/sub_nobj[esx[efx]], 'o', ms=3, alpha=0.02, mew=0, color=c[j])\n",
    "#             ax[row,i].set_xlabel(\"Seeing\")\n",
    "#         if row == 2:\n",
    "#             ax[row,i].plot( sub_sks[csx[cfx]], sub_nobjg[csx[cfx]]/sub_nobj[csx[cfx]], 'o', ms=3, alpha=0.02, mew=0, color=c[i])\n",
    "#             ax[row,i].plot( sub_sks[esx[efx]], sub_nobjg[esx[efx]]/sub_nobj[esx[efx]], 'o', ms=3, alpha=0.02, mew=0, color=c[j])\n",
    "#             ax[row,i].set_xlabel(\"Sky Background\")\n",
    "#         if row == 3:\n",
    "#             ax[row,i].plot( exp_mjd[sub_expind[csx[cfx]]], sub_nobjg[csx[cfx]]/sub_nobj[csx[cfx]], 'o', ms=3, alpha=0.02, mew=0, \\\n",
    "#                            color=c[i])\n",
    "#             ax[row,i].plot( exp_mjd[sub_expind[esx[efx]]], sub_nobjg[esx[efx]]/sub_nobj[esx[efx]], 'o', ms=3, alpha=0.02, mew=0, \\\n",
    "#                            color=c[j])\n",
    "#             ax[row,i].set_xlabel(\"MJD\")\n",
    "#         if row == 4:\n",
    "#             ax[row,i].plot( sub_ccd[csx[cfx]], sub_nobjg[csx[cfx]]/sub_nobj[csx[cfx]], 'o', ms=3, alpha=0.02, mew=0, color=c[i])\n",
    "#             ax[row,i].plot( sub_ccd[esx[efx]], sub_nobjg[esx[efx]]/sub_nobj[esx[efx]], 'o', ms=3, alpha=0.02, mew=0, color=c[j])\n",
    "#             ax[row,i].set_xlabel(\"CCD\")\n",
    "#         if row == 5:\n",
    "#             ax[row,i].plot( sub_nobj[csx[cfx]], sub_nobjg[csx[cfx]]/sub_nobj[csx[cfx]], 'o', ms=3, alpha=0.02, mew=0, color=c[i])\n",
    "#             ax[row,i].plot( sub_nobj[esx[efx]], sub_nobjg[esx[efx]]/sub_nobj[esx[efx]], 'o', ms=3, alpha=0.02, mew=0, color=c[j])\n",
    "#             ax[row,i].set_xlabel(\"Number of Objects (all)\")\n",
    "#             ax[row,i].set_xlim([0,100])\n",
    "\n",
    "#         ax[row,i].yaxis.set_tick_params(which='both', labelbottom=True)\n",
    "#         if i == 0:\n",
    "#             ax[row,i].set_ylabel(\"Fraction of Good Objects\")\n",
    "#         # ax[row,i].set_ylim([0,20])\n",
    "\n",
    "#         del cfx,efx,j\n",
    "    \n",
    "# fig.tight_layout()\n",
    "# plt.show()"
   ]
  },
  {
   "cell_type": "markdown",
   "id": "2516b674-1af1-46af-a2c4-b66c90d0644e",
   "metadata": {},
   "source": [
    "<br>\n",
    "<br>\n",
    "\n",
    "## plot object qualities"
   ]
  },
  {
   "cell_type": "markdown",
   "id": "b08f7c9d-af9e-4017-8cd8-b61ce71e378c",
   "metadata": {},
   "source": [
    "### index objects by field"
   ]
  },
  {
   "cell_type": "code",
   "execution_count": null,
   "id": "b9f5e6ab-28f3-4b46-9b2d-d2c69d757956",
   "metadata": {},
   "outputs": [],
   "source": [
    "cox = np.where( (obj_ra > 140.0) & (obj_ra < 160.0) & (obj_dec > -5.0)  & (obj_dec < 10.0) )[0]\n",
    "eox = np.where( (obj_ra > 0.0)   & (obj_ra < 20.0)  & (obj_dec > -50.0) & (obj_dec < -40.0) )[0]\n",
    "print('Number of COSMOS detections: ',len(cox))\n",
    "print('Number of ELAIS detections: ',len(eox))\n",
    "\n",
    "rbg_cox = np.where( (obj_rb > 0.6)  & (obj_ra > 140.0) & (obj_ra < 160.0) & \\\n",
    "                   (obj_dec > -5.0)  & (obj_dec < 10.0) )[0]\n",
    "rbg_eox = np.where( (obj_rb > 0.6) & (obj_ra > 0.0)   & (obj_ra < 20.0)  & \\\n",
    "                   (obj_dec > -50.0) & (obj_dec < -40.0) )[0]\n",
    "print('Number of COSMOS detections with r/b>0.6: ',len(rbg_cox))\n",
    "print('Number of ELAIS detections with r/b>0.6: ',len(rbg_eox))"
   ]
  },
  {
   "cell_type": "markdown",
   "id": "61e9c02c-4b76-430c-97f8-e4ef8e3bd30f",
   "metadata": {},
   "source": [
    "#### object real/bogus distributions per filter"
   ]
  },
  {
   "cell_type": "code",
   "execution_count": null,
   "id": "74125a69-b3b9-414e-90aa-7500abffe780",
   "metadata": {},
   "outputs": [],
   "source": [
    "fig, ax = plt.subplots( 1, 3, figsize=(16,4), sharey=True )\n",
    "for i,ifilt in enumerate(['g','r','i']):\n",
    "    fcx = np.where( exp_fil[ sub_expind[ obj_subind[cox] ] ] == ifilt )[0]\n",
    "    ax[i].hist( obj_rb[cox[fcx]], bins=20, log=True, histtype='step', lw=2, \\\n",
    "               color=c[i], label='COSMOS, '+ifilt+'-band')\n",
    "\n",
    "    j = i + 3\n",
    "    fex = np.where( exp_fil[ sub_expind[ obj_subind[eox] ] ] == ifilt )[0]\n",
    "    ax[i].hist( obj_rb[eox[fex]], bins=20, log=True, histtype='step', lw=2, \\\n",
    "               color=c[j], label='ELAIS, '+ifilt+'-band')\n",
    "    \n",
    "    ax[i].yaxis.set_tick_params(which='both', labelbottom=True)\n",
    "    ax[i].legend(loc='upper right')\n",
    "    ax[i].set_ylim([500,1000000])\n",
    "\n",
    "    if i == 0:\n",
    "        ax[i].set_ylabel(\"log(Number of Objects)\")\n",
    "    ax[i].set_xlabel(\"Real/Bogus Score\")\n",
    "    ax[i].axvline(0.6, color='grey')\n",
    "\n",
    "    del fcx\n",
    "    del fex\n",
    "    \n",
    "fig.tight_layout()\n",
    "plt.savefig(\"source_detection_summary_figures/srcdet_RBhist.png\")"
   ]
  },
  {
   "cell_type": "markdown",
   "id": "2234465a-26ab-4329-a972-9faa82dc1576",
   "metadata": {},
   "source": [
    "#### object magnitude distributions per filter"
   ]
  },
  {
   "cell_type": "code",
   "execution_count": null,
   "id": "40359de0-2d2c-43f5-8c11-989984c2347f",
   "metadata": {},
   "outputs": [],
   "source": [
    "fig, ax = plt.subplots( 1, 3, figsize=(16,5), sharey=True )\n",
    "for i,ifilt in enumerate(['g','r','i']):\n",
    "    ax[i].yaxis.set_tick_params(which='both', labelbottom=True)\n",
    "\n",
    "    fcx = np.where( exp_fil[ sub_expind[ obj_subind[cox] ] ] == ifilt )[0]\n",
    "    ax[i].hist( obj_mag[cox[fcx]], bins=20, log=True, histtype='step', lw=1, \\\n",
    "               color=c[i], label='COSMOS (all)')\n",
    "    del fcx\n",
    "    \n",
    "    j = i + 3\n",
    "    fex = np.where( exp_fil[ sub_expind[ obj_subind[eox] ] ] == ifilt )[0]\n",
    "    ax[i].hist( obj_mag[eox[fex]], bins=20, log=True, histtype='step', lw=1, \\\n",
    "               color=c[j], label='ELAIS (all)')\n",
    "    del fex\n",
    "\n",
    "    fcx = np.where( exp_fil[ sub_expind[ obj_subind[rbg_cox] ] ] == ifilt )[0]\n",
    "    ax[i].hist( obj_mag[rbg_cox[fcx]], bins=20, log=True, histtype='step', lw=3, \\\n",
    "               color=c[i], label='COSMOS (R/B>0.6)')\n",
    "    del fcx\n",
    "    \n",
    "    j = i + 3\n",
    "    fex = np.where( exp_fil[ sub_expind[ obj_subind[rbg_eox] ] ] == ifilt )[0]\n",
    "    ax[i].hist( obj_mag[rbg_eox[fex]], bins=20, log=True, histtype='step', lw=3, \\\n",
    "               color=c[j], label='ELAIS (R/B>0.6)')\n",
    "    del fex\n",
    "\n",
    "    if i == 0:\n",
    "        ax[i].set_ylabel(\"Number of Objects\")\n",
    "    ax[i].set_xlabel(\"Apparent Magnitude\")\n",
    "    ax[i].axvline(23.5, color='grey')\n",
    "    ax[i].legend(loc='upper center', bbox_to_anchor=(0.45, 1.25), ncol=2, fontsize=13)\n",
    "\n",
    "fig.tight_layout()\n",
    "plt.savefig(\"source_detection_summary_figures/srcdet_maghist.png\")"
   ]
  },
  {
   "cell_type": "markdown",
   "id": "02ecd5dd-919f-457a-8476-4614300f8cfc",
   "metadata": {},
   "source": [
    "### real/bogus vs. magnitude"
   ]
  },
  {
   "cell_type": "code",
   "execution_count": null,
   "id": "d079d965-c1ae-466a-89f3-f25ab41521ef",
   "metadata": {},
   "outputs": [],
   "source": [
    "fig, ax = plt.subplots( 1, 3, figsize=(12,3), sharey=True )\n",
    "for i,ifilt in enumerate(['g','r','i']):\n",
    "\n",
    "    fcx = np.where( exp_fil[ sub_expind[ obj_subind[cox] ] ] == ifilt )[0]\n",
    "    ax[i].plot( obj_mag[cox[fcx]], obj_rb[cox[fcx]], 'o', ms=2, alpha=0.2, mew=0, color=c[i])\n",
    "    del fcx\n",
    "\n",
    "    j = i + 3\n",
    "    fex = np.where( exp_fil[ sub_expind[ obj_subind[eox] ] ] == ifilt )[0]\n",
    "    ax[i].plot( obj_mag[eox[fex]], obj_rb[eox[fex]], 'o', ms=2, alpha=0.2, mew=0, color=c[j])\n",
    "    del fex\n",
    "\n",
    "    if i == 0:\n",
    "        ax[i].set_ylabel(\"R/B\")\n",
    "    ax[i].yaxis.set_tick_params(which='both', labelbottom=True)\n",
    "    ax[i].set_xlabel(\"mag\")\n",
    "\n",
    "fig.tight_layout()\n",
    "plt.show()"
   ]
  },
  {
   "cell_type": "markdown",
   "id": "e3bec514-c984-417c-a9bc-a7b447623346",
   "metadata": {},
   "source": [
    "<br>\n",
    "<br>\n",
    "\n",
    "## plot candidate qualities"
   ]
  },
  {
   "cell_type": "markdown",
   "id": "3a86a931-f82a-4182-b3fa-3d02b4804971",
   "metadata": {},
   "source": [
    "### index candidates by field"
   ]
  },
  {
   "cell_type": "code",
   "execution_count": null,
   "id": "d56d3461-ab6a-4881-a75a-9b47a248f115",
   "metadata": {},
   "outputs": [],
   "source": [
    "ccx = np.where( (cand_ra > 140.0) & (cand_ra < 160.0) & (cand_dec > -5.0)  & (cand_dec < 10.0) )[0]\n",
    "ecx = np.where( (cand_ra > 0.0)   & (cand_ra < 20.0)  & (cand_dec > -50.0) & (cand_dec < -40.0) )[0]\n",
    "print('Number of COSMOS candidates: ',len(ccx))\n",
    "print('Number of ELAIS candidates: ',len(ecx))\n",
    "\n",
    "# likely real based on mean real/bogus score\n",
    "cut_RB = 0.6\n",
    "str_cut_RB = str(cut_RB)\n",
    "rbg_ccx = np.where( (cand_meanrb > cut_RB) & \\\n",
    "                   (cand_ra > 140.0) & (cand_ra < 160.0) & \\\n",
    "                   (cand_dec > -5.0)  & (cand_dec < 10.0) )[0]\n",
    "rbg_ecx = np.where( (cand_meanrb > cut_RB) & \\\n",
    "                   (cand_ra > 0.0)   & (cand_ra < 20.0)  & \\\n",
    "                   (cand_dec > -50.0) & (cand_dec < -40.0) )[0]\n",
    "print('Number of COSMOS candidates with mean r/b>0.6: ',len(rbg_ccx))\n",
    "print('Number of ELAIS candidates with mean r/b>0.6: ',len(rbg_ecx))\n",
    "\n",
    "# likely real based on number of detections\n",
    "cut_Nobj = 10\n",
    "str_cut_Nobj = str(cut_Nobj)\n",
    "rdt_ccx = np.where( (cand_nobj > cut_Nobj) & \\\n",
    "                   (cand_ra > 140.0) & (cand_ra < 160.0) & \\\n",
    "                   (cand_dec > -5.0)  & (cand_dec < 10.0) )[0]\n",
    "rdt_ecx = np.where( (cand_nobj > cut_Nobj) & \\\n",
    "                   (cand_ra > 0.0)   & (cand_ra < 20.0)  & \\\n",
    "                   (cand_dec > -50.0) & (cand_dec < -40.0) )[0]\n",
    "print('Number of COSMOS candidates with nobj>30: ',len(rdt_ccx))\n",
    "print('Number of ELAIS candidates with nobj>30: ',len(rdt_ecx))\n",
    "\n",
    "# likely real based on both mean real/bogus and number of detections = LIKELY GOOD\n",
    "good_ccx = np.where( (cand_nobj > cut_Nobj) & (cand_meanrb > cut_RB) & \\\n",
    "                    (cand_ra > 140.0) & (cand_ra < 160.0) & \\\n",
    "                    (cand_dec > -5.0)  & (cand_dec < 10.0) )[0]\n",
    "good_ecx = np.where( (cand_nobj > cut_Nobj) & (cand_meanrb > cut_RB) & \\\n",
    "                    (cand_ra > 0.0)   & (cand_ra < 20.0) & \\\n",
    "                    (cand_dec > -50.0) & (cand_dec < -40.0) )[0]\n",
    "print('Number of COSMOS candidates that are \"good\": ',len(good_ccx))\n",
    "print('Number of ELAIS candidates that are \"good\": ',len(good_ecx))"
   ]
  },
  {
   "cell_type": "markdown",
   "id": "c695bfc4-954d-46ce-b81e-1f3e012dda03",
   "metadata": {},
   "source": [
    "#### show the spatial distribution of candidates"
   ]
  },
  {
   "cell_type": "code",
   "execution_count": null,
   "id": "d6dcf62a-7ab8-4c74-86d6-3962c38062f6",
   "metadata": {},
   "outputs": [],
   "source": [
    "fig, ax = plt.subplots( 2, 4, figsize=(16,6), sharey=False )\n",
    "\n",
    "ax[0,0].plot( cand_ra[ccx], cand_dec[ccx], 'o', ms=2, alpha=0.01, mew=0, color=cc)\n",
    "ax[0,1].plot( cand_ra[rbg_ccx], cand_dec[rbg_ccx], 'o', ms=2, alpha=0.2, mew=0, color=cc)\n",
    "ax[0,2].plot( cand_ra[rdt_ccx], cand_dec[rdt_ccx], 'o', ms=2, alpha=0.2, mew=0, color=cc)\n",
    "ax[0,3].plot( cand_ra[good_ccx], cand_dec[good_ccx], 'o', ms=4, alpha=0.5, mew=0, color=cc)\n",
    "\n",
    "ax[1,0].plot( cand_ra[ecx], cand_dec[ecx], 'o', ms=2, alpha=0.01, mew=0, color=ce)\n",
    "ax[1,1].plot( cand_ra[rbg_ecx], cand_dec[rbg_ecx], 'o', ms=2, alpha=0.2, mew=0, color=ce)\n",
    "ax[1,2].plot( cand_ra[rdt_ecx], cand_dec[rdt_ecx], 'o', ms=2, alpha=0.2, mew=0, color=ce)\n",
    "ax[1,3].plot( cand_ra[good_ecx], cand_dec[good_ecx], 'o', ms=4, alpha=0.5, mew=0, color=ce)\n",
    "\n",
    "ax[0,0].set_title( 'all' )\n",
    "ax[0,1].set_title( 'mean R/B > '+str_cut_RB )\n",
    "ax[0,2].set_title( '#obj > '+str_cut_Nobj )\n",
    "ax[0,3].set_title( 'good candidates' )\n",
    "fig.tight_layout()\n",
    "plt.show()"
   ]
  },
  {
   "cell_type": "code",
   "execution_count": null,
   "id": "d5acf9ea-b99b-40e4-834a-53023e3df54a",
   "metadata": {},
   "outputs": [],
   "source": [
    "fig, ax = plt.subplots( 1, 2, figsize=(16,5), sharey=True )\n",
    "\n",
    "ax[0].axvline( cut_RB, color='grey' )\n",
    "ax[0].hist( cand_meanrb[ccx],     bins=20, log=True, histtype='step', lw=1, color=cc, \\\n",
    "           label='COSMOS (all)')\n",
    "ax[0].hist( cand_meanrb[ecx],     bins=20, log=True, histtype='step', lw=1, color=ce, \\\n",
    "           label='ELAIS (all)')\n",
    "ax[0].hist( cand_meanrb[rdt_ccx], bins=20, log=True, histtype='step', lw=3, color=cc, \\\n",
    "           label='COSMOS (Nobj>'+str_cut_Nobj+')')\n",
    "ax[0].hist( cand_meanrb[rdt_ecx], bins=20, log=True, histtype='step', lw=3, color=ce, \\\n",
    "           label='ELAIS (Nobj>'+str_cut_Nobj+')')\n",
    "ax[0].set_xlabel(\"Mean R/B Score\")\n",
    "ax[0].set_ylabel(\"Number of Candidates\")\n",
    "\n",
    "ax[1].axvline( np.log10(cut_Nobj), color='grey' )\n",
    "ax[1].hist( np.log10(cand_nobj[ccx]),     bins=40, range=(0,3.0), log=True, \\\n",
    "           histtype='step', lw=1, color=cc, label='COSMOS (all)')\n",
    "ax[1].hist( np.log10(cand_nobj[ecx]),     bins=40, range=(0,3.0), log=True, \\\n",
    "           histtype='step', lw=1, color=ce, label='ELAIS (all)')\n",
    "ax[1].hist( np.log10(cand_nobj[rbg_ccx]), bins=40, range=(0,3.0), log=True, \\\n",
    "           histtype='step', lw=3, color=cc, label='COSMOS (mean R/B>'+str_cut_RB+')')\n",
    "ax[1].hist( np.log10(cand_nobj[rbg_ecx]), bins=40, range=(0,3.0), log=True, \\\n",
    "           histtype='step', lw=3, color=ce, label='ELAIS (mean R/B>'+str_cut_RB+')')\n",
    "ax[1].set_xlabel(\"Number of Objects\")\n",
    "ax[1].set_xlim([-0.1,2.9])\n",
    "# ax[1].set_ylabel(\"Number of Candidates\")\n",
    "\n",
    "ax[1].set_ylim([1,1000000])\n",
    "\n",
    "for i in (0,1):\n",
    "    ax[i].yaxis.set_tick_params(which='both', labelbottom=True)\n",
    "ax[0].legend(loc='upper center', bbox_to_anchor=(0.34, 1.25), ncol=2, fontsize=13)\n",
    "ax[1].legend(loc='upper center', bbox_to_anchor=(0.37, 1.25), ncol=2, fontsize=13)\n",
    "\n",
    "fig.tight_layout()\n",
    "plt.savefig(\"source_detection_summary_figures/srcdet_candhists.png\")"
   ]
  },
  {
   "cell_type": "code",
   "execution_count": null,
   "id": "d42d8831-fcc2-4564-a90d-bc3fd38c0ce1",
   "metadata": {},
   "outputs": [],
   "source": [
    "fig, ax = plt.subplots( 1, 2, figsize=(12,4), sharey=True )\n",
    "ax[0].yaxis.set_tick_params(which='both', labelbottom=True)\n",
    "ax[0].plot( cand_meanrb[good_ccx], cand_nobj[good_ccx], 'o', ms=7, \\\n",
    "           alpha=0.2, mew=0, color=cc, label='COSMOS')\n",
    "# ax[0].legend()\n",
    "ax[0].set_xlabel(\"mean real/bogus\")\n",
    "ax[0].set_ylabel(\"number of detections\")\n",
    "ax[1].yaxis.set_tick_params(which='both', labelbottom=True)\n",
    "ax[1].plot( cand_meanrb[good_ecx], cand_nobj[good_ecx], 'o', ms=7, \\\n",
    "           alpha=0.2, mew=0, color=ce, label='ELAIS')\n",
    "# ax[1].legend()\n",
    "ax[1].set_xlabel(\"mean real/bogus\")\n",
    "fig.tight_layout()\n",
    "# plt.savefig(\"./source_detection_summary_figures/cand_mrb_nobj.png\")"
   ]
  },
  {
   "cell_type": "markdown",
   "id": "e4bfa561-1ab3-474b-8fb9-0cb0d59c2e28",
   "metadata": {},
   "source": []
  },
  {
   "cell_type": "code",
   "execution_count": null,
   "id": "5216bdbb-ddee-4857-b50d-06064ad3a256",
   "metadata": {},
   "outputs": [],
   "source": []
  },
  {
   "cell_type": "markdown",
   "id": "48e7fd08-59e4-4cfd-95e0-28307a6c3a53",
   "metadata": {},
   "source": []
  },
  {
   "cell_type": "code",
   "execution_count": null,
   "id": "74c1db1a-cc92-4d85-bf29-e8bbd8fb2439",
   "metadata": {},
   "outputs": [],
   "source": []
  },
  {
   "cell_type": "markdown",
   "id": "6eb2226c-d874-4228-80e9-17e3e39b570b",
   "metadata": {},
   "source": []
  },
  {
   "cell_type": "code",
   "execution_count": null,
   "id": "ff384fcd-96bd-4928-8dae-56bab430af64",
   "metadata": {},
   "outputs": [],
   "source": []
  },
  {
   "cell_type": "markdown",
   "id": "960bdfc6-b51d-4f08-a80b-0cad47a61663",
   "metadata": {},
   "source": []
  },
  {
   "cell_type": "code",
   "execution_count": null,
   "id": "3143ed71-846d-48ab-b450-b7d5650bf988",
   "metadata": {},
   "outputs": [],
   "source": []
  },
  {
   "cell_type": "code",
   "execution_count": null,
   "id": "df88da07-e524-44cf-b162-725b60b5318d",
   "metadata": {},
   "outputs": [],
   "source": []
  },
  {
   "cell_type": "code",
   "execution_count": null,
   "id": "17856122-3acf-4e18-b211-145134b45aa5",
   "metadata": {},
   "outputs": [],
   "source": []
  },
  {
   "cell_type": "code",
   "execution_count": null,
   "id": "c2b13f36-5552-4856-81c6-b2087c2b74e9",
   "metadata": {},
   "outputs": [],
   "source": []
  },
  {
   "cell_type": "code",
   "execution_count": null,
   "id": "e9dd127b-a8de-4f7c-a241-43acfa62a1b2",
   "metadata": {},
   "outputs": [],
   "source": []
  },
  {
   "cell_type": "code",
   "execution_count": null,
   "id": "9ffff386-dc7b-4083-ab1b-a13d5c9546db",
   "metadata": {},
   "outputs": [],
   "source": []
  },
  {
   "cell_type": "code",
   "execution_count": null,
   "id": "1785f1b0-c49d-4197-9f0d-2b9e8edd228a",
   "metadata": {},
   "outputs": [],
   "source": []
  },
  {
   "cell_type": "code",
   "execution_count": null,
   "id": "9e0ec4ec-6175-423e-b65f-f7731c412c40",
   "metadata": {},
   "outputs": [],
   "source": []
  },
  {
   "cell_type": "code",
   "execution_count": null,
   "id": "776e31c4-f620-434a-92d4-89fff33fb86b",
   "metadata": {},
   "outputs": [],
   "source": []
  },
  {
   "cell_type": "code",
   "execution_count": null,
   "id": "0669ffc9-72b5-4371-a7ef-10a72b314d86",
   "metadata": {},
   "outputs": [],
   "source": []
  },
  {
   "cell_type": "markdown",
   "id": "e055cd17-4bcb-4963-801e-1b77790100fb",
   "metadata": {},
   "source": [
    "## Read in the data tables and store as numpy arrays\n",
    "Note that in some cases specifying the type throws an error, and so type is omitted for some numpy arrays."
   ]
  },
  {
   "cell_type": "code",
   "execution_count": null,
   "id": "6d6053eb-ea6d-4a7c-9873-79afb42ba0f6",
   "metadata": {},
   "outputs": [],
   "source": [
    "# t1 = time.time()\n",
    "\n",
    "# query = \"SELECT id, filename, mjd, filter FROM exposures\"\n",
    "# cursor.execute( query )\n",
    "# results = np.array( cursor.fetchall() ).transpose()\n",
    "\n",
    "# t2 = time.time()\n",
    "# print(t2-t1)\n",
    "# del t1,t2\n",
    "\n",
    "# exp_id  = np.asarray( results[0], dtype='int' )\n",
    "# exp_fnm = np.asarray( results[1], dtype='str' )\n",
    "# exp_mjd = np.asarray( results[2], dtype='float' )\n",
    "# exp_fil = np.asarray( results[3], dtype='str' )\n",
    "# del query, results\n",
    "\n",
    "# print(len(exp_id))"
   ]
  },
  {
   "cell_type": "code",
   "execution_count": null,
   "id": "ed6cb32c-4e18-4aa5-9875-f4e34a12cd66",
   "metadata": {},
   "outputs": [],
   "source": [
    "# t1 = time.time()\n",
    "\n",
    "# query = \"SELECT id, lmt_mg, seeing, skysig, magzp, exposure_id FROM subtractions\"\n",
    "# cursor.execute( query )\n",
    "# results = np.array( cursor.fetchall() ).transpose()\n",
    "\n",
    "# t2 = time.time()\n",
    "# print(t2-t1)\n",
    "# del t1,t2\n",
    "\n",
    "# sub_id     = np.asarray( results[0], dtype='int' )\n",
    "# sub_lmtmg  = np.asarray( results[1], dtype='float' )\n",
    "# sub_seeing = np.asarray( results[2], dtype='float' )\n",
    "# sub_skysig = np.asarray( results[3], dtype='float' )\n",
    "# sub_magzp  = np.asarray( results[4], dtype='float' )\n",
    "# sub_expid  = np.asarray( results[5], dtype='int' )\n",
    "# del query, results\n",
    "\n",
    "# print(len(sub_id))"
   ]
  },
  {
   "cell_type": "code",
   "execution_count": null,
   "id": "c1331cb6-df4a-4277-be03-a2bf72ac9771",
   "metadata": {},
   "outputs": [],
   "source": [
    "# t1 = time.time()\n",
    "\n",
    "# query = (\"SELECT o.id, o.ra, o.dec, o.candidate_id, o.subtraction_id, rbs.rb, o.mag, o.magerr, o.ignore FROM objects o \"\n",
    "#          \"JOIN objectrbs as rbs ON o.id=rbs.object_id AND rbs.rbtype_id=1 \")\n",
    "# cursor.execute( query )\n",
    "# results = np.array( cursor.fetchall() ).transpose()\n",
    "\n",
    "# t2 = time.time()\n",
    "# print(t2-t1)\n",
    "# del t1,t2\n",
    "\n",
    "# obj_id     = np.asarray( results[0], dtype='int' )\n",
    "# obj_ra     = np.asarray( results[1], dtype='float' )\n",
    "# obj_dec    = np.asarray( results[2], dtype='float' )\n",
    "# obj_candid = np.asarray( results[3] )\n",
    "# obj_subid  = np.asarray( results[4], dtype='int' )\n",
    "# obj_rb     = np.asarray( results[5], dtype='float' )\n",
    "# obj_mag    = np.asarray( results[6], dtype='float' )\n",
    "# obj_magerr = np.asarray( results[7], dtype='float' )\n",
    "# obj_ignore = np.asarray( results[8] )\n",
    "# del query, results\n",
    "\n",
    "# print(len(obj_id))"
   ]
  },
  {
   "cell_type": "code",
   "execution_count": null,
   "id": "2a84ca48-a9df-48ed-96d6-75694b9406e0",
   "metadata": {},
   "outputs": [],
   "source": [
    "### What is this obj_ignore array?\n",
    "# ix = np.where( obj_ignore == True )[0]\n",
    "# print(len(ix))"
   ]
  },
  {
   "cell_type": "code",
   "execution_count": null,
   "id": "ad0977fc-f385-4983-9501-b1f31aa848bf",
   "metadata": {},
   "outputs": [],
   "source": [
    "# t1 = time.time()\n",
    "\n",
    "# query = \"SELECT id, ra, dec, nmatches FROM candidates\"\n",
    "# cursor.execute( query )\n",
    "# results = np.array( cursor.fetchall() ).transpose()\n",
    "\n",
    "# t2 = time.time()\n",
    "# print(t2-t1)\n",
    "# del t1,t2\n",
    "\n",
    "# cand_id       = np.asarray( results[0] )\n",
    "# cand_ra       = np.asarray( results[1], dtype='float' )\n",
    "# cand_dec      = np.asarray( results[2], dtype='float' )\n",
    "# cand_nmatches = np.asarray( results[3] )\n",
    "# del query, results\n",
    "\n",
    "# print(len(cand_id))"
   ]
  },
  {
   "cell_type": "code",
   "execution_count": null,
   "id": "990380b4-08ce-47c7-bb47-c281420a8c76",
   "metadata": {},
   "outputs": [],
   "source": [
    "# ### There are more cand_id than there are unique obj_candid values.\n",
    "# print(len(np.unique(cand_id)))\n",
    "# print(len(np.unique(obj_candid)))"
   ]
  },
  {
   "cell_type": "markdown",
   "id": "433e5984-cf56-48a7-979d-1b2a85e5ba66",
   "metadata": {},
   "source": [
    "### What is cand_nmatches??\n",
    "\n",
    "It appears to be empty."
   ]
  },
  {
   "cell_type": "code",
   "execution_count": null,
   "id": "02810559-d86e-4535-b4b9-eb34c129cbe3",
   "metadata": {},
   "outputs": [],
   "source": [
    "# print(cand_nmatches)\n",
    "# print(len(cand_nmatches))\n",
    "# cx = np.where( cand_nmatches != None )[0]\n",
    "# print(len(cx))\n",
    "# print(cand_nmatches[cx])"
   ]
  },
  {
   "cell_type": "markdown",
   "id": "2a0c775b-7ee8-4c30-8154-428388f8b132",
   "metadata": {},
   "source": [
    "#### No matter, we can easily get the number of unique candidate ids from the object array"
   ]
  },
  {
   "cell_type": "code",
   "execution_count": null,
   "id": "e23df9e2-722c-4e1a-ab69-757aa035122f",
   "metadata": {},
   "outputs": [],
   "source": [
    "# #all \n",
    "# values, indices, counts = np.unique( obj_candid, return_inverse = True, return_counts = True )\n",
    "# print( len(values), len(indices), len(counts) )\n",
    "# print( values )\n",
    "# print( indices )\n",
    "# print( counts )\n",
    "# print( np.min(counts), np.max(counts) )\n",
    "\n",
    "# #good \"likely-real\"\n",
    "# gx = np.where( obj_rb > 0.6 )[0]\n",
    "# gvalues, gindices, gcounts = np.unique( obj_candid[gx], return_inverse = True, return_counts = True )\n",
    "# print( len(gvalues), len(gindices), len(gcounts) )\n",
    "# print( gvalues )\n",
    "# print( gindices )\n",
    "# print( gcounts )\n",
    "# print( np.min(gcounts), np.max(gcounts) )"
   ]
  },
  {
   "cell_type": "code",
   "execution_count": null,
   "id": "472daae8-297a-4fe5-b8f6-0c91fec69c91",
   "metadata": {},
   "outputs": [],
   "source": [
    "# ### Plot a histogram of the number of candidates with N objects\n",
    "# plt.figure(figsize=(12, 4))\n",
    "# plt.hist( counts, bins=100, log=True )\n",
    "# plt.xlabel('number of objects')\n",
    "# plt.ylabel('log(number of candidates)')\n",
    "# plt.show()"
   ]
  },
  {
   "cell_type": "code",
   "execution_count": null,
   "id": "a1ef3bdb-0e55-4d95-a628-cbce0632b84d",
   "metadata": {},
   "outputs": [],
   "source": [
    "# ### Plot a histogram of the number of candidates with N good objects\n",
    "# plt.figure(figsize=(12, 4))\n",
    "# plt.hist( gcounts, bins=100, log=True, color='darkorange' )\n",
    "# plt.xlabel('number of good objects')\n",
    "# plt.ylabel('log(number of candidates)')\n",
    "# plt.show()"
   ]
  },
  {
   "cell_type": "markdown",
   "id": "089d9d65-ee35-4d0f-b8bb-03346d77555f",
   "metadata": {},
   "source": [
    "#### And then make new array to hold the number of objects for a candidate"
   ]
  },
  {
   "cell_type": "code",
   "execution_count": null,
   "id": "bbff8fb9-6cde-4ac6-a06c-09035757d5db",
   "metadata": {},
   "outputs": [],
   "source": [
    "# ### The number of objects associated with the same candidate, for each object\n",
    "# obj_nobj = counts[indices]\n",
    "# print(obj_nobj)"
   ]
  },
  {
   "cell_type": "markdown",
   "id": "328f12eb-cd7c-45d3-bd93-08f6ca560559",
   "metadata": {},
   "source": [
    "#### And also a new cand_nmatches, and one for just \"good\" objects too"
   ]
  },
  {
   "cell_type": "code",
   "execution_count": null,
   "id": "478f89d9-d9d8-4ab6-b7f5-5d7c809b7e6e",
   "metadata": {},
   "outputs": [],
   "source": [
    "### Get rid of the useless cand_nmatches and repopulate it\n",
    "\n",
    "# t1 = time.time()\n",
    "\n",
    "# del cand_nmatches\n",
    "# cand_nmatches = np.zeros( len(cand_id), dtype='int' )\n",
    "# cand_ngmatches = np.zeros( len(cand_id), dtype='int' )\n",
    "# sx = np.argsort( cand_id )\n",
    "\n",
    "# ### Using sorted lists is the only way to do this is a reasonable amount of time\n",
    "# ### This is a loop for every unique candidate id\n",
    "# cntr = 0\n",
    "# for c,val in enumerate( values ):\n",
    "#     if (c==100) | (c==1000) | (c==10000):\n",
    "#         print( 'c = ', c, np.round(time.time()-t1,3), 's elapsed' )\n",
    "\n",
    "#     match = False\n",
    "#     while match == False:\n",
    "#         if val == cand_id[sx[cntr]]:\n",
    "#             cand_nmatches[sx[cntr]] = counts[c]\n",
    "#             cntr += 1\n",
    "#             match = True\n",
    "#         else:\n",
    "#             cntr += 1\n",
    "\n",
    "            \n",
    "# cntr = 0\n",
    "# for c,gval in enumerate( gvalues ):\n",
    "#     if (c==100) | (c==1000) | (c==10000):\n",
    "#         print( 'c = ', c, np.round(time.time()-t1,3), 's elapsed' )\n",
    "\n",
    "#     match = False\n",
    "#     while match == False:\n",
    "#         if gval == cand_id[sx[cntr]]:\n",
    "#             cand_ngmatches[sx[cntr]] = gcounts[c]\n",
    "#             cntr += 1\n",
    "#             match = True\n",
    "#         else:\n",
    "#             cntr += 1\n",
    "\n",
    "# t2 = time.time()\n",
    "# print(t2-t1)\n",
    "# del t1,t2"
   ]
  },
  {
   "cell_type": "code",
   "execution_count": null,
   "id": "b2574a52-876c-4194-bba7-021ab358c3a8",
   "metadata": {},
   "outputs": [],
   "source": [
    "### Just double check that values of cand_nmatches are as expected (similar to counts array)\n",
    "# print( cand_nmatches )\n",
    "# print( np.min(cand_nmatches), np.max(cand_nmatches) )\n",
    "# for n in [10,20,30,100]:\n",
    "#     print(n, len(np.where( cand_nmatches >= n )[0]) )"
   ]
  },
  {
   "cell_type": "code",
   "execution_count": null,
   "id": "9cec9fc2-195b-4d95-a68f-bcd650ec30ec",
   "metadata": {},
   "outputs": [],
   "source": [
    "# print( cand_ngmatches )\n",
    "# print( np.min(cand_ngmatches), np.max(cand_ngmatches) )\n",
    "# for n in [10,20,30,100]:\n",
    "#     print(n, len(np.where( cand_ngmatches >= n )[0]) )"
   ]
  },
  {
   "cell_type": "code",
   "execution_count": null,
   "id": "99618b31-8aea-4525-b12f-01a6ba97d567",
   "metadata": {},
   "outputs": [],
   "source": [
    "### Plot a histogram of the number of candidates with N objects\n",
    "# plt.figure(figsize=(12, 4))\n",
    "# plt.hist( cand_nmatches, bins=100, log=True )\n",
    "# plt.xlabel('number of objects')\n",
    "# plt.ylabel('log(number of candidates)')\n",
    "# plt.show()"
   ]
  },
  {
   "cell_type": "code",
   "execution_count": null,
   "id": "65ea452b-5e5a-4f3e-a54c-6c8fe0fc9db7",
   "metadata": {},
   "outputs": [],
   "source": [
    "del values, indices, counts"
   ]
  },
  {
   "cell_type": "markdown",
   "id": "89b2bfce-dece-4038-886f-747527f90617",
   "metadata": {},
   "source": [
    "### Flag objects that are duplicates\n",
    "They are within 0.1\" of another object in the same subtraction.<br>\n",
    "This takes about 600 seconds."
   ]
  },
  {
   "cell_type": "code",
   "execution_count": null,
   "id": "411baafe-f90d-457b-bf3a-87ffc32b9361",
   "metadata": {},
   "outputs": [],
   "source": [
    "# t1 = time.time()\n",
    "\n",
    "# obj_dup = np.zeros( len(obj_id), dtype='int' )\n",
    "\n",
    "# limit = (0.1 / 3600.0)**2\n",
    "# for s,subid in enumerate(sub_id):\n",
    "#     if (s==100) | (s==1000) | (s==10000) | (s==30000) | (s==60000):\n",
    "#         ix = np.where( obj_dup == 1 )[0]\n",
    "#         print( 's = ', s, np.round(time.time()-t1,3), 's elapsed, ', len(ix),' duplicates identified' )\n",
    "#         del ix\n",
    "#     # all the objects in this subtraction\n",
    "#     ox = np.where( (obj_subid == subid) & (obj_dup == 0) )[0]\n",
    "#     for o in ox:\n",
    "#         # all the objects in this subtraction with similar RA and Dec to the o'th in ox\n",
    "#         tx = np.where( (obj_ra[ox]-obj_ra[o])**2 + (obj_dec[ox]-obj_dec[o])**2 < limit )[0]\n",
    "#         if len(tx) > 0:\n",
    "#             # identify all the matching objects as duplicates\n",
    "#             obj_dup[ox[tx]] = 1\n",
    "#             # except the first one, of course, consider it the 'real' one\n",
    "#             obj_dup[o] = 0\n",
    "#         del tx\n",
    "#     del ox\n",
    "\n",
    "# tx = np.where( obj_dup == 1 )[0]\n",
    "# print('total number of duplicates identified: ',len(tx))\n",
    "# del tx\n",
    "\n",
    "# t2 = time.time()\n",
    "# print(t2-t1)\n",
    "# del t1,t2"
   ]
  },
  {
   "cell_type": "markdown",
   "id": "fa945fcd-882c-4efb-97f4-0e88f0cb3c1f",
   "metadata": {},
   "source": [
    "### Flag objects that are from \"bad\" (short-exposure) images\n",
    "(i.e., files that do not have a classification of COSMOS, COSMOS-AGN, or ELAIS)\n",
    "\n",
    "At the same time, get the filter for each object."
   ]
  },
  {
   "cell_type": "code",
   "execution_count": null,
   "id": "de75d3bb-77ee-46c7-b5b0-f9a216b35892",
   "metadata": {},
   "outputs": [],
   "source": [
    "# temp = []\n",
    "# for efnm in exp_fnm:\n",
    "#     temp.append( efnm[0:21] )\n",
    "# exp_fnmbase = np.asarray( temp, dtype='str' )\n",
    "# print( exp_fnm[0], exp_fnmbase[0] )"
   ]
  },
  {
   "cell_type": "code",
   "execution_count": null,
   "id": "e6a3f0a7-1a2a-421a-b136-cce9c0f0e097",
   "metadata": {},
   "outputs": [],
   "source": [
    "# t1 = time.time()\n",
    "\n",
    "# obj_bimg = np.zeros( len(obj_id), dtype='int' )\n",
    "# obj_filt = np.zeros( len(obj_id), dtype='str' )\n",
    "# obj_mjd  = np.zeros( len(obj_id), dtype='float' )\n",
    "\n",
    "# img_fnmbase = np.loadtxt( 'archive_image_list.txt', dtype='str', usecols=(0) )\n",
    "# img_class   = np.loadtxt( 'archive_image_list.txt', dtype='str', usecols=(9) )\n",
    "\n",
    "# for f,fnmbase in enumerate(img_fnmbase):\n",
    "#     if (f==10) | (f==100) | (f==1000):\n",
    "#         ix = np.where( obj_bimg == 1 )[0]\n",
    "#         print( 'f = ', f, np.round(time.time()-t1,3), 's elapsed, ', len(ix),' objects in bad images identified' )\n",
    "#         del ix\n",
    "#     if (img_class[f] != 'COSMOS') & (img_class[f] != 'COSMOS-AGN') & (img_class[f] != 'ELAIS'):\n",
    "#         # all the exposures associated with this filename\n",
    "#         ex = np.where( exp_fnmbase == fnmbase )[0]\n",
    "#         if len(ex) > 0:\n",
    "#             for e in ex:\n",
    "#                 # all the subtractions associated with this exposure\n",
    "#                 sx = np.where( sub_expid == exp_id[e] )[0]\n",
    "#                 if len(sx) > 0:\n",
    "#                     for s in sx:\n",
    "#                         # all the objects associated with this subtraction\n",
    "#                         ox = np.where( obj_subid == sub_id[s] )[0]\n",
    "#                         if len(ox) > 0:\n",
    "#                             obj_bimg[ox] = 1\n",
    "#                         del ox\n",
    "#                 del sx\n",
    "#         del ex\n",
    "#     else:\n",
    "#         # all the exposures associated with this filename\n",
    "#         ex = np.where( exp_fnmbase == fnmbase )[0]\n",
    "#         if len(ex) > 0:\n",
    "#             for e in ex:\n",
    "#                 sx = np.where( sub_expid == exp_id[e] )[0]\n",
    "#                 if len(sx) > 0:\n",
    "#                     for s in sx:\n",
    "#                         # all the objects associated with this subtraction\n",
    "#                         ox = np.where( obj_subid == sub_id[s] )[0]\n",
    "#                         if len(ox) > 0:\n",
    "#                             obj_filt[ox] = exp_fil[e]\n",
    "#                             obj_mjd[ox] = exp_mjd[e]\n",
    "#                         del ox\n",
    "#                 del sx\n",
    "#         del ex\n",
    "\n",
    "# tx = np.where( obj_bimg == 1 )[0]\n",
    "# print('number of objects in bad images = ', len(tx) )\n",
    "# del tx\n",
    "\n",
    "# t2 = time.time()\n",
    "# print(t2-t1)\n",
    "# del t1,t2"
   ]
  },
  {
   "cell_type": "code",
   "execution_count": null,
   "id": "8a683586-58fc-490d-93bb-5a905fdc6493",
   "metadata": {},
   "outputs": [],
   "source": [
    "### Just make sure the values of obj_filt are as expected\n",
    "# tx = np.where( obj_bimg == 0 )[0]\n",
    "# print( obj_filt[tx] )\n",
    "# print( np.unique( obj_filt[tx] ) )\n",
    "# del tx"
   ]
  },
  {
   "cell_type": "markdown",
   "id": "51739f7d-e2e2-436d-8433-d343e7dcad4c",
   "metadata": {},
   "source": [
    "### Generate some features of candidates (with >10 good matches) light curves.\n",
    "\n",
    "Candidate light curve time span (tspan), amplitude (amp) and mean R/B score. Only for objects (detections) with R/B>0.6.\n",
    "\n",
    "The following takes about 4 minutes."
   ]
  },
  {
   "cell_type": "code",
   "execution_count": null,
   "id": "d46df1cd-8938-426b-a263-cb1b092381aa",
   "metadata": {},
   "outputs": [],
   "source": [
    "t1 = time.time()\n",
    "\n",
    "### Candidate LC timespan and amplitude\n",
    "###  dimension 0,1,2,3 are for all filters, g, r, and i\n",
    "cand_LCtspan = np.zeros( (len(cand_nmatches),4), dtype='float' )\n",
    "cand_LCamp   = np.zeros( (len(cand_nmatches),4), dtype='float' )\n",
    "cand_LCngdet = np.zeros( (len(cand_nmatches),4), dtype='int' )\n",
    "cand_meanrb  = np.zeros( (len(cand_nmatches),4), dtype='float' )\n",
    "\n",
    "cx = np.where( cand_ngmatches >=10 )[0]\n",
    "print('len(cx) = ', len(cx) )\n",
    "\n",
    "for i,c in enumerate(cx):\n",
    "    if (i==100) | (i==1000) | (i==10000):\n",
    "        print( 'i = ', i, 'c = ', c, np.round(time.time()-t1,3), 's elapsed' )\n",
    "\n",
    "    ### All non-bad_img, non-duplicate, likely-real objects associated with this candidate\n",
    "    ox = np.where( (obj_candid == cand_id[c]) & (obj_bimg == 0) & (obj_dup == 0) & (obj_rb > 0.6) )[0]\n",
    "    if len(ox) >= 10:\n",
    "        cand_LCtspan[c,0] = np.max(obj_mjd[ox]) - np.min(obj_mjd[ox])\n",
    "        cand_LCamp[c,0]   = np.max(obj_mag[ox]) - np.min(obj_mag[ox])\n",
    "        cand_LCngdet[c,0] = len(ox)\n",
    "        cand_meanrb[c,0]  = np.mean(obj_rb[ox])\n",
    "        for f,fil in enumerate(['g','r','i']):\n",
    "            fx = np.where( obj_filt[ox] == fil )[0]\n",
    "            if len(fx) > 1:\n",
    "                cand_LCtspan[c,f+1] = np.max(obj_mjd[ox[fx]]) - np.min(obj_mjd[ox[fx]])\n",
    "                cand_LCamp[c,f+1]   = np.max(obj_mag[ox[fx]]) - np.min(obj_mag[ox[fx]])\n",
    "                cand_LCngdet[c,f+1] = len(fx)\n",
    "                cand_meanrb[c,f+1]  = np.mean(obj_rb[ox[fx]])\n",
    "            del fx\n",
    "    del ox\n",
    "\n",
    "print( 'finished. ', np.round(time.time()-t1,3), 's elapsed' )\n",
    "del t1,cx"
   ]
  },
  {
   "cell_type": "markdown",
   "id": "e78ac0ed-dcb2-4fcb-b723-20d5cd5a6b6c",
   "metadata": {},
   "source": [
    "<br><br>\n",
    "\n",
    "## Plots for ALL the objects \n",
    "Except those in \"bad\" images, or objects which are duplicates"
   ]
  },
  {
   "cell_type": "code",
   "execution_count": null,
   "id": "b55b33fe-80fb-4c6e-aa9e-ed4a10183b0a",
   "metadata": {},
   "outputs": [],
   "source": [
    "c = ['darkgreen', 'red', 'brown', 'limegreen', 'darkorange', 'peru']"
   ]
  },
  {
   "cell_type": "code",
   "execution_count": null,
   "id": "2b61e168-d0e9-4253-9377-61de02ba497f",
   "metadata": {},
   "outputs": [],
   "source": [
    "cx = np.where( (obj_bimg == 0) & (obj_dup == 0) & (obj_ra > 145.0) & (obj_ra < 155.0) & (obj_dec > -3.0) & (obj_dec < 7.0) )[0]\n",
    "ex = np.where( (obj_bimg == 0) & (obj_dup == 0) & (obj_ra > 3.0) & (obj_ra < 13.0) & (obj_dec > -48.0) & (obj_dec < -38.0) )[0]\n",
    "print(len(cx),len(ex))"
   ]
  },
  {
   "cell_type": "code",
   "execution_count": null,
   "id": "0282cb4f-bad6-4bad-a448-b91265d68ffb",
   "metadata": {},
   "outputs": [],
   "source": [
    "fig, ax = plt.subplots( 1, 3, figsize=(15,4), sharey=True )\n",
    "for i,ifilt in enumerate(['g','r','i']):\n",
    "    fcx = np.where( obj_filt[cx] == ifilt )[0]\n",
    "    fex = np.where( obj_filt[ex] == ifilt )[0]\n",
    "    ax[i].yaxis.set_tick_params(which='both', labelbottom=True)\n",
    "    ax[i].hist( [obj_rb[cx[fcx]],obj_rb[ex[fex]]], bins=20, stacked=True, log=True, color=[c[i],c[i+3]], label=['COSMOS','ELAIS'])\n",
    "    ax[i].legend()\n",
    "    if i == 0:\n",
    "        ax[i].set_ylabel(\"number of detections\")\n",
    "    ax[i].set_xlabel(\"real/bogus score\")\n",
    "    ax[i].set_ylim([1e3,8e5])\n",
    "    del fcx,fex\n",
    "fig.tight_layout()\n",
    "plt.savefig(\"./source_detection_summary_figures/rbhist.png\")"
   ]
  },
  {
   "cell_type": "code",
   "execution_count": null,
   "id": "838463ae-a982-4734-a862-6c45e3ae5e91",
   "metadata": {},
   "outputs": [],
   "source": [
    "fig, ax = plt.subplots( 1, 3, figsize=(15,4), sharey=True )\n",
    "for i,ifilt in enumerate(['g','r','i']):\n",
    "    fcx = np.where( obj_filt[cx] == ifilt )[0]\n",
    "    fex = np.where( obj_filt[ex] == ifilt )[0]\n",
    "    ax[i].yaxis.set_tick_params(which='both', labelbottom=True)\n",
    "    ax[i].hist( [obj_mag[cx[fcx]],obj_mag[ex[fex]]], bins=20, stacked=True, log=True, color=[c[i],c[i+3]], label=['COSMOS','ELAIS'])\n",
    "#     ax[i].legend()\n",
    "    if i == 0:\n",
    "        ax[i].set_ylabel(\"number of detections\")\n",
    "    ax[i].set_xlabel(\"apparent magnitude\")\n",
    "    del fcx,fex\n",
    "fig.tight_layout()\n",
    "plt.savefig(\"./source_detection_summary_figures/maghist.png\")"
   ]
  },
  {
   "cell_type": "code",
   "execution_count": null,
   "id": "899de8bb-7684-4c30-98ad-1fc6b7e00b94",
   "metadata": {},
   "outputs": [],
   "source": [
    "fig, ax = plt.subplots( 1, 3, figsize=(15,4), sharey=True )\n",
    "for i,ifilt in enumerate(['g','r','i']):\n",
    "    fcx = np.where( obj_filt[cx] == ifilt )[0]\n",
    "    fex = np.where( obj_filt[ex] == ifilt )[0]\n",
    "    ax[i].yaxis.set_tick_params(which='both', labelbottom=True)\n",
    "    ax[i].plot( obj_rb[cx[fcx]], obj_mag[cx[fcx]], 'o',ms=2,alpha=0.01,mew=0, color=c[i], label='COSMOS' )\n",
    "    ax[i].plot( obj_rb[ex[fex]], obj_mag[ex[fex]], 'o',ms=2,alpha=0.03,mew=0, color=c[i+3], label='ELAIS' )\n",
    "    if i == 0:\n",
    "        ax[i].set_ylabel(\"apparent magnitude\")\n",
    "    ax[i].set_xlabel(\"real/bogus score\")\n",
    "    ax[i].set_ylim([15.0,24.0])\n",
    "    del fcx,fex\n",
    "fig.tight_layout()\n",
    "plt.savefig(\"./source_detection_summary_figures/magVrb.png\")"
   ]
  },
  {
   "cell_type": "code",
   "execution_count": null,
   "id": "82aa75ad-a8e2-47cf-b9bc-e572e4596227",
   "metadata": {},
   "outputs": [],
   "source": [
    "fig, ax = plt.subplots( 1, 3, figsize=(15,4), sharey=True )\n",
    "for i,ifilt in enumerate(['g','r','i']):\n",
    "    fcx = np.where( obj_filt[cx] == ifilt )[0]\n",
    "    fex = np.where( obj_filt[ex] == ifilt )[0]\n",
    "    ax[i].yaxis.set_tick_params(which='both', labelbottom=True)\n",
    "    ax[i].plot( obj_rb[cx[fcx]], np.log10(obj_nobj[cx[fcx]]), 'o',ms=2,alpha=0.01,mew=0, color=c[i], label='COSMOS' )\n",
    "    ax[i].plot( obj_rb[ex[fex]], np.log10(obj_nobj[ex[fex]]), 'o',ms=2,alpha=0.03,mew=0, color=c[i+3], label='ELAIS' )\n",
    "    if i == 0:\n",
    "        ax[i].set_ylabel(\"log(associated detections)\")\n",
    "    ax[i].set_xlabel(\"real/bogus score\")\n",
    "#     ax[i].set_ylim([15.0,24.0])\n",
    "    del fcx,fex\n",
    "fig.tight_layout()\n",
    "plt.savefig(\"./source_detection_summary_figures/nobjVrb.png\")"
   ]
  },
  {
   "cell_type": "code",
   "execution_count": null,
   "id": "1ea9b3e6-4575-4d36-90db-760180e3289c",
   "metadata": {},
   "outputs": [],
   "source": [
    "fig, ax = plt.subplots( 1, 3, figsize=(15,4), sharey=True )\n",
    "for i,ifilt in enumerate(['g','r','i']):\n",
    "    fcx = np.where( (obj_filt[cx] == ifilt) & (obj_rb[cx] > 0.9) )[0]\n",
    "    fex = np.where( (obj_filt[ex] == ifilt) & (obj_rb[ex] > 0.9) )[0]\n",
    "    ax[i].yaxis.set_tick_params(which='both', labelbottom=True)\n",
    "    ax[i].hist( [np.log10(obj_nobj[cx[fcx]]),np.log10(obj_nobj[ex[fex]])], bins=20, \\\n",
    "               stacked=True, color=[c[i],c[i+3]], label=['COSMOS','ELAIS'] )\n",
    "    if i == 0:\n",
    "        ax[i].set_ylabel(\"# of det. (R/B > 0.9)\")\n",
    "    ax[i].set_xlabel(\"log(associated detections)\")\n",
    "#     ax[i].set_ylim([15.0,24.0])\n",
    "    del fcx,fex\n",
    "fig.tight_layout()\n",
    "plt.savefig(\"./source_detection_summary_figures/nobjcutoff.png\")"
   ]
  },
  {
   "cell_type": "markdown",
   "id": "0f225ee0-6c5a-4387-9010-87117ddaa371",
   "metadata": {},
   "source": [
    "<br><br>\n",
    "\n",
    "## Plots for Objects that are likely real (R/B>0.6) and potentially astrophysical (>10 detections of any R/B value)."
   ]
  },
  {
   "cell_type": "code",
   "execution_count": null,
   "id": "892b691d-de08-4177-b17e-858b0e2b913b",
   "metadata": {},
   "outputs": [],
   "source": [
    "good_cx = np.where( (obj_nobj > 10) & (obj_rb >= 0.6) & (obj_bimg == 0) & (obj_dup == 0) & \\\n",
    "                   (obj_ra > 145.0) & (obj_ra < 155.0) & (obj_dec > -3.0) & (obj_dec < 7.0) )[0]\n",
    "good_ex = np.where( (obj_nobj > 10) & (obj_rb >= 0.6) & (obj_bimg == 0) & (obj_dup == 0) & \\\n",
    "                   (obj_ra > 3.0) & (obj_ra < 13.0) & (obj_dec > -48.0) & (obj_dec < -38.0) )[0]"
   ]
  },
  {
   "cell_type": "code",
   "execution_count": null,
   "id": "42da41d7-0d93-4dd5-8c3d-6b2eda2cc4e4",
   "metadata": {},
   "outputs": [],
   "source": [
    "fig, ax = plt.subplots( 1, 3, figsize=(15,4), sharey=True )\n",
    "for i,ifilt in enumerate(['g','r','i']):\n",
    "    fcx = np.where( obj_filt[good_cx] == ifilt )\n",
    "    fex = np.where( obj_filt[good_ex] == ifilt )\n",
    "    ax[i].yaxis.set_tick_params(which='both', labelbottom=True)\n",
    "    ax[i].plot( obj_rb[good_cx[fcx]], obj_mag[good_cx[fcx]], 'o',ms=2,alpha=0.01,mew=0, color=c[i], label='COSMOS' )\n",
    "    ax[i].plot( obj_rb[good_ex[fex]], obj_mag[good_ex[fex]], 'o',ms=2,alpha=0.1,mew=0, color=c[i+3], label='ELAIS' )\n",
    "    if i == 0:\n",
    "        ax[i].set_ylabel(\"apparent magnitude\")\n",
    "    ax[i].set_xlabel(\"real/bogus score\")\n",
    "    ax[i].set_ylim([15.0,24.0])\n",
    "    del fcx,fex\n",
    "fig.tight_layout()\n",
    "plt.savefig(\"./source_detection_summary_figures/magVrb_good.png\")"
   ]
  },
  {
   "cell_type": "code",
   "execution_count": null,
   "id": "7cf84efb-2764-4e7f-bb25-e780029bd807",
   "metadata": {},
   "outputs": [],
   "source": [
    "fig, ax = plt.subplots( 1, 3, figsize=(15,4), sharey=True )\n",
    "for i,ifilt in enumerate(['g','r','i']):\n",
    "    fcx = np.where( obj_filt[good_cx] == ifilt )\n",
    "    fex = np.where( obj_filt[good_ex] == ifilt )\n",
    "    ax[i].yaxis.set_tick_params(which='both', labelbottom=True)\n",
    "    ax[i].hist( [obj_mag[good_cx[fcx]],obj_mag[good_ex[fex]]], bins=20, stacked=True, color=[c[i],c[i+3]], label=['COSMOS','ELAIS'])\n",
    "    ax[i].legend()\n",
    "    if i == 0:\n",
    "        ax[i].set_ylabel(\"log(number of detections)\")\n",
    "    ax[i].set_xlabel(\"apparent magnitude\")\n",
    "    del fcx,fex\n",
    "fig.tight_layout()\n",
    "plt.savefig(\"./source_detection_summary_figures/maghist_good.png\")"
   ]
  },
  {
   "cell_type": "code",
   "execution_count": null,
   "id": "3a546427-0611-437e-ba90-787979013d84",
   "metadata": {},
   "outputs": [],
   "source": [
    "nbins = int(np.ceil( np.max(obj_mjd[good_cx]) - np.min(obj_mjd[good_cx]) ))\n",
    "print(nbins)\n",
    "fig, ax = plt.subplots( 1, 3, figsize=(15,4), sharey=True )\n",
    "for i,ifilt in enumerate(['g','r','i']):\n",
    "    fcx = np.where( obj_filt[good_cx] == ifilt )\n",
    "    fex = np.where( obj_filt[good_ex] == ifilt )\n",
    "    ax[i].yaxis.set_tick_params(which='both', labelbottom=True)\n",
    "    ax[i].hist( [obj_mjd[good_cx[fcx]],obj_mjd[good_ex[fex]]], bins=nbins, stacked=True, color=[c[i],c[i+3]], label=['COSMOS','ELAIS'])\n",
    "    ax[i].legend()\n",
    "    ax[i].set_xlabel(\"MJD\")\n",
    "    if i == 0:\n",
    "        ax[i].set_ylabel(\"log(number of detections)\")\n",
    "    del fcx,fex\n",
    "fig.tight_layout()\n",
    "plt.savefig(\"./source_detection_summary_figures/maghist_good.png\")"
   ]
  },
  {
   "cell_type": "code",
   "execution_count": null,
   "id": "a5283f55-7892-4ed0-961e-335e5b0f11e3",
   "metadata": {},
   "outputs": [],
   "source": [
    "fig, ax = plt.subplots( 1, 3, figsize=(15,4), sharey=True )\n",
    "for i,ifilt in enumerate(['g','r','i']):\n",
    "    fcx = np.where( obj_filt[good_cx] == ifilt )\n",
    "    fex = np.where( obj_filt[good_ex] == ifilt )\n",
    "    ax[i].yaxis.set_tick_params(which='both', labelbottom=True)\n",
    "    ax[i].plot( obj_mag[good_cx[fcx]],obj_magerr[good_cx[fcx]], 'o',ms=2,alpha=0.05, color=c[i])\n",
    "    ax[i].plot( obj_mag[good_ex[fex]],obj_magerr[good_ex[fex]], 'o',ms=2,alpha=0.05, color=c[i+3])\n",
    "#     ax[i].legend()\n",
    "    if i == 0:\n",
    "        ax[i].set_ylabel(\"error\")\n",
    "    ax[i].set_xlabel(\"apparent magnitude\")\n",
    "    ax[i].set_xlim([17,24])\n",
    "    ax[i].set_ylim([0.0,0.3])\n",
    "    del fcx,fex\n",
    "fig.tight_layout()\n",
    "plt.savefig(\"./source_detection_summary_figures/magerr_good.png\")"
   ]
  },
  {
   "cell_type": "markdown",
   "id": "fda16a13-626d-45b1-8081-4a9d1537d17c",
   "metadata": {},
   "source": [
    "## Plots for Candidates that are likely supernovae\n",
    "\n",
    "They had >10 good (R/B>0.6) detections overall. Then we impose >10 good (R/B>0.6) in each filter as well, for the plots."
   ]
  },
  {
   "cell_type": "code",
   "execution_count": null,
   "id": "de6eba37-9705-45b8-97e3-f02540a8d2ed",
   "metadata": {},
   "outputs": [],
   "source": [
    "cx = np.where( cand_ngmatches >=10 )[0]"
   ]
  },
  {
   "cell_type": "markdown",
   "id": "053ac07e-5865-466b-ad36-fdbf5cd7c48d",
   "metadata": {},
   "source": [
    "Plot the amplitude vs. the time span. Notice how setting amplitude>0.6 mag and timespan 15-70 days cuts out a lot of points that are clustered in the timespan axis. Setting a timepan limit of 80 days also rejects candidates that had simply changed from the time of the template image but did not vary during our survey time (like AGN, which is a real astrophysical transient but not a SN)."
   ]
  },
  {
   "cell_type": "code",
   "execution_count": null,
   "id": "cddc3bb3-e47b-4158-b4be-eec8a0691fe9",
   "metadata": {},
   "outputs": [],
   "source": [
    "fig, ax = plt.subplots( 1, 3, figsize=(15,4), sharey=True )\n",
    "for i,ifilt in enumerate(['g','r','i']):\n",
    "    ax[i].axhline(0.6, alpha=0.5,color='grey')\n",
    "    ax[i].axvline(15, alpha=0.5,color='grey',ls='dashed')\n",
    "    ax[i].axvline(80, alpha=0.5,color='grey',ls='dashed')\n",
    "    fx = np.where( cand_LCngdet[cx,i+1] >= 10 )[0]\n",
    "    randos = np.random.normal( size=len(fx) ) * 0.5\n",
    "    ax[i].plot( cand_LCtspan[cx[fx],i+1]+randos, cand_LCamp[cx[fx],i+1], 'o',ms=4,mew=0,alpha=0.2, color=c[i] )\n",
    "    del fx\n",
    "    if i == 0:\n",
    "        ax[i].set_ylabel(\"LC Amplitude [mag]\")\n",
    "    ax[i].set_xlabel(\"LC Timespan [days]\")\n",
    "fig.tight_layout()"
   ]
  },
  {
   "cell_type": "markdown",
   "id": "3e7d0860-4bad-4138-8330-d33537885384",
   "metadata": {},
   "source": [
    "Plot the mean R/B score for all associated detections with R/B>0.6. There aren't really any usable correlations here with mean R/B value that we could use."
   ]
  },
  {
   "cell_type": "code",
   "execution_count": null,
   "id": "1e425e45-7612-40e5-8259-988c66ee7dfc",
   "metadata": {},
   "outputs": [],
   "source": [
    "fig, ax = plt.subplots( 1, 3, figsize=(15,4), sharey=True )\n",
    "for i,ifilt in enumerate(['g','r','i']):\n",
    "    fx = np.where( cand_LCngdet[cx,i+1] >= 10 )[0]\n",
    "    randos = np.random.normal( size=len(fx) ) * 0.5\n",
    "    ax[i].plot( cand_LCtspan[cx[fx],i+1]+randos, cand_meanrb[cx[fx],i+1], 'o',ms=4,mew=0,alpha=0.2, color=c[i] )\n",
    "    del fx\n",
    "    ax[i].set_xlabel(\"Lightcurve Timespan [days]\")\n",
    "    if i == 0:\n",
    "        ax[i].set_ylabel(\"Mean R/B (for R/B>0.6 det.)\")\n",
    "fig.tight_layout()\n",
    "\n",
    "fig, ax = plt.subplots( 1, 3, figsize=(15,4), sharey=True )\n",
    "for i,ifilt in enumerate(['g','r','i']):\n",
    "    fx = np.where( cand_LCngdet[cx,i+1] >= 10 )[0]\n",
    "    ax[i].plot( cand_LCamp[cx[fx],i+1], cand_meanrb[cx[fx],i+1], 'o',ms=4,mew=0,alpha=0.2, color=c[i] )\n",
    "    del fx\n",
    "    ax[i].set_xlabel(\"Lightcurve Amplitude [mag]\")\n",
    "    if i == 0:\n",
    "        ax[i].set_ylabel(\"Mean R/B (for R/B>0.6 det.)\")\n",
    "fig.tight_layout()"
   ]
  },
  {
   "cell_type": "markdown",
   "id": "880c1f15-5bc8-4998-9be8-df3afa61092e",
   "metadata": {},
   "source": [
    "#### There is some odd clustering of candidates in RA and Dec."
   ]
  },
  {
   "cell_type": "code",
   "execution_count": null,
   "id": "fe245b3e-fda1-4bf7-b145-ad05f1313c56",
   "metadata": {},
   "outputs": [],
   "source": [
    "cx = np.where( (cand_ngmatches >=10) & \\\n",
    "              (cand_ra > 145.0) & (cand_ra < 155.0) & (cand_dec > -3.0) & (cand_dec < 7.0) )[0]\n",
    "ex = np.where( (cand_ngmatches >=10) & \\\n",
    "              (cand_ra > 3.0) & (cand_ra < 13.0) & (cand_dec > -48.0) & (cand_dec < -38.0) )[0]\n",
    "\n",
    "print(' 0 < timespan < 15 days')\n",
    "fig, ax = plt.subplots( 1, 3, figsize=(15,4), sharey=True )\n",
    "for i,ifilt in enumerate(['g','r','i']):\n",
    "    fx = np.where( (cand_LCtspan[cx,i+1] > 0.0) & (cand_LCtspan[cx,i+1] < 15.0) )[0]\n",
    "    ax[i].plot( cand_ra[cx[fx]], cand_dec[cx[fx]], 'o',ms=2,mew=0,alpha=0.2, color=c[i] )\n",
    "    ax[i].set_xlabel(\"RA\")\n",
    "    if i == 0:\n",
    "        ax[i].set_ylabel(\"Dec\")\n",
    "fig.tight_layout()\n",
    "\n",
    "print(' 15 < timespan < 80 days ')\n",
    "fig, ax = plt.subplots( 1, 3, figsize=(15,4), sharey=True )\n",
    "for i,ifilt in enumerate(['g','r','i']):\n",
    "    fx = np.where( (cand_LCtspan[cx,i+1] >= 15.0) | (cand_LCtspan[cx,i+1] <= 80.0) )[0]\n",
    "    ax[i].plot( cand_ra[cx[fx]], cand_dec[cx[fx]], 'o',ms=2,mew=0,alpha=0.2, color=c[i] )\n",
    "    ax[i].set_xlabel(\"RA\")\n",
    "    if i == 0:\n",
    "        ax[i].set_ylabel(\"Dec\")\n",
    "fig.tight_layout()\n",
    "\n",
    "print(' 80 < timespan ')\n",
    "fig, ax = plt.subplots( 1, 3, figsize=(15,4), sharey=True )\n",
    "for i,ifilt in enumerate(['g','r','i']):\n",
    "    fx = np.where( cand_LCtspan[cx,i+1] > 80.0 )[0]\n",
    "    ax[i].plot( cand_ra[cx[fx]], cand_dec[cx[fx]], 'o',ms=2,mew=0,alpha=0.2, color=c[i] )\n",
    "    ax[i].set_xlabel(\"RA\")\n",
    "    if i == 0:\n",
    "        ax[i].set_ylabel(\"Dec\")\n",
    "fig.tight_layout()"
   ]
  },
  {
   "cell_type": "code",
   "execution_count": null,
   "id": "4791350a-1c6b-441f-a78f-fbc5ea3154c5",
   "metadata": {},
   "outputs": [],
   "source": [
    "print(' mean R/B < 0.9 ')\n",
    "fig, ax = plt.subplots( 1, 3, figsize=(15,4), sharey=True )\n",
    "for i,ifilt in enumerate(['g','r','i']):\n",
    "    fx = np.where( cand_meanrb[cx,i+1] < 0.9 )[0]\n",
    "    ax[i].plot( cand_ra[cx[fx]], cand_dec[cx[fx]], 'o',ms=2,mew=0,alpha=0.2, color=c[i] )\n",
    "    ax[i].set_xlabel(\"RA\")\n",
    "    if i == 0:\n",
    "        ax[i].set_ylabel(\"Dec\")\n",
    "fig.tight_layout()\n",
    "\n",
    "print(' mean R/B >= 0.9 ')\n",
    "fig, ax = plt.subplots( 1, 3, figsize=(15,4), sharey=True )\n",
    "for i,ifilt in enumerate(['g','r','i']):\n",
    "    fx = np.where( cand_meanrb[cx,i+1] >= 0.9 )[0]\n",
    "    ax[i].plot( cand_ra[cx[fx]], cand_dec[cx[fx]], 'o',ms=2,mew=0,alpha=0.2, color=c[i] )\n",
    "    ax[i].set_xlabel(\"RA\")\n",
    "    if i == 0:\n",
    "        ax[i].set_ylabel(\"Dec\")\n",
    "fig.tight_layout()"
   ]
  },
  {
   "cell_type": "code",
   "execution_count": null,
   "id": "2d64b5cf-5c3e-4e9d-8816-f9571c251984",
   "metadata": {},
   "outputs": [],
   "source": []
  },
  {
   "cell_type": "code",
   "execution_count": null,
   "id": "5e24c0a6-f531-4677-8b44-f4a20f62dfc3",
   "metadata": {},
   "outputs": [],
   "source": []
  }
 ],
 "metadata": {
  "kernelspec": {
   "display_name": "NERSC Python",
   "language": "python",
   "name": "python3"
  },
  "language_info": {
   "codemirror_mode": {
    "name": "ipython",
    "version": 3
   },
   "file_extension": ".py",
   "mimetype": "text/x-python",
   "name": "python",
   "nbconvert_exporter": "python",
   "pygments_lexer": "ipython3",
   "version": "3.9.7"
  }
 },
 "nbformat": 4,
 "nbformat_minor": 5
}
