{
 "cells": [
  {
   "cell_type": "markdown",
   "id": "719eaba5-792c-4a97-b25e-4ba1cbf6ce62",
   "metadata": {},
   "source": [
    "This notebook looks at how many \"good\" (R/B > 0.6) objects are found per COSMOS field image, and at how a candidate's average R/B score is correlated to the number of times it is detected."
   ]
  },
  {
   "cell_type": "code",
   "execution_count": 1,
   "id": "1d5ad029-4314-4ec9-b4b8-c787f8a946ac",
   "metadata": {},
   "outputs": [],
   "source": [
    "import psycopg2\n",
    "import psycopg2.extras\n",
    "import getpass\n",
    "from IPython.display import display\n",
    "import ipywidgets\n",
    "import matplotlib.pyplot as plt\n",
    "import numpy as np\n",
    "import pandas as pd"
   ]
  },
  {
   "cell_type": "code",
   "execution_count": 2,
   "id": "418cee30-61e3-4574-8212-0afc91e6728d",
   "metadata": {},
   "outputs": [
    {
     "name": "stdin",
     "output_type": "stream",
     "text": [
      "DB User:  kennedyt\n",
      "DB Password:  ············\n"
     ]
    }
   ],
   "source": [
    "dbuser = input(\"DB User: \")\n",
    "dbpasswd = getpass.getpass(\"DB Password: \")"
   ]
  },
  {
   "cell_type": "code",
   "execution_count": 3,
   "id": "b8be453e-8b44-4e69-a0c5-9e10f19ce76c",
   "metadata": {},
   "outputs": [],
   "source": [
    "db = psycopg2.connect(f\"dbname='decat' user='{dbuser}' password='{dbpasswd}' host='decatdb.lbl.gov'\")"
   ]
  },
  {
   "cell_type": "code",
   "execution_count": 4,
   "id": "d1d26658-0103-4589-ac0a-82fef0101821",
   "metadata": {},
   "outputs": [],
   "source": [
    "db.autocommit = True # Makes the computer nicer about SQL syntax errors\n",
    "\n",
    "cursor = db.cursor( cursor_factory = psycopg2.extras.DictCursor )"
   ]
  },
  {
   "cell_type": "markdown",
   "id": "1867e64b-2bb4-4e7c-b6de-b77c8717d04e",
   "metadata": {},
   "source": [
    "#### How many \"Good\" (R/B>0.6) sources are identified per subtraction? (COSMOS)"
   ]
  },
  {
   "cell_type": "code",
   "execution_count": 5,
   "id": "8b7ef193-0a1f-4364-90ac-2c1b4a0963be",
   "metadata": {},
   "outputs": [],
   "source": [
    "query = ( 'SELECT subtraction_id, id FROM objects o '\n",
    "         'WHERE q3c_radial_query(o.ra,o.dec,150,2.2,3) '\n",
    "         'AND o.rb>0.6 '\n",
    "         'LIMIT 10000000')\n",
    "\n",
    "cursor.execute( query )\n",
    "\n",
    "subidobjid_a = np.array( cursor.fetchall() ).transpose()"
   ]
  },
  {
   "cell_type": "code",
   "execution_count": 6,
   "id": "d110eab8-41af-43dd-8955-7b8ba5d0141e",
   "metadata": {},
   "outputs": [],
   "source": [
    "# Find out how many objects are present in each subtraction (objspersub)\n",
    "imgs, objspersub = np.unique( subidobjid_a[0], return_counts=True )"
   ]
  },
  {
   "cell_type": "code",
   "execution_count": 7,
   "id": "c1ad1a28-37d4-43a1-86e7-09e72d94e3d8",
   "metadata": {},
   "outputs": [
    {
     "name": "stdout",
     "output_type": "stream",
     "text": [
      "Median is 2 objects per subtraction\n",
      "Mean is 3.055126 objects per subtraction\n",
      "Max is 164 objects per subtraction\n",
      "Min is 1 object(s) per subtraction\n"
     ]
    },
    {
     "data": {
      "image/png": "[encoded data removed]",
      "text/plain": [
       "<Figure size 576x360 with 1 Axes>"
      ]
     },
     "metadata": {
      "needs_background": "light"
     },
     "output_type": "display_data"
    }
   ],
   "source": [
    "# Throw that data into a histogram\n",
    "plt.figure( figsize=(8,5) )\n",
    "plt.ylabel( \"Number of subtraction ids\" )\n",
    "plt.xlabel( \"Objects per subtraction id\" )\n",
    "plt.hist( objspersub, bins=150 )\n",
    "plt.xlim( 0, 30 )\n",
    "print( \"Median is %i objects per subtraction\" % ( np.median(objspersub) ) )\n",
    "print( \"Mean is %f objects per subtraction\" % ( np.mean(objspersub) ) )\n",
    "print( \"Max is %i objects per subtraction\" % ( np.max(objspersub) ) )\n",
    "print( \"Min is %i object(s) per subtraction\" % ( np.min(objspersub) ) )"
   ]
  },
  {
   "cell_type": "markdown",
   "id": "c42dfd63-3892-4f41-a889-64c5778b70ee",
   "metadata": {},
   "source": [
    "#### How many images have been processed so far? (COSMOS)"
   ]
  },
  {
   "cell_type": "code",
   "execution_count": 8,
   "id": "a400c3bf-6250-42ae-a306-54b183e5b601",
   "metadata": {},
   "outputs": [],
   "source": [
    "query = ( 'SELECT exposure_id FROM subtractions s '\n",
    "         'WHERE q3c_radial_query(s.ra,s.dec,150,2.2,3) ' \n",
    "         'LIMIT 10000000' )\n",
    "\n",
    "cursor.execute( query )\n",
    "\n",
    "totsub = cursor.fetchall()"
   ]
  },
  {
   "cell_type": "code",
   "execution_count": 9,
   "id": "800f6b71-5db3-462a-ac5b-b81742f61145",
   "metadata": {},
   "outputs": [
    {
     "data": {
      "text/plain": [
       "1117"
      ]
     },
     "execution_count": 9,
     "metadata": {},
     "output_type": "execute_result"
    }
   ],
   "source": [
    "len( np.unique( totsub ) )"
   ]
  },
  {
   "cell_type": "markdown",
   "id": "cbdd842b-4dd8-4d49-a7ba-1033a6c08461",
   "metadata": {},
   "source": [
    "#### How many exposures have been taken? (COSMOS)"
   ]
  },
  {
   "cell_type": "code",
   "execution_count": 10,
   "id": "f4262a2b-655a-4269-a9e8-316c235dbae3",
   "metadata": {},
   "outputs": [],
   "source": [
    "query = ( 'SELECT COUNT(*) FROM exposures e '\n",
    "         'WHERE q3c_radial_query(e.ra,e.dec,150,2.2,3) '\n",
    "         'LIMIT 10000000' )\n",
    "\n",
    "cursor.execute( query )\n",
    "\n",
    "totexp = cursor.fetchall()[0][0]"
   ]
  },
  {
   "cell_type": "code",
   "execution_count": 11,
   "id": "e706a858-bb49-4869-8a95-e1f134add432",
   "metadata": {},
   "outputs": [
    {
     "data": {
      "text/plain": [
       "1125"
      ]
     },
     "execution_count": 11,
     "metadata": {},
     "output_type": "execute_result"
    }
   ],
   "source": [
    "totexp"
   ]
  },
  {
   "cell_type": "markdown",
   "id": "90660915-9108-4d18-b718-75ea9912802d",
   "metadata": {},
   "source": [
    "#### How many \"Good\" (R/B>0.6) sources are identified per exposure? (COSMOS)"
   ]
  },
  {
   "cell_type": "code",
   "execution_count": 12,
   "id": "a4dddaad-dabc-4404-bde4-d7c9af9a1d61",
   "metadata": {},
   "outputs": [],
   "source": [
    "query = ( 'SELECT o.subtraction_id, o.id, s.exposure_id FROM objects o '\n",
    "         'JOIN subtractions s ON o.subtraction_id=s.id '\n",
    "         'WHERE q3c_radial_query(o.ra,o.dec,150,2.2,3) ' \n",
    "         'AND o.rb>0.6 '\n",
    "         'LIMIT 10000000' )\n",
    "\n",
    "cursor.execute( query )\n",
    "\n",
    "subidobjidexpid_a = np.array( cursor.fetchall() )"
   ]
  },
  {
   "cell_type": "code",
   "execution_count": 13,
   "id": "c0033e4a-ec86-467c-86e5-ef56887219fd",
   "metadata": {},
   "outputs": [],
   "source": [
    "# Count frequencies of exposure IDs to find out how many objects come from each exposure\n",
    "exp, objsperimg = np.unique( subidobjidexpid_a.transpose()[2], return_counts=True )"
   ]
  },
  {
   "cell_type": "code",
   "execution_count": 14,
   "id": "644c1d32-118d-4fbc-8fad-61799eb640f7",
   "metadata": {},
   "outputs": [
    {
     "name": "stdout",
     "output_type": "stream",
     "text": [
      "Median is 131 objects per exposure\n",
      "Mean is 149.044763 objects per exposure\n",
      "Max is 756 objects per exposure\n",
      "Min is 12 object(s) per exposure\n"
     ]
    },
    {
     "data": {
      "image/png": "[encoded data removed]",
      "text/plain": [
       "<Figure size 576x360 with 1 Axes>"
      ]
     },
     "metadata": {
      "needs_background": "light"
     },
     "output_type": "display_data"
    }
   ],
   "source": [
    "# Plotting\n",
    "plt.figure( figsize=(8,5) )\n",
    "plt.hist( objsperimg, bins=50 )\n",
    "plt.xlabel( \"Sources per image\" )\n",
    "plt.ylabel( \"Number of images\" );\n",
    "print( \"Median is %i objects per exposure\" % ( np.median(objsperimg) ) )\n",
    "print( \"Mean is %f objects per exposure\" % ( np.mean(objsperimg) ) )\n",
    "print( \"Max is %i objects per exposure\" % ( np.max(objsperimg) ) )\n",
    "print( \"Min is %i object(s) per exposure\" % ( np.min(objsperimg) ) )\n",
    "plt.savefig(\"./images/srcsperimghist_COSMOS\")"
   ]
  },
  {
   "cell_type": "markdown",
   "id": "381f828f-57cf-4348-a518-8a15f5b1a6dc",
   "metadata": {},
   "source": [
    "#### How are R/B scores associated with the number of times a candidate is detected? (COSMOS)"
   ]
  },
  {
   "cell_type": "code",
   "execution_count": 15,
   "id": "16872605-f27b-4741-a041-cd3da5b33b26",
   "metadata": {},
   "outputs": [],
   "source": [
    "query = ( 'SELECT candidate_id, rb FROM objects o '\n",
    "         'WHERE rb > 0.6 '\n",
    "         'AND q3c_radial_query(o.ra,o.dec,150,2.2,3) '\n",
    "         'LIMIT 10000000' )\n",
    "cursor.execute( query )\n",
    "\n",
    "cndrb_g = np.array( cursor.fetchall() ).transpose()"
   ]
  },
  {
   "cell_type": "code",
   "execution_count": 16,
   "id": "d14f9b10-5d26-4e55-8339-3f4da7380d8a",
   "metadata": {},
   "outputs": [
    {
     "data": {
      "text/html": [
       "<div>\n",
       "<style scoped>\n",
       "    .dataframe tbody tr th:only-of-type {\n",
       "        vertical-align: middle;\n",
       "    }\n",
       "\n",
       "    .dataframe tbody tr th {\n",
       "        vertical-align: top;\n",
       "    }\n",
       "\n",
       "    .dataframe thead th {\n",
       "        text-align: right;\n",
       "    }\n",
       "</style>\n",
       "<table border=\"1\" class=\"dataframe\">\n",
       "  <thead>\n",
       "    <tr style=\"text-align: right;\">\n",
       "      <th></th>\n",
       "      <th>Candidate ID</th>\n",
       "      <th>RB score</th>\n",
       "    </tr>\n",
       "  </thead>\n",
       "  <tbody>\n",
       "    <tr>\n",
       "      <td>72775</td>\n",
       "      <td>DC21b</td>\n",
       "      <td>0.635156035423279</td>\n",
       "    </tr>\n",
       "    <tr>\n",
       "      <td>111282</td>\n",
       "      <td>DC21ba</td>\n",
       "      <td>0.696346163749695</td>\n",
       "    </tr>\n",
       "    <tr>\n",
       "      <td>47614</td>\n",
       "      <td>DC21baaa</td>\n",
       "      <td>0.719504654407501</td>\n",
       "    </tr>\n",
       "    <tr>\n",
       "      <td>39438</td>\n",
       "      <td>DC21baaa</td>\n",
       "      <td>0.746332168579102</td>\n",
       "    </tr>\n",
       "    <tr>\n",
       "      <td>38484</td>\n",
       "      <td>DC21baaa</td>\n",
       "      <td>0.776309758424759</td>\n",
       "    </tr>\n",
       "    <tr>\n",
       "      <td>...</td>\n",
       "      <td>...</td>\n",
       "      <td>...</td>\n",
       "    </tr>\n",
       "    <tr>\n",
       "      <td>108170</td>\n",
       "      <td>DC21zzv</td>\n",
       "      <td>0.787300318479538</td>\n",
       "    </tr>\n",
       "    <tr>\n",
       "      <td>51331</td>\n",
       "      <td>DC21zzv</td>\n",
       "      <td>0.702722370624542</td>\n",
       "    </tr>\n",
       "    <tr>\n",
       "      <td>98487</td>\n",
       "      <td>DC21zzv</td>\n",
       "      <td>0.988517642021179</td>\n",
       "    </tr>\n",
       "    <tr>\n",
       "      <td>11753</td>\n",
       "      <td>DC21zzv</td>\n",
       "      <td>0.732148230075836</td>\n",
       "    </tr>\n",
       "    <tr>\n",
       "      <td>11961</td>\n",
       "      <td>DC21zzx</td>\n",
       "      <td>0.859784424304962</td>\n",
       "    </tr>\n",
       "  </tbody>\n",
       "</table>\n",
       "<p>166483 rows × 2 columns</p>\n",
       "</div>"
      ],
      "text/plain": [
       "       Candidate ID           RB score\n",
       "72775         DC21b  0.635156035423279\n",
       "111282       DC21ba  0.696346163749695\n",
       "47614      DC21baaa  0.719504654407501\n",
       "39438      DC21baaa  0.746332168579102\n",
       "38484      DC21baaa  0.776309758424759\n",
       "...             ...                ...\n",
       "108170      DC21zzv  0.787300318479538\n",
       "51331       DC21zzv  0.702722370624542\n",
       "98487       DC21zzv  0.988517642021179\n",
       "11753       DC21zzv  0.732148230075836\n",
       "11961       DC21zzx  0.859784424304962\n",
       "\n",
       "[166483 rows x 2 columns]"
      ]
     },
     "execution_count": 16,
     "metadata": {},
     "output_type": "execute_result"
    }
   ],
   "source": [
    "# Throw it into a DataFrame for easier sorting\n",
    "cndrb_g_df = pd.DataFrame( cndrb_g.transpose(), columns=[\"Candidate ID\", \"RB score\"] ).sort_values(by=\"Candidate ID\")\n",
    "cndrb_g_df"
   ]
  },
  {
   "cell_type": "code",
   "execution_count": 17,
   "id": "d6ca5869-5475-4d6d-adb4-22c42008794a",
   "metadata": {},
   "outputs": [
    {
     "data": {
      "text/plain": [
       "56434"
      ]
     },
     "execution_count": 17,
     "metadata": {},
     "output_type": "execute_result"
    }
   ],
   "source": [
    "len(np.unique(cndrb_g_df[\"Candidate ID\"]))"
   ]
  },
  {
   "cell_type": "code",
   "execution_count": 18,
   "id": "d3243a2b-8cb2-4e20-b5cc-cc8e6813af5e",
   "metadata": {},
   "outputs": [],
   "source": [
    "# Get a list of all unique candidates (candids) and the number of objects associated with each (numobjs)\n",
    "candids, numobjs = np.unique( cndrb_g_df[\"Candidate ID\"], return_counts=True )\n",
    "\n",
    "# An array of R/B scores as floats instead of strings\n",
    "rbs_raw = np.asarray( cndrb_g_df[\"RB score\"].astype(np.float64) )"
   ]
  },
  {
   "cell_type": "code",
   "execution_count": 19,
   "id": "c200cfce-bc9c-4716-94b7-19f9872963d7",
   "metadata": {},
   "outputs": [],
   "source": [
    "# This cell takes a minute or two to run\n",
    "# It slices the R/B array into segments by candidate ID (using the number of objects per candidate determined earlier)\n",
    "# Basically, if a candidate has n objects, it selects the next n R/B scores\n",
    "# then takes a mean/median\n",
    "rbs_mean = [ np.mean( rbs_raw[ np.sum(numobjs[0:i]):np.sum(numobjs[0:i+1]) ] ) for i in range(len( candids ))]\n",
    "rbs_median = [ np.median( rbs_raw[ np.sum(numobjs[0:i]):np.sum(numobjs[0:i+1]) ] ) for i in range(len( candids ))]"
   ]
  },
  {
   "cell_type": "code",
   "execution_count": 20,
   "id": "005e4de6-9339-480e-9357-0e982941b816",
   "metadata": {},
   "outputs": [
    {
     "name": "stdout",
     "output_type": "stream",
     "text": [
      " Each data point is one candidate, and detections with R/B < 0.6 are neglected\n"
     ]
    },
    {
     "data": {
      "image/png": "[encoded data removed]",
      "text/plain": [
       "<Figure size 576x360 with 1 Axes>"
      ]
     },
     "metadata": {
      "needs_background": "light"
     },
     "output_type": "display_data"
    }
   ],
   "source": [
    "# Plotting the mean results\n",
    "plt.figure( figsize=(8,5) )\n",
    "plt.scatter( numobjs, rbs_mean )\n",
    "plt.xlabel( \"Number of detections\" )\n",
    "plt.ylabel( \"Average rb score\" )\n",
    "print(\" Each data point is one candidate, and detections with R/B < 0.6 are neglected\" )\n",
    "plt.savefig(\"./images/candrbVnum_COSMOS\")"
   ]
  },
  {
   "cell_type": "code",
   "execution_count": 21,
   "id": "24d4237d-58bd-43a4-abe3-38775d69da83",
   "metadata": {},
   "outputs": [
    {
     "name": "stdout",
     "output_type": "stream",
     "text": [
      "Each data point is one candidate, and detections with R/B < 0.6 are neglected\n"
     ]
    },
    {
     "data": {
      "image/png": "[encoded data removed]",
      "text/plain": [
       "<Figure size 576x360 with 1 Axes>"
      ]
     },
     "metadata": {
      "needs_background": "light"
     },
     "output_type": "display_data"
    }
   ],
   "source": [
    "# Plotting the median results\n",
    "plt.figure( figsize=(8,5) )\n",
    "plt.scatter( numobjs, rbs_median )\n",
    "plt.xlabel( \"Number of detections\" )\n",
    "plt.ylabel( \"Median rb score\" )\n",
    "print( \"Each data point is one candidate, and detections with R/B < 0.6 are neglected\" )"
   ]
  },
  {
   "cell_type": "code",
   "execution_count": null,
   "id": "48bc59b2-959f-471d-9f2d-0e3fded488e8",
   "metadata": {},
   "outputs": [],
   "source": []
  }
 ],
 "metadata": {
  "kernelspec": {
   "display_name": "Python 3",
   "language": "python",
   "name": "python3"
  },
  "language_info": {
   "codemirror_mode": {
    "name": "ipython",
    "version": 3
   },
   "file_extension": ".py",
   "mimetype": "text/x-python",
   "name": "python",
   "nbconvert_exporter": "python",
   "pygments_lexer": "ipython3",
   "version": "3.7.4"
  }
 },
 "nbformat": 4,
 "nbformat_minor": 5
}
