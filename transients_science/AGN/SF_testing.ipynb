{
 "cells": [
  {
   "cell_type": "markdown",
   "id": "db1f1914-b9fd-4a5f-9a4b-0f725c4f2671",
   "metadata": {},
   "source": [
    "## Structure Function for AGN variability on varying time lags\n",
    "https://iopscience.iop.org/article/10.1088/0004-637X/696/2/1241\n",
    "\n",
    "$SF(\\tau) = \\sqrt{\\langle | m_{t}-m_{t-\\tau}|^{2} \\rangle - \\langle \\sigma^{2} \\rangle }$\n",
    "\n",
    "* t = time\n",
    "* $m_{t}$- $m_{t-\\tau}$ = difference in apparent magnitude of a candidate at two different times of observation\n",
    "* $\\tau$ = time lag\n",
    "* $\\sigma$ = noise"
   ]
  },
  {
   "cell_type": "code",
   "execution_count": 46,
   "id": "f1586d7f-c384-496c-a675-ef2dfe7b8786",
   "metadata": {
    "tags": []
   },
   "outputs": [],
   "source": [
    "import os\n",
    "import numpy as np\n",
    "import matplotlib as mpl\n",
    "import matplotlib.pyplot as plt\n",
    "# import pandas as pd\n",
    "\n",
    "# from copy import deepcopy\n",
    "import time"
   ]
  },
  {
   "cell_type": "code",
   "execution_count": 139,
   "id": "16939b7d-4402-402f-9100-66a1ceeb5d18",
   "metadata": {
    "tags": []
   },
   "outputs": [],
   "source": [
    "fnm = '../../transients_science/all_nightly_epochs_files/candidate_lightcurves.dat'\n",
    "\n",
    "candLC_field = np.loadtxt(fnm, dtype='str', usecols=(0))\n",
    "candLC_candid = np.loadtxt(fnm, dtype='str', usecols=(1))\n",
    "candLC_caldate = np.loadtxt(fnm, dtype='str', usecols=(2))\n",
    "candLC_mjd = np.loadtxt(fnm, dtype='float', usecols=(3))\n",
    "candLC_filter = np.loadtxt(fnm, dtype='str', usecols=(4))\n",
    "candLC_Nobj = np.loadtxt(fnm, dtype='int', usecols=(5))\n",
    "candLC_mag = np.loadtxt(fnm, dtype='float', usecols=(6))\n",
    "candLC_mage = np.loadtxt(fnm, dtype='float', usecols=(7))\n",
    "candLC_mrb = np.loadtxt(fnm, dtype='float', usecols=(8))\n",
    "candLC_lef = np.loadtxt(fnm, dtype='float', usecols=(9))\n",
    "\n",
    "del fnm"
   ]
  },
  {
   "cell_type": "code",
   "execution_count": 140,
   "id": "be332528-95c5-4a55-bba1-16498d967ab2",
   "metadata": {
    "tags": []
   },
   "outputs": [
    {
     "data": {
      "text/plain": [
       "array([59307.030411, 59310.089167, 59313.083839, ..., 60157.35623 ,\n",
       "       60157.344809, 60157.342194])"
      ]
     },
     "execution_count": 140,
     "metadata": {},
     "output_type": "execute_result"
    }
   ],
   "source": [
    "candLC_mjd"
   ]
  },
  {
   "cell_type": "code",
   "execution_count": 101,
   "id": "5bd41ea0-d4f9-4d80-a54e-14801c561b21",
   "metadata": {
    "tags": []
   },
   "outputs": [],
   "source": [
    "fnm = '../../transients_science/all_nightly_epochs_files/candidate_lightcurve_parameters.dat'\n",
    "\n",
    "paramLC_field = np.loadtxt( fnm, dtype='str', usecols=(0) )\n",
    "paramLC_candid = np.loadtxt( fnm, dtype='str', usecols=(1) )\n",
    "paramLC_tspan = np.loadtxt( fnm, dtype='float', usecols=(2) )\n",
    "paramLC_tspan_g = np.loadtxt( fnm, dtype='float', usecols=(3) )\n",
    "paramLC_tspan_r = np.loadtxt( fnm, dtype='float', usecols=(4) )\n",
    "paramLC_tspan_i = np.loadtxt( fnm, dtype='float', usecols=(5) )\n",
    "paramLC_minmag = np.loadtxt( fnm, dtype='float', usecols=(6) )\n",
    "paramLC_minmag_g = np.loadtxt( fnm, dtype='float', usecols=(7) )\n",
    "paramLC_minmag_r = np.loadtxt( fnm, dtype='float', usecols=(8) )\n",
    "paramLC_minmag_i = np.loadtxt( fnm, dtype='float', usecols=(9) )\n",
    "paramLC_amp = np.loadtxt( fnm, dtype='float', usecols=(10) )\n",
    "paramLC_amp_g = np.loadtxt( fnm, dtype='float', usecols=(11) )\n",
    "paramLC_amp_r = np.loadtxt( fnm, dtype='float', usecols=(12) )\n",
    "paramLC_amp_i = np.loadtxt( fnm, dtype='float', usecols=(13) )\n",
    "paramLC_neps = np.loadtxt( fnm, dtype='int', usecols=(14) )\n",
    "paramLC_neps_g = np.loadtxt( fnm, dtype='int', usecols=(15) )\n",
    "paramLC_neps_r = np.loadtxt( fnm, dtype='int', usecols=(16) )\n",
    "paramLC_neps_i = np.loadtxt( fnm, dtype='int', usecols=(17) )\n",
    "\n",
    "del fnm"
   ]
  },
  {
   "cell_type": "code",
   "execution_count": 180,
   "id": "b6ceb42c-82a7-4286-976b-3f2d969622fe",
   "metadata": {
    "tags": []
   },
   "outputs": [
    {
     "name": "stdout",
     "output_type": "stream",
     "text": [
      "Number of potential AGN in COSMOS:  138\n",
      "Number of potential AGN in ELAIS:  81\n"
     ]
    }
   ],
   "source": [
    "tx = np.where((((paramLC_field == 'COSMOS') & (paramLC_tspan_g >= 360)) &\n",
    "              ((paramLC_tspan_r >= 360) & (paramLC_tspan_i >= 360))) &\n",
    "              ((paramLC_minmag_g < 22) | (paramLC_minmag_r < 22) | (paramLC_minmag_i < 22)) &\n",
    "              ((paramLC_amp_g >= 0.5) | (paramLC_amp_r >= 0.5) | (paramLC_amp_i >= 0.5)) &\n",
    "              ((paramLC_neps >= 40)))[0]\n",
    "print('Number of potential AGN in COSMOS: ',len(tx))\n",
    "del tx\n",
    "tx = np.where((((paramLC_field == 'ELAIS') & (paramLC_tspan_g >= 360)) &\n",
    "              ((paramLC_tspan_r >= 360) & (paramLC_tspan_i >= 360))) &\n",
    "              ((paramLC_minmag_g < 22) | (paramLC_minmag_r < 22) | (paramLC_minmag_i < 22)) &\n",
    "              ((paramLC_amp_g >= 0.5) | (paramLC_amp_r >= 0.5) | (paramLC_amp_i >= 0.5)) &\n",
    "              ((paramLC_neps >= 40)))[0]\n",
    "print('Number of potential AGN in ELAIS: ',len(tx))\n",
    "del tx"
   ]
  },
  {
   "cell_type": "code",
   "execution_count": 181,
   "id": "2cc2a1eb-132a-423b-93e0-e3eda023cfeb",
   "metadata": {
    "tags": []
   },
   "outputs": [
    {
     "name": "stderr",
     "output_type": "stream",
     "text": [
      "/tmp/ipykernel_1870368/1667192441.py:10: FutureWarning: elementwise comparison failed; returning scalar instead, but in the future will perform elementwise comparison\n",
      "  tx2 = np.where((candLC_candid == paramLC_candid[tx]) & (candLC_filter == 'g'))\n"
     ]
    }
   ],
   "source": [
    "import pandas as pd\n",
    "\n",
    "\n",
    "tx = np.where((((paramLC_tspan_g >= 360)) &\n",
    "              ((paramLC_tspan_r >= 360) & (paramLC_tspan_i >= 360))) &\n",
    "              ((paramLC_minmag_g < 22) | (paramLC_minmag_r < 22) | (paramLC_minmag_i < 22)) &\n",
    "              ((paramLC_amp_g >= 0.5) | (paramLC_amp_r >= 0.5) | (paramLC_amp_i >= 0.5)) &\n",
    "              ((paramLC_neps >= 40)))[0]\n",
    "paramLC_candid[tx[0]]\n",
    "tx2 = np.where((candLC_candid == paramLC_candid[tx]) & (candLC_filter == 'g'))\n",
    "gdf = pd.DataFrame({'name': candLC_candid[tx2],\n",
    "                  'mag': candLC_mag[tx2],\n",
    "                  'mage':candLC_mage[tx2], \n",
    "                  'filter': candLC_filter[tx2],\n",
    "                  'mjd': candLC_mjd[tx2]})\n",
    "del tx\n",
    "\n",
    "tx = np.where(candLC_filter == 'r')\n",
    "rdf = pd.DataFrame({'name': candLC_candid[tx],\n",
    "                  'mag': candLC_mag[tx],\n",
    "                  'mage':candLC_mage[tx], \n",
    "                  'filter': candLC_filter[tx],\n",
    "                  'mjd': candLC_mjd[tx]})\n",
    "del tx\n",
    "\n",
    "tx = np.where(candLC_filter == 'i')\n",
    "idf = pd.DataFrame({'name': candLC_candid[tx],\n",
    "                  'mag': candLC_mag[tx],\n",
    "                  'mage':candLC_mage[tx], \n",
    "                  'filter': candLC_filter[tx],\n",
    "                  'mjd': candLC_mjd[tx]})\n",
    "del tx"
   ]
  },
  {
   "cell_type": "code",
   "execution_count": 182,
   "id": "af5bc3f7-b27d-470c-bc03-d3a5f3eadca1",
   "metadata": {
    "tags": []
   },
   "outputs": [
    {
     "data": {
      "text/plain": [
       "219"
      ]
     },
     "execution_count": 182,
     "metadata": {},
     "output_type": "execute_result"
    }
   ],
   "source": [
    "tx = np.where((((paramLC_tspan_g >= 360)) &\n",
    "              ((paramLC_tspan_r >= 360) & (paramLC_tspan_i >= 360))) &\n",
    "              ((paramLC_minmag_g < 22) | (paramLC_minmag_r < 22) | (paramLC_minmag_i < 22)) &\n",
    "              ((paramLC_amp_g >= 0.5) | (paramLC_amp_r >= 0.5) | (paramLC_amp_i >= 0.5)) &\n",
    "              ((paramLC_neps >= 40)))[0]\n",
    "len(paramLC_candid[tx])"
   ]
  },
  {
   "cell_type": "code",
   "execution_count": 183,
   "id": "3774b995-d8c1-4c46-ad0a-1c35a787532b",
   "metadata": {
    "tags": []
   },
   "outputs": [
    {
     "name": "stderr",
     "output_type": "stream",
     "text": [
      "/tmp/ipykernel_1870368/3210196040.py:1: FutureWarning: elementwise comparison failed; returning scalar instead, but in the future will perform elementwise comparison\n",
      "  np.where((candLC_candid == paramLC_candid[tx]))\n"
     ]
    },
    {
     "data": {
      "text/plain": [
       "(array([], dtype=int64),)"
      ]
     },
     "execution_count": 183,
     "metadata": {},
     "output_type": "execute_result"
    }
   ],
   "source": [
    "np.where((candLC_candid == paramLC_candid[tx]))"
   ]
  },
  {
   "cell_type": "code",
   "execution_count": null,
   "id": "3f8b7cdf-c9ec-46c5-8c04-fdc23ce24297",
   "metadata": {},
   "outputs": [],
   "source": []
  },
  {
   "cell_type": "code",
   "execution_count": 184,
   "id": "18282638-8df3-42fc-8f3f-8273e7aeb83d",
   "metadata": {
    "tags": []
   },
   "outputs": [
    {
     "data": {
      "text/plain": [
       "60157.342194"
      ]
     },
     "execution_count": 184,
     "metadata": {},
     "output_type": "execute_result"
    }
   ],
   "source": [
    "candLC_mjd[-1]"
   ]
  },
  {
   "cell_type": "code",
   "execution_count": 185,
   "id": "3039eda9-955a-4e49-8b08-f836df2508aa",
   "metadata": {
    "tags": []
   },
   "outputs": [
    {
     "ename": "SyntaxError",
     "evalue": "unterminated string literal (detected at line 1) (3270164097.py, line 1)",
     "output_type": "error",
     "traceback": [
      "\u001b[0;36m  Cell \u001b[0;32mIn[185], line 1\u001b[0;36m\u001b[0m\n\u001b[0;31m    gdf.(['])\u001b[0m\n\u001b[0m          ^\u001b[0m\n\u001b[0;31mSyntaxError\u001b[0m\u001b[0;31m:\u001b[0m unterminated string literal (detected at line 1)\n"
     ]
    }
   ],
   "source": [
    "gdf.(['])"
   ]
  },
  {
   "cell_type": "code",
   "execution_count": 186,
   "id": "1e9b3611-f512-4f0b-afa0-05167f73ec7f",
   "metadata": {
    "tags": []
   },
   "outputs": [
    {
     "data": {
      "text/plain": [
       "[(22.949, 59307.030411),\n",
       " (22.988, 59310.089167),\n",
       " (22.966, 59313.083839),\n",
       " (22.728, 59316.064882),\n",
       " (22.459, 59319.084752),\n",
       " (22.41, 59322.090266),\n",
       " (23.023, 59337.005624),\n",
       " (22.869, 59343.046074),\n",
       " (22.849, 59346.076016),\n",
       " (22.572, 59348.99943),\n",
       " (22.419, 59369.989038),\n",
       " (22.777, 59372.960729),\n",
       " (22.503, 59375.990669),\n",
       " (22.693, 59699.075342),\n",
       " (22.478, 59962.275992),\n",
       " (22.466, 59968.253514),\n",
       " (22.502, 59971.23812),\n",
       " (22.692, 60052.131558),\n",
       " (22.558, 60085.016451)]"
      ]
     },
     "execution_count": 186,
     "metadata": {},
     "output_type": "execute_result"
    }
   ],
   "source": [
    "tx = np.where((candLC_candid == 'DC21baaa') & (candLC_filter == 'g'))\n",
    "dc21baaa_mag_g = candLC_mag[tx]\n",
    "dc21baaa_mjd_g = candLC_mjd[tx]\n",
    "dc21baaa_g = list(zip(dc21baaa_mag_g, dc21baaa_mjd_g))\n",
    "dc21baaa_g\n",
    "# gg = gdf[['name', 'mag', 'mjd']].to_numpy()[tx]\n",
    "# gg"
   ]
  },
  {
   "cell_type": "code",
   "execution_count": 187,
   "id": "e4f54219-1708-437f-9d76-016fad468f22",
   "metadata": {
    "tags": []
   },
   "outputs": [
    {
     "data": {
      "text/plain": [
       "[(22.949, 59307.030411),\n",
       " (22.988, 59310.089167),\n",
       " (22.966, 59313.083839),\n",
       " (22.728, 59316.064882),\n",
       " (22.459, 59319.084752),\n",
       " (22.41, 59322.090266),\n",
       " (23.023, 59337.005624),\n",
       " (22.869, 59343.046074),\n",
       " (22.849, 59346.076016),\n",
       " (22.572, 59348.99943),\n",
       " (22.419, 59369.989038),\n",
       " (22.777, 59372.960729),\n",
       " (22.503, 59375.990669),\n",
       " (22.693, 59699.075342),\n",
       " (22.478, 59962.275992),\n",
       " (22.466, 59968.253514),\n",
       " (22.502, 59971.23812),\n",
       " (22.692, 60052.131558),\n",
       " (22.558, 60085.016451)]"
      ]
     },
     "execution_count": 187,
     "metadata": {},
     "output_type": "execute_result"
    }
   ],
   "source": [
    "dc21baaa_g"
   ]
  },
  {
   "cell_type": "code",
   "execution_count": 193,
   "id": "9a4be52b-bf78-4bd4-8c7b-58c6488f9050",
   "metadata": {
    "tags": []
   },
   "outputs": [],
   "source": [
    "dc21baaa_mag_g_diff = []\n",
    "dc21baaa_mjd_g_diff = []\n",
    "dc21baaa_sf = []\n",
    "for i in range(len(dc21baaa_g)):\n",
    "    if i < (len(dc21baaa_g)-1):\n",
    "        for j in range(i+1, len(dc21baaa_g)):\n",
    "            mag_diff = abs(dc21baaa_g[i][0] - dc21baaa_g[j][0])\n",
    "            # sf = np.sqrt(np.average(mag_diff**2))\n",
    "            mjd_diff = abs(dc21baaa_g[i][1] - dc21baaa_g[j][1])\n",
    "            dc21baaa_mag_g_diff.append(abs(mag_diff))\n",
    "            # dc21baaa_sf.append(sf)\n",
    "            dc21baaa_mjd_g_diff.append(abs(mjd_diff))\n",
    "# sf = np.sqrt(np.average(mag_diff**2))\n",
    "# dc21baaa_sf.append(sf)"
   ]
  },
  {
   "cell_type": "code",
   "execution_count": 199,
   "id": "1b57be71-7534-4027-b39d-d33994029107",
   "metadata": {
    "tags": []
   },
   "outputs": [
    {
     "data": {
      "image/png": "[encoded data removed]",
      "text/plain": [
       "<Figure size 640x480 with 1 Axes>"
      ]
     },
     "metadata": {},
     "output_type": "display_data"
    }
   ],
   "source": [
    "plt.scatter((dc21baaa_mjd_g_diff), (dc21baaa_mag_g_diff))\n",
    "# plt.xscale(\"log\")\n",
    "# plt.yscale(\"log\")\n",
    "plt.xlabel(\"delta mjd\")\n",
    "plt.ylabel(\"delta mag\")\n",
    "plt.title(\"SF - DC21baaa, g filter\");"
   ]
  },
  {
   "cell_type": "markdown",
   "id": "d3c37e11-9072-41f3-b387-3ffea8820c85",
   "metadata": {},
   "source": [
    "This is incomplete. In order to calculate SF, I will need to use binning for the delta times to average over ranges of delta mags."
   ]
  },
  {
   "cell_type": "code",
   "execution_count": 197,
   "id": "5e4a5155-4e3e-44ca-9b2f-d5fc092c91fe",
   "metadata": {
    "tags": []
   },
   "outputs": [],
   "source": [
    "# plt.scatter((dc21baaa_mjd_g_diff), (dc21baaa_sf))\n",
    "# # plt.xscale(\"log\")\n",
    "# # plt.yscale(\"log\")\n",
    "# plt.xlabel(\"delta mjd\")\n",
    "# plt.ylabel(\"delta mag\")\n",
    "# plt.title(\"SF - DC21baaa, g filter\");"
   ]
  },
  {
   "cell_type": "code",
   "execution_count": 198,
   "id": "f03eade3-870b-4694-abfa-83378f1ec685",
   "metadata": {
    "tags": []
   },
   "outputs": [
    {
     "data": {
      "text/plain": [
       "[3.0587559999985388,\n",
       " 6.053427999999258,\n",
       " 9.03447099999903,\n",
       " 12.05434100000275,\n",
       " 15.059854999999516]"
      ]
     },
     "execution_count": 198,
     "metadata": {},
     "output_type": "execute_result"
    }
   ],
   "source": [
    "dc21baaa_mjd_g_diff[:5]"
   ]
  },
  {
   "cell_type": "code",
   "execution_count": null,
   "id": "e71826a3-beae-4f31-b4c0-81c4659af75f",
   "metadata": {},
   "outputs": [],
   "source": []
  },
  {
   "cell_type": "code",
   "execution_count": null,
   "id": "d69dc4ff-ce20-40f4-a77c-5131230ec6ab",
   "metadata": {},
   "outputs": [],
   "source": []
  }
 ],
 "metadata": {
  "kernelspec": {
   "display_name": "NERSC Python",
   "language": "python",
   "name": "python3"
  },
  "language_info": {
   "codemirror_mode": {
    "name": "ipython",
    "version": 3
   },
   "file_extension": ".py",
   "mimetype": "text/x-python",
   "name": "python",
   "nbconvert_exporter": "python",
   "pygments_lexer": "ipython3",
   "version": "3.11.6"
  }
 },
 "nbformat": 4,
 "nbformat_minor": 5
}
