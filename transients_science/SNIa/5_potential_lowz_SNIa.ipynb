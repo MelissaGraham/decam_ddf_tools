{
 "cells": [
  {
   "cell_type": "markdown",
   "id": "78028554-e03f-43d8-ade8-eae961e01340",
   "metadata": {
    "tags": []
   },
   "source": [
    "# Review potential low-z SNIa; caught at early times?\n",
    "\n",
    "Authors: Melissa Graham\n"
   ]
  },
  {
   "cell_type": "markdown",
   "id": "2eb32894-aa32-441a-9681-f10e255bb987",
   "metadata": {},
   "source": [
    "## Set up and read in data\n",
    "\n",
    "Import packages."
   ]
  },
  {
   "cell_type": "code",
   "execution_count": 2,
   "id": "2c159a03-6baf-4cfc-ae6d-066fb60a0d4b",
   "metadata": {
    "tags": []
   },
   "outputs": [],
   "source": [
    "import numpy as np\n",
    "import matplotlib.pyplot as plt\n",
    "import time"
   ]
  },
  {
   "cell_type": "markdown",
   "id": "c31530c8-7045-40c4-8de9-de7dfb4f3076",
   "metadata": {},
   "source": [
    "Read in the `sncosmo` results.\n",
    "\n",
    "The fit peak magnitudes are read in but not used in this notebook."
   ]
  },
  {
   "cell_type": "code",
   "execution_count": 3,
   "id": "19f6ee8c-0297-4136-9fb1-8676174a9d27",
   "metadata": {
    "tags": []
   },
   "outputs": [],
   "source": [
    "fnm = '2_all_potential_snia_fits/results_sncosmos.dat'\n",
    "fit_cand = np.loadtxt(fnm, dtype='str', usecols=(0))\n",
    "fit_est_z = np.loadtxt(fnm, dtype='float', usecols=(1))\n",
    "fit_in_zlo = np.loadtxt(fnm, dtype='float', usecols=(2))\n",
    "fit_in_zhi = np.loadtxt(fnm, dtype='float', usecols=(3))\n",
    "fit_z = np.loadtxt(fnm, dtype='float', usecols=(4))\n",
    "fit_ze = np.loadtxt(fnm, dtype='float', usecols=(5))\n",
    "fit_t0 = np.loadtxt(fnm, dtype='float', usecols=(6))\n",
    "fit_t0e = np.loadtxt(fnm, dtype='float', usecols=(7))\n",
    "fit_x0 = np.loadtxt(fnm, dtype='float', usecols=(8))\n",
    "fit_x0e = np.loadtxt(fnm, dtype='float', usecols=(9))\n",
    "fit_x1 = np.loadtxt(fnm, dtype='float', usecols=(10))\n",
    "fit_x1e = np.loadtxt(fnm, dtype='float', usecols=(11))\n",
    "fit_c = np.loadtxt(fnm, dtype='float', usecols=(12))\n",
    "fit_ce = np.loadtxt(fnm, dtype='float', usecols=(13))\n",
    "fit_pmB = np.loadtxt(fnm, dtype='float', usecols=(14))\n",
    "fit_pmg = np.loadtxt(fnm, dtype='float', usecols=(15))\n",
    "fit_pmr = np.loadtxt(fnm, dtype='float', usecols=(16))\n",
    "fit_pmi = np.loadtxt(fnm, dtype='float', usecols=(17))\n",
    "del fnm"
   ]
  },
  {
   "cell_type": "code",
   "execution_count": 4,
   "id": "9cc08454-066f-4dcf-891f-a9eae9898073",
   "metadata": {
    "tags": []
   },
   "outputs": [
    {
     "name": "stdout",
     "output_type": "stream",
     "text": [
      "Number of potential SNIa which were not fit by sncosmo:  4\n",
      "Number of SNIa that were fit with sncosmo:  86\n"
     ]
    }
   ],
   "source": [
    "tx = np.where(fit_z <= 0.)[0]\n",
    "print('Number of potential SNIa which were not fit by sncosmo: ', len(tx))\n",
    "del tx\n",
    "tx = np.where(fit_z > 0)[0]\n",
    "print('Number of SNIa that were fit with sncosmo: ', len(tx))\n",
    "del tx"
   ]
  },
  {
   "cell_type": "code",
   "execution_count": 5,
   "id": "d9f1481b-a395-4f50-b3b0-1869f8f599fd",
   "metadata": {},
   "outputs": [],
   "source": [
    "fnm = '2_all_potential_snia_fits/MLG_review_ratings.txt'\n",
    "mlg_review_candid = np.loadtxt(fnm, dtype='str', usecols=(0))\n",
    "mlg_review_flag = np.loadtxt(fnm, dtype='int', usecols=(1))\n",
    "del fnm"
   ]
  },
  {
   "cell_type": "code",
   "execution_count": 6,
   "id": "168cd10f-6711-48fd-9ba2-f880ea77c517",
   "metadata": {},
   "outputs": [],
   "source": [
    "fit_mlgflag = np.zeros(len(fit_cand), dtype='int') - 1\n",
    "for c, candid in enumerate(fit_cand):\n",
    "    tx = np.where(candid == mlg_review_candid)[0]\n",
    "    if len(tx) == 1:\n",
    "        fit_mlgflag[c] = mlg_review_flag[tx[0]]\n",
    "    del tx"
   ]
  },
  {
   "cell_type": "code",
   "execution_count": 7,
   "id": "282f390b-a944-442e-82db-ee190568b64c",
   "metadata": {},
   "outputs": [],
   "source": [
    "fnm = '2_all_potential_snia_fits/MR_review_ratings.txt'\n",
    "mr_rating_candid = np.loadtxt(fnm, dtype='str', usecols=(0))\n",
    "mr_rating_flag   = np.loadtxt(fnm, dtype='int', usecols=(1))\n",
    "del fnm"
   ]
  },
  {
   "cell_type": "code",
   "execution_count": 8,
   "id": "7aac002d-e614-4fc4-83bc-86fd6c684b54",
   "metadata": {},
   "outputs": [],
   "source": [
    "fit_mrflag = np.zeros(len(fit_cand), dtype='int') - 1\n",
    "for c, candid in enumerate(fit_cand):\n",
    "    tx = np.where(candid == mr_rating_candid)[0]\n",
    "    if len(tx) == 1:\n",
    "        fit_mrflag[c] = mr_rating_flag[tx]\n",
    "    del tx"
   ]
  },
  {
   "cell_type": "markdown",
   "id": "26e3c822-6759-48a1-9e6f-95477d601991",
   "metadata": {
    "tags": []
   },
   "source": [
    "## Potential low-z SNIa?\n",
    "\n"
   ]
  },
  {
   "cell_type": "code",
   "execution_count": 9,
   "id": "187f25a3-7810-4756-b822-7f71c310388e",
   "metadata": {
    "tags": []
   },
   "outputs": [
    {
     "name": "stdout",
     "output_type": "stream",
     "text": [
      "DC21bkrj 0\n",
      "DC21dpwcq 0\n",
      "DC21dqik 0\n",
      "DC21drcmp 0\n",
      "DC21dsocp 0\n",
      "DC22hvtwp 0\n",
      "DC22iykha 0\n",
      "DC23jxtzq 0\n",
      "DC23kdata 1\n",
      "DC23kpigs 0\n"
     ]
    }
   ],
   "source": [
    "tx = np.where((fit_z < 0.2) & ((fit_mlgflag == 0) | (fit_mlgflag == 1)))[0]\n",
    "for x in tx:\n",
    "    print(fit_cand[x], fit_mlgflag[x])\n",
    "del tx"
   ]
  },
  {
   "cell_type": "markdown",
   "id": "b55340c7-28a0-4848-ac62-3434958cbc9f",
   "metadata": {},
   "source": [
    "### DC21bkrj\n",
    "\n",
    "<img src=\"1_all_potential_snia_lcs/DC21bkrj.png\" width=\"400\"/><br>\n",
    "\n",
    "Looks SNIa-like, fit seems OK, and it looks to have quite an early detection."
   ]
  },
  {
   "cell_type": "code",
   "execution_count": null,
   "id": "cb3c08fb-0480-4f77-950d-d797ef28641a",
   "metadata": {
    "tags": []
   },
   "outputs": [],
   "source": [
    "cx = np.where(fit_cand == 'DC21bkrj')[0]\n",
    "print(fit_z[cx[0]],  fit_ze[cx[0]])\n",
    "print(fit_t0[cx[0]], fit_t0e[cx[0]])\n",
    "print(fit_x0[cx[0]], fit_x0e[cx[0]])\n",
    "print(fit_x1[cx[0]], fit_x1e[cx[0]])\n",
    "print(fit_c[cx[0]],  fit_ce[cx[0]])\n",
    "print(fit_pmB[cx[0]], fit_pmg[cx[0]], fit_pmr[cx[0]], fit_pmi[cx[0]])"
   ]
  },
  {
   "cell_type": "markdown",
   "id": "ff2edf69-d1b3-4023-bb47-adffd67e6614",
   "metadata": {},
   "source": [
    "### DC21dpwcq\n",
    "\n",
    "<img src=\"1_all_potential_snia_lcs/DC21dpwcq.png\" width=\"400\"/><br>\n",
    "\n",
    "<img src=\"2_all_potential_snia_fits/DC21dpwcq_fit.png\" width=\"400\"/><br>\n"
   ]
  },
  {
   "cell_type": "code",
   "execution_count": null,
   "id": "023e8d8b-a5e7-487b-a03f-35ab1dcd1835",
   "metadata": {
    "tags": []
   },
   "outputs": [],
   "source": [
    "cx = np.where(fit_cand == 'DC21dpwcq')[0]\n",
    "print(fit_z[cx[0]],  fit_ze[cx[0]])\n",
    "print(fit_t0[cx[0]], fit_t0e[cx[0]])\n",
    "print(fit_x0[cx[0]], fit_x0e[cx[0]])\n",
    "print(fit_x1[cx[0]], fit_x1e[cx[0]])\n",
    "print(fit_c[cx[0]],  fit_ce[cx[0]])\n",
    "print(fit_pmB[cx[0]], fit_pmg[cx[0]], fit_pmr[cx[0]], fit_pmi[cx[0]])"
   ]
  },
  {
   "cell_type": "markdown",
   "id": "022d6679-06b0-4a83-9353-0c3be00eafc4",
   "metadata": {},
   "source": [
    "### DC21dqik\n",
    "\n",
    "<img src=\"1_all_potential_snia_lcs/DC21dqik.png\" width=\"400\"/><br>\n"
   ]
  },
  {
   "cell_type": "code",
   "execution_count": null,
   "id": "1af60bee-4b1f-4476-941c-3a6cadadc300",
   "metadata": {
    "tags": []
   },
   "outputs": [],
   "source": [
    "cx = np.where(fit_cand == 'DC21dqik')[0]\n",
    "print(fit_z[cx[0]],  fit_ze[cx[0]])\n",
    "print(fit_t0[cx[0]], fit_t0e[cx[0]])\n",
    "print(fit_x0[cx[0]], fit_x0e[cx[0]])\n",
    "print(fit_x1[cx[0]], fit_x1e[cx[0]])\n",
    "print(fit_c[cx[0]],  fit_ce[cx[0]])\n",
    "print(fit_pmB[cx[0]], fit_pmg[cx[0]], fit_pmr[cx[0]], fit_pmi[cx[0]])"
   ]
  },
  {
   "cell_type": "markdown",
   "id": "3f87c4ee-997f-4ae6-97f3-32e09da1a9c0",
   "metadata": {},
   "source": [
    "### DC21drcmp\n",
    "\n",
    "<img src=\"1_all_potential_snia_lcs/DC21drcmp.png\" width=\"400\"/><br>\n"
   ]
  },
  {
   "cell_type": "code",
   "execution_count": null,
   "id": "993a2cef-c542-42e5-96b4-1bbb55081763",
   "metadata": {
    "tags": []
   },
   "outputs": [],
   "source": [
    "cx = np.where(fit_cand == 'DC21drcmp')[0]\n",
    "print(fit_z[cx[0]],  fit_ze[cx[0]])\n",
    "print(fit_t0[cx[0]], fit_t0e[cx[0]])\n",
    "print(fit_x0[cx[0]], fit_x0e[cx[0]])\n",
    "print(fit_x1[cx[0]], fit_x1e[cx[0]])\n",
    "print(fit_c[cx[0]],  fit_ce[cx[0]])\n",
    "print(fit_pmB[cx[0]], fit_pmg[cx[0]], fit_pmr[cx[0]], fit_pmi[cx[0]])"
   ]
  },
  {
   "cell_type": "markdown",
   "id": "73522f53-a3ed-412d-aee5-40a5cde1b3da",
   "metadata": {},
   "source": [
    "### DC21dsocp\n",
    "\n",
    "<img src=\"1_all_potential_snia_lcs/DC21dsocp.png\" width=\"400\"/><br>\n"
   ]
  },
  {
   "cell_type": "code",
   "execution_count": null,
   "id": "3c6206e1-fadf-4592-bc68-adeea20e344d",
   "metadata": {
    "tags": []
   },
   "outputs": [],
   "source": [
    "cx = np.where(fit_cand == 'DC21dsocp')[0]\n",
    "print(fit_z[cx[0]],  fit_ze[cx[0]])\n",
    "print(fit_t0[cx[0]], fit_t0e[cx[0]])\n",
    "print(fit_x0[cx[0]], fit_x0e[cx[0]])\n",
    "print(fit_x1[cx[0]], fit_x1e[cx[0]])\n",
    "print(fit_c[cx[0]],  fit_ce[cx[0]])\n",
    "print(fit_pmB[cx[0]], fit_pmg[cx[0]], fit_pmr[cx[0]], fit_pmi[cx[0]])"
   ]
  },
  {
   "cell_type": "markdown",
   "id": "9a44d1d5-28aa-4b94-ac09-f8098e2a7bb4",
   "metadata": {},
   "source": [
    "### DC22hvtwp\n",
    "\n",
    "<img src=\"1_all_potential_snia_lcs/DC22hvtwp.png\" width=\"400\"/><br>\n"
   ]
  },
  {
   "cell_type": "code",
   "execution_count": null,
   "id": "538c3796-3116-4440-8ced-51dd43fb5a97",
   "metadata": {
    "tags": []
   },
   "outputs": [],
   "source": [
    "cx = np.where(fit_cand == 'DC22hvtwp')[0]\n",
    "print(fit_z[cx[0]],  fit_ze[cx[0]])\n",
    "print(fit_t0[cx[0]], fit_t0e[cx[0]])\n",
    "print(fit_x0[cx[0]], fit_x0e[cx[0]])\n",
    "print(fit_x1[cx[0]], fit_x1e[cx[0]])\n",
    "print(fit_c[cx[0]],  fit_ce[cx[0]])\n",
    "print(fit_pmB[cx[0]], fit_pmg[cx[0]], fit_pmr[cx[0]], fit_pmi[cx[0]])"
   ]
  },
  {
   "cell_type": "markdown",
   "id": "ddc2f46e-a19f-42d8-80ee-152a4f7cbb55",
   "metadata": {},
   "source": [
    "### DC22iykha\n",
    "\n",
    "(already explored above)\n"
   ]
  },
  {
   "cell_type": "markdown",
   "id": "6aa85035-d4b5-40ba-9007-d84e366b1afd",
   "metadata": {},
   "source": [
    "### DC23jxtzq\n",
    "\n",
    "<img src=\"1_all_potential_snia_lcs/DC23jxtzq.png\" width=\"400\"/><br>\n",
    "\n",
    "There's something odd about this one...\n",
    "\n",
    "The fit is not good; either it's not a SNIa or there is one night of bad photometry.\n",
    "\n",
    "<img src=\"2_all_potential_snia_fits/DC23jxtzq_fit.png\" width=\"400\"/><br>\n"
   ]
  },
  {
   "cell_type": "code",
   "execution_count": null,
   "id": "a391c505-c773-4f24-b0d7-d755b7829319",
   "metadata": {
    "tags": []
   },
   "outputs": [],
   "source": [
    "cx = np.where(fit_cand == 'DC23jxtzq')[0]\n",
    "print(fit_z[cx[0]],  fit_ze[cx[0]])\n",
    "print(fit_t0[cx[0]], fit_t0e[cx[0]])\n",
    "print(fit_x0[cx[0]], fit_x0e[cx[0]])\n",
    "print(fit_x1[cx[0]], fit_x1e[cx[0]])\n",
    "print(fit_c[cx[0]],  fit_ce[cx[0]])\n",
    "print(fit_pmB[cx[0]], fit_pmg[cx[0]], fit_pmr[cx[0]], fit_pmi[cx[0]])"
   ]
  },
  {
   "cell_type": "markdown",
   "id": "efc4fb55-f226-44c5-9417-851bb5bc2cb9",
   "metadata": {},
   "source": [
    "### DC23kdata\n",
    "\n",
    "<img src=\"1_all_potential_snia_lcs/DC23kdata.png\" width=\"400\"/><br>\n"
   ]
  },
  {
   "cell_type": "code",
   "execution_count": null,
   "id": "9c519578-19fc-4015-8bfa-4c6be608f796",
   "metadata": {
    "tags": []
   },
   "outputs": [],
   "source": [
    "cx = np.where(fit_cand == 'DC23kdata')[0]\n",
    "print(fit_z[cx[0]],  fit_ze[cx[0]])\n",
    "print(fit_t0[cx[0]], fit_t0e[cx[0]])\n",
    "print(fit_x0[cx[0]], fit_x0e[cx[0]])\n",
    "print(fit_x1[cx[0]], fit_x1e[cx[0]])\n",
    "print(fit_c[cx[0]],  fit_ce[cx[0]])\n",
    "print(fit_pmB[cx[0]], fit_pmg[cx[0]], fit_pmr[cx[0]], fit_pmi[cx[0]])"
   ]
  },
  {
   "cell_type": "markdown",
   "id": "c95bd5ce-cf98-4e82-975f-a7e7f9a32a49",
   "metadata": {},
   "source": [
    "### DC23kpigs\n",
    "\n",
    "<img src=\"1_all_potential_snia_lcs/DC23kpigs.png\" width=\"400\"/><br>"
   ]
  },
  {
   "cell_type": "code",
   "execution_count": null,
   "id": "fa9de115-8366-406c-b211-4d8df7507add",
   "metadata": {},
   "outputs": [],
   "source": [
    "cx = np.where(fit_cand == 'DC23kpigs')[0]\n",
    "print(fit_z[cx[0]],  fit_ze[cx[0]])\n",
    "print(fit_t0[cx[0]], fit_t0e[cx[0]])\n",
    "print(fit_x0[cx[0]], fit_x0e[cx[0]])\n",
    "print(fit_x1[cx[0]], fit_x1e[cx[0]])\n",
    "print(fit_c[cx[0]],  fit_ce[cx[0]])\n",
    "print(fit_pmB[cx[0]], fit_pmg[cx[0]], fit_pmr[cx[0]], fit_pmi[cx[0]])"
   ]
  },
  {
   "cell_type": "code",
   "execution_count": null,
   "id": "b2ad763c-1c38-486f-adf6-b1833c5496b2",
   "metadata": {},
   "outputs": [],
   "source": []
  }
 ],
 "metadata": {
  "kernelspec": {
   "display_name": "NERSC Python",
   "language": "python",
   "name": "python3"
  },
  "language_info": {
   "codemirror_mode": {
    "name": "ipython",
    "version": 3
   },
   "file_extension": ".py",
   "mimetype": "text/x-python",
   "name": "python",
   "nbconvert_exporter": "python",
   "pygments_lexer": "ipython3",
   "version": "3.11.6"
  }
 },
 "nbformat": 4,
 "nbformat_minor": 5
}
