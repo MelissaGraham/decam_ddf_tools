{
 "cells": [
  {
   "cell_type": "markdown",
   "id": "c4031d98-5429-4994-becf-dc9dc5e5d48b",
   "metadata": {},
   "source": [
    "# Explore the LS DR10 cross-matches for potential SN IIP\n",
    "\n",
    "Author: Melissa Graham, Midori Rollins\n",
    "\n",
    "## Set up and read files"
   ]
  },
  {
   "cell_type": "code",
   "execution_count": 1,
   "id": "45b0d101-6c7d-446d-82fc-b149e4a25a86",
   "metadata": {
    "tags": []
   },
   "outputs": [],
   "source": [
    "import os\n",
    "import numpy as np\n",
    "import matplotlib as mpl\n",
    "import matplotlib.pyplot as plt\n",
    "\n",
    "from astropy.cosmology import FlatLambdaCDM\n",
    "import astropy.units as u\n",
    "cosmo = FlatLambdaCDM(H0=70 * u.km / u.s / u.Mpc, Tcmb0=2.725 * u.K, Om0=0.3)"
   ]
  },
  {
   "cell_type": "code",
   "execution_count": 2,
   "id": "d21d5253-b14d-4eb0-8991-e3c50d93f343",
   "metadata": {
    "tags": []
   },
   "outputs": [],
   "source": [
    "clr = ['darkgreen', 'firebrick', 'saddlebrown', 'limegreen', 'orange', 'lightcoral']\n",
    "\n",
    "all_filters = ['g','r','i']\n",
    "all_fcolors = ['green','red','blue']\n",
    "all_fshapes = ['o','s','^']\n",
    "all_fsizes  = [5, 5, 7]"
   ]
  },
  {
   "cell_type": "markdown",
   "id": "89eee71a-8992-44bc-93c7-d64646da4f70",
   "metadata": {},
   "source": [
    "Read in the nightly epoch light curves for all candidates."
   ]
  },
  {
   "cell_type": "code",
   "execution_count": 3,
   "id": "4ce1c968-5810-40fd-bec9-e2c1bbe89e95",
   "metadata": {
    "tags": []
   },
   "outputs": [],
   "source": [
    "fnm = '../all_nightly_epochs_files/candidate_lightcurves.dat'\n",
    "\n",
    "candLC_field = np.loadtxt(fnm, dtype='str', usecols=(0))\n",
    "candLC_candid = np.loadtxt(fnm, dtype='str', usecols=(1))\n",
    "candLC_caldate = np.loadtxt(fnm, dtype='str', usecols=(2))\n",
    "candLC_mjd = np.loadtxt(fnm, dtype='float', usecols=(3))\n",
    "candLC_filter = np.loadtxt(fnm, dtype='str', usecols=(4))\n",
    "candLC_Nobj = np.loadtxt(fnm, dtype='int', usecols=(5))\n",
    "candLC_mag = np.loadtxt(fnm, dtype='float', usecols=(6))\n",
    "candLC_mage = np.loadtxt(fnm, dtype='float', usecols=(7))\n",
    "candLC_mrb = np.loadtxt(fnm, dtype='float', usecols=(8))\n",
    "candLC_lef = np.loadtxt(fnm, dtype='float', usecols=(9))\n",
    "\n",
    "del fnm"
   ]
  },
  {
   "cell_type": "markdown",
   "id": "527651eb-14cb-4f6c-a3a2-598a01677fba",
   "metadata": {},
   "source": [
    "Read in the parameters for the nightly epoch light curves for all candidates."
   ]
  },
  {
   "cell_type": "code",
   "execution_count": 4,
   "id": "c5d4c272-16fa-45c4-b524-c678f6fd8cf1",
   "metadata": {
    "tags": []
   },
   "outputs": [],
   "source": [
    "fnm = '../all_nightly_epochs_files/candidate_lightcurve_parameters.dat'\n",
    "\n",
    "paramLC_field = np.loadtxt( fnm, dtype='str', usecols=(0) )\n",
    "paramLC_candid = np.loadtxt( fnm, dtype='str', usecols=(1) )\n",
    "paramLC_tspan = np.loadtxt( fnm, dtype='float', usecols=(2) )\n",
    "paramLC_tspan_g = np.loadtxt( fnm, dtype='float', usecols=(3) )\n",
    "paramLC_tspan_r = np.loadtxt( fnm, dtype='float', usecols=(4) )\n",
    "paramLC_tspan_i = np.loadtxt( fnm, dtype='float', usecols=(5) )\n",
    "paramLC_minmag = np.loadtxt( fnm, dtype='float', usecols=(6) )\n",
    "paramLC_minmag_g = np.loadtxt( fnm, dtype='float', usecols=(7) )\n",
    "paramLC_minmag_r = np.loadtxt( fnm, dtype='float', usecols=(8) )\n",
    "paramLC_minmag_i = np.loadtxt( fnm, dtype='float', usecols=(9) )\n",
    "paramLC_amp = np.loadtxt( fnm, dtype='float', usecols=(10) )\n",
    "paramLC_amp_g = np.loadtxt( fnm, dtype='float', usecols=(11) )\n",
    "paramLC_amp_r = np.loadtxt( fnm, dtype='float', usecols=(12) )\n",
    "paramLC_amp_i = np.loadtxt( fnm, dtype='float', usecols=(13) )\n",
    "paramLC_neps = np.loadtxt( fnm, dtype='int', usecols=(14) )\n",
    "paramLC_neps_g = np.loadtxt( fnm, dtype='int', usecols=(15) )\n",
    "paramLC_neps_r = np.loadtxt( fnm, dtype='int', usecols=(16) )\n",
    "paramLC_neps_i = np.loadtxt( fnm, dtype='int', usecols=(17) )\n",
    "\n",
    "del fnm"
   ]
  },
  {
   "cell_type": "markdown",
   "id": "d1166c82-2664-4318-ab4c-b2fe4cb18fec",
   "metadata": {
    "tags": []
   },
   "source": [
    "Read in the list of candidate IDs for potential SNIIP."
   ]
  },
  {
   "cell_type": "code",
   "execution_count": 5,
   "id": "09973927-602b-4236-87b3-e7436d386867",
   "metadata": {
    "tags": []
   },
   "outputs": [],
   "source": [
    "potsniip_candid = np.loadtxt('potential_sniip_list.dat', dtype='str', usecols=(0))"
   ]
  },
  {
   "cell_type": "markdown",
   "id": "6596f99e-d0c1-4856-88b6-a46c45660ee1",
   "metadata": {},
   "source": [
    "Read in all rows of the cross-matched file.\n",
    "\n",
    "`flagstar` : 1 if matched to a star; 0 if matched to a galaxy; -1 if unmatched (int) \n",
    "\n",
    "`flagcore` : 1 if matched to the core of the galaxy; 0 otherwise (int) \n",
    "\n",
    "`flagmatch` : 1 if a star AND galaxy met constraints; 0 if one or the other; -1 if unmatched (int) \n"
   ]
  },
  {
   "cell_type": "code",
   "execution_count": 6,
   "id": "a39c7beb-1866-43d8-acf9-e785eec8267b",
   "metadata": {
    "tags": []
   },
   "outputs": [],
   "source": [
    "fnm = '../cross_matched_LSDR10/candidate_xmatch_LSdr10.dat'\n",
    "lsdr10xm_candid   = np.loadtxt(fnm, dtype='str', usecols=(0))\n",
    "lsdr10xm_candra   = np.loadtxt(fnm, dtype='float', usecols=(1))\n",
    "lsdr10xm_canddec  = np.loadtxt(fnm, dtype='float', usecols=(2))\n",
    "lsdr10xm_flagstar = np.loadtxt(fnm, dtype='int', usecols=(4))\n",
    "lsdr10xm_flagcore = np.loadtxt(fnm, dtype='int', usecols=(5))\n",
    "lsdr10xm_flagmatch= np.loadtxt(fnm, dtype='int', usecols=(6))\n",
    "lsdr10xm_sep      = np.loadtxt(fnm, dtype='float', usecols=(7))\n",
    "lsdr10xm_ra       = np.loadtxt(fnm, dtype='float', usecols=(8))\n",
    "lsdr10xm_dec      = np.loadtxt(fnm, dtype='float', usecols=(9))\n",
    "lsdr10xm_rmag     = np.loadtxt(fnm, dtype='float', usecols=(13))\n",
    "lsdr10xm_type     = np.loadtxt(fnm, dtype='str', usecols=(15))\n",
    "lsdr10xm_shaper   = np.loadtxt(fnm, dtype='float', usecols=(19))\n",
    "lsdr10xm_rpsfsize = np.loadtxt(fnm, dtype='float', usecols=(21))  \n",
    "lsdr10xm_meanpz   = np.loadtxt(fnm, dtype='float', usecols=(23))\n",
    "lsdr10xm_stdpz    = np.loadtxt(fnm, dtype='float', usecols=(24))\n",
    "lsdr10xm_specz    = np.loadtxt(fnm, dtype='float', usecols=(25))\n",
    "del fnm"
   ]
  },
  {
   "cell_type": "markdown",
   "id": "37c9d3ae-6d1f-496a-bc12-5d79fa009865",
   "metadata": {},
   "source": [
    "For every potential sniip store its index in the `paramLC_` arrays \n",
    "as `mindex` for the `lsdr10xm_` arrays."
   ]
  },
  {
   "cell_type": "code",
   "execution_count": 7,
   "id": "adefbff9-89c0-45ab-b5a1-851488d0ff5a",
   "metadata": {
    "tags": []
   },
   "outputs": [],
   "source": [
    "lsdr10xm_mindex = np.zeros(len(lsdr10xm_candid), dtype='int')-1\n",
    "\n",
    "if potsniip_candid.size > 1:\n",
    "    for cid in potsniip_candid:\n",
    "        tx = np.where(lsdr10xm_candid == cid)[0]\n",
    "        if len(tx) == 1:\n",
    "            ttx = np.where(paramLC_candid == cid)[0]\n",
    "            if len(ttx) == 1:\n",
    "                lsdr10xm_mindex[tx[0]] = ttx[0]\n",
    "            del ttx\n",
    "        del tx\n",
    "if potsniip_candid.size == 1:\n",
    "    tx = np.where(lsdr10xm_candid == potsniip_candid)[0]\n",
    "    if len(tx) == 1:\n",
    "        ttx = np.where(paramLC_candid == potsniip_candid)[0]\n",
    "        if len(ttx) == 1:\n",
    "            lsdr10xm_mindex[tx[0]] = ttx[0]\n",
    "        del ttx\n",
    "    del tx"
   ]
  },
  {
   "cell_type": "markdown",
   "id": "e5f3f553-bdf9-429e-baa0-4e3294e4f0b2",
   "metadata": {},
   "source": [
    "Check that all the potential SNIa were successfully matched."
   ]
  },
  {
   "cell_type": "code",
   "execution_count": 8,
   "id": "2e2f692e-ce16-4054-b7a9-7fd31e73cc43",
   "metadata": {
    "tags": []
   },
   "outputs": [
    {
     "name": "stdout",
     "output_type": "stream",
     "text": [
      "7  should equal  7\n"
     ]
    }
   ],
   "source": [
    "tx = np.where(lsdr10xm_mindex >= 0)[0]\n",
    "print(len(tx), ' should equal ', potsniip_candid.size)"
   ]
  },
  {
   "cell_type": "markdown",
   "id": "8d1a40fc-93d1-4fe1-b8bf-ce9626931242",
   "metadata": {},
   "source": [
    "Read in the file with links and review the static-sky stamps for the targets of interest."
   ]
  },
  {
   "cell_type": "code",
   "execution_count": 9,
   "id": "93b7ad2b-a5ca-42b1-8379-fe72f08330ff",
   "metadata": {
    "tags": []
   },
   "outputs": [
    {
     "name": "stdout",
     "output_type": "stream",
     "text": [
      "DC21daldo https://www.legacysurvey.org/viewer/cutout.jpg?ra=8.9677212659167&dec=-43.846501378026&layer=ls-dr9&pixscale=0.06\n",
      "DC21jay https://www.legacysurvey.org/viewer/cutout.jpg?ra=150.564027874473&dec=3.21026683645687&layer=ls-dr9&pixscale=0.06\n",
      "DC22hxfqh https://www.legacysurvey.org/viewer/cutout.jpg?ra=8.43093263763677&dec=-43.7762941548716&layer=ls-dr9&pixscale=0.06\n",
      "DC22iykhs https://www.legacysurvey.org/viewer/cutout.jpg?ra=7.22327103275092&dec=-43.3976670920438&layer=ls-dr9&pixscale=0.06\n",
      "DC23jmrgj https://www.legacysurvey.org/viewer/cutout.jpg?ra=150.720942607887&dec=2.98184895681704&layer=ls-dr9&pixscale=0.06\n",
      "DC23jmszp https://www.legacysurvey.org/viewer/cutout.jpg?ra=149.99760402174&dec=2.02701910723299&layer=ls-dr9&pixscale=0.06\n",
      "DC23kzuyh https://www.legacysurvey.org/viewer/cutout.jpg?ra=9.53162269473933&dec=-44.0454347862826&layer=ls-dr9&pixscale=0.06\n"
     ]
    }
   ],
   "source": [
    "fnm = '../cross_matched_LSDR10/candidate_links.dat'\n",
    "link_candid = np.loadtxt(fnm, dtype='str', usecols=(0))\n",
    "link_lsview = np.loadtxt(fnm, dtype='str', usecols=(1))\n",
    "link_rkview = np.loadtxt(fnm, dtype='str', usecols=(2))\n",
    "for temp in potsniip_candid:\n",
    "    tx = np.where(link_candid == temp)[0]\n",
    "    print(temp, link_lsview[tx[0]])\n",
    "    del tx\n",
    "del fnm"
   ]
  },
  {
   "cell_type": "markdown",
   "id": "9c227118-b4a4-4a31-974f-ce4644f7529c",
   "metadata": {},
   "source": [
    "## Number of potential SNIIP with matches\n",
    "\n",
    "Recall that the `flagstar` column is 1 if the nearest cross-match is a star\n",
    "and 0 if it is a galaxy.\n",
    "\n",
    "Recall that the `flagmatch` column is 1 if there was a nearby object of a different\n",
    "type within the search radius, indicating potential confusion in object or host type.\n",
    "\n",
    "Identify potential SNIa with no matches, star matches, and galaxy matches."
   ]
  },
  {
   "cell_type": "code",
   "execution_count": 10,
   "id": "fd6a471a-279a-42cb-a7f1-340b7a8f8ccf",
   "metadata": {
    "tags": []
   },
   "outputs": [
    {
     "name": "stdout",
     "output_type": "stream",
     "text": [
      "7\n",
      " \n",
      "Number of potential SNIIP that are cross-matched with:\n",
      "no source:  0\n",
      "a galaxy:  6\n",
      "['DC21daldo' 'DC21jay' 'DC22hxfqh' 'DC22iykhs' 'DC23jmrgj' 'DC23kzuyh']\n",
      "a star:  1\n",
      "['DC23jmszp']\n",
      " \n",
      "Number of potential SNIIP that are cross-matched with:\n",
      "a galaxy, but a star is nearby too:  1\n",
      "['DC22iykhs']\n",
      "a star, but a galaxy is nearby too:  1\n",
      "['DC23jmszp']\n"
     ]
    }
   ],
   "source": [
    "tx = np.where(lsdr10xm_mindex >= 0)[0]\n",
    "print(len(tx))\n",
    "\n",
    "ax = np.where(lsdr10xm_flagstar[tx] == -1)[0]\n",
    "bx = np.where(lsdr10xm_flagstar[tx] == 0)[0]\n",
    "cx = np.where(lsdr10xm_flagstar[tx] == 1)[0]\n",
    "\n",
    "print(' ')\n",
    "print('Number of potential SNIIP that are cross-matched with:')\n",
    "print('no source: ', len(ax))\n",
    "if len(ax) > 0:\n",
    "    print(lsdr10xm_candid[tx[ax]])\n",
    "print('a galaxy: ', len(bx))\n",
    "if len(bx) > 0:\n",
    "    print(lsdr10xm_candid[tx[bx]])\n",
    "print('a star: ', len(cx))\n",
    "if len(cx) > 0:\n",
    "    print(lsdr10xm_candid[tx[cx]])\n",
    "\n",
    "dx = np.where(lsdr10xm_flagmatch[tx[bx]] == 1)[0]\n",
    "ex = np.where(lsdr10xm_flagmatch[tx[cx]] == 1)[0]\n",
    "\n",
    "print(' ')\n",
    "print('Number of potential SNIIP that are cross-matched with:')\n",
    "print('a galaxy, but a star is nearby too: ', len(dx))\n",
    "print(lsdr10xm_candid[tx[bx[dx]]])\n",
    "print('a star, but a galaxy is nearby too: ', len(ex))\n",
    "print(lsdr10xm_candid[tx[cx[ex]]])\n",
    "\n",
    "del tx, ax, bx, cx, dx, ex"
   ]
  },
  {
   "cell_type": "markdown",
   "id": "ce4a1479-8018-4d0d-ac76-97e3fb450402",
   "metadata": {},
   "source": [
    "### Galaxy matches, photo-z etc.\n",
    "\n",
    "Take a look at the photo-z for the matches."
   ]
  },
  {
   "cell_type": "code",
   "execution_count": 11,
   "id": "358768fe-79d2-4985-a2df-0296d3326cdb",
   "metadata": {
    "tags": []
   },
   "outputs": [
    {
     "name": "stdout",
     "output_type": "stream",
     "text": [
      "DC21daldo 0.3732 -99.0\n",
      "DC21jay 0.2925 -99.0\n",
      "DC22hxfqh 0.1153 -99.0\n",
      "DC22iykhs 0.4837 -99.0\n",
      "DC23jmrgj 0.2518 -99.0\n",
      "DC23jmszp -99.0 -99.0\n",
      "DC23kzuyh 0.4699 -99.0\n"
     ]
    }
   ],
   "source": [
    "for candid in potsniip_candid:\n",
    "    tx = np.where(lsdr10xm_candid == candid)[0]\n",
    "    print(candid, lsdr10xm_meanpz[tx[0]], lsdr10xm_specz[tx[0]])"
   ]
  },
  {
   "cell_type": "markdown",
   "id": "e3b5745c-3bc2-4bd8-b7a9-32f13d279df5",
   "metadata": {},
   "source": [
    "Approximate intrinsic peak brightnesses based on the redshifts."
   ]
  },
  {
   "cell_type": "code",
   "execution_count": 12,
   "id": "9519fc2b-bd14-4e63-bf19-99de9e42e8c2",
   "metadata": {
    "tags": []
   },
   "outputs": [
    {
     "name": "stdout",
     "output_type": "stream",
     "text": [
      " DC21daldo 21.84 21.93 21.99 -19.66 -19.57 -19.52\n",
      "   DC21jay 21.65 21.62 21.26 -19.24 -19.27 -19.64\n",
      " DC22hxfqh 21.36 21.39 21.22 -17.28 -17.26 -17.42\n",
      " DC22iykhs 22.09 21.98 21.73 -20.09 -20.20 -20.44\n",
      " DC23jmrgj 21.46 21.57 21.48 -19.06 -18.95 -19.03\n",
      " DC23kzuyh 21.05 20.41 20.24 -21.05 -21.69 -21.86\n"
     ]
    }
   ],
   "source": [
    "for candid in potsniip_candid:\n",
    "    tx = np.where(lsdr10xm_candid == candid)[0]\n",
    "    pz = lsdr10xm_meanpz[tx[0]]\n",
    "    if pz > 0.0:\n",
    "        px = np.where(paramLC_candid == candid)[0]\n",
    "        dm = 5. * np.log10(cosmo.luminosity_distance(pz).value) + 25.\n",
    "        mg = paramLC_minmag_g[px[0]]\n",
    "        mr = paramLC_minmag_r[px[0]]\n",
    "        mi = paramLC_minmag_i[px[0]]\n",
    "        ag = mg - dm\n",
    "        ar = mr - dm\n",
    "        ai = mi - dm\n",
    "        print('%10s %5.2f %5.2f %5.2f %5.2f %5.2f %5.2f' % (candid, mg, mr, mi, ag, ar, ai))"
   ]
  },
  {
   "cell_type": "code",
   "execution_count": 13,
   "id": "daf2e3f8-0cf4-48a8-a9c2-3ee7634e9823",
   "metadata": {
    "tags": []
   },
   "outputs": [
    {
     "name": "stdout",
     "output_type": "stream",
     "text": [
      " DC21daldo & 21.93 & SER & 22.38 & 0.37$\\pm$0.15 & -19.6 \\\\\n",
      "   DC21jay & 21.62 & EXP & 22.31 & 0.29$\\pm$0.38 & -19.3 \\\\\n",
      " DC22hxfqh & 21.39 & SER & 20.18 & 0.12$\\pm$0.06 & -17.3 \\\\\n",
      " DC22iykhs & 21.98 & EXP & 21.94 & 0.48$\\pm$0.11 & -20.2 \\\\\n",
      " DC23jmrgj & 21.57 & SER & 21.12 & 0.25$\\pm$0.08 & -18.9 \\\\\n",
      " DC23jmszp & 21.97 & PSF & 22.88 & 0.00$\\pm$0.00 &   0.0 \\\\\n",
      " DC23kzuyh & 20.41 & REX & 21.04 & 0.47$\\pm$0.04 & -21.7 \\\\\n"
     ]
    }
   ],
   "source": [
    "for candid in potsniip_candid:\n",
    "\n",
    "    px = np.where(paramLC_candid == candid)[0]\n",
    "    mr = paramLC_minmag_r[px[0]]\n",
    "    \n",
    "    tx = np.where(lsdr10xm_candid == candid)[0]\n",
    "    pz = lsdr10xm_meanpz[tx[0]]\n",
    "    stdpz = lsdr10xm_stdpz[tx[0]]\n",
    "    rmag = lsdr10xm_rmag[tx[0]]\n",
    "    gtype = lsdr10xm_type[tx[0]]\n",
    "    shaper = lsdr10xm_shaper[tx[0]]\n",
    "    rpsfsize = lsdr10xm_rpsfsize[tx[0]]\n",
    "    ar = 0.0\n",
    "    if pz > 0.0:\n",
    "        dm = 5. * np.log10(cosmo.luminosity_distance(pz).value) + 25.\n",
    "        ar = mr - dm\n",
    "    else:\n",
    "        shaper = rpsfsize\n",
    "        pz = 0.0\n",
    "        stdpz = 0.0\n",
    "        ar = 0.0\n",
    "    # print('%10s & %5.2f & %3s & %4.2f & %5.2f & %4.2f$\\\\pm$%4.2f & %5.1f \\\\\\\\' % (candid, mr, gtype, shaper, rmag, pz, stdpz, ar))\n",
    "    print('%10s & %5.2f & %3s & %5.2f & %4.2f$\\\\pm$%4.2f & %5.1f \\\\\\\\' % (candid, mr, gtype, rmag, pz, stdpz, ar))"
   ]
  },
  {
   "cell_type": "markdown",
   "id": "07aa2568-26bb-42d0-84b5-93443894c778",
   "metadata": {
    "tags": []
   },
   "source": [
    "### Histograms of xmatch results\n",
    "\n",
    "Plot some histograms to compare the cross-matched stars and galaxies."
   ]
  },
  {
   "cell_type": "code",
   "execution_count": 14,
   "id": "1abe7357-f08a-4fe2-a8e4-ba60fe42a47a",
   "metadata": {
    "tags": []
   },
   "outputs": [
    {
     "data": {
      "image/png": "[encoded data removed]",
      "text/plain": [
       "<Figure size 600x300 with 1 Axes>"
      ]
     },
     "metadata": {},
     "output_type": "display_data"
    },
    {
     "data": {
      "image/png": "[encoded data removed]",
      "text/plain": [
       "<Figure size 600x300 with 1 Axes>"
      ]
     },
     "metadata": {},
     "output_type": "display_data"
    },
    {
     "data": {
      "image/png": "[encoded data removed]",
      "text/plain": [
       "<Figure size 600x300 with 1 Axes>"
      ]
     },
     "metadata": {},
     "output_type": "display_data"
    },
    {
     "data": {
      "image/png": "[encoded data removed]",
      "text/plain": [
       "<Figure size 600x300 with 1 Axes>"
      ]
     },
     "metadata": {},
     "output_type": "display_data"
    }
   ],
   "source": [
    "gx = np.where(lsdr10xm_flagstar == 0)[0]\n",
    "sx = np.where(lsdr10xm_flagstar == 1)[0]\n",
    "tx = np.where(lsdr10xm_mindex >= 0)[0]\n",
    "bx = np.where(lsdr10xm_flagstar[tx] == 0)[0]\n",
    "cx = np.where(lsdr10xm_flagstar[tx] == 1)[0]\n",
    "\n",
    "plt.figure(figsize=(6, 3))\n",
    "plt.hist(lsdr10xm_sep[gx], bins=400, histtype='step', color='darkgrey', lw=3, label='galaxy')\n",
    "plt.hist(lsdr10xm_sep[sx], bins=20, histtype='step', color='black', lw=1, label='star')\n",
    "for i in bx:\n",
    "    plt.axvline(lsdr10xm_sep[tx[i]], color='darkgrey', lw=1)\n",
    "for j in cx:\n",
    "    plt.axvline(lsdr10xm_sep[tx[j]], color='black', lw=1)\n",
    "plt.xlabel('separation')\n",
    "plt.xlim([-0.1, 4])\n",
    "plt.legend(loc='upper right')\n",
    "plt.show()\n",
    "\n",
    "plt.figure(figsize=(6, 3))\n",
    "plt.hist(lsdr10xm_shaper[gx], bins=400, histtype='step', color='darkgrey', lw=3, label='galaxy')\n",
    "plt.hist(lsdr10xm_rpsfsize[sx], bins=20, histtype='step', color='black', lw=1, label='star')\n",
    "for i in bx:\n",
    "    plt.axvline(lsdr10xm_shaper[tx[i]], color='darkgrey', lw=1)\n",
    "for j in cx:\n",
    "    plt.axvline(lsdr10xm_rpsfsize[tx[j]], color='black', lw=1)\n",
    "plt.xlabel('size')\n",
    "plt.xlim([-0.1, 4])\n",
    "plt.legend(loc='upper right')\n",
    "plt.show()\n",
    "\n",
    "plt.figure(figsize=(6, 3))\n",
    "plt.hist(lsdr10xm_sep[gx]/lsdr10xm_shaper[gx], bins=20, histtype='step', color='darkgrey', lw=3, label='galaxy')\n",
    "plt.hist(lsdr10xm_sep[sx]/lsdr10xm_rpsfsize[sx], bins=20, histtype='step', color='black', lw=1, label='star')\n",
    "for i in bx:\n",
    "    plt.axvline(lsdr10xm_sep[tx[i]]/lsdr10xm_shaper[tx[i]], color='darkgrey', lw=1)\n",
    "for j in cx:\n",
    "    plt.axvline(lsdr10xm_sep[tx[j]]/lsdr10xm_rpsfsize[tx[j]], color='black', lw=1)\n",
    "plt.xlabel('separation / size')\n",
    "plt.legend(loc='upper right')\n",
    "plt.show()\n",
    "\n",
    "plt.figure(figsize=(6, 3))\n",
    "plt.hist(lsdr10xm_rmag[gx], bins=20, histtype='step', color='darkgrey', lw=3, label='galaxy')\n",
    "plt.hist(lsdr10xm_rmag[sx], bins=20, histtype='step', color='black', lw=1, label='star')\n",
    "for i in bx:\n",
    "    plt.axvline(lsdr10xm_rmag[tx[i]], color='darkgrey', lw=1)\n",
    "for j in cx:\n",
    "    plt.axvline(lsdr10xm_rmag[tx[j]], color='black', lw=1)\n",
    "plt.xlabel('r-band apparent magnitude')\n",
    "plt.show()\n",
    "\n",
    "del tx, bx, cx"
   ]
  },
  {
   "cell_type": "markdown",
   "id": "d5768db5-8585-472e-ae9c-f30cc554c73f",
   "metadata": {},
   "source": [
    "## DC22ikidc\n",
    "\n",
    "What is it?\n",
    "\n",
    "First, write out some stuff about the Tractor match."
   ]
  },
  {
   "cell_type": "code",
   "execution_count": 15,
   "id": "2a1e0a6f-cb1e-40b0-8177-042e1f30aef7",
   "metadata": {
    "tags": []
   },
   "outputs": [
    {
     "name": "stdout",
     "output_type": "stream",
     "text": [
      "ELAIS\n",
      " DC22ikidc & 19.88 & REX & 0.56 & 21.35 & 0.22$\\pm$0.10 & -20.3 \\\\\n",
      "separation:  0.2\n",
      "abs mag range:  -18.848987528442233 -21.182045750497945 1.166529111027856\n"
     ]
    }
   ],
   "source": [
    "for candid in ['DC22ikidc']:\n",
    "\n",
    "    px = np.where(paramLC_candid == candid)[0]\n",
    "    print(paramLC_field[px[0]])\n",
    "    mr = paramLC_minmag_r[px[0]]\n",
    "    \n",
    "    tx = np.where(lsdr10xm_candid == candid)[0]\n",
    "    pz = lsdr10xm_meanpz[tx[0]]\n",
    "    stdpz = lsdr10xm_stdpz[tx[0]]\n",
    "    rmag = lsdr10xm_rmag[tx[0]]\n",
    "    gtype = lsdr10xm_type[tx[0]]\n",
    "    shaper = lsdr10xm_shaper[tx[0]]\n",
    "    rpsfsize = lsdr10xm_rpsfsize[tx[0]]\n",
    "    ar = 0.0\n",
    "    if pz > 0.0:\n",
    "        dm = 5. * np.log10(cosmo.luminosity_distance(pz).value) + 25.\n",
    "        ar = mr - dm\n",
    "        dm1 = 5. * np.log10(cosmo.luminosity_distance(pz-stdpz).value) + 25.\n",
    "        ar1 = mr - dm1\n",
    "        dm2 = 5. * np.log10(cosmo.luminosity_distance(pz+stdpz).value) + 25.\n",
    "        ar2 = mr - dm2\n",
    "    else:\n",
    "        shaper = rpsfsize\n",
    "        pz = 0.0\n",
    "        stdpz = 0.0\n",
    "        ar = 0.0\n",
    "    print('%10s & %5.2f & %3s & %4.2f & %5.2f & %4.2f$\\\\pm$%4.2f & %5.1f \\\\\\\\' % (candid, mr, gtype, shaper, rmag, pz, stdpz, ar))\n",
    "    # print('%10s & %5.2f & %3s & %5.2f & %4.2f$\\\\pm$%4.2f & %5.1f \\\\\\\\' % (candid, mr, gtype, rmag, pz, stdpz, ar))\n",
    "    print('separation: ', lsdr10xm_sep[tx[0]])\n",
    "    print('abs mag range: ', ar1, ar2, (ar1-ar2)/2)"
   ]
  },
  {
   "cell_type": "markdown",
   "id": "c0a6f75f-f8e5-4267-9f4f-8042e307ab5e",
   "metadata": {},
   "source": [
    "Compare to TDEs.\n",
    "\n",
    "iPTF16axa\n",
    "https://ui.adsabs.harvard.edu/abs/2017ApJ...842...29H/abstract\n",
    "\n",
    "ASASSN-14ae\n",
    "https://ui.adsabs.harvard.edu/abs/2014MNRAS.445.3263H/abstract\n",
    "\n",
    "AT2023clx\n",
    "https://ui.adsabs.harvard.edu/abs/2024arXiv240111773C/abstract"
   ]
  },
  {
   "cell_type": "code",
   "execution_count": 16,
   "id": "b5cd19b8-999b-4833-bd58-90a2f082c6db",
   "metadata": {
    "tags": []
   },
   "outputs": [
    {
     "name": "stdout",
     "output_type": "stream",
     "text": [
      "axa filters:  ['g' 'gp' 'i' 'ip' 'r' 'rp']\n",
      "a14ae filters:  ['g' 'i' 'r']\n",
      "clx filters:  ['r']\n"
     ]
    }
   ],
   "source": [
    "fnm = 'data_TDE/iPTF16axa_TDE_Hung17.dat'\n",
    "axa_mjd = np.loadtxt(fnm, dtype='float', usecols=(0))\n",
    "axa_mag = np.loadtxt(fnm, dtype='float', usecols=(1))\n",
    "axa_mage = np.loadtxt(fnm, dtype='float', usecols=(2))\n",
    "axa_filt = np.loadtxt(fnm, dtype='str', usecols=(3))\n",
    "del fnm\n",
    "print('axa filters: ', np.unique(axa_filt))\n",
    "\n",
    "fnm = 'data_TDE/ASASSN-14ae_TDE_Holoein14.dat'\n",
    "a14ae_mjd = np.loadtxt(fnm, dtype='float', usecols=(0))\n",
    "a14ae_filt = np.loadtxt(fnm, dtype='str', usecols=(1))\n",
    "a14ae_mag = np.loadtxt(fnm, dtype='float', usecols=(2))\n",
    "a14ae_mage = np.loadtxt(fnm, dtype='float', usecols=(3))\n",
    "del fnm\n",
    "print('a14ae filters: ', np.unique(a14ae_filt))\n",
    "\n",
    "fnm = 'data_TDE/AT2023clx_TDE_Charalampopoulos.dat'\n",
    "clx_mjd = np.loadtxt(fnm, dtype='float', usecols=(1))\n",
    "clx_filt = np.loadtxt(fnm, dtype='str', usecols=(4))\n",
    "clx_mag = np.loadtxt(fnm, dtype='float', usecols=(5))\n",
    "clx_mage = np.loadtxt(fnm, dtype='float', usecols=(6))\n",
    "del fnm\n",
    "print('clx filters: ', np.unique(clx_filt))"
   ]
  },
  {
   "cell_type": "code",
   "execution_count": 17,
   "id": "bd4616f8-b091-41f6-98e0-36e49689ffee",
   "metadata": {
    "tags": []
   },
   "outputs": [],
   "source": [
    "fnm = '../all_nightly_epochs_files/nightly_epoch_magnitude_limits.dat'\n",
    "neml_field = np.loadtxt(fnm, dtype='str', usecols=(0))\n",
    "neml_caldate = np.loadtxt(fnm, dtype='str', usecols=(1))\n",
    "neml_mjd = np.loadtxt(fnm, dtype='float', usecols=(2))\n",
    "neml_filter = np.loadtxt(fnm, dtype='str', usecols=(3))\n",
    "neml_nimgs = np.loadtxt(fnm, dtype='int', usecols=(4))\n",
    "neml_limmag = np.loadtxt(fnm, dtype='float', usecols=(5))\n",
    "neml_limmage = np.loadtxt(fnm, dtype='float', usecols=(6))\n",
    "del fnm"
   ]
  },
  {
   "cell_type": "code",
   "execution_count": 25,
   "id": "8c74c272-b58f-46fc-bfe0-b12693f366c8",
   "metadata": {
    "tags": []
   },
   "outputs": [
    {
     "data": {
      "image/png": "[encoded data removed]",
      "text/plain": [
       "<Figure size 600x400 with 1 Axes>"
      ]
     },
     "metadata": {},
     "output_type": "display_data"
    }
   ],
   "source": [
    "fig = plt.figure(figsize=(6, 4))\n",
    "\n",
    "candid = 'DC22ikidc'\n",
    "for f,filt in enumerate(all_filters):\n",
    "    if f == 1:\n",
    "        cx0 = np.where((candLC_candid == candid) & \\\n",
    "                       (candLC_filter == filt) & (candLC_mrb > 0.4))[0]\n",
    "        mindate = np.min(candLC_mjd[cx0])\n",
    "        cx1 = np.where((candLC_candid == candid) & \\\n",
    "                       (candLC_filter == filt) & (candLC_mrb <= 0.4) & (candLC_lef == 0))[0]\n",
    "        cx2 = np.where((candLC_candid == candid) & \\\n",
    "                       (candLC_filter == filt) & (candLC_mrb <= 0.4) & (candLC_lef == 1))[0]\n",
    "        # plt.plot(candLC_mjd[cx0], candLC_mag[cx0], \n",
    "        #              all_fshapes[f], ms=all_fsizes[f], mew=0, alpha=0.8, color=all_fcolors[f], label='DC22ikidc, '+filt)\n",
    "        plt.errorbar(candLC_mjd[cx0]-mindate, candLC_mag[cx0], yerr=candLC_mage[cx0],\n",
    "                     fmt=all_fshapes[f], ms=all_fsizes[f], mew=0, alpha=1, color=all_fcolors[f], label='DC22ikidc, '+filt)\n",
    "        plt.plot(candLC_mjd[cx1]-mindate, candLC_mag[cx1], \n",
    "                     all_fshapes[f], ms=all_fsizes[f], mew=1, alpha=0.8, color='none', mec=all_fcolors[f])\n",
    "        plt.plot(candLC_mjd[cx2]-mindate, candLC_mag[cx2], \n",
    "                     all_fshapes[f], ms=all_fsizes[f]-1, mew=0, alpha=0.4, color=all_fcolors[f])\n",
    "\n",
    "### plot limits\n",
    "# tx = np.where((neml_field == 'ELAIS') & (neml_filter == 'r'))[0]\n",
    "# # tx = np.where(neml_field == 'ELAIS')[0]\n",
    "# epochs = neml_mjd[tx] - mindate\n",
    "# lims = neml_limmag[tx]\n",
    "# del tx\n",
    "# plt.plot(epochs, lims, 'v', ms=2, color='grey')\n",
    "# del epochs, lims\n",
    "\n",
    "tx = np.where((axa_filt == 'r') | (axa_filt == 'rp'))[0]\n",
    "temp = np.min(axa_mjd[tx])\n",
    "plt.errorbar(axa_mjd[tx] - temp, axa_mag[tx], yerr=axa_mage[tx], fmt='*', ms=8, alpha=0.5, color='darkorange', mew=0, label='iPTF16axa, r')\n",
    "del tx, temp\n",
    "\n",
    "tx = np.where(a14ae_filt == 'r')[0]\n",
    "temp = np.min(a14ae_mjd[tx])\n",
    "plt.errorbar(a14ae_mjd[tx] - temp, a14ae_mag[tx] + 3.5, yerr=a14ae_mage[tx], fmt='^', alpha=0.5, color='magenta', mew=0, label='ASASSN-14ae, r+3.5')\n",
    "del tx, temp\n",
    "\n",
    "# temp = np.min(clx_mjd)\n",
    "# plt.errorbar(clx_mjd - temp, clx_mag + 4.0, yerr=clx_mage, fmt='v', alpha=0.5, color='black', mew=0, label='AT2023clx, r+4.0')\n",
    "# del temp\n",
    "\n",
    "# plt.xlim([59955, 60100])\n",
    "plt.xlim([-5, 120])\n",
    "plt.ylim([23.5, 19.5])\n",
    "# plt.title(candid)\n",
    "# plt.legend(loc='lower left', labelspacing=0.2, handletextpad=0.1, fontsize=12)\n",
    "plt.xlabel('days since detection', fontsize=12)\n",
    "plt.ylabel('magnitude', fontsize=12)\n",
    "plt.tight_layout()\n",
    "plt.savefig('plots/DC22ikidc')\n",
    "plt.show()"
   ]
  },
  {
   "cell_type": "code",
   "execution_count": null,
   "id": "7f95803f-37eb-42e4-b88e-af30a06db172",
   "metadata": {},
   "outputs": [],
   "source": []
  },
  {
   "cell_type": "code",
   "execution_count": null,
   "id": "9a9339aa-74ab-4016-997c-2ee8070492c1",
   "metadata": {},
   "outputs": [],
   "source": []
  }
 ],
 "metadata": {
  "kernelspec": {
   "display_name": "NERSC Python",
   "language": "python",
   "name": "python3"
  },
  "language_info": {
   "codemirror_mode": {
    "name": "ipython",
    "version": 3
   },
   "file_extension": ".py",
   "mimetype": "text/x-python",
   "name": "python",
   "nbconvert_exporter": "python",
   "pygments_lexer": "ipython3",
   "version": "3.11.7"
  }
 },
 "nbformat": 4,
 "nbformat_minor": 5
}
