{
 "cells": [
  {
   "cell_type": "markdown",
   "id": "719eaba5-792c-4a97-b25e-4ba1cbf6ce62",
   "metadata": {},
   "source": [
    "This notebook looks at how many \"good\" (R/B > 0.6) objects are found per COSMOS field image, and at how a candidate's average R/B score is correlated to the number of times it is detected."
   ]
  },
  {
   "cell_type": "code",
   "execution_count": null,
   "id": "1d5ad029-4314-4ec9-b4b8-c787f8a946ac",
   "metadata": {},
   "outputs": [],
   "source": [
    "# Login and database access\n",
    "import psycopg2\n",
    "import psycopg2.extras\n",
    "import getpass\n",
    "\n",
    "# Plotting\n",
    "import matplotlib.pyplot as plt\n",
    "import matplotlib as mpl\n",
    "\n",
    "# Math\n",
    "import numpy as np\n",
    "import pandas as pd\n",
    "\n",
    "# Custom\n",
    "from decam_utils import *"
   ]
  },
  {
   "cell_type": "code",
   "execution_count": null,
   "id": "418cee30-61e3-4574-8212-0afc91e6728d",
   "metadata": {},
   "outputs": [],
   "source": [
    "dbuser = input(\"DB User: \")\n",
    "dbpasswd = getpass.getpass(\"DB Password: \")"
   ]
  },
  {
   "cell_type": "code",
   "execution_count": null,
   "id": "b8be453e-8b44-4e69-a0c5-9e10f19ce76c",
   "metadata": {},
   "outputs": [],
   "source": [
    "db = psycopg2.connect(f\"dbname='decat' user='{dbuser}' password='{dbpasswd}' host='decatdb.lbl.gov'\")"
   ]
  },
  {
   "cell_type": "code",
   "execution_count": null,
   "id": "d1d26658-0103-4589-ac0a-82fef0101821",
   "metadata": {},
   "outputs": [],
   "source": [
    "db.autocommit = True # Makes the computer nicer about SQL syntax errors\n",
    "\n",
    "cursor = db.cursor( cursor_factory = psycopg2.extras.DictCursor )"
   ]
  },
  {
   "cell_type": "code",
   "execution_count": null,
   "id": "b57d9434-5bb4-4268-a91f-2116adef3727",
   "metadata": {},
   "outputs": [],
   "source": [
    "font = {'size'   : 16}\n",
    "\n",
    "mpl.rc('font', **font)"
   ]
  },
  {
   "cell_type": "markdown",
   "id": "1867e64b-2bb4-4e7c-b6de-b77c8717d04e",
   "metadata": {},
   "source": [
    "#### How many \"Good\" (R/B>0.6) sources are identified per subtraction? (COSMOS)"
   ]
  },
  {
   "cell_type": "code",
   "execution_count": null,
   "id": "8b7ef193-0a1f-4364-90ac-2c1b4a0963be",
   "metadata": {},
   "outputs": [],
   "source": [
    "query = ( 'SELECT id, subtraction_id, candidate_id, o.rb FROM objects o '\n",
    "         'WHERE q3c_radial_query(o.ra,o.dec,150,2.2,3) '\n",
    "         'AND o.rb>0.6 '\n",
    "         'LIMIT 10000000')\n",
    "\n",
    "cursor.execute( query )\n",
    "\n",
    "oidsidcid = np.array( cursor.fetchall() ).transpose()"
   ]
  },
  {
   "cell_type": "code",
   "execution_count": null,
   "id": "b34ff4a3-89af-45a4-a70c-89842fcc4aed",
   "metadata": {},
   "outputs": [],
   "source": [
    "oidsidcid = rm_dupes(oidsidcid,0)"
   ]
  },
  {
   "cell_type": "code",
   "execution_count": null,
   "id": "d110eab8-41af-43dd-8955-7b8ba5d0141e",
   "metadata": {},
   "outputs": [],
   "source": [
    "# Find out how many objects are present in each subtraction (objspersub)\n",
    "imgs, objspersub = np.unique( oidsidcid[1], return_counts=True )"
   ]
  },
  {
   "cell_type": "code",
   "execution_count": null,
   "id": "c1ad1a28-37d4-43a1-86e7-09e72d94e3d8",
   "metadata": {},
   "outputs": [],
   "source": [
    "# Throw that data into a histogram\n",
    "plt.figure( figsize = (8,5) )\n",
    "plt.ylabel( \"Number of subtraction ids\" )\n",
    "plt.xlabel( \"Objects per subtraction id\" )\n",
    "plt.hist( objspersub, bins=150 )\n",
    "plt.xlim( 0, 30 )\n",
    "print( \"Median is %i objects per subtraction\" % ( np.median( objspersub ) ) )\n",
    "print( \"Mean is %f objects per subtraction\" % ( np.mean( objspersub ) ) )\n",
    "print( \"Max is %i objects per subtraction\" % ( np.max( objspersub ) ) )\n",
    "print( \"Min is %i object(s) per subtraction\" % ( np.min( objspersub ) ) )"
   ]
  },
  {
   "cell_type": "markdown",
   "id": "c42dfd63-3892-4f41-a889-64c5778b70ee",
   "metadata": {},
   "source": [
    "#### How many images have been processed so far? (COSMOS)"
   ]
  },
  {
   "cell_type": "code",
   "execution_count": null,
   "id": "a400c3bf-6250-42ae-a306-54b183e5b601",
   "metadata": {},
   "outputs": [],
   "source": [
    "query = ( 'SELECT exposure_id FROM subtractions s '\n",
    "         'WHERE q3c_radial_query(s.ra,s.dec,150,2.2,3) ' \n",
    "         'LIMIT 10000000' )\n",
    "\n",
    "cursor.execute( query )\n",
    "\n",
    "totsub = cursor.fetchall()"
   ]
  },
  {
   "cell_type": "code",
   "execution_count": null,
   "id": "800f6b71-5db3-462a-ac5b-b81742f61145",
   "metadata": {},
   "outputs": [],
   "source": [
    "len( np.unique( totsub ) )"
   ]
  },
  {
   "cell_type": "markdown",
   "id": "cbdd842b-4dd8-4d49-a7ba-1033a6c08461",
   "metadata": {},
   "source": [
    "#### How many exposures have been taken? (COSMOS)"
   ]
  },
  {
   "cell_type": "code",
   "execution_count": null,
   "id": "f4262a2b-655a-4269-a9e8-316c235dbae3",
   "metadata": {},
   "outputs": [],
   "source": [
    "query = ( 'SELECT COUNT(*) FROM exposures e '\n",
    "         'WHERE q3c_radial_query(e.ra,e.dec,150,2.2,3) '\n",
    "         'LIMIT 10000000' )\n",
    "\n",
    "cursor.execute( query )\n",
    "\n",
    "totexp = cursor.fetchall()[0][0]"
   ]
  },
  {
   "cell_type": "code",
   "execution_count": null,
   "id": "e706a858-bb49-4869-8a95-e1f134add432",
   "metadata": {},
   "outputs": [],
   "source": [
    "totexp"
   ]
  },
  {
   "cell_type": "markdown",
   "id": "90660915-9108-4d18-b718-75ea9912802d",
   "metadata": {},
   "source": [
    "#### How many \"Good\" (R/B>0.6) sources are identified per exposure? (COSMOS & ELIAS)"
   ]
  },
  {
   "cell_type": "code",
   "execution_count": null,
   "id": "a4dddaad-dabc-4404-bde4-d7c9af9a1d61",
   "metadata": {},
   "outputs": [],
   "source": [
    "query = ( 'SELECT o.subtraction_id, o.id, s.exposure_id, e.filter, o.candidate_id, o.rb FROM objects o '\n",
    "         'JOIN subtractions s ON o.subtraction_id=s.id '\n",
    "         'JOIN exposures e ON s.exposure_id=e.id '\n",
    "         'WHERE q3c_radial_query(o.ra,o.dec,150,2.2,3) ' \n",
    "         'AND o.rb>0.6 '\n",
    "         'LIMIT 10000000' )\n",
    "\n",
    "cursor.execute( query )\n",
    "\n",
    "Copiquery = np.array( cursor.fetchall() ).transpose()\n",
    "\n",
    "query = ( 'SELECT o.subtraction_id, o.id, s.exposure_id, e.filter, o.candidate_id, o.rb FROM objects o '\n",
    "         'JOIN subtractions s ON o.subtraction_id=s.id '\n",
    "         'JOIN exposures e ON s.exposure_id=e.id '\n",
    "         'WHERE q3c_radial_query(o.ra,o.dec,8.5,-43.5,2) '\n",
    "         'AND o.rb>0.6 '\n",
    "         'LIMIT 10000000' )\n",
    "\n",
    "cursor.execute( query )\n",
    "\n",
    "Eopiquery = np.array( cursor.fetchall() ).transpose()"
   ]
  },
  {
   "cell_type": "code",
   "execution_count": null,
   "id": "54fee456-843a-43ce-b461-f369ae0b4050",
   "metadata": {},
   "outputs": [],
   "source": [
    "Copiquery = rm_dupes( Copiquery, 1 )\n",
    "Eopiquery = rm_dupes( Eopiquery, 1 )"
   ]
  },
  {
   "cell_type": "code",
   "execution_count": null,
   "id": "08fd3867-a508-42d1-b694-7d9666f6a311",
   "metadata": {},
   "outputs": [],
   "source": [
    "filters = Copiquery[3]\n",
    "# Creating masks for each filter\n",
    "Cgmsk = np.where( filters == 'g' )[0]\n",
    "Crmsk = np.where( filters == 'r' )[0]\n",
    "Cimsk = np.where( filters == 'i' )[0]\n",
    "\n",
    "filters = Eopiquery[3]\n",
    "# Creating masks for each filter\n",
    "Egmsk = np.where( filters == 'g' )[0]\n",
    "Ermsk = np.where( filters == 'r' )[0]\n",
    "Eimsk = np.where( filters == 'i' )[0]"
   ]
  },
  {
   "cell_type": "code",
   "execution_count": null,
   "id": "c0033e4a-ec86-467c-86e5-ef56887219fd",
   "metadata": {},
   "outputs": [],
   "source": [
    "# Count frequencies of exposure IDs to find out how many objects come from each exposure in each of the three filters (COSMOS)\n",
    "exp, opigc = np.unique( Copiquery[2][Cgmsk], return_counts=True )\n",
    "exp, opirc = np.unique( Copiquery[2][Crmsk], return_counts=True )\n",
    "exp, opiic = np.unique( Copiquery[2][Cimsk], return_counts=True )\n",
    "del exp\n",
    "opic = [opigc,  opirc, opiic]\n",
    "\n",
    "# Count frequencies of exposure IDs to find out how many objects come from each exposure in each of the three filters (ELIAS)\n",
    "exp, opige = np.unique( Eopiquery[2][Egmsk], return_counts=True )\n",
    "exp, opire = np.unique( Eopiquery[2][Ermsk], return_counts=True )\n",
    "exp, opiie = np.unique( Eopiquery[2][Eimsk], return_counts=True )\n",
    "del exp\n",
    "opie = [opige,  opire, opiie]"
   ]
  },
  {
   "cell_type": "code",
   "execution_count": null,
   "id": "644c1d32-118d-4fbc-8fad-61799eb640f7",
   "metadata": {
    "tags": []
   },
   "outputs": [],
   "source": [
    "# Plotting\n",
    "fig, ax = plt.subplots(1,3, figsize=(15,5), sharex=True)\n",
    "bins = np.histogram(opigc, bins=40)[1]\n",
    "c = ['darkgreen', 'red', 'brown', 'limegreen', 'darkorange', 'peru']\n",
    "\n",
    "for i in [0,1,2]:\n",
    "    ax[i].xaxis.set_tick_params(which='both', labelbottom=True)\n",
    "    ax[i].hist( [opic[i],opie[i]], bins, stacked=True, color=[c[i],c[i+3]], label=['COSMOS','ELAIS'])\n",
    "    ax[i].set_xlabel( \"Sources per image\" )\n",
    "    ax[i].set_ylabel( \"Number of images\" )\n",
    "    ax[i].set_ylim(0,70)\n",
    "    ax[i].legend()\n",
    "\n",
    "fig.tight_layout()\n",
    "plt.savefig(\"./images/srcsperimghist_COSMOS\")"
   ]
  },
  {
   "cell_type": "markdown",
   "id": "381f828f-57cf-4348-a518-8a15f5b1a6dc",
   "metadata": {},
   "source": [
    "#### How are R/B scores associated with the number of times a candidate is detected? (COSMOS)"
   ]
  },
  {
   "cell_type": "code",
   "execution_count": null,
   "id": "f3a3b5b7-4a81-4b31-b458-e2fd70706273",
   "metadata": {},
   "outputs": [],
   "source": [
    "ff = [\"g\", \"r\", \"i\"]\n",
    "Crbs_mean = np.empty(3, dtype=object)\n",
    "Crbs_median = np.empty(3, dtype=object)\n",
    "Cnum = np.empty(3, dtype=object)\n",
    "\n",
    "for i in [0,1,2]: # Looping through g,r,i\n",
    "    query = ('SELECT o.candidate_id, o.rb, e.id FROM objects o '\n",
    "             'JOIN subtractions s ON o.subtraction_id=s.id '\n",
    "             'JOIN exposures e ON s.exposure_id=e.id '\n",
    "             'WHERE rb > 0.6 '\n",
    "             'AND e.filter=%s '\n",
    "             'AND q3c_radial_query(o.ra,o.dec,150,2.2,3) '\n",
    "             'LIMIT 10000000')\n",
    "\n",
    "    cursor.execute( query, ( ff[i], ) )\n",
    "\n",
    "    Ccndrb = np.array( cursor.fetchall() ).transpose()\n",
    "    Ccndrb = rm_dupes( Ccndrb )[:2] # Remove duplicates, then drop the expid column, no longer needed\n",
    "    \n",
    "    Ccndrb_df = pd.DataFrame( Ccndrb.transpose(), columns=[\"Candidate ID\", \"RB score\"] ).sort_values(by=\"Candidate ID\")\n",
    "\n",
    "    # Get a list of all unique candidates (candids) and the number of objects associated with each (numobjs)\n",
    "    Ccandids, Cnumobjs = np.unique( Ccndrb_df[\"Candidate ID\"], return_counts=True )\n",
    "\n",
    "    # An array of R/B scores as floats instead of strings\n",
    "    Crbs_raw = np.asarray( Ccndrb_df[\"RB score\"].astype(np.float64) )\n",
    "    \n",
    "    # Slice the R/B array into segments by candidate ID (using the number of objects per candidate determined earlier)\n",
    "    # Basically, if a candidate has n objects, it selects the next n R/B scores as belonging to that candidate\n",
    "    # then takes a mean & median for each candidate\n",
    "    Crbs_mean[i] = [ np.mean( Crbs_raw[ np.sum(Cnumobjs[0:i]):np.sum(Cnumobjs[0:i+1]) ] ) for i in range(len( Ccandids ))]\n",
    "    Crbs_median[i] = [ np.median( Crbs_raw[ np.sum(Cnumobjs[0:i]):np.sum(Cnumobjs[0:i+1]) ] ) for i in range(len( Ccandids ))]\n",
    "    Cnum[i] = Cnumobjs"
   ]
  },
  {
   "cell_type": "code",
   "execution_count": null,
   "id": "360bb655-f7ad-4b52-970d-ee15198e051d",
   "metadata": {},
   "outputs": [],
   "source": [
    "# Plotting the mean results\n",
    "c = ['darkgreen', 'red', 'brown', 'limegreen', 'darkorange', 'peru']\n",
    "\n",
    "fig, ax = plt.subplots(1,3,figsize=(15,5))\n",
    "for i in [0,1,2]:\n",
    "    ax[i].semilogx( Cnum[i], Crbs_mean[i],  alpha=0.01, ls=\"\", marker = 'o', color=c[i])\n",
    "    ax[i].set_xlabel( \"Number of detections\" )\n",
    "    ax[i].set_ylabel( \"Average rb score\" )\n",
    "plt.tight_layout()\n",
    "plt.savefig(\"./images/candrbVnum_COSMOS\")"
   ]
  },
  {
   "cell_type": "code",
   "execution_count": null,
   "id": "87a7ca72-d0ef-450e-acf0-ab3b1b31c381",
   "metadata": {},
   "outputs": [],
   "source": [
    "cmaps = [\"Greens\", \"Reds\", \"YlOrBr\"]\n",
    "\n",
    "fig, ax = plt.subplots(1,3,figsize=(15,5))\n",
    "for i in [0,1,2]:\n",
    "    ax[i].hexbin( Cnum[i], Crbs_mean[i], xscale='log', bins='log', gridsize=40, cmap=cmaps[i] )\n",
    "    ax[i].set_xlabel( \"Number of detections\" )\n",
    "    ax[i].set_ylabel( \"Average rb score\" )\n",
    "plt.tight_layout()\n",
    "# plt.savefig(\"./RBhexbin\")"
   ]
  },
  {
   "cell_type": "code",
   "execution_count": null,
   "id": "ff5b27bf-4d8e-4d17-8e88-9f9784626f1f",
   "metadata": {},
   "outputs": [],
   "source": []
  }
 ],
 "metadata": {
  "kernelspec": {
   "display_name": "Python 3",
   "language": "python",
   "name": "python3"
  },
  "language_info": {
   "codemirror_mode": {
    "name": "ipython",
    "version": 3
   },
   "file_extension": ".py",
   "mimetype": "text/x-python",
   "name": "python",
   "nbconvert_exporter": "python",
   "pygments_lexer": "ipython3",
   "version": "3.7.4"
  }
 },
 "nbformat": 4,
 "nbformat_minor": 5
}
