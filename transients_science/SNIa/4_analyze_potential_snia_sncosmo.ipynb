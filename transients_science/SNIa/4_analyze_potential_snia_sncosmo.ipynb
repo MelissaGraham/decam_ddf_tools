{
 "cells": [
  {
   "cell_type": "markdown",
   "id": "78028554-e03f-43d8-ade8-eae961e01340",
   "metadata": {
    "tags": []
   },
   "source": [
    "# Analyze the fit results from `sncosmo`\n",
    "\n",
    "Authors: Midori Rollins and Melissa Graham\n",
    "\n"
   ]
  },
  {
   "cell_type": "markdown",
   "id": "2eb32894-aa32-441a-9681-f10e255bb987",
   "metadata": {},
   "source": [
    "## Set up and read in the data\n",
    "\n",
    "Import packages."
   ]
  },
  {
   "cell_type": "code",
   "execution_count": null,
   "id": "2c159a03-6baf-4cfc-ae6d-066fb60a0d4b",
   "metadata": {
    "tags": []
   },
   "outputs": [],
   "source": [
    "import numpy as np\n",
    "import matplotlib.pyplot as plt\n",
    "import time\n",
    "import os\n",
    "\n",
    "from astropy.cosmology import FlatLambdaCDM\n",
    "import astropy.units as u\n",
    "cosmo = FlatLambdaCDM(H0=70 * u.km / u.s / u.Mpc, Tcmb0=2.725 * u.K, Om0=0.3)"
   ]
  },
  {
   "cell_type": "markdown",
   "id": "c31530c8-7045-40c4-8de9-de7dfb4f3076",
   "metadata": {},
   "source": [
    "Read in the `sncosmo` results."
   ]
  },
  {
   "cell_type": "code",
   "execution_count": null,
   "id": "19f6ee8c-0297-4136-9fb1-8676174a9d27",
   "metadata": {
    "tags": []
   },
   "outputs": [],
   "source": [
    "fnm = '2_all_potential_snia_fits/results_sncosmos.dat'\n",
    "\n",
    "fit_cand = np.loadtxt(fnm, dtype='str', usecols=(0))\n",
    "fit_est_z = np.loadtxt(fnm, dtype='float', usecols=(1))\n",
    "fit_in_zlo = np.loadtxt(fnm, dtype='float', usecols=(2))\n",
    "fit_in_zhi = np.loadtxt(fnm, dtype='float', usecols=(3))\n",
    "fit_z = np.loadtxt(fnm, dtype='float', usecols=(4))\n",
    "fit_ze = np.loadtxt(fnm, dtype='float', usecols=(5))\n",
    "fit_t0 = np.loadtxt(fnm, dtype='float', usecols=(6))\n",
    "fit_t0e = np.loadtxt(fnm, dtype='float', usecols=(7))\n",
    "fit_x0 = np.loadtxt(fnm, dtype='float', usecols=(8))\n",
    "fit_x0e = np.loadtxt(fnm, dtype='float', usecols=(9))\n",
    "fit_x1 = np.loadtxt(fnm, dtype='float', usecols=(10))\n",
    "fit_x1e = np.loadtxt(fnm, dtype='float', usecols=(11))\n",
    "fit_c = np.loadtxt(fnm, dtype='float', usecols=(12))\n",
    "fit_ce = np.loadtxt(fnm, dtype='float', usecols=(13))\n",
    "\n",
    "fit_pmB = np.loadtxt(fnm, dtype='float', usecols=(14))\n",
    "fit_pmg = np.loadtxt(fnm, dtype='float', usecols=(15))\n",
    "fit_pmr = np.loadtxt(fnm, dtype='float', usecols=(16))\n",
    "fit_pmi = np.loadtxt(fnm, dtype='float', usecols=(17))\n",
    "\n",
    "del fnm"
   ]
  },
  {
   "cell_type": "markdown",
   "id": "b10a1232-63df-4df5-98ec-4179093ae6dc",
   "metadata": {},
   "source": [
    "And the review flags."
   ]
  },
  {
   "cell_type": "code",
   "execution_count": null,
   "id": "4e0a8861-5562-4df6-868b-1a688bcbf400",
   "metadata": {
    "tags": []
   },
   "outputs": [],
   "source": [
    "fnm = '2_all_potential_snia_fits/MLG_review_ratings.txt'\n",
    "mlg_review_candid = np.loadtxt(fnm, dtype='str', usecols=(0))\n",
    "mlg_review_flag = np.loadtxt(fnm, dtype='int', usecols=(1))\n",
    "del fnm\n",
    "\n",
    "fit_mlgflag = np.zeros(len(fit_cand), dtype='int') - 1\n",
    "for c, candid in enumerate(fit_cand):\n",
    "    tx = np.where(candid == mlg_review_candid)[0]\n",
    "    if len(tx) == 1:\n",
    "        fit_mlgflag[c] = mlg_review_flag[tx[0]]\n",
    "    del tx"
   ]
  },
  {
   "cell_type": "code",
   "execution_count": null,
   "id": "c65f7c45-c439-4c6a-9f4b-d3a0408848f5",
   "metadata": {
    "tags": []
   },
   "outputs": [],
   "source": [
    "fnm = '2_all_potential_snia_fits/MR_review_ratings.txt'\n",
    "mr_rating_candid = np.loadtxt(fnm, dtype='str', usecols=(0))\n",
    "mr_rating_flag   = np.loadtxt(fnm, dtype='int', usecols=(1))\n",
    "del fnm\n",
    "\n",
    "fit_mrflag = np.zeros(len(fit_cand), dtype='int') - 1\n",
    "for c, candid in enumerate(fit_cand):\n",
    "    tx = np.where(candid == mr_rating_candid)[0]\n",
    "    if len(tx) == 1:\n",
    "        fit_mrflag[c] = mr_rating_flag[tx]\n",
    "    del tx"
   ]
  },
  {
   "cell_type": "markdown",
   "id": "ccc5a5df-5a73-4da5-ac83-a7486b91120f",
   "metadata": {},
   "source": [
    "## A primer on the SALT2 fit parameters\n",
    "\n",
    "We have used `sncosmo` with the SALT-2 lightcurve fitter,\n",
    "(<a href=\"https://ui.adsabs.harvard.edu/abs/2007A%26A...466...11G/abstract\">Guy et al. 2007</a>).\n",
    "\n",
    "The five fit parameters are:\n",
    " * `z`  : redshift\n",
    " * `t0` : time of peak brightness (MJD)\n",
    " * `x0` : flux normalization (a proxy for peak brightness)\n",
    " * `x1` : a proxy for lightcurve decline rate (or stretch factor)\n",
    " * `c`  : color offset\n",
    " \n",
    "### `z` and `t0`\n",
    "\n",
    "These two are standard, self-explanatory parameters and do not need any further conversions.\n",
    "\n",
    "### `x0` \n",
    "\n",
    "This is the SED normalization in the SALT2 fits, and a conversion from it to \n",
    "peak apparent brightness can be done with \n",
    "$m_{B} = −2.5\\log(x_{0}) + 10.635$ \n",
    "from <a href=\"https://arxiv.org/abs/1401.4065\">Mosher et al. (2014)</a>.\n",
    "\n",
    "However, this isn't necessary as the peak brightness in Bessel B, and sdss g, r, and i \n",
    "are all in the fit results file already.\n",
    "\n",
    "\n",
    "### `x1`\n",
    "\n",
    "#### Decline rate\n",
    "\n",
    "$\\Delta m_{15}$ is the change in magnitude (it is standard to report this in the B-band)\n",
    "during the first 15 days after peak brightness, and is commonly refered to as the\n",
    "decline rate.\n",
    "\n",
    "Section 5 of Guy+07 gives the conversion between $x_1$ and $\\Delta m_{15}$ as:\n",
    "\n",
    "> $\\Delta m_{15} = 1.09 - 0.161x_{1} + 0.013x_{1}^{2} - 0.00130x_{1}^{3}$\n",
    "\n",
    "SNIa with a larger value of $\\Delta m_{15}$ decline faster, and typically have reached\n",
    "fainter peak brightness.\n",
    "\n",
    "#### Stretch\n",
    "\n",
    "The stretch parameter, $s$, is another parameterization of the width or decline rate\n",
    "of the SNIa which also incorporates the rise time, and was defined in\n",
    "<a href=\"https://ui.adsabs.harvard.edu/abs/1997ApJ...483..565P/abstract\">Perlmutter et al. 1997</a>.\n",
    "\n",
    "Section 5 of Guy+07 gives the conversion between $x_1$ and $s$ as:\n",
    "\n",
    "> $s = 0.98 + 0.091 x_1 + 0.003 x_1^2 - 0.00075 x_1^3$\n",
    "\n",
    "SNIa with a larger stretch value have a narrower-width lightcurve that has reached a fainter peak.\n",
    "\n",
    "\n",
    "### `c` \n",
    "\n",
    "Section 2 of Guy+07 describes this as \n",
    "*\"...a color offset with respect to the average at the date maximum luminosity in B-band, \n",
    "$c = (B-V)_{\\rm MAX} - \\left< B-V \\right>$ ...\"*.\n",
    "\n",
    "In this case, $(B-V)_{\\rm MAX}$ is the color of the fit SNIa at maximum, \n",
    "and $\\left< B-V \\right>$ is the average color for SNIa in general.\n",
    "\n",
    "What does the value of $c$ indicate about the fit SNIa's color? Let's reason it out:\n",
    " * When $c < 0$, that means $(B-V)_{\\rm MAX} < \\left< B-V \\right>$.\n",
    " * The fit SNIa has a $B-V$ value that is lower than average.\n",
    " * This means either $B$ is smaller or $V$ is larger.\n",
    " * Since we're in magnitudes, that means $B$ is brighter or $V$ is fainter.\n",
    " * And $B$ being brighter or $V$ being fainter means the SNIa is *bluer*.\n",
    " * So when $c < 0$, the fit SNIa is bluer than a typical SNIa.\n",
    " * And vice versa, when $c > 0$ the fit SNIa is redder than a typical SNIa.\n",
    "\n",
    "This is important to understand because SNIa that are intrinsically brighter are bluer,\n",
    "and we should see this correlation in our fit results."
   ]
  },
  {
   "cell_type": "markdown",
   "id": "baed18a1-7823-4a17-9e7e-ab42f2664a37",
   "metadata": {},
   "source": [
    "## Convert parameters and calculate errors\n",
    "\n",
    "### Convert `x1` to $\\Delta m_{15}$ and stretch\n",
    "\n",
    "Determine the error values analytically.\n",
    "\n",
    "#### $\\Delta m_{15}$"
   ]
  },
  {
   "cell_type": "code",
   "execution_count": null,
   "id": "fb544d4f-1493-4e16-8fa2-417e53f1e4e2",
   "metadata": {
    "tags": []
   },
   "outputs": [],
   "source": [
    "fit_dm15 = 1.09 - 0.161*fit_x1 + 0.013*fit_x1**2 - 0.00130*fit_x1**3\n",
    "fit_dm15e = np.zeros(len(fit_dm15), dtype='float')\n",
    "for c in range(len(fit_dm15)):\n",
    "    if fit_x1e[c] > 0:\n",
    "        temp = np.random.normal(loc=fit_x1[c], scale=fit_x1e[c], size=10000)\n",
    "        temp2 = 1.09 - 0.161*temp + 0.013*temp**2 - 0.00130*temp**3\n",
    "        fit_dm15e[c] = np.std(temp2)\n",
    "        del temp, temp2\n",
    "    else:\n",
    "        fit_dm15e[c] = -99.9"
   ]
  },
  {
   "cell_type": "markdown",
   "id": "1b19c963-4f67-4c7f-9aec-e5fe1beb1c75",
   "metadata": {},
   "source": [
    "#### Stretch"
   ]
  },
  {
   "cell_type": "code",
   "execution_count": null,
   "id": "ae8a6e87-0e21-4219-9787-466e4aeddd23",
   "metadata": {
    "tags": []
   },
   "outputs": [],
   "source": [
    "fit_s = 0.98 + 0.091*fit_x1 + 0.003*fit_x1**2 - 0.00075*fit_x1**3\n",
    "fit_se = np.zeros(len(fit_s), dtype='float')\n",
    "for c in range(len(fit_s)):\n",
    "    if fit_x1e[c] > 0:\n",
    "        temp = np.random.normal(loc=fit_x1[c], scale=fit_x1e[c], size=10000)\n",
    "        temp2 = 0.98 + 0.091*temp + 0.003*temp**2 - 0.00075*temp**3\n",
    "        fit_se[c] = np.std(temp2)\n",
    "        del temp, temp2\n",
    "    else:\n",
    "        fit_se[c] = -99.9"
   ]
  },
  {
   "cell_type": "markdown",
   "id": "31933871-96d6-492f-b01a-b9054b88eb78",
   "metadata": {},
   "source": [
    "### Calculate error in peak apparent brightness\n",
    "\n",
    "Derive an error in peak brightness from the error in the fit value of `x0`."
   ]
  },
  {
   "cell_type": "code",
   "execution_count": null,
   "id": "462adcb7-a0fc-42f0-8a80-2240c7633233",
   "metadata": {
    "tags": []
   },
   "outputs": [],
   "source": [
    "fit_pmfe = np.zeros(len(fit_x0e), dtype='float')\n",
    "for c in range(len(fit_x0e)):\n",
    "    if fit_x0e[c] > 0:\n",
    "        temp = np.random.normal(loc=fit_x0[c], scale=fit_x0e[c], size=10000)\n",
    "        temp2 = -2.5 * np.log10(temp) + 10.635\n",
    "        fit_pmfe[c] = np.std(temp2)\n",
    "        del temp, temp2\n",
    "    else:\n",
    "        fit_pmfe[c] = -99.9"
   ]
  },
  {
   "cell_type": "markdown",
   "id": "541cdae8-ff4a-4799-a51f-7e5cc3f0bb29",
   "metadata": {},
   "source": [
    "### Estimate peak intrinsic magnitude: $ M_{B}$\n",
    "\n",
    "Since we have the redshift from the fit, determine the distance modulus and\n",
    "calculate the peak intrinsic magnitude of each potential SNIa.\n",
    "\n",
    "The simple way to do this is to use $\\mu = m-M$ where $\\mu = 5log(D_L) + 25$."
   ]
  },
  {
   "cell_type": "code",
   "execution_count": null,
   "id": "6a6142e3-8b35-414b-9b2f-9f542cd493e3",
   "metadata": {
    "tags": []
   },
   "outputs": [],
   "source": [
    "fit_MB = np.zeros(len(fit_pmB), dtype='float')\n",
    "tx = np.where(fit_z > 0.0)[0]\n",
    "fit_MB[tx] = fit_pmB[tx] - (5. * np.log10(cosmo.luminosity_distance(fit_z[tx]).value) + 25.)\n",
    "del tx"
   ]
  },
  {
   "cell_type": "code",
   "execution_count": null,
   "id": "f92b7111-3d44-4366-bbb9-f0d58baa21bd",
   "metadata": {
    "tags": []
   },
   "outputs": [],
   "source": [
    "fit_MBe = np.zeros(len(fit_MB), dtype='float')\n",
    "for c in range(len(fit_MB)):\n",
    "    if fit_z[c] > 0.0:\n",
    "        temp = np.random.normal(loc=fit_z[c], scale=fit_ze[c], size=10000)\n",
    "        temp2 = np.random.normal(loc=fit_pmB[c], scale=fit_pmfe[c], size=10000)\n",
    "        temp3 = temp2 - (5. * np.log10(cosmo.luminosity_distance(temp).value) + 25.)\n",
    "        fit_MBe[c] = np.std(temp3)\n",
    "        del temp, temp2, temp3\n",
    "    else:\n",
    "        fit_MBe[c] = -99.9"
   ]
  },
  {
   "cell_type": "markdown",
   "id": "61990bbc-84ae-4d46-b772-892495a93378",
   "metadata": {},
   "source": [
    "Can we use the lightcurve fits to get a \"corrected\" peak magnitude?\n",
    "\n",
    "For example, by using this equation from Section 7.2 in Guy+07:\n",
    "\n",
    "$\\mu_B = m^{*}_B - M + \\alpha_x \\times x_1 - \\beta \\times c$\n",
    "\n",
    "This can get you a better *distance* but it relies on the assumption that all SNIa can be \"corrected\" to a common peak brightness.\n",
    "\n",
    "Using this equation does not result in a more accurate calculation of the true intrinsic peak brightness."
   ]
  },
  {
   "cell_type": "markdown",
   "id": "26d3fb43-b8e4-4aaf-b8ef-581717c1550a",
   "metadata": {},
   "source": [
    "## Review likely SNIa\n",
    "\n",
    "Only include potential SNIa with *unflagged* fit parameters in the plots."
   ]
  },
  {
   "cell_type": "code",
   "execution_count": null,
   "id": "c6b993d6-3965-4232-a488-0a44e9edcfdc",
   "metadata": {
    "tags": []
   },
   "outputs": [],
   "source": [
    "tx = np.where((fit_z > 0.0) & (fit_mlgflag == 0))[0]\n",
    "tx2 = np.where((fit_z > 0.0) & (fit_mrflag == 0))[0]\n",
    "\n",
    "txz = np.where(((fit_mlgflag == 0) & (fit_mrflag == 0)) & \n",
    "               ((fit_z >= 0.22) & (fit_z <= 0.45)))[0]\n",
    "\n",
    "print(len(tx), len(tx2), len(txz))"
   ]
  },
  {
   "cell_type": "markdown",
   "id": "9a6c5668-1b55-46c3-9e8b-cc7adf4e2326",
   "metadata": {},
   "source": [
    "Print the names of just the intermediate redshift likely SNIa."
   ]
  },
  {
   "cell_type": "code",
   "execution_count": null,
   "id": "a1b3c887-4eea-49f7-b78a-1f0303456806",
   "metadata": {
    "tags": []
   },
   "outputs": [],
   "source": [
    "print(fit_cand[txz])"
   ]
  },
  {
   "cell_type": "markdown",
   "id": "f6a79c59-08e9-447e-9a84-6b05d4f1bfb3",
   "metadata": {},
   "source": [
    "Create a grid plot of the intermediate redshift likely SNIa for review."
   ]
  },
  {
   "cell_type": "code",
   "execution_count": null,
   "id": "67aac795-1ae4-4c57-817e-ef5559e3c563",
   "metadata": {
    "tags": []
   },
   "outputs": [],
   "source": [
    "clr = ['darkgreen', 'firebrick', 'saddlebrown', 'limegreen', 'orange', 'lightcoral']\n",
    "\n",
    "all_filters = ['g','r','i']\n",
    "all_fcolors = ['green','red','blue']\n",
    "all_fshapes = ['o','s','^']\n",
    "all_fsizes  = [5, 5, 7]"
   ]
  },
  {
   "cell_type": "code",
   "execution_count": null,
   "id": "a990df49-ab3d-4065-9743-fae84703500c",
   "metadata": {
    "tags": []
   },
   "outputs": [],
   "source": [
    "fnm = '../all_nightly_epochs_files/candidate_lightcurves.dat'\n",
    "candLC_candid = np.loadtxt(fnm, dtype='str', usecols=(1))\n",
    "candLC_mjd = np.loadtxt(fnm, dtype='float', usecols=(3))\n",
    "candLC_filter = np.loadtxt(fnm, dtype='str', usecols=(4))\n",
    "candLC_mag = np.loadtxt(fnm, dtype='float', usecols=(6))\n",
    "candLC_mrb = np.loadtxt(fnm, dtype='float', usecols=(8))\n",
    "candLC_lef = np.loadtxt(fnm, dtype='float', usecols=(9))\n",
    "del fnm"
   ]
  },
  {
   "cell_type": "code",
   "execution_count": null,
   "id": "e4fd01c1-05ca-42d6-8863-a8a364c997c2",
   "metadata": {
    "tags": []
   },
   "outputs": [],
   "source": [
    "sx = txz\n",
    "nrow = 5\n",
    "ncol = 4\n",
    "fig, ax = plt.subplots( nrow, ncol, figsize=(12, 10), sharex=False, sharey=False )\n",
    "s = 0\n",
    "for i in range(nrow):\n",
    "    ax[i, 0].set_ylabel('magnitude', fontsize=14)\n",
    "    for j in range(ncol):\n",
    "        if s <= len(sx)-1:\n",
    "            for f, filt in enumerate(all_filters):\n",
    "                cx0 = np.where((candLC_candid == fit_cand[sx[s]]) & \\\n",
    "                               (candLC_filter == filt) & (candLC_mrb > 0.4))[0]\n",
    "                cx1 = np.where((candLC_candid == fit_cand[sx[s]]) & \\\n",
    "                               (candLC_filter == filt) & (candLC_mrb <= 0.4) & \n",
    "                               (candLC_lef == 0))[0]\n",
    "                cx2 = np.where((candLC_candid == fit_cand[sx[s]]) & \\\n",
    "                               (candLC_filter == filt) & (candLC_mrb <= 0.4) & \n",
    "                               (candLC_lef == 1))[0]\n",
    "                ax[i, j].plot(candLC_mjd[cx0]-59300., candLC_mag[cx0], \n",
    "                             all_fshapes[f], ms=all_fsizes[f], mew=0, alpha=0.8, \n",
    "                              color=all_fcolors[f], label=filt)\n",
    "                ax[i, j].plot(candLC_mjd[cx1]-59300., candLC_mag[cx1], \n",
    "                             all_fshapes[f], ms=all_fsizes[f], mew=1, alpha=0.4, \n",
    "                              color=all_fcolors[f], mec=all_fcolors[f])\n",
    "                ax[i, j].plot(candLC_mjd[cx2]-59300., candLC_mag[cx2], \n",
    "                             all_fshapes[f], ms=all_fsizes[f]-1, mew=1, alpha=0.4, \n",
    "                              color='none', mec=all_fcolors[f])\n",
    "                del cx0, cx1, cx2\n",
    "            \n",
    "            cx = np.where((candLC_candid == fit_cand[sx[s]]) & (candLC_lef == 0))[0]\n",
    "            xmin = np.min(candLC_mjd[cx])\n",
    "            xmax = np.max(candLC_mjd[cx])\n",
    "            del cx\n",
    "            ax[i, j].invert_yaxis()\n",
    "            ax[i, j].set_xlim([xmin - 59300.0 - 5.0, xmax - 59300.0 + 5.0])\n",
    "            del xmin, xmax\n",
    "            ax[i, j].set_title(fit_cand[sx[s]])\n",
    "            s += 1\n",
    "\n",
    "ax[0, 0].legend(loc='best', labelspacing=0.1, handletextpad=0.1, fontsize=14)\n",
    "\n",
    "for j in range(ncol):\n",
    "    ax[nrow-1, j].set_xlabel('MJD-59300', fontsize=14)\n",
    "\n",
    "plt.tight_layout()\n",
    "plt.show()\n",
    "del s"
   ]
  },
  {
   "cell_type": "markdown",
   "id": "ffb835c5-59de-469a-957a-854a739b1b79",
   "metadata": {},
   "source": [
    "## Plot parameter distributions\n",
    "\n",
    "### SALT2 parameters vs redshift\n",
    "\n",
    "Only `x0`, the peak apparent magnitude, should be correlated with redshift."
   ]
  },
  {
   "cell_type": "code",
   "execution_count": null,
   "id": "c79630bf-76ae-43e2-aada-62140aea6fd6",
   "metadata": {
    "tags": []
   },
   "outputs": [],
   "source": [
    "fig, ax = plt.subplots(1, 3, figsize=(12, 3), sharex=True, sharey=False)\n",
    "\n",
    "ax[0].errorbar(fit_z[tx], fit_x0[tx], fmt='o', xerr=fit_ze[tx], yerr=fit_x0e[tx], mew=2, color='grey', zorder=1)\n",
    "ax[0].plot(fit_z[tx2], fit_x0[tx2], 'o', mew=0, color='orchid', zorder=2)\n",
    "ax[0].set_xlabel('z')\n",
    "ax[0].set_ylabel('x0')\n",
    "ax[0].set_ylim([-0.0001,0.00025])\n",
    "ax[0].axvline(0.22)\n",
    "\n",
    "ax[1].errorbar(fit_z[tx], fit_x1[tx], fmt='o', xerr=fit_ze[tx], yerr=fit_x1e[tx], mew=2, color='grey', zorder=1)\n",
    "ax[1].plot(fit_z[tx2], fit_x1[tx2], 'o', mew=0, color='orchid', zorder=2)\n",
    "ax[1].set_xlabel('z')\n",
    "ax[1].set_ylabel('x1')\n",
    "ax[1].axvline(0.22)\n",
    "\n",
    "ax[2].errorbar(fit_z[tx], fit_c[tx], fmt='o', xerr=fit_ze[tx], yerr=fit_ce[tx], mew=2, color='grey', zorder=1)\n",
    "ax[2].plot(fit_z[tx2], fit_c[tx2], 'o', mew=0, color='orchid', zorder=2)\n",
    "ax[2].set_xlabel('z')\n",
    "ax[2].set_ylabel('c')\n",
    "ax[2].axvline(0.22)\n",
    "\n",
    "fig.tight_layout()\n",
    "fig.show()"
   ]
  },
  {
   "cell_type": "markdown",
   "id": "aff14a0a-fabb-49ae-810b-77f9c35e4290",
   "metadata": {},
   "source": [
    "Seems to be a degeneracy between x0 and c (peak brightness and color) for lightcurves fit with a low redshift.\n",
    "\n",
    "Recall _\"when $c < 0$, the fit SNIa is bluer than a typical SNIa\"_.\n",
    "\n",
    "So the lightcurves with low redshifts, z<0.22, have been fit as redder (as in, intrinsically redder) than a typical SNIa,\n",
    "when it's probably more likely they're just at higher redshift (not intrinsically redder but redder due to redshift)."
   ]
  },
  {
   "cell_type": "markdown",
   "id": "d9bef37b-e2d9-49e5-bc63-46af27f75372",
   "metadata": {},
   "source": [
    "### SALT2 parameters scatter plots\n",
    "\n",
    "Each parameter vs. the other. We should not see any correlations here, as the three parameters should be independent."
   ]
  },
  {
   "cell_type": "code",
   "execution_count": null,
   "id": "a5c7b7e3-c7df-4885-bc2f-53a33340a6c4",
   "metadata": {
    "tags": []
   },
   "outputs": [],
   "source": [
    "fig, ax = plt.subplots(1, 3, figsize=(12, 3), sharex=False, sharey=False)\n",
    "\n",
    "tx = np.where((fit_z > 0.0) & (fit_mlgflag == 0))[0]\n",
    "                           \n",
    "ax[0].errorbar(fit_x0[tx], fit_x1[tx], fmt='o', xerr=fit_x0e[tx], yerr=fit_x1e[tx], mew=2, color='grey', zorder=1)\n",
    "ax[0].plot(fit_x0[tx2], fit_x1[tx2], 'o', mew=0, color='orchid', zorder=2)\n",
    "ax[0].set_xlabel('x0')\n",
    "ax[0].set_xlim([-0.0001,0.00025])\n",
    "ax[0].set_ylabel('x1')\n",
    "\n",
    "ax[1].errorbar(fit_x0[tx], fit_c[tx], fmt='o', xerr=fit_x0e[tx], yerr=fit_ce[tx], mew=2, color='grey', zorder=1)\n",
    "ax[1].plot(fit_x0[tx2], fit_c[tx2], 'o', mew=0, color='orchid', zorder=2)\n",
    "ax[1].set_xlabel('x0')\n",
    "ax[1].set_xlim([-0.0001,0.00025])\n",
    "ax[1].set_ylabel('c')\n",
    "\n",
    "ax[2].errorbar(fit_x1[tx], fit_c[tx], fmt='o', xerr=fit_x1e[tx], yerr=fit_ce[tx], mew=2, color='grey', zorder=1)\n",
    "ax[2].plot(fit_x1[tx2], fit_c[tx2], 'o', mew=0, color='orchid', zorder=2)\n",
    "ax[2].set_xlabel('x1')\n",
    "ax[2].set_ylabel('c')\n",
    "\n",
    "fig.tight_layout()\n",
    "fig.show()"
   ]
  },
  {
   "cell_type": "markdown",
   "id": "7ea59893-bd18-4d33-ba8e-1301eff9e929",
   "metadata": {},
   "source": [
    "### Derived parameters vs redshift\n",
    "\n",
    "Here we absolutely expect to see a clear trend between peak apparent magnitude and redshift, \n",
    "but not between redshift for stretch or $\\Delta m_{15}$.\n",
    "\n",
    "The approximate expected trend between $m$ and $z$ is shown as a blue line. \n",
    "We can see that the \"low\"-z (z<0.22) and \"high\"-z (z>0.45) candidates do not lie along this trend.\n",
    "\n",
    "It is these that are probably contaminating the rest."
   ]
  },
  {
   "cell_type": "code",
   "execution_count": null,
   "id": "0deb9f26-1eed-48b3-a7d2-e8e424c970c9",
   "metadata": {
    "tags": []
   },
   "outputs": [],
   "source": [
    "fig, ax = plt.subplots(1, 3, figsize=(16, 6), sharex=True, sharey=False)\n",
    "\n",
    "ax[0].errorbar(fit_z[tx], fit_pmB[tx], fmt='o', xerr=fit_ze[tx], yerr=fit_pmfe[tx], mew=2, color='grey', zorder=1)\n",
    "ax[0].plot(fit_z[tx2], fit_pmB[tx2], 'o', mew=0, color='orchid', zorder=2)\n",
    "ax[0].set_xlabel('z')\n",
    "ax[0].set_ylabel('mB')\n",
    "\n",
    "# add lines\n",
    "temp_z = 0.10 + np.arange(20, dtype='float') / 40\n",
    "temp_mB = -19.3 + (5. * np.log10(cosmo.luminosity_distance(temp_z).value) + 25.)\n",
    "ax[0].plot(temp_z, temp_mB)\n",
    "ax[0].axvline(0.22)\n",
    "ax[0].axvline(0.45)\n",
    "ax[0].set_ylim([20, 23])\n",
    "\n",
    "ax[1].errorbar(fit_z[tx], fit_s[tx], fmt='o', xerr=fit_ze[tx], yerr=fit_se[tx], mew=2, color='grey', zorder=1)\n",
    "ax[1].plot(fit_z[tx2], fit_s[tx2], 'o', mew=0, color='orchid', zorder=2)\n",
    "ax[1].set_xlabel('z')\n",
    "ax[1].set_ylabel('stretch')\n",
    "\n",
    "ax[2].errorbar(fit_z[tx], fit_dm15[tx], fmt='o', xerr=fit_ze[tx], yerr=fit_dm15e[tx], mew=2, color='grey', zorder=1)\n",
    "ax[2].plot(fit_z[tx2], fit_dm15[tx2], 'o', mew=0, color='orchid', zorder=2)\n",
    "ax[2].set_xlabel('z')\n",
    "ax[2].set_ylabel('delta m_15')\n",
    "\n",
    "fig.tight_layout()\n",
    "fig.show()"
   ]
  },
  {
   "cell_type": "markdown",
   "id": "e50b0068-96dc-46ec-8e22-0462fa6434b4",
   "metadata": {},
   "source": [
    "### Derived parameters scatter plots\n",
    "\n",
    "Derived parameters vs. each other (+ color). We should see a trend between delta_m15 and stretch as they were both derived from x1. delta_m15 has a negative relationship with x1, stretch has positive relationship w/ x1, so delta_m15 and stretch should have negative relationship with each other, and that checks out here."
   ]
  },
  {
   "cell_type": "code",
   "execution_count": null,
   "id": "ea9256e4-8cfd-4148-ba2f-02798857bce3",
   "metadata": {
    "tags": []
   },
   "outputs": [],
   "source": [
    "fig, ax = plt.subplots(2, 3, figsize=(15, 10), sharex=False, sharey=False)\n",
    "\n",
    "ax[0,0].errorbar(fit_pmB[tx], fit_dm15[tx], fmt='o', xerr=fit_pmfe[tx], yerr=fit_dm15e[tx], mew=2, color='grey', zorder=1)\n",
    "ax[0,0].plot(fit_pmB[tx2], fit_dm15[tx2], 'o', mew=0, color='orchid', zorder=2)\n",
    "ax[0,0].set_xlabel('mB')\n",
    "ax[0,0].set_ylabel('delta_m15')\n",
    "\n",
    "ax[0,1].errorbar(fit_pmB[tx], fit_c[tx], fmt='o', xerr=fit_pmfe[tx], yerr=fit_ce[tx], mew=2, color='grey', zorder=1)\n",
    "ax[0,1].plot(fit_pmB[tx2], fit_c[tx2], 'o', mew=0, color='orchid', zorder=2)\n",
    "ax[0,1].set_xlabel('mB')\n",
    "ax[0,1].set_ylabel('c')\n",
    "\n",
    "ax[0,2].errorbar(fit_dm15[tx], fit_c[tx], fmt='o', xerr=fit_dm15e[tx], yerr=fit_ce[tx], mew=2, color='grey', zorder=1)\n",
    "ax[0,2].plot(fit_dm15[tx2], fit_c[tx2], 'o', mew=0, color='orchid', zorder=2)\n",
    "ax[0,2].set_xlabel('delta_m15')\n",
    "ax[0,2].set_ylabel('c')\n",
    "\n",
    "ax[1,0].errorbar(fit_s[tx], fit_c[tx], fmt='o', xerr=fit_se[tx], yerr=fit_ce[tx], mew=2, color='grey', zorder=1)\n",
    "ax[1,0].plot(fit_s[tx2], fit_c[tx2], 'o', mew=0, color='orchid', zorder=2)\n",
    "ax[1,0].set_xlabel('stretch')\n",
    "ax[1,0].set_ylabel('c')\n",
    "\n",
    "ax[1,1].errorbar(fit_pmB[tx], fit_s[tx], fmt='o', xerr=fit_pmfe[tx], yerr=fit_se[tx], mew=2, color='grey', zorder=1)\n",
    "ax[1,1].plot(fit_pmB[tx2], fit_s[tx2], 'o', mew=0, color='orchid', zorder=2)\n",
    "ax[1,1].set_xlabel('mB')\n",
    "ax[1,1].set_ylabel('stretch')\n",
    "\n",
    "ax[1,2].errorbar(fit_dm15[tx], fit_s[tx], fmt='o', xerr=fit_dm15e[tx], yerr=fit_se[tx], mew=2, color='grey', zorder=1)\n",
    "ax[1,2].plot(fit_dm15[tx2], fit_s[tx2], 'o', mew=0, color='orchid', zorder=2)\n",
    "ax[1,2].set_xlabel('delta_m15')\n",
    "ax[1,2].set_ylabel('stretch')\n",
    "\n",
    "fig.tight_layout()\n",
    "fig.show()"
   ]
  },
  {
   "cell_type": "markdown",
   "id": "b13d8834-3123-4b23-b3db-4beac3d2d81c",
   "metadata": {},
   "source": [
    "### Intrinsic peak brightness and redshift\n",
    "\n",
    "Here we **DO NOT** expect to see a trend.\n",
    "\n",
    "And yet we do, which remains concerning.\n",
    "\n",
    "What this *might* mean is that a bunch of the lower-redshift objects (z<0.2) are not SNIa.\n",
    "\n",
    "Or, that their redshifts have been underestimated, and their intrinsic colors (c parameter) overestimated.\n",
    "\n",
    "It could be a mix.\n",
    "\n",
    "This trend could be entirely a result of our detection biases, where we can\n",
    "more easily detect bright things if they're nearby."
   ]
  },
  {
   "cell_type": "code",
   "execution_count": null,
   "id": "a0c20602-d7af-4e08-8dcc-d04688ea919b",
   "metadata": {
    "tags": []
   },
   "outputs": [],
   "source": [
    "plt.figure(figsize=(6, 6))\n",
    "\n",
    "plt.errorbar(fit_z[tx], fit_MB[tx], fmt='o', xerr=fit_ze[tx], yerr=fit_MBe[tx], mew=2, color='grey', zorder=1)\n",
    "plt.plot(fit_z[tx2], fit_MB[tx2], 'o', mew=0, color='orchid', zorder=2)\n",
    "plt.axvline(0.22)\n",
    "plt.axvline(0.45)\n",
    "\n",
    "plt.xlabel('z')\n",
    "plt.ylabel('intrinsic peak magnitude')\n",
    "plt.show()"
   ]
  },
  {
   "cell_type": "markdown",
   "id": "8f99b51b-955c-44de-9983-23677973ecdb",
   "metadata": {},
   "source": [
    "### Lightcurve parameters vs. peak intrinsic magnitude\n",
    "\n",
    "Here we do expect stretch and $\\Delta m_{15}$ to be correlated with peak intrinsic magnitude.\n",
    "\n",
    "This is commonly known as the Phillips relation, or the width-luminosity relation, from <a href=\"https://ui.adsabs.harvard.edu/abs/1993ApJ...413L.105P/abstract\">Phillips et al. (1993)</a>.\n",
    "\n",
    "We aren't seeing it super clearly here though....\n",
    "\n",
    "**Option to redefine indices without the low z candidates:**"
   ]
  },
  {
   "cell_type": "code",
   "execution_count": null,
   "id": "99cc864b-82ce-4453-aa9e-276073e5f83c",
   "metadata": {
    "tags": []
   },
   "outputs": [],
   "source": [
    "# tx = np.where((fit_z > 0.0) & (fit_flag == 0))[0]\n",
    "# tx2 = np.where((fit_z > 0.0) & (fit_flagMR == 0))[0]\n",
    "\n",
    "tx = np.where((fit_z > 0.22) & (fit_mlgflag == 0))[0]\n",
    "tx2 = np.where((fit_z > 0.22) & (fit_mrflag == 0))[0]"
   ]
  },
  {
   "cell_type": "code",
   "execution_count": null,
   "id": "9b5b7372-9a31-4361-9362-b338bd4a7cc5",
   "metadata": {
    "tags": []
   },
   "outputs": [],
   "source": [
    "fig, ax = plt.subplots(2, 3, figsize=(15, 7), sharex=True, sharey=False)\n",
    "\n",
    "ax[0,0].errorbar(fit_MB[tx], fit_c[tx], fmt='o', xerr=fit_MBe[tx], yerr=fit_ce[tx], mew=2, color='grey', zorder=1)\n",
    "ax[0,0].plot(fit_MB[tx2], fit_c[tx2], 'o', mew=0, color='orchid', zorder=2)\n",
    "ax[0,0].set_xlabel('MB')\n",
    "ax[0,0].set_ylabel('c')\n",
    "\n",
    "ax[0,1].errorbar(fit_MB[tx], fit_s[tx], fmt='o', xerr=fit_MBe[tx], yerr=fit_se[tx], mew=2, color='grey', zorder=1)\n",
    "ax[0,1].plot(fit_MB[tx2], fit_s[tx2], 'o', mew=0, color='orchid', zorder=2)\n",
    "ax[0,1].set_xlabel('MB')\n",
    "ax[0,1].set_ylabel('stretch')\n",
    "\n",
    "ax[0,2].errorbar(fit_MB[tx], fit_dm15[tx], fmt='o', xerr=fit_MBe[tx], yerr=fit_dm15e[tx], mew=2, color='grey', zorder=1)\n",
    "ax[0,2].plot(fit_MB[tx2], fit_dm15[tx2], 'o', mew=0, color='orchid', zorder=2)\n",
    "ax[0,2].set_xlabel('MB')\n",
    "ax[0,2].set_ylabel('delta m_15')\n",
    "\n",
    "ax[1,0].errorbar(fit_MB[tx], fit_pmB[tx], fmt='o', xerr=fit_MBe[tx], yerr=fit_pmfe[tx], mew=2, color='grey', zorder=1)\n",
    "ax[1,0].plot(fit_MB[tx2], fit_pmB[tx2], 'o', mew=0, color='orchid', zorder=2)\n",
    "ax[1,0].set_xlabel('MB')\n",
    "ax[1,0].set_ylabel('mB')\n",
    "\n",
    "ax[1,1].errorbar(fit_MB[tx], fit_x0[tx], fmt='o', xerr=fit_MBe[tx], yerr=fit_x0e[tx], mew=2, color='grey', zorder=1)\n",
    "ax[1,1].plot(fit_MB[tx2], fit_x0[tx2], 'o', mew=0, color='orchid', zorder=2)\n",
    "ax[1,1].set_xlabel('MB')\n",
    "ax[1,1].set_ylabel('x0')\n",
    "\n",
    "ax[1,2].errorbar(fit_MB[tx], fit_x1[tx], fmt='o', xerr=fit_MBe[tx], yerr=fit_x1e[tx], mew=2, color='grey', zorder=1)\n",
    "ax[1,2].plot(fit_MB[tx2], fit_x1[tx2], 'o', mew=0, color='orchid', zorder=2)\n",
    "ax[1,2].set_xlabel('MB')\n",
    "ax[1,2].set_ylabel('x1')\n",
    "\n",
    "fig.tight_layout()\n",
    "fig.show()"
   ]
  },
  {
   "cell_type": "markdown",
   "id": "68e9506c-8129-4f41-8e73-0147e4108abf",
   "metadata": {},
   "source": [
    "As described above, _\"when $c < 0$, the fit SNIa is bluer than a typical SNIa\"_.\n",
    "\n",
    "The plot at left of `c` vs. `MB` does show a bluer-brighter trend, which at first is reassuring, but there should be MORE of a trend between `MB` and stretch or `dm15b`. "
   ]
  },
  {
   "cell_type": "markdown",
   "id": "011ce9e6-dcdd-4e48-9798-9522c0fb83fc",
   "metadata": {},
   "source": [
    "## Summary\n",
    "\n",
    "Still not happy with how this has worked to define a sample of SNIa. Something isn't right in the fits and there's too much correlation between intrinsic peak brightness and `c`.\n",
    "\n",
    "Although without the low-z candidates the `c` vs `MB` plot looks better (scatter no trend), we don't see the expected trend between stretch and `MB` which is a worry that there is still contamination."
   ]
  },
  {
   "cell_type": "code",
   "execution_count": null,
   "id": "8ef7d5ab-c71b-4bbd-b948-e9328a422452",
   "metadata": {},
   "outputs": [],
   "source": []
  }
 ],
 "metadata": {
  "kernelspec": {
   "display_name": "NERSC Python",
   "language": "python",
   "name": "python3"
  },
  "language_info": {
   "codemirror_mode": {
    "name": "ipython",
    "version": 3
   },
   "file_extension": ".py",
   "mimetype": "text/x-python",
   "name": "python",
   "nbconvert_exporter": "python",
   "pygments_lexer": "ipython3",
   "version": "3.11.6"
  }
 },
 "nbformat": 4,
 "nbformat_minor": 5
}
