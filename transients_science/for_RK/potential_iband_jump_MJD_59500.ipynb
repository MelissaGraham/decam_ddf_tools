{
 "cells": [
  {
   "cell_type": "markdown",
   "id": "ec191178-17dc-4b84-b6e8-1f2fd929d48b",
   "metadata": {
    "tags": []
   },
   "source": [
    "# Characterize potential i-band photometry issue\n",
    "\n",
    "**UPDATE TUE FEB 27** With the new re-processed photometry, the issue is gone.\n",
    "\n",
    "\n",
    "\n",
    "**PREVIOUSLY**\n",
    "\n",
    "Midori noticed that a few of our long-term variables showed a \"jump\" in their i-band difference-image magnitudes around MJD = 59500. This notebook reproduces the behaviour and tries to quantify how many candidates are impacted.\n",
    "\n",
    "**Takeaway:** We do find 22 candidates (out of the 8998 being published in the paper) exhibit a ~1 mag \"jump\" in the i-band around MJD-59500. They're all in ELAIS and all appear to be stellar.\n",
    "\n",
    "**Question:** What caused this and is it something we can fix before publishing?\n",
    "\n",
    "## Set up"
   ]
  },
  {
   "cell_type": "code",
   "execution_count": null,
   "id": "3c499a71-2d40-4153-857f-ba5611345cfd",
   "metadata": {
    "tags": []
   },
   "outputs": [],
   "source": [
    "import psycopg2\n",
    "import psycopg2.extras\n",
    "import getpass\n",
    "import pandas\n",
    "\n",
    "import os\n",
    "import numpy as np\n",
    "import matplotlib as mpl\n",
    "import matplotlib.pyplot as plt\n",
    "from matplotlib.colors import LogNorm, Normalize\n",
    "from astropy.time import Time\n",
    "\n",
    "from copy import deepcopy\n",
    "import time"
   ]
  },
  {
   "cell_type": "code",
   "execution_count": null,
   "id": "746c0488-64c4-4572-99dd-cda938bd6db1",
   "metadata": {
    "tags": []
   },
   "outputs": [],
   "source": [
    "dbuser = input(\"DB User: \")\n",
    "dbpasswd = getpass.getpass(\"DB Password: \")\n",
    "db = psycopg2.connect(f\"dbname='decat' user='{dbuser}' password='{dbpasswd}' host='decatdb.lbl.gov'\")\n",
    "db.autocommit = True\n",
    "cursor = db.cursor(cursor_factory = psycopg2.extras.DictCursor)"
   ]
  },
  {
   "cell_type": "code",
   "execution_count": null,
   "id": "99452bfb-3719-4b8d-b93b-1de2028a6baf",
   "metadata": {
    "tags": []
   },
   "outputs": [],
   "source": [
    "# tag = \"latest\"\n",
    "tag = \"default\"  # as of Tue Feb 27 2024\n",
    "db.rollback()\n",
    "q = ( \"SELECT id, tag FROM versiontags WHERE tag=%(tag)s\" )\n",
    "cursor.execute( q, { \"tag\": tag } )\n",
    "row = cursor.fetchone()\n",
    "tagid = row['id']\n",
    "print(tagid)"
   ]
  },
  {
   "cell_type": "code",
   "execution_count": null,
   "id": "d84cf5db-6729-49a9-9ecc-5977085dba34",
   "metadata": {
    "tags": []
   },
   "outputs": [],
   "source": [
    "del dbuser, dbpasswd, db, tag, q, row"
   ]
  },
  {
   "cell_type": "markdown",
   "id": "2d9a4aca-0537-4ccf-8ab9-8acef1e493ce",
   "metadata": {},
   "source": [
    "## Four example candidates\n",
    "\n",
    "Four long-term variable candidates for which the i-band \"jump\" was noticed."
   ]
  },
  {
   "cell_type": "code",
   "execution_count": null,
   "id": "29a08aed-f92e-4bf1-89ad-1ab6fb3dc746",
   "metadata": {
    "tags": []
   },
   "outputs": [],
   "source": [
    "ex_cands = np.asarray(['DC21koqo','DC21kmdi','DC21ksgv','DC21kofv'], dtype='str')"
   ]
  },
  {
   "cell_type": "markdown",
   "id": "beb899a9-2871-4eca-ba40-38459c7e753a",
   "metadata": {},
   "source": [
    "### Retrive difference-image object photometry"
   ]
  },
  {
   "cell_type": "code",
   "execution_count": null,
   "id": "ec563042-9efb-47ba-8904-47d1ad02580b",
   "metadata": {
    "tags": []
   },
   "outputs": [],
   "source": [
    "%%time\n",
    "\n",
    "tmp_str = \"('DC21koqo', 'DC21kmdi', 'DC21ksgv', 'DC21kofv')\"\n",
    "\n",
    "q = (\"SELECT od.ra, od.dec, od.mag, od.magerr, rbs.rb, \"\n",
    "     \"i.filter, i.meanmjd, o.candidate_id, e.proposalid \"\n",
    "     \"FROM objectdatas AS od \"\n",
    "     \"INNER JOIN objectdata_versiontag AS odvt \"\n",
    "     \"ON od.id=odvt.objectdata_id AND odvt.versiontag_id=%(tagid)s \"\n",
    "     \"INNER JOIN objects AS o ON od.object_id=o.id \"\n",
    "     \"INNER JOIN images AS i ON o.image_id=i.id \"\n",
    "     \"INNER JOIN objectrbs as rbs ON od.id=rbs.objectdata_id AND rbs.rbtype_id=2 \"\n",
    "     \"INNER JOIN exposures AS e ON i.exposure_id=e.id \"\n",
    "     \"WHERE o.candidate_id IN \" + tmp_str)\n",
    "     # \"WHERE ((od.ra > 147.0 AND od.ra < 153.0 AND od.dec > -0.25 AND od.dec < 5) \"\n",
    "     # \"OR (od.ra > 5.0 AND od.ra < 12.0 AND od.dec > -46 AND od.dec < -41)) \")\n",
    "\n",
    "cursor.execute(q, {'tagid': tagid})\n",
    "\n",
    "del tmp_str, q, tagid\n",
    "     \n",
    "df = pandas.DataFrame(cursor.fetchall())\n",
    "\n",
    "print(len(df))"
   ]
  },
  {
   "cell_type": "code",
   "execution_count": null,
   "id": "05511512-2d44-454e-9ef9-6cd88b952846",
   "metadata": {
    "tags": []
   },
   "outputs": [],
   "source": [
    "obj_ra     = np.asarray(df[0], dtype='float')\n",
    "obj_dec    = np.asarray(df[1], dtype='float')\n",
    "obj_mag    = np.asarray(df[2], dtype='float')\n",
    "obj_mage   = np.asarray(df[3], dtype='float')\n",
    "obj_rb     = np.asarray(df[4], dtype='float')\n",
    "obj_filt   = np.asarray(df[5], dtype='str')\n",
    "obj_mjd    = np.asarray(df[6], dtype='float')\n",
    "obj_candid = np.asarray(df[7], dtype='str')\n",
    "obj_propid = np.asarray(df[8], dtype='str')\n",
    "del df"
   ]
  },
  {
   "cell_type": "markdown",
   "id": "00bcc106-2107-4791-9e72-93b72c005d26",
   "metadata": {},
   "source": [
    "### Plot the light curves"
   ]
  },
  {
   "cell_type": "code",
   "execution_count": null,
   "id": "6354fed3-16a5-4fa1-b0a6-54bc2293804a",
   "metadata": {
    "tags": []
   },
   "outputs": [],
   "source": [
    "fnames = ['g','r','i']\n",
    "fcolors = ['green','red','blue']\n",
    "fshapes = ['o','s','*']\n",
    "fsizes  = [5, 5, 7]"
   ]
  },
  {
   "cell_type": "code",
   "execution_count": null,
   "id": "515f8ca6-b617-4fe3-9517-d75ac5c8c2cf",
   "metadata": {
    "tags": []
   },
   "outputs": [],
   "source": [
    "fig, ax = plt.subplots(4, figsize=(6, 6), sharex=False, sharey=False)\n",
    "for c, cand in enumerate(ex_cands):\n",
    "    for f, filt in enumerate(fnames):\n",
    "        tx = np.where((obj_candid == cand) & (obj_filt == filt))[0]\n",
    "        ax[c].plot(obj_mjd[tx], obj_mag[tx], fshapes[f], ms=fsizes[f], \n",
    "                   alpha=0.5, mew=0, color=fcolors[f])\n",
    "    ax[c].set_title(cand)\n",
    "    ax[c].invert_yaxis()\n",
    "fig.tight_layout()\n",
    "fig.show()"
   ]
  },
  {
   "cell_type": "code",
   "execution_count": null,
   "id": "56f75370-2920-42d1-b8f4-42765a1cc8b6",
   "metadata": {
    "tags": []
   },
   "outputs": [],
   "source": [
    "fig, ax = plt.subplots(4, figsize=(6, 6), sharex=False, sharey=False)\n",
    "for c, cand in enumerate(ex_cands):\n",
    "    for f, filt in enumerate(fnames):\n",
    "        tx = np.where((obj_candid == cand) & (obj_filt == filt))[0]\n",
    "        ax[c].plot(obj_mjd[tx], obj_mag[tx], fshapes[f], ms=fsizes[f], \n",
    "                   alpha=0.5, mew=0, color=fcolors[f])\n",
    "    ax[c].set_xlim([59480, 59520])\n",
    "    ax[c].set_title(cand)\n",
    "    ax[c].invert_yaxis()\n",
    "fig.tight_layout()\n",
    "fig.show()"
   ]
  },
  {
   "cell_type": "code",
   "execution_count": null,
   "id": "0ff8c962-fdaf-4968-8f68-eb376fc46c6b",
   "metadata": {
    "tags": []
   },
   "outputs": [],
   "source": [
    "del cursor\n",
    "del obj_ra, obj_dec, obj_mag, obj_mage\n",
    "del obj_rb, obj_filt, obj_mjd, obj_candid, obj_propid\n",
    "del fig"
   ]
  },
  {
   "cell_type": "markdown",
   "id": "e61b65cd-947d-450c-b013-f2248bf8c11c",
   "metadata": {},
   "source": [
    "## Quantify impact\n",
    "\n",
    "For the paper we're using the 8998 candidates identified as 'likely real'. \n",
    "\n",
    "Look for this jump in the nightly-epoch light curves.\n",
    "\n",
    "Find out how many candidates being used for the paper might be affected.\n",
    "\n",
    "### Read nightly-epoch light curves"
   ]
  },
  {
   "cell_type": "code",
   "execution_count": null,
   "id": "e59d353c-089c-49c2-81b1-7dafcaeaa5c0",
   "metadata": {
    "tags": []
   },
   "outputs": [],
   "source": [
    "fnm = '../all_nightly_epochs_files/candidate_lightcurves.dat'\n",
    "candLC_field = np.loadtxt(fnm, dtype='str', usecols=(0))\n",
    "candLC_candid = np.loadtxt(fnm, dtype='str', usecols=(1))\n",
    "candLC_caldate = np.loadtxt(fnm, dtype='str', usecols=(2))\n",
    "candLC_mjd = np.loadtxt(fnm, dtype='float', usecols=(3))\n",
    "candLC_filter = np.loadtxt(fnm, dtype='str', usecols=(4))\n",
    "candLC_Nobj = np.loadtxt(fnm, dtype='int', usecols=(5))\n",
    "candLC_mag = np.loadtxt(fnm, dtype='float', usecols=(6))\n",
    "candLC_mage = np.loadtxt(fnm, dtype='float', usecols=(7))\n",
    "candLC_mrb = np.loadtxt(fnm, dtype='float', usecols=(8))\n",
    "candLC_lef = np.loadtxt(fnm, dtype='float', usecols=(9))\n",
    "del fnm"
   ]
  },
  {
   "cell_type": "markdown",
   "id": "2292d4ab-831c-4286-b462-566ec5dca381",
   "metadata": {},
   "source": [
    "### Plot again for the four examples"
   ]
  },
  {
   "cell_type": "code",
   "execution_count": null,
   "id": "b501815f-676b-4ab6-ab8e-426e92bbccc6",
   "metadata": {
    "tags": []
   },
   "outputs": [],
   "source": [
    "fig, ax = plt.subplots(4, figsize=(6, 6), sharex=False, sharey=False)\n",
    "for c, cand in enumerate(ex_cands):\n",
    "    for f, filt in enumerate(fnames):\n",
    "        tx = np.where((candLC_candid == cand) & (candLC_filter == filt))[0]\n",
    "        ax[c].plot(candLC_mjd[tx], candLC_mag[tx], fshapes[f], ms=fsizes[f], \n",
    "                   alpha=0.8, mew=0, color=fcolors[f])\n",
    "    ax[c].set_xlim([59480, 59520])\n",
    "    ax[c].set_title(cand)\n",
    "    ax[c].invert_yaxis()\n",
    "fig.tight_layout()\n",
    "fig.show()"
   ]
  },
  {
   "cell_type": "markdown",
   "id": "9802fb08-bb10-4308-a454-b7b20e9d87bc",
   "metadata": {},
   "source": [
    "### Number of candidates with a \"jump\" around MJD 59500 \n",
    "\n",
    "First, the number of unique candidates. Will be 8998."
   ]
  },
  {
   "cell_type": "code",
   "execution_count": null,
   "id": "ad78f8a5-0385-4e33-b083-1c6f8912cbc6",
   "metadata": {
    "tags": []
   },
   "outputs": [],
   "source": [
    "ucands = np.unique(candLC_candid)\n",
    "print(len(ucands))"
   ]
  },
  {
   "cell_type": "markdown",
   "id": "aea35979-4670-4174-86f2-e2ebfbf75c53",
   "metadata": {},
   "source": [
    "Store the mean magnitude in the days before/after MJD 59500 as m1 and m2."
   ]
  },
  {
   "cell_type": "code",
   "execution_count": null,
   "id": "f1c06639-b31a-4911-ab91-39be8e76e6ca",
   "metadata": {
    "tags": []
   },
   "outputs": [],
   "source": [
    "%%time\n",
    "m1 = np.zeros(len(ucands), dtype='float')\n",
    "m2 = np.zeros(len(ucands), dtype='float')\n",
    "for u, ucand in enumerate(ucands):\n",
    "    tx = np.where((candLC_candid == ucand) & (candLC_filter == 'i'))[0]\n",
    "    x1 = np.where((candLC_mjd[tx] >= 59480) & (candLC_mjd[tx] < 59500))[0]\n",
    "    x2 = np.where((candLC_mjd[tx] > 59500) & (candLC_mjd[tx] <= 59515))[0]\n",
    "    if (len(x1) > 0) & (len(x2) > 0):\n",
    "        m1[u] = np.mean(candLC_mag[tx[x1]])\n",
    "        m2[u] = np.mean(candLC_mag[tx[x2]])\n",
    "    del tx, x1, x2"
   ]
  },
  {
   "cell_type": "markdown",
   "id": "a8307071-15ab-4cce-9df4-e37a699e84af",
   "metadata": {},
   "source": [
    "Number of candidates that have data before/after MJD 59500."
   ]
  },
  {
   "cell_type": "code",
   "execution_count": null,
   "id": "83e0f44b-6fbf-4a00-a5c4-27d8d35232cc",
   "metadata": {
    "tags": []
   },
   "outputs": [],
   "source": [
    "tx = np.where(m1 > 0)[0]\n",
    "print(len(tx))\n",
    "del tx"
   ]
  },
  {
   "cell_type": "markdown",
   "id": "d78d83e6-4eb8-414a-8f53-4886ab406064",
   "metadata": {},
   "source": [
    "Calculate the difference, before and after MJD 59500."
   ]
  },
  {
   "cell_type": "code",
   "execution_count": null,
   "id": "7e2ae4b4-d6d4-4f3a-a75c-08eff0f0f4da",
   "metadata": {
    "tags": []
   },
   "outputs": [],
   "source": [
    "diff = m2 - m1"
   ]
  },
  {
   "cell_type": "markdown",
   "id": "9a4c3045-3915-4cc8-a91c-dd90696d2f2b",
   "metadata": {},
   "source": [
    "Plot the distribution of non-zero differences."
   ]
  },
  {
   "cell_type": "code",
   "execution_count": null,
   "id": "09c73e77-fdb2-4c7b-99d6-c6d3bcc7193d",
   "metadata": {
    "tags": []
   },
   "outputs": [],
   "source": [
    "fig = plt.figure(figsize=(3, 2))\n",
    "tx = np.where(diff != 0.0)[0]\n",
    "plt.hist(diff[tx])\n",
    "plt.xlabel('diff')\n",
    "plt.show()\n",
    "del tx"
   ]
  },
  {
   "cell_type": "markdown",
   "id": "29d6b025-0e4c-4f11-af76-7f8c93d9cc0d",
   "metadata": {},
   "source": [
    "Identify candidates with a 1-mag jump like the candidates that Midori found."
   ]
  },
  {
   "cell_type": "code",
   "execution_count": null,
   "id": "6816670a-35da-488e-b794-45a146e7caec",
   "metadata": {
    "tags": []
   },
   "outputs": [],
   "source": [
    "tx = np.where(diff > 1)[0]\n",
    "print(len(tx))\n",
    "del tx"
   ]
  },
  {
   "cell_type": "markdown",
   "id": "d78103f6-0c09-4d53-a6dd-1624a3a48397",
   "metadata": {},
   "source": [
    "**AS OF TUE FEB 27** there are none!! Previously there had been 22.\n",
    "\n",
    "## Previous code to explore the affected candidates\n",
    "\n",
    "Were all four of the examples re-discovered?"
   ]
  },
  {
   "cell_type": "code",
   "execution_count": null,
   "id": "257d6992-0254-4ebe-b5ac-d940dbb9d458",
   "metadata": {
    "tags": []
   },
   "outputs": [],
   "source": [
    "tx = np.where(diff > 1)[0]\n",
    "count = 0\n",
    "for ecand in ex_cands:\n",
    "    ex = np.where(ucands[tx] == ecand)[0]\n",
    "    count += len(ex)\n",
    "    del ex\n",
    "print(count)\n",
    "del tx, count"
   ]
  },
  {
   "cell_type": "markdown",
   "id": "be53bdd1-52ad-499b-b814-3f2aa28f40cd",
   "metadata": {},
   "source": [
    "Make a list of the 22 \"affected candidates\"."
   ]
  },
  {
   "cell_type": "code",
   "execution_count": null,
   "id": "81191ced-e860-4ec8-a4de-667f80fad5d5",
   "metadata": {
    "tags": []
   },
   "outputs": [],
   "source": [
    "tx = np.where(diff > 1)[0]\n",
    "af_cands = ucands[tx]\n",
    "del tx"
   ]
  },
  {
   "cell_type": "markdown",
   "id": "32c7be55-668a-49ef-962a-6836b370a816",
   "metadata": {},
   "source": [
    "### Plot light curves for the 22 candidates with i-band \"jumps\" >1 mag"
   ]
  },
  {
   "cell_type": "code",
   "execution_count": null,
   "id": "32f813ab-550b-4456-8237-086b6655a173",
   "metadata": {
    "tags": []
   },
   "outputs": [],
   "source": [
    "nrows = 11\n",
    "ncols = 2\n",
    "fig, ax = plt.subplots(nrows, ncols, figsize=(10, 20), sharex=False, sharey=False)\n",
    "c = 0\n",
    "for i in range(nrows):\n",
    "    for j in range(ncols):\n",
    "        cand = af_cands[c]\n",
    "        ax[i, j].axvline(59500, color='lightgrey')\n",
    "        for f, filt in enumerate(fnames):\n",
    "            tx = np.where((candLC_candid == cand) & (candLC_filter == filt))[0]\n",
    "            ax[i, j].plot(candLC_mjd[tx], candLC_mag[tx], fshapes[f], ms=fsizes[f], \n",
    "                       alpha=0.8, mew=0, color=fcolors[f])\n",
    "            del tx\n",
    "        # ax[i, j].set_xlim([59480, 59520])\n",
    "        ax[i, j].set_title(cand)\n",
    "        ax[i, j].invert_yaxis()\n",
    "        del cand\n",
    "        c += 1\n",
    "fig.tight_layout()\n",
    "fig.show()\n",
    "del nrows, ncols, c"
   ]
  },
  {
   "cell_type": "markdown",
   "id": "00f2d42a-99f3-4796-847a-5738a37cc7f5",
   "metadata": {
    "tags": []
   },
   "source": [
    "### Check if they're all in the same area in ELAIS"
   ]
  },
  {
   "cell_type": "code",
   "execution_count": null,
   "id": "7a133c01-450f-4173-b344-60cb76fd56fa",
   "metadata": {
    "tags": []
   },
   "outputs": [],
   "source": [
    "fnm = '../all_nightly_epochs_files/candidate_coordinates.dat'\n",
    "cc_candid = np.loadtxt(fnm, dtype='str', usecols=(0))\n",
    "cc_ra = np.loadtxt(fnm, dtype='float', usecols=(1))\n",
    "cc_dec = np.loadtxt(fnm, dtype='float', usecols=(2))\n",
    "del fnm"
   ]
  },
  {
   "cell_type": "code",
   "execution_count": null,
   "id": "a84333d1-7703-4963-a1a6-e36197560f66",
   "metadata": {
    "tags": []
   },
   "outputs": [],
   "source": [
    "fig = plt.figure(figsize=(3, 3))\n",
    "\n",
    "tx = np.where((cc_ra > 5.0) & (cc_ra < 12.0) & \n",
    "              (cc_dec > -46) & (cc_dec < -41))[0]\n",
    "plt.plot(cc_ra[tx], cc_dec[tx], 'o', ms=2,\n",
    "         alpha=0.2, mew=0, color='lightblue')\n",
    "del tx\n",
    "\n",
    "tx = np.where(diff != 0.0)[0]\n",
    "tmp_cands = ucands[tx]\n",
    "del tx\n",
    "for cand in tmp_cands:\n",
    "    tx = np.where(cc_candid == cand)[0]\n",
    "    plt.plot(cc_ra[tx[0]], cc_dec[tx[0]], 'o', ms=3, \n",
    "             alpha=0.4, mew=0, color='darkblue')\n",
    "    del tx\n",
    "del tmp_cands\n",
    "\n",
    "for cand in af_cands:\n",
    "    tx = np.where(cc_candid == cand)[0]\n",
    "    plt.plot(cc_ra[tx[0]], cc_dec[tx[0]], 'o', ms=3,\n",
    "             alpha=0.8, mew=0, color='red')\n",
    "    del tx\n",
    "\n",
    "plt.show()"
   ]
  },
  {
   "cell_type": "markdown",
   "id": "d5de3a7f-0453-41db-b6c0-bfae41748050",
   "metadata": {},
   "source": [
    "No they're scattered across the region."
   ]
  },
  {
   "cell_type": "markdown",
   "id": "6c2b4b27-ba00-4f87-b9e6-2edafcf8567d",
   "metadata": {},
   "source": [
    "### Check if the 22 candidates are cross-matched with stars or galaxies"
   ]
  },
  {
   "cell_type": "code",
   "execution_count": null,
   "id": "b03df73c-2c49-4ca3-86d3-5821cbd66658",
   "metadata": {
    "tags": []
   },
   "outputs": [],
   "source": [
    "fnm = '../cross_matched_LSDR10/candidate_xmatch_LSdr10.dat'\n",
    "lsdr10xm_candid   = np.loadtxt(fnm, dtype='str', usecols=(0))\n",
    "lsdr10xm_flagstar = np.loadtxt(fnm, dtype='int', usecols=(4))\n",
    "lsdr10xm_flagcore = np.loadtxt(fnm, dtype='int', usecols=(5))\n",
    "lsdr10xm_flagmatch= np.loadtxt(fnm, dtype='int', usecols=(6))\n",
    "lsdr10xm_rmag     = np.loadtxt(fnm, dtype='float', usecols=(13))\n",
    "del fnm"
   ]
  },
  {
   "cell_type": "code",
   "execution_count": null,
   "id": "d83618ed-db66-451e-bd7e-56265b5f4f61",
   "metadata": {
    "tags": []
   },
   "outputs": [],
   "source": [
    "for cand in af_cands:\n",
    "    tx = np.where(lsdr10xm_candid == cand)[0]\n",
    "    tmp1 = '      '\n",
    "    tmp2 = '    '\n",
    "    if lsdr10xm_flagstar[tx[0]] == 1:\n",
    "        tmp1 = 'star'\n",
    "    elif lsdr10xm_flagstar[tx[0]] == 0:\n",
    "        tmp1 = 'galaxy'\n",
    "        if lsdr10xm_flagcore[tx[0]] == 1:\n",
    "            tmp2 = 'core'\n",
    "    print('%12s %10s %5s %5.2f' % (cand, tmp1, tmp2, lsdr10xm_rmag[tx[0]]))\n",
    "    del tx, tmp1, tmp2"
   ]
  },
  {
   "cell_type": "markdown",
   "id": "fd93a736-34eb-46c4-b7c1-92a82b60a0d1",
   "metadata": {},
   "source": [
    "### Print the links for follow-up\n",
    "\n",
    "Links to the Legacy Survey stamp and to Rob Knop's candidate viewer pages.\n",
    "\n",
    "By checking the LS stamps, looks like even the two that were cross-matched\n",
    "to \"galaxies\" were probably stars."
   ]
  },
  {
   "cell_type": "code",
   "execution_count": null,
   "id": "412d234e-3763-4d9b-8993-0f617e95709f",
   "metadata": {
    "tags": []
   },
   "outputs": [],
   "source": [
    "fnm = '../cross_matched_LSDR10/candidate_links.dat'\n",
    "link_candid  = np.loadtxt(fnm, dtype='str', usecols=(0))\n",
    "link_LSstamp = np.loadtxt(fnm, dtype='str', usecols=(1))\n",
    "link_RKviewer = np.loadtxt(fnm, dtype='str', usecols=(2))\n",
    "del fnm"
   ]
  },
  {
   "cell_type": "code",
   "execution_count": null,
   "id": "3113235e-7bdd-4e27-9e20-ab911e43af30",
   "metadata": {
    "tags": []
   },
   "outputs": [],
   "source": [
    "for cand in af_cands:\n",
    "    tx = np.where(link_candid == cand)[0]\n",
    "    print(cand)\n",
    "    print(link_LSstamp[tx[0]])\n",
    "    print(link_RKviewer[tx[0]])\n",
    "    del tx"
   ]
  },
  {
   "cell_type": "code",
   "execution_count": null,
   "id": "8459cd5f-cc31-4490-bf27-97f8a9823943",
   "metadata": {},
   "outputs": [],
   "source": []
  }
 ],
 "metadata": {
  "kernelspec": {
   "display_name": "NERSC Python",
   "language": "python",
   "name": "python3"
  },
  "language_info": {
   "codemirror_mode": {
    "name": "ipython",
    "version": 3
   },
   "file_extension": ".py",
   "mimetype": "text/x-python",
   "name": "python",
   "nbconvert_exporter": "python",
   "pygments_lexer": "ipython3",
   "version": "3.11.7"
  }
 },
 "nbformat": 4,
 "nbformat_minor": 5
}
