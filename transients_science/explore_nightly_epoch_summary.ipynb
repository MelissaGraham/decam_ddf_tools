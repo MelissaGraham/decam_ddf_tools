{
 "cells": [
  {
   "cell_type": "markdown",
   "id": "1a06816f-764a-4648-8fc5-682a54d8e3e8",
   "metadata": {
    "tags": []
   },
   "source": [
    "# Explore Nightly Epoch Lightcurves\n",
    "\n",
    "Contact: Melissa Graham\n",
    "\n",
    "Explore the lightcurves and lightcurve parameters created by `create_nightly_epoch_lightcurves.ipynb`.\n",
    "\n",
    "Plot histograms and correlations of the lightcurve parameters (time span, amplitude, minimum magnitude, number of epochs).\n",
    "\n",
    "Plot the lightcurves of some samples of candidates (the 25 brightest, largest amplitude, etc.)."
   ]
  },
  {
   "cell_type": "markdown",
   "id": "51e17af6-fff9-4df4-8dcd-e745912d7622",
   "metadata": {},
   "source": [
    "## 0. Set up\n",
    "\n",
    "Import packages, define plot parameters, and read in the data."
   ]
  },
  {
   "cell_type": "code",
   "execution_count": null,
   "id": "2ab52e31-7a85-40e2-8d34-9719df0ee1da",
   "metadata": {},
   "outputs": [],
   "source": [
    "import numpy as np\n",
    "import matplotlib as mpl\n",
    "import matplotlib.pyplot as plt\n",
    "from astropy.time import Time\n",
    "import time"
   ]
  },
  {
   "cell_type": "markdown",
   "id": "60c49158-8073-41e4-8a6c-e06db8abbe20",
   "metadata": {},
   "source": [
    "Colors to use for COSMOS-g, -r, -i and ELAIS-g, -r, -i"
   ]
  },
  {
   "cell_type": "code",
   "execution_count": null,
   "id": "9d02afdb-5926-4694-9b99-8619c4518476",
   "metadata": {},
   "outputs": [],
   "source": [
    "all_filters = ['g', 'r', 'i']\n",
    "clr = ['darkgreen', 'firebrick', 'saddlebrown', 'limegreen', 'orange', 'lightcoral']\n",
    "sym = ['o', 's', '^', 'o', 's', '^']\n",
    "siz = [5, 5, 7, 5, 5, 7]"
   ]
  },
  {
   "cell_type": "markdown",
   "id": "c4dae58b-c245-48fc-8174-77cc3777be87",
   "metadata": {
    "tags": []
   },
   "source": [
    "Define semester start dates."
   ]
  },
  {
   "cell_type": "code",
   "execution_count": null,
   "id": "e30cd6f3-8600-4e9d-b1b4-bcae1621ac7e",
   "metadata": {
    "tags": []
   },
   "outputs": [],
   "source": [
    "semesters = ['21A', '21B', '22A', '22B', '23A']\n",
    "sem_dates_isot = ['2021-02-01T00:00:00',\n",
    "                  '2021-08-01T00:00:00',\n",
    "                  '2022-02-01T00:00:00',\n",
    "                  '2022-08-01T00:00:00',\n",
    "                       '2023-02-01T00:00:00',\n",
    "             '2023-08-01T00:00:00']\n",
    "sem_dates = Time(sem_dates_isot, format='isot', scale='utc')"
   ]
  },
  {
   "cell_type": "markdown",
   "id": "bb98c52a-33e3-4b2d-84ca-24915054c03a",
   "metadata": {},
   "source": [
    "### 0.1. Read in the candidate lightcurves"
   ]
  },
  {
   "cell_type": "code",
   "execution_count": null,
   "id": "5d8e2e30-330b-4895-8939-c7f299c1a41c",
   "metadata": {},
   "outputs": [],
   "source": [
    "fnm = 'all_nightly_epochs_files/candidate_lightcurves.dat'\n",
    "\n",
    "candLC_field = np.loadtxt(fnm, dtype='str', usecols=(0))\n",
    "candLC_candid = np.loadtxt(fnm, dtype='str', usecols=(1))\n",
    "candLC_caldate = np.loadtxt(fnm, dtype='str', usecols=(2))\n",
    "candLC_mjd = np.loadtxt(fnm, dtype='float', usecols=(3))\n",
    "candLC_filter = np.loadtxt(fnm, dtype='str', usecols=(4))\n",
    "candLC_Nobj = np.loadtxt(fnm, dtype='int', usecols=(5))\n",
    "candLC_mag = np.loadtxt(fnm, dtype='float', usecols=(6))\n",
    "candLC_mage = np.loadtxt(fnm, dtype='float', usecols=(7))\n",
    "candLC_mrb = np.loadtxt(fnm, dtype='float', usecols=(8))\n",
    "candLC_lf = np.loadtxt(fnm, dtype='float', usecols=(9))\n",
    "\n",
    "del fnm"
   ]
  },
  {
   "cell_type": "markdown",
   "id": "080c0419-3886-4756-bf1a-00d0234c79bf",
   "metadata": {},
   "source": [
    "Check on the number of unique candidates and epochs in COSMOS and ELAIS."
   ]
  },
  {
   "cell_type": "code",
   "execution_count": null,
   "id": "0ab15b03-0041-4583-9893-06b4d5efc717",
   "metadata": {},
   "outputs": [],
   "source": [
    "cx = np.where(candLC_field == 'COSMOS')[0]\n",
    "ex = np.where(candLC_field == 'ELAIS')[0]\n",
    "\n",
    "all_cosmos_epochs = np.unique(np.sort(candLC_caldate[cx]))\n",
    "all_elais_epochs = np.unique(np.sort(candLC_caldate[ex]))\n",
    "all_cosmos_candids = np.unique(np.sort(candLC_candid[cx]))\n",
    "all_elais_candids = np.unique(np.sort(candLC_candid[ex]))\n",
    "\n",
    "print(len(all_cosmos_epochs), ' unique COSMOS epochs.')\n",
    "print(len(all_elais_epochs), ' unique ELAIS epochs.')\n",
    "print(len(all_cosmos_candids), ' unique COSMOS candidates')\n",
    "print(len(all_elais_candids), ' unique ELAIS candidates')\n",
    "print(len(all_cosmos_candids) + len(all_elais_candids), ' total')\n",
    "del cx, ex"
   ]
  },
  {
   "cell_type": "markdown",
   "id": "80fae304-6422-483b-b0b0-2284c6c8214c",
   "metadata": {},
   "source": [
    "### 0.2. Read in the lightcurve summary parameters"
   ]
  },
  {
   "cell_type": "code",
   "execution_count": null,
   "id": "97c5ec5b-dc75-49d4-a7aa-e46ccab990fd",
   "metadata": {},
   "outputs": [],
   "source": [
    "fnm = 'all_nightly_epochs_files/candidate_lightcurve_parameters.dat'\n",
    "\n",
    "paramLC_field = np.loadtxt(fnm, dtype='str', usecols=(0))\n",
    "paramLC_candid = np.loadtxt(fnm, dtype='str', usecols=(1))\n",
    "paramLC_tspan = np.loadtxt(fnm, dtype='float', usecols=(2))\n",
    "paramLC_tspan_g = np.loadtxt(fnm, dtype='float', usecols=(3))\n",
    "paramLC_tspan_r = np.loadtxt(fnm, dtype='float', usecols=(4))\n",
    "paramLC_tspan_i = np.loadtxt(fnm, dtype='float', usecols=(5))\n",
    "paramLC_minmag = np.loadtxt(fnm, dtype='float', usecols=(6))\n",
    "paramLC_minmag_g = np.loadtxt(fnm, dtype='float', usecols=(7))\n",
    "paramLC_minmag_r = np.loadtxt(fnm, dtype='float', usecols=(8))\n",
    "paramLC_minmag_i = np.loadtxt(fnm, dtype='float', usecols=(9))\n",
    "paramLC_amp = np.loadtxt(fnm, dtype='float', usecols=(10))\n",
    "paramLC_amp_g = np.loadtxt(fnm, dtype='float', usecols=(11))\n",
    "paramLC_amp_r = np.loadtxt(fnm, dtype='float', usecols=(12))\n",
    "paramLC_amp_i = np.loadtxt(fnm, dtype='float', usecols=(13))\n",
    "paramLC_neps = np.loadtxt(fnm, dtype='int', usecols=(14))\n",
    "paramLC_neps_g = np.loadtxt(fnm, dtype='int', usecols=(15))\n",
    "paramLC_neps_r = np.loadtxt(fnm, dtype='int', usecols=(16))\n",
    "paramLC_neps_i = np.loadtxt(fnm, dtype='int', usecols=(17))\n",
    "\n",
    "del fnm"
   ]
  },
  {
   "cell_type": "markdown",
   "id": "1648909e-54d4-4f86-9023-e7366733b0de",
   "metadata": {},
   "source": [
    "How many candidates have no nightly-epoch photometry?"
   ]
  },
  {
   "cell_type": "code",
   "execution_count": null,
   "id": "31fcc1f7-05fc-4230-8297-d92f0054803f",
   "metadata": {},
   "outputs": [],
   "source": [
    "cx = np.where((paramLC_field == 'COSMOS') & (paramLC_neps == 0))[0]\n",
    "ex = np.where((paramLC_field == 'ELAIS') & (paramLC_neps == 0))[0]\n",
    "cx_g = np.where((paramLC_field == 'COSMOS') & (paramLC_neps_g == 0))[0]\n",
    "ex_g = np.where((paramLC_field == 'ELAIS') & (paramLC_neps_g == 0))[0]\n",
    "cx_r = np.where((paramLC_field == 'COSMOS') & (paramLC_neps_r == 0))[0]\n",
    "ex_r = np.where((paramLC_field == 'ELAIS') & (paramLC_neps_r == 0))[0]\n",
    "cx_i = np.where((paramLC_field == 'COSMOS') & (paramLC_neps_i == 0))[0]\n",
    "ex_i = np.where((paramLC_field == 'ELAIS') & (paramLC_neps_i == 0))[0]\n",
    "\n",
    "print('Number of candidates with NO epochs (any, g, r, i).')\n",
    "print('COSMOS: ', len(cx),len(cx_g),len(cx_r),len(cx_i))\n",
    "print('ELAIS:  ', len(ex),len(ex_g),len(ex_r),len(ex_i))\n",
    "print(' ')\n",
    "del cx, ex, cx_g, cx_r, cx_i, ex_g, ex_r, ex_i"
   ]
  },
  {
   "cell_type": "markdown",
   "id": "668de891-5cc3-4887-8bdd-c4b16d73e7e2",
   "metadata": {},
   "source": [
    "The two ELAIS candidates with no non-lonely epochs in any filter are DC21kpde and DC21lltp.\n",
    "\n",
    "These two candidates each have three lonely epochs with R/B score < 0.4.\n",
    "In each lonely epoch the i-band magnitudes are 15-16th mag.\n",
    "For both candidates, these epochs are 2021-05-22, 2021-05-27, and 2021-06-02."
   ]
  },
  {
   "cell_type": "markdown",
   "id": "5bc230a7-aa9f-41b8-a6b0-36bc87a0aa73",
   "metadata": {},
   "source": [
    "How many candidates have just one epoch?"
   ]
  },
  {
   "cell_type": "code",
   "execution_count": null,
   "id": "420f7071-ed73-4d3c-a690-392c92e3343c",
   "metadata": {
    "tags": []
   },
   "outputs": [],
   "source": [
    "cx = np.where((paramLC_field == 'COSMOS') & (paramLC_neps == 1))[0]\n",
    "ex = np.where((paramLC_field == 'ELAIS') & (paramLC_neps == 1))[0]\n",
    "cx_g = np.where((paramLC_field == 'COSMOS') & (paramLC_neps_g == 1))[0]\n",
    "ex_g = np.where((paramLC_field == 'ELAIS') & (paramLC_neps_g == 1))[0]\n",
    "cx_r = np.where((paramLC_field == 'COSMOS') & (paramLC_neps_r == 1))[0]\n",
    "ex_r = np.where((paramLC_field == 'ELAIS') & (paramLC_neps_r == 1))[0]\n",
    "cx_i = np.where((paramLC_field == 'COSMOS') & (paramLC_neps_i == 1))[0]\n",
    "ex_i = np.where((paramLC_field == 'ELAIS') & (paramLC_neps_i == 1))[0]\n",
    "\n",
    "print('Number of candidates with ONE epoch (any, g, r, i).')\n",
    "print('COSMOS: ', len(cx),len(cx_g),len(cx_r),len(cx_i))\n",
    "print('ELAIS:  ', len(ex),len(ex_g),len(ex_r),len(ex_i))\n",
    "del cx, ex, cx_g, cx_r, cx_i, ex_g, ex_r, ex_i"
   ]
  },
  {
   "cell_type": "markdown",
   "id": "f4afefe3-6bb2-49c3-ac06-98703172b37d",
   "metadata": {
    "tags": []
   },
   "source": [
    "The above could be real, single-night-only transients."
   ]
  },
  {
   "cell_type": "markdown",
   "id": "767adf98-acdc-41ad-a9e8-ed8df9202d41",
   "metadata": {},
   "source": [
    "## 1. Histograms"
   ]
  },
  {
   "cell_type": "markdown",
   "id": "820c0077-2d3e-4732-b09d-f63f505e3fc7",
   "metadata": {},
   "source": [
    "### 1.1. Lightcurve summary parameters"
   ]
  },
  {
   "cell_type": "code",
   "execution_count": null,
   "id": "a4a52eb9-da0e-4b67-9ab2-a781c6a31d86",
   "metadata": {},
   "outputs": [],
   "source": [
    "cx = np.where( paramLC_field == 'COSMOS' )[0]\n",
    "ex = np.where( paramLC_field == 'ELAIS' )[0]\n",
    "\n",
    "fig, ax = plt.subplots( 4, 4, figsize=(16,12), sharex=False, sharey=False )\n",
    "\n",
    "max1 = 800\n",
    "max2 = 25\n",
    "max3 = 6\n",
    "max4 = 90\n",
    "\n",
    "ax[0,0].hist( paramLC_tspan[cx],  histtype='step', log=True, bins=20, range=(0,max1), color='dodgerblue')\n",
    "ax[0,1].hist( paramLC_minmag[cx], histtype='step', log=True, bins=20, range=(15,max2), color='dodgerblue')\n",
    "ax[0,2].hist( paramLC_amp[cx],    histtype='step', log=True, bins=20, range=(0,max3),   color='dodgerblue')\n",
    "ax[0,3].hist( paramLC_neps[cx],   histtype='step', log=True, bins=20, range=(0,max4),  color='dodgerblue')\n",
    "ax[0,0].hist( paramLC_tspan[ex],  histtype='step', log=True, bins=20, range=(0,max1), color='darkviolet')\n",
    "ax[0,1].hist( paramLC_minmag[ex], histtype='step', log=True, bins=20, range=(15,max2),   color='darkviolet')\n",
    "ax[0,2].hist( paramLC_amp[ex],    histtype='step', log=True, bins=20, range=(0,max3),   color='darkviolet')\n",
    "ax[0,3].hist( paramLC_neps[ex],   histtype='step', log=True, bins=20, range=(0,max4), color='darkviolet')\n",
    "\n",
    "ax[1,0].hist( paramLC_tspan_g[cx],  histtype='step', log=True, bins=20, range=(0,max1), color=clr[0])\n",
    "ax[1,1].hist( paramLC_minmag_g[cx], histtype='step', log=True, bins=20, range=(15,max2), color=clr[0])\n",
    "ax[1,2].hist( paramLC_amp_g[cx],    histtype='step', log=True, bins=20, range=(0,max3),   color=clr[0])\n",
    "ax[1,3].hist( paramLC_neps_g[cx],   histtype='step', log=True, bins=20, range=(0,max4),  color=clr[0])\n",
    "ax[1,0].hist( paramLC_tspan_g[ex],  histtype='step', log=True, bins=20, range=(0,max1), color=clr[3])\n",
    "ax[1,1].hist( paramLC_minmag_g[ex], histtype='step', log=True, bins=20, range=(15,max2), color=clr[3])\n",
    "ax[1,2].hist( paramLC_amp_g[ex],    histtype='step', log=True, bins=20, range=(0,max3),   color=clr[3])\n",
    "ax[1,3].hist( paramLC_neps_g[ex],   histtype='step', log=True, bins=20, range=(0,max4),  color=clr[3])\n",
    "\n",
    "ax[2,0].hist( paramLC_tspan_r[cx],  histtype='step', log=True, bins=20, range=(0,max1), color=clr[1])\n",
    "ax[2,1].hist( paramLC_minmag_r[cx], histtype='step', log=True, bins=20, range=(15,max2), color=clr[1])\n",
    "ax[2,2].hist( paramLC_amp_r[cx],    histtype='step', log=True, bins=20, range=(0,max3),   color=clr[1])\n",
    "ax[2,3].hist( paramLC_neps_r[cx],   histtype='step', log=True, bins=20, range=(0,max4),  color=clr[1])\n",
    "ax[2,0].hist( paramLC_tspan_r[ex],  histtype='step', log=True, bins=20, range=(0,max1), color=clr[4])\n",
    "ax[2,1].hist( paramLC_minmag_r[ex], histtype='step', log=True, bins=20, range=(15,max2), color=clr[4])\n",
    "ax[2,2].hist( paramLC_amp_r[ex],    histtype='step', log=True, bins=20, range=(0,max3),   color=clr[4])\n",
    "ax[2,3].hist( paramLC_neps_r[ex],   histtype='step', log=True, bins=20, range=(0,max4),  color=clr[4])\n",
    "\n",
    "ax[3,0].hist( paramLC_tspan_i[cx],  histtype='step', log=True, bins=20, range=(0,max1), color=clr[2])\n",
    "ax[3,1].hist( paramLC_minmag_i[cx], histtype='step', log=True, bins=20, range=(15,max2), color=clr[2])\n",
    "ax[3,2].hist( paramLC_amp_i[cx],    histtype='step', log=True, bins=20, range=(0,max3),   color=clr[2])\n",
    "ax[3,3].hist( paramLC_neps_i[cx],   histtype='step', log=True, bins=20, range=(0,max4),  color=clr[2])\n",
    "ax[3,0].hist( paramLC_tspan_i[ex],  histtype='step', log=True, bins=20, range=(0,max1), color=clr[5])\n",
    "ax[3,1].hist( paramLC_minmag_i[ex], histtype='step', log=True, bins=20, range=(15,max2), color=clr[5])\n",
    "ax[3,2].hist( paramLC_amp_i[ex],    histtype='step', log=True, bins=20, range=(0,max3),   color=clr[5])\n",
    "ax[3,3].hist( paramLC_neps_i[ex],   histtype='step', log=True, bins=20, range=(0,max4),  color=clr[5])\n",
    "\n",
    "ax[3,0].set_xlabel('time span')\n",
    "ax[3,1].set_xlabel('minimum magnitude')\n",
    "ax[3,2].set_xlabel('amplitude')\n",
    "ax[3,3].set_xlabel('number of epochs')\n",
    "\n",
    "ax[0,0].set_ylabel('number of candidates')\n",
    "ax[1,0].set_ylabel('number of candidates')\n",
    "ax[2,0].set_ylabel('number of candidates')\n",
    "ax[3,0].set_ylabel('number of candidates')\n",
    "\n",
    "ax[0,2].text(0.60, 0.85, 'COSMOS', fontsize=14, color='dodgerblue', \n",
    "             verticalalignment='bottom', horizontalalignment='left',  transform=ax[0,2].transAxes)    \n",
    "ax[0,2].text(0.60, 0.75, 'ELAIS',  fontsize=14, color='darkviolet', \n",
    "             verticalalignment='bottom', horizontalalignment='left',  transform=ax[0,2].transAxes)    \n",
    "ax[1,2].text(0.60, 0.85, 'COSMOS', fontsize=14, color=clr[0], \n",
    "             verticalalignment='bottom', horizontalalignment='left',  transform=ax[1,2].transAxes)    \n",
    "ax[1,2].text(0.60, 0.75, 'ELAIS',  fontsize=14, color=clr[3], \n",
    "             verticalalignment='bottom', horizontalalignment='left',  transform=ax[1,2].transAxes)    \n",
    "ax[2,2].text(0.60, 0.85, 'COSMOS', fontsize=14, color=clr[1], \n",
    "             verticalalignment='bottom', horizontalalignment='left',  transform=ax[2,2].transAxes)    \n",
    "ax[2,2].text(0.60, 0.75, 'ELAIS',  fontsize=14, color=clr[4], \n",
    "             verticalalignment='bottom', horizontalalignment='left',  transform=ax[2,2].transAxes)    \n",
    "ax[3,2].text(0.60, 0.85, 'COSMOS', fontsize=14, color=clr[2], \n",
    "             verticalalignment='bottom', horizontalalignment='left',  transform=ax[3,2].transAxes)    \n",
    "ax[3,2].text(0.60, 0.75, 'ELAIS',  fontsize=14, color=clr[5], \n",
    "             verticalalignment='bottom', horizontalalignment='left',  transform=ax[3,2].transAxes)    \n",
    "\n",
    "ax[0,3].text(0.80, 0.85, 'any',fontsize=14, color='black', \n",
    "             verticalalignment='bottom', horizontalalignment='left',  transform=ax[0,3].transAxes)\n",
    "ax[1,3].text(0.80, 0.85, 'g',  fontsize=14, color='black', \n",
    "             verticalalignment='bottom', horizontalalignment='left',  transform=ax[1,3].transAxes)\n",
    "ax[2,3].text(0.80, 0.85, 'r',  fontsize=14, color='black', \n",
    "             verticalalignment='bottom', horizontalalignment='left',  transform=ax[2,3].transAxes)\n",
    "ax[3,3].text(0.80, 0.85, 'i',  fontsize=14, color='black', \n",
    "             verticalalignment='bottom', horizontalalignment='left',  transform=ax[3,3].transAxes)\n",
    "\n",
    "plt.show()\n",
    "\n",
    "del cx,ex"
   ]
  },
  {
   "cell_type": "markdown",
   "id": "94b632be-bf18-47d1-ad5a-e73c5de62424",
   "metadata": {},
   "source": [
    "### 1.2. Date of candidate first detection\n",
    "\n",
    "Identify the unique candidates"
   ]
  },
  {
   "cell_type": "code",
   "execution_count": null,
   "id": "3976b018-042c-4579-897b-cda0a8a745ea",
   "metadata": {},
   "outputs": [],
   "source": [
    "values, indices, counts = np.unique(candLC_candid, return_index=True, return_counts=True)"
   ]
  },
  {
   "cell_type": "markdown",
   "id": "ebfcde4c-43de-4917-83e2-004a71c686fa",
   "metadata": {},
   "source": [
    "Plot a histogram of the first nightly-epoch MJD for each of the unique candidates."
   ]
  },
  {
   "cell_type": "code",
   "execution_count": null,
   "id": "321c6839-d349-4b03-b980-ae2e323c9820",
   "metadata": {},
   "outputs": [],
   "source": [
    "plt.hist(candLC_mjd[indices], bins=30, log=True)\n",
    "\n",
    "for x in [0, 1, 2, 3, 4, 5]:\n",
    "    plt.axvline(sem_dates[x].mjd, color='magenta')\n",
    "for x in [0, 1, 2, 3, 4]:    \n",
    "    plt.text(sem_dates[x].mjd, 4500, semesters[x])\n",
    "    \n",
    "plt.axvline(Time.now().mjd, color='red')\n",
    "plt.ylabel('# New Candidates')\n",
    "plt.xlabel('MJD')\n",
    "plt.show()"
   ]
  },
  {
   "cell_type": "markdown",
   "id": "a3a6f2e0-7136-44c1-a5fd-a2fa1e7f1964",
   "metadata": {},
   "source": [
    "## 2. Scatter plots\n",
    "\n",
    "From left to right:\n",
    "time span vs. minimum magnitude, \n",
    "time span vs. lightcurve amplitude,\n",
    "and lightcurve amplitude vs. minimum magnitude.\n",
    "\n",
    "Only for candidates with more than one epoch."
   ]
  },
  {
   "cell_type": "code",
   "execution_count": null,
   "id": "69eac389-1790-4ace-b636-581f3b7f2f52",
   "metadata": {},
   "outputs": [],
   "source": [
    "fig, ax = plt.subplots( 4, 3, figsize=(16, 12), sharex=False, sharey=False )\n",
    "\n",
    "cx = np.where((paramLC_field == 'COSMOS') & (paramLC_neps > 1))[0]\n",
    "ex = np.where((paramLC_field == 'ELAIS') & (paramLC_neps > 1))[0]\n",
    "ax[0,0].plot( paramLC_tspan[cx],  paramLC_minmag[cx], 'o', ms=2, mew=0, alpha=0.3, color='dodgerblue')\n",
    "ax[0,1].plot( paramLC_tspan[cx],  paramLC_amp[cx],    'o', ms=2, mew=0, alpha=0.3, color='dodgerblue')\n",
    "ax[0,2].plot( paramLC_minmag[cx], paramLC_amp[cx],    'o', ms=2, mew=0, alpha=0.3, color='dodgerblue')\n",
    "ax[0,0].plot( paramLC_tspan[ex],  paramLC_minmag[ex], 'o', ms=2, mew=0, alpha=0.3, color='darkviolet')\n",
    "ax[0,1].plot( paramLC_tspan[ex],  paramLC_amp[ex],    'o', ms=2, mew=0, alpha=0.3, color='darkviolet')\n",
    "ax[0,2].plot( paramLC_minmag[ex], paramLC_amp[ex],    'o', ms=2, mew=0, alpha=0.3, color='darkviolet')\n",
    "del cx,ex\n",
    "\n",
    "cx = np.where((paramLC_field == 'COSMOS') & (paramLC_neps_g > 1))[0]\n",
    "ex = np.where((paramLC_field == 'ELAIS') & (paramLC_neps_g > 1))[0]\n",
    "ax[1,0].plot( paramLC_tspan_g[cx],  paramLC_minmag_g[cx], 'o', ms=2, mew=0, alpha=0.3, color=clr[0])\n",
    "ax[1,1].plot( paramLC_tspan_g[cx],  paramLC_amp_g[cx],    'o', ms=2, mew=0, alpha=0.3, color=clr[0])\n",
    "ax[1,2].plot( paramLC_minmag_g[cx], paramLC_amp_g[cx],    'o', ms=2, mew=0, alpha=0.3, color=clr[0])\n",
    "ax[1,0].plot( paramLC_tspan_g[ex],  paramLC_minmag_g[ex], 'o', ms=2, mew=0, alpha=0.3, color=clr[3])\n",
    "ax[1,1].plot( paramLC_tspan_g[ex],  paramLC_amp_g[ex],    'o', ms=2, mew=0, alpha=0.3, color=clr[3])\n",
    "ax[1,2].plot( paramLC_minmag_g[ex], paramLC_amp_g[ex],    'o', ms=2, mew=0, alpha=0.3, color=clr[3])\n",
    "del cx,ex\n",
    "\n",
    "cx = np.where((paramLC_field == 'COSMOS') & (paramLC_neps_r > 1))[0]\n",
    "ex = np.where((paramLC_field == 'ELAIS') & (paramLC_neps_r > 1))[0]\n",
    "ax[2,0].plot( paramLC_tspan_r[cx],  paramLC_minmag_r[cx], 'o', ms=2, mew=0, alpha=0.3, color=clr[1])\n",
    "ax[2,1].plot( paramLC_tspan_r[cx],  paramLC_amp_r[cx],    'o', ms=2, mew=0, alpha=0.3, color=clr[1])\n",
    "ax[2,2].plot( paramLC_minmag_r[cx], paramLC_amp_r[cx],    'o', ms=2, mew=0, alpha=0.3, color=clr[1])\n",
    "ax[2,0].plot( paramLC_tspan_r[ex],  paramLC_minmag_r[ex], 'o', ms=2, mew=0, alpha=0.3, color=clr[4])\n",
    "ax[2,1].plot( paramLC_tspan_r[ex],  paramLC_amp_r[ex],    'o', ms=2, mew=0, alpha=0.3, color=clr[4])\n",
    "ax[2,2].plot( paramLC_minmag_r[ex], paramLC_amp_r[ex],    'o', ms=2, mew=0, alpha=0.3, color=clr[4])\n",
    "del cx,ex\n",
    "\n",
    "cx = np.where((paramLC_field == 'COSMOS') & (paramLC_neps_i > 1))[0]\n",
    "ex = np.where((paramLC_field == 'ELAIS') & (paramLC_neps_i > 1))[0]\n",
    "ax[3,0].plot( paramLC_tspan_i[cx],  paramLC_minmag_i[cx], 'o', ms=2, mew=0, alpha=0.3, color=clr[2])\n",
    "ax[3,1].plot( paramLC_tspan_i[cx],  paramLC_amp_i[cx],    'o', ms=2, mew=0, alpha=0.3, color=clr[2])\n",
    "ax[3,2].plot( paramLC_minmag_i[cx], paramLC_amp_i[cx],    'o', ms=2, mew=0, alpha=0.3, color=clr[2])\n",
    "ax[3,0].plot( paramLC_tspan_i[ex],  paramLC_minmag_i[ex], 'o', ms=2, mew=0, alpha=0.3, color=clr[5])\n",
    "ax[3,1].plot( paramLC_tspan_i[ex],  paramLC_amp_i[ex],    'o', ms=2, mew=0, alpha=0.3, color=clr[5])\n",
    "ax[3,2].plot( paramLC_minmag_i[ex], paramLC_amp_i[ex],    'o', ms=2, mew=0, alpha=0.3, color=clr[5])\n",
    "del cx,ex\n",
    "\n",
    "ax[0,1].text(0.60, 0.85, 'COSMOS', fontsize=14, color='dodgerblue', \n",
    "             verticalalignment='bottom', horizontalalignment='left',  transform=ax[0,1].transAxes)    \n",
    "ax[0,1].text(0.60, 0.75, 'ELAIS',  fontsize=14, color='darkviolet', \n",
    "             verticalalignment='bottom', horizontalalignment='left',  transform=ax[0,1].transAxes)    \n",
    "ax[1,1].text(0.60, 0.85, 'COSMOS', fontsize=14, color=clr[0], \n",
    "             verticalalignment='bottom', horizontalalignment='left',  transform=ax[1,1].transAxes)    \n",
    "ax[1,1].text(0.60, 0.75, 'ELAIS',  fontsize=14, color=clr[3], \n",
    "             verticalalignment='bottom', horizontalalignment='left',  transform=ax[1,1].transAxes)    \n",
    "ax[2,1].text(0.60, 0.85, 'COSMOS', fontsize=14, color=clr[1], \n",
    "             verticalalignment='bottom', horizontalalignment='left',  transform=ax[2,1].transAxes)    \n",
    "ax[2,1].text(0.60, 0.75, 'ELAIS',  fontsize=14, color=clr[4], \n",
    "             verticalalignment='bottom', horizontalalignment='left',  transform=ax[2,1].transAxes)    \n",
    "ax[3,1].text(0.60, 0.85, 'COSMOS', fontsize=14, color=clr[2], \n",
    "             verticalalignment='bottom', horizontalalignment='left',  transform=ax[3,1].transAxes)    \n",
    "ax[3,1].text(0.60, 0.75, 'ELAIS',  fontsize=14, color=clr[5], \n",
    "             verticalalignment='bottom', horizontalalignment='left',  transform=ax[3,1].transAxes)    \n",
    "\n",
    "ax[0,2].text(0.80, 0.85, 'any',fontsize=14, color='black', \n",
    "             verticalalignment='bottom', horizontalalignment='left',  transform=ax[0,2].transAxes)\n",
    "ax[1,2].text(0.80, 0.85, 'g',  fontsize=14, color='black', \n",
    "             verticalalignment='bottom', horizontalalignment='left',  transform=ax[1,2].transAxes)\n",
    "ax[2,2].text(0.80, 0.85, 'r',  fontsize=14, color='black', \n",
    "             verticalalignment='bottom', horizontalalignment='left',  transform=ax[2,2].transAxes)\n",
    "ax[3,2].text(0.80, 0.85, 'i',  fontsize=14, color='black', \n",
    "             verticalalignment='bottom', horizontalalignment='left',  transform=ax[3,2].transAxes)\n",
    "\n",
    "ax[0,0].set_ylabel('minimum magnitude')\n",
    "ax[0,1].set_ylabel('amplitude')\n",
    "ax[0,2].set_ylabel('amplitude')\n",
    "\n",
    "ax[1,0].set_ylabel('minimum magnitude (g)')\n",
    "ax[1,1].set_ylabel('amplitude (g)')\n",
    "ax[1,2].set_ylabel('amplitude (g)')\n",
    "\n",
    "ax[2,0].set_ylabel('minimum magnitude (r)')\n",
    "ax[2,1].set_ylabel('amplitude (r)')\n",
    "ax[2,2].set_ylabel('amplitude (r)')\n",
    "\n",
    "ax[3,0].set_xlabel('time span')\n",
    "ax[3,1].set_xlabel('time span')\n",
    "ax[3,2].set_xlabel('minimum magnitude')\n",
    "ax[3,0].set_ylabel('minimum magnitude (i)')\n",
    "ax[3,1].set_ylabel('amplitude (i)')\n",
    "ax[3,2].set_ylabel('amplitude (i)')\n",
    "\n",
    "plt.show()"
   ]
  },
  {
   "cell_type": "markdown",
   "id": "b128edeb-2a6d-4436-99e6-ed71111fa4ba",
   "metadata": {},
   "source": [
    "The above figure illustrates:\n",
    " * how candidates cluster in time span when detected in \"every\" epoch\n",
    " * how longer-duration lightcurves have larger amplitudes\n",
    " * for fainter minimum magnitudes (>20), amplitude is correlated with minimum magnitude\n"
   ]
  },
  {
   "cell_type": "markdown",
   "id": "b00563b1-debe-4fbd-9ddc-8d9848196fe3",
   "metadata": {
    "tags": []
   },
   "source": [
    "<br>\n",
    "\n",
    "## 3. Lightcurves"
   ]
  },
  {
   "cell_type": "markdown",
   "id": "17ce3c93-4fa4-44e6-bb70-a7f47ebc966e",
   "metadata": {},
   "source": [
    "Plot the lightcurves for example objects in different populations."
   ]
  },
  {
   "cell_type": "markdown",
   "id": "08c6be4c-0863-4df0-aa58-cdec2ea60edd",
   "metadata": {},
   "source": [
    "### 3.1. The 20 brightest in any filter\n",
    "\n",
    "These do not appear to be very well-sampled lightcurves."
   ]
  },
  {
   "cell_type": "code",
   "execution_count": null,
   "id": "6fa33861-8510-4ce0-b145-19ed27549c32",
   "metadata": {},
   "outputs": [],
   "source": [
    "tx = np.where(paramLC_neps > 1)[0]\n",
    "sx = np.argsort(paramLC_minmag[tx])\n",
    "\n",
    "fig, ax = plt.subplots( 4, 5, figsize=(15,10), sharex=False, sharey=False )\n",
    "\n",
    "s = 0\n",
    "for i in range(4):\n",
    "    for j in range(5):\n",
    "        for f,filt in enumerate(all_filters):\n",
    "            clr_i = f\n",
    "            if paramLC_field[tx[sx[s]]] == 'ELAIS':\n",
    "                clr_i = f+3\n",
    "            cx0 = np.where((candLC_candid == paramLC_candid[tx[sx[s]]]) & \\\n",
    "                           (candLC_filter == filt) & (candLC_mrb > 0.4))[0]\n",
    "            cx1 = np.where((candLC_candid == paramLC_candid[tx[sx[s]]]) & \\\n",
    "                           (candLC_filter == filt) & (candLC_mrb <= 0.4))[0]\n",
    "            ax[i,j].plot( candLC_mjd[cx0]-59300., candLC_mag[cx0], \n",
    "                         sym[clr_i], ms=siz[clr_i], mew=0, alpha=0.6, color=clr[clr_i] )\n",
    "            ax[i,j].plot( candLC_mjd[cx1]-59300., candLC_mag[cx1], \n",
    "                         sym[clr_i], ms=siz[clr_i], mew=1, alpha=0.6, mec=clr[clr_i], color='none' )\n",
    "            del cx0, cx1\n",
    "        ax[i,j].invert_yaxis()\n",
    "        ax[i,j].set_title(paramLC_candid[tx[sx[s]]])\n",
    "        s += 1\n",
    "\n",
    "plt.tight_layout()\n",
    "plt.show()\n",
    "del tx, sx, s"
   ]
  },
  {
   "cell_type": "markdown",
   "id": "98b5efe5-41ea-4807-9ad0-f0493cf086f5",
   "metadata": {},
   "source": [
    "### 3.2. The 20 largest amplitude in the _g_ filter\n",
    "\n",
    "**Warning**: Use amplitude _in a single filter_ as the demo here, because \"the amplitude in _any_ filter\" can be due more to color than change in brightness.\n",
    "\n",
    "At least one in the top 20, DC22iykha is a supernova."
   ]
  },
  {
   "cell_type": "code",
   "execution_count": null,
   "id": "494896f3-9daf-44a2-81fc-66d072cf8016",
   "metadata": {},
   "outputs": [],
   "source": [
    "sx = np.flip(np.argsort(paramLC_amp_g))\n",
    "\n",
    "fig, ax = plt.subplots( 4, 5, figsize=(15,10), sharex=False, sharey=False )\n",
    "\n",
    "s = 0\n",
    "for i in range(4):\n",
    "    for j in range(5):\n",
    "        for f,filt in enumerate(all_filters):\n",
    "            clr_i = f\n",
    "            if paramLC_field[sx[s]] == 'ELAIS':\n",
    "                clr_i = f+3\n",
    "            cx0 = np.where((candLC_candid == paramLC_candid[sx[s]]) & \\\n",
    "                           (candLC_filter == filt) & (candLC_mrb > 0.4))[0]\n",
    "            cx1 = np.where((candLC_candid == paramLC_candid[sx[s]]) & \\\n",
    "                           (candLC_filter == filt) & (candLC_mrb <= 0.4))[0]\n",
    "            ax[i,j].plot( candLC_mjd[cx0]-59300., candLC_mag[cx0], \n",
    "                         sym[clr_i], ms=siz[clr_i], mew=0, alpha=0.6, color=clr[clr_i] )\n",
    "            ax[i,j].plot( candLC_mjd[cx1]-59300., candLC_mag[cx1], \n",
    "                         sym[clr_i], ms=siz[clr_i], mew=1, alpha=0.6, mec=clr[clr_i], color='none' )\n",
    "            del cx0, cx1\n",
    "        ax[i,j].invert_yaxis()\n",
    "        ax[i,j].set_title(paramLC_candid[sx[s]])\n",
    "        s += 1\n",
    "\n",
    "plt.tight_layout()\n",
    "plt.show()\n",
    "del sx,s"
   ]
  },
  {
   "cell_type": "markdown",
   "id": "48928185-f327-495f-8e6b-27013959469a",
   "metadata": {},
   "source": [
    "### 3.3. The 20 candidates with the most epochs in any filter\n",
    "\n",
    "They're all in ELAIS (can tell by colors), which makes sense because ELAIS had more epochs, total.\n",
    "\n",
    "These mostly look like AGN, which makes sense as they can \"always\" be seen."
   ]
  },
  {
   "cell_type": "code",
   "execution_count": null,
   "id": "ae3dee19-e8dd-47b8-8018-229ba293f97b",
   "metadata": {},
   "outputs": [],
   "source": [
    "sx = np.flip(np.argsort(paramLC_neps))\n",
    "\n",
    "fig, ax = plt.subplots( 4, 5, figsize=(15,10), sharex=False, sharey=False )\n",
    "\n",
    "s = 0\n",
    "for i in range(4):\n",
    "    for j in range(5):\n",
    "        for f,filt in enumerate(all_filters):\n",
    "            clr_i = f\n",
    "            if paramLC_field[sx[s]] == 'ELAIS':\n",
    "                clr_i = f+3\n",
    "            cx0 = np.where((candLC_candid == paramLC_candid[sx[s]]) & \\\n",
    "                           (candLC_filter == filt) & (candLC_mrb > 0.4))[0]\n",
    "            cx1 = np.where((candLC_candid == paramLC_candid[sx[s]]) & \\\n",
    "                           (candLC_filter == filt) & (candLC_mrb <= 0.4))[0]\n",
    "            ax[i,j].plot( candLC_mjd[cx0]-59300., candLC_mag[cx0], \n",
    "                         sym[clr_i], ms=siz[clr_i], mew=0, alpha=0.6, color=clr[clr_i] )\n",
    "            ax[i,j].plot( candLC_mjd[cx1]-59300., candLC_mag[cx1], \n",
    "                         sym[clr_i], ms=siz[clr_i], mew=1, alpha=0.6, mec=clr[clr_i], color='none' )\n",
    "            del cx0, cx1\n",
    "        ax[i,j].invert_yaxis()\n",
    "        ax[i,j].set_title(paramLC_candid[sx[s]])\n",
    "        s += 1\n",
    "\n",
    "plt.tight_layout()\n",
    "plt.show()\n",
    "del sx,s"
   ]
  },
  {
   "cell_type": "markdown",
   "id": "b12030d1-f04e-4426-b063-5c7e4402bbca",
   "metadata": {},
   "source": [
    "### 3.4. A random sample of 20 \"transient-Like\"\n",
    "\n",
    "A time span of 20-120 days, and an amplitude of at least 0.5 mag, in _every_ filter.\n",
    "\n",
    "Lots of supernova-like lightcurves here."
   ]
  },
  {
   "cell_type": "code",
   "execution_count": null,
   "id": "8f52f6d2-b19e-41b6-8b6a-147c6c49c0bb",
   "metadata": {},
   "outputs": [],
   "source": [
    "sx = np.where((paramLC_tspan_g > 20) & (paramLC_tspan_r > 20) & (paramLC_tspan_i > 20) &\n",
    "               (paramLC_tspan_g < 120) & (paramLC_tspan_r < 120) & (paramLC_tspan_i < 120) &\n",
    "               (paramLC_amp_g > 0.5) & (paramLC_amp_r > 0.5) & (paramLC_amp_i > 0.5))[0]\n",
    "print('Total number which met criteria: ', len(sx))\n",
    "np.random.shuffle(sx)\n",
    "\n",
    "fig, ax = plt.subplots( 4, 5, figsize=(15,10), sharex=False, sharey=False )\n",
    "\n",
    "s = 0\n",
    "for i in range(4):\n",
    "    for j in range(5):\n",
    "        for f,filt in enumerate(all_filters):\n",
    "            clr_i = f\n",
    "            if paramLC_field[sx[s]] == 'ELAIS':\n",
    "                clr_i = f+3\n",
    "            cx0 = np.where((candLC_candid == paramLC_candid[sx[s]]) & \\\n",
    "                           (candLC_filter == filt) & (candLC_mrb > 0.4))[0]\n",
    "            cx1 = np.where((candLC_candid == paramLC_candid[sx[s]]) & \\\n",
    "                           (candLC_filter == filt) & (candLC_mrb <= 0.4))[0]\n",
    "            ax[i,j].plot( candLC_mjd[cx0]-59300., candLC_mag[cx0], \n",
    "                         sym[clr_i], ms=siz[clr_i], mew=0, alpha=0.6, color=clr[clr_i] )\n",
    "            ax[i,j].plot( candLC_mjd[cx1]-59300., candLC_mag[cx1], \n",
    "                         sym[clr_i], ms=siz[clr_i], mew=1, alpha=0.6, mec=clr[clr_i], color='none' )\n",
    "            del cx0, cx1\n",
    "        ax[i,j].invert_yaxis()\n",
    "        ax[i,j].set_title(paramLC_candid[sx[s]])\n",
    "        s += 1\n",
    "\n",
    "plt.tight_layout()\n",
    "plt.show()\n",
    "del sx,s"
   ]
  },
  {
   "cell_type": "markdown",
   "id": "1f502756-37af-4983-be9f-bedfcf5de03a",
   "metadata": {},
   "source": [
    "### 3.5. Short-duration transient phenomena\n",
    "\n",
    " * Short timespan (2 to 20 days) in every filter.\n",
    " * Reaches a peak of at least 22 mag in any filter.\n",
    " * Has an amplitude of at least 0.5 mag in any filter.\n",
    "\n",
    "Display the time span and the amplitude in the upper left corner.\n",
    "\n",
    "Some appear to be \"short duration\" just by being partial lightcurves,\n",
    "but at least DC22icaog seems to have a rise and fall, just over two weeks."
   ]
  },
  {
   "cell_type": "code",
   "execution_count": null,
   "id": "0d9ad538-e7be-49fe-8a0f-55592cbc4aee",
   "metadata": {},
   "outputs": [],
   "source": [
    "sx = np.where((((paramLC_tspan_g >= 2) & (paramLC_tspan_g <= 20)) & \n",
    "               ((paramLC_tspan_r >= 2) & (paramLC_tspan_r <= 20)) & \n",
    "               ((paramLC_tspan_i >= 2) & (paramLC_tspan_i <= 20))) & \n",
    "              ((paramLC_minmag_g < 22) | (paramLC_minmag_r < 22) | (paramLC_minmag_i < 22)) &\n",
    "              ((paramLC_amp_g >= 0.5) | (paramLC_amp_r >= 0.5) | (paramLC_amp_i >= 0.5)))[0]\n",
    "print('Total number which met criteria: ', len(sx))\n",
    "np.random.shuffle(sx)\n",
    "\n",
    "fig, ax = plt.subplots( 2, 5, figsize=(15, 5), sharex=False, sharey=False )\n",
    "\n",
    "s = 0\n",
    "for i in range(2):\n",
    "    for j in range(5):\n",
    "        for f,filt in enumerate(all_filters):\n",
    "            clr_i = f\n",
    "            if paramLC_field[sx[s]] == 'ELAIS':\n",
    "                clr_i = f+3\n",
    "            cx0 = np.where((candLC_candid == paramLC_candid[sx[s]]) & \\\n",
    "                           (candLC_filter == filt) & (candLC_mrb > 0.4))[0]\n",
    "            cx1 = np.where((candLC_candid == paramLC_candid[sx[s]]) & \\\n",
    "                           (candLC_filter == filt) & (candLC_mrb <= 0.4))[0]\n",
    "            ax[i,j].plot( candLC_mjd[cx0]-59300., candLC_mag[cx0], \n",
    "                         sym[clr_i], ms=siz[clr_i], mew=0, alpha=0.6, color=clr[clr_i] )\n",
    "            ax[i,j].plot( candLC_mjd[cx1]-59300., candLC_mag[cx1], \n",
    "                         sym[clr_i], ms=siz[clr_i], mew=1, alpha=0.6, mec=clr[clr_i], color='none' )\n",
    "            del cx0, cx1\n",
    "        ax[i,j].invert_yaxis()\n",
    "        ax[i,j].set_title(paramLC_candid[sx[s]])\n",
    "        ax[i,j].text(0.70, 0.85, str(np.round(paramLC_tspan[sx[s]],0)), fontsize=12, color='black', \n",
    "                     verticalalignment='bottom', horizontalalignment='left',  transform=ax[i,j].transAxes)\n",
    "        ax[i,j].text(0.70, 0.75, str(np.round(paramLC_amp[sx[s]],1)), fontsize=12, color='black', \n",
    "                     verticalalignment='bottom', horizontalalignment='left',  transform=ax[i,j].transAxes)\n",
    "        s += 1\n",
    "\n",
    "plt.tight_layout()\n",
    "plt.show()\n",
    "del sx,s"
   ]
  },
  {
   "cell_type": "code",
   "execution_count": null,
   "id": "0f114e67-2059-41c6-8545-deb72e9b543e",
   "metadata": {},
   "outputs": [],
   "source": []
  },
  {
   "cell_type": "code",
   "execution_count": null,
   "id": "16f056a2-54b2-4347-9eba-c6a4ef623b91",
   "metadata": {},
   "outputs": [],
   "source": []
  }
 ],
 "metadata": {
  "kernelspec": {
   "display_name": "NERSC Python",
   "language": "python",
   "name": "python3"
  },
  "language_info": {
   "codemirror_mode": {
    "name": "ipython",
    "version": 3
   },
   "file_extension": ".py",
   "mimetype": "text/x-python",
   "name": "python",
   "nbconvert_exporter": "python",
   "pygments_lexer": "ipython3",
   "version": "3.9.7"
  }
 },
 "nbformat": 4,
 "nbformat_minor": 5
}
