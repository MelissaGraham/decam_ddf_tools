{
 "cells": [
  {
   "cell_type": "markdown",
   "id": "b57aeffd-c7a2-41bd-b00d-34cd85028a23",
   "metadata": {},
   "source": [
    "# Get candidate triplets\n",
    "\n",
    "Retrieve and display the triplets (new, ref, diff) for a candidate by name.\n",
    "\n",
    "This requires access to the private databases at NERSC.\n",
    "\n",
    "## Set Up"
   ]
  },
  {
   "cell_type": "code",
   "execution_count": null,
   "id": "91cc77f4-0953-4e0a-9fd8-d3c35e8df564",
   "metadata": {},
   "outputs": [],
   "source": [
    "import psycopg2\n",
    "import psycopg2.extras\n",
    "import getpass\n",
    "from IPython.display import display\n",
    "import ipywidgets\n",
    "\n",
    "import os\n",
    "import numpy as np\n",
    "import matplotlib as mpl\n",
    "import matplotlib.pyplot as plt\n",
    "# import pandas as pd\n",
    "\n",
    "from copy import deepcopy\n",
    "import time"
   ]
  },
  {
   "cell_type": "code",
   "execution_count": null,
   "id": "70f4a25a-737a-4f86-8ab9-5db0627e62d8",
   "metadata": {},
   "outputs": [],
   "source": [
    "font = {'size' : 15}\n",
    "mpl.rc('font', **font)"
   ]
  },
  {
   "cell_type": "code",
   "execution_count": null,
   "id": "4256bdb7-2952-463b-a741-4d2131716850",
   "metadata": {},
   "outputs": [],
   "source": [
    "dbuser = input(\"DB User: \")\n",
    "dbpasswd = getpass.getpass(\"DB Password: \")"
   ]
  },
  {
   "cell_type": "code",
   "execution_count": null,
   "id": "6245c588-95fe-4f93-985c-2146a1ec55e8",
   "metadata": {},
   "outputs": [],
   "source": [
    "db = psycopg2.connect(f\"dbname='decat' user='{dbuser}' password='{dbpasswd}' host='decatdb.lbl.gov'\")"
   ]
  },
  {
   "cell_type": "code",
   "execution_count": null,
   "id": "318eee65-6bb3-4ec2-aaee-da531677a6c7",
   "metadata": {},
   "outputs": [],
   "source": [
    "db.autocommit = True # Makes the computer nicer about SQL syntax errors"
   ]
  },
  {
   "cell_type": "code",
   "execution_count": null,
   "id": "266db448-e0b7-46c0-8358-8bfb33c92f14",
   "metadata": {},
   "outputs": [],
   "source": [
    "cursor = db.cursor( cursor_factory = psycopg2.extras.DictCursor )"
   ]
  },
  {
   "cell_type": "markdown",
   "id": "d3e79f52-28a7-4745-9e11-f4d17d131ddc",
   "metadata": {},
   "source": [
    "## Choose a candidate and view all triplets"
   ]
  },
  {
   "cell_type": "code",
   "execution_count": null,
   "id": "8451cd36-5500-45ac-820e-977f0309c2ec",
   "metadata": {},
   "outputs": [],
   "source": [
    "# use_candid = 'DC21ksmv'\n",
    "# use_candid = 'DC21bgiwr'\n",
    "use_candid = 'DC21qcpw'\n",
    "\n",
    "query = (\"SELECT o.id, o.ra, o.dec, o.candidate_id, o.subtraction_id, rbs.rb, o.mag, o.magerr, o.ignore FROM objects o \"\n",
    "         \"JOIN objectrbs as rbs ON o.id=rbs.object_id AND rbs.rbtype_id=2 \"\n",
    "         \"WHERE o.candidate_id = %s\")\n",
    "\n",
    "cursor.execute( query, (use_candid, ) )\n",
    "\n",
    "results = np.array( cursor.fetchall() ).transpose()"
   ]
  },
  {
   "cell_type": "code",
   "execution_count": null,
   "id": "3911e563-9403-4e57-8907-d03b41a0f042",
   "metadata": {},
   "outputs": [],
   "source": [
    "all_obj_ids = results[0]"
   ]
  },
  {
   "cell_type": "markdown",
   "id": "07a77b3d-9efb-4881-b809-1497baa9692b",
   "metadata": {},
   "source": [
    "## you can take out the date and filter constraint below"
   ]
  },
  {
   "cell_type": "code",
   "execution_count": null,
   "id": "aa996144-4eb4-4985-9187-f5d82d084c45",
   "metadata": {},
   "outputs": [],
   "source": [
    "for use_objid in all_obj_ids:\n",
    "\n",
    "    query = ( 'SELECT e.mjd, e.filename, e.filter, c.object_id, c.sci_jpeg, c.ref_jpeg, c.diff_jpeg FROM cutouts c '\n",
    "              'INNER JOIN objects o ON c.object_id = o.id '\n",
    "              'INNER JOIN subtractions s ON o.subtraction_id = s.id '\n",
    "              'INNER JOIN exposures e ON s.exposure_id = e.id '\n",
    "              'WHERE c.object_id = %s AND e.mjd > 59725 AND e.filter = %s')\n",
    "\n",
    "    cursor.execute( query, (use_objid, 'r' ) )\n",
    "    \n",
    "    for row in cursor:\n",
    "        label = ipywidgets.HTML( f'<b>Candidate:</b> {use_candid}<br><b>MJD:</b> {row[\"mjd\"]}<br><b>Filter:</b> {row[\"filter\"]}' )\n",
    "        newimg = ipywidgets.Image( value=bytes(row[\"sci_jpeg\"]), width=102, height=102, format='jpeg' )\n",
    "        refimg = ipywidgets.Image( value=bytes(row[\"ref_jpeg\"]), width=102, height=102, format='jpeg' )\n",
    "        subimg = ipywidgets.Image( value=bytes(row[\"diff_jpeg\"]), width=102, height=102, format='jpeg' )\n",
    "        box = ipywidgets.HBox( [ newimg, refimg, subimg, label ] )\n",
    "        display( box )"
   ]
  },
  {
   "cell_type": "code",
   "execution_count": null,
   "id": "ca75922e-f757-4b3a-b2a7-deb7037ad98c",
   "metadata": {},
   "outputs": [],
   "source": []
  },
  {
   "cell_type": "code",
   "execution_count": null,
   "id": "99cea834-e93b-451e-b460-a3fce69155bc",
   "metadata": {},
   "outputs": [],
   "source": []
  }
 ],
 "metadata": {
  "kernelspec": {
   "display_name": "NERSC Python",
   "language": "python",
   "name": "python3"
  },
  "language_info": {
   "codemirror_mode": {
    "name": "ipython",
    "version": 3
   },
   "file_extension": ".py",
   "mimetype": "text/x-python",
   "name": "python",
   "nbconvert_exporter": "python",
   "pygments_lexer": "ipython3",
   "version": "3.9.7"
  }
 },
 "nbformat": 4,
 "nbformat_minor": 5
}
