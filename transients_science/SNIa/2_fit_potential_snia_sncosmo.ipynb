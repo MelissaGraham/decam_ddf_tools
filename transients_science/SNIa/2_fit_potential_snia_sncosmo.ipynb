{
 "cells": [
  {
   "cell_type": "markdown",
   "id": "78028554-e03f-43d8-ade8-eae961e01340",
   "metadata": {
    "tags": []
   },
   "source": [
    "# Fit all of the potential SNIa with `sncosmo`"
   ]
  },
  {
   "cell_type": "markdown",
   "id": "2eb32894-aa32-441a-9681-f10e255bb987",
   "metadata": {},
   "source": [
    "Authors: Midori Rollins and Melissa Graham\n",
    "\n",
    "For every DDF candidate listed in `potential_snia_list.txt`, use `sncosmo` to fit the lightcurve.\n",
    "\n",
    "Write the fit results to the file `all_fit_snia_files/results_sncosmos.dat`.\n",
    "\n",
    "Save the plots output by `sncosmo` in `all_fit_snia_files/all_fit_snia.pdf`.\n",
    "\n",
    "\n",
    "\n",
    "## Set up and read in data\n",
    "\n",
    "Import packages."
   ]
  },
  {
   "cell_type": "code",
   "execution_count": 1,
   "id": "2c159a03-6baf-4cfc-ae6d-066fb60a0d4b",
   "metadata": {
    "tags": []
   },
   "outputs": [],
   "source": [
    "import sncosmo\n",
    "import iminuit\n",
    "import numpy as np\n",
    "import matplotlib.pyplot as plt\n",
    "import time\n",
    "from matplotlib.backends.backend_pdf import PdfPages"
   ]
  },
  {
   "cell_type": "markdown",
   "id": "28391c11-cd22-4e68-9067-ceceb894624d",
   "metadata": {},
   "source": [
    "Read in the nightly epoch lightcurves for all candidates."
   ]
  },
  {
   "cell_type": "code",
   "execution_count": 2,
   "id": "ebdd121f-d80e-454a-b8c9-77fd1c1cd4ba",
   "metadata": {
    "tags": []
   },
   "outputs": [],
   "source": [
    "fnm = '../all_nightly_epochs_files/candidate_lightcurves.dat'\n",
    "\n",
    "candLC_field = np.loadtxt(fnm, dtype='str', usecols=(0))\n",
    "candLC_candid = np.loadtxt(fnm, dtype='str', usecols=(1))\n",
    "candLC_caldate = np.loadtxt(fnm, dtype='str', usecols=(2))\n",
    "candLC_mjd = np.loadtxt(fnm, dtype='float', usecols=(3))\n",
    "candLC_filter = np.loadtxt(fnm, dtype='str', usecols=(4))\n",
    "candLC_Nobj = np.loadtxt(fnm, dtype='int', usecols=(5))\n",
    "candLC_mag = np.loadtxt(fnm, dtype='float', usecols=(6))\n",
    "candLC_mage = np.loadtxt(fnm, dtype='float', usecols=(7))\n",
    "candLC_mrb = np.loadtxt(fnm, dtype='float', usecols=(8))\n",
    "candLC_lef = np.loadtxt(fnm, dtype='float', usecols=(9))\n",
    "\n",
    "del fnm"
   ]
  },
  {
   "cell_type": "markdown",
   "id": "5035e13f-1a58-4dca-9e51-97b140f9408e",
   "metadata": {},
   "source": [
    "Read in the list of candidate IDs for potential SNIa that Melissa made with the MLG_snia_menagerie.ipynb notebook."
   ]
  },
  {
   "cell_type": "code",
   "execution_count": 3,
   "id": "38d43aa0-46c7-4a1b-bd13-b35cd97e4c1d",
   "metadata": {
    "tags": []
   },
   "outputs": [],
   "source": [
    "potSNIa_candid = np.loadtxt('potential_snia_list.dat', dtype='str', usecols=(0))"
   ]
  },
  {
   "cell_type": "code",
   "execution_count": 4,
   "id": "78d6a201-7204-41fa-9ffa-3776e303480a",
   "metadata": {
    "tags": []
   },
   "outputs": [],
   "source": [
    "# print(potSNIa_candid)"
   ]
  },
  {
   "cell_type": "markdown",
   "id": "8422a852-71b5-4912-8f55-eae30d22f8f4",
   "metadata": {},
   "source": [
    "## Prepare arrays to hold fit results\n",
    "\n",
    "Define arrays to hold their fit inputs and results.\n",
    "\n",
    "The estimated redshift and the input boundaries, the fit results, and the peak magnitudes in B, g, r, and i"
   ]
  },
  {
   "cell_type": "code",
   "execution_count": 5,
   "id": "697a534f-b1d8-4dd0-9172-b5ca4a06dc5e",
   "metadata": {
    "tags": []
   },
   "outputs": [],
   "source": [
    "fit_est_z = np.zeros(len(potSNIa_candid), dtype='float')\n",
    "fit_in_zlo = np.zeros(len(potSNIa_candid), dtype='float')\n",
    "fit_in_zhi = np.zeros(len(potSNIa_candid), dtype='float')\n",
    "\n",
    "fit_z   = np.zeros(len(potSNIa_candid), dtype='float')\n",
    "fit_ze  = np.zeros(len(potSNIa_candid), dtype='float') \n",
    "fit_t0  = np.zeros(len(potSNIa_candid), dtype='float')\n",
    "fit_t0e = np.zeros(len(potSNIa_candid), dtype='float')\n",
    "fit_x0  = np.zeros(len(potSNIa_candid), dtype='float')\n",
    "fit_x0e = np.zeros(len(potSNIa_candid), dtype='float')\n",
    "fit_x1  = np.zeros(len(potSNIa_candid), dtype='float')\n",
    "fit_x1e = np.zeros(len(potSNIa_candid), dtype='float')\n",
    "fit_c   = np.zeros(len(potSNIa_candid), dtype='float')\n",
    "fit_ce  = np.zeros(len(potSNIa_candid), dtype='float')\n",
    "\n",
    "fit_pmB = np.zeros(len(potSNIa_candid), dtype='float')\n",
    "fit_pmg = np.zeros(len(potSNIa_candid), dtype='float')\n",
    "fit_pmr = np.zeros(len(potSNIa_candid), dtype='float')\n",
    "fit_pmi = np.zeros(len(potSNIa_candid), dtype='float')"
   ]
  },
  {
   "cell_type": "markdown",
   "id": "09f25bc6-dd83-435c-bc26-28c79f5bbfb1",
   "metadata": {},
   "source": [
    "### Skip candidates which cause `sncosmo` to fail\n",
    "\n",
    "Some potential SNIa are just clearly not SNIa and `sncosmo` fails, and should be skipped during fitting."
   ]
  },
  {
   "cell_type": "code",
   "execution_count": 6,
   "id": "07157816-271a-4787-9f4a-3f24d1446d2c",
   "metadata": {
    "tags": []
   },
   "outputs": [],
   "source": [
    "skip_SNIa = np.asarray(['DC21bfph', 'DC21vfl'], dtype='str')"
   ]
  },
  {
   "cell_type": "markdown",
   "id": "2d170a00-f938-450e-96ab-6b4120986a91",
   "metadata": {},
   "source": [
    "## Run `sncosmo`"
   ]
  },
  {
   "cell_type": "markdown",
   "id": "c31530c8-7045-40c4-8de9-de7dfb4f3076",
   "metadata": {},
   "source": [
    "Define the  model for `sncosmo`."
   ]
  },
  {
   "cell_type": "code",
   "execution_count": 7,
   "id": "38c35619-bfb9-49bb-ab6d-71c70fc2a15f",
   "metadata": {
    "tags": []
   },
   "outputs": [],
   "source": [
    "model = sncosmo.Model(source='salt2')"
   ]
  },
  {
   "cell_type": "markdown",
   "id": "5b365fc5-e36a-42ae-b807-f2b738d3dba3",
   "metadata": {},
   "source": [
    "Ignore runtime error \"divide by zero encountered\"."
   ]
  },
  {
   "cell_type": "code",
   "execution_count": 8,
   "id": "f8257fda-a5cd-4c99-9808-df5645c8cc89",
   "metadata": {
    "tags": []
   },
   "outputs": [
    {
     "data": {
      "text/plain": [
       "{'divide': 'warn', 'over': 'warn', 'under': 'ignore', 'invalid': 'warn'}"
      ]
     },
     "execution_count": 8,
     "metadata": {},
     "output_type": "execute_result"
    }
   ],
   "source": [
    "np.seterr(divide='ignore', invalid='ignore')"
   ]
  },
  {
   "cell_type": "markdown",
   "id": "e87213a3-df12-4c08-93b0-19ff653eff9b",
   "metadata": {},
   "source": [
    "Run `sncosmo` for each potential SNIa.\n",
    "\n",
    "Put all the plots output by `sncosmo` into a single PDF \"slide deck\",\n",
    "named `all_fit_snia_files/all_fit_snia.pdf`.\n",
    "\n",
    "Any SNIa on the `skip_SNIa` list have their results set to default values of -99.9.\n",
    "\n",
    "The only fit boundaries used are those of redshift. The lowest redshift that\n",
    "`sncosmo` can accept is 0.05, so that is the lower limit on the lower boundary.\n",
    "Use a range of 0.3 (+0.15 and -0.15 from the estimated redshift, which is based\n",
    "on the minimum magnitude).\n",
    "\n",
    "Use a zeropoint of 31.4 mag, the value to use with AB magnitudes and fluxes in nJy."
   ]
  },
  {
   "cell_type": "code",
   "execution_count": 9,
   "id": "4da1187d-e328-4cb3-be82-7324ecb7b09c",
   "metadata": {
    "tags": []
   },
   "outputs": [],
   "source": [
    "temp = []\n",
    "pp = PdfPages('all_fit_snia_files/all_fit_snia.pdf')\n",
    "zeropoint = 31.4\n",
    "\n",
    "for c in range(len(potSNIa_candid)):\n",
    "    \n",
    "    temp.append(potSNIa_candid[c])\n",
    "    \n",
    "    sx = np.where(potSNIa_candid[c] == skip_SNIa)[0]\n",
    "    if len(sx) == 0:\n",
    "\n",
    "        # identify the lightcurve points for this candidate\n",
    "        # do not include any lonely epochs\n",
    "        tx = np.where((candLC_candid == potSNIa_candid[c]) & \n",
    "                      (candLC_lef == 0))[0]\n",
    "\n",
    "        # get the minimum magnitude\n",
    "        min_mag = np.min(candLC_mag[tx])\n",
    "\n",
    "        # estimate the redshift based on minimum detected brightness\n",
    "        #  z   = H0 * D_L / c\n",
    "        #  mu  = 5.0 log(D_L) +25\n",
    "        #  mu  = m - M = m + 19.3\n",
    "        est_z = 70.0 * 10.0**(((min_mag + 19.3) - 25.0)/5.0) / 300000.0 ## estimate redshift\n",
    "\n",
    "        # set the redshift boundaries\n",
    "        zlo = est_z - 0.15\n",
    "        zhi = est_z + 0.15\n",
    "        if zlo < 0.05:\n",
    "            diff = 0.05-zlo\n",
    "            zlo = 0.05\n",
    "            zhi += diff\n",
    "            del diff\n",
    "        \n",
    "        fit_est_z[c] = est_z\n",
    "        fit_in_zlo[c] = zlo\n",
    "        fit_in_zhi[c] = zhi\n",
    "        \n",
    "        # write the lightcurve to a temporary file for sncosmo to read\n",
    "        fout = open('temp_sncosmo.txt', 'w')\n",
    "        fout.write('     time      band       flux         fluxerr      zp  zpsys \\n')\n",
    "        for x in tx:\n",
    "            if np.isfinite(candLC_mag[x]):\n",
    "                flux = 10.0**((candLC_mag[x] - zeropoint)/(-2.5))\n",
    "                fluxhi = 10.0**(((candLC_mag[x]-candLC_mage[x]) - zeropoint)/(-2.5))\n",
    "                fluxe = fluxhi - flux\n",
    "                fout.write('%13.4f %5s %15.7f %14.7f %5.1f ab \\n' % \\\n",
    "                           (candLC_mjd[x], 'sdss'+candLC_filter[x], flux, fluxe, zeropoint))\n",
    "        fout.close()\n",
    "\n",
    "        # read the file with sncosmo\n",
    "        data = sncosmo.read_lc('temp_sncosmo.txt')\n",
    "\n",
    "        # do the fit\n",
    "        result, fitted_model = sncosmo.fit_lc(data, model, ['z', 't0', 'x0', 'x1', 'c'], \n",
    "                                              bounds={'z':(zlo, zhi)})\n",
    "\n",
    "        # store the results in the arrays\n",
    "        fit_z[c]  = result['parameters'][0]\n",
    "        fit_t0[c] = result['parameters'][1]\n",
    "        fit_x0[c] = result['parameters'][2]\n",
    "        fit_x1[c] = result['parameters'][3]\n",
    "        fit_c[c]  = result['parameters'][4]\n",
    "        fit_ze[c]  = result['errors']['z']\n",
    "        fit_t0e[c] = result['errors']['t0']\n",
    "        fit_x0e[c] = result['errors']['x0']\n",
    "        fit_x1e[c] = result['errors']['x1']\n",
    "        fit_ce[c]  = result['errors']['c']\n",
    "        \n",
    "        fit_pmB[c] = fitted_model.source_peakmag('bessellb', 'ab')\n",
    "        fit_pmg[c] = fitted_model.source_peakmag('sdssg', 'ab')\n",
    "        fit_pmr[c] = fitted_model.source_peakmag('sdssr', 'ab')\n",
    "        fit_pmi[c] = fitted_model.source_peakmag('sdssi', 'ab')\n",
    "\n",
    "        # add the sncosmos fit results plot to the PDF\n",
    "        sncosmo.plot_lc(data, model=fitted_model, errors=result.errors, \n",
    "                        model_label=potSNIa_candid[c], fname=pp, format='pdf')\n",
    "        \n",
    "        # clean up\n",
    "        del min_mag, est_z\n",
    "        del tx\n",
    "        del data, result, fitted_model, zlo, zhi\n",
    "        \n",
    "    else:\n",
    "        # set as default values to indicate no fit\n",
    "        fit_z[c]  = -99.9\n",
    "        fit_t0[c] = -99.9\n",
    "        fit_x0[c] = -99.9\n",
    "        fit_x1[c] = -99.9\n",
    "        fit_c[c]  = -99.9\n",
    "        fit_ze[c]  = -99.9\n",
    "        fit_t0e[c] = -99.9\n",
    "        fit_x0e[c] = -99.9\n",
    "        fit_x1e[c] = -99.9\n",
    "        fit_ce[c]  = -99.9\n",
    "    \n",
    "# convert list of candidate names to array\n",
    "fit_cand = np.asarray(temp, dtype='str')\n",
    "del temp\n",
    "\n",
    "pp.close()"
   ]
  },
  {
   "cell_type": "markdown",
   "id": "11f2caf4-770d-4e3c-9338-bfc8a90b5394",
   "metadata": {},
   "source": [
    "### Quick check of results\n",
    "\n",
    "Show, as a quick check, the estimated redshift vs. the fit redshift (with the option to uncomment lines and plot the lower and upper boundaries on the fit redshift)."
   ]
  },
  {
   "cell_type": "code",
   "execution_count": 10,
   "id": "d2dd9b15-80f5-48ba-94a3-6ad2d0920dae",
   "metadata": {
    "tags": []
   },
   "outputs": [
    {
     "data": {
      "image/png": "[encoded data removed]",
      "text/plain": [
       "<Figure size 432x432 with 1 Axes>"
      ]
     },
     "metadata": {
      "needs_background": "light"
     },
     "output_type": "display_data"
    }
   ],
   "source": [
    "plt.figure(figsize=(6, 6))\n",
    "\n",
    "tx = np.where(fit_z > -99.9)[0]\n",
    "\n",
    "plt.plot([0.05, 0.7], [0.05, 0.7], ls='solid', lw=1, alpha=0.4, color='grey')\n",
    "# plt.plot(fit_in_zlo[tx], fit_z[tx], 'o', ms=4, alpha=0.4, mew=0, color='blue', label='zlo')\n",
    "plt.plot(fit_est_z[tx],  fit_z[tx], 'o', ms=4, alpha=0.4, mew=0, color='black', label='est')\n",
    "# plt.plot(fit_in_zhi[tx], fit_z[tx], 'o', ms=4, alpha=0.4, mew=0, color='red', label='zhi')\n",
    "\n",
    "plt.legend(loc='best')\n",
    "plt.xlim([0.0,0.7])\n",
    "plt.ylim([0.0,0.7])\n",
    "plt.xlabel('input z')\n",
    "plt.ylabel('fit z')\n",
    "plt.show()"
   ]
  },
  {
   "cell_type": "markdown",
   "id": "c8f6d86d-92d4-4065-b4db-dc10e2ce6d6a",
   "metadata": {},
   "source": [
    "Compare the fitted magnitudes with the equation \n",
    "$m_{B} = −2.5\\log(x_{0})+10.635$\n",
    "(from <a href=\"https://arxiv.org/abs/1401.4065\">Mosher et al. 2014</a>)\n",
    "\n",
    "The SDSS g-band would be closest to the Bessel B-band, so green and black points should be similar."
   ]
  },
  {
   "cell_type": "code",
   "execution_count": 11,
   "id": "d2d4f1f3-a7d6-4e3d-9672-28459ff34f2f",
   "metadata": {
    "tags": []
   },
   "outputs": [
    {
     "data": {
      "image/png": "[encoded data removed]",
      "text/plain": [
       "<Figure size 432x432 with 1 Axes>"
      ]
     },
     "metadata": {
      "needs_background": "light"
     },
     "output_type": "display_data"
    }
   ],
   "source": [
    "plt.figure(figsize=(6, 6))\n",
    "\n",
    "tx = np.where(fit_z > -99.9)[0]\n",
    "\n",
    "plt.plot([19.0, 24.0], [19.0, 24.0], ls='solid', alpha=0.5, lw=1, color='grey')\n",
    "plt.plot(-2.5 * np.log10(fit_x0[tx]) + 10.635, fit_pmB[tx], 'o', ms=4, alpha=0.4, mew=0, \n",
    "         color='black', label='B')\n",
    "plt.plot(-2.5 * np.log10(fit_x0[tx]) + 10.635, fit_pmg[tx], 'o', ms=4, alpha=0.4, mew=0, \n",
    "         color='darkgreen', label='g')\n",
    "plt.plot(-2.5 * np.log10(fit_x0[tx]) + 10.635, fit_pmr[tx], 'o', ms=4, alpha=0.4, mew=0, \n",
    "         color='red', label='r')\n",
    "plt.plot(-2.5 * np.log10(fit_x0[tx]) + 10.635, fit_pmi[tx], 'o', ms=4, alpha=0.4, mew=0, \n",
    "         color='blue', label='i')\n",
    "plt.legend(loc='best')\n",
    "\n",
    "plt.xlim([19.0, 24.0])\n",
    "plt.ylim([19.0, 24.0])\n",
    "plt.xlabel('-2.5log(x0) + 10.635')\n",
    "plt.ylabel('fit peak mag')\n",
    "plt.show()"
   ]
  },
  {
   "cell_type": "markdown",
   "id": "f00e51e4-21d7-42f6-91fd-292f48f86621",
   "metadata": {},
   "source": [
    "The rest of the analysis will be done in subsequent notebooks."
   ]
  },
  {
   "cell_type": "markdown",
   "id": "3c84ef34-ee6f-424e-8f93-96680813cd5e",
   "metadata": {
    "tags": []
   },
   "source": [
    "### Write the fit results to a file"
   ]
  },
  {
   "cell_type": "code",
   "execution_count": 12,
   "id": "09409031-dd2a-4442-a0ae-134ef06f879e",
   "metadata": {
    "tags": []
   },
   "outputs": [
    {
     "name": "stdout",
     "output_type": "stream",
     "text": [
      "Wrote to:  all_fit_snia_files/results_sncosmos.dat\n"
     ]
    }
   ],
   "source": [
    "fnm = 'all_fit_snia_files/results_sncosmos.dat'\n",
    "fout = open(fnm, 'w')\n",
    "\n",
    "fout.write('# Melissa Graham & Midori Rollins, fit_potential_snia_sncosmos.ipynb \\n')\n",
    "tnow = time.strftime(\"%a, %d %b %Y %H:%M:%S +0000\", time.gmtime())\n",
    "fout.write('# UTC = '+tnow+' \\n')\n",
    "del tnow\n",
    "fout.write('# \\n')\n",
    "fout.write('# Columns \\n')\n",
    "fout.write('#  0 id -- candidate identifier \\n')\n",
    "fout.write('#  1 estimated redshift \\n')\n",
    "fout.write('#  2 redshift lower boundry intput to fit \\n')\n",
    "fout.write('#  3 redshift upper boundry intput to fit \\n')\n",
    "fout.write('#  4 fit redshift \\n')\n",
    "fout.write('#  5 error in fit redshift \\n')\n",
    "fout.write('#  6 fit t0 \\n')\n",
    "fout.write('#  7 error in fit t0 \\n')\n",
    "fout.write('#  8 fit x0 \\n')\n",
    "fout.write('#  9 error in fit x0 \\n')\n",
    "fout.write('# 10 fit x1 \\n')\n",
    "fout.write('# 11 error in fit x1 \\n')\n",
    "fout.write('# 12 fit c \\n')\n",
    "fout.write('# 13 error in fit c \\n')\n",
    "fout.write('# 14 fit peak magnitude in bessel B \\n')\n",
    "fout.write('# 15 fit peak magnitude in sdss g \\n')\n",
    "fout.write('# 16 fit peak magnitude in sdss r \\n')\n",
    "fout.write('# 17 fit peak magnitude in sdss i \\n')\n",
    "fout.write('# \\n')\n",
    "\n",
    "for c in range(len(potSNIa_candid)):\n",
    "    fout.write('%-14s %5.3f %5.3f %5.3f   '\n",
    "               '%5.3f %5.3f %8.2f %5.2f '\n",
    "               '%12.4E %12.4E %10.4f %10.4f '\n",
    "               '%10.4f %10.4f '\n",
    "               '%10.4f %10.4f %10.4f %10.4f \\n' % \\\n",
    "               (fit_cand[c], fit_est_z[c], fit_in_zlo[c], fit_in_zhi[c], \n",
    "                fit_z[c], fit_ze[c], fit_t0[c], fit_t0e[c], \n",
    "                fit_x0[c], fit_x0e[c], fit_x1[c], fit_x1e[c], \n",
    "                fit_c[c], fit_ce[c], \n",
    "                fit_pmB[c], fit_pmg[c], fit_pmr[c], fit_pmi[c]) )\n",
    "        \n",
    "fout.close()\n",
    "print('Wrote to: ', fnm)\n",
    "del fnm"
   ]
  },
  {
   "cell_type": "code",
   "execution_count": null,
   "id": "094d9f38-1929-49be-856c-d3d6dbc57023",
   "metadata": {},
   "outputs": [],
   "source": []
  }
 ],
 "metadata": {
  "kernelspec": {
   "display_name": "NERSC Python",
   "language": "python",
   "name": "python3"
  },
  "language_info": {
   "codemirror_mode": {
    "name": "ipython",
    "version": 3
   },
   "file_extension": ".py",
   "mimetype": "text/x-python",
   "name": "python",
   "nbconvert_exporter": "python",
   "pygments_lexer": "ipython3",
   "version": "3.9.7"
  }
 },
 "nbformat": 4,
 "nbformat_minor": 5
}
