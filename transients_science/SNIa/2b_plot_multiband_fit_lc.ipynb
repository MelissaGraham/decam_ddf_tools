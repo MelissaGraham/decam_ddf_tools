{
 "cells": [
  {
   "cell_type": "markdown",
   "id": "5c0fb4c0-1979-4ecb-8e59-929d65111baf",
   "metadata": {},
   "source": [
    "# Plot the sncosmo fit with DECam DDF nightly-epoch photometry\n",
    "\n",
    "Should have pickled the fitted model or something as part of notebook 2...\n",
    "but we didn't, so just redo the fit using the same redshift inputs.\n",
    "\n",
    "Then create a single multi-band plot with the multi-band fit SNIa light curve.\n",
    "\n",
    "Save the multi-band plot to `2_all_potential_snia_fits/multiband_fit_plots/`. "
   ]
  },
  {
   "cell_type": "code",
   "execution_count": 1,
   "id": "aceb0200-09c8-44a6-9b30-bad23a813a14",
   "metadata": {
    "tags": []
   },
   "outputs": [],
   "source": [
    "import sncosmo\n",
    "import iminuit\n",
    "import numpy as np\n",
    "import matplotlib.pyplot as plt\n",
    "import time\n",
    "from matplotlib.backends.backend_pdf import PdfPages"
   ]
  },
  {
   "cell_type": "markdown",
   "id": "7d5fa243-4f09-467f-b48c-4112232b7cab",
   "metadata": {},
   "source": [
    "**Define the name of the candidate to be plotted.**"
   ]
  },
  {
   "cell_type": "code",
   "execution_count": 2,
   "id": "0be1b671-a810-468d-8755-c22f39d7f207",
   "metadata": {
    "tags": []
   },
   "outputs": [],
   "source": [
    "use_candidate = 'DC21dsocp'"
   ]
  },
  {
   "cell_type": "markdown",
   "id": "84ac8828-ebd5-4bbb-aee8-ad9ff07c1d5e",
   "metadata": {},
   "source": [
    "Set up the model and plotting parameters."
   ]
  },
  {
   "cell_type": "code",
   "execution_count": 3,
   "id": "7df9bc79-990a-4ed7-991e-d19ee0d41929",
   "metadata": {
    "tags": []
   },
   "outputs": [],
   "source": [
    "model = sncosmo.Model(source='salt2')\n",
    "zeropoint = 31.4"
   ]
  },
  {
   "cell_type": "code",
   "execution_count": 4,
   "id": "8a17e8cc-d423-495a-bff8-afdf48353f7b",
   "metadata": {
    "tags": []
   },
   "outputs": [
    {
     "data": {
      "text/plain": [
       "{'divide': 'warn', 'over': 'warn', 'under': 'ignore', 'invalid': 'warn'}"
      ]
     },
     "execution_count": 4,
     "metadata": {},
     "output_type": "execute_result"
    }
   ],
   "source": [
    "np.seterr(divide='ignore', invalid='ignore')"
   ]
  },
  {
   "cell_type": "code",
   "execution_count": 5,
   "id": "123c26fd-3a72-4b33-ac3a-4359e3bab715",
   "metadata": {
    "tags": []
   },
   "outputs": [],
   "source": [
    "all_filters = ['g','r','i']\n",
    "all_fcolors = ['green','red','blue']\n",
    "all_fshapes = ['o','s','^']\n",
    "all_fsizes  = [5, 5, 7]"
   ]
  },
  {
   "cell_type": "markdown",
   "id": "15f2f4f4-60f7-4864-aee0-76e7a69363f0",
   "metadata": {},
   "source": [
    "Read the relevant data files."
   ]
  },
  {
   "cell_type": "code",
   "execution_count": 6,
   "id": "df63bd7f-3485-47ea-80b6-b77af46fe5f5",
   "metadata": {
    "tags": []
   },
   "outputs": [],
   "source": [
    "fnm = '../all_nightly_epochs_files/candidate_lightcurves.dat'\n",
    "candLC_field = np.loadtxt(fnm, dtype='str', usecols=(0))\n",
    "candLC_candid = np.loadtxt(fnm, dtype='str', usecols=(1))\n",
    "candLC_caldate = np.loadtxt(fnm, dtype='str', usecols=(2))\n",
    "candLC_mjd = np.loadtxt(fnm, dtype='float', usecols=(3))\n",
    "candLC_filter = np.loadtxt(fnm, dtype='str', usecols=(4))\n",
    "candLC_Nobj = np.loadtxt(fnm, dtype='int', usecols=(5))\n",
    "candLC_mag = np.loadtxt(fnm, dtype='float', usecols=(6))\n",
    "candLC_mage = np.loadtxt(fnm, dtype='float', usecols=(7))\n",
    "candLC_mrb = np.loadtxt(fnm, dtype='float', usecols=(8))\n",
    "candLC_lef = np.loadtxt(fnm, dtype='float', usecols=(9))\n",
    "del fnm"
   ]
  },
  {
   "cell_type": "code",
   "execution_count": 17,
   "id": "8cedeb83-f572-49eb-a906-c9ed27536409",
   "metadata": {
    "tags": []
   },
   "outputs": [
    {
     "name": "stdout",
     "output_type": "stream",
     "text": [
      "ELAIS\n"
     ]
    }
   ],
   "source": [
    "cx = np.where(candLC_candid == use_candidate)[0]\n",
    "use_field = candLC_field[cx[0]]\n",
    "del cx\n",
    "print(use_field)"
   ]
  },
  {
   "cell_type": "code",
   "execution_count": 7,
   "id": "2fed2a22-a83e-4fa3-aa98-727c12fa947c",
   "metadata": {
    "tags": []
   },
   "outputs": [],
   "source": [
    "fnm = '2_all_potential_snia_fits/results_sncosmos.dat'\n",
    "fit_cand = np.loadtxt(fnm, dtype='str', usecols=(0))\n",
    "fit_est_z = np.loadtxt(fnm, dtype='float', usecols=(1))\n",
    "fit_in_zlo = np.loadtxt(fnm, dtype='float', usecols=(2))\n",
    "fit_in_zhi = np.loadtxt(fnm, dtype='float', usecols=(3))\n",
    "fit_z = np.loadtxt(fnm, dtype='float', usecols=(4))\n",
    "fit_ze = np.loadtxt(fnm, dtype='float', usecols=(5))\n",
    "fit_t0 = np.loadtxt(fnm, dtype='float', usecols=(6))\n",
    "fit_t0e = np.loadtxt(fnm, dtype='float', usecols=(7))\n",
    "fit_x0 = np.loadtxt(fnm, dtype='float', usecols=(8))\n",
    "fit_x0e = np.loadtxt(fnm, dtype='float', usecols=(9))\n",
    "fit_x1 = np.loadtxt(fnm, dtype='float', usecols=(10))\n",
    "fit_x1e = np.loadtxt(fnm, dtype='float', usecols=(11))\n",
    "fit_c = np.loadtxt(fnm, dtype='float', usecols=(12))\n",
    "fit_ce = np.loadtxt(fnm, dtype='float', usecols=(13))\n",
    "fit_pmB = np.loadtxt(fnm, dtype='float', usecols=(14))\n",
    "fit_pmg = np.loadtxt(fnm, dtype='float', usecols=(15))\n",
    "fit_pmr = np.loadtxt(fnm, dtype='float', usecols=(16))\n",
    "fit_pmi = np.loadtxt(fnm, dtype='float', usecols=(17))\n",
    "del fnm"
   ]
  },
  {
   "cell_type": "code",
   "execution_count": 16,
   "id": "b645e966-88af-4eb6-8f3e-16ecbe15dcd0",
   "metadata": {
    "tags": []
   },
   "outputs": [],
   "source": [
    "fnm = '../all_nightly_epochs_files/nightly_epoch_magnitude_limits.dat'\n",
    "neml_field = np.loadtxt(fnm, dtype='str', usecols=(0))\n",
    "neml_caldate = np.loadtxt(fnm, dtype='str', usecols=(1))\n",
    "neml_mjd = np.loadtxt(fnm, dtype='float', usecols=(2))\n",
    "neml_filter = np.loadtxt(fnm, dtype='str', usecols=(3))\n",
    "neml_nimgs = np.loadtxt(fnm, dtype='int', usecols=(4))\n",
    "neml_limmag = np.loadtxt(fnm, dtype='float', usecols=(5))\n",
    "neml_limmage = np.loadtxt(fnm, dtype='float', usecols=(6))\n",
    "del fnm"
   ]
  },
  {
   "cell_type": "markdown",
   "id": "ba961c6d-00e9-452f-826c-fb0c945ce8fe",
   "metadata": {},
   "source": [
    "Create a light curve file in the format expected by `sncosmo`, then read it in with `sncosmo`."
   ]
  },
  {
   "cell_type": "code",
   "execution_count": 8,
   "id": "12e5e5ea-9285-4414-9668-d93b8f3364f0",
   "metadata": {
    "tags": []
   },
   "outputs": [],
   "source": [
    "px = np.where((candLC_candid == use_candidate) & (candLC_lef == 0))[0]\n",
    "fout = open('temp_sncosmo.txt', 'w')\n",
    "fout.write('     time      band       flux         fluxerr      zp  zpsys \\n')\n",
    "for x in px:\n",
    "    if np.isfinite(candLC_mag[x]):\n",
    "        flux = 10.0**((candLC_mag[x] - zeropoint)/(-2.5))\n",
    "        fluxhi = 10.0**(((candLC_mag[x]-candLC_mage[x]) - zeropoint)/(-2.5))\n",
    "        fluxe = fluxhi - flux\n",
    "        fout.write('%13.4f %5s %15.7f %14.7f %5.1f ab \\n' % \\\n",
    "                   (candLC_mjd[x], 'sdss'+candLC_filter[x], flux, fluxe, zeropoint))\n",
    "fout.close()\n",
    "del px"
   ]
  },
  {
   "cell_type": "code",
   "execution_count": 9,
   "id": "a48e6ecc-263c-473d-8dac-3fe4fbab5fd8",
   "metadata": {
    "tags": []
   },
   "outputs": [],
   "source": [
    "data = sncosmo.read_lc('temp_sncosmo.txt')"
   ]
  },
  {
   "cell_type": "code",
   "execution_count": 10,
   "id": "9a6cab06-75d6-4249-8ad7-b2151b79574b",
   "metadata": {
    "tags": []
   },
   "outputs": [],
   "source": [
    "# data"
   ]
  },
  {
   "cell_type": "markdown",
   "id": "7cee8e36-ca36-42b7-9f89-d0d2f1075508",
   "metadata": {},
   "source": [
    "Run the fit with `sncosmo`, use the same input redshift boundaries as in notebook 2."
   ]
  },
  {
   "cell_type": "code",
   "execution_count": 11,
   "id": "e4c73ce9-b2c9-434e-b73c-d3f6dec3a980",
   "metadata": {
    "tags": []
   },
   "outputs": [],
   "source": [
    "cx = np.where(fit_cand == use_candidate)[0]\n",
    "result, fitted_model = sncosmo.fit_lc(data, model, ['z', 't0', 'x0', 'x1', 'c'], \n",
    "                                      bounds={'z':(fit_in_zlo[cx[0]], fit_in_zhi[cx[0]])})\n",
    "del cx"
   ]
  },
  {
   "cell_type": "code",
   "execution_count": 12,
   "id": "750eeba7-0a6b-49f2-99d8-6075a79f7900",
   "metadata": {
    "tags": []
   },
   "outputs": [],
   "source": [
    "# result"
   ]
  },
  {
   "cell_type": "code",
   "execution_count": 13,
   "id": "ccba5a8d-5837-4aa9-9572-2aa3f9e58134",
   "metadata": {
    "tags": []
   },
   "outputs": [],
   "source": [
    "# fitted_model"
   ]
  },
  {
   "cell_type": "markdown",
   "id": "a563a651-9665-468f-a5dd-0cf4993b0e99",
   "metadata": {},
   "source": [
    "Create the multi-band light curve plot with the fits."
   ]
  },
  {
   "cell_type": "code",
   "execution_count": 31,
   "id": "1f2425c7-2a25-41b6-920d-e132f1f7f4de",
   "metadata": {
    "tags": []
   },
   "outputs": [
    {
     "name": "stdout",
     "output_type": "stream",
     "text": [
      "xmin, xmax:  59553.20172 59602.097206\n",
      "[59546.199002 59549.196275 59552.200636 59558.201717 59561.201677\n",
      " 59564.09446  59567.083523 59570.094802 59572.094411 59582.098098\n",
      " 59592.095451 59597.086051]\n"
     ]
    },
    {
     "data": {
      "image/png": "[encoded data removed]",
      "text/plain": [
       "<Figure size 600x400 with 1 Axes>"
      ]
     },
     "metadata": {},
     "output_type": "display_data"
    }
   ],
   "source": [
    "fig = plt.figure(figsize=(6, 4))\n",
    "plt.rcParams.update({'font.size': 14})\n",
    "\n",
    "px = np.where(candLC_candid == use_candidate)[0]\n",
    "xmin = np.min(candLC_mjd[px]) - 5\n",
    "xmax = np.max(candLC_mjd[px]) + 5\n",
    "del px\n",
    "\n",
    "fit_x = np.arange(np.ceil(xmax-xmin), dtype='float') + xmin\n",
    "\n",
    "for f, filt in enumerate(all_filters):\n",
    "    cx0 = np.where((candLC_candid == use_candidate) & (candLC_filter == filt) & \n",
    "                   (candLC_mrb > 0.4))[0]\n",
    "    cx1 = np.where((candLC_candid == use_candidate) & (candLC_filter == filt) & \n",
    "                   (candLC_mrb <= 0.4) & (candLC_lef == 0))[0]\n",
    "    cx2 = np.where((candLC_candid == use_candidate) & (candLC_filter == filt) & \n",
    "                   (candLC_mrb <= 0.4) & (candLC_lef == 1))[0]\n",
    "    if(len(cx0) > 0):\n",
    "        # plt.plot(candLC_mjd[cx0], candLC_mag[cx0], all_fshapes[f], ms=all_fsizes[f], \n",
    "        #          mew=0, alpha=0.8, color=all_fcolors[f], label=filt)\n",
    "        plt.errorbar(candLC_mjd[cx0], candLC_mag[cx0], yerr=candLC_mage[cx0],\n",
    "                     fmt=all_fshapes[f], ms=all_fsizes[f], mew=0, alpha=0.8, color=all_fcolors[f], label=filt)\n",
    "    if(len(cx1) > 0):\n",
    "        plt.plot(candLC_mjd[cx1], candLC_mag[cx1], all_fshapes[f], ms=all_fsizes[f], \n",
    "                 mew=1, alpha=0.8, color='none', mec=all_fcolors[f], label=filt+' (R/B<0.4)')\n",
    "    if(len(cx2) > 0):\n",
    "        plt.plot(candLC_mjd[cx2], candLC_mag[cx2], all_fshapes[f], ms=all_fsizes[f]-1, \n",
    "                 mew=0, alpha=0.4, color=all_fcolors[f])\n",
    "    del cx0, cx1, cx2\n",
    "    \n",
    "    sdss_band = 'sdss' + filt\n",
    "    fit_m = np.zeros(len(fit_x), dtype='float')\n",
    "    for x, day in enumerate(fit_x):\n",
    "        fit_m[x] = fitted_model.bandmag(sdss_band, 'ab', day)\n",
    "    plt.plot(fit_x, fit_m, lw=1, color=all_fcolors[f])\n",
    "    del fit_m\n",
    "\n",
    "plt.xlim([xmin - 10.0, xmax + 5.0])\n",
    "print('xmin, xmax: ', xmin, xmax)\n",
    "\n",
    "show_lims = True\n",
    "lims_filt = 'g'\n",
    "if show_lims:\n",
    "    tx = np.where((neml_field == use_field) & \n",
    "                  (neml_filter == lims_filt) & \n",
    "                  (neml_mjd > xmin - 10.0) & (neml_mjd < xmax + 5.0))[0]\n",
    "    epochs = neml_mjd[tx]\n",
    "    lims = neml_limmag[tx]\n",
    "    print(epochs)\n",
    "    plt.plot(epochs, lims, 'v', ms=3, color='grey', label=lims_filt+' limit')\n",
    "\n",
    "plt.xlabel('Modified Julian Date', fontsize=14)\n",
    "plt.ylabel('Apparent Magnitude', fontsize=14)\n",
    "del xmin, xmax\n",
    "\n",
    "plt.gca().invert_yaxis()\n",
    "plt.title(use_candidate)\n",
    "plt.legend(loc='lower right', labelspacing=0.1, handletextpad=0.1, fontsize=14)\n",
    "\n",
    "fig.tight_layout()\n",
    "plt.savefig('2_all_potential_snia_fits/multiband_fit_plots/fit_multiband_'+use_candidate)\n",
    "plt.show()"
   ]
  },
  {
   "cell_type": "markdown",
   "id": "29200932-beb9-45dd-93be-a65808bc477f",
   "metadata": {},
   "source": [
    "Read in the links from the file of handy links and print them for this candidate for quick reference."
   ]
  },
  {
   "cell_type": "code",
   "execution_count": 15,
   "id": "f720cea5-616e-4b09-8725-f4cd4978a814",
   "metadata": {
    "tags": []
   },
   "outputs": [
    {
     "name": "stdout",
     "output_type": "stream",
     "text": [
      "https://www.legacysurvey.org/viewer/cutout.jpg?ra=7.89430001010988&dec=-43.3046717303237&layer=ls-dr9&pixscale=0.06\n",
      "https://decat-webap.lbl.gov/decatview.py/cand/DC21dsocp\n"
     ]
    }
   ],
   "source": [
    "fnm = '../cross_matched_LSDR10/candidate_links.dat'\n",
    "link_candid = np.loadtxt(fnm, dtype='str', usecols=(0))\n",
    "link_lsview = np.loadtxt(fnm, dtype='str', usecols=(1))\n",
    "link_rkview = np.loadtxt(fnm, dtype='str', usecols=(2))\n",
    "cx = np.where(link_candid == use_candidate)[0]\n",
    "print(link_lsview[cx[0]])\n",
    "print(link_rkview[cx[0]])\n",
    "del fnm, cx"
   ]
  },
  {
   "cell_type": "code",
   "execution_count": null,
   "id": "c4ebf1c7-f2f0-48a6-b738-7fa2b36e2858",
   "metadata": {},
   "outputs": [],
   "source": []
  }
 ],
 "metadata": {
  "kernelspec": {
   "display_name": "NERSC Python",
   "language": "python",
   "name": "python3"
  },
  "language_info": {
   "codemirror_mode": {
    "name": "ipython",
    "version": 3
   },
   "file_extension": ".py",
   "mimetype": "text/x-python",
   "name": "python",
   "nbconvert_exporter": "python",
   "pygments_lexer": "ipython3",
   "version": "3.11.7"
  }
 },
 "nbformat": 4,
 "nbformat_minor": 5
}
