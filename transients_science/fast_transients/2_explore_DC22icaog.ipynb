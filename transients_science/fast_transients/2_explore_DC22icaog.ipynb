{
 "cells": [
  {
   "cell_type": "markdown",
   "id": "b7346d8a-b984-4c21-936a-adeb385afc03",
   "metadata": {},
   "source": [
    "# Explore DC22icaog at early times\n",
    "\n",
    "DC22icaog seemed to be rising quick, did we catch an intra-night rise?\n",
    "\n",
    "**NOTE:** Parts of this notebook cannot be run without access to the NERSC databases.\n",
    "Contact Melissa Graham or Rob Knop for access to the unreleased photometry\n",
    "from the individual difference images.\n",
    "Only the combined, nightly-epoch photometry has been published so far.\n",
    "\n",
    "## Set up and read in data"
   ]
  },
  {
   "cell_type": "code",
   "execution_count": 1,
   "id": "84b838ba-bac9-4dd9-8941-d0b02517f6db",
   "metadata": {
    "tags": []
   },
   "outputs": [],
   "source": [
    "import psycopg2\n",
    "import psycopg2.extras\n",
    "import getpass\n",
    "import pandas\n",
    "\n",
    "import os\n",
    "import numpy as np\n",
    "import matplotlib as mpl\n",
    "import matplotlib.pyplot as plt\n",
    "from matplotlib.colors import LogNorm, Normalize\n",
    "from astropy.time import Time\n",
    "\n",
    "from copy import deepcopy\n",
    "import time"
   ]
  },
  {
   "cell_type": "markdown",
   "id": "6c4905cc-9782-4a35-b329-be15193a8eb4",
   "metadata": {},
   "source": [
    "First, the individual object photometry."
   ]
  },
  {
   "cell_type": "code",
   "execution_count": 2,
   "id": "a81d4167-f542-4d6e-bfdf-345ce9185bf7",
   "metadata": {
    "tags": []
   },
   "outputs": [
    {
     "name": "stdin",
     "output_type": "stream",
     "text": [
      "DB User:  decat_ro\n",
      "DB Password:  ········\n"
     ]
    }
   ],
   "source": [
    "dbuser = input(\"DB User: \")\n",
    "dbpasswd = getpass.getpass(\"DB Password: \")\n",
    "db = psycopg2.connect(f\"dbname='decat' user='{dbuser}' password='{dbpasswd}' host='decatdb.lbl.gov'\")\n",
    "db.autocommit = True\n",
    "cursor = db.cursor( cursor_factory = psycopg2.extras.DictCursor )"
   ]
  },
  {
   "cell_type": "code",
   "execution_count": 3,
   "id": "e9ef35d2-d4e5-40ac-8290-771115845a29",
   "metadata": {
    "tags": []
   },
   "outputs": [
    {
     "name": "stdout",
     "output_type": "stream",
     "text": [
      "2\n"
     ]
    }
   ],
   "source": [
    "# tag = \"latest\"\n",
    "tag = \"default\" # as of Tue Feb 27 2024\n",
    "db.rollback()\n",
    "q = ( \"SELECT id, tag FROM versiontags WHERE tag=%(tag)s\" )\n",
    "cursor.execute( q, { \"tag\": tag } )\n",
    "row = cursor.fetchone()\n",
    "tagid = row['id']\n",
    "print(tagid)"
   ]
  },
  {
   "cell_type": "code",
   "execution_count": 4,
   "id": "52501196-032a-4446-9600-53e23a56f6cc",
   "metadata": {
    "tags": []
   },
   "outputs": [
    {
     "name": "stdout",
     "output_type": "stream",
     "text": [
      "['DC22icaog']\n",
      " \n",
      "('DC22icaog')\n"
     ]
    }
   ],
   "source": [
    "my_cands_list = np.asarray(['DC22icaog'], dtype='str')\n",
    "print(my_cands_list)\n",
    "print(' ')\n",
    "my_cands_list_str = \"('DC22icaog')\"\n",
    "print(my_cands_list_str)"
   ]
  },
  {
   "cell_type": "code",
   "execution_count": 5,
   "id": "4a49ccaa-2855-44cf-b881-99bee6bb6f8d",
   "metadata": {
    "tags": []
   },
   "outputs": [
    {
     "name": "stdout",
     "output_type": "stream",
     "text": [
      "40\n",
      "CPU times: user 3.67 ms, sys: 200 µs, total: 3.87 ms\n",
      "Wall time: 74 ms\n"
     ]
    }
   ],
   "source": [
    "%%time\n",
    "q = (\"SELECT od.ra, od.dec, od.mag, od.magerr, rbs.rb, \"\n",
    "     \"i.filter, i.meanmjd, o.candidate_id, e.proposalid \"\n",
    "     \"FROM objectdatas AS od \"\n",
    "     \"INNER JOIN objectdata_versiontag AS odvt \"\n",
    "     \"ON od.id=odvt.objectdata_id AND odvt.versiontag_id=%(tagid)s \"\n",
    "     \"INNER JOIN objects AS o ON od.object_id=o.id \"\n",
    "     \"INNER JOIN images AS i ON o.image_id=i.id \"\n",
    "     \"INNER JOIN objectrbs as rbs ON od.id=rbs.objectdata_id AND rbs.rbtype_id=2 \"\n",
    "     \"INNER JOIN exposures AS e ON i.exposure_id=e.id \"\n",
    "     \"WHERE o.candidate_id IN \"+my_cands_list_str)\n",
    "cursor.execute(q, {'tagid': tagid})\n",
    "df = pandas.DataFrame(cursor.fetchall())\n",
    "print(len(df))"
   ]
  },
  {
   "cell_type": "code",
   "execution_count": 6,
   "id": "52741fd9-15d1-4de5-ae42-6556a879bed3",
   "metadata": {
    "tags": []
   },
   "outputs": [],
   "source": [
    "obj_ra     = np.asarray(df[0], dtype='float')\n",
    "obj_dec    = np.asarray(df[1], dtype='float')\n",
    "obj_mag    = np.asarray(df[2], dtype='float')\n",
    "obj_mage   = np.asarray(df[3], dtype='float')\n",
    "obj_rb     = np.asarray(df[4], dtype='float')\n",
    "obj_filt   = np.asarray(df[5], dtype='str')\n",
    "obj_mjd    = np.asarray(df[6], dtype='float')\n",
    "obj_candid = np.asarray(df[7], dtype='str')\n",
    "obj_propid = np.asarray(df[8], dtype='str')\n",
    "del df"
   ]
  },
  {
   "cell_type": "markdown",
   "id": "a1f6fdb3-8e8b-40f9-a2e1-d39dc0cf95de",
   "metadata": {},
   "source": [
    "Next, the nightly-epoch photometry."
   ]
  },
  {
   "cell_type": "code",
   "execution_count": 7,
   "id": "9a8ec6b5-c519-41e4-ad14-209e4191f830",
   "metadata": {
    "tags": []
   },
   "outputs": [],
   "source": [
    "fnm = '../all_nightly_epochs_files/candidate_lightcurves.dat'\n",
    "candLC_field = np.loadtxt(fnm, dtype='str', usecols=(0))\n",
    "candLC_candid = np.loadtxt(fnm, dtype='str', usecols=(1))\n",
    "candLC_caldate = np.loadtxt(fnm, dtype='str', usecols=(2))\n",
    "candLC_mjd = np.loadtxt(fnm, dtype='float', usecols=(3))\n",
    "candLC_filter = np.loadtxt(fnm, dtype='str', usecols=(4))\n",
    "candLC_Nobj = np.loadtxt(fnm, dtype='int', usecols=(5))\n",
    "candLC_mag = np.loadtxt(fnm, dtype='float', usecols=(6))\n",
    "candLC_mage = np.loadtxt(fnm, dtype='float', usecols=(7))\n",
    "candLC_mrb = np.loadtxt(fnm, dtype='float', usecols=(8))\n",
    "candLC_lef = np.loadtxt(fnm, dtype='float', usecols=(9))\n",
    "del fnm"
   ]
  },
  {
   "cell_type": "markdown",
   "id": "37b2e8b6-281f-435f-806d-8c344fd10bd9",
   "metadata": {},
   "source": [
    "Set light curve plot parameters."
   ]
  },
  {
   "cell_type": "code",
   "execution_count": 8,
   "id": "ede87873-ca7a-4d8a-a816-61be19ec468d",
   "metadata": {
    "tags": []
   },
   "outputs": [],
   "source": [
    "clr = ['darkgreen', 'firebrick', 'saddlebrown', 'limegreen', 'orange', 'lightcoral']\n",
    "\n",
    "all_filters = ['g','r','i']\n",
    "all_fcolors = ['green','red','blue']\n",
    "all_fshapes = ['o','s','^']\n",
    "all_fsizes  = [5, 5, 6]"
   ]
  },
  {
   "cell_type": "markdown",
   "id": "67ab4564-769b-4f83-a02d-161311388f4e",
   "metadata": {},
   "source": [
    "## Plot individual exposure photometry on day of first detection"
   ]
  },
  {
   "cell_type": "code",
   "execution_count": 9,
   "id": "42fe6644-cd62-400e-9e41-cedac55c960e",
   "metadata": {
    "tags": []
   },
   "outputs": [
    {
     "data": {
      "image/png": "[encoded data removed]",
      "text/plain": [
       "<Figure size 600x400 with 1 Axes>"
      ]
     },
     "metadata": {},
     "output_type": "display_data"
    }
   ],
   "source": [
    "fig = plt.figure(figsize=(6, 4))\n",
    "\n",
    "x = 0\n",
    "cand = my_cands_list[x]\n",
    "\n",
    "for f,filt in enumerate(all_filters):\n",
    "    cx0 = np.where((candLC_candid == cand) & \\\n",
    "                   (candLC_filter == filt) & \\\n",
    "                   (candLC_mrb > 0.4))[0]\n",
    "    cx1 = np.where((candLC_candid == cand) & \\\n",
    "                   (candLC_filter == filt) & \\\n",
    "                   (candLC_mrb <= 0.4) & \\\n",
    "                   (candLC_lef == 0))[0]\n",
    "    cx2 = np.where((candLC_candid == cand) & \\\n",
    "                   (candLC_filter == filt) & \\\n",
    "                   (candLC_mrb <= 0.4) & \\\n",
    "                   (candLC_lef == 1))[0]\n",
    "    del cx0, cx1, cx2\n",
    "\n",
    "    ox0 = np.where((obj_candid == cand) & (obj_filt == filt) & (obj_rb > 0.4))[0]\n",
    "    ox1 = np.where((obj_candid == cand) & (obj_filt == filt) & (obj_rb <= 0.4))[0]\n",
    "    plt.plot(obj_mjd[ox0], obj_mag[ox0], all_fshapes[f], ms=all_fsizes[f],\n",
    "             mew=0, alpha=0.8, color=all_fcolors[f], label=filt)\n",
    "    plt.plot(obj_mjd[ox1], obj_mag[ox1], all_fshapes[f], ms=all_fsizes[f],\n",
    "             mew=1, alpha=0.8, color='none', mec=all_fcolors[f])\n",
    "\n",
    "cx = np.where((candLC_candid == cand) & (candLC_lef == 0))[0]\n",
    "xmin = np.min(candLC_mjd[cx])-0.05\n",
    "xmax = np.min(candLC_mjd[cx])+0.05\n",
    "del cx\n",
    "\n",
    "cx = np.where((candLC_candid == cand) & (candLC_lef == 0) \n",
    "              & (candLC_mjd > xmin) & (candLC_mjd < xmax))[0]\n",
    "ymin = np.min(candLC_mag[cx])-0.1\n",
    "ymax = np.max(candLC_mag[cx])+0.1\n",
    "del cx\n",
    "\n",
    "plt.ylim([ymax, ymin])\n",
    "plt.xlim([xmin, xmax])\n",
    "del xmin, xmax\n",
    "\n",
    "plt.title(cand)\n",
    "plt.legend(loc='upper right', labelspacing=0.1, handletextpad=0.1, fontsize=14)\n",
    "\n",
    "plt.xlabel('MJD [days]', fontsize=14)\n",
    "plt.ylabel('apparent magnitude', fontsize=14)\n",
    "\n",
    "plt.tight_layout()\n",
    "plt.show()\n",
    "del x"
   ]
  },
  {
   "cell_type": "markdown",
   "id": "ac2b7f01-fcb0-4858-a09a-a909230934a7",
   "metadata": {},
   "source": [
    "Nope! No rise within the night seen."
   ]
  },
  {
   "cell_type": "code",
   "execution_count": null,
   "id": "d77879a0-39a4-45ed-99ae-bf9ed9318d61",
   "metadata": {},
   "outputs": [],
   "source": []
  }
 ],
 "metadata": {
  "kernelspec": {
   "display_name": "NERSC Python",
   "language": "python",
   "name": "python3"
  },
  "language_info": {
   "codemirror_mode": {
    "name": "ipython",
    "version": 3
   },
   "file_extension": ".py",
   "mimetype": "text/x-python",
   "name": "python",
   "nbconvert_exporter": "python",
   "pygments_lexer": "ipython3",
   "version": "3.11.7"
  }
 },
 "nbformat": 4,
 "nbformat_minor": 5
}
