{
 "cells": [
  {
   "cell_type": "code",
   "execution_count": 25,
   "id": "85aba83f-4e96-4c81-9f71-4f0cd55701e7",
   "metadata": {},
   "outputs": [],
   "source": [
    "# For passwords & database access:\n",
    "import psycopg2\n",
    "import psycopg2.extras\n",
    "import getpass\n",
    "\n",
    "# For plotting\n",
    "import matplotlib.pyplot as plt\n",
    "import matplotlib\n",
    "from IPython.display import display\n",
    "import ipywidgets\n",
    "\n",
    "# For math\n",
    "from astropy.coordinates import SkyCoord\n",
    "import astropy.units as u\n",
    "import numpy as np\n",
    "import pandas as pd\n",
    "import shapely.wkt as wkt\n",
    "from shapely.geometry import Point"
   ]
  },
  {
   "cell_type": "code",
   "execution_count": 26,
   "id": "bcce61cb-4c44-419b-bfe1-0a219a0298af",
   "metadata": {},
   "outputs": [
    {
     "name": "stdin",
     "output_type": "stream",
     "text": [
      "DB User:  kennedyt\n",
      "DB Password:  ············\n"
     ]
    }
   ],
   "source": [
    "# Logging in\n",
    "dbuser = input(\"DB User: \")\n",
    "dbpasswd = getpass.getpass(\"DB Password: \")\n",
    "db = psycopg2.connect( f\"dbname='decat' user='{dbuser}' password='{dbpasswd}' host='decatdb.lbl.gov'\" )\n",
    "\n",
    "db.autocommit = True # Makes the computer nicer about SQL syntax errors\n",
    "\n",
    "cursor = db.cursor( cursor_factory = psycopg2.extras.DictCursor )"
   ]
  },
  {
   "cell_type": "markdown",
   "id": "d84478bf-0d24-479c-b20d-b70a71c62faf",
   "metadata": {},
   "source": [
    "#### Choices:"
   ]
  },
  {
   "cell_type": "code",
   "execution_count": 255,
   "id": "5de63064-5f6d-47d4-bc70-05230eaaa51f",
   "metadata": {},
   "outputs": [],
   "source": [
    "# field = \"COSMOS\"\n",
    "# fnm = \"./COSMOS_result.txt\" # Use all known AGN in COSMOS\n",
    "# fnm = \"./COSMOS2015_result.txt\" # Use AGN from COSMOS2015 catalog\n",
    "# fnm = \"./ACS-GC_result.txt\" # Use AGN from ACS-GC catalog\n",
    "\n",
    "field = \"ELAIS\"\n",
    "# fnm = \"./ELAIS_result.txt\" # All ELAIS AGN\n",
    "# fnm = \"./ESIS_result.txt\" # Use AGN from ESIS (ESO-Spitzer Imaging extragalactic Survey)\n",
    "fnm = \"./SWIR_result.txt\"\n",
    "\n",
    "# Doesn't matter a ton, makes the polygons more tight if it's smaller, but runs slower, I recommend 0.05\n",
    "prec=0.05 "
   ]
  },
  {
   "cell_type": "code",
   "execution_count": 256,
   "id": "7cff0789-6b48-4b2b-aa6d-55a95b8b8af3",
   "metadata": {},
   "outputs": [],
   "source": [
    "### Pull all cand ras+decs:\n",
    "if field==\"COSMOS\":\n",
    "    query = (\"SELECT c.ra, c.dec FROM candidates c \"\n",
    "             \"JOIN objects o ON o.candidate_id=c.id \"\n",
    "             \"JOIN subtractions s ON s.id=o.subtraction_id \"\n",
    "             \"JOIN exposures e ON e.id = s.exposure_id \"\n",
    "             \"WHERE (e.proposalid = '2021A-0113' \"\n",
    "             \"OR e.proposalid = '2021B-0149' )\"\n",
    "             \"AND c.dec > 0 \" # COSMOS\n",
    "             \"LIMIT 10000000\")\n",
    "elif field==\"ELAIS\":\n",
    "    query = (\"SELECT c.ra, c.dec FROM candidates c \"\n",
    "             \"JOIN objects o ON o.candidate_id=c.id \"\n",
    "             \"JOIN subtractions s ON s.id=o.subtraction_id \"\n",
    "             \"JOIN exposures e ON e.id = s.exposure_id \"\n",
    "             \"WHERE (e.proposalid = '2021A-0113' \"\n",
    "             \"OR e.proposalid = '2021B-0149' )\"\n",
    "             \"AND c.ra < 50 \" # ELAIS\n",
    "             \"LIMIT 10000000\")\n",
    "cursor.execute( query, )\n",
    "\n",
    "radecquery = np.array(cursor.fetchall()).transpose().astype(float)\n",
    "radecquery = np.unique(radecquery.transpose(), axis=0).transpose()"
   ]
  },
  {
   "cell_type": "code",
   "execution_count": 257,
   "id": "4d48dbb8-03ff-4440-b25b-b71a0741b2c8",
   "metadata": {},
   "outputs": [],
   "source": [
    "### Create a polygon object using all of those points as vertices\n",
    "polystr = str([str(i[0])+\" \"+str(i[1]) for i in np.round(radecquery.T,2)]).replace(\"'\",\"\")\n",
    "if field==\"COSMOS\":\n",
    "    pol = wkt.loads(\"POLYGON (({}))\".format(polystr[1:-1]+', '+polystr[1:12])) # COSMOS\n",
    "elif field==\"ELAIS\":\n",
    "    pol = wkt.loads(\"POLYGON (({}))\".format(polystr[1:-1]+', '+polystr[1:11])) # ELAIS"
   ]
  },
  {
   "cell_type": "code",
   "execution_count": 258,
   "id": "e3b47b50-ddec-4de1-865d-1d0b0b9287f7",
   "metadata": {},
   "outputs": [
    {
     "data": {
      "text/plain": [
       "[<matplotlib.lines.Line2D at 0x155514ec8700>]"
      ]
     },
     "execution_count": 258,
     "metadata": {},
     "output_type": "execute_result"
    },
    {
     "data": {
      "image/png": "[encoded data removed]",
      "text/plain": [
       "<Figure size 432x288 with 1 Axes>"
      ]
     },
     "metadata": {
      "needs_background": "light"
     },
     "output_type": "display_data"
    }
   ],
   "source": [
    "### Simplify the polygon to the simplest convex shape that encloses all data:\n",
    "polconvhull = pol.convex_hull\n",
    "convhullarr = polconvhull.exterior.coords.xy\n",
    "\n",
    "plt.scatter(*radecquery)\n",
    "plt.plot(convhullarr[0],convhullarr[1],color='orange') # orange is simplest convex polygon enclosing all pts"
   ]
  },
  {
   "cell_type": "code",
   "execution_count": 259,
   "id": "29e74af2-e683-4131-9240-17c737b42c8e",
   "metadata": {},
   "outputs": [
    {
     "name": "stdout",
     "output_type": "stream",
     "text": [
      "SELECT distinct main_id, ra, dec, otype_txt\n",
      "FROM basic\n",
      "WHERE otype = 'AGN..'\n",
      "AND CONTAINS(POINT('ICRS', ra, dec), POLYGON('ICRS', 8.95, -44.98, 8.85, -44.97, 7.23, -43.97, 7.02, -43.81, 6.6, -43.49, 6.39, -43.15, 6.39, -43.07, 6.4, -42.84, 6.62, -42.52, 7.04, -42.19, 7.26, -42.03, 8.49, -42.03, 10.13, -43.02, 10.78, -43.51, 11.0, -44.0, 11.01, -44.11, 11.01, -44.14, 10.8, -44.48, 10.15, -44.97, 10.13, -44.98, 8.95, -44.98)) = 1\n",
      "GROUP BY main_id, otype_txt, ra, dec\n"
     ]
    }
   ],
   "source": [
    "### Grap every AGN within that orange boundary from SIMBAD at http://simbad.u-strasbg.fr/simbad/sim-tap\n",
    "### Use this query, save as result.txt in this directory\n",
    "print(\"SELECT distinct main_id, ra, dec, otype_txt\")\n",
    "print(\"FROM basic\")\n",
    "print(\"WHERE otype = 'AGN..'\") # 'AGN..' here means all subtypes of AGN (QSOs, seyferts, etc.)\n",
    "print(\"AND CONTAINS(POINT('ICRS', ra, dec), POLYGON('ICRS', {})) = 1\".format(str(list(np.array(convhullarr).T.flatten()))[1:-1]))\n",
    "print(\"GROUP BY main_id, otype_txt, ra, dec\")\n",
    "\n",
    "### SIMBAD ADQL queries for two biggest catalogs for AGN in COSMOS, the POLYGON numbers aren't excluding any of their data\n",
    "### Alternatively, you can use the files COSMOS2015_result.txt or ACS-GC_result.txt in the next cell\n",
    "# print(\"\"\"\n",
    "# SELECT distinct IDENT.id, basic.ra, basic.dec, basic.otype_txt\n",
    "# FROM basic\n",
    "# JOIN IDENT on IDENT.oidref=basic.oid\n",
    "# WHERE basic.otype = 'AGN..'\n",
    "# AND IDENT.id like 'ESIS%'\n",
    "# AND CONTAINS(POINT('ICRS', basic.ra, basic.dec), POLYGON('ICRS', {})) = 1\n",
    "# GROUP BY IDENT.id, basic.otype_txt, basic.ra, basic.dec\n",
    "# \"\"\".format(str(list(np.array(convhullarr).T.flatten()))[1:-1]))\n",
    "\n",
    "# \"\"\"\n",
    "# SELECT distinct IDENT.id, basic.ra, basic.dec, basic.otype_txt\n",
    "# FROM basic\n",
    "# JOIN IDENT on IDENT.oidref=basic.oid\n",
    "# WHERE basic.otype = 'AGN..'\n",
    "# AND IDENT.id like 'COSMOS2015%'\n",
    "# AND CONTAINS(POINT('ICRS', basic.ra, basic.dec), POLYGON('ICRS', 148.76, 0.77, 148.3, 1.26, 148.14, 1.6, 148.14, 1.91, 148.3, 2.23, 149.07, 3.57, 149.23, 3.75, 149.38, 3.91, 149.54, 4.08, 150.46, 4.08, 150.62, 3.91, 150.77, 3.75, 150.93, 3.57, 151.71, 2.23, 151.86, 1.73, 151.86, 1.59, 151.71, 1.26, 151.24, 0.77, 148.76, 0.77)) = 1\n",
    "# GROUP BY IDENT.id, basic.otype_txt, basic.ra, basic.dec\n",
    "# \"\"\"\n",
    "\n",
    "# \"\"\"\n",
    "# SELECT distinct IDENT.id, basic.ra, basic.dec, basic.otype_txt\n",
    "# FROM basic\n",
    "# JOIN IDENT on IDENT.oidref=basic.oid\n",
    "# WHERE basic.otype = 'AGN..'\n",
    "# AND IDENT.id like 'ACS-GC%'\n",
    "# AND CONTAINS(POINT('ICRS', basic.ra, basic.dec), POLYGON('ICRS', 148.76, 0.77, 148.3, 1.26, 148.14, 1.6, 148.14, 1.91, 148.3, 2.23, 149.07, 3.57, 149.23, 3.75, 149.38, 3.91, 149.54, 4.08, 150.46, 4.08, 150.62, 3.91, 150.77, 3.75, 150.93, 3.57, 151.71, 2.23, 151.86, 1.73, 151.86, 1.59, 151.71, 1.26, 151.24, 0.77, 148.76, 0.77)) = 1\n",
    "# GROUP BY IDENT.id, basic.otype_txt, basic.ra, basic.dec\n",
    "# \"\"\";"
   ]
  },
  {
   "cell_type": "code",
   "execution_count": 260,
   "id": "ea9c1241-f549-427e-a594-235c12c66678",
   "metadata": {},
   "outputs": [],
   "source": [
    "agn = np.loadtxt(fnm, skiprows=2,delimiter='|', dtype=str)\n",
    "agnnames, agnras, agndecs, agntypes = agn.T\n",
    "agnras, agndecs = agnras.astype(float), agndecs.astype(float)\n",
    "agncoords = np.array([agnras,agndecs]).T"
   ]
  },
  {
   "cell_type": "code",
   "execution_count": 261,
   "id": "ea2c9432-1766-4412-a652-91ffc6456289",
   "metadata": {},
   "outputs": [
    {
     "data": {
      "text/plain": [
       "array([[  7.01016667, -42.8205    ],\n",
       "       [  7.011625  , -42.99916667],\n",
       "       [  7.36545833, -43.27061111],\n",
       "       [  7.39107549, -43.87798594],\n",
       "       [  7.49675473, -43.80981775],\n",
       "       [  7.81041667, -42.7075    ],\n",
       "       [  7.889991  , -43.98490223],\n",
       "       [  7.93595833, -43.80947222],\n",
       "       [  7.96366667, -42.89647222],\n",
       "       [  8.05468493, -43.764858  ],\n",
       "       [  8.10154167, -42.70305556],\n",
       "       [  8.21754167, -43.60497222],\n",
       "       [  8.21945833, -43.43622222],\n",
       "       [  8.23041667, -43.16333333],\n",
       "       [  8.24333333, -43.235     ],\n",
       "       [  8.245     , -43.51055556],\n",
       "       [  8.26575   , -43.48013889],\n",
       "       [  8.26791667, -43.82222222],\n",
       "       [  8.27458333, -43.34777778],\n",
       "       [  8.29208333, -43.35138889],\n",
       "       [  8.30166667, -43.31138889],\n",
       "       [  8.30566667, -43.51425   ],\n",
       "       [  8.30695833, -43.35577778],\n",
       "       [  8.30983333, -43.29122222],\n",
       "       [  8.310875  , -43.38341667],\n",
       "       [  8.31166667, -43.53138889],\n",
       "       [  8.31416667, -43.55027778],\n",
       "       [  8.31855282, -43.16678839],\n",
       "       [  8.32020833, -43.45319444],\n",
       "       [  8.3205    , -43.28508333],\n",
       "       [  8.32633333, -43.717     ],\n",
       "       [  8.32675   , -43.63852778],\n",
       "       [  8.33616667, -43.62130556],\n",
       "       [  8.33716667, -43.197     ],\n",
       "       [  8.33708333, -43.62916667],\n",
       "       [  8.33829167, -43.62852778],\n",
       "       [  8.34175   , -43.61377778],\n",
       "       [  8.34583333, -43.7425    ],\n",
       "       [  8.34958333, -43.40647222],\n",
       "       [  8.35625   , -43.36916667],\n",
       "       [  8.35706579, -43.80729227],\n",
       "       [  8.35875   , -43.43694444],\n",
       "       [  8.36916667, -43.54194444],\n",
       "       [  8.36958333, -43.52722222],\n",
       "       [  8.37475   , -43.60719444],\n",
       "       [  8.37691667, -43.26541667],\n",
       "       [  8.3775    , -43.8575    ],\n",
       "       [  8.38066667, -43.50913889],\n",
       "       [  8.38166667, -43.55361111],\n",
       "       [  8.38320833, -43.84755556],\n",
       "       [  8.388625  , -43.8335    ],\n",
       "       [  8.39008333, -43.82547222],\n",
       "       [  8.39008333, -43.86619444],\n",
       "       [  8.39291667, -43.3725    ],\n",
       "       [  8.39504167, -43.86627778],\n",
       "       [  8.40041667, -43.52888889],\n",
       "       [  8.4125    , -43.73666667],\n",
       "       [  8.42375   , -42.66080556],\n",
       "       [  8.4375    , -43.73111111],\n",
       "       [  8.43916667, -43.65861111],\n",
       "       [  8.44285487, -43.32883447],\n",
       "       [  8.44291667, -43.18583333],\n",
       "       [  8.44770833, -43.58644444],\n",
       "       [  8.4505    , -43.20511111],\n",
       "       [  8.45334583, -42.89918056],\n",
       "       [  8.45583333, -43.38527778],\n",
       "       [  8.45741667, -43.55744444],\n",
       "       [  8.45816667, -43.5415    ],\n",
       "       [  8.46208333, -43.35222222],\n",
       "       [  8.46208333, -43.46083333],\n",
       "       [  8.46870833, -43.41463889],\n",
       "       [  8.47595833, -43.37083333],\n",
       "       [  8.48716667, -43.41291667],\n",
       "       [  8.48916667, -43.60027778],\n",
       "       [  8.48891911, -42.34576899],\n",
       "       [  8.498375  , -43.60769444],\n",
       "       [  8.50124091, -43.73423085],\n",
       "       [  8.50504167, -43.80888889],\n",
       "       [  8.50879167, -43.31336111],\n",
       "       [  8.50875   , -43.60388889],\n",
       "       [  8.513625  , -43.47522222],\n",
       "       [  8.51833333, -43.86694444],\n",
       "       [  8.529875  , -43.13063889],\n",
       "       [  8.53170833, -43.29572222],\n",
       "       [  8.53724073, -43.17011742],\n",
       "       [  8.55541667, -43.31305556],\n",
       "       [  8.55666667, -43.78055556],\n",
       "       [  8.5625    , -43.64638889],\n",
       "       [  8.56666667, -43.56027778],\n",
       "       [  8.57041667, -43.61916667],\n",
       "       [  8.573625  , -43.46794444],\n",
       "       [  8.57408333, -43.32455556],\n",
       "       [  8.5815    , -43.03072222],\n",
       "       [  8.58158333, -43.41625   ],\n",
       "       [  8.59304167, -43.72208333],\n",
       "       [  8.59458333, -43.17111111],\n",
       "       [  8.60125   , -43.34361111],\n",
       "       [  8.60541667, -43.55222222],\n",
       "       [  8.6055    , -43.67411111],\n",
       "       [  8.60575   , -43.42033333],\n",
       "       [  8.60576   , -43.55305   ],\n",
       "       [  8.61041667, -43.24      ],\n",
       "       [  8.61125   , -43.83361111],\n",
       "       [  8.61220833, -43.18827778],\n",
       "       [  8.61979167, -43.25330556],\n",
       "       [  8.62208333, -43.34930556],\n",
       "       [  8.62208333, -43.4025    ],\n",
       "       [  8.62916667, -43.58333333],\n",
       "       [  8.63      , -43.28191667],\n",
       "       [  8.63125   , -43.68666667],\n",
       "       [  8.63541667, -43.3275    ],\n",
       "       [  8.64916667, -43.77527778],\n",
       "       [  8.65333333, -43.64583333],\n",
       "       [  8.66225   , -43.86069444],\n",
       "       [  8.66508333, -43.81916667],\n",
       "       [  8.67236399, -43.51139374],\n",
       "       [  8.673875  , -44.22438889],\n",
       "       [  8.67554167, -43.23927778],\n",
       "       [  8.67895833, -43.29097222],\n",
       "       [  8.68541667, -43.79477778],\n",
       "       [  8.6855746 , -43.6303163 ],\n",
       "       [  8.68679167, -43.72477778],\n",
       "       [  8.69445833, -43.43486111],\n",
       "       [  8.69645833, -43.41277778],\n",
       "       [  8.710375  , -43.78572222],\n",
       "       [  8.71708333, -43.32444444],\n",
       "       [  8.71791667, -43.77027778],\n",
       "       [  8.7225    , -43.30083333],\n",
       "       [  8.72391667, -43.22508333],\n",
       "       [  8.72844058, -43.68068442],\n",
       "       [  8.76041667, -43.57222222],\n",
       "       [  8.76625   , -43.47972222],\n",
       "       [  8.76625   , -43.7025    ],\n",
       "       [  8.78375   , -43.13694444],\n",
       "       [  8.79      , -43.65472222],\n",
       "       [  8.79183333, -43.78836111],\n",
       "       [  8.80683333, -43.61061111],\n",
       "       [  8.81502148, -43.56603189],\n",
       "       [  8.81708315, -43.41441088],\n",
       "       [  8.824     , -43.86061111],\n",
       "       [  8.82779167, -43.65138889],\n",
       "       [  8.83386918, -43.61266867],\n",
       "       [  8.833875  , -43.33597222],\n",
       "       [  8.835     , -43.54527778],\n",
       "       [  8.83641667, -43.37375   ],\n",
       "       [  8.83825   , -43.41952778],\n",
       "       [  8.85      , -43.27722222],\n",
       "       [  8.86254167, -43.72986111],\n",
       "       [  8.86483333, -43.64325   ],\n",
       "       [  8.87208333, -43.60305556],\n",
       "       [  8.87445833, -43.72463889],\n",
       "       [  8.88620833, -43.12380556],\n",
       "       [  8.88816667, -43.30652778],\n",
       "       [  8.889375  , -43.58958333],\n",
       "       [  8.89083333, -43.35972222],\n",
       "       [  8.90333333, -43.60416667],\n",
       "       [  8.92291667, -43.35027778],\n",
       "       [  8.93408333, -43.12963889],\n",
       "       [  8.93698922, -43.52221262],\n",
       "       [  8.95184559, -43.245687  ],\n",
       "       [  8.96666667, -43.79605556],\n",
       "       [  8.97075   , -43.30963889],\n",
       "       [  8.97541667, -43.57166667],\n",
       "       [  8.985     , -43.17      ],\n",
       "       [  8.98866667, -43.18802778],\n",
       "       [  9.00325   , -43.61258333],\n",
       "       [  9.00529167, -43.68072222],\n",
       "       [  9.015     , -43.53111111],\n",
       "       [  9.01708333, -43.29777778],\n",
       "       [  9.042375  , -43.27758333],\n",
       "       [  9.04958333, -43.65583333],\n",
       "       [  9.05508333, -43.28108333],\n",
       "       [  9.05483333, -43.41983333],\n",
       "       [  9.05958333, -43.32777778],\n",
       "       [  9.06825   , -43.21930556],\n",
       "       [  9.08004167, -43.60791667],\n",
       "       [  9.09208333, -43.31722222],\n",
       "       [  9.09441667, -43.47408333],\n",
       "       [  9.09541667, -43.19694444],\n",
       "       [  9.10083333, -43.29194444],\n",
       "       [  9.10793425, -44.19463836],\n",
       "       [  9.11025243, -43.13909725],\n",
       "       [  9.11295833, -43.31805556],\n",
       "       [  9.12666667, -43.61944444],\n",
       "       [  9.12758333, -43.65725   ],\n",
       "       [  9.12925   , -43.68538889],\n",
       "       [  9.12958333, -43.22916667],\n",
       "       [  9.13295833, -43.28277778],\n",
       "       [  9.16304167, -43.30497222],\n",
       "       [  9.167625  , -43.61980556],\n",
       "       [  9.16833333, -43.65722222],\n",
       "       [  9.18404167, -43.66391667],\n",
       "       [  9.19625   , -43.30055556],\n",
       "       [  9.20416667, -43.32138889],\n",
       "       [  9.20875   , -43.355     ],\n",
       "       [  9.22875   , -43.30638889],\n",
       "       [  9.23908333, -43.53552778],\n",
       "       [  9.25091667, -44.17577778],\n",
       "       [  9.29520833, -44.68002778],\n",
       "       [  9.3151991 , -42.58729895],\n",
       "       [  9.33777409, -43.71113664],\n",
       "       [  9.33777409, -43.71113664],\n",
       "       [  9.39211667, -43.56098611],\n",
       "       [  9.52190465, -43.63355808],\n",
       "       [  9.62467583, -43.74843255],\n",
       "       [  9.94125   , -44.13972222],\n",
       "       [  9.96105837, -44.40527175],\n",
       "       [  9.96741667, -44.23205556],\n",
       "       [ 10.5374    , -44.2335    ]])"
      ]
     },
     "execution_count": 261,
     "metadata": {},
     "output_type": "execute_result"
    }
   ],
   "source": [
    "### Now have coords for every agn in the orange boundary (this includes things outside our fields still)\n",
    "agncoords"
   ]
  },
  {
   "cell_type": "markdown",
   "id": "e2d74f26-134e-4b84-883e-f884736e1644",
   "metadata": {
    "tags": []
   },
   "source": [
    "#### This section isn't as perfect as I'd like, but is probably close enough for our purposes"
   ]
  },
  {
   "cell_type": "code",
   "execution_count": 262,
   "id": "ab07e92b-a366-4ec9-ab14-ebc558dafa0c",
   "metadata": {},
   "outputs": [
    {
     "data": {
      "image/png": "[encoded data removed]",
      "text/plain": [
       "<Figure size 432x288 with 1 Axes>"
      ]
     },
     "metadata": {
      "needs_background": "light"
     },
     "output_type": "display_data"
    }
   ],
   "source": [
    "### Create a stricter boundary now that we have the raw data:\n",
    "### I do this by making a grid and labelling each rectangle as 'containing data' or not \n",
    "### (if I don't condense the data like this, it's computationally prohibitive)\n",
    "\n",
    "plt.scatter(radecquery[0],radecquery[1])\n",
    "plt.title(\"All COSMOS cands\")\n",
    "plt.xlabel(\"RA\")\n",
    "plt.ylabel(\"Dec\")\n",
    "\n",
    "if field==\"ELAIS\":\n",
    "    ys = np.arange(-45.0,-41.7,prec) # ELAIS\n",
    "    xs = np.arange(6,11.5,prec) # ELAIS\n",
    "    xys = np.meshgrid(xs,ys) # ELAIS\n",
    "elif field==\"COSMOS\":\n",
    "    ys = np.arange(0.65,4.25,prec) # COSMOS\n",
    "    xs = np.arange(148,152,prec) # COSMOS\n",
    "    xys = np.meshgrid(xs,ys) # COSMOS\n",
    "\n",
    "for i in ys:\n",
    "    plt.axhline(i, color='black',lw=0.2)\n",
    "for i in xs:\n",
    "    plt.axvline(i, color='black',lw=0.2)"
   ]
  },
  {
   "cell_type": "code",
   "execution_count": 263,
   "id": "92ea808a-2e8c-456a-83f9-e1aa0b364b0c",
   "metadata": {},
   "outputs": [],
   "source": [
    "good = []\n",
    "for i in range(len(xs)):\n",
    "    for j in range(len(ys)):\n",
    "        data = radecquery[0][np.where((radecquery[0]<xs[i]+prec) & (radecquery[0]>xs[i]) \\\n",
    "                                      & (radecquery[1]<ys[j]+prec) & (radecquery[1]>ys[j]))[0]]\n",
    "        if len(data) > 0:\n",
    "            good.append([i,j])\n",
    "goodidx = np.array(good).transpose()\n",
    "goodxs = xs[goodidx[0]] + prec/2\n",
    "goodys = ys[goodidx[1]] + prec/2\n",
    "goods = np.array([goodxs,goodys])"
   ]
  },
  {
   "cell_type": "code",
   "execution_count": 264,
   "id": "dad1bd32-036e-4927-a5a9-3c415987bf8e",
   "metadata": {},
   "outputs": [
    {
     "data": {
      "image/png": "[encoded data removed]",
      "text/plain": [
       "<Figure size 432x288 with 1 Axes>"
      ]
     },
     "metadata": {
      "needs_background": "light"
     },
     "output_type": "display_data"
    }
   ],
   "source": [
    "plt.scatter(*radecquery,color='orange')\n",
    "plt.scatter(*goods,lw=0.05)\n",
    "for i in ys:\n",
    "    plt.axhline(i, color='black',lw=0.2)\n",
    "for i in xs:\n",
    "    plt.axvline(i, color='black',lw=0.2)"
   ]
  },
  {
   "cell_type": "code",
   "execution_count": 265,
   "id": "db6f26ce-8c8e-4e7c-9d86-3489e12900b7",
   "metadata": {},
   "outputs": [],
   "source": [
    "pol2str = str([str(i[0])+\" \"+str(i[1]) for i in np.round(goods.T,2)]).replace(\"'\",\"\")\n",
    "\n",
    "if field==\"COSMOS\":\n",
    "    pol2 = wkt.loads(\"POLYGON (({}))\".format(pol2str[1:-1]+', '+pol2str[1:12])) # COSMOS\n",
    "elif field==\"ELAIS\":\n",
    "    pol2 = wkt.loads(\"POLYGON (({}))\".format(pol2str[1:-1]+', '+pol2str[1:12])) # ELAIS\n",
    "\n",
    "pol3 = pol2.buffer(prec)\n",
    "pol3arr = pol3.exterior.coords.xy"
   ]
  },
  {
   "cell_type": "code",
   "execution_count": 266,
   "id": "04f6c859-effe-4605-9010-0265d0fb8199",
   "metadata": {},
   "outputs": [],
   "source": [
    "agnmsk = []\n",
    "for coord in agncoords:\n",
    "    pt = Point(coord[0],coord[1])\n",
    "    agnmsk.append(pt.within(pol3))\n",
    "agncoords1 = agncoords[agnmsk]\n",
    "agnnames1 = agnnames[agnmsk]\n",
    "agntypes1 = agntypes[agnmsk]"
   ]
  },
  {
   "cell_type": "code",
   "execution_count": 267,
   "id": "b067355b-7b5c-49e6-9376-c6911743db7d",
   "metadata": {},
   "outputs": [
    {
     "data": {
      "text/plain": [
       "(209, 207)"
      ]
     },
     "execution_count": 267,
     "metadata": {},
     "output_type": "execute_result"
    }
   ],
   "source": [
    "len(agncoords), len(agncoords1)"
   ]
  },
  {
   "cell_type": "code",
   "execution_count": 276,
   "id": "5d2c0468-1ed1-4a85-ac36-6892dc5926d4",
   "metadata": {},
   "outputs": [
    {
     "data": {
      "text/plain": [
       "<matplotlib.legend.Legend at 0x15551754a250>"
      ]
     },
     "execution_count": 276,
     "metadata": {},
     "output_type": "execute_result"
    },
    {
     "data": {
      "image/png": "[encoded data removed]",
      "text/plain": [
       "<Figure size 432x288 with 1 Axes>"
      ]
     },
     "metadata": {
      "needs_background": "light"
     },
     "output_type": "display_data"
    }
   ],
   "source": [
    "plt.scatter(*radecquery)\n",
    "plt.scatter(*agncoords.T,color='red', lw=0.1, label=\"Masked out\")\n",
    "plt.plot(*pol3arr, color='orange')\n",
    "plt.scatter(*agncoords1.T,color='black', lw=0.1, label=\"In new polygon\")\n",
    "# plt.scatter(agncoords.T[0][np.char.startswith(agnnames,'\"SWIR')],agncoords.T[1][np.char.startswith(agnnames,'\"SWIR')], color=\"g\")\n",
    "plt.legend(loc='upper right')"
   ]
  },
  {
   "cell_type": "markdown",
   "id": "e9b4de2c-cd65-468b-910e-9118cd53efc8",
   "metadata": {},
   "source": [
    "#### So now we have all of the known QSOs we could theoretically detect in COSMOS\n",
    "Next step is to match them up to \"probably-real\" candidates"
   ]
  },
  {
   "cell_type": "code",
   "execution_count": 269,
   "id": "68371f18-f049-400c-85c0-af657e3a9956",
   "metadata": {},
   "outputs": [],
   "source": [
    "### Grab all cand names for 'probably-real' cands\n",
    "realcandsarr = np.genfromtxt('../../candidate_nightly_epochs_files/candidate_lightcurve_parameters.dat', dtype=str)\n",
    "realcands = np.unique(realcandsarr.T[1])"
   ]
  },
  {
   "cell_type": "code",
   "execution_count": 270,
   "id": "272792ca-a50c-4c14-ac84-166edea26e94",
   "metadata": {},
   "outputs": [],
   "source": [
    "### Find coords and make SkyCoord objects for all candidates:\n",
    "candcoord = []\n",
    "for i in realcands:\n",
    "    query = (\"SELECT c.ra, c.dec FROM candidates c \"\n",
    "             \"WHERE c.id = %s \"\n",
    "             \"LIMIT 1\")\n",
    "    cursor.execute(query,(i,))\n",
    "    res = np.array(cursor.fetchall())[0]\n",
    "    candcoord.append([i,res])\n",
    "candcoord1 = np.array([[i[0], SkyCoord(i[1][0],i[1][1], unit='deg')] for i in candcoord])"
   ]
  },
  {
   "cell_type": "code",
   "execution_count": 271,
   "id": "95cb8dd1-a71a-4273-ad14-8094b25f4a8c",
   "metadata": {
    "tags": []
   },
   "outputs": [],
   "source": [
    "### Make a catalog-style set of SkyCoords for the SIMBAD sample\n",
    "agncoords2 = SkyCoord(agncoords1,unit='deg')"
   ]
  },
  {
   "cell_type": "code",
   "execution_count": 272,
   "id": "d95aaac8-f840-4890-8cdd-ecb348ee34af",
   "metadata": {},
   "outputs": [
    {
     "name": "stderr",
     "output_type": "stream",
     "text": [
      "/tmp/ipykernel_14789/2178453017.py:7: VisibleDeprecationWarning: Creating an ndarray from ragged nested sequences (which is a list-or-tuple of lists-or-tuples-or ndarrays with different lengths or shapes) is deprecated. If you meant to do this, you must specify 'dtype=object' when creating the ndarray.\n",
      "  matches = np.array(matches)\n"
     ]
    }
   ],
   "source": [
    "### Match the datasets with a 2 arcsec radius\n",
    "matches = []\n",
    "for i, coord in enumerate(candcoord1.T[1]):\n",
    "    idx, sep2d, dist3d = coord.match_to_catalog_sky(agncoords2)\n",
    "    if sep2d < 2*u.arcsec:\n",
    "        matches.append([i,coord,idx, sep2d])\n",
    "matches = np.array(matches)"
   ]
  },
  {
   "cell_type": "code",
   "execution_count": 273,
   "id": "7c5f6b25-40b0-4446-8038-122af6a41f35",
   "metadata": {},
   "outputs": [
    {
     "name": "stdout",
     "output_type": "stream",
     "text": [
      "For the ELAIS field:\n",
      "Using this file: ./SWIR_result.txt\n",
      "found 16 out of 179 \"AGN\"     (8.94 %)\n",
      "found 0 out of 2 \"LIN\"     (0.0 %)\n",
      "found 2 out of 14 \"QSO\"     (14.29 %)\n",
      "found 0 out of 3 \"Sy1\"     (0.0 %)\n",
      "found 0 out of 9 \"Sy2\"     (0.0 %)\n",
      "We detected 18 known agn as 'probably-real' candidates, out of 207 known agn\n",
      "This represents 8.7 % of the known agn in our field\n"
     ]
    }
   ],
   "source": [
    "matchmsk = matches.T[2].astype(int)\n",
    "agncoordsmatched = agncoords1[matchmsk]\n",
    "agntypesmatched = agntypes1[matchmsk]\n",
    "agnnamesmatched = agnnames1[matchmsk]\n",
    "print(\"For the {} field:\".format(field))\n",
    "print(\"Using this file: {}\".format(fnm))\n",
    "for typee in np.unique(agntypes):\n",
    "    msk = np.where(agntypesmatched==typee)[0]\n",
    "    nummatched = len(agnnamesmatched[msk])\n",
    "    try:\n",
    "        numtot = len(agnnames1[agntypes1==typee])\n",
    "        perc = np.round(nummatched/numtot*100,2)\n",
    "        print(\"found {} out of {} {} ({} %)\".format(nummatched, numtot,typee,perc))\n",
    "    except:\n",
    "        pass\n",
    "print(\"We detected {} known agn as 'probably-real' candidates, out of {} known agn\".format(len(matches), len(agncoords1)))\n",
    "print(\"This represents {} % of the known agn in our field\".format(np.round(len(matches)/len(agncoords1)*100,2)))"
   ]
  },
  {
   "cell_type": "code",
   "execution_count": 274,
   "id": "1a039b9d-23cd-40e8-94b2-83b02ce1b80e",
   "metadata": {},
   "outputs": [
    {
     "data": {
      "text/plain": [
       "array([['\"SWIR', '209']], dtype='<U21')"
      ]
     },
     "execution_count": 274,
     "metadata": {},
     "output_type": "execute_result"
    }
   ],
   "source": [
    "# plt.hist([i[:5] for i in agnnames])\n",
    "np.array(np.unique([i[:5] for i in agnnames], return_counts=True)).transpose()"
   ]
  },
  {
   "cell_type": "code",
   "execution_count": 275,
   "id": "c5240e98-6c67-4c6c-a242-9c00d8f71a04",
   "metadata": {},
   "outputs": [
    {
     "data": {
      "text/plain": [
       "'SWIR had 83'"
      ]
     },
     "execution_count": 275,
     "metadata": {},
     "output_type": "execute_result"
    }
   ],
   "source": [
    "'ESIS has 346'\n",
    "'SWIR has 209'"
   ]
  },
  {
   "cell_type": "code",
   "execution_count": null,
   "id": "7ca5bf82-64c5-4246-9fc3-6385acb0918c",
   "metadata": {},
   "outputs": [],
   "source": []
  }
 ],
 "metadata": {
  "kernelspec": {
   "display_name": "NERSC Python",
   "language": "python",
   "name": "python3"
  },
  "language_info": {
   "codemirror_mode": {
    "name": "ipython",
    "version": 3
   },
   "file_extension": ".py",
   "mimetype": "text/x-python",
   "name": "python",
   "nbconvert_exporter": "python",
   "pygments_lexer": "ipython3",
   "version": "3.9.7"
  }
 },
 "nbformat": 4,
 "nbformat_minor": 5
}
