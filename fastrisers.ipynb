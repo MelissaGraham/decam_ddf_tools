{
 "cells": [
  {
   "cell_type": "code",
   "execution_count": 1,
   "id": "f5c380a7-8f00-4ebe-a205-25511f229ea3",
   "metadata": {},
   "outputs": [],
   "source": [
    "import psycopg2\n",
    "import psycopg2.extras\n",
    "import getpass\n",
    "from IPython.display import display\n",
    "import ipywidgets\n",
    "import matplotlib.pyplot as plt\n",
    "import matplotlib\n",
    "import numpy as np\n",
    "import pandas as pd\n",
    "from astropy.time import Time\n",
    "from astropy.coordinates import get_moon, GCRS\n",
    "import astropy.units as u"
   ]
  },
  {
   "cell_type": "markdown",
   "id": "5abd8c34-dfbd-4a6d-9106-bce3207b8b28",
   "metadata": {},
   "source": [
    "This notebook searches the COSMOS field for candidates that (on their first night of detection) rose by at least 0.2 mag over at least 4 detections"
   ]
  },
  {
   "cell_type": "code",
   "execution_count": 2,
   "id": "dc45187c-bec5-4f20-a62b-322f0c690a27",
   "metadata": {},
   "outputs": [
    {
     "name": "stdin",
     "output_type": "stream",
     "text": [
      "DB User:  kennedyt\n",
      "DB Password:  ············\n"
     ]
    }
   ],
   "source": [
    "dbuser = input(\"DB User: \")\n",
    "dbpasswd = getpass.getpass(\"DB Password: \")\n",
    "db = psycopg2.connect( f\"dbname='decat' user='{dbuser}' password='{dbpasswd}' host='decatdb.lbl.gov'\" )\n",
    "\n",
    "db.autocommit = True # Makes the computer nicer about SQL syntax errors\n",
    "\n",
    "cursor = db.cursor( cursor_factory = psycopg2.extras.DictCursor )"
   ]
  },
  {
   "cell_type": "code",
   "execution_count": 3,
   "id": "eb7acdb5-5621-4637-b606-3aeecb982020",
   "metadata": {},
   "outputs": [],
   "source": [
    "query = ('SELECT e.mjd FROM exposures e '\n",
    "         'WHERE q3c_radial_query(e.ra,e.dec,150,2.2,3) '\n",
    "         'LIMIT 10000000')\n",
    "cursor.execute( query )\n",
    "\n",
    "datesquery = cursor.fetchall()"
   ]
  },
  {
   "cell_type": "code",
   "execution_count": 4,
   "id": "cdf1281d-0876-4012-857c-8e9d41315e97",
   "metadata": {},
   "outputs": [
    {
     "data": {
      "text/plain": [
       "array([59292., 59295., 59297., 59301., 59304., 59307., 59310., 59313.,\n",
       "       59316., 59319., 59322., 59325., 59329., 59331., 59333., 59337.,\n",
       "       59340., 59343., 59346., 59349., 59352., 59356., 59358., 59361.,\n",
       "       59364., 59367., 59370., 59373., 59376.])"
      ]
     },
     "execution_count": 4,
     "metadata": {},
     "output_type": "execute_result"
    }
   ],
   "source": [
    "# Make a list of every observing night (rounded to the nearest MJD)\n",
    "odates = np.unique( np.round( datesquery ) )\n",
    "odates"
   ]
  },
  {
   "cell_type": "code",
   "execution_count": 5,
   "id": "c0400f48-8d56-4c86-ad83-bd4aaf6548a3",
   "metadata": {},
   "outputs": [
    {
     "name": "stderr",
     "output_type": "stream",
     "text": [
      "/usr/common/software/python/3.7-anaconda-2019.10/lib/python3.7/site-packages/ipykernel_launcher.py:50: FutureWarning: elementwise comparison failed; returning scalar instead, but in the future will perform elementwise comparison\n"
     ]
    }
   ],
   "source": [
    "fr = []\n",
    "frdates = []\n",
    "fil = 'i' # filter to look for fast riser behavior in\n",
    "oldcands = np.array( [] ) # used to check if candidates have been detected before\n",
    "\n",
    "for i in range(len(odates)):\n",
    "    # Loop through each observing night\n",
    "    # Grab all detections within a day of the night in question\n",
    "    lodate = odates[i] - 1\n",
    "    hidate = odates[i] + 1\n",
    "    query = ('SELECT o.candidate_id, o.id, e.mjd, o.mag, o.rb, e.id FROM objects o '\n",
    "             'JOIN subtractions s ON s.id=o.subtraction_id '\n",
    "             'JOIN exposures e on s.exposure_id = e.id '\n",
    "             'WHERE q3c_radial_query(e.ra,e.dec,150,2.2,3) '\n",
    "             'AND o.rb > 0.4 '\n",
    "             'AND e.mjd > %s '\n",
    "             'AND e.mjd < %s '\n",
    "             'AND e.filter = %s'\n",
    "             'LIMIT 10000000')\n",
    "    cursor.execute( query, (lodate, hidate, fil) )\n",
    "    # Store that nights detections in an array\n",
    "    tempres = np.array( cursor.fetchall(), dtype=str ).transpose()\n",
    "    # Cut out duplicate objects\n",
    "    dupearr = np.array( [tempres[0], tempres[2], tempres[3], tempres[4], tempres[5]] ).transpose()\n",
    "    dupearr = [ \"-\".join(j) for j in dupearr ]\n",
    "    dupearr, ind = np.unique( dupearr, return_index=True )\n",
    "    \n",
    "    # Rejoin the array without the duplicates\n",
    "    uarr = np.array( [ i.split(\"-\") for i in dupearr ] ).transpose()\n",
    "    res = np.array( [uarr[0], tempres[1][ind], uarr[1], uarr[2], uarr[3], uarr[4]] )\n",
    "    \n",
    "    # Create an array of each unique candidate detected that night\n",
    "    ucands, uind, ucounts = np.unique( res[0], return_counts=True, return_index=True )\n",
    "    \n",
    "    # Isolate those with at least 4 detections\n",
    "    goodcands = ucands[ ucounts > 3 ]\n",
    "\n",
    "    \n",
    "    # Make an array of detections for each of those candidates, store all of those arrays in \"arr\"\n",
    "    arr = np.ones( len( goodcands ), dtype=object )\n",
    "    for j in range( len( goodcands ) ):\n",
    "        arr[j] = res[:,res[0,:] == goodcands[j]]\n",
    "    # Mask out those that \n",
    "    # A) have been detected in previous nights, \n",
    "    # B) don't rise in every subsequent detection, or \n",
    "    # C) don't change by at least 0.2 mag\n",
    "    good = np.ones( len( arr ), dtype=bool )\n",
    "    for j in range( len( arr ) ):\n",
    "        # A)\n",
    "        if arr[j][0][0] in oldcands:\n",
    "            good[j] = False\n",
    "        for k in range( len( arr[j][3] ) - 1 ):\n",
    "            # B)\n",
    "            if arr[j][3][k] < arr[j][3][k + 1]:\n",
    "                good[j] = False\n",
    "            # C)\n",
    "            if np.max( arr[j][3].astype(float) ) - np.min( arr[j][3].astype(float) ) < 0.2:\n",
    "                good[j] = False\n",
    "            \n",
    "    # Apply those cuts and append the candidates that passed to fr and frdates\n",
    "    for j in range( len( arr[good] ) ):\n",
    "        fr.append( arr[good][j][0][0] )\n",
    "        frdates.append( [lodate, hidate] )\n",
    "    # Make a note of all candidates detected this night (for cutting out things that have been previously detected)\n",
    "    oldcands = np.append( oldcands, ucands )"
   ]
  },
  {
   "cell_type": "code",
   "execution_count": 6,
   "id": "ff7c589e-ab53-4cd5-be7c-3a4c201922ee",
   "metadata": {
    "tags": []
   },
   "outputs": [
    {
     "data": {
      "text/plain": [
       "1"
      ]
     },
     "execution_count": 6,
     "metadata": {},
     "output_type": "execute_result"
    }
   ],
   "source": [
    "len(fr)"
   ]
  },
  {
   "cell_type": "code",
   "execution_count": 9,
   "id": "02e36ba9-d9b0-463c-b4be-abe450e6739e",
   "metadata": {},
   "outputs": [
    {
     "data": {
      "image/png": "[encoded data removed]",
      "text/plain": [
       "<Figure size 432x288 with 1 Axes>"
      ]
     },
     "metadata": {
      "needs_background": "light"
     },
     "output_type": "display_data"
    }
   ],
   "source": [
    "### Plotting up each of the identified fast risers\n",
    "for i in range( len( fr ) ):\n",
    "    query = ('SELECT c.id, e.mjd, o.mag, o.magerr, e.filter FROM objects o '\n",
    "             'JOIN candidates c ON c.id=o.candidate_id '\n",
    "             'JOIN subtractions s ON s.id=o.subtraction_id '\n",
    "             'JOIN exposures e ON e.id=s.exposure_id '\n",
    "             'WHERE c.id=%s '\n",
    "             'AND o.rb > 0.4')\n",
    "    cursor.execute( query, ( fr[i], ) )\n",
    "    array = np.array( cursor.fetchall() ).transpose()\n",
    "    rmsk = array[4] == 'r'\n",
    "    gmsk = array[4] == 'g'\n",
    "    imsk = array[4] == 'i'\n",
    "    plt.errorbar( ( array[1][imsk] ).astype(float), \n",
    "                 ( array[2][imsk] ).astype(float), \n",
    "                 yerr=array[3][imsk].astype(float), \n",
    "                 fmt='o', \n",
    "                 markersize=5, \n",
    "                 ls= '', \n",
    "                 color='blue', \n",
    "                 label='i' )\n",
    "    plt.errorbar( ( array[1][rmsk] ).astype(float), \n",
    "                 ( array[2][rmsk] ).astype(float), \n",
    "                 yerr=array[3][rmsk].astype(float), \n",
    "                 fmt='o', \n",
    "                 markersize=5, \n",
    "                 ls= '', \n",
    "                 color='r', \n",
    "                 label='r' )\n",
    "    plt.errorbar( ( array[1][gmsk] ).astype(float), \n",
    "                 ( array[2][gmsk] ).astype(float), \n",
    "                 yerr=array[3][gmsk].astype(float), \n",
    "                 fmt='o', \n",
    "                 markersize=5, \n",
    "                 ls= '', \n",
    "                 color='g', \n",
    "                 label='g' )\n",
    "    plt.axvline( float( frdates[i][0] ) )\n",
    "    plt.axvline( float( frdates[i][1] ) )\n",
    "    plt.title( array[0][0] )\n",
    "    plt.gca().invert_yaxis()\n",
    "    plt.legend()\n",
    "    plt.show()"
   ]
  },
  {
   "cell_type": "code",
   "execution_count": null,
   "id": "6ef8ba6b-ac4e-4d57-9de4-21b68f2a220e",
   "metadata": {},
   "outputs": [],
   "source": []
  }
 ],
 "metadata": {
  "kernelspec": {
   "display_name": "Python 3",
   "language": "python",
   "name": "python3"
  },
  "language_info": {
   "codemirror_mode": {
    "name": "ipython",
    "version": 3
   },
   "file_extension": ".py",
   "mimetype": "text/x-python",
   "name": "python",
   "nbconvert_exporter": "python",
   "pygments_lexer": "ipython3",
   "version": "3.7.4"
  }
 },
 "nbformat": 4,
 "nbformat_minor": 5
}
