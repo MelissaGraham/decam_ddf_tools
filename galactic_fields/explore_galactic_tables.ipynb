{
 "cells": [
  {
   "cell_type": "code",
   "execution_count": null,
   "id": "9fdc531e-7c56-4401-b98f-cf2651ee37d7",
   "metadata": {},
   "outputs": [],
   "source": [
    "import psycopg2\n",
    "import psycopg2.extras\n",
    "import getpass\n",
    "\n",
    "import os\n",
    "import numpy as np\n",
    "import matplotlib.pyplot as plt\n",
    "from copy import deepcopy\n",
    "\n",
    "from astropy.coordinates import SkyCoord"
   ]
  },
  {
   "cell_type": "code",
   "execution_count": null,
   "id": "cf1d0ce0-e16a-4baf-ad34-f418402a5b23",
   "metadata": {},
   "outputs": [],
   "source": [
    "dbuser = input(\"DB User: \")\n",
    "dbpasswd = getpass.getpass(\"DB Password: \")"
   ]
  },
  {
   "cell_type": "code",
   "execution_count": null,
   "id": "6a47b9ec-1291-4852-87bb-f2c66ace1f6f",
   "metadata": {},
   "outputs": [],
   "source": [
    "# db = psycopg2.connect(\"dbname='decat_dev' user='mgraham' password='PutYourPasswordHere' host='decatdb.lbl.gov'\")\n",
    "db = psycopg2.connect(f\"dbname='decat_dev' user='{dbuser}' password='{dbpasswd}' host='decatdb.lbl.gov'\")"
   ]
  },
  {
   "cell_type": "code",
   "execution_count": null,
   "id": "ecde5ecb-1079-471c-aefc-48c44c1a0289",
   "metadata": {},
   "outputs": [],
   "source": [
    "db.rollback()"
   ]
  },
  {
   "cell_type": "code",
   "execution_count": null,
   "id": "16eb15f2-5c82-4171-93ac-9497ffe8903a",
   "metadata": {},
   "outputs": [],
   "source": [
    "cursor = db.cursor( cursor_factory = psycopg2.extras.DictCursor )"
   ]
  },
  {
   "cell_type": "code",
   "execution_count": null,
   "id": "87d0881d-ef28-4667-acd9-0530cce09aba",
   "metadata": {},
   "outputs": [],
   "source": [
    "### If you want to print table schema\n",
    "tables = ['galexposures','galimages','galexposure_id','galsources','galvarobjs']\n",
    "for table in tables:\n",
    "    query = \"SELECT column_name, data_type FROM information_schema.columns WHERE table_name=%s\"\n",
    "    cursor.execute( query, ( table, ))\n",
    "    print( f\"\\nTABLE: {table}\\n===========================\" )\n",
    "    for row in cursor:\n",
    "        print( f\"{row['column_name']:24s}  :  {row['data_type']:s}\" )"
   ]
  },
  {
   "cell_type": "code",
   "execution_count": null,
   "id": "2901ed2f-8784-4817-9c72-61de0ba9cf16",
   "metadata": {},
   "outputs": [],
   "source": []
  }
 ],
 "metadata": {
  "kernelspec": {
   "display_name": "Python 3",
   "language": "python",
   "name": "python3"
  },
  "language_info": {
   "codemirror_mode": {
    "name": "ipython",
    "version": 3
   },
   "file_extension": ".py",
   "mimetype": "text/x-python",
   "name": "python",
   "nbconvert_exporter": "python",
   "pygments_lexer": "ipython3",
   "version": "3.7.4"
  }
 },
 "nbformat": 4,
 "nbformat_minor": 5
}
