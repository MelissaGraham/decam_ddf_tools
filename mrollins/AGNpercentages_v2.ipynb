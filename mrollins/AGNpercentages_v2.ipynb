{
 "cells": [
  {
   "cell_type": "code",
   "execution_count": 1,
   "id": "85aba83f-4e96-4c81-9f71-4f0cd55701e7",
   "metadata": {},
   "outputs": [],
   "source": [
    "# For passwords & database access:\n",
    "import psycopg2\n",
    "import psycopg2.extras\n",
    "import getpass\n",
    "\n",
    "# For plotting\n",
    "import matplotlib.pyplot as plt\n",
    "import matplotlib\n",
    "from IPython.display import display\n",
    "import ipywidgets\n",
    "\n",
    "# For math\n",
    "from astropy.coordinates import SkyCoord\n",
    "import astropy.units as u\n",
    "import numpy as np\n",
    "import pandas as pd\n",
    "import shapely.wkt as wkt\n",
    "from shapely.geometry import Point"
   ]
  },
  {
   "cell_type": "code",
   "execution_count": 2,
   "id": "bcce61cb-4c44-419b-bfe1-0a219a0298af",
   "metadata": {},
   "outputs": [
    {
     "name": "stdin",
     "output_type": "stream",
     "text": [
      "DB User:  kennedyt\n",
      "DB Password:  ············\n"
     ]
    }
   ],
   "source": [
    "# Logging in\n",
    "dbuser = input(\"DB User: \")\n",
    "dbpasswd = getpass.getpass(\"DB Password: \")\n",
    "db = psycopg2.connect( f\"dbname='decat' user='{dbuser}' password='{dbpasswd}' host='decatdb.lbl.gov'\" )\n",
    "\n",
    "db.autocommit = True # Makes the computer nicer about SQL syntax errors\n",
    "\n",
    "cursor = db.cursor( cursor_factory = psycopg2.extras.DictCursor )"
   ]
  },
  {
   "cell_type": "markdown",
   "id": "d84478bf-0d24-479c-b20d-b70a71c62faf",
   "metadata": {},
   "source": [
    "#### Choices (uncomment one field and one filename):"
   ]
  },
  {
   "cell_type": "code",
   "execution_count": 3,
   "id": "5de63064-5f6d-47d4-bc70-05230eaaa51f",
   "metadata": {},
   "outputs": [],
   "source": [
    "# field = \"COSMOS\"\n",
    "# fnm = \"./COSMOS_result.txt\" # Use all known AGN in COSMOS\n",
    "# fnm = \"./COSMOS2015_result.txt\" # Use AGN from COSMOS2015 catalog\n",
    "# fnm = \"./ACS-GC_result.txt\" # Use AGN from ACS-GC catalog\n",
    "\n",
    "# field = \"ELAIS\"\n",
    "# fnm = \"./ELAIS_result.txt\" # All ELAIS AGN\n",
    "# fnm = \"./ESIS_result.txt\" # Use AGN from ESIS (ESO-Spitzer Imaging extragalactic Survey)\n",
    "# fnm = \"./SWIRE_result.txt\" # Use AGN from SWIRE\n",
    "\n",
    "# Doesn't matter a ton, makes the polygons more tight if it's smaller, but runs slower, I recommend 0.05\n",
    "prec=0.05 "
   ]
  },
  {
   "cell_type": "markdown",
   "id": "31227247-ab43-426b-8482-08fcb2f510dc",
   "metadata": {},
   "source": [
    "#### Making a simple polygon enclosing our field (short enough that its vertices fit in an ADQL query)"
   ]
  },
  {
   "cell_type": "code",
   "execution_count": 4,
   "id": "7cff0789-6b48-4b2b-aa6d-55a95b8b8af3",
   "metadata": {},
   "outputs": [],
   "source": [
    "### Pull all cand ras+decs:\n",
    "if field==\"COSMOS\":\n",
    "    query = (\"SELECT c.ra, c.dec FROM candidates c \"\n",
    "             \"JOIN objects o ON o.candidate_id=c.id \"\n",
    "             \"JOIN subtractions s ON s.id=o.subtraction_id \"\n",
    "             \"JOIN exposures e ON e.id = s.exposure_id \"\n",
    "             \"WHERE (e.proposalid = '2021A-0113' \"\n",
    "             \"OR e.proposalid = '2021B-0149' )\"\n",
    "             \"AND c.dec > 0 \" # COSMOS\n",
    "             \"LIMIT 10000000\")\n",
    "elif field==\"ELAIS\":\n",
    "    query = (\"SELECT c.ra, c.dec FROM candidates c \"\n",
    "             \"JOIN objects o ON o.candidate_id=c.id \"\n",
    "             \"JOIN subtractions s ON s.id=o.subtraction_id \"\n",
    "             \"JOIN exposures e ON e.id = s.exposure_id \"\n",
    "             \"WHERE (e.proposalid = '2021A-0113' \"\n",
    "             \"OR e.proposalid = '2021B-0149' )\"\n",
    "             \"AND c.ra < 50 \" # ELAIS\n",
    "             \"LIMIT 10000000\")\n",
    "cursor.execute( query, )\n",
    "\n",
    "radecquery = np.array(cursor.fetchall()).transpose().astype(float)\n",
    "radecquery = np.unique(radecquery.transpose(), axis=0).transpose()"
   ]
  },
  {
   "cell_type": "code",
   "execution_count": 5,
   "id": "4d48dbb8-03ff-4440-b25b-b71a0741b2c8",
   "metadata": {},
   "outputs": [],
   "source": [
    "### Create a polygon object using all of those points as vertices\n",
    "polystr = str([str(i[0])+\" \"+str(i[1]) for i in np.round(radecquery.T,2)]).replace(\"'\",\"\")\n",
    "if field==\"COSMOS\":\n",
    "    pol = wkt.loads(\"POLYGON (({}))\".format(polystr[1:-1]+', '+polystr[1:12])) # COSMOS\n",
    "elif field==\"ELAIS\":\n",
    "    pol = wkt.loads(\"POLYGON (({}))\".format(polystr[1:-1]+', '+polystr[1:11])) # ELAIS"
   ]
  },
  {
   "cell_type": "code",
   "execution_count": 6,
   "id": "e3b47b50-ddec-4de1-865d-1d0b0b9287f7",
   "metadata": {},
   "outputs": [
    {
     "data": {
      "text/plain": [
       "[<matplotlib.lines.Line2D at 0x155515db3b80>]"
      ]
     },
     "execution_count": 6,
     "metadata": {},
     "output_type": "execute_result"
    },
    {
     "data": {
      "image/png": "[encoded data removed]",
      "text/plain": [
       "<Figure size 432x288 with 1 Axes>"
      ]
     },
     "metadata": {
      "needs_background": "light"
     },
     "output_type": "display_data"
    }
   ],
   "source": [
    "### Simplify the polygon to the simplest convex shape that encloses all data:\n",
    "polconvhull = pol.convex_hull\n",
    "convhullarr = polconvhull.exterior.coords.xy\n",
    "\n",
    "plt.scatter(*radecquery)\n",
    "plt.plot(convhullarr[0],convhullarr[1],color='orange') # orange is simplest convex polygon enclosing all pts"
   ]
  },
  {
   "cell_type": "code",
   "execution_count": 7,
   "id": "29e74af2-e683-4131-9240-17c737b42c8e",
   "metadata": {},
   "outputs": [
    {
     "name": "stdout",
     "output_type": "stream",
     "text": [
      "SELECT distinct main_id, ra, dec, otype_txt\n",
      "FROM basic\n",
      "WHERE otype = 'AGN..'\n",
      "AND CONTAINS(POINT('ICRS', ra, dec), POLYGON('ICRS', 8.95, -44.98, 8.85, -44.97, 7.23, -43.97, 7.02, -43.81, 6.6, -43.49, 6.39, -43.15, 6.39, -43.07, 6.4, -42.84, 6.62, -42.52, 7.04, -42.19, 7.26, -42.03, 8.49, -42.03, 10.13, -43.02, 10.78, -43.51, 11.0, -44.0, 11.01, -44.11, 11.01, -44.14, 10.8, -44.48, 10.15, -44.97, 10.13, -44.98, 8.95, -44.98)) = 1\n",
      "GROUP BY main_id, otype_txt, ra, dec\n"
     ]
    }
   ],
   "source": [
    "### Grabbed every AGN within that orange boundary from SIMBAD at http://simbad.u-strasbg.fr/simbad/sim-tap\n",
    "### Used this query, saved as {field}_result.txt in this directory\n",
    "### Just showing my work, the query results for all of the below are saved to this directory already\n",
    "print(\"SELECT distinct main_id, ra, dec, otype_txt\")\n",
    "print(\"FROM basic\")\n",
    "print(\"WHERE otype = 'AGN..'\") # 'AGN..' here means all subtypes of AGN (QSOs, seyferts, etc.)\n",
    "print(\"AND CONTAINS(POINT('ICRS', ra, dec), POLYGON('ICRS', {})) = 1\".format(str(list(np.array(convhullarr).T.flatten()))[1:-1]))\n",
    "print(\"GROUP BY main_id, otype_txt, ra, dec\")\n",
    "\n",
    "### SIMBAD ADQL queries used for the catalog-specific queries\n",
    "\n",
    "# print(\"\"\"\n",
    "# SELECT distinct IDENT.id, basic.ra, basic.dec, basic.otype_txt\n",
    "# FROM basic\n",
    "# JOIN IDENT on IDENT.oidref=basic.oid\n",
    "# WHERE basic.otype = 'AGN..'\n",
    "# AND IDENT.id like 'ESIS%'\n",
    "# AND CONTAINS(POINT('ICRS', basic.ra, basic.dec), POLYGON('ICRS', {})) = 1\n",
    "# GROUP BY IDENT.id, basic.otype_txt, basic.ra, basic.dec\n",
    "# \"\"\".format(str(list(np.array(convhullarr).T.flatten()))[1:-1]))\n",
    "\n",
    "# \"\"\"\n",
    "# SELECT distinct IDENT.id, basic.ra, basic.dec, basic.otype_txt\n",
    "# FROM basic\n",
    "# JOIN IDENT on IDENT.oidref=basic.oid\n",
    "# WHERE basic.otype = 'AGN..'\n",
    "# AND IDENT.id like 'COSMOS2015%'\n",
    "# AND CONTAINS(POINT('ICRS', basic.ra, basic.dec), POLYGON('ICRS', 148.76, 0.77, 148.3, 1.26, 148.14, 1.6, 148.14, 1.91, 148.3, 2.23, 149.07, 3.57, 149.23, 3.75, 149.38, 3.91, 149.54, 4.08, 150.46, 4.08, 150.62, 3.91, 150.77, 3.75, 150.93, 3.57, 151.71, 2.23, 151.86, 1.73, 151.86, 1.59, 151.71, 1.26, 151.24, 0.77, 148.76, 0.77)) = 1\n",
    "# GROUP BY IDENT.id, basic.otype_txt, basic.ra, basic.dec\n",
    "# \"\"\"\n",
    "\n",
    "# \"\"\"\n",
    "# SELECT distinct IDENT.id, basic.ra, basic.dec, basic.otype_txt\n",
    "# FROM basic\n",
    "# JOIN IDENT on IDENT.oidref=basic.oid\n",
    "# WHERE basic.otype = 'AGN..'\n",
    "# AND IDENT.id like 'ACS-GC%'\n",
    "# AND CONTAINS(POINT('ICRS', basic.ra, basic.dec), POLYGON('ICRS', 148.76, 0.77, 148.3, 1.26, 148.14, 1.6, 148.14, 1.91, 148.3, 2.23, 149.07, 3.57, 149.23, 3.75, 149.38, 3.91, 149.54, 4.08, 150.46, 4.08, 150.62, 3.91, 150.77, 3.75, 150.93, 3.57, 151.71, 2.23, 151.86, 1.73, 151.86, 1.59, 151.71, 1.26, 151.24, 0.77, 148.76, 0.77)) = 1\n",
    "# GROUP BY IDENT.id, basic.otype_txt, basic.ra, basic.dec\n",
    "# \"\"\";"
   ]
  },
  {
   "cell_type": "code",
   "execution_count": 8,
   "id": "ea9c1241-f549-427e-a594-235c12c66678",
   "metadata": {},
   "outputs": [],
   "source": [
    "agn = np.loadtxt(fnm, skiprows=2,delimiter='|', dtype=str) # Reding in SIMBAD data\n",
    "agnnames, agnras, agndecs, agntypes = agn.T\n",
    "agnras, agndecs = agnras.astype(float), agndecs.astype(float)\n",
    "agncoords = np.array([agnras,agndecs]).T"
   ]
  },
  {
   "cell_type": "code",
   "execution_count": 9,
   "id": "ea2c9432-1766-4412-a652-91ffc6456289",
   "metadata": {},
   "outputs": [
    {
     "data": {
      "text/plain": [
       "array([[  8.45583333, -43.38527778],\n",
       "       [  8.35625   , -43.36916667],\n",
       "       [  8.47333333, -43.35777778],\n",
       "       [  8.29208333, -43.35138889],\n",
       "       [  8.46208333, -43.35222222]])"
      ]
     },
     "execution_count": 9,
     "metadata": {},
     "output_type": "execute_result"
    }
   ],
   "source": [
    "### Now have coords for every agn in the orange boundary (this includes things outside our fields still)\n",
    "agncoords[:5]"
   ]
  },
  {
   "cell_type": "markdown",
   "id": "e2d74f26-134e-4b84-883e-f884736e1644",
   "metadata": {
    "tags": []
   },
   "source": [
    "#### This section draws a tighter polygon around the field and excludes SIMBAD AGN from outside that region"
   ]
  },
  {
   "cell_type": "code",
   "execution_count": 10,
   "id": "ab07e92b-a366-4ec9-ab14-ebc558dafa0c",
   "metadata": {},
   "outputs": [
    {
     "data": {
      "image/png": "[encoded data removed]",
      "text/plain": [
       "<Figure size 432x288 with 1 Axes>"
      ]
     },
     "metadata": {
      "needs_background": "light"
     },
     "output_type": "display_data"
    }
   ],
   "source": [
    "### Create a stricter boundary now that we have the raw data:\n",
    "### I do this by making a grid and labelling each rectangle as 'containing data' or not \n",
    "### (if I don't condense the data like this, making the polygon gets computationally prohibitive)\n",
    "\n",
    "plt.scatter(radecquery[0],radecquery[1])\n",
    "plt.title(\"All COSMOS cands\")\n",
    "plt.xlabel(\"RA\")\n",
    "plt.ylabel(\"Dec\")\n",
    "\n",
    "if field==\"ELAIS\":\n",
    "    ys = np.arange(-45.0,-41.7,prec) # ELAIS\n",
    "    xs = np.arange(6,11.5,prec) # ELAIS\n",
    "    xys = np.meshgrid(xs,ys) # ELAIS\n",
    "elif field==\"COSMOS\":\n",
    "    ys = np.arange(0.65,4.25,prec) # COSMOS\n",
    "    xs = np.arange(148,152,prec) # COSMOS\n",
    "    xys = np.meshgrid(xs,ys) # COSMOS\n",
    "\n",
    "for i in ys:\n",
    "    plt.axhline(i, color='black',lw=0.2)\n",
    "for i in xs:\n",
    "    plt.axvline(i, color='black',lw=0.2)"
   ]
  },
  {
   "cell_type": "code",
   "execution_count": 11,
   "id": "92ea808a-2e8c-456a-83f9-e1aa0b364b0c",
   "metadata": {},
   "outputs": [],
   "source": [
    "good = []\n",
    "for i in range(len(xs)):\n",
    "    for j in range(len(ys)):\n",
    "        data = radecquery[0][np.where((radecquery[0]<xs[i]+prec) & (radecquery[0]>xs[i]) \\\n",
    "                                      & (radecquery[1]<ys[j]+prec) & (radecquery[1]>ys[j]))[0]]\n",
    "        if len(data) > 0:\n",
    "            good.append([i,j])\n",
    "goodidx = np.array(good).transpose()\n",
    "goodxs = xs[goodidx[0]] + prec/2 # Center coordinate within grid box\n",
    "goodys = ys[goodidx[1]] + prec/2 # Center coordinate within grid box\n",
    "goods = np.array([goodxs,goodys])"
   ]
  },
  {
   "cell_type": "code",
   "execution_count": 31,
   "id": "dad1bd32-036e-4927-a5a9-3c415987bf8e",
   "metadata": {},
   "outputs": [
    {
     "data": {
      "image/png": "[encoded data removed]",
      "text/plain": [
       "<Figure size 432x288 with 1 Axes>"
      ]
     },
     "metadata": {
      "needs_background": "light"
     },
     "output_type": "display_data"
    }
   ],
   "source": [
    "plt.scatter(*radecquery)\n",
    "plt.scatter(*goods,lw=0.05, color='orange')\n",
    "for i in ys:\n",
    "    plt.axhline(i, color='black',lw=0.2)\n",
    "for i in xs:\n",
    "    plt.axvline(i, color='black',lw=0.2)"
   ]
  },
  {
   "cell_type": "code",
   "execution_count": 32,
   "id": "db6f26ce-8c8e-4e7c-9d86-3489e12900b7",
   "metadata": {},
   "outputs": [],
   "source": [
    "pol2str = str([str(i[0])+\" \"+str(i[1]) for i in np.round(goods.T,2)]).replace(\"'\",\"\")\n",
    "\n",
    "if field==\"COSMOS\":\n",
    "    pol2 = wkt.loads(\"POLYGON (({}))\".format(pol2str[1:-1]+', '+pol2str[1:12])) # COSMOS\n",
    "elif field==\"ELAIS\":\n",
    "    pol2 = wkt.loads(\"POLYGON (({}))\".format(pol2str[1:-1]+', '+pol2str[1:12])) # ELAIS\n",
    "\n",
    "pol3 = pol2.buffer(prec)\n",
    "pol3arr = pol3.exterior.coords.xy"
   ]
  },
  {
   "cell_type": "code",
   "execution_count": 33,
   "id": "04f6c859-effe-4605-9010-0265d0fb8199",
   "metadata": {},
   "outputs": [],
   "source": [
    "agnmsk = []\n",
    "for coord in agncoords:\n",
    "    pt = Point(coord[0],coord[1])\n",
    "    agnmsk.append(pt.within(pol3))\n",
    "agncoords1 = agncoords[agnmsk]\n",
    "agnnames1 = agnnames[agnmsk]\n",
    "agntypes1 = agntypes[agnmsk]"
   ]
  },
  {
   "cell_type": "code",
   "execution_count": 34,
   "id": "b067355b-7b5c-49e6-9376-c6911743db7d",
   "metadata": {},
   "outputs": [
    {
     "data": {
      "text/plain": [
       "(346, 346)"
      ]
     },
     "execution_count": 34,
     "metadata": {},
     "output_type": "execute_result"
    }
   ],
   "source": [
    "len(agncoords), len(agncoords1)"
   ]
  },
  {
   "cell_type": "code",
   "execution_count": 38,
   "id": "5d2c0468-1ed1-4a85-ac36-6892dc5926d4",
   "metadata": {},
   "outputs": [
    {
     "data": {
      "text/plain": [
       "<matplotlib.legend.Legend at 0x155513e7adc0>"
      ]
     },
     "execution_count": 38,
     "metadata": {},
     "output_type": "execute_result"
    },
    {
     "data": {
      "image/png": "[encoded data removed]",
      "text/plain": [
       "<Figure size 432x288 with 1 Axes>"
      ]
     },
     "metadata": {
      "needs_background": "light"
     },
     "output_type": "display_data"
    }
   ],
   "source": [
    "plt.scatter(*radecquery)\n",
    "plt.plot(*pol3arr, color='orange',label=\"New polygon\")\n",
    "plt.scatter(*agncoords.T,color='red', lw=0.1, label=\"Masked out\")\n",
    "plt.scatter(*agncoords1.T,color='black', lw=0.1, label=\"In new polygon\")\n",
    "# plt.scatter(agncoords.T[0][np.char.startswith(agnnames,'\"SWIR')],agncoords.T[1][np.char.startswith(agnnames,'\"SWIR')], color=\"g\")\n",
    "plt.legend(loc='upper right')"
   ]
  },
  {
   "cell_type": "markdown",
   "id": "e9b4de2c-cd65-468b-910e-9118cd53efc8",
   "metadata": {},
   "source": [
    "#### So now we have all of the known AGN we could theoretically detect in our field\n",
    "Next step is to match them up to \"probably-real\" candidates"
   ]
  },
  {
   "cell_type": "code",
   "execution_count": 17,
   "id": "68371f18-f049-400c-85c0-af657e3a9956",
   "metadata": {},
   "outputs": [],
   "source": [
    "### Grab all cand names for 'probably-real' cands\n",
    "realcandsarr = np.genfromtxt('../../candidate_nightly_epochs_files/candidate_lightcurve_parameters.dat', dtype=str)\n",
    "realcands = np.unique(realcandsarr.T[1])"
   ]
  },
  {
   "cell_type": "code",
   "execution_count": 18,
   "id": "272792ca-a50c-4c14-ac84-166edea26e94",
   "metadata": {},
   "outputs": [],
   "source": [
    "### Find coords and make SkyCoord objects for all candidates:\n",
    "candcoord = []\n",
    "for i in realcands:\n",
    "    query = (\"SELECT c.ra, c.dec FROM candidates c \"\n",
    "             \"WHERE c.id = %s \"\n",
    "             \"LIMIT 1\")\n",
    "    cursor.execute(query,(i,))\n",
    "    res = np.array(cursor.fetchall())[0]\n",
    "    candcoord.append([i,res])\n",
    "candcoord1 = np.array([[i[0], SkyCoord(i[1][0],i[1][1], unit='deg')] for i in candcoord])"
   ]
  },
  {
   "cell_type": "code",
   "execution_count": 19,
   "id": "95cb8dd1-a71a-4273-ad14-8094b25f4a8c",
   "metadata": {
    "tags": []
   },
   "outputs": [],
   "source": [
    "### Make a catalog-style set of SkyCoords for the SIMBAD sample\n",
    "agncoords2 = SkyCoord(agncoords1,unit='deg')"
   ]
  },
  {
   "cell_type": "code",
   "execution_count": 20,
   "id": "d95aaac8-f840-4890-8cdd-ecb348ee34af",
   "metadata": {},
   "outputs": [
    {
     "name": "stderr",
     "output_type": "stream",
     "text": [
      "/tmp/ipykernel_5570/2178453017.py:7: VisibleDeprecationWarning: Creating an ndarray from ragged nested sequences (which is a list-or-tuple of lists-or-tuples-or ndarrays with different lengths or shapes) is deprecated. If you meant to do this, you must specify 'dtype=object' when creating the ndarray.\n",
      "  matches = np.array(matches)\n"
     ]
    }
   ],
   "source": [
    "### Match the datasets with a 2 arcsec radius\n",
    "matches = []\n",
    "for i, coord in enumerate(candcoord1.T[1]):\n",
    "    idx, sep2d, dist3d = coord.match_to_catalog_sky(agncoords2)\n",
    "    if sep2d < 2*u.arcsec:\n",
    "        matches.append([i,coord,idx, sep2d])\n",
    "matches = np.array(matches)"
   ]
  },
  {
   "cell_type": "code",
   "execution_count": 24,
   "id": "7c5f6b25-40b0-4446-8038-122af6a41f35",
   "metadata": {},
   "outputs": [
    {
     "name": "stdout",
     "output_type": "stream",
     "text": [
      "For the ELAIS field:\n",
      "Using this file: ./ESIS_result.txt\n",
      "found 28 out of 316 \"AGN\"     (8.86 %)\n",
      "found 0 out of 3 \"LIN\"     (0.0 %)\n",
      "found 3 out of 24 \"QSO\"     (12.5 %)\n",
      "found 0 out of 2 \"Sy1\"     (0.0 %)\n",
      "found 0 out of 1 \"Sy2\"     (0.0 %)\n",
      "We detected 31 known agn as 'probably-real' candidates, out of 346 known agn\n",
      "This represents 8.96 % of all the known agn in our field\n"
     ]
    }
   ],
   "source": [
    "### Display percentages matched\n",
    "matchmsk = matches.T[2].astype(int)\n",
    "agncoordsmatched = agncoords1[matchmsk]\n",
    "agntypesmatched = agntypes1[matchmsk]\n",
    "agnnamesmatched = agnnames1[matchmsk]\n",
    "print(\"For the {} field:\".format(field))\n",
    "print(\"Using this file: {}\".format(fnm))\n",
    "for typee in np.unique(agntypes):\n",
    "    msk = np.where(agntypesmatched==typee)[0]\n",
    "    nummatched = len(agnnamesmatched[msk])\n",
    "    try:\n",
    "        numtot = len(agnnames1[agntypes1==typee])\n",
    "        perc = np.round(nummatched/numtot*100,2)\n",
    "        print(\"found {} out of {} {} ({} %)\".format(nummatched, numtot,typee,perc))\n",
    "    except:\n",
    "        pass\n",
    "print(\"We detected {} known agn as 'probably-real' candidates, out of {} known agn\".format(len(matches), len(agncoords1)))\n",
    "print(\"This represents {} % of all the known agn in our field\".format(np.round(len(matches)/len(agncoords1)*100,2)))"
   ]
  }
 ],
 "metadata": {
  "kernelspec": {
   "display_name": "NERSC Python",
   "language": "python",
   "name": "python3"
  },
  "language_info": {
   "codemirror_mode": {
    "name": "ipython",
    "version": 3
   },
   "file_extension": ".py",
   "mimetype": "text/x-python",
   "name": "python",
   "nbconvert_exporter": "python",
   "pygments_lexer": "ipython3",
   "version": "3.9.7"
  }
 },
 "nbformat": 4,
 "nbformat_minor": 5
}
