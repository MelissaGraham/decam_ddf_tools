{
 "cells": [
  {
   "cell_type": "markdown",
   "id": "51261e88-7c17-4da9-9cac-b039e3b06a79",
   "metadata": {},
   "source": [
    "# Nightly Epoch Magnitude Limits\n",
    "\n",
    "Contact: Melissa Graham\n",
    "\n",
    "Create an output file of nightly-epoch magnitude limits.\n",
    "\n",
    "All images obtained on a given night for a given filter are used to calculate a mean limiting magnitude for the field (COSMOS or ELAIS).\n",
    "\n",
    "Output file: all_nightly_epochs_files/nightly_epoch_magnitude_limits.dat"
   ]
  },
  {
   "cell_type": "code",
   "execution_count": 1,
   "id": "513304e7-b0fc-4401-8b63-8c4e84208d05",
   "metadata": {
    "tags": []
   },
   "outputs": [],
   "source": [
    "import psycopg2\n",
    "import psycopg2.extras\n",
    "import getpass\n",
    "import pandas\n",
    "\n",
    "import os\n",
    "import numpy as np\n",
    "import matplotlib as mpl\n",
    "import matplotlib.pyplot as plt\n",
    "from matplotlib.colors import LogNorm, Normalize\n",
    "from astropy.time import Time\n",
    "from astropy import units as u\n",
    "from astropy.coordinates import SkyCoord\n",
    "\n",
    "from copy import deepcopy\n",
    "import time"
   ]
  },
  {
   "cell_type": "code",
   "execution_count": 2,
   "id": "60079af1-0669-4213-9dfb-a04611b04e8e",
   "metadata": {
    "tags": []
   },
   "outputs": [
    {
     "name": "stdin",
     "output_type": "stream",
     "text": [
      "DB User:  decat_ro\n",
      "DB Password:  ········\n"
     ]
    }
   ],
   "source": [
    "dbuser = input(\"DB User: \")\n",
    "dbpasswd = getpass.getpass(\"DB Password: \")\n",
    "db = psycopg2.connect(f\"dbname='decat' user='{dbuser}' password='{dbpasswd}' host='decatdb.lbl.gov'\")\n",
    "db.autocommit = True\n",
    "cursor = db.cursor( cursor_factory = psycopg2.extras.DictCursor )"
   ]
  },
  {
   "cell_type": "code",
   "execution_count": null,
   "id": "175f3464-b686-4db7-8d0b-5c779ceb736c",
   "metadata": {
    "tags": []
   },
   "outputs": [],
   "source": [
    "# tables = ['versiontags','exposures','subtractions','images',\\\n",
    "#           'objects','objectrbs','objectdatas','objectdata_versiontag','candidates']\n",
    "# tables = ['images']\n",
    "# for table in tables:\n",
    "#     query = \"SELECT column_name, data_type FROM information_schema.columns WHERE table_name=%s\"\n",
    "#     cursor.execute( query, ( table, ))\n",
    "#     print( f\"\\nTABLE: {table}\\n===========================\" )\n",
    "#     for row in cursor:\n",
    "#         print( f\"{row['column_name']:24s}  :  {row['data_type']:s}\" )"
   ]
  },
  {
   "cell_type": "markdown",
   "id": "8f0e47d1-3043-4a5a-a139-1cb09661fc1e",
   "metadata": {
    "tags": []
   },
   "source": [
    "## define field centers"
   ]
  },
  {
   "cell_type": "code",
   "execution_count": 3,
   "id": "50a51260-196f-42bf-83f8-372ac15af10c",
   "metadata": {
    "tags": []
   },
   "outputs": [
    {
     "name": "stdout",
     "output_type": "stream",
     "text": [
      "COSMOS-1 10:00:00 149.99999999999997 +03:06:00 3.1\n",
      "COSMOS-2 09:56:53 149.2208333333333 +01:45:00 1.75\n",
      "COSMOS-3 10:03:07 150.77916666666664 +01:45:00 1.75\n",
      "ELAIS-E1 00:31:30 7.874999999999999 -43:00:35 -43.00972222222222\n",
      "ELAIS-E2 00:38:00 9.499999999999998 -43:59:53 -43.99805555555556\n"
     ]
    }
   ],
   "source": [
    "field_name = ['COSMOS-1', 'COSMOS-2', 'COSMOS-3', 'ELAIS-E1', 'ELAIS-E2']\n",
    "field_sra  = ['10:00:00', '09:56:53', '10:03:07', '00:31:30', '00:38:00']\n",
    "field_sdec = ['+03:06:00', '+01:45:00', '+01:45:00', '-43:00:35', '-43:59:53']\n",
    "\n",
    "field_dra = np.zeros(5)\n",
    "field_ddec = np.zeros(5)\n",
    "for f in range(5):\n",
    "    c = SkyCoord(field_sra[f]+' '+field_sdec[f], unit=(u.hourangle, u.deg))\n",
    "    field_dra[f] = c.ra.deg\n",
    "    field_ddec[f] = c.dec.deg\n",
    "    print(field_name[f], field_sra[f], field_dra[f], field_sdec[f], field_ddec[f])"
   ]
  },
  {
   "cell_type": "markdown",
   "id": "4b27465c-dbec-49eb-b794-07010035f8ba",
   "metadata": {},
   "source": [
    "## get list of images"
   ]
  },
  {
   "cell_type": "code",
   "execution_count": 4,
   "id": "cc381e74-440f-4c74-9f4d-ffe94ba9fe6b",
   "metadata": {
    "tags": []
   },
   "outputs": [
    {
     "name": "stdout",
     "output_type": "stream",
     "text": [
      "364709\n",
      "elapsed:   4.5\n"
     ]
    }
   ],
   "source": [
    "t1 = time.time()\n",
    "\n",
    "query = \"SELECT id, ra, dec, lmt_mg, filter, meanmjd FROM images\"\n",
    "cursor.execute(query)\n",
    "results = np.array(cursor.fetchall()).transpose()\n",
    "img_id = np.asarray(results[0])\n",
    "img_ra = np.asarray(results[1], dtype='float')\n",
    "img_dec = np.asarray(results[2], dtype='float')\n",
    "img_lmt_mg = np.asarray(results[3], dtype='float')\n",
    "img_filter = np.asarray(results[4], dtype='str')\n",
    "img_meanmjd = np.asarray(results[5], dtype='float')\n",
    "del query, results\n",
    "print(len(img_id))\n",
    "\n",
    "t2 = time.time()\n",
    "print('elapsed: %5.1f' % (t2 - t1))"
   ]
  },
  {
   "cell_type": "markdown",
   "id": "ce370851-4f9c-439e-9053-26210b3c4f25",
   "metadata": {},
   "source": [
    "### image field names"
   ]
  },
  {
   "cell_type": "code",
   "execution_count": 5,
   "id": "4a775791-dc12-4429-a779-7cb14e857a2f",
   "metadata": {
    "tags": []
   },
   "outputs": [
    {
     "name": "stdout",
     "output_type": "stream",
     "text": [
      "['' 'COSMOS' 'ELAIS']\n"
     ]
    }
   ],
   "source": [
    "temp = np.zeros(len(img_id), dtype='S8')\n",
    "\n",
    "for f in range(5):\n",
    "    use_fieldname = ''\n",
    "    if (field_name[f] == 'COSMOS-1') | (field_name[f] == 'COSMOS-2') | (field_name[f] == 'COSMOS-3'):\n",
    "        use_fieldname = 'COSMOS'\n",
    "    elif (field_name[f] == 'ELAIS-E1') | (field_name[f] == 'ELAIS-E2'):\n",
    "        use_fieldname = 'ELAIS'\n",
    "    tx = np.where((np.abs(img_ra - field_dra[f]) < 0.1) & \n",
    "                  (np.abs(img_dec - field_ddec[f]) < 0.1))[0]\n",
    "    if len(tx) > 0:\n",
    "        temp[tx] = use_fieldname\n",
    "    del use_fieldname\n",
    "\n",
    "img_field = np.asarray(temp, dtype='str')\n",
    "del temp\n",
    "    \n",
    "values, counts = np.unique(img_field, return_counts=True)\n",
    "print(values)"
   ]
  },
  {
   "cell_type": "markdown",
   "id": "cdfa0ace-c965-4eda-ab3a-1e7db2764eab",
   "metadata": {},
   "source": [
    "plot the ra and dec, color by field name, just to take a quick look and make sure is ok"
   ]
  },
  {
   "cell_type": "code",
   "execution_count": 6,
   "id": "6449b925-f80f-44ed-acea-e295a2eab1b5",
   "metadata": {
    "tags": []
   },
   "outputs": [
    {
     "data": {
      "image/png": "[encoded data removed]",
      "text/plain": [
       "<Figure size 200x200 with 1 Axes>"
      ]
     },
     "metadata": {},
     "output_type": "display_data"
    },
    {
     "data": {
      "image/png": "[encoded data removed]",
      "text/plain": [
       "<Figure size 200x200 with 1 Axes>"
      ]
     },
     "metadata": {},
     "output_type": "display_data"
    }
   ],
   "source": [
    "cx = np.where(img_field == 'COSMOS')[0]\n",
    "ex = np.where(img_field == 'ELAIS')[0]\n",
    "fig = plt.figure(figsize=(2, 2))\n",
    "plt.plot(img_ra[cx], img_dec[cx], 'o', color='darkviolet')\n",
    "plt.title('COSMOS')\n",
    "plt.show()\n",
    "fig = plt.figure(figsize=(2, 2))\n",
    "plt.plot(img_ra[ex], img_dec[ex], 'o', color='dodgerblue')\n",
    "plt.title('ELAIS')\n",
    "plt.show()\n",
    "del cx, ex"
   ]
  },
  {
   "cell_type": "markdown",
   "id": "3de5f25c-2402-4368-8ebb-c11587c26d56",
   "metadata": {
    "tags": []
   },
   "source": [
    "## create nightly epochs arrays\n",
    "\n",
    "build up array of field, unique calendar dates in isot and mjd, filter, number of images, and the mean limiting magnitude and its error\n",
    "\n",
    "`mjd` is the mean mjd of the images, `mjdr` is the range (last-first)"
   ]
  },
  {
   "cell_type": "code",
   "execution_count": 7,
   "id": "0cc824be-8651-4d7a-80e4-3698148e7d37",
   "metadata": {
    "tags": []
   },
   "outputs": [],
   "source": [
    "temp_ne_field = []\n",
    "temp_ne_cal = []\n",
    "temp_ne_mjd = []\n",
    "temp_ne_mjdr = []\n",
    "temp_ne_filt = []\n",
    "temp_ne_Nimgs = []\n",
    "temp_ne_lmtmg = []\n",
    "temp_ne_lmtmge = []"
   ]
  },
  {
   "cell_type": "markdown",
   "id": "d51be01b-958f-4072-8dfa-931fc2aeafeb",
   "metadata": {},
   "source": [
    "for each field, identify the associated images\n",
    "\n",
    "determine the unique epochs for the field\n",
    "\n",
    "for each unique epoch, identify images in g, r, and i\n",
    "\n",
    "for each filter, determine the mean limiting magnitude for the filter and the unique nightly epoch\n",
    "\n",
    "use the same set of unique mjds and caldates as in create_nightly_epoch_lightcurves.ipynb"
   ]
  },
  {
   "cell_type": "code",
   "execution_count": 8,
   "id": "fd68e1e6-aec3-4d9d-8a16-17aab919f788",
   "metadata": {},
   "outputs": [],
   "source": [
    "umjds = 59216.0 + np.arange(1000, dtype='float')\n",
    "# print(umjds)"
   ]
  },
  {
   "cell_type": "code",
   "execution_count": 9,
   "id": "cfe9610a-8987-4f28-bbf1-a37b1a1bee5a",
   "metadata": {},
   "outputs": [],
   "source": [
    "temp1 = 59216.0 + np.arange(1000, dtype='float') - 0.1\n",
    "temp2 = Time(temp1, format='mjd')\n",
    "temp3 = []\n",
    "for t in range(len(temp2)):\n",
    "    temp4 = temp2[t].isot\n",
    "    temp3.append(temp4[0:10])\n",
    "    del temp4\n",
    "ucals = np.asarray(temp3, dtype='str')\n",
    "del temp1, temp2, temp3\n",
    "# print(ucals)"
   ]
  },
  {
   "cell_type": "code",
   "execution_count": 10,
   "id": "f147c588-5143-4eb3-8f60-11997c2ac522",
   "metadata": {
    "tags": []
   },
   "outputs": [
    {
     "name": "stdout",
     "output_type": "stream",
     "text": [
      "COSMOS\n",
      "6677  images found\n",
      "244  nightly epochs & filters have usable limiting magnitudes\n",
      "ELAIS\n",
      "5435  images found\n",
      "290  nightly epochs & filters have usable limiting magnitudes\n",
      "elapsed:   1.2\n"
     ]
    }
   ],
   "source": [
    "t1 = time.time()\n",
    "\n",
    "for fieldname in ['COSMOS', 'ELAIS']:\n",
    "    \n",
    "    tx = np.where(img_field == fieldname)[0]\n",
    "    print(fieldname)\n",
    "    print(len(tx), ' images found')\n",
    "    \n",
    "    tally_ne = 0\n",
    "    \n",
    "    ### THE OLD WAY\n",
    "    # mjds = img_meanmjd[tx]\n",
    "    # temp = Time(mjds, format='mjd')\n",
    "    # temp2 = temp.isot\n",
    "    # temp3 = []\n",
    "    # for i in temp2:\n",
    "    #     temp3.append(i[0:10])\n",
    "    # ucals, indices = np.unique(temp3, return_index=True)\n",
    "    # print(len(ucals), ' unique nightly epochs identified')\n",
    "    # umjds = mjds[indices]\n",
    "    # del temp, temp2, temp3, indices\n",
    "    \n",
    "    for d, mjd in enumerate(umjds):\n",
    "        \n",
    "        for f, fil in enumerate(['g','r','i']):\n",
    "            fx = np.where((mjd - 0.1 < img_meanmjd[tx]) & (img_meanmjd[tx] < mjd + 0.5) & \n",
    "                          (img_filter[tx] == fil) & \n",
    "                          (np.isfinite(img_lmt_mg[tx])) & \n",
    "                          (img_lmt_mg[tx] > 0.0))[0]\n",
    "\n",
    "            if len(fx) >= 2:\n",
    "                temp_ne_field.append(fieldname)\n",
    "                temp_ne_cal.append(ucals[d])\n",
    "                temp_ne_mjd.append(np.mean(img_meanmjd[tx[fx]]))\n",
    "                temp_ne_mjdr.append(np.max(img_meanmjd[tx[fx]])-np.min(img_meanmjd[tx[fx]]))\n",
    "                temp_ne_filt.append(fil)\n",
    "                temp_ne_Nimgs.append(len(fx))\n",
    "                temp_ne_lmtmg.append(np.mean(img_lmt_mg[tx[fx]]))\n",
    "                temp_ne_lmtmge.append(np.std(img_lmt_mg[tx[fx]]))\n",
    "                tally_ne += 1\n",
    "\n",
    "    print(tally_ne, ' nightly epochs & filters have usable limiting magnitudes')\n",
    "\n",
    "t2 = time.time()\n",
    "print('elapsed: %5.1f' % (t2 - t1))"
   ]
  },
  {
   "cell_type": "markdown",
   "id": "33934f7e-c296-4f30-b526-b15142647d99",
   "metadata": {},
   "source": [
    "create numpy arrays and delete the temporary lists"
   ]
  },
  {
   "cell_type": "code",
   "execution_count": 11,
   "id": "fa23e353-9bb5-432d-8a52-5c9c4792e8cc",
   "metadata": {
    "tags": []
   },
   "outputs": [],
   "source": [
    "ne_field  = np.asarray(temp_ne_field, dtype='str')\n",
    "ne_cal    = np.asarray(temp_ne_cal, dtype='str')\n",
    "ne_mjd    = np.asarray(temp_ne_mjd, dtype='float')\n",
    "ne_filt   = np.asarray(temp_ne_filt, dtype='str')\n",
    "ne_Nimgs  = np.asarray(temp_ne_Nimgs, dtype='int')\n",
    "ne_lmtmg  = np.asarray(temp_ne_lmtmg, dtype='float')\n",
    "ne_lmtmge = np.asarray(temp_ne_lmtmge, dtype='float')\n",
    "\n",
    "del temp_ne_field, temp_ne_cal, temp_ne_mjd, temp_ne_filt\n",
    "del temp_ne_Nimgs, temp_ne_lmtmg, temp_ne_lmtmge"
   ]
  },
  {
   "cell_type": "code",
   "execution_count": 12,
   "id": "ecb055a5-e461-461a-be28-add488701c08",
   "metadata": {
    "tags": []
   },
   "outputs": [],
   "source": [
    "ne_mjdr = np.asarray(temp_ne_mjdr, dtype='float')\n",
    "del temp_ne_mjdr"
   ]
  },
  {
   "cell_type": "markdown",
   "id": "8cb62b20-63c4-41a4-9ec0-5908a274a2cf",
   "metadata": {},
   "source": [
    "plot the distributions of nightly epoch limiting magnitudes and number of images that contributed for a given night and filter\n",
    "\n",
    "for COSMOS it should be 5 images per pointing per filter per night, for 3 pointings, so an average of 15 images per filter\n",
    "\n",
    "for ELAIS it should be 5 images per pointing per filter per night, for 2 pointings, so an average of 10 images per filter\n",
    "\n",
    "it is weird that it is 20... figure it out later"
   ]
  },
  {
   "cell_type": "code",
   "execution_count": 13,
   "id": "1c07de10-f93e-4c2e-ba06-b899321501c0",
   "metadata": {
    "tags": []
   },
   "outputs": [
    {
     "data": {
      "image/png": "[encoded data removed]",
      "text/plain": [
       "<Figure size 1000x400 with 4 Axes>"
      ]
     },
     "metadata": {},
     "output_type": "display_data"
    }
   ],
   "source": [
    "fig, ax = plt.subplots(2, 2, figsize=(10, 4), sharex=False, sharey=False)\n",
    "\n",
    "cgx = np.where((ne_filt == 'g') & (ne_field == 'COSMOS'))[0]\n",
    "crx = np.where((ne_filt == 'r') & (ne_field == 'COSMOS'))[0]\n",
    "cix = np.where((ne_filt == 'i') & (ne_field == 'COSMOS'))[0]\n",
    "\n",
    "egx = np.where((ne_filt == 'g') & (ne_field == 'ELAIS'))[0]\n",
    "erx = np.where((ne_filt == 'r') & (ne_field == 'ELAIS'))[0]\n",
    "eix = np.where((ne_filt == 'i') & (ne_field == 'ELAIS'))[0]\n",
    "\n",
    "ax[0, 0].hist(ne_lmtmg[cgx], bins=20, histtype='step', color='darkgreen') # range=[[15, 25],[0.0,1.0]]\n",
    "ax[0, 0].hist(ne_lmtmg[crx], bins=20, histtype='step', color='red')\n",
    "ax[0, 0].hist(ne_lmtmg[cix], bins=20, histtype='step', color='brown')\n",
    "ax[0, 1].hist(ne_Nimgs[cgx], bins=20, histtype='step', color='darkgreen')\n",
    "ax[0, 1].hist(ne_Nimgs[crx], bins=20, histtype='step', color='red')\n",
    "ax[0, 1].hist(ne_Nimgs[cix], bins=20, histtype='step', color='brown')\n",
    "ax[0, 0].set_title('COSMOS')\n",
    "\n",
    "ax[1, 0].hist(ne_lmtmg[egx], bins=20, histtype='step', color='darkgreen')\n",
    "ax[1, 0].hist(ne_lmtmg[erx], bins=20, histtype='step', color='red')\n",
    "ax[1, 0].hist(ne_lmtmg[eix], bins=20, histtype='step', color='brown')\n",
    "ax[1, 0].set_xlabel('nightly epoch limiting magnitude')\n",
    "ax[1, 1].hist(ne_Nimgs[egx], bins=20, histtype='step', color='darkgreen')\n",
    "ax[1, 1].hist(ne_Nimgs[erx], bins=20, histtype='step', color='red')\n",
    "ax[1, 1].hist(ne_Nimgs[eix], bins=20, histtype='step', color='brown')\n",
    "ax[1, 1].set_xlabel('number of images per night')\n",
    "ax[1, 0].set_title('ELAIS')\n",
    "\n",
    "plt.tight_layout()\n",
    "fig.show()"
   ]
  },
  {
   "cell_type": "markdown",
   "id": "44954465-7ff2-4eeb-b243-663b47e1263b",
   "metadata": {},
   "source": [
    "Plot the histogram of the MJD ranges to see how many nights the images were spread out over more than 60-90 minutes."
   ]
  },
  {
   "cell_type": "code",
   "execution_count": 16,
   "id": "bad47e14-3e1e-4560-9fce-1a0998a84e33",
   "metadata": {
    "tags": []
   },
   "outputs": [
    {
     "data": {
      "image/png": "[encoded data removed]",
      "text/plain": [
       "<Figure size 600x400 with 1 Axes>"
      ]
     },
     "metadata": {},
     "output_type": "display_data"
    }
   ],
   "source": [
    "fig = plt.figure(figsize=(6, 4))\n",
    "plt.hist(ne_mjdr * 24.0 * 60.0, bins=20, histtype='step')\n",
    "plt.xlabel('duration of observing block')\n",
    "plt.ylabel('number of nights')\n",
    "plt.show()"
   ]
  },
  {
   "cell_type": "markdown",
   "id": "58d2f4ef-47d9-4080-8d9f-af60cb4c26a2",
   "metadata": {},
   "source": [
    "Print the fraction of intra-night images separated by 90, 120 minutes, and the maximum separation."
   ]
  },
  {
   "cell_type": "code",
   "execution_count": 20,
   "id": "2db4c7cb-e0c1-42ae-863f-b2bfa2486449",
   "metadata": {
    "tags": []
   },
   "outputs": [
    {
     "name": "stdout",
     "output_type": "stream",
     "text": [
      ">90 :  72 534 0.1348314606741573\n",
      ">120 :  60 534 0.11235955056179775\n",
      "210.68088479689322\n"
     ]
    }
   ],
   "source": [
    "tx = np.where(ne_mjdr * 24.0 * 60.0 > 90.)[0]\n",
    "print('>90 : ', len(tx), len(ne_mjdr), len(tx)/len(ne_mjdr))\n",
    "del tx\n",
    "tx = np.where(ne_mjdr * 24.0 * 60.0 > 120.)[0]\n",
    "print('>120 : ', len(tx), len(ne_mjdr), len(tx)/len(ne_mjdr))\n",
    "del tx\n",
    "print(np.max(ne_mjdr) * 24.0 * 60.0)"
   ]
  },
  {
   "cell_type": "code",
   "execution_count": 21,
   "id": "cadf6d6b-34bb-4fac-a8ba-f608131aa359",
   "metadata": {
    "tags": []
   },
   "outputs": [
    {
     "name": "stdout",
     "output_type": "stream",
     "text": [
      "Wrote to:  all_nightly_epochs_files/nightly_epoch_magnitude_limits.dat\n"
     ]
    }
   ],
   "source": [
    "fnm = 'all_nightly_epochs_files/nightly_epoch_magnitude_limits.dat'\n",
    "fout = open(fnm, 'w')\n",
    "\n",
    "fout.write('# Melissa Graham, nightly_epoch_magnitude_limits.ipynb \\n')\n",
    "tnow = time.strftime(\"%a, %d %b %Y %H:%M:%S +0000\", time.gmtime())\n",
    "fout.write('# UTC = '+tnow+' \\n')\n",
    "del tnow\n",
    "\n",
    "fout.write('# \\n')\n",
    "fout.write('# Columns \\n')\n",
    "fout.write('#  0 field \\n')\n",
    "fout.write('#  1 calendar date \\n')\n",
    "fout.write('#  2 MJD \\n')\n",
    "fout.write('#  3 filter \\n')\n",
    "fout.write('#  4 number of images combined \\n')\n",
    "fout.write('#  5 limitng magnitude (mean of image magnitude limits) \\n')\n",
    "fout.write('#  6 limitng magnitude uncertainty (std dev) \\n')\n",
    "fout.write('# \\n')\n",
    "\n",
    "for field in ['COSMOS', 'ELAIS']:\n",
    "    tx = np.where(ne_field == field)[0]\n",
    "    sx = np.argsort(ne_mjd[tx])\n",
    "    for x in sx:\n",
    "        fout.write('%-9s %-8s %12.6f '\\\n",
    "                   '%1s %3i %6.3f %6.3f \\n' % \\\n",
    "                   (ne_field[tx[x]], ne_cal[tx[x]], ne_mjd[tx[x]], \\\n",
    "                    ne_filt[tx[x]], ne_Nimgs[tx[x]], ne_lmtmg[tx[x]], ne_lmtmge[tx[x]]))\n",
    "    del tx, sx\n",
    "    \n",
    "fout.close()\n",
    "print('Wrote to: ', fnm)\n",
    "del fnm"
   ]
  },
  {
   "cell_type": "code",
   "execution_count": null,
   "id": "3148c393-a40a-40f0-ad01-f4434e663336",
   "metadata": {},
   "outputs": [],
   "source": []
  },
  {
   "cell_type": "code",
   "execution_count": null,
   "id": "0a4e96ee-3c4b-420d-8f00-ea9b707d1226",
   "metadata": {},
   "outputs": [],
   "source": []
  },
  {
   "cell_type": "markdown",
   "id": "0014c7af-58e7-45f6-a8c8-ba7d42ed6312",
   "metadata": {},
   "source": [
    "## get list of candidates and their RA, Dec\n",
    "\n",
    "**NOTE:** ended up not needing candidate list for this notebook, but leaving code here\n",
    "\n",
    "get all candidates and their RA, Dec"
   ]
  },
  {
   "cell_type": "code",
   "execution_count": null,
   "id": "9b957c4d-d3c2-4aa9-8f07-8597bdc16403",
   "metadata": {
    "tags": []
   },
   "outputs": [],
   "source": [
    "# t1 = time.time()\n",
    "\n",
    "# query = \"SELECT id, ra, dec FROM candidates\"\n",
    "# cursor.execute(query)\n",
    "# results = np.array(cursor.fetchall()).transpose()\n",
    "# cand_id = np.asarray(results[0])\n",
    "# cand_ra = np.asarray(results[1], dtype='float')\n",
    "# cand_dec = np.asarray(results[2], dtype='float')\n",
    "# del query, results\n",
    "# print(len(cand_id))\n",
    "\n",
    "# t2 = time.time()\n",
    "# print('elapsed: %5.1f' % (t2 - t1))"
   ]
  },
  {
   "cell_type": "markdown",
   "id": "00af5ffd-6709-4ed7-ac4d-538d3fba8938",
   "metadata": {},
   "source": [
    "get just the candidates of interest, those with nightly epoch lightcurves"
   ]
  },
  {
   "cell_type": "code",
   "execution_count": null,
   "id": "19b16d5a-3bbd-49c4-a96b-440eb08e9294",
   "metadata": {
    "tags": []
   },
   "outputs": [],
   "source": [
    "# temp = np.loadtxt('all_nightly_epochs_files/candidate_lightcurves.dat', dtype='str', usecols=(1))\n",
    "# list_cand_id = np.sort(np.unique(temp))\n",
    "# print(len(list_cand_id))\n",
    "# del temp"
   ]
  },
  {
   "cell_type": "markdown",
   "id": "12789408-1e62-4f02-ae2f-034392698b1c",
   "metadata": {},
   "source": [
    "do a fast sort-and-match to get RA, Dec for candidates of interest"
   ]
  },
  {
   "cell_type": "code",
   "execution_count": null,
   "id": "30159145-19d4-43f6-85c4-783136a2f020",
   "metadata": {
    "tags": []
   },
   "outputs": [],
   "source": [
    "# t1 = time.time()\n",
    "\n",
    "# list_cand_ra = np.zeros(len(list_cand_id), dtype='float')\n",
    "# list_cand_dec = np.zeros(len(list_cand_id), dtype='float')\n",
    "\n",
    "# sx = np.argsort(cand_id)\n",
    "# sxi = 0\n",
    "\n",
    "# for c, cid in enumerate(list_cand_id):\n",
    "#     while cid != cand_id[sx[sxi]]:\n",
    "#         sxi += 1\n",
    "#     list_cand_ra[c] = cand_ra[sx[sxi]]\n",
    "#     list_cand_dec[c] = cand_dec[sx[sxi]]\n",
    "#     # print(c, cid, sxi, sx[sxi], cand_id[sx[sxi]])\n",
    "\n",
    "# t2 = time.time()\n",
    "# print('elapsed: %5.1f' % (t2 - t1))"
   ]
  },
  {
   "cell_type": "markdown",
   "id": "4e854a91-aadc-4742-8b26-3d22d2fce079",
   "metadata": {},
   "source": [
    "delete arrays not needed anymore"
   ]
  },
  {
   "cell_type": "code",
   "execution_count": null,
   "id": "9b7a0261-8d99-4614-8e30-a82bd3d73598",
   "metadata": {
    "tags": []
   },
   "outputs": [],
   "source": [
    "# del cand_id, cand_ra, cand_dec"
   ]
  },
  {
   "cell_type": "code",
   "execution_count": null,
   "id": "c7c38c9d-ffbf-4d18-95ac-a121429b4092",
   "metadata": {
    "tags": []
   },
   "outputs": [],
   "source": []
  },
  {
   "cell_type": "code",
   "execution_count": null,
   "id": "5fa25869-5579-4368-bba3-8495ea3a195a",
   "metadata": {},
   "outputs": [],
   "source": []
  },
  {
   "cell_type": "code",
   "execution_count": null,
   "id": "0eedccd0-d577-447c-9a25-7786ee8b08b2",
   "metadata": {},
   "outputs": [],
   "source": []
  },
  {
   "cell_type": "code",
   "execution_count": null,
   "id": "8c78ebbb-bb15-43d7-a073-ba89e8d634cf",
   "metadata": {},
   "outputs": [],
   "source": []
  },
  {
   "cell_type": "code",
   "execution_count": null,
   "id": "67f768de-b11b-46c6-917f-964ed4684114",
   "metadata": {},
   "outputs": [],
   "source": []
  }
 ],
 "metadata": {
  "kernelspec": {
   "display_name": "NERSC Python",
   "language": "python",
   "name": "python3"
  },
  "language_info": {
   "codemirror_mode": {
    "name": "ipython",
    "version": 3
   },
   "file_extension": ".py",
   "mimetype": "text/x-python",
   "name": "python",
   "nbconvert_exporter": "python",
   "pygments_lexer": "ipython3",
   "version": "3.11.7"
  }
 },
 "nbformat": 4,
 "nbformat_minor": 5
}
