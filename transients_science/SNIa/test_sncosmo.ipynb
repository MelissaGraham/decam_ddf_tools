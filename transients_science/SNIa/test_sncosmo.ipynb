{
 "cells": [
  {
   "cell_type": "markdown",
   "id": "7fb5640f-8d08-4588-95bd-b47ee7e55d64",
   "metadata": {
    "tags": []
   },
   "source": [
    "# Test SNCosmo (SNIa Lightcurve Fits)\n",
    "\n",
    "Learn to use `sncosmo`.\n",
    "\n",
    "## 0. Set up\n",
    "\n",
    "Before you open this notebook (or close and shutdown nb and reopen if it's already open),\n",
    "some software needs to be installed.\n",
    "\n",
    "In a terminal:\n",
    "    \n",
    "`module load python`\n",
    "\n",
    "and then \n",
    "\n",
    "`pip install sncosmo`\n",
    "\n",
    "and \n",
    "\n",
    "`pip install iminuit`"
   ]
  },
  {
   "cell_type": "markdown",
   "id": "54cd2dcc-8b47-4ff9-b3d6-271d41a4dd60",
   "metadata": {},
   "source": [
    "The following cell also needs to be uncommented and executed once\n",
    "(or remove the # and % and execute this from the command line).\n",
    "Use of the following was found \n",
    "<a href=\"https://stackoverflow.com/questions/67117848/a-question-about-modulenotfounderror-no-module-named-numpy-typing\">here in Stack Overflow </a>\n",
    "and it has to do with the version of `numpy`."
   ]
  },
  {
   "cell_type": "code",
   "execution_count": null,
   "id": "cf039d93-8c01-445a-a647-f9d51183f576",
   "metadata": {
    "tags": []
   },
   "outputs": [],
   "source": [
    "# %pip install -U numpy"
   ]
  },
  {
   "cell_type": "markdown",
   "id": "e1619fd9-b4df-40ce-9427-3f71ab4f82d5",
   "metadata": {},
   "source": [
    "There are still a couple of warnings during import, but they don't seem to hurt anything."
   ]
  },
  {
   "cell_type": "code",
   "execution_count": 1,
   "id": "0cd70c4d-d639-40a9-9897-ba95bd390f86",
   "metadata": {
    "tags": []
   },
   "outputs": [],
   "source": [
    "import sncosmo\n",
    "import iminuit\n",
    "import numpy as np"
   ]
  },
  {
   "cell_type": "markdown",
   "id": "889b0862-873d-47ff-88b8-11d950c38ccd",
   "metadata": {},
   "source": [
    "Check numpy version."
   ]
  },
  {
   "cell_type": "code",
   "execution_count": 2,
   "id": "5b873c50-e246-4f63-930a-b9d7c3c611a0",
   "metadata": {},
   "outputs": [
    {
     "data": {
      "text/plain": [
       "'1.22.4'"
      ]
     },
     "execution_count": 2,
     "metadata": {},
     "output_type": "execute_result"
    }
   ],
   "source": [
    "np.__version__"
   ]
  },
  {
   "cell_type": "markdown",
   "id": "f0e2b52c-a579-4412-a0dd-9209ff1019ea",
   "metadata": {},
   "source": [
    "## 1. Test `sncosmo`\n",
    "\n",
    "Use the built-in example from `sncosmos`.\n",
    "\n",
    "https://sncosmo.readthedocs.io/en/stable/examples/plot_lc_fit.html#sphx-glr-examples-plot-lc-fit-py\n"
   ]
  },
  {
   "cell_type": "code",
   "execution_count": 3,
   "id": "8605d8f2-cfc8-4078-b541-966b6b92b422",
   "metadata": {},
   "outputs": [
    {
     "name": "stdout",
     "output_type": "stream",
     "text": [
      "     time      band       flux         fluxerr      zp  zpsys\n",
      "------------- ----- --------------- -------------- ---- -----\n",
      "      55070.0 sdssg   0.36351153597 0.672843847541 25.0    ab\n",
      "55072.0512821 sdssr -0.200801295864 0.672843847541 25.0    ab\n",
      "55074.1025641 sdssi  0.307494232981 0.672843847541 25.0    ab\n",
      "55076.1538462 sdssz   1.08776103656 0.672843847541 25.0    ab\n",
      "55078.2051282 sdssg  -0.43667895645 0.672843847541 25.0    ab\n",
      "55080.2564103 sdssr   1.09780966779 0.672843847541 25.0    ab\n",
      "55082.3076923 sdssi    3.7562685627 0.672843847541 25.0    ab\n",
      "55084.3589744 sdssz   5.34858894966 0.672843847541 25.0    ab\n",
      "55086.4102564 sdssg   2.82614187269 0.672843847541 25.0    ab\n",
      "55088.4615385 sdssr   7.56547045054 0.672843847541 25.0    ab\n",
      "          ...   ...             ...            ...  ...   ...\n",
      "55129.4871795 sdssr    2.6597485586 0.672843847541 25.0    ab\n",
      "55131.5384615 sdssi   3.99520404021 0.672843847541 25.0    ab\n",
      "55133.5897436 sdssz   5.73989458094 0.672843847541 25.0    ab\n",
      "55135.6410256 sdssg  0.330702283107 0.672843847541 25.0    ab\n",
      "55137.6923077 sdssr  0.565286726579 0.672843847541 25.0    ab\n",
      "55139.7435897 sdssi   3.04318346795 0.672843847541 25.0    ab\n",
      "55141.7948718 sdssz   5.62692686384 0.672843847541 25.0    ab\n",
      "55143.8461538 sdssg -0.722654789013 0.672843847541 25.0    ab\n",
      "55145.8974359 sdssr   1.12091764262 0.672843847541 25.0    ab\n",
      "55147.9487179 sdssi    2.1246695264 0.672843847541 25.0    ab\n",
      "      55150.0 sdssz    5.3482175645 0.672843847541 25.0    ab\n",
      "Length = 40 rows\n"
     ]
    }
   ],
   "source": [
    "data = sncosmo.load_example_data()\n",
    "print(data)"
   ]
  },
  {
   "cell_type": "markdown",
   "id": "b5fe77fc-28ad-4d10-8ca3-938f6ce5ff8b",
   "metadata": {},
   "source": [
    "Create a model."
   ]
  },
  {
   "cell_type": "code",
   "execution_count": 4,
   "id": "e1e77a51-1743-494d-b794-5478b67ab797",
   "metadata": {},
   "outputs": [],
   "source": [
    "model = sncosmo.Model(source='salt2')"
   ]
  },
  {
   "cell_type": "markdown",
   "id": "91720ada-6990-4d39-8a04-f744f1e33325",
   "metadata": {},
   "source": [
    "Run the fit."
   ]
  },
  {
   "cell_type": "code",
   "execution_count": 5,
   "id": "9eb8a7ee-14b8-4e76-840e-b00df0740a3d",
   "metadata": {},
   "outputs": [],
   "source": [
    "result, fitted_model = sncosmo.fit_lc(\n",
    "    data, model,\n",
    "    ['z', 't0', 'x0', 'x1', 'c'],  # parameters of model to vary\n",
    "    bounds={'z':(0.3, 0.7)})       # bounds on parameters (if any)"
   ]
  },
  {
   "cell_type": "markdown",
   "id": "b4d754f0-b844-42f0-b961-824d38cdf39a",
   "metadata": {},
   "source": [
    "Print some of the fit results."
   ]
  },
  {
   "cell_type": "code",
   "execution_count": 6,
   "id": "b835d11f-5559-4680-8a5b-67bfaff542db",
   "metadata": {},
   "outputs": [
    {
     "name": "stdout",
     "output_type": "stream",
     "text": [
      "Number of chi^2 function calls: 165\n",
      "Number of degrees of freedom in fit: 35\n",
      "chi^2 value at minimum: 33.125039222219634\n",
      "model parameters: ['z', 't0', 'x0', 'x1', 'c']\n",
      "best-fit values: [5.16643888e-01 5.51004727e+04 1.17959043e-05 5.89913247e-01\n",
      " 2.05740650e-01]\n",
      "The result contains the following attributes:\n",
      " dict_keys(['success', 'message', 'ncall', 'chisq', 'ndof', 'param_names', 'parameters', 'vparam_names', 'covariance', 'errors', 'nfit', 'data_mask'])\n"
     ]
    }
   ],
   "source": [
    "print(\"Number of chi^2 function calls:\", result.ncall)\n",
    "print(\"Number of degrees of freedom in fit:\", result.ndof)\n",
    "print(\"chi^2 value at minimum:\", result.chisq)\n",
    "print(\"model parameters:\", result.param_names)\n",
    "print(\"best-fit values:\", result.parameters)\n",
    "print(\"The result contains the following attributes:\\n\", result.keys())"
   ]
  },
  {
   "cell_type": "markdown",
   "id": "e6f93b4f-09fe-4569-a9e5-d25f6b1f115e",
   "metadata": {},
   "source": [
    "Show the fitted light curve to the data.\n",
    "\n",
    "Include `plot = ` will make the results show only once instead of in duplicate."
   ]
  },
  {
   "cell_type": "code",
   "execution_count": 7,
   "id": "6d739243-0b82-4bbe-890e-423a232261de",
   "metadata": {},
   "outputs": [
    {
     "data": {
      "image/png": "[encoded data removed]",
      "text/plain": [
       "<Figure size 561.6x482.4 with 8 Axes>"
      ]
     },
     "metadata": {
      "needs_background": "light"
     },
     "output_type": "display_data"
    }
   ],
   "source": [
    "plot = sncosmo.plot_lc(data, model=fitted_model, errors=result.errors)"
   ]
  },
  {
   "cell_type": "code",
   "execution_count": 8,
   "id": "f1c837f7-cf63-4a31-963d-43167dce23d4",
   "metadata": {
    "tags": []
   },
   "outputs": [],
   "source": [
    "del data, model, result, fitted_model, plot"
   ]
  },
  {
   "cell_type": "markdown",
   "id": "210b88ef-1757-467d-8d0c-7fdb0a2806d2",
   "metadata": {},
   "source": [
    "<br>\n",
    "\n",
    "## 2. Test `sncosmo` with just one DDF potential SNIa\n",
    "\n",
    "Load the nightly epoch lightcurves for candidates."
   ]
  },
  {
   "cell_type": "code",
   "execution_count": 9,
   "id": "b6f06d81-19c7-497b-bf38-539b5d20b65d",
   "metadata": {},
   "outputs": [],
   "source": [
    "fnm = '../all_nightly_epochs_files/candidate_lightcurves.dat'\n",
    "\n",
    "candLC_field = np.loadtxt(fnm, dtype='str', usecols=(0))\n",
    "candLC_candid = np.loadtxt(fnm, dtype='str', usecols=(1))\n",
    "candLC_caldate = np.loadtxt(fnm, dtype='str', usecols=(2))\n",
    "candLC_mjd = np.loadtxt(fnm, dtype='float', usecols=(3))\n",
    "candLC_filter = np.loadtxt(fnm, dtype='str', usecols=(4))\n",
    "candLC_Nobj = np.loadtxt(fnm, dtype='int', usecols=(5))\n",
    "candLC_mag = np.loadtxt(fnm, dtype='float', usecols=(6))\n",
    "candLC_mage = np.loadtxt(fnm, dtype='float', usecols=(7))\n",
    "candLC_mrb = np.loadtxt(fnm, dtype='float', usecols=(8))\n",
    "candLC_lef = np.loadtxt(fnm, dtype='float', usecols=(9))\n",
    "\n",
    "del fnm"
   ]
  },
  {
   "cell_type": "markdown",
   "id": "36b4ac50-9947-44b4-82d6-c75e65581793",
   "metadata": {},
   "source": [
    "Define the candidate id to use.\n",
    "\n",
    "Find all elements of the `candLC` array associated with this candidate.\n",
    "\n",
    "Print ow many nightly epochs (data points) are associated with this candidate."
   ]
  },
  {
   "cell_type": "code",
   "execution_count": 10,
   "id": "dde5060f-16ac-4ba0-bb8e-5ab75f533269",
   "metadata": {},
   "outputs": [
    {
     "name": "stdout",
     "output_type": "stream",
     "text": [
      "58\n"
     ]
    }
   ],
   "source": [
    "my_potential_snia = 'DC21dhgr'\n",
    "tx = np.where(candLC_candid == my_potential_snia)[0]\n",
    "print(len(tx))"
   ]
  },
  {
   "cell_type": "markdown",
   "id": "cdc06852-85d3-453c-ba9b-bf1a3e4871ba",
   "metadata": {},
   "source": [
    "Write the LC to a file that is formatted in a way that `sncosmo` can read."
   ]
  },
  {
   "cell_type": "code",
   "execution_count": 11,
   "id": "a1b4e9f8-7298-4e43-8550-1895eed77daa",
   "metadata": {},
   "outputs": [],
   "source": [
    "fout = open('test_sncosmo.txt', 'w')\n",
    "fout.write('     time      band       flux         fluxerr      zp  zpsys \\n')\n",
    "# fout.write('------------- ----- --------------- -------------- ---- ----- \\n')\n",
    "for x in tx:\n",
    "    if np.isfinite(candLC_mag[x]):\n",
    "        flux = 10.0**((candLC_mag[x] - 25.0)/(-2.5))\n",
    "        fluxhi = 10.0**(((candLC_mag[x]-candLC_mage[x]) - 25.0)/(-2.5))\n",
    "        fluxe = fluxhi - flux\n",
    "        fout.write('%13.4f %5s %15.7f %14.7f  25.  ab \\n' % \\\n",
    "                   (candLC_mjd[x], 'sdss'+candLC_filter[x], flux, fluxe))\n",
    "fout.close()\n",
    "del fout"
   ]
  },
  {
   "cell_type": "markdown",
   "id": "9ddf9f60-0204-4f97-90fc-084d6e9859ae",
   "metadata": {},
   "source": [
    "Read the LC with `sncosmo`."
   ]
  },
  {
   "cell_type": "code",
   "execution_count": 12,
   "id": "c63fe9f5-3034-42ab-a597-e9e331bb441a",
   "metadata": {},
   "outputs": [],
   "source": [
    "data = sncosmo.read_lc('test_sncosmo.txt')"
   ]
  },
  {
   "cell_type": "markdown",
   "id": "492be494-631c-4008-9e8a-b2b91a60c3db",
   "metadata": {},
   "source": [
    "### 2.1. Do the fit using the `sncosmo` demo inputs.\n",
    "\n",
    "Do the fit exactly like as above."
   ]
  },
  {
   "cell_type": "code",
   "execution_count": 13,
   "id": "58aa2b51-83c3-4af5-ae16-33de38635aec",
   "metadata": {
    "tags": []
   },
   "outputs": [],
   "source": [
    "model = sncosmo.Model(source='salt2')"
   ]
  },
  {
   "cell_type": "code",
   "execution_count": 14,
   "id": "17aef193-af8f-4fd4-98bd-5e0d5833d00f",
   "metadata": {},
   "outputs": [],
   "source": [
    "result, fitted_model = sncosmo.fit_lc(\n",
    "    data, model,\n",
    "    ['z', 't0', 'x0', 'x1', 'c'],  # parameters of model to vary\n",
    "    bounds={'z':(0.3, 0.7)})       # bounds on parameters (if any)"
   ]
  },
  {
   "cell_type": "markdown",
   "id": "8569baed-9cea-45f3-a8a6-b22f28246d5b",
   "metadata": {},
   "source": [
    "Show the results as a plot."
   ]
  },
  {
   "cell_type": "code",
   "execution_count": 15,
   "id": "b3213517-5955-42e0-b84a-91c5bf7eb3b2",
   "metadata": {},
   "outputs": [
    {
     "data": {
      "image/png": "[encoded data removed]",
      "text/plain": [
       "<Figure size 561.6x482.4 with 7 Axes>"
      ]
     },
     "metadata": {
      "needs_background": "light"
     },
     "output_type": "display_data"
    }
   ],
   "source": [
    "plot = sncosmo.plot_lc(data, model=fitted_model, errors=result.errors)"
   ]
  },
  {
   "cell_type": "markdown",
   "id": "2752a7f7-a73e-4310-9f29-61f35ff11b4d",
   "metadata": {},
   "source": [
    "That does not look good.\n",
    "\n",
    "But for now, just figure out how to get the fit parameters and errors from the outputs."
   ]
  },
  {
   "cell_type": "code",
   "execution_count": 16,
   "id": "7b33736a-c63b-46f5-b190-a4cd2bc51806",
   "metadata": {},
   "outputs": [
    {
     "data": {
      "text/plain": [
       "['z', 't0', 'x0', 'x1', 'c']"
      ]
     },
     "execution_count": 16,
     "metadata": {},
     "output_type": "execute_result"
    }
   ],
   "source": [
    "fitted_model.param_names"
   ]
  },
  {
   "cell_type": "code",
   "execution_count": 17,
   "id": "4b9a3370-1261-467f-b9ba-23f15d659ac3",
   "metadata": {},
   "outputs": [
    {
     "data": {
      "text/plain": [
       "['z', 't0', 'x0', 'x1', 'c']"
      ]
     },
     "execution_count": 17,
     "metadata": {},
     "output_type": "execute_result"
    }
   ],
   "source": [
    "result['param_names']"
   ]
  },
  {
   "cell_type": "code",
   "execution_count": 18,
   "id": "60499369-7eb2-4d5a-8123-97e2fa00c457",
   "metadata": {},
   "outputs": [
    {
     "data": {
      "text/plain": [
       "array([ 5.35893516e-01,  5.93285380e+04,  3.67913850e-05,  2.90449298e+00,\n",
       "       -3.53965030e-01])"
      ]
     },
     "execution_count": 18,
     "metadata": {},
     "output_type": "execute_result"
    }
   ],
   "source": [
    "fitted_model.parameters"
   ]
  },
  {
   "cell_type": "code",
   "execution_count": 19,
   "id": "e79875fc-761d-41e0-bf62-9cc4952e02fb",
   "metadata": {},
   "outputs": [
    {
     "data": {
      "text/plain": [
       "array([ 5.35893516e-01,  5.93285380e+04,  3.67913850e-05,  2.90449298e+00,\n",
       "       -3.53965030e-01])"
      ]
     },
     "execution_count": 19,
     "metadata": {},
     "output_type": "execute_result"
    }
   ],
   "source": [
    "result['parameters']"
   ]
  },
  {
   "cell_type": "code",
   "execution_count": 20,
   "id": "2031f19e-af52-4d11-9e9e-09e791ba00c5",
   "metadata": {},
   "outputs": [
    {
     "data": {
      "text/plain": [
       "OrderedDict([('z', 0.010216828751944962),\n",
       "             ('t0', 0.20324331827578135),\n",
       "             ('x0', 8.071575235033267e-07),\n",
       "             ('x1', 0.24515369599824058),\n",
       "             ('c', 0.010587182077025659)])"
      ]
     },
     "execution_count": 20,
     "metadata": {},
     "output_type": "execute_result"
    }
   ],
   "source": [
    "result['errors']"
   ]
  },
  {
   "cell_type": "code",
   "execution_count": 21,
   "id": "5ca7c340-288f-4836-908f-624a1e38713b",
   "metadata": {
    "tags": []
   },
   "outputs": [],
   "source": [
    "test0_params = result['parameters']\n",
    "test0_errors = result['errors']"
   ]
  },
  {
   "cell_type": "code",
   "execution_count": 22,
   "id": "24576fdc-a9be-45ea-a250-a57e5fe3acb7",
   "metadata": {},
   "outputs": [],
   "source": [
    "# del data, model, \n",
    "del result, fitted_model, plot"
   ]
  },
  {
   "cell_type": "markdown",
   "id": "2a9300ed-969d-4a18-9daf-5e7e4858fa96",
   "metadata": {},
   "source": [
    "### 2.2. What happens if we provide wide redshift bounds?\n",
    "\n",
    "What happens if we change the boundaries on redshift to 0.1 to 1.0?"
   ]
  },
  {
   "cell_type": "code",
   "execution_count": 23,
   "id": "7f91aec4-dae0-4968-b406-a86fcf143e21",
   "metadata": {},
   "outputs": [
    {
     "name": "stderr",
     "output_type": "stream",
     "text": [
      "/global/homes/m/melissag/.local/perlmutter/3.9-anaconda-2021.11/lib/python3.9/site-packages/sncosmo/fitting.py:187: RuntimeWarning: Dropping following bands from data: sdssg(out of model wavelength range)\n",
      "  warnings.warn(\"Dropping following bands from data: \" +\n"
     ]
    }
   ],
   "source": [
    "result, fitted_model = sncosmo.fit_lc(\n",
    "    data, model,\n",
    "    ['z', 't0', 'x0', 'x1', 'c'],  # parameters of model to vary\n",
    "    bounds={'z':(0.1, 1.0)})       # bounds on parameters (if any)"
   ]
  },
  {
   "cell_type": "markdown",
   "id": "a10664b6-ada8-49c6-a26e-073937a782f9",
   "metadata": {},
   "source": [
    "Ah! A good lesson. The error above tells me it dropped the g-band, and didn't try to fit it.\n",
    "\n",
    "I think this is because observer-frame g-band (4500 Angstroms) is, at a redshift of z=1.0, rest-frame 2250 Angstroms, which is \"far-UV\" and yeah, we don't have model SNIa lightcurves at those wavelengths.\n",
    "\n",
    "Execute the cell below and you will see that indeed, the g-band is very poorly fit.\n",
    "\n",
    "> **TO DO:** As for the x0, x1, and c values, I'm not sure if they're \"odd\" for a SNIa? As in, if we didn't look at the plot, would we know from the values and the errors that this failed to get a good fit? "
   ]
  },
  {
   "cell_type": "code",
   "execution_count": 24,
   "id": "31734e7f-f50a-4695-94af-5da329e1cad7",
   "metadata": {},
   "outputs": [
    {
     "data": {
      "image/png": "[encoded data removed]",
      "text/plain": [
       "<Figure size 561.6x482.4 with 7 Axes>"
      ]
     },
     "metadata": {
      "needs_background": "light"
     },
     "output_type": "display_data"
    }
   ],
   "source": [
    "plot = sncosmo.plot_lc(data, model=fitted_model, errors=result.errors)"
   ]
  },
  {
   "cell_type": "code",
   "execution_count": 25,
   "id": "f8809f13-bf21-451b-a231-082f701abd69",
   "metadata": {
    "tags": []
   },
   "outputs": [],
   "source": [
    "# del data, model, \n",
    "del result, fitted_model, plot"
   ]
  },
  {
   "cell_type": "markdown",
   "id": "1287212c-370b-41ef-ba21-4a2a9cb755ec",
   "metadata": {},
   "source": [
    "### 2.3. What kind of bounds should we put on redshift?\n",
    "\n",
    "SNIa are standard candles, meaning their peak brightness is correlated with their redshift (this is the Hubble Diagram, basically).\n",
    "\n",
    "If we know the absolute magnitude of SNIa is about $M = -19$,\n",
    "then we can get the approximate distance modulus $\\mu$ with $\\mu = m - M$.\n",
    "\n",
    "Once we have $\\mu$, we can get the luminosity distance in Mpc, $D_L$, with $\\mu = 5log(D_L) + 25$.\n",
    "\n",
    "Once we have $D_L$, we can use the Hubble Relation assuming $H_0 = 70$ km/s/Mpc, using $z_{km/s} = H_0 * D_L$.\n",
    "\n",
    "Once we have redshift in km/s, we make it unitless by dividing by the speed of light, $ z = z_{km/s}/c$, where $c=300000$ km/s.\n",
    "\n",
    "For example, a SNIa with a peak brightness of 22 mag is at a redshift of about $z = 0.2$.\n",
    "\n",
    "And a SNIa with a peak brightness of 24 mag, about the limit of our DDF, is at about $z = 0.6$.\n",
    "\n",
    "So!\n",
    "\n",
    "We can use the lightcurve itself to put initial boundaries on redshift and help the fitter out.\n",
    "\n",
    "First, remind ourselves of the contents of the data array."
   ]
  },
  {
   "cell_type": "code",
   "execution_count": 26,
   "id": "f71e2c79-eada-4379-822f-cc833d9b4c2b",
   "metadata": {},
   "outputs": [
    {
     "data": {
      "text/plain": [
       "0.9289167312914939"
      ]
     },
     "execution_count": 26,
     "metadata": {},
     "output_type": "execute_result"
    }
   ],
   "source": [
    "z=(70*(10**(((24-(-19))-25)/5)))/300000\n",
    "z"
   ]
  },
  {
   "cell_type": "code",
   "execution_count": 27,
   "id": "cda192f4-6033-4f4a-ba90-c50789b6f423",
   "metadata": {
    "scrolled": true,
    "tags": []
   },
   "outputs": [
    {
     "data": {
      "text/html": [
       "<div><i>Table length=58</i>\n",
       "<table id=\"table140311549994032\" class=\"table-striped table-bordered table-condensed\">\n",
       "<thead><tr><th>time</th><th>band</th><th>flux</th><th>fluxerr</th><th>zp</th><th>zpsys</th></tr></thead>\n",
       "<thead><tr><th>float64</th><th>str5</th><th>float64</th><th>float64</th><th>float64</th><th>str2</th></tr></thead>\n",
       "<tr><td>59307.0614</td><td>sdssr</td><td>11.137815</td><td>1.052081</td><td>25.0</td><td>ab</td></tr>\n",
       "<tr><td>59310.0672</td><td>sdssg</td><td>15.024499</td><td>0.839037</td><td>25.0</td><td>ab</td></tr>\n",
       "<tr><td>59310.0683</td><td>sdssr</td><td>17.1711744</td><td>1.1266729</td><td>25.0</td><td>ab</td></tr>\n",
       "<tr><td>59310.0699</td><td>sdssi</td><td>14.2298394</td><td>1.3011813</td><td>25.0</td><td>ab</td></tr>\n",
       "<tr><td>59313.0598</td><td>sdssg</td><td>23.3991456</td><td>1.696594</td><td>25.0</td><td>ab</td></tr>\n",
       "<tr><td>59313.0609</td><td>sdssr</td><td>25.0957396</td><td>1.1343636</td><td>25.0</td><td>ab</td></tr>\n",
       "<tr><td>59313.0625</td><td>sdssi</td><td>20.9700758</td><td>1.4171356</td><td>25.0</td><td>ab</td></tr>\n",
       "<tr><td>59316.0383</td><td>sdssg</td><td>29.0268561</td><td>1.904574</td><td>25.0</td><td>ab</td></tr>\n",
       "<tr><td>59316.0468</td><td>sdssr</td><td>30.3948497</td><td>0.9091622</td><td>25.0</td><td>ab</td></tr>\n",
       "<tr><td>59316.0484</td><td>sdssi</td><td>26.1336458</td><td>1.0557778</td><td>25.0</td><td>ab</td></tr>\n",
       "<tr><td>...</td><td>...</td><td>...</td><td>...</td><td>...</td><td>...</td></tr>\n",
       "<tr><td>59349.0037</td><td>sdssg</td><td>6.8296744</td><td>0.7840999</td><td>25.0</td><td>ab</td></tr>\n",
       "<tr><td>59349.0538</td><td>sdssr</td><td>17.6847938</td><td>1.3873714</td><td>25.0</td><td>ab</td></tr>\n",
       "<tr><td>59349.0554</td><td>sdssi</td><td>16.8577652</td><td>1.8318345</td><td>25.0</td><td>ab</td></tr>\n",
       "<tr><td>59355.994</td><td>sdssi</td><td>17.3620099</td><td>1.8512032</td><td>25.0</td><td>ab</td></tr>\n",
       "<tr><td>59358.0169</td><td>sdssi</td><td>17.3460263</td><td>1.6735133</td><td>25.0</td><td>ab</td></tr>\n",
       "<tr><td>59360.9899</td><td>sdssi</td><td>13.6019132</td><td>1.5616058</td><td>25.0</td><td>ab</td></tr>\n",
       "<tr><td>59366.9878</td><td>sdssr</td><td>9.7454074</td><td>1.0589763</td><td>25.0</td><td>ab</td></tr>\n",
       "<tr><td>59370.0007</td><td>sdssi</td><td>10.4327788</td><td>1.4796413</td><td>25.0</td><td>ab</td></tr>\n",
       "<tr><td>59372.9722</td><td>sdssr</td><td>7.4748073</td><td>0.8966295</td><td>25.0</td><td>ab</td></tr>\n",
       "<tr><td>59372.9754</td><td>sdssi</td><td>13.652117</td><td>1.5813937</td><td>25.0</td><td>ab</td></tr>\n",
       "</table></div>"
      ],
      "text/plain": [
       "<Table length=58>\n",
       "   time     band    flux     fluxerr     zp   zpsys\n",
       " float64    str5  float64    float64  float64  str2\n",
       "---------- ----- ---------- --------- ------- -----\n",
       "59307.0614 sdssr  11.137815  1.052081    25.0    ab\n",
       "59310.0672 sdssg  15.024499  0.839037    25.0    ab\n",
       "59310.0683 sdssr 17.1711744 1.1266729    25.0    ab\n",
       "59310.0699 sdssi 14.2298394 1.3011813    25.0    ab\n",
       "59313.0598 sdssg 23.3991456  1.696594    25.0    ab\n",
       "59313.0609 sdssr 25.0957396 1.1343636    25.0    ab\n",
       "59313.0625 sdssi 20.9700758 1.4171356    25.0    ab\n",
       "59316.0383 sdssg 29.0268561  1.904574    25.0    ab\n",
       "59316.0468 sdssr 30.3948497 0.9091622    25.0    ab\n",
       "59316.0484 sdssi 26.1336458 1.0557778    25.0    ab\n",
       "       ...   ...        ...       ...     ...   ...\n",
       "59349.0037 sdssg  6.8296744 0.7840999    25.0    ab\n",
       "59349.0538 sdssr 17.6847938 1.3873714    25.0    ab\n",
       "59349.0554 sdssi 16.8577652 1.8318345    25.0    ab\n",
       " 59355.994 sdssi 17.3620099 1.8512032    25.0    ab\n",
       "59358.0169 sdssi 17.3460263 1.6735133    25.0    ab\n",
       "59360.9899 sdssi 13.6019132 1.5616058    25.0    ab\n",
       "59366.9878 sdssr  9.7454074 1.0589763    25.0    ab\n",
       "59370.0007 sdssi 10.4327788 1.4796413    25.0    ab\n",
       "59372.9722 sdssr  7.4748073 0.8966295    25.0    ab\n",
       "59372.9754 sdssi  13.652117 1.5813937    25.0    ab"
      ]
     },
     "execution_count": 27,
     "metadata": {},
     "output_type": "execute_result"
    }
   ],
   "source": [
    "data"
   ]
  },
  {
   "cell_type": "markdown",
   "id": "38b6eff6-7d39-48e2-b5cc-31ea9e9db35e",
   "metadata": {},
   "source": [
    "Get the minimum observed magnitude. It's not necessarily the peak, but, if our data does not cover the true peak of the SN's lightcurve, the fit is going to be bad anyway."
   ]
  },
  {
   "cell_type": "code",
   "execution_count": 28,
   "id": "f70d2377-8352-4468-9ebf-cdc5e5d8a1eb",
   "metadata": {},
   "outputs": [
    {
     "name": "stdout",
     "output_type": "stream",
     "text": [
      "Brightest observed magnitude: 21.08\n"
     ]
    }
   ],
   "source": [
    "fluxarr = np.asarray(data['flux'], dtype='float')\n",
    "zparr = np.asarray(data['zp'], dtype='float')\n",
    "magarr = -2.5 * np.log10(fluxarr) + zparr\n",
    "min_magarr = np.min(magarr)\n",
    "print('Brightest observed magnitude: %5.2f' % min_magarr)"
   ]
  },
  {
   "cell_type": "code",
   "execution_count": 29,
   "id": "162b46d3-aa2f-4a26-9b65-fb5de3d5cca9",
   "metadata": {},
   "outputs": [
    {
     "name": "stdout",
     "output_type": "stream",
     "text": [
      "estimated_redshift = 0.278 \n"
     ]
    }
   ],
   "source": [
    "estimated_redshift = 70.0 * 10.0**(((min_magarr + 19.3) - 25.0)/5.0) / 300000.0\n",
    "print('estimated_redshift = %5.3f ' % estimated_redshift)"
   ]
  },
  {
   "cell_type": "markdown",
   "id": "3805211d-0466-4328-ad36-6d2f615cc652",
   "metadata": {},
   "source": [
    "Alright, let's give it a fairly broad range around there. \n",
    "\n",
    "Above, we didn't mention other factors, like how -19.3 is the rest-frame B-band brightness,\n",
    "which make our estimated redshift VERY much an ESTIMATE with finger quotes.\n",
    "\n",
    "What we can be sure of is that, if this is a SNIa, it's not like, z>0.4 with that peak brightness.\n",
    "\n",
    "A range of $\\pm 0.1$ around $0.28$ is appropriate here, so try:"
   ]
  },
  {
   "cell_type": "code",
   "execution_count": 30,
   "id": "a5961382-b152-4eb2-a50e-384ace8240e9",
   "metadata": {
    "tags": []
   },
   "outputs": [],
   "source": [
    "zlo = estimated_redshift - 0.1\n",
    "zhi = estimated_redshift + 0.1"
   ]
  },
  {
   "cell_type": "code",
   "execution_count": 31,
   "id": "26a3fe3e-b4ef-4fef-9f92-4e99ccf4e11d",
   "metadata": {},
   "outputs": [],
   "source": [
    "result, fitted_model = sncosmo.fit_lc(\n",
    "    data, model,\n",
    "    ['z', 't0', 'x0', 'x1', 'c'],\n",
    "    bounds={'z':(zlo, zhi)})"
   ]
  },
  {
   "cell_type": "code",
   "execution_count": 32,
   "id": "4f72790e-278d-4008-b62f-951fdc6c832f",
   "metadata": {},
   "outputs": [
    {
     "data": {
      "image/png": "[encoded data removed]",
      "text/plain": [
       "<Figure size 561.6x482.4 with 7 Axes>"
      ]
     },
     "metadata": {
      "needs_background": "light"
     },
     "output_type": "display_data"
    }
   ],
   "source": [
    "plot = sncosmo.plot_lc(data, model=fitted_model, errors=result.errors)"
   ]
  },
  {
   "cell_type": "code",
   "execution_count": 35,
   "id": "b70a4db7-290e-47b1-bbc9-3df2c9480b91",
   "metadata": {
    "tags": []
   },
   "outputs": [],
   "source": [
    "test1_params = result['parameters']\n",
    "test1_errors = result['errors']"
   ]
  },
  {
   "cell_type": "markdown",
   "id": "5c56e8bc-8aca-4f1f-a40a-985ea72650e6",
   "metadata": {},
   "source": [
    "### 2.4 Compare results with and without redshift bounds."
   ]
  },
  {
   "cell_type": "code",
   "execution_count": 46,
   "id": "cd5953b6-4650-495c-9668-9bfbcecc9fee",
   "metadata": {
    "tags": []
   },
   "outputs": [
    {
     "name": "stdout",
     "output_type": "stream",
     "text": [
      "   z          0.536        0.010        0.258        0.015   t1-t0=      -0.277   f=1.07\n",
      "  t0        59328.5          0.2      59324.6          0.3   t1-t0=        -3.9   f=0.00\n",
      "  x0     3.6791E-05   8.0716E-07   5.0570E-05   1.0516E-06   t1-t0=  1.3778E-05   f=0.27\n",
      "  x1         2.9045       0.2452       2.4093       0.2287   t1-t0=     -0.4952   f=0.21\n",
      "   c        -0.3540       0.0106      -0.0584       0.0166   t1-t0=      0.2956   f=5.07\n"
     ]
    }
   ],
   "source": [
    "all_par_names = ['z', 't0', 'x0', 'x1', 'c']\n",
    "tmp = ['%12.3f', '%12.1f', '%12.4E', '%12.4f', '%12.4f']\n",
    "for i, par in enumerate(all_par_names):\n",
    "    frmt_str = '%4s   '+tmp[i]+' '+tmp[i]+' '+tmp[i]+' '+tmp[i]+'   t1-t0='+tmp[i]+'   f=%4.2f'\n",
    "    print(frmt_str % (par, \n",
    "                      test0_params[i], test0_errors[par], \n",
    "                      test1_params[i], test1_errors[par],\n",
    "                      test1_params[i] - test0_params[i], \n",
    "                      np.abs(test1_params[i] - test0_params[i]) / np.abs(test1_params[i])))\n",
    "del tmp"
   ]
  },
  {
   "cell_type": "markdown",
   "id": "8cdc3bef-acb6-48a7-a381-f9a7ec16eb45",
   "metadata": {},
   "source": [
    "Notice that the cange in redshift and color are both relatively large; they would be correlated so it makes sense.\n",
    "\n",
    "Notice that the errors on the fit values all increase, except for the error in x1 which decreases slightly.\n",
    "Despite the more accurate fit. This means smaller errors cannot be taken as a \"better fit\"."
   ]
  },
  {
   "cell_type": "code",
   "execution_count": 48,
   "id": "b0b2a4ff-9dda-4102-b467-5054fa1e8207",
   "metadata": {
    "tags": []
   },
   "outputs": [
    {
     "name": "stdout",
     "output_type": "stream",
     "text": [
      "0.014925991428468996\n"
     ]
    }
   ],
   "source": [
    "print(result['errors']['z'])"
   ]
  },
  {
   "cell_type": "code",
   "execution_count": null,
   "id": "66fc47e8-472a-4062-a1f4-a5a46fedb2d6",
   "metadata": {},
   "outputs": [],
   "source": []
  }
 ],
 "metadata": {
  "kernelspec": {
   "display_name": "NERSC Python",
   "language": "python",
   "name": "python3"
  },
  "language_info": {
   "codemirror_mode": {
    "name": "ipython",
    "version": 3
   },
   "file_extension": ".py",
   "mimetype": "text/x-python",
   "name": "python",
   "nbconvert_exporter": "python",
   "pygments_lexer": "ipython3",
   "version": "3.9.7"
  }
 },
 "nbformat": 4,
 "nbformat_minor": 5
}
