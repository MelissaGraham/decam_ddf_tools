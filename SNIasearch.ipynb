{
 "cells": [
  {
   "cell_type": "code",
   "execution_count": null,
   "id": "f831646b-7bb2-426b-951c-0098a80e154e",
   "metadata": {},
   "outputs": [],
   "source": [
    "import psycopg2\n",
    "import psycopg2.extras\n",
    "import getpass\n",
    "from IPython.display import display\n",
    "import ipywidgets\n",
    "import matplotlib.pyplot as plt\n",
    "import matplotlib\n",
    "import numpy as np\n",
    "import pandas as pd\n",
    "from astropy.time import Time\n",
    "from astropy.coordinates import get_moon, GCRS\n",
    "import astropy.units as u\n",
    "import copy"
   ]
  },
  {
   "cell_type": "markdown",
   "id": "b54e368f-7947-4a0d-bf10-907b205891e0",
   "metadata": {
    "tags": []
   },
   "source": [
    "The purpose of this notebook is to search through the COSMOS field objects to identify candidates that are likely $\\bf{Type\\,Ia}$ supernovae. This is done by selecting every candidate that has at least 10 detections over at least 10 days, with a change of at least 1.4 mag, and that doesn't increase in brightness more than once (numbers adjustable in next cell)\n",
    "##### This differs from the other SNsearch filter by requiring g-r > 0 post-peak (\"peak\" being the r-band peak)"
   ]
  },
  {
   "cell_type": "code",
   "execution_count": null,
   "id": "57dcfd06-a3d1-4c05-91f4-c58fd8602a4e",
   "metadata": {},
   "outputs": [],
   "source": [
    "tspanr, tspang = 10, 10\n",
    "numdetr, numdetg = 10, 10\n",
    "minmagr, minmagg = 0.4, 0.4\n",
    "errmult = 0.3 # This should probably stay around 0.3-- any higher pollutes, any lower leaves out good ones\n",
    "rmaxerr, gmaxerr = 0.2, 0.2"
   ]
  },
  {
   "cell_type": "code",
   "execution_count": null,
   "id": "b1c53037-4e35-40b0-8693-e1c5f735d7b3",
   "metadata": {},
   "outputs": [],
   "source": [
    "dbuser = input(\"DB User: \")\n",
    "dbpasswd = getpass.getpass(\"DB Password: \")\n",
    "db = psycopg2.connect( f\"dbname='decat' user='{dbuser}' password='{dbpasswd}' host='decatdb.lbl.gov'\" )\n",
    "\n",
    "db.autocommit = True # Makes the computer nicer about SQL syntax errors\n",
    "\n",
    "cursor = db.cursor( cursor_factory = psycopg2.extras.DictCursor )"
   ]
  },
  {
   "cell_type": "markdown",
   "id": "2ef01cad-0ac1-4905-bf8f-a68bf27cf681",
   "metadata": {},
   "source": [
    "The purpose of this notebook is to search through the COSMOS field objects to identify candidates that are likely supernovae. This is done by selecting every candidate that has at least 10 detections over at least 15 days, with a change of at least 1.4 mag, and that doesn't increase in brightness more than once (numbers adjustable in next cell)"
   ]
  },
  {
   "cell_type": "code",
   "execution_count": null,
   "id": "afdb0dc1-bb59-4acc-98a1-0513f1afcab1",
   "metadata": {},
   "outputs": [],
   "source": [
    "query = ( 'SELECT o.candidate_id, o.id, e.mjd, o.mag, e.filter, o.magerr, o.ra, o.dec, e.filename FROM objects o '\n",
    "         'JOIN subtractions s ON o.subtraction_id=s.id '\n",
    "         'JOIN exposures e ON e.id=s.exposure_id '\n",
    "         'WHERE q3c_radial_query(o.ra,o.dec,150,2.2,3) '\n",
    "         'AND o.rb>0.5 '\n",
    "         'ORDER BY o.candidate_id '\n",
    "         'LIMIT 10000000')\n",
    "cursor.execute( query )\n",
    "\n",
    "SNquery = np.array(cursor.fetchall()).transpose()"
   ]
  },
  {
   "cell_type": "markdown",
   "id": "8a9fe60b-0363-4e1f-bc69-d2d23f56809e",
   "metadata": {},
   "source": [
    "#### Nonstandard exposure time filter"
   ]
  },
  {
   "cell_type": "code",
   "execution_count": null,
   "id": "83238d75-a704-44bf-9b71-65d94dc3a7f3",
   "metadata": {},
   "outputs": [],
   "source": [
    "lutable = np.loadtxt(\"./archive_image_list.txt\", dtype=object).transpose()\n",
    "fnmtable, exptable = lutable[0], lutable[7].astype(float)\n",
    "\n",
    "fnms = SNquery[8]\n",
    "fnms = [fnms[i][:21] for i in range(len(fnms))] # truncate filenames to match lookup table format\n"
   ]
  },
  {
   "cell_type": "code",
   "execution_count": null,
   "id": "e468124b-431d-447f-95bf-11c072c32e3d",
   "metadata": {},
   "outputs": [],
   "source": [
    "exptime = np.array([exptable[np.where(fnms[i] == fnmtable)[0]][0] for i in range(len(fnms))], dtype=float)"
   ]
  },
  {
   "cell_type": "code",
   "execution_count": null,
   "id": "b95a9cd8-aeb8-484a-b35c-4b67e6c8cc52",
   "metadata": {},
   "outputs": [],
   "source": [
    "# Eliminate objects from non-standard images\n",
    "gmsk = np.where((SNquery[4]==\"g\") & (exptime>50))[0]\n",
    "rmsk = np.where((SNquery[4]==\"r\") & (exptime>20))[0]\n",
    "imsk = np.where((SNquery[4]==\"i\") & (exptime>20))[0]\n",
    "grmsk = np.append(rmsk, gmsk)\n",
    "grimsk = np.append(grmsk, imsk)\n",
    "len(grimsk)"
   ]
  },
  {
   "cell_type": "markdown",
   "id": "bded88f4-c9dd-482e-ae7f-6a06051f6522",
   "metadata": {
    "tags": []
   },
   "source": [
    "#### SN filter:"
   ]
  },
  {
   "cell_type": "code",
   "execution_count": null,
   "id": "f6471a56-16bf-48e4-9806-5e12ae42cff1",
   "metadata": {},
   "outputs": [],
   "source": [
    "# Mask to make sure we stay in the r band detections\n",
    "rmsk = np.where(SNquery[4] == \"r\")[0]\n",
    "rmsk = [i for i in grimsk if i in rmsk]"
   ]
  },
  {
   "cell_type": "code",
   "execution_count": null,
   "id": "65b277e6-95b9-4705-8ddf-e7fbaad84ce7",
   "metadata": {},
   "outputs": [],
   "source": [
    "### Everything in this section is the same as above besides some altered variable names\n",
    "gmsk = np.where(SNquery[4] == \"g\")[0]\n",
    "gmsk = [i for i in grimsk if i in gmsk]"
   ]
  },
  {
   "cell_type": "code",
   "execution_count": null,
   "id": "f6191ab1-a9b4-4b14-988b-8bde54fbcaf3",
   "metadata": {},
   "outputs": [],
   "source": [
    "# Separating out various query results and applying the r mask \n",
    "candsr, objs, magsr, magerrsr = SNquery[0][rmsk], SNquery[1].astype(float)[rmsk], SNquery[3][rmsk], SNquery[5][rmsk]\n",
    "# Create an array of the dates rounded to the nearest MJD\n",
    "odatesr = np.round(SNquery[2].astype(float))[rmsk]\n",
    "# Create an array of unique candidates\n",
    "ucandsr = np.unique(candsr)\n",
    "# create an array of unique night (rounded to nearest MJD)\n",
    "datesr = np.unique(odatesr)"
   ]
  },
  {
   "cell_type": "code",
   "execution_count": null,
   "id": "746c0ce0-bdd5-4727-a036-8f8134d48099",
   "metadata": {},
   "outputs": [],
   "source": [
    "candsg, objs, magsg, magerrsg = SNquery[0][gmsk], SNquery[1].astype(float)[gmsk], SNquery[3][gmsk], SNquery[5][gmsk]\n",
    "odatesg = np.round(SNquery[2].astype(float))[gmsk]\n",
    "ucandsg = np.unique(candsg)\n",
    "datesg = np.unique(odatesg)"
   ]
  },
  {
   "cell_type": "code",
   "execution_count": null,
   "id": "579da7e4-d67c-487a-a094-03d24aef357b",
   "metadata": {},
   "outputs": [],
   "source": [
    "### The most computationally intensive cell in the notebook (along with its g band counterpart), should take less than 2 minutes\n",
    "# Create for each unique candidate an array of the dates it was observed on and store those arrays in a larger array (ucanddatesr)\n",
    "ucanddatesr = np.array([odatesr[np.where(candsr==i)[0]] for i in ucandsr])\n",
    "# Create for each unique candidate an array of measured magnitudes and store those arrays in a larger array (ucandmagsr)\n",
    "ucandmagsr = np.array([magsr[np.where(candsr==i)[0]] for i in ucandsr])\n",
    "# Create for each unique candidate an array of measured magnitude error bars and store those arrays in a larger array (ucandmagerrsr)\n",
    "ucandmagerrsr = np.array([magerrsr[np.where(candsr==i)[0]] for i in ucandsr])"
   ]
  },
  {
   "cell_type": "code",
   "execution_count": null,
   "id": "be5ca2c5-f723-4a95-886f-29bbcf0c6de2",
   "metadata": {},
   "outputs": [],
   "source": [
    "%%time\n",
    "ucanddatesg = np.array([odatesg[np.where(candsg==i)[0]] for i in ucandsg])\n",
    "ucandmagsg = np.array([magsg[np.where(candsg==i)[0]] for i in ucandsg])\n",
    "ucandmagerrsg = np.array([magerrsg[np.where(candsg==i)[0]] for i in ucandsg])"
   ]
  },
  {
   "cell_type": "code",
   "execution_count": null,
   "id": "8f50da4b-f311-4376-bef4-cbc9699df1a1",
   "metadata": {},
   "outputs": [],
   "source": [
    "# Convert those arrays (previously strings to keep NumPy happy) to floats\n",
    "ucandmagsr = np.array([i.astype(float) for i in ucandmagsr])\n",
    "ucandmagerrsr = np.array([i.astype(float) for i in ucandmagerrsr])\n",
    "ucanddatesr = np.array([i.astype(float) for i in ucanddatesr])"
   ]
  },
  {
   "cell_type": "code",
   "execution_count": null,
   "id": "00ad8a3a-dfa6-43c1-8b97-0b9ed0e56e18",
   "metadata": {},
   "outputs": [],
   "source": [
    "ucandmagsg = np.array([i.astype(float) for i in ucandmagsg])\n",
    "ucandmagerrsg = np.array([i.astype(float) for i in ucandmagerrsg])\n",
    "ucanddatesg = np.array([i.astype(float) for i in ucanddatesg])"
   ]
  },
  {
   "cell_type": "code",
   "execution_count": null,
   "id": "f5646253-b43a-4958-9e03-4d651d549205",
   "metadata": {},
   "outputs": [],
   "source": [
    "ucandrangeg = np.array([np.max(i) - np.min(i) for i in ucanddatesg])\n",
    "ucandnumg = np.array([len(i) for i in ucanddatesg])"
   ]
  },
  {
   "cell_type": "code",
   "execution_count": null,
   "id": "9f38e93b-206d-4a8a-853e-9ef5297dc68c",
   "metadata": {},
   "outputs": [],
   "source": [
    "# Calculate how many days passed between the first and last detection \n",
    "ucandranger = np.array([np.max(i) - np.min(i) for i in ucanddatesr])\n",
    "# Calculate how many total times the candidates was detected\n",
    "ucandnumr = np.array([len(i) for i in ucanddatesr])"
   ]
  },
  {
   "cell_type": "code",
   "execution_count": null,
   "id": "801590c5-4353-4537-99e4-608124d0b819",
   "metadata": {},
   "outputs": [],
   "source": [
    "# Make timespan and number of detection cuts\n",
    "cut1r = np.where(ucandranger > tspanr)[0] # eliminate candidates whose detections dont span at least a month\n",
    "cut2r = np.where(ucandnumr >= numdetr)[0] # eliminate candidates with fewer than 20 detections\n",
    "cut3r = np.array([i for i in cut1r if i in cut2r]).astype(np.int64) # merge the masks"
   ]
  },
  {
   "cell_type": "code",
   "execution_count": null,
   "id": "020f7b49-d4d7-44b8-92db-89bc281325d5",
   "metadata": {},
   "outputs": [],
   "source": [
    "cut1g = np.where(ucandrangeg > tspang)[0] # eliminate candidates whose detections dont span at least a month\n",
    "cut2g = np.where(ucandnumg > numdetg)[0] # eliminate candidates with fewer than 20 detections\n",
    "cut3g = np.array([i for i in cut1g if i in cut2g]).astype(np.int64) # merge the masks"
   ]
  },
  {
   "cell_type": "code",
   "execution_count": null,
   "id": "4e597c38-7436-4ffe-a206-409d39357b8a",
   "metadata": {},
   "outputs": [],
   "source": [
    "# Apply those cuts\n",
    "cutcandsr = ucandsr[cut3r]\n",
    "cutdatesr = ucanddatesr[cut3r]\n",
    "cutmagsr = ucandmagsr[cut3r]\n",
    "cutmagerrsr = ucandmagerrsr[cut3r]\n",
    "\n",
    "# Create another cut for the minimum amplitude in mag\n",
    "cutmagranger = np.array([np.max(i) - np.min(i) for i in cutmagsr])\n",
    "cut6r = np.where(cutmagranger > minmagr)[0]\n",
    "\n",
    "# Create another cut for where the magerror is too high\n",
    "cutmagerrranger = np.array([np.mean(i) for i in cutmagerrsr])\n",
    "cut5r = np.where(cutmagerrranger < rmaxerr)[0]\n",
    "\n",
    "cut4r = np.array([i for i in cut5r if i in cut6r]).astype(np.int64)\n",
    "\n",
    "# And apply that cut as well\n",
    "cutcandsr = ucandsr[cut3r][cut4r]\n",
    "cutdatesr = ucanddatesr[cut3r][cut4r]\n",
    "cutmagsr = ucandmagsr[cut3r][cut4r]\n",
    "cutmagerrsr = ucandmagerrsr[cut3r][cut4r]"
   ]
  },
  {
   "cell_type": "code",
   "execution_count": null,
   "id": "99c000f0-dad6-4350-b8db-dcb66342cc3e",
   "metadata": {},
   "outputs": [],
   "source": [
    "cutcandsg = ucandsg[cut3g]\n",
    "cutdatesg = ucanddatesg[cut3g]\n",
    "cutmagsg = ucandmagsg[cut3g]\n",
    "cutmagerrsg = ucandmagerrsg[cut3g]\n",
    "\n",
    "cutmagrangeg = np.array([np.max(i) - np.min(i) for i in cutmagsg])\n",
    "cut6g = np.where(cutmagrangeg > minmagg)[0]\n",
    "# Create another cut for where the magerror is too high\n",
    "cutmagerrrangeg = np.array([np.mean(i) for i in cutmagerrsg])\n",
    "cut5g = np.where(cutmagerrrangeg < gmaxerr)[0]\n",
    "\n",
    "cut4g = np.array([i for i in cut5g if i in cut6g])\n",
    "\n",
    "\n",
    "cutcandsg = ucandsg[cut3g][cut4g]\n",
    "cutdatesg = ucanddatesg[cut3g][cut4g]\n",
    "cutmagsg = ucandmagsg[cut3g][cut4g]\n",
    "cutmagerrsg = ucandmagerrsg[cut3g][cut4g]"
   ]
  },
  {
   "cell_type": "code",
   "execution_count": null,
   "id": "6484c01f-7225-4260-b721-7f115e9b956d",
   "metadata": {},
   "outputs": [],
   "source": [
    "# Create new arrays with the same dimensions as the cutdatesr, cutmagsr, and cutmagerrs arrays (those share dimensions)\n",
    "cutdatesr2 = copy.deepcopy(cutdatesr)\n",
    "nightr = copy.deepcopy(cutdatesr)\n",
    "nightrmag = copy.deepcopy(cutdatesr)\n",
    "nightrmagerr = copy.deepcopy(cutdatesr)\n",
    "\n",
    "for i in range(len(cutdatesr2)):\n",
    "    # make an array of every night the candidate in question (candidate \"i\") was detected\n",
    "    unightr = np.unique(cutdatesr2[i])\n",
    "    for j in range(len(unightr)):\n",
    "        # For each of those nights, make a mask that selects every observation that night\n",
    "        msk = np.where(cutdatesr2[i] == unightr[j])[0]\n",
    "        # Populate the arrays we created earlier in the cell with appropriate values for the night of the observation,\n",
    "        # the average magnitude measured that night, and the error (propogated from individual errors) in that average measurement\n",
    "        # NOTE: there will be meaningless numbers at the end of each (nightr/nightrmag/nightrmagerr)[i] array, left over from\n",
    "        # when we created them by copying another array. It isn't elegant but it is accounted for\n",
    "        nightr[i][j] = unightr[j]\n",
    "        nightrmag[i][j] = np.median(cutmagsr[i][msk])\n",
    "        nightrmagerr[i][j] = np.sqrt(np.sum(cutmagerrsr[i][msk]**2))"
   ]
  },
  {
   "cell_type": "code",
   "execution_count": null,
   "id": "afdd06df-9ed1-4ae9-ae08-da74e137358a",
   "metadata": {},
   "outputs": [],
   "source": [
    "cutdatesg2 = copy.deepcopy(cutdatesg)\n",
    "nightg = copy.deepcopy(cutdatesg)\n",
    "nightgmag = copy.deepcopy(cutdatesg)\n",
    "nightgmagerr = copy.deepcopy(cutdatesg)\n",
    "\n",
    "for i in range(len(cutdatesg2)):\n",
    "    unightg = np.unique(cutdatesg2[i])\n",
    "    for j in range(len(unightg)):\n",
    "        msk = np.where(cutdatesg2[i] == unightg[j])[0]\n",
    "        nightg[i][j] = unightg[j]\n",
    "        nightgmag[i][j] = np.median(cutmagsg[i][msk])\n",
    "        nightgmagerr[i][j] = np.sqrt(np.sum(cutmagerrsg[i][msk]**2))"
   ]
  },
  {
   "cell_type": "code",
   "execution_count": null,
   "id": "cafb2a96-3da8-4611-a8d3-80f96101e8ab",
   "metadata": {},
   "outputs": [],
   "source": [
    "# Create an array of dataframes. Each dataframe represents one candidate, and each contains \"Night\", \"Mag\", and \"Magerr\" columns, \n",
    "# with each row representing one night\n",
    "dfr = [pd.DataFrame(np.array(\n",
    "    [nightr[i][:len(np.unique(nightr[i]))], \n",
    "     nightrmag[i][:len(np.unique(nightr[i]))], \n",
    "     nightrmagerr[i][:len(np.unique(nightr[i]))]]).transpose(),\n",
    "    columns=[\"Night\",\n",
    "            \"Mag\",\n",
    "            \"Magerr\"])\n",
    " for i in range(len(cutcandsr))]"
   ]
  },
  {
   "cell_type": "code",
   "execution_count": null,
   "id": "a42f2be0-56a4-461e-bd8d-6937a845fecb",
   "metadata": {},
   "outputs": [],
   "source": [
    "dfg = [pd.DataFrame(np.array(\n",
    "    [nightg[i][:len(np.unique(nightg[i]))], \n",
    "     nightgmag[i][:len(np.unique(nightg[i]))], \n",
    "     nightgmagerr[i][:len(np.unique(nightg[i]))]]).transpose(),\n",
    "    columns=[\"Night\",\n",
    "            \"Mag\",\n",
    "            \"Magerr\"])\n",
    " for i in range(len(cutcandsg))]"
   ]
  },
  {
   "cell_type": "markdown",
   "id": "7560e9f5-edfe-4d35-a301-ff4c59c0c7fe",
   "metadata": {},
   "source": [
    "#### The cell that is notably different from the SNsearch.ipynb version"
   ]
  },
  {
   "cell_type": "code",
   "execution_count": null,
   "id": "c0168a12-368e-4e7d-92ec-9591944b9c0f",
   "metadata": {
    "tags": []
   },
   "outputs": [],
   "source": [
    "# This cell creates a mask to eliminate variable stars from the search:\n",
    "varstarmskr = np.ones(len(dfr), dtype=bool)\n",
    "peakdates = np.zeros(len(dfr), dtype=float)\n",
    "for i in range(len(dfr)):\n",
    "# for i in [616]:\n",
    "    num = 0\n",
    "    h=0\n",
    "    # First, make sure that the dataframes in the dfr array are each in chronological order\n",
    "    dfr[i] = dfr[i].sort_values(by=\"Night\")\n",
    "    dfg[i] = dfg[i].sort_values(by=\"Night\")\n",
    "    k = np.where(cutcandsg==cutcandsr[i])[0]\n",
    "    for j in range(len(dfr[i][\"Mag\"]) - 1):\n",
    "        h +=1\n",
    "        if (num >= 0) & (num < 1):\n",
    "            # On the rise, the \"current\" data point must be lower than the \"next\" data point (error bars included to give maximum leeway)\n",
    "            if dfr[i][\"Mag\"][j]+errmult*dfr[i][\"Magerr\"][j] > dfr[i][\"Mag\"][j+1]-errmult*dfr[i][\"Magerr\"][j+1]:\n",
    "                pass\n",
    "            else:\n",
    "                # Once that condition isn't met, 'num' changes, sending us to the descending loop\n",
    "                num+=1\n",
    "                peakdates[i] = dfr[i][\"Night\"][j]\n",
    "        elif (num >= 1) & (num < 2):\n",
    "            # After peak in r filter, requires that the source be brighter in r than in g\n",
    "            if len(k) != 0: # If there is not g data for the candidate in question\n",
    "                # Pull its g magnitude\n",
    "                gmag = dfg[k[0]][\"Mag\"][np.where(dfg[k[0]][\"Night\"] == dfr[i][\"Night\"][j])[0]]\n",
    "                if len(gmag) == 0:\n",
    "                    # If there is no g data for the night in question, interpolate from the nearest nights on either side \n",
    "                    nightdiff = np.array(dfg[k[0]][\"Night\"]) - dfr[i][\"Night\"][j]\n",
    "                    if nightdiff.any() > 0:\n",
    "                        nextdt = np.where( nightdiff > 0 )[0] # The index of the next night for which there is g data\n",
    "                        if len(nextdt) > 0: # If there isn't a next night, move on\n",
    "                            # If there is, interpolate between the next night and the one before it to get an approximate g magnitude\n",
    "                            nextdt = np.min(nextdt)\n",
    "                            gmag = np.interp(\n",
    "                                dfr[i][\"Night\"][j], # The night we are looking at (MJD)\n",
    "                                [dfg[k[0]][\"Night\"][np.max([0,nextdt-1])],\n",
    "                                 dfg[k[0]][\"Night\"][nextdt]], # [previous night, next night] (MJD)\n",
    "                                [dfg[k[0]][\"Mag\"][np.max([0,nextdt-1])],\n",
    "                                 dfg[k[0]][\"Mag\"][nextdt]] # [g mag on previous night, g mag on next night] (mag)\n",
    "                            )\n",
    "                            # Now gmag can be directly compared to r magnitude on the night, so we make sure it is dimmer in g\n",
    "                            if gmag < dfr[i][\"Mag\"][j]:\n",
    "                                num +=1\n",
    "                elif np.array(gmag)[0] < dfr[i][\"Mag\"][j]:\n",
    "                    # If gmag is brighter than rmag after the r peak, it is not a type Ia, so\n",
    "                    num += 1\n",
    "            # On the decline, the \"current\" data point must be lower than the \"next\" data point (error bars included to give maximum leeway)\n",
    "            if dfr[i][\"Mag\"][j] - errmult * dfr[i][\"Magerr\"][j] < dfr[i][\"Mag\"][j+1] + errmult * dfr[i][\"Magerr\"][j+1]:\n",
    "                pass\n",
    "            else:\n",
    "                # If this fails, it means that we went up, down, and up again--not a SN, so\n",
    "                num+=1\n",
    "        elif num >= 2:# and h<10:\n",
    "            # We make a note of that in the 'varstarmskr' mask\n",
    "            varstarmskr[i] = False"
   ]
  },
  {
   "cell_type": "code",
   "execution_count": null,
   "id": "4d18b3c6-c76e-4cc8-9432-c39ccbb1f70e",
   "metadata": {},
   "outputs": [],
   "source": [
    "varstarmskg = np.ones(len(dfg), dtype=bool)\n",
    "\n",
    "for i in range(len(dfg)):\n",
    "    num = 0\n",
    "    h = 0\n",
    "    dfg[i] = dfg[i].sort_values(by=\"Night\")\n",
    "    for j in range(len(dfg[i][\"Mag\"]) - 1):\n",
    "        h+=1\n",
    "        if (num >= 0) & (num < 1):\n",
    "            if dfg[i][\"Mag\"][j]+errmult*dfg[i][\"Magerr\"][j] > dfg[i][\"Mag\"][j+1]-errmult*dfg[i][\"Magerr\"][j+1]:\n",
    "                pass\n",
    "            else:\n",
    "                num+=1\n",
    "                \n",
    "        elif (num >= 1) & (num < 2):\n",
    "#             k = np.where(cutcandsr==cutcandsg[i])[0]\n",
    "#             if len(k) != 0:\n",
    "#                 rmag = dfr[k[0]][\"Mag\"][np.where(dfr[k[0]][\"Night\"] == dfg[i][\"Night\"][j])[0]]\n",
    "#                 if len(rmag) != 0:\n",
    "#                     if np.array(rmag > dfg[i][\"Mag\"][j])[0]:\n",
    "#                         num += 1\n",
    "            \n",
    "            if dfg[i][\"Mag\"][j]-errmult*dfg[i][\"Magerr\"][j] < dfg[i][\"Mag\"][j+1]+errmult*dfg[i][\"Magerr\"][j+1]:\n",
    "                pass\n",
    "            else:\n",
    "                num+=1\n",
    "        \n",
    "        elif num == 2 and h<10:\n",
    "            varstarmskg[i] = False"
   ]
  },
  {
   "cell_type": "code",
   "execution_count": null,
   "id": "ff1d2ccd-d2c2-4205-b13f-f4c676dd41d1",
   "metadata": {},
   "outputs": [],
   "source": [
    "# Create lists of the candidates that passed each test\n",
    "SNr = np.array([[cutcandsr[f], peakdates[f]] for f in np.array(range(len(cutdatesr)))[varstarmskr]])\n",
    "SNg = np.array([cutcandsg[f] for f in np.array(range(len(cutdatesg)))[varstarmskg]])\n",
    "\n",
    "# Select the ones they share\n",
    "SNrg = np.array([i for i in SNr if i[0] in SNg])"
   ]
  },
  {
   "cell_type": "code",
   "execution_count": null,
   "id": "f9b9bb86-7012-4d9d-8b14-685940c87616",
   "metadata": {},
   "outputs": [],
   "source": [
    "len(SNr), len(SNg)"
   ]
  },
  {
   "cell_type": "code",
   "execution_count": null,
   "id": "ad6036e0-fe05-41e0-9b4d-d5455ab30c48",
   "metadata": {},
   "outputs": [],
   "source": [
    "len(SNrg)"
   ]
  },
  {
   "cell_type": "code",
   "execution_count": null,
   "id": "6598234f-bbe6-4f9b-a368-d16fba82a2b3",
   "metadata": {
    "tags": []
   },
   "outputs": [],
   "source": [
    "names = SNrg.transpose()[0]\n",
    "pkdts = SNrg.transpose()[1].astype(float)\n",
    "for i in range(len(names)):\n",
    "    for f in np.array(range(len(cutcandsg))):\n",
    "        if cutcandsg[f] == names[i]:\n",
    "            g = len(np.unique(cutdatesg[f]))\n",
    "            plt.errorbar(nightg[f][:g],nightgmag[f][:g], yerr=nightgmagerr[f][:g], color='g')\n",
    "            plt.title(cutcandsg[f]+\" (g)\")\n",
    "            plt.ylabel(\"Magnitude\")\n",
    "            plt.xlabel(\"MJD\")\n",
    "            plt.gca().invert_yaxis()\n",
    "    \n",
    "    for f in np.array(range(len(cutcandsr))):\n",
    "        if cutcandsr[f] == names[i]:\n",
    "            g = len(np.unique(cutdatesr[f]))\n",
    "            plt.errorbar(nightr[f][:g],nightrmag[f][:g], yerr=nightrmagerr[f][:g], color='r')\n",
    "            print(pkdts[i])\n",
    "            if pkdts[i] != 0.0:\n",
    "                plt.axvline(pkdts[i])\n",
    "    plt.show()"
   ]
  },
  {
   "cell_type": "markdown",
   "id": "c4b525b2-87aa-4df9-a11c-2f017454aca5",
   "metadata": {},
   "source": [
    "#### A closer look at these SN"
   ]
  },
  {
   "cell_type": "code",
   "execution_count": null,
   "id": "30b46bec-3ee3-4fde-a971-1b9fcf7a1e3f",
   "metadata": {},
   "outputs": [],
   "source": [
    "# Taking a look at their coordinates:\n",
    "for i in SNrg.transpose()[0]:\n",
    "    query = ('SELECT c.id, c.ra, c.dec FROM candidates c '\n",
    "            'WHERE c.id=%s ')\n",
    "    cursor.execute( query, (i, ) )\n",
    "    print(cursor.fetchall())"
   ]
  },
  {
   "cell_type": "code",
   "execution_count": null,
   "id": "f7de05a0-1bc0-4505-9df0-7a764badf009",
   "metadata": {
    "tags": []
   },
   "outputs": [],
   "source": [
    "# Plotting lightcurves for each potential SN\n",
    "for i in SNrg.transpose()[0]:\n",
    "    query = ('SELECT c.id, e.mjd, o.mag, e.filter FROM objects o '\n",
    "             'JOIN candidates c ON c.id=o.candidate_id '\n",
    "             'JOIN subtractions s ON s.id=o.subtraction_id '\n",
    "             'JOIN exposures e ON e.id=s.exposure_id '\n",
    "            'WHERE c.id=%s ')\n",
    "    cursor.execute( query, (i, ) )\n",
    "    array = np.array(cursor.fetchall()).transpose()\n",
    "    gmsk = np.where(array[3]=='g')[0]\n",
    "    rmsk = np.where(array[3]=='r')[0]\n",
    "    imsk = np.where(array[3]=='i')[0]\n",
    "    plt.figure(figsize=(8,5))\n",
    "    plt.scatter((array[1][gmsk]).astype(float), (array[2][gmsk]).astype(float), color='g', label='g')\n",
    "    plt.scatter((array[1][rmsk]).astype(float), (array[2][rmsk]).astype(float), color='r', label='r')\n",
    "    plt.scatter((array[1][imsk]).astype(float), (array[2][imsk]).astype(float), color='b', label='i')    \n",
    "    plt.title(array[0][0])\n",
    "    plt.gca().invert_yaxis()\n",
    "    plt.legend()\n",
    "    plt.show()"
   ]
  },
  {
   "cell_type": "code",
   "execution_count": null,
   "id": "c152d3f5-c225-4d25-9269-eefe0f8b0e9d",
   "metadata": {
    "tags": []
   },
   "outputs": [],
   "source": [
    "### This cell pulls out the reference, science, and subtraction images for eack of the SNe the filter detected, for every good detection\n",
    "\n",
    "for i in SNrg.transpose()[0]:\n",
    "    query = ( 'SELECT cand.id, e.mjd,e.filename,e.filter,c.sci_jpeg,c.ref_jpeg,c.diff_jpeg, o.mag FROM cutouts c '\n",
    "              'INNER JOIN objects o ON c.object_id=o.id '\n",
    "              'INNER JOIN candidates cand ON o.candidate_id=cand.id '\n",
    "              'INNER JOIN subtractions s ON o.subtraction_id=s.id '\n",
    "              'INNER JOIN exposures e ON s.exposure_id=e.id '\n",
    "              'WHERE cand.id=%s '\n",
    "              'AND o.rb>0.6 '\n",
    "              'ORDER BY e.mjd '\n",
    "              'LIMIT 3')\n",
    "    cursor.execute( query, (  i, ) )\n",
    "    for row in cursor:\n",
    "        label = ipywidgets.HTML( f'<b>Candidate</b>{row[\"id\"]}<br><b>{row[\"mjd\"]}</b> {row[\"mag\"]}<br><b>Filter:</b> {row[\"filter\"]}' )\n",
    "        newimg = ipywidgets.Image( value=bytes(row[\"sci_jpeg\"]), width=102, height=102, format='jpeg' )\n",
    "        refimg = ipywidgets.Image( value=bytes(row[\"ref_jpeg\"]), width=102, height=102, format='jpeg' )\n",
    "        subimg = ipywidgets.Image( value=bytes(row[\"diff_jpeg\"]), width=102, height=102, format='jpeg' )\n",
    "        box = ipywidgets.HBox( [ newimg, refimg, subimg, label ] )\n",
    "        display( box )\n",
    "    print(\"\")\n",
    "    print(\"\")    \n",
    "    print(\"\")    \n",
    "    print(\"\")    "
   ]
  },
  {
   "cell_type": "code",
   "execution_count": null,
   "id": "dfa3f916-4349-47c4-a7e4-c608cb5bda38",
   "metadata": {},
   "outputs": [],
   "source": []
  }
 ],
 "metadata": {
  "kernelspec": {
   "display_name": "Python 3",
   "language": "python",
   "name": "python3"
  },
  "language_info": {
   "codemirror_mode": {
    "name": "ipython",
    "version": 3
   },
   "file_extension": ".py",
   "mimetype": "text/x-python",
   "name": "python",
   "nbconvert_exporter": "python",
   "pygments_lexer": "ipython3",
   "version": "3.7.4"
  }
 },
 "nbformat": 4,
 "nbformat_minor": 5
}
