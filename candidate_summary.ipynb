{
 "cells": [
  {
   "cell_type": "code",
   "execution_count": null,
   "id": "2ab52e31-7a85-40e2-8d34-9719df0ee1da",
   "metadata": {},
   "outputs": [],
   "source": [
    "import os\n",
    "import numpy as np\n",
    "import matplotlib as mpl\n",
    "import matplotlib.pyplot as plt\n",
    "# import pandas as pd\n",
    "\n",
    "from copy import deepcopy\n",
    "import time"
   ]
  },
  {
   "cell_type": "code",
   "execution_count": null,
   "id": "98696421-4572-4f31-9832-cdc0bb143c07",
   "metadata": {},
   "outputs": [],
   "source": [
    "fnm = 'source_detection_summary_files/candidates.dat'\n",
    "cand_field    = np.loadtxt( fnm, dtype='str',   usecols=(0) )\n",
    "cand_id       = np.loadtxt( fnm, dtype='str',   usecols=(1) )\n",
    "cand_ra       = np.loadtxt( fnm, dtype='float', usecols=(2) )\n",
    "cand_dec      = np.loadtxt( fnm, dtype='float', usecols=(3) )\n",
    "cand_nobj     = np.loadtxt( fnm, dtype='int',   usecols=(4) )\n",
    "cand_meanrb   = np.loadtxt( fnm, dtype='float', usecols=(5) )\n",
    "cand_stdrb    = np.loadtxt( fnm, dtype='float', usecols=(6) )\n",
    "cand_tspan    = np.loadtxt( fnm, dtype='float', usecols=(7) )\n",
    "cand_lcamp    = np.loadtxt( fnm, dtype='float', usecols=(8) )\n",
    "cand_nobj_g   = np.loadtxt( fnm, dtype='int',   usecols=(9) )\n",
    "cand_meanrb_g = np.loadtxt( fnm, dtype='float', usecols=(10) )\n",
    "cand_stdrb_g  = np.loadtxt( fnm, dtype='float', usecols=(11) )\n",
    "cand_tspan_g  = np.loadtxt( fnm, dtype='float', usecols=(12) )\n",
    "cand_lcamp_g  = np.loadtxt( fnm, dtype='float', usecols=(13) )\n",
    "cand_nobj_r   = np.loadtxt( fnm, dtype='int',   usecols=(14) )\n",
    "cand_meanrb_r = np.loadtxt( fnm, dtype='float', usecols=(15) )\n",
    "cand_stdrb_r  = np.loadtxt( fnm, dtype='float', usecols=(16) )\n",
    "cand_tspan_r  = np.loadtxt( fnm, dtype='float', usecols=(17) )\n",
    "cand_lcamp_r  = np.loadtxt( fnm, dtype='float', usecols=(18) )\n",
    "cand_nobj_i   = np.loadtxt( fnm, dtype='int',   usecols=(19) )\n",
    "cand_meanrb_i = np.loadtxt( fnm, dtype='float', usecols=(20) )\n",
    "cand_stdrb_i  = np.loadtxt( fnm, dtype='float', usecols=(21) )\n",
    "cand_tspan_i  = np.loadtxt( fnm, dtype='float', usecols=(22) )\n",
    "cand_lcamp_i  = np.loadtxt( fnm, dtype='float', usecols=(23) )\n",
    "del fnm"
   ]
  },
  {
   "cell_type": "code",
   "execution_count": null,
   "id": "029fe91c-1fca-4376-b356-fade6cd87edc",
   "metadata": {},
   "outputs": [],
   "source": [
    "fnm = 'source_detection_summary_files/exposures_cosmos.dat'\n",
    "cexp_cal    = np.loadtxt( fnm, dtype='str',   usecols=(0) )\n",
    "cexp_fbs    = np.loadtxt( fnm, dtype='str',   usecols=(1) )\n",
    "cexp_id     = np.loadtxt( fnm, dtype='int',   usecols=(2) )\n",
    "cexp_mjd    = np.loadtxt( fnm, dtype='float', usecols=(3) )\n",
    "cexp_fil    = np.loadtxt( fnm, dtype='str',   usecols=(4) )\n",
    "cexp_mlmg   = np.loadtxt( fnm, dtype='float', usecols=(5) )\n",
    "cexp_msee   = np.loadtxt( fnm, dtype='float', usecols=(6) )\n",
    "cexp_msks   = np.loadtxt( fnm, dtype='float', usecols=(7) )\n",
    "cexp_tnobj  = np.loadtxt( fnm, dtype='int',   usecols=(8) )\n",
    "cexp_tnobjg = np.loadtxt( fnm, dtype='int',   usecols=(9) )\n",
    "del fnm\n",
    "\n",
    "fnm = 'source_detection_summary_files/exposures_elais.dat'\n",
    "eexp_cal    = np.loadtxt( fnm, dtype='str',   usecols=(0) )\n",
    "eexp_fbs    = np.loadtxt( fnm, dtype='str',   usecols=(1) )\n",
    "eexp_id     = np.loadtxt( fnm, dtype='int',   usecols=(2) )\n",
    "eexp_mjd    = np.loadtxt( fnm, dtype='float', usecols=(3) )\n",
    "eexp_fil    = np.loadtxt( fnm, dtype='str',   usecols=(4) )\n",
    "eexp_mlmg   = np.loadtxt( fnm, dtype='float', usecols=(5) )\n",
    "eexp_msee   = np.loadtxt( fnm, dtype='float', usecols=(6) )\n",
    "eexp_msks   = np.loadtxt( fnm, dtype='float', usecols=(7) )\n",
    "eexp_tnobj  = np.loadtxt( fnm, dtype='int',   usecols=(8) )\n",
    "eexp_tnobjg = np.loadtxt( fnm, dtype='int',   usecols=(9) )\n",
    "del fnm"
   ]
  },
  {
   "cell_type": "code",
   "execution_count": null,
   "id": "c48a68ed-ee5f-4568-9f0b-6ac5a2c5b848",
   "metadata": {},
   "outputs": [],
   "source": [
    "fnm = 'source_detection_summary_files/lightcurves_cosmos.dat'\n",
    "clc_candid    = np.loadtxt( fnm, dtype='str',   usecols=(0) )\n",
    "clc_objid     = np.loadtxt( fnm, dtype='str',   usecols=(1) )\n",
    "clc_objra     = np.loadtxt( fnm, dtype='float', usecols=(2) )\n",
    "clc_objdec    = np.loadtxt( fnm, dtype='float', usecols=(3) )\n",
    "clc_objmjd    = np.loadtxt( fnm, dtype='float', usecols=(4) )\n",
    "clc_objfil    = np.loadtxt( fnm, dtype='str',   usecols=(5) )\n",
    "clc_objmag    = np.loadtxt( fnm, dtype='float', usecols=(6) )\n",
    "clc_objmagerr = np.loadtxt( fnm, dtype='float', usecols=(7) )\n",
    "clc_objrb     = np.loadtxt( fnm, dtype='float', usecols=(8) )\n",
    "del fnm\n",
    "\n",
    "fnm = 'source_detection_summary_files/lightcurves_elais.dat'\n",
    "elc_candid    = np.loadtxt( fnm, dtype='str',   usecols=(0) )\n",
    "elc_objid     = np.loadtxt( fnm, dtype='str',   usecols=(1) )\n",
    "elc_objra     = np.loadtxt( fnm, dtype='float', usecols=(2) )\n",
    "elc_objdec    = np.loadtxt( fnm, dtype='float', usecols=(3) )\n",
    "elc_objmjd    = np.loadtxt( fnm, dtype='float', usecols=(4) )\n",
    "elc_objfil    = np.loadtxt( fnm, dtype='str',   usecols=(5) )\n",
    "elc_objmag    = np.loadtxt( fnm, dtype='float', usecols=(6) )\n",
    "elc_objmagerr = np.loadtxt( fnm, dtype='float', usecols=(7) )\n",
    "elc_objrb     = np.loadtxt( fnm, dtype='float', usecols=(8) )\n",
    "del fnm"
   ]
  },
  {
   "cell_type": "code",
   "execution_count": null,
   "id": "dfd7577a-2b8e-4ed2-b8fe-4eb700fc3aa1",
   "metadata": {},
   "outputs": [],
   "source": [
    "c = np.where( cand_id == 'DC21cove' )[0]\n",
    "print(cand_field[c], cand_id[c])"
   ]
  },
  {
   "cell_type": "code",
   "execution_count": null,
   "id": "e49cf601-3206-40ef-b817-94ab107f2c7a",
   "metadata": {},
   "outputs": [],
   "source": [
    "cx = np.where( clc_candid == cand_id[c] )[0]\n",
    "print( len(cx) )"
   ]
  },
  {
   "cell_type": "code",
   "execution_count": null,
   "id": "b436b252-c1a1-4837-ad1e-901680ab6284",
   "metadata": {},
   "outputs": [],
   "source": [
    "plt.plot( clc_objmjd[cx], clc_objmag[cx], 'o', ms=10, mew=0, alpha=0.5 )\n",
    "plt.gca().invert_yaxis()"
   ]
  },
  {
   "cell_type": "code",
   "execution_count": null,
   "id": "3d574559-f812-4629-8d44-5e1acd4ce21c",
   "metadata": {},
   "outputs": [],
   "source": []
  }
 ],
 "metadata": {
  "kernelspec": {
   "display_name": "NERSC Python",
   "language": "python",
   "name": "python3"
  },
  "language_info": {
   "codemirror_mode": {
    "name": "ipython",
    "version": 3
   },
   "file_extension": ".py",
   "mimetype": "text/x-python",
   "name": "python",
   "nbconvert_exporter": "python",
   "pygments_lexer": "ipython3",
   "version": "3.9.7"
  }
 },
 "nbformat": 4,
 "nbformat_minor": 5
}
