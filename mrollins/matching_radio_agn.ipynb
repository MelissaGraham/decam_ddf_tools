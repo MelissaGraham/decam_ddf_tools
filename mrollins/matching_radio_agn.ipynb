{
 "cells": [
  {
   "cell_type": "code",
   "execution_count": 1,
   "id": "7165a187-d79d-48f0-8796-405cd781eecb",
   "metadata": {
    "tags": []
   },
   "outputs": [],
   "source": [
    "import psycopg2\n",
    "import psycopg2.extras\n",
    "import getpass\n",
    "import matplotlib.pyplot as plt\n",
    "from astropy.coordinates import SkyCoord\n",
    "import astropy.units as u\n",
    "import numpy as np\n",
    "import shapely.wkt as wkt\n",
    "from shapely.geometry import Point"
   ]
  },
  {
   "cell_type": "code",
   "execution_count": 2,
   "id": "5d2b2e6c-8570-4913-b763-e63f2baf87a9",
   "metadata": {
    "tags": []
   },
   "outputs": [
    {
     "name": "stdin",
     "output_type": "stream",
     "text": [
      "DB User:  midorr\n",
      "DB Password:  ········\n"
     ]
    }
   ],
   "source": [
    "dbuser = input(\"DB User: \")\n",
    "dbpasswd = getpass.getpass(\"DB Password: \")\n",
    "db = psycopg2.connect(f\"dbname='decat' user='{dbuser}' password='{dbpasswd}' host='decatdb.lbl.gov'\")\n",
    "\n",
    "db.autocommit = True\n",
    "\n",
    "cursor = db.cursor(cursor_factory = psycopg2.extras.DictCursor)"
   ]
  },
  {
   "cell_type": "code",
   "execution_count": 9,
   "id": "941979e1-28df-498b-a43b-547e6a8983a0",
   "metadata": {
    "tags": []
   },
   "outputs": [],
   "source": [
    "tag = \"latest\"\n",
    "db.rollback()\n",
    "q = (\"SELECT id,tag FROM versiontags WHERE tag=%(tag)s\")\n",
    "cursor.execute(q, {\"tag\": tag})\n",
    "row = cursor.fetchone()\n",
    "tagid = row['id']"
   ]
  },
  {
   "cell_type": "code",
   "execution_count": 10,
   "id": "8b2934cd-286b-4c75-b56c-e446a393e484",
   "metadata": {
    "tags": []
   },
   "outputs": [],
   "source": [
    "# %%time\n",
    "# query_elais = (\"SELECT od.ra, od.dec \"\n",
    "#                \"FROM objectdatas AS od \"\n",
    "#                \"INNER JOIN objectdata_versiontag AS odvt ON od.id=odvt.objectdata_id AND odvt.versiontag_id=%(tagid)s \"\n",
    "#                \"INNER JOIN objects AS o ON od.object_id=o.id \"\n",
    "#                \"INNER JOIN images AS i ON o.image_id=i.id \"\n",
    "#                \"INNER JOIN objectrbs as rbs ON od.id=rbs.objectdata_id AND rbs.rbtype_id=2 \"\n",
    "#                \"INNER JOIN exposures AS e ON i.exposure_id=e.id \"\n",
    "#                \"WHERE od.ra > 5.0 AND od.ra < 12.0 AND od.dec > -46 AND od.dec < -41 \"  # isolating ELAIS field\n",
    "#                \"AND rbs.rb > 0.6 \" \n",
    "#                \"AND (e.proposalid = '2021A-0113' OR e.proposalid = '2021B-0149' OR \"\n",
    "#                \"e.proposalid = '2022A-724693' OR e.proposalid = '2022B-762878') \"\n",
    "#                \"LIMIT 10000000\")\n",
    "\n",
    "# cursor.execute(query_elais, {'tagid': tagid})\n",
    "# radecquery_elais = np.array(cursor.fetchall()).T\n",
    "# radecquery_elais = np.unique(radecquery_elais.T, axis=0).T"
   ]
  },
  {
   "cell_type": "code",
   "execution_count": 11,
   "id": "9ce23416-78cc-418e-bc34-fd4055e52857",
   "metadata": {
    "tags": []
   },
   "outputs": [],
   "source": [
    "# print(len(radecquery_elais[0,:]))"
   ]
  },
  {
   "cell_type": "code",
   "execution_count": 12,
   "id": "4f572238-11e1-4456-bf55-1b64e6f53a14",
   "metadata": {
    "tags": []
   },
   "outputs": [
    {
     "name": "stdout",
     "output_type": "stream",
     "text": [
      "['table3.fits', 'table4.fits', 'table6.fits', 'tableB1.fits', 'readme.txt']\n"
     ]
    }
   ],
   "source": [
    "import tarfile\n",
    "fn = \"tables.tar\"\n",
    "tf = tarfile.open(fn)\n",
    "print(tf.getnames())"
   ]
  },
  {
   "cell_type": "code",
   "execution_count": 13,
   "id": "bec4e550-03d6-4625-8517-9459d232e045",
   "metadata": {
    "tags": []
   },
   "outputs": [],
   "source": [
    "tf.extract('table3.fits')"
   ]
  },
  {
   "cell_type": "code",
   "execution_count": 14,
   "id": "0ca91718-6590-4814-8bc4-7f54aa788a6d",
   "metadata": {
    "tags": []
   },
   "outputs": [],
   "source": [
    "from astropy.io import fits\n",
    "\n",
    "radio_agn_tab = fits.open('table3.fits')"
   ]
  },
  {
   "cell_type": "code",
   "execution_count": 15,
   "id": "093dfbff-862e-491e-ae52-97f65800c888",
   "metadata": {
    "tags": []
   },
   "outputs": [
    {
     "name": "stdout",
     "output_type": "stream",
     "text": [
      "ColDefs(\n",
      "    name = 'Name'; format = '19A'\n",
      "    name = 'ATLASID'; format = '8A'\n",
      "    name = 'TractorID'; format = '25A'\n",
      "    name = 'vis'; format = 'K'; null = 999999\n",
      "    name = 'ext'; format = 'D'\n",
      ")\n"
     ]
    }
   ],
   "source": [
    "print(radio_agn_tab[1].columns)"
   ]
  },
  {
   "cell_type": "code",
   "execution_count": 16,
   "id": "fc8c5e10-2ea8-4466-9ac2-73eb43313df9",
   "metadata": {
    "tags": []
   },
   "outputs": [
    {
     "name": "stdout",
     "output_type": "stream",
     "text": [
      "J032553.86-280455.0\n",
      "J032554.05-284155.1\n",
      "J032555.30-283744.5\n",
      "J032557.32-280308.9\n",
      "J032558.27-281152.3\n"
     ]
    }
   ],
   "source": [
    "radio_agn_data = radio_agn_tab[1].data\n",
    "for i in range(5):\n",
    "    print(radio_agn_data[i][0])"
   ]
  },
  {
   "cell_type": "code",
   "execution_count": 17,
   "id": "056ed415-5930-4a71-8399-5948b6bddd9a",
   "metadata": {
    "tags": []
   },
   "outputs": [
    {
     "data": {
      "text/plain": [
       "4851"
      ]
     },
     "execution_count": 17,
     "metadata": {},
     "output_type": "execute_result"
    }
   ],
   "source": [
    "len(radio_agn_data)"
   ]
  },
  {
   "cell_type": "code",
   "execution_count": 18,
   "id": "13e1fc99-684b-4526-bf7a-ca4f4cde1e12",
   "metadata": {
    "tags": []
   },
   "outputs": [],
   "source": [
    "radio_agn_names=[]\n",
    "for i in range(4851):\n",
    "    radio_agn_names.append(radio_agn_data[i][0])"
   ]
  },
  {
   "cell_type": "code",
   "execution_count": 19,
   "id": "cc4b7b1d-833e-45a1-b8a8-b46aea59ca59",
   "metadata": {
    "tags": []
   },
   "outputs": [],
   "source": [
    "filename = '../extragalactic_fields/candidate_nightly_epochs_files/candidate_lightcurve_parameters.dat'\n",
    "realcandsarr = np.genfromtxt(filename, dtype=str)\n",
    "realcands = np.unique(realcandsarr.T[1])"
   ]
  },
  {
   "cell_type": "code",
   "execution_count": 20,
   "id": "ef27c950-f6c3-4375-8df3-faca9ec9ce68",
   "metadata": {
    "tags": []
   },
   "outputs": [
    {
     "data": {
      "text/plain": [
       "array(['DC21baaa', 'DC21baab', 'DC21babt', ..., 'DC22eclvq', 'DC22edblt',\n",
       "       'DC22engvv'], dtype='<U9')"
      ]
     },
     "execution_count": 20,
     "metadata": {},
     "output_type": "execute_result"
    }
   ],
   "source": [
    "realcands"
   ]
  },
  {
   "cell_type": "code",
   "execution_count": 21,
   "id": "626724cc-f40c-4138-bac3-775e57ecacba",
   "metadata": {
    "tags": []
   },
   "outputs": [
    {
     "name": "stdout",
     "output_type": "stream",
     "text": [
      "CPU times: user 1.46 s, sys: 67.1 ms, total: 1.53 s\n",
      "Wall time: 3.35 s\n"
     ]
    }
   ],
   "source": [
    "%%time\n",
    "candcoord = []\n",
    "for i in realcands:\n",
    "    query = (\"SELECT c.ra, c.dec FROM candidates c \"\n",
    "             \"WHERE c.id = %s \"\n",
    "             \"LIMIT 1\")\n",
    "    cursor.execute(query, (i,))\n",
    "    res = np.array(cursor.fetchall())[0]\n",
    "    candcoord.append([i, res])\n",
    "candcoord1 = np.array([[i[0], SkyCoord(i[1][0], i[1][1], unit='deg')] for i in candcoord])"
   ]
  },
  {
   "cell_type": "code",
   "execution_count": 22,
   "id": "00e8a689-bd9c-4eaa-9f65-900b50128920",
   "metadata": {
    "tags": []
   },
   "outputs": [
    {
     "name": "stdout",
     "output_type": "stream",
     "text": [
      "4383 4383\n"
     ]
    }
   ],
   "source": [
    "print(len(realcands), len(candcoord1))"
   ]
  },
  {
   "cell_type": "code",
   "execution_count": 23,
   "id": "2aa7ccbd-ee6a-4adc-9097-264bcaa82610",
   "metadata": {
    "tags": []
   },
   "outputs": [
    {
     "data": {
      "text/plain": [
       "array([['DC21baaa', <SkyCoord (ICRS): (ra, dec) in deg\n",
       "                        (150.32139125, 3.01570179)>   ],\n",
       "       ['DC21baab', <SkyCoord (ICRS): (ra, dec) in deg\n",
       "                        (149.07706906, 2.66553009)>   ]], dtype=object)"
      ]
     },
     "execution_count": 23,
     "metadata": {},
     "output_type": "execute_result"
    }
   ],
   "source": [
    "candcoord1[:2]"
   ]
  },
  {
   "cell_type": "code",
   "execution_count": 24,
   "id": "b16b823b-7925-4746-9385-f80a04b8704c",
   "metadata": {
    "tags": []
   },
   "outputs": [],
   "source": [
    "temp= SkyCoord(candcoord1.T[1])"
   ]
  },
  {
   "cell_type": "code",
   "execution_count": 25,
   "id": "3b0e17b0-8a97-46f9-873b-6d728877ccbb",
   "metadata": {
    "tags": []
   },
   "outputs": [],
   "source": [
    "from astropy import units as u\n",
    "from astropy.coordinates import SkyCoord\n",
    "\n",
    "# temp=[]\n",
    "# for i in range(4851):\n",
    "#     temp.append(SkyCoord(radio_agn_names[i], unit=(u.deg)))\n",
    "# radio_agn_coord = np.asarray(temp)"
   ]
  },
  {
   "cell_type": "code",
   "execution_count": 26,
   "id": "cb38ebb8-be33-47e0-a121-bf631b31b01a",
   "metadata": {
    "tags": []
   },
   "outputs": [
    {
     "data": {
      "text/plain": [
       "'J003453.73-430500.5'"
      ]
     },
     "execution_count": 26,
     "metadata": {},
     "output_type": "execute_result"
    }
   ],
   "source": [
    "radio_agn_names[4000]"
   ]
  },
  {
   "cell_type": "code",
   "execution_count": 27,
   "id": "6a719cc7-e4a1-489f-8d44-0b1027268c53",
   "metadata": {
    "tags": []
   },
   "outputs": [],
   "source": [
    "radio_agn_coord = SkyCoord(radio_agn_names, unit=(u.hourangle,u.deg))"
   ]
  },
  {
   "cell_type": "code",
   "execution_count": 40,
   "id": "6b5b1b0e-d0f1-4443-800b-74fb15ba2d9d",
   "metadata": {
    "tags": []
   },
   "outputs": [
    {
     "data": {
      "text/plain": [
       "(-41.0, -45.0)"
      ]
     },
     "execution_count": 40,
     "metadata": {},
     "output_type": "execute_result"
    },
    {
     "data": {
      "image/png": "[encoded data removed]",
      "text/plain": [
       "<Figure size 432x288 with 1 Axes>"
      ]
     },
     "metadata": {
      "needs_background": "light"
     },
     "output_type": "display_data"
    }
   ],
   "source": [
    "plt.scatter(radio_agn_coord.ra.deg, radio_agn_coord.dec.deg)\n",
    "plt.scatter(temp.ra.deg, temp.dec.deg,color='green')\n",
    "plt.xlim(0,15)\n",
    "plt.ylim(-41,-45)"
   ]
  },
  {
   "cell_type": "markdown",
   "id": "7033061c-12ff-4f1c-b07f-e454d9f9beae",
   "metadata": {},
   "source": [
    "Match the datasets with a 2 arcsec radius"
   ]
  },
  {
   "cell_type": "code",
   "execution_count": 29,
   "id": "cbd4f9b8-e6ea-4667-b483-a99c1b77a57e",
   "metadata": {
    "tags": []
   },
   "outputs": [
    {
     "data": {
      "text/plain": [
       "False"
      ]
     },
     "execution_count": 29,
     "metadata": {},
     "output_type": "execute_result"
    }
   ],
   "source": [
    "radio_agn_coord.isscalar"
   ]
  },
  {
   "cell_type": "code",
   "execution_count": 30,
   "id": "3b50bc58-d5c6-44c2-a439-73dfd65932c2",
   "metadata": {
    "tags": []
   },
   "outputs": [],
   "source": [
    "elais_matches = []\n",
    "elais_allseps = []\n",
    "for i, coord in enumerate(candcoord1.T[1]):\n",
    "    idx, sep2d, dist3d = coord.match_to_catalog_sky(radio_agn_coord)\n",
    "    elais_allseps.append(sep2d*3600.0)\n",
    "    if sep2d < 10*u.arcsec:\n",
    "        elais_matches.append([i, coord, idx, sep2d])\n",
    "elais_matches = np.array(elais_matches, dtype='object')"
   ]
  },
  {
   "cell_type": "code",
   "execution_count": 35,
   "id": "27238639-e15a-427d-ac9f-fb9e6d66a97a",
   "metadata": {},
   "outputs": [
    {
     "data": {
      "text/plain": [
       "104"
      ]
     },
     "execution_count": 35,
     "metadata": {},
     "output_type": "execute_result"
    }
   ],
   "source": [
    "elais_matches.size"
   ]
  },
  {
   "cell_type": "code",
   "execution_count": null,
   "id": "02a53845-8e84-44a5-9558-b8162c36b341",
   "metadata": {},
   "outputs": [],
   "source": []
  },
  {
   "cell_type": "code",
   "execution_count": null,
   "id": "596b5042-027a-4e91-b9c3-061894912843",
   "metadata": {},
   "outputs": [],
   "source": []
  }
 ],
 "metadata": {
  "kernelspec": {
   "display_name": "NERSC Python",
   "language": "python",
   "name": "python3"
  },
  "language_info": {
   "codemirror_mode": {
    "name": "ipython",
    "version": 3
   },
   "file_extension": ".py",
   "mimetype": "text/x-python",
   "name": "python",
   "nbconvert_exporter": "python",
   "pygments_lexer": "ipython3",
   "version": "3.9.7"
  }
 },
 "nbformat": 4,
 "nbformat_minor": 5
}
