{
 "cells": [
  {
   "cell_type": "code",
   "execution_count": 1,
   "id": "ebbd0adc-ebbf-43ba-bc6e-1e938c1e21f4",
   "metadata": {},
   "outputs": [],
   "source": [
    "import psycopg2\n",
    "import psycopg2.extras\n",
    "import getpass\n",
    "from IPython.display import display\n",
    "import ipywidgets\n",
    "import matplotlib.pyplot as plt\n",
    "import numpy as np\n",
    "import pandas as pd"
   ]
  },
  {
   "cell_type": "code",
   "execution_count": 2,
   "id": "b2b766de-e184-4f46-861e-2063d55747be",
   "metadata": {},
   "outputs": [],
   "source": [
    "dbuser = 'kennedyt' # input(\"DB User: \")\n",
    "dbpasswd = 'loq81a5ocd6m' # getpass.getpass(\"DB Password: \")\n",
    "db = psycopg2.connect(f\"dbname='decat' user='{dbuser}' password='{dbpasswd}' host='decatdb.lbl.gov'\")\n",
    "\n",
    "db.autocommit = True # Makes the computer nicer about SQL syntax errors\n",
    "\n",
    "cursor = db.cursor( cursor_factory = psycopg2.extras.DictCursor )"
   ]
  },
  {
   "cell_type": "markdown",
   "id": "073f6977-441e-47af-a995-ec99cf4a40cb",
   "metadata": {},
   "source": [
    "#### How many objects total in the COSMOS field?"
   ]
  },
  {
   "cell_type": "code",
   "execution_count": 3,
   "id": "69241613-4bbd-4f18-af59-6305d4c7b1ca",
   "metadata": {},
   "outputs": [
    {
     "name": "stdout",
     "output_type": "stream",
     "text": [
      "1389922\n"
     ]
    }
   ],
   "source": [
    "query = ( 'SELECT COUNT(*) FROM objects o '\n",
    "         'WHERE q3c_radial_query(o.ra,o.dec,150,2.2,3) '\n",
    "         'LIMIT 10000000')\n",
    "cursor.execute( query )\n",
    "\n",
    "objnum = cursor.fetchall()[0][0]\n",
    "print( objnum )"
   ]
  },
  {
   "cell_type": "markdown",
   "id": "e95ddd1f-d411-4096-ad9a-a610d16fd9b7",
   "metadata": {},
   "source": [
    "#### How many candidates total in the COSMOS field?"
   ]
  },
  {
   "cell_type": "code",
   "execution_count": 4,
   "id": "9fad7374-8d38-4710-8ace-9f352642f130",
   "metadata": {},
   "outputs": [
    {
     "name": "stdout",
     "output_type": "stream",
     "text": [
      "188166\n"
     ]
    }
   ],
   "source": [
    "query = ( 'SELECT COUNT(*) FROM candidates c '\n",
    "         'WHERE q3c_radial_query(c.ra,c.dec,150,2.2,3) ' \n",
    "         'LIMIT 10000000')\n",
    "cursor.execute( query )\n",
    "\n",
    "candnum = cursor.fetchall()[0][0]\n",
    "print( candnum )"
   ]
  },
  {
   "cell_type": "markdown",
   "id": "bd379dae-7460-41f8-99b3-f97a352e7bf3",
   "metadata": {},
   "source": [
    "#### How many objects per candidate, on average? (COSMOS)"
   ]
  },
  {
   "cell_type": "code",
   "execution_count": 5,
   "id": "a766afe3-6bcd-4e49-b74f-678bac75cd65",
   "metadata": {},
   "outputs": [
    {
     "name": "stdout",
     "output_type": "stream",
     "text": [
      "7.3866798465185\n"
     ]
    }
   ],
   "source": [
    "obj_per_cand_av = objnum / candnum\n",
    "print( obj_per_cand_av ) # This matches what we get later\n",
    "\n",
    "del candnum, objnum, obj_per_cand_av"
   ]
  },
  {
   "cell_type": "markdown",
   "id": "2f52b047-16de-4fd8-b5f5-81913b6c119f",
   "metadata": {},
   "source": [
    "#### How are the objects distributed among candidates (COSMOS, ignoring RB scores)?"
   ]
  },
  {
   "cell_type": "code",
   "execution_count": 6,
   "id": "80c3f68b-a6a9-46e2-87f0-98c5138f5869",
   "metadata": {},
   "outputs": [
    {
     "data": {
      "text/plain": [
       "array([['DC21e', '1'],\n",
       "       ['DC21c', '2'],\n",
       "       ['DC21f', '3'],\n",
       "       ['DC21d', '4'],\n",
       "       ['DC21h', '5'],\n",
       "       ['DC21g', '6'],\n",
       "       ['DC21i', '7']], dtype='<U9')"
      ]
     },
     "execution_count": 6,
     "metadata": {},
     "output_type": "execute_result"
    }
   ],
   "source": [
    "### Returns ordered pairs of [objects.candidate_id, objects.id] for each of the 9887434 objects\n",
    "### Technically this section only needs candidate ids\n",
    "\n",
    "query = ( 'SELECT candidate_id, id FROM objects o '\n",
    "         'WHERE q3c_radial_query(o.ra,o.dec,150,2.2,3) '\n",
    "         'LIMIT 10000000')\n",
    "cursor.execute( query )\n",
    "\n",
    "cndobj_a = np.array( cursor.fetchall() )\n",
    "cndobj_a[0:7] # Just printing the first few"
   ]
  },
  {
   "cell_type": "code",
   "execution_count": 7,
   "id": "53c46d7a-7cb0-4ec9-8d39-06b3bbfb1103",
   "metadata": {},
   "outputs": [],
   "source": [
    "cndobj_a = cndobj_a.transpose()\n",
    "cndobj_a = np.sort(cndobj_a, 1)\n",
    "\n",
    "# Finding out how many objects have a given candidate id\n",
    "candidate_a, frequencies_a = np.unique( cndobj_a[0], return_counts=True )"
   ]
  },
  {
   "cell_type": "code",
   "execution_count": 8,
   "id": "e845794c-c634-46e3-b4a3-8945b04dd1d7",
   "metadata": {},
   "outputs": [
    {
     "data": {
      "text/html": [
       "<div>\n",
       "<style scoped>\n",
       "    .dataframe tbody tr th:only-of-type {\n",
       "        vertical-align: middle;\n",
       "    }\n",
       "\n",
       "    .dataframe tbody tr th {\n",
       "        vertical-align: top;\n",
       "    }\n",
       "\n",
       "    .dataframe thead th {\n",
       "        text-align: right;\n",
       "    }\n",
       "</style>\n",
       "<table border=\"1\" class=\"dataframe\">\n",
       "  <thead>\n",
       "    <tr style=\"text-align: right;\">\n",
       "      <th></th>\n",
       "      <th>Number of detections</th>\n",
       "    </tr>\n",
       "  </thead>\n",
       "  <tbody>\n",
       "    <tr>\n",
       "      <td>DC21b</td>\n",
       "      <td>145</td>\n",
       "    </tr>\n",
       "    <tr>\n",
       "      <td>DC21ba</td>\n",
       "      <td>134</td>\n",
       "    </tr>\n",
       "    <tr>\n",
       "      <td>DC21baa</td>\n",
       "      <td>37</td>\n",
       "    </tr>\n",
       "    <tr>\n",
       "      <td>DC21baaa</td>\n",
       "      <td>31</td>\n",
       "    </tr>\n",
       "    <tr>\n",
       "      <td>DC21baab</td>\n",
       "      <td>24</td>\n",
       "    </tr>\n",
       "    <tr>\n",
       "      <td>...</td>\n",
       "      <td>...</td>\n",
       "    </tr>\n",
       "    <tr>\n",
       "      <td>DC21zzv</td>\n",
       "      <td>69</td>\n",
       "    </tr>\n",
       "    <tr>\n",
       "      <td>DC21zzw</td>\n",
       "      <td>1</td>\n",
       "    </tr>\n",
       "    <tr>\n",
       "      <td>DC21zzx</td>\n",
       "      <td>78</td>\n",
       "    </tr>\n",
       "    <tr>\n",
       "      <td>DC21zzy</td>\n",
       "      <td>20</td>\n",
       "    </tr>\n",
       "    <tr>\n",
       "      <td>DC21zzz</td>\n",
       "      <td>1</td>\n",
       "    </tr>\n",
       "  </tbody>\n",
       "</table>\n",
       "<p>187975 rows × 1 columns</p>\n",
       "</div>"
      ],
      "text/plain": [
       "          Number of detections\n",
       "DC21b                      145\n",
       "DC21ba                     134\n",
       "DC21baa                     37\n",
       "DC21baaa                    31\n",
       "DC21baab                    24\n",
       "...                        ...\n",
       "DC21zzv                     69\n",
       "DC21zzw                      1\n",
       "DC21zzx                     78\n",
       "DC21zzy                     20\n",
       "DC21zzz                      1\n",
       "\n",
       "[187975 rows x 1 columns]"
      ]
     },
     "execution_count": 8,
     "metadata": {},
     "output_type": "execute_result"
    }
   ],
   "source": [
    "pd.DataFrame( frequencies_a, candidate_a, columns=[\"Number of detections\"]) # visualization"
   ]
  },
  {
   "cell_type": "code",
   "execution_count": 9,
   "id": "2a358969-afcc-4425-92f5-97cf8b560b17",
   "metadata": {},
   "outputs": [
    {
     "name": "stdout",
     "output_type": "stream",
     "text": [
      "THIS PLOT HAS LIMITED X-AXIS RANGE FOR VISIBILITY, should go out to ~700\n",
      "It also includes every object, regardless of rb score\n"
     ]
    },
    {
     "data": {
      "image/png": "[encoded data removed]",
      "text/plain": [
       "<Figure size 576x360 with 1 Axes>"
      ]
     },
     "metadata": {
      "needs_background": "light"
     },
     "output_type": "display_data"
    }
   ],
   "source": [
    "plt.figure( figsize=(8,5) )\n",
    "plt.hist( frequencies_a, bins=100 )\n",
    "plt.xlim( 0, 170 )\n",
    "plt.xlabel( \"Objects per candidate\" )\n",
    "plt.ylabel( \"Number of candidates\" )\n",
    "plt.axvline( np.mean( frequencies_a ), label=\"Mean objs/cand, %f\" % (np.mean(frequencies_a)), color='r' )\n",
    "plt.legend()\n",
    "print( \"THIS PLOT HAS LIMITED X-AXIS RANGE FOR VISIBILITY, should go out to ~700\" )\n",
    "print( \"It also includes every object, regardless of rb score\" )"
   ]
  },
  {
   "cell_type": "markdown",
   "id": "6353c2f3-2d05-4ce5-a707-3f3320902fc8",
   "metadata": {},
   "source": [
    "#### Same analysis, but for only \"good\" object detections (COSMOS, rb>0.6)"
   ]
  },
  {
   "cell_type": "code",
   "execution_count": 10,
   "id": "f5aa64a6-28f9-4675-8fe6-01a41385bf49",
   "metadata": {},
   "outputs": [
    {
     "data": {
      "text/plain": [
       "array([['DC21g', '6'],\n",
       "       ['DC21k', '9'],\n",
       "       ['DC21j', '11'],\n",
       "       ['DC21bd', '31'],\n",
       "       ['DC21bg', '33'],\n",
       "       ['DC21bw', '48'],\n",
       "       ['DC21by', '50']], dtype='<U9')"
      ]
     },
     "execution_count": 10,
     "metadata": {},
     "output_type": "execute_result"
    }
   ],
   "source": [
    "query = ( 'SELECT candidate_id, id FROM objects o '\n",
    "         'WHERE rb > 0.6 '\n",
    "         'AND q3c_radial_query(o.ra,o.dec,150,2.2,3) ' \n",
    "         'LIMIT 10000000')\n",
    "cursor.execute( query )\n",
    "\n",
    "cndobj_g = np.array( cursor.fetchall() )\n",
    "cndobj_g[0:7] # again just taking a look at the first few"
   ]
  },
  {
   "cell_type": "code",
   "execution_count": 11,
   "id": "33995dd3-9d51-45f5-8a0f-077637678c0d",
   "metadata": {},
   "outputs": [],
   "source": [
    "cndobj_g = cndobj_g.transpose()\n",
    "cndobj_g = np.sort( cndobj_g, 1 )\n",
    "\n",
    "# Finding out how many objects have a given candidate id\n",
    "candidate_g, frequencies_g = np.unique( cndobj_g[0], return_counts=True )"
   ]
  },
  {
   "cell_type": "code",
   "execution_count": 12,
   "id": "a2a02ed0-aa2b-4b37-bb74-ff6617562cab",
   "metadata": {},
   "outputs": [
    {
     "data": {
      "text/html": [
       "<div>\n",
       "<style scoped>\n",
       "    .dataframe tbody tr th:only-of-type {\n",
       "        vertical-align: middle;\n",
       "    }\n",
       "\n",
       "    .dataframe tbody tr th {\n",
       "        vertical-align: top;\n",
       "    }\n",
       "\n",
       "    .dataframe thead th {\n",
       "        text-align: right;\n",
       "    }\n",
       "</style>\n",
       "<table border=\"1\" class=\"dataframe\">\n",
       "  <thead>\n",
       "    <tr style=\"text-align: right;\">\n",
       "      <th></th>\n",
       "      <th>Number of detections</th>\n",
       "    </tr>\n",
       "  </thead>\n",
       "  <tbody>\n",
       "    <tr>\n",
       "      <td>DC21b</td>\n",
       "      <td>1</td>\n",
       "    </tr>\n",
       "    <tr>\n",
       "      <td>DC21ba</td>\n",
       "      <td>1</td>\n",
       "    </tr>\n",
       "    <tr>\n",
       "      <td>DC21baaa</td>\n",
       "      <td>21</td>\n",
       "    </tr>\n",
       "    <tr>\n",
       "      <td>DC21baac</td>\n",
       "      <td>3</td>\n",
       "    </tr>\n",
       "    <tr>\n",
       "      <td>DC21baae</td>\n",
       "      <td>1</td>\n",
       "    </tr>\n",
       "    <tr>\n",
       "      <td>...</td>\n",
       "      <td>...</td>\n",
       "    </tr>\n",
       "    <tr>\n",
       "      <td>DC21zzi</td>\n",
       "      <td>28</td>\n",
       "    </tr>\n",
       "    <tr>\n",
       "      <td>DC21zzq</td>\n",
       "      <td>9</td>\n",
       "    </tr>\n",
       "    <tr>\n",
       "      <td>DC21zzr</td>\n",
       "      <td>1</td>\n",
       "    </tr>\n",
       "    <tr>\n",
       "      <td>DC21zzv</td>\n",
       "      <td>4</td>\n",
       "    </tr>\n",
       "    <tr>\n",
       "      <td>DC21zzx</td>\n",
       "      <td>1</td>\n",
       "    </tr>\n",
       "  </tbody>\n",
       "</table>\n",
       "<p>43013 rows × 1 columns</p>\n",
       "</div>"
      ],
      "text/plain": [
       "          Number of detections\n",
       "DC21b                        1\n",
       "DC21ba                       1\n",
       "DC21baaa                    21\n",
       "DC21baac                     3\n",
       "DC21baae                     1\n",
       "...                        ...\n",
       "DC21zzi                     28\n",
       "DC21zzq                      9\n",
       "DC21zzr                      1\n",
       "DC21zzv                      4\n",
       "DC21zzx                      1\n",
       "\n",
       "[43013 rows x 1 columns]"
      ]
     },
     "execution_count": 12,
     "metadata": {},
     "output_type": "execute_result"
    }
   ],
   "source": [
    "pd.DataFrame(frequencies_g, candidate_g, columns=[\"Number of detections\"] ) # visualization"
   ]
  },
  {
   "cell_type": "code",
   "execution_count": 13,
   "id": "115e5eb5-ec1a-49c3-99e3-57577003a6cb",
   "metadata": {},
   "outputs": [
    {
     "name": "stdout",
     "output_type": "stream",
     "text": [
      "THIS PLOT HAS LIMITED X-AXIS RANGE FOR VISIBILITY, should go out to ~350\n",
      "It includes only objects with rb scores above 0.6\n"
     ]
    },
    {
     "data": {
      "image/png": "[encoded data removed]",
      "text/plain": [
       "<Figure size 576x360 with 1 Axes>"
      ]
     },
     "metadata": {
      "needs_background": "light"
     },
     "output_type": "display_data"
    }
   ],
   "source": [
    "plt.figure( figsize=(8,5) )\n",
    "plt.hist( frequencies_g, bins=150 )\n",
    "plt.xlim( 0, 50 )\n",
    "plt.xlabel( \"Objects per candidate\" )\n",
    "plt.ylabel( \"Number of candidates\" )\n",
    "plt.axvline( np.mean( frequencies_g ), label=\"Mean objs/cand, %f\" % ( np.mean(frequencies_g) ), color='r' )\n",
    "plt.legend()\n",
    "print( \"THIS PLOT HAS LIMITED X-AXIS RANGE FOR VISIBILITY, should go out to ~350\" )\n",
    "print( \"It includes only objects with rb scores above 0.6\" )"
   ]
  },
  {
   "cell_type": "markdown",
   "id": "da31b602-f884-4ab1-b087-bc199aeeb924",
   "metadata": {},
   "source": [
    "#### How many \"Good\" (R/B>0.6) sources are identified per subtraction? (COSMOS)"
   ]
  },
  {
   "cell_type": "code",
   "execution_count": 37,
   "id": "40eac8cd-15b8-40e5-9ee8-6ca995b4bd93",
   "metadata": {},
   "outputs": [],
   "source": [
    "query = ( 'SELECT subtraction_id, id FROM objects o '\n",
    "         'WHERE q3c_radial_query(o.ra,o.dec,150,2.2,3) '\n",
    "         'AND o.rb>0.6 '\n",
    "         'LIMIT 10000000')\n",
    "\n",
    "cursor.execute( query )\n",
    "\n",
    "subidobjid_a = np.array( cursor.fetchall() ).transpose()"
   ]
  },
  {
   "cell_type": "code",
   "execution_count": 38,
   "id": "88529357-2d9a-435a-9383-7a04cb069775",
   "metadata": {},
   "outputs": [],
   "source": [
    "imgs, objspersub = np.unique( subidobjid_a[0], return_counts=True )"
   ]
  },
  {
   "cell_type": "code",
   "execution_count": 42,
   "id": "7471fd2f-f52e-403e-a6d4-944e5cd93f75",
   "metadata": {},
   "outputs": [
    {
     "name": "stdout",
     "output_type": "stream",
     "text": [
      "Median is 3 objects per subtraction\n",
      "Mean is 3.351487 objects per subtraction\n",
      "Max is 164 objects per subtraction\n",
      "Min is 1 object(s) per subtraction\n"
     ]
    },
    {
     "data": {
      "image/png": "[encoded data removed]",
      "text/plain": [
       "<Figure size 576x360 with 1 Axes>"
      ]
     },
     "metadata": {
      "needs_background": "light"
     },
     "output_type": "display_data"
    }
   ],
   "source": [
    "plt.figure( figsize=(8,5) )\n",
    "plt.ylabel( \"Number of subtraction ids\" )\n",
    "plt.xlabel( \"Objects per subtraction id\" )\n",
    "plt.hist( objspersub, bins=150 )\n",
    "plt.xlim( 0, 30 )\n",
    "print( \"Median is %i objects per subtraction\" % ( np.median(objspersub) ) )\n",
    "print( \"Mean is %f objects per subtraction\" % ( np.mean(objspersub) ) )\n",
    "print( \"Max is %i objects per subtraction\" % ( np.max(objspersub) ) )\n",
    "print( \"Min is %i object(s) per subtraction\" % ( np.min(objspersub) ) )"
   ]
  },
  {
   "cell_type": "markdown",
   "id": "2496d856-d732-485b-a595-92e6ba9a92e5",
   "metadata": {},
   "source": [
    "#### How many subtractions have been done so far? (COSMOS)"
   ]
  },
  {
   "cell_type": "code",
   "execution_count": 18,
   "id": "07dff421-d07c-42f2-a643-c620b1637e36",
   "metadata": {},
   "outputs": [],
   "source": [
    "query = ( 'SELECT exposure_id FROM subtractions s '\n",
    "         'WHERE q3c_radial_query(s.ra,s.dec,150,2.2,3) ' \n",
    "         'LIMIT 10000000' )\n",
    "\n",
    "cursor.execute( query )\n",
    "\n",
    "totsub = cursor.fetchall()"
   ]
  },
  {
   "cell_type": "code",
   "execution_count": 19,
   "id": "8b61b40a-ccc7-444e-a9a6-04eb31605baf",
   "metadata": {},
   "outputs": [
    {
     "data": {
      "text/plain": [
       "759"
      ]
     },
     "execution_count": 19,
     "metadata": {},
     "output_type": "execute_result"
    }
   ],
   "source": [
    "len( np.unique( totsub ) )"
   ]
  },
  {
   "cell_type": "markdown",
   "id": "f677140b-47cf-485d-90e9-448c12319c13",
   "metadata": {},
   "source": [
    "#### How many exposures have been taken? (COSMOS)"
   ]
  },
  {
   "cell_type": "code",
   "execution_count": 20,
   "id": "1d62ad41-34df-497c-8062-1246ad66530b",
   "metadata": {},
   "outputs": [],
   "source": [
    "query = ( 'SELECT COUNT(*) FROM exposures e '\n",
    "         'WHERE q3c_radial_query(e.ra,e.dec,150,2.2,3) '\n",
    "         'LIMIT 10000000' )\n",
    "\n",
    "cursor.execute( query )\n",
    "\n",
    "totexp = cursor.fetchall()[0][0]"
   ]
  },
  {
   "cell_type": "code",
   "execution_count": 21,
   "id": "aab22c84-b3ac-420a-9b26-aabf0e131a32",
   "metadata": {},
   "outputs": [
    {
     "data": {
      "text/plain": [
       "1122"
      ]
     },
     "execution_count": 21,
     "metadata": {},
     "output_type": "execute_result"
    }
   ],
   "source": [
    "totexp"
   ]
  },
  {
   "cell_type": "markdown",
   "id": "dac89f28-afc8-45b3-9b8b-d408bec82bdc",
   "metadata": {},
   "source": [
    "#### How many \"Good\" (R/B>0.6) sources are identified per exposure? (COSMOS)"
   ]
  },
  {
   "cell_type": "code",
   "execution_count": 33,
   "id": "1a6e7670-3d96-48d4-88ca-5b1e2520cafa",
   "metadata": {},
   "outputs": [],
   "source": [
    "query = ( 'SELECT o.subtraction_id, o.id, s.exposure_id FROM objects o '\n",
    "         'JOIN subtractions s ON o.subtraction_id=s.id '\n",
    "         'WHERE q3c_radial_query(o.ra,o.dec,150,2.2,3) ' \n",
    "         'AND o.rb>0.6 '\n",
    "         'LIMIT 10000000' )\n",
    "\n",
    "cursor.execute( query )\n",
    "\n",
    "subidobjidexpid_a = np.array( cursor.fetchall() )"
   ]
  },
  {
   "cell_type": "code",
   "execution_count": 34,
   "id": "763f27d5-b9cd-4ba6-a00d-fc359203c257",
   "metadata": {},
   "outputs": [
    {
     "data": {
      "text/plain": [
       "array([[      8,       6,       1],\n",
       "       [      5,      11,       1],\n",
       "       [     23,      31,       1],\n",
       "       ...,\n",
       "       [  64242, 4452253,    1538],\n",
       "       [  64242, 4452266,    1538],\n",
       "       [  64242, 4452275,    1538]])"
      ]
     },
     "execution_count": 34,
     "metadata": {},
     "output_type": "execute_result"
    }
   ],
   "source": [
    "subidobjidexpid_a"
   ]
  },
  {
   "cell_type": "code",
   "execution_count": 35,
   "id": "640555b5-ff54-4b08-85c9-7d8aac4c43c8",
   "metadata": {},
   "outputs": [],
   "source": [
    "exp, objsperimg = np.unique( subidobjidexpid_a.transpose()[2], return_counts=True )"
   ]
  },
  {
   "cell_type": "code",
   "execution_count": 36,
   "id": "bfe0adae-f27c-4b94-ac77-5378daf8ea09",
   "metadata": {},
   "outputs": [
    {
     "name": "stdout",
     "output_type": "stream",
     "text": [
      "Median is 143 objects per exposure\n",
      "Mean is 163.052701 objects per exposure\n",
      "Max is 756 objects per exposure\n",
      "Min is 12 object(s) per exposure\n"
     ]
    },
    {
     "data": {
      "image/png": "[encoded data removed]",
      "text/plain": [
       "<Figure size 576x360 with 1 Axes>"
      ]
     },
     "metadata": {
      "needs_background": "light"
     },
     "output_type": "display_data"
    }
   ],
   "source": [
    "plt.figure( figsize=(8,5) )\n",
    "plt.hist( objsperimg, bins=50 )\n",
    "plt.xlabel( \"Sources per image\" )\n",
    "plt.ylabel( \"Number of images\" );\n",
    "print( \"Median is %i objects per exposure\" % ( np.median(objsperimg) ) )\n",
    "print( \"Mean is %f objects per exposure\" % ( np.mean(objsperimg) ) )\n",
    "print( \"Max is %i objects per exposure\" % ( np.max(objsperimg) ) )\n",
    "print( \"Min is %i object(s) per exposure\" % ( np.min(objsperimg) ) )"
   ]
  },
  {
   "cell_type": "markdown",
   "id": "91a7f639-90ff-4aa5-9373-62d1e14c3b97",
   "metadata": {},
   "source": [
    "#### How are R/B scores associated with the number of times a candidate is detected? (COSMOS)"
   ]
  },
  {
   "cell_type": "markdown",
   "id": "185a30b2-a597-4a2c-84df-dcf46d479955",
   "metadata": {},
   "source": [
    "Numpy's sort function was giving me a hard time, so I switched over to pandas for this one."
   ]
  },
  {
   "cell_type": "code",
   "execution_count": 26,
   "id": "2e1982c9-8ce5-4a6c-91a5-323158444727",
   "metadata": {},
   "outputs": [
    {
     "data": {
      "text/plain": [
       "array([['DC21g', 'DC21k', 'DC21j', ..., 'DC21bivgn', 'DC21eamv',\n",
       "        'DC21bpfj'],\n",
       "       ['0.999956864434353', '0.974374264478683', '0.967756569385529',\n",
       "        ..., '0.980961203575134', '0.965856492519379',\n",
       "        '0.620653748512268']], dtype='<U17')"
      ]
     },
     "execution_count": 26,
     "metadata": {},
     "output_type": "execute_result"
    }
   ],
   "source": [
    "query = ( 'SELECT candidate_id, rb FROM objects o '\n",
    "         'WHERE rb > 0.6 '\n",
    "         'AND q3c_radial_query(o.ra,o.dec,150,2.2,3) '\n",
    "         'LIMIT 10000000' )\n",
    "cursor.execute( query )\n",
    "\n",
    "cndrb_g = np.array( cursor.fetchall() ).transpose()\n",
    "cndrb_g"
   ]
  },
  {
   "cell_type": "code",
   "execution_count": 27,
   "id": "d086bdf0-ec29-4298-a226-7c06470ac91a",
   "metadata": {},
   "outputs": [
    {
     "data": {
      "text/html": [
       "<div>\n",
       "<style scoped>\n",
       "    .dataframe tbody tr th:only-of-type {\n",
       "        vertical-align: middle;\n",
       "    }\n",
       "\n",
       "    .dataframe tbody tr th {\n",
       "        vertical-align: top;\n",
       "    }\n",
       "\n",
       "    .dataframe thead th {\n",
       "        text-align: right;\n",
       "    }\n",
       "</style>\n",
       "<table border=\"1\" class=\"dataframe\">\n",
       "  <thead>\n",
       "    <tr style=\"text-align: right;\">\n",
       "      <th></th>\n",
       "      <th>Candidate ID</th>\n",
       "      <th>RB score</th>\n",
       "    </tr>\n",
       "  </thead>\n",
       "  <tbody>\n",
       "    <tr>\n",
       "      <td>72176</td>\n",
       "      <td>DC21b</td>\n",
       "      <td>0.635156035423279</td>\n",
       "    </tr>\n",
       "    <tr>\n",
       "      <td>110091</td>\n",
       "      <td>DC21ba</td>\n",
       "      <td>0.696346163749695</td>\n",
       "    </tr>\n",
       "    <tr>\n",
       "      <td>47147</td>\n",
       "      <td>DC21baaa</td>\n",
       "      <td>0.719504654407501</td>\n",
       "    </tr>\n",
       "    <tr>\n",
       "      <td>55971</td>\n",
       "      <td>DC21baaa</td>\n",
       "      <td>0.869969934225082</td>\n",
       "    </tr>\n",
       "    <tr>\n",
       "      <td>54256</td>\n",
       "      <td>DC21baaa</td>\n",
       "      <td>0.884813487529755</td>\n",
       "    </tr>\n",
       "    <tr>\n",
       "      <td>...</td>\n",
       "      <td>...</td>\n",
       "      <td>...</td>\n",
       "    </tr>\n",
       "    <tr>\n",
       "      <td>106993</td>\n",
       "      <td>DC21zzv</td>\n",
       "      <td>0.787300318479538</td>\n",
       "    </tr>\n",
       "    <tr>\n",
       "      <td>11712</td>\n",
       "      <td>DC21zzv</td>\n",
       "      <td>0.732148230075836</td>\n",
       "    </tr>\n",
       "    <tr>\n",
       "      <td>97435</td>\n",
       "      <td>DC21zzv</td>\n",
       "      <td>0.988517642021179</td>\n",
       "    </tr>\n",
       "    <tr>\n",
       "      <td>50840</td>\n",
       "      <td>DC21zzv</td>\n",
       "      <td>0.702722370624542</td>\n",
       "    </tr>\n",
       "    <tr>\n",
       "      <td>11920</td>\n",
       "      <td>DC21zzx</td>\n",
       "      <td>0.859784424304962</td>\n",
       "    </tr>\n",
       "  </tbody>\n",
       "</table>\n",
       "<p>123757 rows × 2 columns</p>\n",
       "</div>"
      ],
      "text/plain": [
       "       Candidate ID           RB score\n",
       "72176         DC21b  0.635156035423279\n",
       "110091       DC21ba  0.696346163749695\n",
       "47147      DC21baaa  0.719504654407501\n",
       "55971      DC21baaa  0.869969934225082\n",
       "54256      DC21baaa  0.884813487529755\n",
       "...             ...                ...\n",
       "106993      DC21zzv  0.787300318479538\n",
       "11712       DC21zzv  0.732148230075836\n",
       "97435       DC21zzv  0.988517642021179\n",
       "50840       DC21zzv  0.702722370624542\n",
       "11920       DC21zzx  0.859784424304962\n",
       "\n",
       "[123757 rows x 2 columns]"
      ]
     },
     "execution_count": 27,
     "metadata": {},
     "output_type": "execute_result"
    }
   ],
   "source": [
    "cndrb_g_df = pd.DataFrame( cndrb_g.transpose(), columns=[\"Candidate ID\", \"RB score\"] ).sort_values(by=\"Candidate ID\")\n",
    "cndrb_g_df"
   ]
  },
  {
   "cell_type": "code",
   "execution_count": 28,
   "id": "3fa50bcb-766a-48db-b001-303198712386",
   "metadata": {},
   "outputs": [],
   "source": [
    "candids, numobjs = np.unique( cndrb_g_df[\"Candidate ID\"], return_counts=True )\n",
    "rbs_raw = np.asarray( cndrb_g_df[\"RB score\"].astype(np.float64) )"
   ]
  },
  {
   "cell_type": "code",
   "execution_count": 29,
   "id": "0d6fbc55-2ade-4cde-8d64-0a4640c99d1e",
   "metadata": {},
   "outputs": [],
   "source": [
    "# This cell takes a minute or two to run\n",
    "rbs_mean = [ np.mean( rbs_raw[ np.sum(numobjs[0:i]):np.sum(numobjs[0:i+1]) ] ) for i in range(len( candids ))]\n",
    "rbs_median = [ np.median( rbs_raw[ np.sum(numobjs[0:i]):np.sum(numobjs[0:i+1]) ] ) for i in range(len( candids ))]"
   ]
  },
  {
   "cell_type": "code",
   "execution_count": 30,
   "id": "692ceda8-b795-4c8c-bcc6-96a04a2c5b67",
   "metadata": {},
   "outputs": [
    {
     "name": "stdout",
     "output_type": "stream",
     "text": [
      " Each data point is one candidate, and detections with rb < 0.6 are neglected\n"
     ]
    },
    {
     "data": {
      "image/png": "[encoded data removed]",
      "text/plain": [
       "<Figure size 576x360 with 1 Axes>"
      ]
     },
     "metadata": {
      "needs_background": "light"
     },
     "output_type": "display_data"
    }
   ],
   "source": [
    "plt.figure( figsize=(8,5) )\n",
    "plt.scatter( numobjs, rbs_mean )\n",
    "plt.xlabel( \"Number of detections\" )\n",
    "plt.ylabel( \"Average rb score\" )\n",
    "print(\" Each data point is one candidate, and detections with rb < 0.6 are neglected\" )"
   ]
  },
  {
   "cell_type": "code",
   "execution_count": 31,
   "id": "a03bb17d-6a03-4446-91ff-ef6a0c4bc276",
   "metadata": {},
   "outputs": [
    {
     "name": "stdout",
     "output_type": "stream",
     "text": [
      "Each data point is one candidate, and detections with rb < 0.6 are neglected\n"
     ]
    },
    {
     "data": {
      "image/png": "[encoded data removed]",
      "text/plain": [
       "<Figure size 576x360 with 1 Axes>"
      ]
     },
     "metadata": {
      "needs_background": "light"
     },
     "output_type": "display_data"
    }
   ],
   "source": [
    "plt.figure( figsize=(8,5) )\n",
    "plt.scatter( numobjs, rbs_median )\n",
    "plt.xlabel( \"Number of detections\" )\n",
    "plt.ylabel( \"Median rb score\" )\n",
    "print( \"Each data point is one candidate, and detections with rb < 0.6 are neglected\" )"
   ]
  },
  {
   "cell_type": "code",
   "execution_count": 32,
   "id": "7b970857-9afb-4658-9893-46740ef3d570",
   "metadata": {},
   "outputs": [
    {
     "data": {
      "text/plain": [
       "array([[1.00000000e+00, 1.95086278e+00, 2.06281471e+00, 2.69702213e+01],\n",
       "       [1.00000000e+00, 1.97239671e+00, 2.07567787e+00, 2.70201250e+01],\n",
       "       [1.00000000e+00, 2.01037913e+00, 1.95029831e+00, 2.69296277e+01],\n",
       "       ...,\n",
       "       [1.53900000e+03, 1.11895466e+00, 7.84118652e+00, 2.92717657e+01],\n",
       "       [1.53900000e+03, 1.21637674e+00, 7.51068115e+00, 2.91984804e+01],\n",
       "       [1.53900000e+03, 1.10781579e+00, 7.61309814e+00, 2.92641965e+01]])"
      ]
     },
     "execution_count": 32,
     "metadata": {},
     "output_type": "execute_result"
    }
   ],
   "source": [
    "query = ( 'SELECT exposure_id, seeing, skysig, magzp FROM subtractions s '\n",
    "         'WHERE q3c_radial_query(s.ra,s.dec,150,2.2,3) '\n",
    "         'ORDER BY exposure_id ')\n",
    "cursor.execute( query )\n",
    "\n",
    "t = np.array( cursor.fetchall() )\n",
    "t"
   ]
  },
  {
   "cell_type": "markdown",
   "id": "f7d7ce5a-1311-4df0-b296-8d541e5db7f5",
   "metadata": {},
   "source": [
    "#### How does the distance to the moon affect the number of good detections? (COSMOS)"
   ]
  },
  {
   "cell_type": "code",
   "execution_count": 91,
   "id": "06d71617-80d5-4d02-8bfc-080758ec58a0",
   "metadata": {},
   "outputs": [],
   "source": [
    "query = ( 'SELECT o.id, s.exposure_id, e.mjd, e.ra, e.dec, e.filter FROM objects o '\n",
    "         'JOIN subtractions s ON o.subtraction_id=s.id '\n",
    "         'JOIN exposures e ON e.id=s.exposure_id '\n",
    "         'WHERE q3c_radial_query(o.ra,o.dec,150,2.2,3) ' \n",
    "         'AND o.rb>0.6 '\n",
    "         'LIMIT 10000000' )\n",
    "\n",
    "cursor.execute( query )\n",
    "\n",
    "moonquery = np.array( cursor.fetchall() ).transpose()"
   ]
  },
  {
   "cell_type": "code",
   "execution_count": 92,
   "id": "0c765911-764c-4b62-892b-a75ff2a916da",
   "metadata": {},
   "outputs": [],
   "source": [
    "# Counting the number of objects in each exposure (objs) and masking the dates, filters, and coordinates to match\n",
    "exps, indices, objs = np.unique( moonquery[1], return_counts=True, return_index=True )\n",
    "mjds = moonquery[2][indices].astype(np.float)\n",
    "filters = moonquery[5][indices]\n",
    "obs_coords = GCRS( ra = moonquery[3][indices].astype(np.float)*u.deg, dec = moonquery[4][indices].astype(np.float)*u.deg, representation_type=None )\n",
    "\n",
    "# Putting it into a Pandas DataFrame to keep better track of what is what\n",
    "moon_df = pd.DataFrame(np.array([exps,objs,filters,mjds, obs_coords]).transpose(), columns = ['ExpID', 'Objs', 'Filter', 'MJD', 'ObsCoords'])"
   ]
  },
  {
   "cell_type": "code",
   "execution_count": 93,
   "id": "f1c6b761-6e05-4398-974a-8cec5828cff1",
   "metadata": {},
   "outputs": [],
   "source": [
    "# Calculate the Moon's coordinates at time of observation and put them into a new column\n",
    "moon_df['MJD'] = [Time(i, format='mjd') for i in moon_df['MJD']]\n",
    "moon_df[\"MoonCoords\"] = [get_moon(i) for i in moon_df['MJD']]"
   ]
  },
  {
   "cell_type": "code",
   "execution_count": 94,
   "id": "51df5681-716b-4527-b532-8291b2d77a55",
   "metadata": {},
   "outputs": [],
   "source": [
    "# Calculate the great circle distance separation between the observation and the Moon and put it in a new column\n",
    "moon_df['MoonSep'] = [moon_df['ObsCoords'][i].separation(moon_df['MoonCoords'][i]) for i in range(len(moon_df['ExpID']))]\n",
    "moon_df['MoonSep'] = [i.value for i in moon_df['MoonSep']]"
   ]
  },
  {
   "cell_type": "code",
   "execution_count": 95,
   "id": "1bed75d8-f840-4ca9-8668-d8ca7af21dd8",
   "metadata": {},
   "outputs": [
    {
     "data": {
      "image/png": "[encoded data removed]",
      "text/plain": [
       "<Figure size 576x360 with 1 Axes>"
      ]
     },
     "metadata": {
      "needs_background": "light"
     },
     "output_type": "display_data"
    }
   ],
   "source": [
    "# Create masks for different filters\n",
    "gmsk = np.where(moon_df[\"Filter\"]=='g')[0]\n",
    "rmsk = np.where(moon_df[\"Filter\"]=='r')[0]\n",
    "imsk = np.where(moon_df[\"Filter\"]=='i')[0]\n",
    "\n",
    "# Plot\n",
    "plt.figure(figsize=(8,5))\n",
    "plt.scatter(moon_df['MoonSep'][gmsk], moon_df['Objs'][gmsk], color='g', label='g')\n",
    "plt.scatter(moon_df['MoonSep'][rmsk], moon_df['Objs'][rmsk], color='r', label='r')\n",
    "plt.scatter(moon_df['MoonSep'][imsk], moon_df['Objs'][imsk], color='b', label='i')\n",
    "plt.xlabel('Moon distance (deg)')\n",
    "plt.ylabel('\"Good\" detections per image')\n",
    "plt.legend();"
   ]
  },
  {
   "cell_type": "markdown",
   "id": "4c9b9d27-1bbf-4fc8-a84a-69213463da9b",
   "metadata": {},
   "source": [
    "#### How does the distance to the moon affect the number of good detections? (COSMOS) (This section uses the 'moondata.txt' lookup table but gets the same result as above, so I have it commented out)"
   ]
  },
  {
   "cell_type": "code",
   "execution_count": 169,
   "id": "c24dd830-d68f-4834-be16-39b77e2a1a34",
   "metadata": {},
   "outputs": [],
   "source": [
    "# query = ( 'SELECT o.candidate_id, e.filename, e.filter FROM objects o '\n",
    "#          'JOIN subtractions s ON o.subtraction_id=s.id '\n",
    "#          'JOIN exposures e ON e.id=s.exposure_id '\n",
    "#          'WHERE q3c_radial_query(o.ra,o.dec,150,2.2,3) ' \n",
    "#          'AND o.rb>0.6 '\n",
    "#          'LIMIT 10000000' )\n",
    "\n",
    "# cursor.execute( query )\n",
    "\n",
    "# moonquery2 = np.array( cursor.fetchall() ).transpose()"
   ]
  },
  {
   "cell_type": "code",
   "execution_count": 170,
   "id": "214f2564-e1d1-41b9-ae03-81fa078afccc",
   "metadata": {},
   "outputs": [],
   "source": [
    "# fnms = [moonquery2[1][i][:21] for i in range(len(moonquery2[1]))] # truncate filenames to match lookup table format\n",
    "# cands, index, objsperimg = np.unique(moonquery2[1], return_index=True, return_counts=True)\n",
    "# table = np.loadtxt(\"moondata.txt\", dtype=np.str).transpose()\n",
    "# fnms = np.array(fnms)[index]\n",
    "# moondist = np.ones(len(fnms))\n",
    "# for i in range(len(fnms)):\n",
    "#     moondist[i] = table[1][np.where(fnms[i] == table[0])[0]]"
   ]
  },
  {
   "cell_type": "code",
   "execution_count": 171,
   "id": "235c503a-9c59-4344-8414-dc9145f185a7",
   "metadata": {},
   "outputs": [],
   "source": [
    "# # Create masks for different filters\n",
    "# gmsk = np.where(moonquery2[2][index]=='g')[0]\n",
    "# rmsk = np.where(moonquery2[2][index]=='r')[0]\n",
    "# imsk = np.where(moonquery2[2][index]=='i')[0]"
   ]
  },
  {
   "cell_type": "code",
   "execution_count": 172,
   "id": "deedc69d-179b-486c-bbcf-edb7a91262ef",
   "metadata": {},
   "outputs": [],
   "source": [
    "# # Plotting it all up, looks the same as before\n",
    "\n",
    "# plt.figure(figsize=(8,5))\n",
    "# plt.scatter(moondist[gmsk], objsperimg[gmsk], color='g', label='g')\n",
    "# plt.scatter(moondist[rmsk], objsperimg[rmsk], color='r', label='r')\n",
    "# plt.scatter(moondist[imsk], objsperimg[imsk], color='b', label='i')\n",
    "# plt.xlabel('Moon distance (deg)')\n",
    "# plt.ylabel('\"Good\" detections per image')\n",
    "# plt.legend();"
   ]
  },
  {
   "cell_type": "markdown",
   "id": "018bed43-db3b-4335-84a5-4149e5b1ddb1",
   "metadata": {},
   "source": [
    "#### How does moon illumination affect the number of good detections per image? (uses lookup table 'moondata.txt')"
   ]
  },
  {
   "cell_type": "code",
   "execution_count": 173,
   "id": "c686de68-79c4-40d8-8a89-4eb0c7142a11",
   "metadata": {},
   "outputs": [],
   "source": [
    "query = ( 'SELECT o.candidate_id, e.filename, e.filter FROM objects o '\n",
    "         'JOIN subtractions s ON o.subtraction_id=s.id '\n",
    "         'JOIN exposures e ON e.id=s.exposure_id '\n",
    "         'WHERE q3c_radial_query(o.ra,o.dec,150,2.2,3) ' \n",
    "         'AND o.rb>0.6 '\n",
    "         'LIMIT 10000000' )\n",
    "\n",
    "cursor.execute( query )\n",
    "\n",
    "moonquery2 = np.array( cursor.fetchall() ).transpose()"
   ]
  },
  {
   "cell_type": "code",
   "execution_count": 174,
   "id": "5e8944a9-e344-4b92-85ca-463ef6523702",
   "metadata": {},
   "outputs": [],
   "source": [
    "fnms = [ moonquery2[1][i][:21] for i in range( len( moonquery2[1] ) ) ] # truncate filenames to match lookup table format\n",
    "cands, index, objsperimg = np.unique( moonquery2[1], return_index=True, return_counts=True )\n",
    "\n",
    "moonlt = np.loadtxt( \"moondata.txt\", dtype=np.str ).transpose()\n",
    "\n",
    "fnms = np.array( fnms )[index]\n",
    "illum = np.ones( len( fnms ) )\n",
    "for i in range( len( fnms ) ):\n",
    "    illum[i] = moonlt[2][ np.where( fnms[i] == moonlt[0] )[0] ]"
   ]
  },
  {
   "cell_type": "code",
   "execution_count": 175,
   "id": "4462064c-693f-484c-b286-563858582f3e",
   "metadata": {},
   "outputs": [],
   "source": [
    "# Create masks for different filters\n",
    "gmsk = np.where( moonquery2[2][index]=='g' )[0]\n",
    "rmsk = np.where( moonquery2[2][index]=='r' )[0]\n",
    "imsk = np.where( moonquery2[2][index]=='i' )[0]"
   ]
  },
  {
   "cell_type": "code",
   "execution_count": 176,
   "id": "93c831f2-578f-4dea-8847-51afb3702f89",
   "metadata": {},
   "outputs": [
    {
     "data": {
      "image/png": "[encoded data removed]",
      "text/plain": [
       "<Figure size 576x360 with 1 Axes>"
      ]
     },
     "metadata": {
      "needs_background": "light"
     },
     "output_type": "display_data"
    }
   ],
   "source": [
    "# Plotting it\n",
    "\n",
    "plt.figure( figsize=(8,5) )\n",
    "plt.scatter( illum[gmsk], objsperimg[gmsk], color='g', label='g' )\n",
    "plt.scatter( illum[rmsk], objsperimg[rmsk], color='r', label='r' )\n",
    "plt.scatter( illum[imsk], objsperimg[imsk], color='b', label='i' )\n",
    "plt.xlabel( 'Moon illumination (fractional)' )\n",
    "plt.ylabel( '\"Good\" detections per image' )\n",
    "plt.legend();"
   ]
  },
  {
   "cell_type": "markdown",
   "id": "51513cf6-f874-4f6d-b5ab-ef1c54a4520b",
   "metadata": {},
   "source": [
    "#### How does median pixel value affect number of good detections? (uses lookup table 'medpixval.txt')"
   ]
  },
  {
   "cell_type": "code",
   "execution_count": 177,
   "id": "cdaec078-b4ce-48c5-9a9f-3ed11f817f7c",
   "metadata": {},
   "outputs": [],
   "source": [
    "query = ( 'SELECT o.candidate_id, e.filename, e.filter FROM objects o '\n",
    "         'JOIN subtractions s ON o.subtraction_id=s.id '\n",
    "         'JOIN exposures e ON e.id=s.exposure_id '\n",
    "         'WHERE q3c_radial_query(o.ra,o.dec,150,2.2,3) ' \n",
    "         'AND o.rb>0.6 '\n",
    "         'LIMIT 10000000' )\n",
    "\n",
    "cursor.execute( query )\n",
    "\n",
    "pixvalquery = np.array( cursor.fetchall() ).transpose()"
   ]
  },
  {
   "cell_type": "code",
   "execution_count": 178,
   "id": "66617cf0-b3dc-4362-bfcb-f7e39243a11a",
   "metadata": {},
   "outputs": [],
   "source": [
    "fnms = [pixvalquery[1][i][:21] for i in range(len(pixvalquery[1]))] # truncate filenames to match lookup table format\n",
    "cands, index, objsperimg = np.unique(pixvalquery[1], return_index=True, return_counts=True)\n",
    "pixvallt = np.loadtxt(\"medpixval.txt\", dtype=np.str).transpose()\n",
    "fnms = np.array(fnms)[index]\n",
    "pixval = np.ones(len(fnms))\n",
    "for i in range(len(fnms)):\n",
    "    pixval[i] = pixvallt[1][np.where(fnms[i] == pixvallt[0])[0]]"
   ]
  },
  {
   "cell_type": "code",
   "execution_count": 179,
   "id": "8770775f-035a-48d2-bcba-1aa84d1f4a9f",
   "metadata": {},
   "outputs": [],
   "source": [
    "# Create masks for different filters\n",
    "gmsk = np.where(pixvalquery[2][index]=='g')[0]\n",
    "rmsk = np.where(pixvalquery[2][index]=='r')[0]\n",
    "imsk = np.where(pixvalquery[2][index]=='i')[0]"
   ]
  },
  {
   "cell_type": "code",
   "execution_count": 180,
   "id": "8b3332b7-d468-4821-8678-d65cd7052ddb",
   "metadata": {},
   "outputs": [
    {
     "data": {
      "image/png": "[encoded data removed]",
      "text/plain": [
       "<Figure size 576x360 with 1 Axes>"
      ]
     },
     "metadata": {
      "needs_background": "light"
     },
     "output_type": "display_data"
    }
   ],
   "source": [
    "plt.figure(figsize=(8,5))\n",
    "plt.scatter(pixval[gmsk], objsperimg[gmsk], color='g', label='g')\n",
    "plt.scatter(pixval[rmsk], objsperimg[rmsk], color='r', label='r')\n",
    "plt.scatter(pixval[imsk], objsperimg[imsk], color='b', label='i')\n",
    "plt.xlabel('Median pixel value')\n",
    "plt.ylabel('\"Good\" detections per image')\n",
    "plt.legend();"
   ]
  },
  {
   "cell_type": "markdown",
   "id": "ba8fa223-0fc6-4d36-b325-bc6a7f787f7d",
   "metadata": {},
   "source": [
    "#### How does seeing affect the number of good detections? (COSMOS)"
   ]
  },
  {
   "cell_type": "code",
   "execution_count": 52,
   "id": "6bade577-e3f9-48fe-98d1-37305eb95518",
   "metadata": {},
   "outputs": [],
   "source": [
    "query = ( 'SELECT o.id, s.id, s.seeing, e.filter, e.id FROM objects o '\n",
    "         'JOIN subtractions s ON o.subtraction_id=s.id '\n",
    "         'JOIN exposures e ON e.id=s.exposure_id '\n",
    "         'WHERE q3c_radial_query(o.ra,o.dec,150,2.2,3) ' \n",
    "         'AND o.rb>0.6 '\n",
    "         'LIMIT 10000000' )\n",
    "\n",
    "cursor.execute( query )\n",
    "\n",
    "seeingquery = np.array( cursor.fetchall() ).transpose()"
   ]
  },
  {
   "cell_type": "code",
   "execution_count": 105,
   "id": "faad1eeb-b5e1-4b66-80cb-e8666aebf74b",
   "metadata": {},
   "outputs": [],
   "source": [
    "expids = seeingquery[4].astype(np.int)\n",
    "seeing = seeingquery[2].astype(np.float)\n",
    "\n",
    "# Determine which exposure IDs are present\n",
    "expids_unique = np.unique(expids)\n",
    "\n",
    "# Find the average seeing for each exposure\n",
    "seeing = np.array( [np.mean( seeing[np.where( expids == i )[0]] ) for i in expids_unique] )"
   ]
  },
  {
   "cell_type": "code",
   "execution_count": 106,
   "id": "e8581a4e-8b7a-430b-b0e4-8eb552448582",
   "metadata": {},
   "outputs": [],
   "source": [
    "# determine how many objects are in each exposure, and create an array of filters resized in the same way\n",
    "exp, indices, objperimg = np.unique( seeingquery[4], return_counts=True, return_index=True )\n",
    "filters = seeingquery[3][indices]"
   ]
  },
  {
   "cell_type": "code",
   "execution_count": 107,
   "id": "bce3f58f-03b8-44c1-aff7-ab70fda6760e",
   "metadata": {},
   "outputs": [],
   "source": [
    "# Creating masks for each filter\n",
    "gmsk = np.where( filters == 'g' )[0]\n",
    "rmsk = np.where( filters == 'r' )[0]\n",
    "imsk = np.where( filters == 'i' )[0]"
   ]
  },
  {
   "cell_type": "code",
   "execution_count": 109,
   "id": "5597d058-4c7a-4018-bc81-1208f0b41291",
   "metadata": {},
   "outputs": [
    {
     "data": {
      "image/png": "[encoded data removed]",
      "text/plain": [
       "<Figure size 576x360 with 1 Axes>"
      ]
     },
     "metadata": {
      "needs_background": "light"
     },
     "output_type": "display_data"
    }
   ],
   "source": [
    "# Plotting it all up\n",
    "plt.figure(figsize=(8,5))\n",
    "plt.scatter(seeing, objperimg)\n",
    "plt.scatter( seeing[gmsk], objperimg[gmsk], color='g', label='g' )\n",
    "plt.scatter( seeing[rmsk], objperimg[rmsk], color='r', label='r' )\n",
    "plt.scatter( seeing[imsk], objperimg[imsk], color='b', label='i' )\n",
    "plt.xlabel( 'Seeing' )\n",
    "plt.ylabel( 'Good detections per image' )\n",
    "plt.legend();"
   ]
  },
  {
   "cell_type": "markdown",
   "id": "8819b04c-c934-4de0-adcd-8d857b8ea04d",
   "metadata": {},
   "source": [
    "#### How does magzp affect number of good detections? (COSMOS)"
   ]
  },
  {
   "cell_type": "code",
   "execution_count": 110,
   "id": "8d1ee5a0-34a8-4138-8231-7ae0d0a00a57",
   "metadata": {},
   "outputs": [],
   "source": [
    "query = ( 'SELECT o.id, s.id, s.magzp, e.filter, e.id FROM objects o '\n",
    "         'JOIN subtractions s ON o.subtraction_id=s.id '\n",
    "         'JOIN exposures e ON e.id=s.exposure_id '\n",
    "         'WHERE q3c_radial_query(o.ra,o.dec,150,2.2,3) ' \n",
    "         'AND o.rb>0.6 '\n",
    "         'LIMIT 10000000' )\n",
    "\n",
    "cursor.execute( query )\n",
    "\n",
    "magzpquery = np.array( cursor.fetchall() ).transpose()"
   ]
  },
  {
   "cell_type": "code",
   "execution_count": 111,
   "id": "d648d274-a8ef-44d3-855e-cd484fb42098",
   "metadata": {},
   "outputs": [],
   "source": [
    "expids = magzpquery[4].astype(np.int)\n",
    "magzp = magzpquery[2].astype(np.float)\n",
    "\n",
    "# Determine which exposure IDs are present\n",
    "expids_unique = np.unique(expids)\n",
    "\n",
    "# Find the average magzp for each exposure\n",
    "magzp = np.array( [np.mean( magzp[np.where( expids == i )[0]] ) for i in expids_unique] )"
   ]
  },
  {
   "cell_type": "code",
   "execution_count": 112,
   "id": "f1b15aae-6e27-4a69-afd1-d2af3708dbcd",
   "metadata": {},
   "outputs": [],
   "source": [
    "# determine how many objects are in each exposure, and create an array of filters resized in the same way\n",
    "exp, indices, objperimg = np.unique( magzpquery[4], return_counts=True, return_index=True )\n",
    "filters = magzpquery[3][indices]"
   ]
  },
  {
   "cell_type": "code",
   "execution_count": 113,
   "id": "d4257d0c-e500-44a6-9b00-4039d9c449f2",
   "metadata": {},
   "outputs": [],
   "source": [
    "# Creating masks for each filter\n",
    "gmsk = np.where( filters == 'g' )[0]\n",
    "rmsk = np.where( filters == 'r' )[0]\n",
    "imsk = np.where( filters == 'i' )[0]"
   ]
  },
  {
   "cell_type": "code",
   "execution_count": 114,
   "id": "f9eb9670-c85c-4bce-aa86-7c141aaa61e3",
   "metadata": {},
   "outputs": [
    {
     "data": {
      "image/png": "[encoded data removed]",
      "text/plain": [
       "<Figure size 576x360 with 1 Axes>"
      ]
     },
     "metadata": {
      "needs_background": "light"
     },
     "output_type": "display_data"
    }
   ],
   "source": [
    "# Plotting it all up\n",
    "plt.figure(figsize=(8,5))\n",
    "plt.scatter(magzp, objperimg)\n",
    "plt.scatter( magzp[gmsk], objperimg[gmsk], color='g', label='g' )\n",
    "plt.scatter( magzp[rmsk], objperimg[rmsk], color='r', label='r' )\n",
    "plt.scatter( magzp[imsk], objperimg[imsk], color='b', label='i' )\n",
    "plt.xlabel( 'magzp' )\n",
    "plt.ylabel( 'Good detections per image' )\n",
    "plt.legend();"
   ]
  }
 ],
 "metadata": {
  "kernelspec": {
   "display_name": "Python 3",
   "language": "python",
   "name": "python3"
  },
  "language_info": {
   "codemirror_mode": {
    "name": "ipython",
    "version": 3
   },
   "file_extension": ".py",
   "mimetype": "text/x-python",
   "name": "python",
   "nbconvert_exporter": "python",
   "pygments_lexer": "ipython3",
   "version": "3.7.4"
  }
 },
 "nbformat": 4,
 "nbformat_minor": 5
}
