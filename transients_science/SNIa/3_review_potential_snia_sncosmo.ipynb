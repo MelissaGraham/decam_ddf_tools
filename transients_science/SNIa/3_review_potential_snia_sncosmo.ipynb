{
 "cells": [
  {
   "cell_type": "markdown",
   "id": "78028554-e03f-43d8-ade8-eae961e01340",
   "metadata": {
    "tags": []
   },
   "source": [
    "# Review and flag the fit results from `sncosmo`\n",
    "\n",
    "Authors: Midori Rollins and Melissa Graham\n",
    "\n",
    "Create and examine the distributions for the fit parameters `z`, `t0`, `x0`, `x1`, and `c`.\n",
    "\n",
    "Review the lightcurves for potential SNIa that have outlier fit parameters.\n",
    "\n",
    "Flag the reviewed lightcurves as 0 (ok) or 1 (poor).\n",
    "\n",
    "Write the fit flags to file `2_all_potential_snia_fits/results_sncosmos_fit_review.dat'`."
   ]
  },
  {
   "cell_type": "markdown",
   "id": "2eb32894-aa32-441a-9681-f10e255bb987",
   "metadata": {},
   "source": [
    "## Set up and read in data\n",
    "\n",
    "Import packages."
   ]
  },
  {
   "cell_type": "code",
   "execution_count": null,
   "id": "2c159a03-6baf-4cfc-ae6d-066fb60a0d4b",
   "metadata": {
    "tags": []
   },
   "outputs": [],
   "source": [
    "import numpy as np\n",
    "import matplotlib.pyplot as plt\n",
    "import time"
   ]
  },
  {
   "cell_type": "markdown",
   "id": "c31530c8-7045-40c4-8de9-de7dfb4f3076",
   "metadata": {},
   "source": [
    "Read in the `sncosmo` results.\n",
    "\n",
    "The fit peak magnitudes are read in but not used in this notebook."
   ]
  },
  {
   "cell_type": "code",
   "execution_count": null,
   "id": "19f6ee8c-0297-4136-9fb1-8676174a9d27",
   "metadata": {
    "tags": []
   },
   "outputs": [],
   "source": [
    "fnm = '2_all_potential_snia_fits/results_sncosmos.dat'\n",
    "\n",
    "fit_cand = np.loadtxt(fnm, dtype='str', usecols=(0))\n",
    "fit_est_z = np.loadtxt(fnm, dtype='float', usecols=(1))\n",
    "fit_in_zlo = np.loadtxt(fnm, dtype='float', usecols=(2))\n",
    "fit_in_zhi = np.loadtxt(fnm, dtype='float', usecols=(3))\n",
    "fit_z = np.loadtxt(fnm, dtype='float', usecols=(4))\n",
    "fit_ze = np.loadtxt(fnm, dtype='float', usecols=(5))\n",
    "fit_t0 = np.loadtxt(fnm, dtype='float', usecols=(6))\n",
    "fit_t0e = np.loadtxt(fnm, dtype='float', usecols=(7))\n",
    "fit_x0 = np.loadtxt(fnm, dtype='float', usecols=(8))\n",
    "fit_x0e = np.loadtxt(fnm, dtype='float', usecols=(9))\n",
    "fit_x1 = np.loadtxt(fnm, dtype='float', usecols=(10))\n",
    "fit_x1e = np.loadtxt(fnm, dtype='float', usecols=(11))\n",
    "fit_c = np.loadtxt(fnm, dtype='float', usecols=(12))\n",
    "fit_ce = np.loadtxt(fnm, dtype='float', usecols=(13))\n",
    "\n",
    "fit_pmB = np.loadtxt(fnm, dtype='float', usecols=(14))\n",
    "fit_pmg = np.loadtxt(fnm, dtype='float', usecols=(15))\n",
    "fit_pmr = np.loadtxt(fnm, dtype='float', usecols=(16))\n",
    "fit_pmi = np.loadtxt(fnm, dtype='float', usecols=(17))\n",
    "\n",
    "del fnm"
   ]
  },
  {
   "cell_type": "markdown",
   "id": "7a5ab8ee-c73e-4671-b162-f5af6d6d8dfd",
   "metadata": {},
   "source": [
    "## Explore the estimated and fit redshifts\n",
    "\n",
    "The fit redshifts are usually lower than the estimated redshifts."
   ]
  },
  {
   "cell_type": "code",
   "execution_count": null,
   "id": "42760bb6-5247-4d35-a61f-85e6f6ef9ee8",
   "metadata": {
    "tags": []
   },
   "outputs": [],
   "source": [
    "tx = np.where(fit_z > 0)[0]\n",
    "plt.plot([0.1, 0.6], [0.1, 0.6], alpha=0.4, color='grey')\n",
    "plt.plot(fit_est_z[tx], fit_z[tx], 'o', ms=5, mew=0, alpha=0.5, color='black')\n",
    "plt.plot(fit_in_zlo[tx], fit_z[tx], 'o', ms=2, mew=0, alpha=0.5, color='blue')\n",
    "plt.plot(fit_in_zhi[tx], fit_z[tx], 'o', ms=2, mew=0, alpha=0.5, color='red')\n",
    "plt.xlabel('estimated redshift')\n",
    "plt.ylabel('fit redshift')"
   ]
  },
  {
   "cell_type": "markdown",
   "id": "b55b7499-b1fc-4d3f-b869-c1a7ce26c55c",
   "metadata": {},
   "source": [
    "## Explore the parameter distributions for *all* fits\n",
    "\n",
    "At this stage, only reject any fits with values -99.9, which is the placeholder for \"no fit\"."
   ]
  },
  {
   "cell_type": "code",
   "execution_count": null,
   "id": "48ebf6ce-1869-46a8-948e-7215c9d953bb",
   "metadata": {
    "tags": []
   },
   "outputs": [],
   "source": [
    "tx = np.where(fit_z > -90.0)[0]\n",
    "\n",
    "fig, ax = plt.subplots(5, 2)\n",
    "fig.set_size_inches(13, 10)\n",
    "ax[0,0].hist(fit_z[tx], bins=20, density=False, histtype='stepfilled', color='lightseagreen')\n",
    "ax[0,0].set_xlabel('z')\n",
    "ax[0,1].hist(fit_ze[tx], bins=20, density=False, histtype='stepfilled', color='lightcoral')\n",
    "ax[0,1].set_xlabel('z error')\n",
    "ax[1,0].hist(fit_t0[tx], bins=20, density=False, histtype='stepfilled', color='lightseagreen')\n",
    "ax[1,0].set_xlabel('t0')\n",
    "ax[1,1].hist(fit_t0e[tx], bins=20, density=False, histtype='stepfilled', color='lightcoral')\n",
    "ax[1,1].set_xlabel('t0 error')\n",
    "ax[2,0].hist(fit_x0[tx], bins=20, density=False, histtype='stepfilled', color='lightseagreen')\n",
    "ax[2,0].set_xlabel('x0')\n",
    "ax[2,1].hist(fit_x0e[tx], bins=20, density=False, histtype='stepfilled', color='lightcoral')\n",
    "ax[2,1].set_xlabel('x0 error')\n",
    "ax[3,0].hist(fit_x1[tx], bins=20, density=False, histtype='stepfilled', color='lightseagreen')\n",
    "ax[3,0].set_xlabel('x1')\n",
    "ax[3,1].hist(fit_x1e[tx], bins=20, density=False, histtype='stepfilled', color='lightcoral')\n",
    "ax[3,1].set_xlabel('x1 error')\n",
    "ax[4,0].hist(fit_c[tx], bins=20, density=False, histtype='stepfilled', color='lightseagreen')\n",
    "ax[4,0].set_xlabel('c')\n",
    "ax[4,1].hist(fit_ce[tx], bins=20, density=False, histtype='stepfilled', color='lightcoral')\n",
    "ax[4,1].set_xlabel('c error')\n",
    "fig.tight_layout()\n",
    "fig.show()"
   ]
  },
  {
   "cell_type": "markdown",
   "id": "22f410f0-2cb7-42d1-99f7-08c07b675987",
   "metadata": {},
   "source": [
    "## Explore candidates with outlier parameter values\n",
    "\n",
    "The main distributions for the fit paramaters are:\n",
    " * `z` < 0.45\n",
    " * `t0` (all MJD ok)\n",
    " * `x0` < 0.0001\n",
    " *`x1` < 5\n",
    " * -0.3 < `c` < 0.3\n",
    " \n",
    "The main distributions for the fit errors are:\n",
    " * `ze` < 0.06\n",
    " * `t0e` < 2\n",
    " * `x0e` < 0.00001\n",
    " * `x1e` < 1.5\n",
    " * `ce` < 0.15\n",
    "\n",
    "Identify the candidates which have outlier values in the parameter and error distributions."
   ]
  },
  {
   "cell_type": "code",
   "execution_count": null,
   "id": "e6bb6ff1-0161-4515-92f1-25f5df5cf73e",
   "metadata": {
    "tags": []
   },
   "outputs": [],
   "source": [
    "tx_z = np.where((fit_z < 0.1) | (fit_z > 0.45))[0]\n",
    "tx_x0 = np.where(fit_x0 > 0.0001)[0]\n",
    "tx_x1 = np.where(fit_x1 > 5)[0]\n",
    "tx_c  = np.where((fit_c < -0.3) | (fit_c > 0.3))[0]\n",
    "\n",
    "print('Number of candidates with outlier values for')\n",
    "print('z: ', len(tx_z))\n",
    "print('x0: ', len(tx_x0))\n",
    "print('x1: ', len(tx_x1))\n",
    "print('c: ', len(tx_c))\n",
    "\n",
    "print(' ')\n",
    "\n",
    "tx_ze  = np.where(fit_ze > 0.06)[0]\n",
    "tx_t0e = np.where(fit_t0e > 2)[0]\n",
    "tx_x0e = np.where(fit_x0e > 0.00001)[0]\n",
    "tx_x1e = np.where(fit_x1e > 1.5)[0]\n",
    "tx_ce  = np.where(fit_ce > 0.15)[0]\n",
    "\n",
    "print('Number of candidates with outlier errors for')\n",
    "print('ze: ', len(tx_ze))\n",
    "print('t0e: ', len(tx_t0e))\n",
    "print('x0e: ', len(tx_x0e))\n",
    "print('x1e: ', len(tx_x1e))\n",
    "print('ce: ', len(tx_ce))"
   ]
  },
  {
   "cell_type": "markdown",
   "id": "5b5b9a9f-16c3-4a19-bc73-10686526ff3b",
   "metadata": {},
   "source": [
    "Get a list of candidate ids to review:"
   ]
  },
  {
   "cell_type": "code",
   "execution_count": null,
   "id": "c42aa2f5-a43c-4aea-83a6-555c4c6d963b",
   "metadata": {
    "tags": []
   },
   "outputs": [],
   "source": [
    "temp = []\n",
    "\n",
    "for x in tx_z:\n",
    "    temp.append(fit_cand[x])\n",
    "for x in tx_x0:\n",
    "    temp.append(fit_cand[x])\n",
    "for x in tx_x1:\n",
    "    temp.append(fit_cand[x])\n",
    "for x in tx_c:\n",
    "    temp.append(fit_cand[x])\n",
    "for x in tx_ze:\n",
    "    temp.append(fit_cand[x])\n",
    "for x in tx_t0e:\n",
    "    temp.append(fit_cand[x])\n",
    "for x in tx_x0e:\n",
    "    temp.append(fit_cand[x])\n",
    "for x in tx_x1e:\n",
    "    temp.append(fit_cand[x])\n",
    "for x in tx_ce:\n",
    "    temp.append(fit_cand[x])\n",
    "    \n",
    "temp2 = np.asarray(temp, dtype='str')\n",
    "outlier_cand = np.unique(np.sort(temp2))\n",
    "del temp, temp2\n",
    "\n",
    "print(outlier_cand)\n",
    "print(len(outlier_cand), ' candidates to visually review')"
   ]
  },
  {
   "cell_type": "markdown",
   "id": "d7d9a039-b127-4c37-baed-f3a48664f0d8",
   "metadata": {},
   "source": [
    "### Review and flag LCs with outlier fit values\n",
    "\n",
    "Opened the file `2_all_potential_snia_fits/all_fit_snia.pdf` and reviewed the `sncosmo` fits for all.\n",
    "You can page search (command-F) on the candidate id to find the `sncosmo` fit plot.\n",
    "\n",
    "```\n",
    "0 : good, looks SNIa-like\n",
    "1 : LC ok, but unclear whether SNIa-like\n",
    "2 : poor LC or not SNIa-like\n",
    "```"
   ]
  },
  {
   "cell_type": "code",
   "execution_count": null,
   "id": "c3f5bc2d-a0d2-4813-8d3d-1185107aebe6",
   "metadata": {
    "tags": []
   },
   "outputs": [],
   "source": [
    "fnm = '2_all_potential_snia_fits/MLG_review_ratings.txt'\n",
    "col0 = np.loadtxt(fnm, dtype='str', usecols={0})\n",
    "col1 = np.loadtxt(fnm, dtype='int', usecols={1})"
   ]
  },
  {
   "cell_type": "code",
   "execution_count": null,
   "id": "02fb03aa-70da-4ef2-85d4-6d0d6ecd051d",
   "metadata": {
    "tags": []
   },
   "outputs": [],
   "source": [
    "mlg_cand_review = {}"
   ]
  },
  {
   "cell_type": "code",
   "execution_count": null,
   "id": "e94963fd-f645-4ef9-9a96-8abe7ca44843",
   "metadata": {
    "tags": []
   },
   "outputs": [],
   "source": [
    "for c in range(len(col0)):\n",
    "    mlg_cand_review[col0[c]] = col1[c]"
   ]
  },
  {
   "cell_type": "code",
   "execution_count": null,
   "id": "0cb979c1-85cf-496f-8de2-684deda46e24",
   "metadata": {
    "tags": []
   },
   "outputs": [],
   "source": [
    "# mlg_cand_review"
   ]
  },
  {
   "cell_type": "markdown",
   "id": "f7710f4d-85e8-4c64-9b04-ebcbbfb1484e",
   "metadata": {},
   "source": [
    "Define a `fit_flag` array to be used with the rest of the `fit_` arrays."
   ]
  },
  {
   "cell_type": "code",
   "execution_count": null,
   "id": "222c07f4-84a0-4c30-abb5-2d74841492bf",
   "metadata": {
    "tags": []
   },
   "outputs": [],
   "source": [
    "fit_flag = np.zeros(len(fit_z), dtype='float')\n",
    "for c, cand in enumerate(fit_cand):\n",
    "    if cand in mlg_cand_review:\n",
    "        fit_flag[c] = mlg_cand_review[cand]"
   ]
  },
  {
   "cell_type": "markdown",
   "id": "c3b30e6f-4770-4f48-84c0-c004ec20a01e",
   "metadata": {},
   "source": [
    "This is how the `fit_flag` array can work."
   ]
  },
  {
   "cell_type": "code",
   "execution_count": null,
   "id": "ed827747-a5cc-41ac-9f0a-011d6f782d0d",
   "metadata": {
    "tags": []
   },
   "outputs": [],
   "source": [
    "tx = np.where(fit_flag == 1)[0]\n",
    "print(fit_cand[tx])\n",
    "del tx"
   ]
  },
  {
   "cell_type": "markdown",
   "id": "52bfa6a0-4b60-4582-af72-138a02c459e2",
   "metadata": {},
   "source": [
    "Double check that none of the outliers are missing from `mlg_cand_review` dictionary."
   ]
  },
  {
   "cell_type": "code",
   "execution_count": null,
   "id": "58020972-facd-4a21-b8da-30f93c368136",
   "metadata": {
    "tags": []
   },
   "outputs": [],
   "source": [
    "for cand in outlier_cand:\n",
    "    if cand not in mlg_cand_review:\n",
    "        print(cand, ' not yet a key in mlg_cand_review')"
   ]
  },
  {
   "cell_type": "markdown",
   "id": "d977f6af-4ed9-43e0-9f99-8ea3d3e06ef0",
   "metadata": {},
   "source": [
    "If any candidate ids are printed above, review their lightcurve fits and add a review flag to\n",
    "the cell above."
   ]
  },
  {
   "cell_type": "code",
   "execution_count": null,
   "id": "dcc9a887-cda5-44c8-a617-a2d86cfdf81e",
   "metadata": {
    "tags": []
   },
   "outputs": [],
   "source": [
    "for cand in fit_cand:\n",
    "    if cand not in mlg_cand_review:\n",
    "        print(cand, ' not yet a key in mlg_cand_review')"
   ]
  },
  {
   "cell_type": "markdown",
   "id": "59e4e6bb-3ee6-4588-b81d-d2156ea98f2e",
   "metadata": {},
   "source": [
    "### Replot distributions without the flagged candidates"
   ]
  },
  {
   "cell_type": "code",
   "execution_count": null,
   "id": "f931d4fa-a26c-4efe-827c-4d7e98c8c58a",
   "metadata": {
    "tags": []
   },
   "outputs": [],
   "source": [
    "tx = np.where(fit_flag == 0)[0]\n",
    "\n",
    "fig, ax = plt.subplots(5, 2)\n",
    "fig.set_size_inches(13, 10)\n",
    "ax[0,0].hist(fit_z[tx], bins=20, density=False, histtype='stepfilled', color='lightseagreen')\n",
    "ax[0,0].set_xlabel('z')\n",
    "ax[0,1].hist(fit_ze[tx], bins=20, density=False, histtype='stepfilled', color='lightcoral')\n",
    "ax[0,1].set_xlabel('z error')\n",
    "ax[1,0].hist(fit_t0[tx], bins=20, density=False, histtype='stepfilled', color='lightseagreen')\n",
    "ax[1,0].set_xlabel('t0')\n",
    "ax[1,1].hist(fit_t0e[tx], bins=20, density=False, histtype='stepfilled', color='lightcoral')\n",
    "ax[1,1].set_xlabel('t0 error')\n",
    "ax[2,0].hist(fit_x0[tx], bins=20, density=False, histtype='stepfilled', color='lightseagreen')\n",
    "ax[2,0].set_xlabel('x0')\n",
    "ax[2,1].hist(fit_x0e[tx], bins=20, density=False, histtype='stepfilled', color='lightcoral')\n",
    "ax[2,1].set_xlabel('x0 error')\n",
    "ax[3,0].hist(fit_x1[tx], bins=20, density=False, histtype='stepfilled', color='lightseagreen')\n",
    "ax[3,0].set_xlabel('x1')\n",
    "ax[3,1].hist(fit_x1e[tx], bins=20, density=False, histtype='stepfilled', color='lightcoral')\n",
    "ax[3,1].set_xlabel('x1 error')\n",
    "ax[4,0].hist(fit_c[tx], bins=20, density=False, histtype='stepfilled', color='lightseagreen')\n",
    "ax[4,0].set_xlabel('c')\n",
    "ax[4,1].hist(fit_ce[tx], bins=20, density=False, histtype='stepfilled', color='lightcoral')\n",
    "ax[4,1].set_xlabel('c error')\n",
    "fig.tight_layout()\n",
    "fig.show()"
   ]
  },
  {
   "cell_type": "code",
   "execution_count": null,
   "id": "6398edf8-19f2-4e3d-a5e0-94af3b894c94",
   "metadata": {
    "tags": []
   },
   "outputs": [],
   "source": [
    "tx_z = np.where((fit_flag == 0) & (fit_z < 0.22))[0]\n",
    "print(fit_cand[tx_z])\n",
    "del tx_z"
   ]
  },
  {
   "cell_type": "markdown",
   "id": "921e3777-bb75-4d10-b490-75213e87fdce",
   "metadata": {},
   "source": [
    "## Explore Midori's fit review flags\n",
    "\n",
    "After looking through the PDF of fits for all candidates, all were rated as good, maybe, or bad.\n",
    "\n",
    "> **0 = Good**: sncosmo fits our data very well; our data captures both the rise \n",
    "and fall of the supernova; has typical parameter values w/out large errors\n",
    "\n",
    "> **1 = Maybe**: sncosmo fits our data somewhat well; not enough data/our data only \n",
    "captures the incline/decline of the supernova; may have abnormal parameter values & large errors; missing in a band\n",
    "\n",
    "> **2 = Bad**: sncosmo does not fit our data well; our data is bad/clearly not \n",
    "type 1a-like; has abnormal parameter values w/ large errors"
   ]
  },
  {
   "cell_type": "code",
   "execution_count": null,
   "id": "0df03594-5191-4794-bd52-d29e8f8f4c76",
   "metadata": {
    "tags": []
   },
   "outputs": [],
   "source": [
    "fnm = '2_all_potential_snia_fits/MR_review_ratings.txt'\n",
    "mr_rating_candid = np.loadtxt(fnm, dtype='str', usecols=(0))\n",
    "mr_rating_flag   = np.loadtxt(fnm, dtype='int', usecols=(1))"
   ]
  },
  {
   "cell_type": "code",
   "execution_count": null,
   "id": "fdd297b8-2476-4c11-b76e-2d321ee3ae6c",
   "metadata": {
    "tags": []
   },
   "outputs": [],
   "source": [
    "fit_flagMR = np.zeros(len(fit_flag), dtype='int')\n",
    "\n",
    "for c, cand in enumerate(fit_cand):\n",
    "    cx = np.where(cand == mr_rating_candid)[0]\n",
    "    if len(cx) == 1:\n",
    "        fit_flagMR[c] = mr_rating_flag[cx[0]]\n",
    "    elif len(cx) != 1:\n",
    "        print('Add to MR_review_ratings.txt: ', cand)"
   ]
  },
  {
   "cell_type": "markdown",
   "id": "f1b11861-9a1d-4fe3-8a4a-a877518596ac",
   "metadata": {},
   "source": [
    "#### Replot distributions without Midori's flagged candidates"
   ]
  },
  {
   "cell_type": "code",
   "execution_count": null,
   "id": "9874e365-99c3-461a-abc9-e7fba456b09f",
   "metadata": {
    "tags": []
   },
   "outputs": [],
   "source": [
    "tx = np.where(fit_flagMR == 0)[0]\n",
    "\n",
    "fig, ax = plt.subplots(5, 2)\n",
    "fig.set_size_inches(13, 10)\n",
    "ax[0,0].hist(fit_z[tx], bins=20, density=False, histtype='stepfilled', color='lightseagreen')\n",
    "ax[0,0].set_xlabel('z')\n",
    "ax[0,1].hist(fit_ze[tx], bins=20, density=False, histtype='stepfilled', color='lightcoral')\n",
    "ax[0,1].set_xlabel('z error')\n",
    "ax[1,0].hist(fit_t0[tx], bins=20, density=False, histtype='stepfilled', color='lightseagreen')\n",
    "ax[1,0].set_xlabel('t0')\n",
    "ax[1,1].hist(fit_t0e[tx], bins=20, density=False, histtype='stepfilled', color='lightcoral')\n",
    "ax[1,1].set_xlabel('t0 error')\n",
    "ax[2,0].hist(fit_x0[tx], bins=20, density=False, histtype='stepfilled', color='lightseagreen')\n",
    "ax[2,0].set_xlabel('x0')\n",
    "ax[2,1].hist(fit_x0e[tx], bins=20, density=False, histtype='stepfilled', color='lightcoral')\n",
    "ax[2,1].set_xlabel('x0 error')\n",
    "ax[3,0].hist(fit_x1[tx], bins=20, density=False, histtype='stepfilled', color='lightseagreen')\n",
    "ax[3,0].set_xlabel('x1')\n",
    "ax[3,1].hist(fit_x1e[tx], bins=20, density=False, histtype='stepfilled', color='lightcoral')\n",
    "ax[3,1].set_xlabel('x1 error')\n",
    "ax[4,0].hist(fit_c[tx], bins=20, density=False, histtype='stepfilled', color='lightseagreen')\n",
    "ax[4,0].set_xlabel('c')\n",
    "ax[4,1].hist(fit_ce[tx], bins=20, density=False, histtype='stepfilled', color='lightcoral')\n",
    "ax[4,1].set_xlabel('c error')\n",
    "fig.tight_layout()\n",
    "fig.show()"
   ]
  },
  {
   "cell_type": "markdown",
   "id": "26e3c822-6759-48a1-9e6f-95477d601991",
   "metadata": {
    "tags": []
   },
   "source": [
    "It looks like one candidate has a good fit visually at first, but is quite bright compared to others. It also has very large x0 and c errors, which skews some of the plots in notebook *4_analyze_potential_snia_sncosmo.ipynb*"
   ]
  },
  {
   "cell_type": "code",
   "execution_count": null,
   "id": "187f25a3-7810-4756-b822-7f71c310388e",
   "metadata": {
    "tags": []
   },
   "outputs": [],
   "source": [
    "np.where(fit_ce >0.4)"
   ]
  },
  {
   "cell_type": "code",
   "execution_count": null,
   "id": "c23312ba-8516-4873-904e-36b3963aa7a4",
   "metadata": {
    "tags": []
   },
   "outputs": [],
   "source": [
    "print(fit_cand[74])\n",
    "print(f'x0 = {fit_x0[74]} \\n'\n",
    "      f'x0e = {fit_x0e[74]} \\n'\n",
    "      f'c = {fit_c[74]} \\n'\n",
    "      f'ce = {fit_ce[74]} \\n')"
   ]
  },
  {
   "cell_type": "code",
   "execution_count": null,
   "id": "567fe57f-951c-4e3c-b309-920db72e2269",
   "metadata": {
    "tags": []
   },
   "outputs": [],
   "source": [
    "from IPython.display import display, Image\n",
    "image = Image(filename='../SNIa/all_potential_snia_plots/DC22iykha.png',width=450)\n",
    "display(image)"
   ]
  },
  {
   "cell_type": "code",
   "execution_count": null,
   "id": "bb2c8479-e935-41cd-a1e4-643fe52a2a56",
   "metadata": {
    "tags": []
   },
   "outputs": [],
   "source": [
    "np.where(fit_x0 >0.0006)"
   ]
  },
  {
   "cell_type": "code",
   "execution_count": null,
   "id": "5942d482-e08e-4e4f-8384-6f152a7a3a11",
   "metadata": {
    "tags": []
   },
   "outputs": [],
   "source": [
    "print(fit_cand[84])\n",
    "print(f'x0 = {fit_x0[84]} \\n'\n",
    "      f'x0e = {fit_x0e[84]} \\n'\n",
    "      f'c = {fit_c[84]} \\n'\n",
    "      f'ce = {fit_ce[84]} \\n')"
   ]
  },
  {
   "cell_type": "code",
   "execution_count": null,
   "id": "3c4d5850-8535-4c83-92ba-42618830c0bf",
   "metadata": {
    "tags": []
   },
   "outputs": [],
   "source": [
    "from IPython.display import display, Image\n",
    "image = Image(filename='../SNIa/all_potential_snia_plots/DC23kdata.png',width=450)\n",
    "display(image)"
   ]
  },
  {
   "cell_type": "markdown",
   "id": "eb8b194d-6ce2-499e-8a11-6cb1d2fd3111",
   "metadata": {},
   "source": [
    "## Compare MLG and MR review flags\n",
    "\n",
    "Add in a bit of scatter just so we can see how many points are at each grid location.\n",
    "\n",
    " * Most of the candidates MLG flags as '1' (bad) are flagged by MR as '2' (bad).\n",
    " * None of the candidates MLG flags as '1' (bad) are flagged by MR as '0' (good).\n",
    " * Many of the candidates MR flags as '1' (maybe) are flagged by MLG as '0' (good)."
   ]
  },
  {
   "cell_type": "code",
   "execution_count": null,
   "id": "4a4d79d5-0663-45a8-a2fe-127be6ce106b",
   "metadata": {
    "tags": []
   },
   "outputs": [],
   "source": [
    "plt.figure(figsize=(6, 6))\n",
    "r1 = np.random.normal(scale=0.05, size=len(fit_flag))\n",
    "r2 = np.random.normal(scale=0.05, size=len(fit_flag))\n",
    "plt.plot(fit_flag+r1, fit_flagMR+r2, 'o', ms=3, alpha=0.3, color='black')\n",
    "plt.grid()\n",
    "plt.xlabel('MLG flag')\n",
    "plt.ylabel('MR flag')\n",
    "plt.show()"
   ]
  },
  {
   "cell_type": "markdown",
   "id": "f3a6a0f9-e153-42e2-9792-3138bf60b0ee",
   "metadata": {},
   "source": [
    "## Write review results flag to file"
   ]
  },
  {
   "cell_type": "code",
   "execution_count": null,
   "id": "6a52e16a-a4e9-4cab-a932-5faec767d26a",
   "metadata": {
    "tags": []
   },
   "outputs": [],
   "source": [
    "fnm = '2_all_potential_snia_fits/results_sncosmos_fit_review.dat'\n",
    "fout = open(fnm, 'w')\n",
    "\n",
    "fout.write('# Melissa Graham & Midori Rollins, review_potential_snia_sncosmos.ipynb \\n')\n",
    "tnow = time.strftime(\"%a, %d %b %Y %H:%M:%S +0000\", time.gmtime())\n",
    "fout.write('# UTC = '+tnow+' \\n')\n",
    "del tnow\n",
    "fout.write('# \\n')\n",
    "fout.write('# Columns \\n')\n",
    "fout.write('#  0 id -- candidate identifier \\n')\n",
    "fout.write('#  1 fit flag: 0 for OK, 1 for poor fit \\n')\n",
    "fout.write('#  2 fit flag by Midori Rollins:  \\n')\n",
    "fout.write('# \\n')\n",
    "\n",
    "for c in range(len(fit_cand)):\n",
    "    fout.write('%-14s %2i %2i \\n' % (fit_cand[c], fit_flag[c], fit_flagMR[c]))\n",
    "        \n",
    "fout.close()\n",
    "print('Wrote to: ', fnm)\n",
    "del fnm"
   ]
  },
  {
   "cell_type": "code",
   "execution_count": null,
   "id": "fa9de115-8366-406c-b211-4d8df7507add",
   "metadata": {},
   "outputs": [],
   "source": []
  },
  {
   "cell_type": "code",
   "execution_count": null,
   "id": "b2ad763c-1c38-486f-adf6-b1833c5496b2",
   "metadata": {},
   "outputs": [],
   "source": []
  }
 ],
 "metadata": {
  "kernelspec": {
   "display_name": "NERSC Python",
   "language": "python",
   "name": "python3"
  },
  "language_info": {
   "codemirror_mode": {
    "name": "ipython",
    "version": 3
   },
   "file_extension": ".py",
   "mimetype": "text/x-python",
   "name": "python",
   "nbconvert_exporter": "python",
   "pygments_lexer": "ipython3",
   "version": "3.11.6"
  }
 },
 "nbformat": 4,
 "nbformat_minor": 5
}
