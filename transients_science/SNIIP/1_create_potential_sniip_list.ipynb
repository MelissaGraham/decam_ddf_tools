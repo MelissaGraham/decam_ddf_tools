{
 "cells": [
  {
   "cell_type": "markdown",
   "id": "f7ca3f86-c0a3-49a1-95eb-d68ddfe20814",
   "metadata": {
    "tags": []
   },
   "source": [
    "# Create Potential SNIIP List\n",
    "\n",
    "Author: Melissa Graham & Midori Rollins\n",
    "\n",
    "Identify potential type IIP supernovae from the \"good\" candidates created for all of the DDF.\n",
    "\n",
    "To do this, we constrain the time spans and decline rate\n",
    "\n",
    " * Long timespan (100 days or more) in every filter.\n",
    " * Maintains same brightness for 100 days before declining\n",
    "\n",
    "\n",
    "Write the list of potential SNIIP to `potential_sniip_list.txt`.\n",
    "\n",
    "Save the plot of every potential SNIa lightcurve in the folder `all_potential_sniip_plots/`.\n",
    "\n",
    "## Set up and read in data"
   ]
  },
  {
   "cell_type": "code",
   "execution_count": 186,
   "id": "1e5ff4df-53bd-45ec-9c24-eeb909e95333",
   "metadata": {
    "tags": []
   },
   "outputs": [],
   "source": [
    "import os\n",
    "import numpy as np\n",
    "import matplotlib as mpl\n",
    "import matplotlib.pyplot as plt\n",
    "# import pandas as pd\n",
    "\n",
    "# from copy import deepcopy\n",
    "import time"
   ]
  },
  {
   "cell_type": "code",
   "execution_count": 187,
   "id": "c3891e7f-8e14-44d3-97a5-467935f23794",
   "metadata": {
    "tags": []
   },
   "outputs": [],
   "source": [
    "clr = ['darkgreen', 'firebrick', 'saddlebrown', 'limegreen', 'orange', 'lightcoral']\n",
    "\n",
    "all_filters = ['g','r','i']\n",
    "all_fcolors = ['green','red','blue']\n",
    "all_fshapes = ['o','s','^']\n",
    "all_fsizes  = [5, 5, 7]"
   ]
  },
  {
   "cell_type": "code",
   "execution_count": 188,
   "id": "6cf632be-3e59-4354-9fb0-c9801387f87a",
   "metadata": {
    "tags": []
   },
   "outputs": [],
   "source": [
    "all_filters = ['g', 'r', 'i']\n",
    "clr = ['darkgreen', 'firebrick', 'saddlebrown', 'limegreen', 'orange', 'lightcoral']\n",
    "sym = ['o', 's', '^', 'o', 's', '^']\n",
    "siz = [5, 5, 7, 5, 5, 7]"
   ]
  },
  {
   "cell_type": "code",
   "execution_count": 4,
   "id": "7e0730b7-db2f-4095-bc29-6fb669f96059",
   "metadata": {
    "tags": []
   },
   "outputs": [],
   "source": [
    "fnm = '../all_nightly_epochs_files/candidate_lightcurves.dat'\n",
    "\n",
    "candLC_field = np.loadtxt(fnm, dtype='str', usecols=(0))\n",
    "candLC_candid = np.loadtxt(fnm, dtype='str', usecols=(1))\n",
    "candLC_caldate = np.loadtxt(fnm, dtype='str', usecols=(2))\n",
    "candLC_mjd = np.loadtxt(fnm, dtype='float', usecols=(3))\n",
    "candLC_filter = np.loadtxt(fnm, dtype='str', usecols=(4))\n",
    "candLC_Nobj = np.loadtxt(fnm, dtype='int', usecols=(5))\n",
    "candLC_mag = np.loadtxt(fnm, dtype='float', usecols=(6))\n",
    "candLC_mage = np.loadtxt(fnm, dtype='float', usecols=(7))\n",
    "candLC_mrb = np.loadtxt(fnm, dtype='float', usecols=(8))\n",
    "candLC_lef = np.loadtxt(fnm, dtype='float', usecols=(9))\n",
    "\n",
    "del fnm"
   ]
  },
  {
   "cell_type": "code",
   "execution_count": 5,
   "id": "41a2b682-b2a8-48d8-b0d3-82dc0d55edec",
   "metadata": {
    "tags": []
   },
   "outputs": [],
   "source": [
    "fnm = '../all_nightly_epochs_files/candidate_lightcurve_parameters.dat'\n",
    "\n",
    "paramLC_field = np.loadtxt( fnm, dtype='str', usecols=(0) )\n",
    "paramLC_candid = np.loadtxt( fnm, dtype='str', usecols=(1) )\n",
    "paramLC_tspan = np.loadtxt( fnm, dtype='float', usecols=(2) )\n",
    "paramLC_tspan_g = np.loadtxt( fnm, dtype='float', usecols=(3) )\n",
    "paramLC_tspan_r = np.loadtxt( fnm, dtype='float', usecols=(4) )\n",
    "paramLC_tspan_i = np.loadtxt( fnm, dtype='float', usecols=(5) )\n",
    "paramLC_minmag = np.loadtxt( fnm, dtype='float', usecols=(6) )\n",
    "paramLC_minmag_g = np.loadtxt( fnm, dtype='float', usecols=(7) )\n",
    "paramLC_minmag_r = np.loadtxt( fnm, dtype='float', usecols=(8) )\n",
    "paramLC_minmag_i = np.loadtxt( fnm, dtype='float', usecols=(9) )\n",
    "paramLC_amp = np.loadtxt( fnm, dtype='float', usecols=(10) )\n",
    "paramLC_amp_g = np.loadtxt( fnm, dtype='float', usecols=(11) )\n",
    "paramLC_amp_r = np.loadtxt( fnm, dtype='float', usecols=(12) )\n",
    "paramLC_amp_i = np.loadtxt( fnm, dtype='float', usecols=(13) )\n",
    "paramLC_neps = np.loadtxt( fnm, dtype='int', usecols=(14) )\n",
    "paramLC_neps_g = np.loadtxt( fnm, dtype='int', usecols=(15) )\n",
    "paramLC_neps_r = np.loadtxt( fnm, dtype='int', usecols=(16) )\n",
    "paramLC_neps_i = np.loadtxt( fnm, dtype='int', usecols=(17) )\n",
    "\n",
    "del fnm"
   ]
  },
  {
   "cell_type": "code",
   "execution_count": 69,
   "id": "26a33555-7392-41b5-a0c0-a959e59a78ce",
   "metadata": {
    "tags": []
   },
   "outputs": [],
   "source": [
    "fnm = '../SNIIP/sn2015V.dat'\n",
    "\n",
    "sn2015V_mjd = np.loadtxt( fnm, dtype='float', usecols=(0) )\n",
    "sn2015V_mag = np.loadtxt( fnm, dtype='float', usecols=(1) )\n",
    "sn2015V_mage = np.loadtxt( fnm, dtype='float', usecols=(2) )\n",
    "sn2015V_filter = np.loadtxt( fnm, dtype='str', usecols=(4) )\n",
    "\n",
    "del fnm"
   ]
  },
  {
   "cell_type": "markdown",
   "id": "b83c2176-ac32-4129-b5e0-982a4c4ff869",
   "metadata": {},
   "source": [
    "## Identify potential SNe IIP\n"
   ]
  },
  {
   "cell_type": "code",
   "execution_count": 167,
   "id": "5c7951ad-5770-49fd-ba49-8c8a834d2099",
   "metadata": {
    "tags": []
   },
   "outputs": [
    {
     "name": "stdout",
     "output_type": "stream",
     "text": [
      "CPU times: user 4min 35s, sys: 7.84 ms, total: 4min 35s\n",
      "Wall time: 4min 35s\n"
     ]
    }
   ],
   "source": [
    "%%time\n",
    "gslope = []\n",
    "rslope = []\n",
    "islope = []\n",
    "gdecline_time = []\n",
    "rdecline_time = []\n",
    "idecline_time = []\n",
    "for i in range(len(paramLC_candid)):\n",
    "    gtx = (np.where((candLC_candid == paramLC_candid[i]) & (candLC_filter == 'g')))[0]\n",
    "    if len(gtx) > 1: \n",
    "        gtx2 = np.where((candLC_candid == paramLC_candid[i]) & (candLC_filter == 'g') & (candLC_mag ==candLC_mag[gtx].min()))[0]\n",
    "    gmin_date = np.unique(candLC_mjd[gtx2])[0]\n",
    "    gtx3 = np.where((candLC_candid == paramLC_candid[i]) & (candLC_filter == 'g') & (candLC_mjd >= gmin_date))[0]\n",
    "    if len(candLC_mag[gtx3]) > 1:\n",
    "        gdecline_mag = candLC_mag[gtx3[-1]] - candLC_mag[gtx3[0]]\n",
    "        gdecline_t = candLC_mjd[gtx3[-1]] - candLC_mjd[gtx3[0]]\n",
    "        gdecline_time.append(candLC_mjd[gtx3[-1]] - candLC_mjd[gtx3[0]])\n",
    "        gslope.append(gdecline_mag/gdecline_t)\n",
    "    else:\n",
    "        gdecline_mag = -99.0\n",
    "        gdecline_time.append(-99.0)\n",
    "        gslope.append(99.0)\n",
    "\n",
    "    rtx = (np.where((candLC_candid == paramLC_candid[i]) & (candLC_filter == 'r')))[0]\n",
    "    if len(rtx) > 1: \n",
    "        rtx2 = np.where((candLC_candid == paramLC_candid[i]) & (candLC_filter == 'r') & (candLC_mag ==candLC_mag[rtx].min()))[0]\n",
    "    rmin_date = np.unique(candLC_mjd[rtx2])[0]\n",
    "    rtx3 = np.where((candLC_candid == paramLC_candid[i]) & (candLC_filter == 'r') & (candLC_mjd >= rmin_date))[0]\n",
    "    if len(candLC_mag[rtx3]) > 1:\n",
    "        rdecline_mag = candLC_mag[rtx3[-1]] - candLC_mag[rtx3[0]]\n",
    "        rdecline_t = candLC_mjd[rtx3[-1]] - candLC_mjd[rtx3[0]]\n",
    "        rdecline_time.append(candLC_mjd[rtx3[-1]] - candLC_mjd[rtx3[0]])\n",
    "        rslope.append(rdecline_mag/rdecline_t)\n",
    "    else:\n",
    "        rdecline_mag = -99.0\n",
    "        rdecline_time.append(-99.0)\n",
    "        rslope.append(99.0)\n",
    "        \n",
    "    itx = (np.where((candLC_candid == paramLC_candid[i]) & (candLC_filter == 'i')))[0]\n",
    "    if len(itx) > 1: \n",
    "        itx2 = np.where((candLC_candid == paramLC_candid[i]) & (candLC_filter == 'i') & (candLC_mag ==candLC_mag[itx].min()))[0]\n",
    "    imin_date = np.unique(candLC_mjd[itx2])[0]\n",
    "    itx3 = np.where((candLC_candid == paramLC_candid[i]) & (candLC_filter == 'i') & (candLC_mjd >= imin_date))[0]\n",
    "    if len(candLC_mag[itx3]) > 1:\n",
    "        idecline_mag = candLC_mag[itx3[-1]] - candLC_mag[itx3[0]]\n",
    "        idecline_t = candLC_mjd[itx3[-1]] - candLC_mjd[itx3[0]]\n",
    "        idecline_time.append(candLC_mjd[itx3[-1]] - candLC_mjd[itx3[0]])\n",
    "        islope.append(idecline_mag/idecline_t)\n",
    "    else:\n",
    "        idecline_mag = -99.0\n",
    "        idecline_time.append(-99.0)\n",
    "        islope.append(99.0)\n",
    "        \n",
    "gslope = np.array(gslope)\n",
    "rslope = np.array(rslope)\n",
    "islope = np.array(islope)\n",
    "gdecline_time = np.array(gdecline_time)\n",
    "rdecline_time = np.array(rdecline_time)\n",
    "idecline_time = np.array(idecline_time)\n",
    "\n",
    "# del gtx, gtx2, gtx3\n",
    "# del rtx, rtx2, rtx3\n",
    "# del itx, itx2, itx3"
   ]
  },
  {
   "cell_type": "code",
   "execution_count": 341,
   "id": "f836551f-f902-445b-81b8-3032cc425c70",
   "metadata": {
    "tags": []
   },
   "outputs": [
    {
     "data": {
      "text/plain": [
       "array(['DC21dukb', 'DC23jmszp'], dtype='<U9')"
      ]
     },
     "execution_count": 341,
     "metadata": {},
     "output_type": "execute_result"
    }
   ],
   "source": [
    "tx = np.where((((paramLC_field == 'COSMOS') & (paramLC_tspan_g >= 50) & (paramLC_tspan_g <= 150)) &\n",
    "              ((paramLC_tspan_r >= 50) & (paramLC_tspan_r <= 150)) & \n",
    "              ((paramLC_tspan_i >= 50) & (paramLC_tspan_i <= 150))) &\n",
    "              ((paramLC_minmag_g < 22) | (paramLC_minmag_r < 22) | (paramLC_minmag_i < 22)) &\n",
    "              ((paramLC_amp_g <= 3) | (paramLC_amp_r <= 3) | (paramLC_amp_i <= 3)) &\n",
    "              ((paramLC_neps >= 20)))[0]\n",
    "tx2 = np.where((islope[tx] <= 3/100) & (idecline_time[tx] >= 100))\n",
    "\n",
    "paramLC_candid[tx][tx2]\n",
    "\n",
    "# del tx"
   ]
  },
  {
   "cell_type": "code",
   "execution_count": 175,
   "id": "46584fc3-3db8-426f-9bb2-3516a6da2474",
   "metadata": {
    "tags": []
   },
   "outputs": [
    {
     "data": {
      "text/plain": [
       "array([], dtype='<U9')"
      ]
     },
     "execution_count": 175,
     "metadata": {},
     "output_type": "execute_result"
    }
   ],
   "source": [
    "tx = np.where((((paramLC_field == 'ELAIS') & (paramLC_tspan_g >= 50) & (paramLC_tspan_g <= 150)) &\n",
    "              ((paramLC_tspan_r >= 50) & (paramLC_tspan_r <= 150)) & \n",
    "              ((paramLC_tspan_i >= 50) & (paramLC_tspan_i <= 150))) &\n",
    "              ((paramLC_minmag_g < 22) | (paramLC_minmag_r < 22) | (paramLC_minmag_i < 22)) &\n",
    "              ((paramLC_amp_g <= 3) | (paramLC_amp_r <= 3) | (paramLC_amp_i <= 3)) &\n",
    "              ((paramLC_neps >= 20)))[0]\n",
    "tx2 = np.where((islope[tx] <= 3/100) & (idecline_time[tx] >= 100))\n",
    "\n",
    "paramLC_candid[tx][tx2]\n",
    "\n",
    "# del tx"
   ]
  },
  {
   "cell_type": "code",
   "execution_count": 373,
   "id": "e5540e90-7bc6-4f9c-a405-72f67d793011",
   "metadata": {
    "tags": []
   },
   "outputs": [
    {
     "name": "stdout",
     "output_type": "stream",
     "text": [
      "Number of potential fast transients in COSMOS:  4\n",
      "['DC21babt' 'DC21bgaw' 'DC21bgcz' 'DC21bgdc']\n",
      "Number of potential fast transients in ELAIS:  1\n",
      "['DC21bg']\n"
     ]
    }
   ],
   "source": [
    "# fig, ax = plt.subplots( 1, 3, figsize=(17,5), sharex=True, sharey=True )\n",
    "\n",
    "### plot all the candidates in parameter space of timespan vs amplitude\n",
    "tx = np.where((((paramLC_field == 'COSMOS') & (paramLC_tspan_g >= 50) & (paramLC_tspan_g <= 150)) &\n",
    "              ((paramLC_tspan_r >= 50) & (paramLC_tspan_r <= 150)) & \n",
    "              ((paramLC_tspan_i >= 50) & (paramLC_tspan_i <= 150))) &\n",
    "              ((paramLC_minmag_g < 22) | (paramLC_minmag_r < 22) | (paramLC_minmag_i < 22)) &\n",
    "              ((paramLC_amp_g <= 3) | (paramLC_amp_r <= 3) | (paramLC_amp_i <= 3)) &\n",
    "              ((paramLC_neps >= 20)))[0]\n",
    "# tx2 = np.where(((gslope[tx] >= 1.5/9) & (grise_time[tx] <10))|((rslope[tx] >= 1.5/9) & (rrise_time[tx] <10))|((islope[tx] >= 1.5/9) & (irise_time[tx] <10)))\n",
    "# print('Number of potential fast transients in COSMOS: ',len(tx2[0]))\n",
    "# ax[0].plot(paramLC_tspan_g[tx][tx2], paramLC_amp_g[tx][tx2], 'o', ms=4, mew=0, alpha=0.8, color=clr[0], label='COSMOS')\n",
    "# ax[1].plot(paramLC_tspan_r[tx][tx2], paramLC_amp_r[tx][tx2], 'o', ms=4, mew=0, alpha=0.8, color=clr[1], label='COSMOS')\n",
    "# ax[2].plot(paramLC_tspan_i[tx][tx2], paramLC_amp_i[tx][tx2], 'o', ms=4, mew=0, alpha=0.8, color=clr[2], label='COSMOS')\n",
    "del tx\n",
    "tx = np.where((((paramLC_field == 'ELAIS') & (paramLC_tspan_g >= 50) & (paramLC_tspan_g <= 150)) &\n",
    "              ((paramLC_tspan_r >= 50) & (paramLC_tspan_r <= 150)) & \n",
    "              ((paramLC_tspan_i >= 50) & (paramLC_tspan_i <= 150))) &\n",
    "              ((paramLC_minmag_g < 22) | (paramLC_minmag_r < 22) | (paramLC_minmag_i < 22)) &\n",
    "              ((paramLC_amp_g <= 3) | (paramLC_amp_r <= 3) | (paramLC_amp_i <= 3)) &\n",
    "              ((paramLC_neps >= 20)))[0]\n",
    "# tx2 = np.where(((gslope[tx] >= 1.5/9) & (grise_time[tx] <10))|((rslope[tx] >= 1.5/9) & (rrise_time[tx] <10))|((islope[tx] >= 1.5/9) & (irise_time[tx] <10)))\n",
    "# print('Number of potential fast transients in ELAIS: ',len(tx2[0]))\n",
    "# ax[0].plot(paramLC_tspan_g[tx][tx2], paramLC_amp_g[tx][tx2], 'o', ms=4, mew=0, alpha=0.8, color=clr[3], label='ELAIS')\n",
    "# ax[1].plot(paramLC_tspan_r[tx][tx2], paramLC_amp_r[tx][tx2], 'o', ms=4, mew=0, alpha=0.8, color=clr[4], label='ELAIS')\n",
    "# ax[2].plot(paramLC_tspan_i[tx][tx2], paramLC_amp_i[tx][tx2], 'o', ms=4, mew=0, alpha=0.8, color=clr[5], label='ELAIS')\n",
    "del tx\n",
    "\n",
    "# for f in range(3):\n",
    "#     ax[f].axvline(2, lw=1, ls='dashed', color='black')\n",
    "#     ax[f].axvline(20, lw=1, ls='dashed', color='black')\n",
    "#     ax[f].axhline(0.5, lw=1, ls='dashed', color='black')\n",
    "    \n",
    "# Flag which candidates satisfy constraints in at least 2 bands\n",
    "paramLC_potsniip = np.zeros( len(paramLC_field), dtype='int' )\n",
    "\n",
    "tx = np.where((((paramLC_tspan_g >= 50) & (paramLC_tspan_g <= 150)) &\n",
    "              ((paramLC_tspan_r >= 50) & (paramLC_tspan_r <= 150)) & \n",
    "              ((paramLC_tspan_i >= 50) & (paramLC_tspan_i <= 150))) &\n",
    "              ((paramLC_minmag_g < 22) | (paramLC_minmag_r < 22) | (paramLC_minmag_i < 22)) &\n",
    "              ((paramLC_amp_g <= 3) | (paramLC_amp_r <= 3) | (paramLC_amp_i <= 3)) &\n",
    "              ((paramLC_neps >= 20)))[0]\n",
    "\n",
    "for t in tx:\n",
    "    cntr = 0\n",
    "    if (gslope[t] <= 3/100) & (gdecline_time[t] >= 60):\n",
    "        cntr += 1\n",
    "    if (rslope[t] <= 3/100) & (rdecline_time[t] >= 60):\n",
    "        cntr += 1\n",
    "    if (islope[t] <= 3/100) & (idecline_time[t] >= 60):\n",
    "        cntr += 1\n",
    "\n",
    "    if (cntr == 2) | (cntr == 3):\n",
    "        paramLC_potsniip[t] = 1\n",
    "    \n",
    "    del cntr\n",
    "del tx\n",
    "\n",
    "tx = np.where( (paramLC_potsniip == 1) & (paramLC_field == 'COSMOS') )[0]\n",
    "print('Number of potential fast transients in COSMOS: ',len(tx))\n",
    "print(candLC_candid[tx])\n",
    "# ax[0].plot(paramLC_tspan_g[tx], paramLC_amp_g[tx], 'o', ms=4, mew=0, alpha=0.8, color=clr[0], label='COSMOS')\n",
    "# ax[1].plot(paramLC_tspan_r[tx], paramLC_amp_r[tx], 'o', ms=4, mew=0, alpha=0.8, color=clr[1], label='COSMOS')\n",
    "# ax[2].plot(paramLC_tspan_i[tx], paramLC_amp_i[tx], 'o', ms=4, mew=0, alpha=0.8, color=clr[2], label='COSMOS')\n",
    "del tx\n",
    "\n",
    "tx = np.where( (paramLC_potsniip == 1) & (paramLC_field == 'ELAIS') )[0]\n",
    "print('Number of potential fast transients in ELAIS: ',len(tx))\n",
    "print(candLC_candid[tx])\n",
    "# ax[0].plot(paramLC_tspan_g[tx], paramLC_amp_g[tx], 'o', ms=4, mew=0, alpha=0.8, color=clr[3], label='ELAIS')\n",
    "# ax[1].plot(paramLC_tspan_r[tx], paramLC_amp_r[tx], 'o', ms=4, mew=0, alpha=0.8, color=clr[4], label='ELAIS')\n",
    "# ax[2].plot(paramLC_tspan_i[tx], paramLC_amp_i[tx], 'o', ms=4, mew=0, alpha=0.8, color=clr[5], label='ELAIS')\n",
    "del tx\n",
    "\n",
    "# ### finish up the plot and show it\n",
    "# ax[0].set_xlim([-1,25])\n",
    "# ax[1].set_xlim([-1,25])\n",
    "# ax[2].set_xlim([-1,25])\n",
    "# ax[0].set_ylim([0.,2.5])\n",
    "# ax[1].set_ylim([0.,2.5])\n",
    "# ax[2].set_ylim([0.,2.5])\n",
    "# ax[0].set_ylabel('amplitude')\n",
    "# # ax[1,0].set_ylabel('amplitude')\n",
    "# ax[0].set_xlabel('time span')\n",
    "# ax[1].set_xlabel('time span')\n",
    "# ax[2].set_xlabel('time span')\n",
    "# ax[0].legend(loc='best',fontsize=10)\n",
    "# ax[1].legend(loc='best',fontsize=10)\n",
    "# ax[2].legend(loc='best',fontsize=10)\n",
    "# plt.show()"
   ]
  },
  {
   "cell_type": "markdown",
   "id": "90c997b4-f976-44e9-abd9-4b1216b9a3d1",
   "metadata": {},
   "source": [
    "### Write the list of potential SNIIP to file"
   ]
  },
  {
   "cell_type": "code",
   "execution_count": 369,
   "id": "5f3984e0-b312-42bd-a191-c133c41432d9",
   "metadata": {
    "tags": []
   },
   "outputs": [
    {
     "name": "stdout",
     "output_type": "stream",
     "text": [
      "Number of potential SNIIP:  5\n"
     ]
    }
   ],
   "source": [
    "fout = open('potential_sniip_list.dat', 'w')\n",
    "tx = np.where(paramLC_potsniip == 1)[0]\n",
    "for x in tx:\n",
    "    fout.write(paramLC_candid[x]+'\\n')\n",
    "fout.close()\n",
    "print('Number of potential SNIIP: ', len(tx))\n",
    "del tx"
   ]
  },
  {
   "cell_type": "markdown",
   "id": "82b97bf4-9f8e-4815-9c90-70a2d4ea2762",
   "metadata": {},
   "source": [
    "### Plot the potential SNIIP lightcurves\n",
    "\n",
    "Display the time span and decline slope in the upper left corner."
   ]
  },
  {
   "cell_type": "code",
   "execution_count": 370,
   "id": "7b7f91ec-26c9-456c-a17d-7759e3e22c82",
   "metadata": {
    "tags": []
   },
   "outputs": [
    {
     "data": {
      "image/png": "[encoded data removed]",
      "text/plain": [
       "<Figure size 864x504 with 1 Axes>"
      ]
     },
     "metadata": {
      "needs_background": "light"
     },
     "output_type": "display_data"
    }
   ],
   "source": [
    "sx = np.where(paramLC_potsniip == 1)[0]\n",
    "np.random.shuffle(sx)\n",
    "\n",
    "# fig, ax = plt.subplots( 1, 1, figsize=(16,24), sharex=False, sharey=False )\n",
    "plt.figure(figsize=(12,7))\n",
    "\n",
    "\n",
    "s = 0\n",
    "for i in range(1):\n",
    "    plt.ylabel('magnitude', fontsize=14)\n",
    "    for j in range(1):\n",
    "        for f,filt in enumerate(all_filters):\n",
    "            cx0 = np.where((candLC_candid == paramLC_candid[sx[s]]) & \\\n",
    "                           (candLC_filter == filt) & (candLC_mrb > 0.4))[0]\n",
    "            cx1 = np.where((candLC_candid == paramLC_candid[sx[s]]) & \\\n",
    "                           (candLC_filter == filt) & (candLC_mrb <= 0.4) & (candLC_lef == 0))[0]\n",
    "            cx2 = np.where((candLC_candid == paramLC_candid[sx[s]]) & \\\n",
    "                           (candLC_filter == filt) & (candLC_mrb <= 0.4) & (candLC_lef == 1))[0]\n",
    "            plt.plot(candLC_mjd[cx0]-59300., candLC_mag[cx0], \n",
    "                         all_fshapes[f], ms=all_fsizes[f], mew=0, alpha=0.8, color=all_fcolors[f], label=filt)\n",
    "            plt.plot(candLC_mjd[cx1]-59300., candLC_mag[cx1], \n",
    "                         all_fshapes[f], ms=all_fsizes[f], mew=1, alpha=0.8, color='none', mec=all_fcolors[f])\n",
    "            plt.plot(candLC_mjd[cx2]-59300., candLC_mag[cx2], \n",
    "                         all_fshapes[f], ms=all_fsizes[f]-1, mew=0, alpha=0.4, color=all_fcolors[f])\n",
    "            if f == 0:\n",
    "                xmin = 60000.\n",
    "                xmax = 0.\n",
    "                if (len(cx0) > 0):\n",
    "                    xmin = np.min(candLC_mjd[cx0])\n",
    "                    xmax = np.max(candLC_mjd[cx0])\n",
    "                elif (len(cx0) > 0) & (len(cx1) > 0):\n",
    "                    xmin = np.min([candLC_mjd[cx0], np.min(candLC_mjd[cx1])])\n",
    "                    xmax = np.max([candLC_mjd[cx0], np.min(candLC_mjd[cx1])])\n",
    "            elif f > 0:\n",
    "                if (len(cx0) > 0):\n",
    "                    xmin = np.min([xmin, np.min(candLC_mjd[cx0])])\n",
    "                    xmax = np.max([xmax, np.min(candLC_mjd[cx0])])\n",
    "                elif (len(cx0) > 0) & (len(cx1) > 0):\n",
    "                    xmin = np.min([xmin, np.min(candLC_mjd[cx0]), np.min(candLC_mjd[cx1])])\n",
    "                    xmax = np.max([xmax, np.min(candLC_mjd[cx0]), np.min(candLC_mjd[cx1])])\n",
    "                \n",
    "            del cx0, cx1, cx2\n",
    "        plt.gca().invert_yaxis()\n",
    "        plt.xlim([xmin-59300.-10, xmax-59300.+10])\n",
    "        del xmin, xmax\n",
    "        plt.title(paramLC_candid[sx[s]])\n",
    "        s += 1\n",
    "\n",
    "plt.legend(loc='upper right', labelspacing=0.1, handletextpad=0.1, fontsize=14)\n",
    "\n",
    "for j in range(5):\n",
    "    plt.xlabel('MJD-59300', fontsize=14)\n",
    "\n",
    "plt.tight_layout()\n",
    "plt.show()\n",
    "del sx, s"
   ]
  },
  {
   "cell_type": "code",
   "execution_count": 367,
   "id": "404084f6-6924-4a4e-891c-55c8e34a2926",
   "metadata": {
    "tags": []
   },
   "outputs": [
    {
     "data": {
      "image/png": "[encoded data removed]",
      "text/plain": [
       "<Figure size 864x504 with 1 Axes>"
      ]
     },
     "metadata": {
      "needs_background": "light"
     },
     "output_type": "display_data"
    }
   ],
   "source": [
    "plt.figure(figsize=(12,7))\n",
    "sx = np.where(paramLC_potsniip == 1)[0]\n",
    "\n",
    "gsx = np.where((candLC_candid == paramLC_candid[sx][0]) & (candLC_filter == 'g'))\n",
    "rsx = np.where((candLC_candid == paramLC_candid[sx][0]) & (candLC_filter == 'r'))\n",
    "isx = np.where((candLC_candid == paramLC_candid[sx][0]) & (candLC_filter == 'i'))\n",
    "\n",
    "plt.plot(candLC_mjd[gsx]-59958., candLC_mag[gsx], sym[0], ms=siz[0], mew=0, alpha=0.6, color=clr[0])\n",
    "plt.plot(candLC_mjd[rsx]-59958., candLC_mag[rsx], sym[1], ms=siz[1], mew=0, alpha=0.6, color=clr[1])\n",
    "plt.plot(candLC_mjd[isx]-59958., candLC_mag[isx], sym[2], ms=siz[2], mew=0, alpha=0.6, color=clr[2])\n",
    "del gsx, rsx, isx\n",
    "\n",
    "bsx = np.where(sn2015V_filter=='B')\n",
    "rsx = np.where(sn2015V_filter=='R')\n",
    "isx = np.where(sn2015V_filter=='I')\n",
    "plt.scatter(sn2015V_mjd[bsx[0]]-57117,sn2015V_mag[bsx[0]]+4, c='blue', s=2, label='g')\n",
    "plt.scatter(sn2015V_mjd[rsx[0]]-57117,sn2015V_mag[rsx[0]]+4, c='red', s=2, label='r')\n",
    "plt.scatter(sn2015V_mjd[isx[0]]-57117,sn2015V_mag[isx[0]]+4, c='saddlebrown', s=2, label='i')\n",
    "del bsx, rsx, isx\n",
    "\n",
    "plt.ylabel('apparent mag')\n",
    "plt.title('DC21jfcb with sn2015V Model')\n",
    "\n",
    "ax=plt.gca()\n",
    "ax.invert_yaxis()\n",
    "plt.legend()\n",
    "plt.show()"
   ]
  },
  {
   "cell_type": "code",
   "execution_count": 334,
   "id": "8ff1d58d-3cfb-4f9e-9de3-058464b1a518",
   "metadata": {
    "tags": []
   },
   "outputs": [
    {
     "data": {
      "image/png": "[encoded data removed]",
      "text/plain": [
       "<Figure size 720x432 with 1 Axes>"
      ]
     },
     "metadata": {
      "needs_background": "light"
     },
     "output_type": "display_data"
    }
   ],
   "source": [
    "sx = np.where(paramLC_potsniip == 1)[0]\n",
    "\n",
    "gsx = np.where((candLC_candid == paramLC_candid[sx][0]) & (candLC_filter == 'g'))\n",
    "rsx = np.where((candLC_candid == paramLC_candid[sx][0]) & (candLC_filter == 'r'))\n",
    "isx = np.where((candLC_candid == paramLC_candid[sx][0]) & (candLC_filter == 'i'))\n",
    "plt.figure(figsize=(10,6))\n",
    "\n",
    "plt.plot(candLC_mjd[gsx]-59958., candLC_mag[gsx], sym[0], ms=siz[0], mew=0, alpha=0.6, color=clr[0])\n",
    "plt.plot(candLC_mjd[rsx]-59958., candLC_mag[rsx], sym[1], ms=siz[1], mew=0, alpha=0.6, color=clr[1])\n",
    "plt.plot(candLC_mjd[isx]-59958., candLC_mag[isx], sym[2], ms=siz[2], mew=0, alpha=0.6, color=clr[2])\n",
    "del gsx, rsx, isx\n",
    "\n",
    "# gtx = np.where(dec_df['band']=='g')\n",
    "# rtx = np.where(dec_df['band']=='r')\n",
    "# itx = np.where(dec_df['band']=='i')\n",
    "# plt.plot(dec_df['mjd'][gtx[0]]-57983,dec_df['mag'][gtx[0]]+1.5, c='green', label='g')\n",
    "# plt.plot(dec_df['mjd'][rtx[0]]-57983,dec_df['mag'][rtx[0]]+2.5, c='red', label='r')\n",
    "# plt.plot(dec_df['mjd'][itx[0]]-57983,dec_df['mag'][itx[0]]+3, c='brown', label='i')\n",
    "# del gtx, rtx, itx\n",
    "\n",
    "x = np.linspace(17,130, 2)\n",
    "gy = [(gslope[sx]*(i))+ 21.95 for i in x]\n",
    "ry = [(rslope[sx]*(i))+ 21.8 for i in x]\n",
    "iy = [(islope[sx]*(i))+ 22.0 for i in x]\n",
    "# slope, intercept = np.polyfit(x, y, 1)\n",
    "# abline_values = [-slope * i + intercept for i in x]\n",
    "plt.plot(x, gy, c='green', lw=1, ls='dashed', label =f'gslope={gslope[sx]}')\n",
    "plt.plot(x, ry, c='red', lw=1, ls='dotted', label =f'rslope={rslope[sx]}')\n",
    "plt.plot(x, iy, c='saddlebrown', lw=1, ls='dashdot', label =f'islope={islope[sx]}')\n",
    "del x, gy, ry, iy, sx\n",
    "plt.ylabel('apparent mag')\n",
    "plt.title('DC23jmszp with decline slope')\n",
    "plt.xlim(0, 140)\n",
    "# plt.ylim(21.9,23)\n",
    "\n",
    "plt.gca().invert_yaxis()\n",
    "plt.legend()\n",
    "plt.show()"
   ]
  },
  {
   "cell_type": "markdown",
   "id": "92c07b3f-9a6e-4bc7-ac40-97d3826a8052",
   "metadata": {},
   "source": [
    "### Save individual plots as PNG files"
   ]
  },
  {
   "cell_type": "code",
   "execution_count": 371,
   "id": "1b31450e-c65f-41a4-aa9a-dba6800cb9f5",
   "metadata": {
    "tags": []
   },
   "outputs": [],
   "source": [
    "sx = np.where(paramLC_potsniip == 1)[0]\n",
    "plt.rcParams.update({'font.size': 14})\n",
    "\n",
    "for x in range(len(sx)):\n",
    "    plt.figure(figsize=(8,6))\n",
    "    \n",
    "    for f,filt in enumerate(all_filters):\n",
    "        cx0 = np.where((candLC_candid == paramLC_candid[sx[x]]) & \\\n",
    "                       (candLC_filter == filt) & (candLC_mrb > 0.4))[0]\n",
    "        cx1 = np.where((candLC_candid == paramLC_candid[sx[x]]) & \\\n",
    "                       (candLC_filter == filt) & (candLC_mrb <= 0.4) & (candLC_lef == 0))[0]\n",
    "        cx2 = np.where((candLC_candid == paramLC_candid[sx[x]]) & \\\n",
    "                       (candLC_filter == filt) & (candLC_mrb <= 0.4) & (candLC_lef == 1))[0]\n",
    "        plt.plot(candLC_mjd[cx0]-59300., candLC_mag[cx0], \n",
    "                 all_fshapes[f], ms=all_fsizes[f], mew=0, alpha=0.8, color=all_fcolors[f], label=filt)\n",
    "        plt.plot(candLC_mjd[cx1]-59300., candLC_mag[cx1], \n",
    "                 all_fshapes[f], ms=all_fsizes[f], mew=1, alpha=0.8, color='none', mec=all_fcolors[f], \n",
    "                 label=filt+' (R/B<0.4)')\n",
    "        plt.plot(candLC_mjd[cx2]-59300., candLC_mag[cx2], \n",
    "                 all_fshapes[f], ms=all_fsizes[f]-1, mew=0, alpha=0.4, color=all_fcolors[f])\n",
    "        if f == 0:\n",
    "            xmin = 60000.\n",
    "            xmax = 0.\n",
    "            if (len(cx0) > 0):\n",
    "                xmin = np.min(candLC_mjd[cx0])\n",
    "                xmax = np.max(candLC_mjd[cx0])\n",
    "            elif (len(cx0) > 0) & (len(cx1) > 0):\n",
    "                xmin = np.min([candLC_mjd[cx0], np.min(candLC_mjd[cx1])])\n",
    "                xmax = np.max([candLC_mjd[cx0], np.min(candLC_mjd[cx1])])\n",
    "        elif f > 0:\n",
    "            if (len(cx0) > 0):\n",
    "                xmin = np.min([xmin, np.min(candLC_mjd[cx0])])\n",
    "                xmax = np.max([xmax, np.min(candLC_mjd[cx0])])\n",
    "            elif (len(cx0) > 0) & (len(cx1) > 0):\n",
    "                xmin = np.min([xmin, np.min(candLC_mjd[cx0]), np.min(candLC_mjd[cx1])])\n",
    "                xmax = np.max([xmax, np.min(candLC_mjd[cx0]), np.min(candLC_mjd[cx1])])\n",
    "        del cx0, cx1, cx2\n",
    "    plt.gca().invert_yaxis()\n",
    "    plt.title(paramLC_candid[sx[x]])\n",
    "    plt.legend(loc='best', labelspacing=0.1, handletextpad=0.1, fontsize=14)\n",
    "    plt.xlim([xmin-59300.-5, xmax-59300.+5])\n",
    "    del xmin, xmax\n",
    "    plt.xlabel('MJD-59300', fontsize=14)\n",
    "    plt.ylabel('mag', fontsize=14)\n",
    "    plt.savefig('all_potential_sniip_plots/'+paramLC_candid[sx[x]]+'.png')\n",
    "    plt.close()\n",
    "\n",
    "del sx"
   ]
  },
  {
   "cell_type": "code",
   "execution_count": null,
   "id": "e7d38ae5-89a2-4a0e-be96-089780cfbd3d",
   "metadata": {},
   "outputs": [],
   "source": []
  }
 ],
 "metadata": {
  "kernelspec": {
   "display_name": "NERSC Python",
   "language": "python",
   "name": "python3"
  },
  "language_info": {
   "codemirror_mode": {
    "name": "ipython",
    "version": 3
   },
   "file_extension": ".py",
   "mimetype": "text/x-python",
   "name": "python",
   "nbconvert_exporter": "python",
   "pygments_lexer": "ipython3",
   "version": "3.9.7"
  }
 },
 "nbformat": 4,
 "nbformat_minor": 5
}
