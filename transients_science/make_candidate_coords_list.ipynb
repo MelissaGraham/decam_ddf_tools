{
 "cells": [
  {
   "cell_type": "markdown",
   "id": "b078f810-1921-4af6-9791-45a2f4c301f8",
   "metadata": {},
   "source": [
    "# Make candidate coordinates file\n",
    "\n",
    "Contact: Melissa Graham\n",
    "\n",
    "Create a companion file to `all_nightly_epochs_files/candidate_lightcurve_parameters.dat` that lists the candidates RA and Declination in decimal degrees."
   ]
  },
  {
   "cell_type": "code",
   "execution_count": 1,
   "id": "bf9ba2f3-293a-43d6-b9b3-744c5da09b78",
   "metadata": {
    "tags": []
   },
   "outputs": [],
   "source": [
    "import psycopg2\n",
    "import psycopg2.extras\n",
    "import getpass\n",
    "import pandas\n",
    "\n",
    "import numpy as np\n",
    "import time"
   ]
  },
  {
   "cell_type": "markdown",
   "id": "6c92a5ae-d06e-4097-987e-2c3b22f97ecb",
   "metadata": {},
   "source": [
    "Connect to the database and set the `tagid`."
   ]
  },
  {
   "cell_type": "code",
   "execution_count": 2,
   "id": "1394e7f2-73e5-4f03-8e91-7e137c4e8a28",
   "metadata": {
    "tags": []
   },
   "outputs": [
    {
     "name": "stdin",
     "output_type": "stream",
     "text": [
      "DB User:  decat_ro\n",
      "DB Password:  ········\n"
     ]
    }
   ],
   "source": [
    "dbuser = input(\"DB User: \")\n",
    "dbpasswd = getpass.getpass(\"DB Password: \")\n",
    "db = psycopg2.connect(f\"dbname='decat' user='{dbuser}' password='{dbpasswd}' host='decatdb.lbl.gov'\")\n",
    "db.autocommit = True\n",
    "cursor = db.cursor( cursor_factory = psycopg2.extras.DictCursor )"
   ]
  },
  {
   "cell_type": "code",
   "execution_count": 3,
   "id": "6478d626-d82b-4478-af71-b5ccf2b10b37",
   "metadata": {
    "tags": []
   },
   "outputs": [
    {
     "name": "stdout",
     "output_type": "stream",
     "text": [
      "1\n"
     ]
    }
   ],
   "source": [
    "tag = \"latest\"\n",
    "db.rollback()\n",
    "q = ( \"SELECT id, tag FROM versiontags WHERE tag=%(tag)s\" )\n",
    "cursor.execute( q, { \"tag\": tag } )\n",
    "row = cursor.fetchone()\n",
    "tagid = row['id']\n",
    "print(tagid)"
   ]
  },
  {
   "cell_type": "markdown",
   "id": "cbe0c063-f6b3-442f-a0f7-8e24c53ceebb",
   "metadata": {},
   "source": [
    "Retrieve all candidate identifiers and coordinates. This takes about 30 seconds."
   ]
  },
  {
   "cell_type": "code",
   "execution_count": 4,
   "id": "45040981-8182-4c74-a25d-7225e7286c71",
   "metadata": {
    "tags": []
   },
   "outputs": [
    {
     "name": "stdout",
     "output_type": "stream",
     "text": [
      "5162347\n",
      "CPU times: user 13.9 s, sys: 1.57 s, total: 15.5 s\n",
      "Wall time: 31.8 s\n"
     ]
    }
   ],
   "source": [
    "%%time\n",
    "q = (\"SELECT id, ra, dec FROM candidates \")\n",
    "cursor.execute(q, {'tagid': tagid})\n",
    "df = pandas.DataFrame(cursor.fetchall())\n",
    "print(len(df))"
   ]
  },
  {
   "cell_type": "code",
   "execution_count": 5,
   "id": "1300c36c-28c6-4018-99c4-599140c8b1b0",
   "metadata": {
    "tags": []
   },
   "outputs": [
    {
     "data": {
      "text/html": [
       "<div>\n",
       "<style scoped>\n",
       "    .dataframe tbody tr th:only-of-type {\n",
       "        vertical-align: middle;\n",
       "    }\n",
       "\n",
       "    .dataframe tbody tr th {\n",
       "        vertical-align: top;\n",
       "    }\n",
       "\n",
       "    .dataframe thead th {\n",
       "        text-align: right;\n",
       "    }\n",
       "</style>\n",
       "<table border=\"1\" class=\"dataframe\">\n",
       "  <thead>\n",
       "    <tr style=\"text-align: right;\">\n",
       "      <th></th>\n",
       "      <th>0</th>\n",
       "      <th>1</th>\n",
       "      <th>2</th>\n",
       "    </tr>\n",
       "  </thead>\n",
       "  <tbody>\n",
       "    <tr>\n",
       "      <th>0</th>\n",
       "      <td>DC21ldlr</td>\n",
       "      <td>7.056681</td>\n",
       "      <td>-43.817997</td>\n",
       "    </tr>\n",
       "    <tr>\n",
       "      <th>1</th>\n",
       "      <td>DC21mrrd</td>\n",
       "      <td>7.053866</td>\n",
       "      <td>-43.810593</td>\n",
       "    </tr>\n",
       "    <tr>\n",
       "      <th>2</th>\n",
       "      <td>DC21nehz</td>\n",
       "      <td>7.064672</td>\n",
       "      <td>-43.804777</td>\n",
       "    </tr>\n",
       "    <tr>\n",
       "      <th>3</th>\n",
       "      <td>DC21kxby</td>\n",
       "      <td>7.075488</td>\n",
       "      <td>-43.812880</td>\n",
       "    </tr>\n",
       "    <tr>\n",
       "      <th>4</th>\n",
       "      <td>DC21lwkt</td>\n",
       "      <td>7.091144</td>\n",
       "      <td>-43.809536</td>\n",
       "    </tr>\n",
       "    <tr>\n",
       "      <th>...</th>\n",
       "      <td>...</td>\n",
       "      <td>...</td>\n",
       "      <td>...</td>\n",
       "    </tr>\n",
       "    <tr>\n",
       "      <th>5162342</th>\n",
       "      <td>DC23lhzvc</td>\n",
       "      <td>271.616022</td>\n",
       "      <td>-29.284900</td>\n",
       "    </tr>\n",
       "    <tr>\n",
       "      <th>5162343</th>\n",
       "      <td>DC23lhzvx</td>\n",
       "      <td>270.871355</td>\n",
       "      <td>-29.618503</td>\n",
       "    </tr>\n",
       "    <tr>\n",
       "      <th>5162344</th>\n",
       "      <td>DC23lhzws</td>\n",
       "      <td>271.583515</td>\n",
       "      <td>-29.749514</td>\n",
       "    </tr>\n",
       "    <tr>\n",
       "      <th>5162345</th>\n",
       "      <td>DC23lhzxn</td>\n",
       "      <td>270.066982</td>\n",
       "      <td>-29.776693</td>\n",
       "    </tr>\n",
       "    <tr>\n",
       "      <th>5162346</th>\n",
       "      <td>DC23lhxoy</td>\n",
       "      <td>270.223722</td>\n",
       "      <td>-29.066370</td>\n",
       "    </tr>\n",
       "  </tbody>\n",
       "</table>\n",
       "<p>5162347 rows × 3 columns</p>\n",
       "</div>"
      ],
      "text/plain": [
       "                 0           1          2\n",
       "0         DC21ldlr    7.056681 -43.817997\n",
       "1         DC21mrrd    7.053866 -43.810593\n",
       "2         DC21nehz    7.064672 -43.804777\n",
       "3         DC21kxby    7.075488 -43.812880\n",
       "4         DC21lwkt    7.091144 -43.809536\n",
       "...            ...         ...        ...\n",
       "5162342  DC23lhzvc  271.616022 -29.284900\n",
       "5162343  DC23lhzvx  270.871355 -29.618503\n",
       "5162344  DC23lhzws  271.583515 -29.749514\n",
       "5162345  DC23lhzxn  270.066982 -29.776693\n",
       "5162346  DC23lhxoy  270.223722 -29.066370\n",
       "\n",
       "[5162347 rows x 3 columns]"
      ]
     },
     "execution_count": 5,
     "metadata": {},
     "output_type": "execute_result"
    }
   ],
   "source": [
    "df"
   ]
  },
  {
   "cell_type": "markdown",
   "id": "82c12ed5-09dd-47d2-be87-3793db3e1a6e",
   "metadata": {},
   "source": [
    "Convert to `numpy` arrays to make matching faster. Delete `pandas` array."
   ]
  },
  {
   "cell_type": "code",
   "execution_count": 6,
   "id": "5aff65a0-b969-4ed6-9bb3-fb10147a0299",
   "metadata": {
    "tags": []
   },
   "outputs": [],
   "source": [
    "cand_id  = np.asarray(df[0], dtype='str')\n",
    "cand_ra  = np.asarray(df[1], dtype='float')\n",
    "cand_dec = np.asarray(df[2], dtype='float')\n",
    "del df"
   ]
  },
  {
   "cell_type": "markdown",
   "id": "c2081e47-8932-43d2-8963-3435d9da5b5c",
   "metadata": {},
   "source": [
    "Get the list of candidate identifiers only for candidates with nightly-epoch light curves."
   ]
  },
  {
   "cell_type": "code",
   "execution_count": 7,
   "id": "d5bbf821-8a32-4d60-bf33-6a69b5bbc861",
   "metadata": {
    "tags": []
   },
   "outputs": [
    {
     "name": "stdout",
     "output_type": "stream",
     "text": [
      "8998\n"
     ]
    }
   ],
   "source": [
    "fnm = 'all_nightly_epochs_files/candidate_lightcurve_parameters.dat'\n",
    "paramLC_candid = np.loadtxt(fnm, dtype='str', usecols=(1))\n",
    "print(len(paramLC_candid))\n",
    "del fnm"
   ]
  },
  {
   "cell_type": "code",
   "execution_count": 8,
   "id": "9dccc6c7-0753-468a-99f4-8484ca874741",
   "metadata": {
    "tags": []
   },
   "outputs": [
    {
     "data": {
      "text/plain": [
       "array(['DC21baaa', 'DC21baab', 'DC21baae', ..., 'DC23lfqge', 'DC23lfrjt',\n",
       "       'DC23lfrqm'], dtype='<U9')"
      ]
     },
     "execution_count": 8,
     "metadata": {},
     "output_type": "execute_result"
    }
   ],
   "source": [
    "paramLC_candid"
   ]
  },
  {
   "cell_type": "markdown",
   "id": "076d9317-04c0-4ab3-956b-3b7e9a1900fd",
   "metadata": {},
   "source": [
    "Cross-match and create output file. This takes about 5 minutes."
   ]
  },
  {
   "cell_type": "code",
   "execution_count": 9,
   "id": "5207df8d-e4c6-4273-b989-2d6035763f05",
   "metadata": {
    "tags": []
   },
   "outputs": [
    {
     "name": "stdout",
     "output_type": "stream",
     "text": [
      "    2 out of  8998  elapsed:   0.1\n",
      "   10 out of  8998  elapsed:   0.4\n",
      "  100 out of  8998  elapsed:   3.7\n",
      " 1000 out of  8998  elapsed:  36.9\n",
      " 5000 out of  8998  elapsed: 182.9\n",
      "Wrote to:  all_nightly_epochs_files/candidate_coordinates.dat\n",
      "elapsed: 325.7\n"
     ]
    }
   ],
   "source": [
    "t1 = time.time()\n",
    "\n",
    "fnm = 'all_nightly_epochs_files/candidate_coordinates.dat'\n",
    "fout = open(fnm, 'w')\n",
    "\n",
    "fout.write('# Melissa Graham, create_candidate_coords_list.ipynb \\n')\n",
    "tnow = time.strftime(\"%a, %d %b %Y %H:%M:%S +0000\", time.gmtime())\n",
    "fout.write('# UTC = '+tnow+' \\n')\n",
    "del tnow\n",
    "fout.write('# \\n')\n",
    "fout.write('# Columns \\n')\n",
    "fout.write('#  0 id -- candidate identifier \\n')\n",
    "fout.write('#  1 Right Ascension [decimal degrees] \\n')\n",
    "fout.write('#  2 Declination [decimal degrees] \\n')\n",
    "fout.write('# \\n')\n",
    "\n",
    "for c, candid in enumerate(paramLC_candid):\n",
    "    if (c == 2) | (c == 10) | (c == 100) | (c == 1000) | (c == 5000):\n",
    "        t2 = time.time()\n",
    "        print('%5i out of %5i  elapsed: %5.1f' % (c, len(paramLC_candid), (t2 - t1)))\n",
    "    tx = np.where(cand_id == candid)[0]\n",
    "    if len(tx) != 1:\n",
    "        print('multiple matches  ', candid, tx)\n",
    "    fout.write('%-20s %20.14f %20.14f \\n' % (candid, cand_ra[tx[0]], cand_dec[tx[0]]))\n",
    "    del tx\n",
    "    \n",
    "fout.close()\n",
    "print('Wrote to: ',fnm)\n",
    "del fnm\n",
    "\n",
    "t2 = time.time()\n",
    "print('elapsed: %5.1f' % (t2 - t1))\n",
    "del t1, t2"
   ]
  },
  {
   "cell_type": "code",
   "execution_count": null,
   "id": "e4500ebc-899b-4534-8e9a-84860d964da2",
   "metadata": {},
   "outputs": [],
   "source": [
    "del paramLC_candid"
   ]
  },
  {
   "cell_type": "markdown",
   "id": "dd45419f-b1de-49d7-9554-cf2253ba4715",
   "metadata": {},
   "source": [
    "As above, but for the PQLD candidates only."
   ]
  },
  {
   "cell_type": "code",
   "execution_count": 7,
   "id": "888b9cd5-7a81-4d59-bde6-0d6f12adea88",
   "metadata": {},
   "outputs": [
    {
     "name": "stdout",
     "output_type": "stream",
     "text": [
      "9814\n"
     ]
    }
   ],
   "source": [
    "fnm = 'all_nightly_epochs_files/PQLD_candidate_lightcurve_parameters.dat'\n",
    "pqld_paramLC_candid = np.loadtxt(fnm, dtype='str', usecols=(1))\n",
    "print(len(pqld_paramLC_candid))\n",
    "del fnm"
   ]
  },
  {
   "cell_type": "code",
   "execution_count": 8,
   "id": "4230ab5e-b1f8-426d-ad8e-e281b6704fc2",
   "metadata": {
    "tags": []
   },
   "outputs": [
    {
     "name": "stdout",
     "output_type": "stream",
     "text": [
      "    2 out of  9814  elapsed:   0.0\n",
      "   10 out of  9814  elapsed:   0.2\n",
      "  100 out of  9814  elapsed:   1.8\n",
      " 1000 out of  9814  elapsed:  17.7\n",
      " 5000 out of  9814  elapsed:  82.8\n",
      "Wrote to:  all_nightly_epochs_files/PQLD_candidate_coordinates.dat\n",
      "elapsed: 178.3\n"
     ]
    }
   ],
   "source": [
    "t1 = time.time()\n",
    "\n",
    "fnm = 'all_nightly_epochs_files/PQLD_candidate_coordinates.dat'\n",
    "fout = open(fnm, 'w')\n",
    "\n",
    "fout.write('# Melissa Graham, PQLD_create_candidate_coords_list.ipynb \\n')\n",
    "tnow = time.strftime(\"%a, %d %b %Y %H:%M:%S +0000\", time.gmtime())\n",
    "fout.write('# UTC = '+tnow+' \\n')\n",
    "del tnow\n",
    "fout.write('# \\n')\n",
    "fout.write('# Columns \\n')\n",
    "fout.write('#  0 id -- candidate identifier \\n')\n",
    "fout.write('#  1 Right Ascension [decimal degrees] \\n')\n",
    "fout.write('#  2 Declination [decimal degrees] \\n')\n",
    "fout.write('# \\n')\n",
    "\n",
    "for c, candid in enumerate(pqld_paramLC_candid):\n",
    "    if (c == 2) | (c == 10) | (c == 100) | (c == 1000) | (c == 5000):\n",
    "        t2 = time.time()\n",
    "        print('%5i out of %5i  elapsed: %5.1f' % (c, len(pqld_paramLC_candid), (t2 - t1)))\n",
    "    tx = np.where(cand_id == candid)[0]\n",
    "    if len(tx) != 1:\n",
    "        print('multiple matches  ', candid, tx)\n",
    "    fout.write('%-20s %20.14f %20.14f \\n' % (candid, cand_ra[tx[0]], cand_dec[tx[0]]))\n",
    "    del tx\n",
    "    \n",
    "fout.close()\n",
    "print('Wrote to: ',fnm)\n",
    "del fnm\n",
    "\n",
    "t2 = time.time()\n",
    "print('elapsed: %5.1f' % (t2 - t1))\n",
    "del t1, t2"
   ]
  },
  {
   "cell_type": "code",
   "execution_count": null,
   "id": "1c556af2-658a-4c10-8ee6-bd4d24ea2dd4",
   "metadata": {},
   "outputs": [],
   "source": []
  },
  {
   "cell_type": "code",
   "execution_count": null,
   "id": "01ff227b-97cc-472a-af68-4179fbf6b4c6",
   "metadata": {},
   "outputs": [],
   "source": []
  }
 ],
 "metadata": {
  "kernelspec": {
   "display_name": "NERSC Python",
   "language": "python",
   "name": "python3"
  },
  "language_info": {
   "codemirror_mode": {
    "name": "ipython",
    "version": 3
   },
   "file_extension": ".py",
   "mimetype": "text/x-python",
   "name": "python",
   "nbconvert_exporter": "python",
   "pygments_lexer": "ipython3",
   "version": "3.11.6"
  }
 },
 "nbformat": 4,
 "nbformat_minor": 5
}
